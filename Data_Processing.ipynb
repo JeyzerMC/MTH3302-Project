{
 "cells": [
  {
   "cell_type": "markdown",
   "metadata": {},
   "source": [
    "# Data Processing"
   ]
  },
  {
   "cell_type": "code",
   "execution_count": 145,
   "metadata": {},
   "outputs": [],
   "source": [
    "using CSV, DataFrames, DecisionTree, Statistics, Dates, Gadfly, Random;\n",
    "include(\"utils/precipitation.jl\");"
   ]
  },
  {
   "cell_type": "markdown",
   "metadata": {},
   "source": [
    "## Build features"
   ]
  },
  {
   "cell_type": "markdown",
   "metadata": {},
   "source": [
    "### Get and filter the features"
   ]
  },
  {
   "cell_type": "markdown",
   "metadata": {},
   "source": [
    "#### Latitude, Longitude, Height"
   ]
  },
  {
   "cell_type": "code",
   "execution_count": 146,
   "metadata": {},
   "outputs": [],
   "source": [
    "features = CSV.read(\"data/ouvrages-surverses.csv\");\n",
    "colnames = [\"N_Env\", \"ID_SOMA\", \"ID_OUVRAGE\", \"NOM\", \"SOMA_SEC\", \"REGION\", \"TP_X\", \"TP_Y\", \"TP_Z\", \"TP_LAT\", \"TP_LNG\", \"EMI_X\", \"EMI_Y\", \"EMI_LNG\", \"EMI_LAT\"];\n",
    "names!(features, Symbol.(colnames));\n",
    "select!(features, [:ID_OUVRAGE, :TP_LAT, :TP_LNG, :TP_Z]);"
   ]
  },
  {
   "cell_type": "markdown",
   "metadata": {},
   "source": [
    "#### Replace missing Z index with mean"
   ]
  },
  {
   "cell_type": "code",
   "execution_count": 147,
   "metadata": {},
   "outputs": [
    {
     "data": {
      "text/html": [
       "<table class=\"data-frame\"><thead><tr><th></th><th>ID_OUVRAGE</th><th>TP_LAT</th><th>TP_LNG</th><th>TP_Z</th></tr><tr><th></th><th>String</th><th>Float64</th><th>Float64</th><th>Float64</th></tr></thead><tbody><p>10 rows × 4 columns</p><tr><th>1</th><td>3790-02D</td><td>45.4025</td><td>-73.9461</td><td>23.54</td></tr><tr><th>2</th><td>3480-05D</td><td>45.4986</td><td>-73.7835</td><td>24.85</td></tr><tr><th>3</th><td>4430-03D</td><td>45.4149</td><td>-73.6303</td><td>22.25</td></tr><tr><th>4</th><td>3480-04D</td><td>45.5001</td><td>-73.7873</td><td>24.6</td></tr><tr><th>5</th><td>4420-02D</td><td>45.443</td><td>-73.5764</td><td>17.08</td></tr><tr><th>6</th><td>3305-02D</td><td>45.6233</td><td>-73.628</td><td>12.51</td></tr><tr><th>7</th><td>4240-02D</td><td>45.6498</td><td>-73.4877</td><td>19.29</td></tr><tr><th>8</th><td>3500-03D</td><td>45.5104</td><td>-73.8385</td><td>26.02</td></tr><tr><th>9</th><td>4260-01D</td><td>45.6308</td><td>-73.495</td><td>12.21</td></tr><tr><th>10</th><td>3250-01D</td><td>45.6562</td><td>-73.5731</td><td>17.16</td></tr></tbody></table>"
      ],
      "text/latex": [
       "\\begin{tabular}{r|cccc}\n",
       "\t& ID\\_OUVRAGE & TP\\_LAT & TP\\_LNG & TP\\_Z\\\\\n",
       "\t\\hline\n",
       "\t& String & Float64 & Float64 & Float64\\\\\n",
       "\t\\hline\n",
       "\t1 & 3790-02D & 45.4025 & -73.9461 & 23.54 \\\\\n",
       "\t2 & 3480-05D & 45.4986 & -73.7835 & 24.85 \\\\\n",
       "\t3 & 4430-03D & 45.4149 & -73.6303 & 22.25 \\\\\n",
       "\t4 & 3480-04D & 45.5001 & -73.7873 & 24.6 \\\\\n",
       "\t5 & 4420-02D & 45.443 & -73.5764 & 17.08 \\\\\n",
       "\t6 & 3305-02D & 45.6233 & -73.628 & 12.51 \\\\\n",
       "\t7 & 4240-02D & 45.6498 & -73.4877 & 19.29 \\\\\n",
       "\t8 & 3500-03D & 45.5104 & -73.8385 & 26.02 \\\\\n",
       "\t9 & 4260-01D & 45.6308 & -73.495 & 12.21 \\\\\n",
       "\t10 & 3250-01D & 45.6562 & -73.5731 & 17.16 \\\\\n",
       "\\end{tabular}\n"
      ],
      "text/plain": [
       "10×4 DataFrame\n",
       "│ Row │ ID_OUVRAGE │ TP_LAT  │ TP_LNG   │ TP_Z    │\n",
       "│     │ \u001b[90mString\u001b[39m     │ \u001b[90mFloat64\u001b[39m │ \u001b[90mFloat64\u001b[39m  │ \u001b[90mFloat64\u001b[39m │\n",
       "├─────┼────────────┼─────────┼──────────┼─────────┤\n",
       "│ 1   │ 3790-02D   │ 45.4025 │ -73.9461 │ 23.54   │\n",
       "│ 2   │ 3480-05D   │ 45.4986 │ -73.7835 │ 24.85   │\n",
       "│ 3   │ 4430-03D   │ 45.4149 │ -73.6303 │ 22.25   │\n",
       "│ 4   │ 3480-04D   │ 45.5001 │ -73.7873 │ 24.6    │\n",
       "│ 5   │ 4420-02D   │ 45.443  │ -73.5764 │ 17.08   │\n",
       "│ 6   │ 3305-02D   │ 45.6233 │ -73.628  │ 12.51   │\n",
       "│ 7   │ 4240-02D   │ 45.6498 │ -73.4877 │ 19.29   │\n",
       "│ 8   │ 3500-03D   │ 45.5104 │ -73.8385 │ 26.02   │\n",
       "│ 9   │ 4260-01D   │ 45.6308 │ -73.495  │ 12.21   │\n",
       "│ 10  │ 3250-01D   │ 45.6562 │ -73.5731 │ 17.16   │"
      ]
     },
     "execution_count": 147,
     "metadata": {},
     "output_type": "execute_result"
    }
   ],
   "source": [
    "features.TP_Z = coalesce.(features.TP_Z, mean(features[completecases(features), :].TP_Z));\n",
    "first(shuffleDf(features), 10)"
   ]
  },
  {
   "cell_type": "markdown",
   "metadata": {},
   "source": [
    "### Load dates and surverses"
   ]
  },
  {
   "cell_type": "code",
   "execution_count": 148,
   "metadata": {},
   "outputs": [],
   "source": [
    "surverses = CSV.read(\"data/surverses.csv\",missingstring=\"-99999\");"
   ]
  },
  {
   "cell_type": "markdown",
   "metadata": {},
   "source": [
    "#### Filter months"
   ]
  },
  {
   "cell_type": "code",
   "execution_count": 149,
   "metadata": {},
   "outputs": [],
   "source": [
    "surverses = filter(row -> month(row.DATE) > 4, surverses);\n",
    "surverses = filter(row -> month(row.DATE) < 11, surverses);"
   ]
  },
  {
   "cell_type": "markdown",
   "metadata": {},
   "source": [
    "#### Filter non rain surverses"
   ]
  },
  {
   "cell_type": "code",
   "execution_count": 150,
   "metadata": {},
   "outputs": [],
   "source": [
    "raison = coalesce.(surverses[:,:RAISON],\"Inconnue\");\n",
    "surverses[!,:RAISON] = raison;\n",
    "\n",
    "surverses = filter(row -> row.RAISON ∈ [\"P\",\"Inconnue\",\"TS\"], surverses);\n",
    "select!(surverses, [:NO_OUVRAGE, :DATE, :SURVERSE]);"
   ]
  },
  {
   "cell_type": "markdown",
   "metadata": {},
   "source": [
    "#### Remove missing data and rename"
   ]
  },
  {
   "cell_type": "code",
   "execution_count": 151,
   "metadata": {},
   "outputs": [
    {
     "data": {
      "text/html": [
       "<table class=\"data-frame\"><thead><tr><th></th><th>ID_OUVRAGE</th><th>DATE</th><th>SURVERSE</th></tr><tr><th></th><th>String</th><th>Date</th><th>Int64</th></tr></thead><tbody><p>10 rows × 3 columns</p><tr><th>1</th><td>4420-01D</td><td>2014-10-12</td><td>0</td></tr><tr><th>2</th><td>4560-03D</td><td>2013-07-28</td><td>0</td></tr><tr><th>3</th><td>3480-01D</td><td>2017-05-08</td><td>0</td></tr><tr><th>4</th><td>4600-01D</td><td>2014-07-29</td><td>0</td></tr><tr><th>5</th><td>4560-01D</td><td>2014-06-17</td><td>0</td></tr><tr><th>6</th><td>3305-02D</td><td>2018-06-16</td><td>0</td></tr><tr><th>7</th><td>3500-01D</td><td>2014-10-24</td><td>0</td></tr><tr><th>8</th><td>3410-01D</td><td>2015-09-13</td><td>1</td></tr><tr><th>9</th><td>3350-03D</td><td>2015-08-25</td><td>0</td></tr><tr><th>10</th><td>0801-04D</td><td>2013-05-08</td><td>0</td></tr></tbody></table>"
      ],
      "text/latex": [
       "\\begin{tabular}{r|ccc}\n",
       "\t& ID\\_OUVRAGE & DATE & SURVERSE\\\\\n",
       "\t\\hline\n",
       "\t& String & Date & Int64\\\\\n",
       "\t\\hline\n",
       "\t1 & 4420-01D & 2014-10-12 & 0 \\\\\n",
       "\t2 & 4560-03D & 2013-07-28 & 0 \\\\\n",
       "\t3 & 3480-01D & 2017-05-08 & 0 \\\\\n",
       "\t4 & 4600-01D & 2014-07-29 & 0 \\\\\n",
       "\t5 & 4560-01D & 2014-06-17 & 0 \\\\\n",
       "\t6 & 3305-02D & 2018-06-16 & 0 \\\\\n",
       "\t7 & 3500-01D & 2014-10-24 & 0 \\\\\n",
       "\t8 & 3410-01D & 2015-09-13 & 1 \\\\\n",
       "\t9 & 3350-03D & 2015-08-25 & 0 \\\\\n",
       "\t10 & 0801-04D & 2013-05-08 & 0 \\\\\n",
       "\\end{tabular}\n"
      ],
      "text/plain": [
       "10×3 DataFrame\n",
       "│ Row │ ID_OUVRAGE │ DATE       │ SURVERSE │\n",
       "│     │ \u001b[90mString\u001b[39m     │ \u001b[90mDate\u001b[39m       │ \u001b[90mInt64\u001b[39m    │\n",
       "├─────┼────────────┼────────────┼──────────┤\n",
       "│ 1   │ 4420-01D   │ 2014-10-12 │ 0        │\n",
       "│ 2   │ 4560-03D   │ 2013-07-28 │ 0        │\n",
       "│ 3   │ 3480-01D   │ 2017-05-08 │ 0        │\n",
       "│ 4   │ 4600-01D   │ 2014-07-29 │ 0        │\n",
       "│ 5   │ 4560-01D   │ 2014-06-17 │ 0        │\n",
       "│ 6   │ 3305-02D   │ 2018-06-16 │ 0        │\n",
       "│ 7   │ 3500-01D   │ 2014-10-24 │ 0        │\n",
       "│ 8   │ 3410-01D   │ 2015-09-13 │ 1        │\n",
       "│ 9   │ 3350-03D   │ 2015-08-25 │ 0        │\n",
       "│ 10  │ 0801-04D   │ 2013-05-08 │ 0        │"
      ]
     },
     "execution_count": 151,
     "metadata": {},
     "output_type": "execute_result"
    }
   ],
   "source": [
    "surverses = dropmissing(surverses, disallowmissing=true);\n",
    "rename!(surverses, :NO_OUVRAGE => :ID_OUVRAGE);\n",
    "first(shuffleDf(surverses),10)"
   ]
  },
  {
   "cell_type": "markdown",
   "metadata": {},
   "source": [
    "### Augment features with dates and label"
   ]
  },
  {
   "cell_type": "code",
   "execution_count": 182,
   "metadata": {},
   "outputs": [
    {
     "data": {
      "text/html": [
       "<table class=\"data-frame\"><thead><tr><th></th><th>ID_OUVRAGE</th><th>TP_LAT</th><th>TP_LNG</th><th>TP_Z</th><th>DATE</th><th>SURVERSE</th></tr><tr><th></th><th>String</th><th>Float64</th><th>Float64</th><th>Float64</th><th>Date</th><th>Int64</th></tr></thead><tbody><p>10 rows × 6 columns</p><tr><th>1</th><td>4430-03D</td><td>45.4149</td><td>-73.6303</td><td>22.25</td><td>2015-07-13</td><td>0</td></tr><tr><th>2</th><td>4770-01D</td><td>45.6574</td><td>-73.4902</td><td>10.77</td><td>2014-07-15</td><td>0</td></tr><tr><th>3</th><td>3370-01D</td><td>45.5653</td><td>-73.6631</td><td>18.21</td><td>2017-05-09</td><td>0</td></tr><tr><th>4</th><td>0672-03D</td><td>45.6732</td><td>-73.5402</td><td>9.99</td><td>2013-07-25</td><td>0</td></tr><tr><th>5</th><td>4265-01D</td><td>45.626</td><td>-73.4991</td><td>11.78</td><td>2013-10-17</td><td>1</td></tr><tr><th>6</th><td>3540-02D</td><td>45.4751</td><td>-73.8727</td><td>26.52</td><td>2016-08-17</td><td>0</td></tr><tr><th>7</th><td>3380-01D</td><td>45.5533</td><td>-73.6703</td><td>22.23</td><td>2017-06-15</td><td>0</td></tr><tr><th>8</th><td>3350-03D</td><td>45.5785</td><td>-73.658</td><td>17.84</td><td>2015-06-18</td><td>0</td></tr><tr><th>9</th><td>3480-01D</td><td>45.5087</td><td>-73.7834</td><td>21.54</td><td>2015-07-29</td><td>0</td></tr><tr><th>10</th><td>3790-02D</td><td>45.4025</td><td>-73.9461</td><td>23.54</td><td>2014-10-25</td><td>0</td></tr></tbody></table>"
      ],
      "text/latex": [
       "\\begin{tabular}{r|cccccc}\n",
       "\t& ID\\_OUVRAGE & TP\\_LAT & TP\\_LNG & TP\\_Z & DATE & SURVERSE\\\\\n",
       "\t\\hline\n",
       "\t& String & Float64 & Float64 & Float64 & Date & Int64\\\\\n",
       "\t\\hline\n",
       "\t1 & 4430-03D & 45.4149 & -73.6303 & 22.25 & 2015-07-13 & 0 \\\\\n",
       "\t2 & 4770-01D & 45.6574 & -73.4902 & 10.77 & 2014-07-15 & 0 \\\\\n",
       "\t3 & 3370-01D & 45.5653 & -73.6631 & 18.21 & 2017-05-09 & 0 \\\\\n",
       "\t4 & 0672-03D & 45.6732 & -73.5402 & 9.99 & 2013-07-25 & 0 \\\\\n",
       "\t5 & 4265-01D & 45.626 & -73.4991 & 11.78 & 2013-10-17 & 1 \\\\\n",
       "\t6 & 3540-02D & 45.4751 & -73.8727 & 26.52 & 2016-08-17 & 0 \\\\\n",
       "\t7 & 3380-01D & 45.5533 & -73.6703 & 22.23 & 2017-06-15 & 0 \\\\\n",
       "\t8 & 3350-03D & 45.5785 & -73.658 & 17.84 & 2015-06-18 & 0 \\\\\n",
       "\t9 & 3480-01D & 45.5087 & -73.7834 & 21.54 & 2015-07-29 & 0 \\\\\n",
       "\t10 & 3790-02D & 45.4025 & -73.9461 & 23.54 & 2014-10-25 & 0 \\\\\n",
       "\\end{tabular}\n"
      ],
      "text/plain": [
       "10×6 DataFrame\n",
       "│ Row │ ID_OUVRAGE │ TP_LAT  │ TP_LNG   │ TP_Z    │ DATE       │ SURVERSE │\n",
       "│     │ \u001b[90mString\u001b[39m     │ \u001b[90mFloat64\u001b[39m │ \u001b[90mFloat64\u001b[39m  │ \u001b[90mFloat64\u001b[39m │ \u001b[90mDate\u001b[39m       │ \u001b[90mInt64\u001b[39m    │\n",
       "├─────┼────────────┼─────────┼──────────┼─────────┼────────────┼──────────┤\n",
       "│ 1   │ 4430-03D   │ 45.4149 │ -73.6303 │ 22.25   │ 2015-07-13 │ 0        │\n",
       "│ 2   │ 4770-01D   │ 45.6574 │ -73.4902 │ 10.77   │ 2014-07-15 │ 0        │\n",
       "│ 3   │ 3370-01D   │ 45.5653 │ -73.6631 │ 18.21   │ 2017-05-09 │ 0        │\n",
       "│ 4   │ 0672-03D   │ 45.6732 │ -73.5402 │ 9.99    │ 2013-07-25 │ 0        │\n",
       "│ 5   │ 4265-01D   │ 45.626  │ -73.4991 │ 11.78   │ 2013-10-17 │ 1        │\n",
       "│ 6   │ 3540-02D   │ 45.4751 │ -73.8727 │ 26.52   │ 2016-08-17 │ 0        │\n",
       "│ 7   │ 3380-01D   │ 45.5533 │ -73.6703 │ 22.23   │ 2017-06-15 │ 0        │\n",
       "│ 8   │ 3350-03D   │ 45.5785 │ -73.658  │ 17.84   │ 2015-06-18 │ 0        │\n",
       "│ 9   │ 3480-01D   │ 45.5087 │ -73.7834 │ 21.54   │ 2015-07-29 │ 0        │\n",
       "│ 10  │ 3790-02D   │ 45.4025 │ -73.9461 │ 23.54   │ 2014-10-25 │ 0        │"
      ]
     },
     "execution_count": 182,
     "metadata": {},
     "output_type": "execute_result"
    }
   ],
   "source": [
    "comb = join(features, surverses, on = :ID_OUVRAGE);\n",
    "first(shuffleDf(comb), 10)"
   ]
  },
  {
   "cell_type": "markdown",
   "metadata": {},
   "source": [
    "### Load precipitation data"
   ]
  },
  {
   "cell_type": "markdown",
   "metadata": {},
   "source": [
    "#### Load and filter months between May & October included"
   ]
  },
  {
   "cell_type": "code",
   "execution_count": 160,
   "metadata": {},
   "outputs": [],
   "source": [
    "precipitation = CSV.read(\"data/precipitations.csv\",missingstring=\"-99999\");\n",
    "rename!(precipitation, Symbol(\"St-Hubert\")=>:StHubert);\n",
    "\n",
    "precipitation = filter(row -> month(row.date) > 4, precipitation);\n",
    "precipitation = filter(row -> month(row.date) < 11, precipitation); "
   ]
  },
  {
   "cell_type": "markdown",
   "metadata": {},
   "source": [
    "#### Replace missing data by 0"
   ]
  },
  {
   "cell_type": "code",
   "execution_count": 161,
   "metadata": {},
   "outputs": [
    {
     "data": {
      "text/html": [
       "<table class=\"data-frame\"><thead><tr><th></th><th>date</th><th>heure</th><th>McTavish</th><th>Bellevue</th><th>Assomption</th><th>Trudeau</th><th>StHubert</th></tr><tr><th></th><th>Date</th><th>Int64</th><th>Int64</th><th>Int64</th><th>Int64</th><th>Int64</th><th>Int64</th></tr></thead><tbody><p>5 rows × 7 columns</p><tr><th>1</th><td>2015-08-30</td><td>14</td><td>0</td><td>0</td><td>0</td><td>0</td><td>0</td></tr><tr><th>2</th><td>2019-06-27</td><td>10</td><td>0</td><td>0</td><td>0</td><td>0</td><td>0</td></tr><tr><th>3</th><td>2014-06-22</td><td>11</td><td>0</td><td>0</td><td>0</td><td>0</td><td>0</td></tr><tr><th>4</th><td>2016-06-15</td><td>14</td><td>0</td><td>0</td><td>0</td><td>0</td><td>0</td></tr><tr><th>5</th><td>2019-10-31</td><td>7</td><td>0</td><td>0</td><td>0</td><td>0</td><td>0</td></tr></tbody></table>"
      ],
      "text/latex": [
       "\\begin{tabular}{r|ccccccc}\n",
       "\t& date & heure & McTavish & Bellevue & Assomption & Trudeau & StHubert\\\\\n",
       "\t\\hline\n",
       "\t& Date & Int64 & Int64 & Int64 & Int64 & Int64 & Int64\\\\\n",
       "\t\\hline\n",
       "\t1 & 2015-08-30 & 14 & 0 & 0 & 0 & 0 & 0 \\\\\n",
       "\t2 & 2019-06-27 & 10 & 0 & 0 & 0 & 0 & 0 \\\\\n",
       "\t3 & 2014-06-22 & 11 & 0 & 0 & 0 & 0 & 0 \\\\\n",
       "\t4 & 2016-06-15 & 14 & 0 & 0 & 0 & 0 & 0 \\\\\n",
       "\t5 & 2019-10-31 & 7 & 0 & 0 & 0 & 0 & 0 \\\\\n",
       "\\end{tabular}\n"
      ],
      "text/plain": [
       "5×7 DataFrame. Omitted printing of 1 columns\n",
       "│ Row │ date       │ heure │ McTavish │ Bellevue │ Assomption │ Trudeau │\n",
       "│     │ \u001b[90mDate\u001b[39m       │ \u001b[90mInt64\u001b[39m │ \u001b[90mInt64\u001b[39m    │ \u001b[90mInt64\u001b[39m    │ \u001b[90mInt64\u001b[39m      │ \u001b[90mInt64\u001b[39m   │\n",
       "├─────┼────────────┼───────┼──────────┼──────────┼────────────┼─────────┤\n",
       "│ 1   │ 2015-08-30 │ 14    │ 0        │ 0        │ 0          │ 0       │\n",
       "│ 2   │ 2019-06-27 │ 10    │ 0        │ 0        │ 0          │ 0       │\n",
       "│ 3   │ 2014-06-22 │ 11    │ 0        │ 0        │ 0          │ 0       │\n",
       "│ 4   │ 2016-06-15 │ 14    │ 0        │ 0        │ 0          │ 0       │\n",
       "│ 5   │ 2019-10-31 │ 7     │ 0        │ 0        │ 0          │ 0       │"
      ]
     },
     "execution_count": 161,
     "metadata": {},
     "output_type": "execute_result"
    }
   ],
   "source": [
    "precipitation[!,:McTavish] = coalesce.(precipitation[:,:McTavish], 0);\n",
    "precipitation[!,:Bellevue] = coalesce.(precipitation[:,:Bellevue], 0);\n",
    "precipitation[!,:Assomption] = coalesce.(precipitation[:,:Assomption], 0);\n",
    "precipitation[!,:Trudeau] = coalesce.(precipitation[:,:Trudeau], 0);\n",
    "precipitation[!,:StHubert] = coalesce.(precipitation[:,:StHubert], 0);\n",
    "\n",
    "first(shuffleDf(precipitation), 5)"
   ]
  },
  {
   "cell_type": "markdown",
   "metadata": {},
   "source": [
    "### Extract features from precipitation"
   ]
  },
  {
   "cell_type": "markdown",
   "metadata": {},
   "source": [
    "#### Sum of precipitation for the day"
   ]
  },
  {
   "cell_type": "code",
   "execution_count": 224,
   "metadata": {
    "scrolled": true
   },
   "outputs": [
    {
     "data": {
      "text/html": [
       "<table class=\"data-frame\"><thead><tr><th></th><th>date</th><th>McTavish</th><th>Bellevue</th><th>Assomption</th><th>Trudeau</th><th>StHubert</th></tr><tr><th></th><th>Date</th><th>Int64</th><th>Int64</th><th>Int64</th><th>Int64</th><th>Int64</th></tr></thead><tbody><p>5 rows × 6 columns</p><tr><th>1</th><td>2016-06-16</td><td>0</td><td>0</td><td>0</td><td>0</td><td>0</td></tr><tr><th>2</th><td>2014-06-21</td><td>0</td><td>0</td><td>0</td><td>0</td><td>0</td></tr><tr><th>3</th><td>2015-05-02</td><td>0</td><td>0</td><td>0</td><td>2</td><td>0</td></tr><tr><th>4</th><td>2019-10-03</td><td>26</td><td>0</td><td>0</td><td>30</td><td>17</td></tr><tr><th>5</th><td>2013-10-17</td><td>114</td><td>78</td><td>80</td><td>113</td><td>0</td></tr></tbody></table>"
      ],
      "text/latex": [
       "\\begin{tabular}{r|cccccc}\n",
       "\t& date & McTavish & Bellevue & Assomption & Trudeau & StHubert\\\\\n",
       "\t\\hline\n",
       "\t& Date & Int64 & Int64 & Int64 & Int64 & Int64\\\\\n",
       "\t\\hline\n",
       "\t1 & 2016-06-16 & 0 & 0 & 0 & 0 & 0 \\\\\n",
       "\t2 & 2014-06-21 & 0 & 0 & 0 & 0 & 0 \\\\\n",
       "\t3 & 2015-05-02 & 0 & 0 & 0 & 2 & 0 \\\\\n",
       "\t4 & 2019-10-03 & 26 & 0 & 0 & 30 & 17 \\\\\n",
       "\t5 & 2013-10-17 & 114 & 78 & 80 & 113 & 0 \\\\\n",
       "\\end{tabular}\n"
      ],
      "text/plain": [
       "5×6 DataFrame\n",
       "│ Row │ date       │ McTavish │ Bellevue │ Assomption │ Trudeau │ StHubert │\n",
       "│     │ \u001b[90mDate\u001b[39m       │ \u001b[90mInt64\u001b[39m    │ \u001b[90mInt64\u001b[39m    │ \u001b[90mInt64\u001b[39m      │ \u001b[90mInt64\u001b[39m   │ \u001b[90mInt64\u001b[39m    │\n",
       "├─────┼────────────┼──────────┼──────────┼────────────┼─────────┼──────────┤\n",
       "│ 1   │ 2016-06-16 │ 0        │ 0        │ 0          │ 0       │ 0        │\n",
       "│ 2   │ 2014-06-21 │ 0        │ 0        │ 0          │ 0       │ 0        │\n",
       "│ 3   │ 2015-05-02 │ 0        │ 0        │ 0          │ 2       │ 0        │\n",
       "│ 4   │ 2019-10-03 │ 26       │ 0        │ 0          │ 30      │ 17       │\n",
       "│ 5   │ 2013-10-17 │ 114      │ 78       │ 80         │ 113     │ 0        │"
      ]
     },
     "execution_count": 224,
     "metadata": {},
     "output_type": "execute_result"
    }
   ],
   "source": [
    "pcp_sum = by(precipitation, :date,  McTavish = :McTavish=>sum, Bellevue = :Bellevue=>sum, \n",
    "   Assomption = :Assomption=>sum, Trudeau = :Trudeau=>sum, StHubert = :StHubert=>sum);\n",
    "first(shuffleDf(pcp_sum), 5)"
   ]
  },
  {
   "cell_type": "markdown",
   "metadata": {},
   "source": [
    "#### Maximum precipitation in an hour for the day"
   ]
  },
  {
   "cell_type": "code",
   "execution_count": 255,
   "metadata": {},
   "outputs": [
    {
     "data": {
      "text/html": [
       "<table class=\"data-frame\"><thead><tr><th></th><th>date</th><th>McTavish</th><th>Bellevue</th><th>Assomption</th><th>Trudeau</th><th>StHubert</th></tr><tr><th></th><th>Date</th><th>Int64</th><th>Int64</th><th>Int64</th><th>Int64</th><th>Int64</th></tr></thead><tbody><p>5 rows × 6 columns</p><tr><th>1</th><td>2014-07-08</td><td>0</td><td>96</td><td>136</td><td>51</td><td>15</td></tr><tr><th>2</th><td>2018-10-26</td><td>0</td><td>0</td><td>0</td><td>0</td><td>0</td></tr><tr><th>3</th><td>2017-09-27</td><td>42</td><td>36</td><td>50</td><td>50</td><td>10</td></tr><tr><th>4</th><td>2019-05-19</td><td>23</td><td>32</td><td>16</td><td>27</td><td>25</td></tr><tr><th>5</th><td>2017-10-18</td><td>0</td><td>0</td><td>0</td><td>0</td><td>0</td></tr></tbody></table>"
      ],
      "text/latex": [
       "\\begin{tabular}{r|cccccc}\n",
       "\t& date & McTavish & Bellevue & Assomption & Trudeau & StHubert\\\\\n",
       "\t\\hline\n",
       "\t& Date & Int64 & Int64 & Int64 & Int64 & Int64\\\\\n",
       "\t\\hline\n",
       "\t1 & 2014-07-08 & 0 & 96 & 136 & 51 & 15 \\\\\n",
       "\t2 & 2018-10-26 & 0 & 0 & 0 & 0 & 0 \\\\\n",
       "\t3 & 2017-09-27 & 42 & 36 & 50 & 50 & 10 \\\\\n",
       "\t4 & 2019-05-19 & 23 & 32 & 16 & 27 & 25 \\\\\n",
       "\t5 & 2017-10-18 & 0 & 0 & 0 & 0 & 0 \\\\\n",
       "\\end{tabular}\n"
      ],
      "text/plain": [
       "5×6 DataFrame\n",
       "│ Row │ date       │ McTavish │ Bellevue │ Assomption │ Trudeau │ StHubert │\n",
       "│     │ \u001b[90mDate\u001b[39m       │ \u001b[90mInt64\u001b[39m    │ \u001b[90mInt64\u001b[39m    │ \u001b[90mInt64\u001b[39m      │ \u001b[90mInt64\u001b[39m   │ \u001b[90mInt64\u001b[39m    │\n",
       "├─────┼────────────┼──────────┼──────────┼────────────┼─────────┼──────────┤\n",
       "│ 1   │ 2014-07-08 │ 0        │ 96       │ 136        │ 51      │ 15       │\n",
       "│ 2   │ 2018-10-26 │ 0        │ 0        │ 0          │ 0       │ 0        │\n",
       "│ 3   │ 2017-09-27 │ 42       │ 36       │ 50         │ 50      │ 10       │\n",
       "│ 4   │ 2019-05-19 │ 23       │ 32       │ 16         │ 27      │ 25       │\n",
       "│ 5   │ 2017-10-18 │ 0        │ 0        │ 0          │ 0       │ 0        │"
      ]
     },
     "execution_count": 255,
     "metadata": {},
     "output_type": "execute_result"
    }
   ],
   "source": [
    "pcp_max = by(precipitation, :date,  McTavish = :McTavish=>maximum, Bellevue = :Bellevue=>maximum, \n",
    "   Assomption = :Assomption=>maximum, Trudeau = :Trudeau=>maximum, StHubert = :StHubert=>maximum)\n",
    "first(shuffleDf(pcp_max),5)"
   ]
  },
  {
   "cell_type": "markdown",
   "metadata": {},
   "source": [
    "### Add precipitation data to features"
   ]
  },
  {
   "cell_type": "markdown",
   "metadata": {},
   "source": [
    "#### Get stations lat-lng"
   ]
  },
  {
   "cell_type": "code",
   "execution_count": 183,
   "metadata": {},
   "outputs": [
    {
     "data": {
      "text/html": [
       "<table class=\"data-frame\"><thead><tr><th></th><th>STATION</th><th>LAT</th><th>LNG</th></tr><tr><th></th><th>String</th><th>Float64</th><th>Float64</th></tr></thead><tbody><p>5 rows × 3 columns</p><tr><th>1</th><td>McTavish</td><td>45.5047</td><td>-73.5792</td></tr><tr><th>2</th><td>Bellevue</td><td>45.4272</td><td>-73.9292</td></tr><tr><th>3</th><td>Assomption</td><td>45.8094</td><td>-73.4347</td></tr><tr><th>4</th><td>Trudeau</td><td>45.4678</td><td>-73.7417</td></tr><tr><th>5</th><td>StHubert</td><td>45.5175</td><td>-73.4169</td></tr></tbody></table>"
      ],
      "text/latex": [
       "\\begin{tabular}{r|ccc}\n",
       "\t& STATION & LAT & LNG\\\\\n",
       "\t\\hline\n",
       "\t& String & Float64 & Float64\\\\\n",
       "\t\\hline\n",
       "\t1 & McTavish & 45.5047 & -73.5792 \\\\\n",
       "\t2 & Bellevue & 45.4272 & -73.9292 \\\\\n",
       "\t3 & Assomption & 45.8094 & -73.4347 \\\\\n",
       "\t4 & Trudeau & 45.4678 & -73.7417 \\\\\n",
       "\t5 & StHubert & 45.5175 & -73.4169 \\\\\n",
       "\\end{tabular}\n"
      ],
      "text/plain": [
       "5×3 DataFrame\n",
       "│ Row │ STATION    │ LAT     │ LNG      │\n",
       "│     │ \u001b[90mString\u001b[39m     │ \u001b[90mFloat64\u001b[39m │ \u001b[90mFloat64\u001b[39m  │\n",
       "├─────┼────────────┼─────────┼──────────┤\n",
       "│ 1   │ McTavish   │ 45.5047 │ -73.5792 │\n",
       "│ 2   │ Bellevue   │ 45.4272 │ -73.9292 │\n",
       "│ 3   │ Assomption │ 45.8094 │ -73.4347 │\n",
       "│ 4   │ Trudeau    │ 45.4678 │ -73.7417 │\n",
       "│ 5   │ StHubert   │ 45.5175 │ -73.4169 │"
      ]
     },
     "execution_count": 183,
     "metadata": {},
     "output_type": "execute_result"
    }
   ],
   "source": [
    "station_df = DataFrame(STATION = String[], LAT = Float64[], LNG = Float64[]);\n",
    "\n",
    "push!(station_df, [\"McTavish\", 45.504742, -73.579167]);\n",
    "push!(station_df, [\"Bellevue\", 45.427222, -73.929167]);\n",
    "push!(station_df, [\"Assomption\", 45.809444, -73.434722]);\n",
    "push!(station_df, [\"Trudeau\", 45.467778, -73.741667]);\n",
    "push!(station_df, [\"StHubert\", 45.5175, -73.416944]);\n",
    "\n",
    "station_df"
   ]
  },
  {
   "cell_type": "markdown",
   "metadata": {},
   "source": [
    "### Normalize elements"
   ]
  },
  {
   "cell_type": "markdown",
   "metadata": {},
   "source": [
    "#### Get extreme values"
   ]
  },
  {
   "cell_type": "code",
   "execution_count": 184,
   "metadata": {},
   "outputs": [],
   "source": [
    "min_lat = min(minimum(comb.TP_LAT), minimum(station_df.LAT));\n",
    "max_lat = max(maximum(comb.TP_LAT), maximum(station_df.LAT));\n",
    "\n",
    "min_lng = min(minimum(comb.TP_LNG), minimum(station_df.LNG));\n",
    "max_lng = max(maximum(comb.TP_LNG), maximum(station_df.LNG));\n",
    "\n",
    "min_z = minimum(comb.TP_Z);\n",
    "max_z = maximum(comb.TP_Z);"
   ]
  },
  {
   "cell_type": "markdown",
   "metadata": {},
   "source": [
    "#### Normalize every value of comb between 0 and 1"
   ]
  },
  {
   "cell_type": "code",
   "execution_count": 185,
   "metadata": {},
   "outputs": [
    {
     "data": {
      "text/html": [
       "<table class=\"data-frame\"><thead><tr><th></th><th>ID_OUVRAGE</th><th>TP_LAT</th><th>TP_LNG</th><th>TP_Z</th><th>DATE</th><th>SURVERSE</th></tr><tr><th></th><th>String</th><th>Float64</th><th>Float64</th><th>Float64</th><th>Date</th><th>Int64</th></tr></thead><tbody><p>10 rows × 6 columns</p><tr><th>1</th><td>3350-10D</td><td>0.33098</td><td>0.45193</td><td>0.502992</td><td>2014-10-07</td><td>0</td></tr><tr><th>2</th><td>3768-01D</td><td>0.349823</td><td>0.473192</td><td>0.452637</td><td>2014-07-26</td><td>0</td></tr><tr><th>3</th><td>3350-05D</td><td>0.412789</td><td>0.545451</td><td>0.422555</td><td>2013-07-26</td><td>0</td></tr><tr><th>4</th><td>3790-02D</td><td>0.0</td><td>0.0198891</td><td>0.496779</td><td>2016-07-13</td><td>0</td></tr><tr><th>5</th><td>4260-01D</td><td>0.561116</td><td>0.855507</td><td>0.126312</td><td>2014-10-05</td><td>0</td></tr><tr><th>6</th><td>3480-02D</td><td>0.236212</td><td>0.307589</td><td>0.558578</td><td>2014-07-17</td><td>0</td></tr><tr><th>7</th><td>4360-01D</td><td>0.21681</td><td>0.752166</td><td>0.222444</td><td>2015-09-10</td><td>0</td></tr><tr><th>8</th><td>4230-01D</td><td>0.637935</td><td>0.849315</td><td>0.112579</td><td>2017-08-27</td><td>0</td></tr><tr><th>9</th><td>4520-01D</td><td>0.0934202</td><td>0.422034</td><td>0.505935</td><td>2015-08-07</td><td>0</td></tr><tr><th>10</th><td>0801-04D</td><td>0.246824</td><td>0.802071</td><td>0.131217</td><td>2013-07-31</td><td>0</td></tr></tbody></table>"
      ],
      "text/latex": [
       "\\begin{tabular}{r|cccccc}\n",
       "\t& ID\\_OUVRAGE & TP\\_LAT & TP\\_LNG & TP\\_Z & DATE & SURVERSE\\\\\n",
       "\t\\hline\n",
       "\t& String & Float64 & Float64 & Float64 & Date & Int64\\\\\n",
       "\t\\hline\n",
       "\t1 & 3350-10D & 0.33098 & 0.45193 & 0.502992 & 2014-10-07 & 0 \\\\\n",
       "\t2 & 3768-01D & 0.349823 & 0.473192 & 0.452637 & 2014-07-26 & 0 \\\\\n",
       "\t3 & 3350-05D & 0.412789 & 0.545451 & 0.422555 & 2013-07-26 & 0 \\\\\n",
       "\t4 & 3790-02D & 0.0 & 0.0198891 & 0.496779 & 2016-07-13 & 0 \\\\\n",
       "\t5 & 4260-01D & 0.561116 & 0.855507 & 0.126312 & 2014-10-05 & 0 \\\\\n",
       "\t6 & 3480-02D & 0.236212 & 0.307589 & 0.558578 & 2014-07-17 & 0 \\\\\n",
       "\t7 & 4360-01D & 0.21681 & 0.752166 & 0.222444 & 2015-09-10 & 0 \\\\\n",
       "\t8 & 4230-01D & 0.637935 & 0.849315 & 0.112579 & 2017-08-27 & 0 \\\\\n",
       "\t9 & 4520-01D & 0.0934202 & 0.422034 & 0.505935 & 2015-08-07 & 0 \\\\\n",
       "\t10 & 0801-04D & 0.246824 & 0.802071 & 0.131217 & 2013-07-31 & 0 \\\\\n",
       "\\end{tabular}\n"
      ],
      "text/plain": [
       "10×6 DataFrame\n",
       "│ Row │ ID_OUVRAGE │ TP_LAT    │ TP_LNG    │ TP_Z     │ DATE       │ SURVERSE │\n",
       "│     │ \u001b[90mString\u001b[39m     │ \u001b[90mFloat64\u001b[39m   │ \u001b[90mFloat64\u001b[39m   │ \u001b[90mFloat64\u001b[39m  │ \u001b[90mDate\u001b[39m       │ \u001b[90mInt64\u001b[39m    │\n",
       "├─────┼────────────┼───────────┼───────────┼──────────┼────────────┼──────────┤\n",
       "│ 1   │ 3350-10D   │ 0.33098   │ 0.45193   │ 0.502992 │ 2014-10-07 │ 0        │\n",
       "│ 2   │ 3768-01D   │ 0.349823  │ 0.473192  │ 0.452637 │ 2014-07-26 │ 0        │\n",
       "│ 3   │ 3350-05D   │ 0.412789  │ 0.545451  │ 0.422555 │ 2013-07-26 │ 0        │\n",
       "│ 4   │ 3790-02D   │ 0.0       │ 0.0198891 │ 0.496779 │ 2016-07-13 │ 0        │\n",
       "│ 5   │ 4260-01D   │ 0.561116  │ 0.855507  │ 0.126312 │ 2014-10-05 │ 0        │\n",
       "│ 6   │ 3480-02D   │ 0.236212  │ 0.307589  │ 0.558578 │ 2014-07-17 │ 0        │\n",
       "│ 7   │ 4360-01D   │ 0.21681   │ 0.752166  │ 0.222444 │ 2015-09-10 │ 0        │\n",
       "│ 8   │ 4230-01D   │ 0.637935  │ 0.849315  │ 0.112579 │ 2017-08-27 │ 0        │\n",
       "│ 9   │ 4520-01D   │ 0.0934202 │ 0.422034  │ 0.505935 │ 2015-08-07 │ 0        │\n",
       "│ 10  │ 0801-04D   │ 0.246824  │ 0.802071  │ 0.131217 │ 2013-07-31 │ 0        │"
      ]
     },
     "execution_count": 185,
     "metadata": {},
     "output_type": "execute_result"
    }
   ],
   "source": [
    "comb.TP_LAT = normalize.(comb.TP_LAT, min_lat, max_lat);\n",
    "comb.TP_LNG = normalize.(comb.TP_LNG, min_lng, max_lng);\n",
    "comb.TP_Z = normalize.(comb.TP_Z, min_z, max_z);\n",
    "\n",
    "first(shuffleDf(comb), 10)"
   ]
  },
  {
   "cell_type": "markdown",
   "metadata": {},
   "source": [
    "#### Normalize every value of station_df between 0 and 1"
   ]
  },
  {
   "cell_type": "code",
   "execution_count": 186,
   "metadata": {},
   "outputs": [
    {
     "data": {
      "text/html": [
       "<table class=\"data-frame\"><thead><tr><th></th><th>STATION</th><th>LAT</th><th>LNG</th></tr><tr><th></th><th>String</th><th>Float64</th><th>Float64</th></tr></thead><tbody><p>5 rows × 3 columns</p><tr><th>1</th><td>McTavish</td><td>0.251316</td><td>0.699536</td></tr><tr><th>2</th><td>Bellevue</td><td>0.0608415</td><td>0.0512791</td></tr><tr><th>3</th><td>Assomption</td><td>1.0</td><td>0.967072</td></tr><tr><th>4</th><td>Trudeau</td><td>0.160492</td><td>0.39856</td></tr><tr><th>5</th><td>StHubert</td><td>0.282664</td><td>1.0</td></tr></tbody></table>"
      ],
      "text/latex": [
       "\\begin{tabular}{r|ccc}\n",
       "\t& STATION & LAT & LNG\\\\\n",
       "\t\\hline\n",
       "\t& String & Float64 & Float64\\\\\n",
       "\t\\hline\n",
       "\t1 & McTavish & 0.251316 & 0.699536 \\\\\n",
       "\t2 & Bellevue & 0.0608415 & 0.0512791 \\\\\n",
       "\t3 & Assomption & 1.0 & 0.967072 \\\\\n",
       "\t4 & Trudeau & 0.160492 & 0.39856 \\\\\n",
       "\t5 & StHubert & 0.282664 & 1.0 \\\\\n",
       "\\end{tabular}\n"
      ],
      "text/plain": [
       "5×3 DataFrame\n",
       "│ Row │ STATION    │ LAT       │ LNG       │\n",
       "│     │ \u001b[90mString\u001b[39m     │ \u001b[90mFloat64\u001b[39m   │ \u001b[90mFloat64\u001b[39m   │\n",
       "├─────┼────────────┼───────────┼───────────┤\n",
       "│ 1   │ McTavish   │ 0.251316  │ 0.699536  │\n",
       "│ 2   │ Bellevue   │ 0.0608415 │ 0.0512791 │\n",
       "│ 3   │ Assomption │ 1.0       │ 0.967072  │\n",
       "│ 4   │ Trudeau    │ 0.160492  │ 0.39856   │\n",
       "│ 5   │ StHubert   │ 0.282664  │ 1.0       │"
      ]
     },
     "execution_count": 186,
     "metadata": {},
     "output_type": "execute_result"
    }
   ],
   "source": [
    "station_df.LAT = normalize.(station_df.LAT, min_lat, max_lat);\n",
    "station_df.LNG = normalize.(station_df.LNG, min_lng, max_lng);\n",
    "\n",
    "station_df"
   ]
  },
  {
   "cell_type": "markdown",
   "metadata": {},
   "source": [
    "### Augment Features"
   ]
  },
  {
   "cell_type": "markdown",
   "metadata": {},
   "source": [
    "#### Add pcp_sum and pcp_max columns"
   ]
  },
  {
   "cell_type": "code",
   "execution_count": 190,
   "metadata": {},
   "outputs": [],
   "source": [
    "comb.PCP_MAX = zeros(size(comb, 1));\n",
    "comb.PCP_SUM = zeros(size(comb, 1));\n",
    "permutecols!(comb, [:ID_OUVRAGE, :TP_LAT, :TP_LNG, :TP_Z, :DATE, :PCP_SUM, :PCP_MAX, :SURVERSE]);"
   ]
  },
  {
   "cell_type": "code",
   "execution_count": 191,
   "metadata": {},
   "outputs": [
    {
     "data": {
      "text/html": [
       "<table class=\"data-frame\"><thead><tr><th></th><th>ID_OUVRAGE</th><th>TP_LAT</th><th>TP_LNG</th><th>TP_Z</th><th>DATE</th><th>PCP_SUM</th><th>PCP_MAX</th><th>SURVERSE</th></tr><tr><th></th><th>String</th><th>Float64</th><th>Float64</th><th>Float64</th><th>Date</th><th>Float64</th><th>Float64</th><th>Int64</th></tr></thead><tbody><p>10 rows × 8 columns</p><tr><th>1</th><td>3530-01D</td><td>0.253467</td><td>0.174368</td><td>0.611549</td><td>2015-05-31</td><td>0.0</td><td>0.0</td><td>0</td></tr><tr><th>2</th><td>4230-07D</td><td>0.703498</td><td>0.87159</td><td>0.0494719</td><td>2015-06-12</td><td>0.0</td><td>0.0</td><td>0</td></tr><tr><th>3</th><td>0672-03D</td><td>0.66527</td><td>0.771707</td><td>0.0537227</td><td>2013-09-06</td><td>0.0</td><td>0.0</td><td>0</td></tr><tr><th>4</th><td>3350-09D</td><td>0.330728</td><td>0.451592</td><td>0.502665</td><td>2013-10-05</td><td>0.0</td><td>0.0</td><td>0</td></tr><tr><th>5</th><td>4600-03D</td><td>0.0832998</td><td>0.248675</td><td>0.590949</td><td>2014-06-29</td><td>0.0</td><td>0.0</td><td>0</td></tr><tr><th>6</th><td>4240-01D</td><td>0.607546</td><td>0.868856</td><td>0.116503</td><td>2018-10-16</td><td>0.0</td><td>0.0</td><td>0</td></tr><tr><th>7</th><td>3275-02D</td><td>0.5763</td><td>0.647929</td><td>0.202171</td><td>2017-08-30</td><td>0.0</td><td>0.0</td><td>0</td></tr><tr><th>8</th><td>3305-03D</td><td>0.533562</td><td>0.600092</td><td>0.111598</td><td>2018-08-27</td><td>0.0</td><td>0.0</td><td>0</td></tr><tr><th>9</th><td>4270-01D</td><td>0.511065</td><td>0.830105</td><td>0.0923062</td><td>2018-06-12</td><td>0.0</td><td>0.0</td><td>0</td></tr><tr><th>10</th><td>3350-08D</td><td>0.338262</td><td>0.459852</td><td>0.533074</td><td>2013-09-16</td><td>0.0</td><td>0.0</td><td>0</td></tr></tbody></table>"
      ],
      "text/latex": [
       "\\begin{tabular}{r|cccccccc}\n",
       "\t& ID\\_OUVRAGE & TP\\_LAT & TP\\_LNG & TP\\_Z & DATE & PCP\\_SUM & PCP\\_MAX & SURVERSE\\\\\n",
       "\t\\hline\n",
       "\t& String & Float64 & Float64 & Float64 & Date & Float64 & Float64 & Int64\\\\\n",
       "\t\\hline\n",
       "\t1 & 3530-01D & 0.253467 & 0.174368 & 0.611549 & 2015-05-31 & 0.0 & 0.0 & 0 \\\\\n",
       "\t2 & 4230-07D & 0.703498 & 0.87159 & 0.0494719 & 2015-06-12 & 0.0 & 0.0 & 0 \\\\\n",
       "\t3 & 0672-03D & 0.66527 & 0.771707 & 0.0537227 & 2013-09-06 & 0.0 & 0.0 & 0 \\\\\n",
       "\t4 & 3350-09D & 0.330728 & 0.451592 & 0.502665 & 2013-10-05 & 0.0 & 0.0 & 0 \\\\\n",
       "\t5 & 4600-03D & 0.0832998 & 0.248675 & 0.590949 & 2014-06-29 & 0.0 & 0.0 & 0 \\\\\n",
       "\t6 & 4240-01D & 0.607546 & 0.868856 & 0.116503 & 2018-10-16 & 0.0 & 0.0 & 0 \\\\\n",
       "\t7 & 3275-02D & 0.5763 & 0.647929 & 0.202171 & 2017-08-30 & 0.0 & 0.0 & 0 \\\\\n",
       "\t8 & 3305-03D & 0.533562 & 0.600092 & 0.111598 & 2018-08-27 & 0.0 & 0.0 & 0 \\\\\n",
       "\t9 & 4270-01D & 0.511065 & 0.830105 & 0.0923062 & 2018-06-12 & 0.0 & 0.0 & 0 \\\\\n",
       "\t10 & 3350-08D & 0.338262 & 0.459852 & 0.533074 & 2013-09-16 & 0.0 & 0.0 & 0 \\\\\n",
       "\\end{tabular}\n"
      ],
      "text/plain": [
       "10×8 DataFrame. Omitted printing of 2 columns\n",
       "│ Row │ ID_OUVRAGE │ TP_LAT    │ TP_LNG   │ TP_Z      │ DATE       │ PCP_SUM │\n",
       "│     │ \u001b[90mString\u001b[39m     │ \u001b[90mFloat64\u001b[39m   │ \u001b[90mFloat64\u001b[39m  │ \u001b[90mFloat64\u001b[39m   │ \u001b[90mDate\u001b[39m       │ \u001b[90mFloat64\u001b[39m │\n",
       "├─────┼────────────┼───────────┼──────────┼───────────┼────────────┼─────────┤\n",
       "│ 1   │ 3530-01D   │ 0.253467  │ 0.174368 │ 0.611549  │ 2015-05-31 │ 0.0     │\n",
       "│ 2   │ 4230-07D   │ 0.703498  │ 0.87159  │ 0.0494719 │ 2015-06-12 │ 0.0     │\n",
       "│ 3   │ 0672-03D   │ 0.66527   │ 0.771707 │ 0.0537227 │ 2013-09-06 │ 0.0     │\n",
       "│ 4   │ 3350-09D   │ 0.330728  │ 0.451592 │ 0.502665  │ 2013-10-05 │ 0.0     │\n",
       "│ 5   │ 4600-03D   │ 0.0832998 │ 0.248675 │ 0.590949  │ 2014-06-29 │ 0.0     │\n",
       "│ 6   │ 4240-01D   │ 0.607546  │ 0.868856 │ 0.116503  │ 2018-10-16 │ 0.0     │\n",
       "│ 7   │ 3275-02D   │ 0.5763    │ 0.647929 │ 0.202171  │ 2017-08-30 │ 0.0     │\n",
       "│ 8   │ 3305-03D   │ 0.533562  │ 0.600092 │ 0.111598  │ 2018-08-27 │ 0.0     │\n",
       "│ 9   │ 4270-01D   │ 0.511065  │ 0.830105 │ 0.0923062 │ 2018-06-12 │ 0.0     │\n",
       "│ 10  │ 3350-08D   │ 0.338262  │ 0.459852 │ 0.533074  │ 2013-09-16 │ 0.0     │"
      ]
     },
     "execution_count": 191,
     "metadata": {},
     "output_type": "execute_result"
    }
   ],
   "source": [
    "first(shuffleDf(comb), 10)"
   ]
  },
  {
   "cell_type": "markdown",
   "metadata": {},
   "source": [
    "#### Find closest station to each ouvrage and add pcp_sum and pcp_max to it"
   ]
  },
  {
   "cell_type": "code",
   "execution_count": 215,
   "metadata": {},
   "outputs": [],
   "source": [
    "for i=1:size(comb, 1)\n",
    "    id_ouvrage = comb[i, 1]; \n",
    "    closest_station = \"McTavish\"; # initial value\n",
    "    shortest_dist = -1;\n",
    "    \n",
    "    # Find closest station\n",
    "    for j=1:size(station_df, 1)\n",
    "        dist = findDistance(comb[i, :TP_LAT], comb[i, :TP_LNG], station_df[j, :LAT], station_df[j, :LNG]);\n",
    "        \n",
    "        if shortest_dist == -1 || dist < shortest_dist\n",
    "            shortest_dist = dist;\n",
    "            closest_station = station_df[j, :STATION];\n",
    "        end\n",
    "    end\n",
    "    \n",
    "    # Augment comb with a weighted p_sum, based on the distance to the station\n",
    "    p_sum = pcp_sum[∈([comb[i, :DATE]]).(pcp_sum.date), Symbol(closest_station)];\n",
    "    comb[i, :PCP_SUM] = p_sum[1] * (1 - shortest_dist); \n",
    "    # Augment comb with a weighted p_max, based on the distance to the station\n",
    "    p_max = pcp_max[∈([comb[i, :DATE]]).(pcp_max.date), Symbol(closest_station)]\n",
    "    comb[i, :PCP_MAX] = p_max[1] * (1 - shortest_dist);\n",
    "end"
   ]
  },
  {
   "cell_type": "code",
   "execution_count": 242,
   "metadata": {},
   "outputs": [
    {
     "data": {
      "text/html": [
       "<table class=\"data-frame\"><thead><tr><th></th><th>ID_OUVRAGE</th><th>TP_LAT</th><th>TP_LNG</th><th>TP_Z</th><th>DATE</th><th>PCP_SUM</th><th>PCP_MAX</th><th>SURVERSE</th></tr><tr><th></th><th>String</th><th>Float64</th><th>Float64</th><th>Float64</th><th>Date</th><th>Float64</th><th>Float64</th><th>Int64</th></tr></thead><tbody><p>10 rows × 8 columns</p><tr><th>1</th><td>0801-05D</td><td>0.282104</td><td>0.788458</td><td>0.142334</td><td>2018-06-13</td><td>35.3301</td><td>13.5885</td><td>1</td></tr><tr><th>2</th><td>3400-01D</td><td>0.346518</td><td>0.521076</td><td>0.578524</td><td>2014-06-14</td><td>0.0</td><td>0.0</td><td>1</td></tr><tr><th>3</th><td>3350-06D</td><td>0.37501</td><td>0.524895</td><td>0.423863</td><td>2015-05-25</td><td>157.198</td><td>44.0155</td><td>1</td></tr><tr><th>4</th><td>3380-01D</td><td>0.370625</td><td>0.530672</td><td>0.453945</td><td>2015-07-27</td><td>157.062</td><td>135.644</td><td>1</td></tr><tr><th>5</th><td>3350-09D</td><td>0.330728</td><td>0.451592</td><td>0.502665</td><td>2016-09-08</td><td>88.743</td><td>57.5186</td><td>1</td></tr><tr><th>6</th><td>4370-01D</td><td>0.16919</td><td>0.735733</td><td>0.359859</td><td>2013-08-09</td><td>65.5381</td><td>65.5381</td><td>1</td></tr><tr><th>7</th><td>4370-02D</td><td>0.169218</td><td>0.735754</td><td>0.359859</td><td>2016-06-28</td><td>191.156</td><td>96.4884</td><td>1</td></tr><tr><th>8</th><td>4320-01D</td><td>0.359606</td><td>0.789317</td><td>0.174378</td><td>2013-07-17</td><td>206.24</td><td>206.24</td><td>1</td></tr><tr><th>9</th><td>3410-02D</td><td>0.319462</td><td>0.483178</td><td>0.359859</td><td>2016-06-05</td><td>232.035</td><td>68.8725</td><td>1</td></tr><tr><th>10</th><td>4320-01D</td><td>0.359606</td><td>0.789317</td><td>0.174378</td><td>2013-07-28</td><td>80.7773</td><td>42.9666</td><td>1</td></tr></tbody></table>"
      ],
      "text/latex": [
       "\\begin{tabular}{r|cccccccc}\n",
       "\t& ID\\_OUVRAGE & TP\\_LAT & TP\\_LNG & TP\\_Z & DATE & PCP\\_SUM & PCP\\_MAX & SURVERSE\\\\\n",
       "\t\\hline\n",
       "\t& String & Float64 & Float64 & Float64 & Date & Float64 & Float64 & Int64\\\\\n",
       "\t\\hline\n",
       "\t1 & 0801-05D & 0.282104 & 0.788458 & 0.142334 & 2018-06-13 & 35.3301 & 13.5885 & 1 \\\\\n",
       "\t2 & 3400-01D & 0.346518 & 0.521076 & 0.578524 & 2014-06-14 & 0.0 & 0.0 & 1 \\\\\n",
       "\t3 & 3350-06D & 0.37501 & 0.524895 & 0.423863 & 2015-05-25 & 157.198 & 44.0155 & 1 \\\\\n",
       "\t4 & 3380-01D & 0.370625 & 0.530672 & 0.453945 & 2015-07-27 & 157.062 & 135.644 & 1 \\\\\n",
       "\t5 & 3350-09D & 0.330728 & 0.451592 & 0.502665 & 2016-09-08 & 88.743 & 57.5186 & 1 \\\\\n",
       "\t6 & 4370-01D & 0.16919 & 0.735733 & 0.359859 & 2013-08-09 & 65.5381 & 65.5381 & 1 \\\\\n",
       "\t7 & 4370-02D & 0.169218 & 0.735754 & 0.359859 & 2016-06-28 & 191.156 & 96.4884 & 1 \\\\\n",
       "\t8 & 4320-01D & 0.359606 & 0.789317 & 0.174378 & 2013-07-17 & 206.24 & 206.24 & 1 \\\\\n",
       "\t9 & 3410-02D & 0.319462 & 0.483178 & 0.359859 & 2016-06-05 & 232.035 & 68.8725 & 1 \\\\\n",
       "\t10 & 4320-01D & 0.359606 & 0.789317 & 0.174378 & 2013-07-28 & 80.7773 & 42.9666 & 1 \\\\\n",
       "\\end{tabular}\n"
      ],
      "text/plain": [
       "10×8 DataFrame. Omitted printing of 2 columns\n",
       "│ Row │ ID_OUVRAGE │ TP_LAT   │ TP_LNG   │ TP_Z     │ DATE       │ PCP_SUM │\n",
       "│     │ \u001b[90mString\u001b[39m     │ \u001b[90mFloat64\u001b[39m  │ \u001b[90mFloat64\u001b[39m  │ \u001b[90mFloat64\u001b[39m  │ \u001b[90mDate\u001b[39m       │ \u001b[90mFloat64\u001b[39m │\n",
       "├─────┼────────────┼──────────┼──────────┼──────────┼────────────┼─────────┤\n",
       "│ 1   │ 0801-05D   │ 0.282104 │ 0.788458 │ 0.142334 │ 2018-06-13 │ 35.3301 │\n",
       "│ 2   │ 3400-01D   │ 0.346518 │ 0.521076 │ 0.578524 │ 2014-06-14 │ 0.0     │\n",
       "│ 3   │ 3350-06D   │ 0.37501  │ 0.524895 │ 0.423863 │ 2015-05-25 │ 157.198 │\n",
       "│ 4   │ 3380-01D   │ 0.370625 │ 0.530672 │ 0.453945 │ 2015-07-27 │ 157.062 │\n",
       "│ 5   │ 3350-09D   │ 0.330728 │ 0.451592 │ 0.502665 │ 2016-09-08 │ 88.743  │\n",
       "│ 6   │ 4370-01D   │ 0.16919  │ 0.735733 │ 0.359859 │ 2013-08-09 │ 65.5381 │\n",
       "│ 7   │ 4370-02D   │ 0.169218 │ 0.735754 │ 0.359859 │ 2016-06-28 │ 191.156 │\n",
       "│ 8   │ 4320-01D   │ 0.359606 │ 0.789317 │ 0.174378 │ 2013-07-17 │ 206.24  │\n",
       "│ 9   │ 3410-02D   │ 0.319462 │ 0.483178 │ 0.359859 │ 2016-06-05 │ 232.035 │\n",
       "│ 10  │ 4320-01D   │ 0.359606 │ 0.789317 │ 0.174378 │ 2013-07-28 │ 80.7773 │"
      ]
     },
     "execution_count": 242,
     "metadata": {},
     "output_type": "execute_result"
    }
   ],
   "source": [
    "first(shuffleDf(filter(row -> row.SURVERSE == 1, comb)), 10)"
   ]
  },
  {
   "cell_type": "markdown",
   "metadata": {},
   "source": [
    "#### Normalize pcp_sum and pcp_max"
   ]
  },
  {
   "cell_type": "code",
   "execution_count": 257,
   "metadata": {},
   "outputs": [],
   "source": [
    "min_pcp_sum = minimum(comb.PCP_SUM);\n",
    "max_pcp_sum = maximum(comb.PCP_SUM);\n",
    "\n",
    "min_pcp_max = minimum(comb.PCP_MAX);\n",
    "max_pcp_max = maximum(comb.PCP_MAX);"
   ]
  },
  {
   "cell_type": "code",
   "execution_count": 258,
   "metadata": {},
   "outputs": [
    {
     "data": {
      "text/html": [
       "<table class=\"data-frame\"><thead><tr><th></th><th>ID_OUVRAGE</th><th>TP_LAT</th><th>TP_LNG</th><th>TP_Z</th><th>DATE</th><th>PCP_SUM</th><th>PCP_MAX</th><th>SURVERSE</th></tr><tr><th></th><th>String</th><th>Float64</th><th>Float64</th><th>Float64</th><th>Date</th><th>Float64</th><th>Float64</th><th>Int64</th></tr></thead><tbody><p>10 rows × 8 columns</p><tr><th>1</th><td>4430-05D</td><td>0.0529114</td><td>0.554875</td><td>0.729588</td><td>2018-10-08</td><td>0.0502229</td><td>0.0314403</td><td>1</td></tr><tr><th>2</th><td>3480-02D</td><td>0.236212</td><td>0.307589</td><td>0.558578</td><td>2016-10-21</td><td>0.16128</td><td>0.0217705</td><td>1</td></tr><tr><th>3</th><td>4370-05D</td><td>0.0917291</td><td>0.555449</td><td>0.537652</td><td>2016-07-14</td><td>0.0233867</td><td>0.0233867</td><td>1</td></tr><tr><th>4</th><td>0801-05D</td><td>0.282104</td><td>0.788458</td><td>0.142334</td><td>2016-06-05</td><td>0.256565</td><td>0.0561522</td><td>1</td></tr><tr><th>5</th><td>4330-02D</td><td>0.33464</td><td>0.773192</td><td>0.359859</td><td>2014-06-17</td><td>0.0</td><td>0.0</td><td>1</td></tr><tr><th>6</th><td>3350-11D</td><td>0.320282</td><td>0.463777</td><td>0.553674</td><td>2015-06-08</td><td>0.107578</td><td>0.0237673</td><td>1</td></tr><tr><th>7</th><td>3410-02D</td><td>0.319462</td><td>0.483178</td><td>0.359859</td><td>2016-07-18</td><td>0.0661102</td><td>0.0528882</td><td>1</td></tr><tr><th>8</th><td>4340-01D</td><td>0.304064</td><td>0.76384</td><td>0.359121</td><td>2014-07-28</td><td>0.060988</td><td>0.014785</td><td>1</td></tr><tr><th>9</th><td>4720-01D</td><td>0.731445</td><td>0.86632</td><td>0.0736684</td><td>2015-09-07</td><td>0.0862551</td><td>0.0636131</td><td>1</td></tr><tr><th>10</th><td>3350-06D</td><td>0.37501</td><td>0.524895</td><td>0.423863</td><td>2017-07-08</td><td>0.129523</td><td>0.0871409</td><td>1</td></tr></tbody></table>"
      ],
      "text/latex": [
       "\\begin{tabular}{r|cccccccc}\n",
       "\t& ID\\_OUVRAGE & TP\\_LAT & TP\\_LNG & TP\\_Z & DATE & PCP\\_SUM & PCP\\_MAX & SURVERSE\\\\\n",
       "\t\\hline\n",
       "\t& String & Float64 & Float64 & Float64 & Date & Float64 & Float64 & Int64\\\\\n",
       "\t\\hline\n",
       "\t1 & 4430-05D & 0.0529114 & 0.554875 & 0.729588 & 2018-10-08 & 0.0502229 & 0.0314403 & 1 \\\\\n",
       "\t2 & 3480-02D & 0.236212 & 0.307589 & 0.558578 & 2016-10-21 & 0.16128 & 0.0217705 & 1 \\\\\n",
       "\t3 & 4370-05D & 0.0917291 & 0.555449 & 0.537652 & 2016-07-14 & 0.0233867 & 0.0233867 & 1 \\\\\n",
       "\t4 & 0801-05D & 0.282104 & 0.788458 & 0.142334 & 2016-06-05 & 0.256565 & 0.0561522 & 1 \\\\\n",
       "\t5 & 4330-02D & 0.33464 & 0.773192 & 0.359859 & 2014-06-17 & 0.0 & 0.0 & 1 \\\\\n",
       "\t6 & 3350-11D & 0.320282 & 0.463777 & 0.553674 & 2015-06-08 & 0.107578 & 0.0237673 & 1 \\\\\n",
       "\t7 & 3410-02D & 0.319462 & 0.483178 & 0.359859 & 2016-07-18 & 0.0661102 & 0.0528882 & 1 \\\\\n",
       "\t8 & 4340-01D & 0.304064 & 0.76384 & 0.359121 & 2014-07-28 & 0.060988 & 0.014785 & 1 \\\\\n",
       "\t9 & 4720-01D & 0.731445 & 0.86632 & 0.0736684 & 2015-09-07 & 0.0862551 & 0.0636131 & 1 \\\\\n",
       "\t10 & 3350-06D & 0.37501 & 0.524895 & 0.423863 & 2017-07-08 & 0.129523 & 0.0871409 & 1 \\\\\n",
       "\\end{tabular}\n"
      ],
      "text/plain": [
       "10×8 DataFrame. Omitted printing of 2 columns\n",
       "│ Row │ ID_OUVRAGE │ TP_LAT    │ TP_LNG   │ TP_Z      │ DATE       │ PCP_SUM   │\n",
       "│     │ \u001b[90mString\u001b[39m     │ \u001b[90mFloat64\u001b[39m   │ \u001b[90mFloat64\u001b[39m  │ \u001b[90mFloat64\u001b[39m   │ \u001b[90mDate\u001b[39m       │ \u001b[90mFloat64\u001b[39m   │\n",
       "├─────┼────────────┼───────────┼──────────┼───────────┼────────────┼───────────┤\n",
       "│ 1   │ 4430-05D   │ 0.0529114 │ 0.554875 │ 0.729588  │ 2018-10-08 │ 0.0502229 │\n",
       "│ 2   │ 3480-02D   │ 0.236212  │ 0.307589 │ 0.558578  │ 2016-10-21 │ 0.16128   │\n",
       "│ 3   │ 4370-05D   │ 0.0917291 │ 0.555449 │ 0.537652  │ 2016-07-14 │ 0.0233867 │\n",
       "│ 4   │ 0801-05D   │ 0.282104  │ 0.788458 │ 0.142334  │ 2016-06-05 │ 0.256565  │\n",
       "│ 5   │ 4330-02D   │ 0.33464   │ 0.773192 │ 0.359859  │ 2014-06-17 │ 0.0       │\n",
       "│ 6   │ 3350-11D   │ 0.320282  │ 0.463777 │ 0.553674  │ 2015-06-08 │ 0.107578  │\n",
       "│ 7   │ 3410-02D   │ 0.319462  │ 0.483178 │ 0.359859  │ 2016-07-18 │ 0.0661102 │\n",
       "│ 8   │ 4340-01D   │ 0.304064  │ 0.76384  │ 0.359121  │ 2014-07-28 │ 0.060988  │\n",
       "│ 9   │ 4720-01D   │ 0.731445  │ 0.86632  │ 0.0736684 │ 2015-09-07 │ 0.0862551 │\n",
       "│ 10  │ 3350-06D   │ 0.37501   │ 0.524895 │ 0.423863  │ 2017-07-08 │ 0.129523  │"
      ]
     },
     "execution_count": 258,
     "metadata": {},
     "output_type": "execute_result"
    }
   ],
   "source": [
    "comb.PCP_SUM = normalize.(comb.PCP_SUM, min_pcp_sum, max_pcp_sum);\n",
    "comb.PCP_MAX = normalize.(comb.PCP_MAX, min_pcp_max, max_pcp_max);"
   ]
  },
  {
   "cell_type": "markdown",
   "metadata": {},
   "source": [
    "### TODO: Remove outlier in PCP_SUM and PCP_MAX that cause compression"
   ]
  },
  {
   "cell_type": "code",
   "execution_count": null,
   "metadata": {},
   "outputs": [],
   "source": []
  }
 ],
 "metadata": {
  "kernelspec": {
   "display_name": "Julia 1.2.0",
   "language": "julia",
   "name": "julia-1.2"
  },
  "language_info": {
   "file_extension": ".jl",
   "mimetype": "application/julia",
   "name": "julia",
   "version": "1.0.5"
  }
 },
 "nbformat": 4,
 "nbformat_minor": 2
}
