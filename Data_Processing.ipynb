{
 "cells": [
  {
   "cell_type": "markdown",
   "metadata": {},
   "source": [
    "# Data Processing"
   ]
  },
  {
   "cell_type": "code",
   "execution_count": 13,
   "metadata": {},
   "outputs": [],
   "source": [
    "using CSV, DataFrames, DecisionTree, Statistics, Dates, Gadfly, Random;\n",
    "include(\"utils/precipitation.jl\");"
   ]
  },
  {
   "cell_type": "markdown",
   "metadata": {},
   "source": [
    "## Build features"
   ]
  },
  {
   "cell_type": "markdown",
   "metadata": {},
   "source": [
    "### Get and filter the features"
   ]
  },
  {
   "cell_type": "markdown",
   "metadata": {},
   "source": [
    "#### Latitude, Longitude, Height"
   ]
  },
  {
   "cell_type": "code",
   "execution_count": 14,
   "metadata": {},
   "outputs": [
    {
     "data": {
      "text/html": [
       "<table class=\"data-frame\"><thead><tr><th></th><th>ID_OUVRAGE</th><th>TP_LAT</th><th>TP_LNG</th><th>TP_Z</th></tr><tr><th></th><th>String</th><th>Float64</th><th>Float64</th><th>Float64⍰</th></tr></thead><tbody><p>10 rows × 4 columns</p><tr><th>1</th><td>0642-01D</td><td>45.6727</td><td>-73.5262</td><td>missing</td></tr><tr><th>2</th><td>0672-01D</td><td>45.6823</td><td>-73.531</td><td>9.12</td></tr><tr><th>3</th><td>0672-02D</td><td>45.6939</td><td>-73.5214</td><td>10.23</td></tr><tr><th>4</th><td>0672-03D</td><td>45.6732</td><td>-73.5402</td><td>9.99</td></tr><tr><th>5</th><td>0801-01D</td><td>45.519</td><td>-73.5275</td><td>13.71</td></tr><tr><th>6</th><td>0801-02D</td><td>45.5174</td><td>-73.5281</td><td>12.34</td></tr><tr><th>7</th><td>0801-03D</td><td>45.5081</td><td>-73.5273</td><td>11.94</td></tr><tr><th>8</th><td>0801-04D</td><td>45.5029</td><td>-73.5238</td><td>12.36</td></tr><tr><th>9</th><td>0801-05D</td><td>45.5173</td><td>-73.5312</td><td>12.7</td></tr><tr><th>10</th><td>0801-06D</td><td>45.5187</td><td>-73.533</td><td>18.66</td></tr></tbody></table>"
      ],
      "text/latex": [
       "\\begin{tabular}{r|cccc}\n",
       "\t& ID\\_OUVRAGE & TP\\_LAT & TP\\_LNG & TP\\_Z\\\\\n",
       "\t\\hline\n",
       "\t& String & Float64 & Float64 & Float64⍰\\\\\n",
       "\t\\hline\n",
       "\t1 & 0642-01D & 45.6727 & -73.5262 &  \\\\\n",
       "\t2 & 0672-01D & 45.6823 & -73.531 & 9.12 \\\\\n",
       "\t3 & 0672-02D & 45.6939 & -73.5214 & 10.23 \\\\\n",
       "\t4 & 0672-03D & 45.6732 & -73.5402 & 9.99 \\\\\n",
       "\t5 & 0801-01D & 45.519 & -73.5275 & 13.71 \\\\\n",
       "\t6 & 0801-02D & 45.5174 & -73.5281 & 12.34 \\\\\n",
       "\t7 & 0801-03D & 45.5081 & -73.5273 & 11.94 \\\\\n",
       "\t8 & 0801-04D & 45.5029 & -73.5238 & 12.36 \\\\\n",
       "\t9 & 0801-05D & 45.5173 & -73.5312 & 12.7 \\\\\n",
       "\t10 & 0801-06D & 45.5187 & -73.533 & 18.66 \\\\\n",
       "\\end{tabular}\n"
      ],
      "text/plain": [
       "10×4 DataFrame\n",
       "│ Row │ ID_OUVRAGE │ TP_LAT  │ TP_LNG   │ TP_Z     │\n",
       "│     │ \u001b[90mString\u001b[39m     │ \u001b[90mFloat64\u001b[39m │ \u001b[90mFloat64\u001b[39m  │ \u001b[90mFloat64⍰\u001b[39m │\n",
       "├─────┼────────────┼─────────┼──────────┼──────────┤\n",
       "│ 1   │ 0642-01D   │ 45.6727 │ -73.5262 │ \u001b[90mmissing\u001b[39m  │\n",
       "│ 2   │ 0672-01D   │ 45.6823 │ -73.531  │ 9.12     │\n",
       "│ 3   │ 0672-02D   │ 45.6939 │ -73.5214 │ 10.23    │\n",
       "│ 4   │ 0672-03D   │ 45.6732 │ -73.5402 │ 9.99     │\n",
       "│ 5   │ 0801-01D   │ 45.519  │ -73.5275 │ 13.71    │\n",
       "│ 6   │ 0801-02D   │ 45.5174 │ -73.5281 │ 12.34    │\n",
       "│ 7   │ 0801-03D   │ 45.5081 │ -73.5273 │ 11.94    │\n",
       "│ 8   │ 0801-04D   │ 45.5029 │ -73.5238 │ 12.36    │\n",
       "│ 9   │ 0801-05D   │ 45.5173 │ -73.5312 │ 12.7     │\n",
       "│ 10  │ 0801-06D   │ 45.5187 │ -73.533  │ 18.66    │"
      ]
     },
     "execution_count": 14,
     "metadata": {},
     "output_type": "execute_result"
    }
   ],
   "source": [
    "features = CSV.read(\"data/ouvrages-surverses.csv\");\n",
    "colnames = [\"N_Env\", \"ID_SOMA\", \"ID_OUVRAGE\", \"NOM\", \"SOMA_SEC\", \"REGION\", \"TP_X\", \"TP_Y\", \"TP_Z\", \"TP_LAT\", \"TP_LNG\", \"EMI_X\", \"EMI_Y\", \"EMI_LNG\", \"EMI_LAT\"];\n",
    "names!(features, Symbol.(colnames));\n",
    "select!(features, [:ID_OUVRAGE, :TP_LAT, :TP_LNG, :TP_Z]);\n"
   ]
  },
  {
   "cell_type": "markdown",
   "metadata": {},
   "source": [
    "#### Replace missing Z index with mean"
   ]
  },
  {
   "cell_type": "code",
   "execution_count": 34,
   "metadata": {},
   "outputs": [
    {
     "data": {
      "text/html": [
       "<table class=\"data-frame\"><thead><tr><th></th><th>ID_OUVRAGE</th><th>TP_LAT</th><th>TP_LNG</th><th>TP_Z</th></tr><tr><th></th><th>String</th><th>Float64</th><th>Float64</th><th>Float64</th></tr></thead><tbody><p>10 rows × 4 columns</p><tr><th>1</th><td>0642-01D</td><td>45.6727</td><td>-73.5262</td><td>19.3526</td></tr><tr><th>2</th><td>0672-01D</td><td>45.6823</td><td>-73.531</td><td>9.12</td></tr><tr><th>3</th><td>0672-02D</td><td>45.6939</td><td>-73.5214</td><td>10.23</td></tr><tr><th>4</th><td>0672-03D</td><td>45.6732</td><td>-73.5402</td><td>9.99</td></tr><tr><th>5</th><td>0801-01D</td><td>45.519</td><td>-73.5275</td><td>13.71</td></tr><tr><th>6</th><td>0801-02D</td><td>45.5174</td><td>-73.5281</td><td>12.34</td></tr><tr><th>7</th><td>0801-03D</td><td>45.5081</td><td>-73.5273</td><td>11.94</td></tr><tr><th>8</th><td>0801-04D</td><td>45.5029</td><td>-73.5238</td><td>12.36</td></tr><tr><th>9</th><td>0801-05D</td><td>45.5173</td><td>-73.5312</td><td>12.7</td></tr><tr><th>10</th><td>0801-06D</td><td>45.5187</td><td>-73.533</td><td>18.66</td></tr></tbody></table>"
      ],
      "text/latex": [
       "\\begin{tabular}{r|cccc}\n",
       "\t& ID\\_OUVRAGE & TP\\_LAT & TP\\_LNG & TP\\_Z\\\\\n",
       "\t\\hline\n",
       "\t& String & Float64 & Float64 & Float64\\\\\n",
       "\t\\hline\n",
       "\t1 & 0642-01D & 45.6727 & -73.5262 & 19.3526 \\\\\n",
       "\t2 & 0672-01D & 45.6823 & -73.531 & 9.12 \\\\\n",
       "\t3 & 0672-02D & 45.6939 & -73.5214 & 10.23 \\\\\n",
       "\t4 & 0672-03D & 45.6732 & -73.5402 & 9.99 \\\\\n",
       "\t5 & 0801-01D & 45.519 & -73.5275 & 13.71 \\\\\n",
       "\t6 & 0801-02D & 45.5174 & -73.5281 & 12.34 \\\\\n",
       "\t7 & 0801-03D & 45.5081 & -73.5273 & 11.94 \\\\\n",
       "\t8 & 0801-04D & 45.5029 & -73.5238 & 12.36 \\\\\n",
       "\t9 & 0801-05D & 45.5173 & -73.5312 & 12.7 \\\\\n",
       "\t10 & 0801-06D & 45.5187 & -73.533 & 18.66 \\\\\n",
       "\\end{tabular}\n"
      ],
      "text/plain": [
       "10×4 DataFrame\n",
       "│ Row │ ID_OUVRAGE │ TP_LAT  │ TP_LNG   │ TP_Z    │\n",
       "│     │ \u001b[90mString\u001b[39m     │ \u001b[90mFloat64\u001b[39m │ \u001b[90mFloat64\u001b[39m  │ \u001b[90mFloat64\u001b[39m │\n",
       "├─────┼────────────┼─────────┼──────────┼─────────┤\n",
       "│ 1   │ 0642-01D   │ 45.6727 │ -73.5262 │ 19.3526 │\n",
       "│ 2   │ 0672-01D   │ 45.6823 │ -73.531  │ 9.12    │\n",
       "│ 3   │ 0672-02D   │ 45.6939 │ -73.5214 │ 10.23   │\n",
       "│ 4   │ 0672-03D   │ 45.6732 │ -73.5402 │ 9.99    │\n",
       "│ 5   │ 0801-01D   │ 45.519  │ -73.5275 │ 13.71   │\n",
       "│ 6   │ 0801-02D   │ 45.5174 │ -73.5281 │ 12.34   │\n",
       "│ 7   │ 0801-03D   │ 45.5081 │ -73.5273 │ 11.94   │\n",
       "│ 8   │ 0801-04D   │ 45.5029 │ -73.5238 │ 12.36   │\n",
       "│ 9   │ 0801-05D   │ 45.5173 │ -73.5312 │ 12.7    │\n",
       "│ 10  │ 0801-06D   │ 45.5187 │ -73.533  │ 18.66   │"
      ]
     },
     "execution_count": 34,
     "metadata": {},
     "output_type": "execute_result"
    }
   ],
   "source": [
    "features.TP_Z = coalesce.(features.TP_Z, mean(features[completecases(features), :].TP_Z));\n",
    "first(features, 10)"
   ]
  },
  {
   "cell_type": "markdown",
   "metadata": {},
   "source": [
    "### Load dates and surverses"
   ]
  },
  {
   "cell_type": "code",
   "execution_count": 22,
   "metadata": {},
   "outputs": [],
   "source": [
    "surverses = CSV.read(\"data/surverses.csv\",missingstring=\"-99999\");"
   ]
  },
  {
   "cell_type": "markdown",
   "metadata": {},
   "source": [
    "#### Filter months"
   ]
  },
  {
   "cell_type": "code",
   "execution_count": 24,
   "metadata": {},
   "outputs": [],
   "source": [
    "surverses = filter(row -> month(row.DATE) > 4, surverses);\n",
    "surverses = filter(row -> month(row.DATE) < 11, surverses);"
   ]
  },
  {
   "cell_type": "markdown",
   "metadata": {},
   "source": [
    "#### Filter non rain surverses"
   ]
  },
  {
   "cell_type": "code",
   "execution_count": 25,
   "metadata": {},
   "outputs": [],
   "source": [
    "raison = coalesce.(surverses[:,:RAISON],\"Inconnue\");\n",
    "surverses[!,:RAISON] = raison;\n",
    "\n",
    "surverses = filter(row -> row.RAISON ∈ [\"P\",\"Inconnue\",\"TS\"], surverses);\n",
    "select!(surverses, [:NO_OUVRAGE, :DATE, :SURVERSE]);"
   ]
  },
  {
   "cell_type": "markdown",
   "metadata": {},
   "source": [
    "#### Remove missing data and rename"
   ]
  },
  {
   "cell_type": "code",
   "execution_count": 31,
   "metadata": {},
   "outputs": [
    {
     "data": {
      "text/html": [
       "<table class=\"data-frame\"><thead><tr><th></th><th>ID_OUVRAGE</th><th>DATE</th><th>SURVERSE</th></tr><tr><th></th><th>String</th><th>Date</th><th>Int64</th></tr></thead><tbody><p>10 rows × 3 columns</p><tr><th>1</th><td>0642-01D</td><td>2013-05-01</td><td>0</td></tr><tr><th>2</th><td>0642-01D</td><td>2013-05-02</td><td>0</td></tr><tr><th>3</th><td>0642-01D</td><td>2013-05-03</td><td>0</td></tr><tr><th>4</th><td>0642-01D</td><td>2013-05-04</td><td>0</td></tr><tr><th>5</th><td>0642-01D</td><td>2013-05-05</td><td>0</td></tr><tr><th>6</th><td>0642-01D</td><td>2013-05-06</td><td>0</td></tr><tr><th>7</th><td>0642-01D</td><td>2013-05-07</td><td>0</td></tr><tr><th>8</th><td>0642-01D</td><td>2013-05-08</td><td>0</td></tr><tr><th>9</th><td>0642-01D</td><td>2013-05-09</td><td>0</td></tr><tr><th>10</th><td>0642-01D</td><td>2013-05-10</td><td>0</td></tr></tbody></table>"
      ],
      "text/latex": [
       "\\begin{tabular}{r|ccc}\n",
       "\t& ID\\_OUVRAGE & DATE & SURVERSE\\\\\n",
       "\t\\hline\n",
       "\t& String & Date & Int64\\\\\n",
       "\t\\hline\n",
       "\t1 & 0642-01D & 2013-05-01 & 0 \\\\\n",
       "\t2 & 0642-01D & 2013-05-02 & 0 \\\\\n",
       "\t3 & 0642-01D & 2013-05-03 & 0 \\\\\n",
       "\t4 & 0642-01D & 2013-05-04 & 0 \\\\\n",
       "\t5 & 0642-01D & 2013-05-05 & 0 \\\\\n",
       "\t6 & 0642-01D & 2013-05-06 & 0 \\\\\n",
       "\t7 & 0642-01D & 2013-05-07 & 0 \\\\\n",
       "\t8 & 0642-01D & 2013-05-08 & 0 \\\\\n",
       "\t9 & 0642-01D & 2013-05-09 & 0 \\\\\n",
       "\t10 & 0642-01D & 2013-05-10 & 0 \\\\\n",
       "\\end{tabular}\n"
      ],
      "text/plain": [
       "10×3 DataFrame\n",
       "│ Row │ ID_OUVRAGE │ DATE       │ SURVERSE │\n",
       "│     │ \u001b[90mString\u001b[39m     │ \u001b[90mDate\u001b[39m       │ \u001b[90mInt64\u001b[39m    │\n",
       "├─────┼────────────┼────────────┼──────────┤\n",
       "│ 1   │ 0642-01D   │ 2013-05-01 │ 0        │\n",
       "│ 2   │ 0642-01D   │ 2013-05-02 │ 0        │\n",
       "│ 3   │ 0642-01D   │ 2013-05-03 │ 0        │\n",
       "│ 4   │ 0642-01D   │ 2013-05-04 │ 0        │\n",
       "│ 5   │ 0642-01D   │ 2013-05-05 │ 0        │\n",
       "│ 6   │ 0642-01D   │ 2013-05-06 │ 0        │\n",
       "│ 7   │ 0642-01D   │ 2013-05-07 │ 0        │\n",
       "│ 8   │ 0642-01D   │ 2013-05-08 │ 0        │\n",
       "│ 9   │ 0642-01D   │ 2013-05-09 │ 0        │\n",
       "│ 10  │ 0642-01D   │ 2013-05-10 │ 0        │"
      ]
     },
     "execution_count": 31,
     "metadata": {},
     "output_type": "execute_result"
    }
   ],
   "source": [
    "surverses = dropmissing(surverses, disallowmissing=true);\n",
    "rename!(surverses, :NO_OUVRAGE => :ID_OUVRAGE);\n",
    "first(surverses,10)"
   ]
  },
  {
   "cell_type": "markdown",
   "metadata": {},
   "source": [
    "### Augment features with dates and label"
   ]
  },
  {
   "cell_type": "code",
   "execution_count": 32,
   "metadata": {},
   "outputs": [
    {
     "data": {
      "text/html": [
       "<table class=\"data-frame\"><thead><tr><th></th><th>ID_OUVRAGE</th><th>TP_LAT</th><th>TP_LNG</th><th>TP_Z</th><th>DATE</th><th>SURVERSE</th></tr><tr><th></th><th>String</th><th>Float64</th><th>Float64</th><th>Float64⍰</th><th>Date</th><th>Int64</th></tr></thead><tbody><p>10 rows × 6 columns</p><tr><th>1</th><td>0642-01D</td><td>45.6727</td><td>-73.5262</td><td>missing</td><td>2013-05-01</td><td>0</td></tr><tr><th>2</th><td>0642-01D</td><td>45.6727</td><td>-73.5262</td><td>missing</td><td>2013-05-02</td><td>0</td></tr><tr><th>3</th><td>0642-01D</td><td>45.6727</td><td>-73.5262</td><td>missing</td><td>2013-05-03</td><td>0</td></tr><tr><th>4</th><td>0642-01D</td><td>45.6727</td><td>-73.5262</td><td>missing</td><td>2013-05-04</td><td>0</td></tr><tr><th>5</th><td>0642-01D</td><td>45.6727</td><td>-73.5262</td><td>missing</td><td>2013-05-05</td><td>0</td></tr><tr><th>6</th><td>0642-01D</td><td>45.6727</td><td>-73.5262</td><td>missing</td><td>2013-05-06</td><td>0</td></tr><tr><th>7</th><td>0642-01D</td><td>45.6727</td><td>-73.5262</td><td>missing</td><td>2013-05-07</td><td>0</td></tr><tr><th>8</th><td>0642-01D</td><td>45.6727</td><td>-73.5262</td><td>missing</td><td>2013-05-08</td><td>0</td></tr><tr><th>9</th><td>0642-01D</td><td>45.6727</td><td>-73.5262</td><td>missing</td><td>2013-05-09</td><td>0</td></tr><tr><th>10</th><td>0642-01D</td><td>45.6727</td><td>-73.5262</td><td>missing</td><td>2013-05-10</td><td>0</td></tr></tbody></table>"
      ],
      "text/latex": [
       "\\begin{tabular}{r|cccccc}\n",
       "\t& ID\\_OUVRAGE & TP\\_LAT & TP\\_LNG & TP\\_Z & DATE & SURVERSE\\\\\n",
       "\t\\hline\n",
       "\t& String & Float64 & Float64 & Float64⍰ & Date & Int64\\\\\n",
       "\t\\hline\n",
       "\t1 & 0642-01D & 45.6727 & -73.5262 &  & 2013-05-01 & 0 \\\\\n",
       "\t2 & 0642-01D & 45.6727 & -73.5262 &  & 2013-05-02 & 0 \\\\\n",
       "\t3 & 0642-01D & 45.6727 & -73.5262 &  & 2013-05-03 & 0 \\\\\n",
       "\t4 & 0642-01D & 45.6727 & -73.5262 &  & 2013-05-04 & 0 \\\\\n",
       "\t5 & 0642-01D & 45.6727 & -73.5262 &  & 2013-05-05 & 0 \\\\\n",
       "\t6 & 0642-01D & 45.6727 & -73.5262 &  & 2013-05-06 & 0 \\\\\n",
       "\t7 & 0642-01D & 45.6727 & -73.5262 &  & 2013-05-07 & 0 \\\\\n",
       "\t8 & 0642-01D & 45.6727 & -73.5262 &  & 2013-05-08 & 0 \\\\\n",
       "\t9 & 0642-01D & 45.6727 & -73.5262 &  & 2013-05-09 & 0 \\\\\n",
       "\t10 & 0642-01D & 45.6727 & -73.5262 &  & 2013-05-10 & 0 \\\\\n",
       "\\end{tabular}\n"
      ],
      "text/plain": [
       "10×6 DataFrame\n",
       "│ Row │ ID_OUVRAGE │ TP_LAT  │ TP_LNG   │ TP_Z     │ DATE       │ SURVERSE │\n",
       "│     │ \u001b[90mString\u001b[39m     │ \u001b[90mFloat64\u001b[39m │ \u001b[90mFloat64\u001b[39m  │ \u001b[90mFloat64⍰\u001b[39m │ \u001b[90mDate\u001b[39m       │ \u001b[90mInt64\u001b[39m    │\n",
       "├─────┼────────────┼─────────┼──────────┼──────────┼────────────┼──────────┤\n",
       "│ 1   │ 0642-01D   │ 45.6727 │ -73.5262 │ \u001b[90mmissing\u001b[39m  │ 2013-05-01 │ 0        │\n",
       "│ 2   │ 0642-01D   │ 45.6727 │ -73.5262 │ \u001b[90mmissing\u001b[39m  │ 2013-05-02 │ 0        │\n",
       "│ 3   │ 0642-01D   │ 45.6727 │ -73.5262 │ \u001b[90mmissing\u001b[39m  │ 2013-05-03 │ 0        │\n",
       "│ 4   │ 0642-01D   │ 45.6727 │ -73.5262 │ \u001b[90mmissing\u001b[39m  │ 2013-05-04 │ 0        │\n",
       "│ 5   │ 0642-01D   │ 45.6727 │ -73.5262 │ \u001b[90mmissing\u001b[39m  │ 2013-05-05 │ 0        │\n",
       "│ 6   │ 0642-01D   │ 45.6727 │ -73.5262 │ \u001b[90mmissing\u001b[39m  │ 2013-05-06 │ 0        │\n",
       "│ 7   │ 0642-01D   │ 45.6727 │ -73.5262 │ \u001b[90mmissing\u001b[39m  │ 2013-05-07 │ 0        │\n",
       "│ 8   │ 0642-01D   │ 45.6727 │ -73.5262 │ \u001b[90mmissing\u001b[39m  │ 2013-05-08 │ 0        │\n",
       "│ 9   │ 0642-01D   │ 45.6727 │ -73.5262 │ \u001b[90mmissing\u001b[39m  │ 2013-05-09 │ 0        │\n",
       "│ 10  │ 0642-01D   │ 45.6727 │ -73.5262 │ \u001b[90mmissing\u001b[39m  │ 2013-05-10 │ 0        │"
      ]
     },
     "execution_count": 32,
     "metadata": {},
     "output_type": "execute_result"
    }
   ],
   "source": [
    "comb = join(features, surverses, on = :ID_OUVRAGE);\n",
    "first(comb, 10)"
   ]
  },
  {
   "cell_type": "markdown",
   "metadata": {},
   "source": [
    "### Load precipitation data"
   ]
  },
  {
   "cell_type": "markdown",
   "metadata": {},
   "source": [
    "#### Load and filter months between May & October included"
   ]
  },
  {
   "cell_type": "code",
   "execution_count": 28,
   "metadata": {},
   "outputs": [],
   "source": [
    "precipitation = CSV.read(\"data/precipitations.csv\",missingstring=\"-99999\");\n",
    "rename!(precipitation, Symbol(\"St-Hubert\")=>:StHubert);\n",
    "\n",
    "precipitation = filter(row -> month(row.date) > 4, precipitation);\n",
    "precipitation = filter(row -> month(row.date) < 11, precipitation); \n",
    "# first(precipitation, 5)"
   ]
  },
  {
   "cell_type": "markdown",
   "metadata": {},
   "source": [
    "#### Replace missing data by 0"
   ]
  },
  {
   "cell_type": "code",
   "execution_count": 29,
   "metadata": {},
   "outputs": [
    {
     "data": {
      "text/html": [
       "<table class=\"data-frame\"><thead><tr><th></th><th>date</th><th>heure</th><th>McTavish</th><th>Bellevue</th><th>Assomption</th><th>Trudeau</th><th>StHubert</th></tr><tr><th></th><th>Date</th><th>Int64</th><th>Int64</th><th>Int64</th><th>Int64</th><th>Int64</th><th>Int64</th></tr></thead><tbody><p>5 rows × 7 columns</p><tr><th>1</th><td>2013-05-01</td><td>0</td><td>0</td><td>0</td><td>0</td><td>0</td><td>0</td></tr><tr><th>2</th><td>2013-05-01</td><td>1</td><td>0</td><td>0</td><td>0</td><td>0</td><td>0</td></tr><tr><th>3</th><td>2013-05-01</td><td>2</td><td>0</td><td>0</td><td>0</td><td>0</td><td>0</td></tr><tr><th>4</th><td>2013-05-01</td><td>3</td><td>0</td><td>0</td><td>0</td><td>0</td><td>0</td></tr><tr><th>5</th><td>2013-05-01</td><td>4</td><td>0</td><td>0</td><td>0</td><td>0</td><td>0</td></tr></tbody></table>"
      ],
      "text/latex": [
       "\\begin{tabular}{r|ccccccc}\n",
       "\t& date & heure & McTavish & Bellevue & Assomption & Trudeau & StHubert\\\\\n",
       "\t\\hline\n",
       "\t& Date & Int64 & Int64 & Int64 & Int64 & Int64 & Int64\\\\\n",
       "\t\\hline\n",
       "\t1 & 2013-05-01 & 0 & 0 & 0 & 0 & 0 & 0 \\\\\n",
       "\t2 & 2013-05-01 & 1 & 0 & 0 & 0 & 0 & 0 \\\\\n",
       "\t3 & 2013-05-01 & 2 & 0 & 0 & 0 & 0 & 0 \\\\\n",
       "\t4 & 2013-05-01 & 3 & 0 & 0 & 0 & 0 & 0 \\\\\n",
       "\t5 & 2013-05-01 & 4 & 0 & 0 & 0 & 0 & 0 \\\\\n",
       "\\end{tabular}\n"
      ],
      "text/plain": [
       "5×7 DataFrame. Omitted printing of 1 columns\n",
       "│ Row │ date       │ heure │ McTavish │ Bellevue │ Assomption │ Trudeau │\n",
       "│     │ \u001b[90mDate\u001b[39m       │ \u001b[90mInt64\u001b[39m │ \u001b[90mInt64\u001b[39m    │ \u001b[90mInt64\u001b[39m    │ \u001b[90mInt64\u001b[39m      │ \u001b[90mInt64\u001b[39m   │\n",
       "├─────┼────────────┼───────┼──────────┼──────────┼────────────┼─────────┤\n",
       "│ 1   │ 2013-05-01 │ 0     │ 0        │ 0        │ 0          │ 0       │\n",
       "│ 2   │ 2013-05-01 │ 1     │ 0        │ 0        │ 0          │ 0       │\n",
       "│ 3   │ 2013-05-01 │ 2     │ 0        │ 0        │ 0          │ 0       │\n",
       "│ 4   │ 2013-05-01 │ 3     │ 0        │ 0        │ 0          │ 0       │\n",
       "│ 5   │ 2013-05-01 │ 4     │ 0        │ 0        │ 0          │ 0       │"
      ]
     },
     "execution_count": 29,
     "metadata": {},
     "output_type": "execute_result"
    }
   ],
   "source": [
    "precipitation[!,:McTavish] = coalesce.(precipitation[:,:McTavish], 0);\n",
    "precipitation[!,:Bellevue] = coalesce.(precipitation[:,:Bellevue], 0);\n",
    "precipitation[!,:Assomption] = coalesce.(precipitation[:,:Assomption], 0);\n",
    "precipitation[!,:Trudeau] = coalesce.(precipitation[:,:Trudeau], 0);\n",
    "precipitation[!,:StHubert] = coalesce.(precipitation[:,:StHubert], 0);\n",
    "\n",
    "first(precipitation, 5)"
   ]
  },
  {
   "cell_type": "markdown",
   "metadata": {},
   "source": [
    "### Extract features from precipitation"
   ]
  },
  {
   "cell_type": "markdown",
   "metadata": {},
   "source": [
    "#### Sum of precipitation for the day"
   ]
  },
  {
   "cell_type": "code",
   "execution_count": 18,
   "metadata": {
    "scrolled": true
   },
   "outputs": [
    {
     "data": {
      "text/html": [
       "<table class=\"data-frame\"><thead><tr><th></th><th>date</th><th>McTavish</th><th>Bellevue</th><th>Assomption</th><th>Trudeau</th><th>StHubert</th></tr><tr><th></th><th>Date</th><th>Int64</th><th>Int64</th><th>Int64</th><th>Int64</th><th>Int64</th></tr></thead><tbody><p>5 rows × 6 columns</p><tr><th>1</th><td>2013-05-01</td><td>0</td><td>0</td><td>0</td><td>0</td><td>0</td></tr><tr><th>2</th><td>2013-05-02</td><td>0</td><td>0</td><td>0</td><td>0</td><td>0</td></tr><tr><th>3</th><td>2013-05-03</td><td>0</td><td>0</td><td>0</td><td>0</td><td>0</td></tr><tr><th>4</th><td>2013-05-04</td><td>0</td><td>0</td><td>0</td><td>0</td><td>0</td></tr><tr><th>5</th><td>2013-05-05</td><td>0</td><td>0</td><td>0</td><td>0</td><td>0</td></tr></tbody></table>"
      ],
      "text/latex": [
       "\\begin{tabular}{r|cccccc}\n",
       "\t& date & McTavish & Bellevue & Assomption & Trudeau & StHubert\\\\\n",
       "\t\\hline\n",
       "\t& Date & Int64 & Int64 & Int64 & Int64 & Int64\\\\\n",
       "\t\\hline\n",
       "\t1 & 2013-05-01 & 0 & 0 & 0 & 0 & 0 \\\\\n",
       "\t2 & 2013-05-02 & 0 & 0 & 0 & 0 & 0 \\\\\n",
       "\t3 & 2013-05-03 & 0 & 0 & 0 & 0 & 0 \\\\\n",
       "\t4 & 2013-05-04 & 0 & 0 & 0 & 0 & 0 \\\\\n",
       "\t5 & 2013-05-05 & 0 & 0 & 0 & 0 & 0 \\\\\n",
       "\\end{tabular}\n"
      ],
      "text/plain": [
       "5×6 DataFrame\n",
       "│ Row │ date       │ McTavish │ Bellevue │ Assomption │ Trudeau │ StHubert │\n",
       "│     │ \u001b[90mDate\u001b[39m       │ \u001b[90mInt64\u001b[39m    │ \u001b[90mInt64\u001b[39m    │ \u001b[90mInt64\u001b[39m      │ \u001b[90mInt64\u001b[39m   │ \u001b[90mInt64\u001b[39m    │\n",
       "├─────┼────────────┼──────────┼──────────┼────────────┼─────────┼──────────┤\n",
       "│ 1   │ 2013-05-01 │ 0        │ 0        │ 0          │ 0       │ 0        │\n",
       "│ 2   │ 2013-05-02 │ 0        │ 0        │ 0          │ 0       │ 0        │\n",
       "│ 3   │ 2013-05-03 │ 0        │ 0        │ 0          │ 0       │ 0        │\n",
       "│ 4   │ 2013-05-04 │ 0        │ 0        │ 0          │ 0       │ 0        │\n",
       "│ 5   │ 2013-05-05 │ 0        │ 0        │ 0          │ 0       │ 0        │"
      ]
     },
     "execution_count": 18,
     "metadata": {},
     "output_type": "execute_result"
    }
   ],
   "source": [
    "pcp_sum = by(precipitation, :date,  McTavish = :McTavish=>sum, Bellevue = :Bellevue=>sum, \n",
    "   Assomption = :Assomption=>sum, Trudeau = :Trudeau=>sum, StHubert = :StHubert=>sum);\n",
    "first(pcp_sum, 5)"
   ]
  },
  {
   "cell_type": "markdown",
   "metadata": {},
   "source": [
    "#### Maximum precipitation in an hour for the day"
   ]
  },
  {
   "cell_type": "code",
   "execution_count": 20,
   "metadata": {},
   "outputs": [
    {
     "data": {
      "text/html": [
       "<table class=\"data-frame\"><thead><tr><th></th><th>date</th><th>McTavish</th><th>Bellevue</th><th>Assomption</th><th>Trudeau</th><th>StHubert</th></tr><tr><th></th><th>Date</th><th>Int64</th><th>Int64</th><th>Int64</th><th>Int64</th><th>Int64</th></tr></thead><tbody><p>5 rows × 6 columns</p><tr><th>1</th><td>2013-05-01</td><td>0</td><td>0</td><td>0</td><td>0</td><td>0</td></tr><tr><th>2</th><td>2013-05-02</td><td>0</td><td>0</td><td>0</td><td>0</td><td>0</td></tr><tr><th>3</th><td>2013-05-03</td><td>0</td><td>0</td><td>0</td><td>0</td><td>0</td></tr><tr><th>4</th><td>2013-05-04</td><td>0</td><td>0</td><td>0</td><td>0</td><td>0</td></tr><tr><th>5</th><td>2013-05-05</td><td>0</td><td>0</td><td>0</td><td>0</td><td>0</td></tr></tbody></table>"
      ],
      "text/latex": [
       "\\begin{tabular}{r|cccccc}\n",
       "\t& date & McTavish & Bellevue & Assomption & Trudeau & StHubert\\\\\n",
       "\t\\hline\n",
       "\t& Date & Int64 & Int64 & Int64 & Int64 & Int64\\\\\n",
       "\t\\hline\n",
       "\t1 & 2013-05-01 & 0 & 0 & 0 & 0 & 0 \\\\\n",
       "\t2 & 2013-05-02 & 0 & 0 & 0 & 0 & 0 \\\\\n",
       "\t3 & 2013-05-03 & 0 & 0 & 0 & 0 & 0 \\\\\n",
       "\t4 & 2013-05-04 & 0 & 0 & 0 & 0 & 0 \\\\\n",
       "\t5 & 2013-05-05 & 0 & 0 & 0 & 0 & 0 \\\\\n",
       "\\end{tabular}\n"
      ],
      "text/plain": [
       "5×6 DataFrame\n",
       "│ Row │ date       │ McTavish │ Bellevue │ Assomption │ Trudeau │ StHubert │\n",
       "│     │ \u001b[90mDate\u001b[39m       │ \u001b[90mInt64\u001b[39m    │ \u001b[90mInt64\u001b[39m    │ \u001b[90mInt64\u001b[39m      │ \u001b[90mInt64\u001b[39m   │ \u001b[90mInt64\u001b[39m    │\n",
       "├─────┼────────────┼──────────┼──────────┼────────────┼─────────┼──────────┤\n",
       "│ 1   │ 2013-05-01 │ 0        │ 0        │ 0          │ 0       │ 0        │\n",
       "│ 2   │ 2013-05-02 │ 0        │ 0        │ 0          │ 0       │ 0        │\n",
       "│ 3   │ 2013-05-03 │ 0        │ 0        │ 0          │ 0       │ 0        │\n",
       "│ 4   │ 2013-05-04 │ 0        │ 0        │ 0          │ 0       │ 0        │\n",
       "│ 5   │ 2013-05-05 │ 0        │ 0        │ 0          │ 0       │ 0        │"
      ]
     },
     "execution_count": 20,
     "metadata": {},
     "output_type": "execute_result"
    }
   ],
   "source": [
    "pcp_max = by(precipitation, :date,  McTavish = :McTavish=>maximum, Bellevue = :Bellevue=>maximum, \n",
    "   Assomption = :Assomption=>maximum, Trudeau = :Trudeau=>maximum, StHubert = :StHubert=>maximum)\n",
    "first(pcp_max,5)"
   ]
  }
 ],
 "metadata": {
  "kernelspec": {
   "display_name": "Julia 1.2.0",
   "language": "julia",
   "name": "julia-1.2"
  },
  "language_info": {
   "file_extension": ".jl",
   "mimetype": "application/julia",
   "name": "julia",
   "version": "1.0.5"
  }
 },
 "nbformat": 4,
 "nbformat_minor": 2
}
