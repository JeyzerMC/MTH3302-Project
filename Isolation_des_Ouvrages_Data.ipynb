{
 "cells": [
  {
   "cell_type": "code",
   "execution_count": 1,
   "metadata": {},
   "outputs": [
    {
     "name": "stderr",
     "output_type": "stream",
     "text": [
      "┌ Info: Loading DataFrames support into Gadfly.jl\n",
      "└ @ Gadfly /home/chaime/.julia/packages/Gadfly/09PWZ/src/mapping.jl:228\n"
     ]
    }
   ],
   "source": [
    "using CSV, DataFrames, Statistics, Dates, Gadfly, Random;\n",
    "include(\"utils/precipitation.jl\");"
   ]
  },
  {
   "cell_type": "markdown",
   "metadata": {},
   "source": [
    "On garde les ouvrages d'intérêt."
   ]
  },
  {
   "cell_type": "code",
   "execution_count": 3,
   "metadata": {},
   "outputs": [
    {
     "name": "stderr",
     "output_type": "stream",
     "text": [
      "┌ Warning: `names!(df::AbstractDataFrame, vals::Vector{Symbol}; makeunique::Bool=false)` is deprecated, use `rename!(df, vals, makeunique=makeunique)` instead.\n",
      "│   caller = top-level scope at In[3]:3\n",
      "└ @ Core In[3]:3\n"
     ]
    }
   ],
   "source": [
    "ouvrages = CSV.read(\"data/ouvrages-surverses.csv\");\n",
    "colnames = [\"N_Env\", \"ID_SOMA\", \"ID_OUVRAGE\", \"NOM\", \"SOMA_SEC\", \"REGION\", \"TP_X\", \"TP_Y\", \"TP_Z\", \"TP_LAT\", \"TP_LNG\", \"EMI_X\", \"EMI_Y\", \"EMI_LNG\", \"EMI_LAT\"];\n",
    "names!(ouvrages, Symbol.(colnames));\n",
    "select!(ouvrages, [:ID_OUVRAGE, :TP_LAT, :TP_LNG]);"
   ]
  },
  {
   "cell_type": "code",
   "execution_count": 4,
   "metadata": {},
   "outputs": [
    {
     "data": {
      "text/plain": [
       "(167, 3)"
      ]
     },
     "execution_count": 4,
     "metadata": {},
     "output_type": "execute_result"
    }
   ],
   "source": [
    "size(ouvrages)"
   ]
  },
  {
   "cell_type": "code",
   "execution_count": 5,
   "metadata": {},
   "outputs": [],
   "source": [
    "important_ouvrages = [\"3260-01D\", \"3350-07D\", \"4240-01D\", \"4350-01D\", \"4380-01D\"];\n",
    "ouvrages = filter(row -> row.ID_OUVRAGE ∈ important_ouvrages, ouvrages);"
   ]
  },
  {
   "cell_type": "code",
   "execution_count": 6,
   "metadata": {},
   "outputs": [
    {
     "data": {
      "text/html": [
       "<table class=\"data-frame\"><thead><tr><th></th><th>ID_OUVRAGE</th><th>TP_LAT</th><th>TP_LNG</th></tr><tr><th></th><th>String</th><th>Float64</th><th>Float64</th></tr></thead><tbody><p>5 rows × 3 columns</p><tr><th>1</th><td>3260-01D</td><td>45.6507</td><td>-73.5803</td></tr><tr><th>2</th><td>3350-07D</td><td>45.5461</td><td>-73.6921</td></tr><tr><th>3</th><td>4240-01D</td><td>45.6497</td><td>-73.4877</td></tr><tr><th>4</th><td>4350-01D</td><td>45.4991</td><td>-73.555</td></tr><tr><th>5</th><td>4380-01D</td><td>45.4677</td><td>-73.5637</td></tr></tbody></table>"
      ],
      "text/latex": [
       "\\begin{tabular}{r|ccc}\n",
       "\t& ID\\_OUVRAGE & TP\\_LAT & TP\\_LNG\\\\\n",
       "\t\\hline\n",
       "\t& String & Float64 & Float64\\\\\n",
       "\t\\hline\n",
       "\t1 & 3260-01D & 45.6507 & -73.5803 \\\\\n",
       "\t2 & 3350-07D & 45.5461 & -73.6921 \\\\\n",
       "\t3 & 4240-01D & 45.6497 & -73.4877 \\\\\n",
       "\t4 & 4350-01D & 45.4991 & -73.555 \\\\\n",
       "\t5 & 4380-01D & 45.4677 & -73.5637 \\\\\n",
       "\\end{tabular}\n"
      ],
      "text/plain": [
       "5×3 DataFrame\n",
       "│ Row │ ID_OUVRAGE │ TP_LAT  │ TP_LNG   │\n",
       "│     │ \u001b[90mString\u001b[39m     │ \u001b[90mFloat64\u001b[39m │ \u001b[90mFloat64\u001b[39m  │\n",
       "├─────┼────────────┼─────────┼──────────┤\n",
       "│ 1   │ 3260-01D   │ 45.6507 │ -73.5803 │\n",
       "│ 2   │ 3350-07D   │ 45.5461 │ -73.6921 │\n",
       "│ 3   │ 4240-01D   │ 45.6497 │ -73.4877 │\n",
       "│ 4   │ 4350-01D   │ 45.4991 │ -73.555  │\n",
       "│ 5   │ 4380-01D   │ 45.4677 │ -73.5637 │"
      ]
     },
     "execution_count": 6,
     "metadata": {},
     "output_type": "execute_result"
    }
   ],
   "source": [
    "first(ouvrages, 10)"
   ]
  },
  {
   "cell_type": "code",
   "execution_count": 7,
   "metadata": {},
   "outputs": [],
   "source": [
    "surverses = CSV.read(\"data/surverses.csv\", missingstring=\"-99999\");\n",
    "surverses = filter(row -> month(row.DATE) > 4, surverses);\n",
    "surverses = filter(row -> month(row.DATE) < 11, surverses);\n",
    "surverses[!,:RAISON] = coalesce.(surverses[:,:RAISON],\"Inconnue\");\n",
    "\n",
    "surverses = filter(row -> row.RAISON ∈ [\"P\",\"Inconnue\",\"TS\"], surverses);\n",
    "select!(surverses, [:NO_OUVRAGE, :DATE, :SURVERSE]);\n",
    "rename!(surverses, :NO_OUVRAGE => :ID_OUVRAGE);"
   ]
  },
  {
   "cell_type": "code",
   "execution_count": 8,
   "metadata": {},
   "outputs": [],
   "source": [
    "surverses = filter(row -> row.ID_OUVRAGE ∈ important_ouvrages, surverses);\n",
    "dropmissing!(surverses);"
   ]
  },
  {
   "cell_type": "code",
   "execution_count": 9,
   "metadata": {},
   "outputs": [
    {
     "name": "stdout",
     "output_type": "stream",
     "text": [
      "Summary Stats:\n",
      "Length:         5129\n",
      "Missing Count:  0\n",
      "Mean:           0.085202\n",
      "Minimum:        0.000000\n",
      "1st Quartile:   0.000000\n",
      "Median:         0.000000\n",
      "3rd Quartile:   0.000000\n",
      "Maximum:        1.000000\n",
      "Type:           Int64\n"
     ]
    }
   ],
   "source": [
    "describe(surverses[!, :SURVERSE])"
   ]
  },
  {
   "cell_type": "code",
   "execution_count": 10,
   "metadata": {},
   "outputs": [
    {
     "name": "stdout",
     "output_type": "stream",
     "text": [
      "Summary Stats:\n",
      "Length:         1100\n",
      "Missing Count:  0\n",
      "Mean:           0.062727\n",
      "Minimum:        0.000000\n",
      "1st Quartile:   0.000000\n",
      "Median:         0.000000\n",
      "3rd Quartile:   0.000000\n",
      "Maximum:        1.000000\n",
      "Type:           Int64\n"
     ]
    }
   ],
   "source": [
    "curr = filter(row -> row.ID_OUVRAGE == important_ouvrages[3], surverses);\n",
    "describe(curr[!, :SURVERSE])"
   ]
  },
  {
   "cell_type": "markdown",
   "metadata": {},
   "source": [
    "Le mean correspond au taux de surverses ici -> Beaucoup plus de non surverses que de surverses"
   ]
  },
  {
   "cell_type": "markdown",
   "metadata": {},
   "source": [
    "### Beaucoup plus de 0 que de 1 -> Class imbalance problem\n",
    "On le solve avec du over sampling de 1 et du under sampling de 0, plus tard"
   ]
  },
  {
   "cell_type": "markdown",
   "metadata": {},
   "source": [
    "## Précipitations"
   ]
  },
  {
   "cell_type": "code",
   "execution_count": 11,
   "metadata": {},
   "outputs": [
    {
     "data": {
      "text/plain": [
       "7-element Array{Symbol,1}:\n",
       " :date      \n",
       " :heure     \n",
       " :McTavish  \n",
       " :Bellevue  \n",
       " :Assomption\n",
       " :Trudeau   \n",
       " :StHubert  "
      ]
     },
     "execution_count": 11,
     "metadata": {},
     "output_type": "execute_result"
    }
   ],
   "source": [
    "precipitations = CSV.read(\"data/precipitations.csv\",missingstring=\"-99999\");\n",
    "rename!(precipitations, Symbol(\"St-Hubert\")=>:StHubert);\n",
    "\n",
    "precipitations = filter(row -> month(row.date) > 4, precipitations);\n",
    "precipitations = filter(row -> month(row.date) < 11, precipitations); \n",
    "names(precipitations)"
   ]
  },
  {
   "cell_type": "code",
   "execution_count": 12,
   "metadata": {
    "scrolled": true
   },
   "outputs": [
    {
     "name": "stdout",
     "output_type": "stream",
     "text": [
      "Summary Stats:\n",
      "Length:         30912\n",
      "Missing Count:  5206\n",
      "Mean:           1.223683\n",
      "Minimum:        0.000000\n",
      "1st Quartile:   0.000000\n",
      "Median:         0.000000\n",
      "3rd Quartile:   0.000000\n",
      "Maximum:        307.000000\n",
      "Type:           Union{Missing, Int64}\n"
     ]
    }
   ],
   "source": [
    "describe(precipitations[!, :StHubert])"
   ]
  },
  {
   "cell_type": "markdown",
   "metadata": {},
   "source": [
    "### Traitement des données abérantes"
   ]
  },
  {
   "cell_type": "code",
   "execution_count": 13,
   "metadata": {},
   "outputs": [
    {
     "data": {
      "text/html": [
       "<table class=\"data-frame\"><thead><tr><th></th><th>date</th><th>heure</th><th>McTavish</th><th>Bellevue</th><th>Assomption</th><th>Trudeau</th><th>StHubert</th></tr><tr><th></th><th>Date</th><th>Int64</th><th>Int64⍰</th><th>Int64⍰</th><th>Int64⍰</th><th>Int64⍰</th><th>Int64⍰</th></tr></thead><tbody><p>1 rows × 7 columns</p><tr><th>1</th><td>2013-10-10</td><td>13</td><td>2082</td><td>0</td><td>0</td><td>0</td><td>missing</td></tr></tbody></table>"
      ],
      "text/latex": [
       "\\begin{tabular}{r|ccccccc}\n",
       "\t& date & heure & McTavish & Bellevue & Assomption & Trudeau & StHubert\\\\\n",
       "\t\\hline\n",
       "\t& Date & Int64 & Int64⍰ & Int64⍰ & Int64⍰ & Int64⍰ & Int64⍰\\\\\n",
       "\t\\hline\n",
       "\t1 & 2013-10-10 & 13 & 2082 & 0 & 0 & 0 &  \\\\\n",
       "\\end{tabular}\n"
      ],
      "text/plain": [
       "1×7 DataFrame. Omitted printing of 1 columns\n",
       "│ Row │ date       │ heure │ McTavish │ Bellevue │ Assomption │ Trudeau │\n",
       "│     │ \u001b[90mDate\u001b[39m       │ \u001b[90mInt64\u001b[39m │ \u001b[90mInt64⍰\u001b[39m   │ \u001b[90mInt64⍰\u001b[39m   │ \u001b[90mInt64⍰\u001b[39m     │ \u001b[90mInt64⍰\u001b[39m  │\n",
       "├─────┼────────────┼───────┼──────────┼──────────┼────────────┼─────────┤\n",
       "│ 1   │ 2013-10-10 │ 13    │ 2082     │ 0        │ 0          │ 0       │"
      ]
     },
     "execution_count": 13,
     "metadata": {},
     "output_type": "execute_result"
    }
   ],
   "source": [
    "idx_outliers = precipitations[!, :McTavish] .> 2000;\n",
    "idx_outliers[isequal.(idx_outliers, missing)] .= false;\n",
    "idx_outliers = convert(Array{Bool, 1}, idx_outliers);\n",
    "\n",
    "date_outlier = precipitations[idx_outliers, :date];\n",
    "precipitations[idx_outliers, :]"
   ]
  },
  {
   "cell_type": "code",
   "execution_count": 14,
   "metadata": {},
   "outputs": [
    {
     "data": {
      "text/html": [
       "<table class=\"data-frame\"><thead><tr><th></th><th>date</th><th>heure</th><th>McTavish</th><th>Bellevue</th><th>Assomption</th><th>Trudeau</th><th>StHubert</th></tr><tr><th></th><th>Date</th><th>Int64</th><th>Int64⍰</th><th>Int64⍰</th><th>Int64⍰</th><th>Int64⍰</th><th>Int64⍰</th></tr></thead><tbody><p>1 rows × 7 columns</p><tr><th>1</th><td>2013-10-10</td><td>13</td><td>0</td><td>0</td><td>0</td><td>0</td><td>0</td></tr></tbody></table>"
      ],
      "text/latex": [
       "\\begin{tabular}{r|ccccccc}\n",
       "\t& date & heure & McTavish & Bellevue & Assomption & Trudeau & StHubert\\\\\n",
       "\t\\hline\n",
       "\t& Date & Int64 & Int64⍰ & Int64⍰ & Int64⍰ & Int64⍰ & Int64⍰\\\\\n",
       "\t\\hline\n",
       "\t1 & 2013-10-10 & 13 & 0 & 0 & 0 & 0 & 0 \\\\\n",
       "\\end{tabular}\n"
      ],
      "text/plain": [
       "1×7 DataFrame. Omitted printing of 1 columns\n",
       "│ Row │ date       │ heure │ McTavish │ Bellevue │ Assomption │ Trudeau │\n",
       "│     │ \u001b[90mDate\u001b[39m       │ \u001b[90mInt64\u001b[39m │ \u001b[90mInt64⍰\u001b[39m   │ \u001b[90mInt64⍰\u001b[39m   │ \u001b[90mInt64⍰\u001b[39m     │ \u001b[90mInt64⍰\u001b[39m  │\n",
       "├─────┼────────────┼───────┼──────────┼──────────┼────────────┼─────────┤\n",
       "│ 1   │ 2013-10-10 │ 13    │ 0        │ 0        │ 0          │ 0       │"
      ]
     },
     "execution_count": 14,
     "metadata": {},
     "output_type": "execute_result"
    }
   ],
   "source": [
    "precipitations[idx_outliers, :McTavish] .= 0;\n",
    "precipitations[idx_outliers, :StHubert] .= 0;\n",
    "precipitations[idx_outliers, :]"
   ]
  },
  {
   "cell_type": "code",
   "execution_count": 16,
   "metadata": {},
   "outputs": [],
   "source": [
    "precipitations[precipitations.date .== Date(2017, 7, 20), :Bellevue] .= 0;\n",
    "precipitations[precipitations.date .== Date(2017, 7, 20), :Trudeau] .= 0; # VOIR SI GARDER LUI\n",
    "\n",
    "precipitations[precipitations.date .== Date(2013, 6, 24), :Assomption] .= 0;\n",
    "precipitations[precipitations.date .== Date(2014, 8, 5), :Assomption] .= 0;\n",
    "precipitations[precipitations.date .== Date(2015, 6, 10), :Assomption] .= 0;\n",
    "precipitations[precipitations.date .== Date(2018, 7, 26), :Trudeau] .= 0;"
   ]
  },
  {
   "cell_type": "markdown",
   "metadata": {},
   "source": [
    "### Traitement des données manquantes"
   ]
  },
  {
   "cell_type": "code",
   "execution_count": 17,
   "metadata": {},
   "outputs": [],
   "source": [
    "precipitation_by_day = by(precipitations, :date,  \n",
    "                            McTavish = :McTavish=>mean_wo_missing, \n",
    "                            Bellevue = :Bellevue=>mean_wo_missing, \n",
    "                            Assomption = :Assomption=>mean_wo_missing,\n",
    "                            Trudeau = :Trudeau=>mean_wo_missing,\n",
    "                            StHubert = :StHubert=>mean_wo_missing)\n",
    "\n",
    "for i=1:size(precipitations,1)\n",
    "    if isequal(precipitations[i, :McTavish], missing)\n",
    "        precipitations[i,:McTavish] = filter(row-> row.date == precipitations[i,:date], precipitation_by_day)[!,:McTavish][1]\n",
    "    end\n",
    "    if isequal(precipitations[i, :Bellevue], missing)\n",
    "        precipitations[i,:Bellevue] = filter(row-> row.date == precipitations[i,:date], precipitation_by_day)[!,:Bellevue][1]\n",
    "    end\n",
    "    if isequal(precipitations[i, :Assomption], missing)\n",
    "        precipitations[i,:Assomption] = filter(row-> row.date == precipitations[i,:date], precipitation_by_day)[!,:Assomption][1]\n",
    "    end\n",
    "    if isequal(precipitations[i, :Trudeau], missing)\n",
    "        precipitations[i,:Trudeau] = filter(row-> row.date == precipitations[i,:date], precipitation_by_day)[!,:Trudeau][1]\n",
    "    end\n",
    "    if isequal(precipitations[i, :StHubert], missing)\n",
    "        precipitations[i,:StHubert] = filter(row-> row.date == precipitations[i,:date], precipitation_by_day)[!,:StHubert][1]\n",
    "    end\n",
    "end"
   ]
  },
  {
   "cell_type": "code",
   "execution_count": 18,
   "metadata": {},
   "outputs": [
    {
     "name": "stdout",
     "output_type": "stream",
     "text": [
      "Summary Stats:\n",
      "Length:         30912\n",
      "Missing Count:  0\n",
      "Mean:           1.018957\n",
      "Minimum:        0.000000\n",
      "1st Quartile:   0.000000\n",
      "Median:         0.000000\n",
      "3rd Quartile:   0.000000\n",
      "Maximum:        307.000000\n",
      "Type:           Union{Missing, Int64}\n"
     ]
    }
   ],
   "source": [
    "describe(precipitations[!, :StHubert])"
   ]
  },
  {
   "cell_type": "code",
   "execution_count": 20,
   "metadata": {},
   "outputs": [
    {
     "data": {
      "text/html": [
       "<table class=\"data-frame\"><thead><tr><th></th><th>date</th><th>heure</th><th>McTavish</th><th>Bellevue</th><th>Assomption</th><th>Trudeau</th><th>StHubert</th></tr><tr><th></th><th>Date</th><th>Int64</th><th>Int64⍰</th><th>Int64⍰</th><th>Int64⍰</th><th>Int64⍰</th><th>Int64⍰</th></tr></thead><tbody><p>10 rows × 7 columns</p><tr><th>1</th><td>2017-08-24</td><td>13</td><td>0</td><td>0</td><td>0</td><td>0</td><td>0</td></tr><tr><th>2</th><td>2018-10-04</td><td>18</td><td>0</td><td>0</td><td>0</td><td>0</td><td>0</td></tr><tr><th>3</th><td>2015-05-21</td><td>20</td><td>0</td><td>0</td><td>0</td><td>0</td><td>0</td></tr><tr><th>4</th><td>2014-10-17</td><td>7</td><td>0</td><td>0</td><td>0</td><td>0</td><td>0</td></tr><tr><th>5</th><td>2015-06-20</td><td>13</td><td>0</td><td>0</td><td>0</td><td>0</td><td>0</td></tr><tr><th>6</th><td>2017-05-05</td><td>21</td><td>2</td><td>0</td><td>10</td><td>0</td><td>0</td></tr><tr><th>7</th><td>2015-08-01</td><td>2</td><td>0</td><td>0</td><td>0</td><td>0</td><td>0</td></tr><tr><th>8</th><td>2019-10-01</td><td>16</td><td>102</td><td>0</td><td>0</td><td>19</td><td>307</td></tr><tr><th>9</th><td>2014-07-31</td><td>16</td><td>0</td><td>0</td><td>0</td><td>0</td><td>0</td></tr><tr><th>10</th><td>2017-07-21</td><td>11</td><td>0</td><td>0</td><td>0</td><td>0</td><td>0</td></tr></tbody></table>"
      ],
      "text/latex": [
       "\\begin{tabular}{r|ccccccc}\n",
       "\t& date & heure & McTavish & Bellevue & Assomption & Trudeau & StHubert\\\\\n",
       "\t\\hline\n",
       "\t& Date & Int64 & Int64⍰ & Int64⍰ & Int64⍰ & Int64⍰ & Int64⍰\\\\\n",
       "\t\\hline\n",
       "\t1 & 2017-08-24 & 13 & 0 & 0 & 0 & 0 & 0 \\\\\n",
       "\t2 & 2018-10-04 & 18 & 0 & 0 & 0 & 0 & 0 \\\\\n",
       "\t3 & 2015-05-21 & 20 & 0 & 0 & 0 & 0 & 0 \\\\\n",
       "\t4 & 2014-10-17 & 7 & 0 & 0 & 0 & 0 & 0 \\\\\n",
       "\t5 & 2015-06-20 & 13 & 0 & 0 & 0 & 0 & 0 \\\\\n",
       "\t6 & 2017-05-05 & 21 & 2 & 0 & 10 & 0 & 0 \\\\\n",
       "\t7 & 2015-08-01 & 2 & 0 & 0 & 0 & 0 & 0 \\\\\n",
       "\t8 & 2019-10-01 & 16 & 102 & 0 & 0 & 19 & 307 \\\\\n",
       "\t9 & 2014-07-31 & 16 & 0 & 0 & 0 & 0 & 0 \\\\\n",
       "\t10 & 2017-07-21 & 11 & 0 & 0 & 0 & 0 & 0 \\\\\n",
       "\\end{tabular}\n"
      ],
      "text/plain": [
       "10×7 DataFrame. Omitted printing of 1 columns\n",
       "│ Row │ date       │ heure │ McTavish │ Bellevue │ Assomption │ Trudeau │\n",
       "│     │ \u001b[90mDate\u001b[39m       │ \u001b[90mInt64\u001b[39m │ \u001b[90mInt64⍰\u001b[39m   │ \u001b[90mInt64⍰\u001b[39m   │ \u001b[90mInt64⍰\u001b[39m     │ \u001b[90mInt64⍰\u001b[39m  │\n",
       "├─────┼────────────┼───────┼──────────┼──────────┼────────────┼─────────┤\n",
       "│ 1   │ 2017-08-24 │ 13    │ 0        │ 0        │ 0          │ 0       │\n",
       "│ 2   │ 2018-10-04 │ 18    │ 0        │ 0        │ 0          │ 0       │\n",
       "│ 3   │ 2015-05-21 │ 20    │ 0        │ 0        │ 0          │ 0       │\n",
       "│ 4   │ 2014-10-17 │ 7     │ 0        │ 0        │ 0          │ 0       │\n",
       "│ 5   │ 2015-06-20 │ 13    │ 0        │ 0        │ 0          │ 0       │\n",
       "│ 6   │ 2017-05-05 │ 21    │ 2        │ 0        │ 10         │ 0       │\n",
       "│ 7   │ 2015-08-01 │ 2     │ 0        │ 0        │ 0          │ 0       │\n",
       "│ 8   │ 2019-10-01 │ 16    │ 102      │ 0        │ 0          │ 19      │\n",
       "│ 9   │ 2014-07-31 │ 16    │ 0        │ 0        │ 0          │ 0       │\n",
       "│ 10  │ 2017-07-21 │ 11    │ 0        │ 0        │ 0          │ 0       │"
      ]
     },
     "execution_count": 20,
     "metadata": {},
     "output_type": "execute_result"
    }
   ],
   "source": [
    "first(shuffleDf(precipitations), 10)"
   ]
  },
  {
   "cell_type": "code",
   "execution_count": 21,
   "metadata": {},
   "outputs": [],
   "source": [
    "pcp_sum = by(precipitations, :date,  \n",
    "            McTavish = :McTavish=>sum, \n",
    "            Bellevue = :Bellevue=>sum,\n",
    "            Assomption = :Assomption=>sum, \n",
    "            Trudeau = :Trudeau=>sum, \n",
    "            StHubert = :StHubert=>sum);"
   ]
  },
  {
   "cell_type": "code",
   "execution_count": 22,
   "metadata": {},
   "outputs": [
    {
     "data": {
      "text/html": [
       "<table class=\"data-frame\"><thead><tr><th></th><th>date</th><th>McTavish</th><th>Bellevue</th><th>Assomption</th><th>Trudeau</th><th>StHubert</th></tr><tr><th></th><th>Date</th><th>Int64</th><th>Int64</th><th>Int64</th><th>Int64</th><th>Int64</th></tr></thead><tbody><p>5 rows × 6 columns</p><tr><th>1</th><td>2015-10-20</td><td>0</td><td>0</td><td>0</td><td>0</td><td>0</td></tr><tr><th>2</th><td>2019-06-21</td><td>0</td><td>0</td><td>0</td><td>0</td><td>2</td></tr><tr><th>3</th><td>2014-09-21</td><td>20</td><td>43</td><td>20</td><td>51</td><td>9</td></tr><tr><th>4</th><td>2015-09-20</td><td>0</td><td>0</td><td>0</td><td>2</td><td>0</td></tr><tr><th>5</th><td>2019-10-18</td><td>2</td><td>0</td><td>0</td><td>4</td><td>2</td></tr></tbody></table>"
      ],
      "text/latex": [
       "\\begin{tabular}{r|cccccc}\n",
       "\t& date & McTavish & Bellevue & Assomption & Trudeau & StHubert\\\\\n",
       "\t\\hline\n",
       "\t& Date & Int64 & Int64 & Int64 & Int64 & Int64\\\\\n",
       "\t\\hline\n",
       "\t1 & 2015-10-20 & 0 & 0 & 0 & 0 & 0 \\\\\n",
       "\t2 & 2019-06-21 & 0 & 0 & 0 & 0 & 2 \\\\\n",
       "\t3 & 2014-09-21 & 20 & 43 & 20 & 51 & 9 \\\\\n",
       "\t4 & 2015-09-20 & 0 & 0 & 0 & 2 & 0 \\\\\n",
       "\t5 & 2019-10-18 & 2 & 0 & 0 & 4 & 2 \\\\\n",
       "\\end{tabular}\n"
      ],
      "text/plain": [
       "5×6 DataFrame\n",
       "│ Row │ date       │ McTavish │ Bellevue │ Assomption │ Trudeau │ StHubert │\n",
       "│     │ \u001b[90mDate\u001b[39m       │ \u001b[90mInt64\u001b[39m    │ \u001b[90mInt64\u001b[39m    │ \u001b[90mInt64\u001b[39m      │ \u001b[90mInt64\u001b[39m   │ \u001b[90mInt64\u001b[39m    │\n",
       "├─────┼────────────┼──────────┼──────────┼────────────┼─────────┼──────────┤\n",
       "│ 1   │ 2015-10-20 │ 0        │ 0        │ 0          │ 0       │ 0        │\n",
       "│ 2   │ 2019-06-21 │ 0        │ 0        │ 0          │ 0       │ 2        │\n",
       "│ 3   │ 2014-09-21 │ 20       │ 43       │ 20         │ 51      │ 9        │\n",
       "│ 4   │ 2015-09-20 │ 0        │ 0        │ 0          │ 2       │ 0        │\n",
       "│ 5   │ 2019-10-18 │ 2        │ 0        │ 0          │ 4       │ 2        │"
      ]
     },
     "execution_count": 22,
     "metadata": {},
     "output_type": "execute_result"
    }
   ],
   "source": [
    "first(shuffleDf(pcp_sum), 5)"
   ]
  },
  {
   "cell_type": "code",
   "execution_count": null,
   "metadata": {},
   "outputs": [],
   "source": [
    "df_for_plot = melt(pcp_sum, :date)\n",
    "set_default_plot_size(25cm, 13cm)\n",
    "\n",
    "plot(df_for_plot, x=:date, y=:value, Geom.point, color=:variable)"
   ]
  },
  {
   "cell_type": "markdown",
   "metadata": {},
   "source": [
    "On réduit le gros outlier "
   ]
  },
  {
   "cell_type": "code",
   "execution_count": 24,
   "metadata": {},
   "outputs": [],
   "source": [
    "pcp_max = by(precipitations, :date,  \n",
    "            McTavish = :McTavish=>maximum,\n",
    "            Bellevue = :Bellevue=>maximum, \n",
    "            Assomption = :Assomption=>maximum,\n",
    "            Trudeau = :Trudeau=>maximum,\n",
    "            StHubert = :StHubert=>maximum);"
   ]
  },
  {
   "cell_type": "code",
   "execution_count": null,
   "metadata": {},
   "outputs": [],
   "source": [
    "df_for_plot = melt(pcp_max, :date)\n",
    "plot(df_for_plot, x=:date, y=:value, Geom.point, color=:variable)"
   ]
  },
  {
   "cell_type": "code",
   "execution_count": null,
   "metadata": {},
   "outputs": [],
   "source": [
    "first(shuffleDf(pcp_max), 5)"
   ]
  },
  {
   "cell_type": "code",
   "execution_count": 26,
   "metadata": {},
   "outputs": [],
   "source": [
    "pcp_max3 = by(precipitations, :date,\n",
    "                McTavish = :McTavish=>maximum3,\n",
    "                Bellevue = :Bellevue=>maximum3,\n",
    "                Assomption = :Assomption=>maximum3,\n",
    "                Trudeau = :Trudeau=>maximum3,\n",
    "                StHubert = :StHubert=>maximum3);"
   ]
  },
  {
   "cell_type": "code",
   "execution_count": null,
   "metadata": {
    "scrolled": true
   },
   "outputs": [],
   "source": [
    "df_for_plot = melt(pcp_max3, :date)\n",
    "plot(df_for_plot, x=:date, y=:value, Geom.point, color=:variable)"
   ]
  },
  {
   "cell_type": "code",
   "execution_count": null,
   "metadata": {},
   "outputs": [],
   "source": [
    "filter(row -> row.McTavish > 550, pcp_max3)\n",
    "pcp_max3[pcp_max3[:McTavish] .> 550, :McTavish] = 550;"
   ]
  },
  {
   "cell_type": "code",
   "execution_count": null,
   "metadata": {},
   "outputs": [],
   "source": [
    "first(shuffleDf(pcp_max3), 5)"
   ]
  },
  {
   "cell_type": "markdown",
   "metadata": {},
   "source": [
    "## Standardiser les données de précipitations"
   ]
  },
  {
   "cell_type": "code",
   "execution_count": null,
   "metadata": {},
   "outputs": [],
   "source": [
    "function standardize_col(col)\n",
    "    mean_col = mean(col);\n",
    "    std_col = std(col);\n",
    "    \n",
    "    res = (col .- mean_col) ./ std_col;\n",
    "    \n",
    "    return res;\n",
    "end"
   ]
  },
  {
   "cell_type": "code",
   "execution_count": null,
   "metadata": {},
   "outputs": [],
   "source": [
    "pcp_sum[!, :McTavish] = standardize_col(pcp_sum[!, :McTavish]);\n",
    "pcp_sum[!, :Bellevue] = standardize_col(pcp_sum[!, :Bellevue]);\n",
    "pcp_sum[!, :Assomption] = standardize_col(pcp_sum[!, :Assomption]);\n",
    "pcp_sum[!, :Trudeau] = standardize_col(pcp_sum[!, :Trudeau]);\n",
    "pcp_sum[!, :StHubert] = standardize_col(pcp_sum[!, :StHubert]);\n",
    "\n",
    "pcp_max[!, :McTavish] = standardize_col(pcp_max[!, :McTavish]);\n",
    "pcp_max[!, :Bellevue] = standardize_col(pcp_max[!, :Bellevue]);\n",
    "pcp_max[!, :Assomption] = standardize_col(pcp_max[!, :Assomption]);\n",
    "pcp_max[!, :Trudeau] = standardize_col(pcp_max[!, :Trudeau]);\n",
    "pcp_max[!, :StHubert] = standardize_col(pcp_max[!, :StHubert]);\n",
    "\n",
    "pcp_max3[!, :McTavish] = standardize_col(pcp_max3[!, :McTavish]);\n",
    "pcp_max3[!, :Bellevue] = standardize_col(pcp_max3[!, :Bellevue]);\n",
    "pcp_max3[!, :Assomption] = standardize_col(pcp_max3[!, :Assomption]);\n",
    "pcp_max3[!, :Trudeau] = standardize_col(pcp_max3[!, :Trudeau]);\n",
    "pcp_max3[!, :StHubert] = standardize_col(pcp_max3[!, :StHubert]);"
   ]
  },
  {
   "cell_type": "code",
   "execution_count": 27,
   "metadata": {},
   "outputs": [
    {
     "data": {
      "text/html": [
       "<table class=\"data-frame\"><thead><tr><th></th><th>date</th><th>McTavish</th><th>Bellevue</th><th>Assomption</th><th>Trudeau</th><th>StHubert</th></tr><tr><th></th><th>Date</th><th>Int64</th><th>Int64</th><th>Int64</th><th>Int64</th><th>Int64</th></tr></thead><tbody><p>10 rows × 6 columns</p><tr><th>1</th><td>2019-06-21</td><td>0</td><td>0</td><td>0</td><td>0</td><td>2</td></tr><tr><th>2</th><td>2014-10-15</td><td>38</td><td>31</td><td>50</td><td>41</td><td>19</td></tr><tr><th>3</th><td>2016-07-12</td><td>0</td><td>0</td><td>0</td><td>0</td><td>0</td></tr><tr><th>4</th><td>2019-08-27</td><td>0</td><td>0</td><td>0</td><td>0</td><td>0</td></tr><tr><th>5</th><td>2017-05-07</td><td>73</td><td>93</td><td>110</td><td>73</td><td>86</td></tr><tr><th>6</th><td>2015-10-15</td><td>107</td><td>132</td><td>60</td><td>125</td><td>87</td></tr><tr><th>7</th><td>2013-07-05</td><td>0</td><td>10</td><td>0</td><td>15</td><td>0</td></tr><tr><th>8</th><td>2015-06-19</td><td>0</td><td>0</td><td>0</td><td>0</td><td>0</td></tr><tr><th>9</th><td>2019-05-10</td><td>385</td><td>265</td><td>286</td><td>285</td><td>316</td></tr><tr><th>10</th><td>2018-08-20</td><td>2</td><td>0</td><td>16</td><td>0</td><td>0</td></tr></tbody></table>"
      ],
      "text/latex": [
       "\\begin{tabular}{r|cccccc}\n",
       "\t& date & McTavish & Bellevue & Assomption & Trudeau & StHubert\\\\\n",
       "\t\\hline\n",
       "\t& Date & Int64 & Int64 & Int64 & Int64 & Int64\\\\\n",
       "\t\\hline\n",
       "\t1 & 2019-06-21 & 0 & 0 & 0 & 0 & 2 \\\\\n",
       "\t2 & 2014-10-15 & 38 & 31 & 50 & 41 & 19 \\\\\n",
       "\t3 & 2016-07-12 & 0 & 0 & 0 & 0 & 0 \\\\\n",
       "\t4 & 2019-08-27 & 0 & 0 & 0 & 0 & 0 \\\\\n",
       "\t5 & 2017-05-07 & 73 & 93 & 110 & 73 & 86 \\\\\n",
       "\t6 & 2015-10-15 & 107 & 132 & 60 & 125 & 87 \\\\\n",
       "\t7 & 2013-07-05 & 0 & 10 & 0 & 15 & 0 \\\\\n",
       "\t8 & 2015-06-19 & 0 & 0 & 0 & 0 & 0 \\\\\n",
       "\t9 & 2019-05-10 & 385 & 265 & 286 & 285 & 316 \\\\\n",
       "\t10 & 2018-08-20 & 2 & 0 & 16 & 0 & 0 \\\\\n",
       "\\end{tabular}\n"
      ],
      "text/plain": [
       "10×6 DataFrame\n",
       "│ Row │ date       │ McTavish │ Bellevue │ Assomption │ Trudeau │ StHubert │\n",
       "│     │ \u001b[90mDate\u001b[39m       │ \u001b[90mInt64\u001b[39m    │ \u001b[90mInt64\u001b[39m    │ \u001b[90mInt64\u001b[39m      │ \u001b[90mInt64\u001b[39m   │ \u001b[90mInt64\u001b[39m    │\n",
       "├─────┼────────────┼──────────┼──────────┼────────────┼─────────┼──────────┤\n",
       "│ 1   │ 2019-06-21 │ 0        │ 0        │ 0          │ 0       │ 2        │\n",
       "│ 2   │ 2014-10-15 │ 38       │ 31       │ 50         │ 41      │ 19       │\n",
       "│ 3   │ 2016-07-12 │ 0        │ 0        │ 0          │ 0       │ 0        │\n",
       "│ 4   │ 2019-08-27 │ 0        │ 0        │ 0          │ 0       │ 0        │\n",
       "│ 5   │ 2017-05-07 │ 73       │ 93       │ 110        │ 73      │ 86       │\n",
       "│ 6   │ 2015-10-15 │ 107      │ 132      │ 60         │ 125     │ 87       │\n",
       "│ 7   │ 2013-07-05 │ 0        │ 10       │ 0          │ 15      │ 0        │\n",
       "│ 8   │ 2015-06-19 │ 0        │ 0        │ 0          │ 0       │ 0        │\n",
       "│ 9   │ 2019-05-10 │ 385      │ 265      │ 286        │ 285     │ 316      │\n",
       "│ 10  │ 2018-08-20 │ 2        │ 0        │ 16         │ 0       │ 0        │"
      ]
     },
     "execution_count": 27,
     "metadata": {},
     "output_type": "execute_result"
    }
   ],
   "source": [
    "first(shuffleDf(pcp_sum), 10)"
   ]
  },
  {
   "cell_type": "markdown",
   "metadata": {},
   "source": [
    "## Stations"
   ]
  },
  {
   "cell_type": "code",
   "execution_count": 28,
   "metadata": {},
   "outputs": [
    {
     "data": {
      "text/html": [
       "<table class=\"data-frame\"><thead><tr><th></th><th>STATION</th><th>LAT</th><th>LNG</th></tr><tr><th></th><th>String</th><th>Float64</th><th>Float64</th></tr></thead><tbody><p>5 rows × 3 columns</p><tr><th>1</th><td>McTavish</td><td>45.5047</td><td>-73.5792</td></tr><tr><th>2</th><td>Bellevue</td><td>45.4272</td><td>-73.9292</td></tr><tr><th>3</th><td>Assomption</td><td>45.8094</td><td>-73.4347</td></tr><tr><th>4</th><td>Trudeau</td><td>45.4678</td><td>-73.7417</td></tr><tr><th>5</th><td>StHubert</td><td>45.5175</td><td>-73.4169</td></tr></tbody></table>"
      ],
      "text/latex": [
       "\\begin{tabular}{r|ccc}\n",
       "\t& STATION & LAT & LNG\\\\\n",
       "\t\\hline\n",
       "\t& String & Float64 & Float64\\\\\n",
       "\t\\hline\n",
       "\t1 & McTavish & 45.5047 & -73.5792 \\\\\n",
       "\t2 & Bellevue & 45.4272 & -73.9292 \\\\\n",
       "\t3 & Assomption & 45.8094 & -73.4347 \\\\\n",
       "\t4 & Trudeau & 45.4678 & -73.7417 \\\\\n",
       "\t5 & StHubert & 45.5175 & -73.4169 \\\\\n",
       "\\end{tabular}\n"
      ],
      "text/plain": [
       "5×3 DataFrame\n",
       "│ Row │ STATION    │ LAT     │ LNG      │\n",
       "│     │ \u001b[90mString\u001b[39m     │ \u001b[90mFloat64\u001b[39m │ \u001b[90mFloat64\u001b[39m  │\n",
       "├─────┼────────────┼─────────┼──────────┤\n",
       "│ 1   │ McTavish   │ 45.5047 │ -73.5792 │\n",
       "│ 2   │ Bellevue   │ 45.4272 │ -73.9292 │\n",
       "│ 3   │ Assomption │ 45.8094 │ -73.4347 │\n",
       "│ 4   │ Trudeau    │ 45.4678 │ -73.7417 │\n",
       "│ 5   │ StHubert   │ 45.5175 │ -73.4169 │"
      ]
     },
     "execution_count": 28,
     "metadata": {},
     "output_type": "execute_result"
    }
   ],
   "source": [
    "station_df = DataFrame(STATION = String[], LAT = Float64[], LNG = Float64[]);\n",
    "\n",
    "push!(station_df, [\"McTavish\", 45.504742, -73.579167]);\n",
    "push!(station_df, [\"Bellevue\", 45.427222, -73.929167]);\n",
    "push!(station_df, [\"Assomption\", 45.809444, -73.434722]);\n",
    "push!(station_df, [\"Trudeau\", 45.467778, -73.741667]);\n",
    "push!(station_df, [\"StHubert\", 45.5175, -73.416944]);\n",
    "\n",
    "station_df"
   ]
  },
  {
   "cell_type": "markdown",
   "metadata": {},
   "source": [
    "### On ajoute les colonnes de précipitations"
   ]
  },
  {
   "cell_type": "code",
   "execution_count": 29,
   "metadata": {},
   "outputs": [],
   "source": [
    "train_data = surverses;\n",
    "\n",
    "train_data[!, :FS_dist] = zeros(size(train_data, 1));\n",
    "train_data[!, :SS_dist] = zeros(size(train_data, 1));\n",
    "train_data[!, :FS_sum] = zeros(size(train_data, 1));\n",
    "train_data[!, :FS_max] = zeros(size(train_data, 1));\n",
    "train_data[!, :FS_max3] = zeros(size(train_data, 1));\n",
    "train_data[!, :SS_sum] = zeros(size(train_data, 1));\n",
    "train_data[!, :SS_max] = zeros(size(train_data, 1));\n",
    "train_data[!, :SS_max3] = zeros(size(train_data, 1));"
   ]
  },
  {
   "cell_type": "code",
   "execution_count": 30,
   "metadata": {},
   "outputs": [
    {
     "data": {
      "text/html": [
       "<table class=\"data-frame\"><thead><tr><th></th><th>ID_OUVRAGE</th><th>DATE</th><th>SURVERSE</th><th>FS_dist</th><th>SS_dist</th><th>FS_sum</th><th>FS_max</th><th>FS_max3</th><th>SS_sum</th></tr><tr><th></th><th>String</th><th>Date</th><th>Int64</th><th>Float64</th><th>Float64</th><th>Float64</th><th>Float64</th><th>Float64</th><th>Float64</th></tr></thead><tbody><p>5 rows × 11 columns (omitted printing of 2 columns)</p><tr><th>1</th><td>4240-01D</td><td>2014-07-19</td><td>0</td><td>0.0</td><td>0.0</td><td>0.0</td><td>0.0</td><td>0.0</td><td>0.0</td></tr><tr><th>2</th><td>3350-07D</td><td>2017-07-15</td><td>0</td><td>0.0</td><td>0.0</td><td>0.0</td><td>0.0</td><td>0.0</td><td>0.0</td></tr><tr><th>3</th><td>3260-01D</td><td>2015-05-07</td><td>0</td><td>0.0</td><td>0.0</td><td>0.0</td><td>0.0</td><td>0.0</td><td>0.0</td></tr><tr><th>4</th><td>4240-01D</td><td>2016-05-05</td><td>0</td><td>0.0</td><td>0.0</td><td>0.0</td><td>0.0</td><td>0.0</td><td>0.0</td></tr><tr><th>5</th><td>4240-01D</td><td>2018-08-16</td><td>0</td><td>0.0</td><td>0.0</td><td>0.0</td><td>0.0</td><td>0.0</td><td>0.0</td></tr></tbody></table>"
      ],
      "text/latex": [
       "\\begin{tabular}{r|cccccccccc}\n",
       "\t& ID\\_OUVRAGE & DATE & SURVERSE & FS\\_dist & SS\\_dist & FS\\_sum & FS\\_max & FS\\_max3 & SS\\_sum & \\\\\n",
       "\t\\hline\n",
       "\t& String & Date & Int64 & Float64 & Float64 & Float64 & Float64 & Float64 & Float64 & \\\\\n",
       "\t\\hline\n",
       "\t1 & 4240-01D & 2014-07-19 & 0 & 0.0 & 0.0 & 0.0 & 0.0 & 0.0 & 0.0 & $\\dots$ \\\\\n",
       "\t2 & 3350-07D & 2017-07-15 & 0 & 0.0 & 0.0 & 0.0 & 0.0 & 0.0 & 0.0 & $\\dots$ \\\\\n",
       "\t3 & 3260-01D & 2015-05-07 & 0 & 0.0 & 0.0 & 0.0 & 0.0 & 0.0 & 0.0 & $\\dots$ \\\\\n",
       "\t4 & 4240-01D & 2016-05-05 & 0 & 0.0 & 0.0 & 0.0 & 0.0 & 0.0 & 0.0 & $\\dots$ \\\\\n",
       "\t5 & 4240-01D & 2018-08-16 & 0 & 0.0 & 0.0 & 0.0 & 0.0 & 0.0 & 0.0 & $\\dots$ \\\\\n",
       "\\end{tabular}\n"
      ],
      "text/plain": [
       "5×11 DataFrame. Omitted printing of 5 columns\n",
       "│ Row │ ID_OUVRAGE │ DATE       │ SURVERSE │ FS_dist │ SS_dist │ FS_sum  │\n",
       "│     │ \u001b[90mString\u001b[39m     │ \u001b[90mDate\u001b[39m       │ \u001b[90mInt64\u001b[39m    │ \u001b[90mFloat64\u001b[39m │ \u001b[90mFloat64\u001b[39m │ \u001b[90mFloat64\u001b[39m │\n",
       "├─────┼────────────┼────────────┼──────────┼─────────┼─────────┼─────────┤\n",
       "│ 1   │ 4240-01D   │ 2014-07-19 │ 0        │ 0.0     │ 0.0     │ 0.0     │\n",
       "│ 2   │ 3350-07D   │ 2017-07-15 │ 0        │ 0.0     │ 0.0     │ 0.0     │\n",
       "│ 3   │ 3260-01D   │ 2015-05-07 │ 0        │ 0.0     │ 0.0     │ 0.0     │\n",
       "│ 4   │ 4240-01D   │ 2016-05-05 │ 0        │ 0.0     │ 0.0     │ 0.0     │\n",
       "│ 5   │ 4240-01D   │ 2018-08-16 │ 0        │ 0.0     │ 0.0     │ 0.0     │"
      ]
     },
     "execution_count": 30,
     "metadata": {},
     "output_type": "execute_result"
    }
   ],
   "source": [
    "first(shuffleDf(train_data), 5)"
   ]
  },
  {
   "cell_type": "code",
   "execution_count": 31,
   "metadata": {},
   "outputs": [
    {
     "name": "stdout",
     "output_type": "stream",
     "text": [
      "Summary Stats:\n",
      "Length:         5129\n",
      "Missing Count:  0\n",
      "Mean:           0.085202\n",
      "Minimum:        0.000000\n",
      "1st Quartile:   0.000000\n",
      "Median:         0.000000\n",
      "3rd Quartile:   0.000000\n",
      "Maximum:        1.000000\n",
      "Type:           Int64\n"
     ]
    }
   ],
   "source": [
    "describe(train_data[!, :SURVERSE])"
   ]
  },
  {
   "cell_type": "markdown",
   "metadata": {},
   "source": [
    "Populate les fields de chaque data"
   ]
  },
  {
   "cell_type": "code",
   "execution_count": 34,
   "metadata": {},
   "outputs": [],
   "source": [
    "for i=1:size(train_data, 1)\n",
    "    curr_ouvrage = train_data[i, 1];\n",
    "    ouvrage_data = filter(row -> row.ID_OUVRAGE == curr_ouvrage, ouvrages);\n",
    "    \n",
    "    closest_station = nothing;\n",
    "    closest_distance = 9999;\n",
    "    \n",
    "    second_closest_station = nothing;\n",
    "    second_closest_distance = 9999;\n",
    "    \n",
    "    # Pour chaque station\n",
    "    for j=1:5\n",
    "       current_station = station_df[j, :STATION];\n",
    "       dist = findDistance(ouvrage_data[1, :TP_LAT], ouvrage_data[1, :TP_LNG], station_df[j, :LAT], station_df[j, :LNG]);\n",
    "       \n",
    "        if dist < closest_distance\n",
    "            second_closest_distance = closest_distance;\n",
    "            second_closest_station = closest_station;\n",
    "            closest_distance = dist;\n",
    "            closest_station = current_station;\n",
    "        elseif dist < second_closest_distance\n",
    "            second_closest_distance = dist;\n",
    "            second_closest_station = current_station;\n",
    "        end\n",
    "    end\n",
    "    \n",
    "    train_data[i, :FS_dist] = closest_distance;\n",
    "    train_data[i, :SS_dist] = second_closest_distance;\n",
    "    \n",
    "    # Add data for first station\n",
    "    sum_p = pcp_sum[∈([train_data[i, :DATE]]).(pcp_sum.date), Symbol(closest_station)];\n",
    "    train_data[i, :FS_sum] = sum_p[1];\n",
    "    max_p = pcp_max[∈([train_data[i, :DATE]]).(pcp_max.date), Symbol(closest_station)];\n",
    "    train_data[i, :FS_max] = max_p[1];\n",
    "    max3_p = pcp_max3[∈([train_data[i, :DATE]]).(pcp_max3.date), Symbol(closest_station)];\n",
    "    train_data[i, :FS_max3] = max3_p[1];\n",
    "    \n",
    "    # Find multiplier for second station\n",
    "#     ratio = second_closest_distance / closest_distance;\n",
    "#     logratio = log(sqrt(ratio));\n",
    "#     multiplier = 1 - logratio;\n",
    "    \n",
    "    multiplier = 1;\n",
    "    \n",
    "    # Add data for second station\n",
    "    s_sum_p = pcp_sum[∈([train_data[i, :DATE]]).(pcp_sum.date), Symbol(second_closest_station)];\n",
    "    train_data[i, :SS_sum] = s_sum_p[1] * multiplier;\n",
    "    s_max_p = pcp_max[∈([train_data[i, :DATE]]).(pcp_max.date), Symbol(second_closest_station)];\n",
    "    train_data[i, :SS_max] = s_max_p[1] * multiplier;\n",
    "    s_max3_p = pcp_max3[∈([train_data[i, :DATE]]).(pcp_max3.date), Symbol(second_closest_station)];\n",
    "    train_data[i, :SS_max3] = s_max3_p[1] * multiplier;\n",
    "end"
   ]
  },
  {
   "cell_type": "code",
   "execution_count": 35,
   "metadata": {},
   "outputs": [
    {
     "data": {
      "text/html": [
       "<table class=\"data-frame\"><thead><tr><th></th><th>ID_OUVRAGE</th><th>SURVERSE</th><th>FS_dist</th><th>SS_dist</th><th>FS_sum</th><th>SS_sum</th><th>FS_max</th><th>SS_max</th></tr><tr><th></th><th>String</th><th>Int64</th><th>Float64</th><th>Float64</th><th>Float64</th><th>Float64</th><th>Float64</th><th>Float64</th></tr></thead><tbody><p>10 rows × 8 columns</p><tr><th>1</th><td>4380-01D</td><td>0</td><td>0.0401006</td><td>0.154948</td><td>0.0</td><td>0.0</td><td>0.0</td><td>0.0</td></tr><tr><th>2</th><td>4380-01D</td><td>0</td><td>0.0401006</td><td>0.154948</td><td>0.0</td><td>0.0</td><td>0.0</td><td>0.0</td></tr><tr><th>3</th><td>4350-01D</td><td>0</td><td>0.0248354</td><td>0.139269</td><td>59.0</td><td>122.0</td><td>37.0</td><td>102.0</td></tr><tr><th>4</th><td>4380-01D</td><td>0</td><td>0.0401006</td><td>0.154948</td><td>10.0</td><td>0.0</td><td>10.0</td><td>0.0</td></tr><tr><th>5</th><td>4240-01D</td><td>0</td><td>0.149987</td><td>0.168295</td><td>0.0</td><td>0.0</td><td>0.0</td><td>0.0</td></tr><tr><th>6</th><td>4350-01D</td><td>0</td><td>0.0248354</td><td>0.139269</td><td>24.0</td><td>0.0</td><td>24.0</td><td>0.0</td></tr><tr><th>7</th><td>4380-01D</td><td>0</td><td>0.0401006</td><td>0.154948</td><td>0.0</td><td>0.0</td><td>0.0</td><td>0.0</td></tr><tr><th>8</th><td>4380-01D</td><td>0</td><td>0.0401006</td><td>0.154948</td><td>0.0</td><td>0.0</td><td>0.0</td><td>0.0</td></tr><tr><th>9</th><td>4380-01D</td><td>0</td><td>0.0401006</td><td>0.154948</td><td>222.0</td><td>0.0</td><td>180.0</td><td>0.0</td></tr><tr><th>10</th><td>4380-01D</td><td>0</td><td>0.0401006</td><td>0.154948</td><td>0.0</td><td>0.0</td><td>0.0</td><td>0.0</td></tr></tbody></table>"
      ],
      "text/latex": [
       "\\begin{tabular}{r|cccccccc}\n",
       "\t& ID\\_OUVRAGE & SURVERSE & FS\\_dist & SS\\_dist & FS\\_sum & SS\\_sum & FS\\_max & SS\\_max\\\\\n",
       "\t\\hline\n",
       "\t& String & Int64 & Float64 & Float64 & Float64 & Float64 & Float64 & Float64\\\\\n",
       "\t\\hline\n",
       "\t1 & 4380-01D & 0 & 0.0401006 & 0.154948 & 0.0 & 0.0 & 0.0 & 0.0 \\\\\n",
       "\t2 & 4380-01D & 0 & 0.0401006 & 0.154948 & 0.0 & 0.0 & 0.0 & 0.0 \\\\\n",
       "\t3 & 4350-01D & 0 & 0.0248354 & 0.139269 & 59.0 & 122.0 & 37.0 & 102.0 \\\\\n",
       "\t4 & 4380-01D & 0 & 0.0401006 & 0.154948 & 10.0 & 0.0 & 10.0 & 0.0 \\\\\n",
       "\t5 & 4240-01D & 0 & 0.149987 & 0.168295 & 0.0 & 0.0 & 0.0 & 0.0 \\\\\n",
       "\t6 & 4350-01D & 0 & 0.0248354 & 0.139269 & 24.0 & 0.0 & 24.0 & 0.0 \\\\\n",
       "\t7 & 4380-01D & 0 & 0.0401006 & 0.154948 & 0.0 & 0.0 & 0.0 & 0.0 \\\\\n",
       "\t8 & 4380-01D & 0 & 0.0401006 & 0.154948 & 0.0 & 0.0 & 0.0 & 0.0 \\\\\n",
       "\t9 & 4380-01D & 0 & 0.0401006 & 0.154948 & 222.0 & 0.0 & 180.0 & 0.0 \\\\\n",
       "\t10 & 4380-01D & 0 & 0.0401006 & 0.154948 & 0.0 & 0.0 & 0.0 & 0.0 \\\\\n",
       "\\end{tabular}\n"
      ],
      "text/plain": [
       "10×8 DataFrame. Omitted printing of 2 columns\n",
       "│ Row │ ID_OUVRAGE │ SURVERSE │ FS_dist   │ SS_dist  │ FS_sum  │ SS_sum  │\n",
       "│     │ \u001b[90mString\u001b[39m     │ \u001b[90mInt64\u001b[39m    │ \u001b[90mFloat64\u001b[39m   │ \u001b[90mFloat64\u001b[39m  │ \u001b[90mFloat64\u001b[39m │ \u001b[90mFloat64\u001b[39m │\n",
       "├─────┼────────────┼──────────┼───────────┼──────────┼─────────┼─────────┤\n",
       "│ 1   │ 4380-01D   │ 0        │ 0.0401006 │ 0.154948 │ 0.0     │ 0.0     │\n",
       "│ 2   │ 4380-01D   │ 0        │ 0.0401006 │ 0.154948 │ 0.0     │ 0.0     │\n",
       "│ 3   │ 4350-01D   │ 0        │ 0.0248354 │ 0.139269 │ 59.0    │ 122.0   │\n",
       "│ 4   │ 4380-01D   │ 0        │ 0.0401006 │ 0.154948 │ 10.0    │ 0.0     │\n",
       "│ 5   │ 4240-01D   │ 0        │ 0.149987  │ 0.168295 │ 0.0     │ 0.0     │\n",
       "│ 6   │ 4350-01D   │ 0        │ 0.0248354 │ 0.139269 │ 24.0    │ 0.0     │\n",
       "│ 7   │ 4380-01D   │ 0        │ 0.0401006 │ 0.154948 │ 0.0     │ 0.0     │\n",
       "│ 8   │ 4380-01D   │ 0        │ 0.0401006 │ 0.154948 │ 0.0     │ 0.0     │\n",
       "│ 9   │ 4380-01D   │ 0        │ 0.0401006 │ 0.154948 │ 222.0   │ 0.0     │\n",
       "│ 10  │ 4380-01D   │ 0        │ 0.0401006 │ 0.154948 │ 0.0     │ 0.0     │"
      ]
     },
     "execution_count": 35,
     "metadata": {},
     "output_type": "execute_result"
    }
   ],
   "source": [
    "cols = [:ID_OUVRAGE, :SURVERSE, :FS_dist, :SS_dist, :FS_sum, :SS_sum, :FS_max, :SS_max];\n",
    "first(shuffleDf(train_data[!, cols]), 10)"
   ]
  },
  {
   "cell_type": "markdown",
   "metadata": {},
   "source": [
    "### Save dataframes in files per ouvrage"
   ]
  },
  {
   "cell_type": "code",
   "execution_count": 36,
   "metadata": {},
   "outputs": [
    {
     "data": {
      "text/plain": [
       "\"data/parsed/ouvrage_3260.csv\""
      ]
     },
     "execution_count": 36,
     "metadata": {},
     "output_type": "execute_result"
    }
   ],
   "source": [
    "ouvrage_3260 = filter(row -> row.ID_OUVRAGE == \"3260-01D\", train_data);\n",
    "select!(ouvrage_3260, Not(:ID_OUVRAGE));\n",
    "CSV.write(\"data/parsed/ouvrage_3260.csv\",ouvrage_3260)"
   ]
  },
  {
   "cell_type": "code",
   "execution_count": 37,
   "metadata": {},
   "outputs": [
    {
     "data": {
      "text/plain": [
       "\"data/parsed/ouvrage_3350.csv\""
      ]
     },
     "execution_count": 37,
     "metadata": {},
     "output_type": "execute_result"
    }
   ],
   "source": [
    "ouvrage_3350 = filter(row -> row.ID_OUVRAGE == \"3350-07D\", train_data)\n",
    "select!(ouvrage_3350, Not(:ID_OUVRAGE));\n",
    "CSV.write(\"data/parsed/ouvrage_3350.csv\",ouvrage_3350)"
   ]
  },
  {
   "cell_type": "code",
   "execution_count": 38,
   "metadata": {},
   "outputs": [
    {
     "data": {
      "text/plain": [
       "\"data/parsed/ouvrage_4240.csv\""
      ]
     },
     "execution_count": 38,
     "metadata": {},
     "output_type": "execute_result"
    }
   ],
   "source": [
    "ouvrage_4240 = filter(row -> row.ID_OUVRAGE == \"4240-01D\", train_data)\n",
    "select!(ouvrage_4240, Not(:ID_OUVRAGE));\n",
    "CSV.write(\"data/parsed/ouvrage_4240.csv\",ouvrage_4240)"
   ]
  },
  {
   "cell_type": "code",
   "execution_count": 39,
   "metadata": {},
   "outputs": [
    {
     "data": {
      "text/plain": [
       "\"data/parsed/ouvrage_4350.csv\""
      ]
     },
     "execution_count": 39,
     "metadata": {},
     "output_type": "execute_result"
    }
   ],
   "source": [
    "ouvrage_4350 = filter(row -> row.ID_OUVRAGE == \"4350-01D\", train_data)\n",
    "select!(ouvrage_4350, Not(:ID_OUVRAGE));\n",
    "CSV.write(\"data/parsed/ouvrage_4350.csv\",ouvrage_4350)"
   ]
  },
  {
   "cell_type": "code",
   "execution_count": 40,
   "metadata": {},
   "outputs": [
    {
     "data": {
      "text/plain": [
       "\"data/parsed/ouvrage_4380.csv\""
      ]
     },
     "execution_count": 40,
     "metadata": {},
     "output_type": "execute_result"
    }
   ],
   "source": [
    "ouvrage_4380 = filter(row -> row.ID_OUVRAGE == \"4380-01D\", train_data)\n",
    "select!(ouvrage_4380, Not(:ID_OUVRAGE));\n",
    "CSV.write(\"data/parsed/ouvrage_4380.csv\",ouvrage_4380)"
   ]
  },
  {
   "cell_type": "markdown",
   "metadata": {},
   "source": [
    "### Tests"
   ]
  },
  {
   "cell_type": "code",
   "execution_count": 41,
   "metadata": {},
   "outputs": [],
   "source": [
    "test_data = CSV.read(\"data/test.csv\");\n",
    "rename!(test_data, :NO_OUVRAGE => :ID_OUVRAGE);"
   ]
  },
  {
   "cell_type": "code",
   "execution_count": 42,
   "metadata": {},
   "outputs": [
    {
     "data": {
      "text/plain": [
       "5-element Array{String,1}:\n",
       " \"3260-01D\"\n",
       " \"3350-07D\"\n",
       " \"4240-01D\"\n",
       " \"4350-01D\"\n",
       " \"4380-01D\""
      ]
     },
     "execution_count": 42,
     "metadata": {},
     "output_type": "execute_result"
    }
   ],
   "source": [
    "levels(test_data[:,:ID_OUVRAGE])"
   ]
  },
  {
   "cell_type": "code",
   "execution_count": 43,
   "metadata": {},
   "outputs": [],
   "source": [
    "test_data[!, :FS_dist] = zeros(size(test_data, 1));\n",
    "test_data[!, :SS_dist] = zeros(size(test_data, 1));\n",
    "test_data[!, :FS_sum] = zeros(size(test_data, 1));\n",
    "test_data[!, :FS_max] = zeros(size(test_data, 1));\n",
    "test_data[!, :FS_max3] = zeros(size(test_data, 1));\n",
    "test_data[!, :SS_sum] = zeros(size(test_data, 1));\n",
    "test_data[!, :SS_max] = zeros(size(test_data, 1));\n",
    "test_data[!, :SS_max3] = zeros(size(test_data, 1));"
   ]
  },
  {
   "cell_type": "code",
   "execution_count": 44,
   "metadata": {},
   "outputs": [],
   "source": [
    "for i=1:size(test_data, 1)\n",
    "    curr_ouvrage = test_data[i, 1];\n",
    "    ouvrage_data = filter(row -> row.ID_OUVRAGE == curr_ouvrage, ouvrages);\n",
    "    \n",
    "    closest_station = nothing;\n",
    "    closest_distance = 9999;\n",
    "    \n",
    "    second_closest_station = nothing;\n",
    "    second_closest_distance = 9999;\n",
    "    \n",
    "    # Pour chaque station\n",
    "    for j=1:5\n",
    "       current_station = station_df[j, :STATION];\n",
    "       dist = findDistance(ouvrage_data[1, :TP_LAT], ouvrage_data[1, :TP_LNG], station_df[j, :LAT], station_df[j, :LNG]);\n",
    "       \n",
    "        if dist < closest_distance\n",
    "            second_closest_distance = closest_distance;\n",
    "            second_closest_station = closest_station;\n",
    "            closest_distance = dist;\n",
    "            closest_station = current_station;\n",
    "        elseif dist < second_closest_distance\n",
    "            second_closest_distance = dist;\n",
    "            second_closest_station = current_station;\n",
    "        end\n",
    "    end\n",
    "    \n",
    "    test_data[i, :FS_dist] = closest_distance;\n",
    "    test_data[i, :SS_dist] = second_closest_distance;\n",
    "    \n",
    "    # Add data for first station\n",
    "    sum_p = pcp_sum[∈([test_data[i, :DATE]]).(pcp_sum.date), Symbol(closest_station)];\n",
    "    test_data[i, :FS_sum] = sum_p[1];\n",
    "    max_p = pcp_max[∈([test_data[i, :DATE]]).(pcp_max.date), Symbol(closest_station)];\n",
    "    test_data[i, :FS_max] = max_p[1];\n",
    "    max3_p = pcp_max3[∈([test_data[i, :DATE]]).(pcp_max3.date), Symbol(closest_station)];\n",
    "    test_data[i, :FS_max3] = max3_p[1];\n",
    "    \n",
    "    # Find multiplier for second station\n",
    "#     ratio = second_closest_distance / closest_distance;\n",
    "#     logratio = log(sqrt(ratio));\n",
    "#     multiplier = 1 - logratio;\n",
    "    \n",
    "    multiplier = 1;\n",
    "    \n",
    "    # Add data for second station\n",
    "    s_sum_p = pcp_sum[∈([test_data[i, :DATE]]).(pcp_sum.date), Symbol(second_closest_station)];\n",
    "    test_data[i, :SS_sum] = s_sum_p[1] * multiplier;\n",
    "    s_max_p = pcp_max[∈([test_data[i, :DATE]]).(pcp_max.date), Symbol(second_closest_station)];\n",
    "    test_data[i, :SS_max] = s_max_p[1] * multiplier;\n",
    "    s_max3_p = pcp_max3[∈([test_data[i, :DATE]]).(pcp_max3.date), Symbol(second_closest_station)];\n",
    "    test_data[i, :SS_max3] = s_max3_p[1] * multiplier;\n",
    "end"
   ]
  },
  {
   "cell_type": "code",
   "execution_count": 45,
   "metadata": {},
   "outputs": [
    {
     "data": {
      "text/html": [
       "<table class=\"data-frame\"><thead><tr><th></th><th>ID_OUVRAGE</th><th>FS_dist</th><th>SS_dist</th><th>FS_sum</th><th>SS_sum</th><th>FS_max</th><th>SS_max</th></tr><tr><th></th><th>String</th><th>Float64</th><th>Float64</th><th>Float64</th><th>Float64</th><th>Float64</th><th>Float64</th></tr></thead><tbody><p>10 rows × 7 columns</p><tr><th>1</th><td>3350-07D</td><td>0.0927373</td><td>0.12027</td><td>27.0</td><td>3.0</td><td>25.0</td><td>3.0</td></tr><tr><th>2</th><td>4350-01D</td><td>0.0248354</td><td>0.139269</td><td>0.0</td><td>0.0</td><td>0.0</td><td>0.0</td></tr><tr><th>3</th><td>3350-07D</td><td>0.0927373</td><td>0.12027</td><td>0.0</td><td>0.0</td><td>0.0</td><td>0.0</td></tr><tr><th>4</th><td>3260-01D</td><td>0.145981</td><td>0.210769</td><td>12.0</td><td>0.0</td><td>8.0</td><td>0.0</td></tr><tr><th>5</th><td>4240-01D</td><td>0.149987</td><td>0.168295</td><td>391.0</td><td>18.0</td><td>167.0</td><td>6.0</td></tr><tr><th>6</th><td>4380-01D</td><td>0.0401006</td><td>0.154948</td><td>2.0</td><td>0.0</td><td>2.0</td><td>0.0</td></tr><tr><th>7</th><td>3350-07D</td><td>0.0927373</td><td>0.12027</td><td>0.0</td><td>0.0</td><td>0.0</td><td>0.0</td></tr><tr><th>8</th><td>4380-01D</td><td>0.0401006</td><td>0.154948</td><td>89.0</td><td>67.0</td><td>45.0</td><td>32.0</td></tr><tr><th>9</th><td>4240-01D</td><td>0.149987</td><td>0.168295</td><td>14.0</td><td>22.0</td><td>12.0</td><td>12.0</td></tr><tr><th>10</th><td>3350-07D</td><td>0.0927373</td><td>0.12027</td><td>0.0</td><td>0.0</td><td>0.0</td><td>0.0</td></tr></tbody></table>"
      ],
      "text/latex": [
       "\\begin{tabular}{r|ccccccc}\n",
       "\t& ID\\_OUVRAGE & FS\\_dist & SS\\_dist & FS\\_sum & SS\\_sum & FS\\_max & SS\\_max\\\\\n",
       "\t\\hline\n",
       "\t& String & Float64 & Float64 & Float64 & Float64 & Float64 & Float64\\\\\n",
       "\t\\hline\n",
       "\t1 & 3350-07D & 0.0927373 & 0.12027 & 27.0 & 3.0 & 25.0 & 3.0 \\\\\n",
       "\t2 & 4350-01D & 0.0248354 & 0.139269 & 0.0 & 0.0 & 0.0 & 0.0 \\\\\n",
       "\t3 & 3350-07D & 0.0927373 & 0.12027 & 0.0 & 0.0 & 0.0 & 0.0 \\\\\n",
       "\t4 & 3260-01D & 0.145981 & 0.210769 & 12.0 & 0.0 & 8.0 & 0.0 \\\\\n",
       "\t5 & 4240-01D & 0.149987 & 0.168295 & 391.0 & 18.0 & 167.0 & 6.0 \\\\\n",
       "\t6 & 4380-01D & 0.0401006 & 0.154948 & 2.0 & 0.0 & 2.0 & 0.0 \\\\\n",
       "\t7 & 3350-07D & 0.0927373 & 0.12027 & 0.0 & 0.0 & 0.0 & 0.0 \\\\\n",
       "\t8 & 4380-01D & 0.0401006 & 0.154948 & 89.0 & 67.0 & 45.0 & 32.0 \\\\\n",
       "\t9 & 4240-01D & 0.149987 & 0.168295 & 14.0 & 22.0 & 12.0 & 12.0 \\\\\n",
       "\t10 & 3350-07D & 0.0927373 & 0.12027 & 0.0 & 0.0 & 0.0 & 0.0 \\\\\n",
       "\\end{tabular}\n"
      ],
      "text/plain": [
       "10×7 DataFrame. Omitted printing of 1 columns\n",
       "│ Row │ ID_OUVRAGE │ FS_dist   │ SS_dist  │ FS_sum  │ SS_sum  │ FS_max  │\n",
       "│     │ \u001b[90mString\u001b[39m     │ \u001b[90mFloat64\u001b[39m   │ \u001b[90mFloat64\u001b[39m  │ \u001b[90mFloat64\u001b[39m │ \u001b[90mFloat64\u001b[39m │ \u001b[90mFloat64\u001b[39m │\n",
       "├─────┼────────────┼───────────┼──────────┼─────────┼─────────┼─────────┤\n",
       "│ 1   │ 3350-07D   │ 0.0927373 │ 0.12027  │ 27.0    │ 3.0     │ 25.0    │\n",
       "│ 2   │ 4350-01D   │ 0.0248354 │ 0.139269 │ 0.0     │ 0.0     │ 0.0     │\n",
       "│ 3   │ 3350-07D   │ 0.0927373 │ 0.12027  │ 0.0     │ 0.0     │ 0.0     │\n",
       "│ 4   │ 3260-01D   │ 0.145981  │ 0.210769 │ 12.0    │ 0.0     │ 8.0     │\n",
       "│ 5   │ 4240-01D   │ 0.149987  │ 0.168295 │ 391.0   │ 18.0    │ 167.0   │\n",
       "│ 6   │ 4380-01D   │ 0.0401006 │ 0.154948 │ 2.0     │ 0.0     │ 2.0     │\n",
       "│ 7   │ 3350-07D   │ 0.0927373 │ 0.12027  │ 0.0     │ 0.0     │ 0.0     │\n",
       "│ 8   │ 4380-01D   │ 0.0401006 │ 0.154948 │ 89.0    │ 67.0    │ 45.0    │\n",
       "│ 9   │ 4240-01D   │ 0.149987  │ 0.168295 │ 14.0    │ 22.0    │ 12.0    │\n",
       "│ 10  │ 3350-07D   │ 0.0927373 │ 0.12027  │ 0.0     │ 0.0     │ 0.0     │"
      ]
     },
     "execution_count": 45,
     "metadata": {},
     "output_type": "execute_result"
    }
   ],
   "source": [
    "cols = [:ID_OUVRAGE, :FS_dist, :SS_dist, :FS_sum, :SS_sum, :FS_max, :SS_max];\n",
    "first(shuffleDf(test_data[!, cols]), 10)"
   ]
  },
  {
   "cell_type": "code",
   "execution_count": 46,
   "metadata": {},
   "outputs": [
    {
     "data": {
      "text/plain": [
       "\"data/parsed/test_3260.csv\""
      ]
     },
     "execution_count": 46,
     "metadata": {},
     "output_type": "execute_result"
    }
   ],
   "source": [
    "test_3260 = filter(row -> row.ID_OUVRAGE == \"3260-01D\", test_data);\n",
    "select!(test_3260, Not(:ID_OUVRAGE));\n",
    "CSV.write(\"data/parsed/test_3260.csv\",test_3260)"
   ]
  },
  {
   "cell_type": "code",
   "execution_count": 47,
   "metadata": {},
   "outputs": [
    {
     "data": {
      "text/plain": [
       "\"data/parsed/test_3350.csv\""
      ]
     },
     "execution_count": 47,
     "metadata": {},
     "output_type": "execute_result"
    }
   ],
   "source": [
    "test_3350 = filter(row -> row.ID_OUVRAGE == \"3350-07D\", test_data);\n",
    "select!(test_3350, Not(:ID_OUVRAGE));\n",
    "CSV.write(\"data/parsed/test_3350.csv\",test_3350)"
   ]
  },
  {
   "cell_type": "code",
   "execution_count": 48,
   "metadata": {},
   "outputs": [
    {
     "data": {
      "text/plain": [
       "\"data/parsed/test_4240.csv\""
      ]
     },
     "execution_count": 48,
     "metadata": {},
     "output_type": "execute_result"
    }
   ],
   "source": [
    "test_4240 = filter(row -> row.ID_OUVRAGE == \"4240-01D\", test_data);\n",
    "select!(test_4240, Not(:ID_OUVRAGE));\n",
    "CSV.write(\"data/parsed/test_4240.csv\",test_4240)"
   ]
  },
  {
   "cell_type": "code",
   "execution_count": 49,
   "metadata": {},
   "outputs": [
    {
     "data": {
      "text/plain": [
       "\"data/parsed/test_4350.csv\""
      ]
     },
     "execution_count": 49,
     "metadata": {},
     "output_type": "execute_result"
    }
   ],
   "source": [
    "test_4350 = filter(row -> row.ID_OUVRAGE == \"4350-01D\", test_data);\n",
    "select!(test_4350, Not(:ID_OUVRAGE));\n",
    "CSV.write(\"data/parsed/test_4350.csv\",test_4350)"
   ]
  },
  {
   "cell_type": "code",
   "execution_count": 50,
   "metadata": {},
   "outputs": [
    {
     "data": {
      "text/plain": [
       "\"data/parsed/test_4380.csv\""
      ]
     },
     "execution_count": 50,
     "metadata": {},
     "output_type": "execute_result"
    }
   ],
   "source": [
    "test_4380 = filter(row -> row.ID_OUVRAGE == \"4380-01D\", test_data);\n",
    "select!(test_4380, Not(:ID_OUVRAGE));\n",
    "CSV.write(\"data/parsed/test_4380.csv\",test_4380)"
   ]
  }
 ],
 "metadata": {
  "kernelspec": {
   "display_name": "Julia 1.2.0",
   "language": "julia",
   "name": "julia-1.2"
  },
  "language_info": {
   "file_extension": ".jl",
   "mimetype": "application/julia",
   "name": "julia",
   "version": "1.0.5"
  }
 },
 "nbformat": 4,
 "nbformat_minor": 2
}
