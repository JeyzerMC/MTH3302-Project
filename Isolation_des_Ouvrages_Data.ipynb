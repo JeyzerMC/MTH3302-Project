{
 "cells": [
  {
   "cell_type": "code",
   "execution_count": 1,
   "metadata": {},
   "outputs": [
    {
     "name": "stderr",
     "output_type": "stream",
     "text": [
      "┌ Info: Loading DataFrames support into Gadfly.jl\n",
      "└ @ Gadfly /home/chaime/.julia/packages/Gadfly/09PWZ/src/mapping.jl:228\n"
     ]
    }
   ],
   "source": [
    "using CSV, DataFrames, Statistics, Dates, Gadfly, Random;\n",
    "include(\"utils/precipitation.jl\");"
   ]
  },
  {
   "cell_type": "markdown",
   "metadata": {},
   "source": [
    "On garde les ouvrages d'intérêt."
   ]
  },
  {
   "cell_type": "code",
   "execution_count": 2,
   "metadata": {},
   "outputs": [
    {
     "name": "stderr",
     "output_type": "stream",
     "text": [
      "┌ Warning: `names!(df::AbstractDataFrame, vals::Vector{Symbol}; makeunique::Bool=false)` is deprecated, use `rename!(df, vals, makeunique=makeunique)` instead.\n",
      "│   caller = top-level scope at In[2]:3\n",
      "└ @ Core In[2]:3\n"
     ]
    }
   ],
   "source": [
    "ouvrages = CSV.read(\"data/ouvrages-surverses.csv\");\n",
    "colnames = [\"N_Env\", \"ID_SOMA\", \"ID_OUVRAGE\", \"NOM\", \"SOMA_SEC\", \"REGION\", \"TP_X\", \"TP_Y\", \"TP_Z\", \"TP_LAT\", \"TP_LNG\", \"EMI_X\", \"EMI_Y\", \"EMI_LNG\", \"EMI_LAT\"];\n",
    "names!(ouvrages, Symbol.(colnames));\n",
    "select!(ouvrages, [:ID_OUVRAGE, :TP_LAT, :TP_LNG, :TP_Z]);\n",
    "ouvrages.TP_Z = coalesce.(ouvrages.TP_Z, mean(ouvrages[completecases(ouvrages), :].TP_Z));"
   ]
  },
  {
   "cell_type": "code",
   "execution_count": 3,
   "metadata": {},
   "outputs": [
    {
     "data": {
      "text/plain": [
       "(167, 4)"
      ]
     },
     "execution_count": 3,
     "metadata": {},
     "output_type": "execute_result"
    }
   ],
   "source": [
    "size(ouvrages)"
   ]
  },
  {
   "cell_type": "code",
   "execution_count": 4,
   "metadata": {},
   "outputs": [],
   "source": [
    "important_ouvrages = [\"3260-01D\", \"3350-07D\", \"4240-01D\", \"4350-01D\", \"4380-01D\"];\n",
    "ouvrages = filter(row -> row.ID_OUVRAGE ∈ important_ouvrages, ouvrages);"
   ]
  },
  {
   "cell_type": "code",
   "execution_count": 5,
   "metadata": {},
   "outputs": [
    {
     "data": {
      "text/html": [
       "<table class=\"data-frame\"><thead><tr><th></th><th>ID_OUVRAGE</th><th>TP_LAT</th><th>TP_LNG</th><th>TP_Z</th></tr><tr><th></th><th>String</th><th>Float64</th><th>Float64</th><th>Float64</th></tr></thead><tbody><p>5 rows × 4 columns</p><tr><th>1</th><td>3260-01D</td><td>45.6507</td><td>-73.5803</td><td>20.17</td></tr><tr><th>2</th><td>3350-07D</td><td>45.5461</td><td>-73.6921</td><td>20.75</td></tr><tr><th>3</th><td>4240-01D</td><td>45.6497</td><td>-73.4877</td><td>11.91</td></tr><tr><th>4</th><td>4350-01D</td><td>45.4991</td><td>-73.555</td><td>19.3526</td></tr><tr><th>5</th><td>4380-01D</td><td>45.4677</td><td>-73.5637</td><td>19.3526</td></tr></tbody></table>"
      ],
      "text/latex": [
       "\\begin{tabular}{r|cccc}\n",
       "\t& ID\\_OUVRAGE & TP\\_LAT & TP\\_LNG & TP\\_Z\\\\\n",
       "\t\\hline\n",
       "\t& String & Float64 & Float64 & Float64\\\\\n",
       "\t\\hline\n",
       "\t1 & 3260-01D & 45.6507 & -73.5803 & 20.17 \\\\\n",
       "\t2 & 3350-07D & 45.5461 & -73.6921 & 20.75 \\\\\n",
       "\t3 & 4240-01D & 45.6497 & -73.4877 & 11.91 \\\\\n",
       "\t4 & 4350-01D & 45.4991 & -73.555 & 19.3526 \\\\\n",
       "\t5 & 4380-01D & 45.4677 & -73.5637 & 19.3526 \\\\\n",
       "\\end{tabular}\n"
      ],
      "text/plain": [
       "5×4 DataFrame\n",
       "│ Row │ ID_OUVRAGE │ TP_LAT  │ TP_LNG   │ TP_Z    │\n",
       "│     │ \u001b[90mString\u001b[39m     │ \u001b[90mFloat64\u001b[39m │ \u001b[90mFloat64\u001b[39m  │ \u001b[90mFloat64\u001b[39m │\n",
       "├─────┼────────────┼─────────┼──────────┼─────────┤\n",
       "│ 1   │ 3260-01D   │ 45.6507 │ -73.5803 │ 20.17   │\n",
       "│ 2   │ 3350-07D   │ 45.5461 │ -73.6921 │ 20.75   │\n",
       "│ 3   │ 4240-01D   │ 45.6497 │ -73.4877 │ 11.91   │\n",
       "│ 4   │ 4350-01D   │ 45.4991 │ -73.555  │ 19.3526 │\n",
       "│ 5   │ 4380-01D   │ 45.4677 │ -73.5637 │ 19.3526 │"
      ]
     },
     "execution_count": 5,
     "metadata": {},
     "output_type": "execute_result"
    }
   ],
   "source": [
    "first(ouvrages, 5)"
   ]
  },
  {
   "cell_type": "code",
   "execution_count": 41,
   "metadata": {},
   "outputs": [],
   "source": [
    "surverses = CSV.read(\"data/surverses.csv\", missingstring=\"-99999\");\n",
    "surverses = filter(row -> month(row.DATE) > 4, surverses);\n",
    "surverses = filter(row -> month(row.DATE) < 11, surverses);\n",
    "surverses[!,:RAISON] = coalesce.(surverses[:,:RAISON],\"Inconnue\");\n",
    "\n",
    "surverses = filter(row -> row.RAISON ∈ [\"P\",\"Inconnue\",\"TS\"], surverses);\n",
    "select!(surverses, [:NO_OUVRAGE, :DATE, :SURVERSE]);\n",
    "rename!(surverses, :NO_OUVRAGE => :ID_OUVRAGE);"
   ]
  },
  {
   "cell_type": "code",
   "execution_count": 42,
   "metadata": {},
   "outputs": [],
   "source": [
    "surverses = filter(row -> row.ID_OUVRAGE ∈ important_ouvrages, surverses);\n",
    "dropmissing!(surverses);"
   ]
  },
  {
   "cell_type": "code",
   "execution_count": 43,
   "metadata": {},
   "outputs": [
    {
     "name": "stdout",
     "output_type": "stream",
     "text": [
      "Summary Stats:\n",
      "Length:         5129\n",
      "Missing Count:  0\n",
      "Mean:           0.085202\n",
      "Minimum:        0.000000\n",
      "1st Quartile:   0.000000\n",
      "Median:         0.000000\n",
      "3rd Quartile:   0.000000\n",
      "Maximum:        1.000000\n",
      "Type:           Int64\n"
     ]
    }
   ],
   "source": [
    "describe(surverses[!, :SURVERSE])"
   ]
  },
  {
   "cell_type": "code",
   "execution_count": 44,
   "metadata": {},
   "outputs": [
    {
     "name": "stdout",
     "output_type": "stream",
     "text": [
      "Summary Stats:\n",
      "Length:         1100\n",
      "Missing Count:  0\n",
      "Mean:           0.062727\n",
      "Minimum:        0.000000\n",
      "1st Quartile:   0.000000\n",
      "Median:         0.000000\n",
      "3rd Quartile:   0.000000\n",
      "Maximum:        1.000000\n",
      "Type:           Int64\n"
     ]
    }
   ],
   "source": [
    "curr = filter(row -> row.ID_OUVRAGE == important_ouvrages[3], surverses);\n",
    "describe(curr[!, :SURVERSE])"
   ]
  },
  {
   "cell_type": "markdown",
   "metadata": {},
   "source": [
    "Le mean correspond au taux de surverses ici -> Beaucoup plus de non surverses que de surverses"
   ]
  },
  {
   "cell_type": "markdown",
   "metadata": {},
   "source": [
    "### Beaucoup plus de 0 que de 1 -> Class imbalance problem\n",
    "On le solve avec du over sampling de 1 et du under sampling de 0, plus tard"
   ]
  },
  {
   "cell_type": "markdown",
   "metadata": {},
   "source": [
    "## Précipitations"
   ]
  },
  {
   "cell_type": "code",
   "execution_count": 10,
   "metadata": {},
   "outputs": [
    {
     "data": {
      "text/plain": [
       "7-element Array{Symbol,1}:\n",
       " :date      \n",
       " :heure     \n",
       " :McTavish  \n",
       " :Bellevue  \n",
       " :Assomption\n",
       " :Trudeau   \n",
       " :StHubert  "
      ]
     },
     "execution_count": 10,
     "metadata": {},
     "output_type": "execute_result"
    }
   ],
   "source": [
    "precipitations = CSV.read(\"data/precipitations.csv\",missingstring=\"-99999\");\n",
    "rename!(precipitations, Symbol(\"St-Hubert\")=>:StHubert);\n",
    "\n",
    "precipitations = filter(row -> month(row.date) > 4, precipitations);\n",
    "precipitations = filter(row -> month(row.date) < 11, precipitations); \n",
    "names(precipitations)"
   ]
  },
  {
   "cell_type": "code",
   "execution_count": 11,
   "metadata": {},
   "outputs": [
    {
     "name": "stdout",
     "output_type": "stream",
     "text": [
      "Summary Stats:\n",
      "Length:         30912\n",
      "Missing Count:  5206\n",
      "Mean:           1.223683\n",
      "Minimum:        0.000000\n",
      "1st Quartile:   0.000000\n",
      "Median:         0.000000\n",
      "3rd Quartile:   0.000000\n",
      "Maximum:        307.000000\n",
      "Type:           Union{Missing, Int64}\n"
     ]
    }
   ],
   "source": [
    "describe(precipitations[!, :StHubert])"
   ]
  },
  {
   "cell_type": "code",
   "execution_count": 12,
   "metadata": {},
   "outputs": [],
   "source": [
    "precipitation_by_day = by(precipitations, :date,  \n",
    "                            McTavish = :McTavish=>mean_wo_missing, \n",
    "                            Bellevue = :Bellevue=>mean_wo_missing, \n",
    "                            Assomption = :Assomption=>mean_wo_missing,\n",
    "                            Trudeau = :Trudeau=>mean_wo_missing,\n",
    "                            StHubert = :StHubert=>mean_wo_missing)\n",
    "\n",
    "for i=1:size(precipitations,1)\n",
    "    if isequal(precipitations[i, :McTavish], missing)\n",
    "        precipitations[i,:McTavish] = filter(row-> row.date == precipitations[i,:date], precipitation_by_day)[!,:McTavish][1]\n",
    "    end\n",
    "    if isequal(precipitations[i, :Bellevue], missing)\n",
    "        precipitations[i,:Bellevue] = filter(row-> row.date == precipitations[i,:date], precipitation_by_day)[!,:Bellevue][1]\n",
    "    end\n",
    "    if isequal(precipitations[i, :Assomption], missing)\n",
    "        precipitations[i,:Assomption] = filter(row-> row.date == precipitations[i,:date], precipitation_by_day)[!,:Assomption][1]\n",
    "    end\n",
    "    if isequal(precipitations[i, :Trudeau], missing)\n",
    "        precipitations[i,:Trudeau] = filter(row-> row.date == precipitations[i,:date], precipitation_by_day)[!,:Trudeau][1]\n",
    "    end\n",
    "    if isequal(precipitations[i, :StHubert], missing)\n",
    "        precipitations[i,:StHubert] = filter(row-> row.date == precipitations[i,:date], precipitation_by_day)[!,:StHubert][1]\n",
    "    end\n",
    "end"
   ]
  },
  {
   "cell_type": "code",
   "execution_count": 13,
   "metadata": {},
   "outputs": [
    {
     "name": "stdout",
     "output_type": "stream",
     "text": [
      "Summary Stats:\n",
      "Length:         30912\n",
      "Missing Count:  0\n",
      "Mean:           1.018957\n",
      "Minimum:        0.000000\n",
      "1st Quartile:   0.000000\n",
      "Median:         0.000000\n",
      "3rd Quartile:   0.000000\n",
      "Maximum:        307.000000\n",
      "Type:           Union{Missing, Int64}\n"
     ]
    }
   ],
   "source": [
    "describe(precipitations[!, :StHubert])"
   ]
  },
  {
   "cell_type": "code",
   "execution_count": 17,
   "metadata": {},
   "outputs": [
    {
     "data": {
      "text/html": [
       "<table class=\"data-frame\"><thead><tr><th></th><th>date</th><th>heure</th><th>McTavish</th><th>Bellevue</th><th>Assomption</th><th>Trudeau</th><th>StHubert</th></tr><tr><th></th><th>Date</th><th>Int64</th><th>Int64⍰</th><th>Int64⍰</th><th>Int64⍰</th><th>Int64⍰</th><th>Int64⍰</th></tr></thead><tbody><p>10 rows × 7 columns</p><tr><th>1</th><td>2017-06-23</td><td>23</td><td>0</td><td>0</td><td>0</td><td>0</td><td>0</td></tr><tr><th>2</th><td>2016-05-09</td><td>15</td><td>0</td><td>0</td><td>0</td><td>0</td><td>0</td></tr><tr><th>3</th><td>2018-10-07</td><td>22</td><td>0</td><td>0</td><td>0</td><td>0</td><td>0</td></tr><tr><th>4</th><td>2013-10-26</td><td>20</td><td>14</td><td>6</td><td>0</td><td>6</td><td>0</td></tr><tr><th>5</th><td>2014-09-10</td><td>20</td><td>0</td><td>0</td><td>0</td><td>0</td><td>0</td></tr><tr><th>6</th><td>2016-07-22</td><td>5</td><td>0</td><td>0</td><td>0</td><td>0</td><td>0</td></tr><tr><th>7</th><td>2016-10-22</td><td>20</td><td>26</td><td>11</td><td>20</td><td>13</td><td>30</td></tr><tr><th>8</th><td>2015-08-15</td><td>8</td><td>0</td><td>0</td><td>0</td><td>3</td><td>0</td></tr><tr><th>9</th><td>2015-05-31</td><td>18</td><td>0</td><td>0</td><td>0</td><td>0</td><td>0</td></tr><tr><th>10</th><td>2014-07-03</td><td>17</td><td>0</td><td>0</td><td>0</td><td>0</td><td>0</td></tr></tbody></table>"
      ],
      "text/latex": [
       "\\begin{tabular}{r|ccccccc}\n",
       "\t& date & heure & McTavish & Bellevue & Assomption & Trudeau & StHubert\\\\\n",
       "\t\\hline\n",
       "\t& Date & Int64 & Int64⍰ & Int64⍰ & Int64⍰ & Int64⍰ & Int64⍰\\\\\n",
       "\t\\hline\n",
       "\t1 & 2017-06-23 & 23 & 0 & 0 & 0 & 0 & 0 \\\\\n",
       "\t2 & 2016-05-09 & 15 & 0 & 0 & 0 & 0 & 0 \\\\\n",
       "\t3 & 2018-10-07 & 22 & 0 & 0 & 0 & 0 & 0 \\\\\n",
       "\t4 & 2013-10-26 & 20 & 14 & 6 & 0 & 6 & 0 \\\\\n",
       "\t5 & 2014-09-10 & 20 & 0 & 0 & 0 & 0 & 0 \\\\\n",
       "\t6 & 2016-07-22 & 5 & 0 & 0 & 0 & 0 & 0 \\\\\n",
       "\t7 & 2016-10-22 & 20 & 26 & 11 & 20 & 13 & 30 \\\\\n",
       "\t8 & 2015-08-15 & 8 & 0 & 0 & 0 & 3 & 0 \\\\\n",
       "\t9 & 2015-05-31 & 18 & 0 & 0 & 0 & 0 & 0 \\\\\n",
       "\t10 & 2014-07-03 & 17 & 0 & 0 & 0 & 0 & 0 \\\\\n",
       "\\end{tabular}\n"
      ],
      "text/plain": [
       "10×7 DataFrame. Omitted printing of 1 columns\n",
       "│ Row │ date       │ heure │ McTavish │ Bellevue │ Assomption │ Trudeau │\n",
       "│     │ \u001b[90mDate\u001b[39m       │ \u001b[90mInt64\u001b[39m │ \u001b[90mInt64⍰\u001b[39m   │ \u001b[90mInt64⍰\u001b[39m   │ \u001b[90mInt64⍰\u001b[39m     │ \u001b[90mInt64⍰\u001b[39m  │\n",
       "├─────┼────────────┼───────┼──────────┼──────────┼────────────┼─────────┤\n",
       "│ 1   │ 2017-06-23 │ 23    │ 0        │ 0        │ 0          │ 0       │\n",
       "│ 2   │ 2016-05-09 │ 15    │ 0        │ 0        │ 0          │ 0       │\n",
       "│ 3   │ 2018-10-07 │ 22    │ 0        │ 0        │ 0          │ 0       │\n",
       "│ 4   │ 2013-10-26 │ 20    │ 14       │ 6        │ 0          │ 6       │\n",
       "│ 5   │ 2014-09-10 │ 20    │ 0        │ 0        │ 0          │ 0       │\n",
       "│ 6   │ 2016-07-22 │ 5     │ 0        │ 0        │ 0          │ 0       │\n",
       "│ 7   │ 2016-10-22 │ 20    │ 26       │ 11       │ 20         │ 13      │\n",
       "│ 8   │ 2015-08-15 │ 8     │ 0        │ 0        │ 0          │ 3       │\n",
       "│ 9   │ 2015-05-31 │ 18    │ 0        │ 0        │ 0          │ 0       │\n",
       "│ 10  │ 2014-07-03 │ 17    │ 0        │ 0        │ 0          │ 0       │"
      ]
     },
     "execution_count": 17,
     "metadata": {},
     "output_type": "execute_result"
    }
   ],
   "source": [
    "first(shuffleDf(precipitations), 10)"
   ]
  },
  {
   "cell_type": "code",
   "execution_count": 18,
   "metadata": {},
   "outputs": [],
   "source": [
    "pcp_sum = by(precipitations, :date,  \n",
    "            McTavish = :McTavish=>sum, \n",
    "            Bellevue = :Bellevue=>sum,\n",
    "            Assomption = :Assomption=>sum, \n",
    "            Trudeau = :Trudeau=>sum, \n",
    "            StHubert = :StHubert=>sum);"
   ]
  },
  {
   "cell_type": "code",
   "execution_count": 51,
   "metadata": {},
   "outputs": [
    {
     "data": {
      "text/html": [
       "<table class=\"data-frame\"><thead><tr><th></th><th>date</th><th>McTavish</th><th>Bellevue</th><th>Assomption</th><th>Trudeau</th><th>StHubert</th></tr><tr><th></th><th>Date</th><th>Int64</th><th>Int64</th><th>Int64</th><th>Int64</th><th>Int64</th></tr></thead><tbody><p>5 rows × 6 columns</p><tr><th>1</th><td>2013-08-03</td><td>0</td><td>189</td><td>270</td><td>5</td><td>0</td></tr><tr><th>2</th><td>2016-05-24</td><td>0</td><td>0</td><td>0</td><td>0</td><td>0</td></tr><tr><th>3</th><td>2018-07-12</td><td>0</td><td>0</td><td>10</td><td>0</td><td>0</td></tr><tr><th>4</th><td>2016-06-05</td><td>562</td><td>234</td><td>360</td><td>283</td><td>424</td></tr><tr><th>5</th><td>2019-09-04</td><td>227</td><td>0</td><td>0</td><td>224</td><td>131</td></tr></tbody></table>"
      ],
      "text/latex": [
       "\\begin{tabular}{r|cccccc}\n",
       "\t& date & McTavish & Bellevue & Assomption & Trudeau & StHubert\\\\\n",
       "\t\\hline\n",
       "\t& Date & Int64 & Int64 & Int64 & Int64 & Int64\\\\\n",
       "\t\\hline\n",
       "\t1 & 2013-08-03 & 0 & 189 & 270 & 5 & 0 \\\\\n",
       "\t2 & 2016-05-24 & 0 & 0 & 0 & 0 & 0 \\\\\n",
       "\t3 & 2018-07-12 & 0 & 0 & 10 & 0 & 0 \\\\\n",
       "\t4 & 2016-06-05 & 562 & 234 & 360 & 283 & 424 \\\\\n",
       "\t5 & 2019-09-04 & 227 & 0 & 0 & 224 & 131 \\\\\n",
       "\\end{tabular}\n"
      ],
      "text/plain": [
       "5×6 DataFrame\n",
       "│ Row │ date       │ McTavish │ Bellevue │ Assomption │ Trudeau │ StHubert │\n",
       "│     │ \u001b[90mDate\u001b[39m       │ \u001b[90mInt64\u001b[39m    │ \u001b[90mInt64\u001b[39m    │ \u001b[90mInt64\u001b[39m      │ \u001b[90mInt64\u001b[39m   │ \u001b[90mInt64\u001b[39m    │\n",
       "├─────┼────────────┼──────────┼──────────┼────────────┼─────────┼──────────┤\n",
       "│ 1   │ 2013-08-03 │ 0        │ 189      │ 270        │ 5       │ 0        │\n",
       "│ 2   │ 2016-05-24 │ 0        │ 0        │ 0          │ 0       │ 0        │\n",
       "│ 3   │ 2018-07-12 │ 0        │ 0        │ 10         │ 0       │ 0        │\n",
       "│ 4   │ 2016-06-05 │ 562      │ 234      │ 360        │ 283     │ 424      │\n",
       "│ 5   │ 2019-09-04 │ 227      │ 0        │ 0          │ 224     │ 131      │"
      ]
     },
     "execution_count": 51,
     "metadata": {},
     "output_type": "execute_result"
    }
   ],
   "source": [
    "first(shuffleDf(pcp_sum), 5)"
   ]
  },
  {
   "cell_type": "code",
   "execution_count": null,
   "metadata": {},
   "outputs": [],
   "source": [
    "df_for_plot = melt(pcp_sum, :date)\n",
    "set_default_plot_size(25cm, 13cm)\n",
    "\n",
    "plot(df_for_plot, x=:date, y=:value, Geom.point, color=:variable)"
   ]
  },
  {
   "cell_type": "markdown",
   "metadata": {},
   "source": [
    "On réduit le gros outlier "
   ]
  },
  {
   "cell_type": "code",
   "execution_count": 19,
   "metadata": {},
   "outputs": [
    {
     "name": "stderr",
     "output_type": "stream",
     "text": [
      "┌ Warning: `getindex(df::DataFrame, col_ind::ColumnIndex)` is deprecated, use `df[!, col_ind]` instead.\n",
      "│   caller = top-level scope at In[19]:2\n",
      "└ @ Core In[19]:2\n",
      "┌ Warning: implicit broadcasting in setindex! is deprecated; use `df[row_inds, col_ind] .= Ref(v)` broadcasting assignment to change the column in place\n",
      "│   caller = top-level scope at In[19]:2\n",
      "└ @ Core In[19]:2\n"
     ]
    }
   ],
   "source": [
    "filter(row -> row.McTavish > 750, pcp_sum)\n",
    "pcp_sum[pcp_sum[:McTavish] .> 750, :McTavish] = 750;"
   ]
  },
  {
   "cell_type": "code",
   "execution_count": 20,
   "metadata": {},
   "outputs": [],
   "source": [
    "pcp_max = by(precipitations, :date,  \n",
    "            McTavish = :McTavish=>maximum,\n",
    "            Bellevue = :Bellevue=>maximum, \n",
    "            Assomption = :Assomption=>maximum,\n",
    "            Trudeau = :Trudeau=>maximum,\n",
    "            StHubert = :StHubert=>maximum);"
   ]
  },
  {
   "cell_type": "code",
   "execution_count": null,
   "metadata": {},
   "outputs": [],
   "source": [
    "df_for_plot = melt(pcp_max, :date)\n",
    "plot(df_for_plot, x=:date, y=:value, Geom.point, color=:variable)"
   ]
  },
  {
   "cell_type": "code",
   "execution_count": 21,
   "metadata": {},
   "outputs": [
    {
     "name": "stderr",
     "output_type": "stream",
     "text": [
      "┌ Warning: `getindex(df::DataFrame, col_ind::ColumnIndex)` is deprecated, use `df[!, col_ind]` instead.\n",
      "│   caller = top-level scope at In[21]:2\n",
      "└ @ Core In[21]:2\n",
      "┌ Warning: implicit broadcasting in setindex! is deprecated; use `df[row_inds, col_ind] .= Ref(v)` broadcasting assignment to change the column in place\n",
      "│   caller = top-level scope at In[21]:2\n",
      "└ @ Core In[21]:2\n"
     ]
    }
   ],
   "source": [
    "filter(row -> row.McTavish > 300, pcp_max)\n",
    "pcp_max[pcp_max[:McTavish] .> 300, :McTavish] = 300;"
   ]
  },
  {
   "cell_type": "code",
   "execution_count": 55,
   "metadata": {},
   "outputs": [
    {
     "data": {
      "text/html": [
       "<table class=\"data-frame\"><thead><tr><th></th><th>date</th><th>McTavish</th><th>Bellevue</th><th>Assomption</th><th>Trudeau</th><th>StHubert</th></tr><tr><th></th><th>Date</th><th>Int64</th><th>Int64</th><th>Int64</th><th>Int64</th><th>Int64</th></tr></thead><tbody><p>5 rows × 6 columns</p><tr><th>1</th><td>2016-09-06</td><td>0</td><td>0</td><td>0</td><td>0</td><td>0</td></tr><tr><th>2</th><td>2017-10-05</td><td>0</td><td>0</td><td>0</td><td>0</td><td>2</td></tr><tr><th>3</th><td>2019-05-02</td><td>12</td><td>7</td><td>7</td><td>8</td><td>10</td></tr><tr><th>4</th><td>2013-08-08</td><td>0</td><td>0</td><td>175</td><td>0</td><td>0</td></tr><tr><th>5</th><td>2015-10-13</td><td>26</td><td>5</td><td>20</td><td>13</td><td>10</td></tr></tbody></table>"
      ],
      "text/latex": [
       "\\begin{tabular}{r|cccccc}\n",
       "\t& date & McTavish & Bellevue & Assomption & Trudeau & StHubert\\\\\n",
       "\t\\hline\n",
       "\t& Date & Int64 & Int64 & Int64 & Int64 & Int64\\\\\n",
       "\t\\hline\n",
       "\t1 & 2016-09-06 & 0 & 0 & 0 & 0 & 0 \\\\\n",
       "\t2 & 2017-10-05 & 0 & 0 & 0 & 0 & 2 \\\\\n",
       "\t3 & 2019-05-02 & 12 & 7 & 7 & 8 & 10 \\\\\n",
       "\t4 & 2013-08-08 & 0 & 0 & 175 & 0 & 0 \\\\\n",
       "\t5 & 2015-10-13 & 26 & 5 & 20 & 13 & 10 \\\\\n",
       "\\end{tabular}\n"
      ],
      "text/plain": [
       "5×6 DataFrame\n",
       "│ Row │ date       │ McTavish │ Bellevue │ Assomption │ Trudeau │ StHubert │\n",
       "│     │ \u001b[90mDate\u001b[39m       │ \u001b[90mInt64\u001b[39m    │ \u001b[90mInt64\u001b[39m    │ \u001b[90mInt64\u001b[39m      │ \u001b[90mInt64\u001b[39m   │ \u001b[90mInt64\u001b[39m    │\n",
       "├─────┼────────────┼──────────┼──────────┼────────────┼─────────┼──────────┤\n",
       "│ 1   │ 2016-09-06 │ 0        │ 0        │ 0          │ 0       │ 0        │\n",
       "│ 2   │ 2017-10-05 │ 0        │ 0        │ 0          │ 0       │ 2        │\n",
       "│ 3   │ 2019-05-02 │ 12       │ 7        │ 7          │ 8       │ 10       │\n",
       "│ 4   │ 2013-08-08 │ 0        │ 0        │ 175        │ 0       │ 0        │\n",
       "│ 5   │ 2015-10-13 │ 26       │ 5        │ 20         │ 13      │ 10       │"
      ]
     },
     "execution_count": 55,
     "metadata": {},
     "output_type": "execute_result"
    }
   ],
   "source": [
    "first(shuffleDf(pcp_max), 5)"
   ]
  },
  {
   "cell_type": "code",
   "execution_count": 22,
   "metadata": {},
   "outputs": [],
   "source": [
    "pcp_max3 = by(precipitations, :date,\n",
    "                McTavish = :McTavish=>maximum3,\n",
    "                Bellevue = :Bellevue=>maximum3,\n",
    "                Assomption = :Assomption=>maximum3,\n",
    "                Trudeau = :Trudeau=>maximum3,\n",
    "                StHubert = :StHubert=>maximum3);"
   ]
  },
  {
   "cell_type": "code",
   "execution_count": null,
   "metadata": {
    "scrolled": true
   },
   "outputs": [],
   "source": [
    "df_for_plot = melt(pcp_max3, :date)\n",
    "plot(df_for_plot, x=:date, y=:value, Geom.point, color=:variable)"
   ]
  },
  {
   "cell_type": "code",
   "execution_count": 23,
   "metadata": {},
   "outputs": [
    {
     "name": "stderr",
     "output_type": "stream",
     "text": [
      "┌ Warning: `getindex(df::DataFrame, col_ind::ColumnIndex)` is deprecated, use `df[!, col_ind]` instead.\n",
      "│   caller = top-level scope at In[23]:2\n",
      "└ @ Core In[23]:2\n",
      "┌ Warning: implicit broadcasting in setindex! is deprecated; use `df[row_inds, col_ind] .= Ref(v)` broadcasting assignment to change the column in place\n",
      "│   caller = top-level scope at In[23]:2\n",
      "└ @ Core In[23]:2\n"
     ]
    }
   ],
   "source": [
    "filter(row -> row.McTavish > 550, pcp_max3)\n",
    "pcp_max3[pcp_max3[:McTavish] .> 550, :McTavish] = 550;"
   ]
  },
  {
   "cell_type": "code",
   "execution_count": 58,
   "metadata": {},
   "outputs": [
    {
     "data": {
      "text/html": [
       "<table class=\"data-frame\"><thead><tr><th></th><th>date</th><th>McTavish</th><th>Bellevue</th><th>Assomption</th><th>Trudeau</th><th>StHubert</th></tr><tr><th></th><th>Date</th><th>Int64</th><th>Int64</th><th>Int64</th><th>Int64</th><th>Int64</th></tr></thead><tbody><p>5 rows × 6 columns</p><tr><th>1</th><td>2015-08-22</td><td>0</td><td>0</td><td>0</td><td>0</td><td>0</td></tr><tr><th>2</th><td>2016-08-26</td><td>0</td><td>0</td><td>0</td><td>0</td><td>0</td></tr><tr><th>3</th><td>2014-07-25</td><td>0</td><td>0</td><td>0</td><td>0</td><td>0</td></tr><tr><th>4</th><td>2013-06-14</td><td>0</td><td>0</td><td>0</td><td>0</td><td>0</td></tr><tr><th>5</th><td>2014-08-23</td><td>0</td><td>0</td><td>20</td><td>0</td><td>0</td></tr></tbody></table>"
      ],
      "text/latex": [
       "\\begin{tabular}{r|cccccc}\n",
       "\t& date & McTavish & Bellevue & Assomption & Trudeau & StHubert\\\\\n",
       "\t\\hline\n",
       "\t& Date & Int64 & Int64 & Int64 & Int64 & Int64\\\\\n",
       "\t\\hline\n",
       "\t1 & 2015-08-22 & 0 & 0 & 0 & 0 & 0 \\\\\n",
       "\t2 & 2016-08-26 & 0 & 0 & 0 & 0 & 0 \\\\\n",
       "\t3 & 2014-07-25 & 0 & 0 & 0 & 0 & 0 \\\\\n",
       "\t4 & 2013-06-14 & 0 & 0 & 0 & 0 & 0 \\\\\n",
       "\t5 & 2014-08-23 & 0 & 0 & 20 & 0 & 0 \\\\\n",
       "\\end{tabular}\n"
      ],
      "text/plain": [
       "5×6 DataFrame\n",
       "│ Row │ date       │ McTavish │ Bellevue │ Assomption │ Trudeau │ StHubert │\n",
       "│     │ \u001b[90mDate\u001b[39m       │ \u001b[90mInt64\u001b[39m    │ \u001b[90mInt64\u001b[39m    │ \u001b[90mInt64\u001b[39m      │ \u001b[90mInt64\u001b[39m   │ \u001b[90mInt64\u001b[39m    │\n",
       "├─────┼────────────┼──────────┼──────────┼────────────┼─────────┼──────────┤\n",
       "│ 1   │ 2015-08-22 │ 0        │ 0        │ 0          │ 0       │ 0        │\n",
       "│ 2   │ 2016-08-26 │ 0        │ 0        │ 0          │ 0       │ 0        │\n",
       "│ 3   │ 2014-07-25 │ 0        │ 0        │ 0          │ 0       │ 0        │\n",
       "│ 4   │ 2013-06-14 │ 0        │ 0        │ 0          │ 0       │ 0        │\n",
       "│ 5   │ 2014-08-23 │ 0        │ 0        │ 20         │ 0       │ 0        │"
      ]
     },
     "execution_count": 58,
     "metadata": {},
     "output_type": "execute_result"
    }
   ],
   "source": [
    "first(shuffleDf(pcp_max3), 5)"
   ]
  },
  {
   "cell_type": "markdown",
   "metadata": {},
   "source": [
    "## Standardiser les données de précipitations"
   ]
  },
  {
   "cell_type": "code",
   "execution_count": 72,
   "metadata": {},
   "outputs": [
    {
     "data": {
      "text/plain": [
       "standardize_col (generic function with 1 method)"
      ]
     },
     "execution_count": 72,
     "metadata": {},
     "output_type": "execute_result"
    }
   ],
   "source": [
    "function standardize_col(col)\n",
    "    mean_col = mean(col);\n",
    "    std_col = std(col);\n",
    "    \n",
    "    res = (col .- mean_col) ./ std_col;\n",
    "    \n",
    "    return res;\n",
    "end"
   ]
  },
  {
   "cell_type": "code",
   "execution_count": 73,
   "metadata": {},
   "outputs": [],
   "source": [
    "pcp_sum[!, :McTavish] = standardize_col(pcp_sum[!, :McTavish]);\n",
    "pcp_sum[!, :Bellevue] = standardize_col(pcp_sum[!, :Bellevue]);\n",
    "pcp_sum[!, :Assomption] = standardize_col(pcp_sum[!, :Assomption]);\n",
    "pcp_sum[!, :Trudeau] = standardize_col(pcp_sum[!, :Trudeau]);\n",
    "pcp_sum[!, :StHubert] = standardize_col(pcp_sum[!, :StHubert]);\n",
    "\n",
    "pcp_max[!, :McTavish] = standardize_col(pcp_max[!, :McTavish]);\n",
    "pcp_max[!, :Bellevue] = standardize_col(pcp_max[!, :Bellevue]);\n",
    "pcp_max[!, :Assomption] = standardize_col(pcp_max[!, :Assomption]);\n",
    "pcp_max[!, :Trudeau] = standardize_col(pcp_max[!, :Trudeau]);\n",
    "pcp_max[!, :StHubert] = standardize_col(pcp_max[!, :StHubert]);\n",
    "\n",
    "pcp_max3[!, :McTavish] = standardize_col(pcp_max3[!, :McTavish]);\n",
    "pcp_max3[!, :Bellevue] = standardize_col(pcp_max3[!, :Bellevue]);\n",
    "pcp_max3[!, :Assomption] = standardize_col(pcp_max3[!, :Assomption]);\n",
    "pcp_max3[!, :Trudeau] = standardize_col(pcp_max3[!, :Trudeau]);\n",
    "pcp_max3[!, :StHubert] = standardize_col(pcp_max3[!, :StHubert]);"
   ]
  },
  {
   "cell_type": "code",
   "execution_count": 75,
   "metadata": {},
   "outputs": [
    {
     "data": {
      "text/html": [
       "<table class=\"data-frame\"><thead><tr><th></th><th>date</th><th>McTavish</th><th>Bellevue</th><th>Assomption</th><th>Trudeau</th><th>StHubert</th></tr><tr><th></th><th>Date</th><th>Float64</th><th>Float64</th><th>Float64</th><th>Float64</th><th>Float64</th></tr></thead><tbody><p>10 rows × 6 columns</p><tr><th>1</th><td>2019-07-23</td><td>-0.391555</td><td>-0.377483</td><td>-0.396733</td><td>-0.402043</td><td>-0.358123</td></tr><tr><th>2</th><td>2015-05-06</td><td>-0.391555</td><td>-0.377483</td><td>-0.272301</td><td>-0.402043</td><td>-0.358123</td></tr><tr><th>3</th><td>2018-08-15</td><td>-0.242534</td><td>-0.377483</td><td>-0.272301</td><td>-0.318575</td><td>-0.358123</td></tr><tr><th>4</th><td>2013-10-09</td><td>-0.391555</td><td>-0.377483</td><td>-0.272301</td><td>-0.402043</td><td>-0.358123</td></tr><tr><th>5</th><td>2018-06-06</td><td>-0.391555</td><td>-0.315351</td><td>-0.396733</td><td>-0.402043</td><td>-0.358123</td></tr><tr><th>6</th><td>2013-09-25</td><td>-0.391555</td><td>-0.377483</td><td>-0.396733</td><td>-0.402043</td><td>-0.358123</td></tr><tr><th>7</th><td>2015-06-13</td><td>-0.366718</td><td>-0.346417</td><td>-0.396733</td><td>-0.402043</td><td>-0.328835</td></tr><tr><th>8</th><td>2016-10-12</td><td>-0.391555</td><td>-0.377483</td><td>-0.396733</td><td>-0.402043</td><td>-0.358123</td></tr><tr><th>9</th><td>2017-08-07</td><td>-0.391555</td><td>-0.377483</td><td>-0.396733</td><td>-0.402043</td><td>-0.358123</td></tr><tr><th>10</th><td>2014-08-22</td><td>-0.391555</td><td>-0.377483</td><td>-0.259858</td><td>-0.402043</td><td>-0.358123</td></tr></tbody></table>"
      ],
      "text/latex": [
       "\\begin{tabular}{r|cccccc}\n",
       "\t& date & McTavish & Bellevue & Assomption & Trudeau & StHubert\\\\\n",
       "\t\\hline\n",
       "\t& Date & Float64 & Float64 & Float64 & Float64 & Float64\\\\\n",
       "\t\\hline\n",
       "\t1 & 2019-07-23 & -0.391555 & -0.377483 & -0.396733 & -0.402043 & -0.358123 \\\\\n",
       "\t2 & 2015-05-06 & -0.391555 & -0.377483 & -0.272301 & -0.402043 & -0.358123 \\\\\n",
       "\t3 & 2018-08-15 & -0.242534 & -0.377483 & -0.272301 & -0.318575 & -0.358123 \\\\\n",
       "\t4 & 2013-10-09 & -0.391555 & -0.377483 & -0.272301 & -0.402043 & -0.358123 \\\\\n",
       "\t5 & 2018-06-06 & -0.391555 & -0.315351 & -0.396733 & -0.402043 & -0.358123 \\\\\n",
       "\t6 & 2013-09-25 & -0.391555 & -0.377483 & -0.396733 & -0.402043 & -0.358123 \\\\\n",
       "\t7 & 2015-06-13 & -0.366718 & -0.346417 & -0.396733 & -0.402043 & -0.328835 \\\\\n",
       "\t8 & 2016-10-12 & -0.391555 & -0.377483 & -0.396733 & -0.402043 & -0.358123 \\\\\n",
       "\t9 & 2017-08-07 & -0.391555 & -0.377483 & -0.396733 & -0.402043 & -0.358123 \\\\\n",
       "\t10 & 2014-08-22 & -0.391555 & -0.377483 & -0.259858 & -0.402043 & -0.358123 \\\\\n",
       "\\end{tabular}\n"
      ],
      "text/plain": [
       "10×6 DataFrame. Omitted printing of 1 columns\n",
       "│ Row │ date       │ McTavish  │ Bellevue  │ Assomption │ Trudeau   │\n",
       "│     │ \u001b[90mDate\u001b[39m       │ \u001b[90mFloat64\u001b[39m   │ \u001b[90mFloat64\u001b[39m   │ \u001b[90mFloat64\u001b[39m    │ \u001b[90mFloat64\u001b[39m   │\n",
       "├─────┼────────────┼───────────┼───────────┼────────────┼───────────┤\n",
       "│ 1   │ 2019-07-23 │ -0.391555 │ -0.377483 │ -0.396733  │ -0.402043 │\n",
       "│ 2   │ 2015-05-06 │ -0.391555 │ -0.377483 │ -0.272301  │ -0.402043 │\n",
       "│ 3   │ 2018-08-15 │ -0.242534 │ -0.377483 │ -0.272301  │ -0.318575 │\n",
       "│ 4   │ 2013-10-09 │ -0.391555 │ -0.377483 │ -0.272301  │ -0.402043 │\n",
       "│ 5   │ 2018-06-06 │ -0.391555 │ -0.315351 │ -0.396733  │ -0.402043 │\n",
       "│ 6   │ 2013-09-25 │ -0.391555 │ -0.377483 │ -0.396733  │ -0.402043 │\n",
       "│ 7   │ 2015-06-13 │ -0.366718 │ -0.346417 │ -0.396733  │ -0.402043 │\n",
       "│ 8   │ 2016-10-12 │ -0.391555 │ -0.377483 │ -0.396733  │ -0.402043 │\n",
       "│ 9   │ 2017-08-07 │ -0.391555 │ -0.377483 │ -0.396733  │ -0.402043 │\n",
       "│ 10  │ 2014-08-22 │ -0.391555 │ -0.377483 │ -0.259858  │ -0.402043 │"
      ]
     },
     "execution_count": 75,
     "metadata": {},
     "output_type": "execute_result"
    }
   ],
   "source": [
    "first(shuffleDf(pcp_sum), 10)"
   ]
  },
  {
   "cell_type": "markdown",
   "metadata": {},
   "source": [
    "## Stations"
   ]
  },
  {
   "cell_type": "code",
   "execution_count": 76,
   "metadata": {},
   "outputs": [
    {
     "data": {
      "text/html": [
       "<table class=\"data-frame\"><thead><tr><th></th><th>STATION</th><th>LAT</th><th>LNG</th></tr><tr><th></th><th>String</th><th>Float64</th><th>Float64</th></tr></thead><tbody><p>5 rows × 3 columns</p><tr><th>1</th><td>McTavish</td><td>45.5047</td><td>-73.5792</td></tr><tr><th>2</th><td>Bellevue</td><td>45.4272</td><td>-73.9292</td></tr><tr><th>3</th><td>Assomption</td><td>45.8094</td><td>-73.4347</td></tr><tr><th>4</th><td>Trudeau</td><td>45.4678</td><td>-73.7417</td></tr><tr><th>5</th><td>StHubert</td><td>45.5175</td><td>-73.4169</td></tr></tbody></table>"
      ],
      "text/latex": [
       "\\begin{tabular}{r|ccc}\n",
       "\t& STATION & LAT & LNG\\\\\n",
       "\t\\hline\n",
       "\t& String & Float64 & Float64\\\\\n",
       "\t\\hline\n",
       "\t1 & McTavish & 45.5047 & -73.5792 \\\\\n",
       "\t2 & Bellevue & 45.4272 & -73.9292 \\\\\n",
       "\t3 & Assomption & 45.8094 & -73.4347 \\\\\n",
       "\t4 & Trudeau & 45.4678 & -73.7417 \\\\\n",
       "\t5 & StHubert & 45.5175 & -73.4169 \\\\\n",
       "\\end{tabular}\n"
      ],
      "text/plain": [
       "5×3 DataFrame\n",
       "│ Row │ STATION    │ LAT     │ LNG      │\n",
       "│     │ \u001b[90mString\u001b[39m     │ \u001b[90mFloat64\u001b[39m │ \u001b[90mFloat64\u001b[39m  │\n",
       "├─────┼────────────┼─────────┼──────────┤\n",
       "│ 1   │ McTavish   │ 45.5047 │ -73.5792 │\n",
       "│ 2   │ Bellevue   │ 45.4272 │ -73.9292 │\n",
       "│ 3   │ Assomption │ 45.8094 │ -73.4347 │\n",
       "│ 4   │ Trudeau    │ 45.4678 │ -73.7417 │\n",
       "│ 5   │ StHubert   │ 45.5175 │ -73.4169 │"
      ]
     },
     "execution_count": 76,
     "metadata": {},
     "output_type": "execute_result"
    }
   ],
   "source": [
    "station_df = DataFrame(STATION = String[], LAT = Float64[], LNG = Float64[]);\n",
    "\n",
    "push!(station_df, [\"McTavish\", 45.504742, -73.579167]);\n",
    "push!(station_df, [\"Bellevue\", 45.427222, -73.929167]);\n",
    "push!(station_df, [\"Assomption\", 45.809444, -73.434722]);\n",
    "push!(station_df, [\"Trudeau\", 45.467778, -73.741667]);\n",
    "push!(station_df, [\"StHubert\", 45.5175, -73.416944]);\n",
    "\n",
    "station_df"
   ]
  },
  {
   "cell_type": "markdown",
   "metadata": {},
   "source": [
    "### On ajoute les colonnes de précipitations"
   ]
  },
  {
   "cell_type": "code",
   "execution_count": 77,
   "metadata": {},
   "outputs": [],
   "source": [
    "train_data = surverses;\n",
    "\n",
    "train_data[!, :FS_dist] = zeros(size(train_data, 1));\n",
    "train_data[!, :SS_dist] = zeros(size(train_data, 1));\n",
    "train_data[!, :FS_sum] = zeros(size(train_data, 1));\n",
    "train_data[!, :FS_max] = zeros(size(train_data, 1));\n",
    "train_data[!, :FS_max3] = zeros(size(train_data, 1));\n",
    "train_data[!, :SS_sum] = zeros(size(train_data, 1));\n",
    "train_data[!, :SS_max] = zeros(size(train_data, 1));\n",
    "train_data[!, :SS_max3] = zeros(size(train_data, 1));"
   ]
  },
  {
   "cell_type": "code",
   "execution_count": 78,
   "metadata": {},
   "outputs": [
    {
     "data": {
      "text/html": [
       "<table class=\"data-frame\"><thead><tr><th></th><th>ID_OUVRAGE</th><th>DATE</th><th>SURVERSE</th><th>FS_dist</th><th>SS_dist</th><th>FS_sum</th><th>FS_max</th><th>FS_max3</th><th>SS_sum</th></tr><tr><th></th><th>String</th><th>Date</th><th>Int64</th><th>Float64</th><th>Float64</th><th>Float64</th><th>Float64</th><th>Float64</th><th>Float64</th></tr></thead><tbody><p>5 rows × 11 columns (omitted printing of 2 columns)</p><tr><th>1</th><td>3260-01D</td><td>2013-08-19</td><td>0</td><td>0.0</td><td>0.0</td><td>0.0</td><td>0.0</td><td>0.0</td><td>0.0</td></tr><tr><th>2</th><td>3260-01D</td><td>2014-08-01</td><td>0</td><td>0.0</td><td>0.0</td><td>0.0</td><td>0.0</td><td>0.0</td><td>0.0</td></tr><tr><th>3</th><td>4350-01D</td><td>2015-09-18</td><td>0</td><td>0.0</td><td>0.0</td><td>0.0</td><td>0.0</td><td>0.0</td><td>0.0</td></tr><tr><th>4</th><td>4380-01D</td><td>2017-08-20</td><td>0</td><td>0.0</td><td>0.0</td><td>0.0</td><td>0.0</td><td>0.0</td><td>0.0</td></tr><tr><th>5</th><td>4380-01D</td><td>2014-06-23</td><td>0</td><td>0.0</td><td>0.0</td><td>0.0</td><td>0.0</td><td>0.0</td><td>0.0</td></tr></tbody></table>"
      ],
      "text/latex": [
       "\\begin{tabular}{r|cccccccccc}\n",
       "\t& ID\\_OUVRAGE & DATE & SURVERSE & FS\\_dist & SS\\_dist & FS\\_sum & FS\\_max & FS\\_max3 & SS\\_sum & \\\\\n",
       "\t\\hline\n",
       "\t& String & Date & Int64 & Float64 & Float64 & Float64 & Float64 & Float64 & Float64 & \\\\\n",
       "\t\\hline\n",
       "\t1 & 3260-01D & 2013-08-19 & 0 & 0.0 & 0.0 & 0.0 & 0.0 & 0.0 & 0.0 & $\\dots$ \\\\\n",
       "\t2 & 3260-01D & 2014-08-01 & 0 & 0.0 & 0.0 & 0.0 & 0.0 & 0.0 & 0.0 & $\\dots$ \\\\\n",
       "\t3 & 4350-01D & 2015-09-18 & 0 & 0.0 & 0.0 & 0.0 & 0.0 & 0.0 & 0.0 & $\\dots$ \\\\\n",
       "\t4 & 4380-01D & 2017-08-20 & 0 & 0.0 & 0.0 & 0.0 & 0.0 & 0.0 & 0.0 & $\\dots$ \\\\\n",
       "\t5 & 4380-01D & 2014-06-23 & 0 & 0.0 & 0.0 & 0.0 & 0.0 & 0.0 & 0.0 & $\\dots$ \\\\\n",
       "\\end{tabular}\n"
      ],
      "text/plain": [
       "5×11 DataFrame. Omitted printing of 5 columns\n",
       "│ Row │ ID_OUVRAGE │ DATE       │ SURVERSE │ FS_dist │ SS_dist │ FS_sum  │\n",
       "│     │ \u001b[90mString\u001b[39m     │ \u001b[90mDate\u001b[39m       │ \u001b[90mInt64\u001b[39m    │ \u001b[90mFloat64\u001b[39m │ \u001b[90mFloat64\u001b[39m │ \u001b[90mFloat64\u001b[39m │\n",
       "├─────┼────────────┼────────────┼──────────┼─────────┼─────────┼─────────┤\n",
       "│ 1   │ 3260-01D   │ 2013-08-19 │ 0        │ 0.0     │ 0.0     │ 0.0     │\n",
       "│ 2   │ 3260-01D   │ 2014-08-01 │ 0        │ 0.0     │ 0.0     │ 0.0     │\n",
       "│ 3   │ 4350-01D   │ 2015-09-18 │ 0        │ 0.0     │ 0.0     │ 0.0     │\n",
       "│ 4   │ 4380-01D   │ 2017-08-20 │ 0        │ 0.0     │ 0.0     │ 0.0     │\n",
       "│ 5   │ 4380-01D   │ 2014-06-23 │ 0        │ 0.0     │ 0.0     │ 0.0     │"
      ]
     },
     "execution_count": 78,
     "metadata": {},
     "output_type": "execute_result"
    }
   ],
   "source": [
    "first(shuffleDf(train_data), 5)"
   ]
  },
  {
   "cell_type": "code",
   "execution_count": 79,
   "metadata": {},
   "outputs": [
    {
     "name": "stdout",
     "output_type": "stream",
     "text": [
      "Summary Stats:\n",
      "Length:         5129\n",
      "Missing Count:  0\n",
      "Mean:           0.085202\n",
      "Minimum:        0.000000\n",
      "1st Quartile:   0.000000\n",
      "Median:         0.000000\n",
      "3rd Quartile:   0.000000\n",
      "Maximum:        1.000000\n",
      "Type:           Int64\n"
     ]
    }
   ],
   "source": [
    "describe(train_data[!, :SURVERSE])"
   ]
  },
  {
   "cell_type": "markdown",
   "metadata": {},
   "source": [
    "Populate les fields de chaque data"
   ]
  },
  {
   "cell_type": "code",
   "execution_count": 84,
   "metadata": {},
   "outputs": [],
   "source": [
    "for i=1:size(train_data, 1)\n",
    "    curr_ouvrage = train_data[i, 1];\n",
    "    ouvrage_data = filter(row -> row.ID_OUVRAGE == curr_ouvrage, ouvrages);\n",
    "    \n",
    "    closest_station = nothing;\n",
    "    closest_distance = 9999;\n",
    "    \n",
    "    second_closest_station = nothing;\n",
    "    second_closest_distance = 9999;\n",
    "    \n",
    "    # Pour chaque station\n",
    "    for j=1:5\n",
    "       current_station = station_df[j, :STATION];\n",
    "       dist = findDistance(ouvrage_data[1, :TP_LAT], ouvrage_data[1, :TP_LNG], station_df[j, :LAT], station_df[j, :LNG]);\n",
    "       \n",
    "        if dist < closest_distance\n",
    "            second_closest_distance = closest_distance;\n",
    "            second_closest_station = closest_station;\n",
    "            closest_distance = dist;\n",
    "            closest_station = current_station;\n",
    "        elseif dist < second_closest_distance\n",
    "            second_closest_distance = dist;\n",
    "            second_closest_station = current_station;\n",
    "        end\n",
    "    end\n",
    "    \n",
    "    train_data[i, :FS_dist] = closest_distance;\n",
    "    train_data[i, :SS_dist] = second_closest_distance;\n",
    "    \n",
    "    # Add data for first station\n",
    "    sum_p = pcp_sum[∈([train_data[i, :DATE]]).(pcp_sum.date), Symbol(closest_station)];\n",
    "    train_data[i, :FS_sum] = sum_p[1];\n",
    "    max_p = pcp_max[∈([train_data[i, :DATE]]).(pcp_max.date), Symbol(closest_station)];\n",
    "    train_data[i, :FS_max] = max_p[1];\n",
    "    max3_p = pcp_max3[∈([train_data[i, :DATE]]).(pcp_max3.date), Symbol(closest_station)];\n",
    "    train_data[i, :FS_max3] = max3_p[1];\n",
    "    \n",
    "    # Find multiplier for second station\n",
    "    ratio = second_closest_distance / closest_distance;\n",
    "    logratio = log(sqrt(ratio));\n",
    "    multiplier = 1 - logratio;\n",
    "    \n",
    "    # Add data for second station\n",
    "    s_sum_p = pcp_sum[∈([train_data[i, :DATE]]).(pcp_sum.date), Symbol(second_closest_station)];\n",
    "    train_data[i, :SS_sum] = s_sum_p[1] * multiplier;\n",
    "    s_max_p = pcp_max[∈([train_data[i, :DATE]]).(pcp_max.date), Symbol(second_closest_station)];\n",
    "    train_data[i, :SS_max] = s_max_p[1] * multiplier;\n",
    "    s_max3_p = pcp_max3[∈([train_data[i, :DATE]]).(pcp_max3.date), Symbol(second_closest_station)];\n",
    "    train_data[i, :SS_max3] = s_max3_p[1] * multiplier;\n",
    "end"
   ]
  },
  {
   "cell_type": "code",
   "execution_count": 95,
   "metadata": {},
   "outputs": [
    {
     "data": {
      "text/html": [
       "<table class=\"data-frame\"><thead><tr><th></th><th>ID_OUVRAGE</th><th>SURVERSE</th><th>FS_dist</th><th>SS_dist</th><th>FS_sum</th><th>SS_sum</th><th>FS_max</th><th>SS_max</th></tr><tr><th></th><th>String</th><th>Int64</th><th>Float64</th><th>Float64</th><th>Float64</th><th>Float64</th><th>Float64</th><th>Float64</th></tr></thead><tbody><p>10 rows × 8 columns</p><tr><th>1</th><td>3260-01D</td><td>0</td><td>0.145981</td><td>0.210769</td><td>-0.391555</td><td>-0.292356</td><td>-0.41013</td><td>-0.306429</td></tr><tr><th>2</th><td>3260-01D</td><td>0</td><td>0.145981</td><td>0.210769</td><td>-0.292208</td><td>-0.208672</td><td>-0.348339</td><td>-0.161624</td></tr><tr><th>3</th><td>3260-01D</td><td>0</td><td>0.145981</td><td>0.210769</td><td>-0.391555</td><td>-0.292356</td><td>-0.41013</td><td>-0.306429</td></tr><tr><th>4</th><td>4350-01D</td><td>0</td><td>0.0248354</td><td>0.139269</td><td>-0.391555</td><td>-0.0493965</td><td>-0.41013</td><td>-0.0517744</td></tr><tr><th>5</th><td>4380-01D</td><td>0</td><td>0.0401006</td><td>0.154948</td><td>1.14832</td><td>-0.116085</td><td>0.887471</td><td>-0.121674</td></tr><tr><th>6</th><td>3350-07D</td><td>0</td><td>0.0927373</td><td>0.12027</td><td>-0.332486</td><td>-0.319051</td><td>-0.31887</td><td>-0.303061</td></tr><tr><th>7</th><td>3350-07D</td><td>0</td><td>0.0927373</td><td>0.12027</td><td>-0.0542623</td><td>-0.0813586</td><td>-0.0259745</td><td>-0.088026</td></tr><tr><th>8</th><td>4380-01D</td><td>1</td><td>0.0401006</td><td>0.154948</td><td>3.25944</td><td>1.19881</td><td>1.84522</td><td>0.660295</td></tr><tr><th>9</th><td>3260-01D</td><td>0</td><td>0.145981</td><td>0.210769</td><td>-0.391555</td><td>-0.292356</td><td>-0.41013</td><td>-0.306429</td></tr><tr><th>10</th><td>4350-01D</td><td>0</td><td>0.0248354</td><td>0.139269</td><td>0.800609</td><td>0.162693</td><td>0.238671</td><td>0.0705573</td></tr></tbody></table>"
      ],
      "text/latex": [
       "\\begin{tabular}{r|cccccccc}\n",
       "\t& ID\\_OUVRAGE & SURVERSE & FS\\_dist & SS\\_dist & FS\\_sum & SS\\_sum & FS\\_max & SS\\_max\\\\\n",
       "\t\\hline\n",
       "\t& String & Int64 & Float64 & Float64 & Float64 & Float64 & Float64 & Float64\\\\\n",
       "\t\\hline\n",
       "\t1 & 3260-01D & 0 & 0.145981 & 0.210769 & -0.391555 & -0.292356 & -0.41013 & -0.306429 \\\\\n",
       "\t2 & 3260-01D & 0 & 0.145981 & 0.210769 & -0.292208 & -0.208672 & -0.348339 & -0.161624 \\\\\n",
       "\t3 & 3260-01D & 0 & 0.145981 & 0.210769 & -0.391555 & -0.292356 & -0.41013 & -0.306429 \\\\\n",
       "\t4 & 4350-01D & 0 & 0.0248354 & 0.139269 & -0.391555 & -0.0493965 & -0.41013 & -0.0517744 \\\\\n",
       "\t5 & 4380-01D & 0 & 0.0401006 & 0.154948 & 1.14832 & -0.116085 & 0.887471 & -0.121674 \\\\\n",
       "\t6 & 3350-07D & 0 & 0.0927373 & 0.12027 & -0.332486 & -0.319051 & -0.31887 & -0.303061 \\\\\n",
       "\t7 & 3350-07D & 0 & 0.0927373 & 0.12027 & -0.0542623 & -0.0813586 & -0.0259745 & -0.088026 \\\\\n",
       "\t8 & 4380-01D & 1 & 0.0401006 & 0.154948 & 3.25944 & 1.19881 & 1.84522 & 0.660295 \\\\\n",
       "\t9 & 3260-01D & 0 & 0.145981 & 0.210769 & -0.391555 & -0.292356 & -0.41013 & -0.306429 \\\\\n",
       "\t10 & 4350-01D & 0 & 0.0248354 & 0.139269 & 0.800609 & 0.162693 & 0.238671 & 0.0705573 \\\\\n",
       "\\end{tabular}\n"
      ],
      "text/plain": [
       "10×8 DataFrame. Omitted printing of 2 columns\n",
       "│ Row │ ID_OUVRAGE │ SURVERSE │ FS_dist   │ SS_dist  │ FS_sum     │ SS_sum     │\n",
       "│     │ \u001b[90mString\u001b[39m     │ \u001b[90mInt64\u001b[39m    │ \u001b[90mFloat64\u001b[39m   │ \u001b[90mFloat64\u001b[39m  │ \u001b[90mFloat64\u001b[39m    │ \u001b[90mFloat64\u001b[39m    │\n",
       "├─────┼────────────┼──────────┼───────────┼──────────┼────────────┼────────────┤\n",
       "│ 1   │ 3260-01D   │ 0        │ 0.145981  │ 0.210769 │ -0.391555  │ -0.292356  │\n",
       "│ 2   │ 3260-01D   │ 0        │ 0.145981  │ 0.210769 │ -0.292208  │ -0.208672  │\n",
       "│ 3   │ 3260-01D   │ 0        │ 0.145981  │ 0.210769 │ -0.391555  │ -0.292356  │\n",
       "│ 4   │ 4350-01D   │ 0        │ 0.0248354 │ 0.139269 │ -0.391555  │ -0.0493965 │\n",
       "│ 5   │ 4380-01D   │ 0        │ 0.0401006 │ 0.154948 │ 1.14832    │ -0.116085  │\n",
       "│ 6   │ 3350-07D   │ 0        │ 0.0927373 │ 0.12027  │ -0.332486  │ -0.319051  │\n",
       "│ 7   │ 3350-07D   │ 0        │ 0.0927373 │ 0.12027  │ -0.0542623 │ -0.0813586 │\n",
       "│ 8   │ 4380-01D   │ 1        │ 0.0401006 │ 0.154948 │ 3.25944    │ 1.19881    │\n",
       "│ 9   │ 3260-01D   │ 0        │ 0.145981  │ 0.210769 │ -0.391555  │ -0.292356  │\n",
       "│ 10  │ 4350-01D   │ 0        │ 0.0248354 │ 0.139269 │ 0.800609   │ 0.162693   │"
      ]
     },
     "execution_count": 95,
     "metadata": {},
     "output_type": "execute_result"
    }
   ],
   "source": [
    "cols = [:ID_OUVRAGE, :SURVERSE, :FS_dist, :SS_dist, :FS_sum, :SS_sum, :FS_max, :SS_max];\n",
    "first(shuffleDf(train_data[!, cols]), 10)"
   ]
  },
  {
   "cell_type": "markdown",
   "metadata": {},
   "source": [
    "### Save dataframes in files per ouvrage"
   ]
  },
  {
   "cell_type": "code",
   "execution_count": 90,
   "metadata": {},
   "outputs": [
    {
     "data": {
      "text/plain": [
       "\"data/parsed/ouvrage_3260.csv\""
      ]
     },
     "execution_count": 90,
     "metadata": {},
     "output_type": "execute_result"
    }
   ],
   "source": [
    "ouvrage_3260 = filter(row -> row.ID_OUVRAGE == \"3260-01D\", train_data);\n",
    "select!(ouvrage_3260, Not(:ID_OUVRAGE));\n",
    "CSV.write(\"data/parsed/ouvrage_3260.csv\",ouvrage_3260)"
   ]
  },
  {
   "cell_type": "code",
   "execution_count": 96,
   "metadata": {},
   "outputs": [
    {
     "data": {
      "text/plain": [
       "\"data/parsed/ouvrage_3350.csv\""
      ]
     },
     "execution_count": 96,
     "metadata": {},
     "output_type": "execute_result"
    }
   ],
   "source": [
    "ouvrage_3350 = filter(row -> row.ID_OUVRAGE == \"3350-07D\", train_data)\n",
    "select!(ouvrage_3350, Not(:ID_OUVRAGE));\n",
    "CSV.write(\"data/parsed/ouvrage_3350.csv\",ouvrage_3350)"
   ]
  },
  {
   "cell_type": "code",
   "execution_count": 97,
   "metadata": {},
   "outputs": [
    {
     "data": {
      "text/plain": [
       "\"data/parsed/ouvrage_4240.csv\""
      ]
     },
     "execution_count": 97,
     "metadata": {},
     "output_type": "execute_result"
    }
   ],
   "source": [
    "ouvrage_4240 = filter(row -> row.ID_OUVRAGE == \"4240-01D\", train_data)\n",
    "select!(ouvrage_4240, Not(:ID_OUVRAGE));\n",
    "CSV.write(\"data/parsed/ouvrage_4240.csv\",ouvrage_4240)"
   ]
  },
  {
   "cell_type": "code",
   "execution_count": 98,
   "metadata": {},
   "outputs": [
    {
     "data": {
      "text/plain": [
       "\"data/parsed/ouvrage_4350.csv\""
      ]
     },
     "execution_count": 98,
     "metadata": {},
     "output_type": "execute_result"
    }
   ],
   "source": [
    "ouvrage_4350 = filter(row -> row.ID_OUVRAGE == \"4350-01D\", train_data)\n",
    "select!(ouvrage_4350, Not(:ID_OUVRAGE));\n",
    "CSV.write(\"data/parsed/ouvrage_4350.csv\",ouvrage_4350)"
   ]
  },
  {
   "cell_type": "code",
   "execution_count": 99,
   "metadata": {},
   "outputs": [
    {
     "data": {
      "text/plain": [
       "\"data/parsed/ouvrage_4380.csv\""
      ]
     },
     "execution_count": 99,
     "metadata": {},
     "output_type": "execute_result"
    }
   ],
   "source": [
    "ouvrage_4380 = filter(row -> row.ID_OUVRAGE == \"4380-01D\", train_data)\n",
    "select!(ouvrage_4380, Not(:ID_OUVRAGE));\n",
    "CSV.write(\"data/parsed/ouvrage_4380.csv\",ouvrage_4380)"
   ]
  },
  {
   "cell_type": "markdown",
   "metadata": {},
   "source": [
    "### Tests"
   ]
  },
  {
   "cell_type": "code",
   "execution_count": 107,
   "metadata": {},
   "outputs": [],
   "source": [
    "test_data = CSV.read(\"data/test.csv\");\n",
    "rename!(test_data, :NO_OUVRAGE => :ID_OUVRAGE);"
   ]
  },
  {
   "cell_type": "code",
   "execution_count": 108,
   "metadata": {},
   "outputs": [
    {
     "data": {
      "text/plain": [
       "5-element Array{String,1}:\n",
       " \"3260-01D\"\n",
       " \"3350-07D\"\n",
       " \"4240-01D\"\n",
       " \"4350-01D\"\n",
       " \"4380-01D\""
      ]
     },
     "execution_count": 108,
     "metadata": {},
     "output_type": "execute_result"
    }
   ],
   "source": [
    "levels(test_data[:,:ID_OUVRAGE])"
   ]
  },
  {
   "cell_type": "code",
   "execution_count": 109,
   "metadata": {},
   "outputs": [],
   "source": [
    "test_data[!, :FS_dist] = zeros(size(test_data, 1));\n",
    "test_data[!, :SS_dist] = zeros(size(test_data, 1));\n",
    "test_data[!, :FS_sum] = zeros(size(test_data, 1));\n",
    "test_data[!, :FS_max] = zeros(size(test_data, 1));\n",
    "test_data[!, :FS_max3] = zeros(size(test_data, 1));\n",
    "test_data[!, :SS_sum] = zeros(size(test_data, 1));\n",
    "test_data[!, :SS_max] = zeros(size(test_data, 1));\n",
    "test_data[!, :SS_max3] = zeros(size(test_data, 1));"
   ]
  },
  {
   "cell_type": "code",
   "execution_count": 110,
   "metadata": {},
   "outputs": [],
   "source": [
    "for i=1:size(test_data, 1)\n",
    "    curr_ouvrage = test_data[i, 1];\n",
    "    ouvrage_data = filter(row -> row.ID_OUVRAGE == curr_ouvrage, ouvrages);\n",
    "    \n",
    "    closest_station = nothing;\n",
    "    closest_distance = 9999;\n",
    "    \n",
    "    second_closest_station = nothing;\n",
    "    second_closest_distance = 9999;\n",
    "    \n",
    "    # Pour chaque station\n",
    "    for j=1:5\n",
    "       current_station = station_df[j, :STATION];\n",
    "       dist = findDistance(ouvrage_data[1, :TP_LAT], ouvrage_data[1, :TP_LNG], station_df[j, :LAT], station_df[j, :LNG]);\n",
    "       \n",
    "        if dist < closest_distance\n",
    "            second_closest_distance = closest_distance;\n",
    "            second_closest_station = closest_station;\n",
    "            closest_distance = dist;\n",
    "            closest_station = current_station;\n",
    "        elseif dist < second_closest_distance\n",
    "            second_closest_distance = dist;\n",
    "            second_closest_station = current_station;\n",
    "        end\n",
    "    end\n",
    "    \n",
    "    test_data[i, :FS_dist] = closest_distance;\n",
    "    test_data[i, :SS_dist] = second_closest_distance;\n",
    "    \n",
    "    # Add data for first station\n",
    "    sum_p = pcp_sum[∈([test_data[i, :DATE]]).(pcp_sum.date), Symbol(closest_station)];\n",
    "    test_data[i, :FS_sum] = sum_p[1];\n",
    "    max_p = pcp_max[∈([test_data[i, :DATE]]).(pcp_max.date), Symbol(closest_station)];\n",
    "    test_data[i, :FS_max] = max_p[1];\n",
    "    max3_p = pcp_max3[∈([test_data[i, :DATE]]).(pcp_max3.date), Symbol(closest_station)];\n",
    "    test_data[i, :FS_max3] = max3_p[1];\n",
    "    \n",
    "    # Find multiplier for second station\n",
    "    ratio = second_closest_distance / closest_distance;\n",
    "    logratio = log(sqrt(ratio));\n",
    "    multiplier = 1 - logratio;\n",
    "    \n",
    "    # Add data for second station\n",
    "    s_sum_p = pcp_sum[∈([test_data[i, :DATE]]).(pcp_sum.date), Symbol(second_closest_station)];\n",
    "    test_data[i, :SS_sum] = s_sum_p[1] * multiplier;\n",
    "    s_max_p = pcp_max[∈([test_data[i, :DATE]]).(pcp_max.date), Symbol(second_closest_station)];\n",
    "    test_data[i, :SS_max] = s_max_p[1] * multiplier;\n",
    "    s_max3_p = pcp_max3[∈([test_data[i, :DATE]]).(pcp_max3.date), Symbol(second_closest_station)];\n",
    "    test_data[i, :SS_max3] = s_max3_p[1] * multiplier;\n",
    "end"
   ]
  },
  {
   "cell_type": "code",
   "execution_count": 113,
   "metadata": {},
   "outputs": [
    {
     "data": {
      "text/html": [
       "<table class=\"data-frame\"><thead><tr><th></th><th>ID_OUVRAGE</th><th>FS_dist</th><th>SS_dist</th><th>FS_sum</th><th>SS_sum</th><th>FS_max</th><th>SS_max</th></tr><tr><th></th><th>String</th><th>Float64</th><th>Float64</th><th>Float64</th><th>Float64</th><th>Float64</th><th>Float64</th></tr></thead><tbody><p>10 rows × 7 columns</p><tr><th>1</th><td>4240-01D</td><td>0.149987</td><td>0.168295</td><td>-0.358123</td><td>-0.373886</td><td>-0.375363</td><td>-0.386708</td></tr><tr><th>2</th><td>4350-01D</td><td>0.0248354</td><td>0.139269</td><td>-0.391555</td><td>-0.0493965</td><td>-0.41013</td><td>-0.0517744</td></tr><tr><th>3</th><td>3260-01D</td><td>0.145981</td><td>0.210769</td><td>-0.155606</td><td>-0.184762</td><td>-0.162968</td><td>-0.161624</td></tr><tr><th>4</th><td>4240-01D</td><td>0.149987</td><td>0.168295</td><td>-0.358123</td><td>-0.373886</td><td>-0.375363</td><td>-0.386708</td></tr><tr><th>5</th><td>4240-01D</td><td>0.149987</td><td>0.168295</td><td>-0.358123</td><td>-0.373886</td><td>-0.375363</td><td>-0.386708</td></tr><tr><th>6</th><td>4350-01D</td><td>0.0248354</td><td>0.139269</td><td>4.38952</td><td>0.588891</td><td>1.62896</td><td>0.192889</td></tr><tr><th>7</th><td>3350-07D</td><td>0.0927373</td><td>0.12027</td><td>-0.402043</td><td>-0.340659</td><td>-0.416502</td><td>-0.35682</td></tr><tr><th>8</th><td>4240-01D</td><td>0.149987</td><td>0.168295</td><td>1.56027</td><td>-0.373886</td><td>1.15011</td><td>-0.386708</td></tr><tr><th>9</th><td>3260-01D</td><td>0.145981</td><td>0.210769</td><td>-0.230116</td><td>-0.124988</td><td>-0.132072</td><td>0.0411031</td></tr><tr><th>10</th><td>3350-07D</td><td>0.0927373</td><td>0.12027</td><td>0.54392</td><td>0.664131</td><td>0.559817</td><td>0.315166</td></tr></tbody></table>"
      ],
      "text/latex": [
       "\\begin{tabular}{r|ccccccc}\n",
       "\t& ID\\_OUVRAGE & FS\\_dist & SS\\_dist & FS\\_sum & SS\\_sum & FS\\_max & SS\\_max\\\\\n",
       "\t\\hline\n",
       "\t& String & Float64 & Float64 & Float64 & Float64 & Float64 & Float64\\\\\n",
       "\t\\hline\n",
       "\t1 & 4240-01D & 0.149987 & 0.168295 & -0.358123 & -0.373886 & -0.375363 & -0.386708 \\\\\n",
       "\t2 & 4350-01D & 0.0248354 & 0.139269 & -0.391555 & -0.0493965 & -0.41013 & -0.0517744 \\\\\n",
       "\t3 & 3260-01D & 0.145981 & 0.210769 & -0.155606 & -0.184762 & -0.162968 & -0.161624 \\\\\n",
       "\t4 & 4240-01D & 0.149987 & 0.168295 & -0.358123 & -0.373886 & -0.375363 & -0.386708 \\\\\n",
       "\t5 & 4240-01D & 0.149987 & 0.168295 & -0.358123 & -0.373886 & -0.375363 & -0.386708 \\\\\n",
       "\t6 & 4350-01D & 0.0248354 & 0.139269 & 4.38952 & 0.588891 & 1.62896 & 0.192889 \\\\\n",
       "\t7 & 3350-07D & 0.0927373 & 0.12027 & -0.402043 & -0.340659 & -0.416502 & -0.35682 \\\\\n",
       "\t8 & 4240-01D & 0.149987 & 0.168295 & 1.56027 & -0.373886 & 1.15011 & -0.386708 \\\\\n",
       "\t9 & 3260-01D & 0.145981 & 0.210769 & -0.230116 & -0.124988 & -0.132072 & 0.0411031 \\\\\n",
       "\t10 & 3350-07D & 0.0927373 & 0.12027 & 0.54392 & 0.664131 & 0.559817 & 0.315166 \\\\\n",
       "\\end{tabular}\n"
      ],
      "text/plain": [
       "10×7 DataFrame. Omitted printing of 1 columns\n",
       "│ Row │ ID_OUVRAGE │ FS_dist   │ SS_dist  │ FS_sum    │ SS_sum     │ FS_max    │\n",
       "│     │ \u001b[90mString\u001b[39m     │ \u001b[90mFloat64\u001b[39m   │ \u001b[90mFloat64\u001b[39m  │ \u001b[90mFloat64\u001b[39m   │ \u001b[90mFloat64\u001b[39m    │ \u001b[90mFloat64\u001b[39m   │\n",
       "├─────┼────────────┼───────────┼──────────┼───────────┼────────────┼───────────┤\n",
       "│ 1   │ 4240-01D   │ 0.149987  │ 0.168295 │ -0.358123 │ -0.373886  │ -0.375363 │\n",
       "│ 2   │ 4350-01D   │ 0.0248354 │ 0.139269 │ -0.391555 │ -0.0493965 │ -0.41013  │\n",
       "│ 3   │ 3260-01D   │ 0.145981  │ 0.210769 │ -0.155606 │ -0.184762  │ -0.162968 │\n",
       "│ 4   │ 4240-01D   │ 0.149987  │ 0.168295 │ -0.358123 │ -0.373886  │ -0.375363 │\n",
       "│ 5   │ 4240-01D   │ 0.149987  │ 0.168295 │ -0.358123 │ -0.373886  │ -0.375363 │\n",
       "│ 6   │ 4350-01D   │ 0.0248354 │ 0.139269 │ 4.38952   │ 0.588891   │ 1.62896   │\n",
       "│ 7   │ 3350-07D   │ 0.0927373 │ 0.12027  │ -0.402043 │ -0.340659  │ -0.416502 │\n",
       "│ 8   │ 4240-01D   │ 0.149987  │ 0.168295 │ 1.56027   │ -0.373886  │ 1.15011   │\n",
       "│ 9   │ 3260-01D   │ 0.145981  │ 0.210769 │ -0.230116 │ -0.124988  │ -0.132072 │\n",
       "│ 10  │ 3350-07D   │ 0.0927373 │ 0.12027  │ 0.54392   │ 0.664131   │ 0.559817  │"
      ]
     },
     "execution_count": 113,
     "metadata": {},
     "output_type": "execute_result"
    }
   ],
   "source": [
    "cols = [:ID_OUVRAGE, :FS_dist, :SS_dist, :FS_sum, :SS_sum, :FS_max, :SS_max];\n",
    "first(shuffleDf(test_data[!, cols]), 10)"
   ]
  },
  {
   "cell_type": "code",
   "execution_count": 114,
   "metadata": {},
   "outputs": [
    {
     "data": {
      "text/plain": [
       "\"data/parsed/test_3260.csv\""
      ]
     },
     "execution_count": 114,
     "metadata": {},
     "output_type": "execute_result"
    }
   ],
   "source": [
    "test_3260 = filter(row -> row.ID_OUVRAGE == \"3260-01D\", test_data);\n",
    "select!(test_3260, Not(:ID_OUVRAGE));\n",
    "CSV.write(\"data/parsed/test_3260.csv\",test_3260)"
   ]
  },
  {
   "cell_type": "code",
   "execution_count": 115,
   "metadata": {},
   "outputs": [
    {
     "data": {
      "text/plain": [
       "\"data/parsed/test_3350.csv\""
      ]
     },
     "execution_count": 115,
     "metadata": {},
     "output_type": "execute_result"
    }
   ],
   "source": [
    "test_3350 = filter(row -> row.ID_OUVRAGE == \"3350-07D\", test_data);\n",
    "select!(test_3350, Not(:ID_OUVRAGE));\n",
    "CSV.write(\"data/parsed/test_3350.csv\",test_3350)"
   ]
  },
  {
   "cell_type": "code",
   "execution_count": 116,
   "metadata": {},
   "outputs": [
    {
     "data": {
      "text/plain": [
       "\"data/parsed/test_4240.csv\""
      ]
     },
     "execution_count": 116,
     "metadata": {},
     "output_type": "execute_result"
    }
   ],
   "source": [
    "test_4240 = filter(row -> row.ID_OUVRAGE == \"4240-01D\", test_data);\n",
    "select!(test_4240, Not(:ID_OUVRAGE));\n",
    "CSV.write(\"data/parsed/test_4240.csv\",test_4240)"
   ]
  },
  {
   "cell_type": "code",
   "execution_count": 117,
   "metadata": {},
   "outputs": [
    {
     "data": {
      "text/plain": [
       "\"data/parsed/test_4350.csv\""
      ]
     },
     "execution_count": 117,
     "metadata": {},
     "output_type": "execute_result"
    }
   ],
   "source": [
    "test_4350 = filter(row -> row.ID_OUVRAGE == \"4350-01D\", test_data);\n",
    "select!(test_4350, Not(:ID_OUVRAGE));\n",
    "CSV.write(\"data/parsed/test_4350.csv\",test_4350)"
   ]
  },
  {
   "cell_type": "code",
   "execution_count": 118,
   "metadata": {},
   "outputs": [
    {
     "data": {
      "text/plain": [
       "\"data/parsed/test_4380.csv\""
      ]
     },
     "execution_count": 118,
     "metadata": {},
     "output_type": "execute_result"
    }
   ],
   "source": [
    "test_4380 = filter(row -> row.ID_OUVRAGE == \"4380-01D\", test_data);\n",
    "select!(test_4380, Not(:ID_OUVRAGE));\n",
    "CSV.write(\"data/parsed/test_4380.csv\",test_4380)"
   ]
  }
 ],
 "metadata": {
  "kernelspec": {
   "display_name": "Julia 1.2.0",
   "language": "julia",
   "name": "julia-1.2"
  },
  "language_info": {
   "file_extension": ".jl",
   "mimetype": "application/julia",
   "name": "julia",
   "version": "1.0.5"
  }
 },
 "nbformat": 4,
 "nbformat_minor": 2
}
