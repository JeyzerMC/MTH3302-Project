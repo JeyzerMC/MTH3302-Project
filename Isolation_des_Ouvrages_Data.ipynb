{
 "cells": [
  {
   "cell_type": "code",
   "execution_count": 1,
   "metadata": {},
   "outputs": [],
   "source": [
    "using CSV, DataFrames, GLM, Statistics, Dates, Gadfly, Random, MLBase, DecisionTree;\n",
    "include(\"utils/precipitation.jl\");"
   ]
  },
  {
   "cell_type": "markdown",
   "metadata": {},
   "source": [
    "On garde les ouvrages d'intérêt."
   ]
  },
  {
   "cell_type": "code",
   "execution_count": 11,
   "metadata": {},
   "outputs": [],
   "source": [
    "ouvrages = CSV.read(\"data/ouvrages-surverses.csv\");\n",
    "colnames = [\"N_Env\", \"ID_SOMA\", \"ID_OUVRAGE\", \"NOM\", \"SOMA_SEC\", \"REGION\", \"TP_X\", \"TP_Y\", \"TP_Z\", \"TP_LAT\", \"TP_LNG\", \"EMI_X\", \"EMI_Y\", \"EMI_LNG\", \"EMI_LAT\"];\n",
    "names!(ouvrages, Symbol.(colnames));\n",
    "select!(ouvrages, [:ID_OUVRAGE, :TP_LAT, :TP_LNG, :TP_Z]);\n",
    "ouvrages.TP_Z = coalesce.(ouvrages.TP_Z, mean(ouvrages[completecases(ouvrages), :].TP_Z));"
   ]
  },
  {
   "cell_type": "code",
   "execution_count": 12,
   "metadata": {},
   "outputs": [
    {
     "data": {
      "text/plain": [
       "(167, 4)"
      ]
     },
     "execution_count": 12,
     "metadata": {},
     "output_type": "execute_result"
    }
   ],
   "source": [
    "size(ouvrages)"
   ]
  },
  {
   "cell_type": "code",
   "execution_count": 13,
   "metadata": {},
   "outputs": [],
   "source": [
    "important_ouvrages = [\"3260-01D\", \"3350-07D\", \"4240-01D\", \"4350-01D\", \"4380-01D\"];\n",
    "ouvrages = filter(row -> row.ID_OUVRAGE ∈ important_ouvrages, ouvrages);"
   ]
  },
  {
   "cell_type": "code",
   "execution_count": 14,
   "metadata": {},
   "outputs": [
    {
     "data": {
      "text/html": [
       "<table class=\"data-frame\"><thead><tr><th></th><th>ID_OUVRAGE</th><th>TP_LAT</th><th>TP_LNG</th><th>TP_Z</th></tr><tr><th></th><th>String</th><th>Float64</th><th>Float64</th><th>Float64</th></tr></thead><tbody><p>5 rows × 4 columns</p><tr><th>1</th><td>3260-01D</td><td>45.6507</td><td>-73.5803</td><td>20.17</td></tr><tr><th>2</th><td>3350-07D</td><td>45.5461</td><td>-73.6921</td><td>20.75</td></tr><tr><th>3</th><td>4240-01D</td><td>45.6497</td><td>-73.4877</td><td>11.91</td></tr><tr><th>4</th><td>4350-01D</td><td>45.4991</td><td>-73.555</td><td>19.3526</td></tr><tr><th>5</th><td>4380-01D</td><td>45.4677</td><td>-73.5637</td><td>19.3526</td></tr></tbody></table>"
      ],
      "text/latex": [
       "\\begin{tabular}{r|cccc}\n",
       "\t& ID\\_OUVRAGE & TP\\_LAT & TP\\_LNG & TP\\_Z\\\\\n",
       "\t\\hline\n",
       "\t& String & Float64 & Float64 & Float64\\\\\n",
       "\t\\hline\n",
       "\t1 & 3260-01D & 45.6507 & -73.5803 & 20.17 \\\\\n",
       "\t2 & 3350-07D & 45.5461 & -73.6921 & 20.75 \\\\\n",
       "\t3 & 4240-01D & 45.6497 & -73.4877 & 11.91 \\\\\n",
       "\t4 & 4350-01D & 45.4991 & -73.555 & 19.3526 \\\\\n",
       "\t5 & 4380-01D & 45.4677 & -73.5637 & 19.3526 \\\\\n",
       "\\end{tabular}\n"
      ],
      "text/plain": [
       "5×4 DataFrame\n",
       "│ Row │ ID_OUVRAGE │ TP_LAT  │ TP_LNG   │ TP_Z    │\n",
       "│     │ \u001b[90mString\u001b[39m     │ \u001b[90mFloat64\u001b[39m │ \u001b[90mFloat64\u001b[39m  │ \u001b[90mFloat64\u001b[39m │\n",
       "├─────┼────────────┼─────────┼──────────┼─────────┤\n",
       "│ 1   │ 3260-01D   │ 45.6507 │ -73.5803 │ 20.17   │\n",
       "│ 2   │ 3350-07D   │ 45.5461 │ -73.6921 │ 20.75   │\n",
       "│ 3   │ 4240-01D   │ 45.6497 │ -73.4877 │ 11.91   │\n",
       "│ 4   │ 4350-01D   │ 45.4991 │ -73.555  │ 19.3526 │\n",
       "│ 5   │ 4380-01D   │ 45.4677 │ -73.5637 │ 19.3526 │"
      ]
     },
     "execution_count": 14,
     "metadata": {},
     "output_type": "execute_result"
    }
   ],
   "source": [
    "first(ouvrages, 5)"
   ]
  },
  {
   "cell_type": "code",
   "execution_count": 246,
   "metadata": {},
   "outputs": [],
   "source": [
    "surverses = CSV.read(\"data/surverses.csv\", missingstring=\"-99999\");\n",
    "surverses = filter(row -> month(row.DATE) > 4, surverses);\n",
    "surverses = filter(row -> month(row.DATE) < 11, surverses);\n",
    "surverses[!,:RAISON] = coalesce.(surverses[:,:RAISON],\"Inconnue\");\n",
    "\n",
    "surverses = filter(row -> row.RAISON ∈ [\"P\",\"Inconnue\",\"TS\"], surverses);\n",
    "select!(surverses, [:NO_OUVRAGE, :DATE, :SURVERSE]);\n",
    "rename!(surverses, :NO_OUVRAGE => :ID_OUVRAGE);"
   ]
  },
  {
   "cell_type": "code",
   "execution_count": 247,
   "metadata": {},
   "outputs": [],
   "source": [
    "surverses = filter(row -> row.ID_OUVRAGE ∈ important_ouvrages, surverses);\n",
    "dropmissing!(surverses);"
   ]
  },
  {
   "cell_type": "code",
   "execution_count": 248,
   "metadata": {},
   "outputs": [
    {
     "name": "stdout",
     "output_type": "stream",
     "text": [
      "Summary Stats:\n",
      "Length:         5129\n",
      "Missing Count:  0\n",
      "Mean:           0.085202\n",
      "Minimum:        0.000000\n",
      "1st Quartile:   0.000000\n",
      "Median:         0.000000\n",
      "3rd Quartile:   0.000000\n",
      "Maximum:        1.000000\n",
      "Type:           Int64\n"
     ]
    }
   ],
   "source": [
    "describe(surverses[!, :SURVERSE])"
   ]
  },
  {
   "cell_type": "code",
   "execution_count": 249,
   "metadata": {},
   "outputs": [
    {
     "name": "stdout",
     "output_type": "stream",
     "text": [
      "Summary Stats:\n",
      "Length:         1100\n",
      "Missing Count:  0\n",
      "Mean:           0.062727\n",
      "Minimum:        0.000000\n",
      "1st Quartile:   0.000000\n",
      "Median:         0.000000\n",
      "3rd Quartile:   0.000000\n",
      "Maximum:        1.000000\n",
      "Type:           Int64\n"
     ]
    }
   ],
   "source": [
    "curr = filter(row -> row.ID_OUVRAGE == important_ouvrages[3], surverses);\n",
    "describe(curr[!, :SURVERSE])"
   ]
  },
  {
   "cell_type": "markdown",
   "metadata": {},
   "source": [
    "Le mean correspond au taux de surverses ici -> Beaucoup plus de non surverses que de surverses"
   ]
  },
  {
   "cell_type": "markdown",
   "metadata": {},
   "source": [
    "### Beaucoup plus de 0 que de 1 -> Class imbalance problem\n",
    "On le solve avec du over sampling de 1 et du under sampling de 0, plus tard"
   ]
  },
  {
   "cell_type": "markdown",
   "metadata": {},
   "source": [
    "## Précipitations"
   ]
  },
  {
   "cell_type": "code",
   "execution_count": 293,
   "metadata": {},
   "outputs": [
    {
     "data": {
      "text/plain": [
       "7-element Array{Symbol,1}:\n",
       " :date      \n",
       " :heure     \n",
       " :McTavish  \n",
       " :Bellevue  \n",
       " :Assomption\n",
       " :Trudeau   \n",
       " :StHubert  "
      ]
     },
     "execution_count": 293,
     "metadata": {},
     "output_type": "execute_result"
    }
   ],
   "source": [
    "precipitations = CSV.read(\"data/precipitations.csv\",missingstring=\"-99999\");\n",
    "rename!(precipitations, Symbol(\"St-Hubert\")=>:StHubert);\n",
    "\n",
    "precipitations = filter(row -> month(row.date) > 4, precipitations);\n",
    "precipitations = filter(row -> month(row.date) < 11, precipitations); \n",
    "names(precipitations)"
   ]
  },
  {
   "cell_type": "code",
   "execution_count": 294,
   "metadata": {},
   "outputs": [
    {
     "name": "stdout",
     "output_type": "stream",
     "text": [
      "Summary Stats:\n",
      "Length:         30912\n",
      "Missing Count:  5206\n",
      "Mean:           1.223683\n",
      "Minimum:        0.000000\n",
      "1st Quartile:   0.000000\n",
      "Median:         0.000000\n",
      "3rd Quartile:   0.000000\n",
      "Maximum:        307.000000\n",
      "Type:           Union{Missing, Int64}\n"
     ]
    }
   ],
   "source": [
    "describe(precipitations[!, :StHubert])"
   ]
  },
  {
   "cell_type": "code",
   "execution_count": 296,
   "metadata": {},
   "outputs": [],
   "source": [
    "precipitation_by_day = by(precipitations, :date,  \n",
    "                            McTavish = :McTavish=>mean_wo_missing, \n",
    "                            Bellevue = :Bellevue=>mean_wo_missing, \n",
    "                            Assomption = :Assomption=>mean_wo_missing,\n",
    "                            Trudeau = :Trudeau=>mean_wo_missing,\n",
    "                            StHubert = :StHubert=>mean_wo_missing)\n",
    "\n",
    "for i=1:size(precipitations,1)\n",
    "    if isequal(precipitations[i, :McTavish], missing)\n",
    "        precipitations[i,:McTavish] = filter(row-> row.date == precipitations[i,:date], precipitation_by_day)[!,:McTavish][1]\n",
    "    end\n",
    "    if isequal(precipitations[i, :Bellevue], missing)\n",
    "        precipitations[i,:Bellevue] = filter(row-> row.date == precipitations[i,:date], precipitation_by_day)[!,:Bellevue][1]\n",
    "    end\n",
    "    if isequal(precipitations[i, :Assomption], missing)\n",
    "        precipitations[i,:Assomption] = filter(row-> row.date == precipitations[i,:date], precipitation_by_day)[!,:Assomption][1]\n",
    "    end\n",
    "    if isequal(precipitations[i, :Trudeau], missing)\n",
    "        precipitations[i,:Trudeau] = filter(row-> row.date == precipitations[i,:date], precipitation_by_day)[!,:Trudeau][1]\n",
    "    end\n",
    "    if isequal(precipitations[i, :StHubert], missing)\n",
    "        precipitations[i,:StHubert] = filter(row-> row.date == precipitations[i,:date], precipitation_by_day)[!,:StHubert][1]\n",
    "    end\n",
    "end"
   ]
  },
  {
   "cell_type": "code",
   "execution_count": 297,
   "metadata": {},
   "outputs": [
    {
     "name": "stdout",
     "output_type": "stream",
     "text": [
      "Summary Stats:\n",
      "Length:         30912\n",
      "Missing Count:  0\n",
      "Mean:           1.018957\n",
      "Minimum:        0.000000\n",
      "1st Quartile:   0.000000\n",
      "Median:         0.000000\n",
      "3rd Quartile:   0.000000\n",
      "Maximum:        307.000000\n",
      "Type:           Union{Missing, Int64}\n"
     ]
    }
   ],
   "source": [
    "describe(precipitations[!, :StHubert])"
   ]
  },
  {
   "cell_type": "code",
   "execution_count": 298,
   "metadata": {},
   "outputs": [
    {
     "data": {
      "text/html": [
       "<table class=\"data-frame\"><thead><tr><th></th><th>date</th><th>heure</th><th>McTavish</th><th>Bellevue</th><th>Assomption</th><th>Trudeau</th><th>StHubert</th></tr><tr><th></th><th>Date</th><th>Int64</th><th>Int64⍰</th><th>Int64⍰</th><th>Int64⍰</th><th>Int64⍰</th><th>Int64⍰</th></tr></thead><tbody><p>10 rows × 7 columns</p><tr><th>1</th><td>2016-05-05</td><td>16</td><td>0</td><td>0</td><td>0</td><td>0</td><td>0</td></tr><tr><th>2</th><td>2014-05-04</td><td>21</td><td>0</td><td>12</td><td>20</td><td>0</td><td>0</td></tr><tr><th>3</th><td>2014-05-03</td><td>9</td><td>0</td><td>0</td><td>0</td><td>0</td><td>0</td></tr><tr><th>4</th><td>2015-06-03</td><td>19</td><td>0</td><td>0</td><td>0</td><td>0</td><td>0</td></tr><tr><th>5</th><td>2014-08-06</td><td>16</td><td>0</td><td>0</td><td>0</td><td>0</td><td>0</td></tr><tr><th>6</th><td>2016-05-13</td><td>20</td><td>0</td><td>0</td><td>0</td><td>0</td><td>0</td></tr><tr><th>7</th><td>2019-10-05</td><td>4</td><td>0</td><td>0</td><td>0</td><td>0</td><td>0</td></tr><tr><th>8</th><td>2013-10-08</td><td>5</td><td>0</td><td>0</td><td>0</td><td>0</td><td>0</td></tr><tr><th>9</th><td>2018-06-04</td><td>23</td><td>0</td><td>0</td><td>7</td><td>0</td><td>0</td></tr><tr><th>10</th><td>2014-07-03</td><td>15</td><td>0</td><td>0</td><td>0</td><td>0</td><td>0</td></tr></tbody></table>"
      ],
      "text/latex": [
       "\\begin{tabular}{r|ccccccc}\n",
       "\t& date & heure & McTavish & Bellevue & Assomption & Trudeau & StHubert\\\\\n",
       "\t\\hline\n",
       "\t& Date & Int64 & Int64⍰ & Int64⍰ & Int64⍰ & Int64⍰ & Int64⍰\\\\\n",
       "\t\\hline\n",
       "\t1 & 2016-05-05 & 16 & 0 & 0 & 0 & 0 & 0 \\\\\n",
       "\t2 & 2014-05-04 & 21 & 0 & 12 & 20 & 0 & 0 \\\\\n",
       "\t3 & 2014-05-03 & 9 & 0 & 0 & 0 & 0 & 0 \\\\\n",
       "\t4 & 2015-06-03 & 19 & 0 & 0 & 0 & 0 & 0 \\\\\n",
       "\t5 & 2014-08-06 & 16 & 0 & 0 & 0 & 0 & 0 \\\\\n",
       "\t6 & 2016-05-13 & 20 & 0 & 0 & 0 & 0 & 0 \\\\\n",
       "\t7 & 2019-10-05 & 4 & 0 & 0 & 0 & 0 & 0 \\\\\n",
       "\t8 & 2013-10-08 & 5 & 0 & 0 & 0 & 0 & 0 \\\\\n",
       "\t9 & 2018-06-04 & 23 & 0 & 0 & 7 & 0 & 0 \\\\\n",
       "\t10 & 2014-07-03 & 15 & 0 & 0 & 0 & 0 & 0 \\\\\n",
       "\\end{tabular}\n"
      ],
      "text/plain": [
       "10×7 DataFrame. Omitted printing of 1 columns\n",
       "│ Row │ date       │ heure │ McTavish │ Bellevue │ Assomption │ Trudeau │\n",
       "│     │ \u001b[90mDate\u001b[39m       │ \u001b[90mInt64\u001b[39m │ \u001b[90mInt64⍰\u001b[39m   │ \u001b[90mInt64⍰\u001b[39m   │ \u001b[90mInt64⍰\u001b[39m     │ \u001b[90mInt64⍰\u001b[39m  │\n",
       "├─────┼────────────┼───────┼──────────┼──────────┼────────────┼─────────┤\n",
       "│ 1   │ 2016-05-05 │ 16    │ 0        │ 0        │ 0          │ 0       │\n",
       "│ 2   │ 2014-05-04 │ 21    │ 0        │ 12       │ 20         │ 0       │\n",
       "│ 3   │ 2014-05-03 │ 9     │ 0        │ 0        │ 0          │ 0       │\n",
       "│ 4   │ 2015-06-03 │ 19    │ 0        │ 0        │ 0          │ 0       │\n",
       "│ 5   │ 2014-08-06 │ 16    │ 0        │ 0        │ 0          │ 0       │\n",
       "│ 6   │ 2016-05-13 │ 20    │ 0        │ 0        │ 0          │ 0       │\n",
       "│ 7   │ 2019-10-05 │ 4     │ 0        │ 0        │ 0          │ 0       │\n",
       "│ 8   │ 2013-10-08 │ 5     │ 0        │ 0        │ 0          │ 0       │\n",
       "│ 9   │ 2018-06-04 │ 23    │ 0        │ 0        │ 7          │ 0       │\n",
       "│ 10  │ 2014-07-03 │ 15    │ 0        │ 0        │ 0          │ 0       │"
      ]
     },
     "execution_count": 298,
     "metadata": {},
     "output_type": "execute_result"
    }
   ],
   "source": [
    "first(shuffleDf(precipitations), 10)"
   ]
  },
  {
   "cell_type": "code",
   "execution_count": 299,
   "metadata": {},
   "outputs": [],
   "source": [
    "pcp_sum = by(precipitations, :date,  \n",
    "            McTavish = :McTavish=>sum, \n",
    "            Bellevue = :Bellevue=>sum,\n",
    "            Assomption = :Assomption=>sum, \n",
    "            Trudeau = :Trudeau=>sum, \n",
    "            StHubert = :StHubert=>sum);"
   ]
  },
  {
   "cell_type": "code",
   "execution_count": 300,
   "metadata": {},
   "outputs": [
    {
     "data": {
      "text/html": [
       "<table class=\"data-frame\"><thead><tr><th></th><th>date</th><th>McTavish</th><th>Bellevue</th><th>Assomption</th><th>Trudeau</th><th>StHubert</th></tr><tr><th></th><th>Date</th><th>Int64</th><th>Int64</th><th>Int64</th><th>Int64</th><th>Int64</th></tr></thead><tbody><p>5 rows × 6 columns</p><tr><th>1</th><td>2014-08-16</td><td>182</td><td>134</td><td>132</td><td>118</td><td>77</td></tr><tr><th>2</th><td>2017-05-24</td><td>0</td><td>0</td><td>0</td><td>0</td><td>0</td></tr><tr><th>3</th><td>2015-06-02</td><td>48</td><td>41</td><td>22</td><td>13</td><td>13</td></tr><tr><th>4</th><td>2013-09-23</td><td>0</td><td>0</td><td>0</td><td>0</td><td>0</td></tr><tr><th>5</th><td>2016-05-23</td><td>0</td><td>0</td><td>0</td><td>0</td><td>0</td></tr></tbody></table>"
      ],
      "text/latex": [
       "\\begin{tabular}{r|cccccc}\n",
       "\t& date & McTavish & Bellevue & Assomption & Trudeau & StHubert\\\\\n",
       "\t\\hline\n",
       "\t& Date & Int64 & Int64 & Int64 & Int64 & Int64\\\\\n",
       "\t\\hline\n",
       "\t1 & 2014-08-16 & 182 & 134 & 132 & 118 & 77 \\\\\n",
       "\t2 & 2017-05-24 & 0 & 0 & 0 & 0 & 0 \\\\\n",
       "\t3 & 2015-06-02 & 48 & 41 & 22 & 13 & 13 \\\\\n",
       "\t4 & 2013-09-23 & 0 & 0 & 0 & 0 & 0 \\\\\n",
       "\t5 & 2016-05-23 & 0 & 0 & 0 & 0 & 0 \\\\\n",
       "\\end{tabular}\n"
      ],
      "text/plain": [
       "5×6 DataFrame\n",
       "│ Row │ date       │ McTavish │ Bellevue │ Assomption │ Trudeau │ StHubert │\n",
       "│     │ \u001b[90mDate\u001b[39m       │ \u001b[90mInt64\u001b[39m    │ \u001b[90mInt64\u001b[39m    │ \u001b[90mInt64\u001b[39m      │ \u001b[90mInt64\u001b[39m   │ \u001b[90mInt64\u001b[39m    │\n",
       "├─────┼────────────┼──────────┼──────────┼────────────┼─────────┼──────────┤\n",
       "│ 1   │ 2014-08-16 │ 182      │ 134      │ 132        │ 118     │ 77       │\n",
       "│ 2   │ 2017-05-24 │ 0        │ 0        │ 0          │ 0       │ 0        │\n",
       "│ 3   │ 2015-06-02 │ 48       │ 41       │ 22         │ 13      │ 13       │\n",
       "│ 4   │ 2013-09-23 │ 0        │ 0        │ 0          │ 0       │ 0        │\n",
       "│ 5   │ 2016-05-23 │ 0        │ 0        │ 0          │ 0       │ 0        │"
      ]
     },
     "execution_count": 300,
     "metadata": {},
     "output_type": "execute_result"
    }
   ],
   "source": [
    "first(shuffleDf(pcp_sum), 5)"
   ]
  },
  {
   "cell_type": "code",
   "execution_count": 301,
   "metadata": {},
   "outputs": [],
   "source": [
    "pcp_max = by(precipitations, :date,  \n",
    "            McTavish = :McTavish=>maximum,\n",
    "            Bellevue = :Bellevue=>maximum, \n",
    "            Assomption = :Assomption=>maximum,\n",
    "            Trudeau = :Trudeau=>maximum,\n",
    "            StHubert = :StHubert=>maximum);"
   ]
  },
  {
   "cell_type": "code",
   "execution_count": 302,
   "metadata": {},
   "outputs": [
    {
     "data": {
      "text/html": [
       "<table class=\"data-frame\"><thead><tr><th></th><th>date</th><th>McTavish</th><th>Bellevue</th><th>Assomption</th><th>Trudeau</th><th>StHubert</th></tr><tr><th></th><th>Date</th><th>Int64</th><th>Int64</th><th>Int64</th><th>Int64</th><th>Int64</th></tr></thead><tbody><p>5 rows × 6 columns</p><tr><th>1</th><td>2019-08-05</td><td>0</td><td>0</td><td>0</td><td>0</td><td>0</td></tr><tr><th>2</th><td>2014-09-29</td><td>0</td><td>0</td><td>0</td><td>0</td><td>0</td></tr><tr><th>3</th><td>2017-08-12</td><td>45</td><td>25</td><td>110</td><td>31</td><td>25</td></tr><tr><th>4</th><td>2014-08-03</td><td>0</td><td>0</td><td>0</td><td>0</td><td>0</td></tr><tr><th>5</th><td>2015-07-06</td><td>0</td><td>0</td><td>0</td><td>0</td><td>0</td></tr></tbody></table>"
      ],
      "text/latex": [
       "\\begin{tabular}{r|cccccc}\n",
       "\t& date & McTavish & Bellevue & Assomption & Trudeau & StHubert\\\\\n",
       "\t\\hline\n",
       "\t& Date & Int64 & Int64 & Int64 & Int64 & Int64\\\\\n",
       "\t\\hline\n",
       "\t1 & 2019-08-05 & 0 & 0 & 0 & 0 & 0 \\\\\n",
       "\t2 & 2014-09-29 & 0 & 0 & 0 & 0 & 0 \\\\\n",
       "\t3 & 2017-08-12 & 45 & 25 & 110 & 31 & 25 \\\\\n",
       "\t4 & 2014-08-03 & 0 & 0 & 0 & 0 & 0 \\\\\n",
       "\t5 & 2015-07-06 & 0 & 0 & 0 & 0 & 0 \\\\\n",
       "\\end{tabular}\n"
      ],
      "text/plain": [
       "5×6 DataFrame\n",
       "│ Row │ date       │ McTavish │ Bellevue │ Assomption │ Trudeau │ StHubert │\n",
       "│     │ \u001b[90mDate\u001b[39m       │ \u001b[90mInt64\u001b[39m    │ \u001b[90mInt64\u001b[39m    │ \u001b[90mInt64\u001b[39m      │ \u001b[90mInt64\u001b[39m   │ \u001b[90mInt64\u001b[39m    │\n",
       "├─────┼────────────┼──────────┼──────────┼────────────┼─────────┼──────────┤\n",
       "│ 1   │ 2019-08-05 │ 0        │ 0        │ 0          │ 0       │ 0        │\n",
       "│ 2   │ 2014-09-29 │ 0        │ 0        │ 0          │ 0       │ 0        │\n",
       "│ 3   │ 2017-08-12 │ 45       │ 25       │ 110        │ 31      │ 25       │\n",
       "│ 4   │ 2014-08-03 │ 0        │ 0        │ 0          │ 0       │ 0        │\n",
       "│ 5   │ 2015-07-06 │ 0        │ 0        │ 0          │ 0       │ 0        │"
      ]
     },
     "execution_count": 302,
     "metadata": {},
     "output_type": "execute_result"
    }
   ],
   "source": [
    "first(shuffleDf(pcp_max), 5)"
   ]
  },
  {
   "cell_type": "code",
   "execution_count": 303,
   "metadata": {},
   "outputs": [],
   "source": [
    "pcp_max3 = by(precipitations, :date,\n",
    "                McTavish = :McTavish=>maximum3,\n",
    "                Bellevue = :Bellevue=>maximum3,\n",
    "                Assomption = :Assomption=>maximum3,\n",
    "                Trudeau = :Trudeau=>maximum3,\n",
    "                StHubert = :StHubert=>maximum3);"
   ]
  },
  {
   "cell_type": "code",
   "execution_count": 304,
   "metadata": {},
   "outputs": [
    {
     "data": {
      "text/html": [
       "<table class=\"data-frame\"><thead><tr><th></th><th>date</th><th>McTavish</th><th>Bellevue</th><th>Assomption</th><th>Trudeau</th><th>StHubert</th></tr><tr><th></th><th>Date</th><th>Int64</th><th>Int64</th><th>Int64</th><th>Int64</th><th>Int64</th></tr></thead><tbody><p>5 rows × 6 columns</p><tr><th>1</th><td>2013-08-04</td><td>12</td><td>0</td><td>11</td><td>0</td><td>0</td></tr><tr><th>2</th><td>2016-10-14</td><td>0</td><td>0</td><td>0</td><td>2</td><td>0</td></tr><tr><th>3</th><td>2014-06-01</td><td>0</td><td>0</td><td>0</td><td>0</td><td>0</td></tr><tr><th>4</th><td>2016-07-09</td><td>103</td><td>66</td><td>190</td><td>71</td><td>78</td></tr><tr><th>5</th><td>2016-09-24</td><td>0</td><td>0</td><td>0</td><td>0</td><td>0</td></tr></tbody></table>"
      ],
      "text/latex": [
       "\\begin{tabular}{r|cccccc}\n",
       "\t& date & McTavish & Bellevue & Assomption & Trudeau & StHubert\\\\\n",
       "\t\\hline\n",
       "\t& Date & Int64 & Int64 & Int64 & Int64 & Int64\\\\\n",
       "\t\\hline\n",
       "\t1 & 2013-08-04 & 12 & 0 & 11 & 0 & 0 \\\\\n",
       "\t2 & 2016-10-14 & 0 & 0 & 0 & 2 & 0 \\\\\n",
       "\t3 & 2014-06-01 & 0 & 0 & 0 & 0 & 0 \\\\\n",
       "\t4 & 2016-07-09 & 103 & 66 & 190 & 71 & 78 \\\\\n",
       "\t5 & 2016-09-24 & 0 & 0 & 0 & 0 & 0 \\\\\n",
       "\\end{tabular}\n"
      ],
      "text/plain": [
       "5×6 DataFrame\n",
       "│ Row │ date       │ McTavish │ Bellevue │ Assomption │ Trudeau │ StHubert │\n",
       "│     │ \u001b[90mDate\u001b[39m       │ \u001b[90mInt64\u001b[39m    │ \u001b[90mInt64\u001b[39m    │ \u001b[90mInt64\u001b[39m      │ \u001b[90mInt64\u001b[39m   │ \u001b[90mInt64\u001b[39m    │\n",
       "├─────┼────────────┼──────────┼──────────┼────────────┼─────────┼──────────┤\n",
       "│ 1   │ 2013-08-04 │ 12       │ 0        │ 11         │ 0       │ 0        │\n",
       "│ 2   │ 2016-10-14 │ 0        │ 0        │ 0          │ 2       │ 0        │\n",
       "│ 3   │ 2014-06-01 │ 0        │ 0        │ 0          │ 0       │ 0        │\n",
       "│ 4   │ 2016-07-09 │ 103      │ 66       │ 190        │ 71      │ 78       │\n",
       "│ 5   │ 2016-09-24 │ 0        │ 0        │ 0          │ 0       │ 0        │"
      ]
     },
     "execution_count": 304,
     "metadata": {},
     "output_type": "execute_result"
    }
   ],
   "source": [
    "first(shuffleDf(pcp_max3), 5)"
   ]
  },
  {
   "cell_type": "code",
   "execution_count": 305,
   "metadata": {},
   "outputs": [
    {
     "data": {
      "text/html": [
       "<table class=\"data-frame\"><thead><tr><th></th><th>STATION</th><th>LAT</th><th>LNG</th></tr><tr><th></th><th>String</th><th>Float64</th><th>Float64</th></tr></thead><tbody><p>5 rows × 3 columns</p><tr><th>1</th><td>McTavish</td><td>45.5047</td><td>-73.5792</td></tr><tr><th>2</th><td>Bellevue</td><td>45.4272</td><td>-73.9292</td></tr><tr><th>3</th><td>Assomption</td><td>45.8094</td><td>-73.4347</td></tr><tr><th>4</th><td>Trudeau</td><td>45.4678</td><td>-73.7417</td></tr><tr><th>5</th><td>StHubert</td><td>45.5175</td><td>-73.4169</td></tr></tbody></table>"
      ],
      "text/latex": [
       "\\begin{tabular}{r|ccc}\n",
       "\t& STATION & LAT & LNG\\\\\n",
       "\t\\hline\n",
       "\t& String & Float64 & Float64\\\\\n",
       "\t\\hline\n",
       "\t1 & McTavish & 45.5047 & -73.5792 \\\\\n",
       "\t2 & Bellevue & 45.4272 & -73.9292 \\\\\n",
       "\t3 & Assomption & 45.8094 & -73.4347 \\\\\n",
       "\t4 & Trudeau & 45.4678 & -73.7417 \\\\\n",
       "\t5 & StHubert & 45.5175 & -73.4169 \\\\\n",
       "\\end{tabular}\n"
      ],
      "text/plain": [
       "5×3 DataFrame\n",
       "│ Row │ STATION    │ LAT     │ LNG      │\n",
       "│     │ \u001b[90mString\u001b[39m     │ \u001b[90mFloat64\u001b[39m │ \u001b[90mFloat64\u001b[39m  │\n",
       "├─────┼────────────┼─────────┼──────────┤\n",
       "│ 1   │ McTavish   │ 45.5047 │ -73.5792 │\n",
       "│ 2   │ Bellevue   │ 45.4272 │ -73.9292 │\n",
       "│ 3   │ Assomption │ 45.8094 │ -73.4347 │\n",
       "│ 4   │ Trudeau    │ 45.4678 │ -73.7417 │\n",
       "│ 5   │ StHubert   │ 45.5175 │ -73.4169 │"
      ]
     },
     "execution_count": 305,
     "metadata": {},
     "output_type": "execute_result"
    }
   ],
   "source": [
    "station_df = DataFrame(STATION = String[], LAT = Float64[], LNG = Float64[]);\n",
    "\n",
    "push!(station_df, [\"McTavish\", 45.504742, -73.579167]);\n",
    "push!(station_df, [\"Bellevue\", 45.427222, -73.929167]);\n",
    "push!(station_df, [\"Assomption\", 45.809444, -73.434722]);\n",
    "push!(station_df, [\"Trudeau\", 45.467778, -73.741667]);\n",
    "push!(station_df, [\"StHubert\", 45.5175, -73.416944]);\n",
    "\n",
    "station_df"
   ]
  },
  {
   "cell_type": "markdown",
   "metadata": {},
   "source": [
    "### On ajoute les colonnes de précipitations"
   ]
  },
  {
   "cell_type": "code",
   "execution_count": 306,
   "metadata": {},
   "outputs": [],
   "source": [
    "stations_names = [\"McTavish\", \"Bellevue\", \"Assomption\", \"Trudeau\", \"StHubert\"];\n",
    "train_data = surverses;\n",
    "for i=1:5\n",
    "#     train_data[!, Symbol(string(stations_names[i],\"_proxy\"))] = zeros(size(train_data, 1));\n",
    "    train_data[!, Symbol(string(stations_names[i],\"_sum\"))] = zeros(size(train_data, 1));\n",
    "    train_data[!, Symbol(string(stations_names[i],\"_max\"))] = zeros(size(train_data, 1));\n",
    "    train_data[!, Symbol(string(stations_names[i],\"_max3\"))] = zeros(size(train_data, 1));\n",
    "end"
   ]
  },
  {
   "cell_type": "code",
   "execution_count": 309,
   "metadata": {},
   "outputs": [
    {
     "data": {
      "text/html": [
       "<table class=\"data-frame\"><thead><tr><th></th><th>ID_OUVRAGE</th><th>DATE</th><th>SURVERSE</th><th>McTavish_sum</th><th>McTavish_max</th><th>McTavish_max3</th><th>Bellevue_sum</th></tr><tr><th></th><th>String</th><th>Date</th><th>Int64</th><th>Float64</th><th>Float64</th><th>Float64</th><th>Float64</th></tr></thead><tbody><p>5 rows × 18 columns (omitted printing of 11 columns)</p><tr><th>1</th><td>3260-01D</td><td>2014-06-08</td><td>0</td><td>0.0</td><td>0.0</td><td>0.0</td><td>0.0</td></tr><tr><th>2</th><td>4240-01D</td><td>2015-08-22</td><td>0</td><td>0.0</td><td>0.0</td><td>0.0</td><td>0.0</td></tr><tr><th>3</th><td>4240-01D</td><td>2016-10-27</td><td>0</td><td>0.0</td><td>0.0</td><td>0.0</td><td>0.0</td></tr><tr><th>4</th><td>4350-01D</td><td>2017-05-20</td><td>0</td><td>0.0</td><td>0.0</td><td>0.0</td><td>0.0</td></tr><tr><th>5</th><td>4350-01D</td><td>2018-08-27</td><td>0</td><td>0.0</td><td>0.0</td><td>0.0</td><td>0.0</td></tr></tbody></table>"
      ],
      "text/latex": [
       "\\begin{tabular}{r|cccccccc}\n",
       "\t& ID\\_OUVRAGE & DATE & SURVERSE & McTavish\\_sum & McTavish\\_max & McTavish\\_max3 & Bellevue\\_sum & \\\\\n",
       "\t\\hline\n",
       "\t& String & Date & Int64 & Float64 & Float64 & Float64 & Float64 & \\\\\n",
       "\t\\hline\n",
       "\t1 & 3260-01D & 2014-06-08 & 0 & 0.0 & 0.0 & 0.0 & 0.0 & $\\dots$ \\\\\n",
       "\t2 & 4240-01D & 2015-08-22 & 0 & 0.0 & 0.0 & 0.0 & 0.0 & $\\dots$ \\\\\n",
       "\t3 & 4240-01D & 2016-10-27 & 0 & 0.0 & 0.0 & 0.0 & 0.0 & $\\dots$ \\\\\n",
       "\t4 & 4350-01D & 2017-05-20 & 0 & 0.0 & 0.0 & 0.0 & 0.0 & $\\dots$ \\\\\n",
       "\t5 & 4350-01D & 2018-08-27 & 0 & 0.0 & 0.0 & 0.0 & 0.0 & $\\dots$ \\\\\n",
       "\\end{tabular}\n"
      ],
      "text/plain": [
       "5×18 DataFrame. Omitted printing of 13 columns\n",
       "│ Row │ ID_OUVRAGE │ DATE       │ SURVERSE │ McTavish_sum │ McTavish_max │\n",
       "│     │ \u001b[90mString\u001b[39m     │ \u001b[90mDate\u001b[39m       │ \u001b[90mInt64\u001b[39m    │ \u001b[90mFloat64\u001b[39m      │ \u001b[90mFloat64\u001b[39m      │\n",
       "├─────┼────────────┼────────────┼──────────┼──────────────┼──────────────┤\n",
       "│ 1   │ 3260-01D   │ 2014-06-08 │ 0        │ 0.0          │ 0.0          │\n",
       "│ 2   │ 4240-01D   │ 2015-08-22 │ 0        │ 0.0          │ 0.0          │\n",
       "│ 3   │ 4240-01D   │ 2016-10-27 │ 0        │ 0.0          │ 0.0          │\n",
       "│ 4   │ 4350-01D   │ 2017-05-20 │ 0        │ 0.0          │ 0.0          │\n",
       "│ 5   │ 4350-01D   │ 2018-08-27 │ 0        │ 0.0          │ 0.0          │"
      ]
     },
     "execution_count": 309,
     "metadata": {},
     "output_type": "execute_result"
    }
   ],
   "source": [
    "# proxies = [:ID_OUVRAGE, :McTavish_proxy, :Bellevue_proxy, :Assomption_proxy, :Trudeau_proxy, :StHubert_proxy]; \n",
    "# first(shuffleDf(train_data[!, proxies]), 5)\n",
    "first(shuffleDf(train_data), 5)"
   ]
  },
  {
   "cell_type": "code",
   "execution_count": 310,
   "metadata": {},
   "outputs": [
    {
     "name": "stdout",
     "output_type": "stream",
     "text": [
      "Summary Stats:\n",
      "Length:         5129\n",
      "Missing Count:  0\n",
      "Mean:           0.085202\n",
      "Minimum:        0.000000\n",
      "1st Quartile:   0.000000\n",
      "Median:         0.000000\n",
      "3rd Quartile:   0.000000\n",
      "Maximum:        1.000000\n",
      "Type:           Int64\n"
     ]
    }
   ],
   "source": [
    "describe(train_data[!, :SURVERSE])"
   ]
  },
  {
   "cell_type": "markdown",
   "metadata": {},
   "source": [
    "Populate les fields de chaque data"
   ]
  },
  {
   "cell_type": "code",
   "execution_count": 311,
   "metadata": {},
   "outputs": [],
   "source": [
    "for i=1:size(train_data, 1)\n",
    "    curr_ouvrage = train_data[i, 1];\n",
    "    ouvrage_data = filter(row -> row.ID_OUVRAGE == curr_ouvrage, ouvrages);\n",
    "    # Pour chaque station\n",
    "    for j=1:5\n",
    "        current_station = station_df[j, :STATION];\n",
    "#         dist = findDistance(ouvrage_data[1, :TP_LAT], ouvrage_data[1, :TP_LNG], station_df[j, :LAT], station_df[j, :LNG]);\n",
    "#         train_data[i, Symbol(string(current_station, \"_proxy\"))] = dist;\n",
    "        \n",
    "        # Somme des précipitations\n",
    "        sum_p = pcp_sum[∈([train_data[i, :DATE]]).(pcp_sum.date), Symbol(current_station)];\n",
    "        train_data[i, Symbol(string(current_station, \"_sum\"))] = sum_p[1];\n",
    "        \n",
    "        # Maximum des précipitations sur 1h\n",
    "        max_p = pcp_max[∈([train_data[i, :DATE]]).(pcp_max.date), Symbol(current_station)];\n",
    "        train_data[i, Symbol(string(current_station, \"_max\"))] = max_p[1];\n",
    "        \n",
    "        # Maximum des précipitations sur 3h\n",
    "        max3_p = pcp_max3[∈([train_data[i, :DATE]]).(pcp_max3.date), Symbol(current_station)];\n",
    "        train_data[i, Symbol(string(current_station, \"_max3\"))] = max3_p[1];\n",
    "    end\n",
    "end"
   ]
  },
  {
   "cell_type": "code",
   "execution_count": 312,
   "metadata": {},
   "outputs": [
    {
     "data": {
      "text/html": [
       "<table class=\"data-frame\"><thead><tr><th></th><th>ID_OUVRAGE</th><th>DATE</th><th>McTavish_sum</th><th>McTavish_max</th><th>McTavish_max3</th></tr><tr><th></th><th>String</th><th>Date</th><th>Float64</th><th>Float64</th><th>Float64</th></tr></thead><tbody><p>10 rows × 5 columns</p><tr><th>1</th><td>4240-01D</td><td>2016-07-04</td><td>0.0</td><td>0.0</td><td>0.0</td></tr><tr><th>2</th><td>4240-01D</td><td>2018-05-15</td><td>8.0</td><td>4.0</td><td>6.0</td></tr><tr><th>3</th><td>4350-01D</td><td>2016-09-25</td><td>0.0</td><td>0.0</td><td>0.0</td></tr><tr><th>4</th><td>3260-01D</td><td>2018-09-06</td><td>0.0</td><td>0.0</td><td>0.0</td></tr><tr><th>5</th><td>4240-01D</td><td>2016-10-17</td><td>3.0</td><td>3.0</td><td>3.0</td></tr><tr><th>6</th><td>3260-01D</td><td>2018-06-17</td><td>0.0</td><td>0.0</td><td>0.0</td></tr><tr><th>7</th><td>3350-07D</td><td>2016-07-23</td><td>183.0</td><td>128.0</td><td>157.0</td></tr><tr><th>8</th><td>4350-01D</td><td>2017-10-09</td><td>324.0</td><td>82.0</td><td>204.0</td></tr><tr><th>9</th><td>4240-01D</td><td>2014-05-05</td><td>11.0</td><td>11.0</td><td>11.0</td></tr><tr><th>10</th><td>4350-01D</td><td>2018-06-02</td><td>0.0</td><td>0.0</td><td>0.0</td></tr></tbody></table>"
      ],
      "text/latex": [
       "\\begin{tabular}{r|ccccc}\n",
       "\t& ID\\_OUVRAGE & DATE & McTavish\\_sum & McTavish\\_max & McTavish\\_max3\\\\\n",
       "\t\\hline\n",
       "\t& String & Date & Float64 & Float64 & Float64\\\\\n",
       "\t\\hline\n",
       "\t1 & 4240-01D & 2016-07-04 & 0.0 & 0.0 & 0.0 \\\\\n",
       "\t2 & 4240-01D & 2018-05-15 & 8.0 & 4.0 & 6.0 \\\\\n",
       "\t3 & 4350-01D & 2016-09-25 & 0.0 & 0.0 & 0.0 \\\\\n",
       "\t4 & 3260-01D & 2018-09-06 & 0.0 & 0.0 & 0.0 \\\\\n",
       "\t5 & 4240-01D & 2016-10-17 & 3.0 & 3.0 & 3.0 \\\\\n",
       "\t6 & 3260-01D & 2018-06-17 & 0.0 & 0.0 & 0.0 \\\\\n",
       "\t7 & 3350-07D & 2016-07-23 & 183.0 & 128.0 & 157.0 \\\\\n",
       "\t8 & 4350-01D & 2017-10-09 & 324.0 & 82.0 & 204.0 \\\\\n",
       "\t9 & 4240-01D & 2014-05-05 & 11.0 & 11.0 & 11.0 \\\\\n",
       "\t10 & 4350-01D & 2018-06-02 & 0.0 & 0.0 & 0.0 \\\\\n",
       "\\end{tabular}\n"
      ],
      "text/plain": [
       "10×5 DataFrame\n",
       "│ Row │ ID_OUVRAGE │ DATE       │ McTavish_sum │ McTavish_max │ McTavish_max3 │\n",
       "│     │ \u001b[90mString\u001b[39m     │ \u001b[90mDate\u001b[39m       │ \u001b[90mFloat64\u001b[39m      │ \u001b[90mFloat64\u001b[39m      │ \u001b[90mFloat64\u001b[39m       │\n",
       "├─────┼────────────┼────────────┼──────────────┼──────────────┼───────────────┤\n",
       "│ 1   │ 4240-01D   │ 2016-07-04 │ 0.0          │ 0.0          │ 0.0           │\n",
       "│ 2   │ 4240-01D   │ 2018-05-15 │ 8.0          │ 4.0          │ 6.0           │\n",
       "│ 3   │ 4350-01D   │ 2016-09-25 │ 0.0          │ 0.0          │ 0.0           │\n",
       "│ 4   │ 3260-01D   │ 2018-09-06 │ 0.0          │ 0.0          │ 0.0           │\n",
       "│ 5   │ 4240-01D   │ 2016-10-17 │ 3.0          │ 3.0          │ 3.0           │\n",
       "│ 6   │ 3260-01D   │ 2018-06-17 │ 0.0          │ 0.0          │ 0.0           │\n",
       "│ 7   │ 3350-07D   │ 2016-07-23 │ 183.0        │ 128.0        │ 157.0         │\n",
       "│ 8   │ 4350-01D   │ 2017-10-09 │ 324.0        │ 82.0         │ 204.0         │\n",
       "│ 9   │ 4240-01D   │ 2014-05-05 │ 11.0         │ 11.0         │ 11.0          │\n",
       "│ 10  │ 4350-01D   │ 2018-06-02 │ 0.0          │ 0.0          │ 0.0           │"
      ]
     },
     "execution_count": 312,
     "metadata": {},
     "output_type": "execute_result"
    }
   ],
   "source": [
    "cols = [:ID_OUVRAGE, :DATE, :McTavish_sum, :McTavish_max, :McTavish_max3];\n",
    "first(shuffleDf(train_data[!, cols]), 10)"
   ]
  },
  {
   "cell_type": "markdown",
   "metadata": {},
   "source": [
    "### Save dataframes in files per ouvrage"
   ]
  },
  {
   "cell_type": "code",
   "execution_count": 333,
   "metadata": {},
   "outputs": [
    {
     "data": {
      "text/plain": [
       "\"data/parsed/ouvrage_3260.csv\""
      ]
     },
     "execution_count": 333,
     "metadata": {},
     "output_type": "execute_result"
    }
   ],
   "source": [
    "ouvrage_3260 = filter(row -> row.ID_OUVRAGE == \"3260-01D\", train_data);\n",
    "select!(ouvrage_3260, Not(:ID_OUVRAGE));\n",
    "CSV.write(\"data/parsed/ouvrage_3260.csv\",ouvrage_3260)"
   ]
  },
  {
   "cell_type": "code",
   "execution_count": 334,
   "metadata": {},
   "outputs": [
    {
     "data": {
      "text/plain": [
       "\"data/parsed/ouvrage_3350.csv\""
      ]
     },
     "execution_count": 334,
     "metadata": {},
     "output_type": "execute_result"
    }
   ],
   "source": [
    "ouvrage_3350 = filter(row -> row.ID_OUVRAGE == \"3350-07D\", train_data)\n",
    "select!(ouvrage_3350, Not(:ID_OUVRAGE));\n",
    "CSV.write(\"data/parsed/ouvrage_3350.csv\",ouvrage_3350)"
   ]
  },
  {
   "cell_type": "code",
   "execution_count": 335,
   "metadata": {},
   "outputs": [
    {
     "data": {
      "text/plain": [
       "\"data/parsed/ouvrage_4240.csv\""
      ]
     },
     "execution_count": 335,
     "metadata": {},
     "output_type": "execute_result"
    }
   ],
   "source": [
    "ouvrage_4240 = filter(row -> row.ID_OUVRAGE == \"4240-01D\", train_data)\n",
    "select!(ouvrage_4240, Not(:ID_OUVRAGE));\n",
    "CSV.write(\"data/parsed/ouvrage_4240.csv\",ouvrage_4240)"
   ]
  },
  {
   "cell_type": "code",
   "execution_count": 336,
   "metadata": {},
   "outputs": [
    {
     "data": {
      "text/plain": [
       "\"data/parsed/ouvrage_4350.csv\""
      ]
     },
     "execution_count": 336,
     "metadata": {},
     "output_type": "execute_result"
    }
   ],
   "source": [
    "ouvrage_4350 = filter(row -> row.ID_OUVRAGE == \"4350-01D\", train_data)\n",
    "select!(ouvrage_4350, Not(:ID_OUVRAGE));\n",
    "CSV.write(\"data/parsed/ouvrage_4350.csv\",ouvrage_4350)"
   ]
  },
  {
   "cell_type": "code",
   "execution_count": 337,
   "metadata": {},
   "outputs": [
    {
     "data": {
      "text/plain": [
       "\"data/parsed/ouvrage_4380.csv\""
      ]
     },
     "execution_count": 337,
     "metadata": {},
     "output_type": "execute_result"
    }
   ],
   "source": [
    "ouvrage_4380 = filter(row -> row.ID_OUVRAGE == \"4380-01D\", train_data)\n",
    "select!(ouvrage_4380, Not(:ID_OUVRAGE));\n",
    "CSV.write(\"data/parsed/ouvrage_4380.csv\",ouvrage_4380)"
   ]
  },
  {
   "cell_type": "markdown",
   "metadata": {},
   "source": [
    "### Tests"
   ]
  },
  {
   "cell_type": "code",
   "execution_count": 338,
   "metadata": {},
   "outputs": [],
   "source": [
    "test_data = CSV.read(\"data/test.csv\");\n",
    "rename!(test_data, :NO_OUVRAGE => :ID_OUVRAGE);"
   ]
  },
  {
   "cell_type": "code",
   "execution_count": 339,
   "metadata": {},
   "outputs": [
    {
     "data": {
      "text/plain": [
       "5-element Array{String,1}:\n",
       " \"3260-01D\"\n",
       " \"3350-07D\"\n",
       " \"4240-01D\"\n",
       " \"4350-01D\"\n",
       " \"4380-01D\""
      ]
     },
     "execution_count": 339,
     "metadata": {},
     "output_type": "execute_result"
    }
   ],
   "source": [
    "levels(test_data[:,:ID_OUVRAGE])"
   ]
  },
  {
   "cell_type": "code",
   "execution_count": 340,
   "metadata": {},
   "outputs": [],
   "source": [
    "for i=1:5\n",
    "#     train_data[!, Symbol(string(stations_names[i],\"_proxy\"))] = zeros(size(train_data, 1));\n",
    "    test_data[!, Symbol(string(stations_names[i],\"_sum\"))] = zeros(size(test_data, 1));\n",
    "    test_data[!, Symbol(string(stations_names[i],\"_max\"))] = zeros(size(test_data, 1));\n",
    "    test_data[!, Symbol(string(stations_names[i],\"_max3\"))] = zeros(size(test_data, 1));\n",
    "end"
   ]
  },
  {
   "cell_type": "code",
   "execution_count": 341,
   "metadata": {},
   "outputs": [],
   "source": [
    "for i=1:size(test_data, 1)\n",
    "    curr_ouvrage = test_data[i, 1];\n",
    "    ouvrage_data = filter(row -> row.ID_OUVRAGE == curr_ouvrage, ouvrages);\n",
    "    # Pour chaque station\n",
    "    for j=1:5\n",
    "        current_station = station_df[j, :STATION];\n",
    "#         dist = findDistance(ouvrage_data[1, :TP_LAT], ouvrage_data[1, :TP_LNG], station_df[j, :LAT], station_df[j, :LNG]);\n",
    "#         test_data[i, Symbol(string(current_station, \"_proxy\"))] = dist;\n",
    "        \n",
    "        # Somme des précipitations\n",
    "        sum_p = pcp_sum[∈([test_data[i, :DATE]]).(pcp_sum.date), Symbol(current_station)];\n",
    "        test_data[i, Symbol(string(current_station, \"_sum\"))] = sum_p[1];\n",
    "        \n",
    "        # Maximum des précipitations sur 1h\n",
    "        max_p = pcp_max[∈([test_data[i, :DATE]]).(pcp_max.date), Symbol(current_station)];\n",
    "        test_data[i, Symbol(string(current_station, \"_max\"))] = max_p[1];\n",
    "        \n",
    "        # Maximum des précipitations sur 3h\n",
    "        max3_p = pcp_max3[∈([test_data[i, :DATE]]).(pcp_max3.date), Symbol(current_station)];\n",
    "        test_data[i, Symbol(string(current_station, \"_max3\"))] = max3_p[1];\n",
    "    end\n",
    "end"
   ]
  },
  {
   "cell_type": "code",
   "execution_count": 342,
   "metadata": {},
   "outputs": [
    {
     "data": {
      "text/html": [
       "<table class=\"data-frame\"><thead><tr><th></th><th>ID_OUVRAGE</th><th>DATE</th><th>McTavish_sum</th><th>McTavish_max</th><th>McTavish_max3</th></tr><tr><th></th><th>String</th><th>Date</th><th>Float64</th><th>Float64</th><th>Float64</th></tr></thead><tbody><p>10 rows × 5 columns</p><tr><th>1</th><td>3350-07D</td><td>2019-08-19</td><td>0.0</td><td>0.0</td><td>0.0</td></tr><tr><th>2</th><td>4380-01D</td><td>2019-07-01</td><td>0.0</td><td>0.0</td><td>0.0</td></tr><tr><th>3</th><td>3350-07D</td><td>2019-08-28</td><td>158.0</td><td>41.0</td><td>92.0</td></tr><tr><th>4</th><td>4350-01D</td><td>2019-08-23</td><td>0.0</td><td>0.0</td><td>0.0</td></tr><tr><th>5</th><td>4350-01D</td><td>2019-06-25</td><td>153.0</td><td>65.0</td><td>121.0</td></tr><tr><th>6</th><td>4240-01D</td><td>2019-08-02</td><td>0.0</td><td>0.0</td><td>0.0</td></tr><tr><th>7</th><td>4240-01D</td><td>2019-05-24</td><td>13.0</td><td>9.0</td><td>11.0</td></tr><tr><th>8</th><td>3350-07D</td><td>2019-05-11</td><td>2.0</td><td>2.0</td><td>2.0</td></tr><tr><th>9</th><td>4350-01D</td><td>2019-07-17</td><td>0.0</td><td>0.0</td><td>0.0</td></tr><tr><th>10</th><td>3260-01D</td><td>2019-08-09</td><td>86.0</td><td>34.0</td><td>57.0</td></tr></tbody></table>"
      ],
      "text/latex": [
       "\\begin{tabular}{r|ccccc}\n",
       "\t& ID\\_OUVRAGE & DATE & McTavish\\_sum & McTavish\\_max & McTavish\\_max3\\\\\n",
       "\t\\hline\n",
       "\t& String & Date & Float64 & Float64 & Float64\\\\\n",
       "\t\\hline\n",
       "\t1 & 3350-07D & 2019-08-19 & 0.0 & 0.0 & 0.0 \\\\\n",
       "\t2 & 4380-01D & 2019-07-01 & 0.0 & 0.0 & 0.0 \\\\\n",
       "\t3 & 3350-07D & 2019-08-28 & 158.0 & 41.0 & 92.0 \\\\\n",
       "\t4 & 4350-01D & 2019-08-23 & 0.0 & 0.0 & 0.0 \\\\\n",
       "\t5 & 4350-01D & 2019-06-25 & 153.0 & 65.0 & 121.0 \\\\\n",
       "\t6 & 4240-01D & 2019-08-02 & 0.0 & 0.0 & 0.0 \\\\\n",
       "\t7 & 4240-01D & 2019-05-24 & 13.0 & 9.0 & 11.0 \\\\\n",
       "\t8 & 3350-07D & 2019-05-11 & 2.0 & 2.0 & 2.0 \\\\\n",
       "\t9 & 4350-01D & 2019-07-17 & 0.0 & 0.0 & 0.0 \\\\\n",
       "\t10 & 3260-01D & 2019-08-09 & 86.0 & 34.0 & 57.0 \\\\\n",
       "\\end{tabular}\n"
      ],
      "text/plain": [
       "10×5 DataFrame\n",
       "│ Row │ ID_OUVRAGE │ DATE       │ McTavish_sum │ McTavish_max │ McTavish_max3 │\n",
       "│     │ \u001b[90mString\u001b[39m     │ \u001b[90mDate\u001b[39m       │ \u001b[90mFloat64\u001b[39m      │ \u001b[90mFloat64\u001b[39m      │ \u001b[90mFloat64\u001b[39m       │\n",
       "├─────┼────────────┼────────────┼──────────────┼──────────────┼───────────────┤\n",
       "│ 1   │ 3350-07D   │ 2019-08-19 │ 0.0          │ 0.0          │ 0.0           │\n",
       "│ 2   │ 4380-01D   │ 2019-07-01 │ 0.0          │ 0.0          │ 0.0           │\n",
       "│ 3   │ 3350-07D   │ 2019-08-28 │ 158.0        │ 41.0         │ 92.0          │\n",
       "│ 4   │ 4350-01D   │ 2019-08-23 │ 0.0          │ 0.0          │ 0.0           │\n",
       "│ 5   │ 4350-01D   │ 2019-06-25 │ 153.0        │ 65.0         │ 121.0         │\n",
       "│ 6   │ 4240-01D   │ 2019-08-02 │ 0.0          │ 0.0          │ 0.0           │\n",
       "│ 7   │ 4240-01D   │ 2019-05-24 │ 13.0         │ 9.0          │ 11.0          │\n",
       "│ 8   │ 3350-07D   │ 2019-05-11 │ 2.0          │ 2.0          │ 2.0           │\n",
       "│ 9   │ 4350-01D   │ 2019-07-17 │ 0.0          │ 0.0          │ 0.0           │\n",
       "│ 10  │ 3260-01D   │ 2019-08-09 │ 86.0         │ 34.0         │ 57.0          │"
      ]
     },
     "execution_count": 342,
     "metadata": {},
     "output_type": "execute_result"
    }
   ],
   "source": [
    "cols = [:ID_OUVRAGE, :DATE, :McTavish_sum, :McTavish_max, :McTavish_max3];\n",
    "first(shuffleDf(test_data[!, cols]), 10)"
   ]
  },
  {
   "cell_type": "code",
   "execution_count": 343,
   "metadata": {},
   "outputs": [
    {
     "data": {
      "text/plain": [
       "\"data/parsed/test_3260.csv\""
      ]
     },
     "execution_count": 343,
     "metadata": {},
     "output_type": "execute_result"
    }
   ],
   "source": [
    "test_3260 = filter(row -> row.ID_OUVRAGE == \"3260-01D\", test_data);\n",
    "select!(test_3260, Not(:ID_OUVRAGE));\n",
    "CSV.write(\"data/parsed/test_3260.csv\",test_3260)"
   ]
  },
  {
   "cell_type": "code",
   "execution_count": 344,
   "metadata": {},
   "outputs": [
    {
     "data": {
      "text/plain": [
       "\"data/parsed/test_3350.csv\""
      ]
     },
     "execution_count": 344,
     "metadata": {},
     "output_type": "execute_result"
    }
   ],
   "source": [
    "test_3350 = filter(row -> row.ID_OUVRAGE == \"3350-07D\", test_data);\n",
    "select!(test_3350, Not(:ID_OUVRAGE));\n",
    "CSV.write(\"data/parsed/test_3350.csv\",test_3350)"
   ]
  },
  {
   "cell_type": "code",
   "execution_count": 345,
   "metadata": {},
   "outputs": [
    {
     "data": {
      "text/plain": [
       "\"data/parsed/test_4240.csv\""
      ]
     },
     "execution_count": 345,
     "metadata": {},
     "output_type": "execute_result"
    }
   ],
   "source": [
    "test_4240 = filter(row -> row.ID_OUVRAGE == \"4240-01D\", test_data);\n",
    "select!(test_4240, Not(:ID_OUVRAGE));\n",
    "CSV.write(\"data/parsed/test_4240.csv\",test_4240)"
   ]
  },
  {
   "cell_type": "code",
   "execution_count": 346,
   "metadata": {},
   "outputs": [
    {
     "data": {
      "text/plain": [
       "\"data/parsed/test_4350.csv\""
      ]
     },
     "execution_count": 346,
     "metadata": {},
     "output_type": "execute_result"
    }
   ],
   "source": [
    "test_4350 = filter(row -> row.ID_OUVRAGE == \"4350-01D\", test_data);\n",
    "select!(test_4350, Not(:ID_OUVRAGE));\n",
    "CSV.write(\"data/parsed/test_4350.csv\",test_4350)"
   ]
  },
  {
   "cell_type": "code",
   "execution_count": 347,
   "metadata": {},
   "outputs": [
    {
     "data": {
      "text/plain": [
       "\"data/parsed/test_4380.csv\""
      ]
     },
     "execution_count": 347,
     "metadata": {},
     "output_type": "execute_result"
    }
   ],
   "source": [
    "test_4380 = filter(row -> row.ID_OUVRAGE == \"4380-01D\", test_data);\n",
    "select!(test_4380, Not(:ID_OUVRAGE));\n",
    "CSV.write(\"data/parsed/test_4380.csv\",test_4380)"
   ]
  }
 ],
 "metadata": {
  "kernelspec": {
   "display_name": "Julia 1.2.0",
   "language": "julia",
   "name": "julia-1.2"
  },
  "language_info": {
   "file_extension": ".jl",
   "mimetype": "application/julia",
   "name": "julia",
   "version": "1.0.5"
  }
 },
 "nbformat": 4,
 "nbformat_minor": 2
}
