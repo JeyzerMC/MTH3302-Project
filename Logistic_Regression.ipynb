{
 "cells": [
  {
   "cell_type": "markdown",
   "metadata": {},
   "source": [
    "# Data Processing"
   ]
  },
  {
   "cell_type": "code",
   "execution_count": 25,
   "metadata": {},
   "outputs": [],
   "source": [
    "using CSV, DataFrames, GLM, Statistics, Dates, Gadfly, Random, MLBase;\n",
    "include(\"utils/precipitation.jl\");"
   ]
  },
  {
   "cell_type": "markdown",
   "metadata": {},
   "source": [
    "## Build features"
   ]
  },
  {
   "cell_type": "markdown",
   "metadata": {},
   "source": [
    "### Get and filter the features"
   ]
  },
  {
   "cell_type": "markdown",
   "metadata": {},
   "source": [
    "#### Latitude, Longitude, Height"
   ]
  },
  {
   "cell_type": "code",
   "execution_count": 2,
   "metadata": {},
   "outputs": [],
   "source": [
    "features = CSV.read(\"data/ouvrages-surverses.csv\");\n",
    "colnames = [\"N_Env\", \"ID_SOMA\", \"ID_OUVRAGE\", \"NOM\", \"SOMA_SEC\", \"REGION\", \"TP_X\", \"TP_Y\", \"TP_Z\", \"TP_LAT\", \"TP_LNG\", \"EMI_X\", \"EMI_Y\", \"EMI_LNG\", \"EMI_LAT\"];\n",
    "names!(features, Symbol.(colnames));\n",
    "select!(features, [:ID_OUVRAGE, :TP_LAT, :TP_LNG, :TP_Z]);"
   ]
  },
  {
   "cell_type": "markdown",
   "metadata": {},
   "source": [
    "#### Replace missing Z index with mean"
   ]
  },
  {
   "cell_type": "code",
   "execution_count": 3,
   "metadata": {},
   "outputs": [
    {
     "data": {
      "text/html": [
       "<table class=\"data-frame\"><thead><tr><th></th><th>ID_OUVRAGE</th><th>TP_LAT</th><th>TP_LNG</th><th>TP_Z</th></tr><tr><th></th><th>String</th><th>Float64</th><th>Float64</th><th>Float64</th></tr></thead><tbody><p>10 rows × 4 columns</p><tr><th>1</th><td>0801-09D</td><td>45.5158</td><td>-73.5357</td><td>25.28</td></tr><tr><th>2</th><td>4420-04D</td><td>45.4485</td><td>-73.5697</td><td>16.0</td></tr><tr><th>3</th><td>4340-01D</td><td>45.5262</td><td>-73.5444</td><td>19.33</td></tr><tr><th>4</th><td>3240-02D</td><td>45.6644</td><td>-73.5605</td><td>10.11</td></tr><tr><th>5</th><td>4370-05D</td><td>45.4398</td><td>-73.657</td><td>24.79</td></tr><tr><th>6</th><td>4230-07D</td><td>45.6888</td><td>-73.4863</td><td>9.86</td></tr><tr><th>7</th><td>4300-01D</td><td>45.5707</td><td>-73.5207</td><td>13.59</td></tr><tr><th>8</th><td>4400-02D</td><td>45.4507</td><td>-73.5724</td><td>16.17</td></tr><tr><th>9</th><td>4610-01D</td><td>45.4328</td><td>-73.8377</td><td>24.84</td></tr><tr><th>10</th><td>3350-06D</td><td>45.5551</td><td>-73.6735</td><td>21.31</td></tr></tbody></table>"
      ],
      "text/latex": [
       "\\begin{tabular}{r|cccc}\n",
       "\t& ID\\_OUVRAGE & TP\\_LAT & TP\\_LNG & TP\\_Z\\\\\n",
       "\t\\hline\n",
       "\t& String & Float64 & Float64 & Float64\\\\\n",
       "\t\\hline\n",
       "\t1 & 0801-09D & 45.5158 & -73.5357 & 25.28 \\\\\n",
       "\t2 & 4420-04D & 45.4485 & -73.5697 & 16.0 \\\\\n",
       "\t3 & 4340-01D & 45.5262 & -73.5444 & 19.33 \\\\\n",
       "\t4 & 3240-02D & 45.6644 & -73.5605 & 10.11 \\\\\n",
       "\t5 & 4370-05D & 45.4398 & -73.657 & 24.79 \\\\\n",
       "\t6 & 4230-07D & 45.6888 & -73.4863 & 9.86 \\\\\n",
       "\t7 & 4300-01D & 45.5707 & -73.5207 & 13.59 \\\\\n",
       "\t8 & 4400-02D & 45.4507 & -73.5724 & 16.17 \\\\\n",
       "\t9 & 4610-01D & 45.4328 & -73.8377 & 24.84 \\\\\n",
       "\t10 & 3350-06D & 45.5551 & -73.6735 & 21.31 \\\\\n",
       "\\end{tabular}\n"
      ],
      "text/plain": [
       "10×4 DataFrame\n",
       "│ Row │ ID_OUVRAGE │ TP_LAT  │ TP_LNG   │ TP_Z    │\n",
       "│     │ \u001b[90mString\u001b[39m     │ \u001b[90mFloat64\u001b[39m │ \u001b[90mFloat64\u001b[39m  │ \u001b[90mFloat64\u001b[39m │\n",
       "├─────┼────────────┼─────────┼──────────┼─────────┤\n",
       "│ 1   │ 0801-09D   │ 45.5158 │ -73.5357 │ 25.28   │\n",
       "│ 2   │ 4420-04D   │ 45.4485 │ -73.5697 │ 16.0    │\n",
       "│ 3   │ 4340-01D   │ 45.5262 │ -73.5444 │ 19.33   │\n",
       "│ 4   │ 3240-02D   │ 45.6644 │ -73.5605 │ 10.11   │\n",
       "│ 5   │ 4370-05D   │ 45.4398 │ -73.657  │ 24.79   │\n",
       "│ 6   │ 4230-07D   │ 45.6888 │ -73.4863 │ 9.86    │\n",
       "│ 7   │ 4300-01D   │ 45.5707 │ -73.5207 │ 13.59   │\n",
       "│ 8   │ 4400-02D   │ 45.4507 │ -73.5724 │ 16.17   │\n",
       "│ 9   │ 4610-01D   │ 45.4328 │ -73.8377 │ 24.84   │\n",
       "│ 10  │ 3350-06D   │ 45.5551 │ -73.6735 │ 21.31   │"
      ]
     },
     "execution_count": 3,
     "metadata": {},
     "output_type": "execute_result"
    }
   ],
   "source": [
    "features.TP_Z = coalesce.(features.TP_Z, mean(features[completecases(features), :].TP_Z));\n",
    "first(shuffleDf(features), 10)"
   ]
  },
  {
   "cell_type": "markdown",
   "metadata": {},
   "source": [
    "### Load dates and surverses"
   ]
  },
  {
   "cell_type": "code",
   "execution_count": 4,
   "metadata": {},
   "outputs": [],
   "source": [
    "surverses = CSV.read(\"data/surverses.csv\",missingstring=\"-99999\");"
   ]
  },
  {
   "cell_type": "markdown",
   "metadata": {},
   "source": [
    "#### Filter months"
   ]
  },
  {
   "cell_type": "code",
   "execution_count": 5,
   "metadata": {},
   "outputs": [],
   "source": [
    "surverses = filter(row -> month(row.DATE) > 4, surverses);\n",
    "surverses = filter(row -> month(row.DATE) < 11, surverses);"
   ]
  },
  {
   "cell_type": "markdown",
   "metadata": {},
   "source": [
    "#### Filter non rain surverses"
   ]
  },
  {
   "cell_type": "code",
   "execution_count": 6,
   "metadata": {},
   "outputs": [],
   "source": [
    "raison = coalesce.(surverses[:,:RAISON],\"Inconnue\");\n",
    "surverses[!,:RAISON] = raison;\n",
    "\n",
    "surverses = filter(row -> row.RAISON ∈ [\"P\",\"Inconnue\",\"TS\"], surverses);\n",
    "select!(surverses, [:NO_OUVRAGE, :DATE, :SURVERSE]);"
   ]
  },
  {
   "cell_type": "markdown",
   "metadata": {},
   "source": [
    "#### Remove missing data and rename"
   ]
  },
  {
   "cell_type": "code",
   "execution_count": 7,
   "metadata": {},
   "outputs": [
    {
     "data": {
      "text/html": [
       "<table class=\"data-frame\"><thead><tr><th></th><th>ID_OUVRAGE</th><th>DATE</th><th>SURVERSE</th></tr><tr><th></th><th>String</th><th>Date</th><th>Int64</th></tr></thead><tbody><p>10 rows × 3 columns</p><tr><th>1</th><td>3250-02D</td><td>2018-09-08</td><td>0</td></tr><tr><th>2</th><td>3305-04D</td><td>2018-07-13</td><td>0</td></tr><tr><th>3</th><td>4310-01D</td><td>2017-06-11</td><td>0</td></tr><tr><th>4</th><td>3350-06D</td><td>2016-10-31</td><td>0</td></tr><tr><th>5</th><td>4230-08D</td><td>2018-07-13</td><td>0</td></tr><tr><th>6</th><td>3230-01D</td><td>2015-09-28</td><td>0</td></tr><tr><th>7</th><td>3450-01D</td><td>2016-08-16</td><td>0</td></tr><tr><th>8</th><td>3320-01D</td><td>2015-07-21</td><td>1</td></tr><tr><th>9</th><td>3260-01D</td><td>2013-06-28</td><td>1</td></tr><tr><th>10</th><td>3410-02D</td><td>2014-09-03</td><td>0</td></tr></tbody></table>"
      ],
      "text/latex": [
       "\\begin{tabular}{r|ccc}\n",
       "\t& ID\\_OUVRAGE & DATE & SURVERSE\\\\\n",
       "\t\\hline\n",
       "\t& String & Date & Int64\\\\\n",
       "\t\\hline\n",
       "\t1 & 3250-02D & 2018-09-08 & 0 \\\\\n",
       "\t2 & 3305-04D & 2018-07-13 & 0 \\\\\n",
       "\t3 & 4310-01D & 2017-06-11 & 0 \\\\\n",
       "\t4 & 3350-06D & 2016-10-31 & 0 \\\\\n",
       "\t5 & 4230-08D & 2018-07-13 & 0 \\\\\n",
       "\t6 & 3230-01D & 2015-09-28 & 0 \\\\\n",
       "\t7 & 3450-01D & 2016-08-16 & 0 \\\\\n",
       "\t8 & 3320-01D & 2015-07-21 & 1 \\\\\n",
       "\t9 & 3260-01D & 2013-06-28 & 1 \\\\\n",
       "\t10 & 3410-02D & 2014-09-03 & 0 \\\\\n",
       "\\end{tabular}\n"
      ],
      "text/plain": [
       "10×3 DataFrame\n",
       "│ Row │ ID_OUVRAGE │ DATE       │ SURVERSE │\n",
       "│     │ \u001b[90mString\u001b[39m     │ \u001b[90mDate\u001b[39m       │ \u001b[90mInt64\u001b[39m    │\n",
       "├─────┼────────────┼────────────┼──────────┤\n",
       "│ 1   │ 3250-02D   │ 2018-09-08 │ 0        │\n",
       "│ 2   │ 3305-04D   │ 2018-07-13 │ 0        │\n",
       "│ 3   │ 4310-01D   │ 2017-06-11 │ 0        │\n",
       "│ 4   │ 3350-06D   │ 2016-10-31 │ 0        │\n",
       "│ 5   │ 4230-08D   │ 2018-07-13 │ 0        │\n",
       "│ 6   │ 3230-01D   │ 2015-09-28 │ 0        │\n",
       "│ 7   │ 3450-01D   │ 2016-08-16 │ 0        │\n",
       "│ 8   │ 3320-01D   │ 2015-07-21 │ 1        │\n",
       "│ 9   │ 3260-01D   │ 2013-06-28 │ 1        │\n",
       "│ 10  │ 3410-02D   │ 2014-09-03 │ 0        │"
      ]
     },
     "execution_count": 7,
     "metadata": {},
     "output_type": "execute_result"
    }
   ],
   "source": [
    "surverses = dropmissing(surverses, disallowmissing=true);\n",
    "rename!(surverses, :NO_OUVRAGE => :ID_OUVRAGE);\n",
    "first(shuffleDf(surverses),10)"
   ]
  },
  {
   "cell_type": "markdown",
   "metadata": {},
   "source": [
    "### Augment features with dates and label"
   ]
  },
  {
   "cell_type": "code",
   "execution_count": 8,
   "metadata": {},
   "outputs": [
    {
     "data": {
      "text/html": [
       "<table class=\"data-frame\"><thead><tr><th></th><th>ID_OUVRAGE</th><th>TP_LAT</th><th>TP_LNG</th><th>TP_Z</th><th>DATE</th><th>SURVERSE</th></tr><tr><th></th><th>String</th><th>Float64</th><th>Float64</th><th>Float64</th><th>Date</th><th>Int64</th></tr></thead><tbody><p>10 rows × 6 columns</p><tr><th>1</th><td>4770-01D</td><td>45.6574</td><td>-73.4902</td><td>10.77</td><td>2018-08-19</td><td>0</td></tr><tr><th>2</th><td>3580-01D</td><td>45.4085</td><td>-73.9569</td><td>25.48</td><td>2014-06-23</td><td>0</td></tr><tr><th>3</th><td>4350-01D</td><td>45.4991</td><td>-73.555</td><td>19.3526</td><td>2015-08-05</td><td>0</td></tr><tr><th>4</th><td>4270-01D</td><td>45.6105</td><td>-73.5087</td><td>11.17</td><td>2018-07-29</td><td>0</td></tr><tr><th>5</th><td>0801-07D</td><td>45.5191</td><td>-73.5341</td><td>33.58</td><td>2013-10-01</td><td>0</td></tr><tr><th>6</th><td>3490-01D</td><td>45.5067</td><td>-73.8082</td><td>23.34</td><td>2015-07-02</td><td>0</td></tr><tr><th>7</th><td>4270-02D</td><td>45.6112</td><td>-73.5084</td><td>19.3526</td><td>2016-06-23</td><td>0</td></tr><tr><th>8</th><td>4260-01D</td><td>45.6308</td><td>-73.495</td><td>12.21</td><td>2013-08-04</td><td>0</td></tr><tr><th>9</th><td>4230-06D</td><td>45.6821</td><td>-73.4901</td><td>8.97</td><td>2018-08-26</td><td>0</td></tr><tr><th>10</th><td>0801-09D</td><td>45.5158</td><td>-73.5357</td><td>25.28</td><td>2018-07-29</td><td>0</td></tr></tbody></table>"
      ],
      "text/latex": [
       "\\begin{tabular}{r|cccccc}\n",
       "\t& ID\\_OUVRAGE & TP\\_LAT & TP\\_LNG & TP\\_Z & DATE & SURVERSE\\\\\n",
       "\t\\hline\n",
       "\t& String & Float64 & Float64 & Float64 & Date & Int64\\\\\n",
       "\t\\hline\n",
       "\t1 & 4770-01D & 45.6574 & -73.4902 & 10.77 & 2018-08-19 & 0 \\\\\n",
       "\t2 & 3580-01D & 45.4085 & -73.9569 & 25.48 & 2014-06-23 & 0 \\\\\n",
       "\t3 & 4350-01D & 45.4991 & -73.555 & 19.3526 & 2015-08-05 & 0 \\\\\n",
       "\t4 & 4270-01D & 45.6105 & -73.5087 & 11.17 & 2018-07-29 & 0 \\\\\n",
       "\t5 & 0801-07D & 45.5191 & -73.5341 & 33.58 & 2013-10-01 & 0 \\\\\n",
       "\t6 & 3490-01D & 45.5067 & -73.8082 & 23.34 & 2015-07-02 & 0 \\\\\n",
       "\t7 & 4270-02D & 45.6112 & -73.5084 & 19.3526 & 2016-06-23 & 0 \\\\\n",
       "\t8 & 4260-01D & 45.6308 & -73.495 & 12.21 & 2013-08-04 & 0 \\\\\n",
       "\t9 & 4230-06D & 45.6821 & -73.4901 & 8.97 & 2018-08-26 & 0 \\\\\n",
       "\t10 & 0801-09D & 45.5158 & -73.5357 & 25.28 & 2018-07-29 & 0 \\\\\n",
       "\\end{tabular}\n"
      ],
      "text/plain": [
       "10×6 DataFrame\n",
       "│ Row │ ID_OUVRAGE │ TP_LAT  │ TP_LNG   │ TP_Z    │ DATE       │ SURVERSE │\n",
       "│     │ \u001b[90mString\u001b[39m     │ \u001b[90mFloat64\u001b[39m │ \u001b[90mFloat64\u001b[39m  │ \u001b[90mFloat64\u001b[39m │ \u001b[90mDate\u001b[39m       │ \u001b[90mInt64\u001b[39m    │\n",
       "├─────┼────────────┼─────────┼──────────┼─────────┼────────────┼──────────┤\n",
       "│ 1   │ 4770-01D   │ 45.6574 │ -73.4902 │ 10.77   │ 2018-08-19 │ 0        │\n",
       "│ 2   │ 3580-01D   │ 45.4085 │ -73.9569 │ 25.48   │ 2014-06-23 │ 0        │\n",
       "│ 3   │ 4350-01D   │ 45.4991 │ -73.555  │ 19.3526 │ 2015-08-05 │ 0        │\n",
       "│ 4   │ 4270-01D   │ 45.6105 │ -73.5087 │ 11.17   │ 2018-07-29 │ 0        │\n",
       "│ 5   │ 0801-07D   │ 45.5191 │ -73.5341 │ 33.58   │ 2013-10-01 │ 0        │\n",
       "│ 6   │ 3490-01D   │ 45.5067 │ -73.8082 │ 23.34   │ 2015-07-02 │ 0        │\n",
       "│ 7   │ 4270-02D   │ 45.6112 │ -73.5084 │ 19.3526 │ 2016-06-23 │ 0        │\n",
       "│ 8   │ 4260-01D   │ 45.6308 │ -73.495  │ 12.21   │ 2013-08-04 │ 0        │\n",
       "│ 9   │ 4230-06D   │ 45.6821 │ -73.4901 │ 8.97    │ 2018-08-26 │ 0        │\n",
       "│ 10  │ 0801-09D   │ 45.5158 │ -73.5357 │ 25.28   │ 2018-07-29 │ 0        │"
      ]
     },
     "execution_count": 8,
     "metadata": {},
     "output_type": "execute_result"
    }
   ],
   "source": [
    "comb = join(features, surverses, on = :ID_OUVRAGE);\n",
    "first(shuffleDf(comb), 10)"
   ]
  },
  {
   "cell_type": "markdown",
   "metadata": {},
   "source": [
    "### Load precipitation data"
   ]
  },
  {
   "cell_type": "markdown",
   "metadata": {},
   "source": [
    "#### Load and filter months between May & October included"
   ]
  },
  {
   "cell_type": "code",
   "execution_count": 9,
   "metadata": {},
   "outputs": [],
   "source": [
    "precipitation = CSV.read(\"data/precipitations.csv\",missingstring=\"-99999\");\n",
    "rename!(precipitation, Symbol(\"St-Hubert\")=>:StHubert);\n",
    "\n",
    "precipitation = filter(row -> month(row.date) > 4, precipitation);\n",
    "precipitation = filter(row -> month(row.date) < 11, precipitation); "
   ]
  },
  {
   "cell_type": "markdown",
   "metadata": {},
   "source": [
    "#### Replace missing data by 0"
   ]
  },
  {
   "cell_type": "code",
   "execution_count": 10,
   "metadata": {},
   "outputs": [
    {
     "data": {
      "text/html": [
       "<table class=\"data-frame\"><thead><tr><th></th><th>date</th><th>heure</th><th>McTavish</th><th>Bellevue</th><th>Assomption</th><th>Trudeau</th><th>StHubert</th></tr><tr><th></th><th>Date</th><th>Int64</th><th>Int64</th><th>Int64</th><th>Int64</th><th>Int64</th><th>Int64</th></tr></thead><tbody><p>5 rows × 7 columns</p><tr><th>1</th><td>2014-06-27</td><td>7</td><td>0</td><td>0</td><td>0</td><td>0</td><td>0</td></tr><tr><th>2</th><td>2016-06-20</td><td>3</td><td>0</td><td>0</td><td>0</td><td>0</td><td>0</td></tr><tr><th>3</th><td>2013-05-08</td><td>8</td><td>0</td><td>0</td><td>0</td><td>0</td><td>0</td></tr><tr><th>4</th><td>2017-09-09</td><td>7</td><td>0</td><td>0</td><td>0</td><td>0</td><td>0</td></tr><tr><th>5</th><td>2014-10-12</td><td>9</td><td>0</td><td>0</td><td>0</td><td>0</td><td>0</td></tr></tbody></table>"
      ],
      "text/latex": [
       "\\begin{tabular}{r|ccccccc}\n",
       "\t& date & heure & McTavish & Bellevue & Assomption & Trudeau & StHubert\\\\\n",
       "\t\\hline\n",
       "\t& Date & Int64 & Int64 & Int64 & Int64 & Int64 & Int64\\\\\n",
       "\t\\hline\n",
       "\t1 & 2014-06-27 & 7 & 0 & 0 & 0 & 0 & 0 \\\\\n",
       "\t2 & 2016-06-20 & 3 & 0 & 0 & 0 & 0 & 0 \\\\\n",
       "\t3 & 2013-05-08 & 8 & 0 & 0 & 0 & 0 & 0 \\\\\n",
       "\t4 & 2017-09-09 & 7 & 0 & 0 & 0 & 0 & 0 \\\\\n",
       "\t5 & 2014-10-12 & 9 & 0 & 0 & 0 & 0 & 0 \\\\\n",
       "\\end{tabular}\n"
      ],
      "text/plain": [
       "5×7 DataFrame. Omitted printing of 1 columns\n",
       "│ Row │ date       │ heure │ McTavish │ Bellevue │ Assomption │ Trudeau │\n",
       "│     │ \u001b[90mDate\u001b[39m       │ \u001b[90mInt64\u001b[39m │ \u001b[90mInt64\u001b[39m    │ \u001b[90mInt64\u001b[39m    │ \u001b[90mInt64\u001b[39m      │ \u001b[90mInt64\u001b[39m   │\n",
       "├─────┼────────────┼───────┼──────────┼──────────┼────────────┼─────────┤\n",
       "│ 1   │ 2014-06-27 │ 7     │ 0        │ 0        │ 0          │ 0       │\n",
       "│ 2   │ 2016-06-20 │ 3     │ 0        │ 0        │ 0          │ 0       │\n",
       "│ 3   │ 2013-05-08 │ 8     │ 0        │ 0        │ 0          │ 0       │\n",
       "│ 4   │ 2017-09-09 │ 7     │ 0        │ 0        │ 0          │ 0       │\n",
       "│ 5   │ 2014-10-12 │ 9     │ 0        │ 0        │ 0          │ 0       │"
      ]
     },
     "execution_count": 10,
     "metadata": {},
     "output_type": "execute_result"
    }
   ],
   "source": [
    "precipitation[!,:McTavish] = coalesce.(precipitation[:,:McTavish], 0);\n",
    "precipitation[!,:Bellevue] = coalesce.(precipitation[:,:Bellevue], 0);\n",
    "precipitation[!,:Assomption] = coalesce.(precipitation[:,:Assomption], 0);\n",
    "precipitation[!,:Trudeau] = coalesce.(precipitation[:,:Trudeau], 0);\n",
    "precipitation[!,:StHubert] = coalesce.(precipitation[:,:StHubert], 0);\n",
    "\n",
    "first(shuffleDf(precipitation), 5)"
   ]
  },
  {
   "cell_type": "markdown",
   "metadata": {},
   "source": [
    "### Extract features from precipitation"
   ]
  },
  {
   "cell_type": "markdown",
   "metadata": {},
   "source": [
    "#### Sum of precipitation for the day"
   ]
  },
  {
   "cell_type": "code",
   "execution_count": 11,
   "metadata": {
    "scrolled": true
   },
   "outputs": [
    {
     "data": {
      "text/html": [
       "<table class=\"data-frame\"><thead><tr><th></th><th>date</th><th>McTavish</th><th>Bellevue</th><th>Assomption</th><th>Trudeau</th><th>StHubert</th></tr><tr><th></th><th>Date</th><th>Int64</th><th>Int64</th><th>Int64</th><th>Int64</th><th>Int64</th></tr></thead><tbody><p>5 rows × 6 columns</p><tr><th>1</th><td>2019-10-28</td><td>7</td><td>0</td><td>0</td><td>2</td><td>6</td></tr><tr><th>2</th><td>2016-08-16</td><td>768</td><td>699</td><td>641</td><td>700</td><td>618</td></tr><tr><th>3</th><td>2019-08-06</td><td>0</td><td>0</td><td>0</td><td>0</td><td>0</td></tr><tr><th>4</th><td>2013-09-04</td><td>0</td><td>0</td><td>0</td><td>0</td><td>0</td></tr><tr><th>5</th><td>2014-06-16</td><td>0</td><td>0</td><td>0</td><td>0</td><td>0</td></tr></tbody></table>"
      ],
      "text/latex": [
       "\\begin{tabular}{r|cccccc}\n",
       "\t& date & McTavish & Bellevue & Assomption & Trudeau & StHubert\\\\\n",
       "\t\\hline\n",
       "\t& Date & Int64 & Int64 & Int64 & Int64 & Int64\\\\\n",
       "\t\\hline\n",
       "\t1 & 2019-10-28 & 7 & 0 & 0 & 2 & 6 \\\\\n",
       "\t2 & 2016-08-16 & 768 & 699 & 641 & 700 & 618 \\\\\n",
       "\t3 & 2019-08-06 & 0 & 0 & 0 & 0 & 0 \\\\\n",
       "\t4 & 2013-09-04 & 0 & 0 & 0 & 0 & 0 \\\\\n",
       "\t5 & 2014-06-16 & 0 & 0 & 0 & 0 & 0 \\\\\n",
       "\\end{tabular}\n"
      ],
      "text/plain": [
       "5×6 DataFrame\n",
       "│ Row │ date       │ McTavish │ Bellevue │ Assomption │ Trudeau │ StHubert │\n",
       "│     │ \u001b[90mDate\u001b[39m       │ \u001b[90mInt64\u001b[39m    │ \u001b[90mInt64\u001b[39m    │ \u001b[90mInt64\u001b[39m      │ \u001b[90mInt64\u001b[39m   │ \u001b[90mInt64\u001b[39m    │\n",
       "├─────┼────────────┼──────────┼──────────┼────────────┼─────────┼──────────┤\n",
       "│ 1   │ 2019-10-28 │ 7        │ 0        │ 0          │ 2       │ 6        │\n",
       "│ 2   │ 2016-08-16 │ 768      │ 699      │ 641        │ 700     │ 618      │\n",
       "│ 3   │ 2019-08-06 │ 0        │ 0        │ 0          │ 0       │ 0        │\n",
       "│ 4   │ 2013-09-04 │ 0        │ 0        │ 0          │ 0       │ 0        │\n",
       "│ 5   │ 2014-06-16 │ 0        │ 0        │ 0          │ 0       │ 0        │"
      ]
     },
     "execution_count": 11,
     "metadata": {},
     "output_type": "execute_result"
    }
   ],
   "source": [
    "pcp_sum = by(precipitation, :date,  McTavish = :McTavish=>sum, Bellevue = :Bellevue=>sum, \n",
    "   Assomption = :Assomption=>sum, Trudeau = :Trudeau=>sum, StHubert = :StHubert=>sum);\n",
    "first(shuffleDf(pcp_sum), 5)"
   ]
  },
  {
   "cell_type": "markdown",
   "metadata": {},
   "source": [
    "#### Maximum precipitation in an hour for the day"
   ]
  },
  {
   "cell_type": "code",
   "execution_count": 12,
   "metadata": {},
   "outputs": [
    {
     "data": {
      "text/html": [
       "<table class=\"data-frame\"><thead><tr><th></th><th>date</th><th>McTavish</th><th>Bellevue</th><th>Assomption</th><th>Trudeau</th><th>StHubert</th></tr><tr><th></th><th>Date</th><th>Int64</th><th>Int64</th><th>Int64</th><th>Int64</th><th>Int64</th></tr></thead><tbody><p>5 rows × 6 columns</p><tr><th>1</th><td>2016-08-01</td><td>0</td><td>0</td><td>0</td><td>0</td><td>0</td></tr><tr><th>2</th><td>2019-07-28</td><td>0</td><td>0</td><td>0</td><td>15</td><td>0</td></tr><tr><th>3</th><td>2014-09-27</td><td>0</td><td>0</td><td>0</td><td>0</td><td>0</td></tr><tr><th>4</th><td>2018-06-16</td><td>0</td><td>0</td><td>4</td><td>0</td><td>0</td></tr><tr><th>5</th><td>2018-05-09</td><td>0</td><td>0</td><td>9</td><td>0</td><td>0</td></tr></tbody></table>"
      ],
      "text/latex": [
       "\\begin{tabular}{r|cccccc}\n",
       "\t& date & McTavish & Bellevue & Assomption & Trudeau & StHubert\\\\\n",
       "\t\\hline\n",
       "\t& Date & Int64 & Int64 & Int64 & Int64 & Int64\\\\\n",
       "\t\\hline\n",
       "\t1 & 2016-08-01 & 0 & 0 & 0 & 0 & 0 \\\\\n",
       "\t2 & 2019-07-28 & 0 & 0 & 0 & 15 & 0 \\\\\n",
       "\t3 & 2014-09-27 & 0 & 0 & 0 & 0 & 0 \\\\\n",
       "\t4 & 2018-06-16 & 0 & 0 & 4 & 0 & 0 \\\\\n",
       "\t5 & 2018-05-09 & 0 & 0 & 9 & 0 & 0 \\\\\n",
       "\\end{tabular}\n"
      ],
      "text/plain": [
       "5×6 DataFrame\n",
       "│ Row │ date       │ McTavish │ Bellevue │ Assomption │ Trudeau │ StHubert │\n",
       "│     │ \u001b[90mDate\u001b[39m       │ \u001b[90mInt64\u001b[39m    │ \u001b[90mInt64\u001b[39m    │ \u001b[90mInt64\u001b[39m      │ \u001b[90mInt64\u001b[39m   │ \u001b[90mInt64\u001b[39m    │\n",
       "├─────┼────────────┼──────────┼──────────┼────────────┼─────────┼──────────┤\n",
       "│ 1   │ 2016-08-01 │ 0        │ 0        │ 0          │ 0       │ 0        │\n",
       "│ 2   │ 2019-07-28 │ 0        │ 0        │ 0          │ 15      │ 0        │\n",
       "│ 3   │ 2014-09-27 │ 0        │ 0        │ 0          │ 0       │ 0        │\n",
       "│ 4   │ 2018-06-16 │ 0        │ 0        │ 4          │ 0       │ 0        │\n",
       "│ 5   │ 2018-05-09 │ 0        │ 0        │ 9          │ 0       │ 0        │"
      ]
     },
     "execution_count": 12,
     "metadata": {},
     "output_type": "execute_result"
    }
   ],
   "source": [
    "pcp_max = by(precipitation, :date,  McTavish = :McTavish=>maximum, Bellevue = :Bellevue=>maximum, \n",
    "   Assomption = :Assomption=>maximum, Trudeau = :Trudeau=>maximum, StHubert = :StHubert=>maximum)\n",
    "first(shuffleDf(pcp_max),5)"
   ]
  },
  {
   "cell_type": "markdown",
   "metadata": {},
   "source": [
    "#### Maximum precipitation during three consecutive hours in a day"
   ]
  },
  {
   "cell_type": "code",
   "execution_count": 13,
   "metadata": {},
   "outputs": [
    {
     "data": {
      "text/html": [
       "<table class=\"data-frame\"><thead><tr><th></th><th>date</th><th>McTavish</th><th>Bellevue</th><th>Assomption</th><th>Trudeau</th><th>StHubert</th></tr><tr><th></th><th>Date</th><th>Int64</th><th>Int64</th><th>Int64</th><th>Int64</th><th>Int64</th></tr></thead><tbody><p>5 rows × 6 columns</p><tr><th>1</th><td>2013-07-10</td><td>187</td><td>3</td><td>80</td><td>21</td><td>0</td></tr><tr><th>2</th><td>2016-08-03</td><td>0</td><td>0</td><td>0</td><td>0</td><td>0</td></tr><tr><th>3</th><td>2015-08-04</td><td>52</td><td>0</td><td>0</td><td>30</td><td>63</td></tr><tr><th>4</th><td>2017-06-10</td><td>0</td><td>0</td><td>0</td><td>2</td><td>0</td></tr><tr><th>5</th><td>2015-07-24</td><td>2</td><td>27</td><td>20</td><td>8</td><td>0</td></tr></tbody></table>"
      ],
      "text/latex": [
       "\\begin{tabular}{r|cccccc}\n",
       "\t& date & McTavish & Bellevue & Assomption & Trudeau & StHubert\\\\\n",
       "\t\\hline\n",
       "\t& Date & Int64 & Int64 & Int64 & Int64 & Int64\\\\\n",
       "\t\\hline\n",
       "\t1 & 2013-07-10 & 187 & 3 & 80 & 21 & 0 \\\\\n",
       "\t2 & 2016-08-03 & 0 & 0 & 0 & 0 & 0 \\\\\n",
       "\t3 & 2015-08-04 & 52 & 0 & 0 & 30 & 63 \\\\\n",
       "\t4 & 2017-06-10 & 0 & 0 & 0 & 2 & 0 \\\\\n",
       "\t5 & 2015-07-24 & 2 & 27 & 20 & 8 & 0 \\\\\n",
       "\\end{tabular}\n"
      ],
      "text/plain": [
       "5×6 DataFrame\n",
       "│ Row │ date       │ McTavish │ Bellevue │ Assomption │ Trudeau │ StHubert │\n",
       "│     │ \u001b[90mDate\u001b[39m       │ \u001b[90mInt64\u001b[39m    │ \u001b[90mInt64\u001b[39m    │ \u001b[90mInt64\u001b[39m      │ \u001b[90mInt64\u001b[39m   │ \u001b[90mInt64\u001b[39m    │\n",
       "├─────┼────────────┼──────────┼──────────┼────────────┼─────────┼──────────┤\n",
       "│ 1   │ 2013-07-10 │ 187      │ 3        │ 80         │ 21      │ 0        │\n",
       "│ 2   │ 2016-08-03 │ 0        │ 0        │ 0          │ 0       │ 0        │\n",
       "│ 3   │ 2015-08-04 │ 52       │ 0        │ 0          │ 30      │ 63       │\n",
       "│ 4   │ 2017-06-10 │ 0        │ 0        │ 0          │ 2       │ 0        │\n",
       "│ 5   │ 2015-07-24 │ 2        │ 27       │ 20         │ 8       │ 0        │"
      ]
     },
     "execution_count": 13,
     "metadata": {},
     "output_type": "execute_result"
    }
   ],
   "source": [
    "pcp_max3h = by(precipitation, :date,  McTavish = :McTavish=>maximum3, Bellevue = :Bellevue=>maximum3, \n",
    "   Assomption = :Assomption=>maximum3, Trudeau = :Trudeau=>maximum3, StHubert = :StHubert=>maximum3)\n",
    "first(shuffleDf(pcp_max3h),5)"
   ]
  },
  {
   "cell_type": "markdown",
   "metadata": {},
   "source": [
    "### Add precipitation data to features"
   ]
  },
  {
   "cell_type": "markdown",
   "metadata": {},
   "source": [
    "#### Get stations lat-lng"
   ]
  },
  {
   "cell_type": "code",
   "execution_count": 14,
   "metadata": {},
   "outputs": [
    {
     "data": {
      "text/html": [
       "<table class=\"data-frame\"><thead><tr><th></th><th>STATION</th><th>LAT</th><th>LNG</th></tr><tr><th></th><th>String</th><th>Float64</th><th>Float64</th></tr></thead><tbody><p>5 rows × 3 columns</p><tr><th>1</th><td>McTavish</td><td>45.5047</td><td>-73.5792</td></tr><tr><th>2</th><td>Bellevue</td><td>45.4272</td><td>-73.9292</td></tr><tr><th>3</th><td>Assomption</td><td>45.8094</td><td>-73.4347</td></tr><tr><th>4</th><td>Trudeau</td><td>45.4678</td><td>-73.7417</td></tr><tr><th>5</th><td>StHubert</td><td>45.5175</td><td>-73.4169</td></tr></tbody></table>"
      ],
      "text/latex": [
       "\\begin{tabular}{r|ccc}\n",
       "\t& STATION & LAT & LNG\\\\\n",
       "\t\\hline\n",
       "\t& String & Float64 & Float64\\\\\n",
       "\t\\hline\n",
       "\t1 & McTavish & 45.5047 & -73.5792 \\\\\n",
       "\t2 & Bellevue & 45.4272 & -73.9292 \\\\\n",
       "\t3 & Assomption & 45.8094 & -73.4347 \\\\\n",
       "\t4 & Trudeau & 45.4678 & -73.7417 \\\\\n",
       "\t5 & StHubert & 45.5175 & -73.4169 \\\\\n",
       "\\end{tabular}\n"
      ],
      "text/plain": [
       "5×3 DataFrame\n",
       "│ Row │ STATION    │ LAT     │ LNG      │\n",
       "│     │ \u001b[90mString\u001b[39m     │ \u001b[90mFloat64\u001b[39m │ \u001b[90mFloat64\u001b[39m  │\n",
       "├─────┼────────────┼─────────┼──────────┤\n",
       "│ 1   │ McTavish   │ 45.5047 │ -73.5792 │\n",
       "│ 2   │ Bellevue   │ 45.4272 │ -73.9292 │\n",
       "│ 3   │ Assomption │ 45.8094 │ -73.4347 │\n",
       "│ 4   │ Trudeau    │ 45.4678 │ -73.7417 │\n",
       "│ 5   │ StHubert   │ 45.5175 │ -73.4169 │"
      ]
     },
     "execution_count": 14,
     "metadata": {},
     "output_type": "execute_result"
    }
   ],
   "source": [
    "station_df = DataFrame(STATION = String[], LAT = Float64[], LNG = Float64[]);\n",
    "\n",
    "push!(station_df, [\"McTavish\", 45.504742, -73.579167]);\n",
    "push!(station_df, [\"Bellevue\", 45.427222, -73.929167]);\n",
    "push!(station_df, [\"Assomption\", 45.809444, -73.434722]);\n",
    "push!(station_df, [\"Trudeau\", 45.467778, -73.741667]);\n",
    "push!(station_df, [\"StHubert\", 45.5175, -73.416944]);\n",
    "\n",
    "station_df"
   ]
  },
  {
   "cell_type": "markdown",
   "metadata": {},
   "source": [
    "### Standardize TP and station data"
   ]
  },
  {
   "cell_type": "code",
   "execution_count": 15,
   "metadata": {},
   "outputs": [],
   "source": [
    "meanlat = mean(comb.TP_LAT);\n",
    "stdlat = std(comb.TP_LAT);\n",
    "comb.TP_LAT = (comb.TP_LAT .- meanlat) ./ stdlat;\n",
    "station_df.LAT = (station_df.LAT .- meanlat) ./ stdlat;\n",
    "\n",
    "meanlng = mean(comb.TP_LNG);\n",
    "stdlng = std(comb.TP_LNG);\n",
    "comb.TP_LNG = (comb.TP_LNG .- meanlng) ./ stdlng;\n",
    "station_df.LNG = (station_df.LNG .- meanlng) ./ stdlng;\n",
    "\n",
    "meanz = mean(comb.TP_Z);\n",
    "stdz = std(comb.TP_Z);\n",
    "comb.TP_Z = (comb.TP_Z .- meanz) ./ stdz;"
   ]
  },
  {
   "cell_type": "code",
   "execution_count": 16,
   "metadata": {},
   "outputs": [
    {
     "data": {
      "text/html": [
       "<table class=\"data-frame\"><thead><tr><th></th><th>STATION</th><th>LAT</th><th>LNG</th></tr><tr><th></th><th>String</th><th>Float64</th><th>Float64</th></tr></thead><tbody><p>5 rows × 3 columns</p><tr><th>1</th><td>McTavish</td><td>-0.399934</td><td>0.53979</td></tr><tr><th>2</th><td>Bellevue</td><td>-1.29892</td><td>-2.14237</td></tr><tr><th>3</th><td>Assomption</td><td>3.13364</td><td>1.64672</td></tr><tr><th>4</th><td>Trudeau</td><td>-0.828599</td><td>-0.705498</td></tr><tr><th>5</th><td>StHubert</td><td>-0.251981</td><td>1.78296</td></tr></tbody></table>"
      ],
      "text/latex": [
       "\\begin{tabular}{r|ccc}\n",
       "\t& STATION & LAT & LNG\\\\\n",
       "\t\\hline\n",
       "\t& String & Float64 & Float64\\\\\n",
       "\t\\hline\n",
       "\t1 & McTavish & -0.399934 & 0.53979 \\\\\n",
       "\t2 & Bellevue & -1.29892 & -2.14237 \\\\\n",
       "\t3 & Assomption & 3.13364 & 1.64672 \\\\\n",
       "\t4 & Trudeau & -0.828599 & -0.705498 \\\\\n",
       "\t5 & StHubert & -0.251981 & 1.78296 \\\\\n",
       "\\end{tabular}\n"
      ],
      "text/plain": [
       "5×3 DataFrame\n",
       "│ Row │ STATION    │ LAT       │ LNG       │\n",
       "│     │ \u001b[90mString\u001b[39m     │ \u001b[90mFloat64\u001b[39m   │ \u001b[90mFloat64\u001b[39m   │\n",
       "├─────┼────────────┼───────────┼───────────┤\n",
       "│ 1   │ McTavish   │ -0.399934 │ 0.53979   │\n",
       "│ 2   │ Bellevue   │ -1.29892  │ -2.14237  │\n",
       "│ 3   │ Assomption │ 3.13364   │ 1.64672   │\n",
       "│ 4   │ Trudeau    │ -0.828599 │ -0.705498 │\n",
       "│ 5   │ StHubert   │ -0.251981 │ 1.78296   │"
      ]
     },
     "execution_count": 16,
     "metadata": {},
     "output_type": "execute_result"
    }
   ],
   "source": [
    "station_df"
   ]
  },
  {
   "cell_type": "markdown",
   "metadata": {},
   "source": [
    "### Augment Features"
   ]
  },
  {
   "cell_type": "markdown",
   "metadata": {},
   "source": [
    "#### Add pcp_sum and pcp_max columns"
   ]
  },
  {
   "cell_type": "code",
   "execution_count": 17,
   "metadata": {},
   "outputs": [],
   "source": [
    "comb.PCP_SUM = zeros(size(comb, 1));\n",
    "comb.PCP_MAX = zeros(size(comb, 1));\n",
    "comb.PCP_MAX3 = zeros(size(comb, 1));\n",
    "permutecols!(comb, [:ID_OUVRAGE, :TP_LAT, :TP_LNG, :TP_Z, :DATE, :PCP_SUM, :PCP_MAX, :PCP_MAX3, :SURVERSE]);"
   ]
  },
  {
   "cell_type": "code",
   "execution_count": 18,
   "metadata": {},
   "outputs": [
    {
     "data": {
      "text/html": [
       "<table class=\"data-frame\"><thead><tr><th></th><th>ID_OUVRAGE</th><th>TP_LAT</th><th>TP_LNG</th><th>TP_Z</th><th>DATE</th><th>PCP_SUM</th><th>PCP_MAX</th><th>PCP_MAX3</th></tr><tr><th></th><th>String</th><th>Float64</th><th>Float64</th><th>Float64</th><th>Date</th><th>Float64</th><th>Float64</th><th>Float64</th></tr></thead><tbody><p>10 rows × 9 columns (omitted printing of 1 columns)</p><tr><th>1</th><td>4265-01D</td><td>1.00593</td><td>1.15342</td><td>-1.21178</td><td>2016-10-23</td><td>0.0</td><td>0.0</td><td>0.0</td></tr><tr><th>2</th><td>3350-09D</td><td>-0.0251308</td><td>-0.486079</td><td>0.625204</td><td>2018-08-09</td><td>0.0</td><td>0.0</td><td>0.0</td></tr><tr><th>3</th><td>4430-06D</td><td>-1.26241</td><td>-0.121484</td><td>0.617512</td><td>2017-10-28</td><td>0.0</td><td>0.0</td><td>0.0</td></tr><tr><th>4</th><td>4230-06D</td><td>1.65681</td><td>1.22251</td><td>-1.6441</td><td>2016-06-17</td><td>0.0</td><td>0.0</td><td>0.0</td></tr><tr><th>5</th><td>3480-05D</td><td>-0.471255</td><td>-1.0262</td><td>0.799056</td><td>2017-07-11</td><td>0.0</td><td>0.0</td><td>0.0</td></tr><tr><th>6</th><td>4270-02D</td><td>0.834128</td><td>1.08217</td><td>-0.0467296</td><td>2013-09-03</td><td>0.0</td><td>0.0</td><td>0.0</td></tr><tr><th>7</th><td>4330-01D</td><td>0.0527466</td><td>0.876211</td><td>-0.845611</td><td>2014-07-03</td><td>0.0</td><td>0.0</td><td>0.0</td></tr><tr><th>8</th><td>4400-02D</td><td>-1.0264</td><td>0.591287</td><td>-0.536371</td><td>2013-09-09</td><td>0.0</td><td>0.0</td><td>0.0</td></tr><tr><th>9</th><td>4380-01D</td><td>-0.828933</td><td>0.658409</td><td>-0.0467296</td><td>2016-05-21</td><td>0.0</td><td>0.0</td><td>0.0</td></tr><tr><th>10</th><td>3350-08D</td><td>0.0104279</td><td>-0.451902</td><td>0.768286</td><td>2018-05-23</td><td>0.0</td><td>0.0</td><td>0.0</td></tr></tbody></table>"
      ],
      "text/latex": [
       "\\begin{tabular}{r|ccccccccc}\n",
       "\t& ID\\_OUVRAGE & TP\\_LAT & TP\\_LNG & TP\\_Z & DATE & PCP\\_SUM & PCP\\_MAX & PCP\\_MAX3 & \\\\\n",
       "\t\\hline\n",
       "\t& String & Float64 & Float64 & Float64 & Date & Float64 & Float64 & Float64 & \\\\\n",
       "\t\\hline\n",
       "\t1 & 4265-01D & 1.00593 & 1.15342 & -1.21178 & 2016-10-23 & 0.0 & 0.0 & 0.0 & $\\dots$ \\\\\n",
       "\t2 & 3350-09D & -0.0251308 & -0.486079 & 0.625204 & 2018-08-09 & 0.0 & 0.0 & 0.0 & $\\dots$ \\\\\n",
       "\t3 & 4430-06D & -1.26241 & -0.121484 & 0.617512 & 2017-10-28 & 0.0 & 0.0 & 0.0 & $\\dots$ \\\\\n",
       "\t4 & 4230-06D & 1.65681 & 1.22251 & -1.6441 & 2016-06-17 & 0.0 & 0.0 & 0.0 & $\\dots$ \\\\\n",
       "\t5 & 3480-05D & -0.471255 & -1.0262 & 0.799056 & 2017-07-11 & 0.0 & 0.0 & 0.0 & $\\dots$ \\\\\n",
       "\t6 & 4270-02D & 0.834128 & 1.08217 & -0.0467296 & 2013-09-03 & 0.0 & 0.0 & 0.0 & $\\dots$ \\\\\n",
       "\t7 & 4330-01D & 0.0527466 & 0.876211 & -0.845611 & 2014-07-03 & 0.0 & 0.0 & 0.0 & $\\dots$ \\\\\n",
       "\t8 & 4400-02D & -1.0264 & 0.591287 & -0.536371 & 2013-09-09 & 0.0 & 0.0 & 0.0 & $\\dots$ \\\\\n",
       "\t9 & 4380-01D & -0.828933 & 0.658409 & -0.0467296 & 2016-05-21 & 0.0 & 0.0 & 0.0 & $\\dots$ \\\\\n",
       "\t10 & 3350-08D & 0.0104279 & -0.451902 & 0.768286 & 2018-05-23 & 0.0 & 0.0 & 0.0 & $\\dots$ \\\\\n",
       "\\end{tabular}\n"
      ],
      "text/plain": [
       "10×9 DataFrame. Omitted printing of 4 columns\n",
       "│ Row │ ID_OUVRAGE │ TP_LAT     │ TP_LNG    │ TP_Z       │ DATE       │\n",
       "│     │ \u001b[90mString\u001b[39m     │ \u001b[90mFloat64\u001b[39m    │ \u001b[90mFloat64\u001b[39m   │ \u001b[90mFloat64\u001b[39m    │ \u001b[90mDate\u001b[39m       │\n",
       "├─────┼────────────┼────────────┼───────────┼────────────┼────────────┤\n",
       "│ 1   │ 4265-01D   │ 1.00593    │ 1.15342   │ -1.21178   │ 2016-10-23 │\n",
       "│ 2   │ 3350-09D   │ -0.0251308 │ -0.486079 │ 0.625204   │ 2018-08-09 │\n",
       "│ 3   │ 4430-06D   │ -1.26241   │ -0.121484 │ 0.617512   │ 2017-10-28 │\n",
       "│ 4   │ 4230-06D   │ 1.65681    │ 1.22251   │ -1.6441    │ 2016-06-17 │\n",
       "│ 5   │ 3480-05D   │ -0.471255  │ -1.0262   │ 0.799056   │ 2017-07-11 │\n",
       "│ 6   │ 4270-02D   │ 0.834128   │ 1.08217   │ -0.0467296 │ 2013-09-03 │\n",
       "│ 7   │ 4330-01D   │ 0.0527466  │ 0.876211  │ -0.845611  │ 2014-07-03 │\n",
       "│ 8   │ 4400-02D   │ -1.0264    │ 0.591287  │ -0.536371  │ 2013-09-09 │\n",
       "│ 9   │ 4380-01D   │ -0.828933  │ 0.658409  │ -0.0467296 │ 2016-05-21 │\n",
       "│ 10  │ 3350-08D   │ 0.0104279  │ -0.451902 │ 0.768286   │ 2018-05-23 │"
      ]
     },
     "execution_count": 18,
     "metadata": {},
     "output_type": "execute_result"
    }
   ],
   "source": [
    "first(shuffleDf(comb), 10)"
   ]
  },
  {
   "cell_type": "markdown",
   "metadata": {},
   "source": [
    "#### Find closest station to each ouvrage and add pcp_sum and pcp_max to it"
   ]
  },
  {
   "cell_type": "code",
   "execution_count": 19,
   "metadata": {},
   "outputs": [],
   "source": [
    "for i=1:size(comb, 1)\n",
    "    id_ouvrage = comb[i, 1]; \n",
    "    closest_station = \"McTavish\"; # initial value\n",
    "    shortest_dist = -1;\n",
    "    \n",
    "    # Find closest station\n",
    "    for j=1:size(station_df, 1)\n",
    "        dist = findDistance(comb[i, :TP_LAT], comb[i, :TP_LNG], station_df[j, :LAT], station_df[j, :LNG]);\n",
    "        \n",
    "        if shortest_dist == -1 || dist < shortest_dist\n",
    "            shortest_dist = dist;\n",
    "            closest_station = station_df[j, :STATION];\n",
    "        end\n",
    "    end\n",
    "    \n",
    "    # Augment comb with a weighted p_sum, based on the distance to the station\n",
    "    p_sum = pcp_sum[∈([comb[i, :DATE]]).(pcp_sum.date), Symbol(closest_station)];\n",
    "#     comb[i, :PCP_SUM] = p_sum[1] * (1 - shortest_dist);\n",
    "    comb[i, :PCP_SUM] = p_sum[1]; \n",
    "    \n",
    "    # Augment comb with a weighted p_max, based on the distance to the station\n",
    "    p_max = pcp_max[∈([comb[i, :DATE]]).(pcp_max.date), Symbol(closest_station)]\n",
    "#     comb[i, :PCP_MAX] = p_max[1] * (1 - shortest_dist);\n",
    "    comb[i, :PCP_MAX] = p_max[1];\n",
    "    \n",
    "    # Augment comb with a weighted p_max3h, based on the distance to the station\n",
    "    p_max3 = pcp_max3h[∈([comb[i, :DATE]]).(pcp_max3h.date), Symbol(closest_station)]\n",
    "#     comb[i, :PCP_MAX3] = p_max3[1] * (1 - shortest_dist);\n",
    "    comb[i, :PCP_MAX3] = p_max3[1]; \n",
    "end"
   ]
  },
  {
   "cell_type": "markdown",
   "metadata": {},
   "source": [
    "#### Remove outlier in PCP_SUM and PCP_MAX AND PCP_MAX3 that cause compression"
   ]
  },
  {
   "cell_type": "code",
   "execution_count": 20,
   "metadata": {},
   "outputs": [
    {
     "name": "stderr",
     "output_type": "stream",
     "text": [
      "┌ Warning: `getindex(df::DataFrame, col_ind::ColumnIndex)` is deprecated, use `df[!, col_ind]` instead.\n",
      "│   caller = top-level scope at In[20]:1\n",
      "└ @ Core In[20]:1\n",
      "┌ Warning: implicit broadcasting in setindex! is deprecated; use `df[row_inds, col_ind] .= Ref(v)` broadcasting assignment to change the column in place\n",
      "│   caller = setindex!(::DataFrame, ::Int64, ::BitArray{1}, ::Symbol) at deprecated.jl:1490\n",
      "└ @ DataFrames /home/chaime/.julia/packages/DataFrames/yH0f6/src/deprecated.jl:1490\n",
      "┌ Warning: `getindex(df::DataFrame, col_ind::ColumnIndex)` is deprecated, use `df[!, col_ind]` instead.\n",
      "│   caller = top-level scope at In[20]:2\n",
      "└ @ Core In[20]:2\n",
      "┌ Warning: `getindex(df::DataFrame, col_ind::ColumnIndex)` is deprecated, use `df[!, col_ind]` instead.\n",
      "│   caller = top-level scope at In[20]:3\n",
      "└ @ Core In[20]:3\n"
     ]
    }
   ],
   "source": [
    "comb[comb[:PCP_SUM] .> 750, :PCP_SUM] = 750;\n",
    "comb[comb[:PCP_MAX] .> 500, :PCP_MAX] = 500;\n",
    "comb[comb[:PCP_MAX3] .> 750, :PCP_MAX3] = 750;"
   ]
  },
  {
   "cell_type": "code",
   "execution_count": 21,
   "metadata": {},
   "outputs": [
    {
     "data": {
      "text/html": [
       "<table class=\"data-frame\"><thead><tr><th></th><th>ID_OUVRAGE</th><th>TP_LAT</th><th>TP_LNG</th><th>TP_Z</th><th>DATE</th><th>PCP_SUM</th><th>PCP_MAX</th><th>PCP_MAX3</th></tr><tr><th></th><th>String</th><th>Float64</th><th>Float64</th><th>Float64</th><th>Date</th><th>Float64</th><th>Float64</th><th>Float64</th></tr></thead><tbody><p>10 rows × 9 columns (omitted printing of 1 columns)</p><tr><th>1</th><td>3390-01D</td><td>0.131398</td><td>-0.169766</td><td>0.342119</td><td>2014-06-25</td><td>0.0</td><td>0.0</td><td>0.0</td></tr><tr><th>2</th><td>4360-01D</td><td>-0.562793</td><td>0.757544</td><td>-0.693299</td><td>2015-08-11</td><td>537.0</td><td>117.0</td><td>272.0</td></tr><tr><th>3</th><td>4380-01D</td><td>-0.828933</td><td>0.658409</td><td>-0.0467296</td><td>2017-06-12</td><td>0.0</td><td>0.0</td><td>0.0</td></tr><tr><th>4</th><td>3350-09D</td><td>-0.0251308</td><td>-0.486079</td><td>0.625204</td><td>2017-07-31</td><td>366.0</td><td>366.0</td><td>366.0</td></tr><tr><th>5</th><td>4380-01D</td><td>-0.828933</td><td>0.658409</td><td>-0.0467296</td><td>2015-08-18</td><td>197.0</td><td>197.0</td><td>197.0</td></tr><tr><th>6</th><td>4290-01D</td><td>0.5267</td><td>1.08435</td><td>-1.19485</td><td>2017-10-15</td><td>114.0</td><td>48.0</td><td>56.0</td></tr><tr><th>7</th><td>3350-09D</td><td>-0.0251308</td><td>-0.486079</td><td>0.625204</td><td>2015-06-21</td><td>194.0</td><td>113.0</td><td>194.0</td></tr><tr><th>8</th><td>4310-01D</td><td>0.296979</td><td>0.96829</td><td>-0.880997</td><td>2013-06-11</td><td>358.0</td><td>50.0</td><td>135.0</td></tr><tr><th>9</th><td>4270-01D</td><td>0.826007</td><td>1.08002</td><td>-1.30563</td><td>2015-05-12</td><td>28.0</td><td>8.0</td><td>13.0</td></tr><tr><th>10</th><td>3380-01D</td><td>0.163171</td><td>-0.158884</td><td>0.395966</td><td>2018-07-25</td><td>387.0</td><td>257.0</td><td>307.0</td></tr></tbody></table>"
      ],
      "text/latex": [
       "\\begin{tabular}{r|ccccccccc}\n",
       "\t& ID\\_OUVRAGE & TP\\_LAT & TP\\_LNG & TP\\_Z & DATE & PCP\\_SUM & PCP\\_MAX & PCP\\_MAX3 & \\\\\n",
       "\t\\hline\n",
       "\t& String & Float64 & Float64 & Float64 & Date & Float64 & Float64 & Float64 & \\\\\n",
       "\t\\hline\n",
       "\t1 & 3390-01D & 0.131398 & -0.169766 & 0.342119 & 2014-06-25 & 0.0 & 0.0 & 0.0 & $\\dots$ \\\\\n",
       "\t2 & 4360-01D & -0.562793 & 0.757544 & -0.693299 & 2015-08-11 & 537.0 & 117.0 & 272.0 & $\\dots$ \\\\\n",
       "\t3 & 4380-01D & -0.828933 & 0.658409 & -0.0467296 & 2017-06-12 & 0.0 & 0.0 & 0.0 & $\\dots$ \\\\\n",
       "\t4 & 3350-09D & -0.0251308 & -0.486079 & 0.625204 & 2017-07-31 & 366.0 & 366.0 & 366.0 & $\\dots$ \\\\\n",
       "\t5 & 4380-01D & -0.828933 & 0.658409 & -0.0467296 & 2015-08-18 & 197.0 & 197.0 & 197.0 & $\\dots$ \\\\\n",
       "\t6 & 4290-01D & 0.5267 & 1.08435 & -1.19485 & 2017-10-15 & 114.0 & 48.0 & 56.0 & $\\dots$ \\\\\n",
       "\t7 & 3350-09D & -0.0251308 & -0.486079 & 0.625204 & 2015-06-21 & 194.0 & 113.0 & 194.0 & $\\dots$ \\\\\n",
       "\t8 & 4310-01D & 0.296979 & 0.96829 & -0.880997 & 2013-06-11 & 358.0 & 50.0 & 135.0 & $\\dots$ \\\\\n",
       "\t9 & 4270-01D & 0.826007 & 1.08002 & -1.30563 & 2015-05-12 & 28.0 & 8.0 & 13.0 & $\\dots$ \\\\\n",
       "\t10 & 3380-01D & 0.163171 & -0.158884 & 0.395966 & 2018-07-25 & 387.0 & 257.0 & 307.0 & $\\dots$ \\\\\n",
       "\\end{tabular}\n"
      ],
      "text/plain": [
       "10×9 DataFrame. Omitted printing of 4 columns\n",
       "│ Row │ ID_OUVRAGE │ TP_LAT     │ TP_LNG    │ TP_Z       │ DATE       │\n",
       "│     │ \u001b[90mString\u001b[39m     │ \u001b[90mFloat64\u001b[39m    │ \u001b[90mFloat64\u001b[39m   │ \u001b[90mFloat64\u001b[39m    │ \u001b[90mDate\u001b[39m       │\n",
       "├─────┼────────────┼────────────┼───────────┼────────────┼────────────┤\n",
       "│ 1   │ 3390-01D   │ 0.131398   │ -0.169766 │ 0.342119   │ 2014-06-25 │\n",
       "│ 2   │ 4360-01D   │ -0.562793  │ 0.757544  │ -0.693299  │ 2015-08-11 │\n",
       "│ 3   │ 4380-01D   │ -0.828933  │ 0.658409  │ -0.0467296 │ 2017-06-12 │\n",
       "│ 4   │ 3350-09D   │ -0.0251308 │ -0.486079 │ 0.625204   │ 2017-07-31 │\n",
       "│ 5   │ 4380-01D   │ -0.828933  │ 0.658409  │ -0.0467296 │ 2015-08-18 │\n",
       "│ 6   │ 4290-01D   │ 0.5267     │ 1.08435   │ -1.19485   │ 2017-10-15 │\n",
       "│ 7   │ 3350-09D   │ -0.0251308 │ -0.486079 │ 0.625204   │ 2015-06-21 │\n",
       "│ 8   │ 4310-01D   │ 0.296979   │ 0.96829   │ -0.880997  │ 2013-06-11 │\n",
       "│ 9   │ 4270-01D   │ 0.826007   │ 1.08002   │ -1.30563   │ 2015-05-12 │\n",
       "│ 10  │ 3380-01D   │ 0.163171   │ -0.158884 │ 0.395966   │ 2018-07-25 │"
      ]
     },
     "execution_count": 21,
     "metadata": {},
     "output_type": "execute_result"
    }
   ],
   "source": [
    "first(shuffleDf(filter(row -> row.SURVERSE == 1, comb)), 10)"
   ]
  },
  {
   "cell_type": "markdown",
   "metadata": {},
   "source": [
    "### Split dates into months and days"
   ]
  },
  {
   "cell_type": "code",
   "execution_count": 22,
   "metadata": {},
   "outputs": [
    {
     "data": {
      "text/html": [
       "<table class=\"data-frame\"><thead><tr><th></th><th>DATE</th><th>MONTH</th><th>DAY</th></tr><tr><th></th><th>Date</th><th>Int64</th><th>Int64</th></tr></thead><tbody><p>5 rows × 3 columns</p><tr><th>1</th><td>2015-08-24</td><td>8</td><td>24</td></tr><tr><th>2</th><td>2015-05-02</td><td>5</td><td>2</td></tr><tr><th>3</th><td>2018-08-17</td><td>8</td><td>17</td></tr><tr><th>4</th><td>2013-06-10</td><td>6</td><td>10</td></tr><tr><th>5</th><td>2018-10-30</td><td>10</td><td>30</td></tr></tbody></table>"
      ],
      "text/latex": [
       "\\begin{tabular}{r|ccc}\n",
       "\t& DATE & MONTH & DAY\\\\\n",
       "\t\\hline\n",
       "\t& Date & Int64 & Int64\\\\\n",
       "\t\\hline\n",
       "\t1 & 2015-08-24 & 8 & 24 \\\\\n",
       "\t2 & 2015-05-02 & 5 & 2 \\\\\n",
       "\t3 & 2018-08-17 & 8 & 17 \\\\\n",
       "\t4 & 2013-06-10 & 6 & 10 \\\\\n",
       "\t5 & 2018-10-30 & 10 & 30 \\\\\n",
       "\\end{tabular}\n"
      ],
      "text/plain": [
       "5×3 DataFrame\n",
       "│ Row │ DATE       │ MONTH │ DAY   │\n",
       "│     │ \u001b[90mDate\u001b[39m       │ \u001b[90mInt64\u001b[39m │ \u001b[90mInt64\u001b[39m │\n",
       "├─────┼────────────┼───────┼───────┤\n",
       "│ 1   │ 2015-08-24 │ 8     │ 24    │\n",
       "│ 2   │ 2015-05-02 │ 5     │ 2     │\n",
       "│ 3   │ 2018-08-17 │ 8     │ 17    │\n",
       "│ 4   │ 2013-06-10 │ 6     │ 10    │\n",
       "│ 5   │ 2018-10-30 │ 10    │ 30    │"
      ]
     },
     "execution_count": 22,
     "metadata": {},
     "output_type": "execute_result"
    }
   ],
   "source": [
    "comb.MONTH = month.(comb.DATE);\n",
    "comb.DAY = day.(comb.DATE);\n",
    "first(shuffleDf(comb[!, [:DATE, :MONTH, :DAY]]), 5)"
   ]
  },
  {
   "cell_type": "markdown",
   "metadata": {},
   "source": [
    "## Standardize the PCP and Date"
   ]
  },
  {
   "cell_type": "code",
   "execution_count": 23,
   "metadata": {},
   "outputs": [],
   "source": [
    "mean_pcpsum = mean(comb.PCP_SUM);\n",
    "std_pcpsum = std(comb.PCP_SUM);\n",
    "comb.PCP_SUM = (comb.PCP_SUM .- mean_pcpsum) ./ std_pcpsum;\n",
    "\n",
    "mean_pcpmax = mean(comb.PCP_MAX);\n",
    "std_pcpmax = std(comb.PCP_MAX);\n",
    "comb.PCP_MAX = (comb.PCP_MAX .- mean_pcpmax) ./ std_pcpmax;\n",
    "\n",
    "mean_pcpmax3 = mean(comb.PCP_MAX3);\n",
    "std_pcpmax3 = std(comb.PCP_MAX3);\n",
    "comb.PCP_MAX3 = (comb.PCP_MAX3 .- mean_pcpmax3) ./ std_pcpmax3;\n",
    "\n",
    "meanmonth = mean(comb.MONTH);\n",
    "stdmonth = std(comb.MONTH);\n",
    "comb.MONTH = (comb.MONTH .- meanmonth) ./ stdmonth;\n",
    "\n",
    "meanday = mean(comb.DAY);\n",
    "stdday = std(comb.DAY);\n",
    "comb.DAY = (comb.DAY .- meanday) ./ stdday;"
   ]
  },
  {
   "cell_type": "code",
   "execution_count": 24,
   "metadata": {},
   "outputs": [
    {
     "data": {
      "text/html": [
       "<table class=\"data-frame\"><thead><tr><th></th><th>ID_OUVRAGE</th><th>TP_LAT</th><th>TP_LNG</th><th>TP_Z</th><th>DATE</th><th>PCP_SUM</th><th>PCP_MAX</th></tr><tr><th></th><th>String</th><th>Float64</th><th>Float64</th><th>Float64</th><th>Date</th><th>Float64</th><th>Float64</th></tr></thead><tbody><p>10 rows × 11 columns (omitted printing of 4 columns)</p><tr><th>1</th><td>3350-07D</td><td>0.0802391</td><td>-0.325532</td><td>0.168267</td><td>2015-06-08</td><td>3.10458</td><td>1.35183</td></tr><tr><th>2</th><td>3400-01D</td><td>0.0493937</td><td>-0.198587</td><td>0.982139</td><td>2017-08-15</td><td>0.401367</td><td>1.22877</td></tr><tr><th>3</th><td>3750-01D</td><td>0.8052</td><td>0.0762605</td><td>-1.23947</td><td>2018-05-03</td><td>1.99069</td><td>1.01342</td></tr><tr><th>4</th><td>3350-02D</td><td>0.453235</td><td>-0.0681191</td><td>-0.0467296</td><td>2015-10-28</td><td>3.5936</td><td>1.84405</td></tr><tr><th>5</th><td>4380-01D</td><td>-0.828933</td><td>0.658409</td><td>-0.0467296</td><td>2018-07-06</td><td>0.0345996</td><td>0.582732</td></tr><tr><th>6</th><td>3270-01D</td><td>1.18312</td><td>0.417032</td><td>0.239038</td><td>2014-05-10</td><td>0.523623</td><td>0.582732</td></tr><tr><th>7</th><td>0672-03D</td><td>1.55381</td><td>0.838395</td><td>-1.48717</td><td>2016-08-17</td><td>-0.128408</td><td>0.213567</td></tr><tr><th>8</th><td>4330-01D</td><td>0.0527466</td><td>0.876211</td><td>-0.845611</td><td>2016-08-16</td><td>9.78789</td><td>6.36631</td></tr><tr><th>9</th><td>3350-11D</td><td>-0.074433</td><td>-0.435663</td><td>0.865212</td><td>2013-06-01</td><td>1.18924</td><td>2.67467</td></tr><tr><th>10</th><td>3400-01D</td><td>0.0493937</td><td>-0.198587</td><td>0.982139</td><td>2015-05-09</td><td>0.279111</td><td>0.336622</td></tr></tbody></table>"
      ],
      "text/latex": [
       "\\begin{tabular}{r|cccccccc}\n",
       "\t& ID\\_OUVRAGE & TP\\_LAT & TP\\_LNG & TP\\_Z & DATE & PCP\\_SUM & PCP\\_MAX & \\\\\n",
       "\t\\hline\n",
       "\t& String & Float64 & Float64 & Float64 & Date & Float64 & Float64 & \\\\\n",
       "\t\\hline\n",
       "\t1 & 3350-07D & 0.0802391 & -0.325532 & 0.168267 & 2015-06-08 & 3.10458 & 1.35183 & $\\dots$ \\\\\n",
       "\t2 & 3400-01D & 0.0493937 & -0.198587 & 0.982139 & 2017-08-15 & 0.401367 & 1.22877 & $\\dots$ \\\\\n",
       "\t3 & 3750-01D & 0.8052 & 0.0762605 & -1.23947 & 2018-05-03 & 1.99069 & 1.01342 & $\\dots$ \\\\\n",
       "\t4 & 3350-02D & 0.453235 & -0.0681191 & -0.0467296 & 2015-10-28 & 3.5936 & 1.84405 & $\\dots$ \\\\\n",
       "\t5 & 4380-01D & -0.828933 & 0.658409 & -0.0467296 & 2018-07-06 & 0.0345996 & 0.582732 & $\\dots$ \\\\\n",
       "\t6 & 3270-01D & 1.18312 & 0.417032 & 0.239038 & 2014-05-10 & 0.523623 & 0.582732 & $\\dots$ \\\\\n",
       "\t7 & 0672-03D & 1.55381 & 0.838395 & -1.48717 & 2016-08-17 & -0.128408 & 0.213567 & $\\dots$ \\\\\n",
       "\t8 & 4330-01D & 0.0527466 & 0.876211 & -0.845611 & 2016-08-16 & 9.78789 & 6.36631 & $\\dots$ \\\\\n",
       "\t9 & 3350-11D & -0.074433 & -0.435663 & 0.865212 & 2013-06-01 & 1.18924 & 2.67467 & $\\dots$ \\\\\n",
       "\t10 & 3400-01D & 0.0493937 & -0.198587 & 0.982139 & 2015-05-09 & 0.279111 & 0.336622 & $\\dots$ \\\\\n",
       "\\end{tabular}\n"
      ],
      "text/plain": [
       "10×11 DataFrame. Omitted printing of 6 columns\n",
       "│ Row │ ID_OUVRAGE │ TP_LAT    │ TP_LNG     │ TP_Z       │ DATE       │\n",
       "│     │ \u001b[90mString\u001b[39m     │ \u001b[90mFloat64\u001b[39m   │ \u001b[90mFloat64\u001b[39m    │ \u001b[90mFloat64\u001b[39m    │ \u001b[90mDate\u001b[39m       │\n",
       "├─────┼────────────┼───────────┼────────────┼────────────┼────────────┤\n",
       "│ 1   │ 3350-07D   │ 0.0802391 │ -0.325532  │ 0.168267   │ 2015-06-08 │\n",
       "│ 2   │ 3400-01D   │ 0.0493937 │ -0.198587  │ 0.982139   │ 2017-08-15 │\n",
       "│ 3   │ 3750-01D   │ 0.8052    │ 0.0762605  │ -1.23947   │ 2018-05-03 │\n",
       "│ 4   │ 3350-02D   │ 0.453235  │ -0.0681191 │ -0.0467296 │ 2015-10-28 │\n",
       "│ 5   │ 4380-01D   │ -0.828933 │ 0.658409   │ -0.0467296 │ 2018-07-06 │\n",
       "│ 6   │ 3270-01D   │ 1.18312   │ 0.417032   │ 0.239038   │ 2014-05-10 │\n",
       "│ 7   │ 0672-03D   │ 1.55381   │ 0.838395   │ -1.48717   │ 2016-08-17 │\n",
       "│ 8   │ 4330-01D   │ 0.0527466 │ 0.876211   │ -0.845611  │ 2016-08-16 │\n",
       "│ 9   │ 3350-11D   │ -0.074433 │ -0.435663  │ 0.865212   │ 2013-06-01 │\n",
       "│ 10  │ 3400-01D   │ 0.0493937 │ -0.198587  │ 0.982139   │ 2015-05-09 │"
      ]
     },
     "execution_count": 24,
     "metadata": {},
     "output_type": "execute_result"
    }
   ],
   "source": [
    "first(shuffleDf(filter(row -> row.SURVERSE == 1, comb)), 10)"
   ]
  },
  {
   "cell_type": "markdown",
   "metadata": {},
   "source": [
    "# Validate model"
   ]
  },
  {
   "cell_type": "markdown",
   "metadata": {},
   "source": [
    "### Split train and validation sets"
   ]
  },
  {
   "cell_type": "code",
   "execution_count": 114,
   "metadata": {},
   "outputs": [],
   "source": [
    "r_idx = shuffle(1:size(comb, 1));\n",
    "train_ceil = floor(Int, size(r_idx, 1) * 0.8);\n",
    "train_set = comb[r_idx[1:train_ceil], :];\n",
    "val_set = comb[r_idx[train_ceil+1:size(r_idx, 1)], :];"
   ]
  },
  {
   "cell_type": "markdown",
   "metadata": {},
   "source": [
    "### Train model on train set"
   ]
  },
  {
   "cell_type": "markdown",
   "metadata": {},
   "source": [
    "#### Random Forest Params"
   ]
  },
  {
   "cell_type": "code",
   "execution_count": 33,
   "metadata": {},
   "outputs": [],
   "source": [
    "names_glm = [:TP_LAT, :TP_LNG, :TP_Z, :MONTH, :DAY, :PCP_SUM, :PCP_MAX, :PCP_MAX3, :SURVERSE];"
   ]
  },
  {
   "cell_type": "markdown",
   "metadata": {},
   "source": [
    "#### Build the features and labels"
   ]
  },
  {
   "cell_type": "code",
   "execution_count": 39,
   "metadata": {},
   "outputs": [],
   "source": [
    "train_features = train_set[:, names_glm];"
   ]
  },
  {
   "cell_type": "code",
   "execution_count": 40,
   "metadata": {},
   "outputs": [
    {
     "data": {
      "text/html": [
       "<table class=\"data-frame\"><thead><tr><th></th><th>TP_LAT</th><th>TP_LNG</th><th>TP_Z</th><th>MONTH</th><th>DAY</th><th>PCP_SUM</th><th>PCP_MAX</th></tr><tr><th></th><th>Float64</th><th>Float64</th><th>Float64</th><th>Float64</th><th>Float64</th><th>Float64</th><th>Float64</th></tr></thead><tbody><p>10 rows × 9 columns (omitted printing of 2 columns)</p><tr><th>1</th><td>-0.238094</td><td>0.893818</td><td>-0.153282</td><td>-0.290832</td><td>0.243599</td><td>-0.264248</td><td>-0.0940701</td></tr><tr><th>2</th><td>0.688075</td><td>1.06834</td><td>-1.24962</td><td>0.878166</td><td>-1.11222</td><td>-0.400087</td><td>-0.401707</td></tr><tr><th>3</th><td>-1.18852</td><td>-0.458815</td><td>1.01137</td><td>-1.45983</td><td>1.59942</td><td>-0.0876561</td><td>0.121276</td></tr><tr><th>4</th><td>1.00593</td><td>1.15342</td><td>-1.21178</td><td>1.46267</td><td>-0.773265</td><td>-0.400087</td><td>-0.401707</td></tr><tr><th>5</th><td>-0.828933</td><td>0.658409</td><td>-0.0467296</td><td>1.46267</td><td>-0.773265</td><td>-0.291416</td><td>-0.217125</td></tr><tr><th>6</th><td>-0.471222</td><td>-1.08189</td><td>0.88829</td><td>-0.875331</td><td>-0.773265</td><td>0.645878</td><td>0.490441</td></tr><tr><th>7</th><td>0.163171</td><td>-0.158884</td><td>0.395966</td><td>-0.875331</td><td>0.243599</td><td>-0.400087</td><td>-0.401707</td></tr><tr><th>8</th><td>-0.778607</td><td>-1.74852</td><td>0.689822</td><td>-0.290832</td><td>1.03449</td><td>-0.400087</td><td>-0.401707</td></tr><tr><th>9</th><td>-0.787544</td><td>0.689553</td><td>-0.0467296</td><td>0.878166</td><td>0.0176291</td><td>0.768134</td><td>1.07495</td></tr><tr><th>10</th><td>0.0104279</td><td>-0.451902</td><td>0.768286</td><td>-0.875331</td><td>-1.2252</td><td>-0.196328</td><td>0.0597486</td></tr></tbody></table>"
      ],
      "text/latex": [
       "\\begin{tabular}{r|cccccccc}\n",
       "\t& TP\\_LAT & TP\\_LNG & TP\\_Z & MONTH & DAY & PCP\\_SUM & PCP\\_MAX & \\\\\n",
       "\t\\hline\n",
       "\t& Float64 & Float64 & Float64 & Float64 & Float64 & Float64 & Float64 & \\\\\n",
       "\t\\hline\n",
       "\t1 & -0.238094 & 0.893818 & -0.153282 & -0.290832 & 0.243599 & -0.264248 & -0.0940701 & $\\dots$ \\\\\n",
       "\t2 & 0.688075 & 1.06834 & -1.24962 & 0.878166 & -1.11222 & -0.400087 & -0.401707 & $\\dots$ \\\\\n",
       "\t3 & -1.18852 & -0.458815 & 1.01137 & -1.45983 & 1.59942 & -0.0876561 & 0.121276 & $\\dots$ \\\\\n",
       "\t4 & 1.00593 & 1.15342 & -1.21178 & 1.46267 & -0.773265 & -0.400087 & -0.401707 & $\\dots$ \\\\\n",
       "\t5 & -0.828933 & 0.658409 & -0.0467296 & 1.46267 & -0.773265 & -0.291416 & -0.217125 & $\\dots$ \\\\\n",
       "\t6 & -0.471222 & -1.08189 & 0.88829 & -0.875331 & -0.773265 & 0.645878 & 0.490441 & $\\dots$ \\\\\n",
       "\t7 & 0.163171 & -0.158884 & 0.395966 & -0.875331 & 0.243599 & -0.400087 & -0.401707 & $\\dots$ \\\\\n",
       "\t8 & -0.778607 & -1.74852 & 0.689822 & -0.290832 & 1.03449 & -0.400087 & -0.401707 & $\\dots$ \\\\\n",
       "\t9 & -0.787544 & 0.689553 & -0.0467296 & 0.878166 & 0.0176291 & 0.768134 & 1.07495 & $\\dots$ \\\\\n",
       "\t10 & 0.0104279 & -0.451902 & 0.768286 & -0.875331 & -1.2252 & -0.196328 & 0.0597486 & $\\dots$ \\\\\n",
       "\\end{tabular}\n"
      ],
      "text/plain": [
       "10×9 DataFrame. Omitted printing of 4 columns\n",
       "│ Row │ TP_LAT    │ TP_LNG    │ TP_Z       │ MONTH     │ DAY       │\n",
       "│     │ \u001b[90mFloat64\u001b[39m   │ \u001b[90mFloat64\u001b[39m   │ \u001b[90mFloat64\u001b[39m    │ \u001b[90mFloat64\u001b[39m   │ \u001b[90mFloat64\u001b[39m   │\n",
       "├─────┼───────────┼───────────┼────────────┼───────────┼───────────┤\n",
       "│ 1   │ -0.238094 │ 0.893818  │ -0.153282  │ -0.290832 │ 0.243599  │\n",
       "│ 2   │ 0.688075  │ 1.06834   │ -1.24962   │ 0.878166  │ -1.11222  │\n",
       "│ 3   │ -1.18852  │ -0.458815 │ 1.01137    │ -1.45983  │ 1.59942   │\n",
       "│ 4   │ 1.00593   │ 1.15342   │ -1.21178   │ 1.46267   │ -0.773265 │\n",
       "│ 5   │ -0.828933 │ 0.658409  │ -0.0467296 │ 1.46267   │ -0.773265 │\n",
       "│ 6   │ -0.471222 │ -1.08189  │ 0.88829    │ -0.875331 │ -0.773265 │\n",
       "│ 7   │ 0.163171  │ -0.158884 │ 0.395966   │ -0.875331 │ 0.243599  │\n",
       "│ 8   │ -0.778607 │ -1.74852  │ 0.689822   │ -0.290832 │ 1.03449   │\n",
       "│ 9   │ -0.787544 │ 0.689553  │ -0.0467296 │ 0.878166  │ 0.0176291 │\n",
       "│ 10  │ 0.0104279 │ -0.451902 │ 0.768286   │ -0.875331 │ -1.2252   │"
      ]
     },
     "execution_count": 40,
     "metadata": {},
     "output_type": "execute_result"
    }
   ],
   "source": [
    "first(shuffleDf(train_features), 10)"
   ]
  },
  {
   "cell_type": "markdown",
   "metadata": {},
   "source": [
    "#### Build the model N features to use is log_2(N + 1)"
   ]
  },
  {
   "cell_type": "code",
   "execution_count": 109,
   "metadata": {},
   "outputs": [
    {
     "data": {
      "text/plain": [
       "StatsModels.TableRegressionModel{GeneralizedLinearModel{GLM.GlmResp{Array{Float64,1},Bernoulli{Float64},LogitLink},GLM.DensePredChol{Float64,LinearAlgebra.Cholesky{Float64,Array{Float64,2}}}},Array{Float64,2}}\n",
       "\n",
       "SURVERSE ~ 1 + TP_LAT + TP_LNG + TP_Z + MONTH + DAY + PCP_SUM + PCP_MAX + PCP_MAX3\n",
       "\n",
       "Coefficients:\n",
       "───────────────────────────────────────────────────────────────────────────────────\n",
       "                Estimate  Std. Error      z value  Pr(>|z|)   Lower 95%   Upper 95%\n",
       "───────────────────────────────────────────────────────────────────────────────────\n",
       "(Intercept)  -3.82011      0.0206491  -185.001       <1e-99  -3.86058    -3.77963  \n",
       "TP_LAT       -0.118511     0.0208053    -5.69618     <1e-7   -0.159289   -0.0777331\n",
       "TP_LNG        0.594292     0.0270528    21.9678      <1e-99   0.541269    0.647314 \n",
       "TP_Z          0.100143     0.0218156     4.59046     <1e-5    0.0573858   0.142901 \n",
       "MONTH        -0.0649077    0.0169554    -3.82814     0.0001  -0.0981397  -0.0316757\n",
       "DAY           0.00360199   0.0170837     0.210844    0.8330  -0.0298814   0.0370854\n",
       "PCP_SUM       0.535092     0.022544     23.7354      <1e-99   0.490907    0.579278 \n",
       "PCP_MAX       0.0895349    0.0264188     3.38906     0.0007   0.037755    0.141315 \n",
       "PCP_MAX3      0.141831     0.0398784     3.5566      0.0004   0.0636711   0.219991 \n",
       "───────────────────────────────────────────────────────────────────────────────────"
      ]
     },
     "execution_count": 109,
     "metadata": {},
     "output_type": "execute_result"
    }
   ],
   "source": [
    "val_form = @formula(SURVERSE ~ TP_LAT + TP_LNG + TP_Z + MONTH + DAY + PCP_SUM + PCP_MAX + PCP_MAX3);\n",
    "val_model = glm(val_form, train_features, Bernoulli(), LogitLink())"
   ]
  },
  {
   "cell_type": "markdown",
   "metadata": {},
   "source": [
    "### Validate model on validation set"
   ]
  },
  {
   "cell_type": "markdown",
   "metadata": {},
   "source": [
    "#### Single validation"
   ]
  },
  {
   "cell_type": "code",
   "execution_count": 115,
   "metadata": {},
   "outputs": [],
   "source": [
    "val_features = val_set[:, names_ft];\n",
    "val_labels = val_set[!, :SURVERSE];\n",
    "val_pred = GLM.predict(val_model, val_features);"
   ]
  },
  {
   "cell_type": "markdown",
   "metadata": {},
   "source": [
    "#### Convert val_pred to int (Threshold 0.5)"
   ]
  },
  {
   "cell_type": "code",
   "execution_count": 111,
   "metadata": {},
   "outputs": [
    {
     "data": {
      "text/plain": [
       "31876-element Array{Int64,1}:\n",
       " 0\n",
       " 0\n",
       " 1\n",
       " 0\n",
       " 0\n",
       " 0\n",
       " 0\n",
       " 0\n",
       " 0\n",
       " 0\n",
       " 0\n",
       " 0\n",
       " 0\n",
       " ⋮\n",
       " 0\n",
       " 0\n",
       " 0\n",
       " 0\n",
       " 0\n",
       " 0\n",
       " 0\n",
       " 0\n",
       " 0\n",
       " 0\n",
       " 0\n",
       " 0"
      ]
     },
     "execution_count": 111,
     "metadata": {},
     "output_type": "execute_result"
    }
   ],
   "source": [
    "threshold = 0.15;\n",
    "val_pred[val_pred .>= threshold] .= 1.0;\n",
    "val_pred[val_pred .< threshold] .= 0.0;\n",
    "val_pred = convert(Array{Int}, trunc.(val_pred))"
   ]
  },
  {
   "cell_type": "markdown",
   "metadata": {},
   "source": [
    "#### F1 score single validation"
   ]
  },
  {
   "cell_type": "code",
   "execution_count": 112,
   "metadata": {},
   "outputs": [
    {
     "data": {
      "text/plain": [
       "0.3323288850624193"
      ]
     },
     "execution_count": 112,
     "metadata": {},
     "output_type": "execute_result"
    }
   ],
   "source": [
    "r = roc(val_labels, val_pred);\n",
    "f1score(r)"
   ]
  },
  {
   "cell_type": "markdown",
   "metadata": {},
   "source": [
    "#### Get best threshold for F1Score"
   ]
  },
  {
   "cell_type": "code",
   "execution_count": 190,
   "metadata": {},
   "outputs": [
    {
     "data": {
      "text/plain": [
       "0.35832385421615476"
      ]
     },
     "execution_count": 190,
     "metadata": {},
     "output_type": "execute_result"
    }
   ],
   "source": [
    "niter = 10;\n",
    "batch_score = 0;\n",
    "batch_threshold = 0;\n",
    "\n",
    "for i=1:niter\n",
    "    # Split train and val sets\n",
    "    r_idx = shuffle(1:size(comb, 1));\n",
    "    train_ceil = floor(Int, size(r_idx, 1) * 0.8);\n",
    "    train_set = comb[r_idx[1:train_ceil], :];\n",
    "    val_set = comb[r_idx[train_ceil+1:size(r_idx, 1)], :];\n",
    "    \n",
    "    # Build features and labels\n",
    "    train_features = train_set[:, names_glm];\n",
    "    \n",
    "    # Build model\n",
    "    val_model = glm(val_form, train_features, Bernoulli(), LogitLink())\n",
    "    \n",
    "    # Validate model\n",
    "    val_features = val_set[:, names_ft];\n",
    "    val_labels = val_set[!, :SURVERSE];\n",
    "    \n",
    "    # Get best threshold\n",
    "    start_threshold = 0.1;\n",
    "    max_threshold = 0.15;\n",
    "    step = 0.0002;\n",
    "    \n",
    "    best_threshold = start_threshold;\n",
    "    score = -1;\n",
    "    \n",
    "    # Get best threshold\n",
    "    for j=start_threshold:step:max_threshold\n",
    "        val_pred = GLM.predict(val_model, val_features);\n",
    "        val_pred[val_pred .>= j] .= 1.0;\n",
    "        val_pred[val_pred .< j] .= 0.0;\n",
    "        val_pred = convert(Array{Int}, trunc.(val_pred))\n",
    "        \n",
    "        r = roc(val_labels, val_pred);\n",
    "        new_score = f1score(r);\n",
    "        \n",
    "        if new_score > score\n",
    "            score = new_score\n",
    "            best_threshold = j\n",
    "        end\n",
    "    end\n",
    "    \n",
    "    batch_score += score;\n",
    "    batch_threshold += best_threshold;\n",
    "end\n",
    "\n",
    "batch_threshold = batch_threshold / niter;\n",
    "batch_score = batch_score / niter"
   ]
  },
  {
   "cell_type": "code",
   "execution_count": 191,
   "metadata": {},
   "outputs": [
    {
     "data": {
      "text/plain": [
       "0.10091999999999998"
      ]
     },
     "execution_count": 191,
     "metadata": {},
     "output_type": "execute_result"
    }
   ],
   "source": [
    "batch_threshold"
   ]
  },
  {
   "cell_type": "markdown",
   "metadata": {},
   "source": [
    "# Submission model creation"
   ]
  },
  {
   "cell_type": "markdown",
   "metadata": {},
   "source": [
    "### Separate features and labels"
   ]
  },
  {
   "cell_type": "code",
   "execution_count": 148,
   "metadata": {},
   "outputs": [],
   "source": [
    "full_train_features = comb[:, names_glm];"
   ]
  },
  {
   "cell_type": "code",
   "execution_count": 149,
   "metadata": {},
   "outputs": [],
   "source": [
    "full_train_labels = comb[:, :SURVERSE];"
   ]
  },
  {
   "cell_type": "markdown",
   "metadata": {},
   "source": [
    "### Build Model"
   ]
  },
  {
   "cell_type": "code",
   "execution_count": 155,
   "metadata": {},
   "outputs": [
    {
     "data": {
      "text/plain": [
       "StatsModels.TableRegressionModel{GeneralizedLinearModel{GLM.GlmResp{Array{Float64,1},Bernoulli{Float64},LogitLink},GLM.DensePredChol{Float64,LinearAlgebra.Cholesky{Float64,Array{Float64,2}}}},Array{Float64,2}}\n",
       "\n",
       "SURVERSE ~ 1 + TP_LAT + TP_LNG + TP_Z + MONTH + DAY + PCP_SUM + PCP_MAX + PCP_MAX3\n",
       "\n",
       "Coefficients:\n",
       "─────────────────────────────────────────────────────────────────────────────────\n",
       "               Estimate  Std. Error     z value  Pr(>|z|)   Lower 95%   Upper 95%\n",
       "─────────────────────────────────────────────────────────────────────────────────\n",
       "(Intercept)  -3.83333     0.0186123  -205.957      <1e-99  -3.86981    -3.79685  \n",
       "TP_LAT       -0.116567    0.0186532    -6.2492     <1e-9   -0.153127   -0.0800078\n",
       "TP_LNG        0.605958    0.0243601    24.875      <1e-99   0.558213    0.653703 \n",
       "TP_Z          0.104758    0.0195648     5.35443    <1e-7    0.0664121   0.143105 \n",
       "MONTH        -0.075803    0.0152066    -4.98487    <1e-6   -0.105607   -0.0459986\n",
       "DAY           0.0167508   0.015349      1.09133    0.2751  -0.0133326   0.0468343\n",
       "PCP_SUM       0.530479    0.0201223    26.3628     <1e-99   0.491041    0.569918 \n",
       "PCP_MAX       0.0862614   0.0236054     3.65431    0.0003   0.0399957   0.132527 \n",
       "PCP_MAX3      0.155564    0.035535      4.37776    <1e-4    0.0859166   0.225211 \n",
       "─────────────────────────────────────────────────────────────────────────────────"
      ]
     },
     "execution_count": 155,
     "metadata": {},
     "output_type": "execute_result"
    }
   ],
   "source": [
    "model = glm(val_form, full_train_features, Bernoulli(), LogitLink())"
   ]
  },
  {
   "cell_type": "markdown",
   "metadata": {},
   "source": [
    "# Prediction"
   ]
  },
  {
   "cell_type": "markdown",
   "metadata": {},
   "source": [
    "## Get the test data"
   ]
  },
  {
   "cell_type": "code",
   "execution_count": 156,
   "metadata": {},
   "outputs": [
    {
     "data": {
      "text/html": [
       "<table class=\"data-frame\"><thead><tr><th></th><th>ID_OUVRAGE</th><th>DATE</th></tr><tr><th></th><th>String</th><th>Date</th></tr></thead><tbody><p>10 rows × 2 columns</p><tr><th>1</th><td>3260-01D</td><td>2019-05-02</td></tr><tr><th>2</th><td>3260-01D</td><td>2019-05-09</td></tr><tr><th>3</th><td>3260-01D</td><td>2019-05-10</td></tr><tr><th>4</th><td>3260-01D</td><td>2019-05-15</td></tr><tr><th>5</th><td>3260-01D</td><td>2019-05-20</td></tr><tr><th>6</th><td>3260-01D</td><td>2019-05-23</td></tr><tr><th>7</th><td>3260-01D</td><td>2019-05-24</td></tr><tr><th>8</th><td>3260-01D</td><td>2019-05-26</td></tr><tr><th>9</th><td>3260-01D</td><td>2019-05-30</td></tr><tr><th>10</th><td>3350-07D</td><td>2019-05-01</td></tr></tbody></table>"
      ],
      "text/latex": [
       "\\begin{tabular}{r|cc}\n",
       "\t& ID\\_OUVRAGE & DATE\\\\\n",
       "\t\\hline\n",
       "\t& String & Date\\\\\n",
       "\t\\hline\n",
       "\t1 & 3260-01D & 2019-05-02 \\\\\n",
       "\t2 & 3260-01D & 2019-05-09 \\\\\n",
       "\t3 & 3260-01D & 2019-05-10 \\\\\n",
       "\t4 & 3260-01D & 2019-05-15 \\\\\n",
       "\t5 & 3260-01D & 2019-05-20 \\\\\n",
       "\t6 & 3260-01D & 2019-05-23 \\\\\n",
       "\t7 & 3260-01D & 2019-05-24 \\\\\n",
       "\t8 & 3260-01D & 2019-05-26 \\\\\n",
       "\t9 & 3260-01D & 2019-05-30 \\\\\n",
       "\t10 & 3350-07D & 2019-05-01 \\\\\n",
       "\\end{tabular}\n"
      ],
      "text/plain": [
       "10×2 DataFrame\n",
       "│ Row │ ID_OUVRAGE │ DATE       │\n",
       "│     │ \u001b[90mString\u001b[39m     │ \u001b[90mDate\u001b[39m       │\n",
       "├─────┼────────────┼────────────┤\n",
       "│ 1   │ 3260-01D   │ 2019-05-02 │\n",
       "│ 2   │ 3260-01D   │ 2019-05-09 │\n",
       "│ 3   │ 3260-01D   │ 2019-05-10 │\n",
       "│ 4   │ 3260-01D   │ 2019-05-15 │\n",
       "│ 5   │ 3260-01D   │ 2019-05-20 │\n",
       "│ 6   │ 3260-01D   │ 2019-05-23 │\n",
       "│ 7   │ 3260-01D   │ 2019-05-24 │\n",
       "│ 8   │ 3260-01D   │ 2019-05-26 │\n",
       "│ 9   │ 3260-01D   │ 2019-05-30 │\n",
       "│ 10  │ 3350-07D   │ 2019-05-01 │"
      ]
     },
     "execution_count": 156,
     "metadata": {},
     "output_type": "execute_result"
    }
   ],
   "source": [
    "test = CSV.read(\"data/test.csv\");\n",
    "rename!(test, :NO_OUVRAGE => :ID_OUVRAGE);\n",
    "first(test, 10)"
   ]
  },
  {
   "cell_type": "code",
   "execution_count": 177,
   "metadata": {},
   "outputs": [
    {
     "data": {
      "text/plain": [
       "283"
      ]
     },
     "execution_count": 177,
     "metadata": {},
     "output_type": "execute_result"
    }
   ],
   "source": [
    "to_merge = unique(comb[!, [:ID_OUVRAGE, :TP_LAT, :TP_LNG, :TP_Z]], :ID_OUVRAGE);\n",
    "test_comb = join(test, to_merge, on= [:ID_OUVRAGE]);\n",
    "nrow(test_comb)"
   ]
  },
  {
   "cell_type": "code",
   "execution_count": 178,
   "metadata": {},
   "outputs": [
    {
     "data": {
      "text/html": [
       "<table class=\"data-frame\"><thead><tr><th></th><th>ID_OUVRAGE</th><th>DATE</th><th>TP_LAT</th><th>TP_LNG</th><th>TP_Z</th></tr><tr><th></th><th>String</th><th>Date</th><th>Float64</th><th>Float64</th><th>Float64</th></tr></thead><tbody><p>10 rows × 5 columns</p><tr><th>1</th><td>4350-01D</td><td>2019-05-12</td><td>-0.465715</td><td>0.725081</td><td>-0.0467296</td></tr><tr><th>2</th><td>4380-01D</td><td>2019-08-02</td><td>-0.828933</td><td>0.658409</td><td>-0.0467296</td></tr><tr><th>3</th><td>3350-07D</td><td>2019-07-03</td><td>0.0802391</td><td>-0.325532</td><td>0.168267</td></tr><tr><th>4</th><td>4350-01D</td><td>2019-08-04</td><td>-0.465715</td><td>0.725081</td><td>-0.0467296</td></tr><tr><th>5</th><td>3350-07D</td><td>2019-06-15</td><td>0.0802391</td><td>-0.325532</td><td>0.168267</td></tr><tr><th>6</th><td>3350-07D</td><td>2019-09-30</td><td>0.0802391</td><td>-0.325532</td><td>0.168267</td></tr><tr><th>7</th><td>4380-01D</td><td>2019-09-02</td><td>-0.828933</td><td>0.658409</td><td>-0.0467296</td></tr><tr><th>8</th><td>3350-07D</td><td>2019-06-16</td><td>0.0802391</td><td>-0.325532</td><td>0.168267</td></tr><tr><th>9</th><td>3350-07D</td><td>2019-06-17</td><td>0.0802391</td><td>-0.325532</td><td>0.168267</td></tr><tr><th>10</th><td>4380-01D</td><td>2019-07-01</td><td>-0.828933</td><td>0.658409</td><td>-0.0467296</td></tr></tbody></table>"
      ],
      "text/latex": [
       "\\begin{tabular}{r|ccccc}\n",
       "\t& ID\\_OUVRAGE & DATE & TP\\_LAT & TP\\_LNG & TP\\_Z\\\\\n",
       "\t\\hline\n",
       "\t& String & Date & Float64 & Float64 & Float64\\\\\n",
       "\t\\hline\n",
       "\t1 & 4350-01D & 2019-05-12 & -0.465715 & 0.725081 & -0.0467296 \\\\\n",
       "\t2 & 4380-01D & 2019-08-02 & -0.828933 & 0.658409 & -0.0467296 \\\\\n",
       "\t3 & 3350-07D & 2019-07-03 & 0.0802391 & -0.325532 & 0.168267 \\\\\n",
       "\t4 & 4350-01D & 2019-08-04 & -0.465715 & 0.725081 & -0.0467296 \\\\\n",
       "\t5 & 3350-07D & 2019-06-15 & 0.0802391 & -0.325532 & 0.168267 \\\\\n",
       "\t6 & 3350-07D & 2019-09-30 & 0.0802391 & -0.325532 & 0.168267 \\\\\n",
       "\t7 & 4380-01D & 2019-09-02 & -0.828933 & 0.658409 & -0.0467296 \\\\\n",
       "\t8 & 3350-07D & 2019-06-16 & 0.0802391 & -0.325532 & 0.168267 \\\\\n",
       "\t9 & 3350-07D & 2019-06-17 & 0.0802391 & -0.325532 & 0.168267 \\\\\n",
       "\t10 & 4380-01D & 2019-07-01 & -0.828933 & 0.658409 & -0.0467296 \\\\\n",
       "\\end{tabular}\n"
      ],
      "text/plain": [
       "10×5 DataFrame\n",
       "│ Row │ ID_OUVRAGE │ DATE       │ TP_LAT    │ TP_LNG    │ TP_Z       │\n",
       "│     │ \u001b[90mString\u001b[39m     │ \u001b[90mDate\u001b[39m       │ \u001b[90mFloat64\u001b[39m   │ \u001b[90mFloat64\u001b[39m   │ \u001b[90mFloat64\u001b[39m    │\n",
       "├─────┼────────────┼────────────┼───────────┼───────────┼────────────┤\n",
       "│ 1   │ 4350-01D   │ 2019-05-12 │ -0.465715 │ 0.725081  │ -0.0467296 │\n",
       "│ 2   │ 4380-01D   │ 2019-08-02 │ -0.828933 │ 0.658409  │ -0.0467296 │\n",
       "│ 3   │ 3350-07D   │ 2019-07-03 │ 0.0802391 │ -0.325532 │ 0.168267   │\n",
       "│ 4   │ 4350-01D   │ 2019-08-04 │ -0.465715 │ 0.725081  │ -0.0467296 │\n",
       "│ 5   │ 3350-07D   │ 2019-06-15 │ 0.0802391 │ -0.325532 │ 0.168267   │\n",
       "│ 6   │ 3350-07D   │ 2019-09-30 │ 0.0802391 │ -0.325532 │ 0.168267   │\n",
       "│ 7   │ 4380-01D   │ 2019-09-02 │ -0.828933 │ 0.658409  │ -0.0467296 │\n",
       "│ 8   │ 3350-07D   │ 2019-06-16 │ 0.0802391 │ -0.325532 │ 0.168267   │\n",
       "│ 9   │ 3350-07D   │ 2019-06-17 │ 0.0802391 │ -0.325532 │ 0.168267   │\n",
       "│ 10  │ 4380-01D   │ 2019-07-01 │ -0.828933 │ 0.658409  │ -0.0467296 │"
      ]
     },
     "execution_count": 178,
     "metadata": {},
     "output_type": "execute_result"
    }
   ],
   "source": [
    "first(shuffleDf(test_comb), 10)"
   ]
  },
  {
   "cell_type": "markdown",
   "metadata": {},
   "source": [
    "### Add PCP_SUM and PCP_MAX"
   ]
  },
  {
   "cell_type": "markdown",
   "metadata": {},
   "source": [
    "#### Initialize default pcp"
   ]
  },
  {
   "cell_type": "code",
   "execution_count": 179,
   "metadata": {},
   "outputs": [],
   "source": [
    "test_comb.PCP_SUM = zeros(size(test_comb, 1));\n",
    "test_comb.PCP_MAX = zeros(size(test_comb, 1));\n",
    "test_comb.PCP_MAX3 = zeros(size(test_comb, 1));\n",
    "permutecols!(test_comb, [:ID_OUVRAGE, :TP_LAT, :TP_LNG, :TP_Z, :DATE, :PCP_SUM, :PCP_MAX, :PCP_MAX3]);"
   ]
  },
  {
   "cell_type": "code",
   "execution_count": 180,
   "metadata": {},
   "outputs": [
    {
     "data": {
      "text/html": [
       "<table class=\"data-frame\"><thead><tr><th></th><th>ID_OUVRAGE</th><th>TP_LAT</th><th>TP_LNG</th><th>TP_Z</th><th>DATE</th><th>PCP_SUM</th><th>PCP_MAX</th><th>PCP_MAX3</th></tr><tr><th></th><th>String</th><th>Float64</th><th>Float64</th><th>Float64</th><th>Date</th><th>Float64</th><th>Float64</th><th>Float64</th></tr></thead><tbody><p>10 rows × 8 columns</p><tr><th>1</th><td>3350-07D</td><td>0.0802391</td><td>-0.325532</td><td>0.168267</td><td>2019-09-30</td><td>0.0</td><td>0.0</td><td>0.0</td></tr><tr><th>2</th><td>3350-07D</td><td>0.0802391</td><td>-0.325532</td><td>0.168267</td><td>2019-09-24</td><td>0.0</td><td>0.0</td><td>0.0</td></tr><tr><th>3</th><td>4350-01D</td><td>-0.465715</td><td>0.725081</td><td>-0.0467296</td><td>2019-05-22</td><td>0.0</td><td>0.0</td><td>0.0</td></tr><tr><th>4</th><td>3260-01D</td><td>1.29293</td><td>0.531312</td><td>0.0790333</td><td>2019-07-14</td><td>0.0</td><td>0.0</td><td>0.0</td></tr><tr><th>5</th><td>4380-01D</td><td>-0.828933</td><td>0.658409</td><td>-0.0467296</td><td>2019-05-18</td><td>0.0</td><td>0.0</td><td>0.0</td></tr><tr><th>6</th><td>4350-01D</td><td>-0.465715</td><td>0.725081</td><td>-0.0467296</td><td>2019-06-14</td><td>0.0</td><td>0.0</td><td>0.0</td></tr><tr><th>7</th><td>4350-01D</td><td>-0.465715</td><td>0.725081</td><td>-0.0467296</td><td>2019-08-04</td><td>0.0</td><td>0.0</td><td>0.0</td></tr><tr><th>8</th><td>4350-01D</td><td>-0.465715</td><td>0.725081</td><td>-0.0467296</td><td>2019-09-18</td><td>0.0</td><td>0.0</td><td>0.0</td></tr><tr><th>9</th><td>3350-07D</td><td>0.0802391</td><td>-0.325532</td><td>0.168267</td><td>2019-06-16</td><td>0.0</td><td>0.0</td><td>0.0</td></tr><tr><th>10</th><td>3260-01D</td><td>1.29293</td><td>0.531312</td><td>0.0790333</td><td>2019-09-14</td><td>0.0</td><td>0.0</td><td>0.0</td></tr></tbody></table>"
      ],
      "text/latex": [
       "\\begin{tabular}{r|cccccccc}\n",
       "\t& ID\\_OUVRAGE & TP\\_LAT & TP\\_LNG & TP\\_Z & DATE & PCP\\_SUM & PCP\\_MAX & PCP\\_MAX3\\\\\n",
       "\t\\hline\n",
       "\t& String & Float64 & Float64 & Float64 & Date & Float64 & Float64 & Float64\\\\\n",
       "\t\\hline\n",
       "\t1 & 3350-07D & 0.0802391 & -0.325532 & 0.168267 & 2019-09-30 & 0.0 & 0.0 & 0.0 \\\\\n",
       "\t2 & 3350-07D & 0.0802391 & -0.325532 & 0.168267 & 2019-09-24 & 0.0 & 0.0 & 0.0 \\\\\n",
       "\t3 & 4350-01D & -0.465715 & 0.725081 & -0.0467296 & 2019-05-22 & 0.0 & 0.0 & 0.0 \\\\\n",
       "\t4 & 3260-01D & 1.29293 & 0.531312 & 0.0790333 & 2019-07-14 & 0.0 & 0.0 & 0.0 \\\\\n",
       "\t5 & 4380-01D & -0.828933 & 0.658409 & -0.0467296 & 2019-05-18 & 0.0 & 0.0 & 0.0 \\\\\n",
       "\t6 & 4350-01D & -0.465715 & 0.725081 & -0.0467296 & 2019-06-14 & 0.0 & 0.0 & 0.0 \\\\\n",
       "\t7 & 4350-01D & -0.465715 & 0.725081 & -0.0467296 & 2019-08-04 & 0.0 & 0.0 & 0.0 \\\\\n",
       "\t8 & 4350-01D & -0.465715 & 0.725081 & -0.0467296 & 2019-09-18 & 0.0 & 0.0 & 0.0 \\\\\n",
       "\t9 & 3350-07D & 0.0802391 & -0.325532 & 0.168267 & 2019-06-16 & 0.0 & 0.0 & 0.0 \\\\\n",
       "\t10 & 3260-01D & 1.29293 & 0.531312 & 0.0790333 & 2019-09-14 & 0.0 & 0.0 & 0.0 \\\\\n",
       "\\end{tabular}\n"
      ],
      "text/plain": [
       "10×8 DataFrame. Omitted printing of 2 columns\n",
       "│ Row │ ID_OUVRAGE │ TP_LAT    │ TP_LNG    │ TP_Z       │ DATE       │ PCP_SUM │\n",
       "│     │ \u001b[90mString\u001b[39m     │ \u001b[90mFloat64\u001b[39m   │ \u001b[90mFloat64\u001b[39m   │ \u001b[90mFloat64\u001b[39m    │ \u001b[90mDate\u001b[39m       │ \u001b[90mFloat64\u001b[39m │\n",
       "├─────┼────────────┼───────────┼───────────┼────────────┼────────────┼─────────┤\n",
       "│ 1   │ 3350-07D   │ 0.0802391 │ -0.325532 │ 0.168267   │ 2019-09-30 │ 0.0     │\n",
       "│ 2   │ 3350-07D   │ 0.0802391 │ -0.325532 │ 0.168267   │ 2019-09-24 │ 0.0     │\n",
       "│ 3   │ 4350-01D   │ -0.465715 │ 0.725081  │ -0.0467296 │ 2019-05-22 │ 0.0     │\n",
       "│ 4   │ 3260-01D   │ 1.29293   │ 0.531312  │ 0.0790333  │ 2019-07-14 │ 0.0     │\n",
       "│ 5   │ 4380-01D   │ -0.828933 │ 0.658409  │ -0.0467296 │ 2019-05-18 │ 0.0     │\n",
       "│ 6   │ 4350-01D   │ -0.465715 │ 0.725081  │ -0.0467296 │ 2019-06-14 │ 0.0     │\n",
       "│ 7   │ 4350-01D   │ -0.465715 │ 0.725081  │ -0.0467296 │ 2019-08-04 │ 0.0     │\n",
       "│ 8   │ 4350-01D   │ -0.465715 │ 0.725081  │ -0.0467296 │ 2019-09-18 │ 0.0     │\n",
       "│ 9   │ 3350-07D   │ 0.0802391 │ -0.325532 │ 0.168267   │ 2019-06-16 │ 0.0     │\n",
       "│ 10  │ 3260-01D   │ 1.29293   │ 0.531312  │ 0.0790333  │ 2019-09-14 │ 0.0     │"
      ]
     },
     "execution_count": 180,
     "metadata": {},
     "output_type": "execute_result"
    }
   ],
   "source": [
    "first(shuffleDf(test_comb), 10)"
   ]
  },
  {
   "cell_type": "markdown",
   "metadata": {},
   "source": [
    "#### Populate pcp"
   ]
  },
  {
   "cell_type": "code",
   "execution_count": 181,
   "metadata": {},
   "outputs": [],
   "source": [
    "for i=1:size(test_comb, 1)\n",
    "    id_ouvrage = test_comb[i, 1]; \n",
    "    closest_station = \"McTavish\"; # initial value\n",
    "    shortest_dist = -1;\n",
    "    \n",
    "    # Find closest station\n",
    "    for j=1:size(station_df, 1)\n",
    "        dist = findDistance(test_comb[i, :TP_LAT], test_comb[i, :TP_LNG], station_df[j, :LAT], station_df[j, :LNG]);\n",
    "        \n",
    "        if shortest_dist == -1 || dist < shortest_dist\n",
    "            shortest_dist = dist;\n",
    "            closest_station = station_df[j, :STATION];\n",
    "        end\n",
    "    end\n",
    "    \n",
    "    # Augment comb with a weighted p_sum, based on the distance to the station\n",
    "    p_sum = pcp_sum[∈([test_comb[i, :DATE]]).(pcp_sum.date), Symbol(closest_station)];\n",
    "#     test_comb[i, :PCP_SUM] = p_sum[1] * (1 - shortest_dist); \n",
    "    test_comb[i, :PCP_SUM] = p_sum[1]; \n",
    "    # Augment comb with a weighted p_max, based on the distance to the station\n",
    "    p_max = pcp_max[∈([test_comb[i, :DATE]]).(pcp_max.date), Symbol(closest_station)]\n",
    "#     test_comb[i, :PCP_MAX] = p_max[1] * (1 - shortest_dist);\n",
    "    test_comb[i, :PCP_MAX] = p_max[1];\n",
    "    # Augment comb with a weighted p_max3, based on the distance to the station\n",
    "    p_max3 = pcp_max3h[∈([test_comb[i, :DATE]]).(pcp_max3h.date), Symbol(closest_station)]\n",
    "#     test_comb[i, :PCP_MAX3] = p_max3[1] * (1 - shortest_dist);\n",
    "    test_comb[i, :PCP_MAX3] = p_max3[1];\n",
    "end"
   ]
  },
  {
   "cell_type": "code",
   "execution_count": 182,
   "metadata": {},
   "outputs": [
    {
     "data": {
      "text/html": [
       "<table class=\"data-frame\"><thead><tr><th></th><th>ID_OUVRAGE</th><th>TP_LAT</th><th>TP_LNG</th><th>TP_Z</th><th>DATE</th><th>PCP_SUM</th><th>PCP_MAX</th><th>PCP_MAX3</th></tr><tr><th></th><th>String</th><th>Float64</th><th>Float64</th><th>Float64</th><th>Date</th><th>Float64</th><th>Float64</th><th>Float64</th></tr></thead><tbody><p>10 rows × 8 columns</p><tr><th>1</th><td>4350-01D</td><td>-0.465715</td><td>0.725081</td><td>-0.0467296</td><td>2019-08-21</td><td>37.0</td><td>18.0</td><td>37.0</td></tr><tr><th>2</th><td>4350-01D</td><td>-0.465715</td><td>0.725081</td><td>-0.0467296</td><td>2019-08-23</td><td>0.0</td><td>0.0</td><td>0.0</td></tr><tr><th>3</th><td>4350-01D</td><td>-0.465715</td><td>0.725081</td><td>-0.0467296</td><td>2019-09-08</td><td>12.0</td><td>10.0</td><td>12.0</td></tr><tr><th>4</th><td>4240-01D</td><td>1.28137</td><td>1.24035</td><td>-1.19178</td><td>2019-08-28</td><td>134.0</td><td>30.0</td><td>73.0</td></tr><tr><th>5</th><td>4240-01D</td><td>1.28137</td><td>1.24035</td><td>-1.19178</td><td>2019-05-25</td><td>6.0</td><td>2.0</td><td>4.0</td></tr><tr><th>6</th><td>3350-07D</td><td>0.0802391</td><td>-0.325532</td><td>0.168267</td><td>2019-05-19</td><td>57.0</td><td>27.0</td><td>46.0</td></tr><tr><th>7</th><td>4350-01D</td><td>-0.465715</td><td>0.725081</td><td>-0.0467296</td><td>2019-05-11</td><td>2.0</td><td>2.0</td><td>2.0</td></tr><tr><th>8</th><td>3350-07D</td><td>0.0802391</td><td>-0.325532</td><td>0.168267</td><td>2019-07-08</td><td>0.0</td><td>0.0</td><td>0.0</td></tr><tr><th>9</th><td>4240-01D</td><td>1.28137</td><td>1.24035</td><td>-1.19178</td><td>2019-06-20</td><td>391.0</td><td>167.0</td><td>348.0</td></tr><tr><th>10</th><td>4240-01D</td><td>1.28137</td><td>1.24035</td><td>-1.19178</td><td>2019-06-01</td><td>0.0</td><td>0.0</td><td>0.0</td></tr></tbody></table>"
      ],
      "text/latex": [
       "\\begin{tabular}{r|cccccccc}\n",
       "\t& ID\\_OUVRAGE & TP\\_LAT & TP\\_LNG & TP\\_Z & DATE & PCP\\_SUM & PCP\\_MAX & PCP\\_MAX3\\\\\n",
       "\t\\hline\n",
       "\t& String & Float64 & Float64 & Float64 & Date & Float64 & Float64 & Float64\\\\\n",
       "\t\\hline\n",
       "\t1 & 4350-01D & -0.465715 & 0.725081 & -0.0467296 & 2019-08-21 & 37.0 & 18.0 & 37.0 \\\\\n",
       "\t2 & 4350-01D & -0.465715 & 0.725081 & -0.0467296 & 2019-08-23 & 0.0 & 0.0 & 0.0 \\\\\n",
       "\t3 & 4350-01D & -0.465715 & 0.725081 & -0.0467296 & 2019-09-08 & 12.0 & 10.0 & 12.0 \\\\\n",
       "\t4 & 4240-01D & 1.28137 & 1.24035 & -1.19178 & 2019-08-28 & 134.0 & 30.0 & 73.0 \\\\\n",
       "\t5 & 4240-01D & 1.28137 & 1.24035 & -1.19178 & 2019-05-25 & 6.0 & 2.0 & 4.0 \\\\\n",
       "\t6 & 3350-07D & 0.0802391 & -0.325532 & 0.168267 & 2019-05-19 & 57.0 & 27.0 & 46.0 \\\\\n",
       "\t7 & 4350-01D & -0.465715 & 0.725081 & -0.0467296 & 2019-05-11 & 2.0 & 2.0 & 2.0 \\\\\n",
       "\t8 & 3350-07D & 0.0802391 & -0.325532 & 0.168267 & 2019-07-08 & 0.0 & 0.0 & 0.0 \\\\\n",
       "\t9 & 4240-01D & 1.28137 & 1.24035 & -1.19178 & 2019-06-20 & 391.0 & 167.0 & 348.0 \\\\\n",
       "\t10 & 4240-01D & 1.28137 & 1.24035 & -1.19178 & 2019-06-01 & 0.0 & 0.0 & 0.0 \\\\\n",
       "\\end{tabular}\n"
      ],
      "text/plain": [
       "10×8 DataFrame. Omitted printing of 2 columns\n",
       "│ Row │ ID_OUVRAGE │ TP_LAT    │ TP_LNG    │ TP_Z       │ DATE       │ PCP_SUM │\n",
       "│     │ \u001b[90mString\u001b[39m     │ \u001b[90mFloat64\u001b[39m   │ \u001b[90mFloat64\u001b[39m   │ \u001b[90mFloat64\u001b[39m    │ \u001b[90mDate\u001b[39m       │ \u001b[90mFloat64\u001b[39m │\n",
       "├─────┼────────────┼───────────┼───────────┼────────────┼────────────┼─────────┤\n",
       "│ 1   │ 4350-01D   │ -0.465715 │ 0.725081  │ -0.0467296 │ 2019-08-21 │ 37.0    │\n",
       "│ 2   │ 4350-01D   │ -0.465715 │ 0.725081  │ -0.0467296 │ 2019-08-23 │ 0.0     │\n",
       "│ 3   │ 4350-01D   │ -0.465715 │ 0.725081  │ -0.0467296 │ 2019-09-08 │ 12.0    │\n",
       "│ 4   │ 4240-01D   │ 1.28137   │ 1.24035   │ -1.19178   │ 2019-08-28 │ 134.0   │\n",
       "│ 5   │ 4240-01D   │ 1.28137   │ 1.24035   │ -1.19178   │ 2019-05-25 │ 6.0     │\n",
       "│ 6   │ 3350-07D   │ 0.0802391 │ -0.325532 │ 0.168267   │ 2019-05-19 │ 57.0    │\n",
       "│ 7   │ 4350-01D   │ -0.465715 │ 0.725081  │ -0.0467296 │ 2019-05-11 │ 2.0     │\n",
       "│ 8   │ 3350-07D   │ 0.0802391 │ -0.325532 │ 0.168267   │ 2019-07-08 │ 0.0     │\n",
       "│ 9   │ 4240-01D   │ 1.28137   │ 1.24035   │ -1.19178   │ 2019-06-20 │ 391.0   │\n",
       "│ 10  │ 4240-01D   │ 1.28137   │ 1.24035   │ -1.19178   │ 2019-06-01 │ 0.0     │"
      ]
     },
     "execution_count": 182,
     "metadata": {},
     "output_type": "execute_result"
    }
   ],
   "source": [
    "first(shuffleDf(test_comb), 10)"
   ]
  },
  {
   "cell_type": "markdown",
   "metadata": {},
   "source": [
    "### Standardize PCP"
   ]
  },
  {
   "cell_type": "code",
   "execution_count": 183,
   "metadata": {},
   "outputs": [],
   "source": [
    "test_comb.PCP_SUM = (test_comb.PCP_SUM .- mean_pcpsum) ./ std_pcpsum;\n",
    "test_comb.PCP_MAX = (test_comb.PCP_MAX .- mean_pcpmax) ./ std_pcpmax;\n",
    "test_comb.PCP_MAX3 = (test_comb.PCP_MAX3 .- mean_pcpmax3) ./ std_pcpmax3;"
   ]
  },
  {
   "cell_type": "code",
   "execution_count": 184,
   "metadata": {},
   "outputs": [
    {
     "data": {
      "text/html": [
       "<table class=\"data-frame\"><thead><tr><th></th><th>ID_OUVRAGE</th><th>TP_LAT</th><th>TP_LNG</th><th>TP_Z</th><th>DATE</th><th>PCP_SUM</th><th>PCP_MAX</th></tr><tr><th></th><th>String</th><th>Float64</th><th>Float64</th><th>Float64</th><th>Date</th><th>Float64</th><th>Float64</th></tr></thead><tbody><p>20 rows × 8 columns (omitted printing of 1 columns)</p><tr><th>1</th><td>3260-01D</td><td>1.29293</td><td>0.531312</td><td>0.0790333</td><td>2019-05-02</td><td>-0.0469042</td><td>-0.0325426</td></tr><tr><th>2</th><td>3260-01D</td><td>1.29293</td><td>0.531312</td><td>0.0790333</td><td>2019-05-09</td><td>0.808886</td><td>0.982661</td></tr><tr><th>3</th><td>3260-01D</td><td>1.29293</td><td>0.531312</td><td>0.0790333</td><td>2019-05-10</td><td>4.82974</td><td>1.6287</td></tr><tr><th>4</th><td>3260-01D</td><td>1.29293</td><td>0.531312</td><td>0.0790333</td><td>2019-05-15</td><td>-0.37292</td><td>-0.34018</td></tr><tr><th>5</th><td>3260-01D</td><td>1.29293</td><td>0.531312</td><td>0.0790333</td><td>2019-05-20</td><td>0.224775</td><td>0.828842</td></tr><tr><th>6</th><td>3260-01D</td><td>1.29293</td><td>0.531312</td><td>0.0790333</td><td>2019-05-23</td><td>1.97711</td><td>1.53641</td></tr><tr><th>7</th><td>3260-01D</td><td>1.29293</td><td>0.531312</td><td>0.0790333</td><td>2019-05-24</td><td>-0.223496</td><td>-0.124834</td></tr><tr><th>8</th><td>3260-01D</td><td>1.29293</td><td>0.531312</td><td>0.0790333</td><td>2019-05-26</td><td>-0.359336</td><td>-0.309416</td></tr><tr><th>9</th><td>3260-01D</td><td>1.29293</td><td>0.531312</td><td>0.0790333</td><td>2019-05-30</td><td>-0.305</td><td>-0.186361</td></tr><tr><th>10</th><td>3350-07D</td><td>0.0802391</td><td>-0.325532</td><td>0.168267</td><td>2019-05-01</td><td>0.238359</td><td>0.244331</td></tr><tr><th>11</th><td>3350-07D</td><td>0.0802391</td><td>-0.325532</td><td>0.168267</td><td>2019-05-02</td><td>-0.223496</td><td>-0.155598</td></tr><tr><th>12</th><td>3350-07D</td><td>0.0802391</td><td>-0.325532</td><td>0.168267</td><td>2019-05-08</td><td>-0.400087</td><td>-0.401707</td></tr><tr><th>13</th><td>3350-07D</td><td>0.0802391</td><td>-0.325532</td><td>0.168267</td><td>2019-05-09</td><td>0.768134</td><td>0.921133</td></tr><tr><th>14</th><td>3350-07D</td><td>0.0802391</td><td>-0.325532</td><td>0.168267</td><td>2019-05-10</td><td>3.47134</td><td>1.07495</td></tr><tr><th>15</th><td>3350-07D</td><td>0.0802391</td><td>-0.325532</td><td>0.168267</td><td>2019-05-11</td><td>-0.400087</td><td>-0.401707</td></tr><tr><th>16</th><td>3350-07D</td><td>0.0802391</td><td>-0.325532</td><td>0.168267</td><td>2019-05-13</td><td>-0.277832</td><td>-0.124834</td></tr><tr><th>17</th><td>3350-07D</td><td>0.0802391</td><td>-0.325532</td><td>0.168267</td><td>2019-05-14</td><td>1.01265</td><td>0.15204</td></tr><tr><th>18</th><td>3350-07D</td><td>0.0802391</td><td>-0.325532</td><td>0.168267</td><td>2019-05-18</td><td>-0.37292</td><td>-0.34018</td></tr><tr><th>19</th><td>3350-07D</td><td>0.0802391</td><td>-0.325532</td><td>0.168267</td><td>2019-05-19</td><td>0.374199</td><td>0.428913</td></tr><tr><th>20</th><td>3350-07D</td><td>0.0802391</td><td>-0.325532</td><td>0.168267</td><td>2019-05-20</td><td>0.319863</td><td>1.16724</td></tr></tbody></table>"
      ],
      "text/latex": [
       "\\begin{tabular}{r|cccccccc}\n",
       "\t& ID\\_OUVRAGE & TP\\_LAT & TP\\_LNG & TP\\_Z & DATE & PCP\\_SUM & PCP\\_MAX & \\\\\n",
       "\t\\hline\n",
       "\t& String & Float64 & Float64 & Float64 & Date & Float64 & Float64 & \\\\\n",
       "\t\\hline\n",
       "\t1 & 3260-01D & 1.29293 & 0.531312 & 0.0790333 & 2019-05-02 & -0.0469042 & -0.0325426 & $\\dots$ \\\\\n",
       "\t2 & 3260-01D & 1.29293 & 0.531312 & 0.0790333 & 2019-05-09 & 0.808886 & 0.982661 & $\\dots$ \\\\\n",
       "\t3 & 3260-01D & 1.29293 & 0.531312 & 0.0790333 & 2019-05-10 & 4.82974 & 1.6287 & $\\dots$ \\\\\n",
       "\t4 & 3260-01D & 1.29293 & 0.531312 & 0.0790333 & 2019-05-15 & -0.37292 & -0.34018 & $\\dots$ \\\\\n",
       "\t5 & 3260-01D & 1.29293 & 0.531312 & 0.0790333 & 2019-05-20 & 0.224775 & 0.828842 & $\\dots$ \\\\\n",
       "\t6 & 3260-01D & 1.29293 & 0.531312 & 0.0790333 & 2019-05-23 & 1.97711 & 1.53641 & $\\dots$ \\\\\n",
       "\t7 & 3260-01D & 1.29293 & 0.531312 & 0.0790333 & 2019-05-24 & -0.223496 & -0.124834 & $\\dots$ \\\\\n",
       "\t8 & 3260-01D & 1.29293 & 0.531312 & 0.0790333 & 2019-05-26 & -0.359336 & -0.309416 & $\\dots$ \\\\\n",
       "\t9 & 3260-01D & 1.29293 & 0.531312 & 0.0790333 & 2019-05-30 & -0.305 & -0.186361 & $\\dots$ \\\\\n",
       "\t10 & 3350-07D & 0.0802391 & -0.325532 & 0.168267 & 2019-05-01 & 0.238359 & 0.244331 & $\\dots$ \\\\\n",
       "\t11 & 3350-07D & 0.0802391 & -0.325532 & 0.168267 & 2019-05-02 & -0.223496 & -0.155598 & $\\dots$ \\\\\n",
       "\t12 & 3350-07D & 0.0802391 & -0.325532 & 0.168267 & 2019-05-08 & -0.400087 & -0.401707 & $\\dots$ \\\\\n",
       "\t13 & 3350-07D & 0.0802391 & -0.325532 & 0.168267 & 2019-05-09 & 0.768134 & 0.921133 & $\\dots$ \\\\\n",
       "\t14 & 3350-07D & 0.0802391 & -0.325532 & 0.168267 & 2019-05-10 & 3.47134 & 1.07495 & $\\dots$ \\\\\n",
       "\t15 & 3350-07D & 0.0802391 & -0.325532 & 0.168267 & 2019-05-11 & -0.400087 & -0.401707 & $\\dots$ \\\\\n",
       "\t16 & 3350-07D & 0.0802391 & -0.325532 & 0.168267 & 2019-05-13 & -0.277832 & -0.124834 & $\\dots$ \\\\\n",
       "\t17 & 3350-07D & 0.0802391 & -0.325532 & 0.168267 & 2019-05-14 & 1.01265 & 0.15204 & $\\dots$ \\\\\n",
       "\t18 & 3350-07D & 0.0802391 & -0.325532 & 0.168267 & 2019-05-18 & -0.37292 & -0.34018 & $\\dots$ \\\\\n",
       "\t19 & 3350-07D & 0.0802391 & -0.325532 & 0.168267 & 2019-05-19 & 0.374199 & 0.428913 & $\\dots$ \\\\\n",
       "\t20 & 3350-07D & 0.0802391 & -0.325532 & 0.168267 & 2019-05-20 & 0.319863 & 1.16724 & $\\dots$ \\\\\n",
       "\\end{tabular}\n"
      ],
      "text/plain": [
       "20×8 DataFrame. Omitted printing of 3 columns\n",
       "│ Row │ ID_OUVRAGE │ TP_LAT    │ TP_LNG    │ TP_Z      │ DATE       │\n",
       "│     │ \u001b[90mString\u001b[39m     │ \u001b[90mFloat64\u001b[39m   │ \u001b[90mFloat64\u001b[39m   │ \u001b[90mFloat64\u001b[39m   │ \u001b[90mDate\u001b[39m       │\n",
       "├─────┼────────────┼───────────┼───────────┼───────────┼────────────┤\n",
       "│ 1   │ 3260-01D   │ 1.29293   │ 0.531312  │ 0.0790333 │ 2019-05-02 │\n",
       "│ 2   │ 3260-01D   │ 1.29293   │ 0.531312  │ 0.0790333 │ 2019-05-09 │\n",
       "│ 3   │ 3260-01D   │ 1.29293   │ 0.531312  │ 0.0790333 │ 2019-05-10 │\n",
       "│ 4   │ 3260-01D   │ 1.29293   │ 0.531312  │ 0.0790333 │ 2019-05-15 │\n",
       "│ 5   │ 3260-01D   │ 1.29293   │ 0.531312  │ 0.0790333 │ 2019-05-20 │\n",
       "│ 6   │ 3260-01D   │ 1.29293   │ 0.531312  │ 0.0790333 │ 2019-05-23 │\n",
       "│ 7   │ 3260-01D   │ 1.29293   │ 0.531312  │ 0.0790333 │ 2019-05-24 │\n",
       "│ 8   │ 3260-01D   │ 1.29293   │ 0.531312  │ 0.0790333 │ 2019-05-26 │\n",
       "│ 9   │ 3260-01D   │ 1.29293   │ 0.531312  │ 0.0790333 │ 2019-05-30 │\n",
       "│ 10  │ 3350-07D   │ 0.0802391 │ -0.325532 │ 0.168267  │ 2019-05-01 │\n",
       "│ 11  │ 3350-07D   │ 0.0802391 │ -0.325532 │ 0.168267  │ 2019-05-02 │\n",
       "│ 12  │ 3350-07D   │ 0.0802391 │ -0.325532 │ 0.168267  │ 2019-05-08 │\n",
       "│ 13  │ 3350-07D   │ 0.0802391 │ -0.325532 │ 0.168267  │ 2019-05-09 │\n",
       "│ 14  │ 3350-07D   │ 0.0802391 │ -0.325532 │ 0.168267  │ 2019-05-10 │\n",
       "│ 15  │ 3350-07D   │ 0.0802391 │ -0.325532 │ 0.168267  │ 2019-05-11 │\n",
       "│ 16  │ 3350-07D   │ 0.0802391 │ -0.325532 │ 0.168267  │ 2019-05-13 │\n",
       "│ 17  │ 3350-07D   │ 0.0802391 │ -0.325532 │ 0.168267  │ 2019-05-14 │\n",
       "│ 18  │ 3350-07D   │ 0.0802391 │ -0.325532 │ 0.168267  │ 2019-05-18 │\n",
       "│ 19  │ 3350-07D   │ 0.0802391 │ -0.325532 │ 0.168267  │ 2019-05-19 │\n",
       "│ 20  │ 3350-07D   │ 0.0802391 │ -0.325532 │ 0.168267  │ 2019-05-20 │"
      ]
     },
     "execution_count": 184,
     "metadata": {},
     "output_type": "execute_result"
    }
   ],
   "source": [
    "first(test_comb, 20)"
   ]
  },
  {
   "cell_type": "markdown",
   "metadata": {},
   "source": [
    "#### Split dates into month and day"
   ]
  },
  {
   "cell_type": "code",
   "execution_count": 185,
   "metadata": {},
   "outputs": [
    {
     "data": {
      "text/html": [
       "<table class=\"data-frame\"><thead><tr><th></th><th>DATE</th><th>MONTH</th><th>DAY</th></tr><tr><th></th><th>Date</th><th>Int64</th><th>Int64</th></tr></thead><tbody><p>5 rows × 3 columns</p><tr><th>1</th><td>2019-09-13</td><td>9</td><td>13</td></tr><tr><th>2</th><td>2019-09-07</td><td>9</td><td>7</td></tr><tr><th>3</th><td>2019-08-18</td><td>8</td><td>18</td></tr><tr><th>4</th><td>2019-05-23</td><td>5</td><td>23</td></tr><tr><th>5</th><td>2019-08-17</td><td>8</td><td>17</td></tr></tbody></table>"
      ],
      "text/latex": [
       "\\begin{tabular}{r|ccc}\n",
       "\t& DATE & MONTH & DAY\\\\\n",
       "\t\\hline\n",
       "\t& Date & Int64 & Int64\\\\\n",
       "\t\\hline\n",
       "\t1 & 2019-09-13 & 9 & 13 \\\\\n",
       "\t2 & 2019-09-07 & 9 & 7 \\\\\n",
       "\t3 & 2019-08-18 & 8 & 18 \\\\\n",
       "\t4 & 2019-05-23 & 5 & 23 \\\\\n",
       "\t5 & 2019-08-17 & 8 & 17 \\\\\n",
       "\\end{tabular}\n"
      ],
      "text/plain": [
       "5×3 DataFrame\n",
       "│ Row │ DATE       │ MONTH │ DAY   │\n",
       "│     │ \u001b[90mDate\u001b[39m       │ \u001b[90mInt64\u001b[39m │ \u001b[90mInt64\u001b[39m │\n",
       "├─────┼────────────┼───────┼───────┤\n",
       "│ 1   │ 2019-09-13 │ 9     │ 13    │\n",
       "│ 2   │ 2019-09-07 │ 9     │ 7     │\n",
       "│ 3   │ 2019-08-18 │ 8     │ 18    │\n",
       "│ 4   │ 2019-05-23 │ 5     │ 23    │\n",
       "│ 5   │ 2019-08-17 │ 8     │ 17    │"
      ]
     },
     "execution_count": 185,
     "metadata": {},
     "output_type": "execute_result"
    }
   ],
   "source": [
    "test_comb.MONTH = month.(test_comb.DATE);\n",
    "test_comb.DAY = day.(test_comb.DATE);\n",
    "\n",
    "first(shuffleDf(test_comb[!, [:DATE, :MONTH, :DAY]]), 5)"
   ]
  },
  {
   "cell_type": "markdown",
   "metadata": {},
   "source": [
    "#### Standardize months and days"
   ]
  },
  {
   "cell_type": "code",
   "execution_count": 186,
   "metadata": {},
   "outputs": [],
   "source": [
    "test_comb.MONTH = (test_comb.MONTH .- meanmonth) ./ stdmonth;\n",
    "test_comb.DAY = (test_comb.DAY .- meanday) ./ stdday;"
   ]
  },
  {
   "cell_type": "code",
   "execution_count": 187,
   "metadata": {},
   "outputs": [
    {
     "data": {
      "text/html": [
       "<table class=\"data-frame\"><thead><tr><th></th><th>ID_OUVRAGE</th><th>TP_LAT</th><th>TP_LNG</th><th>TP_Z</th><th>MONTH</th><th>DAY</th><th>PCP_SUM</th></tr><tr><th></th><th>String</th><th>Float64</th><th>Float64</th><th>Float64</th><th>Float64</th><th>Float64</th><th>Float64</th></tr></thead><tbody><p>5 rows × 9 columns (omitted printing of 2 columns)</p><tr><th>1</th><td>3350-07D</td><td>0.0802391</td><td>-0.325532</td><td>0.168267</td><td>-1.45983</td><td>0.356584</td><td>0.374199</td></tr><tr><th>2</th><td>3350-07D</td><td>0.0802391</td><td>-0.325532</td><td>0.168267</td><td>-0.875331</td><td>-0.0953558</td><td>0.319863</td></tr><tr><th>3</th><td>4350-01D</td><td>-0.465715</td><td>0.725081</td><td>-0.0467296</td><td>-1.45983</td><td>1.59942</td><td>-0.305</td></tr><tr><th>4</th><td>4380-01D</td><td>-0.828933</td><td>0.658409</td><td>-0.0467296</td><td>-0.290832</td><td>0.356584</td><td>-0.223496</td></tr><tr><th>5</th><td>4240-01D</td><td>1.28137</td><td>1.24035</td><td>-1.19178</td><td>-0.290832</td><td>-0.547295</td><td>5.08784</td></tr></tbody></table>"
      ],
      "text/latex": [
       "\\begin{tabular}{r|cccccccc}\n",
       "\t& ID\\_OUVRAGE & TP\\_LAT & TP\\_LNG & TP\\_Z & MONTH & DAY & PCP\\_SUM & \\\\\n",
       "\t\\hline\n",
       "\t& String & Float64 & Float64 & Float64 & Float64 & Float64 & Float64 & \\\\\n",
       "\t\\hline\n",
       "\t1 & 3350-07D & 0.0802391 & -0.325532 & 0.168267 & -1.45983 & 0.356584 & 0.374199 & $\\dots$ \\\\\n",
       "\t2 & 3350-07D & 0.0802391 & -0.325532 & 0.168267 & -0.875331 & -0.0953558 & 0.319863 & $\\dots$ \\\\\n",
       "\t3 & 4350-01D & -0.465715 & 0.725081 & -0.0467296 & -1.45983 & 1.59942 & -0.305 & $\\dots$ \\\\\n",
       "\t4 & 4380-01D & -0.828933 & 0.658409 & -0.0467296 & -0.290832 & 0.356584 & -0.223496 & $\\dots$ \\\\\n",
       "\t5 & 4240-01D & 1.28137 & 1.24035 & -1.19178 & -0.290832 & -0.547295 & 5.08784 & $\\dots$ \\\\\n",
       "\\end{tabular}\n"
      ],
      "text/plain": [
       "5×9 DataFrame. Omitted printing of 4 columns\n",
       "│ Row │ ID_OUVRAGE │ TP_LAT    │ TP_LNG    │ TP_Z       │ MONTH     │\n",
       "│     │ \u001b[90mString\u001b[39m     │ \u001b[90mFloat64\u001b[39m   │ \u001b[90mFloat64\u001b[39m   │ \u001b[90mFloat64\u001b[39m    │ \u001b[90mFloat64\u001b[39m   │\n",
       "├─────┼────────────┼───────────┼───────────┼────────────┼───────────┤\n",
       "│ 1   │ 3350-07D   │ 0.0802391 │ -0.325532 │ 0.168267   │ -1.45983  │\n",
       "│ 2   │ 3350-07D   │ 0.0802391 │ -0.325532 │ 0.168267   │ -0.875331 │\n",
       "│ 3   │ 4350-01D   │ -0.465715 │ 0.725081  │ -0.0467296 │ -1.45983  │\n",
       "│ 4   │ 4380-01D   │ -0.828933 │ 0.658409  │ -0.0467296 │ -0.290832 │\n",
       "│ 5   │ 4240-01D   │ 1.28137   │ 1.24035   │ -1.19178   │ -0.290832 │"
      ]
     },
     "execution_count": 187,
     "metadata": {},
     "output_type": "execute_result"
    }
   ],
   "source": [
    "first(shuffleDf(test_comb[!, [:ID_OUVRAGE, :TP_LAT, :TP_LNG, :TP_Z, :MONTH, :DAY, :PCP_SUM, :PCP_MAX, :PCP_MAX3]]), 5)"
   ]
  },
  {
   "cell_type": "markdown",
   "metadata": {},
   "source": [
    "### Create Test features"
   ]
  },
  {
   "cell_type": "code",
   "execution_count": 188,
   "metadata": {},
   "outputs": [
    {
     "data": {
      "text/html": [
       "<table class=\"data-frame\"><thead><tr><th></th><th>TP_LAT</th><th>TP_LNG</th><th>TP_Z</th><th>MONTH</th><th>DAY</th><th>PCP_SUM</th><th>PCP_MAX</th><th>PCP_MAX3</th></tr><tr><th></th><th>Float64</th><th>Float64</th><th>Float64</th><th>Float64</th><th>Float64</th><th>Float64</th><th>Float64</th><th>Float64</th></tr></thead><tbody><p>283 rows × 9 columns (omitted printing of 1 columns)</p><tr><th>1</th><td>1.29293</td><td>0.531312</td><td>0.0790333</td><td>-1.45983</td><td>-1.56416</td><td>-0.0469042</td><td>-0.0325426</td><td>0.0430963</td></tr><tr><th>2</th><td>1.29293</td><td>0.531312</td><td>0.0790333</td><td>-1.45983</td><td>-0.773265</td><td>0.808886</td><td>0.982661</td><td>1.41166</td></tr><tr><th>3</th><td>1.29293</td><td>0.531312</td><td>0.0790333</td><td>-1.45983</td><td>-0.66028</td><td>4.82974</td><td>1.6287</td><td>2.75979</td></tr><tr><th>4</th><td>1.29293</td><td>0.531312</td><td>0.0790333</td><td>-1.45983</td><td>-0.0953558</td><td>-0.37292</td><td>-0.34018</td><td>-0.365429</td></tr><tr><th>5</th><td>1.29293</td><td>0.531312</td><td>0.0790333</td><td>-1.45983</td><td>0.469568</td><td>0.224775</td><td>0.828842</td><td>0.492474</td></tr><tr><th>6</th><td>1.29293</td><td>0.531312</td><td>0.0790333</td><td>-1.45983</td><td>0.808523</td><td>1.97711</td><td>1.53641</td><td>2.51467</td></tr><tr><th>7</th><td>1.29293</td><td>0.531312</td><td>0.0790333</td><td>-1.45983</td><td>0.921508</td><td>-0.223496</td><td>-0.124834</td><td>-0.181592</td></tr><tr><th>8</th><td>1.29293</td><td>0.531312</td><td>0.0790333</td><td>-1.45983</td><td>1.14748</td><td>-0.359336</td><td>-0.309416</td><td>-0.345002</td></tr><tr><th>9</th><td>1.29293</td><td>0.531312</td><td>0.0790333</td><td>-1.45983</td><td>1.59942</td><td>-0.305</td><td>-0.186361</td><td>-0.263297</td></tr><tr><th>10</th><td>0.0802391</td><td>-0.325532</td><td>0.168267</td><td>-1.45983</td><td>-1.67714</td><td>0.238359</td><td>0.244331</td><td>0.431195</td></tr><tr><th>11</th><td>0.0802391</td><td>-0.325532</td><td>0.168267</td><td>-1.45983</td><td>-1.56416</td><td>-0.223496</td><td>-0.155598</td><td>-0.181592</td></tr><tr><th>12</th><td>0.0802391</td><td>-0.325532</td><td>0.168267</td><td>-1.45983</td><td>-0.88625</td><td>-0.400087</td><td>-0.401707</td><td>-0.406281</td></tr><tr><th>13</th><td>0.0802391</td><td>-0.325532</td><td>0.168267</td><td>-1.45983</td><td>-0.773265</td><td>0.768134</td><td>0.921133</td><td>1.35038</td></tr><tr><th>14</th><td>0.0802391</td><td>-0.325532</td><td>0.168267</td><td>-1.45983</td><td>-0.66028</td><td>3.47134</td><td>1.07495</td><td>2.16743</td></tr><tr><th>15</th><td>0.0802391</td><td>-0.325532</td><td>0.168267</td><td>-1.45983</td><td>-0.547295</td><td>-0.400087</td><td>-0.401707</td><td>-0.406281</td></tr><tr><th>16</th><td>0.0802391</td><td>-0.325532</td><td>0.168267</td><td>-1.45983</td><td>-0.321325</td><td>-0.277832</td><td>-0.124834</td><td>-0.222445</td></tr><tr><th>17</th><td>0.0802391</td><td>-0.325532</td><td>0.168267</td><td>-1.45983</td><td>-0.208341</td><td>1.01265</td><td>0.15204</td><td>0.492474</td></tr><tr><th>18</th><td>0.0802391</td><td>-0.325532</td><td>0.168267</td><td>-1.45983</td><td>0.243599</td><td>-0.37292</td><td>-0.34018</td><td>-0.365429</td></tr><tr><th>19</th><td>0.0802391</td><td>-0.325532</td><td>0.168267</td><td>-1.45983</td><td>0.356584</td><td>0.374199</td><td>0.428913</td><td>0.533326</td></tr><tr><th>20</th><td>0.0802391</td><td>-0.325532</td><td>0.168267</td><td>-1.45983</td><td>0.469568</td><td>0.319863</td><td>1.16724</td><td>0.67631</td></tr><tr><th>21</th><td>0.0802391</td><td>-0.325532</td><td>0.168267</td><td>-1.45983</td><td>0.808523</td><td>1.75976</td><td>1.6287</td><td>1.90188</td></tr><tr><th>22</th><td>0.0802391</td><td>-0.325532</td><td>0.168267</td><td>-1.45983</td><td>0.921508</td><td>-0.196328</td><td>-0.217125</td><td>-0.161166</td></tr><tr><th>23</th><td>0.0802391</td><td>-0.325532</td><td>0.168267</td><td>-1.45983</td><td>1.03449</td><td>-0.345752</td><td>-0.34018</td><td>-0.365429</td></tr><tr><th>24</th><td>0.0802391</td><td>-0.325532</td><td>0.168267</td><td>-1.45983</td><td>1.26046</td><td>-0.400087</td><td>-0.401707</td><td>-0.406281</td></tr><tr><th>25</th><td>0.0802391</td><td>-0.325532</td><td>0.168267</td><td>-1.45983</td><td>1.7124</td><td>-0.332168</td><td>-0.247889</td><td>-0.30415</td></tr><tr><th>26</th><td>1.28137</td><td>1.24035</td><td>-1.19178</td><td>-1.45983</td><td>-0.999235</td><td>-0.400087</td><td>-0.401707</td><td>-0.406281</td></tr><tr><th>27</th><td>1.28137</td><td>1.24035</td><td>-1.19178</td><td>-1.45983</td><td>-0.773265</td><td>0.510039</td><td>0.582732</td><td>0.962278</td></tr><tr><th>28</th><td>1.28137</td><td>1.24035</td><td>-1.19178</td><td>-1.45983</td><td>-0.66028</td><td>3.89245</td><td>1.13648</td><td>2.16743</td></tr><tr><th>29</th><td>1.28137</td><td>1.24035</td><td>-1.19178</td><td>-1.45983</td><td>-0.0953558</td><td>-0.400087</td><td>-0.401707</td><td>-0.406281</td></tr><tr><th>30</th><td>1.28137</td><td>1.24035</td><td>-1.19178</td><td>-1.45983</td><td>0.582553</td><td>-0.400087</td><td>-0.401707</td><td>-0.406281</td></tr><tr><th>&vellip;</th><td>&vellip;</td><td>&vellip;</td><td>&vellip;</td><td>&vellip;</td><td>&vellip;</td><td>&vellip;</td><td>&vellip;</td><td>&vellip;</td></tr></tbody></table>"
      ],
      "text/latex": [
       "\\begin{tabular}{r|ccccccccc}\n",
       "\t& TP\\_LAT & TP\\_LNG & TP\\_Z & MONTH & DAY & PCP\\_SUM & PCP\\_MAX & PCP\\_MAX3 & \\\\\n",
       "\t\\hline\n",
       "\t& Float64 & Float64 & Float64 & Float64 & Float64 & Float64 & Float64 & Float64 & \\\\\n",
       "\t\\hline\n",
       "\t1 & 1.29293 & 0.531312 & 0.0790333 & -1.45983 & -1.56416 & -0.0469042 & -0.0325426 & 0.0430963 & $\\dots$ \\\\\n",
       "\t2 & 1.29293 & 0.531312 & 0.0790333 & -1.45983 & -0.773265 & 0.808886 & 0.982661 & 1.41166 & $\\dots$ \\\\\n",
       "\t3 & 1.29293 & 0.531312 & 0.0790333 & -1.45983 & -0.66028 & 4.82974 & 1.6287 & 2.75979 & $\\dots$ \\\\\n",
       "\t4 & 1.29293 & 0.531312 & 0.0790333 & -1.45983 & -0.0953558 & -0.37292 & -0.34018 & -0.365429 & $\\dots$ \\\\\n",
       "\t5 & 1.29293 & 0.531312 & 0.0790333 & -1.45983 & 0.469568 & 0.224775 & 0.828842 & 0.492474 & $\\dots$ \\\\\n",
       "\t6 & 1.29293 & 0.531312 & 0.0790333 & -1.45983 & 0.808523 & 1.97711 & 1.53641 & 2.51467 & $\\dots$ \\\\\n",
       "\t7 & 1.29293 & 0.531312 & 0.0790333 & -1.45983 & 0.921508 & -0.223496 & -0.124834 & -0.181592 & $\\dots$ \\\\\n",
       "\t8 & 1.29293 & 0.531312 & 0.0790333 & -1.45983 & 1.14748 & -0.359336 & -0.309416 & -0.345002 & $\\dots$ \\\\\n",
       "\t9 & 1.29293 & 0.531312 & 0.0790333 & -1.45983 & 1.59942 & -0.305 & -0.186361 & -0.263297 & $\\dots$ \\\\\n",
       "\t10 & 0.0802391 & -0.325532 & 0.168267 & -1.45983 & -1.67714 & 0.238359 & 0.244331 & 0.431195 & $\\dots$ \\\\\n",
       "\t11 & 0.0802391 & -0.325532 & 0.168267 & -1.45983 & -1.56416 & -0.223496 & -0.155598 & -0.181592 & $\\dots$ \\\\\n",
       "\t12 & 0.0802391 & -0.325532 & 0.168267 & -1.45983 & -0.88625 & -0.400087 & -0.401707 & -0.406281 & $\\dots$ \\\\\n",
       "\t13 & 0.0802391 & -0.325532 & 0.168267 & -1.45983 & -0.773265 & 0.768134 & 0.921133 & 1.35038 & $\\dots$ \\\\\n",
       "\t14 & 0.0802391 & -0.325532 & 0.168267 & -1.45983 & -0.66028 & 3.47134 & 1.07495 & 2.16743 & $\\dots$ \\\\\n",
       "\t15 & 0.0802391 & -0.325532 & 0.168267 & -1.45983 & -0.547295 & -0.400087 & -0.401707 & -0.406281 & $\\dots$ \\\\\n",
       "\t16 & 0.0802391 & -0.325532 & 0.168267 & -1.45983 & -0.321325 & -0.277832 & -0.124834 & -0.222445 & $\\dots$ \\\\\n",
       "\t17 & 0.0802391 & -0.325532 & 0.168267 & -1.45983 & -0.208341 & 1.01265 & 0.15204 & 0.492474 & $\\dots$ \\\\\n",
       "\t18 & 0.0802391 & -0.325532 & 0.168267 & -1.45983 & 0.243599 & -0.37292 & -0.34018 & -0.365429 & $\\dots$ \\\\\n",
       "\t19 & 0.0802391 & -0.325532 & 0.168267 & -1.45983 & 0.356584 & 0.374199 & 0.428913 & 0.533326 & $\\dots$ \\\\\n",
       "\t20 & 0.0802391 & -0.325532 & 0.168267 & -1.45983 & 0.469568 & 0.319863 & 1.16724 & 0.67631 & $\\dots$ \\\\\n",
       "\t21 & 0.0802391 & -0.325532 & 0.168267 & -1.45983 & 0.808523 & 1.75976 & 1.6287 & 1.90188 & $\\dots$ \\\\\n",
       "\t22 & 0.0802391 & -0.325532 & 0.168267 & -1.45983 & 0.921508 & -0.196328 & -0.217125 & -0.161166 & $\\dots$ \\\\\n",
       "\t23 & 0.0802391 & -0.325532 & 0.168267 & -1.45983 & 1.03449 & -0.345752 & -0.34018 & -0.365429 & $\\dots$ \\\\\n",
       "\t24 & 0.0802391 & -0.325532 & 0.168267 & -1.45983 & 1.26046 & -0.400087 & -0.401707 & -0.406281 & $\\dots$ \\\\\n",
       "\t25 & 0.0802391 & -0.325532 & 0.168267 & -1.45983 & 1.7124 & -0.332168 & -0.247889 & -0.30415 & $\\dots$ \\\\\n",
       "\t26 & 1.28137 & 1.24035 & -1.19178 & -1.45983 & -0.999235 & -0.400087 & -0.401707 & -0.406281 & $\\dots$ \\\\\n",
       "\t27 & 1.28137 & 1.24035 & -1.19178 & -1.45983 & -0.773265 & 0.510039 & 0.582732 & 0.962278 & $\\dots$ \\\\\n",
       "\t28 & 1.28137 & 1.24035 & -1.19178 & -1.45983 & -0.66028 & 3.89245 & 1.13648 & 2.16743 & $\\dots$ \\\\\n",
       "\t29 & 1.28137 & 1.24035 & -1.19178 & -1.45983 & -0.0953558 & -0.400087 & -0.401707 & -0.406281 & $\\dots$ \\\\\n",
       "\t30 & 1.28137 & 1.24035 & -1.19178 & -1.45983 & 0.582553 & -0.400087 & -0.401707 & -0.406281 & $\\dots$ \\\\\n",
       "\t$\\dots$ & $\\dots$ & $\\dots$ & $\\dots$ & $\\dots$ & $\\dots$ & $\\dots$ & $\\dots$ & $\\dots$ &  \\\\\n",
       "\\end{tabular}\n"
      ],
      "text/plain": [
       "283×9 DataFrame. Omitted printing of 4 columns\n",
       "│ Row │ TP_LAT    │ TP_LNG    │ TP_Z       │ MONTH    │ DAY        │\n",
       "│     │ \u001b[90mFloat64\u001b[39m   │ \u001b[90mFloat64\u001b[39m   │ \u001b[90mFloat64\u001b[39m    │ \u001b[90mFloat64\u001b[39m  │ \u001b[90mFloat64\u001b[39m    │\n",
       "├─────┼───────────┼───────────┼────────────┼──────────┼────────────┤\n",
       "│ 1   │ 1.29293   │ 0.531312  │ 0.0790333  │ -1.45983 │ -1.56416   │\n",
       "│ 2   │ 1.29293   │ 0.531312  │ 0.0790333  │ -1.45983 │ -0.773265  │\n",
       "│ 3   │ 1.29293   │ 0.531312  │ 0.0790333  │ -1.45983 │ -0.66028   │\n",
       "│ 4   │ 1.29293   │ 0.531312  │ 0.0790333  │ -1.45983 │ -0.0953558 │\n",
       "│ 5   │ 1.29293   │ 0.531312  │ 0.0790333  │ -1.45983 │ 0.469568   │\n",
       "│ 6   │ 1.29293   │ 0.531312  │ 0.0790333  │ -1.45983 │ 0.808523   │\n",
       "│ 7   │ 1.29293   │ 0.531312  │ 0.0790333  │ -1.45983 │ 0.921508   │\n",
       "│ 8   │ 1.29293   │ 0.531312  │ 0.0790333  │ -1.45983 │ 1.14748    │\n",
       "│ 9   │ 1.29293   │ 0.531312  │ 0.0790333  │ -1.45983 │ 1.59942    │\n",
       "│ 10  │ 0.0802391 │ -0.325532 │ 0.168267   │ -1.45983 │ -1.67714   │\n",
       "⋮\n",
       "│ 273 │ -0.828933 │ 0.658409  │ -0.0467296 │ 0.878166 │ -1.56416   │\n",
       "│ 274 │ -0.828933 │ 0.658409  │ -0.0467296 │ 0.878166 │ -1.33819   │\n",
       "│ 275 │ -0.828933 │ 0.658409  │ -0.0467296 │ 0.878166 │ -1.2252    │\n",
       "│ 276 │ -0.828933 │ 0.658409  │ -0.0467296 │ 0.878166 │ -0.43431   │\n",
       "│ 277 │ -0.828933 │ 0.658409  │ -0.0467296 │ 0.878166 │ -0.321325  │\n",
       "│ 278 │ -0.828933 │ 0.658409  │ -0.0467296 │ 0.878166 │ 0.0176291  │\n",
       "│ 279 │ -0.828933 │ 0.658409  │ -0.0467296 │ 0.878166 │ 0.695538   │\n",
       "│ 280 │ -0.828933 │ 0.658409  │ -0.0467296 │ 0.878166 │ 1.14748    │\n",
       "│ 281 │ -0.828933 │ 0.658409  │ -0.0467296 │ 0.878166 │ 1.37345    │\n",
       "│ 282 │ -0.828933 │ 0.658409  │ -0.0467296 │ 0.878166 │ 1.48643    │\n",
       "│ 283 │ -0.828933 │ 0.658409  │ -0.0467296 │ 0.878166 │ 1.59942    │"
      ]
     },
     "execution_count": 188,
     "metadata": {},
     "output_type": "execute_result"
    }
   ],
   "source": [
    "test_comb.SURVERSE = zeros(size(test_comb, 1));\n",
    "test_features = test_comb[:, names_glm]"
   ]
  },
  {
   "cell_type": "markdown",
   "metadata": {},
   "source": [
    "## Predict"
   ]
  },
  {
   "cell_type": "code",
   "execution_count": 192,
   "metadata": {},
   "outputs": [
    {
     "data": {
      "text/plain": [
       "283-element Array{Int64,1}:\n",
       " 0\n",
       " 0\n",
       " 1\n",
       " 0\n",
       " 0\n",
       " 1\n",
       " 0\n",
       " 0\n",
       " 0\n",
       " 0\n",
       " 0\n",
       " 0\n",
       " 0\n",
       " ⋮\n",
       " 0\n",
       " 1\n",
       " 1\n",
       " 0\n",
       " 0\n",
       " 0\n",
       " 0\n",
       " 0\n",
       " 0\n",
       " 0\n",
       " 0\n",
       " 0"
      ]
     },
     "execution_count": 192,
     "metadata": {},
     "output_type": "execute_result"
    }
   ],
   "source": [
    "test_labels = GLM.predict(val_model, test_features);\n",
    "test_labels[test_labels .>= batch_threshold] .= 1.0;\n",
    "test_labels[test_labels .< batch_threshold] .= 0.0;\n",
    "test_labels = convert(Array{Int}, trunc.(test_labels))"
   ]
  },
  {
   "cell_type": "markdown",
   "metadata": {},
   "source": [
    "## Generate submission"
   ]
  },
  {
   "cell_type": "code",
   "execution_count": 193,
   "metadata": {},
   "outputs": [
    {
     "data": {
      "text/plain": [
       "\"submissions/mc-submission-12.csv\""
      ]
     },
     "execution_count": 193,
     "metadata": {},
     "output_type": "execute_result"
    }
   ],
   "source": [
    "ID = test_comb[:,:ID_OUVRAGE].*\"_\".*string.(test_comb[:,:DATE])\n",
    "sampleSubmission = DataFrame(ID = ID, Surverse=test_labels)\n",
    "CSV.write(\"submissions/mc-submission-12.csv\",sampleSubmission)"
   ]
  }
 ],
 "metadata": {
  "kernelspec": {
   "display_name": "Julia 1.2.0",
   "language": "julia",
   "name": "julia-1.2"
  },
  "language_info": {
   "file_extension": ".jl",
   "mimetype": "application/julia",
   "name": "julia",
   "version": "1.0.5"
  }
 },
 "nbformat": 4,
 "nbformat_minor": 2
}
