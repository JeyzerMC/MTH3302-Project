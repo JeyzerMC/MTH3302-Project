{
 "cells": [
  {
   "cell_type": "code",
   "execution_count": 1,
   "metadata": {},
   "outputs": [],
   "source": [
    "using CSV, DataFrames, GLM, Statistics, Dates, Gadfly, Random, MLBase, DecisionTree;\n",
    "include(\"utils/precipitation.jl\");"
   ]
  },
  {
   "cell_type": "code",
   "execution_count": 2,
   "metadata": {
    "scrolled": true
   },
   "outputs": [
    {
     "data": {
      "text/plain": [
       "partitionTrainTest (generic function with 2 methods)"
      ]
     },
     "execution_count": 2,
     "metadata": {},
     "output_type": "execute_result"
    }
   ],
   "source": [
    "function partitionTrainTest(data, at = 0.8) # https://discourse.julialang.org/t/simple-tool-for-train-test-split/473/2\n",
    "    n = nrow(data)\n",
    "    idx = shuffle(1:n)\n",
    "    train_idx = view(idx, 1:floor(Int, at*n))\n",
    "    test_idx = view(idx, (floor(Int, at*n)+1):n)\n",
    "    return data[train_idx,:], data[test_idx,:]\n",
    "end"
   ]
  },
  {
   "cell_type": "code",
   "execution_count": 3,
   "metadata": {},
   "outputs": [],
   "source": [
    "val_form = @formula(SURVERSE ~ McTavish_sum + McTavish_max + McTavish_max3 + \n",
    "                               Bellevue_sum + Bellevue_max + Bellevue_max3 + \n",
    "                               Assomption_sum + Assomption_max + Assomption_max3 + \n",
    "                               Trudeau_sum + Trudeau_max + Trudeau_max3 + \n",
    "                               StHubert_sum + StHubert_max + StHubert_max3);"
   ]
  },
  {
   "cell_type": "markdown",
   "metadata": {},
   "source": [
    "## Ouvrage 3260"
   ]
  },
  {
   "cell_type": "code",
   "execution_count": 4,
   "metadata": {},
   "outputs": [],
   "source": [
    "data_3260 = CSV.read(\"data/parsed/ouvrage_3260.csv\");\n",
    "train_set, val_set = partitionTrainTest(data_3260);"
   ]
  },
  {
   "cell_type": "markdown",
   "metadata": {},
   "source": [
    "#### GLM Train / Val"
   ]
  },
  {
   "cell_type": "code",
   "execution_count": 5,
   "metadata": {},
   "outputs": [
    {
     "data": {
      "text/plain": [
       "0.5454545454545454"
      ]
     },
     "execution_count": 5,
     "metadata": {},
     "output_type": "execute_result"
    }
   ],
   "source": [
    "val_model = glm(val_form, train_set, Bernoulli(), LogitLink())\n",
    "val_labels = val_set[!, :SURVERSE];\n",
    "val_pred = GLM.predict(val_model, val_set);\n",
    "\n",
    "threshold = 0.5;\n",
    "val_pred[val_pred .>= threshold] .= 1.0;\n",
    "val_pred[val_pred .< threshold] .= 0.0;\n",
    "val_pred = convert(Array{Int}, trunc.(val_pred));\n",
    "\n",
    "r = roc(val_labels, val_pred);\n",
    "f1score(r)"
   ]
  },
  {
   "cell_type": "markdown",
   "metadata": {},
   "source": [
    "#### GLM Submission"
   ]
  },
  {
   "cell_type": "code",
   "execution_count": 6,
   "metadata": {},
   "outputs": [],
   "source": [
    "test_model = glm(val_form, data_3260, Bernoulli(), LogitLink());"
   ]
  },
  {
   "cell_type": "code",
   "execution_count": 7,
   "metadata": {},
   "outputs": [
    {
     "data": {
      "text/plain": [
       "(45, 16)"
      ]
     },
     "execution_count": 7,
     "metadata": {},
     "output_type": "execute_result"
    }
   ],
   "source": [
    "test_3260 = CSV.read(\"data/parsed/test_3260.csv\");\n",
    "size(test_3260)"
   ]
  },
  {
   "cell_type": "code",
   "execution_count": 8,
   "metadata": {},
   "outputs": [],
   "source": [
    "test_pred = GLM.predict(test_model, test_3260);\n",
    "threshold = 0.5;\n",
    "test_pred[test_pred .>= threshold] .= 1.0;\n",
    "test_pred[test_pred .< threshold] .= 0.0;\n",
    "test_pred = convert(Array{Int}, trunc.(test_pred));"
   ]
  },
  {
   "cell_type": "code",
   "execution_count": 9,
   "metadata": {},
   "outputs": [],
   "source": [
    "pred_3260 = test_3260;\n",
    "pred_3260[!, :SURVERSE] = test_pred;"
   ]
  },
  {
   "cell_type": "code",
   "execution_count": 10,
   "metadata": {
    "scrolled": true
   },
   "outputs": [
    {
     "data": {
      "text/html": [
       "<table class=\"data-frame\"><thead><tr><th></th><th>DATE</th><th>SURVERSE</th><th>McTavish_sum</th></tr><tr><th></th><th>Date</th><th>Int64</th><th>Float64</th></tr></thead><tbody><p>5 rows × 3 columns</p><tr><th>1</th><td>2019-05-02</td><td>0</td><td>26.0</td></tr><tr><th>2</th><td>2019-05-09</td><td>0</td><td>89.0</td></tr><tr><th>3</th><td>2019-05-10</td><td>1</td><td>385.0</td></tr><tr><th>4</th><td>2019-05-15</td><td>0</td><td>2.0</td></tr><tr><th>5</th><td>2019-05-20</td><td>0</td><td>46.0</td></tr></tbody></table>"
      ],
      "text/latex": [
       "\\begin{tabular}{r|ccc}\n",
       "\t& DATE & SURVERSE & McTavish\\_sum\\\\\n",
       "\t\\hline\n",
       "\t& Date & Int64 & Float64\\\\\n",
       "\t\\hline\n",
       "\t1 & 2019-05-02 & 0 & 26.0 \\\\\n",
       "\t2 & 2019-05-09 & 0 & 89.0 \\\\\n",
       "\t3 & 2019-05-10 & 1 & 385.0 \\\\\n",
       "\t4 & 2019-05-15 & 0 & 2.0 \\\\\n",
       "\t5 & 2019-05-20 & 0 & 46.0 \\\\\n",
       "\\end{tabular}\n"
      ],
      "text/plain": [
       "5×3 DataFrame\n",
       "│ Row │ DATE       │ SURVERSE │ McTavish_sum │\n",
       "│     │ \u001b[90mDate\u001b[39m       │ \u001b[90mInt64\u001b[39m    │ \u001b[90mFloat64\u001b[39m      │\n",
       "├─────┼────────────┼──────────┼──────────────┤\n",
       "│ 1   │ 2019-05-02 │ 0        │ 26.0         │\n",
       "│ 2   │ 2019-05-09 │ 0        │ 89.0         │\n",
       "│ 3   │ 2019-05-10 │ 1        │ 385.0        │\n",
       "│ 4   │ 2019-05-15 │ 0        │ 2.0          │\n",
       "│ 5   │ 2019-05-20 │ 0        │ 46.0         │"
      ]
     },
     "execution_count": 10,
     "metadata": {},
     "output_type": "execute_result"
    }
   ],
   "source": [
    "first(pred_3260[!, [:DATE, :SURVERSE, :McTavish_sum]], 5)"
   ]
  },
  {
   "cell_type": "markdown",
   "metadata": {},
   "source": [
    "#### Random Forest"
   ]
  },
  {
   "cell_type": "code",
   "execution_count": null,
   "metadata": {},
   "outputs": [],
   "source": []
  },
  {
   "cell_type": "markdown",
   "metadata": {},
   "source": [
    "## Ouvrage 3350"
   ]
  },
  {
   "cell_type": "code",
   "execution_count": 11,
   "metadata": {},
   "outputs": [],
   "source": [
    "data_3350 = CSV.read(\"data/parsed/ouvrage_3350.csv\");\n",
    "train_set, val_set = partitionTrainTest(data_3350);"
   ]
  },
  {
   "cell_type": "markdown",
   "metadata": {},
   "source": [
    "#### GLM Train / Val"
   ]
  },
  {
   "cell_type": "code",
   "execution_count": 12,
   "metadata": {},
   "outputs": [
    {
     "data": {
      "text/plain": [
       "0.7777777777777778"
      ]
     },
     "execution_count": 12,
     "metadata": {},
     "output_type": "execute_result"
    }
   ],
   "source": [
    "val_model = glm(val_form, train_set, Bernoulli(), LogitLink())\n",
    "val_labels = val_set[!, :SURVERSE];\n",
    "val_pred = GLM.predict(val_model, val_set);\n",
    "\n",
    "threshold = 0.5;\n",
    "val_pred[val_pred .>= threshold] .= 1.0;\n",
    "val_pred[val_pred .< threshold] .= 0.0;\n",
    "val_pred = convert(Array{Int}, trunc.(val_pred));\n",
    "\n",
    "r = roc(val_labels, val_pred);\n",
    "f1score(r)"
   ]
  },
  {
   "cell_type": "markdown",
   "metadata": {},
   "source": [
    "#### GLM Submission"
   ]
  },
  {
   "cell_type": "code",
   "execution_count": 13,
   "metadata": {},
   "outputs": [],
   "source": [
    "test_model = glm(val_form, data_3350, Bernoulli(), LogitLink());"
   ]
  },
  {
   "cell_type": "code",
   "execution_count": 14,
   "metadata": {},
   "outputs": [
    {
     "data": {
      "text/plain": [
       "(70, 16)"
      ]
     },
     "execution_count": 14,
     "metadata": {},
     "output_type": "execute_result"
    }
   ],
   "source": [
    "test_3350 = CSV.read(\"data/parsed/test_3350.csv\");\n",
    "size(test_3350)"
   ]
  },
  {
   "cell_type": "code",
   "execution_count": 15,
   "metadata": {},
   "outputs": [],
   "source": [
    "test_pred = GLM.predict(test_model, test_3350);\n",
    "threshold = 0.5;\n",
    "test_pred[test_pred .>= threshold] .= 1.0;\n",
    "test_pred[test_pred .< threshold] .= 0.0;\n",
    "test_pred = convert(Array{Int}, trunc.(test_pred));"
   ]
  },
  {
   "cell_type": "code",
   "execution_count": 16,
   "metadata": {},
   "outputs": [],
   "source": [
    "pred_3350 = test_3350;\n",
    "pred_3350[!, :SURVERSE] = test_pred;"
   ]
  },
  {
   "cell_type": "code",
   "execution_count": 17,
   "metadata": {
    "scrolled": true
   },
   "outputs": [
    {
     "data": {
      "text/html": [
       "<table class=\"data-frame\"><thead><tr><th></th><th>DATE</th><th>SURVERSE</th><th>McTavish_sum</th></tr><tr><th></th><th>Date</th><th>Int64</th><th>Float64</th></tr></thead><tbody><p>5 rows × 3 columns</p><tr><th>1</th><td>2019-05-01</td><td>1</td><td>79.0</td></tr><tr><th>2</th><td>2019-05-02</td><td>0</td><td>26.0</td></tr><tr><th>3</th><td>2019-05-08</td><td>0</td><td>0.0</td></tr><tr><th>4</th><td>2019-05-09</td><td>1</td><td>89.0</td></tr><tr><th>5</th><td>2019-05-10</td><td>1</td><td>385.0</td></tr></tbody></table>"
      ],
      "text/latex": [
       "\\begin{tabular}{r|ccc}\n",
       "\t& DATE & SURVERSE & McTavish\\_sum\\\\\n",
       "\t\\hline\n",
       "\t& Date & Int64 & Float64\\\\\n",
       "\t\\hline\n",
       "\t1 & 2019-05-01 & 1 & 79.0 \\\\\n",
       "\t2 & 2019-05-02 & 0 & 26.0 \\\\\n",
       "\t3 & 2019-05-08 & 0 & 0.0 \\\\\n",
       "\t4 & 2019-05-09 & 1 & 89.0 \\\\\n",
       "\t5 & 2019-05-10 & 1 & 385.0 \\\\\n",
       "\\end{tabular}\n"
      ],
      "text/plain": [
       "5×3 DataFrame\n",
       "│ Row │ DATE       │ SURVERSE │ McTavish_sum │\n",
       "│     │ \u001b[90mDate\u001b[39m       │ \u001b[90mInt64\u001b[39m    │ \u001b[90mFloat64\u001b[39m      │\n",
       "├─────┼────────────┼──────────┼──────────────┤\n",
       "│ 1   │ 2019-05-01 │ 1        │ 79.0         │\n",
       "│ 2   │ 2019-05-02 │ 0        │ 26.0         │\n",
       "│ 3   │ 2019-05-08 │ 0        │ 0.0          │\n",
       "│ 4   │ 2019-05-09 │ 1        │ 89.0         │\n",
       "│ 5   │ 2019-05-10 │ 1        │ 385.0        │"
      ]
     },
     "execution_count": 17,
     "metadata": {},
     "output_type": "execute_result"
    }
   ],
   "source": [
    "first(pred_3350[!, [:DATE, :SURVERSE, :McTavish_sum]], 5)"
   ]
  },
  {
   "cell_type": "markdown",
   "metadata": {},
   "source": [
    "#### Random Forest"
   ]
  },
  {
   "cell_type": "code",
   "execution_count": null,
   "metadata": {},
   "outputs": [],
   "source": []
  },
  {
   "cell_type": "markdown",
   "metadata": {},
   "source": [
    "## Ouvrage 4240"
   ]
  },
  {
   "cell_type": "code",
   "execution_count": 18,
   "metadata": {},
   "outputs": [],
   "source": [
    "data_4240 = CSV.read(\"data/parsed/ouvrage_4240.csv\");\n",
    "train_set, val_set = partitionTrainTest(data_4240);"
   ]
  },
  {
   "cell_type": "markdown",
   "metadata": {},
   "source": [
    "#### GLM Train / Val"
   ]
  },
  {
   "cell_type": "code",
   "execution_count": 19,
   "metadata": {},
   "outputs": [
    {
     "data": {
      "text/plain": [
       "0.7619047619047619"
      ]
     },
     "execution_count": 19,
     "metadata": {},
     "output_type": "execute_result"
    }
   ],
   "source": [
    "val_model = glm(val_form, train_set, Bernoulli(), LogitLink())\n",
    "val_labels = val_set[!, :SURVERSE];\n",
    "val_pred = GLM.predict(val_model, val_set);\n",
    "\n",
    "threshold = 0.5;\n",
    "val_pred[val_pred .>= threshold] .= 1.0;\n",
    "val_pred[val_pred .< threshold] .= 0.0;\n",
    "val_pred = convert(Array{Int}, trunc.(val_pred));\n",
    "\n",
    "r = roc(val_labels, val_pred);\n",
    "f1score(r)"
   ]
  },
  {
   "cell_type": "markdown",
   "metadata": {},
   "source": [
    "#### GLM Submission"
   ]
  },
  {
   "cell_type": "code",
   "execution_count": 20,
   "metadata": {},
   "outputs": [],
   "source": [
    "test_model = glm(val_form, data_4240, Bernoulli(), LogitLink());"
   ]
  },
  {
   "cell_type": "code",
   "execution_count": 21,
   "metadata": {},
   "outputs": [
    {
     "data": {
      "text/plain": [
       "(49, 16)"
      ]
     },
     "execution_count": 21,
     "metadata": {},
     "output_type": "execute_result"
    }
   ],
   "source": [
    "test_4240 = CSV.read(\"data/parsed/test_4240.csv\");\n",
    "size(test_4240)"
   ]
  },
  {
   "cell_type": "code",
   "execution_count": 22,
   "metadata": {},
   "outputs": [],
   "source": [
    "test_pred = GLM.predict(test_model, test_4240);\n",
    "threshold = 0.5;\n",
    "test_pred[test_pred .>= threshold] .= 1.0;\n",
    "test_pred[test_pred .< threshold] .= 0.0;\n",
    "test_pred = convert(Array{Int}, trunc.(test_pred));"
   ]
  },
  {
   "cell_type": "code",
   "execution_count": 23,
   "metadata": {},
   "outputs": [],
   "source": [
    "pred_4240 = test_4240;\n",
    "pred_4240[!, :SURVERSE] = test_pred;"
   ]
  },
  {
   "cell_type": "code",
   "execution_count": 24,
   "metadata": {
    "scrolled": true
   },
   "outputs": [
    {
     "data": {
      "text/html": [
       "<table class=\"data-frame\"><thead><tr><th></th><th>DATE</th><th>SURVERSE</th><th>McTavish_sum</th></tr><tr><th></th><th>Date</th><th>Int64</th><th>Float64</th></tr></thead><tbody><p>5 rows × 3 columns</p><tr><th>1</th><td>2019-05-07</td><td>0</td><td>3.0</td></tr><tr><th>2</th><td>2019-05-09</td><td>0</td><td>89.0</td></tr><tr><th>3</th><td>2019-05-10</td><td>1</td><td>385.0</td></tr><tr><th>4</th><td>2019-05-15</td><td>0</td><td>2.0</td></tr><tr><th>5</th><td>2019-05-21</td><td>0</td><td>0.0</td></tr></tbody></table>"
      ],
      "text/latex": [
       "\\begin{tabular}{r|ccc}\n",
       "\t& DATE & SURVERSE & McTavish\\_sum\\\\\n",
       "\t\\hline\n",
       "\t& Date & Int64 & Float64\\\\\n",
       "\t\\hline\n",
       "\t1 & 2019-05-07 & 0 & 3.0 \\\\\n",
       "\t2 & 2019-05-09 & 0 & 89.0 \\\\\n",
       "\t3 & 2019-05-10 & 1 & 385.0 \\\\\n",
       "\t4 & 2019-05-15 & 0 & 2.0 \\\\\n",
       "\t5 & 2019-05-21 & 0 & 0.0 \\\\\n",
       "\\end{tabular}\n"
      ],
      "text/plain": [
       "5×3 DataFrame\n",
       "│ Row │ DATE       │ SURVERSE │ McTavish_sum │\n",
       "│     │ \u001b[90mDate\u001b[39m       │ \u001b[90mInt64\u001b[39m    │ \u001b[90mFloat64\u001b[39m      │\n",
       "├─────┼────────────┼──────────┼──────────────┤\n",
       "│ 1   │ 2019-05-07 │ 0        │ 3.0          │\n",
       "│ 2   │ 2019-05-09 │ 0        │ 89.0         │\n",
       "│ 3   │ 2019-05-10 │ 1        │ 385.0        │\n",
       "│ 4   │ 2019-05-15 │ 0        │ 2.0          │\n",
       "│ 5   │ 2019-05-21 │ 0        │ 0.0          │"
      ]
     },
     "execution_count": 24,
     "metadata": {},
     "output_type": "execute_result"
    }
   ],
   "source": [
    "first(pred_4240[!, [:DATE, :SURVERSE, :McTavish_sum]], 5)"
   ]
  },
  {
   "cell_type": "markdown",
   "metadata": {},
   "source": [
    "#### Random Forest"
   ]
  },
  {
   "cell_type": "code",
   "execution_count": null,
   "metadata": {},
   "outputs": [],
   "source": []
  },
  {
   "cell_type": "markdown",
   "metadata": {},
   "source": [
    "## Ouvrage 4350"
   ]
  },
  {
   "cell_type": "code",
   "execution_count": 25,
   "metadata": {},
   "outputs": [],
   "source": [
    "data_4350 = CSV.read(\"data/parsed/ouvrage_4350.csv\");\n",
    "train_set, val_set = partitionTrainTest(data_4350);"
   ]
  },
  {
   "cell_type": "markdown",
   "metadata": {},
   "source": [
    "#### GLM Train / Val"
   ]
  },
  {
   "cell_type": "code",
   "execution_count": 26,
   "metadata": {},
   "outputs": [
    {
     "data": {
      "text/plain": [
       "0.6666666666666666"
      ]
     },
     "execution_count": 26,
     "metadata": {},
     "output_type": "execute_result"
    }
   ],
   "source": [
    "val_model = glm(val_form, train_set, Bernoulli(), LogitLink())\n",
    "val_labels = val_set[!, :SURVERSE];\n",
    "val_pred = GLM.predict(val_model, val_set);\n",
    "\n",
    "threshold = 0.5;\n",
    "val_pred[val_pred .>= threshold] .= 1.0;\n",
    "val_pred[val_pred .< threshold] .= 0.0;\n",
    "val_pred = convert(Array{Int}, trunc.(val_pred));\n",
    "\n",
    "r = roc(val_labels, val_pred);\n",
    "f1score(r)"
   ]
  },
  {
   "cell_type": "markdown",
   "metadata": {},
   "source": [
    "#### GLM Submission"
   ]
  },
  {
   "cell_type": "code",
   "execution_count": 27,
   "metadata": {},
   "outputs": [],
   "source": [
    "test_model = glm(val_form, data_4350, Bernoulli(), LogitLink());"
   ]
  },
  {
   "cell_type": "code",
   "execution_count": 28,
   "metadata": {},
   "outputs": [
    {
     "data": {
      "text/plain": [
       "(65, 16)"
      ]
     },
     "execution_count": 28,
     "metadata": {},
     "output_type": "execute_result"
    }
   ],
   "source": [
    "test_4350 = CSV.read(\"data/parsed/test_4350.csv\");\n",
    "size(test_4350)"
   ]
  },
  {
   "cell_type": "code",
   "execution_count": 29,
   "metadata": {},
   "outputs": [],
   "source": [
    "test_pred = GLM.predict(test_model, test_4350);\n",
    "threshold = 0.5;\n",
    "test_pred[test_pred .>= threshold] .= 1.0;\n",
    "test_pred[test_pred .< threshold] .= 0.0;\n",
    "test_pred = convert(Array{Int}, trunc.(test_pred));"
   ]
  },
  {
   "cell_type": "code",
   "execution_count": 30,
   "metadata": {},
   "outputs": [],
   "source": [
    "pred_4350 = test_4350;\n",
    "pred_4350[!, :SURVERSE] = test_pred;"
   ]
  },
  {
   "cell_type": "code",
   "execution_count": 31,
   "metadata": {
    "scrolled": true
   },
   "outputs": [
    {
     "data": {
      "text/html": [
       "<table class=\"data-frame\"><thead><tr><th></th><th>DATE</th><th>SURVERSE</th><th>McTavish_sum</th></tr><tr><th></th><th>Date</th><th>Int64</th><th>Float64</th></tr></thead><tbody><p>5 rows × 3 columns</p><tr><th>1</th><td>2019-05-03</td><td>0</td><td>34.0</td></tr><tr><th>2</th><td>2019-05-04</td><td>0</td><td>2.0</td></tr><tr><th>3</th><td>2019-05-07</td><td>0</td><td>3.0</td></tr><tr><th>4</th><td>2019-05-08</td><td>0</td><td>0.0</td></tr><tr><th>5</th><td>2019-05-10</td><td>0</td><td>385.0</td></tr></tbody></table>"
      ],
      "text/latex": [
       "\\begin{tabular}{r|ccc}\n",
       "\t& DATE & SURVERSE & McTavish\\_sum\\\\\n",
       "\t\\hline\n",
       "\t& Date & Int64 & Float64\\\\\n",
       "\t\\hline\n",
       "\t1 & 2019-05-03 & 0 & 34.0 \\\\\n",
       "\t2 & 2019-05-04 & 0 & 2.0 \\\\\n",
       "\t3 & 2019-05-07 & 0 & 3.0 \\\\\n",
       "\t4 & 2019-05-08 & 0 & 0.0 \\\\\n",
       "\t5 & 2019-05-10 & 0 & 385.0 \\\\\n",
       "\\end{tabular}\n"
      ],
      "text/plain": [
       "5×3 DataFrame\n",
       "│ Row │ DATE       │ SURVERSE │ McTavish_sum │\n",
       "│     │ \u001b[90mDate\u001b[39m       │ \u001b[90mInt64\u001b[39m    │ \u001b[90mFloat64\u001b[39m      │\n",
       "├─────┼────────────┼──────────┼──────────────┤\n",
       "│ 1   │ 2019-05-03 │ 0        │ 34.0         │\n",
       "│ 2   │ 2019-05-04 │ 0        │ 2.0          │\n",
       "│ 3   │ 2019-05-07 │ 0        │ 3.0          │\n",
       "│ 4   │ 2019-05-08 │ 0        │ 0.0          │\n",
       "│ 5   │ 2019-05-10 │ 0        │ 385.0        │"
      ]
     },
     "execution_count": 31,
     "metadata": {},
     "output_type": "execute_result"
    }
   ],
   "source": [
    "first(pred_4350[!, [:DATE, :SURVERSE, :McTavish_sum]], 5)"
   ]
  },
  {
   "cell_type": "markdown",
   "metadata": {},
   "source": [
    "#### Random Forest"
   ]
  },
  {
   "cell_type": "code",
   "execution_count": null,
   "metadata": {},
   "outputs": [],
   "source": []
  },
  {
   "cell_type": "markdown",
   "metadata": {},
   "source": [
    "## Ouvrage 4380"
   ]
  },
  {
   "cell_type": "code",
   "execution_count": 32,
   "metadata": {},
   "outputs": [],
   "source": [
    "data_4380 = CSV.read(\"data/parsed/ouvrage_4380.csv\");\n",
    "train_set, val_set = partitionTrainTest(data_4380);"
   ]
  },
  {
   "cell_type": "markdown",
   "metadata": {},
   "source": [
    "#### GLM Train / Val"
   ]
  },
  {
   "cell_type": "code",
   "execution_count": 33,
   "metadata": {},
   "outputs": [
    {
     "data": {
      "text/plain": [
       "0.7027027027027027"
      ]
     },
     "execution_count": 33,
     "metadata": {},
     "output_type": "execute_result"
    }
   ],
   "source": [
    "val_model = glm(val_form, train_set, Bernoulli(), LogitLink())\n",
    "val_labels = val_set[!, :SURVERSE];\n",
    "val_pred = GLM.predict(val_model, val_set);\n",
    "\n",
    "threshold = 0.5;\n",
    "val_pred[val_pred .>= threshold] .= 1.0;\n",
    "val_pred[val_pred .< threshold] .= 0.0;\n",
    "val_pred = convert(Array{Int}, trunc.(val_pred));\n",
    "\n",
    "r = roc(val_labels, val_pred);\n",
    "f1score(r)"
   ]
  },
  {
   "cell_type": "markdown",
   "metadata": {},
   "source": [
    "#### GLM Submission"
   ]
  },
  {
   "cell_type": "code",
   "execution_count": 34,
   "metadata": {},
   "outputs": [],
   "source": [
    "test_model = glm(val_form, data_4380, Bernoulli(), LogitLink());"
   ]
  },
  {
   "cell_type": "code",
   "execution_count": 35,
   "metadata": {},
   "outputs": [
    {
     "data": {
      "text/plain": [
       "(54, 16)"
      ]
     },
     "execution_count": 35,
     "metadata": {},
     "output_type": "execute_result"
    }
   ],
   "source": [
    "test_4380 = CSV.read(\"data/parsed/test_4380.csv\");\n",
    "size(test_4380)"
   ]
  },
  {
   "cell_type": "code",
   "execution_count": 36,
   "metadata": {},
   "outputs": [],
   "source": [
    "test_pred = GLM.predict(test_model, test_4380);\n",
    "threshold = 0.5;\n",
    "test_pred[test_pred .>= threshold] .= 1.0;\n",
    "test_pred[test_pred .< threshold] .= 0.0;\n",
    "test_pred = convert(Array{Int}, trunc.(test_pred));"
   ]
  },
  {
   "cell_type": "code",
   "execution_count": 37,
   "metadata": {},
   "outputs": [],
   "source": [
    "pred_4380 = test_4380;\n",
    "pred_4380[!, :SURVERSE] = test_pred;"
   ]
  },
  {
   "cell_type": "code",
   "execution_count": 38,
   "metadata": {
    "scrolled": true
   },
   "outputs": [
    {
     "data": {
      "text/html": [
       "<table class=\"data-frame\"><thead><tr><th></th><th>DATE</th><th>SURVERSE</th><th>McTavish_sum</th></tr><tr><th></th><th>Date</th><th>Int64</th><th>Float64</th></tr></thead><tbody><p>5 rows × 3 columns</p><tr><th>1</th><td>2019-05-02</td><td>0</td><td>26.0</td></tr><tr><th>2</th><td>2019-05-04</td><td>0</td><td>2.0</td></tr><tr><th>3</th><td>2019-05-05</td><td>0</td><td>0.0</td></tr><tr><th>4</th><td>2019-05-06</td><td>0</td><td>0.0</td></tr><tr><th>5</th><td>2019-05-08</td><td>0</td><td>0.0</td></tr></tbody></table>"
      ],
      "text/latex": [
       "\\begin{tabular}{r|ccc}\n",
       "\t& DATE & SURVERSE & McTavish\\_sum\\\\\n",
       "\t\\hline\n",
       "\t& Date & Int64 & Float64\\\\\n",
       "\t\\hline\n",
       "\t1 & 2019-05-02 & 0 & 26.0 \\\\\n",
       "\t2 & 2019-05-04 & 0 & 2.0 \\\\\n",
       "\t3 & 2019-05-05 & 0 & 0.0 \\\\\n",
       "\t4 & 2019-05-06 & 0 & 0.0 \\\\\n",
       "\t5 & 2019-05-08 & 0 & 0.0 \\\\\n",
       "\\end{tabular}\n"
      ],
      "text/plain": [
       "5×3 DataFrame\n",
       "│ Row │ DATE       │ SURVERSE │ McTavish_sum │\n",
       "│     │ \u001b[90mDate\u001b[39m       │ \u001b[90mInt64\u001b[39m    │ \u001b[90mFloat64\u001b[39m      │\n",
       "├─────┼────────────┼──────────┼──────────────┤\n",
       "│ 1   │ 2019-05-02 │ 0        │ 26.0         │\n",
       "│ 2   │ 2019-05-04 │ 0        │ 2.0          │\n",
       "│ 3   │ 2019-05-05 │ 0        │ 0.0          │\n",
       "│ 4   │ 2019-05-06 │ 0        │ 0.0          │\n",
       "│ 5   │ 2019-05-08 │ 0        │ 0.0          │"
      ]
     },
     "execution_count": 38,
     "metadata": {},
     "output_type": "execute_result"
    }
   ],
   "source": [
    "first(pred_4380[!, [:DATE, :SURVERSE, :McTavish_sum]], 5)"
   ]
  },
  {
   "cell_type": "markdown",
   "metadata": {},
   "source": [
    "#### Random Forest"
   ]
  },
  {
   "cell_type": "code",
   "execution_count": null,
   "metadata": {},
   "outputs": [],
   "source": []
  },
  {
   "cell_type": "markdown",
   "metadata": {},
   "source": [
    "# Prédiction"
   ]
  },
  {
   "cell_type": "code",
   "execution_count": 50,
   "metadata": {},
   "outputs": [
    {
     "data": {
      "text/plain": [
       "(283, 3)"
      ]
     },
     "execution_count": 50,
     "metadata": {},
     "output_type": "execute_result"
    }
   ],
   "source": [
    "test_set = CSV.read(\"data/test.csv\");\n",
    "test_set[!, :SURVERSE] = zeros(size(test_set, 1));\n",
    "size(test_set)"
   ]
  },
  {
   "cell_type": "markdown",
   "metadata": {},
   "source": [
    "Pour chaque ligne de test_set\n",
    "\n",
    "    - On check l'ID de l'ouvrage pour savoir quel prediction load\n",
    "    - On va chercher la prediction à telle date pour cet ouvrage\n",
    "    - On le met à la ligne courante"
   ]
  },
  {
   "cell_type": "code",
   "execution_count": 56,
   "metadata": {},
   "outputs": [],
   "source": [
    "for i=1:size(test_set, 1)\n",
    "    curr_ouvrage = test_set[i, 1];\n",
    "    pred_to_use = nothing;\n",
    "    if curr_ouvrage == \"3260-01D\"\n",
    "        pred_to_use = pred_3260;\n",
    "#         println(\"3260-01D\");\n",
    "    elseif curr_ouvrage == \"3350-07D\"\n",
    "        pred_to_use = pred_3350;\n",
    "#         println(\"3350-07D\");\n",
    "    elseif curr_ouvrage == \"4240-01D\"\n",
    "        pred_to_use = pred_4240;\n",
    "#         println(\"4240-01D\");\n",
    "    elseif curr_ouvrage == \"4350-01D\"\n",
    "        pred_to_use = pred_4350;\n",
    "#         println(\"4350-01D\");\n",
    "    elseif curr_ouvrage == \"4380-01D\"\n",
    "#         println(\"4380-01D\");\n",
    "        pred_to_use = pred_4380;\n",
    "    end\n",
    "    \n",
    "    curr_date = test_set[i, :DATE];\n",
    "    pred_res = filter(row -> row.DATE == curr_date, pred_to_use);\n",
    "    \n",
    "    test_set[i, :SURVERSE] = pred_res[1, :SURVERSE];\n",
    "end"
   ]
  },
  {
   "cell_type": "code",
   "execution_count": 57,
   "metadata": {},
   "outputs": [
    {
     "data": {
      "text/html": [
       "<table class=\"data-frame\"><thead><tr><th></th><th>NO_OUVRAGE</th><th>DATE</th><th>SURVERSE</th></tr><tr><th></th><th>String</th><th>Date</th><th>Float64</th></tr></thead><tbody><p>10 rows × 3 columns</p><tr><th>1</th><td>3260-01D</td><td>2019-05-02</td><td>0.0</td></tr><tr><th>2</th><td>3260-01D</td><td>2019-05-09</td><td>0.0</td></tr><tr><th>3</th><td>3260-01D</td><td>2019-05-10</td><td>1.0</td></tr><tr><th>4</th><td>3260-01D</td><td>2019-05-15</td><td>0.0</td></tr><tr><th>5</th><td>3260-01D</td><td>2019-05-20</td><td>0.0</td></tr><tr><th>6</th><td>3260-01D</td><td>2019-05-23</td><td>1.0</td></tr><tr><th>7</th><td>3260-01D</td><td>2019-05-24</td><td>0.0</td></tr><tr><th>8</th><td>3260-01D</td><td>2019-05-26</td><td>0.0</td></tr><tr><th>9</th><td>3260-01D</td><td>2019-05-30</td><td>0.0</td></tr><tr><th>10</th><td>3350-07D</td><td>2019-05-01</td><td>1.0</td></tr></tbody></table>"
      ],
      "text/latex": [
       "\\begin{tabular}{r|ccc}\n",
       "\t& NO\\_OUVRAGE & DATE & SURVERSE\\\\\n",
       "\t\\hline\n",
       "\t& String & Date & Float64\\\\\n",
       "\t\\hline\n",
       "\t1 & 3260-01D & 2019-05-02 & 0.0 \\\\\n",
       "\t2 & 3260-01D & 2019-05-09 & 0.0 \\\\\n",
       "\t3 & 3260-01D & 2019-05-10 & 1.0 \\\\\n",
       "\t4 & 3260-01D & 2019-05-15 & 0.0 \\\\\n",
       "\t5 & 3260-01D & 2019-05-20 & 0.0 \\\\\n",
       "\t6 & 3260-01D & 2019-05-23 & 1.0 \\\\\n",
       "\t7 & 3260-01D & 2019-05-24 & 0.0 \\\\\n",
       "\t8 & 3260-01D & 2019-05-26 & 0.0 \\\\\n",
       "\t9 & 3260-01D & 2019-05-30 & 0.0 \\\\\n",
       "\t10 & 3350-07D & 2019-05-01 & 1.0 \\\\\n",
       "\\end{tabular}\n"
      ],
      "text/plain": [
       "10×3 DataFrame\n",
       "│ Row │ NO_OUVRAGE │ DATE       │ SURVERSE │\n",
       "│     │ \u001b[90mString\u001b[39m     │ \u001b[90mDate\u001b[39m       │ \u001b[90mFloat64\u001b[39m  │\n",
       "├─────┼────────────┼────────────┼──────────┤\n",
       "│ 1   │ 3260-01D   │ 2019-05-02 │ 0.0      │\n",
       "│ 2   │ 3260-01D   │ 2019-05-09 │ 0.0      │\n",
       "│ 3   │ 3260-01D   │ 2019-05-10 │ 1.0      │\n",
       "│ 4   │ 3260-01D   │ 2019-05-15 │ 0.0      │\n",
       "│ 5   │ 3260-01D   │ 2019-05-20 │ 0.0      │\n",
       "│ 6   │ 3260-01D   │ 2019-05-23 │ 1.0      │\n",
       "│ 7   │ 3260-01D   │ 2019-05-24 │ 0.0      │\n",
       "│ 8   │ 3260-01D   │ 2019-05-26 │ 0.0      │\n",
       "│ 9   │ 3260-01D   │ 2019-05-30 │ 0.0      │\n",
       "│ 10  │ 3350-07D   │ 2019-05-01 │ 1.0      │"
      ]
     },
     "execution_count": 57,
     "metadata": {},
     "output_type": "execute_result"
    }
   ],
   "source": [
    "first(test_set, 10)"
   ]
  },
  {
   "cell_type": "code",
   "execution_count": 59,
   "metadata": {},
   "outputs": [
    {
     "data": {
      "text/plain": [
       "\"submissions/mc-submission-17.csv\""
      ]
     },
     "execution_count": 59,
     "metadata": {},
     "output_type": "execute_result"
    }
   ],
   "source": [
    "ID = test_set[:,:NO_OUVRAGE].*\"_\".*string.(test_set[:,:DATE])\n",
    "sampleSubmission = DataFrame(ID = ID, Surverse=test_set[:, :SURVERSE])\n",
    "CSV.write(\"submissions/mc-submission-17.csv\",sampleSubmission)"
   ]
  }
 ],
 "metadata": {
  "kernelspec": {
   "display_name": "Julia 1.2.0",
   "language": "julia",
   "name": "julia-1.2"
  },
  "language_info": {
   "file_extension": ".jl",
   "mimetype": "application/julia",
   "name": "julia",
   "version": "1.0.5"
  }
 },
 "nbformat": 4,
 "nbformat_minor": 2
}
