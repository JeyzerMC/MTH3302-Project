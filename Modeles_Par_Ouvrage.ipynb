{
 "cells": [
  {
   "cell_type": "code",
   "execution_count": 1,
   "metadata": {},
   "outputs": [],
   "source": [
    "using CSV, DataFrames, GLM, Statistics, Dates, Gadfly, Random, MLBase, DecisionTree;\n",
    "include(\"utils/precipitation.jl\");"
   ]
  },
  {
   "cell_type": "markdown",
   "metadata": {},
   "source": [
    "On garde les ouvrages d'intérêt."
   ]
  },
  {
   "cell_type": "code",
   "execution_count": 11,
   "metadata": {},
   "outputs": [],
   "source": [
    "ouvrages = CSV.read(\"data/ouvrages-surverses.csv\");\n",
    "colnames = [\"N_Env\", \"ID_SOMA\", \"ID_OUVRAGE\", \"NOM\", \"SOMA_SEC\", \"REGION\", \"TP_X\", \"TP_Y\", \"TP_Z\", \"TP_LAT\", \"TP_LNG\", \"EMI_X\", \"EMI_Y\", \"EMI_LNG\", \"EMI_LAT\"];\n",
    "names!(ouvrages, Symbol.(colnames));\n",
    "select!(ouvrages, [:ID_OUVRAGE, :TP_LAT, :TP_LNG, :TP_Z]);\n",
    "ouvrages.TP_Z = coalesce.(ouvrages.TP_Z, mean(ouvrages[completecases(ouvrages), :].TP_Z));"
   ]
  },
  {
   "cell_type": "code",
   "execution_count": 12,
   "metadata": {},
   "outputs": [
    {
     "data": {
      "text/plain": [
       "(167, 4)"
      ]
     },
     "execution_count": 12,
     "metadata": {},
     "output_type": "execute_result"
    }
   ],
   "source": [
    "size(ouvrages)"
   ]
  },
  {
   "cell_type": "code",
   "execution_count": 13,
   "metadata": {},
   "outputs": [],
   "source": [
    "important_ouvrages = [\"3260-01D\", \"3350-07D\", \"4240-01D\", \"4350-01D\", \"4380-01D\"];\n",
    "ouvrages = filter(row -> row.ID_OUVRAGE ∈ important_ouvrages, ouvrages);"
   ]
  },
  {
   "cell_type": "code",
   "execution_count": 14,
   "metadata": {},
   "outputs": [
    {
     "data": {
      "text/html": [
       "<table class=\"data-frame\"><thead><tr><th></th><th>ID_OUVRAGE</th><th>TP_LAT</th><th>TP_LNG</th><th>TP_Z</th></tr><tr><th></th><th>String</th><th>Float64</th><th>Float64</th><th>Float64</th></tr></thead><tbody><p>5 rows × 4 columns</p><tr><th>1</th><td>3260-01D</td><td>45.6507</td><td>-73.5803</td><td>20.17</td></tr><tr><th>2</th><td>3350-07D</td><td>45.5461</td><td>-73.6921</td><td>20.75</td></tr><tr><th>3</th><td>4240-01D</td><td>45.6497</td><td>-73.4877</td><td>11.91</td></tr><tr><th>4</th><td>4350-01D</td><td>45.4991</td><td>-73.555</td><td>19.3526</td></tr><tr><th>5</th><td>4380-01D</td><td>45.4677</td><td>-73.5637</td><td>19.3526</td></tr></tbody></table>"
      ],
      "text/latex": [
       "\\begin{tabular}{r|cccc}\n",
       "\t& ID\\_OUVRAGE & TP\\_LAT & TP\\_LNG & TP\\_Z\\\\\n",
       "\t\\hline\n",
       "\t& String & Float64 & Float64 & Float64\\\\\n",
       "\t\\hline\n",
       "\t1 & 3260-01D & 45.6507 & -73.5803 & 20.17 \\\\\n",
       "\t2 & 3350-07D & 45.5461 & -73.6921 & 20.75 \\\\\n",
       "\t3 & 4240-01D & 45.6497 & -73.4877 & 11.91 \\\\\n",
       "\t4 & 4350-01D & 45.4991 & -73.555 & 19.3526 \\\\\n",
       "\t5 & 4380-01D & 45.4677 & -73.5637 & 19.3526 \\\\\n",
       "\\end{tabular}\n"
      ],
      "text/plain": [
       "5×4 DataFrame\n",
       "│ Row │ ID_OUVRAGE │ TP_LAT  │ TP_LNG   │ TP_Z    │\n",
       "│     │ \u001b[90mString\u001b[39m     │ \u001b[90mFloat64\u001b[39m │ \u001b[90mFloat64\u001b[39m  │ \u001b[90mFloat64\u001b[39m │\n",
       "├─────┼────────────┼─────────┼──────────┼─────────┤\n",
       "│ 1   │ 3260-01D   │ 45.6507 │ -73.5803 │ 20.17   │\n",
       "│ 2   │ 3350-07D   │ 45.5461 │ -73.6921 │ 20.75   │\n",
       "│ 3   │ 4240-01D   │ 45.6497 │ -73.4877 │ 11.91   │\n",
       "│ 4   │ 4350-01D   │ 45.4991 │ -73.555  │ 19.3526 │\n",
       "│ 5   │ 4380-01D   │ 45.4677 │ -73.5637 │ 19.3526 │"
      ]
     },
     "execution_count": 14,
     "metadata": {},
     "output_type": "execute_result"
    }
   ],
   "source": [
    "first(ouvrages, 5)"
   ]
  },
  {
   "cell_type": "code",
   "execution_count": 197,
   "metadata": {},
   "outputs": [],
   "source": [
    "surverses = CSV.read(\"data/surverses.csv\", missingstring=\"-99999\");\n",
    "surverses = filter(row -> month(row.DATE) > 4, surverses);\n",
    "surverses = filter(row -> month(row.DATE) < 11, surverses);\n",
    "surverses[!,:RAISON] = coalesce.(surverses[:,:RAISON],\"Inconnue\");\n",
    "\n",
    "surverses = filter(row -> row.RAISON ∈ [\"P\",\"Inconnue\",\"TS\"], surverses);\n",
    "select!(surverses, [:NO_OUVRAGE, :DATE, :SURVERSE]);\n",
    "rename!(surverses, :NO_OUVRAGE => :ID_OUVRAGE);"
   ]
  },
  {
   "cell_type": "code",
   "execution_count": 198,
   "metadata": {},
   "outputs": [],
   "source": [
    "surverses = filter(row -> row.ID_OUVRAGE ∈ important_ouvrages, surverses);\n",
    "dropmissing!(surverses);"
   ]
  },
  {
   "cell_type": "code",
   "execution_count": 199,
   "metadata": {},
   "outputs": [
    {
     "name": "stdout",
     "output_type": "stream",
     "text": [
      "Summary Stats:\n",
      "Length:         5129\n",
      "Missing Count:  0\n",
      "Mean:           0.085202\n",
      "Minimum:        0.000000\n",
      "1st Quartile:   0.000000\n",
      "Median:         0.000000\n",
      "3rd Quartile:   0.000000\n",
      "Maximum:        1.000000\n",
      "Type:           Int64\n"
     ]
    }
   ],
   "source": [
    "describe(surverses[!, :SURVERSE])"
   ]
  },
  {
   "cell_type": "code",
   "execution_count": 200,
   "metadata": {},
   "outputs": [
    {
     "name": "stdout",
     "output_type": "stream",
     "text": [
      "Summary Stats:\n",
      "Length:         1100\n",
      "Missing Count:  0\n",
      "Mean:           0.062727\n",
      "Minimum:        0.000000\n",
      "1st Quartile:   0.000000\n",
      "Median:         0.000000\n",
      "3rd Quartile:   0.000000\n",
      "Maximum:        1.000000\n",
      "Type:           Int64\n"
     ]
    }
   ],
   "source": [
    "curr = filter(row -> row.ID_OUVRAGE == important_ouvrages[3], surverses);\n",
    "describe(curr[!, :SURVERSE])"
   ]
  },
  {
   "cell_type": "markdown",
   "metadata": {},
   "source": [
    "Le mean correspond au taux de surverses ici -> Beaucoup plus de non surverses que de surverses"
   ]
  },
  {
   "cell_type": "markdown",
   "metadata": {},
   "source": [
    "### Beaucoup plus de 0 que de 1 -> Class imbalance problem\n",
    "On le solve avec du over sampling de 1 et du under sampling de 0, plus tard"
   ]
  },
  {
   "cell_type": "markdown",
   "metadata": {},
   "source": [
    "## Précipitations"
   ]
  },
  {
   "cell_type": "code",
   "execution_count": 84,
   "metadata": {},
   "outputs": [
    {
     "data": {
      "text/plain": [
       "7-element Array{Symbol,1}:\n",
       " :date      \n",
       " :heure     \n",
       " :McTavish  \n",
       " :Bellevue  \n",
       " :Assomption\n",
       " :Trudeau   \n",
       " :StHubert  "
      ]
     },
     "execution_count": 84,
     "metadata": {},
     "output_type": "execute_result"
    }
   ],
   "source": [
    "precipitations = CSV.read(\"data/precipitations.csv\",missingstring=\"-99999\");\n",
    "rename!(precipitations, Symbol(\"St-Hubert\")=>:StHubert);\n",
    "\n",
    "precipitations = filter(row -> month(row.date) > 4, precipitations);\n",
    "precipitations = filter(row -> month(row.date) < 11, precipitations); \n",
    "names(precipitations)"
   ]
  },
  {
   "cell_type": "code",
   "execution_count": 88,
   "metadata": {},
   "outputs": [
    {
     "name": "stdout",
     "output_type": "stream",
     "text": [
      "Summary Stats:\n",
      "Length:         30912\n",
      "Missing Count:  5206\n",
      "Mean:           1.223683\n",
      "Minimum:        0.000000\n",
      "1st Quartile:   0.000000\n",
      "Median:         0.000000\n",
      "3rd Quartile:   0.000000\n",
      "Maximum:        307.000000\n",
      "Type:           Union{Missing, Int64}\n"
     ]
    }
   ],
   "source": [
    "describe(precipitations[!, :StHubert])"
   ]
  },
  {
   "cell_type": "markdown",
   "metadata": {},
   "source": [
    "#### On garde juste les précipitations pour les dates dont on a les données de surverses"
   ]
  },
  {
   "cell_type": "code",
   "execution_count": 161,
   "metadata": {},
   "outputs": [],
   "source": [
    "dates_a_retenir = unique(surverses[!, :DATE]);\n",
    "precipitations = filter(row -> row.date ∈ dates_a_retenir, precipitations);"
   ]
  },
  {
   "cell_type": "code",
   "execution_count": 162,
   "metadata": {},
   "outputs": [],
   "source": [
    "precipitation_by_day = by(precipitations, :date,  \n",
    "                            McTavish = :McTavish=>mean_wo_missing, \n",
    "                            Bellevue = :Bellevue=>mean_wo_missing, \n",
    "                            Assomption = :Assomption=>mean_wo_missing,\n",
    "                            Trudeau = :Trudeau=>mean_wo_missing,\n",
    "                            StHubert = :StHubert=>mean_wo_missing)\n",
    "\n",
    "for i=1:size(precipitations,1)\n",
    "    if isequal(precipitations[i, :McTavish], missing)\n",
    "        precipitations[i,:McTavish] = filter(row-> row.date == precipitations[i,:date], precipitation_by_day)[!,:McTavish][1]\n",
    "    end\n",
    "    if isequal(precipitations[i, :Bellevue], missing)\n",
    "        precipitations[i,:Bellevue] = filter(row-> row.date == precipitations[i,:date], precipitation_by_day)[!,:Bellevue][1]\n",
    "    end\n",
    "    if isequal(precipitations[i, :Assomption], missing)\n",
    "        precipitations[i,:Assomption] = filter(row-> row.date == precipitations[i,:date], precipitation_by_day)[!,:Assomption][1]\n",
    "    end\n",
    "    if isequal(precipitations[i, :Trudeau], missing)\n",
    "        precipitations[i,:Trudeau] = filter(row-> row.date == precipitations[i,:date], precipitation_by_day)[!,:Trudeau][1]\n",
    "    end\n",
    "    if isequal(precipitations[i, :StHubert], missing)\n",
    "        precipitations[i,:StHubert] = filter(row-> row.date == precipitations[i,:date], precipitation_by_day)[!,:StHubert][1]\n",
    "    end\n",
    "end"
   ]
  },
  {
   "cell_type": "code",
   "execution_count": 163,
   "metadata": {},
   "outputs": [
    {
     "name": "stdout",
     "output_type": "stream",
     "text": [
      "Summary Stats:\n",
      "Length:         26496\n",
      "Missing Count:  0\n",
      "Mean:           0.944067\n",
      "Minimum:        0.000000\n",
      "1st Quartile:   0.000000\n",
      "Median:         0.000000\n",
      "3rd Quartile:   0.000000\n",
      "Maximum:        231.000000\n",
      "Type:           Union{Missing, Int64}\n"
     ]
    }
   ],
   "source": [
    "describe(precipitations[!, :StHubert])"
   ]
  },
  {
   "cell_type": "code",
   "execution_count": 164,
   "metadata": {},
   "outputs": [
    {
     "data": {
      "text/html": [
       "<table class=\"data-frame\"><thead><tr><th></th><th>date</th><th>heure</th><th>McTavish</th><th>Bellevue</th><th>Assomption</th><th>Trudeau</th><th>StHubert</th></tr><tr><th></th><th>Date</th><th>Int64</th><th>Int64⍰</th><th>Int64⍰</th><th>Int64⍰</th><th>Int64⍰</th><th>Int64⍰</th></tr></thead><tbody><p>10 rows × 7 columns</p><tr><th>1</th><td>2017-05-24</td><td>2</td><td>0</td><td>0</td><td>0</td><td>0</td><td>0</td></tr><tr><th>2</th><td>2016-05-15</td><td>13</td><td>0</td><td>0</td><td>0</td><td>0</td><td>0</td></tr><tr><th>3</th><td>2013-08-01</td><td>21</td><td>10</td><td>0</td><td>0</td><td>0</td><td>0</td></tr><tr><th>4</th><td>2017-10-05</td><td>0</td><td>0</td><td>0</td><td>0</td><td>0</td><td>0</td></tr><tr><th>5</th><td>2017-10-19</td><td>12</td><td>0</td><td>0</td><td>0</td><td>0</td><td>0</td></tr><tr><th>6</th><td>2013-08-20</td><td>16</td><td>0</td><td>0</td><td>0</td><td>0</td><td>0</td></tr><tr><th>7</th><td>2014-07-19</td><td>12</td><td>0</td><td>0</td><td>0</td><td>0</td><td>0</td></tr><tr><th>8</th><td>2018-07-06</td><td>11</td><td>0</td><td>0</td><td>0</td><td>0</td><td>0</td></tr><tr><th>9</th><td>2013-09-10</td><td>8</td><td>0</td><td>0</td><td>0</td><td>0</td><td>0</td></tr><tr><th>10</th><td>2014-07-18</td><td>6</td><td>0</td><td>0</td><td>0</td><td>0</td><td>0</td></tr></tbody></table>"
      ],
      "text/latex": [
       "\\begin{tabular}{r|ccccccc}\n",
       "\t& date & heure & McTavish & Bellevue & Assomption & Trudeau & StHubert\\\\\n",
       "\t\\hline\n",
       "\t& Date & Int64 & Int64⍰ & Int64⍰ & Int64⍰ & Int64⍰ & Int64⍰\\\\\n",
       "\t\\hline\n",
       "\t1 & 2017-05-24 & 2 & 0 & 0 & 0 & 0 & 0 \\\\\n",
       "\t2 & 2016-05-15 & 13 & 0 & 0 & 0 & 0 & 0 \\\\\n",
       "\t3 & 2013-08-01 & 21 & 10 & 0 & 0 & 0 & 0 \\\\\n",
       "\t4 & 2017-10-05 & 0 & 0 & 0 & 0 & 0 & 0 \\\\\n",
       "\t5 & 2017-10-19 & 12 & 0 & 0 & 0 & 0 & 0 \\\\\n",
       "\t6 & 2013-08-20 & 16 & 0 & 0 & 0 & 0 & 0 \\\\\n",
       "\t7 & 2014-07-19 & 12 & 0 & 0 & 0 & 0 & 0 \\\\\n",
       "\t8 & 2018-07-06 & 11 & 0 & 0 & 0 & 0 & 0 \\\\\n",
       "\t9 & 2013-09-10 & 8 & 0 & 0 & 0 & 0 & 0 \\\\\n",
       "\t10 & 2014-07-18 & 6 & 0 & 0 & 0 & 0 & 0 \\\\\n",
       "\\end{tabular}\n"
      ],
      "text/plain": [
       "10×7 DataFrame. Omitted printing of 1 columns\n",
       "│ Row │ date       │ heure │ McTavish │ Bellevue │ Assomption │ Trudeau │\n",
       "│     │ \u001b[90mDate\u001b[39m       │ \u001b[90mInt64\u001b[39m │ \u001b[90mInt64⍰\u001b[39m   │ \u001b[90mInt64⍰\u001b[39m   │ \u001b[90mInt64⍰\u001b[39m     │ \u001b[90mInt64⍰\u001b[39m  │\n",
       "├─────┼────────────┼───────┼──────────┼──────────┼────────────┼─────────┤\n",
       "│ 1   │ 2017-05-24 │ 2     │ 0        │ 0        │ 0          │ 0       │\n",
       "│ 2   │ 2016-05-15 │ 13    │ 0        │ 0        │ 0          │ 0       │\n",
       "│ 3   │ 2013-08-01 │ 21    │ 10       │ 0        │ 0          │ 0       │\n",
       "│ 4   │ 2017-10-05 │ 0     │ 0        │ 0        │ 0          │ 0       │\n",
       "│ 5   │ 2017-10-19 │ 12    │ 0        │ 0        │ 0          │ 0       │\n",
       "│ 6   │ 2013-08-20 │ 16    │ 0        │ 0        │ 0          │ 0       │\n",
       "│ 7   │ 2014-07-19 │ 12    │ 0        │ 0        │ 0          │ 0       │\n",
       "│ 8   │ 2018-07-06 │ 11    │ 0        │ 0        │ 0          │ 0       │\n",
       "│ 9   │ 2013-09-10 │ 8     │ 0        │ 0        │ 0          │ 0       │\n",
       "│ 10  │ 2014-07-18 │ 6     │ 0        │ 0        │ 0          │ 0       │"
      ]
     },
     "execution_count": 164,
     "metadata": {},
     "output_type": "execute_result"
    }
   ],
   "source": [
    "first(shuffleDf(precipitations), 10)"
   ]
  },
  {
   "cell_type": "code",
   "execution_count": 165,
   "metadata": {},
   "outputs": [],
   "source": [
    "pcp_sum = by(precipitations, :date,  \n",
    "            McTavish = :McTavish=>sum, \n",
    "            Bellevue = :Bellevue=>sum,\n",
    "            Assomption = :Assomption=>sum, \n",
    "            Trudeau = :Trudeau=>sum, \n",
    "            StHubert = :StHubert=>sum);"
   ]
  },
  {
   "cell_type": "code",
   "execution_count": 166,
   "metadata": {},
   "outputs": [
    {
     "data": {
      "text/html": [
       "<table class=\"data-frame\"><thead><tr><th></th><th>date</th><th>McTavish</th><th>Bellevue</th><th>Assomption</th><th>Trudeau</th><th>StHubert</th></tr><tr><th></th><th>Date</th><th>Int64</th><th>Int64</th><th>Int64</th><th>Int64</th><th>Int64</th></tr></thead><tbody><p>5 rows × 6 columns</p><tr><th>1</th><td>2018-08-20</td><td>2</td><td>0</td><td>16</td><td>0</td><td>0</td></tr><tr><th>2</th><td>2017-08-29</td><td>2</td><td>0</td><td>0</td><td>0</td><td>0</td></tr><tr><th>3</th><td>2017-09-04</td><td>16</td><td>22</td><td>30</td><td>15</td><td>19</td></tr><tr><th>4</th><td>2018-10-17</td><td>0</td><td>0</td><td>0</td><td>0</td><td>2</td></tr><tr><th>5</th><td>2013-09-11</td><td>52</td><td>98</td><td>80</td><td>53</td><td>0</td></tr></tbody></table>"
      ],
      "text/latex": [
       "\\begin{tabular}{r|cccccc}\n",
       "\t& date & McTavish & Bellevue & Assomption & Trudeau & StHubert\\\\\n",
       "\t\\hline\n",
       "\t& Date & Int64 & Int64 & Int64 & Int64 & Int64\\\\\n",
       "\t\\hline\n",
       "\t1 & 2018-08-20 & 2 & 0 & 16 & 0 & 0 \\\\\n",
       "\t2 & 2017-08-29 & 2 & 0 & 0 & 0 & 0 \\\\\n",
       "\t3 & 2017-09-04 & 16 & 22 & 30 & 15 & 19 \\\\\n",
       "\t4 & 2018-10-17 & 0 & 0 & 0 & 0 & 2 \\\\\n",
       "\t5 & 2013-09-11 & 52 & 98 & 80 & 53 & 0 \\\\\n",
       "\\end{tabular}\n"
      ],
      "text/plain": [
       "5×6 DataFrame\n",
       "│ Row │ date       │ McTavish │ Bellevue │ Assomption │ Trudeau │ StHubert │\n",
       "│     │ \u001b[90mDate\u001b[39m       │ \u001b[90mInt64\u001b[39m    │ \u001b[90mInt64\u001b[39m    │ \u001b[90mInt64\u001b[39m      │ \u001b[90mInt64\u001b[39m   │ \u001b[90mInt64\u001b[39m    │\n",
       "├─────┼────────────┼──────────┼──────────┼────────────┼─────────┼──────────┤\n",
       "│ 1   │ 2018-08-20 │ 2        │ 0        │ 16         │ 0       │ 0        │\n",
       "│ 2   │ 2017-08-29 │ 2        │ 0        │ 0          │ 0       │ 0        │\n",
       "│ 3   │ 2017-09-04 │ 16       │ 22       │ 30         │ 15      │ 19       │\n",
       "│ 4   │ 2018-10-17 │ 0        │ 0        │ 0          │ 0       │ 2        │\n",
       "│ 5   │ 2013-09-11 │ 52       │ 98       │ 80         │ 53      │ 0        │"
      ]
     },
     "execution_count": 166,
     "metadata": {},
     "output_type": "execute_result"
    }
   ],
   "source": [
    "first(shuffleDf(pcp_sum), 5)"
   ]
  },
  {
   "cell_type": "code",
   "execution_count": 167,
   "metadata": {},
   "outputs": [],
   "source": [
    "pcp_max = by(precipitations, :date,  \n",
    "            McTavish = :McTavish=>maximum,\n",
    "            Bellevue = :Bellevue=>maximum, \n",
    "            Assomption = :Assomption=>maximum,\n",
    "            Trudeau = :Trudeau=>maximum,\n",
    "            StHubert = :StHubert=>maximum);"
   ]
  },
  {
   "cell_type": "code",
   "execution_count": 168,
   "metadata": {},
   "outputs": [
    {
     "data": {
      "text/html": [
       "<table class=\"data-frame\"><thead><tr><th></th><th>date</th><th>McTavish</th><th>Bellevue</th><th>Assomption</th><th>Trudeau</th><th>StHubert</th></tr><tr><th></th><th>Date</th><th>Int64</th><th>Int64</th><th>Int64</th><th>Int64</th><th>Int64</th></tr></thead><tbody><p>5 rows × 6 columns</p><tr><th>1</th><td>2018-07-29</td><td>0</td><td>0</td><td>7</td><td>0</td><td>0</td></tr><tr><th>2</th><td>2018-05-28</td><td>6</td><td>0</td><td>36</td><td>9</td><td>58</td></tr><tr><th>3</th><td>2018-06-13</td><td>15</td><td>30</td><td>64</td><td>11</td><td>12</td></tr><tr><th>4</th><td>2015-06-03</td><td>0</td><td>2</td><td>0</td><td>0</td><td>0</td></tr><tr><th>5</th><td>2018-05-09</td><td>0</td><td>0</td><td>9</td><td>0</td><td>0</td></tr></tbody></table>"
      ],
      "text/latex": [
       "\\begin{tabular}{r|cccccc}\n",
       "\t& date & McTavish & Bellevue & Assomption & Trudeau & StHubert\\\\\n",
       "\t\\hline\n",
       "\t& Date & Int64 & Int64 & Int64 & Int64 & Int64\\\\\n",
       "\t\\hline\n",
       "\t1 & 2018-07-29 & 0 & 0 & 7 & 0 & 0 \\\\\n",
       "\t2 & 2018-05-28 & 6 & 0 & 36 & 9 & 58 \\\\\n",
       "\t3 & 2018-06-13 & 15 & 30 & 64 & 11 & 12 \\\\\n",
       "\t4 & 2015-06-03 & 0 & 2 & 0 & 0 & 0 \\\\\n",
       "\t5 & 2018-05-09 & 0 & 0 & 9 & 0 & 0 \\\\\n",
       "\\end{tabular}\n"
      ],
      "text/plain": [
       "5×6 DataFrame\n",
       "│ Row │ date       │ McTavish │ Bellevue │ Assomption │ Trudeau │ StHubert │\n",
       "│     │ \u001b[90mDate\u001b[39m       │ \u001b[90mInt64\u001b[39m    │ \u001b[90mInt64\u001b[39m    │ \u001b[90mInt64\u001b[39m      │ \u001b[90mInt64\u001b[39m   │ \u001b[90mInt64\u001b[39m    │\n",
       "├─────┼────────────┼──────────┼──────────┼────────────┼─────────┼──────────┤\n",
       "│ 1   │ 2018-07-29 │ 0        │ 0        │ 7          │ 0       │ 0        │\n",
       "│ 2   │ 2018-05-28 │ 6        │ 0        │ 36         │ 9       │ 58       │\n",
       "│ 3   │ 2018-06-13 │ 15       │ 30       │ 64         │ 11      │ 12       │\n",
       "│ 4   │ 2015-06-03 │ 0        │ 2        │ 0          │ 0       │ 0        │\n",
       "│ 5   │ 2018-05-09 │ 0        │ 0        │ 9          │ 0       │ 0        │"
      ]
     },
     "execution_count": 168,
     "metadata": {},
     "output_type": "execute_result"
    }
   ],
   "source": [
    "first(shuffleDf(pcp_max), 5)"
   ]
  },
  {
   "cell_type": "code",
   "execution_count": 169,
   "metadata": {},
   "outputs": [],
   "source": [
    "pcp_max3 = by(precipitations, :date,\n",
    "                McTavish = :McTavish=>maximum3,\n",
    "                Bellevue = :Bellevue=>maximum3,\n",
    "                Assomption = :Assomption=>maximum3,\n",
    "                Trudeau = :Trudeau=>maximum3,\n",
    "                StHubert = :StHubert=>maximum3);"
   ]
  },
  {
   "cell_type": "code",
   "execution_count": 170,
   "metadata": {},
   "outputs": [
    {
     "data": {
      "text/html": [
       "<table class=\"data-frame\"><thead><tr><th></th><th>date</th><th>McTavish</th><th>Bellevue</th><th>Assomption</th><th>Trudeau</th><th>StHubert</th></tr><tr><th></th><th>Date</th><th>Int64</th><th>Int64</th><th>Int64</th><th>Int64</th><th>Int64</th></tr></thead><tbody><p>5 rows × 6 columns</p><tr><th>1</th><td>2014-06-17</td><td>0</td><td>175</td><td>78</td><td>150</td><td>113</td></tr><tr><th>2</th><td>2018-08-11</td><td>0</td><td>0</td><td>10</td><td>0</td><td>0</td></tr><tr><th>3</th><td>2013-05-04</td><td>0</td><td>0</td><td>0</td><td>0</td><td>0</td></tr><tr><th>4</th><td>2013-06-22</td><td>44</td><td>49</td><td>40</td><td>52</td><td>0</td></tr><tr><th>5</th><td>2016-08-11</td><td>0</td><td>0</td><td>0</td><td>0</td><td>0</td></tr></tbody></table>"
      ],
      "text/latex": [
       "\\begin{tabular}{r|cccccc}\n",
       "\t& date & McTavish & Bellevue & Assomption & Trudeau & StHubert\\\\\n",
       "\t\\hline\n",
       "\t& Date & Int64 & Int64 & Int64 & Int64 & Int64\\\\\n",
       "\t\\hline\n",
       "\t1 & 2014-06-17 & 0 & 175 & 78 & 150 & 113 \\\\\n",
       "\t2 & 2018-08-11 & 0 & 0 & 10 & 0 & 0 \\\\\n",
       "\t3 & 2013-05-04 & 0 & 0 & 0 & 0 & 0 \\\\\n",
       "\t4 & 2013-06-22 & 44 & 49 & 40 & 52 & 0 \\\\\n",
       "\t5 & 2016-08-11 & 0 & 0 & 0 & 0 & 0 \\\\\n",
       "\\end{tabular}\n"
      ],
      "text/plain": [
       "5×6 DataFrame\n",
       "│ Row │ date       │ McTavish │ Bellevue │ Assomption │ Trudeau │ StHubert │\n",
       "│     │ \u001b[90mDate\u001b[39m       │ \u001b[90mInt64\u001b[39m    │ \u001b[90mInt64\u001b[39m    │ \u001b[90mInt64\u001b[39m      │ \u001b[90mInt64\u001b[39m   │ \u001b[90mInt64\u001b[39m    │\n",
       "├─────┼────────────┼──────────┼──────────┼────────────┼─────────┼──────────┤\n",
       "│ 1   │ 2014-06-17 │ 0        │ 175      │ 78         │ 150     │ 113      │\n",
       "│ 2   │ 2018-08-11 │ 0        │ 0        │ 10         │ 0       │ 0        │\n",
       "│ 3   │ 2013-05-04 │ 0        │ 0        │ 0          │ 0       │ 0        │\n",
       "│ 4   │ 2013-06-22 │ 44       │ 49       │ 40         │ 52      │ 0        │\n",
       "│ 5   │ 2016-08-11 │ 0        │ 0        │ 0          │ 0       │ 0        │"
      ]
     },
     "execution_count": 170,
     "metadata": {},
     "output_type": "execute_result"
    }
   ],
   "source": [
    "first(shuffleDf(pcp_max3), 5)"
   ]
  },
  {
   "cell_type": "code",
   "execution_count": 171,
   "metadata": {},
   "outputs": [
    {
     "data": {
      "text/html": [
       "<table class=\"data-frame\"><thead><tr><th></th><th>STATION</th><th>LAT</th><th>LNG</th></tr><tr><th></th><th>String</th><th>Float64</th><th>Float64</th></tr></thead><tbody><p>5 rows × 3 columns</p><tr><th>1</th><td>McTavish</td><td>45.5047</td><td>-73.5792</td></tr><tr><th>2</th><td>Bellevue</td><td>45.4272</td><td>-73.9292</td></tr><tr><th>3</th><td>Assomption</td><td>45.8094</td><td>-73.4347</td></tr><tr><th>4</th><td>Trudeau</td><td>45.4678</td><td>-73.7417</td></tr><tr><th>5</th><td>StHubert</td><td>45.5175</td><td>-73.4169</td></tr></tbody></table>"
      ],
      "text/latex": [
       "\\begin{tabular}{r|ccc}\n",
       "\t& STATION & LAT & LNG\\\\\n",
       "\t\\hline\n",
       "\t& String & Float64 & Float64\\\\\n",
       "\t\\hline\n",
       "\t1 & McTavish & 45.5047 & -73.5792 \\\\\n",
       "\t2 & Bellevue & 45.4272 & -73.9292 \\\\\n",
       "\t3 & Assomption & 45.8094 & -73.4347 \\\\\n",
       "\t4 & Trudeau & 45.4678 & -73.7417 \\\\\n",
       "\t5 & StHubert & 45.5175 & -73.4169 \\\\\n",
       "\\end{tabular}\n"
      ],
      "text/plain": [
       "5×3 DataFrame\n",
       "│ Row │ STATION    │ LAT     │ LNG      │\n",
       "│     │ \u001b[90mString\u001b[39m     │ \u001b[90mFloat64\u001b[39m │ \u001b[90mFloat64\u001b[39m  │\n",
       "├─────┼────────────┼─────────┼──────────┤\n",
       "│ 1   │ McTavish   │ 45.5047 │ -73.5792 │\n",
       "│ 2   │ Bellevue   │ 45.4272 │ -73.9292 │\n",
       "│ 3   │ Assomption │ 45.8094 │ -73.4347 │\n",
       "│ 4   │ Trudeau    │ 45.4678 │ -73.7417 │\n",
       "│ 5   │ StHubert   │ 45.5175 │ -73.4169 │"
      ]
     },
     "execution_count": 171,
     "metadata": {},
     "output_type": "execute_result"
    }
   ],
   "source": [
    "station_df = DataFrame(STATION = String[], LAT = Float64[], LNG = Float64[]);\n",
    "\n",
    "push!(station_df, [\"McTavish\", 45.504742, -73.579167]);\n",
    "push!(station_df, [\"Bellevue\", 45.427222, -73.929167]);\n",
    "push!(station_df, [\"Assomption\", 45.809444, -73.434722]);\n",
    "push!(station_df, [\"Trudeau\", 45.467778, -73.741667]);\n",
    "push!(station_df, [\"StHubert\", 45.5175, -73.416944]);\n",
    "\n",
    "station_df"
   ]
  },
  {
   "cell_type": "markdown",
   "metadata": {},
   "source": [
    "### On ajoute les colonnes de précipitations"
   ]
  },
  {
   "cell_type": "code",
   "execution_count": 205,
   "metadata": {},
   "outputs": [],
   "source": [
    "stations_names = [\"McTavish\", \"Bellevue\", \"Assomption\", \"Trudeau\", \"StHubert\"];\n",
    "train_data = surverses;\n",
    "for i=1:5\n",
    "    train_data[!, Symbol(string(stations_names[i],\"_proxy\"))] = zeros(size(train_data, 1));\n",
    "    train_data[!, Symbol(string(stations_names[i],\"_sum\"))] = zeros(size(train_data, 1));\n",
    "    train_data[!, Symbol(string(stations_names[i],\"_max\"))] = zeros(size(train_data, 1));\n",
    "    train_data[!, Symbol(string(stations_names[i],\"_max3\"))] = zeros(size(train_data, 1));\n",
    "end"
   ]
  },
  {
   "cell_type": "code",
   "execution_count": 225,
   "metadata": {},
   "outputs": [
    {
     "data": {
      "text/html": [
       "<table class=\"data-frame\"><thead><tr><th></th><th>ID_OUVRAGE</th><th>McTavish_proxy</th><th>Bellevue_proxy</th><th>Assomption_proxy</th><th>Trudeau_proxy</th><th>StHubert_proxy</th></tr><tr><th></th><th>String</th><th>Float64</th><th>Float64</th><th>Float64</th><th>Float64</th><th>Float64</th></tr></thead><tbody><p>5 rows × 6 columns</p><tr><th>1</th><td>4350-01D</td><td>0.0248354</td><td>0.381014</td><td>0.332861</td><td>0.189283</td><td>0.139269</td></tr><tr><th>2</th><td>3260-01D</td><td>0.145981</td><td>0.41434</td><td>0.215358</td><td>0.243957</td><td>0.210769</td></tr><tr><th>3</th><td>3350-07D</td><td>0.12027</td><td>0.265238</td><td>0.368185</td><td>0.0927373</td><td>0.276628</td></tr><tr><th>4</th><td>4240-01D</td><td>0.171395</td><td>0.494323</td><td>0.168295</td><td>0.312374</td><td>0.149987</td></tr><tr><th>5</th><td>3260-01D</td><td>0.145981</td><td>0.41434</td><td>0.215358</td><td>0.243957</td><td>0.210769</td></tr></tbody></table>"
      ],
      "text/latex": [
       "\\begin{tabular}{r|cccccc}\n",
       "\t& ID\\_OUVRAGE & McTavish\\_proxy & Bellevue\\_proxy & Assomption\\_proxy & Trudeau\\_proxy & StHubert\\_proxy\\\\\n",
       "\t\\hline\n",
       "\t& String & Float64 & Float64 & Float64 & Float64 & Float64\\\\\n",
       "\t\\hline\n",
       "\t1 & 4350-01D & 0.0248354 & 0.381014 & 0.332861 & 0.189283 & 0.139269 \\\\\n",
       "\t2 & 3260-01D & 0.145981 & 0.41434 & 0.215358 & 0.243957 & 0.210769 \\\\\n",
       "\t3 & 3350-07D & 0.12027 & 0.265238 & 0.368185 & 0.0927373 & 0.276628 \\\\\n",
       "\t4 & 4240-01D & 0.171395 & 0.494323 & 0.168295 & 0.312374 & 0.149987 \\\\\n",
       "\t5 & 3260-01D & 0.145981 & 0.41434 & 0.215358 & 0.243957 & 0.210769 \\\\\n",
       "\\end{tabular}\n"
      ],
      "text/plain": [
       "5×6 DataFrame. Omitted printing of 2 columns\n",
       "│ Row │ ID_OUVRAGE │ McTavish_proxy │ Bellevue_proxy │ Assomption_proxy │\n",
       "│     │ \u001b[90mString\u001b[39m     │ \u001b[90mFloat64\u001b[39m        │ \u001b[90mFloat64\u001b[39m        │ \u001b[90mFloat64\u001b[39m          │\n",
       "├─────┼────────────┼────────────────┼────────────────┼──────────────────┤\n",
       "│ 1   │ 4350-01D   │ 0.0248354      │ 0.381014       │ 0.332861         │\n",
       "│ 2   │ 3260-01D   │ 0.145981       │ 0.41434        │ 0.215358         │\n",
       "│ 3   │ 3350-07D   │ 0.12027        │ 0.265238       │ 0.368185         │\n",
       "│ 4   │ 4240-01D   │ 0.171395       │ 0.494323       │ 0.168295         │\n",
       "│ 5   │ 3260-01D   │ 0.145981       │ 0.41434        │ 0.215358         │"
      ]
     },
     "execution_count": 225,
     "metadata": {},
     "output_type": "execute_result"
    }
   ],
   "source": [
    "proxies = [:ID_OUVRAGE, :McTavish_proxy, :Bellevue_proxy, :Assomption_proxy, :Trudeau_proxy, :StHubert_proxy]; \n",
    "first(shuffleDf(train_data[!, proxies]), 5)\n",
    "# first(shuffleDf(train_data), 5)"
   ]
  },
  {
   "cell_type": "code",
   "execution_count": 209,
   "metadata": {},
   "outputs": [
    {
     "name": "stdout",
     "output_type": "stream",
     "text": [
      "Summary Stats:\n",
      "Length:         5129\n",
      "Missing Count:  0\n",
      "Mean:           0.085202\n",
      "Minimum:        0.000000\n",
      "1st Quartile:   0.000000\n",
      "Median:         0.000000\n",
      "3rd Quartile:   0.000000\n",
      "Maximum:        1.000000\n",
      "Type:           Int64\n"
     ]
    }
   ],
   "source": [
    "describe(train_data[!, :SURVERSE])"
   ]
  },
  {
   "cell_type": "markdown",
   "metadata": {},
   "source": [
    "Populate les fields de chaque data"
   ]
  },
  {
   "cell_type": "code",
   "execution_count": 219,
   "metadata": {},
   "outputs": [],
   "source": [
    "for i=1:size(train_data, 1)\n",
    "    curr_ouvrage = train_data[i, 1];\n",
    "    ouvrage_data = filter(row -> row.ID_OUVRAGE == curr_ouvrage, ouvrages);\n",
    "    # Pour chaque station\n",
    "    for j=1:5\n",
    "        dist = findDistance(ouvrage_data[1, :TP_LAT], ouvrage_data[1, :TP_LNG], station_df[j, :LAT], station_df[j, :LNG]);\n",
    "        train_data[i, Symbol(string(station_df[j, :STATION]), \"_proxy\")] = dist;\n",
    "        \n",
    "        # Somme des précipitations\n",
    "        \n",
    "        # Maximum des précipitations\n",
    "        \n",
    "        # Maximum sur 3h des précipitations\n",
    "    end\n",
    "end"
   ]
  },
  {
   "cell_type": "code",
   "execution_count": 215,
   "metadata": {},
   "outputs": [
    {
     "data": {
      "text/plain": [
       "45.6507187104077"
      ]
     },
     "execution_count": 215,
     "metadata": {},
     "output_type": "execute_result"
    }
   ],
   "source": [
    "filter(row -> row.ID_OUVRAGE == train_data[1, 1], ouvrages)[1, :TP_LAT]"
   ]
  }
 ],
 "metadata": {
  "kernelspec": {
   "display_name": "Julia 1.2.0",
   "language": "julia",
   "name": "julia-1.2"
  },
  "language_info": {
   "file_extension": ".jl",
   "mimetype": "application/julia",
   "name": "julia",
   "version": "1.0.5"
  }
 },
 "nbformat": 4,
 "nbformat_minor": 2
}
