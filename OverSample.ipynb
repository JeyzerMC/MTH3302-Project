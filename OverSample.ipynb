{
 "cells": [
  {
   "cell_type": "code",
   "execution_count": 303,
   "metadata": {},
   "outputs": [],
   "source": [
    "using DataFrames, Statistics, Dates, Gadfly, Random;\n",
    "include(\"utils/precipitation.jl\");"
   ]
  },
  {
   "cell_type": "code",
   "execution_count": 415,
   "metadata": {},
   "outputs": [
    {
     "data": {
      "text/plain": [
       "generate_variation (generic function with 2 methods)"
      ]
     },
     "execution_count": 415,
     "metadata": {},
     "output_type": "execute_result"
    }
   ],
   "source": [
    "function generate_variation(val)\n",
    "    var = rand() * 0.3;\n",
    "    return trunc(val * (0.85 + var));\n",
    "end"
   ]
  },
  {
   "cell_type": "code",
   "execution_count": 416,
   "metadata": {},
   "outputs": [
    {
     "data": {
      "text/plain": [
       "generate_new_entry (generic function with 1 method)"
      ]
     },
     "execution_count": 416,
     "metadata": {},
     "output_type": "execute_result"
    }
   ],
   "source": [
    "function generate_new_entry(df, entry)\n",
    "    nwDATE = entry.DATE;\n",
    "    nwSURVERSE = entry.SURVERSE;\n",
    "    nwFS_dist = entry.FS_dist;\n",
    "    nwSS_dist = entry.SS_dist;\n",
    "    nwFS_sum = generate_variation(entry.FS_sum);\n",
    "    nwFS_max = generate_variation(entry.FS_max);\n",
    "    nwFS_max3 = generate_variation(entry.FS_max3);\n",
    "    nwSS_sum = generate_variation(entry.SS_sum);\n",
    "    nwSS_max = generate_variation(entry.SS_max);\n",
    "    nwSS_max3 = generate_variation(entry.SS_max3);\n",
    "    \n",
    "    push!(df, [nwDATE, nwSURVERSE, nwFS_dist, nwSS_dist, \n",
    "               nwFS_sum, nwFS_max, nwFS_max3, \n",
    "               nwSS_sum, nwSS_max, nwSS_max3])\n",
    "end"
   ]
  },
  {
   "cell_type": "markdown",
   "metadata": {},
   "source": [
    "## Ouvrage 3260"
   ]
  },
  {
   "cell_type": "code",
   "execution_count": 417,
   "metadata": {},
   "outputs": [
    {
     "data": {
      "text/plain": [
       "(1097, 10)"
      ]
     },
     "execution_count": 417,
     "metadata": {},
     "output_type": "execute_result"
    }
   ],
   "source": [
    "data_set = CSV.read(\"data/parsed/ouvrage_3260.csv\");\n",
    "size(data_set)"
   ]
  },
  {
   "cell_type": "code",
   "execution_count": null,
   "metadata": {
    "scrolled": true
   },
   "outputs": [],
   "source": [
    "first(shuffleDf(data_set), 10)"
   ]
  },
  {
   "cell_type": "code",
   "execution_count": null,
   "metadata": {},
   "outputs": [],
   "source": [
    "describe(data_set)"
   ]
  },
  {
   "cell_type": "code",
   "execution_count": null,
   "metadata": {},
   "outputs": [],
   "source": [
    "filter(row -> row.SURVERSE == 1, data_set)"
   ]
  },
  {
   "cell_type": "code",
   "execution_count": null,
   "metadata": {
    "scrolled": false
   },
   "outputs": [],
   "source": [
    "plot(data_set, x=:FS_sum, y=:SS_sum, color=:SURVERSE)"
   ]
  },
  {
   "cell_type": "code",
   "execution_count": 418,
   "metadata": {},
   "outputs": [],
   "source": [
    "n_to_random_sample = 5000 - size(data_set, 1);\n",
    "new_entries = similar(data_set, nrow(data_set))\n",
    "\n",
    "for (i, row) in enumerate(eachrow(data_set))\n",
    "    new_entries[i, :] = row[:]\n",
    "end\n",
    "\n",
    "for i=1:n_to_random_sample\n",
    "    should_surverse = rand() > 0.5 ? 1 : 0;\n",
    "    cols = filter(row -> row.SURVERSE == should_surverse, data_set);\n",
    "    idx_row = convert(Int64, trunc(rand() * size(cols, 1))) + 1;\n",
    "    \n",
    "    entry = cols[idx_row, :];\n",
    "    generate_new_entry(new_entries, entry);\n",
    "end"
   ]
  },
  {
   "cell_type": "code",
   "execution_count": null,
   "metadata": {},
   "outputs": [],
   "source": [
    "describe(new_entries)"
   ]
  },
  {
   "cell_type": "code",
   "execution_count": null,
   "metadata": {},
   "outputs": [],
   "source": [
    "filter(row -> row.SURVERSE == 1, new_entries)"
   ]
  },
  {
   "cell_type": "code",
   "execution_count": null,
   "metadata": {},
   "outputs": [],
   "source": [
    "plot(new_entries, x=:FS_sum, y=:SS_sum, color=:SURVERSE)"
   ]
  },
  {
   "cell_type": "code",
   "execution_count": 420,
   "metadata": {},
   "outputs": [
    {
     "data": {
      "text/plain": [
       "\"data/parsed/oversampled/ouvrage_3260.csv\""
      ]
     },
     "execution_count": 420,
     "metadata": {},
     "output_type": "execute_result"
    }
   ],
   "source": [
    "CSV.write(\"data/parsed/oversampled/ouvrage_3260.csv\", new_entries)"
   ]
  },
  {
   "cell_type": "markdown",
   "metadata": {},
   "source": [
    "## Ouvrage 3350"
   ]
  },
  {
   "cell_type": "code",
   "execution_count": 421,
   "metadata": {},
   "outputs": [
    {
     "data": {
      "text/plain": [
       "(729, 10)"
      ]
     },
     "execution_count": 421,
     "metadata": {},
     "output_type": "execute_result"
    }
   ],
   "source": [
    "data_set = CSV.read(\"data/parsed/ouvrage_3350.csv\");\n",
    "size(data_set)"
   ]
  },
  {
   "cell_type": "code",
   "execution_count": 423,
   "metadata": {},
   "outputs": [
    {
     "data": {
      "text/html": [
       "<table class=\"data-frame\"><thead><tr><th></th><th>variable</th><th>mean</th><th>min</th><th>median</th><th>max</th><th>nunique</th><th>nmissing</th><th>eltype</th></tr><tr><th></th><th>Symbol</th><th>Union…</th><th>Any</th><th>Union…</th><th>Any</th><th>Union…</th><th>Nothing</th><th>DataType</th></tr></thead><tbody><p>10 rows × 8 columns</p><tr><th>1</th><td>DATE</td><td></td><td>2015-05-01</td><td></td><td>2018-10-31</td><td>729</td><td></td><td>Date</td></tr><tr><th>2</th><td>SURVERSE</td><td>0.203018</td><td>0</td><td>0.0</td><td>1</td><td></td><td></td><td>Int64</td></tr><tr><th>3</th><td>FS_dist</td><td>0.0927373</td><td>0.0927373</td><td>0.0927373</td><td>0.0927373</td><td></td><td></td><td>Float64</td></tr><tr><th>4</th><td>SS_dist</td><td>0.12027</td><td>0.12027</td><td>0.12027</td><td>0.12027</td><td></td><td></td><td>Float64</td></tr><tr><th>5</th><td>FS_sum</td><td>27.5953</td><td>0.0</td><td>0.0</td><td>700.0</td><td></td><td></td><td>Float64</td></tr><tr><th>6</th><td>FS_max</td><td>12.8134</td><td>0.0</td><td>0.0</td><td>366.0</td><td></td><td></td><td>Float64</td></tr><tr><th>7</th><td>FS_max3</td><td>19.1852</td><td>0.0</td><td>0.0</td><td>500.0</td><td></td><td></td><td>Float64</td></tr><tr><th>8</th><td>SS_sum</td><td>30.513</td><td>0.0</td><td>0.0</td><td>768.0</td><td></td><td></td><td>Float64</td></tr><tr><th>9</th><td>SS_max</td><td>12.9588</td><td>0.0</td><td>0.0</td><td>257.0</td><td></td><td></td><td>Float64</td></tr><tr><th>10</th><td>SS_max3</td><td>20.3141</td><td>0.0</td><td>0.0</td><td>593.0</td><td></td><td></td><td>Float64</td></tr></tbody></table>"
      ],
      "text/latex": [
       "\\begin{tabular}{r|cccccccc}\n",
       "\t& variable & mean & min & median & max & nunique & nmissing & eltype\\\\\n",
       "\t\\hline\n",
       "\t& Symbol & Union… & Any & Union… & Any & Union… & Nothing & DataType\\\\\n",
       "\t\\hline\n",
       "\t1 & DATE &  & 2015-05-01 &  & 2018-10-31 & 729 &  & Date \\\\\n",
       "\t2 & SURVERSE & 0.203018 & 0 & 0.0 & 1 &  &  & Int64 \\\\\n",
       "\t3 & FS\\_dist & 0.0927373 & 0.0927373 & 0.0927373 & 0.0927373 &  &  & Float64 \\\\\n",
       "\t4 & SS\\_dist & 0.12027 & 0.12027 & 0.12027 & 0.12027 &  &  & Float64 \\\\\n",
       "\t5 & FS\\_sum & 27.5953 & 0.0 & 0.0 & 700.0 &  &  & Float64 \\\\\n",
       "\t6 & FS\\_max & 12.8134 & 0.0 & 0.0 & 366.0 &  &  & Float64 \\\\\n",
       "\t7 & FS\\_max3 & 19.1852 & 0.0 & 0.0 & 500.0 &  &  & Float64 \\\\\n",
       "\t8 & SS\\_sum & 30.513 & 0.0 & 0.0 & 768.0 &  &  & Float64 \\\\\n",
       "\t9 & SS\\_max & 12.9588 & 0.0 & 0.0 & 257.0 &  &  & Float64 \\\\\n",
       "\t10 & SS\\_max3 & 20.3141 & 0.0 & 0.0 & 593.0 &  &  & Float64 \\\\\n",
       "\\end{tabular}\n"
      ],
      "text/plain": [
       "10×8 DataFrame. Omitted printing of 2 columns\n",
       "│ Row │ variable │ mean      │ min        │ median    │ max        │ nunique │\n",
       "│     │ \u001b[90mSymbol\u001b[39m   │ \u001b[90mUnion…\u001b[39m    │ \u001b[90mAny\u001b[39m        │ \u001b[90mUnion…\u001b[39m    │ \u001b[90mAny\u001b[39m        │ \u001b[90mUnion…\u001b[39m  │\n",
       "├─────┼──────────┼───────────┼────────────┼───────────┼────────────┼─────────┤\n",
       "│ 1   │ DATE     │           │ 2015-05-01 │           │ 2018-10-31 │ 729     │\n",
       "│ 2   │ SURVERSE │ 0.203018  │ 0          │ 0.0       │ 1          │         │\n",
       "│ 3   │ FS_dist  │ 0.0927373 │ 0.0927373  │ 0.0927373 │ 0.0927373  │         │\n",
       "│ 4   │ SS_dist  │ 0.12027   │ 0.12027    │ 0.12027   │ 0.12027    │         │\n",
       "│ 5   │ FS_sum   │ 27.5953   │ 0.0        │ 0.0       │ 700.0      │         │\n",
       "│ 6   │ FS_max   │ 12.8134   │ 0.0        │ 0.0       │ 366.0      │         │\n",
       "│ 7   │ FS_max3  │ 19.1852   │ 0.0        │ 0.0       │ 500.0      │         │\n",
       "│ 8   │ SS_sum   │ 30.513    │ 0.0        │ 0.0       │ 768.0      │         │\n",
       "│ 9   │ SS_max   │ 12.9588   │ 0.0        │ 0.0       │ 257.0      │         │\n",
       "│ 10  │ SS_max3  │ 20.3141   │ 0.0        │ 0.0       │ 593.0      │         │"
      ]
     },
     "execution_count": 423,
     "metadata": {},
     "output_type": "execute_result"
    }
   ],
   "source": [
    "describe(data_set)"
   ]
  },
  {
   "cell_type": "code",
   "execution_count": 424,
   "metadata": {},
   "outputs": [],
   "source": [
    "n_to_random_sample = 5000 - size(data_set, 1);\n",
    "new_entries = similar(data_set, nrow(data_set))\n",
    "\n",
    "for (i, row) in enumerate(eachrow(data_set))\n",
    "    new_entries[i, :] = row[:]\n",
    "end\n",
    "\n",
    "for i=1:n_to_random_sample\n",
    "    should_surverse = rand() > 0.5 ? 1 : 0;\n",
    "    cols = filter(row -> row.SURVERSE == should_surverse, data_set);\n",
    "    idx_row = convert(Int64, trunc(rand() * size(cols, 1))) + 1;\n",
    "    \n",
    "    entry = cols[idx_row, :];\n",
    "    generate_new_entry(new_entries, entry);\n",
    "end"
   ]
  },
  {
   "cell_type": "code",
   "execution_count": null,
   "metadata": {},
   "outputs": [],
   "source": [
    "describe(new_entries)"
   ]
  },
  {
   "cell_type": "code",
   "execution_count": 427,
   "metadata": {},
   "outputs": [
    {
     "data": {
      "text/plain": [
       "\"data/parsed/oversampled/ouvrage_3350.csv\""
      ]
     },
     "execution_count": 427,
     "metadata": {},
     "output_type": "execute_result"
    }
   ],
   "source": [
    "CSV.write(\"data/parsed/oversampled/ouvrage_3350.csv\", new_entries)"
   ]
  },
  {
   "cell_type": "markdown",
   "metadata": {},
   "source": [
    "## Ouvrage 4240"
   ]
  },
  {
   "cell_type": "code",
   "execution_count": 433,
   "metadata": {},
   "outputs": [
    {
     "data": {
      "text/plain": [
       "(1100, 10)"
      ]
     },
     "execution_count": 433,
     "metadata": {},
     "output_type": "execute_result"
    }
   ],
   "source": [
    "data_set = CSV.read(\"data/parsed/ouvrage_4240.csv\");\n",
    "size(data_set)"
   ]
  },
  {
   "cell_type": "code",
   "execution_count": null,
   "metadata": {},
   "outputs": [],
   "source": [
    "describe(data_set)"
   ]
  },
  {
   "cell_type": "code",
   "execution_count": 437,
   "metadata": {},
   "outputs": [],
   "source": [
    "n_to_random_sample = 5000 - size(data_set, 1);\n",
    "new_entries = similar(data_set, nrow(data_set))\n",
    "\n",
    "for (i, row) in enumerate(eachrow(data_set))\n",
    "    new_entries[i, :] = row[:]\n",
    "end\n",
    "\n",
    "for i=1:n_to_random_sample\n",
    "    should_surverse = rand() > 0.5 ? 1 : 0;\n",
    "    cols = filter(row -> row.SURVERSE == should_surverse, data_set);\n",
    "    idx_row = convert(Int64, trunc(rand() * size(cols, 1))) + 1;\n",
    "    \n",
    "    entry = cols[idx_row, :];\n",
    "    generate_new_entry(new_entries, entry);\n",
    "end"
   ]
  },
  {
   "cell_type": "code",
   "execution_count": null,
   "metadata": {},
   "outputs": [],
   "source": [
    "describe(new_entries)"
   ]
  },
  {
   "cell_type": "code",
   "execution_count": null,
   "metadata": {},
   "outputs": [],
   "source": [
    "CSV.write(\"data/parsed/oversampled/ouvrage_4240.csv\", new_entries)"
   ]
  },
  {
   "cell_type": "markdown",
   "metadata": {},
   "source": [
    "## Ouvrage 4350"
   ]
  },
  {
   "cell_type": "code",
   "execution_count": 440,
   "metadata": {},
   "outputs": [
    {
     "data": {
      "text/plain": [
       "(1100, 10)"
      ]
     },
     "execution_count": 440,
     "metadata": {},
     "output_type": "execute_result"
    }
   ],
   "source": [
    "data_set = CSV.read(\"data/parsed/ouvrage_4350.csv\");\n",
    "size(data_set)"
   ]
  },
  {
   "cell_type": "code",
   "execution_count": null,
   "metadata": {},
   "outputs": [],
   "source": [
    "describe(data_set)"
   ]
  },
  {
   "cell_type": "code",
   "execution_count": 442,
   "metadata": {},
   "outputs": [],
   "source": [
    "n_to_random_sample = 5000 - size(data_set, 1);\n",
    "new_entries = similar(data_set, nrow(data_set))\n",
    "\n",
    "for (i, row) in enumerate(eachrow(data_set))\n",
    "    new_entries[i, :] = row[:]\n",
    "end\n",
    "\n",
    "for i=1:n_to_random_sample\n",
    "    should_surverse = rand() > 0.5 ? 1 : 0;\n",
    "    cols = filter(row -> row.SURVERSE == should_surverse, data_set);\n",
    "    idx_row = convert(Int64, trunc(rand() * size(cols, 1))) + 1;\n",
    "    \n",
    "    entry = cols[idx_row, :];\n",
    "    generate_new_entry(new_entries, entry);\n",
    "end"
   ]
  },
  {
   "cell_type": "code",
   "execution_count": null,
   "metadata": {},
   "outputs": [],
   "source": [
    "describe(new_entries)"
   ]
  },
  {
   "cell_type": "code",
   "execution_count": 444,
   "metadata": {},
   "outputs": [
    {
     "data": {
      "text/plain": [
       "\"data/parsed/oversampled/ouvrage_4350.csv\""
      ]
     },
     "execution_count": 444,
     "metadata": {},
     "output_type": "execute_result"
    }
   ],
   "source": [
    "CSV.write(\"data/parsed/oversampled/ouvrage_4350.csv\", new_entries)"
   ]
  },
  {
   "cell_type": "markdown",
   "metadata": {},
   "source": [
    "## Ouvrage 4380"
   ]
  },
  {
   "cell_type": "code",
   "execution_count": 445,
   "metadata": {},
   "outputs": [
    {
     "data": {
      "text/plain": [
       "(1103, 10)"
      ]
     },
     "execution_count": 445,
     "metadata": {},
     "output_type": "execute_result"
    }
   ],
   "source": [
    "data_set = CSV.read(\"data/parsed/ouvrage_4380.csv\");\n",
    "size(data_set)"
   ]
  },
  {
   "cell_type": "code",
   "execution_count": null,
   "metadata": {},
   "outputs": [],
   "source": [
    "describe(data_set)"
   ]
  },
  {
   "cell_type": "code",
   "execution_count": 447,
   "metadata": {},
   "outputs": [],
   "source": [
    "n_to_random_sample = 5000 - size(data_set, 1);\n",
    "new_entries = similar(data_set, nrow(data_set))\n",
    "\n",
    "for (i, row) in enumerate(eachrow(data_set))\n",
    "    new_entries[i, :] = row[:]\n",
    "end\n",
    "\n",
    "for i=1:n_to_random_sample\n",
    "    should_surverse = rand() > 0.5 ? 1 : 0;\n",
    "    cols = filter(row -> row.SURVERSE == should_surverse, data_set);\n",
    "    idx_row = convert(Int64, trunc(rand() * size(cols, 1))) + 1;\n",
    "    \n",
    "    entry = cols[idx_row, :];\n",
    "    generate_new_entry(new_entries, entry);\n",
    "end"
   ]
  },
  {
   "cell_type": "code",
   "execution_count": null,
   "metadata": {},
   "outputs": [],
   "source": [
    "describe(new_entries)"
   ]
  },
  {
   "cell_type": "code",
   "execution_count": 449,
   "metadata": {},
   "outputs": [
    {
     "data": {
      "text/plain": [
       "\"data/parsed/oversampled/ouvrage_4380.csv\""
      ]
     },
     "execution_count": 449,
     "metadata": {},
     "output_type": "execute_result"
    }
   ],
   "source": [
    "CSV.write(\"data/parsed/oversampled/ouvrage_4380.csv\", new_entries)"
   ]
  }
 ],
 "metadata": {
  "kernelspec": {
   "display_name": "Julia 1.2.0",
   "language": "julia",
   "name": "julia-1.2"
  },
  "language_info": {
   "file_extension": ".jl",
   "mimetype": "application/julia",
   "name": "julia",
   "version": "1.0.5"
  }
 },
 "nbformat": 4,
 "nbformat_minor": 2
}
