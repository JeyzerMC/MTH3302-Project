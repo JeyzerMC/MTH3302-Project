{
 "cells": [
  {
   "cell_type": "code",
   "execution_count": 7,
   "metadata": {},
   "outputs": [],
   "source": [
    "using CSV, DataFrames, Statistics, Dates, Gadfly, Random;\n",
    "include(\"utils/precipitation.jl\");"
   ]
  },
  {
   "cell_type": "code",
   "execution_count": 8,
   "metadata": {},
   "outputs": [
    {
     "data": {
      "text/plain": [
       "generate_variation (generic function with 1 method)"
      ]
     },
     "execution_count": 8,
     "metadata": {},
     "output_type": "execute_result"
    }
   ],
   "source": [
    "function generate_variation(val)\n",
    "    var = rand() * 0.5;\n",
    "    return val * (0.75 + var);\n",
    "end"
   ]
  },
  {
   "cell_type": "code",
   "execution_count": 9,
   "metadata": {},
   "outputs": [
    {
     "data": {
      "text/plain": [
       "generate_new_entry (generic function with 1 method)"
      ]
     },
     "execution_count": 9,
     "metadata": {},
     "output_type": "execute_result"
    }
   ],
   "source": [
    "function generate_new_entry(df, entry)\n",
    "    nwDATE = entry.DATE;\n",
    "    nwSURVERSE = entry.SURVERSE;\n",
    "    nwFS_dist = entry.FS_dist;\n",
    "    nwSS_dist = entry.SS_dist;\n",
    "    nwFS_sum = generate_variation(entry.FS_sum);\n",
    "    nwFS_max = generate_variation(entry.FS_max);\n",
    "    nwFS_max3 = generate_variation(entry.FS_max3);\n",
    "    nwSS_sum = generate_variation(entry.SS_sum);\n",
    "    nwSS_max = generate_variation(entry.SS_max);\n",
    "    nwSS_max3 = generate_variation(entry.SS_max3);\n",
    "    \n",
    "    push!(df, [nwDATE, nwSURVERSE, nwFS_dist, nwSS_dist, \n",
    "               nwFS_sum, nwFS_max, nwFS_max3, \n",
    "               nwSS_sum, nwSS_max, nwSS_max3])\n",
    "end"
   ]
  },
  {
   "cell_type": "markdown",
   "metadata": {},
   "source": [
    "## Ouvrage 3260"
   ]
  },
  {
   "cell_type": "code",
   "execution_count": 10,
   "metadata": {},
   "outputs": [
    {
     "data": {
      "text/plain": [
       "(1097, 10)"
      ]
     },
     "execution_count": 10,
     "metadata": {},
     "output_type": "execute_result"
    }
   ],
   "source": [
    "data_set = CSV.read(\"data/parsed/ouvrage_3260.csv\");\n",
    "size(data_set)"
   ]
  },
  {
   "cell_type": "code",
   "execution_count": null,
   "metadata": {
    "scrolled": true
   },
   "outputs": [],
   "source": [
    "first(shuffleDf(data_set), 10)"
   ]
  },
  {
   "cell_type": "code",
   "execution_count": 12,
   "metadata": {},
   "outputs": [
    {
     "data": {
      "text/html": [
       "<table class=\"data-frame\"><thead><tr><th></th><th>variable</th><th>mean</th><th>min</th><th>median</th><th>max</th><th>nunique</th><th>nmissing</th><th>eltype</th></tr><tr><th></th><th>Symbol</th><th>Union…</th><th>Any</th><th>Union…</th><th>Any</th><th>Union…</th><th>Nothing</th><th>DataType</th></tr></thead><tbody><p>10 rows × 8 columns</p><tr><th>1</th><td>DATE</td><td></td><td>2013-05-01</td><td></td><td>2018-10-31</td><td>1097</td><td></td><td>Date</td></tr><tr><th>2</th><td>SURVERSE</td><td>0.0856882</td><td>0</td><td>0.0</td><td>1</td><td></td><td></td><td>Int64</td></tr><tr><th>3</th><td>FS_dist</td><td>0.145981</td><td>0.145981</td><td>0.145981</td><td>0.145981</td><td></td><td></td><td>Float64</td></tr><tr><th>4</th><td>SS_dist</td><td>0.210769</td><td>0.210769</td><td>0.210769</td><td>0.210769</td><td></td><td></td><td>Float64</td></tr><tr><th>5</th><td>FS_sum</td><td>-0.0141676</td><td>-0.396293</td><td>-0.396293</td><td>9.43361</td><td></td><td></td><td>Float64</td></tr><tr><th>6</th><td>FS_max</td><td>-0.00334192</td><td>-0.415792</td><td>-0.415792</td><td>7.80956</td><td></td><td></td><td>Float64</td></tr><tr><th>7</th><td>FS_max3</td><td>-0.0116425</td><td>-0.417149</td><td>-0.417149</td><td>11.6341</td><td></td><td></td><td>Float64</td></tr><tr><th>8</th><td>SS_sum</td><td>-0.0269077</td><td>-0.292356</td><td>-0.292356</td><td>7.09575</td><td></td><td></td><td>Float64</td></tr><tr><th>9</th><td>SS_max</td><td>-0.0206734</td><td>-0.306429</td><td>-0.306429</td><td>6.38357</td><td></td><td></td><td>Float64</td></tr><tr><th>10</th><td>SS_max3</td><td>-0.0268602</td><td>-0.304797</td><td>-0.304797</td><td>8.24149</td><td></td><td></td><td>Float64</td></tr></tbody></table>"
      ],
      "text/latex": [
       "\\begin{tabular}{r|cccccccc}\n",
       "\t& variable & mean & min & median & max & nunique & nmissing & eltype\\\\\n",
       "\t\\hline\n",
       "\t& Symbol & Union… & Any & Union… & Any & Union… & Nothing & DataType\\\\\n",
       "\t\\hline\n",
       "\t1 & DATE &  & 2013-05-01 &  & 2018-10-31 & 1097 &  & Date \\\\\n",
       "\t2 & SURVERSE & 0.0856882 & 0 & 0.0 & 1 &  &  & Int64 \\\\\n",
       "\t3 & FS\\_dist & 0.145981 & 0.145981 & 0.145981 & 0.145981 &  &  & Float64 \\\\\n",
       "\t4 & SS\\_dist & 0.210769 & 0.210769 & 0.210769 & 0.210769 &  &  & Float64 \\\\\n",
       "\t5 & FS\\_sum & -0.0141676 & -0.396293 & -0.396293 & 9.43361 &  &  & Float64 \\\\\n",
       "\t6 & FS\\_max & -0.00334192 & -0.415792 & -0.415792 & 7.80956 &  &  & Float64 \\\\\n",
       "\t7 & FS\\_max3 & -0.0116425 & -0.417149 & -0.417149 & 11.6341 &  &  & Float64 \\\\\n",
       "\t8 & SS\\_sum & -0.0269077 & -0.292356 & -0.292356 & 7.09575 &  &  & Float64 \\\\\n",
       "\t9 & SS\\_max & -0.0206734 & -0.306429 & -0.306429 & 6.38357 &  &  & Float64 \\\\\n",
       "\t10 & SS\\_max3 & -0.0268602 & -0.304797 & -0.304797 & 8.24149 &  &  & Float64 \\\\\n",
       "\\end{tabular}\n"
      ],
      "text/plain": [
       "10×8 DataFrame. Omitted printing of 2 columns\n",
       "│ Row │ variable │ mean        │ min        │ median    │ max        │ nunique │\n",
       "│     │ \u001b[90mSymbol\u001b[39m   │ \u001b[90mUnion…\u001b[39m      │ \u001b[90mAny\u001b[39m        │ \u001b[90mUnion…\u001b[39m    │ \u001b[90mAny\u001b[39m        │ \u001b[90mUnion…\u001b[39m  │\n",
       "├─────┼──────────┼─────────────┼────────────┼───────────┼────────────┼─────────┤\n",
       "│ 1   │ DATE     │             │ 2013-05-01 │           │ 2018-10-31 │ 1097    │\n",
       "│ 2   │ SURVERSE │ 0.0856882   │ 0          │ 0.0       │ 1          │         │\n",
       "│ 3   │ FS_dist  │ 0.145981    │ 0.145981   │ 0.145981  │ 0.145981   │         │\n",
       "│ 4   │ SS_dist  │ 0.210769    │ 0.210769   │ 0.210769  │ 0.210769   │         │\n",
       "│ 5   │ FS_sum   │ -0.0141676  │ -0.396293  │ -0.396293 │ 9.43361    │         │\n",
       "│ 6   │ FS_max   │ -0.00334192 │ -0.415792  │ -0.415792 │ 7.80956    │         │\n",
       "│ 7   │ FS_max3  │ -0.0116425  │ -0.417149  │ -0.417149 │ 11.6341    │         │\n",
       "│ 8   │ SS_sum   │ -0.0269077  │ -0.292356  │ -0.292356 │ 7.09575    │         │\n",
       "│ 9   │ SS_max   │ -0.0206734  │ -0.306429  │ -0.306429 │ 6.38357    │         │\n",
       "│ 10  │ SS_max3  │ -0.0268602  │ -0.304797  │ -0.304797 │ 8.24149    │         │"
      ]
     },
     "execution_count": 12,
     "metadata": {},
     "output_type": "execute_result"
    }
   ],
   "source": [
    "describe(data_set)"
   ]
  },
  {
   "cell_type": "code",
   "execution_count": null,
   "metadata": {},
   "outputs": [],
   "source": [
    "filter(row -> row.SURVERSE == 1, data_set)"
   ]
  },
  {
   "cell_type": "code",
   "execution_count": null,
   "metadata": {
    "scrolled": false
   },
   "outputs": [],
   "source": [
    "plot(data_set, x=:FS_sum, y=:SS_sum, color=:SURVERSE)"
   ]
  },
  {
   "cell_type": "code",
   "execution_count": 40,
   "metadata": {},
   "outputs": [],
   "source": [
    "n_to_random_sample = 10000 - size(data_set, 1);\n",
    "new_entries = similar(data_set, nrow(data_set))\n",
    "\n",
    "for (i, row) in enumerate(eachrow(data_set))\n",
    "    new_entries[i, :] = row[:]\n",
    "end\n",
    "\n",
    "for i=1:n_to_random_sample\n",
    "    should_surverse = rand() > 0.68 ? 1 : 0;\n",
    "    cols = filter(row -> row.SURVERSE == should_surverse, data_set);\n",
    "    idx_row = convert(Int64, trunc(rand() * size(cols, 1))) + 1;\n",
    "    \n",
    "    entry = cols[idx_row, :];\n",
    "    generate_new_entry(new_entries, entry);\n",
    "end"
   ]
  },
  {
   "cell_type": "code",
   "execution_count": 41,
   "metadata": {},
   "outputs": [
    {
     "data": {
      "text/html": [
       "<table class=\"data-frame\"><thead><tr><th></th><th>variable</th><th>mean</th><th>min</th><th>median</th><th>max</th><th>nunique</th><th>nmissing</th><th>eltype</th></tr><tr><th></th><th>Symbol</th><th>Union…</th><th>Any</th><th>Union…</th><th>Any</th><th>Union…</th><th>Nothing</th><th>DataType</th></tr></thead><tbody><p>10 rows × 8 columns</p><tr><th>1</th><td>DATE</td><td></td><td>2013-05-01</td><td></td><td>2018-10-31</td><td>1097</td><td></td><td>Date</td></tr><tr><th>2</th><td>SURVERSE</td><td>0.2941</td><td>0</td><td>0.0</td><td>1</td><td></td><td></td><td>Int64</td></tr><tr><th>3</th><td>FS_dist</td><td>0.145981</td><td>0.145981</td><td>0.145981</td><td>0.145981</td><td></td><td></td><td>Float64</td></tr><tr><th>4</th><td>SS_dist</td><td>0.210769</td><td>0.210769</td><td>0.210769</td><td>0.210769</td><td></td><td></td><td>Float64</td></tr><tr><th>5</th><td>FS_sum</td><td>0.440751</td><td>-0.495331</td><td>-0.318694</td><td>11.7114</td><td></td><td></td><td>Float64</td></tr><tr><th>6</th><td>FS_max</td><td>0.386899</td><td>-0.519732</td><td>-0.328319</td><td>9.71379</td><td></td><td></td><td>Float64</td></tr><tr><th>7</th><td>FS_max3</td><td>0.430265</td><td>-0.521433</td><td>-0.332869</td><td>14.328</td><td></td><td></td><td>Float64</td></tr><tr><th>8</th><td>SS_sum</td><td>0.319418</td><td>-0.365426</td><td>-0.249972</td><td>8.82468</td><td></td><td></td><td>Float64</td></tr><tr><th>9</th><td>SS_max</td><td>0.278842</td><td>-0.382937</td><td>-0.258543</td><td>7.89257</td><td></td><td></td><td>Float64</td></tr><tr><th>10</th><td>SS_max3</td><td>0.301359</td><td>-0.380986</td><td>-0.259172</td><td>10.2265</td><td></td><td></td><td>Float64</td></tr></tbody></table>"
      ],
      "text/latex": [
       "\\begin{tabular}{r|cccccccc}\n",
       "\t& variable & mean & min & median & max & nunique & nmissing & eltype\\\\\n",
       "\t\\hline\n",
       "\t& Symbol & Union… & Any & Union… & Any & Union… & Nothing & DataType\\\\\n",
       "\t\\hline\n",
       "\t1 & DATE &  & 2013-05-01 &  & 2018-10-31 & 1097 &  & Date \\\\\n",
       "\t2 & SURVERSE & 0.2941 & 0 & 0.0 & 1 &  &  & Int64 \\\\\n",
       "\t3 & FS\\_dist & 0.145981 & 0.145981 & 0.145981 & 0.145981 &  &  & Float64 \\\\\n",
       "\t4 & SS\\_dist & 0.210769 & 0.210769 & 0.210769 & 0.210769 &  &  & Float64 \\\\\n",
       "\t5 & FS\\_sum & 0.440751 & -0.495331 & -0.318694 & 11.7114 &  &  & Float64 \\\\\n",
       "\t6 & FS\\_max & 0.386899 & -0.519732 & -0.328319 & 9.71379 &  &  & Float64 \\\\\n",
       "\t7 & FS\\_max3 & 0.430265 & -0.521433 & -0.332869 & 14.328 &  &  & Float64 \\\\\n",
       "\t8 & SS\\_sum & 0.319418 & -0.365426 & -0.249972 & 8.82468 &  &  & Float64 \\\\\n",
       "\t9 & SS\\_max & 0.278842 & -0.382937 & -0.258543 & 7.89257 &  &  & Float64 \\\\\n",
       "\t10 & SS\\_max3 & 0.301359 & -0.380986 & -0.259172 & 10.2265 &  &  & Float64 \\\\\n",
       "\\end{tabular}\n"
      ],
      "text/plain": [
       "10×8 DataFrame. Omitted printing of 2 columns\n",
       "│ Row │ variable │ mean     │ min        │ median    │ max        │ nunique │\n",
       "│     │ \u001b[90mSymbol\u001b[39m   │ \u001b[90mUnion…\u001b[39m   │ \u001b[90mAny\u001b[39m        │ \u001b[90mUnion…\u001b[39m    │ \u001b[90mAny\u001b[39m        │ \u001b[90mUnion…\u001b[39m  │\n",
       "├─────┼──────────┼──────────┼────────────┼───────────┼────────────┼─────────┤\n",
       "│ 1   │ DATE     │          │ 2013-05-01 │           │ 2018-10-31 │ 1097    │\n",
       "│ 2   │ SURVERSE │ 0.2941   │ 0          │ 0.0       │ 1          │         │\n",
       "│ 3   │ FS_dist  │ 0.145981 │ 0.145981   │ 0.145981  │ 0.145981   │         │\n",
       "│ 4   │ SS_dist  │ 0.210769 │ 0.210769   │ 0.210769  │ 0.210769   │         │\n",
       "│ 5   │ FS_sum   │ 0.440751 │ -0.495331  │ -0.318694 │ 11.7114    │         │\n",
       "│ 6   │ FS_max   │ 0.386899 │ -0.519732  │ -0.328319 │ 9.71379    │         │\n",
       "│ 7   │ FS_max3  │ 0.430265 │ -0.521433  │ -0.332869 │ 14.328     │         │\n",
       "│ 8   │ SS_sum   │ 0.319418 │ -0.365426  │ -0.249972 │ 8.82468    │         │\n",
       "│ 9   │ SS_max   │ 0.278842 │ -0.382937  │ -0.258543 │ 7.89257    │         │\n",
       "│ 10  │ SS_max3  │ 0.301359 │ -0.380986  │ -0.259172 │ 10.2265    │         │"
      ]
     },
     "execution_count": 41,
     "metadata": {},
     "output_type": "execute_result"
    }
   ],
   "source": [
    "describe(new_entries)"
   ]
  },
  {
   "cell_type": "code",
   "execution_count": null,
   "metadata": {},
   "outputs": [],
   "source": [
    "filter(row -> row.SURVERSE == 1, new_entries)"
   ]
  },
  {
   "cell_type": "code",
   "execution_count": null,
   "metadata": {},
   "outputs": [],
   "source": [
    "plot(new_entries, x=:FS_sum, y=:SS_sum, color=:SURVERSE)"
   ]
  },
  {
   "cell_type": "code",
   "execution_count": 43,
   "metadata": {},
   "outputs": [
    {
     "data": {
      "text/plain": [
       "\"data/parsed/oversampled/ouvrage_3260.csv\""
      ]
     },
     "execution_count": 43,
     "metadata": {},
     "output_type": "execute_result"
    }
   ],
   "source": [
    "CSV.write(\"data/parsed/oversampled/ouvrage_3260.csv\", new_entries)"
   ]
  },
  {
   "cell_type": "markdown",
   "metadata": {},
   "source": [
    "## Ouvrage 3350"
   ]
  },
  {
   "cell_type": "code",
   "execution_count": 44,
   "metadata": {},
   "outputs": [
    {
     "data": {
      "text/plain": [
       "(729, 10)"
      ]
     },
     "execution_count": 44,
     "metadata": {},
     "output_type": "execute_result"
    }
   ],
   "source": [
    "data_set = CSV.read(\"data/parsed/ouvrage_3350.csv\");\n",
    "size(data_set)"
   ]
  },
  {
   "cell_type": "code",
   "execution_count": 45,
   "metadata": {},
   "outputs": [
    {
     "data": {
      "text/html": [
       "<table class=\"data-frame\"><thead><tr><th></th><th>variable</th><th>mean</th><th>min</th><th>median</th><th>max</th><th>nunique</th><th>nmissing</th><th>eltype</th></tr><tr><th></th><th>Symbol</th><th>Union…</th><th>Any</th><th>Union…</th><th>Any</th><th>Union…</th><th>Nothing</th><th>DataType</th></tr></thead><tbody><p>10 rows × 8 columns</p><tr><th>1</th><td>DATE</td><td></td><td>2015-05-01</td><td></td><td>2018-10-31</td><td>729</td><td></td><td>Date</td></tr><tr><th>2</th><td>SURVERSE</td><td>0.203018</td><td>0</td><td>0.0</td><td>1</td><td></td><td></td><td>Int64</td></tr><tr><th>3</th><td>FS_dist</td><td>0.0927373</td><td>0.0927373</td><td>0.0927373</td><td>0.0927373</td><td></td><td></td><td>Float64</td></tr><tr><th>4</th><td>SS_dist</td><td>0.12027</td><td>0.12027</td><td>0.12027</td><td>0.12027</td><td></td><td></td><td>Float64</td></tr><tr><th>5</th><td>FS_sum</td><td>-0.0143977</td><td>-0.399971</td><td>-0.399971</td><td>9.38072</td><td></td><td></td><td>Float64</td></tr><tr><th>6</th><td>FS_max</td><td>0.00813102</td><td>-0.416911</td><td>-0.416911</td><td>11.7239</td><td></td><td></td><td>Float64</td></tr><tr><th>7</th><td>FS_max3</td><td>-0.00337263</td><td>-0.425384</td><td>-0.425384</td><td>10.573</td><td></td><td></td><td>Float64</td></tr><tr><th>8</th><td>SS_sum</td><td>-0.00499908</td><td>-0.344782</td><td>-0.344782</td><td>8.20741</td><td></td><td></td><td>Float64</td></tr><tr><th>9</th><td>SS_max</td><td>-0.00230434</td><td>-0.361747</td><td>-0.361747</td><td>6.76672</td><td></td><td></td><td>Float64</td></tr><tr><th>10</th><td>SS_max3</td><td>-0.00375311</td><td>-0.362927</td><td>-0.362927</td><td>10.1219</td><td></td><td></td><td>Float64</td></tr></tbody></table>"
      ],
      "text/latex": [
       "\\begin{tabular}{r|cccccccc}\n",
       "\t& variable & mean & min & median & max & nunique & nmissing & eltype\\\\\n",
       "\t\\hline\n",
       "\t& Symbol & Union… & Any & Union… & Any & Union… & Nothing & DataType\\\\\n",
       "\t\\hline\n",
       "\t1 & DATE &  & 2015-05-01 &  & 2018-10-31 & 729 &  & Date \\\\\n",
       "\t2 & SURVERSE & 0.203018 & 0 & 0.0 & 1 &  &  & Int64 \\\\\n",
       "\t3 & FS\\_dist & 0.0927373 & 0.0927373 & 0.0927373 & 0.0927373 &  &  & Float64 \\\\\n",
       "\t4 & SS\\_dist & 0.12027 & 0.12027 & 0.12027 & 0.12027 &  &  & Float64 \\\\\n",
       "\t5 & FS\\_sum & -0.0143977 & -0.399971 & -0.399971 & 9.38072 &  &  & Float64 \\\\\n",
       "\t6 & FS\\_max & 0.00813102 & -0.416911 & -0.416911 & 11.7239 &  &  & Float64 \\\\\n",
       "\t7 & FS\\_max3 & -0.00337263 & -0.425384 & -0.425384 & 10.573 &  &  & Float64 \\\\\n",
       "\t8 & SS\\_sum & -0.00499908 & -0.344782 & -0.344782 & 8.20741 &  &  & Float64 \\\\\n",
       "\t9 & SS\\_max & -0.00230434 & -0.361747 & -0.361747 & 6.76672 &  &  & Float64 \\\\\n",
       "\t10 & SS\\_max3 & -0.00375311 & -0.362927 & -0.362927 & 10.1219 &  &  & Float64 \\\\\n",
       "\\end{tabular}\n"
      ],
      "text/plain": [
       "10×8 DataFrame. Omitted printing of 2 columns\n",
       "│ Row │ variable │ mean        │ min        │ median    │ max        │ nunique │\n",
       "│     │ \u001b[90mSymbol\u001b[39m   │ \u001b[90mUnion…\u001b[39m      │ \u001b[90mAny\u001b[39m        │ \u001b[90mUnion…\u001b[39m    │ \u001b[90mAny\u001b[39m        │ \u001b[90mUnion…\u001b[39m  │\n",
       "├─────┼──────────┼─────────────┼────────────┼───────────┼────────────┼─────────┤\n",
       "│ 1   │ DATE     │             │ 2015-05-01 │           │ 2018-10-31 │ 729     │\n",
       "│ 2   │ SURVERSE │ 0.203018    │ 0          │ 0.0       │ 1          │         │\n",
       "│ 3   │ FS_dist  │ 0.0927373   │ 0.0927373  │ 0.0927373 │ 0.0927373  │         │\n",
       "│ 4   │ SS_dist  │ 0.12027     │ 0.12027    │ 0.12027   │ 0.12027    │         │\n",
       "│ 5   │ FS_sum   │ -0.0143977  │ -0.399971  │ -0.399971 │ 9.38072    │         │\n",
       "│ 6   │ FS_max   │ 0.00813102  │ -0.416911  │ -0.416911 │ 11.7239    │         │\n",
       "│ 7   │ FS_max3  │ -0.00337263 │ -0.425384  │ -0.425384 │ 10.573     │         │\n",
       "│ 8   │ SS_sum   │ -0.00499908 │ -0.344782  │ -0.344782 │ 8.20741    │         │\n",
       "│ 9   │ SS_max   │ -0.00230434 │ -0.361747  │ -0.361747 │ 6.76672    │         │\n",
       "│ 10  │ SS_max3  │ -0.00375311 │ -0.362927  │ -0.362927 │ 10.1219    │         │"
      ]
     },
     "execution_count": 45,
     "metadata": {},
     "output_type": "execute_result"
    }
   ],
   "source": [
    "describe(data_set)"
   ]
  },
  {
   "cell_type": "code",
   "execution_count": 50,
   "metadata": {},
   "outputs": [],
   "source": [
    "n_to_random_sample = 10000 - size(data_set, 1);\n",
    "new_entries = similar(data_set, nrow(data_set))\n",
    "\n",
    "for (i, row) in enumerate(eachrow(data_set))\n",
    "    new_entries[i, :] = row[:]\n",
    "end\n",
    "\n",
    "for i=1:n_to_random_sample\n",
    "    should_surverse = rand() > 0.7 ? 1 : 0;\n",
    "    cols = filter(row -> row.SURVERSE == should_surverse, data_set);\n",
    "    idx_row = convert(Int64, trunc(rand() * size(cols, 1))) + 1;\n",
    "    \n",
    "    entry = cols[idx_row, :];\n",
    "    generate_new_entry(new_entries, entry);\n",
    "end"
   ]
  },
  {
   "cell_type": "code",
   "execution_count": 51,
   "metadata": {},
   "outputs": [
    {
     "data": {
      "text/html": [
       "<table class=\"data-frame\"><thead><tr><th></th><th>variable</th><th>mean</th><th>min</th><th>median</th><th>max</th><th>nunique</th><th>nmissing</th><th>eltype</th></tr><tr><th></th><th>Symbol</th><th>Union…</th><th>Any</th><th>Union…</th><th>Any</th><th>Union…</th><th>Nothing</th><th>DataType</th></tr></thead><tbody><p>10 rows × 8 columns</p><tr><th>1</th><td>DATE</td><td></td><td>2015-05-01</td><td></td><td>2018-10-31</td><td>729</td><td></td><td>Date</td></tr><tr><th>2</th><td>SURVERSE</td><td>0.2918</td><td>0</td><td>0.0</td><td>1</td><td></td><td></td><td>Int64</td></tr><tr><th>3</th><td>FS_dist</td><td>0.0927373</td><td>0.0927373</td><td>0.0927373</td><td>0.0927373</td><td></td><td></td><td>Float64</td></tr><tr><th>4</th><td>SS_dist</td><td>0.12027</td><td>0.12027</td><td>0.12027</td><td>0.12027</td><td></td><td></td><td>Float64</td></tr><tr><th>5</th><td>FS_sum</td><td>0.100536</td><td>-0.499954</td><td>-0.34095</td><td>11.1731</td><td></td><td></td><td>Float64</td></tr><tr><th>6</th><td>FS_max</td><td>0.133308</td><td>-0.521119</td><td>-0.346957</td><td>14.392</td><td></td><td></td><td>Float64</td></tr><tr><th>7</th><td>FS_max3</td><td>0.120607</td><td>-0.531717</td><td>-0.357609</td><td>12.5342</td><td></td><td></td><td>Float64</td></tr><tr><th>8</th><td>SS_sum</td><td>0.107884</td><td>-0.430973</td><td>-0.293312</td><td>10.0366</td><td></td><td></td><td>Float64</td></tr><tr><th>9</th><td>SS_max</td><td>0.118377</td><td>-0.452122</td><td>-0.302157</td><td>8.39124</td><td></td><td></td><td>Float64</td></tr><tr><th>10</th><td>SS_max3</td><td>0.112608</td><td>-0.453634</td><td>-0.306808</td><td>12.1308</td><td></td><td></td><td>Float64</td></tr></tbody></table>"
      ],
      "text/latex": [
       "\\begin{tabular}{r|cccccccc}\n",
       "\t& variable & mean & min & median & max & nunique & nmissing & eltype\\\\\n",
       "\t\\hline\n",
       "\t& Symbol & Union… & Any & Union… & Any & Union… & Nothing & DataType\\\\\n",
       "\t\\hline\n",
       "\t1 & DATE &  & 2015-05-01 &  & 2018-10-31 & 729 &  & Date \\\\\n",
       "\t2 & SURVERSE & 0.2918 & 0 & 0.0 & 1 &  &  & Int64 \\\\\n",
       "\t3 & FS\\_dist & 0.0927373 & 0.0927373 & 0.0927373 & 0.0927373 &  &  & Float64 \\\\\n",
       "\t4 & SS\\_dist & 0.12027 & 0.12027 & 0.12027 & 0.12027 &  &  & Float64 \\\\\n",
       "\t5 & FS\\_sum & 0.100536 & -0.499954 & -0.34095 & 11.1731 &  &  & Float64 \\\\\n",
       "\t6 & FS\\_max & 0.133308 & -0.521119 & -0.346957 & 14.392 &  &  & Float64 \\\\\n",
       "\t7 & FS\\_max3 & 0.120607 & -0.531717 & -0.357609 & 12.5342 &  &  & Float64 \\\\\n",
       "\t8 & SS\\_sum & 0.107884 & -0.430973 & -0.293312 & 10.0366 &  &  & Float64 \\\\\n",
       "\t9 & SS\\_max & 0.118377 & -0.452122 & -0.302157 & 8.39124 &  &  & Float64 \\\\\n",
       "\t10 & SS\\_max3 & 0.112608 & -0.453634 & -0.306808 & 12.1308 &  &  & Float64 \\\\\n",
       "\\end{tabular}\n"
      ],
      "text/plain": [
       "10×8 DataFrame. Omitted printing of 2 columns\n",
       "│ Row │ variable │ mean      │ min        │ median    │ max        │ nunique │\n",
       "│     │ \u001b[90mSymbol\u001b[39m   │ \u001b[90mUnion…\u001b[39m    │ \u001b[90mAny\u001b[39m        │ \u001b[90mUnion…\u001b[39m    │ \u001b[90mAny\u001b[39m        │ \u001b[90mUnion…\u001b[39m  │\n",
       "├─────┼──────────┼───────────┼────────────┼───────────┼────────────┼─────────┤\n",
       "│ 1   │ DATE     │           │ 2015-05-01 │           │ 2018-10-31 │ 729     │\n",
       "│ 2   │ SURVERSE │ 0.2918    │ 0          │ 0.0       │ 1          │         │\n",
       "│ 3   │ FS_dist  │ 0.0927373 │ 0.0927373  │ 0.0927373 │ 0.0927373  │         │\n",
       "│ 4   │ SS_dist  │ 0.12027   │ 0.12027    │ 0.12027   │ 0.12027    │         │\n",
       "│ 5   │ FS_sum   │ 0.100536  │ -0.499954  │ -0.34095  │ 11.1731    │         │\n",
       "│ 6   │ FS_max   │ 0.133308  │ -0.521119  │ -0.346957 │ 14.392     │         │\n",
       "│ 7   │ FS_max3  │ 0.120607  │ -0.531717  │ -0.357609 │ 12.5342    │         │\n",
       "│ 8   │ SS_sum   │ 0.107884  │ -0.430973  │ -0.293312 │ 10.0366    │         │\n",
       "│ 9   │ SS_max   │ 0.118377  │ -0.452122  │ -0.302157 │ 8.39124    │         │\n",
       "│ 10  │ SS_max3  │ 0.112608  │ -0.453634  │ -0.306808 │ 12.1308    │         │"
      ]
     },
     "execution_count": 51,
     "metadata": {},
     "output_type": "execute_result"
    }
   ],
   "source": [
    "describe(new_entries)"
   ]
  },
  {
   "cell_type": "code",
   "execution_count": 52,
   "metadata": {},
   "outputs": [
    {
     "data": {
      "text/plain": [
       "\"data/parsed/oversampled/ouvrage_3350.csv\""
      ]
     },
     "execution_count": 52,
     "metadata": {},
     "output_type": "execute_result"
    }
   ],
   "source": [
    "CSV.write(\"data/parsed/oversampled/ouvrage_3350.csv\", new_entries)"
   ]
  },
  {
   "cell_type": "markdown",
   "metadata": {},
   "source": [
    "## Ouvrage 4240"
   ]
  },
  {
   "cell_type": "code",
   "execution_count": 53,
   "metadata": {},
   "outputs": [
    {
     "data": {
      "text/plain": [
       "(1100, 10)"
      ]
     },
     "execution_count": 53,
     "metadata": {},
     "output_type": "execute_result"
    }
   ],
   "source": [
    "data_set = CSV.read(\"data/parsed/ouvrage_4240.csv\");\n",
    "size(data_set)"
   ]
  },
  {
   "cell_type": "code",
   "execution_count": 54,
   "metadata": {},
   "outputs": [
    {
     "data": {
      "text/html": [
       "<table class=\"data-frame\"><thead><tr><th></th><th>variable</th><th>mean</th><th>min</th><th>median</th><th>max</th><th>nunique</th><th>nmissing</th><th>eltype</th></tr><tr><th></th><th>Symbol</th><th>Union…</th><th>Any</th><th>Union…</th><th>Any</th><th>Union…</th><th>Nothing</th><th>DataType</th></tr></thead><tbody><p>10 rows × 8 columns</p><tr><th>1</th><td>DATE</td><td></td><td>2013-05-01</td><td></td><td>2018-10-31</td><td>1100</td><td></td><td>Date</td></tr><tr><th>2</th><td>SURVERSE</td><td>0.0627273</td><td>0</td><td>0.0</td><td>1</td><td></td><td></td><td>Int64</td></tr><tr><th>3</th><td>FS_dist</td><td>0.149987</td><td>0.149987</td><td>0.149987</td><td>0.149987</td><td></td><td></td><td>Float64</td></tr><tr><th>4</th><td>SS_dist</td><td>0.168295</td><td>0.168295</td><td>0.168295</td><td>0.168295</td><td></td><td></td><td>Float64</td></tr><tr><th>5</th><td>FS_sum</td><td>-0.030719</td><td>-0.358123</td><td>-0.358123</td><td>8.69198</td><td></td><td></td><td>Float64</td></tr><tr><th>6</th><td>FS_max</td><td>-0.0244404</td><td>-0.375363</td><td>-0.375363</td><td>7.8196</td><td></td><td></td><td>Float64</td></tr><tr><th>7</th><td>FS_max3</td><td>-0.0315642</td><td>-0.373363</td><td>-0.373363</td><td>10.0955</td><td></td><td></td><td>Float64</td></tr><tr><th>8</th><td>SS_sum</td><td>0.0287264</td><td>-0.373593</td><td>-0.373593</td><td>9.06526</td><td></td><td></td><td>Float64</td></tr><tr><th>9</th><td>SS_max</td><td>0.0269202</td><td>-0.393477</td><td>-0.393477</td><td>8.6565</td><td></td><td></td><td>Float64</td></tr><tr><th>10</th><td>SS_max3</td><td>0.0298435</td><td>-0.388305</td><td>-0.388305</td><td>7.55446</td><td></td><td></td><td>Float64</td></tr></tbody></table>"
      ],
      "text/latex": [
       "\\begin{tabular}{r|cccccccc}\n",
       "\t& variable & mean & min & median & max & nunique & nmissing & eltype\\\\\n",
       "\t\\hline\n",
       "\t& Symbol & Union… & Any & Union… & Any & Union… & Nothing & DataType\\\\\n",
       "\t\\hline\n",
       "\t1 & DATE &  & 2013-05-01 &  & 2018-10-31 & 1100 &  & Date \\\\\n",
       "\t2 & SURVERSE & 0.0627273 & 0 & 0.0 & 1 &  &  & Int64 \\\\\n",
       "\t3 & FS\\_dist & 0.149987 & 0.149987 & 0.149987 & 0.149987 &  &  & Float64 \\\\\n",
       "\t4 & SS\\_dist & 0.168295 & 0.168295 & 0.168295 & 0.168295 &  &  & Float64 \\\\\n",
       "\t5 & FS\\_sum & -0.030719 & -0.358123 & -0.358123 & 8.69198 &  &  & Float64 \\\\\n",
       "\t6 & FS\\_max & -0.0244404 & -0.375363 & -0.375363 & 7.8196 &  &  & Float64 \\\\\n",
       "\t7 & FS\\_max3 & -0.0315642 & -0.373363 & -0.373363 & 10.0955 &  &  & Float64 \\\\\n",
       "\t8 & SS\\_sum & 0.0287264 & -0.373593 & -0.373593 & 9.06526 &  &  & Float64 \\\\\n",
       "\t9 & SS\\_max & 0.0269202 & -0.393477 & -0.393477 & 8.6565 &  &  & Float64 \\\\\n",
       "\t10 & SS\\_max3 & 0.0298435 & -0.388305 & -0.388305 & 7.55446 &  &  & Float64 \\\\\n",
       "\\end{tabular}\n"
      ],
      "text/plain": [
       "10×8 DataFrame. Omitted printing of 2 columns\n",
       "│ Row │ variable │ mean       │ min        │ median    │ max        │ nunique │\n",
       "│     │ \u001b[90mSymbol\u001b[39m   │ \u001b[90mUnion…\u001b[39m     │ \u001b[90mAny\u001b[39m        │ \u001b[90mUnion…\u001b[39m    │ \u001b[90mAny\u001b[39m        │ \u001b[90mUnion…\u001b[39m  │\n",
       "├─────┼──────────┼────────────┼────────────┼───────────┼────────────┼─────────┤\n",
       "│ 1   │ DATE     │            │ 2013-05-01 │           │ 2018-10-31 │ 1100    │\n",
       "│ 2   │ SURVERSE │ 0.0627273  │ 0          │ 0.0       │ 1          │         │\n",
       "│ 3   │ FS_dist  │ 0.149987   │ 0.149987   │ 0.149987  │ 0.149987   │         │\n",
       "│ 4   │ SS_dist  │ 0.168295   │ 0.168295   │ 0.168295  │ 0.168295   │         │\n",
       "│ 5   │ FS_sum   │ -0.030719  │ -0.358123  │ -0.358123 │ 8.69198    │         │\n",
       "│ 6   │ FS_max   │ -0.0244404 │ -0.375363  │ -0.375363 │ 7.8196     │         │\n",
       "│ 7   │ FS_max3  │ -0.0315642 │ -0.373363  │ -0.373363 │ 10.0955    │         │\n",
       "│ 8   │ SS_sum   │ 0.0287264  │ -0.373593  │ -0.373593 │ 9.06526    │         │\n",
       "│ 9   │ SS_max   │ 0.0269202  │ -0.393477  │ -0.393477 │ 8.6565     │         │\n",
       "│ 10  │ SS_max3  │ 0.0298435  │ -0.388305  │ -0.388305 │ 7.55446    │         │"
      ]
     },
     "execution_count": 54,
     "metadata": {},
     "output_type": "execute_result"
    }
   ],
   "source": [
    "describe(data_set)"
   ]
  },
  {
   "cell_type": "code",
   "execution_count": 59,
   "metadata": {},
   "outputs": [],
   "source": [
    "n_to_random_sample = 10000 - size(data_set, 1);\n",
    "new_entries = similar(data_set, nrow(data_set))\n",
    "\n",
    "for (i, row) in enumerate(eachrow(data_set))\n",
    "    new_entries[i, :] = row[:]\n",
    "end\n",
    "\n",
    "for i=1:n_to_random_sample\n",
    "    should_surverse = rand() > 0.67 ? 1 : 0;\n",
    "    cols = filter(row -> row.SURVERSE == should_surverse, data_set);\n",
    "    idx_row = convert(Int64, trunc(rand() * size(cols, 1))) + 1;\n",
    "    \n",
    "    entry = cols[idx_row, :];\n",
    "    generate_new_entry(new_entries, entry);\n",
    "end"
   ]
  },
  {
   "cell_type": "code",
   "execution_count": 60,
   "metadata": {},
   "outputs": [
    {
     "data": {
      "text/html": [
       "<table class=\"data-frame\"><thead><tr><th></th><th>variable</th><th>mean</th><th>min</th><th>median</th><th>max</th><th>nunique</th><th>nmissing</th><th>eltype</th></tr><tr><th></th><th>Symbol</th><th>Union…</th><th>Any</th><th>Union…</th><th>Any</th><th>Union…</th><th>Nothing</th><th>DataType</th></tr></thead><tbody><p>10 rows × 8 columns</p><tr><th>1</th><td>DATE</td><td></td><td>2013-05-01</td><td></td><td>2018-10-31</td><td>1100</td><td></td><td>Date</td></tr><tr><th>2</th><td>SURVERSE</td><td>0.2931</td><td>0</td><td>0.0</td><td>1</td><td></td><td></td><td>Int64</td></tr><tr><th>3</th><td>FS_dist</td><td>0.149987</td><td>0.149987</td><td>0.149987</td><td>0.149987</td><td></td><td></td><td>Float64</td></tr><tr><th>4</th><td>SS_dist</td><td>0.168295</td><td>0.168295</td><td>0.168295</td><td>0.168295</td><td></td><td></td><td>Float64</td></tr><tr><th>5</th><td>FS_sum</td><td>0.466262</td><td>-0.447518</td><td>-0.304083</td><td>10.7456</td><td></td><td></td><td>Float64</td></tr><tr><th>6</th><td>FS_max</td><td>0.353501</td><td>-0.469188</td><td>-0.312847</td><td>9.76237</td><td></td><td></td><td>Float64</td></tr><tr><th>7</th><td>FS_max3</td><td>0.419028</td><td>-0.466624</td><td>-0.313815</td><td>12.4747</td><td></td><td></td><td>Float64</td></tr><tr><th>8</th><td>SS_sum</td><td>0.567112</td><td>-0.466947</td><td>-0.281791</td><td>11.1823</td><td></td><td></td><td>Float64</td></tr><tr><th>9</th><td>SS_max</td><td>0.426017</td><td>-0.491843</td><td>-0.255996</td><td>10.7594</td><td></td><td></td><td>Float64</td></tr><tr><th>10</th><td>SS_max3</td><td>0.512399</td><td>-0.48537</td><td>-0.273592</td><td>9.28884</td><td></td><td></td><td>Float64</td></tr></tbody></table>"
      ],
      "text/latex": [
       "\\begin{tabular}{r|cccccccc}\n",
       "\t& variable & mean & min & median & max & nunique & nmissing & eltype\\\\\n",
       "\t\\hline\n",
       "\t& Symbol & Union… & Any & Union… & Any & Union… & Nothing & DataType\\\\\n",
       "\t\\hline\n",
       "\t1 & DATE &  & 2013-05-01 &  & 2018-10-31 & 1100 &  & Date \\\\\n",
       "\t2 & SURVERSE & 0.2931 & 0 & 0.0 & 1 &  &  & Int64 \\\\\n",
       "\t3 & FS\\_dist & 0.149987 & 0.149987 & 0.149987 & 0.149987 &  &  & Float64 \\\\\n",
       "\t4 & SS\\_dist & 0.168295 & 0.168295 & 0.168295 & 0.168295 &  &  & Float64 \\\\\n",
       "\t5 & FS\\_sum & 0.466262 & -0.447518 & -0.304083 & 10.7456 &  &  & Float64 \\\\\n",
       "\t6 & FS\\_max & 0.353501 & -0.469188 & -0.312847 & 9.76237 &  &  & Float64 \\\\\n",
       "\t7 & FS\\_max3 & 0.419028 & -0.466624 & -0.313815 & 12.4747 &  &  & Float64 \\\\\n",
       "\t8 & SS\\_sum & 0.567112 & -0.466947 & -0.281791 & 11.1823 &  &  & Float64 \\\\\n",
       "\t9 & SS\\_max & 0.426017 & -0.491843 & -0.255996 & 10.7594 &  &  & Float64 \\\\\n",
       "\t10 & SS\\_max3 & 0.512399 & -0.48537 & -0.273592 & 9.28884 &  &  & Float64 \\\\\n",
       "\\end{tabular}\n"
      ],
      "text/plain": [
       "10×8 DataFrame. Omitted printing of 2 columns\n",
       "│ Row │ variable │ mean     │ min        │ median    │ max        │ nunique │\n",
       "│     │ \u001b[90mSymbol\u001b[39m   │ \u001b[90mUnion…\u001b[39m   │ \u001b[90mAny\u001b[39m        │ \u001b[90mUnion…\u001b[39m    │ \u001b[90mAny\u001b[39m        │ \u001b[90mUnion…\u001b[39m  │\n",
       "├─────┼──────────┼──────────┼────────────┼───────────┼────────────┼─────────┤\n",
       "│ 1   │ DATE     │          │ 2013-05-01 │           │ 2018-10-31 │ 1100    │\n",
       "│ 2   │ SURVERSE │ 0.2931   │ 0          │ 0.0       │ 1          │         │\n",
       "│ 3   │ FS_dist  │ 0.149987 │ 0.149987   │ 0.149987  │ 0.149987   │         │\n",
       "│ 4   │ SS_dist  │ 0.168295 │ 0.168295   │ 0.168295  │ 0.168295   │         │\n",
       "│ 5   │ FS_sum   │ 0.466262 │ -0.447518  │ -0.304083 │ 10.7456    │         │\n",
       "│ 6   │ FS_max   │ 0.353501 │ -0.469188  │ -0.312847 │ 9.76237    │         │\n",
       "│ 7   │ FS_max3  │ 0.419028 │ -0.466624  │ -0.313815 │ 12.4747    │         │\n",
       "│ 8   │ SS_sum   │ 0.567112 │ -0.466947  │ -0.281791 │ 11.1823    │         │\n",
       "│ 9   │ SS_max   │ 0.426017 │ -0.491843  │ -0.255996 │ 10.7594    │         │\n",
       "│ 10  │ SS_max3  │ 0.512399 │ -0.48537   │ -0.273592 │ 9.28884    │         │"
      ]
     },
     "execution_count": 60,
     "metadata": {},
     "output_type": "execute_result"
    }
   ],
   "source": [
    "describe(new_entries)"
   ]
  },
  {
   "cell_type": "code",
   "execution_count": 61,
   "metadata": {},
   "outputs": [
    {
     "data": {
      "text/plain": [
       "\"data/parsed/oversampled/ouvrage_4240.csv\""
      ]
     },
     "execution_count": 61,
     "metadata": {},
     "output_type": "execute_result"
    }
   ],
   "source": [
    "CSV.write(\"data/parsed/oversampled/ouvrage_4240.csv\", new_entries)"
   ]
  },
  {
   "cell_type": "markdown",
   "metadata": {},
   "source": [
    "## Ouvrage 4350"
   ]
  },
  {
   "cell_type": "code",
   "execution_count": 62,
   "metadata": {},
   "outputs": [
    {
     "data": {
      "text/plain": [
       "(1100, 10)"
      ]
     },
     "execution_count": 62,
     "metadata": {},
     "output_type": "execute_result"
    }
   ],
   "source": [
    "data_set = CSV.read(\"data/parsed/ouvrage_4350.csv\");\n",
    "size(data_set)"
   ]
  },
  {
   "cell_type": "code",
   "execution_count": 63,
   "metadata": {},
   "outputs": [
    {
     "data": {
      "text/html": [
       "<table class=\"data-frame\"><thead><tr><th></th><th>variable</th><th>mean</th><th>min</th><th>median</th><th>max</th><th>nunique</th><th>nmissing</th><th>eltype</th></tr><tr><th></th><th>Symbol</th><th>Union…</th><th>Any</th><th>Union…</th><th>Any</th><th>Union…</th><th>Nothing</th><th>DataType</th></tr></thead><tbody><p>10 rows × 8 columns</p><tr><th>1</th><td>DATE</td><td></td><td>2013-05-01</td><td></td><td>2018-10-31</td><td>1100</td><td></td><td>Date</td></tr><tr><th>2</th><td>SURVERSE</td><td>0.0381818</td><td>0</td><td>0.0</td><td>1</td><td></td><td></td><td>Int64</td></tr><tr><th>3</th><td>FS_dist</td><td>0.0248354</td><td>0.0248354</td><td>0.0248354</td><td>0.0248354</td><td></td><td></td><td>Float64</td></tr><tr><th>4</th><td>SS_dist</td><td>0.139269</td><td>0.139269</td><td>0.139269</td><td>0.139269</td><td></td><td></td><td>Float64</td></tr><tr><th>5</th><td>FS_sum</td><td>-0.00633163</td><td>-0.396293</td><td>-0.396293</td><td>9.43361</td><td></td><td></td><td>Float64</td></tr><tr><th>6</th><td>FS_max</td><td>-3.24033e-5</td><td>-0.415792</td><td>-0.415792</td><td>7.80956</td><td></td><td></td><td>Float64</td></tr><tr><th>7</th><td>FS_max3</td><td>-0.00776021</td><td>-0.417149</td><td>-0.417149</td><td>11.6341</td><td></td><td></td><td>Float64</td></tr><tr><th>8</th><td>SS_sum</td><td>-0.00346406</td><td>-0.0493965</td><td>-0.0493965</td><td>1.1989</td><td></td><td></td><td>Float64</td></tr><tr><th>9</th><td>SS_max</td><td>-0.00298854</td><td>-0.0517744</td><td>-0.0517744</td><td>1.07857</td><td></td><td></td><td>Float64</td></tr><tr><th>10</th><td>SS_max3</td><td>-0.00404947</td><td>-0.0514987</td><td>-0.0514987</td><td>1.39248</td><td></td><td></td><td>Float64</td></tr></tbody></table>"
      ],
      "text/latex": [
       "\\begin{tabular}{r|cccccccc}\n",
       "\t& variable & mean & min & median & max & nunique & nmissing & eltype\\\\\n",
       "\t\\hline\n",
       "\t& Symbol & Union… & Any & Union… & Any & Union… & Nothing & DataType\\\\\n",
       "\t\\hline\n",
       "\t1 & DATE &  & 2013-05-01 &  & 2018-10-31 & 1100 &  & Date \\\\\n",
       "\t2 & SURVERSE & 0.0381818 & 0 & 0.0 & 1 &  &  & Int64 \\\\\n",
       "\t3 & FS\\_dist & 0.0248354 & 0.0248354 & 0.0248354 & 0.0248354 &  &  & Float64 \\\\\n",
       "\t4 & SS\\_dist & 0.139269 & 0.139269 & 0.139269 & 0.139269 &  &  & Float64 \\\\\n",
       "\t5 & FS\\_sum & -0.00633163 & -0.396293 & -0.396293 & 9.43361 &  &  & Float64 \\\\\n",
       "\t6 & FS\\_max & -3.24033e-5 & -0.415792 & -0.415792 & 7.80956 &  &  & Float64 \\\\\n",
       "\t7 & FS\\_max3 & -0.00776021 & -0.417149 & -0.417149 & 11.6341 &  &  & Float64 \\\\\n",
       "\t8 & SS\\_sum & -0.00346406 & -0.0493965 & -0.0493965 & 1.1989 &  &  & Float64 \\\\\n",
       "\t9 & SS\\_max & -0.00298854 & -0.0517744 & -0.0517744 & 1.07857 &  &  & Float64 \\\\\n",
       "\t10 & SS\\_max3 & -0.00404947 & -0.0514987 & -0.0514987 & 1.39248 &  &  & Float64 \\\\\n",
       "\\end{tabular}\n"
      ],
      "text/plain": [
       "10×8 DataFrame. Omitted printing of 3 columns\n",
       "│ Row │ variable │ mean        │ min        │ median     │ max        │\n",
       "│     │ \u001b[90mSymbol\u001b[39m   │ \u001b[90mUnion…\u001b[39m      │ \u001b[90mAny\u001b[39m        │ \u001b[90mUnion…\u001b[39m     │ \u001b[90mAny\u001b[39m        │\n",
       "├─────┼──────────┼─────────────┼────────────┼────────────┼────────────┤\n",
       "│ 1   │ DATE     │             │ 2013-05-01 │            │ 2018-10-31 │\n",
       "│ 2   │ SURVERSE │ 0.0381818   │ 0          │ 0.0        │ 1          │\n",
       "│ 3   │ FS_dist  │ 0.0248354   │ 0.0248354  │ 0.0248354  │ 0.0248354  │\n",
       "│ 4   │ SS_dist  │ 0.139269    │ 0.139269   │ 0.139269   │ 0.139269   │\n",
       "│ 5   │ FS_sum   │ -0.00633163 │ -0.396293  │ -0.396293  │ 9.43361    │\n",
       "│ 6   │ FS_max   │ -3.24033e-5 │ -0.415792  │ -0.415792  │ 7.80956    │\n",
       "│ 7   │ FS_max3  │ -0.00776021 │ -0.417149  │ -0.417149  │ 11.6341    │\n",
       "│ 8   │ SS_sum   │ -0.00346406 │ -0.0493965 │ -0.0493965 │ 1.1989     │\n",
       "│ 9   │ SS_max   │ -0.00298854 │ -0.0517744 │ -0.0517744 │ 1.07857    │\n",
       "│ 10  │ SS_max3  │ -0.00404947 │ -0.0514987 │ -0.0514987 │ 1.39248    │"
      ]
     },
     "execution_count": 63,
     "metadata": {},
     "output_type": "execute_result"
    }
   ],
   "source": [
    "describe(data_set)"
   ]
  },
  {
   "cell_type": "code",
   "execution_count": 66,
   "metadata": {},
   "outputs": [],
   "source": [
    "n_to_random_sample = 10000 - size(data_set, 1);\n",
    "new_entries = similar(data_set, nrow(data_set))\n",
    "\n",
    "for (i, row) in enumerate(eachrow(data_set))\n",
    "    new_entries[i, :] = row[:]\n",
    "end\n",
    "\n",
    "for i=1:n_to_random_sample\n",
    "    should_surverse = rand() > 0.67 ? 1 : 0;\n",
    "    cols = filter(row -> row.SURVERSE == should_surverse, data_set);\n",
    "    idx_row = convert(Int64, trunc(rand() * size(cols, 1))) + 1;\n",
    "    \n",
    "    entry = cols[idx_row, :];\n",
    "    generate_new_entry(new_entries, entry);\n",
    "end"
   ]
  },
  {
   "cell_type": "code",
   "execution_count": 67,
   "metadata": {},
   "outputs": [
    {
     "data": {
      "text/html": [
       "<table class=\"data-frame\"><thead><tr><th></th><th>variable</th><th>mean</th><th>min</th><th>median</th><th>max</th><th>nunique</th><th>nmissing</th><th>eltype</th></tr><tr><th></th><th>Symbol</th><th>Union…</th><th>Any</th><th>Union…</th><th>Any</th><th>Union…</th><th>Nothing</th><th>DataType</th></tr></thead><tbody><p>10 rows × 8 columns</p><tr><th>1</th><td>DATE</td><td></td><td>2013-05-01</td><td></td><td>2018-10-31</td><td>1100</td><td></td><td>Date</td></tr><tr><th>2</th><td>SURVERSE</td><td>0.2976</td><td>0</td><td>0.0</td><td>1</td><td></td><td></td><td>Int64</td></tr><tr><th>3</th><td>FS_dist</td><td>0.0248354</td><td>0.0248354</td><td>0.0248354</td><td>0.0248354</td><td></td><td></td><td>Float64</td></tr><tr><th>4</th><td>SS_dist</td><td>0.139269</td><td>0.139269</td><td>0.139269</td><td>0.139269</td><td></td><td></td><td>Float64</td></tr><tr><th>5</th><td>FS_sum</td><td>0.846876</td><td>-0.495229</td><td>-0.305495</td><td>11.6969</td><td></td><td></td><td>Float64</td></tr><tr><th>6</th><td>FS_max</td><td>0.786351</td><td>-0.519627</td><td>-0.31121</td><td>9.71162</td><td></td><td></td><td>Float64</td></tr><tr><th>7</th><td>FS_max3</td><td>0.806221</td><td>-0.52143</td><td>-0.31707</td><td>14.5215</td><td></td><td></td><td>Float64</td></tr><tr><th>8</th><td>SS_sum</td><td>0.0919327</td><td>-0.0617302</td><td>-0.0412183</td><td>1.49668</td><td></td><td></td><td>Float64</td></tr><tr><th>9</th><td>SS_max</td><td>0.0790611</td><td>-0.064717</td><td>-0.0428679</td><td>1.345</td><td></td><td></td><td>Float64</td></tr><tr><th>10</th><td>SS_max3</td><td>0.0844429</td><td>-0.0643688</td><td>-0.0429532</td><td>1.70026</td><td></td><td></td><td>Float64</td></tr></tbody></table>"
      ],
      "text/latex": [
       "\\begin{tabular}{r|cccccccc}\n",
       "\t& variable & mean & min & median & max & nunique & nmissing & eltype\\\\\n",
       "\t\\hline\n",
       "\t& Symbol & Union… & Any & Union… & Any & Union… & Nothing & DataType\\\\\n",
       "\t\\hline\n",
       "\t1 & DATE &  & 2013-05-01 &  & 2018-10-31 & 1100 &  & Date \\\\\n",
       "\t2 & SURVERSE & 0.2976 & 0 & 0.0 & 1 &  &  & Int64 \\\\\n",
       "\t3 & FS\\_dist & 0.0248354 & 0.0248354 & 0.0248354 & 0.0248354 &  &  & Float64 \\\\\n",
       "\t4 & SS\\_dist & 0.139269 & 0.139269 & 0.139269 & 0.139269 &  &  & Float64 \\\\\n",
       "\t5 & FS\\_sum & 0.846876 & -0.495229 & -0.305495 & 11.6969 &  &  & Float64 \\\\\n",
       "\t6 & FS\\_max & 0.786351 & -0.519627 & -0.31121 & 9.71162 &  &  & Float64 \\\\\n",
       "\t7 & FS\\_max3 & 0.806221 & -0.52143 & -0.31707 & 14.5215 &  &  & Float64 \\\\\n",
       "\t8 & SS\\_sum & 0.0919327 & -0.0617302 & -0.0412183 & 1.49668 &  &  & Float64 \\\\\n",
       "\t9 & SS\\_max & 0.0790611 & -0.064717 & -0.0428679 & 1.345 &  &  & Float64 \\\\\n",
       "\t10 & SS\\_max3 & 0.0844429 & -0.0643688 & -0.0429532 & 1.70026 &  &  & Float64 \\\\\n",
       "\\end{tabular}\n"
      ],
      "text/plain": [
       "10×8 DataFrame. Omitted printing of 2 columns\n",
       "│ Row │ variable │ mean      │ min        │ median     │ max        │ nunique │\n",
       "│     │ \u001b[90mSymbol\u001b[39m   │ \u001b[90mUnion…\u001b[39m    │ \u001b[90mAny\u001b[39m        │ \u001b[90mUnion…\u001b[39m     │ \u001b[90mAny\u001b[39m        │ \u001b[90mUnion…\u001b[39m  │\n",
       "├─────┼──────────┼───────────┼────────────┼────────────┼────────────┼─────────┤\n",
       "│ 1   │ DATE     │           │ 2013-05-01 │            │ 2018-10-31 │ 1100    │\n",
       "│ 2   │ SURVERSE │ 0.2976    │ 0          │ 0.0        │ 1          │         │\n",
       "│ 3   │ FS_dist  │ 0.0248354 │ 0.0248354  │ 0.0248354  │ 0.0248354  │         │\n",
       "│ 4   │ SS_dist  │ 0.139269  │ 0.139269   │ 0.139269   │ 0.139269   │         │\n",
       "│ 5   │ FS_sum   │ 0.846876  │ -0.495229  │ -0.305495  │ 11.6969    │         │\n",
       "│ 6   │ FS_max   │ 0.786351  │ -0.519627  │ -0.31121   │ 9.71162    │         │\n",
       "│ 7   │ FS_max3  │ 0.806221  │ -0.52143   │ -0.31707   │ 14.5215    │         │\n",
       "│ 8   │ SS_sum   │ 0.0919327 │ -0.0617302 │ -0.0412183 │ 1.49668    │         │\n",
       "│ 9   │ SS_max   │ 0.0790611 │ -0.064717  │ -0.0428679 │ 1.345      │         │\n",
       "│ 10  │ SS_max3  │ 0.0844429 │ -0.0643688 │ -0.0429532 │ 1.70026    │         │"
      ]
     },
     "execution_count": 67,
     "metadata": {},
     "output_type": "execute_result"
    }
   ],
   "source": [
    "describe(new_entries)"
   ]
  },
  {
   "cell_type": "code",
   "execution_count": 68,
   "metadata": {},
   "outputs": [
    {
     "data": {
      "text/plain": [
       "\"data/parsed/oversampled/ouvrage_4350.csv\""
      ]
     },
     "execution_count": 68,
     "metadata": {},
     "output_type": "execute_result"
    }
   ],
   "source": [
    "CSV.write(\"data/parsed/oversampled/ouvrage_4350.csv\", new_entries)"
   ]
  },
  {
   "cell_type": "markdown",
   "metadata": {},
   "source": [
    "## Ouvrage 4380"
   ]
  },
  {
   "cell_type": "code",
   "execution_count": 69,
   "metadata": {},
   "outputs": [
    {
     "data": {
      "text/plain": [
       "(1103, 10)"
      ]
     },
     "execution_count": 69,
     "metadata": {},
     "output_type": "execute_result"
    }
   ],
   "source": [
    "data_set = CSV.read(\"data/parsed/ouvrage_4380.csv\");\n",
    "size(data_set)"
   ]
  },
  {
   "cell_type": "code",
   "execution_count": 70,
   "metadata": {},
   "outputs": [
    {
     "data": {
      "text/html": [
       "<table class=\"data-frame\"><thead><tr><th></th><th>variable</th><th>mean</th><th>min</th><th>median</th><th>max</th><th>nunique</th><th>nmissing</th><th>eltype</th></tr><tr><th></th><th>Symbol</th><th>Union…</th><th>Any</th><th>Union…</th><th>Any</th><th>Union…</th><th>Nothing</th><th>DataType</th></tr></thead><tbody><p>10 rows × 8 columns</p><tr><th>1</th><td>DATE</td><td></td><td>2013-05-01</td><td></td><td>2018-10-31</td><td>1103</td><td></td><td>Date</td></tr><tr><th>2</th><td>SURVERSE</td><td>0.0761559</td><td>0</td><td>0.0</td><td>1</td><td></td><td></td><td>Int64</td></tr><tr><th>3</th><td>FS_dist</td><td>0.0401006</td><td>0.0401006</td><td>0.0401006</td><td>0.0401006</td><td></td><td></td><td>Float64</td></tr><tr><th>4</th><td>SS_dist</td><td>0.154948</td><td>0.154948</td><td>0.154948</td><td>0.154948</td><td></td><td></td><td>Float64</td></tr><tr><th>5</th><td>FS_sum</td><td>-0.0125561</td><td>-0.396293</td><td>-0.396293</td><td>9.43361</td><td></td><td></td><td>Float64</td></tr><tr><th>6</th><td>FS_max</td><td>-0.00278184</td><td>-0.415792</td><td>-0.415792</td><td>7.80956</td><td></td><td></td><td>Float64</td></tr><tr><th>7</th><td>FS_max3</td><td>-0.0107162</td><td>-0.417149</td><td>-0.417149</td><td>11.6341</td><td></td><td></td><td>Float64</td></tr><tr><th>8</th><td>SS_sum</td><td>-0.0102462</td><td>-0.116085</td><td>-0.116085</td><td>2.8175</td><td></td><td></td><td>Float64</td></tr><tr><th>9</th><td>SS_max</td><td>-0.00823173</td><td>-0.121674</td><td>-0.121674</td><td>2.53472</td><td></td><td></td><td>Float64</td></tr><tr><th>10</th><td>SS_max3</td><td>-0.0105329</td><td>-0.121026</td><td>-0.121026</td><td>3.27244</td><td></td><td></td><td>Float64</td></tr></tbody></table>"
      ],
      "text/latex": [
       "\\begin{tabular}{r|cccccccc}\n",
       "\t& variable & mean & min & median & max & nunique & nmissing & eltype\\\\\n",
       "\t\\hline\n",
       "\t& Symbol & Union… & Any & Union… & Any & Union… & Nothing & DataType\\\\\n",
       "\t\\hline\n",
       "\t1 & DATE &  & 2013-05-01 &  & 2018-10-31 & 1103 &  & Date \\\\\n",
       "\t2 & SURVERSE & 0.0761559 & 0 & 0.0 & 1 &  &  & Int64 \\\\\n",
       "\t3 & FS\\_dist & 0.0401006 & 0.0401006 & 0.0401006 & 0.0401006 &  &  & Float64 \\\\\n",
       "\t4 & SS\\_dist & 0.154948 & 0.154948 & 0.154948 & 0.154948 &  &  & Float64 \\\\\n",
       "\t5 & FS\\_sum & -0.0125561 & -0.396293 & -0.396293 & 9.43361 &  &  & Float64 \\\\\n",
       "\t6 & FS\\_max & -0.00278184 & -0.415792 & -0.415792 & 7.80956 &  &  & Float64 \\\\\n",
       "\t7 & FS\\_max3 & -0.0107162 & -0.417149 & -0.417149 & 11.6341 &  &  & Float64 \\\\\n",
       "\t8 & SS\\_sum & -0.0102462 & -0.116085 & -0.116085 & 2.8175 &  &  & Float64 \\\\\n",
       "\t9 & SS\\_max & -0.00823173 & -0.121674 & -0.121674 & 2.53472 &  &  & Float64 \\\\\n",
       "\t10 & SS\\_max3 & -0.0105329 & -0.121026 & -0.121026 & 3.27244 &  &  & Float64 \\\\\n",
       "\\end{tabular}\n"
      ],
      "text/plain": [
       "10×8 DataFrame. Omitted printing of 2 columns\n",
       "│ Row │ variable │ mean        │ min        │ median    │ max        │ nunique │\n",
       "│     │ \u001b[90mSymbol\u001b[39m   │ \u001b[90mUnion…\u001b[39m      │ \u001b[90mAny\u001b[39m        │ \u001b[90mUnion…\u001b[39m    │ \u001b[90mAny\u001b[39m        │ \u001b[90mUnion…\u001b[39m  │\n",
       "├─────┼──────────┼─────────────┼────────────┼───────────┼────────────┼─────────┤\n",
       "│ 1   │ DATE     │             │ 2013-05-01 │           │ 2018-10-31 │ 1103    │\n",
       "│ 2   │ SURVERSE │ 0.0761559   │ 0          │ 0.0       │ 1          │         │\n",
       "│ 3   │ FS_dist  │ 0.0401006   │ 0.0401006  │ 0.0401006 │ 0.0401006  │         │\n",
       "│ 4   │ SS_dist  │ 0.154948    │ 0.154948   │ 0.154948  │ 0.154948   │         │\n",
       "│ 5   │ FS_sum   │ -0.0125561  │ -0.396293  │ -0.396293 │ 9.43361    │         │\n",
       "│ 6   │ FS_max   │ -0.00278184 │ -0.415792  │ -0.415792 │ 7.80956    │         │\n",
       "│ 7   │ FS_max3  │ -0.0107162  │ -0.417149  │ -0.417149 │ 11.6341    │         │\n",
       "│ 8   │ SS_sum   │ -0.0102462  │ -0.116085  │ -0.116085 │ 2.8175     │         │\n",
       "│ 9   │ SS_max   │ -0.00823173 │ -0.121674  │ -0.121674 │ 2.53472    │         │\n",
       "│ 10  │ SS_max3  │ -0.0105329  │ -0.121026  │ -0.121026 │ 3.27244    │         │"
      ]
     },
     "execution_count": 70,
     "metadata": {},
     "output_type": "execute_result"
    }
   ],
   "source": [
    "describe(data_set)"
   ]
  },
  {
   "cell_type": "code",
   "execution_count": 71,
   "metadata": {},
   "outputs": [],
   "source": [
    "n_to_random_sample = 10000 - size(data_set, 1);\n",
    "new_entries = similar(data_set, nrow(data_set))\n",
    "\n",
    "for (i, row) in enumerate(eachrow(data_set))\n",
    "    new_entries[i, :] = row[:]\n",
    "end\n",
    "\n",
    "for i=1:n_to_random_sample\n",
    "    should_surverse = rand() > 0.69 ? 1 : 0;\n",
    "    cols = filter(row -> row.SURVERSE == should_surverse, data_set);\n",
    "    idx_row = convert(Int64, trunc(rand() * size(cols, 1))) + 1;\n",
    "    \n",
    "    entry = cols[idx_row, :];\n",
    "    generate_new_entry(new_entries, entry);\n",
    "end"
   ]
  },
  {
   "cell_type": "code",
   "execution_count": 72,
   "metadata": {},
   "outputs": [
    {
     "data": {
      "text/html": [
       "<table class=\"data-frame\"><thead><tr><th></th><th>variable</th><th>mean</th><th>min</th><th>median</th><th>max</th><th>nunique</th><th>nmissing</th><th>eltype</th></tr><tr><th></th><th>Symbol</th><th>Union…</th><th>Any</th><th>Union…</th><th>Any</th><th>Union…</th><th>Nothing</th><th>DataType</th></tr></thead><tbody><p>10 rows × 8 columns</p><tr><th>1</th><td>DATE</td><td></td><td>2013-05-01</td><td></td><td>2018-10-31</td><td>1103</td><td></td><td>Date</td></tr><tr><th>2</th><td>SURVERSE</td><td>0.2922</td><td>0</td><td>0.0</td><td>1</td><td></td><td></td><td>Int64</td></tr><tr><th>3</th><td>FS_dist</td><td>0.0401006</td><td>0.0401006</td><td>0.0401006</td><td>0.0401006</td><td></td><td></td><td>Float64</td></tr><tr><th>4</th><td>SS_dist</td><td>0.154948</td><td>0.154948</td><td>0.154948</td><td>0.154948</td><td></td><td></td><td>Float64</td></tr><tr><th>5</th><td>FS_sum</td><td>0.458345</td><td>-0.495362</td><td>-0.319497</td><td>11.7609</td><td></td><td></td><td>Float64</td></tr><tr><th>6</th><td>FS_max</td><td>0.48388</td><td>-0.519668</td><td>-0.32903</td><td>9.69116</td><td></td><td></td><td>Float64</td></tr><tr><th>7</th><td>FS_max3</td><td>0.476287</td><td>-0.521427</td><td>-0.334192</td><td>14.2144</td><td></td><td></td><td>Float64</td></tr><tr><th>8</th><td>SS_sum</td><td>0.141471</td><td>-0.145097</td><td>-0.0991967</td><td>3.35158</td><td></td><td></td><td>Float64</td></tr><tr><th>9</th><td>SS_max</td><td>0.140737</td><td>-0.152088</td><td>-0.102121</td><td>3.07799</td><td></td><td></td><td>Float64</td></tr><tr><th>10</th><td>SS_max3</td><td>0.14173</td><td>-0.15128</td><td>-0.102317</td><td>3.93344</td><td></td><td></td><td>Float64</td></tr></tbody></table>"
      ],
      "text/latex": [
       "\\begin{tabular}{r|cccccccc}\n",
       "\t& variable & mean & min & median & max & nunique & nmissing & eltype\\\\\n",
       "\t\\hline\n",
       "\t& Symbol & Union… & Any & Union… & Any & Union… & Nothing & DataType\\\\\n",
       "\t\\hline\n",
       "\t1 & DATE &  & 2013-05-01 &  & 2018-10-31 & 1103 &  & Date \\\\\n",
       "\t2 & SURVERSE & 0.2922 & 0 & 0.0 & 1 &  &  & Int64 \\\\\n",
       "\t3 & FS\\_dist & 0.0401006 & 0.0401006 & 0.0401006 & 0.0401006 &  &  & Float64 \\\\\n",
       "\t4 & SS\\_dist & 0.154948 & 0.154948 & 0.154948 & 0.154948 &  &  & Float64 \\\\\n",
       "\t5 & FS\\_sum & 0.458345 & -0.495362 & -0.319497 & 11.7609 &  &  & Float64 \\\\\n",
       "\t6 & FS\\_max & 0.48388 & -0.519668 & -0.32903 & 9.69116 &  &  & Float64 \\\\\n",
       "\t7 & FS\\_max3 & 0.476287 & -0.521427 & -0.334192 & 14.2144 &  &  & Float64 \\\\\n",
       "\t8 & SS\\_sum & 0.141471 & -0.145097 & -0.0991967 & 3.35158 &  &  & Float64 \\\\\n",
       "\t9 & SS\\_max & 0.140737 & -0.152088 & -0.102121 & 3.07799 &  &  & Float64 \\\\\n",
       "\t10 & SS\\_max3 & 0.14173 & -0.15128 & -0.102317 & 3.93344 &  &  & Float64 \\\\\n",
       "\\end{tabular}\n"
      ],
      "text/plain": [
       "10×8 DataFrame. Omitted printing of 2 columns\n",
       "│ Row │ variable │ mean      │ min        │ median     │ max        │ nunique │\n",
       "│     │ \u001b[90mSymbol\u001b[39m   │ \u001b[90mUnion…\u001b[39m    │ \u001b[90mAny\u001b[39m        │ \u001b[90mUnion…\u001b[39m     │ \u001b[90mAny\u001b[39m        │ \u001b[90mUnion…\u001b[39m  │\n",
       "├─────┼──────────┼───────────┼────────────┼────────────┼────────────┼─────────┤\n",
       "│ 1   │ DATE     │           │ 2013-05-01 │            │ 2018-10-31 │ 1103    │\n",
       "│ 2   │ SURVERSE │ 0.2922    │ 0          │ 0.0        │ 1          │         │\n",
       "│ 3   │ FS_dist  │ 0.0401006 │ 0.0401006  │ 0.0401006  │ 0.0401006  │         │\n",
       "│ 4   │ SS_dist  │ 0.154948  │ 0.154948   │ 0.154948   │ 0.154948   │         │\n",
       "│ 5   │ FS_sum   │ 0.458345  │ -0.495362  │ -0.319497  │ 11.7609    │         │\n",
       "│ 6   │ FS_max   │ 0.48388   │ -0.519668  │ -0.32903   │ 9.69116    │         │\n",
       "│ 7   │ FS_max3  │ 0.476287  │ -0.521427  │ -0.334192  │ 14.2144    │         │\n",
       "│ 8   │ SS_sum   │ 0.141471  │ -0.145097  │ -0.0991967 │ 3.35158    │         │\n",
       "│ 9   │ SS_max   │ 0.140737  │ -0.152088  │ -0.102121  │ 3.07799    │         │\n",
       "│ 10  │ SS_max3  │ 0.14173   │ -0.15128   │ -0.102317  │ 3.93344    │         │"
      ]
     },
     "execution_count": 72,
     "metadata": {},
     "output_type": "execute_result"
    }
   ],
   "source": [
    "describe(new_entries)"
   ]
  },
  {
   "cell_type": "code",
   "execution_count": 73,
   "metadata": {},
   "outputs": [
    {
     "data": {
      "text/plain": [
       "\"data/parsed/oversampled/ouvrage_4380.csv\""
      ]
     },
     "execution_count": 73,
     "metadata": {},
     "output_type": "execute_result"
    }
   ],
   "source": [
    "CSV.write(\"data/parsed/oversampled/ouvrage_4380.csv\", new_entries)"
   ]
  }
 ],
 "metadata": {
  "kernelspec": {
   "display_name": "Julia 1.2.0",
   "language": "julia",
   "name": "julia-1.2"
  },
  "language_info": {
   "file_extension": ".jl",
   "mimetype": "application/julia",
   "name": "julia",
   "version": "1.0.5"
  }
 },
 "nbformat": 4,
 "nbformat_minor": 2
}
