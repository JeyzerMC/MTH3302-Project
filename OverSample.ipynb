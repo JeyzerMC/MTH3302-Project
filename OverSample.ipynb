{
 "cells": [
  {
   "cell_type": "code",
   "execution_count": 1,
   "metadata": {},
   "outputs": [
    {
     "name": "stderr",
     "output_type": "stream",
     "text": [
      "┌ Info: Loading DataFrames support into Gadfly.jl\n",
      "└ @ Gadfly /home/chaime/.julia/packages/Gadfly/09PWZ/src/mapping.jl:228\n"
     ]
    }
   ],
   "source": [
    "using CSV, DataFrames, Statistics, Dates, Gadfly, Random;\n",
    "include(\"utils/precipitation.jl\");"
   ]
  },
  {
   "cell_type": "code",
   "execution_count": 10,
   "metadata": {},
   "outputs": [
    {
     "data": {
      "text/plain": [
       "generate_variation (generic function with 1 method)"
      ]
     },
     "execution_count": 10,
     "metadata": {},
     "output_type": "execute_result"
    }
   ],
   "source": [
    "function generate_variation(val)\n",
    "    var = rand() * 0.4;\n",
    "    return val * (0.8 + var);\n",
    "end"
   ]
  },
  {
   "cell_type": "code",
   "execution_count": 11,
   "metadata": {},
   "outputs": [
    {
     "data": {
      "text/plain": [
       "generate_new_entry (generic function with 1 method)"
      ]
     },
     "execution_count": 11,
     "metadata": {},
     "output_type": "execute_result"
    }
   ],
   "source": [
    "function generate_new_entry(df, entry)\n",
    "    nwDATE = entry.DATE;\n",
    "    nwSURVERSE = entry.SURVERSE;\n",
    "    nwFS_dist = entry.FS_dist;\n",
    "    nwSS_dist = entry.SS_dist;\n",
    "    nwFS_sum = generate_variation(entry.FS_sum);\n",
    "    nwFS_max = generate_variation(entry.FS_max);\n",
    "    nwFS_max3 = generate_variation(entry.FS_max3);\n",
    "    nwSS_sum = generate_variation(entry.SS_sum);\n",
    "    nwSS_max = generate_variation(entry.SS_max);\n",
    "    nwSS_max3 = generate_variation(entry.SS_max3);\n",
    "    \n",
    "    push!(df, [nwDATE, nwSURVERSE, nwFS_dist, nwSS_dist, \n",
    "               nwFS_sum, nwFS_max, nwFS_max3, \n",
    "               nwSS_sum, nwSS_max, nwSS_max3])\n",
    "end"
   ]
  },
  {
   "cell_type": "markdown",
   "metadata": {},
   "source": [
    "## Ouvrage 3260"
   ]
  },
  {
   "cell_type": "code",
   "execution_count": 16,
   "metadata": {},
   "outputs": [
    {
     "data": {
      "text/plain": [
       "(1097, 10)"
      ]
     },
     "execution_count": 16,
     "metadata": {},
     "output_type": "execute_result"
    }
   ],
   "source": [
    "data_set = CSV.read(\"data/parsed/ouvrage_3260.csv\");\n",
    "size(data_set)"
   ]
  },
  {
   "cell_type": "code",
   "execution_count": 17,
   "metadata": {
    "scrolled": true
   },
   "outputs": [
    {
     "data": {
      "text/html": [
       "<table class=\"data-frame\"><thead><tr><th></th><th>DATE</th><th>SURVERSE</th><th>FS_dist</th><th>SS_dist</th><th>FS_sum</th><th>FS_max</th><th>FS_max3</th><th>SS_sum</th></tr><tr><th></th><th>Date</th><th>Int64</th><th>Float64</th><th>Float64</th><th>Float64</th><th>Float64</th><th>Float64</th><th>Float64</th></tr></thead><tbody><p>10 rows × 10 columns (omitted printing of 2 columns)</p><tr><th>1</th><td>2016-08-30</td><td>0</td><td>0.145981</td><td>0.210769</td><td>-0.396293</td><td>-0.415792</td><td>-0.417149</td><td>-0.268446</td></tr><tr><th>2</th><td>2014-07-04</td><td>0</td><td>0.145981</td><td>0.210769</td><td>-0.396293</td><td>-0.415792</td><td>-0.417149</td><td>-0.113033</td></tr><tr><th>3</th><td>2016-05-13</td><td>0</td><td>0.145981</td><td>0.210769</td><td>0.0260856</td><td>0.445</td><td>0.253495</td><td>0.221703</td></tr><tr><th>4</th><td>2014-05-04</td><td>0</td><td>0.145981</td><td>0.210769</td><td>2.30437</td><td>0.731931</td><td>1.08672</td><td>-0.292356</td></tr><tr><th>5</th><td>2015-08-18</td><td>0</td><td>0.145981</td><td>0.210769</td><td>2.12518</td><td>5.86481</td><td>3.58639</td><td>-0.292356</td></tr><tr><th>6</th><td>2013-05-06</td><td>0</td><td>0.145981</td><td>0.210769</td><td>-0.396293</td><td>-0.415792</td><td>-0.417149</td><td>-0.292356</td></tr><tr><th>7</th><td>2013-10-12</td><td>0</td><td>0.145981</td><td>0.210769</td><td>-0.396293</td><td>-0.415792</td><td>-0.417149</td><td>-0.292356</td></tr><tr><th>8</th><td>2014-09-17</td><td>0</td><td>0.145981</td><td>0.210769</td><td>-0.345096</td><td>-0.35203</td><td>-0.335858</td><td>-0.292356</td></tr><tr><th>9</th><td>2014-10-27</td><td>0</td><td>0.145981</td><td>0.210769</td><td>-0.396293</td><td>-0.415792</td><td>-0.417149</td><td>-0.292356</td></tr><tr><th>10</th><td>2018-07-31</td><td>0</td><td>0.145981</td><td>0.210769</td><td>-0.396293</td><td>-0.415792</td><td>-0.417149</td><td>-0.292356</td></tr></tbody></table>"
      ],
      "text/latex": [
       "\\begin{tabular}{r|ccccccccc}\n",
       "\t& DATE & SURVERSE & FS\\_dist & SS\\_dist & FS\\_sum & FS\\_max & FS\\_max3 & SS\\_sum & \\\\\n",
       "\t\\hline\n",
       "\t& Date & Int64 & Float64 & Float64 & Float64 & Float64 & Float64 & Float64 & \\\\\n",
       "\t\\hline\n",
       "\t1 & 2016-08-30 & 0 & 0.145981 & 0.210769 & -0.396293 & -0.415792 & -0.417149 & -0.268446 & $\\dots$ \\\\\n",
       "\t2 & 2014-07-04 & 0 & 0.145981 & 0.210769 & -0.396293 & -0.415792 & -0.417149 & -0.113033 & $\\dots$ \\\\\n",
       "\t3 & 2016-05-13 & 0 & 0.145981 & 0.210769 & 0.0260856 & 0.445 & 0.253495 & 0.221703 & $\\dots$ \\\\\n",
       "\t4 & 2014-05-04 & 0 & 0.145981 & 0.210769 & 2.30437 & 0.731931 & 1.08672 & -0.292356 & $\\dots$ \\\\\n",
       "\t5 & 2015-08-18 & 0 & 0.145981 & 0.210769 & 2.12518 & 5.86481 & 3.58639 & -0.292356 & $\\dots$ \\\\\n",
       "\t6 & 2013-05-06 & 0 & 0.145981 & 0.210769 & -0.396293 & -0.415792 & -0.417149 & -0.292356 & $\\dots$ \\\\\n",
       "\t7 & 2013-10-12 & 0 & 0.145981 & 0.210769 & -0.396293 & -0.415792 & -0.417149 & -0.292356 & $\\dots$ \\\\\n",
       "\t8 & 2014-09-17 & 0 & 0.145981 & 0.210769 & -0.345096 & -0.35203 & -0.335858 & -0.292356 & $\\dots$ \\\\\n",
       "\t9 & 2014-10-27 & 0 & 0.145981 & 0.210769 & -0.396293 & -0.415792 & -0.417149 & -0.292356 & $\\dots$ \\\\\n",
       "\t10 & 2018-07-31 & 0 & 0.145981 & 0.210769 & -0.396293 & -0.415792 & -0.417149 & -0.292356 & $\\dots$ \\\\\n",
       "\\end{tabular}\n"
      ],
      "text/plain": [
       "10×10 DataFrame. Omitted printing of 4 columns\n",
       "│ Row │ DATE       │ SURVERSE │ FS_dist  │ SS_dist  │ FS_sum    │ FS_max    │\n",
       "│     │ \u001b[90mDate\u001b[39m       │ \u001b[90mInt64\u001b[39m    │ \u001b[90mFloat64\u001b[39m  │ \u001b[90mFloat64\u001b[39m  │ \u001b[90mFloat64\u001b[39m   │ \u001b[90mFloat64\u001b[39m   │\n",
       "├─────┼────────────┼──────────┼──────────┼──────────┼───────────┼───────────┤\n",
       "│ 1   │ 2016-08-30 │ 0        │ 0.145981 │ 0.210769 │ -0.396293 │ -0.415792 │\n",
       "│ 2   │ 2014-07-04 │ 0        │ 0.145981 │ 0.210769 │ -0.396293 │ -0.415792 │\n",
       "│ 3   │ 2016-05-13 │ 0        │ 0.145981 │ 0.210769 │ 0.0260856 │ 0.445     │\n",
       "│ 4   │ 2014-05-04 │ 0        │ 0.145981 │ 0.210769 │ 2.30437   │ 0.731931  │\n",
       "│ 5   │ 2015-08-18 │ 0        │ 0.145981 │ 0.210769 │ 2.12518   │ 5.86481   │\n",
       "│ 6   │ 2013-05-06 │ 0        │ 0.145981 │ 0.210769 │ -0.396293 │ -0.415792 │\n",
       "│ 7   │ 2013-10-12 │ 0        │ 0.145981 │ 0.210769 │ -0.396293 │ -0.415792 │\n",
       "│ 8   │ 2014-09-17 │ 0        │ 0.145981 │ 0.210769 │ -0.345096 │ -0.35203  │\n",
       "│ 9   │ 2014-10-27 │ 0        │ 0.145981 │ 0.210769 │ -0.396293 │ -0.415792 │\n",
       "│ 10  │ 2018-07-31 │ 0        │ 0.145981 │ 0.210769 │ -0.396293 │ -0.415792 │"
      ]
     },
     "execution_count": 17,
     "metadata": {},
     "output_type": "execute_result"
    }
   ],
   "source": [
    "first(shuffleDf(data_set), 10)"
   ]
  },
  {
   "cell_type": "code",
   "execution_count": 18,
   "metadata": {},
   "outputs": [
    {
     "data": {
      "text/html": [
       "<table class=\"data-frame\"><thead><tr><th></th><th>variable</th><th>mean</th><th>min</th><th>median</th><th>max</th><th>nunique</th><th>nmissing</th><th>eltype</th></tr><tr><th></th><th>Symbol</th><th>Union…</th><th>Any</th><th>Union…</th><th>Any</th><th>Union…</th><th>Nothing</th><th>DataType</th></tr></thead><tbody><p>10 rows × 8 columns</p><tr><th>1</th><td>DATE</td><td></td><td>2013-05-01</td><td></td><td>2018-10-31</td><td>1097</td><td></td><td>Date</td></tr><tr><th>2</th><td>SURVERSE</td><td>0.0856882</td><td>0</td><td>0.0</td><td>1</td><td></td><td></td><td>Int64</td></tr><tr><th>3</th><td>FS_dist</td><td>0.145981</td><td>0.145981</td><td>0.145981</td><td>0.145981</td><td></td><td></td><td>Float64</td></tr><tr><th>4</th><td>SS_dist</td><td>0.210769</td><td>0.210769</td><td>0.210769</td><td>0.210769</td><td></td><td></td><td>Float64</td></tr><tr><th>5</th><td>FS_sum</td><td>-0.0141676</td><td>-0.396293</td><td>-0.396293</td><td>9.43361</td><td></td><td></td><td>Float64</td></tr><tr><th>6</th><td>FS_max</td><td>-0.00334192</td><td>-0.415792</td><td>-0.415792</td><td>7.80956</td><td></td><td></td><td>Float64</td></tr><tr><th>7</th><td>FS_max3</td><td>-0.0116425</td><td>-0.417149</td><td>-0.417149</td><td>11.6341</td><td></td><td></td><td>Float64</td></tr><tr><th>8</th><td>SS_sum</td><td>-0.0269077</td><td>-0.292356</td><td>-0.292356</td><td>7.09575</td><td></td><td></td><td>Float64</td></tr><tr><th>9</th><td>SS_max</td><td>-0.0206734</td><td>-0.306429</td><td>-0.306429</td><td>6.38357</td><td></td><td></td><td>Float64</td></tr><tr><th>10</th><td>SS_max3</td><td>-0.0268602</td><td>-0.304797</td><td>-0.304797</td><td>8.24149</td><td></td><td></td><td>Float64</td></tr></tbody></table>"
      ],
      "text/latex": [
       "\\begin{tabular}{r|cccccccc}\n",
       "\t& variable & mean & min & median & max & nunique & nmissing & eltype\\\\\n",
       "\t\\hline\n",
       "\t& Symbol & Union… & Any & Union… & Any & Union… & Nothing & DataType\\\\\n",
       "\t\\hline\n",
       "\t1 & DATE &  & 2013-05-01 &  & 2018-10-31 & 1097 &  & Date \\\\\n",
       "\t2 & SURVERSE & 0.0856882 & 0 & 0.0 & 1 &  &  & Int64 \\\\\n",
       "\t3 & FS\\_dist & 0.145981 & 0.145981 & 0.145981 & 0.145981 &  &  & Float64 \\\\\n",
       "\t4 & SS\\_dist & 0.210769 & 0.210769 & 0.210769 & 0.210769 &  &  & Float64 \\\\\n",
       "\t5 & FS\\_sum & -0.0141676 & -0.396293 & -0.396293 & 9.43361 &  &  & Float64 \\\\\n",
       "\t6 & FS\\_max & -0.00334192 & -0.415792 & -0.415792 & 7.80956 &  &  & Float64 \\\\\n",
       "\t7 & FS\\_max3 & -0.0116425 & -0.417149 & -0.417149 & 11.6341 &  &  & Float64 \\\\\n",
       "\t8 & SS\\_sum & -0.0269077 & -0.292356 & -0.292356 & 7.09575 &  &  & Float64 \\\\\n",
       "\t9 & SS\\_max & -0.0206734 & -0.306429 & -0.306429 & 6.38357 &  &  & Float64 \\\\\n",
       "\t10 & SS\\_max3 & -0.0268602 & -0.304797 & -0.304797 & 8.24149 &  &  & Float64 \\\\\n",
       "\\end{tabular}\n"
      ],
      "text/plain": [
       "10×8 DataFrame. Omitted printing of 2 columns\n",
       "│ Row │ variable │ mean        │ min        │ median    │ max        │ nunique │\n",
       "│     │ \u001b[90mSymbol\u001b[39m   │ \u001b[90mUnion…\u001b[39m      │ \u001b[90mAny\u001b[39m        │ \u001b[90mUnion…\u001b[39m    │ \u001b[90mAny\u001b[39m        │ \u001b[90mUnion…\u001b[39m  │\n",
       "├─────┼──────────┼─────────────┼────────────┼───────────┼────────────┼─────────┤\n",
       "│ 1   │ DATE     │             │ 2013-05-01 │           │ 2018-10-31 │ 1097    │\n",
       "│ 2   │ SURVERSE │ 0.0856882   │ 0          │ 0.0       │ 1          │         │\n",
       "│ 3   │ FS_dist  │ 0.145981    │ 0.145981   │ 0.145981  │ 0.145981   │         │\n",
       "│ 4   │ SS_dist  │ 0.210769    │ 0.210769   │ 0.210769  │ 0.210769   │         │\n",
       "│ 5   │ FS_sum   │ -0.0141676  │ -0.396293  │ -0.396293 │ 9.43361    │         │\n",
       "│ 6   │ FS_max   │ -0.00334192 │ -0.415792  │ -0.415792 │ 7.80956    │         │\n",
       "│ 7   │ FS_max3  │ -0.0116425  │ -0.417149  │ -0.417149 │ 11.6341    │         │\n",
       "│ 8   │ SS_sum   │ -0.0269077  │ -0.292356  │ -0.292356 │ 7.09575    │         │\n",
       "│ 9   │ SS_max   │ -0.0206734  │ -0.306429  │ -0.306429 │ 6.38357    │         │\n",
       "│ 10  │ SS_max3  │ -0.0268602  │ -0.304797  │ -0.304797 │ 8.24149    │         │"
      ]
     },
     "execution_count": 18,
     "metadata": {},
     "output_type": "execute_result"
    }
   ],
   "source": [
    "describe(data_set)"
   ]
  },
  {
   "cell_type": "code",
   "execution_count": null,
   "metadata": {},
   "outputs": [],
   "source": [
    "filter(row -> row.SURVERSE == 1, data_set)"
   ]
  },
  {
   "cell_type": "code",
   "execution_count": null,
   "metadata": {
    "scrolled": false
   },
   "outputs": [],
   "source": [
    "plot(data_set, x=:FS_sum, y=:SS_sum, color=:SURVERSE)"
   ]
  },
  {
   "cell_type": "code",
   "execution_count": 21,
   "metadata": {},
   "outputs": [],
   "source": [
    "n_to_random_sample = 10000 - size(data_set, 1);\n",
    "new_entries = similar(data_set, nrow(data_set))\n",
    "\n",
    "for (i, row) in enumerate(eachrow(data_set))\n",
    "    new_entries[i, :] = row[:]\n",
    "end\n",
    "\n",
    "for i=1:n_to_random_sample\n",
    "    should_surverse = rand() > 0.45 ? 1 : 0;\n",
    "    cols = filter(row -> row.SURVERSE == should_surverse, data_set);\n",
    "    idx_row = convert(Int64, trunc(rand() * size(cols, 1))) + 1;\n",
    "    \n",
    "    entry = cols[idx_row, :];\n",
    "    generate_new_entry(new_entries, entry);\n",
    "end"
   ]
  },
  {
   "cell_type": "code",
   "execution_count": 22,
   "metadata": {},
   "outputs": [
    {
     "data": {
      "text/html": [
       "<table class=\"data-frame\"><thead><tr><th></th><th>variable</th><th>mean</th><th>min</th><th>median</th><th>max</th><th>nunique</th><th>nmissing</th><th>eltype</th></tr><tr><th></th><th>Symbol</th><th>Union…</th><th>Any</th><th>Union…</th><th>Any</th><th>Union…</th><th>Nothing</th><th>DataType</th></tr></thead><tbody><p>10 rows × 8 columns</p><tr><th>1</th><td>DATE</td><td></td><td>2013-05-01</td><td></td><td>2018-10-31</td><td>1097</td><td></td><td>Date</td></tr><tr><th>2</th><td>SURVERSE</td><td>0.5022</td><td>0</td><td>1.0</td><td>1</td><td></td><td></td><td>Int64</td></tr><tr><th>3</th><td>FS_dist</td><td>0.145981</td><td>0.145981</td><td>0.145981</td><td>0.145981</td><td></td><td></td><td>Float64</td></tr><tr><th>4</th><td>SS_dist</td><td>0.210769</td><td>0.210769</td><td>0.210769</td><td>0.210769</td><td></td><td></td><td>Float64</td></tr><tr><th>5</th><td>FS_sum</td><td>0.924133</td><td>-0.475435</td><td>0.103208</td><td>11.2705</td><td></td><td></td><td>Float64</td></tr><tr><th>6</th><td>FS_max</td><td>0.812522</td><td>-0.498894</td><td>0.21335</td><td>9.2605</td><td></td><td></td><td>Float64</td></tr><tr><th>7</th><td>FS_max3</td><td>0.909081</td><td>-0.500545</td><td>0.233173</td><td>13.8941</td><td></td><td></td><td>Float64</td></tr><tr><th>8</th><td>SS_sum</td><td>0.679512</td><td>-0.350798</td><td>-0.209116</td><td>8.4984</td><td></td><td></td><td>Float64</td></tr><tr><th>9</th><td>SS_max</td><td>0.573324</td><td>-0.36769</td><td>-0.161992</td><td>7.59169</td><td></td><td></td><td>Float64</td></tr><tr><th>10</th><td>SS_max3</td><td>0.626904</td><td>-0.365748</td><td>-0.195675</td><td>9.80375</td><td></td><td></td><td>Float64</td></tr></tbody></table>"
      ],
      "text/latex": [
       "\\begin{tabular}{r|cccccccc}\n",
       "\t& variable & mean & min & median & max & nunique & nmissing & eltype\\\\\n",
       "\t\\hline\n",
       "\t& Symbol & Union… & Any & Union… & Any & Union… & Nothing & DataType\\\\\n",
       "\t\\hline\n",
       "\t1 & DATE &  & 2013-05-01 &  & 2018-10-31 & 1097 &  & Date \\\\\n",
       "\t2 & SURVERSE & 0.5022 & 0 & 1.0 & 1 &  &  & Int64 \\\\\n",
       "\t3 & FS\\_dist & 0.145981 & 0.145981 & 0.145981 & 0.145981 &  &  & Float64 \\\\\n",
       "\t4 & SS\\_dist & 0.210769 & 0.210769 & 0.210769 & 0.210769 &  &  & Float64 \\\\\n",
       "\t5 & FS\\_sum & 0.924133 & -0.475435 & 0.103208 & 11.2705 &  &  & Float64 \\\\\n",
       "\t6 & FS\\_max & 0.812522 & -0.498894 & 0.21335 & 9.2605 &  &  & Float64 \\\\\n",
       "\t7 & FS\\_max3 & 0.909081 & -0.500545 & 0.233173 & 13.8941 &  &  & Float64 \\\\\n",
       "\t8 & SS\\_sum & 0.679512 & -0.350798 & -0.209116 & 8.4984 &  &  & Float64 \\\\\n",
       "\t9 & SS\\_max & 0.573324 & -0.36769 & -0.161992 & 7.59169 &  &  & Float64 \\\\\n",
       "\t10 & SS\\_max3 & 0.626904 & -0.365748 & -0.195675 & 9.80375 &  &  & Float64 \\\\\n",
       "\\end{tabular}\n"
      ],
      "text/plain": [
       "10×8 DataFrame. Omitted printing of 2 columns\n",
       "│ Row │ variable │ mean     │ min        │ median    │ max        │ nunique │\n",
       "│     │ \u001b[90mSymbol\u001b[39m   │ \u001b[90mUnion…\u001b[39m   │ \u001b[90mAny\u001b[39m        │ \u001b[90mUnion…\u001b[39m    │ \u001b[90mAny\u001b[39m        │ \u001b[90mUnion…\u001b[39m  │\n",
       "├─────┼──────────┼──────────┼────────────┼───────────┼────────────┼─────────┤\n",
       "│ 1   │ DATE     │          │ 2013-05-01 │           │ 2018-10-31 │ 1097    │\n",
       "│ 2   │ SURVERSE │ 0.5022   │ 0          │ 1.0       │ 1          │         │\n",
       "│ 3   │ FS_dist  │ 0.145981 │ 0.145981   │ 0.145981  │ 0.145981   │         │\n",
       "│ 4   │ SS_dist  │ 0.210769 │ 0.210769   │ 0.210769  │ 0.210769   │         │\n",
       "│ 5   │ FS_sum   │ 0.924133 │ -0.475435  │ 0.103208  │ 11.2705    │         │\n",
       "│ 6   │ FS_max   │ 0.812522 │ -0.498894  │ 0.21335   │ 9.2605     │         │\n",
       "│ 7   │ FS_max3  │ 0.909081 │ -0.500545  │ 0.233173  │ 13.8941    │         │\n",
       "│ 8   │ SS_sum   │ 0.679512 │ -0.350798  │ -0.209116 │ 8.4984     │         │\n",
       "│ 9   │ SS_max   │ 0.573324 │ -0.36769   │ -0.161992 │ 7.59169    │         │\n",
       "│ 10  │ SS_max3  │ 0.626904 │ -0.365748  │ -0.195675 │ 9.80375    │         │"
      ]
     },
     "execution_count": 22,
     "metadata": {},
     "output_type": "execute_result"
    }
   ],
   "source": [
    "describe(new_entries)"
   ]
  },
  {
   "cell_type": "code",
   "execution_count": null,
   "metadata": {},
   "outputs": [],
   "source": [
    "filter(row -> row.SURVERSE == 1, new_entries)"
   ]
  },
  {
   "cell_type": "code",
   "execution_count": null,
   "metadata": {},
   "outputs": [],
   "source": [
    "plot(new_entries, x=:FS_sum, y=:SS_sum, color=:SURVERSE)"
   ]
  },
  {
   "cell_type": "code",
   "execution_count": 24,
   "metadata": {},
   "outputs": [
    {
     "data": {
      "text/plain": [
       "\"data/parsed/oversampled/ouvrage_3260.csv\""
      ]
     },
     "execution_count": 24,
     "metadata": {},
     "output_type": "execute_result"
    }
   ],
   "source": [
    "CSV.write(\"data/parsed/oversampled/ouvrage_3260.csv\", new_entries)"
   ]
  },
  {
   "cell_type": "markdown",
   "metadata": {},
   "source": [
    "## Ouvrage 3350"
   ]
  },
  {
   "cell_type": "code",
   "execution_count": 25,
   "metadata": {},
   "outputs": [
    {
     "data": {
      "text/plain": [
       "(729, 10)"
      ]
     },
     "execution_count": 25,
     "metadata": {},
     "output_type": "execute_result"
    }
   ],
   "source": [
    "data_set = CSV.read(\"data/parsed/ouvrage_3350.csv\");\n",
    "size(data_set)"
   ]
  },
  {
   "cell_type": "code",
   "execution_count": 26,
   "metadata": {},
   "outputs": [
    {
     "data": {
      "text/html": [
       "<table class=\"data-frame\"><thead><tr><th></th><th>variable</th><th>mean</th><th>min</th><th>median</th><th>max</th><th>nunique</th><th>nmissing</th><th>eltype</th></tr><tr><th></th><th>Symbol</th><th>Union…</th><th>Any</th><th>Union…</th><th>Any</th><th>Union…</th><th>Nothing</th><th>DataType</th></tr></thead><tbody><p>10 rows × 8 columns</p><tr><th>1</th><td>DATE</td><td></td><td>2015-05-01</td><td></td><td>2018-10-31</td><td>729</td><td></td><td>Date</td></tr><tr><th>2</th><td>SURVERSE</td><td>0.203018</td><td>0</td><td>0.0</td><td>1</td><td></td><td></td><td>Int64</td></tr><tr><th>3</th><td>FS_dist</td><td>0.0927373</td><td>0.0927373</td><td>0.0927373</td><td>0.0927373</td><td></td><td></td><td>Float64</td></tr><tr><th>4</th><td>SS_dist</td><td>0.12027</td><td>0.12027</td><td>0.12027</td><td>0.12027</td><td></td><td></td><td>Float64</td></tr><tr><th>5</th><td>FS_sum</td><td>-0.0143977</td><td>-0.399971</td><td>-0.399971</td><td>9.38072</td><td></td><td></td><td>Float64</td></tr><tr><th>6</th><td>FS_max</td><td>0.00813102</td><td>-0.416911</td><td>-0.416911</td><td>11.7239</td><td></td><td></td><td>Float64</td></tr><tr><th>7</th><td>FS_max3</td><td>-0.00337263</td><td>-0.425384</td><td>-0.425384</td><td>10.573</td><td></td><td></td><td>Float64</td></tr><tr><th>8</th><td>SS_sum</td><td>-0.00499908</td><td>-0.344782</td><td>-0.344782</td><td>8.20741</td><td></td><td></td><td>Float64</td></tr><tr><th>9</th><td>SS_max</td><td>-0.00230434</td><td>-0.361747</td><td>-0.361747</td><td>6.76672</td><td></td><td></td><td>Float64</td></tr><tr><th>10</th><td>SS_max3</td><td>-0.00375311</td><td>-0.362927</td><td>-0.362927</td><td>10.1219</td><td></td><td></td><td>Float64</td></tr></tbody></table>"
      ],
      "text/latex": [
       "\\begin{tabular}{r|cccccccc}\n",
       "\t& variable & mean & min & median & max & nunique & nmissing & eltype\\\\\n",
       "\t\\hline\n",
       "\t& Symbol & Union… & Any & Union… & Any & Union… & Nothing & DataType\\\\\n",
       "\t\\hline\n",
       "\t1 & DATE &  & 2015-05-01 &  & 2018-10-31 & 729 &  & Date \\\\\n",
       "\t2 & SURVERSE & 0.203018 & 0 & 0.0 & 1 &  &  & Int64 \\\\\n",
       "\t3 & FS\\_dist & 0.0927373 & 0.0927373 & 0.0927373 & 0.0927373 &  &  & Float64 \\\\\n",
       "\t4 & SS\\_dist & 0.12027 & 0.12027 & 0.12027 & 0.12027 &  &  & Float64 \\\\\n",
       "\t5 & FS\\_sum & -0.0143977 & -0.399971 & -0.399971 & 9.38072 &  &  & Float64 \\\\\n",
       "\t6 & FS\\_max & 0.00813102 & -0.416911 & -0.416911 & 11.7239 &  &  & Float64 \\\\\n",
       "\t7 & FS\\_max3 & -0.00337263 & -0.425384 & -0.425384 & 10.573 &  &  & Float64 \\\\\n",
       "\t8 & SS\\_sum & -0.00499908 & -0.344782 & -0.344782 & 8.20741 &  &  & Float64 \\\\\n",
       "\t9 & SS\\_max & -0.00230434 & -0.361747 & -0.361747 & 6.76672 &  &  & Float64 \\\\\n",
       "\t10 & SS\\_max3 & -0.00375311 & -0.362927 & -0.362927 & 10.1219 &  &  & Float64 \\\\\n",
       "\\end{tabular}\n"
      ],
      "text/plain": [
       "10×8 DataFrame. Omitted printing of 2 columns\n",
       "│ Row │ variable │ mean        │ min        │ median    │ max        │ nunique │\n",
       "│     │ \u001b[90mSymbol\u001b[39m   │ \u001b[90mUnion…\u001b[39m      │ \u001b[90mAny\u001b[39m        │ \u001b[90mUnion…\u001b[39m    │ \u001b[90mAny\u001b[39m        │ \u001b[90mUnion…\u001b[39m  │\n",
       "├─────┼──────────┼─────────────┼────────────┼───────────┼────────────┼─────────┤\n",
       "│ 1   │ DATE     │             │ 2015-05-01 │           │ 2018-10-31 │ 729     │\n",
       "│ 2   │ SURVERSE │ 0.203018    │ 0          │ 0.0       │ 1          │         │\n",
       "│ 3   │ FS_dist  │ 0.0927373   │ 0.0927373  │ 0.0927373 │ 0.0927373  │         │\n",
       "│ 4   │ SS_dist  │ 0.12027     │ 0.12027    │ 0.12027   │ 0.12027    │         │\n",
       "│ 5   │ FS_sum   │ -0.0143977  │ -0.399971  │ -0.399971 │ 9.38072    │         │\n",
       "│ 6   │ FS_max   │ 0.00813102  │ -0.416911  │ -0.416911 │ 11.7239    │         │\n",
       "│ 7   │ FS_max3  │ -0.00337263 │ -0.425384  │ -0.425384 │ 10.573     │         │\n",
       "│ 8   │ SS_sum   │ -0.00499908 │ -0.344782  │ -0.344782 │ 8.20741    │         │\n",
       "│ 9   │ SS_max   │ -0.00230434 │ -0.361747  │ -0.361747 │ 6.76672    │         │\n",
       "│ 10  │ SS_max3  │ -0.00375311 │ -0.362927  │ -0.362927 │ 10.1219    │         │"
      ]
     },
     "execution_count": 26,
     "metadata": {},
     "output_type": "execute_result"
    }
   ],
   "source": [
    "describe(data_set)"
   ]
  },
  {
   "cell_type": "code",
   "execution_count": 31,
   "metadata": {},
   "outputs": [],
   "source": [
    "n_to_random_sample = 10000 - size(data_set, 1);\n",
    "new_entries = similar(data_set, nrow(data_set))\n",
    "\n",
    "for (i, row) in enumerate(eachrow(data_set))\n",
    "    new_entries[i, :] = row[:]\n",
    "end\n",
    "\n",
    "for i=1:n_to_random_sample\n",
    "    should_surverse = rand() > 0.47 ? 1 : 0;\n",
    "    cols = filter(row -> row.SURVERSE == should_surverse, data_set);\n",
    "    idx_row = convert(Int64, trunc(rand() * size(cols, 1))) + 1;\n",
    "    \n",
    "    entry = cols[idx_row, :];\n",
    "    generate_new_entry(new_entries, entry);\n",
    "end"
   ]
  },
  {
   "cell_type": "code",
   "execution_count": 32,
   "metadata": {},
   "outputs": [
    {
     "data": {
      "text/html": [
       "<table class=\"data-frame\"><thead><tr><th></th><th>variable</th><th>mean</th><th>min</th><th>median</th><th>max</th><th>nunique</th><th>nmissing</th><th>eltype</th></tr><tr><th></th><th>Symbol</th><th>Union…</th><th>Any</th><th>Union…</th><th>Any</th><th>Union…</th><th>Nothing</th><th>DataType</th></tr></thead><tbody><p>10 rows × 8 columns</p><tr><th>1</th><td>DATE</td><td></td><td>2015-05-01</td><td></td><td>2018-10-31</td><td>729</td><td></td><td>Date</td></tr><tr><th>2</th><td>SURVERSE</td><td>0.4995</td><td>0</td><td>0.0</td><td>1</td><td></td><td></td><td>Int64</td></tr><tr><th>3</th><td>FS_dist</td><td>0.0927373</td><td>0.0927373</td><td>0.0927373</td><td>0.0927373</td><td></td><td></td><td>Float64</td></tr><tr><th>4</th><td>SS_dist</td><td>0.12027</td><td>0.12027</td><td>0.12027</td><td>0.12027</td><td></td><td></td><td>Float64</td></tr><tr><th>5</th><td>FS_sum</td><td>0.447021</td><td>-0.479872</td><td>-0.221476</td><td>11.2546</td><td></td><td></td><td>Float64</td></tr><tr><th>6</th><td>FS_max</td><td>0.477792</td><td>-0.500178</td><td>-0.147966</td><td>13.9254</td><td></td><td></td><td>Float64</td></tr><tr><th>7</th><td>FS_max3</td><td>0.478369</td><td>-0.510409</td><td>-0.183571</td><td>12.6174</td><td></td><td></td><td>Float64</td></tr><tr><th>8</th><td>SS_sum</td><td>0.40016</td><td>-0.413725</td><td>-0.195807</td><td>9.61485</td><td></td><td></td><td>Float64</td></tr><tr><th>9</th><td>SS_max</td><td>0.393753</td><td>-0.434057</td><td>-0.148305</td><td>8.00407</td><td></td><td></td><td>Float64</td></tr><tr><th>10</th><td>SS_max3</td><td>0.411268</td><td>-0.435485</td><td>-0.180025</td><td>12.0245</td><td></td><td></td><td>Float64</td></tr></tbody></table>"
      ],
      "text/latex": [
       "\\begin{tabular}{r|cccccccc}\n",
       "\t& variable & mean & min & median & max & nunique & nmissing & eltype\\\\\n",
       "\t\\hline\n",
       "\t& Symbol & Union… & Any & Union… & Any & Union… & Nothing & DataType\\\\\n",
       "\t\\hline\n",
       "\t1 & DATE &  & 2015-05-01 &  & 2018-10-31 & 729 &  & Date \\\\\n",
       "\t2 & SURVERSE & 0.4995 & 0 & 0.0 & 1 &  &  & Int64 \\\\\n",
       "\t3 & FS\\_dist & 0.0927373 & 0.0927373 & 0.0927373 & 0.0927373 &  &  & Float64 \\\\\n",
       "\t4 & SS\\_dist & 0.12027 & 0.12027 & 0.12027 & 0.12027 &  &  & Float64 \\\\\n",
       "\t5 & FS\\_sum & 0.447021 & -0.479872 & -0.221476 & 11.2546 &  &  & Float64 \\\\\n",
       "\t6 & FS\\_max & 0.477792 & -0.500178 & -0.147966 & 13.9254 &  &  & Float64 \\\\\n",
       "\t7 & FS\\_max3 & 0.478369 & -0.510409 & -0.183571 & 12.6174 &  &  & Float64 \\\\\n",
       "\t8 & SS\\_sum & 0.40016 & -0.413725 & -0.195807 & 9.61485 &  &  & Float64 \\\\\n",
       "\t9 & SS\\_max & 0.393753 & -0.434057 & -0.148305 & 8.00407 &  &  & Float64 \\\\\n",
       "\t10 & SS\\_max3 & 0.411268 & -0.435485 & -0.180025 & 12.0245 &  &  & Float64 \\\\\n",
       "\\end{tabular}\n"
      ],
      "text/plain": [
       "10×8 DataFrame. Omitted printing of 2 columns\n",
       "│ Row │ variable │ mean      │ min        │ median    │ max        │ nunique │\n",
       "│     │ \u001b[90mSymbol\u001b[39m   │ \u001b[90mUnion…\u001b[39m    │ \u001b[90mAny\u001b[39m        │ \u001b[90mUnion…\u001b[39m    │ \u001b[90mAny\u001b[39m        │ \u001b[90mUnion…\u001b[39m  │\n",
       "├─────┼──────────┼───────────┼────────────┼───────────┼────────────┼─────────┤\n",
       "│ 1   │ DATE     │           │ 2015-05-01 │           │ 2018-10-31 │ 729     │\n",
       "│ 2   │ SURVERSE │ 0.4995    │ 0          │ 0.0       │ 1          │         │\n",
       "│ 3   │ FS_dist  │ 0.0927373 │ 0.0927373  │ 0.0927373 │ 0.0927373  │         │\n",
       "│ 4   │ SS_dist  │ 0.12027   │ 0.12027    │ 0.12027   │ 0.12027    │         │\n",
       "│ 5   │ FS_sum   │ 0.447021  │ -0.479872  │ -0.221476 │ 11.2546    │         │\n",
       "│ 6   │ FS_max   │ 0.477792  │ -0.500178  │ -0.147966 │ 13.9254    │         │\n",
       "│ 7   │ FS_max3  │ 0.478369  │ -0.510409  │ -0.183571 │ 12.6174    │         │\n",
       "│ 8   │ SS_sum   │ 0.40016   │ -0.413725  │ -0.195807 │ 9.61485    │         │\n",
       "│ 9   │ SS_max   │ 0.393753  │ -0.434057  │ -0.148305 │ 8.00407    │         │\n",
       "│ 10  │ SS_max3  │ 0.411268  │ -0.435485  │ -0.180025 │ 12.0245    │         │"
      ]
     },
     "execution_count": 32,
     "metadata": {},
     "output_type": "execute_result"
    }
   ],
   "source": [
    "describe(new_entries)"
   ]
  },
  {
   "cell_type": "code",
   "execution_count": 33,
   "metadata": {},
   "outputs": [
    {
     "data": {
      "text/plain": [
       "\"data/parsed/oversampled/ouvrage_3350.csv\""
      ]
     },
     "execution_count": 33,
     "metadata": {},
     "output_type": "execute_result"
    }
   ],
   "source": [
    "CSV.write(\"data/parsed/oversampled/ouvrage_3350.csv\", new_entries)"
   ]
  },
  {
   "cell_type": "markdown",
   "metadata": {},
   "source": [
    "## Ouvrage 4240"
   ]
  },
  {
   "cell_type": "code",
   "execution_count": 34,
   "metadata": {},
   "outputs": [
    {
     "data": {
      "text/plain": [
       "(1100, 10)"
      ]
     },
     "execution_count": 34,
     "metadata": {},
     "output_type": "execute_result"
    }
   ],
   "source": [
    "data_set = CSV.read(\"data/parsed/ouvrage_4240.csv\");\n",
    "size(data_set)"
   ]
  },
  {
   "cell_type": "code",
   "execution_count": 35,
   "metadata": {},
   "outputs": [
    {
     "data": {
      "text/html": [
       "<table class=\"data-frame\"><thead><tr><th></th><th>variable</th><th>mean</th><th>min</th><th>median</th><th>max</th><th>nunique</th><th>nmissing</th><th>eltype</th></tr><tr><th></th><th>Symbol</th><th>Union…</th><th>Any</th><th>Union…</th><th>Any</th><th>Union…</th><th>Nothing</th><th>DataType</th></tr></thead><tbody><p>10 rows × 8 columns</p><tr><th>1</th><td>DATE</td><td></td><td>2013-05-01</td><td></td><td>2018-10-31</td><td>1100</td><td></td><td>Date</td></tr><tr><th>2</th><td>SURVERSE</td><td>0.0627273</td><td>0</td><td>0.0</td><td>1</td><td></td><td></td><td>Int64</td></tr><tr><th>3</th><td>FS_dist</td><td>0.149987</td><td>0.149987</td><td>0.149987</td><td>0.149987</td><td></td><td></td><td>Float64</td></tr><tr><th>4</th><td>SS_dist</td><td>0.168295</td><td>0.168295</td><td>0.168295</td><td>0.168295</td><td></td><td></td><td>Float64</td></tr><tr><th>5</th><td>FS_sum</td><td>-0.030719</td><td>-0.358123</td><td>-0.358123</td><td>8.69198</td><td></td><td></td><td>Float64</td></tr><tr><th>6</th><td>FS_max</td><td>-0.0244404</td><td>-0.375363</td><td>-0.375363</td><td>7.8196</td><td></td><td></td><td>Float64</td></tr><tr><th>7</th><td>FS_max3</td><td>-0.0315642</td><td>-0.373363</td><td>-0.373363</td><td>10.0955</td><td></td><td></td><td>Float64</td></tr><tr><th>8</th><td>SS_sum</td><td>0.0287264</td><td>-0.373593</td><td>-0.373593</td><td>9.06526</td><td></td><td></td><td>Float64</td></tr><tr><th>9</th><td>SS_max</td><td>0.0269202</td><td>-0.393477</td><td>-0.393477</td><td>8.6565</td><td></td><td></td><td>Float64</td></tr><tr><th>10</th><td>SS_max3</td><td>0.0298435</td><td>-0.388305</td><td>-0.388305</td><td>7.55446</td><td></td><td></td><td>Float64</td></tr></tbody></table>"
      ],
      "text/latex": [
       "\\begin{tabular}{r|cccccccc}\n",
       "\t& variable & mean & min & median & max & nunique & nmissing & eltype\\\\\n",
       "\t\\hline\n",
       "\t& Symbol & Union… & Any & Union… & Any & Union… & Nothing & DataType\\\\\n",
       "\t\\hline\n",
       "\t1 & DATE &  & 2013-05-01 &  & 2018-10-31 & 1100 &  & Date \\\\\n",
       "\t2 & SURVERSE & 0.0627273 & 0 & 0.0 & 1 &  &  & Int64 \\\\\n",
       "\t3 & FS\\_dist & 0.149987 & 0.149987 & 0.149987 & 0.149987 &  &  & Float64 \\\\\n",
       "\t4 & SS\\_dist & 0.168295 & 0.168295 & 0.168295 & 0.168295 &  &  & Float64 \\\\\n",
       "\t5 & FS\\_sum & -0.030719 & -0.358123 & -0.358123 & 8.69198 &  &  & Float64 \\\\\n",
       "\t6 & FS\\_max & -0.0244404 & -0.375363 & -0.375363 & 7.8196 &  &  & Float64 \\\\\n",
       "\t7 & FS\\_max3 & -0.0315642 & -0.373363 & -0.373363 & 10.0955 &  &  & Float64 \\\\\n",
       "\t8 & SS\\_sum & 0.0287264 & -0.373593 & -0.373593 & 9.06526 &  &  & Float64 \\\\\n",
       "\t9 & SS\\_max & 0.0269202 & -0.393477 & -0.393477 & 8.6565 &  &  & Float64 \\\\\n",
       "\t10 & SS\\_max3 & 0.0298435 & -0.388305 & -0.388305 & 7.55446 &  &  & Float64 \\\\\n",
       "\\end{tabular}\n"
      ],
      "text/plain": [
       "10×8 DataFrame. Omitted printing of 2 columns\n",
       "│ Row │ variable │ mean       │ min        │ median    │ max        │ nunique │\n",
       "│     │ \u001b[90mSymbol\u001b[39m   │ \u001b[90mUnion…\u001b[39m     │ \u001b[90mAny\u001b[39m        │ \u001b[90mUnion…\u001b[39m    │ \u001b[90mAny\u001b[39m        │ \u001b[90mUnion…\u001b[39m  │\n",
       "├─────┼──────────┼────────────┼────────────┼───────────┼────────────┼─────────┤\n",
       "│ 1   │ DATE     │            │ 2013-05-01 │           │ 2018-10-31 │ 1100    │\n",
       "│ 2   │ SURVERSE │ 0.0627273  │ 0          │ 0.0       │ 1          │         │\n",
       "│ 3   │ FS_dist  │ 0.149987   │ 0.149987   │ 0.149987  │ 0.149987   │         │\n",
       "│ 4   │ SS_dist  │ 0.168295   │ 0.168295   │ 0.168295  │ 0.168295   │         │\n",
       "│ 5   │ FS_sum   │ -0.030719  │ -0.358123  │ -0.358123 │ 8.69198    │         │\n",
       "│ 6   │ FS_max   │ -0.0244404 │ -0.375363  │ -0.375363 │ 7.8196     │         │\n",
       "│ 7   │ FS_max3  │ -0.0315642 │ -0.373363  │ -0.373363 │ 10.0955    │         │\n",
       "│ 8   │ SS_sum   │ 0.0287264  │ -0.373593  │ -0.373593 │ 9.06526    │         │\n",
       "│ 9   │ SS_max   │ 0.0269202  │ -0.393477  │ -0.393477 │ 8.6565     │         │\n",
       "│ 10  │ SS_max3  │ 0.0298435  │ -0.388305  │ -0.388305 │ 7.55446    │         │"
      ]
     },
     "execution_count": 35,
     "metadata": {},
     "output_type": "execute_result"
    }
   ],
   "source": [
    "describe(data_set)"
   ]
  },
  {
   "cell_type": "code",
   "execution_count": 38,
   "metadata": {},
   "outputs": [],
   "source": [
    "n_to_random_sample = 10000 - size(data_set, 1);\n",
    "new_entries = similar(data_set, nrow(data_set))\n",
    "\n",
    "for (i, row) in enumerate(eachrow(data_set))\n",
    "    new_entries[i, :] = row[:]\n",
    "end\n",
    "\n",
    "for i=1:n_to_random_sample\n",
    "    should_surverse = rand() > 0.45 ? 1 : 0;\n",
    "    cols = filter(row -> row.SURVERSE == should_surverse, data_set);\n",
    "    idx_row = convert(Int64, trunc(rand() * size(cols, 1))) + 1;\n",
    "    \n",
    "    entry = cols[idx_row, :];\n",
    "    generate_new_entry(new_entries, entry);\n",
    "end"
   ]
  },
  {
   "cell_type": "code",
   "execution_count": 39,
   "metadata": {},
   "outputs": [
    {
     "data": {
      "text/html": [
       "<table class=\"data-frame\"><thead><tr><th></th><th>variable</th><th>mean</th><th>min</th><th>median</th><th>max</th><th>nunique</th><th>nmissing</th><th>eltype</th></tr><tr><th></th><th>Symbol</th><th>Union…</th><th>Any</th><th>Union…</th><th>Any</th><th>Union…</th><th>Nothing</th><th>DataType</th></tr></thead><tbody><p>10 rows × 8 columns</p><tr><th>1</th><td>DATE</td><td></td><td>2013-05-01</td><td></td><td>2018-10-31</td><td>1100</td><td></td><td>Date</td></tr><tr><th>2</th><td>SURVERSE</td><td>0.4956</td><td>0</td><td>0.0</td><td>1</td><td></td><td></td><td>Int64</td></tr><tr><th>3</th><td>FS_dist</td><td>0.149987</td><td>0.149987</td><td>0.149987</td><td>0.149987</td><td></td><td></td><td>Float64</td></tr><tr><th>4</th><td>SS_dist</td><td>0.168295</td><td>0.168295</td><td>0.168295</td><td>0.168295</td><td></td><td></td><td>Float64</td></tr><tr><th>5</th><td>FS_sum</td><td>0.910909</td><td>-0.429708</td><td>-0.245224</td><td>10.4282</td><td></td><td></td><td>Float64</td></tr><tr><th>6</th><td>FS_max</td><td>0.685849</td><td>-0.450363</td><td>-0.199284</td><td>9.36396</td><td></td><td></td><td>Float64</td></tr><tr><th>7</th><td>FS_max3</td><td>0.818583</td><td>-0.44803</td><td>-0.229671</td><td>12.0734</td><td></td><td></td><td>Float64</td></tr><tr><th>8</th><td>SS_sum</td><td>1.06241</td><td>-0.448308</td><td>0.0913748</td><td>10.8615</td><td></td><td></td><td>Float64</td></tr><tr><th>9</th><td>SS_max</td><td>0.78605</td><td>-0.4721</td><td>0.167074</td><td>9.7385</td><td></td><td></td><td>Float64</td></tr><tr><th>10</th><td>SS_max3</td><td>0.958376</td><td>-0.46592</td><td>0.157032</td><td>9.06026</td><td></td><td></td><td>Float64</td></tr></tbody></table>"
      ],
      "text/latex": [
       "\\begin{tabular}{r|cccccccc}\n",
       "\t& variable & mean & min & median & max & nunique & nmissing & eltype\\\\\n",
       "\t\\hline\n",
       "\t& Symbol & Union… & Any & Union… & Any & Union… & Nothing & DataType\\\\\n",
       "\t\\hline\n",
       "\t1 & DATE &  & 2013-05-01 &  & 2018-10-31 & 1100 &  & Date \\\\\n",
       "\t2 & SURVERSE & 0.4956 & 0 & 0.0 & 1 &  &  & Int64 \\\\\n",
       "\t3 & FS\\_dist & 0.149987 & 0.149987 & 0.149987 & 0.149987 &  &  & Float64 \\\\\n",
       "\t4 & SS\\_dist & 0.168295 & 0.168295 & 0.168295 & 0.168295 &  &  & Float64 \\\\\n",
       "\t5 & FS\\_sum & 0.910909 & -0.429708 & -0.245224 & 10.4282 &  &  & Float64 \\\\\n",
       "\t6 & FS\\_max & 0.685849 & -0.450363 & -0.199284 & 9.36396 &  &  & Float64 \\\\\n",
       "\t7 & FS\\_max3 & 0.818583 & -0.44803 & -0.229671 & 12.0734 &  &  & Float64 \\\\\n",
       "\t8 & SS\\_sum & 1.06241 & -0.448308 & 0.0913748 & 10.8615 &  &  & Float64 \\\\\n",
       "\t9 & SS\\_max & 0.78605 & -0.4721 & 0.167074 & 9.7385 &  &  & Float64 \\\\\n",
       "\t10 & SS\\_max3 & 0.958376 & -0.46592 & 0.157032 & 9.06026 &  &  & Float64 \\\\\n",
       "\\end{tabular}\n"
      ],
      "text/plain": [
       "10×8 DataFrame. Omitted printing of 2 columns\n",
       "│ Row │ variable │ mean     │ min        │ median    │ max        │ nunique │\n",
       "│     │ \u001b[90mSymbol\u001b[39m   │ \u001b[90mUnion…\u001b[39m   │ \u001b[90mAny\u001b[39m        │ \u001b[90mUnion…\u001b[39m    │ \u001b[90mAny\u001b[39m        │ \u001b[90mUnion…\u001b[39m  │\n",
       "├─────┼──────────┼──────────┼────────────┼───────────┼────────────┼─────────┤\n",
       "│ 1   │ DATE     │          │ 2013-05-01 │           │ 2018-10-31 │ 1100    │\n",
       "│ 2   │ SURVERSE │ 0.4956   │ 0          │ 0.0       │ 1          │         │\n",
       "│ 3   │ FS_dist  │ 0.149987 │ 0.149987   │ 0.149987  │ 0.149987   │         │\n",
       "│ 4   │ SS_dist  │ 0.168295 │ 0.168295   │ 0.168295  │ 0.168295   │         │\n",
       "│ 5   │ FS_sum   │ 0.910909 │ -0.429708  │ -0.245224 │ 10.4282    │         │\n",
       "│ 6   │ FS_max   │ 0.685849 │ -0.450363  │ -0.199284 │ 9.36396    │         │\n",
       "│ 7   │ FS_max3  │ 0.818583 │ -0.44803   │ -0.229671 │ 12.0734    │         │\n",
       "│ 8   │ SS_sum   │ 1.06241  │ -0.448308  │ 0.0913748 │ 10.8615    │         │\n",
       "│ 9   │ SS_max   │ 0.78605  │ -0.4721    │ 0.167074  │ 9.7385     │         │\n",
       "│ 10  │ SS_max3  │ 0.958376 │ -0.46592   │ 0.157032  │ 9.06026    │         │"
      ]
     },
     "execution_count": 39,
     "metadata": {},
     "output_type": "execute_result"
    }
   ],
   "source": [
    "describe(new_entries)"
   ]
  },
  {
   "cell_type": "code",
   "execution_count": 40,
   "metadata": {},
   "outputs": [
    {
     "data": {
      "text/plain": [
       "\"data/parsed/oversampled/ouvrage_4240.csv\""
      ]
     },
     "execution_count": 40,
     "metadata": {},
     "output_type": "execute_result"
    }
   ],
   "source": [
    "CSV.write(\"data/parsed/oversampled/ouvrage_4240.csv\", new_entries)"
   ]
  },
  {
   "cell_type": "markdown",
   "metadata": {},
   "source": [
    "## Ouvrage 4350"
   ]
  },
  {
   "cell_type": "code",
   "execution_count": 41,
   "metadata": {},
   "outputs": [
    {
     "data": {
      "text/plain": [
       "(1100, 10)"
      ]
     },
     "execution_count": 41,
     "metadata": {},
     "output_type": "execute_result"
    }
   ],
   "source": [
    "data_set = CSV.read(\"data/parsed/ouvrage_4350.csv\");\n",
    "size(data_set)"
   ]
  },
  {
   "cell_type": "code",
   "execution_count": 42,
   "metadata": {},
   "outputs": [
    {
     "data": {
      "text/html": [
       "<table class=\"data-frame\"><thead><tr><th></th><th>variable</th><th>mean</th><th>min</th><th>median</th><th>max</th><th>nunique</th><th>nmissing</th><th>eltype</th></tr><tr><th></th><th>Symbol</th><th>Union…</th><th>Any</th><th>Union…</th><th>Any</th><th>Union…</th><th>Nothing</th><th>DataType</th></tr></thead><tbody><p>10 rows × 8 columns</p><tr><th>1</th><td>DATE</td><td></td><td>2013-05-01</td><td></td><td>2018-10-31</td><td>1100</td><td></td><td>Date</td></tr><tr><th>2</th><td>SURVERSE</td><td>0.0381818</td><td>0</td><td>0.0</td><td>1</td><td></td><td></td><td>Int64</td></tr><tr><th>3</th><td>FS_dist</td><td>0.0248354</td><td>0.0248354</td><td>0.0248354</td><td>0.0248354</td><td></td><td></td><td>Float64</td></tr><tr><th>4</th><td>SS_dist</td><td>0.139269</td><td>0.139269</td><td>0.139269</td><td>0.139269</td><td></td><td></td><td>Float64</td></tr><tr><th>5</th><td>FS_sum</td><td>-0.00633163</td><td>-0.396293</td><td>-0.396293</td><td>9.43361</td><td></td><td></td><td>Float64</td></tr><tr><th>6</th><td>FS_max</td><td>-3.24033e-5</td><td>-0.415792</td><td>-0.415792</td><td>7.80956</td><td></td><td></td><td>Float64</td></tr><tr><th>7</th><td>FS_max3</td><td>-0.00776021</td><td>-0.417149</td><td>-0.417149</td><td>11.6341</td><td></td><td></td><td>Float64</td></tr><tr><th>8</th><td>SS_sum</td><td>-0.00346406</td><td>-0.0493965</td><td>-0.0493965</td><td>1.1989</td><td></td><td></td><td>Float64</td></tr><tr><th>9</th><td>SS_max</td><td>-0.00298854</td><td>-0.0517744</td><td>-0.0517744</td><td>1.07857</td><td></td><td></td><td>Float64</td></tr><tr><th>10</th><td>SS_max3</td><td>-0.00404947</td><td>-0.0514987</td><td>-0.0514987</td><td>1.39248</td><td></td><td></td><td>Float64</td></tr></tbody></table>"
      ],
      "text/latex": [
       "\\begin{tabular}{r|cccccccc}\n",
       "\t& variable & mean & min & median & max & nunique & nmissing & eltype\\\\\n",
       "\t\\hline\n",
       "\t& Symbol & Union… & Any & Union… & Any & Union… & Nothing & DataType\\\\\n",
       "\t\\hline\n",
       "\t1 & DATE &  & 2013-05-01 &  & 2018-10-31 & 1100 &  & Date \\\\\n",
       "\t2 & SURVERSE & 0.0381818 & 0 & 0.0 & 1 &  &  & Int64 \\\\\n",
       "\t3 & FS\\_dist & 0.0248354 & 0.0248354 & 0.0248354 & 0.0248354 &  &  & Float64 \\\\\n",
       "\t4 & SS\\_dist & 0.139269 & 0.139269 & 0.139269 & 0.139269 &  &  & Float64 \\\\\n",
       "\t5 & FS\\_sum & -0.00633163 & -0.396293 & -0.396293 & 9.43361 &  &  & Float64 \\\\\n",
       "\t6 & FS\\_max & -3.24033e-5 & -0.415792 & -0.415792 & 7.80956 &  &  & Float64 \\\\\n",
       "\t7 & FS\\_max3 & -0.00776021 & -0.417149 & -0.417149 & 11.6341 &  &  & Float64 \\\\\n",
       "\t8 & SS\\_sum & -0.00346406 & -0.0493965 & -0.0493965 & 1.1989 &  &  & Float64 \\\\\n",
       "\t9 & SS\\_max & -0.00298854 & -0.0517744 & -0.0517744 & 1.07857 &  &  & Float64 \\\\\n",
       "\t10 & SS\\_max3 & -0.00404947 & -0.0514987 & -0.0514987 & 1.39248 &  &  & Float64 \\\\\n",
       "\\end{tabular}\n"
      ],
      "text/plain": [
       "10×8 DataFrame. Omitted printing of 3 columns\n",
       "│ Row │ variable │ mean        │ min        │ median     │ max        │\n",
       "│     │ \u001b[90mSymbol\u001b[39m   │ \u001b[90mUnion…\u001b[39m      │ \u001b[90mAny\u001b[39m        │ \u001b[90mUnion…\u001b[39m     │ \u001b[90mAny\u001b[39m        │\n",
       "├─────┼──────────┼─────────────┼────────────┼────────────┼────────────┤\n",
       "│ 1   │ DATE     │             │ 2013-05-01 │            │ 2018-10-31 │\n",
       "│ 2   │ SURVERSE │ 0.0381818   │ 0          │ 0.0        │ 1          │\n",
       "│ 3   │ FS_dist  │ 0.0248354   │ 0.0248354  │ 0.0248354  │ 0.0248354  │\n",
       "│ 4   │ SS_dist  │ 0.139269    │ 0.139269   │ 0.139269   │ 0.139269   │\n",
       "│ 5   │ FS_sum   │ -0.00633163 │ -0.396293  │ -0.396293  │ 9.43361    │\n",
       "│ 6   │ FS_max   │ -3.24033e-5 │ -0.415792  │ -0.415792  │ 7.80956    │\n",
       "│ 7   │ FS_max3  │ -0.00776021 │ -0.417149  │ -0.417149  │ 11.6341    │\n",
       "│ 8   │ SS_sum   │ -0.00346406 │ -0.0493965 │ -0.0493965 │ 1.1989     │\n",
       "│ 9   │ SS_max   │ -0.00298854 │ -0.0517744 │ -0.0517744 │ 1.07857    │\n",
       "│ 10  │ SS_max3  │ -0.00404947 │ -0.0514987 │ -0.0514987 │ 1.39248    │"
      ]
     },
     "execution_count": 42,
     "metadata": {},
     "output_type": "execute_result"
    }
   ],
   "source": [
    "describe(data_set)"
   ]
  },
  {
   "cell_type": "code",
   "execution_count": 45,
   "metadata": {},
   "outputs": [],
   "source": [
    "n_to_random_sample = 10000 - size(data_set, 1);\n",
    "new_entries = similar(data_set, nrow(data_set))\n",
    "\n",
    "for (i, row) in enumerate(eachrow(data_set))\n",
    "    new_entries[i, :] = row[:]\n",
    "end\n",
    "\n",
    "for i=1:n_to_random_sample\n",
    "    should_surverse = rand() > 0.45 ? 1 : 0;\n",
    "    cols = filter(row -> row.SURVERSE == should_surverse, data_set);\n",
    "    idx_row = convert(Int64, trunc(rand() * size(cols, 1))) + 1;\n",
    "    \n",
    "    entry = cols[idx_row, :];\n",
    "    generate_new_entry(new_entries, entry);\n",
    "end"
   ]
  },
  {
   "cell_type": "code",
   "execution_count": 46,
   "metadata": {},
   "outputs": [
    {
     "data": {
      "text/html": [
       "<table class=\"data-frame\"><thead><tr><th></th><th>variable</th><th>mean</th><th>min</th><th>median</th><th>max</th><th>nunique</th><th>nmissing</th><th>eltype</th></tr><tr><th></th><th>Symbol</th><th>Union…</th><th>Any</th><th>Union…</th><th>Any</th><th>Union…</th><th>Nothing</th><th>DataType</th></tr></thead><tbody><p>10 rows × 8 columns</p><tr><th>1</th><td>DATE</td><td></td><td>2013-05-01</td><td></td><td>2018-10-31</td><td>1100</td><td></td><td>Date</td></tr><tr><th>2</th><td>SURVERSE</td><td>0.4952</td><td>0</td><td>0.0</td><td>1</td><td></td><td></td><td>Int64</td></tr><tr><th>3</th><td>FS_dist</td><td>0.0248354</td><td>0.0248354</td><td>0.0248354</td><td>0.0248354</td><td></td><td></td><td>Float64</td></tr><tr><th>4</th><td>SS_dist</td><td>0.139269</td><td>0.139269</td><td>0.139269</td><td>0.139269</td><td></td><td></td><td>Float64</td></tr><tr><th>5</th><td>FS_sum</td><td>1.47254</td><td>-0.475484</td><td>0.612969</td><td>11.3028</td><td></td><td></td><td>Float64</td></tr><tr><th>6</th><td>FS_max</td><td>1.36495</td><td>-0.498915</td><td>0.516277</td><td>9.30354</td><td></td><td></td><td>Float64</td></tr><tr><th>7</th><td>FS_max3</td><td>1.43037</td><td>-0.500555</td><td>0.556587</td><td>13.9251</td><td></td><td></td><td>Float64</td></tr><tr><th>8</th><td>SS_sum</td><td>0.162158</td><td>-0.059274</td><td>-0.0332895</td><td>1.4373</td><td></td><td></td><td>Float64</td></tr><tr><th>9</th><td>SS_max</td><td>0.138709</td><td>-0.0621233</td><td>-0.0271794</td><td>1.2941</td><td></td><td></td><td>Float64</td></tr><tr><th>10</th><td>SS_max3</td><td>0.152314</td><td>-0.061793</td><td>-0.0303622</td><td>1.66996</td><td></td><td></td><td>Float64</td></tr></tbody></table>"
      ],
      "text/latex": [
       "\\begin{tabular}{r|cccccccc}\n",
       "\t& variable & mean & min & median & max & nunique & nmissing & eltype\\\\\n",
       "\t\\hline\n",
       "\t& Symbol & Union… & Any & Union… & Any & Union… & Nothing & DataType\\\\\n",
       "\t\\hline\n",
       "\t1 & DATE &  & 2013-05-01 &  & 2018-10-31 & 1100 &  & Date \\\\\n",
       "\t2 & SURVERSE & 0.4952 & 0 & 0.0 & 1 &  &  & Int64 \\\\\n",
       "\t3 & FS\\_dist & 0.0248354 & 0.0248354 & 0.0248354 & 0.0248354 &  &  & Float64 \\\\\n",
       "\t4 & SS\\_dist & 0.139269 & 0.139269 & 0.139269 & 0.139269 &  &  & Float64 \\\\\n",
       "\t5 & FS\\_sum & 1.47254 & -0.475484 & 0.612969 & 11.3028 &  &  & Float64 \\\\\n",
       "\t6 & FS\\_max & 1.36495 & -0.498915 & 0.516277 & 9.30354 &  &  & Float64 \\\\\n",
       "\t7 & FS\\_max3 & 1.43037 & -0.500555 & 0.556587 & 13.9251 &  &  & Float64 \\\\\n",
       "\t8 & SS\\_sum & 0.162158 & -0.059274 & -0.0332895 & 1.4373 &  &  & Float64 \\\\\n",
       "\t9 & SS\\_max & 0.138709 & -0.0621233 & -0.0271794 & 1.2941 &  &  & Float64 \\\\\n",
       "\t10 & SS\\_max3 & 0.152314 & -0.061793 & -0.0303622 & 1.66996 &  &  & Float64 \\\\\n",
       "\\end{tabular}\n"
      ],
      "text/plain": [
       "10×8 DataFrame. Omitted printing of 2 columns\n",
       "│ Row │ variable │ mean      │ min        │ median     │ max        │ nunique │\n",
       "│     │ \u001b[90mSymbol\u001b[39m   │ \u001b[90mUnion…\u001b[39m    │ \u001b[90mAny\u001b[39m        │ \u001b[90mUnion…\u001b[39m     │ \u001b[90mAny\u001b[39m        │ \u001b[90mUnion…\u001b[39m  │\n",
       "├─────┼──────────┼───────────┼────────────┼────────────┼────────────┼─────────┤\n",
       "│ 1   │ DATE     │           │ 2013-05-01 │            │ 2018-10-31 │ 1100    │\n",
       "│ 2   │ SURVERSE │ 0.4952    │ 0          │ 0.0        │ 1          │         │\n",
       "│ 3   │ FS_dist  │ 0.0248354 │ 0.0248354  │ 0.0248354  │ 0.0248354  │         │\n",
       "│ 4   │ SS_dist  │ 0.139269  │ 0.139269   │ 0.139269   │ 0.139269   │         │\n",
       "│ 5   │ FS_sum   │ 1.47254   │ -0.475484  │ 0.612969   │ 11.3028    │         │\n",
       "│ 6   │ FS_max   │ 1.36495   │ -0.498915  │ 0.516277   │ 9.30354    │         │\n",
       "│ 7   │ FS_max3  │ 1.43037   │ -0.500555  │ 0.556587   │ 13.9251    │         │\n",
       "│ 8   │ SS_sum   │ 0.162158  │ -0.059274  │ -0.0332895 │ 1.4373     │         │\n",
       "│ 9   │ SS_max   │ 0.138709  │ -0.0621233 │ -0.0271794 │ 1.2941     │         │\n",
       "│ 10  │ SS_max3  │ 0.152314  │ -0.061793  │ -0.0303622 │ 1.66996    │         │"
      ]
     },
     "execution_count": 46,
     "metadata": {},
     "output_type": "execute_result"
    }
   ],
   "source": [
    "describe(new_entries)"
   ]
  },
  {
   "cell_type": "code",
   "execution_count": 47,
   "metadata": {},
   "outputs": [
    {
     "data": {
      "text/plain": [
       "\"data/parsed/oversampled/ouvrage_4350.csv\""
      ]
     },
     "execution_count": 47,
     "metadata": {},
     "output_type": "execute_result"
    }
   ],
   "source": [
    "CSV.write(\"data/parsed/oversampled/ouvrage_4350.csv\", new_entries)"
   ]
  },
  {
   "cell_type": "markdown",
   "metadata": {},
   "source": [
    "## Ouvrage 4380"
   ]
  },
  {
   "cell_type": "code",
   "execution_count": 48,
   "metadata": {},
   "outputs": [
    {
     "data": {
      "text/plain": [
       "(1103, 10)"
      ]
     },
     "execution_count": 48,
     "metadata": {},
     "output_type": "execute_result"
    }
   ],
   "source": [
    "data_set = CSV.read(\"data/parsed/ouvrage_4380.csv\");\n",
    "size(data_set)"
   ]
  },
  {
   "cell_type": "code",
   "execution_count": 49,
   "metadata": {},
   "outputs": [
    {
     "data": {
      "text/html": [
       "<table class=\"data-frame\"><thead><tr><th></th><th>variable</th><th>mean</th><th>min</th><th>median</th><th>max</th><th>nunique</th><th>nmissing</th><th>eltype</th></tr><tr><th></th><th>Symbol</th><th>Union…</th><th>Any</th><th>Union…</th><th>Any</th><th>Union…</th><th>Nothing</th><th>DataType</th></tr></thead><tbody><p>10 rows × 8 columns</p><tr><th>1</th><td>DATE</td><td></td><td>2013-05-01</td><td></td><td>2018-10-31</td><td>1103</td><td></td><td>Date</td></tr><tr><th>2</th><td>SURVERSE</td><td>0.0761559</td><td>0</td><td>0.0</td><td>1</td><td></td><td></td><td>Int64</td></tr><tr><th>3</th><td>FS_dist</td><td>0.0401006</td><td>0.0401006</td><td>0.0401006</td><td>0.0401006</td><td></td><td></td><td>Float64</td></tr><tr><th>4</th><td>SS_dist</td><td>0.154948</td><td>0.154948</td><td>0.154948</td><td>0.154948</td><td></td><td></td><td>Float64</td></tr><tr><th>5</th><td>FS_sum</td><td>-0.0125561</td><td>-0.396293</td><td>-0.396293</td><td>9.43361</td><td></td><td></td><td>Float64</td></tr><tr><th>6</th><td>FS_max</td><td>-0.00278184</td><td>-0.415792</td><td>-0.415792</td><td>7.80956</td><td></td><td></td><td>Float64</td></tr><tr><th>7</th><td>FS_max3</td><td>-0.0107162</td><td>-0.417149</td><td>-0.417149</td><td>11.6341</td><td></td><td></td><td>Float64</td></tr><tr><th>8</th><td>SS_sum</td><td>-0.0102462</td><td>-0.116085</td><td>-0.116085</td><td>2.8175</td><td></td><td></td><td>Float64</td></tr><tr><th>9</th><td>SS_max</td><td>-0.00823173</td><td>-0.121674</td><td>-0.121674</td><td>2.53472</td><td></td><td></td><td>Float64</td></tr><tr><th>10</th><td>SS_max3</td><td>-0.0105329</td><td>-0.121026</td><td>-0.121026</td><td>3.27244</td><td></td><td></td><td>Float64</td></tr></tbody></table>"
      ],
      "text/latex": [
       "\\begin{tabular}{r|cccccccc}\n",
       "\t& variable & mean & min & median & max & nunique & nmissing & eltype\\\\\n",
       "\t\\hline\n",
       "\t& Symbol & Union… & Any & Union… & Any & Union… & Nothing & DataType\\\\\n",
       "\t\\hline\n",
       "\t1 & DATE &  & 2013-05-01 &  & 2018-10-31 & 1103 &  & Date \\\\\n",
       "\t2 & SURVERSE & 0.0761559 & 0 & 0.0 & 1 &  &  & Int64 \\\\\n",
       "\t3 & FS\\_dist & 0.0401006 & 0.0401006 & 0.0401006 & 0.0401006 &  &  & Float64 \\\\\n",
       "\t4 & SS\\_dist & 0.154948 & 0.154948 & 0.154948 & 0.154948 &  &  & Float64 \\\\\n",
       "\t5 & FS\\_sum & -0.0125561 & -0.396293 & -0.396293 & 9.43361 &  &  & Float64 \\\\\n",
       "\t6 & FS\\_max & -0.00278184 & -0.415792 & -0.415792 & 7.80956 &  &  & Float64 \\\\\n",
       "\t7 & FS\\_max3 & -0.0107162 & -0.417149 & -0.417149 & 11.6341 &  &  & Float64 \\\\\n",
       "\t8 & SS\\_sum & -0.0102462 & -0.116085 & -0.116085 & 2.8175 &  &  & Float64 \\\\\n",
       "\t9 & SS\\_max & -0.00823173 & -0.121674 & -0.121674 & 2.53472 &  &  & Float64 \\\\\n",
       "\t10 & SS\\_max3 & -0.0105329 & -0.121026 & -0.121026 & 3.27244 &  &  & Float64 \\\\\n",
       "\\end{tabular}\n"
      ],
      "text/plain": [
       "10×8 DataFrame. Omitted printing of 2 columns\n",
       "│ Row │ variable │ mean        │ min        │ median    │ max        │ nunique │\n",
       "│     │ \u001b[90mSymbol\u001b[39m   │ \u001b[90mUnion…\u001b[39m      │ \u001b[90mAny\u001b[39m        │ \u001b[90mUnion…\u001b[39m    │ \u001b[90mAny\u001b[39m        │ \u001b[90mUnion…\u001b[39m  │\n",
       "├─────┼──────────┼─────────────┼────────────┼───────────┼────────────┼─────────┤\n",
       "│ 1   │ DATE     │             │ 2013-05-01 │           │ 2018-10-31 │ 1103    │\n",
       "│ 2   │ SURVERSE │ 0.0761559   │ 0          │ 0.0       │ 1          │         │\n",
       "│ 3   │ FS_dist  │ 0.0401006   │ 0.0401006  │ 0.0401006 │ 0.0401006  │         │\n",
       "│ 4   │ SS_dist  │ 0.154948    │ 0.154948   │ 0.154948  │ 0.154948   │         │\n",
       "│ 5   │ FS_sum   │ -0.0125561  │ -0.396293  │ -0.396293 │ 9.43361    │         │\n",
       "│ 6   │ FS_max   │ -0.00278184 │ -0.415792  │ -0.415792 │ 7.80956    │         │\n",
       "│ 7   │ FS_max3  │ -0.0107162  │ -0.417149  │ -0.417149 │ 11.6341    │         │\n",
       "│ 8   │ SS_sum   │ -0.0102462  │ -0.116085  │ -0.116085 │ 2.8175     │         │\n",
       "│ 9   │ SS_max   │ -0.00823173 │ -0.121674  │ -0.121674 │ 2.53472    │         │\n",
       "│ 10  │ SS_max3  │ -0.0105329  │ -0.121026  │ -0.121026 │ 3.27244    │         │"
      ]
     },
     "execution_count": 49,
     "metadata": {},
     "output_type": "execute_result"
    }
   ],
   "source": [
    "describe(data_set)"
   ]
  },
  {
   "cell_type": "code",
   "execution_count": 52,
   "metadata": {},
   "outputs": [],
   "source": [
    "n_to_random_sample = 10000 - size(data_set, 1);\n",
    "new_entries = similar(data_set, nrow(data_set))\n",
    "\n",
    "for (i, row) in enumerate(eachrow(data_set))\n",
    "    new_entries[i, :] = row[:]\n",
    "end\n",
    "\n",
    "for i=1:n_to_random_sample\n",
    "    should_surverse = rand() > 0.45 ? 1 : 0;\n",
    "    cols = filter(row -> row.SURVERSE == should_surverse, data_set);\n",
    "    idx_row = convert(Int64, trunc(rand() * size(cols, 1))) + 1;\n",
    "    \n",
    "    entry = cols[idx_row, :];\n",
    "    generate_new_entry(new_entries, entry);\n",
    "end"
   ]
  },
  {
   "cell_type": "code",
   "execution_count": 53,
   "metadata": {},
   "outputs": [
    {
     "data": {
      "text/html": [
       "<table class=\"data-frame\"><thead><tr><th></th><th>variable</th><th>mean</th><th>min</th><th>median</th><th>max</th><th>nunique</th><th>nmissing</th><th>eltype</th></tr><tr><th></th><th>Symbol</th><th>Union…</th><th>Any</th><th>Union…</th><th>Any</th><th>Union…</th><th>Nothing</th><th>DataType</th></tr></thead><tbody><p>10 rows × 8 columns</p><tr><th>1</th><td>DATE</td><td></td><td>2013-05-01</td><td></td><td>2018-10-31</td><td>1103</td><td></td><td>Date</td></tr><tr><th>2</th><td>SURVERSE</td><td>0.4971</td><td>0</td><td>0.0</td><td>1</td><td></td><td></td><td>Int64</td></tr><tr><th>3</th><td>FS_dist</td><td>0.0401006</td><td>0.0401006</td><td>0.0401006</td><td>0.0401006</td><td></td><td></td><td>Float64</td></tr><tr><th>4</th><td>SS_dist</td><td>0.154948</td><td>0.154948</td><td>0.154948</td><td>0.154948</td><td></td><td></td><td>Float64</td></tr><tr><th>5</th><td>FS_sum</td><td>0.919445</td><td>-0.475547</td><td>0.0147312</td><td>11.2242</td><td></td><td></td><td>Float64</td></tr><tr><th>6</th><td>FS_max</td><td>0.946782</td><td>-0.49895</td><td>0.189071</td><td>9.33231</td><td></td><td></td><td>Float64</td></tr><tr><th>7</th><td>FS_max3</td><td>0.946147</td><td>-0.500541</td><td>0.0819098</td><td>13.868</td><td></td><td></td><td>Float64</td></tr><tr><th>8</th><td>SS_sum</td><td>0.290811</td><td>-0.139282</td><td>-0.0700547</td><td>3.3743</td><td></td><td></td><td>Float64</td></tr><tr><th>9</th><td>SS_max</td><td>0.284895</td><td>-0.145969</td><td>-0.0333888</td><td>3.02945</td><td></td><td></td><td>Float64</td></tr><tr><th>10</th><td>SS_max3</td><td>0.28906</td><td>-0.14518</td><td>-0.0627687</td><td>3.90606</td><td></td><td></td><td>Float64</td></tr></tbody></table>"
      ],
      "text/latex": [
       "\\begin{tabular}{r|cccccccc}\n",
       "\t& variable & mean & min & median & max & nunique & nmissing & eltype\\\\\n",
       "\t\\hline\n",
       "\t& Symbol & Union… & Any & Union… & Any & Union… & Nothing & DataType\\\\\n",
       "\t\\hline\n",
       "\t1 & DATE &  & 2013-05-01 &  & 2018-10-31 & 1103 &  & Date \\\\\n",
       "\t2 & SURVERSE & 0.4971 & 0 & 0.0 & 1 &  &  & Int64 \\\\\n",
       "\t3 & FS\\_dist & 0.0401006 & 0.0401006 & 0.0401006 & 0.0401006 &  &  & Float64 \\\\\n",
       "\t4 & SS\\_dist & 0.154948 & 0.154948 & 0.154948 & 0.154948 &  &  & Float64 \\\\\n",
       "\t5 & FS\\_sum & 0.919445 & -0.475547 & 0.0147312 & 11.2242 &  &  & Float64 \\\\\n",
       "\t6 & FS\\_max & 0.946782 & -0.49895 & 0.189071 & 9.33231 &  &  & Float64 \\\\\n",
       "\t7 & FS\\_max3 & 0.946147 & -0.500541 & 0.0819098 & 13.868 &  &  & Float64 \\\\\n",
       "\t8 & SS\\_sum & 0.290811 & -0.139282 & -0.0700547 & 3.3743 &  &  & Float64 \\\\\n",
       "\t9 & SS\\_max & 0.284895 & -0.145969 & -0.0333888 & 3.02945 &  &  & Float64 \\\\\n",
       "\t10 & SS\\_max3 & 0.28906 & -0.14518 & -0.0627687 & 3.90606 &  &  & Float64 \\\\\n",
       "\\end{tabular}\n"
      ],
      "text/plain": [
       "10×8 DataFrame. Omitted printing of 2 columns\n",
       "│ Row │ variable │ mean      │ min        │ median     │ max        │ nunique │\n",
       "│     │ \u001b[90mSymbol\u001b[39m   │ \u001b[90mUnion…\u001b[39m    │ \u001b[90mAny\u001b[39m        │ \u001b[90mUnion…\u001b[39m     │ \u001b[90mAny\u001b[39m        │ \u001b[90mUnion…\u001b[39m  │\n",
       "├─────┼──────────┼───────────┼────────────┼────────────┼────────────┼─────────┤\n",
       "│ 1   │ DATE     │           │ 2013-05-01 │            │ 2018-10-31 │ 1103    │\n",
       "│ 2   │ SURVERSE │ 0.4971    │ 0          │ 0.0        │ 1          │         │\n",
       "│ 3   │ FS_dist  │ 0.0401006 │ 0.0401006  │ 0.0401006  │ 0.0401006  │         │\n",
       "│ 4   │ SS_dist  │ 0.154948  │ 0.154948   │ 0.154948   │ 0.154948   │         │\n",
       "│ 5   │ FS_sum   │ 0.919445  │ -0.475547  │ 0.0147312  │ 11.2242    │         │\n",
       "│ 6   │ FS_max   │ 0.946782  │ -0.49895   │ 0.189071   │ 9.33231    │         │\n",
       "│ 7   │ FS_max3  │ 0.946147  │ -0.500541  │ 0.0819098  │ 13.868     │         │\n",
       "│ 8   │ SS_sum   │ 0.290811  │ -0.139282  │ -0.0700547 │ 3.3743     │         │\n",
       "│ 9   │ SS_max   │ 0.284895  │ -0.145969  │ -0.0333888 │ 3.02945    │         │\n",
       "│ 10  │ SS_max3  │ 0.28906   │ -0.14518   │ -0.0627687 │ 3.90606    │         │"
      ]
     },
     "execution_count": 53,
     "metadata": {},
     "output_type": "execute_result"
    }
   ],
   "source": [
    "describe(new_entries)"
   ]
  },
  {
   "cell_type": "code",
   "execution_count": 54,
   "metadata": {},
   "outputs": [
    {
     "data": {
      "text/plain": [
       "\"data/parsed/oversampled/ouvrage_4380.csv\""
      ]
     },
     "execution_count": 54,
     "metadata": {},
     "output_type": "execute_result"
    }
   ],
   "source": [
    "CSV.write(\"data/parsed/oversampled/ouvrage_4380.csv\", new_entries)"
   ]
  }
 ],
 "metadata": {
  "kernelspec": {
   "display_name": "Julia 1.2.0",
   "language": "julia",
   "name": "julia-1.2"
  },
  "language_info": {
   "file_extension": ".jl",
   "mimetype": "application/julia",
   "name": "julia",
   "version": "1.0.5"
  }
 },
 "nbformat": 4,
 "nbformat_minor": 2
}
