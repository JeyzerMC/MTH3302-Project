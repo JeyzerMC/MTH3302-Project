{
 "cells": [
  {
   "cell_type": "markdown",
   "metadata": {},
   "source": [
    "# Data Processing"
   ]
  },
  {
   "cell_type": "code",
   "execution_count": 125,
   "metadata": {},
   "outputs": [],
   "source": [
    "using CSV, DataFrames, DecisionTree, Statistics, Dates, Gadfly, Random, MLBase;\n",
    "include(\"utils/precipitation.jl\");"
   ]
  },
  {
   "cell_type": "markdown",
   "metadata": {},
   "source": [
    "## Build features"
   ]
  },
  {
   "cell_type": "markdown",
   "metadata": {},
   "source": [
    "### Get and filter the features"
   ]
  },
  {
   "cell_type": "markdown",
   "metadata": {},
   "source": [
    "#### Latitude, Longitude, Height"
   ]
  },
  {
   "cell_type": "code",
   "execution_count": 2,
   "metadata": {},
   "outputs": [],
   "source": [
    "features = CSV.read(\"data/ouvrages-surverses.csv\");\n",
    "colnames = [\"N_Env\", \"ID_SOMA\", \"ID_OUVRAGE\", \"NOM\", \"SOMA_SEC\", \"REGION\", \"TP_X\", \"TP_Y\", \"TP_Z\", \"TP_LAT\", \"TP_LNG\", \"EMI_X\", \"EMI_Y\", \"EMI_LNG\", \"EMI_LAT\"];\n",
    "names!(features, Symbol.(colnames));\n",
    "select!(features, [:ID_OUVRAGE, :TP_LAT, :TP_LNG, :TP_Z]);"
   ]
  },
  {
   "cell_type": "markdown",
   "metadata": {},
   "source": [
    "#### Replace missing Z index with mean"
   ]
  },
  {
   "cell_type": "code",
   "execution_count": 3,
   "metadata": {},
   "outputs": [
    {
     "data": {
      "text/html": [
       "<table class=\"data-frame\"><thead><tr><th></th><th>ID_OUVRAGE</th><th>TP_LAT</th><th>TP_LNG</th><th>TP_Z</th></tr><tr><th></th><th>String</th><th>Float64</th><th>Float64</th><th>Float64</th></tr></thead><tbody><p>10 rows × 4 columns</p><tr><th>1</th><td>3350-06D</td><td>45.5551</td><td>-73.6735</td><td>21.31</td></tr><tr><th>2</th><td>3480-03D</td><td>45.4972</td><td>-73.7953</td><td>25.51</td></tr><tr><th>3</th><td>4240-02D</td><td>45.6498</td><td>-73.4877</td><td>19.29</td></tr><tr><th>4</th><td>3490-02D</td><td>45.5054</td><td>-73.8061</td><td>24.49</td></tr><tr><th>5</th><td>4210-01D</td><td>45.6669</td><td>-73.5075</td><td>11.59</td></tr><tr><th>6</th><td>4230-08D</td><td>45.6968</td><td>-73.4809</td><td>10.11</td></tr><tr><th>7</th><td>3350-11D</td><td>45.5328</td><td>-73.7065</td><td>25.28</td></tr><tr><th>8</th><td>3350-02D</td><td>45.5783</td><td>-73.6585</td><td>19.3526</td></tr><tr><th>9</th><td>3782-01D</td><td>45.4721</td><td>-73.8778</td><td>24.14</td></tr><tr><th>10</th><td>3275-02D</td><td>45.637</td><td>-73.607</td><td>14.53</td></tr></tbody></table>"
      ],
      "text/latex": [
       "\\begin{tabular}{r|cccc}\n",
       "\t& ID\\_OUVRAGE & TP\\_LAT & TP\\_LNG & TP\\_Z\\\\\n",
       "\t\\hline\n",
       "\t& String & Float64 & Float64 & Float64\\\\\n",
       "\t\\hline\n",
       "\t1 & 3350-06D & 45.5551 & -73.6735 & 21.31 \\\\\n",
       "\t2 & 3480-03D & 45.4972 & -73.7953 & 25.51 \\\\\n",
       "\t3 & 4240-02D & 45.6498 & -73.4877 & 19.29 \\\\\n",
       "\t4 & 3490-02D & 45.5054 & -73.8061 & 24.49 \\\\\n",
       "\t5 & 4210-01D & 45.6669 & -73.5075 & 11.59 \\\\\n",
       "\t6 & 4230-08D & 45.6968 & -73.4809 & 10.11 \\\\\n",
       "\t7 & 3350-11D & 45.5328 & -73.7065 & 25.28 \\\\\n",
       "\t8 & 3350-02D & 45.5783 & -73.6585 & 19.3526 \\\\\n",
       "\t9 & 3782-01D & 45.4721 & -73.8778 & 24.14 \\\\\n",
       "\t10 & 3275-02D & 45.637 & -73.607 & 14.53 \\\\\n",
       "\\end{tabular}\n"
      ],
      "text/plain": [
       "10×4 DataFrame\n",
       "│ Row │ ID_OUVRAGE │ TP_LAT  │ TP_LNG   │ TP_Z    │\n",
       "│     │ \u001b[90mString\u001b[39m     │ \u001b[90mFloat64\u001b[39m │ \u001b[90mFloat64\u001b[39m  │ \u001b[90mFloat64\u001b[39m │\n",
       "├─────┼────────────┼─────────┼──────────┼─────────┤\n",
       "│ 1   │ 3350-06D   │ 45.5551 │ -73.6735 │ 21.31   │\n",
       "│ 2   │ 3480-03D   │ 45.4972 │ -73.7953 │ 25.51   │\n",
       "│ 3   │ 4240-02D   │ 45.6498 │ -73.4877 │ 19.29   │\n",
       "│ 4   │ 3490-02D   │ 45.5054 │ -73.8061 │ 24.49   │\n",
       "│ 5   │ 4210-01D   │ 45.6669 │ -73.5075 │ 11.59   │\n",
       "│ 6   │ 4230-08D   │ 45.6968 │ -73.4809 │ 10.11   │\n",
       "│ 7   │ 3350-11D   │ 45.5328 │ -73.7065 │ 25.28   │\n",
       "│ 8   │ 3350-02D   │ 45.5783 │ -73.6585 │ 19.3526 │\n",
       "│ 9   │ 3782-01D   │ 45.4721 │ -73.8778 │ 24.14   │\n",
       "│ 10  │ 3275-02D   │ 45.637  │ -73.607  │ 14.53   │"
      ]
     },
     "execution_count": 3,
     "metadata": {},
     "output_type": "execute_result"
    }
   ],
   "source": [
    "features.TP_Z = coalesce.(features.TP_Z, mean(features[completecases(features), :].TP_Z));\n",
    "first(shuffleDf(features), 10)"
   ]
  },
  {
   "cell_type": "markdown",
   "metadata": {},
   "source": [
    "### Load dates and surverses"
   ]
  },
  {
   "cell_type": "code",
   "execution_count": 5,
   "metadata": {},
   "outputs": [],
   "source": [
    "surverses = CSV.read(\"data/surverses.csv\",missingstring=\"-99999\");"
   ]
  },
  {
   "cell_type": "markdown",
   "metadata": {},
   "source": [
    "#### Filter months"
   ]
  },
  {
   "cell_type": "code",
   "execution_count": 6,
   "metadata": {},
   "outputs": [],
   "source": [
    "surverses = filter(row -> month(row.DATE) > 4, surverses);\n",
    "surverses = filter(row -> month(row.DATE) < 11, surverses);"
   ]
  },
  {
   "cell_type": "markdown",
   "metadata": {},
   "source": [
    "#### Filter non rain surverses"
   ]
  },
  {
   "cell_type": "code",
   "execution_count": 7,
   "metadata": {},
   "outputs": [],
   "source": [
    "raison = coalesce.(surverses[:,:RAISON],\"Inconnue\");\n",
    "surverses[!,:RAISON] = raison;\n",
    "\n",
    "surverses = filter(row -> row.RAISON ∈ [\"P\",\"Inconnue\",\"TS\"], surverses);\n",
    "select!(surverses, [:NO_OUVRAGE, :DATE, :SURVERSE]);"
   ]
  },
  {
   "cell_type": "markdown",
   "metadata": {},
   "source": [
    "#### Remove missing data and rename"
   ]
  },
  {
   "cell_type": "code",
   "execution_count": 8,
   "metadata": {},
   "outputs": [
    {
     "data": {
      "text/html": [
       "<table class=\"data-frame\"><thead><tr><th></th><th>ID_OUVRAGE</th><th>DATE</th><th>SURVERSE</th></tr><tr><th></th><th>String</th><th>Date</th><th>Int64</th></tr></thead><tbody><p>10 rows × 3 columns</p><tr><th>1</th><td>4710-01D</td><td>2013-08-19</td><td>0</td></tr><tr><th>2</th><td>3330-01D</td><td>2015-09-03</td><td>0</td></tr><tr><th>3</th><td>3240-04D</td><td>2015-09-19</td><td>0</td></tr><tr><th>4</th><td>4620-08D</td><td>2016-09-03</td><td>0</td></tr><tr><th>5</th><td>3250-01D</td><td>2018-08-27</td><td>0</td></tr><tr><th>6</th><td>0801-03D</td><td>2016-07-19</td><td>0</td></tr><tr><th>7</th><td>3480-05D</td><td>2013-07-28</td><td>0</td></tr><tr><th>8</th><td>0642-01D</td><td>2018-08-23</td><td>0</td></tr><tr><th>9</th><td>3350-06D</td><td>2015-06-14</td><td>0</td></tr><tr><th>10</th><td>4420-01D</td><td>2013-05-25</td><td>0</td></tr></tbody></table>"
      ],
      "text/latex": [
       "\\begin{tabular}{r|ccc}\n",
       "\t& ID\\_OUVRAGE & DATE & SURVERSE\\\\\n",
       "\t\\hline\n",
       "\t& String & Date & Int64\\\\\n",
       "\t\\hline\n",
       "\t1 & 4710-01D & 2013-08-19 & 0 \\\\\n",
       "\t2 & 3330-01D & 2015-09-03 & 0 \\\\\n",
       "\t3 & 3240-04D & 2015-09-19 & 0 \\\\\n",
       "\t4 & 4620-08D & 2016-09-03 & 0 \\\\\n",
       "\t5 & 3250-01D & 2018-08-27 & 0 \\\\\n",
       "\t6 & 0801-03D & 2016-07-19 & 0 \\\\\n",
       "\t7 & 3480-05D & 2013-07-28 & 0 \\\\\n",
       "\t8 & 0642-01D & 2018-08-23 & 0 \\\\\n",
       "\t9 & 3350-06D & 2015-06-14 & 0 \\\\\n",
       "\t10 & 4420-01D & 2013-05-25 & 0 \\\\\n",
       "\\end{tabular}\n"
      ],
      "text/plain": [
       "10×3 DataFrame\n",
       "│ Row │ ID_OUVRAGE │ DATE       │ SURVERSE │\n",
       "│     │ \u001b[90mString\u001b[39m     │ \u001b[90mDate\u001b[39m       │ \u001b[90mInt64\u001b[39m    │\n",
       "├─────┼────────────┼────────────┼──────────┤\n",
       "│ 1   │ 4710-01D   │ 2013-08-19 │ 0        │\n",
       "│ 2   │ 3330-01D   │ 2015-09-03 │ 0        │\n",
       "│ 3   │ 3240-04D   │ 2015-09-19 │ 0        │\n",
       "│ 4   │ 4620-08D   │ 2016-09-03 │ 0        │\n",
       "│ 5   │ 3250-01D   │ 2018-08-27 │ 0        │\n",
       "│ 6   │ 0801-03D   │ 2016-07-19 │ 0        │\n",
       "│ 7   │ 3480-05D   │ 2013-07-28 │ 0        │\n",
       "│ 8   │ 0642-01D   │ 2018-08-23 │ 0        │\n",
       "│ 9   │ 3350-06D   │ 2015-06-14 │ 0        │\n",
       "│ 10  │ 4420-01D   │ 2013-05-25 │ 0        │"
      ]
     },
     "execution_count": 8,
     "metadata": {},
     "output_type": "execute_result"
    }
   ],
   "source": [
    "surverses = dropmissing(surverses, disallowmissing=true);\n",
    "rename!(surverses, :NO_OUVRAGE => :ID_OUVRAGE);\n",
    "first(shuffleDf(surverses),10)"
   ]
  },
  {
   "cell_type": "markdown",
   "metadata": {},
   "source": [
    "### Augment features with dates and label"
   ]
  },
  {
   "cell_type": "code",
   "execution_count": 9,
   "metadata": {},
   "outputs": [
    {
     "data": {
      "text/html": [
       "<table class=\"data-frame\"><thead><tr><th></th><th>ID_OUVRAGE</th><th>TP_LAT</th><th>TP_LNG</th><th>TP_Z</th><th>DATE</th><th>SURVERSE</th></tr><tr><th></th><th>String</th><th>Float64</th><th>Float64</th><th>Float64</th><th>Date</th><th>Int64</th></tr></thead><tbody><p>10 rows × 6 columns</p><tr><th>1</th><td>3275-02D</td><td>45.637</td><td>-73.607</td><td>14.53</td><td>2013-10-08</td><td>0</td></tr><tr><th>2</th><td>4370-02D</td><td>45.4713</td><td>-73.5596</td><td>19.3526</td><td>2013-07-28</td><td>0</td></tr><tr><th>3</th><td>3280-01D</td><td>45.634</td><td>-73.6059</td><td>23.86</td><td>2015-07-04</td><td>0</td></tr><tr><th>4</th><td>4230-03D</td><td>45.6705</td><td>-73.4918</td><td>9.1</td><td>2017-06-19</td><td>0</td></tr><tr><th>5</th><td>3305-03D</td><td>45.6196</td><td>-73.6329</td><td>11.76</td><td>2018-05-22</td><td>0</td></tr><tr><th>6</th><td>3380-01D</td><td>45.5533</td><td>-73.6703</td><td>22.23</td><td>2016-07-16</td><td>0</td></tr><tr><th>7</th><td>4600-03D</td><td>45.4364</td><td>-73.8226</td><td>26.42</td><td>2013-06-03</td><td>0</td></tr><tr><th>8</th><td>0801-03D</td><td>45.5081</td><td>-73.5273</td><td>11.94</td><td>2018-08-10</td><td>0</td></tr><tr><th>9</th><td>4430-02D</td><td>45.4344</td><td>-73.5869</td><td>18.56</td><td>2018-06-17</td><td>0</td></tr><tr><th>10</th><td>4600-03D</td><td>45.4364</td><td>-73.8226</td><td>26.42</td><td>2014-07-25</td><td>0</td></tr></tbody></table>"
      ],
      "text/latex": [
       "\\begin{tabular}{r|cccccc}\n",
       "\t& ID\\_OUVRAGE & TP\\_LAT & TP\\_LNG & TP\\_Z & DATE & SURVERSE\\\\\n",
       "\t\\hline\n",
       "\t& String & Float64 & Float64 & Float64 & Date & Int64\\\\\n",
       "\t\\hline\n",
       "\t1 & 3275-02D & 45.637 & -73.607 & 14.53 & 2013-10-08 & 0 \\\\\n",
       "\t2 & 4370-02D & 45.4713 & -73.5596 & 19.3526 & 2013-07-28 & 0 \\\\\n",
       "\t3 & 3280-01D & 45.634 & -73.6059 & 23.86 & 2015-07-04 & 0 \\\\\n",
       "\t4 & 4230-03D & 45.6705 & -73.4918 & 9.1 & 2017-06-19 & 0 \\\\\n",
       "\t5 & 3305-03D & 45.6196 & -73.6329 & 11.76 & 2018-05-22 & 0 \\\\\n",
       "\t6 & 3380-01D & 45.5533 & -73.6703 & 22.23 & 2016-07-16 & 0 \\\\\n",
       "\t7 & 4600-03D & 45.4364 & -73.8226 & 26.42 & 2013-06-03 & 0 \\\\\n",
       "\t8 & 0801-03D & 45.5081 & -73.5273 & 11.94 & 2018-08-10 & 0 \\\\\n",
       "\t9 & 4430-02D & 45.4344 & -73.5869 & 18.56 & 2018-06-17 & 0 \\\\\n",
       "\t10 & 4600-03D & 45.4364 & -73.8226 & 26.42 & 2014-07-25 & 0 \\\\\n",
       "\\end{tabular}\n"
      ],
      "text/plain": [
       "10×6 DataFrame\n",
       "│ Row │ ID_OUVRAGE │ TP_LAT  │ TP_LNG   │ TP_Z    │ DATE       │ SURVERSE │\n",
       "│     │ \u001b[90mString\u001b[39m     │ \u001b[90mFloat64\u001b[39m │ \u001b[90mFloat64\u001b[39m  │ \u001b[90mFloat64\u001b[39m │ \u001b[90mDate\u001b[39m       │ \u001b[90mInt64\u001b[39m    │\n",
       "├─────┼────────────┼─────────┼──────────┼─────────┼────────────┼──────────┤\n",
       "│ 1   │ 3275-02D   │ 45.637  │ -73.607  │ 14.53   │ 2013-10-08 │ 0        │\n",
       "│ 2   │ 4370-02D   │ 45.4713 │ -73.5596 │ 19.3526 │ 2013-07-28 │ 0        │\n",
       "│ 3   │ 3280-01D   │ 45.634  │ -73.6059 │ 23.86   │ 2015-07-04 │ 0        │\n",
       "│ 4   │ 4230-03D   │ 45.6705 │ -73.4918 │ 9.1     │ 2017-06-19 │ 0        │\n",
       "│ 5   │ 3305-03D   │ 45.6196 │ -73.6329 │ 11.76   │ 2018-05-22 │ 0        │\n",
       "│ 6   │ 3380-01D   │ 45.5533 │ -73.6703 │ 22.23   │ 2016-07-16 │ 0        │\n",
       "│ 7   │ 4600-03D   │ 45.4364 │ -73.8226 │ 26.42   │ 2013-06-03 │ 0        │\n",
       "│ 8   │ 0801-03D   │ 45.5081 │ -73.5273 │ 11.94   │ 2018-08-10 │ 0        │\n",
       "│ 9   │ 4430-02D   │ 45.4344 │ -73.5869 │ 18.56   │ 2018-06-17 │ 0        │\n",
       "│ 10  │ 4600-03D   │ 45.4364 │ -73.8226 │ 26.42   │ 2014-07-25 │ 0        │"
      ]
     },
     "execution_count": 9,
     "metadata": {},
     "output_type": "execute_result"
    }
   ],
   "source": [
    "comb = join(features, surverses, on = :ID_OUVRAGE);\n",
    "first(shuffleDf(comb), 10)"
   ]
  },
  {
   "cell_type": "markdown",
   "metadata": {},
   "source": [
    "### Load precipitation data"
   ]
  },
  {
   "cell_type": "markdown",
   "metadata": {},
   "source": [
    "#### Load and filter months between May & October included"
   ]
  },
  {
   "cell_type": "code",
   "execution_count": 10,
   "metadata": {},
   "outputs": [],
   "source": [
    "precipitation = CSV.read(\"data/precipitations.csv\",missingstring=\"-99999\");\n",
    "rename!(precipitation, Symbol(\"St-Hubert\")=>:StHubert);\n",
    "\n",
    "precipitation = filter(row -> month(row.date) > 4, precipitation);\n",
    "precipitation = filter(row -> month(row.date) < 11, precipitation); "
   ]
  },
  {
   "cell_type": "markdown",
   "metadata": {},
   "source": [
    "#### Replace missing data by 0"
   ]
  },
  {
   "cell_type": "code",
   "execution_count": 11,
   "metadata": {},
   "outputs": [
    {
     "data": {
      "text/html": [
       "<table class=\"data-frame\"><thead><tr><th></th><th>date</th><th>heure</th><th>McTavish</th><th>Bellevue</th><th>Assomption</th><th>Trudeau</th><th>StHubert</th></tr><tr><th></th><th>Date</th><th>Int64</th><th>Int64</th><th>Int64</th><th>Int64</th><th>Int64</th><th>Int64</th></tr></thead><tbody><p>5 rows × 7 columns</p><tr><th>1</th><td>2018-10-22</td><td>20</td><td>0</td><td>0</td><td>0</td><td>0</td><td>0</td></tr><tr><th>2</th><td>2014-05-04</td><td>10</td><td>14</td><td>2</td><td>0</td><td>6</td><td>0</td></tr><tr><th>3</th><td>2015-09-20</td><td>5</td><td>0</td><td>0</td><td>0</td><td>0</td><td>0</td></tr><tr><th>4</th><td>2016-09-28</td><td>18</td><td>0</td><td>0</td><td>0</td><td>0</td><td>0</td></tr><tr><th>5</th><td>2018-06-03</td><td>9</td><td>0</td><td>0</td><td>0</td><td>0</td><td>0</td></tr></tbody></table>"
      ],
      "text/latex": [
       "\\begin{tabular}{r|ccccccc}\n",
       "\t& date & heure & McTavish & Bellevue & Assomption & Trudeau & StHubert\\\\\n",
       "\t\\hline\n",
       "\t& Date & Int64 & Int64 & Int64 & Int64 & Int64 & Int64\\\\\n",
       "\t\\hline\n",
       "\t1 & 2018-10-22 & 20 & 0 & 0 & 0 & 0 & 0 \\\\\n",
       "\t2 & 2014-05-04 & 10 & 14 & 2 & 0 & 6 & 0 \\\\\n",
       "\t3 & 2015-09-20 & 5 & 0 & 0 & 0 & 0 & 0 \\\\\n",
       "\t4 & 2016-09-28 & 18 & 0 & 0 & 0 & 0 & 0 \\\\\n",
       "\t5 & 2018-06-03 & 9 & 0 & 0 & 0 & 0 & 0 \\\\\n",
       "\\end{tabular}\n"
      ],
      "text/plain": [
       "5×7 DataFrame. Omitted printing of 1 columns\n",
       "│ Row │ date       │ heure │ McTavish │ Bellevue │ Assomption │ Trudeau │\n",
       "│     │ \u001b[90mDate\u001b[39m       │ \u001b[90mInt64\u001b[39m │ \u001b[90mInt64\u001b[39m    │ \u001b[90mInt64\u001b[39m    │ \u001b[90mInt64\u001b[39m      │ \u001b[90mInt64\u001b[39m   │\n",
       "├─────┼────────────┼───────┼──────────┼──────────┼────────────┼─────────┤\n",
       "│ 1   │ 2018-10-22 │ 20    │ 0        │ 0        │ 0          │ 0       │\n",
       "│ 2   │ 2014-05-04 │ 10    │ 14       │ 2        │ 0          │ 6       │\n",
       "│ 3   │ 2015-09-20 │ 5     │ 0        │ 0        │ 0          │ 0       │\n",
       "│ 4   │ 2016-09-28 │ 18    │ 0        │ 0        │ 0          │ 0       │\n",
       "│ 5   │ 2018-06-03 │ 9     │ 0        │ 0        │ 0          │ 0       │"
      ]
     },
     "execution_count": 11,
     "metadata": {},
     "output_type": "execute_result"
    }
   ],
   "source": [
    "precipitation[!,:McTavish] = coalesce.(precipitation[:,:McTavish], 0);\n",
    "precipitation[!,:Bellevue] = coalesce.(precipitation[:,:Bellevue], 0);\n",
    "precipitation[!,:Assomption] = coalesce.(precipitation[:,:Assomption], 0);\n",
    "precipitation[!,:Trudeau] = coalesce.(precipitation[:,:Trudeau], 0);\n",
    "precipitation[!,:StHubert] = coalesce.(precipitation[:,:StHubert], 0);\n",
    "\n",
    "first(shuffleDf(precipitation), 5)"
   ]
  },
  {
   "cell_type": "markdown",
   "metadata": {},
   "source": [
    "### Extract features from precipitation"
   ]
  },
  {
   "cell_type": "markdown",
   "metadata": {},
   "source": [
    "#### Sum of precipitation for the day"
   ]
  },
  {
   "cell_type": "code",
   "execution_count": 13,
   "metadata": {
    "scrolled": true
   },
   "outputs": [
    {
     "data": {
      "text/html": [
       "<table class=\"data-frame\"><thead><tr><th></th><th>date</th><th>McTavish</th><th>Bellevue</th><th>Assomption</th><th>Trudeau</th><th>StHubert</th></tr><tr><th></th><th>Date</th><th>Int64</th><th>Int64</th><th>Int64</th><th>Int64</th><th>Int64</th></tr></thead><tbody><p>5 rows × 6 columns</p><tr><th>1</th><td>2014-09-25</td><td>0</td><td>0</td><td>0</td><td>0</td><td>0</td></tr><tr><th>2</th><td>2015-05-26</td><td>52</td><td>64</td><td>10</td><td>47</td><td>48</td></tr><tr><th>3</th><td>2014-08-30</td><td>0</td><td>0</td><td>0</td><td>0</td><td>0</td></tr><tr><th>4</th><td>2017-06-21</td><td>0</td><td>0</td><td>30</td><td>0</td><td>0</td></tr><tr><th>5</th><td>2018-08-24</td><td>0</td><td>0</td><td>4</td><td>0</td><td>0</td></tr></tbody></table>"
      ],
      "text/latex": [
       "\\begin{tabular}{r|cccccc}\n",
       "\t& date & McTavish & Bellevue & Assomption & Trudeau & StHubert\\\\\n",
       "\t\\hline\n",
       "\t& Date & Int64 & Int64 & Int64 & Int64 & Int64\\\\\n",
       "\t\\hline\n",
       "\t1 & 2014-09-25 & 0 & 0 & 0 & 0 & 0 \\\\\n",
       "\t2 & 2015-05-26 & 52 & 64 & 10 & 47 & 48 \\\\\n",
       "\t3 & 2014-08-30 & 0 & 0 & 0 & 0 & 0 \\\\\n",
       "\t4 & 2017-06-21 & 0 & 0 & 30 & 0 & 0 \\\\\n",
       "\t5 & 2018-08-24 & 0 & 0 & 4 & 0 & 0 \\\\\n",
       "\\end{tabular}\n"
      ],
      "text/plain": [
       "5×6 DataFrame\n",
       "│ Row │ date       │ McTavish │ Bellevue │ Assomption │ Trudeau │ StHubert │\n",
       "│     │ \u001b[90mDate\u001b[39m       │ \u001b[90mInt64\u001b[39m    │ \u001b[90mInt64\u001b[39m    │ \u001b[90mInt64\u001b[39m      │ \u001b[90mInt64\u001b[39m   │ \u001b[90mInt64\u001b[39m    │\n",
       "├─────┼────────────┼──────────┼──────────┼────────────┼─────────┼──────────┤\n",
       "│ 1   │ 2014-09-25 │ 0        │ 0        │ 0          │ 0       │ 0        │\n",
       "│ 2   │ 2015-05-26 │ 52       │ 64       │ 10         │ 47      │ 48       │\n",
       "│ 3   │ 2014-08-30 │ 0        │ 0        │ 0          │ 0       │ 0        │\n",
       "│ 4   │ 2017-06-21 │ 0        │ 0        │ 30         │ 0       │ 0        │\n",
       "│ 5   │ 2018-08-24 │ 0        │ 0        │ 4          │ 0       │ 0        │"
      ]
     },
     "execution_count": 13,
     "metadata": {},
     "output_type": "execute_result"
    }
   ],
   "source": [
    "pcp_sum = by(precipitation, :date,  McTavish = :McTavish=>sum, Bellevue = :Bellevue=>sum, \n",
    "   Assomption = :Assomption=>sum, Trudeau = :Trudeau=>sum, StHubert = :StHubert=>sum);\n",
    "first(shuffleDf(pcp_sum), 5)"
   ]
  },
  {
   "cell_type": "markdown",
   "metadata": {},
   "source": [
    "#### Maximum precipitation in an hour for the day"
   ]
  },
  {
   "cell_type": "code",
   "execution_count": 14,
   "metadata": {},
   "outputs": [
    {
     "data": {
      "text/html": [
       "<table class=\"data-frame\"><thead><tr><th></th><th>date</th><th>McTavish</th><th>Bellevue</th><th>Assomption</th><th>Trudeau</th><th>StHubert</th></tr><tr><th></th><th>Date</th><th>Int64</th><th>Int64</th><th>Int64</th><th>Int64</th><th>Int64</th></tr></thead><tbody><p>5 rows × 6 columns</p><tr><th>1</th><td>2014-05-29</td><td>0</td><td>0</td><td>0</td><td>0</td><td>0</td></tr><tr><th>2</th><td>2014-05-27</td><td>44</td><td>10</td><td>40</td><td>39</td><td>0</td></tr><tr><th>3</th><td>2015-08-18</td><td>197</td><td>0</td><td>0</td><td>44</td><td>0</td></tr><tr><th>4</th><td>2013-10-16</td><td>12</td><td>8</td><td>0</td><td>7</td><td>0</td></tr><tr><th>5</th><td>2018-07-15</td><td>0</td><td>0</td><td>4</td><td>0</td><td>0</td></tr></tbody></table>"
      ],
      "text/latex": [
       "\\begin{tabular}{r|cccccc}\n",
       "\t& date & McTavish & Bellevue & Assomption & Trudeau & StHubert\\\\\n",
       "\t\\hline\n",
       "\t& Date & Int64 & Int64 & Int64 & Int64 & Int64\\\\\n",
       "\t\\hline\n",
       "\t1 & 2014-05-29 & 0 & 0 & 0 & 0 & 0 \\\\\n",
       "\t2 & 2014-05-27 & 44 & 10 & 40 & 39 & 0 \\\\\n",
       "\t3 & 2015-08-18 & 197 & 0 & 0 & 44 & 0 \\\\\n",
       "\t4 & 2013-10-16 & 12 & 8 & 0 & 7 & 0 \\\\\n",
       "\t5 & 2018-07-15 & 0 & 0 & 4 & 0 & 0 \\\\\n",
       "\\end{tabular}\n"
      ],
      "text/plain": [
       "5×6 DataFrame\n",
       "│ Row │ date       │ McTavish │ Bellevue │ Assomption │ Trudeau │ StHubert │\n",
       "│     │ \u001b[90mDate\u001b[39m       │ \u001b[90mInt64\u001b[39m    │ \u001b[90mInt64\u001b[39m    │ \u001b[90mInt64\u001b[39m      │ \u001b[90mInt64\u001b[39m   │ \u001b[90mInt64\u001b[39m    │\n",
       "├─────┼────────────┼──────────┼──────────┼────────────┼─────────┼──────────┤\n",
       "│ 1   │ 2014-05-29 │ 0        │ 0        │ 0          │ 0       │ 0        │\n",
       "│ 2   │ 2014-05-27 │ 44       │ 10       │ 40         │ 39      │ 0        │\n",
       "│ 3   │ 2015-08-18 │ 197      │ 0        │ 0          │ 44      │ 0        │\n",
       "│ 4   │ 2013-10-16 │ 12       │ 8        │ 0          │ 7       │ 0        │\n",
       "│ 5   │ 2018-07-15 │ 0        │ 0        │ 4          │ 0       │ 0        │"
      ]
     },
     "execution_count": 14,
     "metadata": {},
     "output_type": "execute_result"
    }
   ],
   "source": [
    "pcp_max = by(precipitation, :date,  McTavish = :McTavish=>maximum, Bellevue = :Bellevue=>maximum, \n",
    "   Assomption = :Assomption=>maximum, Trudeau = :Trudeau=>maximum, StHubert = :StHubert=>maximum)\n",
    "first(shuffleDf(pcp_max),5)"
   ]
  },
  {
   "cell_type": "markdown",
   "metadata": {},
   "source": [
    "### Add precipitation data to features"
   ]
  },
  {
   "cell_type": "markdown",
   "metadata": {},
   "source": [
    "#### Get stations lat-lng"
   ]
  },
  {
   "cell_type": "code",
   "execution_count": 15,
   "metadata": {},
   "outputs": [
    {
     "data": {
      "text/html": [
       "<table class=\"data-frame\"><thead><tr><th></th><th>STATION</th><th>LAT</th><th>LNG</th></tr><tr><th></th><th>String</th><th>Float64</th><th>Float64</th></tr></thead><tbody><p>5 rows × 3 columns</p><tr><th>1</th><td>McTavish</td><td>45.5047</td><td>-73.5792</td></tr><tr><th>2</th><td>Bellevue</td><td>45.4272</td><td>-73.9292</td></tr><tr><th>3</th><td>Assomption</td><td>45.8094</td><td>-73.4347</td></tr><tr><th>4</th><td>Trudeau</td><td>45.4678</td><td>-73.7417</td></tr><tr><th>5</th><td>StHubert</td><td>45.5175</td><td>-73.4169</td></tr></tbody></table>"
      ],
      "text/latex": [
       "\\begin{tabular}{r|ccc}\n",
       "\t& STATION & LAT & LNG\\\\\n",
       "\t\\hline\n",
       "\t& String & Float64 & Float64\\\\\n",
       "\t\\hline\n",
       "\t1 & McTavish & 45.5047 & -73.5792 \\\\\n",
       "\t2 & Bellevue & 45.4272 & -73.9292 \\\\\n",
       "\t3 & Assomption & 45.8094 & -73.4347 \\\\\n",
       "\t4 & Trudeau & 45.4678 & -73.7417 \\\\\n",
       "\t5 & StHubert & 45.5175 & -73.4169 \\\\\n",
       "\\end{tabular}\n"
      ],
      "text/plain": [
       "5×3 DataFrame\n",
       "│ Row │ STATION    │ LAT     │ LNG      │\n",
       "│     │ \u001b[90mString\u001b[39m     │ \u001b[90mFloat64\u001b[39m │ \u001b[90mFloat64\u001b[39m  │\n",
       "├─────┼────────────┼─────────┼──────────┤\n",
       "│ 1   │ McTavish   │ 45.5047 │ -73.5792 │\n",
       "│ 2   │ Bellevue   │ 45.4272 │ -73.9292 │\n",
       "│ 3   │ Assomption │ 45.8094 │ -73.4347 │\n",
       "│ 4   │ Trudeau    │ 45.4678 │ -73.7417 │\n",
       "│ 5   │ StHubert   │ 45.5175 │ -73.4169 │"
      ]
     },
     "execution_count": 15,
     "metadata": {},
     "output_type": "execute_result"
    }
   ],
   "source": [
    "station_df = DataFrame(STATION = String[], LAT = Float64[], LNG = Float64[]);\n",
    "\n",
    "push!(station_df, [\"McTavish\", 45.504742, -73.579167]);\n",
    "push!(station_df, [\"Bellevue\", 45.427222, -73.929167]);\n",
    "push!(station_df, [\"Assomption\", 45.809444, -73.434722]);\n",
    "push!(station_df, [\"Trudeau\", 45.467778, -73.741667]);\n",
    "push!(station_df, [\"StHubert\", 45.5175, -73.416944]);\n",
    "\n",
    "station_df"
   ]
  },
  {
   "cell_type": "markdown",
   "metadata": {},
   "source": [
    "### Normalize elements"
   ]
  },
  {
   "cell_type": "markdown",
   "metadata": {},
   "source": [
    "#### Get extreme values"
   ]
  },
  {
   "cell_type": "code",
   "execution_count": 16,
   "metadata": {},
   "outputs": [],
   "source": [
    "min_lat = min(minimum(comb.TP_LAT), minimum(station_df.LAT));\n",
    "max_lat = max(maximum(comb.TP_LAT), maximum(station_df.LAT));\n",
    "\n",
    "min_lng = min(minimum(comb.TP_LNG), minimum(station_df.LNG));\n",
    "max_lng = max(maximum(comb.TP_LNG), maximum(station_df.LNG));\n",
    "\n",
    "min_z = minimum(comb.TP_Z);\n",
    "max_z = maximum(comb.TP_Z);"
   ]
  },
  {
   "cell_type": "markdown",
   "metadata": {},
   "source": [
    "#### Normalize every value of comb between 0 and 1"
   ]
  },
  {
   "cell_type": "code",
   "execution_count": 17,
   "metadata": {},
   "outputs": [
    {
     "data": {
      "text/html": [
       "<table class=\"data-frame\"><thead><tr><th></th><th>ID_OUVRAGE</th><th>TP_LAT</th><th>TP_LNG</th><th>TP_Z</th><th>DATE</th><th>SURVERSE</th></tr><tr><th></th><th>String</th><th>Float64</th><th>Float64</th><th>Float64</th><th>Date</th><th>Int64</th></tr></thead><tbody><p>10 rows × 6 columns</p><tr><th>1</th><td>3350-05D</td><td>0.412789</td><td>0.545451</td><td>0.422555</td><td>2016-10-05</td><td>0</td></tr><tr><th>2</th><td>4350-01D</td><td>0.237379</td><td>0.74432</td><td>0.359859</td><td>2013-07-18</td><td>0</td></tr><tr><th>3</th><td>4230-06D</td><td>0.687093</td><td>0.864544</td><td>0.0203708</td><td>2015-09-26</td><td>0</td></tr><tr><th>4</th><td>3260-01D</td><td>0.609996</td><td>0.697487</td><td>0.386587</td><td>2016-08-24</td><td>0</td></tr><tr><th>5</th><td>4710-01D</td><td>0.725267</td><td>0.852146</td><td>0.123369</td><td>2013-09-10</td><td>0</td></tr><tr><th>6</th><td>4610-09D</td><td>0.0853384</td><td>0.202151</td><td>0.359859</td><td>2015-09-08</td><td>0</td></tr><tr><th>7</th><td>4430-04D</td><td>0.0424383</td><td>0.570669</td><td>0.758362</td><td>2014-08-31</td><td>0</td></tr><tr><th>8</th><td>3460-01D</td><td>0.254612</td><td>0.368257</td><td>0.568388</td><td>2017-10-18</td><td>0</td></tr><tr><th>9</th><td>4300-01D</td><td>0.413346</td><td>0.807748</td><td>0.171435</td><td>2017-09-12</td><td>0</td></tr><tr><th>10</th><td>4620-06D</td><td>0.0789395</td><td>0.164927</td><td>0.774384</td><td>2016-10-15</td><td>0</td></tr></tbody></table>"
      ],
      "text/latex": [
       "\\begin{tabular}{r|cccccc}\n",
       "\t& ID\\_OUVRAGE & TP\\_LAT & TP\\_LNG & TP\\_Z & DATE & SURVERSE\\\\\n",
       "\t\\hline\n",
       "\t& String & Float64 & Float64 & Float64 & Date & Int64\\\\\n",
       "\t\\hline\n",
       "\t1 & 3350-05D & 0.412789 & 0.545451 & 0.422555 & 2016-10-05 & 0 \\\\\n",
       "\t2 & 4350-01D & 0.237379 & 0.74432 & 0.359859 & 2013-07-18 & 0 \\\\\n",
       "\t3 & 4230-06D & 0.687093 & 0.864544 & 0.0203708 & 2015-09-26 & 0 \\\\\n",
       "\t4 & 3260-01D & 0.609996 & 0.697487 & 0.386587 & 2016-08-24 & 0 \\\\\n",
       "\t5 & 4710-01D & 0.725267 & 0.852146 & 0.123369 & 2013-09-10 & 0 \\\\\n",
       "\t6 & 4610-09D & 0.0853384 & 0.202151 & 0.359859 & 2015-09-08 & 0 \\\\\n",
       "\t7 & 4430-04D & 0.0424383 & 0.570669 & 0.758362 & 2014-08-31 & 0 \\\\\n",
       "\t8 & 3460-01D & 0.254612 & 0.368257 & 0.568388 & 2017-10-18 & 0 \\\\\n",
       "\t9 & 4300-01D & 0.413346 & 0.807748 & 0.171435 & 2017-09-12 & 0 \\\\\n",
       "\t10 & 4620-06D & 0.0789395 & 0.164927 & 0.774384 & 2016-10-15 & 0 \\\\\n",
       "\\end{tabular}\n"
      ],
      "text/plain": [
       "10×6 DataFrame\n",
       "│ Row │ ID_OUVRAGE │ TP_LAT    │ TP_LNG   │ TP_Z      │ DATE       │ SURVERSE │\n",
       "│     │ \u001b[90mString\u001b[39m     │ \u001b[90mFloat64\u001b[39m   │ \u001b[90mFloat64\u001b[39m  │ \u001b[90mFloat64\u001b[39m   │ \u001b[90mDate\u001b[39m       │ \u001b[90mInt64\u001b[39m    │\n",
       "├─────┼────────────┼───────────┼──────────┼───────────┼────────────┼──────────┤\n",
       "│ 1   │ 3350-05D   │ 0.412789  │ 0.545451 │ 0.422555  │ 2016-10-05 │ 0        │\n",
       "│ 2   │ 4350-01D   │ 0.237379  │ 0.74432  │ 0.359859  │ 2013-07-18 │ 0        │\n",
       "│ 3   │ 4230-06D   │ 0.687093  │ 0.864544 │ 0.0203708 │ 2015-09-26 │ 0        │\n",
       "│ 4   │ 3260-01D   │ 0.609996  │ 0.697487 │ 0.386587  │ 2016-08-24 │ 0        │\n",
       "│ 5   │ 4710-01D   │ 0.725267  │ 0.852146 │ 0.123369  │ 2013-09-10 │ 0        │\n",
       "│ 6   │ 4610-09D   │ 0.0853384 │ 0.202151 │ 0.359859  │ 2015-09-08 │ 0        │\n",
       "│ 7   │ 4430-04D   │ 0.0424383 │ 0.570669 │ 0.758362  │ 2014-08-31 │ 0        │\n",
       "│ 8   │ 3460-01D   │ 0.254612  │ 0.368257 │ 0.568388  │ 2017-10-18 │ 0        │\n",
       "│ 9   │ 4300-01D   │ 0.413346  │ 0.807748 │ 0.171435  │ 2017-09-12 │ 0        │\n",
       "│ 10  │ 4620-06D   │ 0.0789395 │ 0.164927 │ 0.774384  │ 2016-10-15 │ 0        │"
      ]
     },
     "execution_count": 17,
     "metadata": {},
     "output_type": "execute_result"
    }
   ],
   "source": [
    "comb.TP_LAT = normalize.(comb.TP_LAT, min_lat, max_lat);\n",
    "comb.TP_LNG = normalize.(comb.TP_LNG, min_lng, max_lng);\n",
    "comb.TP_Z = normalize.(comb.TP_Z, min_z, max_z);\n",
    "\n",
    "first(shuffleDf(comb), 10)"
   ]
  },
  {
   "cell_type": "markdown",
   "metadata": {},
   "source": [
    "#### Normalize every value of station_df between 0 and 1"
   ]
  },
  {
   "cell_type": "code",
   "execution_count": 18,
   "metadata": {},
   "outputs": [
    {
     "data": {
      "text/html": [
       "<table class=\"data-frame\"><thead><tr><th></th><th>STATION</th><th>LAT</th><th>LNG</th></tr><tr><th></th><th>String</th><th>Float64</th><th>Float64</th></tr></thead><tbody><p>5 rows × 3 columns</p><tr><th>1</th><td>McTavish</td><td>0.251316</td><td>0.699536</td></tr><tr><th>2</th><td>Bellevue</td><td>0.0608415</td><td>0.0512791</td></tr><tr><th>3</th><td>Assomption</td><td>1.0</td><td>0.967072</td></tr><tr><th>4</th><td>Trudeau</td><td>0.160492</td><td>0.39856</td></tr><tr><th>5</th><td>StHubert</td><td>0.282664</td><td>1.0</td></tr></tbody></table>"
      ],
      "text/latex": [
       "\\begin{tabular}{r|ccc}\n",
       "\t& STATION & LAT & LNG\\\\\n",
       "\t\\hline\n",
       "\t& String & Float64 & Float64\\\\\n",
       "\t\\hline\n",
       "\t1 & McTavish & 0.251316 & 0.699536 \\\\\n",
       "\t2 & Bellevue & 0.0608415 & 0.0512791 \\\\\n",
       "\t3 & Assomption & 1.0 & 0.967072 \\\\\n",
       "\t4 & Trudeau & 0.160492 & 0.39856 \\\\\n",
       "\t5 & StHubert & 0.282664 & 1.0 \\\\\n",
       "\\end{tabular}\n"
      ],
      "text/plain": [
       "5×3 DataFrame\n",
       "│ Row │ STATION    │ LAT       │ LNG       │\n",
       "│     │ \u001b[90mString\u001b[39m     │ \u001b[90mFloat64\u001b[39m   │ \u001b[90mFloat64\u001b[39m   │\n",
       "├─────┼────────────┼───────────┼───────────┤\n",
       "│ 1   │ McTavish   │ 0.251316  │ 0.699536  │\n",
       "│ 2   │ Bellevue   │ 0.0608415 │ 0.0512791 │\n",
       "│ 3   │ Assomption │ 1.0       │ 0.967072  │\n",
       "│ 4   │ Trudeau    │ 0.160492  │ 0.39856   │\n",
       "│ 5   │ StHubert   │ 0.282664  │ 1.0       │"
      ]
     },
     "execution_count": 18,
     "metadata": {},
     "output_type": "execute_result"
    }
   ],
   "source": [
    "station_df.LAT = normalize.(station_df.LAT, min_lat, max_lat);\n",
    "station_df.LNG = normalize.(station_df.LNG, min_lng, max_lng);\n",
    "\n",
    "station_df"
   ]
  },
  {
   "cell_type": "markdown",
   "metadata": {},
   "source": [
    "### Augment Features"
   ]
  },
  {
   "cell_type": "markdown",
   "metadata": {},
   "source": [
    "#### Add pcp_sum and pcp_max columns"
   ]
  },
  {
   "cell_type": "code",
   "execution_count": 57,
   "metadata": {},
   "outputs": [],
   "source": [
    "comb.PCP_MAX = zeros(size(comb, 1));\n",
    "comb.PCP_SUM = zeros(size(comb, 1));\n",
    "permutecols!(comb, [:ID_OUVRAGE, :TP_LAT, :TP_LNG, :TP_Z, :DATE, :PCP_SUM, :PCP_MAX, :SURVERSE]);"
   ]
  },
  {
   "cell_type": "code",
   "execution_count": 58,
   "metadata": {},
   "outputs": [
    {
     "data": {
      "text/html": [
       "<table class=\"data-frame\"><thead><tr><th></th><th>ID_OUVRAGE</th><th>TP_LAT</th><th>TP_LNG</th><th>TP_Z</th><th>DATE</th><th>PCP_SUM</th><th>PCP_MAX</th><th>SURVERSE</th></tr><tr><th></th><th>String</th><th>Float64</th><th>Float64</th><th>Float64</th><th>Date</th><th>Float64</th><th>Float64</th><th>Int64</th></tr></thead><tbody><p>10 rows × 8 columns</p><tr><th>1</th><td>0672-01D</td><td>0.687609</td><td>0.788765</td><td>0.0252755</td><td>2018-05-24</td><td>0.0</td><td>0.0</td><td>0</td></tr><tr><th>2</th><td>4610-09D</td><td>0.0853384</td><td>0.202151</td><td>0.359859</td><td>2015-10-14</td><td>0.0</td><td>0.0</td><td>0</td></tr><tr><th>3</th><td>3390-01D</td><td>0.363893</td><td>0.528042</td><td>0.442501</td><td>2018-05-15</td><td>0.0</td><td>0.0</td><td>0</td></tr><tr><th>4</th><td>3270-01D</td><td>0.586728</td><td>0.669867</td><td>0.420593</td><td>2018-07-20</td><td>0.0</td><td>0.0</td><td>0</td></tr><tr><th>5</th><td>3450-01D</td><td>0.267984</td><td>0.374662</td><td>0.572965</td><td>2014-10-14</td><td>0.0</td><td>0.0</td><td>0</td></tr><tr><th>6</th><td>3310-01D</td><td>0.51946</td><td>0.602926</td><td>0.367296</td><td>2014-10-01</td><td>0.0</td><td>0.0</td><td>0</td></tr><tr><th>7</th><td>3290-01D</td><td>0.543825</td><td>0.620308</td><td>0.376124</td><td>2014-10-27</td><td>0.0</td><td>0.0</td><td>0</td></tr><tr><th>8</th><td>3340-01D</td><td>0.471794</td><td>0.572824</td><td>0.37547</td><td>2017-07-16</td><td>0.0</td><td>0.0</td><td>0</td></tr><tr><th>9</th><td>3500-01D</td><td>0.26828</td><td>0.202171</td><td>0.528823</td><td>2017-09-07</td><td>0.0</td><td>0.0</td><td>0</td></tr><tr><th>10</th><td>4530-02D</td><td>0.0940842</td><td>0.343984</td><td>0.359859</td><td>2013-05-14</td><td>0.0</td><td>0.0</td><td>0</td></tr></tbody></table>"
      ],
      "text/latex": [
       "\\begin{tabular}{r|cccccccc}\n",
       "\t& ID\\_OUVRAGE & TP\\_LAT & TP\\_LNG & TP\\_Z & DATE & PCP\\_SUM & PCP\\_MAX & SURVERSE\\\\\n",
       "\t\\hline\n",
       "\t& String & Float64 & Float64 & Float64 & Date & Float64 & Float64 & Int64\\\\\n",
       "\t\\hline\n",
       "\t1 & 0672-01D & 0.687609 & 0.788765 & 0.0252755 & 2018-05-24 & 0.0 & 0.0 & 0 \\\\\n",
       "\t2 & 4610-09D & 0.0853384 & 0.202151 & 0.359859 & 2015-10-14 & 0.0 & 0.0 & 0 \\\\\n",
       "\t3 & 3390-01D & 0.363893 & 0.528042 & 0.442501 & 2018-05-15 & 0.0 & 0.0 & 0 \\\\\n",
       "\t4 & 3270-01D & 0.586728 & 0.669867 & 0.420593 & 2018-07-20 & 0.0 & 0.0 & 0 \\\\\n",
       "\t5 & 3450-01D & 0.267984 & 0.374662 & 0.572965 & 2014-10-14 & 0.0 & 0.0 & 0 \\\\\n",
       "\t6 & 3310-01D & 0.51946 & 0.602926 & 0.367296 & 2014-10-01 & 0.0 & 0.0 & 0 \\\\\n",
       "\t7 & 3290-01D & 0.543825 & 0.620308 & 0.376124 & 2014-10-27 & 0.0 & 0.0 & 0 \\\\\n",
       "\t8 & 3340-01D & 0.471794 & 0.572824 & 0.37547 & 2017-07-16 & 0.0 & 0.0 & 0 \\\\\n",
       "\t9 & 3500-01D & 0.26828 & 0.202171 & 0.528823 & 2017-09-07 & 0.0 & 0.0 & 0 \\\\\n",
       "\t10 & 4530-02D & 0.0940842 & 0.343984 & 0.359859 & 2013-05-14 & 0.0 & 0.0 & 0 \\\\\n",
       "\\end{tabular}\n"
      ],
      "text/plain": [
       "10×8 DataFrame. Omitted printing of 2 columns\n",
       "│ Row │ ID_OUVRAGE │ TP_LAT    │ TP_LNG   │ TP_Z      │ DATE       │ PCP_SUM │\n",
       "│     │ \u001b[90mString\u001b[39m     │ \u001b[90mFloat64\u001b[39m   │ \u001b[90mFloat64\u001b[39m  │ \u001b[90mFloat64\u001b[39m   │ \u001b[90mDate\u001b[39m       │ \u001b[90mFloat64\u001b[39m │\n",
       "├─────┼────────────┼───────────┼──────────┼───────────┼────────────┼─────────┤\n",
       "│ 1   │ 0672-01D   │ 0.687609  │ 0.788765 │ 0.0252755 │ 2018-05-24 │ 0.0     │\n",
       "│ 2   │ 4610-09D   │ 0.0853384 │ 0.202151 │ 0.359859  │ 2015-10-14 │ 0.0     │\n",
       "│ 3   │ 3390-01D   │ 0.363893  │ 0.528042 │ 0.442501  │ 2018-05-15 │ 0.0     │\n",
       "│ 4   │ 3270-01D   │ 0.586728  │ 0.669867 │ 0.420593  │ 2018-07-20 │ 0.0     │\n",
       "│ 5   │ 3450-01D   │ 0.267984  │ 0.374662 │ 0.572965  │ 2014-10-14 │ 0.0     │\n",
       "│ 6   │ 3310-01D   │ 0.51946   │ 0.602926 │ 0.367296  │ 2014-10-01 │ 0.0     │\n",
       "│ 7   │ 3290-01D   │ 0.543825  │ 0.620308 │ 0.376124  │ 2014-10-27 │ 0.0     │\n",
       "│ 8   │ 3340-01D   │ 0.471794  │ 0.572824 │ 0.37547   │ 2017-07-16 │ 0.0     │\n",
       "│ 9   │ 3500-01D   │ 0.26828   │ 0.202171 │ 0.528823  │ 2017-09-07 │ 0.0     │\n",
       "│ 10  │ 4530-02D   │ 0.0940842 │ 0.343984 │ 0.359859  │ 2013-05-14 │ 0.0     │"
      ]
     },
     "execution_count": 58,
     "metadata": {},
     "output_type": "execute_result"
    }
   ],
   "source": [
    "first(shuffleDf(comb), 10)"
   ]
  },
  {
   "cell_type": "markdown",
   "metadata": {},
   "source": [
    "#### Find closest station to each ouvrage and add pcp_sum and pcp_max to it"
   ]
  },
  {
   "cell_type": "code",
   "execution_count": 59,
   "metadata": {},
   "outputs": [],
   "source": [
    "for i=1:size(comb, 1)\n",
    "    id_ouvrage = comb[i, 1]; \n",
    "    closest_station = \"McTavish\"; # initial value\n",
    "    shortest_dist = -1;\n",
    "    \n",
    "    # Find closest station\n",
    "    for j=1:size(station_df, 1)\n",
    "        dist = findDistance(comb[i, :TP_LAT], comb[i, :TP_LNG], station_df[j, :LAT], station_df[j, :LNG]);\n",
    "        \n",
    "        if shortest_dist == -1 || dist < shortest_dist\n",
    "            shortest_dist = dist;\n",
    "            closest_station = station_df[j, :STATION];\n",
    "        end\n",
    "    end\n",
    "    \n",
    "    # Augment comb with a weighted p_sum, based on the distance to the station\n",
    "    p_sum = pcp_sum[∈([comb[i, :DATE]]).(pcp_sum.date), Symbol(closest_station)];\n",
    "    comb[i, :PCP_SUM] = p_sum[1] * (1 - shortest_dist); \n",
    "    # Augment comb with a weighted p_max, based on the distance to the station\n",
    "    p_max = pcp_max[∈([comb[i, :DATE]]).(pcp_max.date), Symbol(closest_station)]\n",
    "    comb[i, :PCP_MAX] = p_max[1] * (1 - shortest_dist);\n",
    "end"
   ]
  },
  {
   "cell_type": "markdown",
   "metadata": {},
   "source": [
    "### TODO: Remove outlier in PCP_SUM and PCP_MAX that cause compression"
   ]
  },
  {
   "cell_type": "code",
   "execution_count": 60,
   "metadata": {},
   "outputs": [
    {
     "name": "stderr",
     "output_type": "stream",
     "text": [
      "┌ Warning: `getindex(df::DataFrame, col_ind::ColumnIndex)` is deprecated, use `df[!, col_ind]` instead.\n",
      "│   caller = top-level scope at In[60]:1\n",
      "└ @ Core In[60]:1\n",
      "┌ Warning: `getindex(df::DataFrame, col_ind::ColumnIndex)` is deprecated, use `df[!, col_ind]` instead.\n",
      "│   caller = top-level scope at In[60]:2\n",
      "└ @ Core In[60]:2\n"
     ]
    }
   ],
   "source": [
    "comb[comb[:PCP_SUM] .> 500, :PCP_SUM] = 500;\n",
    "comb[comb[:PCP_MAX] .> 500, :PCP_MAX] = 500;"
   ]
  },
  {
   "cell_type": "code",
   "execution_count": 61,
   "metadata": {},
   "outputs": [
    {
     "data": {
      "text/html": [
       "<table class=\"data-frame\"><thead><tr><th></th><th>ID_OUVRAGE</th><th>TP_LAT</th><th>TP_LNG</th><th>TP_Z</th><th>DATE</th><th>PCP_SUM</th><th>PCP_MAX</th><th>SURVERSE</th></tr><tr><th></th><th>String</th><th>Float64</th><th>Float64</th><th>Float64</th><th>Date</th><th>Float64</th><th>Float64</th><th>Int64</th></tr></thead><tbody><p>10 rows × 8 columns</p><tr><th>1</th><td>4230-05D</td><td>0.664256</td><td>0.861884</td><td>0.104731</td><td>2013-06-02</td><td>90.7429</td><td>51.8531</td><td>1</td></tr><tr><th>2</th><td>3410-02D</td><td>0.319462</td><td>0.483178</td><td>0.359859</td><td>2014-06-03</td><td>171.361</td><td>98.3893</td><td>1</td></tr><tr><th>3</th><td>3260-01D</td><td>0.609996</td><td>0.697487</td><td>0.386587</td><td>2013-06-02</td><td>43.6094</td><td>16.0329</td><td>1</td></tr><tr><th>4</th><td>4290-01D</td><td>0.447648</td><td>0.831152</td><td>0.115849</td><td>2017-06-12</td><td>40.4882</td><td>40.4882</td><td>1</td></tr><tr><th>5</th><td>3350-01D</td><td>0.459837</td><td>0.564893</td><td>0.220482</td><td>2018-07-17</td><td>215.763</td><td>99.2358</td><td>1</td></tr><tr><th>6</th><td>4330-01D</td><td>0.347229</td><td>0.780847</td><td>0.190073</td><td>2015-09-19</td><td>68.1923</td><td>48.0843</td><td>1</td></tr><tr><th>7</th><td>4230-09D</td><td>0.728544</td><td>0.88331</td><td>0.0</td><td>2015-07-31</td><td>50.1141</td><td>42.9549</td><td>1</td></tr><tr><th>8</th><td>3350-01D</td><td>0.459837</td><td>0.564893</td><td>0.220482</td><td>2017-06-20</td><td>130.811</td><td>63.1501</td><td>1</td></tr><tr><th>9</th><td>3290-01D</td><td>0.543825</td><td>0.620308</td><td>0.376124</td><td>2017-07-08</td><td>227.903</td><td>153.329</td><td>1</td></tr><tr><th>10</th><td>4270-02D</td><td>0.512785</td><td>0.830625</td><td>0.359859</td><td>2014-06-03</td><td>195.709</td><td>88.569</td><td>1</td></tr></tbody></table>"
      ],
      "text/latex": [
       "\\begin{tabular}{r|cccccccc}\n",
       "\t& ID\\_OUVRAGE & TP\\_LAT & TP\\_LNG & TP\\_Z & DATE & PCP\\_SUM & PCP\\_MAX & SURVERSE\\\\\n",
       "\t\\hline\n",
       "\t& String & Float64 & Float64 & Float64 & Date & Float64 & Float64 & Int64\\\\\n",
       "\t\\hline\n",
       "\t1 & 4230-05D & 0.664256 & 0.861884 & 0.104731 & 2013-06-02 & 90.7429 & 51.8531 & 1 \\\\\n",
       "\t2 & 3410-02D & 0.319462 & 0.483178 & 0.359859 & 2014-06-03 & 171.361 & 98.3893 & 1 \\\\\n",
       "\t3 & 3260-01D & 0.609996 & 0.697487 & 0.386587 & 2013-06-02 & 43.6094 & 16.0329 & 1 \\\\\n",
       "\t4 & 4290-01D & 0.447648 & 0.831152 & 0.115849 & 2017-06-12 & 40.4882 & 40.4882 & 1 \\\\\n",
       "\t5 & 3350-01D & 0.459837 & 0.564893 & 0.220482 & 2018-07-17 & 215.763 & 99.2358 & 1 \\\\\n",
       "\t6 & 4330-01D & 0.347229 & 0.780847 & 0.190073 & 2015-09-19 & 68.1923 & 48.0843 & 1 \\\\\n",
       "\t7 & 4230-09D & 0.728544 & 0.88331 & 0.0 & 2015-07-31 & 50.1141 & 42.9549 & 1 \\\\\n",
       "\t8 & 3350-01D & 0.459837 & 0.564893 & 0.220482 & 2017-06-20 & 130.811 & 63.1501 & 1 \\\\\n",
       "\t9 & 3290-01D & 0.543825 & 0.620308 & 0.376124 & 2017-07-08 & 227.903 & 153.329 & 1 \\\\\n",
       "\t10 & 4270-02D & 0.512785 & 0.830625 & 0.359859 & 2014-06-03 & 195.709 & 88.569 & 1 \\\\\n",
       "\\end{tabular}\n"
      ],
      "text/plain": [
       "10×8 DataFrame. Omitted printing of 2 columns\n",
       "│ Row │ ID_OUVRAGE │ TP_LAT   │ TP_LNG   │ TP_Z     │ DATE       │ PCP_SUM │\n",
       "│     │ \u001b[90mString\u001b[39m     │ \u001b[90mFloat64\u001b[39m  │ \u001b[90mFloat64\u001b[39m  │ \u001b[90mFloat64\u001b[39m  │ \u001b[90mDate\u001b[39m       │ \u001b[90mFloat64\u001b[39m │\n",
       "├─────┼────────────┼──────────┼──────────┼──────────┼────────────┼─────────┤\n",
       "│ 1   │ 4230-05D   │ 0.664256 │ 0.861884 │ 0.104731 │ 2013-06-02 │ 90.7429 │\n",
       "│ 2   │ 3410-02D   │ 0.319462 │ 0.483178 │ 0.359859 │ 2014-06-03 │ 171.361 │\n",
       "│ 3   │ 3260-01D   │ 0.609996 │ 0.697487 │ 0.386587 │ 2013-06-02 │ 43.6094 │\n",
       "│ 4   │ 4290-01D   │ 0.447648 │ 0.831152 │ 0.115849 │ 2017-06-12 │ 40.4882 │\n",
       "│ 5   │ 3350-01D   │ 0.459837 │ 0.564893 │ 0.220482 │ 2018-07-17 │ 215.763 │\n",
       "│ 6   │ 4330-01D   │ 0.347229 │ 0.780847 │ 0.190073 │ 2015-09-19 │ 68.1923 │\n",
       "│ 7   │ 4230-09D   │ 0.728544 │ 0.88331  │ 0.0      │ 2015-07-31 │ 50.1141 │\n",
       "│ 8   │ 3350-01D   │ 0.459837 │ 0.564893 │ 0.220482 │ 2017-06-20 │ 130.811 │\n",
       "│ 9   │ 3290-01D   │ 0.543825 │ 0.620308 │ 0.376124 │ 2017-07-08 │ 227.903 │\n",
       "│ 10  │ 4270-02D   │ 0.512785 │ 0.830625 │ 0.359859 │ 2014-06-03 │ 195.709 │"
      ]
     },
     "execution_count": 61,
     "metadata": {},
     "output_type": "execute_result"
    }
   ],
   "source": [
    "first(shuffleDf(filter(row -> row.SURVERSE == 1, comb)), 10)"
   ]
  },
  {
   "cell_type": "markdown",
   "metadata": {},
   "source": [
    "#### Normalize pcp_sum and pcp_max"
   ]
  },
  {
   "cell_type": "code",
   "execution_count": 62,
   "metadata": {},
   "outputs": [],
   "source": [
    "min_pcp_sum = minimum(comb.PCP_SUM);\n",
    "max_pcp_sum = maximum(comb.PCP_SUM);\n",
    "\n",
    "min_pcp_max = minimum(comb.PCP_MAX);\n",
    "max_pcp_max = maximum(comb.PCP_MAX);"
   ]
  },
  {
   "cell_type": "code",
   "execution_count": 63,
   "metadata": {},
   "outputs": [],
   "source": [
    "comb.PCP_SUM = normalize.(comb.PCP_SUM, min_pcp_sum, max_pcp_sum);\n",
    "comb.PCP_MAX = normalize.(comb.PCP_MAX, min_pcp_max, max_pcp_max);"
   ]
  },
  {
   "cell_type": "code",
   "execution_count": 64,
   "metadata": {
    "scrolled": true
   },
   "outputs": [
    {
     "data": {
      "text/html": [
       "<table class=\"data-frame\"><thead><tr><th></th><th>ID_OUVRAGE</th><th>TP_LAT</th><th>TP_LNG</th><th>TP_Z</th><th>DATE</th><th>PCP_SUM</th><th>PCP_MAX</th><th>SURVERSE</th></tr><tr><th></th><th>String</th><th>Float64</th><th>Float64</th><th>Float64</th><th>Date</th><th>Float64</th><th>Float64</th><th>Int64</th></tr></thead><tbody><p>10 rows × 8 columns</p><tr><th>1</th><td>0672-03D</td><td>0.66527</td><td>0.771707</td><td>0.0537227</td><td>2013-08-13</td><td>0.34296</td><td>0.170255</td><td>1</td></tr><tr><th>2</th><td>3340-01D</td><td>0.471794</td><td>0.572824</td><td>0.37547</td><td>2018-07-17</td><td>0.428034</td><td>0.196866</td><td>1</td></tr><tr><th>3</th><td>4230-09D</td><td>0.728544</td><td>0.88331</td><td>0.0</td><td>2014-06-24</td><td>1.0</td><td>0.286366</td><td>1</td></tr><tr><th>4</th><td>3350-06D</td><td>0.37501</td><td>0.524895</td><td>0.423863</td><td>2016-06-06</td><td>0.0833151</td><td>0.0785991</td><td>1</td></tr><tr><th>5</th><td>3350-09D</td><td>0.330728</td><td>0.451592</td><td>0.502665</td><td>2018-06-18</td><td>0.346755</td><td>0.157765</td><td>1</td></tr><tr><th>6</th><td>3750-01D</td><td>0.506656</td><td>0.587505</td><td>0.106366</td><td>2014-07-09</td><td>0.0</td><td>0.0</td><td>1</td></tr><tr><th>7</th><td>4240-01D</td><td>0.607546</td><td>0.868856</td><td>0.116503</td><td>2015-10-28</td><td>0.359905</td><td>0.0883521</td><td>1</td></tr><tr><th>8</th><td>3270-01D</td><td>0.586728</td><td>0.669867</td><td>0.420593</td><td>2018-06-04</td><td>0.383375</td><td>0.0451029</td><td>1</td></tr><tr><th>9</th><td>4380-01D</td><td>0.160421</td><td>0.728206</td><td>0.359859</td><td>2017-08-15</td><td>0.106754</td><td>0.0958972</td><td>1</td></tr><tr><th>10</th><td>0801-09D</td><td>0.278466</td><td>0.780082</td><td>0.553674</td><td>2014-06-25</td><td>0.0</td><td>0.0</td><td>1</td></tr></tbody></table>"
      ],
      "text/latex": [
       "\\begin{tabular}{r|cccccccc}\n",
       "\t& ID\\_OUVRAGE & TP\\_LAT & TP\\_LNG & TP\\_Z & DATE & PCP\\_SUM & PCP\\_MAX & SURVERSE\\\\\n",
       "\t\\hline\n",
       "\t& String & Float64 & Float64 & Float64 & Date & Float64 & Float64 & Int64\\\\\n",
       "\t\\hline\n",
       "\t1 & 0672-03D & 0.66527 & 0.771707 & 0.0537227 & 2013-08-13 & 0.34296 & 0.170255 & 1 \\\\\n",
       "\t2 & 3340-01D & 0.471794 & 0.572824 & 0.37547 & 2018-07-17 & 0.428034 & 0.196866 & 1 \\\\\n",
       "\t3 & 4230-09D & 0.728544 & 0.88331 & 0.0 & 2014-06-24 & 1.0 & 0.286366 & 1 \\\\\n",
       "\t4 & 3350-06D & 0.37501 & 0.524895 & 0.423863 & 2016-06-06 & 0.0833151 & 0.0785991 & 1 \\\\\n",
       "\t5 & 3350-09D & 0.330728 & 0.451592 & 0.502665 & 2018-06-18 & 0.346755 & 0.157765 & 1 \\\\\n",
       "\t6 & 3750-01D & 0.506656 & 0.587505 & 0.106366 & 2014-07-09 & 0.0 & 0.0 & 1 \\\\\n",
       "\t7 & 4240-01D & 0.607546 & 0.868856 & 0.116503 & 2015-10-28 & 0.359905 & 0.0883521 & 1 \\\\\n",
       "\t8 & 3270-01D & 0.586728 & 0.669867 & 0.420593 & 2018-06-04 & 0.383375 & 0.0451029 & 1 \\\\\n",
       "\t9 & 4380-01D & 0.160421 & 0.728206 & 0.359859 & 2017-08-15 & 0.106754 & 0.0958972 & 1 \\\\\n",
       "\t10 & 0801-09D & 0.278466 & 0.780082 & 0.553674 & 2014-06-25 & 0.0 & 0.0 & 1 \\\\\n",
       "\\end{tabular}\n"
      ],
      "text/plain": [
       "10×8 DataFrame. Omitted printing of 2 columns\n",
       "│ Row │ ID_OUVRAGE │ TP_LAT   │ TP_LNG   │ TP_Z      │ DATE       │ PCP_SUM   │\n",
       "│     │ \u001b[90mString\u001b[39m     │ \u001b[90mFloat64\u001b[39m  │ \u001b[90mFloat64\u001b[39m  │ \u001b[90mFloat64\u001b[39m   │ \u001b[90mDate\u001b[39m       │ \u001b[90mFloat64\u001b[39m   │\n",
       "├─────┼────────────┼──────────┼──────────┼───────────┼────────────┼───────────┤\n",
       "│ 1   │ 0672-03D   │ 0.66527  │ 0.771707 │ 0.0537227 │ 2013-08-13 │ 0.34296   │\n",
       "│ 2   │ 3340-01D   │ 0.471794 │ 0.572824 │ 0.37547   │ 2018-07-17 │ 0.428034  │\n",
       "│ 3   │ 4230-09D   │ 0.728544 │ 0.88331  │ 0.0       │ 2014-06-24 │ 1.0       │\n",
       "│ 4   │ 3350-06D   │ 0.37501  │ 0.524895 │ 0.423863  │ 2016-06-06 │ 0.0833151 │\n",
       "│ 5   │ 3350-09D   │ 0.330728 │ 0.451592 │ 0.502665  │ 2018-06-18 │ 0.346755  │\n",
       "│ 6   │ 3750-01D   │ 0.506656 │ 0.587505 │ 0.106366  │ 2014-07-09 │ 0.0       │\n",
       "│ 7   │ 4240-01D   │ 0.607546 │ 0.868856 │ 0.116503  │ 2015-10-28 │ 0.359905  │\n",
       "│ 8   │ 3270-01D   │ 0.586728 │ 0.669867 │ 0.420593  │ 2018-06-04 │ 0.383375  │\n",
       "│ 9   │ 4380-01D   │ 0.160421 │ 0.728206 │ 0.359859  │ 2017-08-15 │ 0.106754  │\n",
       "│ 10  │ 0801-09D   │ 0.278466 │ 0.780082 │ 0.553674  │ 2014-06-25 │ 0.0       │"
      ]
     },
     "execution_count": 64,
     "metadata": {},
     "output_type": "execute_result"
    }
   ],
   "source": [
    "first(shuffleDf(filter(row -> row.SURVERSE == 1, comb)), 10)"
   ]
  },
  {
   "cell_type": "markdown",
   "metadata": {},
   "source": [
    "#### Normalize dates (UNUSED ANYMORE)"
   ]
  },
  {
   "cell_type": "code",
   "execution_count": 28,
   "metadata": {},
   "outputs": [],
   "source": [
    "dates = dateToDay.(comb.DATE);\n",
    "dates = normalize.(dates, minimum(dates), maximum(dates));"
   ]
  },
  {
   "cell_type": "markdown",
   "metadata": {},
   "source": [
    "# Validate model"
   ]
  },
  {
   "cell_type": "markdown",
   "metadata": {},
   "source": [
    "### Split train and validation sets"
   ]
  },
  {
   "cell_type": "code",
   "execution_count": 130,
   "metadata": {},
   "outputs": [],
   "source": [
    "r_idx = shuffle(1:size(comb, 1));\n",
    "train_ceil = floor(Int, size(r_idx, 1) * 0.8);\n",
    "train_set = comb[r_idx[1:train_ceil], :];\n",
    "val_set = comb[r_idx[train_ceil+1:size(r_idx, 1)], :];"
   ]
  },
  {
   "cell_type": "markdown",
   "metadata": {},
   "source": [
    "### Train model on train set"
   ]
  },
  {
   "cell_type": "markdown",
   "metadata": {},
   "source": [
    "#### Build the features and labels"
   ]
  },
  {
   "cell_type": "code",
   "execution_count": 131,
   "metadata": {},
   "outputs": [],
   "source": [
    "train_features = convert(Matrix{Float64},train_set[:, [:TP_LAT, :TP_LNG, :TP_Z, :PCP_SUM, :PCP_MAX]]);\n",
    "train_labels = train_set[:, :SURVERSE];"
   ]
  },
  {
   "cell_type": "markdown",
   "metadata": {},
   "source": [
    "#### Build the model"
   ]
  },
  {
   "cell_type": "code",
   "execution_count": 132,
   "metadata": {},
   "outputs": [
    {
     "data": {
      "text/plain": [
       "Ensemble of Decision Trees\n",
       "Trees:      30\n",
       "Avg Leaves: 328.56666666666666\n",
       "Avg Depth:  10.0"
      ]
     },
     "execution_count": 132,
     "metadata": {},
     "output_type": "execute_result"
    }
   ],
   "source": [
    "val_model = build_forest(train_labels, train_features, 3, 30, 0.5, 10)"
   ]
  },
  {
   "cell_type": "markdown",
   "metadata": {},
   "source": [
    "### Validate model on validation set"
   ]
  },
  {
   "cell_type": "markdown",
   "metadata": {},
   "source": [
    "#### Single validation"
   ]
  },
  {
   "cell_type": "code",
   "execution_count": 133,
   "metadata": {},
   "outputs": [
    {
     "data": {
      "text/plain": [
       "0.5229244114002478"
      ]
     },
     "execution_count": 133,
     "metadata": {},
     "output_type": "execute_result"
    }
   ],
   "source": [
    "val_features = convert(Matrix{Float64},val_set[:, [:TP_LAT, :TP_LNG, :TP_Z, :PCP_SUM, :PCP_MAX]]);\n",
    "val_labels = val_set[!, :SURVERSE];\n",
    "val_pred = apply_forest(model, val_features);\n",
    "\n",
    "r = roc(val_labels, val_pred);\n",
    "f1score(r)"
   ]
  },
  {
   "cell_type": "markdown",
   "metadata": {},
   "source": [
    "#### Batch validation"
   ]
  },
  {
   "cell_type": "code",
   "execution_count": null,
   "metadata": {},
   "outputs": [],
   "source": [
    "niter = 10;\n",
    "batch_score = 0;\n",
    "\n",
    "for i=1:niter\n",
    "    # Split train and val sets\n",
    "    r_idx = shuffle(1:size(comb, 1));\n",
    "    train_ceil = floor(Int, size(r_idx, 1) * 0.8);\n",
    "    train_set = comb[r_idx[1:train_ceil], :];\n",
    "    val_set = comb[r_idx[train_ceil+1:size(r_idx, 1)], :];\n",
    "    \n",
    "    # Build features and labels\n",
    "    train_features = convert(Matrix{Float64},train_set[:, [:TP_LAT, :TP_LNG, :TP_Z, :PCP_SUM, :PCP_MAX]]);\n",
    "    train_labels = train_set[:, :SURVERSE];\n",
    "    \n",
    "    # Build model\n",
    "    val_model = build_forest(train_labels, train_features, 3, 30, 0.5, 10);\n",
    "    \n",
    "    # Validate model\n",
    "    val_features = convert(Matrix{Float64},val_set[:, [:TP_LAT, :TP_LNG, :TP_Z, :PCP_SUM, :PCP_MAX]]);\n",
    "    val_labels = val_set[!, :SURVERSE];\n",
    "    val_pred = apply_forest(model, val_features);\n",
    "\n",
    "    r = roc(val_labels, val_pred);\n",
    "    batch_score += f1score(r);\n",
    "end\n",
    "\n",
    "batch_score = batch_score / niter"
   ]
  },
  {
   "cell_type": "markdown",
   "metadata": {},
   "source": [
    "# Submission model creation"
   ]
  },
  {
   "cell_type": "markdown",
   "metadata": {},
   "source": [
    "### Separate features and labels"
   ]
  },
  {
   "cell_type": "code",
   "execution_count": 109,
   "metadata": {},
   "outputs": [],
   "source": [
    "full_train_features = convert(Matrix{Float64},comb[:, [:TP_LAT, :TP_LNG, :TP_Z, :PCP_SUM, :PCP_MAX]]);\n",
    "# train_features = hcat(dates, train_features);"
   ]
  },
  {
   "cell_type": "code",
   "execution_count": 110,
   "metadata": {},
   "outputs": [],
   "source": [
    "full_train_labels = comb[:, :SURVERSE];"
   ]
  },
  {
   "cell_type": "markdown",
   "metadata": {},
   "source": [
    "### Build Model"
   ]
  },
  {
   "cell_type": "markdown",
   "metadata": {},
   "source": [
    "#### Test with tree first"
   ]
  },
  {
   "cell_type": "code",
   "execution_count": 111,
   "metadata": {},
   "outputs": [
    {
     "data": {
      "text/plain": [
       "Decision Tree\n",
       "Leaves: 3794\n",
       "Depth:  36"
      ]
     },
     "execution_count": 111,
     "metadata": {},
     "output_type": "execute_result"
    }
   ],
   "source": [
    "model_tree = build_tree(full_train_labels, full_train_features)"
   ]
  },
  {
   "cell_type": "code",
   "execution_count": 112,
   "metadata": {},
   "outputs": [
    {
     "data": {
      "text/plain": [
       "Decision Tree\n",
       "Leaves: 3544\n",
       "Depth:  36"
      ]
     },
     "execution_count": 112,
     "metadata": {},
     "output_type": "execute_result"
    }
   ],
   "source": [
    "model_tree = prune_tree(model_tree, 0.90)"
   ]
  },
  {
   "cell_type": "code",
   "execution_count": 113,
   "metadata": {},
   "outputs": [
    {
     "data": {
      "text/plain": [
       "Ensemble of Decision Trees\n",
       "Trees:      30\n",
       "Avg Leaves: 336.3\n",
       "Avg Depth:  10.0"
      ]
     },
     "execution_count": 113,
     "metadata": {},
     "output_type": "execute_result"
    }
   ],
   "source": [
    "model = build_forest(full_train_labels, full_train_features, 3, 30, 0.5, 10)"
   ]
  },
  {
   "cell_type": "markdown",
   "metadata": {},
   "source": [
    "# Prediction"
   ]
  },
  {
   "cell_type": "markdown",
   "metadata": {},
   "source": [
    "## Get the test data"
   ]
  },
  {
   "cell_type": "code",
   "execution_count": 37,
   "metadata": {},
   "outputs": [
    {
     "data": {
      "text/html": [
       "<table class=\"data-frame\"><thead><tr><th></th><th>ID_OUVRAGE</th><th>DATE</th></tr><tr><th></th><th>String</th><th>Date</th></tr></thead><tbody><p>10 rows × 2 columns</p><tr><th>1</th><td>3260-01D</td><td>2019-05-02</td></tr><tr><th>2</th><td>3260-01D</td><td>2019-05-09</td></tr><tr><th>3</th><td>3260-01D</td><td>2019-05-10</td></tr><tr><th>4</th><td>3260-01D</td><td>2019-05-15</td></tr><tr><th>5</th><td>3260-01D</td><td>2019-05-20</td></tr><tr><th>6</th><td>3260-01D</td><td>2019-05-23</td></tr><tr><th>7</th><td>3260-01D</td><td>2019-05-24</td></tr><tr><th>8</th><td>3260-01D</td><td>2019-05-26</td></tr><tr><th>9</th><td>3260-01D</td><td>2019-05-30</td></tr><tr><th>10</th><td>3350-07D</td><td>2019-05-01</td></tr></tbody></table>"
      ],
      "text/latex": [
       "\\begin{tabular}{r|cc}\n",
       "\t& ID\\_OUVRAGE & DATE\\\\\n",
       "\t\\hline\n",
       "\t& String & Date\\\\\n",
       "\t\\hline\n",
       "\t1 & 3260-01D & 2019-05-02 \\\\\n",
       "\t2 & 3260-01D & 2019-05-09 \\\\\n",
       "\t3 & 3260-01D & 2019-05-10 \\\\\n",
       "\t4 & 3260-01D & 2019-05-15 \\\\\n",
       "\t5 & 3260-01D & 2019-05-20 \\\\\n",
       "\t6 & 3260-01D & 2019-05-23 \\\\\n",
       "\t7 & 3260-01D & 2019-05-24 \\\\\n",
       "\t8 & 3260-01D & 2019-05-26 \\\\\n",
       "\t9 & 3260-01D & 2019-05-30 \\\\\n",
       "\t10 & 3350-07D & 2019-05-01 \\\\\n",
       "\\end{tabular}\n"
      ],
      "text/plain": [
       "10×2 DataFrame\n",
       "│ Row │ ID_OUVRAGE │ DATE       │\n",
       "│     │ \u001b[90mString\u001b[39m     │ \u001b[90mDate\u001b[39m       │\n",
       "├─────┼────────────┼────────────┤\n",
       "│ 1   │ 3260-01D   │ 2019-05-02 │\n",
       "│ 2   │ 3260-01D   │ 2019-05-09 │\n",
       "│ 3   │ 3260-01D   │ 2019-05-10 │\n",
       "│ 4   │ 3260-01D   │ 2019-05-15 │\n",
       "│ 5   │ 3260-01D   │ 2019-05-20 │\n",
       "│ 6   │ 3260-01D   │ 2019-05-23 │\n",
       "│ 7   │ 3260-01D   │ 2019-05-24 │\n",
       "│ 8   │ 3260-01D   │ 2019-05-26 │\n",
       "│ 9   │ 3260-01D   │ 2019-05-30 │\n",
       "│ 10  │ 3350-07D   │ 2019-05-01 │"
      ]
     },
     "execution_count": 37,
     "metadata": {},
     "output_type": "execute_result"
    }
   ],
   "source": [
    "test = CSV.read(\"data/test.csv\");\n",
    "rename!(test, :NO_OUVRAGE => :ID_OUVRAGE);\n",
    "first(test, 10)"
   ]
  },
  {
   "cell_type": "code",
   "execution_count": 38,
   "metadata": {},
   "outputs": [
    {
     "data": {
      "text/plain": [
       "283"
      ]
     },
     "execution_count": 38,
     "metadata": {},
     "output_type": "execute_result"
    }
   ],
   "source": [
    "to_merge = unique(comb[!, [:ID_OUVRAGE, :TP_LAT, :TP_LNG, :TP_Z]], :ID_OUVRAGE);\n",
    "test_comb = join(test, to_merge, on= [:ID_OUVRAGE]);\n",
    "nrow(test_comb)"
   ]
  },
  {
   "cell_type": "code",
   "execution_count": 39,
   "metadata": {},
   "outputs": [],
   "source": [
    "first(shuffleDf(test_comb), 10);"
   ]
  },
  {
   "cell_type": "markdown",
   "metadata": {},
   "source": [
    "### Add PCP_SUM and PCP_MAX"
   ]
  },
  {
   "cell_type": "markdown",
   "metadata": {},
   "source": [
    "#### Initialize default pcp"
   ]
  },
  {
   "cell_type": "code",
   "execution_count": 65,
   "metadata": {},
   "outputs": [],
   "source": [
    "test_comb.PCP_MAX = zeros(size(test_comb, 1));\n",
    "test_comb.PCP_SUM = zeros(size(test_comb, 1));\n",
    "permutecols!(test_comb, [:ID_OUVRAGE, :TP_LAT, :TP_LNG, :TP_Z, :DATE, :PCP_SUM, :PCP_MAX]);"
   ]
  },
  {
   "cell_type": "code",
   "execution_count": 66,
   "metadata": {},
   "outputs": [],
   "source": [
    "first(shuffleDf(test_comb), 10);"
   ]
  },
  {
   "cell_type": "markdown",
   "metadata": {},
   "source": [
    "#### Populate pcp"
   ]
  },
  {
   "cell_type": "code",
   "execution_count": 67,
   "metadata": {},
   "outputs": [],
   "source": [
    "for i=1:size(test_comb, 1)\n",
    "    id_ouvrage = test_comb[i, 1]; \n",
    "    closest_station = \"McTavish\"; # initial value\n",
    "    shortest_dist = -1;\n",
    "    \n",
    "    # Find closest station\n",
    "    for j=1:size(station_df, 1)\n",
    "        dist = findDistance(test_comb[i, :TP_LAT], test_comb[i, :TP_LNG], station_df[j, :LAT], station_df[j, :LNG]);\n",
    "        \n",
    "        if shortest_dist == -1 || dist < shortest_dist\n",
    "            shortest_dist = dist;\n",
    "            closest_station = station_df[j, :STATION];\n",
    "        end\n",
    "    end\n",
    "    \n",
    "    # Augment comb with a weighted p_sum, based on the distance to the station\n",
    "    p_sum = pcp_sum[∈([test_comb[i, :DATE]]).(pcp_sum.date), Symbol(closest_station)];\n",
    "    test_comb[i, :PCP_SUM] = p_sum[1] * (1 - shortest_dist); \n",
    "    # Augment comb with a weighted p_max, based on the distance to the station\n",
    "    p_max = pcp_max[∈([test_comb[i, :DATE]]).(pcp_max.date), Symbol(closest_station)]\n",
    "    test_comb[i, :PCP_MAX] = p_max[1] * (1 - shortest_dist);\n",
    "end"
   ]
  },
  {
   "cell_type": "code",
   "execution_count": 68,
   "metadata": {},
   "outputs": [
    {
     "data": {
      "text/html": [
       "<table class=\"data-frame\"><thead><tr><th></th><th>ID_OUVRAGE</th><th>TP_LAT</th><th>TP_LNG</th><th>TP_Z</th><th>DATE</th><th>PCP_SUM</th><th>PCP_MAX</th></tr><tr><th></th><th>String</th><th>Float64</th><th>Float64</th><th>Float64</th><th>Date</th><th>Float64</th><th>Float64</th></tr></thead><tbody><p>10 rows × 7 columns</p><tr><th>1</th><td>3350-07D</td><td>0.353054</td><td>0.490395</td><td>0.405552</td><td>2019-07-05</td><td>21.2398</td><td>19.6665</td></tr><tr><th>2</th><td>3350-07D</td><td>0.353054</td><td>0.490395</td><td>0.405552</td><td>2019-08-14</td><td>0.0</td><td>0.0</td></tr><tr><th>3</th><td>4240-01D</td><td>0.607546</td><td>0.868856</td><td>0.116503</td><td>2019-09-07</td><td>116.937</td><td>61.7165</td></tr><tr><th>4</th><td>4350-01D</td><td>0.237379</td><td>0.74432</td><td>0.359859</td><td>2019-09-06</td><td>0.0</td><td>0.0</td></tr><tr><th>5</th><td>3350-07D</td><td>0.353054</td><td>0.490395</td><td>0.405552</td><td>2019-06-29</td><td>108.559</td><td>62.1462</td></tr><tr><th>6</th><td>4350-01D</td><td>0.237379</td><td>0.74432</td><td>0.359859</td><td>2019-06-14</td><td>92.4505</td><td>40.0301</td></tr><tr><th>7</th><td>4240-01D</td><td>0.607546</td><td>0.868856</td><td>0.116503</td><td>2019-05-24</td><td>9.09506</td><td>7.79577</td></tr><tr><th>8</th><td>4350-01D</td><td>0.237379</td><td>0.74432</td><td>0.359859</td><td>2019-09-01</td><td>0.0</td><td>0.0</td></tr><tr><th>9</th><td>3350-07D</td><td>0.353054</td><td>0.490395</td><td>0.405552</td><td>2019-06-02</td><td>53.4929</td><td>23.5998</td></tr><tr><th>10</th><td>3350-07D</td><td>0.353054</td><td>0.490395</td><td>0.405552</td><td>2019-06-19</td><td>0.0</td><td>0.0</td></tr></tbody></table>"
      ],
      "text/latex": [
       "\\begin{tabular}{r|ccccccc}\n",
       "\t& ID\\_OUVRAGE & TP\\_LAT & TP\\_LNG & TP\\_Z & DATE & PCP\\_SUM & PCP\\_MAX\\\\\n",
       "\t\\hline\n",
       "\t& String & Float64 & Float64 & Float64 & Date & Float64 & Float64\\\\\n",
       "\t\\hline\n",
       "\t1 & 3350-07D & 0.353054 & 0.490395 & 0.405552 & 2019-07-05 & 21.2398 & 19.6665 \\\\\n",
       "\t2 & 3350-07D & 0.353054 & 0.490395 & 0.405552 & 2019-08-14 & 0.0 & 0.0 \\\\\n",
       "\t3 & 4240-01D & 0.607546 & 0.868856 & 0.116503 & 2019-09-07 & 116.937 & 61.7165 \\\\\n",
       "\t4 & 4350-01D & 0.237379 & 0.74432 & 0.359859 & 2019-09-06 & 0.0 & 0.0 \\\\\n",
       "\t5 & 3350-07D & 0.353054 & 0.490395 & 0.405552 & 2019-06-29 & 108.559 & 62.1462 \\\\\n",
       "\t6 & 4350-01D & 0.237379 & 0.74432 & 0.359859 & 2019-06-14 & 92.4505 & 40.0301 \\\\\n",
       "\t7 & 4240-01D & 0.607546 & 0.868856 & 0.116503 & 2019-05-24 & 9.09506 & 7.79577 \\\\\n",
       "\t8 & 4350-01D & 0.237379 & 0.74432 & 0.359859 & 2019-09-01 & 0.0 & 0.0 \\\\\n",
       "\t9 & 3350-07D & 0.353054 & 0.490395 & 0.405552 & 2019-06-02 & 53.4929 & 23.5998 \\\\\n",
       "\t10 & 3350-07D & 0.353054 & 0.490395 & 0.405552 & 2019-06-19 & 0.0 & 0.0 \\\\\n",
       "\\end{tabular}\n"
      ],
      "text/plain": [
       "10×7 DataFrame. Omitted printing of 1 columns\n",
       "│ Row │ ID_OUVRAGE │ TP_LAT   │ TP_LNG   │ TP_Z     │ DATE       │ PCP_SUM │\n",
       "│     │ \u001b[90mString\u001b[39m     │ \u001b[90mFloat64\u001b[39m  │ \u001b[90mFloat64\u001b[39m  │ \u001b[90mFloat64\u001b[39m  │ \u001b[90mDate\u001b[39m       │ \u001b[90mFloat64\u001b[39m │\n",
       "├─────┼────────────┼──────────┼──────────┼──────────┼────────────┼─────────┤\n",
       "│ 1   │ 3350-07D   │ 0.353054 │ 0.490395 │ 0.405552 │ 2019-07-05 │ 21.2398 │\n",
       "│ 2   │ 3350-07D   │ 0.353054 │ 0.490395 │ 0.405552 │ 2019-08-14 │ 0.0     │\n",
       "│ 3   │ 4240-01D   │ 0.607546 │ 0.868856 │ 0.116503 │ 2019-09-07 │ 116.937 │\n",
       "│ 4   │ 4350-01D   │ 0.237379 │ 0.74432  │ 0.359859 │ 2019-09-06 │ 0.0     │\n",
       "│ 5   │ 3350-07D   │ 0.353054 │ 0.490395 │ 0.405552 │ 2019-06-29 │ 108.559 │\n",
       "│ 6   │ 4350-01D   │ 0.237379 │ 0.74432  │ 0.359859 │ 2019-06-14 │ 92.4505 │\n",
       "│ 7   │ 4240-01D   │ 0.607546 │ 0.868856 │ 0.116503 │ 2019-05-24 │ 9.09506 │\n",
       "│ 8   │ 4350-01D   │ 0.237379 │ 0.74432  │ 0.359859 │ 2019-09-01 │ 0.0     │\n",
       "│ 9   │ 3350-07D   │ 0.353054 │ 0.490395 │ 0.405552 │ 2019-06-02 │ 53.4929 │\n",
       "│ 10  │ 3350-07D   │ 0.353054 │ 0.490395 │ 0.405552 │ 2019-06-19 │ 0.0     │"
      ]
     },
     "execution_count": 68,
     "metadata": {},
     "output_type": "execute_result"
    }
   ],
   "source": [
    "first(shuffleDf(test_comb), 10)"
   ]
  },
  {
   "cell_type": "markdown",
   "metadata": {},
   "source": [
    "#### Normalize pcp based on comb (not test_comb)"
   ]
  },
  {
   "cell_type": "code",
   "execution_count": 69,
   "metadata": {},
   "outputs": [],
   "source": [
    "test_comb.PCP_SUM = normalize.(test_comb.PCP_SUM, min_pcp_sum, max_pcp_sum);\n",
    "test_comb.PCP_MAX = normalize.(test_comb.PCP_MAX, min_pcp_max, max_pcp_max);"
   ]
  },
  {
   "cell_type": "code",
   "execution_count": 70,
   "metadata": {},
   "outputs": [
    {
     "data": {
      "text/html": [
       "<table class=\"data-frame\"><thead><tr><th></th><th>ID_OUVRAGE</th><th>TP_LAT</th><th>TP_LNG</th><th>TP_Z</th><th>DATE</th><th>PCP_SUM</th><th>PCP_MAX</th></tr><tr><th></th><th>String</th><th>Float64</th><th>Float64</th><th>Float64</th><th>Date</th><th>Float64</th><th>Float64</th></tr></thead><tbody><p>20 rows × 7 columns</p><tr><th>1</th><td>3260-01D</td><td>0.609996</td><td>0.697487</td><td>0.386587</td><td>2019-05-02</td><td>0.0333484</td><td>0.0153915</td></tr><tr><th>2</th><td>3260-01D</td><td>0.609996</td><td>0.697487</td><td>0.386587</td><td>2019-05-09</td><td>0.114154</td><td>0.0577183</td></tr><tr><th>3</th><td>3260-01D</td><td>0.609996</td><td>0.697487</td><td>0.386587</td><td>2019-05-10</td><td>0.493812</td><td>0.0846535</td></tr><tr><th>4</th><td>3260-01D</td><td>0.609996</td><td>0.697487</td><td>0.386587</td><td>2019-05-15</td><td>0.00256526</td><td>0.00256526</td></tr><tr><th>5</th><td>3260-01D</td><td>0.609996</td><td>0.697487</td><td>0.386587</td><td>2019-05-20</td><td>0.0590009</td><td>0.0513052</td></tr><tr><th>6</th><td>3260-01D</td><td>0.609996</td><td>0.697487</td><td>0.386587</td><td>2019-05-23</td><td>0.22446</td><td>0.0808056</td></tr><tr><th>7</th><td>3260-01D</td><td>0.609996</td><td>0.697487</td><td>0.386587</td><td>2019-05-24</td><td>0.0166742</td><td>0.0115437</td></tr><tr><th>8</th><td>3260-01D</td><td>0.609996</td><td>0.697487</td><td>0.386587</td><td>2019-05-26</td><td>0.00384789</td><td>0.00384789</td></tr><tr><th>9</th><td>3260-01D</td><td>0.609996</td><td>0.697487</td><td>0.386587</td><td>2019-05-30</td><td>0.0089784</td><td>0.0089784</td></tr><tr><th>10</th><td>3350-07D</td><td>0.353054</td><td>0.490395</td><td>0.405552</td><td>2019-05-01</td><td>0.0739461</td><td>0.0330397</td></tr><tr><th>11</th><td>3350-07D</td><td>0.353054</td><td>0.490395</td><td>0.405552</td><td>2019-05-02</td><td>0.0204532</td><td>0.0125866</td></tr><tr><th>12</th><td>3350-07D</td><td>0.353054</td><td>0.490395</td><td>0.405552</td><td>2019-05-08</td><td>0.0</td><td>0.0</td></tr><tr><th>13</th><td>3350-07D</td><td>0.353054</td><td>0.490395</td><td>0.405552</td><td>2019-05-09</td><td>0.135306</td><td>0.0676528</td></tr><tr><th>14</th><td>3350-07D</td><td>0.353054</td><td>0.490395</td><td>0.405552</td><td>2019-05-10</td><td>0.448396</td><td>0.0755194</td></tr><tr><th>15</th><td>3350-07D</td><td>0.353054</td><td>0.490395</td><td>0.405552</td><td>2019-05-11</td><td>0.0</td><td>0.0</td></tr><tr><th>16</th><td>3350-07D</td><td>0.353054</td><td>0.490395</td><td>0.405552</td><td>2019-05-13</td><td>0.0141599</td><td>0.0141599</td></tr><tr><th>17</th><td>3350-07D</td><td>0.353054</td><td>0.490395</td><td>0.405552</td><td>2019-05-14</td><td>0.163625</td><td>0.0283198</td></tr><tr><th>18</th><td>3350-07D</td><td>0.353054</td><td>0.490395</td><td>0.405552</td><td>2019-05-18</td><td>0.00314664</td><td>0.00314664</td></tr><tr><th>19</th><td>3350-07D</td><td>0.353054</td><td>0.490395</td><td>0.405552</td><td>2019-05-19</td><td>0.0896793</td><td>0.0424797</td></tr><tr><th>20</th><td>3350-07D</td><td>0.353054</td><td>0.490395</td><td>0.405552</td><td>2019-05-20</td><td>0.083386</td><td>0.0802394</td></tr></tbody></table>"
      ],
      "text/latex": [
       "\\begin{tabular}{r|ccccccc}\n",
       "\t& ID\\_OUVRAGE & TP\\_LAT & TP\\_LNG & TP\\_Z & DATE & PCP\\_SUM & PCP\\_MAX\\\\\n",
       "\t\\hline\n",
       "\t& String & Float64 & Float64 & Float64 & Date & Float64 & Float64\\\\\n",
       "\t\\hline\n",
       "\t1 & 3260-01D & 0.609996 & 0.697487 & 0.386587 & 2019-05-02 & 0.0333484 & 0.0153915 \\\\\n",
       "\t2 & 3260-01D & 0.609996 & 0.697487 & 0.386587 & 2019-05-09 & 0.114154 & 0.0577183 \\\\\n",
       "\t3 & 3260-01D & 0.609996 & 0.697487 & 0.386587 & 2019-05-10 & 0.493812 & 0.0846535 \\\\\n",
       "\t4 & 3260-01D & 0.609996 & 0.697487 & 0.386587 & 2019-05-15 & 0.00256526 & 0.00256526 \\\\\n",
       "\t5 & 3260-01D & 0.609996 & 0.697487 & 0.386587 & 2019-05-20 & 0.0590009 & 0.0513052 \\\\\n",
       "\t6 & 3260-01D & 0.609996 & 0.697487 & 0.386587 & 2019-05-23 & 0.22446 & 0.0808056 \\\\\n",
       "\t7 & 3260-01D & 0.609996 & 0.697487 & 0.386587 & 2019-05-24 & 0.0166742 & 0.0115437 \\\\\n",
       "\t8 & 3260-01D & 0.609996 & 0.697487 & 0.386587 & 2019-05-26 & 0.00384789 & 0.00384789 \\\\\n",
       "\t9 & 3260-01D & 0.609996 & 0.697487 & 0.386587 & 2019-05-30 & 0.0089784 & 0.0089784 \\\\\n",
       "\t10 & 3350-07D & 0.353054 & 0.490395 & 0.405552 & 2019-05-01 & 0.0739461 & 0.0330397 \\\\\n",
       "\t11 & 3350-07D & 0.353054 & 0.490395 & 0.405552 & 2019-05-02 & 0.0204532 & 0.0125866 \\\\\n",
       "\t12 & 3350-07D & 0.353054 & 0.490395 & 0.405552 & 2019-05-08 & 0.0 & 0.0 \\\\\n",
       "\t13 & 3350-07D & 0.353054 & 0.490395 & 0.405552 & 2019-05-09 & 0.135306 & 0.0676528 \\\\\n",
       "\t14 & 3350-07D & 0.353054 & 0.490395 & 0.405552 & 2019-05-10 & 0.448396 & 0.0755194 \\\\\n",
       "\t15 & 3350-07D & 0.353054 & 0.490395 & 0.405552 & 2019-05-11 & 0.0 & 0.0 \\\\\n",
       "\t16 & 3350-07D & 0.353054 & 0.490395 & 0.405552 & 2019-05-13 & 0.0141599 & 0.0141599 \\\\\n",
       "\t17 & 3350-07D & 0.353054 & 0.490395 & 0.405552 & 2019-05-14 & 0.163625 & 0.0283198 \\\\\n",
       "\t18 & 3350-07D & 0.353054 & 0.490395 & 0.405552 & 2019-05-18 & 0.00314664 & 0.00314664 \\\\\n",
       "\t19 & 3350-07D & 0.353054 & 0.490395 & 0.405552 & 2019-05-19 & 0.0896793 & 0.0424797 \\\\\n",
       "\t20 & 3350-07D & 0.353054 & 0.490395 & 0.405552 & 2019-05-20 & 0.083386 & 0.0802394 \\\\\n",
       "\\end{tabular}\n"
      ],
      "text/plain": [
       "20×7 DataFrame. Omitted printing of 1 columns\n",
       "│ Row │ ID_OUVRAGE │ TP_LAT   │ TP_LNG   │ TP_Z     │ DATE       │ PCP_SUM    │\n",
       "│     │ \u001b[90mString\u001b[39m     │ \u001b[90mFloat64\u001b[39m  │ \u001b[90mFloat64\u001b[39m  │ \u001b[90mFloat64\u001b[39m  │ \u001b[90mDate\u001b[39m       │ \u001b[90mFloat64\u001b[39m    │\n",
       "├─────┼────────────┼──────────┼──────────┼──────────┼────────────┼────────────┤\n",
       "│ 1   │ 3260-01D   │ 0.609996 │ 0.697487 │ 0.386587 │ 2019-05-02 │ 0.0333484  │\n",
       "│ 2   │ 3260-01D   │ 0.609996 │ 0.697487 │ 0.386587 │ 2019-05-09 │ 0.114154   │\n",
       "│ 3   │ 3260-01D   │ 0.609996 │ 0.697487 │ 0.386587 │ 2019-05-10 │ 0.493812   │\n",
       "│ 4   │ 3260-01D   │ 0.609996 │ 0.697487 │ 0.386587 │ 2019-05-15 │ 0.00256526 │\n",
       "│ 5   │ 3260-01D   │ 0.609996 │ 0.697487 │ 0.386587 │ 2019-05-20 │ 0.0590009  │\n",
       "│ 6   │ 3260-01D   │ 0.609996 │ 0.697487 │ 0.386587 │ 2019-05-23 │ 0.22446    │\n",
       "│ 7   │ 3260-01D   │ 0.609996 │ 0.697487 │ 0.386587 │ 2019-05-24 │ 0.0166742  │\n",
       "│ 8   │ 3260-01D   │ 0.609996 │ 0.697487 │ 0.386587 │ 2019-05-26 │ 0.00384789 │\n",
       "│ 9   │ 3260-01D   │ 0.609996 │ 0.697487 │ 0.386587 │ 2019-05-30 │ 0.0089784  │\n",
       "│ 10  │ 3350-07D   │ 0.353054 │ 0.490395 │ 0.405552 │ 2019-05-01 │ 0.0739461  │\n",
       "│ 11  │ 3350-07D   │ 0.353054 │ 0.490395 │ 0.405552 │ 2019-05-02 │ 0.0204532  │\n",
       "│ 12  │ 3350-07D   │ 0.353054 │ 0.490395 │ 0.405552 │ 2019-05-08 │ 0.0        │\n",
       "│ 13  │ 3350-07D   │ 0.353054 │ 0.490395 │ 0.405552 │ 2019-05-09 │ 0.135306   │\n",
       "│ 14  │ 3350-07D   │ 0.353054 │ 0.490395 │ 0.405552 │ 2019-05-10 │ 0.448396   │\n",
       "│ 15  │ 3350-07D   │ 0.353054 │ 0.490395 │ 0.405552 │ 2019-05-11 │ 0.0        │\n",
       "│ 16  │ 3350-07D   │ 0.353054 │ 0.490395 │ 0.405552 │ 2019-05-13 │ 0.0141599  │\n",
       "│ 17  │ 3350-07D   │ 0.353054 │ 0.490395 │ 0.405552 │ 2019-05-14 │ 0.163625   │\n",
       "│ 18  │ 3350-07D   │ 0.353054 │ 0.490395 │ 0.405552 │ 2019-05-18 │ 0.00314664 │\n",
       "│ 19  │ 3350-07D   │ 0.353054 │ 0.490395 │ 0.405552 │ 2019-05-19 │ 0.0896793  │\n",
       "│ 20  │ 3350-07D   │ 0.353054 │ 0.490395 │ 0.405552 │ 2019-05-20 │ 0.083386   │"
      ]
     },
     "execution_count": 70,
     "metadata": {},
     "output_type": "execute_result"
    }
   ],
   "source": [
    "first(test_comb, 20)"
   ]
  },
  {
   "cell_type": "markdown",
   "metadata": {},
   "source": [
    "#### Normalize dates (UNUSED ANYMORE)"
   ]
  },
  {
   "cell_type": "code",
   "execution_count": 71,
   "metadata": {},
   "outputs": [],
   "source": [
    "test_dates = dateToDay.(test_comb.DATE);\n",
    "test_dates = normalize.(test_dates, minimum(test_dates), maximum(test_dates));"
   ]
  },
  {
   "cell_type": "markdown",
   "metadata": {},
   "source": [
    "### Create Test features"
   ]
  },
  {
   "cell_type": "code",
   "execution_count": 72,
   "metadata": {},
   "outputs": [
    {
     "data": {
      "text/plain": [
       "283×5 Array{Float64,2}:\n",
       " 0.609996  0.697487  0.386587  0.0333484   0.0153915 \n",
       " 0.609996  0.697487  0.386587  0.114154    0.0577183 \n",
       " 0.609996  0.697487  0.386587  0.493812    0.0846535 \n",
       " 0.609996  0.697487  0.386587  0.00256526  0.00256526\n",
       " 0.609996  0.697487  0.386587  0.0590009   0.0513052 \n",
       " 0.609996  0.697487  0.386587  0.22446     0.0808056 \n",
       " 0.609996  0.697487  0.386587  0.0166742   0.0115437 \n",
       " 0.609996  0.697487  0.386587  0.00384789  0.00384789\n",
       " 0.609996  0.697487  0.386587  0.0089784   0.0089784 \n",
       " 0.353054  0.490395  0.405552  0.0739461   0.0330397 \n",
       " 0.353054  0.490395  0.405552  0.0204532   0.0125866 \n",
       " 0.353054  0.490395  0.405552  0.0         0.0       \n",
       " 0.353054  0.490395  0.405552  0.135306    0.0676528 \n",
       " ⋮                                                   \n",
       " 0.160421  0.728206  0.359859  0.0         0.0       \n",
       " 0.160421  0.728206  0.359859  0.636902    0.110372  \n",
       " 0.160421  0.728206  0.359859  0.41073     0.227982  \n",
       " 0.160421  0.728206  0.359859  0.0         0.0       \n",
       " 0.160421  0.728206  0.359859  0.0         0.0       \n",
       " 0.160421  0.728206  0.359859  0.0         0.0       \n",
       " 0.160421  0.728206  0.359859  0.0         0.0       \n",
       " 0.160421  0.728206  0.359859  0.0         0.0       \n",
       " 0.160421  0.728206  0.359859  0.202651    0.061519  \n",
       " 0.160421  0.728206  0.359859  0.099516    0.0307595 \n",
       " 0.160421  0.728206  0.359859  0.00361876  0.00361876\n",
       " 0.160421  0.728206  0.359859  0.0         0.0       "
      ]
     },
     "execution_count": 72,
     "metadata": {},
     "output_type": "execute_result"
    }
   ],
   "source": [
    "test_features = convert(Matrix{Float64}, test_comb[:, [:TP_LAT, :TP_LNG, :TP_Z, :PCP_SUM, :PCP_MAX]]);\n",
    "# test_features = hcat(test_dates, test_features);\n",
    "\n",
    "test_features"
   ]
  },
  {
   "cell_type": "markdown",
   "metadata": {},
   "source": [
    "## Predict"
   ]
  },
  {
   "cell_type": "code",
   "execution_count": 73,
   "metadata": {},
   "outputs": [
    {
     "data": {
      "text/plain": [
       "283-element Array{Int64,1}:\n",
       " 0\n",
       " 0\n",
       " 1\n",
       " 0\n",
       " 0\n",
       " 0\n",
       " 0\n",
       " 0\n",
       " 0\n",
       " 0\n",
       " 0\n",
       " 0\n",
       " 1\n",
       " ⋮\n",
       " 0\n",
       " 1\n",
       " 1\n",
       " 0\n",
       " 0\n",
       " 0\n",
       " 0\n",
       " 0\n",
       " 0\n",
       " 0\n",
       " 0\n",
       " 0"
      ]
     },
     "execution_count": 73,
     "metadata": {},
     "output_type": "execute_result"
    }
   ],
   "source": [
    "test_labels = apply_forest(model, test_features)"
   ]
  },
  {
   "cell_type": "markdown",
   "metadata": {},
   "source": [
    "## Generate submission"
   ]
  },
  {
   "cell_type": "code",
   "execution_count": 68,
   "metadata": {},
   "outputs": [
    {
     "data": {
      "text/plain": [
       "\"submissions/mc-submission-5.csv\""
      ]
     },
     "execution_count": 68,
     "metadata": {},
     "output_type": "execute_result"
    }
   ],
   "source": [
    "ID = test_comb[:,:ID_OUVRAGE].*\"_\".*string.(test_comb[:,:DATE])\n",
    "sampleSubmission = DataFrame(ID = ID, Surverse=test_labels)\n",
    "CSV.write(\"submissions/mc-submission-5.csv\",sampleSubmission)"
   ]
  }
 ],
 "metadata": {
  "kernelspec": {
   "display_name": "Julia 1.2.0",
   "language": "julia",
   "name": "julia-1.2"
  },
  "language_info": {
   "file_extension": ".jl",
   "mimetype": "application/julia",
   "name": "julia",
   "version": "1.0.5"
  }
 },
 "nbformat": 4,
 "nbformat_minor": 2
}
