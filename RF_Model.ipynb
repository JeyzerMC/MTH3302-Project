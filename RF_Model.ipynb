{
 "cells": [
  {
   "cell_type": "markdown",
   "metadata": {},
   "source": [
    "# Data Processing"
   ]
  },
  {
   "cell_type": "code",
   "execution_count": 208,
   "metadata": {},
   "outputs": [],
   "source": [
    "using CSV, DataFrames, DecisionTree, Statistics, Dates, Gadfly, Random;\n",
    "include(\"utils/precipitation.jl\");"
   ]
  },
  {
   "cell_type": "markdown",
   "metadata": {},
   "source": [
    "## Build features"
   ]
  },
  {
   "cell_type": "markdown",
   "metadata": {},
   "source": [
    "### Get and filter the features"
   ]
  },
  {
   "cell_type": "markdown",
   "metadata": {},
   "source": [
    "#### Latitude, Longitude, Height"
   ]
  },
  {
   "cell_type": "code",
   "execution_count": 209,
   "metadata": {},
   "outputs": [],
   "source": [
    "features = CSV.read(\"data/ouvrages-surverses.csv\");\n",
    "colnames = [\"N_Env\", \"ID_SOMA\", \"ID_OUVRAGE\", \"NOM\", \"SOMA_SEC\", \"REGION\", \"TP_X\", \"TP_Y\", \"TP_Z\", \"TP_LAT\", \"TP_LNG\", \"EMI_X\", \"EMI_Y\", \"EMI_LNG\", \"EMI_LAT\"];\n",
    "names!(features, Symbol.(colnames));\n",
    "select!(features, [:ID_OUVRAGE, :TP_LAT, :TP_LNG, :TP_Z]);"
   ]
  },
  {
   "cell_type": "markdown",
   "metadata": {},
   "source": [
    "#### Replace missing Z index with mean"
   ]
  },
  {
   "cell_type": "code",
   "execution_count": 4,
   "metadata": {},
   "outputs": [
    {
     "data": {
      "text/html": [
       "<table class=\"data-frame\"><thead><tr><th></th><th>ID_OUVRAGE</th><th>TP_LAT</th><th>TP_LNG</th><th>TP_Z</th></tr><tr><th></th><th>String</th><th>Float64</th><th>Float64</th><th>Float64</th></tr></thead><tbody><p>10 rows × 4 columns</p><tr><th>1</th><td>3782-01D</td><td>45.4721</td><td>-73.8778</td><td>24.14</td></tr><tr><th>2</th><td>4770-01D</td><td>45.6574</td><td>-73.4902</td><td>10.77</td></tr><tr><th>3</th><td>0801-06D</td><td>45.5187</td><td>-73.533</td><td>18.66</td></tr><tr><th>4</th><td>4310-02D</td><td>45.6067</td><td>-73.5865</td><td>32.4</td></tr><tr><th>5</th><td>3305-03D</td><td>45.6196</td><td>-73.6329</td><td>11.76</td></tr><tr><th>6</th><td>4430-06D</td><td>45.4304</td><td>-73.6655</td><td>23.67</td></tr><tr><th>7</th><td>3400-01D</td><td>45.5435</td><td>-73.6755</td><td>26.04</td></tr><tr><th>8</th><td>4430-03D</td><td>45.4149</td><td>-73.6303</td><td>22.25</td></tr><tr><th>9</th><td>4230-05D</td><td>45.6728</td><td>-73.4915</td><td>11.55</td></tr><tr><th>10</th><td>3350-08D</td><td>45.5401</td><td>-73.7086</td><td>24.65</td></tr></tbody></table>"
      ],
      "text/latex": [
       "\\begin{tabular}{r|cccc}\n",
       "\t& ID\\_OUVRAGE & TP\\_LAT & TP\\_LNG & TP\\_Z\\\\\n",
       "\t\\hline\n",
       "\t& String & Float64 & Float64 & Float64\\\\\n",
       "\t\\hline\n",
       "\t1 & 3782-01D & 45.4721 & -73.8778 & 24.14 \\\\\n",
       "\t2 & 4770-01D & 45.6574 & -73.4902 & 10.77 \\\\\n",
       "\t3 & 0801-06D & 45.5187 & -73.533 & 18.66 \\\\\n",
       "\t4 & 4310-02D & 45.6067 & -73.5865 & 32.4 \\\\\n",
       "\t5 & 3305-03D & 45.6196 & -73.6329 & 11.76 \\\\\n",
       "\t6 & 4430-06D & 45.4304 & -73.6655 & 23.67 \\\\\n",
       "\t7 & 3400-01D & 45.5435 & -73.6755 & 26.04 \\\\\n",
       "\t8 & 4430-03D & 45.4149 & -73.6303 & 22.25 \\\\\n",
       "\t9 & 4230-05D & 45.6728 & -73.4915 & 11.55 \\\\\n",
       "\t10 & 3350-08D & 45.5401 & -73.7086 & 24.65 \\\\\n",
       "\\end{tabular}\n"
      ],
      "text/plain": [
       "10×4 DataFrame\n",
       "│ Row │ ID_OUVRAGE │ TP_LAT  │ TP_LNG   │ TP_Z    │\n",
       "│     │ \u001b[90mString\u001b[39m     │ \u001b[90mFloat64\u001b[39m │ \u001b[90mFloat64\u001b[39m  │ \u001b[90mFloat64\u001b[39m │\n",
       "├─────┼────────────┼─────────┼──────────┼─────────┤\n",
       "│ 1   │ 3782-01D   │ 45.4721 │ -73.8778 │ 24.14   │\n",
       "│ 2   │ 4770-01D   │ 45.6574 │ -73.4902 │ 10.77   │\n",
       "│ 3   │ 0801-06D   │ 45.5187 │ -73.533  │ 18.66   │\n",
       "│ 4   │ 4310-02D   │ 45.6067 │ -73.5865 │ 32.4    │\n",
       "│ 5   │ 3305-03D   │ 45.6196 │ -73.6329 │ 11.76   │\n",
       "│ 6   │ 4430-06D   │ 45.4304 │ -73.6655 │ 23.67   │\n",
       "│ 7   │ 3400-01D   │ 45.5435 │ -73.6755 │ 26.04   │\n",
       "│ 8   │ 4430-03D   │ 45.4149 │ -73.6303 │ 22.25   │\n",
       "│ 9   │ 4230-05D   │ 45.6728 │ -73.4915 │ 11.55   │\n",
       "│ 10  │ 3350-08D   │ 45.5401 │ -73.7086 │ 24.65   │"
      ]
     },
     "execution_count": 4,
     "metadata": {},
     "output_type": "execute_result"
    }
   ],
   "source": [
    "features.TP_Z = coalesce.(features.TP_Z, mean(features[completecases(features), :].TP_Z));\n",
    "first(shuffleDf(features), 10)"
   ]
  },
  {
   "cell_type": "markdown",
   "metadata": {},
   "source": [
    "### Load dates and surverses"
   ]
  },
  {
   "cell_type": "code",
   "execution_count": 5,
   "metadata": {},
   "outputs": [],
   "source": [
    "surverses = CSV.read(\"data/surverses.csv\",missingstring=\"-99999\");"
   ]
  },
  {
   "cell_type": "markdown",
   "metadata": {},
   "source": [
    "#### Filter months"
   ]
  },
  {
   "cell_type": "code",
   "execution_count": 6,
   "metadata": {},
   "outputs": [],
   "source": [
    "surverses = filter(row -> month(row.DATE) > 4, surverses);\n",
    "surverses = filter(row -> month(row.DATE) < 11, surverses);"
   ]
  },
  {
   "cell_type": "markdown",
   "metadata": {},
   "source": [
    "#### Filter non rain surverses"
   ]
  },
  {
   "cell_type": "code",
   "execution_count": 7,
   "metadata": {},
   "outputs": [],
   "source": [
    "raison = coalesce.(surverses[:,:RAISON],\"Inconnue\");\n",
    "surverses[!,:RAISON] = raison;\n",
    "\n",
    "surverses = filter(row -> row.RAISON ∈ [\"P\",\"Inconnue\",\"TS\"], surverses);\n",
    "select!(surverses, [:NO_OUVRAGE, :DATE, :SURVERSE]);"
   ]
  },
  {
   "cell_type": "markdown",
   "metadata": {},
   "source": [
    "#### Remove missing data and rename"
   ]
  },
  {
   "cell_type": "code",
   "execution_count": 8,
   "metadata": {},
   "outputs": [
    {
     "data": {
      "text/html": [
       "<table class=\"data-frame\"><thead><tr><th></th><th>ID_OUVRAGE</th><th>DATE</th><th>SURVERSE</th></tr><tr><th></th><th>String</th><th>Date</th><th>Int64</th></tr></thead><tbody><p>10 rows × 3 columns</p><tr><th>1</th><td>4380-01D</td><td>2015-06-28</td><td>0</td></tr><tr><th>2</th><td>3768-01D</td><td>2018-06-06</td><td>0</td></tr><tr><th>3</th><td>0642-01D</td><td>2016-10-09</td><td>0</td></tr><tr><th>4</th><td>3782-01D</td><td>2014-06-06</td><td>0</td></tr><tr><th>5</th><td>4620-01D</td><td>2016-08-05</td><td>0</td></tr><tr><th>6</th><td>4430-04D</td><td>2014-05-26</td><td>0</td></tr><tr><th>7</th><td>4430-01D</td><td>2013-05-14</td><td>0</td></tr><tr><th>8</th><td>3480-03D</td><td>2014-06-22</td><td>0</td></tr><tr><th>9</th><td>3560-01D</td><td>2018-09-14</td><td>0</td></tr><tr><th>10</th><td>3500-02D</td><td>2013-09-17</td><td>0</td></tr></tbody></table>"
      ],
      "text/latex": [
       "\\begin{tabular}{r|ccc}\n",
       "\t& ID\\_OUVRAGE & DATE & SURVERSE\\\\\n",
       "\t\\hline\n",
       "\t& String & Date & Int64\\\\\n",
       "\t\\hline\n",
       "\t1 & 4380-01D & 2015-06-28 & 0 \\\\\n",
       "\t2 & 3768-01D & 2018-06-06 & 0 \\\\\n",
       "\t3 & 0642-01D & 2016-10-09 & 0 \\\\\n",
       "\t4 & 3782-01D & 2014-06-06 & 0 \\\\\n",
       "\t5 & 4620-01D & 2016-08-05 & 0 \\\\\n",
       "\t6 & 4430-04D & 2014-05-26 & 0 \\\\\n",
       "\t7 & 4430-01D & 2013-05-14 & 0 \\\\\n",
       "\t8 & 3480-03D & 2014-06-22 & 0 \\\\\n",
       "\t9 & 3560-01D & 2018-09-14 & 0 \\\\\n",
       "\t10 & 3500-02D & 2013-09-17 & 0 \\\\\n",
       "\\end{tabular}\n"
      ],
      "text/plain": [
       "10×3 DataFrame\n",
       "│ Row │ ID_OUVRAGE │ DATE       │ SURVERSE │\n",
       "│     │ \u001b[90mString\u001b[39m     │ \u001b[90mDate\u001b[39m       │ \u001b[90mInt64\u001b[39m    │\n",
       "├─────┼────────────┼────────────┼──────────┤\n",
       "│ 1   │ 4380-01D   │ 2015-06-28 │ 0        │\n",
       "│ 2   │ 3768-01D   │ 2018-06-06 │ 0        │\n",
       "│ 3   │ 0642-01D   │ 2016-10-09 │ 0        │\n",
       "│ 4   │ 3782-01D   │ 2014-06-06 │ 0        │\n",
       "│ 5   │ 4620-01D   │ 2016-08-05 │ 0        │\n",
       "│ 6   │ 4430-04D   │ 2014-05-26 │ 0        │\n",
       "│ 7   │ 4430-01D   │ 2013-05-14 │ 0        │\n",
       "│ 8   │ 3480-03D   │ 2014-06-22 │ 0        │\n",
       "│ 9   │ 3560-01D   │ 2018-09-14 │ 0        │\n",
       "│ 10  │ 3500-02D   │ 2013-09-17 │ 0        │"
      ]
     },
     "execution_count": 8,
     "metadata": {},
     "output_type": "execute_result"
    }
   ],
   "source": [
    "surverses = dropmissing(surverses, disallowmissing=true);\n",
    "rename!(surverses, :NO_OUVRAGE => :ID_OUVRAGE);\n",
    "first(shuffleDf(surverses),10)"
   ]
  },
  {
   "cell_type": "markdown",
   "metadata": {},
   "source": [
    "### Augment features with dates and label"
   ]
  },
  {
   "cell_type": "code",
   "execution_count": 12,
   "metadata": {},
   "outputs": [
    {
     "data": {
      "text/html": [
       "<table class=\"data-frame\"><thead><tr><th></th><th>ID_OUVRAGE</th><th>TP_LAT</th><th>TP_LNG</th><th>TP_Z</th><th>DATE</th><th>SURVERSE</th></tr><tr><th></th><th>String</th><th>Float64</th><th>Float64</th><th>Float64</th><th>Date</th><th>Int64</th></tr></thead><tbody><p>10 rows × 6 columns</p><tr><th>1</th><td>3350-03D</td><td>45.5785</td><td>-73.658</td><td>17.84</td><td>2013-09-08</td><td>0</td></tr><tr><th>2</th><td>4280-02D</td><td>45.5986</td><td>-73.5102</td><td>11.534</td><td>2015-05-16</td><td>0</td></tr><tr><th>3</th><td>4390-01D</td><td>45.4618</td><td>-73.5555</td><td>14.62</td><td>2014-09-12</td><td>0</td></tr><tr><th>4</th><td>4610-09D</td><td>45.4372</td><td>-73.8477</td><td>19.3526</td><td>2017-05-07</td><td>0</td></tr><tr><th>5</th><td>3400-01D</td><td>45.5435</td><td>-73.6755</td><td>26.04</td><td>2016-09-12</td><td>0</td></tr><tr><th>6</th><td>4710-01D</td><td>45.6976</td><td>-73.4968</td><td>12.12</td><td>2013-10-10</td><td>0</td></tr><tr><th>7</th><td>3250-02D</td><td>45.6437</td><td>-73.5541</td><td>38.93</td><td>2015-09-26</td><td>0</td></tr><tr><th>8</th><td>0672-03D</td><td>45.6732</td><td>-73.5402</td><td>9.99</td><td>2013-08-01</td><td>1</td></tr><tr><th>9</th><td>3250-01D</td><td>45.6562</td><td>-73.5731</td><td>17.16</td><td>2018-06-09</td><td>0</td></tr><tr><th>10</th><td>3400-01D</td><td>45.5435</td><td>-73.6755</td><td>26.04</td><td>2014-05-06</td><td>0</td></tr></tbody></table>"
      ],
      "text/latex": [
       "\\begin{tabular}{r|cccccc}\n",
       "\t& ID\\_OUVRAGE & TP\\_LAT & TP\\_LNG & TP\\_Z & DATE & SURVERSE\\\\\n",
       "\t\\hline\n",
       "\t& String & Float64 & Float64 & Float64 & Date & Int64\\\\\n",
       "\t\\hline\n",
       "\t1 & 3350-03D & 45.5785 & -73.658 & 17.84 & 2013-09-08 & 0 \\\\\n",
       "\t2 & 4280-02D & 45.5986 & -73.5102 & 11.534 & 2015-05-16 & 0 \\\\\n",
       "\t3 & 4390-01D & 45.4618 & -73.5555 & 14.62 & 2014-09-12 & 0 \\\\\n",
       "\t4 & 4610-09D & 45.4372 & -73.8477 & 19.3526 & 2017-05-07 & 0 \\\\\n",
       "\t5 & 3400-01D & 45.5435 & -73.6755 & 26.04 & 2016-09-12 & 0 \\\\\n",
       "\t6 & 4710-01D & 45.6976 & -73.4968 & 12.12 & 2013-10-10 & 0 \\\\\n",
       "\t7 & 3250-02D & 45.6437 & -73.5541 & 38.93 & 2015-09-26 & 0 \\\\\n",
       "\t8 & 0672-03D & 45.6732 & -73.5402 & 9.99 & 2013-08-01 & 1 \\\\\n",
       "\t9 & 3250-01D & 45.6562 & -73.5731 & 17.16 & 2018-06-09 & 0 \\\\\n",
       "\t10 & 3400-01D & 45.5435 & -73.6755 & 26.04 & 2014-05-06 & 0 \\\\\n",
       "\\end{tabular}\n"
      ],
      "text/plain": [
       "10×6 DataFrame\n",
       "│ Row │ ID_OUVRAGE │ TP_LAT  │ TP_LNG   │ TP_Z    │ DATE       │ SURVERSE │\n",
       "│     │ \u001b[90mString\u001b[39m     │ \u001b[90mFloat64\u001b[39m │ \u001b[90mFloat64\u001b[39m  │ \u001b[90mFloat64\u001b[39m │ \u001b[90mDate\u001b[39m       │ \u001b[90mInt64\u001b[39m    │\n",
       "├─────┼────────────┼─────────┼──────────┼─────────┼────────────┼──────────┤\n",
       "│ 1   │ 3350-03D   │ 45.5785 │ -73.658  │ 17.84   │ 2013-09-08 │ 0        │\n",
       "│ 2   │ 4280-02D   │ 45.5986 │ -73.5102 │ 11.534  │ 2015-05-16 │ 0        │\n",
       "│ 3   │ 4390-01D   │ 45.4618 │ -73.5555 │ 14.62   │ 2014-09-12 │ 0        │\n",
       "│ 4   │ 4610-09D   │ 45.4372 │ -73.8477 │ 19.3526 │ 2017-05-07 │ 0        │\n",
       "│ 5   │ 3400-01D   │ 45.5435 │ -73.6755 │ 26.04   │ 2016-09-12 │ 0        │\n",
       "│ 6   │ 4710-01D   │ 45.6976 │ -73.4968 │ 12.12   │ 2013-10-10 │ 0        │\n",
       "│ 7   │ 3250-02D   │ 45.6437 │ -73.5541 │ 38.93   │ 2015-09-26 │ 0        │\n",
       "│ 8   │ 0672-03D   │ 45.6732 │ -73.5402 │ 9.99    │ 2013-08-01 │ 1        │\n",
       "│ 9   │ 3250-01D   │ 45.6562 │ -73.5731 │ 17.16   │ 2018-06-09 │ 0        │\n",
       "│ 10  │ 3400-01D   │ 45.5435 │ -73.6755 │ 26.04   │ 2014-05-06 │ 0        │"
      ]
     },
     "execution_count": 12,
     "metadata": {},
     "output_type": "execute_result"
    }
   ],
   "source": [
    "comb = join(features, surverses, on = :ID_OUVRAGE);\n",
    "first(shuffleDf(comb), 10)"
   ]
  },
  {
   "cell_type": "markdown",
   "metadata": {},
   "source": [
    "### Load precipitation data"
   ]
  },
  {
   "cell_type": "markdown",
   "metadata": {},
   "source": [
    "#### Load and filter months between May & October included"
   ]
  },
  {
   "cell_type": "code",
   "execution_count": 13,
   "metadata": {},
   "outputs": [],
   "source": [
    "precipitation = CSV.read(\"data/precipitations.csv\",missingstring=\"-99999\");\n",
    "rename!(precipitation, Symbol(\"St-Hubert\")=>:StHubert);\n",
    "\n",
    "precipitation = filter(row -> month(row.date) > 4, precipitation);\n",
    "precipitation = filter(row -> month(row.date) < 11, precipitation); "
   ]
  },
  {
   "cell_type": "markdown",
   "metadata": {},
   "source": [
    "#### Replace missing data by 0"
   ]
  },
  {
   "cell_type": "code",
   "execution_count": 14,
   "metadata": {},
   "outputs": [
    {
     "data": {
      "text/html": [
       "<table class=\"data-frame\"><thead><tr><th></th><th>date</th><th>heure</th><th>McTavish</th><th>Bellevue</th><th>Assomption</th><th>Trudeau</th><th>StHubert</th></tr><tr><th></th><th>Date</th><th>Int64</th><th>Int64</th><th>Int64</th><th>Int64</th><th>Int64</th><th>Int64</th></tr></thead><tbody><p>5 rows × 7 columns</p><tr><th>1</th><td>2014-05-24</td><td>19</td><td>0</td><td>0</td><td>0</td><td>0</td><td>0</td></tr><tr><th>2</th><td>2015-08-10</td><td>8</td><td>0</td><td>0</td><td>0</td><td>0</td><td>0</td></tr><tr><th>3</th><td>2019-08-23</td><td>16</td><td>0</td><td>0</td><td>0</td><td>0</td><td>0</td></tr><tr><th>4</th><td>2017-10-29</td><td>15</td><td>0</td><td>0</td><td>0</td><td>0</td><td>0</td></tr><tr><th>5</th><td>2019-08-18</td><td>23</td><td>0</td><td>0</td><td>0</td><td>0</td><td>0</td></tr></tbody></table>"
      ],
      "text/latex": [
       "\\begin{tabular}{r|ccccccc}\n",
       "\t& date & heure & McTavish & Bellevue & Assomption & Trudeau & StHubert\\\\\n",
       "\t\\hline\n",
       "\t& Date & Int64 & Int64 & Int64 & Int64 & Int64 & Int64\\\\\n",
       "\t\\hline\n",
       "\t1 & 2014-05-24 & 19 & 0 & 0 & 0 & 0 & 0 \\\\\n",
       "\t2 & 2015-08-10 & 8 & 0 & 0 & 0 & 0 & 0 \\\\\n",
       "\t3 & 2019-08-23 & 16 & 0 & 0 & 0 & 0 & 0 \\\\\n",
       "\t4 & 2017-10-29 & 15 & 0 & 0 & 0 & 0 & 0 \\\\\n",
       "\t5 & 2019-08-18 & 23 & 0 & 0 & 0 & 0 & 0 \\\\\n",
       "\\end{tabular}\n"
      ],
      "text/plain": [
       "5×7 DataFrame. Omitted printing of 1 columns\n",
       "│ Row │ date       │ heure │ McTavish │ Bellevue │ Assomption │ Trudeau │\n",
       "│     │ \u001b[90mDate\u001b[39m       │ \u001b[90mInt64\u001b[39m │ \u001b[90mInt64\u001b[39m    │ \u001b[90mInt64\u001b[39m    │ \u001b[90mInt64\u001b[39m      │ \u001b[90mInt64\u001b[39m   │\n",
       "├─────┼────────────┼───────┼──────────┼──────────┼────────────┼─────────┤\n",
       "│ 1   │ 2014-05-24 │ 19    │ 0        │ 0        │ 0          │ 0       │\n",
       "│ 2   │ 2015-08-10 │ 8     │ 0        │ 0        │ 0          │ 0       │\n",
       "│ 3   │ 2019-08-23 │ 16    │ 0        │ 0        │ 0          │ 0       │\n",
       "│ 4   │ 2017-10-29 │ 15    │ 0        │ 0        │ 0          │ 0       │\n",
       "│ 5   │ 2019-08-18 │ 23    │ 0        │ 0        │ 0          │ 0       │"
      ]
     },
     "execution_count": 14,
     "metadata": {},
     "output_type": "execute_result"
    }
   ],
   "source": [
    "precipitation[!,:McTavish] = coalesce.(precipitation[:,:McTavish], 0);\n",
    "precipitation[!,:Bellevue] = coalesce.(precipitation[:,:Bellevue], 0);\n",
    "precipitation[!,:Assomption] = coalesce.(precipitation[:,:Assomption], 0);\n",
    "precipitation[!,:Trudeau] = coalesce.(precipitation[:,:Trudeau], 0);\n",
    "precipitation[!,:StHubert] = coalesce.(precipitation[:,:StHubert], 0);\n",
    "\n",
    "first(shuffleDf(precipitation), 5)"
   ]
  },
  {
   "cell_type": "markdown",
   "metadata": {},
   "source": [
    "### Extract features from precipitation"
   ]
  },
  {
   "cell_type": "markdown",
   "metadata": {},
   "source": [
    "#### Sum of precipitation for the day"
   ]
  },
  {
   "cell_type": "code",
   "execution_count": 15,
   "metadata": {
    "scrolled": true
   },
   "outputs": [
    {
     "data": {
      "text/html": [
       "<table class=\"data-frame\"><thead><tr><th></th><th>date</th><th>McTavish</th><th>Bellevue</th><th>Assomption</th><th>Trudeau</th><th>StHubert</th></tr><tr><th></th><th>Date</th><th>Int64</th><th>Int64</th><th>Int64</th><th>Int64</th><th>Int64</th></tr></thead><tbody><p>5 rows × 6 columns</p><tr><th>1</th><td>2018-08-05</td><td>0</td><td>0</td><td>14</td><td>0</td><td>0</td></tr><tr><th>2</th><td>2013-07-15</td><td>0</td><td>0</td><td>0</td><td>0</td><td>0</td></tr><tr><th>3</th><td>2014-07-19</td><td>0</td><td>0</td><td>0</td><td>0</td><td>0</td></tr><tr><th>4</th><td>2017-05-19</td><td>2</td><td>0</td><td>0</td><td>2</td><td>2</td></tr><tr><th>5</th><td>2015-10-22</td><td>29</td><td>29</td><td>36</td><td>30</td><td>29</td></tr></tbody></table>"
      ],
      "text/latex": [
       "\\begin{tabular}{r|cccccc}\n",
       "\t& date & McTavish & Bellevue & Assomption & Trudeau & StHubert\\\\\n",
       "\t\\hline\n",
       "\t& Date & Int64 & Int64 & Int64 & Int64 & Int64\\\\\n",
       "\t\\hline\n",
       "\t1 & 2018-08-05 & 0 & 0 & 14 & 0 & 0 \\\\\n",
       "\t2 & 2013-07-15 & 0 & 0 & 0 & 0 & 0 \\\\\n",
       "\t3 & 2014-07-19 & 0 & 0 & 0 & 0 & 0 \\\\\n",
       "\t4 & 2017-05-19 & 2 & 0 & 0 & 2 & 2 \\\\\n",
       "\t5 & 2015-10-22 & 29 & 29 & 36 & 30 & 29 \\\\\n",
       "\\end{tabular}\n"
      ],
      "text/plain": [
       "5×6 DataFrame\n",
       "│ Row │ date       │ McTavish │ Bellevue │ Assomption │ Trudeau │ StHubert │\n",
       "│     │ \u001b[90mDate\u001b[39m       │ \u001b[90mInt64\u001b[39m    │ \u001b[90mInt64\u001b[39m    │ \u001b[90mInt64\u001b[39m      │ \u001b[90mInt64\u001b[39m   │ \u001b[90mInt64\u001b[39m    │\n",
       "├─────┼────────────┼──────────┼──────────┼────────────┼─────────┼──────────┤\n",
       "│ 1   │ 2018-08-05 │ 0        │ 0        │ 14         │ 0       │ 0        │\n",
       "│ 2   │ 2013-07-15 │ 0        │ 0        │ 0          │ 0       │ 0        │\n",
       "│ 3   │ 2014-07-19 │ 0        │ 0        │ 0          │ 0       │ 0        │\n",
       "│ 4   │ 2017-05-19 │ 2        │ 0        │ 0          │ 2       │ 2        │\n",
       "│ 5   │ 2015-10-22 │ 29       │ 29       │ 36         │ 30      │ 29       │"
      ]
     },
     "execution_count": 15,
     "metadata": {},
     "output_type": "execute_result"
    }
   ],
   "source": [
    "pcp_sum = by(precipitation, :date,  McTavish = :McTavish=>sum, Bellevue = :Bellevue=>sum, \n",
    "   Assomption = :Assomption=>sum, Trudeau = :Trudeau=>sum, StHubert = :StHubert=>sum);\n",
    "first(shuffleDf(pcp_sum), 5)"
   ]
  },
  {
   "cell_type": "markdown",
   "metadata": {},
   "source": [
    "#### Maximum precipitation in an hour for the day"
   ]
  },
  {
   "cell_type": "code",
   "execution_count": 16,
   "metadata": {},
   "outputs": [
    {
     "data": {
      "text/html": [
       "<table class=\"data-frame\"><thead><tr><th></th><th>date</th><th>McTavish</th><th>Bellevue</th><th>Assomption</th><th>Trudeau</th><th>StHubert</th></tr><tr><th></th><th>Date</th><th>Int64</th><th>Int64</th><th>Int64</th><th>Int64</th><th>Int64</th></tr></thead><tbody><p>5 rows × 6 columns</p><tr><th>1</th><td>2019-09-27</td><td>0</td><td>0</td><td>0</td><td>2</td><td>2</td></tr><tr><th>2</th><td>2018-07-24</td><td>12</td><td>0</td><td>3</td><td>0</td><td>10</td></tr><tr><th>3</th><td>2015-09-23</td><td>0</td><td>0</td><td>0</td><td>0</td><td>0</td></tr><tr><th>4</th><td>2019-10-21</td><td>0</td><td>0</td><td>0</td><td>0</td><td>0</td></tr><tr><th>5</th><td>2016-05-20</td><td>0</td><td>0</td><td>0</td><td>0</td><td>0</td></tr></tbody></table>"
      ],
      "text/latex": [
       "\\begin{tabular}{r|cccccc}\n",
       "\t& date & McTavish & Bellevue & Assomption & Trudeau & StHubert\\\\\n",
       "\t\\hline\n",
       "\t& Date & Int64 & Int64 & Int64 & Int64 & Int64\\\\\n",
       "\t\\hline\n",
       "\t1 & 2019-09-27 & 0 & 0 & 0 & 2 & 2 \\\\\n",
       "\t2 & 2018-07-24 & 12 & 0 & 3 & 0 & 10 \\\\\n",
       "\t3 & 2015-09-23 & 0 & 0 & 0 & 0 & 0 \\\\\n",
       "\t4 & 2019-10-21 & 0 & 0 & 0 & 0 & 0 \\\\\n",
       "\t5 & 2016-05-20 & 0 & 0 & 0 & 0 & 0 \\\\\n",
       "\\end{tabular}\n"
      ],
      "text/plain": [
       "5×6 DataFrame\n",
       "│ Row │ date       │ McTavish │ Bellevue │ Assomption │ Trudeau │ StHubert │\n",
       "│     │ \u001b[90mDate\u001b[39m       │ \u001b[90mInt64\u001b[39m    │ \u001b[90mInt64\u001b[39m    │ \u001b[90mInt64\u001b[39m      │ \u001b[90mInt64\u001b[39m   │ \u001b[90mInt64\u001b[39m    │\n",
       "├─────┼────────────┼──────────┼──────────┼────────────┼─────────┼──────────┤\n",
       "│ 1   │ 2019-09-27 │ 0        │ 0        │ 0          │ 2       │ 2        │\n",
       "│ 2   │ 2018-07-24 │ 12       │ 0        │ 3          │ 0       │ 10       │\n",
       "│ 3   │ 2015-09-23 │ 0        │ 0        │ 0          │ 0       │ 0        │\n",
       "│ 4   │ 2019-10-21 │ 0        │ 0        │ 0          │ 0       │ 0        │\n",
       "│ 5   │ 2016-05-20 │ 0        │ 0        │ 0          │ 0       │ 0        │"
      ]
     },
     "execution_count": 16,
     "metadata": {},
     "output_type": "execute_result"
    }
   ],
   "source": [
    "pcp_max = by(precipitation, :date,  McTavish = :McTavish=>maximum, Bellevue = :Bellevue=>maximum, \n",
    "   Assomption = :Assomption=>maximum, Trudeau = :Trudeau=>maximum, StHubert = :StHubert=>maximum)\n",
    "first(shuffleDf(pcp_max),5)"
   ]
  },
  {
   "cell_type": "markdown",
   "metadata": {},
   "source": [
    "### Add precipitation data to features"
   ]
  },
  {
   "cell_type": "markdown",
   "metadata": {},
   "source": [
    "#### Get stations lat-lng"
   ]
  },
  {
   "cell_type": "code",
   "execution_count": 17,
   "metadata": {},
   "outputs": [
    {
     "data": {
      "text/html": [
       "<table class=\"data-frame\"><thead><tr><th></th><th>STATION</th><th>LAT</th><th>LNG</th></tr><tr><th></th><th>String</th><th>Float64</th><th>Float64</th></tr></thead><tbody><p>5 rows × 3 columns</p><tr><th>1</th><td>McTavish</td><td>45.5047</td><td>-73.5792</td></tr><tr><th>2</th><td>Bellevue</td><td>45.4272</td><td>-73.9292</td></tr><tr><th>3</th><td>Assomption</td><td>45.8094</td><td>-73.4347</td></tr><tr><th>4</th><td>Trudeau</td><td>45.4678</td><td>-73.7417</td></tr><tr><th>5</th><td>StHubert</td><td>45.5175</td><td>-73.4169</td></tr></tbody></table>"
      ],
      "text/latex": [
       "\\begin{tabular}{r|ccc}\n",
       "\t& STATION & LAT & LNG\\\\\n",
       "\t\\hline\n",
       "\t& String & Float64 & Float64\\\\\n",
       "\t\\hline\n",
       "\t1 & McTavish & 45.5047 & -73.5792 \\\\\n",
       "\t2 & Bellevue & 45.4272 & -73.9292 \\\\\n",
       "\t3 & Assomption & 45.8094 & -73.4347 \\\\\n",
       "\t4 & Trudeau & 45.4678 & -73.7417 \\\\\n",
       "\t5 & StHubert & 45.5175 & -73.4169 \\\\\n",
       "\\end{tabular}\n"
      ],
      "text/plain": [
       "5×3 DataFrame\n",
       "│ Row │ STATION    │ LAT     │ LNG      │\n",
       "│     │ \u001b[90mString\u001b[39m     │ \u001b[90mFloat64\u001b[39m │ \u001b[90mFloat64\u001b[39m  │\n",
       "├─────┼────────────┼─────────┼──────────┤\n",
       "│ 1   │ McTavish   │ 45.5047 │ -73.5792 │\n",
       "│ 2   │ Bellevue   │ 45.4272 │ -73.9292 │\n",
       "│ 3   │ Assomption │ 45.8094 │ -73.4347 │\n",
       "│ 4   │ Trudeau    │ 45.4678 │ -73.7417 │\n",
       "│ 5   │ StHubert   │ 45.5175 │ -73.4169 │"
      ]
     },
     "execution_count": 17,
     "metadata": {},
     "output_type": "execute_result"
    }
   ],
   "source": [
    "station_df = DataFrame(STATION = String[], LAT = Float64[], LNG = Float64[]);\n",
    "\n",
    "push!(station_df, [\"McTavish\", 45.504742, -73.579167]);\n",
    "push!(station_df, [\"Bellevue\", 45.427222, -73.929167]);\n",
    "push!(station_df, [\"Assomption\", 45.809444, -73.434722]);\n",
    "push!(station_df, [\"Trudeau\", 45.467778, -73.741667]);\n",
    "push!(station_df, [\"StHubert\", 45.5175, -73.416944]);\n",
    "\n",
    "station_df"
   ]
  },
  {
   "cell_type": "markdown",
   "metadata": {},
   "source": [
    "### Normalize elements"
   ]
  },
  {
   "cell_type": "markdown",
   "metadata": {},
   "source": [
    "#### Get extreme values"
   ]
  },
  {
   "cell_type": "code",
   "execution_count": 18,
   "metadata": {},
   "outputs": [],
   "source": [
    "min_lat = min(minimum(comb.TP_LAT), minimum(station_df.LAT));\n",
    "max_lat = max(maximum(comb.TP_LAT), maximum(station_df.LAT));\n",
    "\n",
    "min_lng = min(minimum(comb.TP_LNG), minimum(station_df.LNG));\n",
    "max_lng = max(maximum(comb.TP_LNG), maximum(station_df.LNG));\n",
    "\n",
    "min_z = minimum(comb.TP_Z);\n",
    "max_z = maximum(comb.TP_Z);"
   ]
  },
  {
   "cell_type": "markdown",
   "metadata": {},
   "source": [
    "#### Normalize every value of comb between 0 and 1"
   ]
  },
  {
   "cell_type": "code",
   "execution_count": 19,
   "metadata": {},
   "outputs": [
    {
     "data": {
      "text/html": [
       "<table class=\"data-frame\"><thead><tr><th></th><th>ID_OUVRAGE</th><th>TP_LAT</th><th>TP_LNG</th><th>TP_Z</th><th>DATE</th><th>SURVERSE</th></tr><tr><th></th><th>String</th><th>Float64</th><th>Float64</th><th>Float64</th><th>Date</th><th>Int64</th></tr></thead><tbody><p>10 rows × 6 columns</p><tr><th>1</th><td>3530-01D</td><td>0.253467</td><td>0.174368</td><td>0.611549</td><td>2014-05-23</td><td>0</td></tr><tr><th>2</th><td>3350-08D</td><td>0.338262</td><td>0.459852</td><td>0.533074</td><td>2018-09-17</td><td>0</td></tr><tr><th>3</th><td>3230-01D</td><td>0.64771</td><td>0.75928</td><td>0.177321</td><td>2013-09-09</td><td>0</td></tr><tr><th>4</th><td>4420-01D</td><td>0.100805</td><td>0.704213</td><td>0.278357</td><td>2017-06-25</td><td>0</td></tr><tr><th>5</th><td>4280-02D</td><td>0.48184</td><td>0.827282</td><td>0.104208</td><td>2016-07-17</td><td>0</td></tr><tr><th>6</th><td>4520-01D</td><td>0.0934202</td><td>0.422034</td><td>0.505935</td><td>2015-09-10</td><td>0</td></tr><tr><th>7</th><td>4600-01D</td><td>0.0674511</td><td>0.249071</td><td>0.490567</td><td>2016-05-24</td><td>0</td></tr><tr><th>8</th><td>4610-06D</td><td>0.0690096</td><td>0.18617</td><td>0.676945</td><td>2015-07-28</td><td>0</td></tr><tr><th>9</th><td>4250-01D</td><td>0.582967</td><td>0.868125</td><td>0.160318</td><td>2018-06-07</td><td>0</td></tr><tr><th>10</th><td>4560-03D</td><td>0.121422</td><td>0.322806</td><td>0.589314</td><td>2014-10-17</td><td>0</td></tr></tbody></table>"
      ],
      "text/latex": [
       "\\begin{tabular}{r|cccccc}\n",
       "\t& ID\\_OUVRAGE & TP\\_LAT & TP\\_LNG & TP\\_Z & DATE & SURVERSE\\\\\n",
       "\t\\hline\n",
       "\t& String & Float64 & Float64 & Float64 & Date & Int64\\\\\n",
       "\t\\hline\n",
       "\t1 & 3530-01D & 0.253467 & 0.174368 & 0.611549 & 2014-05-23 & 0 \\\\\n",
       "\t2 & 3350-08D & 0.338262 & 0.459852 & 0.533074 & 2018-09-17 & 0 \\\\\n",
       "\t3 & 3230-01D & 0.64771 & 0.75928 & 0.177321 & 2013-09-09 & 0 \\\\\n",
       "\t4 & 4420-01D & 0.100805 & 0.704213 & 0.278357 & 2017-06-25 & 0 \\\\\n",
       "\t5 & 4280-02D & 0.48184 & 0.827282 & 0.104208 & 2016-07-17 & 0 \\\\\n",
       "\t6 & 4520-01D & 0.0934202 & 0.422034 & 0.505935 & 2015-09-10 & 0 \\\\\n",
       "\t7 & 4600-01D & 0.0674511 & 0.249071 & 0.490567 & 2016-05-24 & 0 \\\\\n",
       "\t8 & 4610-06D & 0.0690096 & 0.18617 & 0.676945 & 2015-07-28 & 0 \\\\\n",
       "\t9 & 4250-01D & 0.582967 & 0.868125 & 0.160318 & 2018-06-07 & 0 \\\\\n",
       "\t10 & 4560-03D & 0.121422 & 0.322806 & 0.589314 & 2014-10-17 & 0 \\\\\n",
       "\\end{tabular}\n"
      ],
      "text/plain": [
       "10×6 DataFrame\n",
       "│ Row │ ID_OUVRAGE │ TP_LAT    │ TP_LNG   │ TP_Z     │ DATE       │ SURVERSE │\n",
       "│     │ \u001b[90mString\u001b[39m     │ \u001b[90mFloat64\u001b[39m   │ \u001b[90mFloat64\u001b[39m  │ \u001b[90mFloat64\u001b[39m  │ \u001b[90mDate\u001b[39m       │ \u001b[90mInt64\u001b[39m    │\n",
       "├─────┼────────────┼───────────┼──────────┼──────────┼────────────┼──────────┤\n",
       "│ 1   │ 3530-01D   │ 0.253467  │ 0.174368 │ 0.611549 │ 2014-05-23 │ 0        │\n",
       "│ 2   │ 3350-08D   │ 0.338262  │ 0.459852 │ 0.533074 │ 2018-09-17 │ 0        │\n",
       "│ 3   │ 3230-01D   │ 0.64771   │ 0.75928  │ 0.177321 │ 2013-09-09 │ 0        │\n",
       "│ 4   │ 4420-01D   │ 0.100805  │ 0.704213 │ 0.278357 │ 2017-06-25 │ 0        │\n",
       "│ 5   │ 4280-02D   │ 0.48184   │ 0.827282 │ 0.104208 │ 2016-07-17 │ 0        │\n",
       "│ 6   │ 4520-01D   │ 0.0934202 │ 0.422034 │ 0.505935 │ 2015-09-10 │ 0        │\n",
       "│ 7   │ 4600-01D   │ 0.0674511 │ 0.249071 │ 0.490567 │ 2016-05-24 │ 0        │\n",
       "│ 8   │ 4610-06D   │ 0.0690096 │ 0.18617  │ 0.676945 │ 2015-07-28 │ 0        │\n",
       "│ 9   │ 4250-01D   │ 0.582967  │ 0.868125 │ 0.160318 │ 2018-06-07 │ 0        │\n",
       "│ 10  │ 4560-03D   │ 0.121422  │ 0.322806 │ 0.589314 │ 2014-10-17 │ 0        │"
      ]
     },
     "execution_count": 19,
     "metadata": {},
     "output_type": "execute_result"
    }
   ],
   "source": [
    "comb.TP_LAT = normalize.(comb.TP_LAT, min_lat, max_lat);\n",
    "comb.TP_LNG = normalize.(comb.TP_LNG, min_lng, max_lng);\n",
    "comb.TP_Z = normalize.(comb.TP_Z, min_z, max_z);\n",
    "\n",
    "first(shuffleDf(comb), 10)"
   ]
  },
  {
   "cell_type": "markdown",
   "metadata": {},
   "source": [
    "#### Normalize every value of station_df between 0 and 1"
   ]
  },
  {
   "cell_type": "code",
   "execution_count": 20,
   "metadata": {},
   "outputs": [
    {
     "data": {
      "text/html": [
       "<table class=\"data-frame\"><thead><tr><th></th><th>STATION</th><th>LAT</th><th>LNG</th></tr><tr><th></th><th>String</th><th>Float64</th><th>Float64</th></tr></thead><tbody><p>5 rows × 3 columns</p><tr><th>1</th><td>McTavish</td><td>0.251316</td><td>0.699536</td></tr><tr><th>2</th><td>Bellevue</td><td>0.0608415</td><td>0.0512791</td></tr><tr><th>3</th><td>Assomption</td><td>1.0</td><td>0.967072</td></tr><tr><th>4</th><td>Trudeau</td><td>0.160492</td><td>0.39856</td></tr><tr><th>5</th><td>StHubert</td><td>0.282664</td><td>1.0</td></tr></tbody></table>"
      ],
      "text/latex": [
       "\\begin{tabular}{r|ccc}\n",
       "\t& STATION & LAT & LNG\\\\\n",
       "\t\\hline\n",
       "\t& String & Float64 & Float64\\\\\n",
       "\t\\hline\n",
       "\t1 & McTavish & 0.251316 & 0.699536 \\\\\n",
       "\t2 & Bellevue & 0.0608415 & 0.0512791 \\\\\n",
       "\t3 & Assomption & 1.0 & 0.967072 \\\\\n",
       "\t4 & Trudeau & 0.160492 & 0.39856 \\\\\n",
       "\t5 & StHubert & 0.282664 & 1.0 \\\\\n",
       "\\end{tabular}\n"
      ],
      "text/plain": [
       "5×3 DataFrame\n",
       "│ Row │ STATION    │ LAT       │ LNG       │\n",
       "│     │ \u001b[90mString\u001b[39m     │ \u001b[90mFloat64\u001b[39m   │ \u001b[90mFloat64\u001b[39m   │\n",
       "├─────┼────────────┼───────────┼───────────┤\n",
       "│ 1   │ McTavish   │ 0.251316  │ 0.699536  │\n",
       "│ 2   │ Bellevue   │ 0.0608415 │ 0.0512791 │\n",
       "│ 3   │ Assomption │ 1.0       │ 0.967072  │\n",
       "│ 4   │ Trudeau    │ 0.160492  │ 0.39856   │\n",
       "│ 5   │ StHubert   │ 0.282664  │ 1.0       │"
      ]
     },
     "execution_count": 20,
     "metadata": {},
     "output_type": "execute_result"
    }
   ],
   "source": [
    "station_df.LAT = normalize.(station_df.LAT, min_lat, max_lat);\n",
    "station_df.LNG = normalize.(station_df.LNG, min_lng, max_lng);\n",
    "\n",
    "station_df"
   ]
  },
  {
   "cell_type": "markdown",
   "metadata": {},
   "source": [
    "### Augment Features"
   ]
  },
  {
   "cell_type": "markdown",
   "metadata": {},
   "source": [
    "#### Add pcp_sum and pcp_max columns"
   ]
  },
  {
   "cell_type": "code",
   "execution_count": 21,
   "metadata": {},
   "outputs": [],
   "source": [
    "comb.PCP_MAX = zeros(size(comb, 1));\n",
    "comb.PCP_SUM = zeros(size(comb, 1));\n",
    "permutecols!(comb, [:ID_OUVRAGE, :TP_LAT, :TP_LNG, :TP_Z, :DATE, :PCP_SUM, :PCP_MAX, :SURVERSE]);"
   ]
  },
  {
   "cell_type": "code",
   "execution_count": 22,
   "metadata": {},
   "outputs": [
    {
     "data": {
      "text/html": [
       "<table class=\"data-frame\"><thead><tr><th></th><th>ID_OUVRAGE</th><th>TP_LAT</th><th>TP_LNG</th><th>TP_Z</th><th>DATE</th><th>PCP_SUM</th><th>PCP_MAX</th><th>SURVERSE</th></tr><tr><th></th><th>String</th><th>Float64</th><th>Float64</th><th>Float64</th><th>Date</th><th>Float64</th><th>Float64</th><th>Int64</th></tr></thead><tbody><p>10 rows × 8 columns</p><tr><th>1</th><td>4230-09D</td><td>0.728544</td><td>0.88331</td><td>0.0</td><td>2015-07-20</td><td>0.0</td><td>0.0</td><td>0</td></tr><tr><th>2</th><td>4420-02D</td><td>0.0997269</td><td>0.704644</td><td>0.285551</td><td>2014-07-05</td><td>0.0</td><td>0.0</td><td>0</td></tr><tr><th>3</th><td>4230-07D</td><td>0.703498</td><td>0.87159</td><td>0.0494719</td><td>2013-09-29</td><td>0.0</td><td>0.0</td><td>0</td></tr><tr><th>4</th><td>4270-01D</td><td>0.511065</td><td>0.830105</td><td>0.0923062</td><td>2013-09-30</td><td>0.0</td><td>0.0</td><td>0</td></tr><tr><th>5</th><td>4790-01D</td><td>0.212882</td><td>0.768473</td><td>0.192035</td><td>2015-05-05</td><td>0.0</td><td>0.0</td><td>0</td></tr><tr><th>6</th><td>4610-06D</td><td>0.0690096</td><td>0.18617</td><td>0.676945</td><td>2014-08-02</td><td>0.0</td><td>0.0</td><td>0</td></tr><tr><th>7</th><td>4530-02D</td><td>0.0940842</td><td>0.343984</td><td>0.359859</td><td>2017-07-02</td><td>0.0</td><td>0.0</td><td>0</td></tr><tr><th>8</th><td>3400-01D</td><td>0.346518</td><td>0.521076</td><td>0.578524</td><td>2013-08-08</td><td>0.0</td><td>0.0</td><td>0</td></tr><tr><th>9</th><td>4320-01D</td><td>0.359606</td><td>0.789317</td><td>0.174378</td><td>2013-06-22</td><td>0.0</td><td>0.0</td><td>0</td></tr><tr><th>10</th><td>4430-04D</td><td>0.0424383</td><td>0.570669</td><td>0.758362</td><td>2013-05-25</td><td>0.0</td><td>0.0</td><td>0</td></tr></tbody></table>"
      ],
      "text/latex": [
       "\\begin{tabular}{r|cccccccc}\n",
       "\t& ID\\_OUVRAGE & TP\\_LAT & TP\\_LNG & TP\\_Z & DATE & PCP\\_SUM & PCP\\_MAX & SURVERSE\\\\\n",
       "\t\\hline\n",
       "\t& String & Float64 & Float64 & Float64 & Date & Float64 & Float64 & Int64\\\\\n",
       "\t\\hline\n",
       "\t1 & 4230-09D & 0.728544 & 0.88331 & 0.0 & 2015-07-20 & 0.0 & 0.0 & 0 \\\\\n",
       "\t2 & 4420-02D & 0.0997269 & 0.704644 & 0.285551 & 2014-07-05 & 0.0 & 0.0 & 0 \\\\\n",
       "\t3 & 4230-07D & 0.703498 & 0.87159 & 0.0494719 & 2013-09-29 & 0.0 & 0.0 & 0 \\\\\n",
       "\t4 & 4270-01D & 0.511065 & 0.830105 & 0.0923062 & 2013-09-30 & 0.0 & 0.0 & 0 \\\\\n",
       "\t5 & 4790-01D & 0.212882 & 0.768473 & 0.192035 & 2015-05-05 & 0.0 & 0.0 & 0 \\\\\n",
       "\t6 & 4610-06D & 0.0690096 & 0.18617 & 0.676945 & 2014-08-02 & 0.0 & 0.0 & 0 \\\\\n",
       "\t7 & 4530-02D & 0.0940842 & 0.343984 & 0.359859 & 2017-07-02 & 0.0 & 0.0 & 0 \\\\\n",
       "\t8 & 3400-01D & 0.346518 & 0.521076 & 0.578524 & 2013-08-08 & 0.0 & 0.0 & 0 \\\\\n",
       "\t9 & 4320-01D & 0.359606 & 0.789317 & 0.174378 & 2013-06-22 & 0.0 & 0.0 & 0 \\\\\n",
       "\t10 & 4430-04D & 0.0424383 & 0.570669 & 0.758362 & 2013-05-25 & 0.0 & 0.0 & 0 \\\\\n",
       "\\end{tabular}\n"
      ],
      "text/plain": [
       "10×8 DataFrame. Omitted printing of 2 columns\n",
       "│ Row │ ID_OUVRAGE │ TP_LAT    │ TP_LNG   │ TP_Z      │ DATE       │ PCP_SUM │\n",
       "│     │ \u001b[90mString\u001b[39m     │ \u001b[90mFloat64\u001b[39m   │ \u001b[90mFloat64\u001b[39m  │ \u001b[90mFloat64\u001b[39m   │ \u001b[90mDate\u001b[39m       │ \u001b[90mFloat64\u001b[39m │\n",
       "├─────┼────────────┼───────────┼──────────┼───────────┼────────────┼─────────┤\n",
       "│ 1   │ 4230-09D   │ 0.728544  │ 0.88331  │ 0.0       │ 2015-07-20 │ 0.0     │\n",
       "│ 2   │ 4420-02D   │ 0.0997269 │ 0.704644 │ 0.285551  │ 2014-07-05 │ 0.0     │\n",
       "│ 3   │ 4230-07D   │ 0.703498  │ 0.87159  │ 0.0494719 │ 2013-09-29 │ 0.0     │\n",
       "│ 4   │ 4270-01D   │ 0.511065  │ 0.830105 │ 0.0923062 │ 2013-09-30 │ 0.0     │\n",
       "│ 5   │ 4790-01D   │ 0.212882  │ 0.768473 │ 0.192035  │ 2015-05-05 │ 0.0     │\n",
       "│ 6   │ 4610-06D   │ 0.0690096 │ 0.18617  │ 0.676945  │ 2014-08-02 │ 0.0     │\n",
       "│ 7   │ 4530-02D   │ 0.0940842 │ 0.343984 │ 0.359859  │ 2017-07-02 │ 0.0     │\n",
       "│ 8   │ 3400-01D   │ 0.346518  │ 0.521076 │ 0.578524  │ 2013-08-08 │ 0.0     │\n",
       "│ 9   │ 4320-01D   │ 0.359606  │ 0.789317 │ 0.174378  │ 2013-06-22 │ 0.0     │\n",
       "│ 10  │ 4430-04D   │ 0.0424383 │ 0.570669 │ 0.758362  │ 2013-05-25 │ 0.0     │"
      ]
     },
     "execution_count": 22,
     "metadata": {},
     "output_type": "execute_result"
    }
   ],
   "source": [
    "first(shuffleDf(comb), 10)"
   ]
  },
  {
   "cell_type": "markdown",
   "metadata": {},
   "source": [
    "#### Find closest station to each ouvrage and add pcp_sum and pcp_max to it"
   ]
  },
  {
   "cell_type": "code",
   "execution_count": 39,
   "metadata": {},
   "outputs": [],
   "source": [
    "for i=1:size(comb, 1)\n",
    "    id_ouvrage = comb[i, 1]; \n",
    "    closest_station = \"McTavish\"; # initial value\n",
    "    shortest_dist = -1;\n",
    "    \n",
    "    # Find closest station\n",
    "    for j=1:size(station_df, 1)\n",
    "        dist = findDistance(comb[i, :TP_LAT], comb[i, :TP_LNG], station_df[j, :LAT], station_df[j, :LNG]);\n",
    "        \n",
    "        if shortest_dist == -1 || dist < shortest_dist\n",
    "            shortest_dist = dist;\n",
    "            closest_station = station_df[j, :STATION];\n",
    "        end\n",
    "    end\n",
    "    \n",
    "    # Augment comb with a weighted p_sum, based on the distance to the station\n",
    "    p_sum = pcp_sum[∈([comb[i, :DATE]]).(pcp_sum.date), Symbol(closest_station)];\n",
    "    comb[i, :PCP_SUM] = p_sum[1] * (1 - shortest_dist); \n",
    "    # Augment comb with a weighted p_max, based on the distance to the station\n",
    "    p_max = pcp_max[∈([comb[i, :DATE]]).(pcp_max.date), Symbol(closest_station)]\n",
    "    comb[i, :PCP_MAX] = p_max[1] * (1 - shortest_dist);\n",
    "end"
   ]
  },
  {
   "cell_type": "code",
   "execution_count": 41,
   "metadata": {},
   "outputs": [
    {
     "data": {
      "text/html": [
       "<table class=\"data-frame\"><thead><tr><th></th><th>ID_OUVRAGE</th><th>TP_LAT</th><th>TP_LNG</th><th>TP_Z</th><th>DATE</th><th>PCP_SUM</th><th>PCP_MAX</th><th>SURVERSE</th></tr><tr><th></th><th>String</th><th>Float64</th><th>Float64</th><th>Float64</th><th>Date</th><th>Float64</th><th>Float64</th><th>Int64</th></tr></thead><tbody><p>10 rows × 8 columns</p><tr><th>1</th><td>4720-01D</td><td>0.731445</td><td>0.86632</td><td>0.0736684</td><td>2014-06-14</td><td>221.082</td><td>106.975</td><td>1</td></tr><tr><th>2</th><td>3350-07D</td><td>0.353054</td><td>0.490395</td><td>0.405552</td><td>2015-08-19</td><td>1.57332</td><td>1.57332</td><td>1</td></tr><tr><th>3</th><td>4370-04D</td><td>0.0842328</td><td>0.458181</td><td>0.584737</td><td>2018-05-01</td><td>6.3224</td><td>4.516</td><td>1</td></tr><tr><th>4</th><td>3400-01D</td><td>0.346518</td><td>0.521076</td><td>0.578524</td><td>2013-07-08</td><td>7.97734</td><td>7.97734</td><td>1</td></tr><tr><th>5</th><td>3410-02D</td><td>0.319462</td><td>0.483178</td><td>0.359859</td><td>2013-05-26</td><td>141.025</td><td>19.6779</td><td>1</td></tr><tr><th>6</th><td>3290-01D</td><td>0.543825</td><td>0.620308</td><td>0.376124</td><td>2015-08-21</td><td>73.8769</td><td>33.4537</td><td>1</td></tr><tr><th>7</th><td>3310-01D</td><td>0.51946</td><td>0.602926</td><td>0.367296</td><td>2017-07-07</td><td>52.9087</td><td>29.3143</td><td>1</td></tr><tr><th>8</th><td>4230-03D</td><td>0.658594</td><td>0.861384</td><td>0.0246215</td><td>2013-06-28</td><td>160.652</td><td>66.8313</td><td>1</td></tr><tr><th>9</th><td>3410-02D</td><td>0.319462</td><td>0.483178</td><td>0.359859</td><td>2018-07-17</td><td>262.372</td><td>140.205</td><td>1</td></tr><tr><th>10</th><td>4300-01D</td><td>0.413346</td><td>0.807748</td><td>0.171435</td><td>2015-09-13</td><td>184.381</td><td>57.1662</td><td>1</td></tr></tbody></table>"
      ],
      "text/latex": [
       "\\begin{tabular}{r|cccccccc}\n",
       "\t& ID\\_OUVRAGE & TP\\_LAT & TP\\_LNG & TP\\_Z & DATE & PCP\\_SUM & PCP\\_MAX & SURVERSE\\\\\n",
       "\t\\hline\n",
       "\t& String & Float64 & Float64 & Float64 & Date & Float64 & Float64 & Int64\\\\\n",
       "\t\\hline\n",
       "\t1 & 4720-01D & 0.731445 & 0.86632 & 0.0736684 & 2014-06-14 & 221.082 & 106.975 & 1 \\\\\n",
       "\t2 & 3350-07D & 0.353054 & 0.490395 & 0.405552 & 2015-08-19 & 1.57332 & 1.57332 & 1 \\\\\n",
       "\t3 & 4370-04D & 0.0842328 & 0.458181 & 0.584737 & 2018-05-01 & 6.3224 & 4.516 & 1 \\\\\n",
       "\t4 & 3400-01D & 0.346518 & 0.521076 & 0.578524 & 2013-07-08 & 7.97734 & 7.97734 & 1 \\\\\n",
       "\t5 & 3410-02D & 0.319462 & 0.483178 & 0.359859 & 2013-05-26 & 141.025 & 19.6779 & 1 \\\\\n",
       "\t6 & 3290-01D & 0.543825 & 0.620308 & 0.376124 & 2015-08-21 & 73.8769 & 33.4537 & 1 \\\\\n",
       "\t7 & 3310-01D & 0.51946 & 0.602926 & 0.367296 & 2017-07-07 & 52.9087 & 29.3143 & 1 \\\\\n",
       "\t8 & 4230-03D & 0.658594 & 0.861384 & 0.0246215 & 2013-06-28 & 160.652 & 66.8313 & 1 \\\\\n",
       "\t9 & 3410-02D & 0.319462 & 0.483178 & 0.359859 & 2018-07-17 & 262.372 & 140.205 & 1 \\\\\n",
       "\t10 & 4300-01D & 0.413346 & 0.807748 & 0.171435 & 2015-09-13 & 184.381 & 57.1662 & 1 \\\\\n",
       "\\end{tabular}\n"
      ],
      "text/plain": [
       "10×8 DataFrame. Omitted printing of 2 columns\n",
       "│ Row │ ID_OUVRAGE │ TP_LAT    │ TP_LNG   │ TP_Z      │ DATE       │ PCP_SUM │\n",
       "│     │ \u001b[90mString\u001b[39m     │ \u001b[90mFloat64\u001b[39m   │ \u001b[90mFloat64\u001b[39m  │ \u001b[90mFloat64\u001b[39m   │ \u001b[90mDate\u001b[39m       │ \u001b[90mFloat64\u001b[39m │\n",
       "├─────┼────────────┼───────────┼──────────┼───────────┼────────────┼─────────┤\n",
       "│ 1   │ 4720-01D   │ 0.731445  │ 0.86632  │ 0.0736684 │ 2014-06-14 │ 221.082 │\n",
       "│ 2   │ 3350-07D   │ 0.353054  │ 0.490395 │ 0.405552  │ 2015-08-19 │ 1.57332 │\n",
       "│ 3   │ 4370-04D   │ 0.0842328 │ 0.458181 │ 0.584737  │ 2018-05-01 │ 6.3224  │\n",
       "│ 4   │ 3400-01D   │ 0.346518  │ 0.521076 │ 0.578524  │ 2013-07-08 │ 7.97734 │\n",
       "│ 5   │ 3410-02D   │ 0.319462  │ 0.483178 │ 0.359859  │ 2013-05-26 │ 141.025 │\n",
       "│ 6   │ 3290-01D   │ 0.543825  │ 0.620308 │ 0.376124  │ 2015-08-21 │ 73.8769 │\n",
       "│ 7   │ 3310-01D   │ 0.51946   │ 0.602926 │ 0.367296  │ 2017-07-07 │ 52.9087 │\n",
       "│ 8   │ 4230-03D   │ 0.658594  │ 0.861384 │ 0.0246215 │ 2013-06-28 │ 160.652 │\n",
       "│ 9   │ 3410-02D   │ 0.319462  │ 0.483178 │ 0.359859  │ 2018-07-17 │ 262.372 │\n",
       "│ 10  │ 4300-01D   │ 0.413346  │ 0.807748 │ 0.171435  │ 2015-09-13 │ 184.381 │"
      ]
     },
     "execution_count": 41,
     "metadata": {},
     "output_type": "execute_result"
    }
   ],
   "source": [
    "first(shuffleDf(filter(row -> row.SURVERSE == 1, comb)), 10)"
   ]
  },
  {
   "cell_type": "markdown",
   "metadata": {},
   "source": [
    "#### Normalize pcp_sum and pcp_max"
   ]
  },
  {
   "cell_type": "code",
   "execution_count": 25,
   "metadata": {},
   "outputs": [],
   "source": [
    "min_pcp_sum = minimum(comb.PCP_SUM);\n",
    "max_pcp_sum = maximum(comb.PCP_SUM);\n",
    "\n",
    "min_pcp_max = minimum(comb.PCP_MAX);\n",
    "max_pcp_max = maximum(comb.PCP_MAX);"
   ]
  },
  {
   "cell_type": "code",
   "execution_count": 42,
   "metadata": {},
   "outputs": [],
   "source": [
    "comb.PCP_SUM = normalize.(comb.PCP_SUM, min_pcp_sum, max_pcp_sum);\n",
    "comb.PCP_MAX = normalize.(comb.PCP_MAX, min_pcp_max, max_pcp_max);"
   ]
  },
  {
   "cell_type": "code",
   "execution_count": 46,
   "metadata": {
    "scrolled": true
   },
   "outputs": [
    {
     "data": {
      "text/html": [
       "<table class=\"data-frame\"><thead><tr><th></th><th>ID_OUVRAGE</th><th>TP_LAT</th><th>TP_LNG</th><th>TP_Z</th><th>DATE</th><th>PCP_SUM</th><th>PCP_MAX</th><th>SURVERSE</th></tr><tr><th></th><th>String</th><th>Float64</th><th>Float64</th><th>Float64</th><th>Date</th><th>Float64</th><th>Float64</th><th>Int64</th></tr></thead><tbody><p>10 rows × 8 columns</p><tr><th>1</th><td>4520-01D</td><td>0.0934202</td><td>0.422034</td><td>0.505935</td><td>2017-06-05</td><td>0.172273</td><td>0.028088</td><td>1</td></tr><tr><th>2</th><td>3260-01D</td><td>0.609996</td><td>0.697487</td><td>0.386587</td><td>2013-07-19</td><td>0.0452461</td><td>0.0187448</td><td>1</td></tr><tr><th>3</th><td>3350-01D</td><td>0.459837</td><td>0.564893</td><td>0.220482</td><td>2016-10-08</td><td>0.0753927</td><td>0.0246258</td><td>1</td></tr><tr><th>4</th><td>4300-01D</td><td>0.413346</td><td>0.807748</td><td>0.171435</td><td>2014-05-27</td><td>0.0348949</td><td>0.0178532</td><td>1</td></tr><tr><th>5</th><td>4795-01D</td><td>0.116487</td><td>0.719818</td><td>0.241964</td><td>2018-10-08</td><td>0.0644145</td><td>0.0443938</td><td>1</td></tr><tr><th>6</th><td>3380-01D</td><td>0.370625</td><td>0.530672</td><td>0.453945</td><td>2017-08-05</td><td>0.0591627</td><td>0.0227856</td><td>1</td></tr><tr><th>7</th><td>4280-01D</td><td>0.487687</td><td>0.8256</td><td>0.136775</td><td>2017-06-06</td><td>0.0708372</td><td>0.019554</td><td>1</td></tr><tr><th>8</th><td>4380-01D</td><td>0.160421</td><td>0.728206</td><td>0.359859</td><td>2015-07-21</td><td>0.0492386</td><td>0.0132215</td><td>1</td></tr><tr><th>9</th><td>3260-01D</td><td>0.609996</td><td>0.697487</td><td>0.386587</td><td>2015-06-12</td><td>0.032965</td><td>0.00904921</td><td>1</td></tr><tr><th>10</th><td>3410-02D</td><td>0.319462</td><td>0.483178</td><td>0.359859</td><td>2017-10-15</td><td>0.0384266</td><td>0.0123957</td><td>1</td></tr></tbody></table>"
      ],
      "text/latex": [
       "\\begin{tabular}{r|cccccccc}\n",
       "\t& ID\\_OUVRAGE & TP\\_LAT & TP\\_LNG & TP\\_Z & DATE & PCP\\_SUM & PCP\\_MAX & SURVERSE\\\\\n",
       "\t\\hline\n",
       "\t& String & Float64 & Float64 & Float64 & Date & Float64 & Float64 & Int64\\\\\n",
       "\t\\hline\n",
       "\t1 & 4520-01D & 0.0934202 & 0.422034 & 0.505935 & 2017-06-05 & 0.172273 & 0.028088 & 1 \\\\\n",
       "\t2 & 3260-01D & 0.609996 & 0.697487 & 0.386587 & 2013-07-19 & 0.0452461 & 0.0187448 & 1 \\\\\n",
       "\t3 & 3350-01D & 0.459837 & 0.564893 & 0.220482 & 2016-10-08 & 0.0753927 & 0.0246258 & 1 \\\\\n",
       "\t4 & 4300-01D & 0.413346 & 0.807748 & 0.171435 & 2014-05-27 & 0.0348949 & 0.0178532 & 1 \\\\\n",
       "\t5 & 4795-01D & 0.116487 & 0.719818 & 0.241964 & 2018-10-08 & 0.0644145 & 0.0443938 & 1 \\\\\n",
       "\t6 & 3380-01D & 0.370625 & 0.530672 & 0.453945 & 2017-08-05 & 0.0591627 & 0.0227856 & 1 \\\\\n",
       "\t7 & 4280-01D & 0.487687 & 0.8256 & 0.136775 & 2017-06-06 & 0.0708372 & 0.019554 & 1 \\\\\n",
       "\t8 & 4380-01D & 0.160421 & 0.728206 & 0.359859 & 2015-07-21 & 0.0492386 & 0.0132215 & 1 \\\\\n",
       "\t9 & 3260-01D & 0.609996 & 0.697487 & 0.386587 & 2015-06-12 & 0.032965 & 0.00904921 & 1 \\\\\n",
       "\t10 & 3410-02D & 0.319462 & 0.483178 & 0.359859 & 2017-10-15 & 0.0384266 & 0.0123957 & 1 \\\\\n",
       "\\end{tabular}\n"
      ],
      "text/plain": [
       "10×8 DataFrame. Omitted printing of 2 columns\n",
       "│ Row │ ID_OUVRAGE │ TP_LAT    │ TP_LNG   │ TP_Z     │ DATE       │ PCP_SUM   │\n",
       "│     │ \u001b[90mString\u001b[39m     │ \u001b[90mFloat64\u001b[39m   │ \u001b[90mFloat64\u001b[39m  │ \u001b[90mFloat64\u001b[39m  │ \u001b[90mDate\u001b[39m       │ \u001b[90mFloat64\u001b[39m   │\n",
       "├─────┼────────────┼───────────┼──────────┼──────────┼────────────┼───────────┤\n",
       "│ 1   │ 4520-01D   │ 0.0934202 │ 0.422034 │ 0.505935 │ 2017-06-05 │ 0.172273  │\n",
       "│ 2   │ 3260-01D   │ 0.609996  │ 0.697487 │ 0.386587 │ 2013-07-19 │ 0.0452461 │\n",
       "│ 3   │ 3350-01D   │ 0.459837  │ 0.564893 │ 0.220482 │ 2016-10-08 │ 0.0753927 │\n",
       "│ 4   │ 4300-01D   │ 0.413346  │ 0.807748 │ 0.171435 │ 2014-05-27 │ 0.0348949 │\n",
       "│ 5   │ 4795-01D   │ 0.116487  │ 0.719818 │ 0.241964 │ 2018-10-08 │ 0.0644145 │\n",
       "│ 6   │ 3380-01D   │ 0.370625  │ 0.530672 │ 0.453945 │ 2017-08-05 │ 0.0591627 │\n",
       "│ 7   │ 4280-01D   │ 0.487687  │ 0.8256   │ 0.136775 │ 2017-06-06 │ 0.0708372 │\n",
       "│ 8   │ 4380-01D   │ 0.160421  │ 0.728206 │ 0.359859 │ 2015-07-21 │ 0.0492386 │\n",
       "│ 9   │ 3260-01D   │ 0.609996  │ 0.697487 │ 0.386587 │ 2015-06-12 │ 0.032965  │\n",
       "│ 10  │ 3410-02D   │ 0.319462  │ 0.483178 │ 0.359859 │ 2017-10-15 │ 0.0384266 │"
      ]
     },
     "execution_count": 46,
     "metadata": {},
     "output_type": "execute_result"
    }
   ],
   "source": [
    "first(shuffleDf(filter(row -> row.SURVERSE == 1, comb)), 10)"
   ]
  },
  {
   "cell_type": "markdown",
   "metadata": {},
   "source": [
    "#### Normalize dates"
   ]
  },
  {
   "cell_type": "code",
   "execution_count": 56,
   "metadata": {},
   "outputs": [],
   "source": [
    "dates = dateToDay.(comb.DATE);\n",
    "# dates = normalize.(dates, minimum(dates), maximum(dates));"
   ]
  },
  {
   "cell_type": "markdown",
   "metadata": {},
   "source": [
    "### TODO: Remove outlier in PCP_SUM and PCP_MAX that cause compression"
   ]
  },
  {
   "cell_type": "markdown",
   "metadata": {},
   "source": [
    "# Model creation"
   ]
  },
  {
   "cell_type": "markdown",
   "metadata": {},
   "source": [
    "### Separate features and labels"
   ]
  },
  {
   "cell_type": "code",
   "execution_count": 94,
   "metadata": {},
   "outputs": [],
   "source": [
    "train_features = convert(Matrix{Float64},comb[:, [:TP_LAT, :TP_LNG, :TP_Z, :PCP_SUM, :PCP_MAX]]);\n",
    "train_features = hcat(dates, train_features);"
   ]
  },
  {
   "cell_type": "code",
   "execution_count": 123,
   "metadata": {},
   "outputs": [],
   "source": [
    "train_labels = comb[:, :SURVERSE];"
   ]
  },
  {
   "cell_type": "markdown",
   "metadata": {},
   "source": [
    "### Build Model"
   ]
  },
  {
   "cell_type": "markdown",
   "metadata": {},
   "source": [
    "#### Test with tree first"
   ]
  },
  {
   "cell_type": "code",
   "execution_count": 145,
   "metadata": {},
   "outputs": [
    {
     "data": {
      "text/plain": [
       "Decision Tree\n",
       "Leaves: 3936\n",
       "Depth:  36"
      ]
     },
     "execution_count": 145,
     "metadata": {},
     "output_type": "execute_result"
    }
   ],
   "source": [
    "model_tree = build_tree(train_labels, train_features)"
   ]
  },
  {
   "cell_type": "code",
   "execution_count": 146,
   "metadata": {},
   "outputs": [
    {
     "data": {
      "text/plain": [
       "Decision Tree\n",
       "Leaves: 3770\n",
       "Depth:  36"
      ]
     },
     "execution_count": 146,
     "metadata": {},
     "output_type": "execute_result"
    }
   ],
   "source": [
    "model_tree = prune_tree(model_tree, 0.90)"
   ]
  },
  {
   "cell_type": "code",
   "execution_count": 149,
   "metadata": {},
   "outputs": [
    {
     "data": {
      "text/plain": [
       "Ensemble of Decision Trees\n",
       "Trees:      21\n",
       "Avg Leaves: 2550.904761904762\n",
       "Avg Depth:  32.904761904761905"
      ]
     },
     "execution_count": 149,
     "metadata": {},
     "output_type": "execute_result"
    }
   ],
   "source": [
    "model = build_forest(train_labels, train_features, 4, 21, 0.7, 47)"
   ]
  },
  {
   "cell_type": "markdown",
   "metadata": {},
   "source": [
    "# Prediction"
   ]
  },
  {
   "cell_type": "markdown",
   "metadata": {},
   "source": [
    "## Get the test data"
   ]
  },
  {
   "cell_type": "code",
   "execution_count": 179,
   "metadata": {},
   "outputs": [
    {
     "data": {
      "text/html": [
       "<table class=\"data-frame\"><thead><tr><th></th><th>ID_OUVRAGE</th><th>DATE</th></tr><tr><th></th><th>String</th><th>Date</th></tr></thead><tbody><p>10 rows × 2 columns</p><tr><th>1</th><td>3260-01D</td><td>2019-05-02</td></tr><tr><th>2</th><td>3260-01D</td><td>2019-05-09</td></tr><tr><th>3</th><td>3260-01D</td><td>2019-05-10</td></tr><tr><th>4</th><td>3260-01D</td><td>2019-05-15</td></tr><tr><th>5</th><td>3260-01D</td><td>2019-05-20</td></tr><tr><th>6</th><td>3260-01D</td><td>2019-05-23</td></tr><tr><th>7</th><td>3260-01D</td><td>2019-05-24</td></tr><tr><th>8</th><td>3260-01D</td><td>2019-05-26</td></tr><tr><th>9</th><td>3260-01D</td><td>2019-05-30</td></tr><tr><th>10</th><td>3350-07D</td><td>2019-05-01</td></tr></tbody></table>"
      ],
      "text/latex": [
       "\\begin{tabular}{r|cc}\n",
       "\t& ID\\_OUVRAGE & DATE\\\\\n",
       "\t\\hline\n",
       "\t& String & Date\\\\\n",
       "\t\\hline\n",
       "\t1 & 3260-01D & 2019-05-02 \\\\\n",
       "\t2 & 3260-01D & 2019-05-09 \\\\\n",
       "\t3 & 3260-01D & 2019-05-10 \\\\\n",
       "\t4 & 3260-01D & 2019-05-15 \\\\\n",
       "\t5 & 3260-01D & 2019-05-20 \\\\\n",
       "\t6 & 3260-01D & 2019-05-23 \\\\\n",
       "\t7 & 3260-01D & 2019-05-24 \\\\\n",
       "\t8 & 3260-01D & 2019-05-26 \\\\\n",
       "\t9 & 3260-01D & 2019-05-30 \\\\\n",
       "\t10 & 3350-07D & 2019-05-01 \\\\\n",
       "\\end{tabular}\n"
      ],
      "text/plain": [
       "10×2 DataFrame\n",
       "│ Row │ ID_OUVRAGE │ DATE       │\n",
       "│     │ \u001b[90mString\u001b[39m     │ \u001b[90mDate\u001b[39m       │\n",
       "├─────┼────────────┼────────────┤\n",
       "│ 1   │ 3260-01D   │ 2019-05-02 │\n",
       "│ 2   │ 3260-01D   │ 2019-05-09 │\n",
       "│ 3   │ 3260-01D   │ 2019-05-10 │\n",
       "│ 4   │ 3260-01D   │ 2019-05-15 │\n",
       "│ 5   │ 3260-01D   │ 2019-05-20 │\n",
       "│ 6   │ 3260-01D   │ 2019-05-23 │\n",
       "│ 7   │ 3260-01D   │ 2019-05-24 │\n",
       "│ 8   │ 3260-01D   │ 2019-05-26 │\n",
       "│ 9   │ 3260-01D   │ 2019-05-30 │\n",
       "│ 10  │ 3350-07D   │ 2019-05-01 │"
      ]
     },
     "execution_count": 179,
     "metadata": {},
     "output_type": "execute_result"
    }
   ],
   "source": [
    "test = CSV.read(\"data/test.csv\");\n",
    "rename!(test, :NO_OUVRAGE => :ID_OUVRAGE);\n",
    "first(test, 10)"
   ]
  },
  {
   "cell_type": "code",
   "execution_count": 180,
   "metadata": {},
   "outputs": [
    {
     "data": {
      "text/plain": [
       "283"
      ]
     },
     "execution_count": 180,
     "metadata": {},
     "output_type": "execute_result"
    }
   ],
   "source": [
    "to_merge = unique(comb[!, [:ID_OUVRAGE, :TP_LAT, :TP_LNG, :TP_Z]], :ID_OUVRAGE);\n",
    "test_comb = join(test, to_merge, on= [:ID_OUVRAGE]);\n",
    "nrow(test_comb)"
   ]
  },
  {
   "cell_type": "code",
   "execution_count": 186,
   "metadata": {},
   "outputs": [],
   "source": [
    "first(shuffleDf(test_comb), 10);"
   ]
  },
  {
   "cell_type": "markdown",
   "metadata": {},
   "source": [
    "### Add PCP_SUM and PCP_MAX"
   ]
  },
  {
   "cell_type": "markdown",
   "metadata": {},
   "source": [
    "#### Initialize default pcp"
   ]
  },
  {
   "cell_type": "code",
   "execution_count": 184,
   "metadata": {},
   "outputs": [],
   "source": [
    "test_comb.PCP_MAX = zeros(size(test_comb, 1));\n",
    "test_comb.PCP_SUM = zeros(size(test_comb, 1));\n",
    "permutecols!(test_comb, [:ID_OUVRAGE, :TP_LAT, :TP_LNG, :TP_Z, :DATE, :PCP_SUM, :PCP_MAX]);"
   ]
  },
  {
   "cell_type": "code",
   "execution_count": 189,
   "metadata": {},
   "outputs": [],
   "source": [
    "first(shuffleDf(test_comb), 10);"
   ]
  },
  {
   "cell_type": "markdown",
   "metadata": {},
   "source": [
    "#### Populate pcp"
   ]
  },
  {
   "cell_type": "code",
   "execution_count": 187,
   "metadata": {},
   "outputs": [],
   "source": [
    "for i=1:size(test_comb, 1)\n",
    "    id_ouvrage = test_comb[i, 1]; \n",
    "    closest_station = \"McTavish\"; # initial value\n",
    "    shortest_dist = -1;\n",
    "    \n",
    "    # Find closest station\n",
    "    for j=1:size(station_df, 1)\n",
    "        dist = findDistance(test_comb[i, :TP_LAT], test_comb[i, :TP_LNG], station_df[j, :LAT], station_df[j, :LNG]);\n",
    "        \n",
    "        if shortest_dist == -1 || dist < shortest_dist\n",
    "            shortest_dist = dist;\n",
    "            closest_station = station_df[j, :STATION];\n",
    "        end\n",
    "    end\n",
    "    \n",
    "    # Augment comb with a weighted p_sum, based on the distance to the station\n",
    "    p_sum = pcp_sum[∈([test_comb[i, :DATE]]).(pcp_sum.date), Symbol(closest_station)];\n",
    "    test_comb[i, :PCP_SUM] = p_sum[1] * (1 - shortest_dist); \n",
    "    # Augment comb with a weighted p_max, based on the distance to the station\n",
    "    p_max = pcp_max[∈([test_comb[i, :DATE]]).(pcp_max.date), Symbol(closest_station)]\n",
    "    test_comb[i, :PCP_MAX] = p_max[1] * (1 - shortest_dist);\n",
    "end"
   ]
  },
  {
   "cell_type": "code",
   "execution_count": 200,
   "metadata": {},
   "outputs": [
    {
     "data": {
      "text/html": [
       "<table class=\"data-frame\"><thead><tr><th></th><th>ID_OUVRAGE</th><th>TP_LAT</th><th>TP_LNG</th><th>TP_Z</th><th>DATE</th><th>PCP_SUM</th><th>PCP_MAX</th></tr><tr><th></th><th>String</th><th>Float64</th><th>Float64</th><th>Float64</th><th>Date</th><th>Float64</th><th>Float64</th></tr></thead><tbody><p>10 rows × 7 columns</p><tr><th>1</th><td>4380-01D</td><td>0.160421</td><td>0.728206</td><td>0.359859</td><td>2019-08-07</td><td>0.00493097</td><td>0.00917112</td></tr><tr><th>2</th><td>3260-01D</td><td>0.663919</td><td>0.797687</td><td>0.359859</td><td>2019-08-22</td><td>0.0</td><td>0.0</td></tr><tr><th>3</th><td>3350-07D</td><td>0.353054</td><td>0.490395</td><td>0.405552</td><td>2019-06-15</td><td>0.113623</td><td>0.0837334</td></tr><tr><th>4</th><td>4240-01D</td><td>0.607546</td><td>0.868856</td><td>0.116503</td><td>2019-05-22</td><td>0.0</td><td>0.0</td></tr><tr><th>5</th><td>3260-01D</td><td>0.663919</td><td>0.797687</td><td>0.359859</td><td>2019-08-25</td><td>0.0</td><td>0.0</td></tr><tr><th>6</th><td>4380-01D</td><td>0.160421</td><td>0.728206</td><td>0.359859</td><td>2019-09-22</td><td>0.0</td><td>0.0</td></tr><tr><th>7</th><td>4350-01D</td><td>0.237379</td><td>0.74432</td><td>0.359859</td><td>2019-07-17</td><td>0.0</td><td>0.0</td></tr><tr><th>8</th><td>4350-01D</td><td>0.237379</td><td>0.74432</td><td>0.359859</td><td>2019-07-23</td><td>0.0</td><td>0.0</td></tr><tr><th>9</th><td>4240-01D</td><td>0.607546</td><td>0.868856</td><td>0.116503</td><td>2019-09-07</td><td>0.318678</td><td>0.312819</td></tr><tr><th>10</th><td>3350-07D</td><td>0.353054</td><td>0.490395</td><td>0.405552</td><td>2019-07-13</td><td>0.0</td><td>0.0</td></tr></tbody></table>"
      ],
      "text/latex": [
       "\\begin{tabular}{r|ccccccc}\n",
       "\t& ID\\_OUVRAGE & TP\\_LAT & TP\\_LNG & TP\\_Z & DATE & PCP\\_SUM & PCP\\_MAX\\\\\n",
       "\t\\hline\n",
       "\t& String & Float64 & Float64 & Float64 & Date & Float64 & Float64\\\\\n",
       "\t\\hline\n",
       "\t1 & 4380-01D & 0.160421 & 0.728206 & 0.359859 & 2019-08-07 & 0.00493097 & 0.00917112 \\\\\n",
       "\t2 & 3260-01D & 0.663919 & 0.797687 & 0.359859 & 2019-08-22 & 0.0 & 0.0 \\\\\n",
       "\t3 & 3350-07D & 0.353054 & 0.490395 & 0.405552 & 2019-06-15 & 0.113623 & 0.0837334 \\\\\n",
       "\t4 & 4240-01D & 0.607546 & 0.868856 & 0.116503 & 2019-05-22 & 0.0 & 0.0 \\\\\n",
       "\t5 & 3260-01D & 0.663919 & 0.797687 & 0.359859 & 2019-08-25 & 0.0 & 0.0 \\\\\n",
       "\t6 & 4380-01D & 0.160421 & 0.728206 & 0.359859 & 2019-09-22 & 0.0 & 0.0 \\\\\n",
       "\t7 & 4350-01D & 0.237379 & 0.74432 & 0.359859 & 2019-07-17 & 0.0 & 0.0 \\\\\n",
       "\t8 & 4350-01D & 0.237379 & 0.74432 & 0.359859 & 2019-07-23 & 0.0 & 0.0 \\\\\n",
       "\t9 & 4240-01D & 0.607546 & 0.868856 & 0.116503 & 2019-09-07 & 0.318678 & 0.312819 \\\\\n",
       "\t10 & 3350-07D & 0.353054 & 0.490395 & 0.405552 & 2019-07-13 & 0.0 & 0.0 \\\\\n",
       "\\end{tabular}\n"
      ],
      "text/plain": [
       "10×7 DataFrame. Omitted printing of 1 columns\n",
       "│ Row │ ID_OUVRAGE │ TP_LAT   │ TP_LNG   │ TP_Z     │ DATE       │ PCP_SUM    │\n",
       "│     │ \u001b[90mString\u001b[39m     │ \u001b[90mFloat64\u001b[39m  │ \u001b[90mFloat64\u001b[39m  │ \u001b[90mFloat64\u001b[39m  │ \u001b[90mDate\u001b[39m       │ \u001b[90mFloat64\u001b[39m    │\n",
       "├─────┼────────────┼──────────┼──────────┼──────────┼────────────┼────────────┤\n",
       "│ 1   │ 4380-01D   │ 0.160421 │ 0.728206 │ 0.359859 │ 2019-08-07 │ 0.00493097 │\n",
       "│ 2   │ 3260-01D   │ 0.663919 │ 0.797687 │ 0.359859 │ 2019-08-22 │ 0.0        │\n",
       "│ 3   │ 3350-07D   │ 0.353054 │ 0.490395 │ 0.405552 │ 2019-06-15 │ 0.113623   │\n",
       "│ 4   │ 4240-01D   │ 0.607546 │ 0.868856 │ 0.116503 │ 2019-05-22 │ 0.0        │\n",
       "│ 5   │ 3260-01D   │ 0.663919 │ 0.797687 │ 0.359859 │ 2019-08-25 │ 0.0        │\n",
       "│ 6   │ 4380-01D   │ 0.160421 │ 0.728206 │ 0.359859 │ 2019-09-22 │ 0.0        │\n",
       "│ 7   │ 4350-01D   │ 0.237379 │ 0.74432  │ 0.359859 │ 2019-07-17 │ 0.0        │\n",
       "│ 8   │ 4350-01D   │ 0.237379 │ 0.74432  │ 0.359859 │ 2019-07-23 │ 0.0        │\n",
       "│ 9   │ 4240-01D   │ 0.607546 │ 0.868856 │ 0.116503 │ 2019-09-07 │ 0.318678   │\n",
       "│ 10  │ 3350-07D   │ 0.353054 │ 0.490395 │ 0.405552 │ 2019-07-13 │ 0.0        │"
      ]
     },
     "execution_count": 200,
     "metadata": {},
     "output_type": "execute_result"
    }
   ],
   "source": [
    "first(shuffleDf(test_comb), 10)"
   ]
  },
  {
   "cell_type": "markdown",
   "metadata": {},
   "source": [
    "#### Normalize pcp"
   ]
  },
  {
   "cell_type": "code",
   "execution_count": 193,
   "metadata": {},
   "outputs": [],
   "source": [
    "min_pcp_sum = minimum(test_comb.PCP_SUM);\n",
    "max_pcp_sum = maximum(test_comb.PCP_SUM);\n",
    "\n",
    "min_pcp_max = minimum(test_comb.PCP_MAX);\n",
    "max_pcp_max = maximum(test_comb.PCP_MAX);"
   ]
  },
  {
   "cell_type": "code",
   "execution_count": 196,
   "metadata": {},
   "outputs": [],
   "source": [
    "test_comb.PCP_SUM = normalize.(test_comb.PCP_SUM, min_pcp_sum, max_pcp_sum);\n",
    "test_comb.PCP_MAX = normalize.(test_comb.PCP_MAX, min_pcp_max, max_pcp_max);"
   ]
  },
  {
   "cell_type": "markdown",
   "metadata": {},
   "source": [
    "#### Normalize dates"
   ]
  },
  {
   "cell_type": "code",
   "execution_count": 203,
   "metadata": {},
   "outputs": [],
   "source": [
    "test_dates = dateToDay.(test_comb.DATE);\n",
    "test_dates = normalize.(test_dates, minimum(test_dates), maximum(test_dates));"
   ]
  },
  {
   "cell_type": "markdown",
   "metadata": {},
   "source": [
    "### Create Test features"
   ]
  },
  {
   "cell_type": "code",
   "execution_count": 205,
   "metadata": {},
   "outputs": [
    {
     "data": {
      "text/plain": [
       "283×6 Array{Float64,2}:\n",
       " 0.00671141  0.663919  0.797687  0.359859  0.0254936   0.0221273 \n",
       " 0.0536913   0.663919  0.797687  0.359859  0.130867    0.173858  \n",
       " 0.0604027   0.663919  0.797687  0.359859  0.486079    0.158052  \n",
       " 0.0939597   0.663919  0.797687  0.359859  0.0         0.0       \n",
       " 0.127517    0.663919  0.797687  0.359859  0.0832792   0.0853482 \n",
       " 0.147651    0.663919  0.797687  0.359859  0.596551    0.587955  \n",
       " 0.154362    0.663919  0.797687  0.359859  0.0373907   0.0379326 \n",
       " 0.167785    0.663919  0.797687  0.359859  0.0356911   0.066382  \n",
       " 0.194631    0.663919  0.797687  0.359859  0.0220945   0.0316105 \n",
       " 0.0         0.353054  0.490395  0.405552  0.10076     0.0837334 \n",
       " 0.00671141  0.353054  0.490395  0.405552  0.0278697   0.0318984 \n",
       " 0.0469799   0.353054  0.490395  0.405552  0.0         0.0       \n",
       " 0.0536913   0.353054  0.490395  0.405552  0.184369    0.171454  \n",
       " ⋮                                                     ⋮         \n",
       " 0.805369    0.160421  0.728206  0.359859  0.0         0.0       \n",
       " 0.812081    0.160421  0.728206  0.359859  0.86785     0.279719  \n",
       " 0.825503    0.160421  0.728206  0.359859  0.559665    0.577781  \n",
       " 0.832215    0.160421  0.728206  0.359859  0.0         0.0       \n",
       " 0.879195    0.160421  0.728206  0.359859  0.0         0.0       \n",
       " 0.885906    0.160421  0.728206  0.359859  0.0         0.0       \n",
       " 0.90604     0.160421  0.728206  0.359859  0.0         0.0       \n",
       " 0.946309    0.160421  0.728206  0.359859  0.0         0.0       \n",
       " 0.973154    0.160421  0.728206  0.359859  0.276134    0.155909  \n",
       " 0.986577    0.160421  0.728206  0.359859  0.135602    0.0779545 \n",
       " 0.993289    0.160421  0.728206  0.359859  0.00493097  0.00917112\n",
       " 1.0         0.160421  0.728206  0.359859  0.0         0.0       "
      ]
     },
     "execution_count": 205,
     "metadata": {},
     "output_type": "execute_result"
    }
   ],
   "source": [
    "test_features = convert(Matrix{Float64}, test_comb[:, [:TP_LAT, :TP_LNG, :TP_Z, :PCP_SUM, :PCP_MAX]]);\n",
    "test_features = hcat(test_dates, test_features);\n",
    "\n",
    "test_features"
   ]
  },
  {
   "cell_type": "markdown",
   "metadata": {},
   "source": [
    "## Predict"
   ]
  },
  {
   "cell_type": "code",
   "execution_count": 206,
   "metadata": {},
   "outputs": [
    {
     "data": {
      "text/plain": [
       "283-element Array{Int64,1}:\n",
       " 0\n",
       " 0\n",
       " 0\n",
       " 0\n",
       " 0\n",
       " 0\n",
       " 0\n",
       " 0\n",
       " 0\n",
       " 0\n",
       " 0\n",
       " 0\n",
       " 0\n",
       " ⋮\n",
       " 0\n",
       " 1\n",
       " 0\n",
       " 0\n",
       " 0\n",
       " 0\n",
       " 0\n",
       " 0\n",
       " 1\n",
       " 1\n",
       " 0\n",
       " 0"
      ]
     },
     "execution_count": 206,
     "metadata": {},
     "output_type": "execute_result"
    }
   ],
   "source": [
    "test_labels = apply_forest(model, test_features)"
   ]
  },
  {
   "cell_type": "markdown",
   "metadata": {},
   "source": [
    "## Generate submission"
   ]
  },
  {
   "cell_type": "code",
   "execution_count": 207,
   "metadata": {},
   "outputs": [
    {
     "data": {
      "text/plain": [
       "\"submissions/mc-submission-4.csv\""
      ]
     },
     "execution_count": 207,
     "metadata": {},
     "output_type": "execute_result"
    }
   ],
   "source": [
    "ID = test_comb[:,:ID_OUVRAGE].*\"_\".*string.(test_comb[:,:DATE])\n",
    "sampleSubmission = DataFrame(ID = ID, Surverse=test_labels)\n",
    "CSV.write(\"submissions/mc-submission-4.csv\",sampleSubmission)"
   ]
  }
 ],
 "metadata": {
  "kernelspec": {
   "display_name": "Julia 1.2.0",
   "language": "julia",
   "name": "julia-1.2"
  },
  "language_info": {
   "file_extension": ".jl",
   "mimetype": "application/julia",
   "name": "julia",
   "version": "1.0.5"
  }
 },
 "nbformat": 4,
 "nbformat_minor": 2
}
