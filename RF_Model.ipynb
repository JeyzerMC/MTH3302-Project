{
 "cells": [
  {
   "cell_type": "markdown",
   "metadata": {},
   "source": [
    "# Data Processing"
   ]
  },
  {
   "cell_type": "code",
   "execution_count": 314,
   "metadata": {},
   "outputs": [],
   "source": [
    "using CSV, DataFrames, DecisionTree, Statistics, Dates, Gadfly, Random, MLBase;\n",
    "include(\"utils/precipitation.jl\");"
   ]
  },
  {
   "cell_type": "markdown",
   "metadata": {},
   "source": [
    "## Build features"
   ]
  },
  {
   "cell_type": "markdown",
   "metadata": {},
   "source": [
    "### Get and filter the features"
   ]
  },
  {
   "cell_type": "markdown",
   "metadata": {},
   "source": [
    "#### Latitude, Longitude, Height"
   ]
  },
  {
   "cell_type": "code",
   "execution_count": 317,
   "metadata": {},
   "outputs": [],
   "source": [
    "features = CSV.read(\"data/ouvrages-surverses.csv\");\n",
    "colnames = [\"N_Env\", \"ID_SOMA\", \"ID_OUVRAGE\", \"NOM\", \"SOMA_SEC\", \"REGION\", \"TP_X\", \"TP_Y\", \"TP_Z\", \"TP_LAT\", \"TP_LNG\", \"EMI_X\", \"EMI_Y\", \"EMI_LNG\", \"EMI_LAT\"];\n",
    "names!(features, Symbol.(colnames));\n",
    "select!(features, [:ID_OUVRAGE, :TP_LAT, :TP_LNG, :TP_Z]);"
   ]
  },
  {
   "cell_type": "markdown",
   "metadata": {},
   "source": [
    "#### Replace missing Z index with mean"
   ]
  },
  {
   "cell_type": "code",
   "execution_count": 318,
   "metadata": {},
   "outputs": [
    {
     "data": {
      "text/html": [
       "<table class=\"data-frame\"><thead><tr><th></th><th>ID_OUVRAGE</th><th>TP_LAT</th><th>TP_LNG</th><th>TP_Z</th></tr><tr><th></th><th>String</th><th>Float64</th><th>Float64</th><th>Float64</th></tr></thead><tbody><p>10 rows × 4 columns</p><tr><th>1</th><td>3580-01D</td><td>45.4085</td><td>-73.9569</td><td>25.48</td></tr><tr><th>2</th><td>4796-01D</td><td>45.45</td><td>-73.5686</td><td>15.747</td></tr><tr><th>3</th><td>4230-07D</td><td>45.6888</td><td>-73.4863</td><td>9.86</td></tr><tr><th>4</th><td>3305-03D</td><td>45.6196</td><td>-73.6329</td><td>11.76</td></tr><tr><th>5</th><td>3750-01D</td><td>45.6087</td><td>-73.6397</td><td>11.6</td></tr><tr><th>6</th><td>4320-01D</td><td>45.5488</td><td>-73.5307</td><td>13.68</td></tr><tr><th>7</th><td>4315-01D</td><td>45.5628</td><td>-73.5243</td><td>14.39</td></tr><tr><th>8</th><td>0801-05D</td><td>45.5173</td><td>-73.5312</td><td>12.7</td></tr><tr><th>9</th><td>3480-03D</td><td>45.4972</td><td>-73.7953</td><td>25.51</td></tr><tr><th>10</th><td>3305-01D</td><td>45.6257</td><td>-73.6241</td><td>12.7</td></tr></tbody></table>"
      ],
      "text/latex": [
       "\\begin{tabular}{r|cccc}\n",
       "\t& ID\\_OUVRAGE & TP\\_LAT & TP\\_LNG & TP\\_Z\\\\\n",
       "\t\\hline\n",
       "\t& String & Float64 & Float64 & Float64\\\\\n",
       "\t\\hline\n",
       "\t1 & 3580-01D & 45.4085 & -73.9569 & 25.48 \\\\\n",
       "\t2 & 4796-01D & 45.45 & -73.5686 & 15.747 \\\\\n",
       "\t3 & 4230-07D & 45.6888 & -73.4863 & 9.86 \\\\\n",
       "\t4 & 3305-03D & 45.6196 & -73.6329 & 11.76 \\\\\n",
       "\t5 & 3750-01D & 45.6087 & -73.6397 & 11.6 \\\\\n",
       "\t6 & 4320-01D & 45.5488 & -73.5307 & 13.68 \\\\\n",
       "\t7 & 4315-01D & 45.5628 & -73.5243 & 14.39 \\\\\n",
       "\t8 & 0801-05D & 45.5173 & -73.5312 & 12.7 \\\\\n",
       "\t9 & 3480-03D & 45.4972 & -73.7953 & 25.51 \\\\\n",
       "\t10 & 3305-01D & 45.6257 & -73.6241 & 12.7 \\\\\n",
       "\\end{tabular}\n"
      ],
      "text/plain": [
       "10×4 DataFrame\n",
       "│ Row │ ID_OUVRAGE │ TP_LAT  │ TP_LNG   │ TP_Z    │\n",
       "│     │ \u001b[90mString\u001b[39m     │ \u001b[90mFloat64\u001b[39m │ \u001b[90mFloat64\u001b[39m  │ \u001b[90mFloat64\u001b[39m │\n",
       "├─────┼────────────┼─────────┼──────────┼─────────┤\n",
       "│ 1   │ 3580-01D   │ 45.4085 │ -73.9569 │ 25.48   │\n",
       "│ 2   │ 4796-01D   │ 45.45   │ -73.5686 │ 15.747  │\n",
       "│ 3   │ 4230-07D   │ 45.6888 │ -73.4863 │ 9.86    │\n",
       "│ 4   │ 3305-03D   │ 45.6196 │ -73.6329 │ 11.76   │\n",
       "│ 5   │ 3750-01D   │ 45.6087 │ -73.6397 │ 11.6    │\n",
       "│ 6   │ 4320-01D   │ 45.5488 │ -73.5307 │ 13.68   │\n",
       "│ 7   │ 4315-01D   │ 45.5628 │ -73.5243 │ 14.39   │\n",
       "│ 8   │ 0801-05D   │ 45.5173 │ -73.5312 │ 12.7    │\n",
       "│ 9   │ 3480-03D   │ 45.4972 │ -73.7953 │ 25.51   │\n",
       "│ 10  │ 3305-01D   │ 45.6257 │ -73.6241 │ 12.7    │"
      ]
     },
     "execution_count": 318,
     "metadata": {},
     "output_type": "execute_result"
    }
   ],
   "source": [
    "features.TP_Z = coalesce.(features.TP_Z, mean(features[completecases(features), :].TP_Z));\n",
    "first(shuffleDf(features), 10)"
   ]
  },
  {
   "cell_type": "markdown",
   "metadata": {},
   "source": [
    "### Load dates and surverses"
   ]
  },
  {
   "cell_type": "code",
   "execution_count": 321,
   "metadata": {},
   "outputs": [],
   "source": [
    "surverses = CSV.read(\"data/surverses.csv\",missingstring=\"-99999\");"
   ]
  },
  {
   "cell_type": "markdown",
   "metadata": {},
   "source": [
    "#### Filter months"
   ]
  },
  {
   "cell_type": "code",
   "execution_count": 322,
   "metadata": {},
   "outputs": [],
   "source": [
    "surverses = filter(row -> month(row.DATE) > 4, surverses);\n",
    "surverses = filter(row -> month(row.DATE) < 11, surverses);"
   ]
  },
  {
   "cell_type": "markdown",
   "metadata": {},
   "source": [
    "#### Filter non rain surverses"
   ]
  },
  {
   "cell_type": "code",
   "execution_count": 323,
   "metadata": {},
   "outputs": [],
   "source": [
    "raison = coalesce.(surverses[:,:RAISON],\"Inconnue\");\n",
    "surverses[!,:RAISON] = raison;\n",
    "\n",
    "surverses = filter(row -> row.RAISON ∈ [\"P\",\"Inconnue\",\"TS\"], surverses);\n",
    "select!(surverses, [:NO_OUVRAGE, :DATE, :SURVERSE]);"
   ]
  },
  {
   "cell_type": "markdown",
   "metadata": {},
   "source": [
    "#### Remove missing data and rename"
   ]
  },
  {
   "cell_type": "code",
   "execution_count": 324,
   "metadata": {},
   "outputs": [
    {
     "data": {
      "text/html": [
       "<table class=\"data-frame\"><thead><tr><th></th><th>ID_OUVRAGE</th><th>DATE</th><th>SURVERSE</th></tr><tr><th></th><th>String</th><th>Date</th><th>Int64</th></tr></thead><tbody><p>10 rows × 3 columns</p><tr><th>1</th><td>4230-03D</td><td>2014-08-30</td><td>0</td></tr><tr><th>2</th><td>4370-02D</td><td>2014-06-01</td><td>0</td></tr><tr><th>3</th><td>3350-08D</td><td>2018-06-30</td><td>0</td></tr><tr><th>4</th><td>4350-01D</td><td>2014-06-06</td><td>0</td></tr><tr><th>5</th><td>4340-03D</td><td>2017-05-02</td><td>0</td></tr><tr><th>6</th><td>3450-02D</td><td>2014-08-13</td><td>0</td></tr><tr><th>7</th><td>4320-01D</td><td>2014-10-30</td><td>0</td></tr><tr><th>8</th><td>3530-01D</td><td>2014-08-09</td><td>0</td></tr><tr><th>9</th><td>0801-01D</td><td>2015-08-15</td><td>0</td></tr><tr><th>10</th><td>3411-01D</td><td>2016-05-17</td><td>0</td></tr></tbody></table>"
      ],
      "text/latex": [
       "\\begin{tabular}{r|ccc}\n",
       "\t& ID\\_OUVRAGE & DATE & SURVERSE\\\\\n",
       "\t\\hline\n",
       "\t& String & Date & Int64\\\\\n",
       "\t\\hline\n",
       "\t1 & 4230-03D & 2014-08-30 & 0 \\\\\n",
       "\t2 & 4370-02D & 2014-06-01 & 0 \\\\\n",
       "\t3 & 3350-08D & 2018-06-30 & 0 \\\\\n",
       "\t4 & 4350-01D & 2014-06-06 & 0 \\\\\n",
       "\t5 & 4340-03D & 2017-05-02 & 0 \\\\\n",
       "\t6 & 3450-02D & 2014-08-13 & 0 \\\\\n",
       "\t7 & 4320-01D & 2014-10-30 & 0 \\\\\n",
       "\t8 & 3530-01D & 2014-08-09 & 0 \\\\\n",
       "\t9 & 0801-01D & 2015-08-15 & 0 \\\\\n",
       "\t10 & 3411-01D & 2016-05-17 & 0 \\\\\n",
       "\\end{tabular}\n"
      ],
      "text/plain": [
       "10×3 DataFrame\n",
       "│ Row │ ID_OUVRAGE │ DATE       │ SURVERSE │\n",
       "│     │ \u001b[90mString\u001b[39m     │ \u001b[90mDate\u001b[39m       │ \u001b[90mInt64\u001b[39m    │\n",
       "├─────┼────────────┼────────────┼──────────┤\n",
       "│ 1   │ 4230-03D   │ 2014-08-30 │ 0        │\n",
       "│ 2   │ 4370-02D   │ 2014-06-01 │ 0        │\n",
       "│ 3   │ 3350-08D   │ 2018-06-30 │ 0        │\n",
       "│ 4   │ 4350-01D   │ 2014-06-06 │ 0        │\n",
       "│ 5   │ 4340-03D   │ 2017-05-02 │ 0        │\n",
       "│ 6   │ 3450-02D   │ 2014-08-13 │ 0        │\n",
       "│ 7   │ 4320-01D   │ 2014-10-30 │ 0        │\n",
       "│ 8   │ 3530-01D   │ 2014-08-09 │ 0        │\n",
       "│ 9   │ 0801-01D   │ 2015-08-15 │ 0        │\n",
       "│ 10  │ 3411-01D   │ 2016-05-17 │ 0        │"
      ]
     },
     "execution_count": 324,
     "metadata": {},
     "output_type": "execute_result"
    }
   ],
   "source": [
    "surverses = dropmissing(surverses, disallowmissing=true);\n",
    "rename!(surverses, :NO_OUVRAGE => :ID_OUVRAGE);\n",
    "first(shuffleDf(surverses),10)"
   ]
  },
  {
   "cell_type": "markdown",
   "metadata": {},
   "source": [
    "### Augment features with dates and label"
   ]
  },
  {
   "cell_type": "code",
   "execution_count": 325,
   "metadata": {},
   "outputs": [
    {
     "data": {
      "text/html": [
       "<table class=\"data-frame\"><thead><tr><th></th><th>ID_OUVRAGE</th><th>TP_LAT</th><th>TP_LNG</th><th>TP_Z</th><th>DATE</th><th>SURVERSE</th></tr><tr><th></th><th>String</th><th>Float64</th><th>Float64</th><th>Float64</th><th>Date</th><th>Int64</th></tr></thead><tbody><p>10 rows × 6 columns</p><tr><th>1</th><td>4610-08D</td><td>45.4267</td><td>-73.8538</td><td>19.3526</td><td>2017-09-24</td><td>0</td></tr><tr><th>2</th><td>0801-03D</td><td>45.5081</td><td>-73.5273</td><td>11.94</td><td>2017-07-17</td><td>0</td></tr><tr><th>3</th><td>4430-03D</td><td>45.4149</td><td>-73.6303</td><td>22.25</td><td>2015-09-25</td><td>0</td></tr><tr><th>4</th><td>4230-01D</td><td>45.6621</td><td>-73.4983</td><td>11.79</td><td>2018-07-16</td><td>0</td></tr><tr><th>5</th><td>3310-01D</td><td>45.6139</td><td>-73.6313</td><td>19.58</td><td>2015-10-06</td><td>0</td></tr><tr><th>6</th><td>4400-01D</td><td>45.4586</td><td>-73.5621</td><td>16.8</td><td>2014-06-12</td><td>1</td></tr><tr><th>7</th><td>4560-01D</td><td>45.4509</td><td>-73.7843</td><td>26.37</td><td>2013-06-06</td><td>0</td></tr><tr><th>8</th><td>3350-02D</td><td>45.5783</td><td>-73.6585</td><td>19.3526</td><td>2015-05-07</td><td>0</td></tr><tr><th>9</th><td>4530-02D</td><td>45.4408</td><td>-73.7711</td><td>19.3526</td><td>2013-07-26</td><td>0</td></tr><tr><th>10</th><td>4230-06D</td><td>45.6821</td><td>-73.4901</td><td>8.97</td><td>2014-08-12</td><td>0</td></tr></tbody></table>"
      ],
      "text/latex": [
       "\\begin{tabular}{r|cccccc}\n",
       "\t& ID\\_OUVRAGE & TP\\_LAT & TP\\_LNG & TP\\_Z & DATE & SURVERSE\\\\\n",
       "\t\\hline\n",
       "\t& String & Float64 & Float64 & Float64 & Date & Int64\\\\\n",
       "\t\\hline\n",
       "\t1 & 4610-08D & 45.4267 & -73.8538 & 19.3526 & 2017-09-24 & 0 \\\\\n",
       "\t2 & 0801-03D & 45.5081 & -73.5273 & 11.94 & 2017-07-17 & 0 \\\\\n",
       "\t3 & 4430-03D & 45.4149 & -73.6303 & 22.25 & 2015-09-25 & 0 \\\\\n",
       "\t4 & 4230-01D & 45.6621 & -73.4983 & 11.79 & 2018-07-16 & 0 \\\\\n",
       "\t5 & 3310-01D & 45.6139 & -73.6313 & 19.58 & 2015-10-06 & 0 \\\\\n",
       "\t6 & 4400-01D & 45.4586 & -73.5621 & 16.8 & 2014-06-12 & 1 \\\\\n",
       "\t7 & 4560-01D & 45.4509 & -73.7843 & 26.37 & 2013-06-06 & 0 \\\\\n",
       "\t8 & 3350-02D & 45.5783 & -73.6585 & 19.3526 & 2015-05-07 & 0 \\\\\n",
       "\t9 & 4530-02D & 45.4408 & -73.7711 & 19.3526 & 2013-07-26 & 0 \\\\\n",
       "\t10 & 4230-06D & 45.6821 & -73.4901 & 8.97 & 2014-08-12 & 0 \\\\\n",
       "\\end{tabular}\n"
      ],
      "text/plain": [
       "10×6 DataFrame\n",
       "│ Row │ ID_OUVRAGE │ TP_LAT  │ TP_LNG   │ TP_Z    │ DATE       │ SURVERSE │\n",
       "│     │ \u001b[90mString\u001b[39m     │ \u001b[90mFloat64\u001b[39m │ \u001b[90mFloat64\u001b[39m  │ \u001b[90mFloat64\u001b[39m │ \u001b[90mDate\u001b[39m       │ \u001b[90mInt64\u001b[39m    │\n",
       "├─────┼────────────┼─────────┼──────────┼─────────┼────────────┼──────────┤\n",
       "│ 1   │ 4610-08D   │ 45.4267 │ -73.8538 │ 19.3526 │ 2017-09-24 │ 0        │\n",
       "│ 2   │ 0801-03D   │ 45.5081 │ -73.5273 │ 11.94   │ 2017-07-17 │ 0        │\n",
       "│ 3   │ 4430-03D   │ 45.4149 │ -73.6303 │ 22.25   │ 2015-09-25 │ 0        │\n",
       "│ 4   │ 4230-01D   │ 45.6621 │ -73.4983 │ 11.79   │ 2018-07-16 │ 0        │\n",
       "│ 5   │ 3310-01D   │ 45.6139 │ -73.6313 │ 19.58   │ 2015-10-06 │ 0        │\n",
       "│ 6   │ 4400-01D   │ 45.4586 │ -73.5621 │ 16.8    │ 2014-06-12 │ 1        │\n",
       "│ 7   │ 4560-01D   │ 45.4509 │ -73.7843 │ 26.37   │ 2013-06-06 │ 0        │\n",
       "│ 8   │ 3350-02D   │ 45.5783 │ -73.6585 │ 19.3526 │ 2015-05-07 │ 0        │\n",
       "│ 9   │ 4530-02D   │ 45.4408 │ -73.7711 │ 19.3526 │ 2013-07-26 │ 0        │\n",
       "│ 10  │ 4230-06D   │ 45.6821 │ -73.4901 │ 8.97    │ 2014-08-12 │ 0        │"
      ]
     },
     "execution_count": 325,
     "metadata": {},
     "output_type": "execute_result"
    }
   ],
   "source": [
    "comb = join(features, surverses, on = :ID_OUVRAGE);\n",
    "first(shuffleDf(comb), 10)"
   ]
  },
  {
   "cell_type": "markdown",
   "metadata": {},
   "source": [
    "### Load precipitation data"
   ]
  },
  {
   "cell_type": "markdown",
   "metadata": {},
   "source": [
    "#### Load and filter months between May & October included"
   ]
  },
  {
   "cell_type": "code",
   "execution_count": 326,
   "metadata": {},
   "outputs": [],
   "source": [
    "precipitation = CSV.read(\"data/precipitations.csv\",missingstring=\"-99999\");\n",
    "rename!(precipitation, Symbol(\"St-Hubert\")=>:StHubert);\n",
    "\n",
    "precipitation = filter(row -> month(row.date) > 4, precipitation);\n",
    "precipitation = filter(row -> month(row.date) < 11, precipitation); "
   ]
  },
  {
   "cell_type": "markdown",
   "metadata": {},
   "source": [
    "#### Replace missing data by 0"
   ]
  },
  {
   "cell_type": "code",
   "execution_count": 327,
   "metadata": {},
   "outputs": [
    {
     "data": {
      "text/html": [
       "<table class=\"data-frame\"><thead><tr><th></th><th>date</th><th>heure</th><th>McTavish</th><th>Bellevue</th><th>Assomption</th><th>Trudeau</th><th>StHubert</th></tr><tr><th></th><th>Date</th><th>Int64</th><th>Int64</th><th>Int64</th><th>Int64</th><th>Int64</th><th>Int64</th></tr></thead><tbody><p>5 rows × 7 columns</p><tr><th>1</th><td>2013-06-01</td><td>19</td><td>0</td><td>0</td><td>0</td><td>0</td><td>0</td></tr><tr><th>2</th><td>2013-08-14</td><td>2</td><td>36</td><td>3</td><td>0</td><td>16</td><td>0</td></tr><tr><th>3</th><td>2014-07-27</td><td>17</td><td>0</td><td>12</td><td>0</td><td>0</td><td>0</td></tr><tr><th>4</th><td>2019-10-08</td><td>17</td><td>0</td><td>0</td><td>0</td><td>0</td><td>0</td></tr><tr><th>5</th><td>2015-09-20</td><td>23</td><td>0</td><td>0</td><td>0</td><td>0</td><td>0</td></tr></tbody></table>"
      ],
      "text/latex": [
       "\\begin{tabular}{r|ccccccc}\n",
       "\t& date & heure & McTavish & Bellevue & Assomption & Trudeau & StHubert\\\\\n",
       "\t\\hline\n",
       "\t& Date & Int64 & Int64 & Int64 & Int64 & Int64 & Int64\\\\\n",
       "\t\\hline\n",
       "\t1 & 2013-06-01 & 19 & 0 & 0 & 0 & 0 & 0 \\\\\n",
       "\t2 & 2013-08-14 & 2 & 36 & 3 & 0 & 16 & 0 \\\\\n",
       "\t3 & 2014-07-27 & 17 & 0 & 12 & 0 & 0 & 0 \\\\\n",
       "\t4 & 2019-10-08 & 17 & 0 & 0 & 0 & 0 & 0 \\\\\n",
       "\t5 & 2015-09-20 & 23 & 0 & 0 & 0 & 0 & 0 \\\\\n",
       "\\end{tabular}\n"
      ],
      "text/plain": [
       "5×7 DataFrame. Omitted printing of 1 columns\n",
       "│ Row │ date       │ heure │ McTavish │ Bellevue │ Assomption │ Trudeau │\n",
       "│     │ \u001b[90mDate\u001b[39m       │ \u001b[90mInt64\u001b[39m │ \u001b[90mInt64\u001b[39m    │ \u001b[90mInt64\u001b[39m    │ \u001b[90mInt64\u001b[39m      │ \u001b[90mInt64\u001b[39m   │\n",
       "├─────┼────────────┼───────┼──────────┼──────────┼────────────┼─────────┤\n",
       "│ 1   │ 2013-06-01 │ 19    │ 0        │ 0        │ 0          │ 0       │\n",
       "│ 2   │ 2013-08-14 │ 2     │ 36       │ 3        │ 0          │ 16      │\n",
       "│ 3   │ 2014-07-27 │ 17    │ 0        │ 12       │ 0          │ 0       │\n",
       "│ 4   │ 2019-10-08 │ 17    │ 0        │ 0        │ 0          │ 0       │\n",
       "│ 5   │ 2015-09-20 │ 23    │ 0        │ 0        │ 0          │ 0       │"
      ]
     },
     "execution_count": 327,
     "metadata": {},
     "output_type": "execute_result"
    }
   ],
   "source": [
    "precipitation[!,:McTavish] = coalesce.(precipitation[:,:McTavish], 0);\n",
    "precipitation[!,:Bellevue] = coalesce.(precipitation[:,:Bellevue], 0);\n",
    "precipitation[!,:Assomption] = coalesce.(precipitation[:,:Assomption], 0);\n",
    "precipitation[!,:Trudeau] = coalesce.(precipitation[:,:Trudeau], 0);\n",
    "precipitation[!,:StHubert] = coalesce.(precipitation[:,:StHubert], 0);\n",
    "\n",
    "first(shuffleDf(precipitation), 5)"
   ]
  },
  {
   "cell_type": "markdown",
   "metadata": {},
   "source": [
    "### Extract features from precipitation"
   ]
  },
  {
   "cell_type": "markdown",
   "metadata": {},
   "source": [
    "#### Sum of precipitation for the day"
   ]
  },
  {
   "cell_type": "code",
   "execution_count": 328,
   "metadata": {
    "scrolled": true
   },
   "outputs": [
    {
     "data": {
      "text/html": [
       "<table class=\"data-frame\"><thead><tr><th></th><th>date</th><th>McTavish</th><th>Bellevue</th><th>Assomption</th><th>Trudeau</th><th>StHubert</th></tr><tr><th></th><th>Date</th><th>Int64</th><th>Int64</th><th>Int64</th><th>Int64</th><th>Int64</th></tr></thead><tbody><p>5 rows × 6 columns</p><tr><th>1</th><td>2014-07-17</td><td>0</td><td>7</td><td>0</td><td>0</td><td>0</td></tr><tr><th>2</th><td>2016-07-03</td><td>2</td><td>0</td><td>20</td><td>13</td><td>0</td></tr><tr><th>3</th><td>2015-08-23</td><td>0</td><td>0</td><td>0</td><td>0</td><td>0</td></tr><tr><th>4</th><td>2019-08-23</td><td>0</td><td>0</td><td>0</td><td>0</td><td>0</td></tr><tr><th>5</th><td>2015-08-30</td><td>0</td><td>0</td><td>0</td><td>0</td><td>0</td></tr></tbody></table>"
      ],
      "text/latex": [
       "\\begin{tabular}{r|cccccc}\n",
       "\t& date & McTavish & Bellevue & Assomption & Trudeau & StHubert\\\\\n",
       "\t\\hline\n",
       "\t& Date & Int64 & Int64 & Int64 & Int64 & Int64\\\\\n",
       "\t\\hline\n",
       "\t1 & 2014-07-17 & 0 & 7 & 0 & 0 & 0 \\\\\n",
       "\t2 & 2016-07-03 & 2 & 0 & 20 & 13 & 0 \\\\\n",
       "\t3 & 2015-08-23 & 0 & 0 & 0 & 0 & 0 \\\\\n",
       "\t4 & 2019-08-23 & 0 & 0 & 0 & 0 & 0 \\\\\n",
       "\t5 & 2015-08-30 & 0 & 0 & 0 & 0 & 0 \\\\\n",
       "\\end{tabular}\n"
      ],
      "text/plain": [
       "5×6 DataFrame\n",
       "│ Row │ date       │ McTavish │ Bellevue │ Assomption │ Trudeau │ StHubert │\n",
       "│     │ \u001b[90mDate\u001b[39m       │ \u001b[90mInt64\u001b[39m    │ \u001b[90mInt64\u001b[39m    │ \u001b[90mInt64\u001b[39m      │ \u001b[90mInt64\u001b[39m   │ \u001b[90mInt64\u001b[39m    │\n",
       "├─────┼────────────┼──────────┼──────────┼────────────┼─────────┼──────────┤\n",
       "│ 1   │ 2014-07-17 │ 0        │ 7        │ 0          │ 0       │ 0        │\n",
       "│ 2   │ 2016-07-03 │ 2        │ 0        │ 20         │ 13      │ 0        │\n",
       "│ 3   │ 2015-08-23 │ 0        │ 0        │ 0          │ 0       │ 0        │\n",
       "│ 4   │ 2019-08-23 │ 0        │ 0        │ 0          │ 0       │ 0        │\n",
       "│ 5   │ 2015-08-30 │ 0        │ 0        │ 0          │ 0       │ 0        │"
      ]
     },
     "execution_count": 328,
     "metadata": {},
     "output_type": "execute_result"
    }
   ],
   "source": [
    "pcp_sum = by(precipitation, :date,  McTavish = :McTavish=>sum, Bellevue = :Bellevue=>sum, \n",
    "   Assomption = :Assomption=>sum, Trudeau = :Trudeau=>sum, StHubert = :StHubert=>sum);\n",
    "first(shuffleDf(pcp_sum), 5)"
   ]
  },
  {
   "cell_type": "markdown",
   "metadata": {},
   "source": [
    "#### Maximum precipitation in an hour for the day"
   ]
  },
  {
   "cell_type": "code",
   "execution_count": 329,
   "metadata": {},
   "outputs": [
    {
     "data": {
      "text/html": [
       "<table class=\"data-frame\"><thead><tr><th></th><th>date</th><th>McTavish</th><th>Bellevue</th><th>Assomption</th><th>Trudeau</th><th>StHubert</th></tr><tr><th></th><th>Date</th><th>Int64</th><th>Int64</th><th>Int64</th><th>Int64</th><th>Int64</th></tr></thead><tbody><p>5 rows × 6 columns</p><tr><th>1</th><td>2018-08-20</td><td>2</td><td>0</td><td>4</td><td>0</td><td>0</td></tr><tr><th>2</th><td>2018-07-06</td><td>32</td><td>0</td><td>31</td><td>0</td><td>25</td></tr><tr><th>3</th><td>2016-06-28</td><td>106</td><td>44</td><td>40</td><td>20</td><td>20</td></tr><tr><th>4</th><td>2018-08-27</td><td>0</td><td>0</td><td>6</td><td>2</td><td>2</td></tr><tr><th>5</th><td>2014-07-17</td><td>0</td><td>7</td><td>0</td><td>0</td><td>0</td></tr></tbody></table>"
      ],
      "text/latex": [
       "\\begin{tabular}{r|cccccc}\n",
       "\t& date & McTavish & Bellevue & Assomption & Trudeau & StHubert\\\\\n",
       "\t\\hline\n",
       "\t& Date & Int64 & Int64 & Int64 & Int64 & Int64\\\\\n",
       "\t\\hline\n",
       "\t1 & 2018-08-20 & 2 & 0 & 4 & 0 & 0 \\\\\n",
       "\t2 & 2018-07-06 & 32 & 0 & 31 & 0 & 25 \\\\\n",
       "\t3 & 2016-06-28 & 106 & 44 & 40 & 20 & 20 \\\\\n",
       "\t4 & 2018-08-27 & 0 & 0 & 6 & 2 & 2 \\\\\n",
       "\t5 & 2014-07-17 & 0 & 7 & 0 & 0 & 0 \\\\\n",
       "\\end{tabular}\n"
      ],
      "text/plain": [
       "5×6 DataFrame\n",
       "│ Row │ date       │ McTavish │ Bellevue │ Assomption │ Trudeau │ StHubert │\n",
       "│     │ \u001b[90mDate\u001b[39m       │ \u001b[90mInt64\u001b[39m    │ \u001b[90mInt64\u001b[39m    │ \u001b[90mInt64\u001b[39m      │ \u001b[90mInt64\u001b[39m   │ \u001b[90mInt64\u001b[39m    │\n",
       "├─────┼────────────┼──────────┼──────────┼────────────┼─────────┼──────────┤\n",
       "│ 1   │ 2018-08-20 │ 2        │ 0        │ 4          │ 0       │ 0        │\n",
       "│ 2   │ 2018-07-06 │ 32       │ 0        │ 31         │ 0       │ 25       │\n",
       "│ 3   │ 2016-06-28 │ 106      │ 44       │ 40         │ 20      │ 20       │\n",
       "│ 4   │ 2018-08-27 │ 0        │ 0        │ 6          │ 2       │ 2        │\n",
       "│ 5   │ 2014-07-17 │ 0        │ 7        │ 0          │ 0       │ 0        │"
      ]
     },
     "execution_count": 329,
     "metadata": {},
     "output_type": "execute_result"
    }
   ],
   "source": [
    "pcp_max = by(precipitation, :date,  McTavish = :McTavish=>maximum, Bellevue = :Bellevue=>maximum, \n",
    "   Assomption = :Assomption=>maximum, Trudeau = :Trudeau=>maximum, StHubert = :StHubert=>maximum)\n",
    "first(shuffleDf(pcp_max),5)"
   ]
  },
  {
   "cell_type": "markdown",
   "metadata": {},
   "source": [
    "#### Maximum precipitation during three consecutive hours in a day"
   ]
  },
  {
   "cell_type": "code",
   "execution_count": 330,
   "metadata": {},
   "outputs": [
    {
     "data": {
      "text/html": [
       "<table class=\"data-frame\"><thead><tr><th></th><th>date</th><th>McTavish</th><th>Bellevue</th><th>Assomption</th><th>Trudeau</th><th>StHubert</th></tr><tr><th></th><th>Date</th><th>Int64</th><th>Int64</th><th>Int64</th><th>Int64</th><th>Int64</th></tr></thead><tbody><p>5 rows × 6 columns</p><tr><th>1</th><td>2013-10-07</td><td>154</td><td>84</td><td>110</td><td>113</td><td>0</td></tr><tr><th>2</th><td>2016-08-29</td><td>0</td><td>0</td><td>0</td><td>0</td><td>0</td></tr><tr><th>3</th><td>2013-10-26</td><td>24</td><td>17</td><td>20</td><td>12</td><td>0</td></tr><tr><th>4</th><td>2015-07-25</td><td>0</td><td>0</td><td>10</td><td>0</td><td>0</td></tr><tr><th>5</th><td>2015-05-01</td><td>0</td><td>0</td><td>0</td><td>0</td><td>0</td></tr></tbody></table>"
      ],
      "text/latex": [
       "\\begin{tabular}{r|cccccc}\n",
       "\t& date & McTavish & Bellevue & Assomption & Trudeau & StHubert\\\\\n",
       "\t\\hline\n",
       "\t& Date & Int64 & Int64 & Int64 & Int64 & Int64\\\\\n",
       "\t\\hline\n",
       "\t1 & 2013-10-07 & 154 & 84 & 110 & 113 & 0 \\\\\n",
       "\t2 & 2016-08-29 & 0 & 0 & 0 & 0 & 0 \\\\\n",
       "\t3 & 2013-10-26 & 24 & 17 & 20 & 12 & 0 \\\\\n",
       "\t4 & 2015-07-25 & 0 & 0 & 10 & 0 & 0 \\\\\n",
       "\t5 & 2015-05-01 & 0 & 0 & 0 & 0 & 0 \\\\\n",
       "\\end{tabular}\n"
      ],
      "text/plain": [
       "5×6 DataFrame\n",
       "│ Row │ date       │ McTavish │ Bellevue │ Assomption │ Trudeau │ StHubert │\n",
       "│     │ \u001b[90mDate\u001b[39m       │ \u001b[90mInt64\u001b[39m    │ \u001b[90mInt64\u001b[39m    │ \u001b[90mInt64\u001b[39m      │ \u001b[90mInt64\u001b[39m   │ \u001b[90mInt64\u001b[39m    │\n",
       "├─────┼────────────┼──────────┼──────────┼────────────┼─────────┼──────────┤\n",
       "│ 1   │ 2013-10-07 │ 154      │ 84       │ 110        │ 113     │ 0        │\n",
       "│ 2   │ 2016-08-29 │ 0        │ 0        │ 0          │ 0       │ 0        │\n",
       "│ 3   │ 2013-10-26 │ 24       │ 17       │ 20         │ 12      │ 0        │\n",
       "│ 4   │ 2015-07-25 │ 0        │ 0        │ 10         │ 0       │ 0        │\n",
       "│ 5   │ 2015-05-01 │ 0        │ 0        │ 0          │ 0       │ 0        │"
      ]
     },
     "execution_count": 330,
     "metadata": {},
     "output_type": "execute_result"
    }
   ],
   "source": [
    "pcp_max3h = by(precipitation, :date,  McTavish = :McTavish=>maximum3, Bellevue = :Bellevue=>maximum3, \n",
    "   Assomption = :Assomption=>maximum3, Trudeau = :Trudeau=>maximum3, StHubert = :StHubert=>maximum3)\n",
    "first(shuffleDf(pcp_max3h),5)"
   ]
  },
  {
   "cell_type": "markdown",
   "metadata": {},
   "source": [
    "### Add precipitation data to features"
   ]
  },
  {
   "cell_type": "markdown",
   "metadata": {},
   "source": [
    "#### Get stations lat-lng"
   ]
  },
  {
   "cell_type": "code",
   "execution_count": 331,
   "metadata": {},
   "outputs": [
    {
     "data": {
      "text/html": [
       "<table class=\"data-frame\"><thead><tr><th></th><th>STATION</th><th>LAT</th><th>LNG</th></tr><tr><th></th><th>String</th><th>Float64</th><th>Float64</th></tr></thead><tbody><p>5 rows × 3 columns</p><tr><th>1</th><td>McTavish</td><td>45.5047</td><td>-73.5792</td></tr><tr><th>2</th><td>Bellevue</td><td>45.4272</td><td>-73.9292</td></tr><tr><th>3</th><td>Assomption</td><td>45.8094</td><td>-73.4347</td></tr><tr><th>4</th><td>Trudeau</td><td>45.4678</td><td>-73.7417</td></tr><tr><th>5</th><td>StHubert</td><td>45.5175</td><td>-73.4169</td></tr></tbody></table>"
      ],
      "text/latex": [
       "\\begin{tabular}{r|ccc}\n",
       "\t& STATION & LAT & LNG\\\\\n",
       "\t\\hline\n",
       "\t& String & Float64 & Float64\\\\\n",
       "\t\\hline\n",
       "\t1 & McTavish & 45.5047 & -73.5792 \\\\\n",
       "\t2 & Bellevue & 45.4272 & -73.9292 \\\\\n",
       "\t3 & Assomption & 45.8094 & -73.4347 \\\\\n",
       "\t4 & Trudeau & 45.4678 & -73.7417 \\\\\n",
       "\t5 & StHubert & 45.5175 & -73.4169 \\\\\n",
       "\\end{tabular}\n"
      ],
      "text/plain": [
       "5×3 DataFrame\n",
       "│ Row │ STATION    │ LAT     │ LNG      │\n",
       "│     │ \u001b[90mString\u001b[39m     │ \u001b[90mFloat64\u001b[39m │ \u001b[90mFloat64\u001b[39m  │\n",
       "├─────┼────────────┼─────────┼──────────┤\n",
       "│ 1   │ McTavish   │ 45.5047 │ -73.5792 │\n",
       "│ 2   │ Bellevue   │ 45.4272 │ -73.9292 │\n",
       "│ 3   │ Assomption │ 45.8094 │ -73.4347 │\n",
       "│ 4   │ Trudeau    │ 45.4678 │ -73.7417 │\n",
       "│ 5   │ StHubert   │ 45.5175 │ -73.4169 │"
      ]
     },
     "execution_count": 331,
     "metadata": {},
     "output_type": "execute_result"
    }
   ],
   "source": [
    "station_df = DataFrame(STATION = String[], LAT = Float64[], LNG = Float64[]);\n",
    "\n",
    "push!(station_df, [\"McTavish\", 45.504742, -73.579167]);\n",
    "push!(station_df, [\"Bellevue\", 45.427222, -73.929167]);\n",
    "push!(station_df, [\"Assomption\", 45.809444, -73.434722]);\n",
    "push!(station_df, [\"Trudeau\", 45.467778, -73.741667]);\n",
    "push!(station_df, [\"StHubert\", 45.5175, -73.416944]);\n",
    "\n",
    "station_df"
   ]
  },
  {
   "cell_type": "markdown",
   "metadata": {},
   "source": [
    "### Normalize elements"
   ]
  },
  {
   "cell_type": "markdown",
   "metadata": {},
   "source": [
    "#### Get extreme values"
   ]
  },
  {
   "cell_type": "code",
   "execution_count": 332,
   "metadata": {},
   "outputs": [],
   "source": [
    "min_lat = min(minimum(comb.TP_LAT), minimum(station_df.LAT));\n",
    "max_lat = max(maximum(comb.TP_LAT), maximum(station_df.LAT));\n",
    "\n",
    "min_lng = min(minimum(comb.TP_LNG), minimum(station_df.LNG));\n",
    "max_lng = max(maximum(comb.TP_LNG), maximum(station_df.LNG));\n",
    "\n",
    "min_z = minimum(comb.TP_Z);\n",
    "max_z = maximum(comb.TP_Z);"
   ]
  },
  {
   "cell_type": "markdown",
   "metadata": {},
   "source": [
    "#### Normalize every value of comb between 0 and 1"
   ]
  },
  {
   "cell_type": "code",
   "execution_count": 333,
   "metadata": {},
   "outputs": [
    {
     "data": {
      "text/html": [
       "<table class=\"data-frame\"><thead><tr><th></th><th>ID_OUVRAGE</th><th>TP_LAT</th><th>TP_LNG</th><th>TP_Z</th><th>DATE</th><th>SURVERSE</th></tr><tr><th></th><th>String</th><th>Float64</th><th>Float64</th><th>Float64</th><th>Date</th><th>Int64</th></tr></thead><tbody><p>10 rows × 6 columns</p><tr><th>1</th><td>3540-01D</td><td>0.18804</td><td>0.152837</td><td>0.359859</td><td>2016-10-07</td><td>0</td></tr><tr><th>2</th><td>4230-06D</td><td>0.687093</td><td>0.864544</td><td>0.0203708</td><td>2016-09-21</td><td>0</td></tr><tr><th>3</th><td>4230-04D</td><td>0.660589</td><td>0.861562</td><td>0.0200438</td><td>2018-08-01</td><td>0</td></tr><tr><th>4</th><td>4430-01D</td><td>0.0736379</td><td>0.682312</td><td>0.360102</td><td>2018-09-07</td><td>0</td></tr><tr><th>5</th><td>3410-02D</td><td>0.319462</td><td>0.483178</td><td>0.359859</td><td>2013-09-28</td><td>0</td></tr><tr><th>6</th><td>3240-02D</td><td>0.64351</td><td>0.734083</td><td>0.0576464</td><td>2018-08-10</td><td>0</td></tr><tr><th>7</th><td>0801-01D</td><td>0.286346</td><td>0.795322</td><td>0.175359</td><td>2014-06-05</td><td>0</td></tr><tr><th>8</th><td>4560-03D</td><td>0.121422</td><td>0.322806</td><td>0.589314</td><td>2017-06-07</td><td>0</td></tr><tr><th>9</th><td>4620-06D</td><td>0.0789395</td><td>0.164927</td><td>0.774384</td><td>2014-06-12</td><td>0</td></tr><tr><th>10</th><td>4420-04D</td><td>0.113083</td><td>0.716985</td><td>0.250237</td><td>2015-05-09</td><td>1</td></tr></tbody></table>"
      ],
      "text/latex": [
       "\\begin{tabular}{r|cccccc}\n",
       "\t& ID\\_OUVRAGE & TP\\_LAT & TP\\_LNG & TP\\_Z & DATE & SURVERSE\\\\\n",
       "\t\\hline\n",
       "\t& String & Float64 & Float64 & Float64 & Date & Int64\\\\\n",
       "\t\\hline\n",
       "\t1 & 3540-01D & 0.18804 & 0.152837 & 0.359859 & 2016-10-07 & 0 \\\\\n",
       "\t2 & 4230-06D & 0.687093 & 0.864544 & 0.0203708 & 2016-09-21 & 0 \\\\\n",
       "\t3 & 4230-04D & 0.660589 & 0.861562 & 0.0200438 & 2018-08-01 & 0 \\\\\n",
       "\t4 & 4430-01D & 0.0736379 & 0.682312 & 0.360102 & 2018-09-07 & 0 \\\\\n",
       "\t5 & 3410-02D & 0.319462 & 0.483178 & 0.359859 & 2013-09-28 & 0 \\\\\n",
       "\t6 & 3240-02D & 0.64351 & 0.734083 & 0.0576464 & 2018-08-10 & 0 \\\\\n",
       "\t7 & 0801-01D & 0.286346 & 0.795322 & 0.175359 & 2014-06-05 & 0 \\\\\n",
       "\t8 & 4560-03D & 0.121422 & 0.322806 & 0.589314 & 2017-06-07 & 0 \\\\\n",
       "\t9 & 4620-06D & 0.0789395 & 0.164927 & 0.774384 & 2014-06-12 & 0 \\\\\n",
       "\t10 & 4420-04D & 0.113083 & 0.716985 & 0.250237 & 2015-05-09 & 1 \\\\\n",
       "\\end{tabular}\n"
      ],
      "text/plain": [
       "10×6 DataFrame\n",
       "│ Row │ ID_OUVRAGE │ TP_LAT    │ TP_LNG   │ TP_Z      │ DATE       │ SURVERSE │\n",
       "│     │ \u001b[90mString\u001b[39m     │ \u001b[90mFloat64\u001b[39m   │ \u001b[90mFloat64\u001b[39m  │ \u001b[90mFloat64\u001b[39m   │ \u001b[90mDate\u001b[39m       │ \u001b[90mInt64\u001b[39m    │\n",
       "├─────┼────────────┼───────────┼──────────┼───────────┼────────────┼──────────┤\n",
       "│ 1   │ 3540-01D   │ 0.18804   │ 0.152837 │ 0.359859  │ 2016-10-07 │ 0        │\n",
       "│ 2   │ 4230-06D   │ 0.687093  │ 0.864544 │ 0.0203708 │ 2016-09-21 │ 0        │\n",
       "│ 3   │ 4230-04D   │ 0.660589  │ 0.861562 │ 0.0200438 │ 2018-08-01 │ 0        │\n",
       "│ 4   │ 4430-01D   │ 0.0736379 │ 0.682312 │ 0.360102  │ 2018-09-07 │ 0        │\n",
       "│ 5   │ 3410-02D   │ 0.319462  │ 0.483178 │ 0.359859  │ 2013-09-28 │ 0        │\n",
       "│ 6   │ 3240-02D   │ 0.64351   │ 0.734083 │ 0.0576464 │ 2018-08-10 │ 0        │\n",
       "│ 7   │ 0801-01D   │ 0.286346  │ 0.795322 │ 0.175359  │ 2014-06-05 │ 0        │\n",
       "│ 8   │ 4560-03D   │ 0.121422  │ 0.322806 │ 0.589314  │ 2017-06-07 │ 0        │\n",
       "│ 9   │ 4620-06D   │ 0.0789395 │ 0.164927 │ 0.774384  │ 2014-06-12 │ 0        │\n",
       "│ 10  │ 4420-04D   │ 0.113083  │ 0.716985 │ 0.250237  │ 2015-05-09 │ 1        │"
      ]
     },
     "execution_count": 333,
     "metadata": {},
     "output_type": "execute_result"
    }
   ],
   "source": [
    "comb.TP_LAT = normalize.(comb.TP_LAT, min_lat, max_lat);\n",
    "comb.TP_LNG = normalize.(comb.TP_LNG, min_lng, max_lng);\n",
    "comb.TP_Z = normalize.(comb.TP_Z, min_z, max_z);\n",
    "\n",
    "first(shuffleDf(comb), 10)"
   ]
  },
  {
   "cell_type": "markdown",
   "metadata": {},
   "source": [
    "#### Normalize every value of station_df between 0 and 1"
   ]
  },
  {
   "cell_type": "code",
   "execution_count": 334,
   "metadata": {},
   "outputs": [
    {
     "data": {
      "text/html": [
       "<table class=\"data-frame\"><thead><tr><th></th><th>STATION</th><th>LAT</th><th>LNG</th></tr><tr><th></th><th>String</th><th>Float64</th><th>Float64</th></tr></thead><tbody><p>5 rows × 3 columns</p><tr><th>1</th><td>McTavish</td><td>0.251316</td><td>0.699536</td></tr><tr><th>2</th><td>Bellevue</td><td>0.0608415</td><td>0.0512791</td></tr><tr><th>3</th><td>Assomption</td><td>1.0</td><td>0.967072</td></tr><tr><th>4</th><td>Trudeau</td><td>0.160492</td><td>0.39856</td></tr><tr><th>5</th><td>StHubert</td><td>0.282664</td><td>1.0</td></tr></tbody></table>"
      ],
      "text/latex": [
       "\\begin{tabular}{r|ccc}\n",
       "\t& STATION & LAT & LNG\\\\\n",
       "\t\\hline\n",
       "\t& String & Float64 & Float64\\\\\n",
       "\t\\hline\n",
       "\t1 & McTavish & 0.251316 & 0.699536 \\\\\n",
       "\t2 & Bellevue & 0.0608415 & 0.0512791 \\\\\n",
       "\t3 & Assomption & 1.0 & 0.967072 \\\\\n",
       "\t4 & Trudeau & 0.160492 & 0.39856 \\\\\n",
       "\t5 & StHubert & 0.282664 & 1.0 \\\\\n",
       "\\end{tabular}\n"
      ],
      "text/plain": [
       "5×3 DataFrame\n",
       "│ Row │ STATION    │ LAT       │ LNG       │\n",
       "│     │ \u001b[90mString\u001b[39m     │ \u001b[90mFloat64\u001b[39m   │ \u001b[90mFloat64\u001b[39m   │\n",
       "├─────┼────────────┼───────────┼───────────┤\n",
       "│ 1   │ McTavish   │ 0.251316  │ 0.699536  │\n",
       "│ 2   │ Bellevue   │ 0.0608415 │ 0.0512791 │\n",
       "│ 3   │ Assomption │ 1.0       │ 0.967072  │\n",
       "│ 4   │ Trudeau    │ 0.160492  │ 0.39856   │\n",
       "│ 5   │ StHubert   │ 0.282664  │ 1.0       │"
      ]
     },
     "execution_count": 334,
     "metadata": {},
     "output_type": "execute_result"
    }
   ],
   "source": [
    "station_df.LAT = normalize.(station_df.LAT, min_lat, max_lat);\n",
    "station_df.LNG = normalize.(station_df.LNG, min_lng, max_lng);\n",
    "\n",
    "station_df"
   ]
  },
  {
   "cell_type": "markdown",
   "metadata": {},
   "source": [
    "### Augment Features"
   ]
  },
  {
   "cell_type": "markdown",
   "metadata": {},
   "source": [
    "#### Add pcp_sum and pcp_max columns"
   ]
  },
  {
   "cell_type": "code",
   "execution_count": 348,
   "metadata": {},
   "outputs": [],
   "source": [
    "comb.PCP_SUM = zeros(size(comb, 1));\n",
    "comb.PCP_MAX = zeros(size(comb, 1));\n",
    "comb.PCP_MAX3 = zeros(size(comb, 1));\n",
    "permutecols!(comb, [:ID_OUVRAGE, :TP_LAT, :TP_LNG, :TP_Z, :DATE, :PCP_SUM, :PCP_MAX, :PCP_MAX3, :SURVERSE]);"
   ]
  },
  {
   "cell_type": "code",
   "execution_count": 349,
   "metadata": {},
   "outputs": [
    {
     "data": {
      "text/html": [
       "<table class=\"data-frame\"><thead><tr><th></th><th>ID_OUVRAGE</th><th>TP_LAT</th><th>TP_LNG</th><th>TP_Z</th><th>DATE</th><th>PCP_SUM</th><th>PCP_MAX</th><th>PCP_MAX3</th></tr><tr><th></th><th>String</th><th>Float64</th><th>Float64</th><th>Float64</th><th>Date</th><th>Float64</th><th>Float64</th><th>Float64</th></tr></thead><tbody><p>10 rows × 9 columns (omitted printing of 1 columns)</p><tr><th>1</th><td>3260-01D</td><td>0.609996</td><td>0.697487</td><td>0.386587</td><td>2015-06-09</td><td>0.0</td><td>0.0</td><td>0.0</td></tr><tr><th>2</th><td>4230-06D</td><td>0.687093</td><td>0.864544</td><td>0.0203708</td><td>2015-07-15</td><td>0.0</td><td>0.0</td><td>0.0</td></tr><tr><th>3</th><td>0672-01D</td><td>0.687609</td><td>0.788765</td><td>0.0252755</td><td>2013-06-15</td><td>0.0</td><td>0.0</td><td>0.0</td></tr><tr><th>4</th><td>3370-01D</td><td>0.400013</td><td>0.544048</td><td>0.322499</td><td>2013-09-16</td><td>0.0</td><td>0.0</td><td>0.0</td></tr><tr><th>5</th><td>3350-11D</td><td>0.320282</td><td>0.463777</td><td>0.553674</td><td>2015-07-09</td><td>0.0</td><td>0.0</td><td>0.0</td></tr><tr><th>6</th><td>0801-04D</td><td>0.246824</td><td>0.802071</td><td>0.131217</td><td>2018-09-06</td><td>0.0</td><td>0.0</td><td>0.0</td></tr><tr><th>7</th><td>4265-01D</td><td>0.549187</td><td>0.847845</td><td>0.112252</td><td>2018-05-01</td><td>0.0</td><td>0.0</td><td>0.0</td></tr><tr><th>8</th><td>3580-01D</td><td>0.0148256</td><td>0.0</td><td>0.560213</td><td>2013-05-08</td><td>0.0</td><td>0.0</td><td>0.0</td></tr><tr><th>9</th><td>3275-02D</td><td>0.5763</td><td>0.647929</td><td>0.202171</td><td>2017-06-09</td><td>0.0</td><td>0.0</td><td>0.0</td></tr><tr><th>10</th><td>4290-01D</td><td>0.447648</td><td>0.831152</td><td>0.115849</td><td>2017-05-10</td><td>0.0</td><td>0.0</td><td>0.0</td></tr></tbody></table>"
      ],
      "text/latex": [
       "\\begin{tabular}{r|ccccccccc}\n",
       "\t& ID\\_OUVRAGE & TP\\_LAT & TP\\_LNG & TP\\_Z & DATE & PCP\\_SUM & PCP\\_MAX & PCP\\_MAX3 & \\\\\n",
       "\t\\hline\n",
       "\t& String & Float64 & Float64 & Float64 & Date & Float64 & Float64 & Float64 & \\\\\n",
       "\t\\hline\n",
       "\t1 & 3260-01D & 0.609996 & 0.697487 & 0.386587 & 2015-06-09 & 0.0 & 0.0 & 0.0 & $\\dots$ \\\\\n",
       "\t2 & 4230-06D & 0.687093 & 0.864544 & 0.0203708 & 2015-07-15 & 0.0 & 0.0 & 0.0 & $\\dots$ \\\\\n",
       "\t3 & 0672-01D & 0.687609 & 0.788765 & 0.0252755 & 2013-06-15 & 0.0 & 0.0 & 0.0 & $\\dots$ \\\\\n",
       "\t4 & 3370-01D & 0.400013 & 0.544048 & 0.322499 & 2013-09-16 & 0.0 & 0.0 & 0.0 & $\\dots$ \\\\\n",
       "\t5 & 3350-11D & 0.320282 & 0.463777 & 0.553674 & 2015-07-09 & 0.0 & 0.0 & 0.0 & $\\dots$ \\\\\n",
       "\t6 & 0801-04D & 0.246824 & 0.802071 & 0.131217 & 2018-09-06 & 0.0 & 0.0 & 0.0 & $\\dots$ \\\\\n",
       "\t7 & 4265-01D & 0.549187 & 0.847845 & 0.112252 & 2018-05-01 & 0.0 & 0.0 & 0.0 & $\\dots$ \\\\\n",
       "\t8 & 3580-01D & 0.0148256 & 0.0 & 0.560213 & 2013-05-08 & 0.0 & 0.0 & 0.0 & $\\dots$ \\\\\n",
       "\t9 & 3275-02D & 0.5763 & 0.647929 & 0.202171 & 2017-06-09 & 0.0 & 0.0 & 0.0 & $\\dots$ \\\\\n",
       "\t10 & 4290-01D & 0.447648 & 0.831152 & 0.115849 & 2017-05-10 & 0.0 & 0.0 & 0.0 & $\\dots$ \\\\\n",
       "\\end{tabular}\n"
      ],
      "text/plain": [
       "10×9 DataFrame. Omitted printing of 3 columns\n",
       "│ Row │ ID_OUVRAGE │ TP_LAT    │ TP_LNG   │ TP_Z      │ DATE       │ PCP_SUM │\n",
       "│     │ \u001b[90mString\u001b[39m     │ \u001b[90mFloat64\u001b[39m   │ \u001b[90mFloat64\u001b[39m  │ \u001b[90mFloat64\u001b[39m   │ \u001b[90mDate\u001b[39m       │ \u001b[90mFloat64\u001b[39m │\n",
       "├─────┼────────────┼───────────┼──────────┼───────────┼────────────┼─────────┤\n",
       "│ 1   │ 3260-01D   │ 0.609996  │ 0.697487 │ 0.386587  │ 2015-06-09 │ 0.0     │\n",
       "│ 2   │ 4230-06D   │ 0.687093  │ 0.864544 │ 0.0203708 │ 2015-07-15 │ 0.0     │\n",
       "│ 3   │ 0672-01D   │ 0.687609  │ 0.788765 │ 0.0252755 │ 2013-06-15 │ 0.0     │\n",
       "│ 4   │ 3370-01D   │ 0.400013  │ 0.544048 │ 0.322499  │ 2013-09-16 │ 0.0     │\n",
       "│ 5   │ 3350-11D   │ 0.320282  │ 0.463777 │ 0.553674  │ 2015-07-09 │ 0.0     │\n",
       "│ 6   │ 0801-04D   │ 0.246824  │ 0.802071 │ 0.131217  │ 2018-09-06 │ 0.0     │\n",
       "│ 7   │ 4265-01D   │ 0.549187  │ 0.847845 │ 0.112252  │ 2018-05-01 │ 0.0     │\n",
       "│ 8   │ 3580-01D   │ 0.0148256 │ 0.0      │ 0.560213  │ 2013-05-08 │ 0.0     │\n",
       "│ 9   │ 3275-02D   │ 0.5763    │ 0.647929 │ 0.202171  │ 2017-06-09 │ 0.0     │\n",
       "│ 10  │ 4290-01D   │ 0.447648  │ 0.831152 │ 0.115849  │ 2017-05-10 │ 0.0     │"
      ]
     },
     "execution_count": 349,
     "metadata": {},
     "output_type": "execute_result"
    }
   ],
   "source": [
    "first(shuffleDf(comb), 10)"
   ]
  },
  {
   "cell_type": "markdown",
   "metadata": {},
   "source": [
    "#### Find closest station to each ouvrage and add pcp_sum and pcp_max to it"
   ]
  },
  {
   "cell_type": "code",
   "execution_count": 350,
   "metadata": {},
   "outputs": [],
   "source": [
    "for i=1:size(comb, 1)\n",
    "    id_ouvrage = comb[i, 1]; \n",
    "    closest_station = \"McTavish\"; # initial value\n",
    "    shortest_dist = -1;\n",
    "    \n",
    "    # Find closest station\n",
    "    for j=1:size(station_df, 1)\n",
    "        dist = findDistance(comb[i, :TP_LAT], comb[i, :TP_LNG], station_df[j, :LAT], station_df[j, :LNG]);\n",
    "        \n",
    "        if shortest_dist == -1 || dist < shortest_dist\n",
    "            shortest_dist = dist;\n",
    "            closest_station = station_df[j, :STATION];\n",
    "        end\n",
    "    end\n",
    "    \n",
    "    # Augment comb with a weighted p_sum, based on the distance to the station\n",
    "    p_sum = pcp_sum[∈([comb[i, :DATE]]).(pcp_sum.date), Symbol(closest_station)];\n",
    "    comb[i, :PCP_SUM] = p_sum[1] * (1 - shortest_dist); \n",
    "    # Augment comb with a weighted p_max, based on the distance to the station\n",
    "    p_max = pcp_max[∈([comb[i, :DATE]]).(pcp_max.date), Symbol(closest_station)]\n",
    "    comb[i, :PCP_MAX] = p_max[1] * (1 - shortest_dist);\n",
    "    # Augment comb with a weighted p_max3h, based on the distance to the station\n",
    "    p_max3 = pcp_max3h[∈([comb[i, :DATE]]).(pcp_max3h.date), Symbol(closest_station)]\n",
    "    comb[i, :PCP_MAX3] = p_max3[1] * (1 - shortest_dist);\n",
    "end"
   ]
  },
  {
   "cell_type": "markdown",
   "metadata": {},
   "source": [
    "### TODO: Remove outlier in PCP_SUM and PCP_MAX AND PCP_MAX3 that cause compression"
   ]
  },
  {
   "cell_type": "code",
   "execution_count": 351,
   "metadata": {},
   "outputs": [
    {
     "name": "stderr",
     "output_type": "stream",
     "text": [
      "┌ Warning: `getindex(df::DataFrame, col_ind::ColumnIndex)` is deprecated, use `df[!, col_ind]` instead.\n",
      "│   caller = top-level scope at In[351]:1\n",
      "└ @ Core In[351]:1\n",
      "┌ Warning: `getindex(df::DataFrame, col_ind::ColumnIndex)` is deprecated, use `df[!, col_ind]` instead.\n",
      "│   caller = top-level scope at In[351]:2\n",
      "└ @ Core In[351]:2\n",
      "┌ Warning: `getindex(df::DataFrame, col_ind::ColumnIndex)` is deprecated, use `df[!, col_ind]` instead.\n",
      "│   caller = top-level scope at In[351]:3\n",
      "└ @ Core In[351]:3\n"
     ]
    }
   ],
   "source": [
    "comb[comb[:PCP_SUM] .> 750, :PCP_SUM] = 750;\n",
    "comb[comb[:PCP_MAX] .> 500, :PCP_MAX] = 500;\n",
    "comb[comb[:PCP_MAX3] .> 750, :PCP_MAX3] = 750;"
   ]
  },
  {
   "cell_type": "code",
   "execution_count": 352,
   "metadata": {},
   "outputs": [
    {
     "data": {
      "text/html": [
       "<table class=\"data-frame\"><thead><tr><th></th><th>ID_OUVRAGE</th><th>TP_LAT</th><th>TP_LNG</th><th>TP_Z</th><th>DATE</th><th>PCP_SUM</th><th>PCP_MAX</th><th>PCP_MAX3</th></tr><tr><th></th><th>String</th><th>Float64</th><th>Float64</th><th>Float64</th><th>Date</th><th>Float64</th><th>Float64</th><th>Float64</th></tr></thead><tbody><p>10 rows × 9 columns (omitted printing of 1 columns)</p><tr><th>1</th><td>4340-01D</td><td>0.304064</td><td>0.76384</td><td>0.359121</td><td>2017-08-04</td><td>135.691</td><td>91.683</td><td>102.685</td></tr><tr><th>2</th><td>4430-05D</td><td>0.0529114</td><td>0.554875</td><td>0.729588</td><td>2015-06-12</td><td>85.8857</td><td>24.3073</td><td>42.9428</td></tr><tr><th>3</th><td>4320-01D</td><td>0.359606</td><td>0.789317</td><td>0.174378</td><td>2016-10-21</td><td>415.917</td><td>54.138</td><td>128.9</td></tr><tr><th>4</th><td>3310-01D</td><td>0.51946</td><td>0.602926</td><td>0.367296</td><td>2016-08-13</td><td>187.325</td><td>63.6335</td><td>82.223</td></tr><tr><th>5</th><td>3350-11D</td><td>0.320282</td><td>0.463777</td><td>0.553674</td><td>2016-06-28</td><td>64.5382</td><td>16.5483</td><td>30.6143</td></tr><tr><th>6</th><td>4230-02D</td><td>0.655557</td><td>0.861448</td><td>0.0216787</td><td>2016-08-13</td><td>300.671</td><td>208.551</td><td>275.082</td></tr><tr><th>7</th><td>3350-09D</td><td>0.330728</td><td>0.451592</td><td>0.502665</td><td>2017-10-29</td><td>183.238</td><td>36.1546</td><td>78.8827</td></tr><tr><th>8</th><td>3410-02D</td><td>0.319462</td><td>0.483178</td><td>0.359859</td><td>2013-09-12</td><td>262.372</td><td>63.9531</td><td>100.849</td></tr><tr><th>9</th><td>4420-04D</td><td>0.113083</td><td>0.716985</td><td>0.250237</td><td>2017-07-08</td><td>281.439</td><td>189.347</td><td>229.799</td></tr><tr><th>10</th><td>3410-02D</td><td>0.319462</td><td>0.483178</td><td>0.359859</td><td>2016-08-14</td><td>182.84</td><td>44.2752</td><td>114.788</td></tr></tbody></table>"
      ],
      "text/latex": [
       "\\begin{tabular}{r|ccccccccc}\n",
       "\t& ID\\_OUVRAGE & TP\\_LAT & TP\\_LNG & TP\\_Z & DATE & PCP\\_SUM & PCP\\_MAX & PCP\\_MAX3 & \\\\\n",
       "\t\\hline\n",
       "\t& String & Float64 & Float64 & Float64 & Date & Float64 & Float64 & Float64 & \\\\\n",
       "\t\\hline\n",
       "\t1 & 4340-01D & 0.304064 & 0.76384 & 0.359121 & 2017-08-04 & 135.691 & 91.683 & 102.685 & $\\dots$ \\\\\n",
       "\t2 & 4430-05D & 0.0529114 & 0.554875 & 0.729588 & 2015-06-12 & 85.8857 & 24.3073 & 42.9428 & $\\dots$ \\\\\n",
       "\t3 & 4320-01D & 0.359606 & 0.789317 & 0.174378 & 2016-10-21 & 415.917 & 54.138 & 128.9 & $\\dots$ \\\\\n",
       "\t4 & 3310-01D & 0.51946 & 0.602926 & 0.367296 & 2016-08-13 & 187.325 & 63.6335 & 82.223 & $\\dots$ \\\\\n",
       "\t5 & 3350-11D & 0.320282 & 0.463777 & 0.553674 & 2016-06-28 & 64.5382 & 16.5483 & 30.6143 & $\\dots$ \\\\\n",
       "\t6 & 4230-02D & 0.655557 & 0.861448 & 0.0216787 & 2016-08-13 & 300.671 & 208.551 & 275.082 & $\\dots$ \\\\\n",
       "\t7 & 3350-09D & 0.330728 & 0.451592 & 0.502665 & 2017-10-29 & 183.238 & 36.1546 & 78.8827 & $\\dots$ \\\\\n",
       "\t8 & 3410-02D & 0.319462 & 0.483178 & 0.359859 & 2013-09-12 & 262.372 & 63.9531 & 100.849 & $\\dots$ \\\\\n",
       "\t9 & 4420-04D & 0.113083 & 0.716985 & 0.250237 & 2017-07-08 & 281.439 & 189.347 & 229.799 & $\\dots$ \\\\\n",
       "\t10 & 3410-02D & 0.319462 & 0.483178 & 0.359859 & 2016-08-14 & 182.84 & 44.2752 & 114.788 & $\\dots$ \\\\\n",
       "\\end{tabular}\n"
      ],
      "text/plain": [
       "10×9 DataFrame. Omitted printing of 3 columns\n",
       "│ Row │ ID_OUVRAGE │ TP_LAT    │ TP_LNG   │ TP_Z      │ DATE       │ PCP_SUM │\n",
       "│     │ \u001b[90mString\u001b[39m     │ \u001b[90mFloat64\u001b[39m   │ \u001b[90mFloat64\u001b[39m  │ \u001b[90mFloat64\u001b[39m   │ \u001b[90mDate\u001b[39m       │ \u001b[90mFloat64\u001b[39m │\n",
       "├─────┼────────────┼───────────┼──────────┼───────────┼────────────┼─────────┤\n",
       "│ 1   │ 4340-01D   │ 0.304064  │ 0.76384  │ 0.359121  │ 2017-08-04 │ 135.691 │\n",
       "│ 2   │ 4430-05D   │ 0.0529114 │ 0.554875 │ 0.729588  │ 2015-06-12 │ 85.8857 │\n",
       "│ 3   │ 4320-01D   │ 0.359606  │ 0.789317 │ 0.174378  │ 2016-10-21 │ 415.917 │\n",
       "│ 4   │ 3310-01D   │ 0.51946   │ 0.602926 │ 0.367296  │ 2016-08-13 │ 187.325 │\n",
       "│ 5   │ 3350-11D   │ 0.320282  │ 0.463777 │ 0.553674  │ 2016-06-28 │ 64.5382 │\n",
       "│ 6   │ 4230-02D   │ 0.655557  │ 0.861448 │ 0.0216787 │ 2016-08-13 │ 300.671 │\n",
       "│ 7   │ 3350-09D   │ 0.330728  │ 0.451592 │ 0.502665  │ 2017-10-29 │ 183.238 │\n",
       "│ 8   │ 3410-02D   │ 0.319462  │ 0.483178 │ 0.359859  │ 2013-09-12 │ 262.372 │\n",
       "│ 9   │ 4420-04D   │ 0.113083  │ 0.716985 │ 0.250237  │ 2017-07-08 │ 281.439 │\n",
       "│ 10  │ 3410-02D   │ 0.319462  │ 0.483178 │ 0.359859  │ 2016-08-14 │ 182.84  │"
      ]
     },
     "execution_count": 352,
     "metadata": {},
     "output_type": "execute_result"
    }
   ],
   "source": [
    "first(shuffleDf(filter(row -> row.SURVERSE == 1, comb)), 10)"
   ]
  },
  {
   "cell_type": "markdown",
   "metadata": {},
   "source": [
    "#### Normalize pcp_sum and pcp_max and pcp_max3"
   ]
  },
  {
   "cell_type": "code",
   "execution_count": 353,
   "metadata": {},
   "outputs": [],
   "source": [
    "min_pcp_sum = minimum(comb.PCP_SUM);\n",
    "max_pcp_sum = maximum(comb.PCP_SUM);\n",
    "\n",
    "min_pcp_max = minimum(comb.PCP_MAX);\n",
    "max_pcp_max = maximum(comb.PCP_MAX);\n",
    "\n",
    "min_pcp_max3 = minimum(comb.PCP_MAX3);\n",
    "max_pcp_max3 = maximum(comb.PCP_MAX3);"
   ]
  },
  {
   "cell_type": "code",
   "execution_count": 354,
   "metadata": {},
   "outputs": [],
   "source": [
    "comb.PCP_SUM = normalize.(comb.PCP_SUM, min_pcp_sum, max_pcp_sum);\n",
    "comb.PCP_MAX = normalize.(comb.PCP_MAX, min_pcp_max, max_pcp_max);\n",
    "comb.PCP_MAX3 = normalize.(comb.PCP_MAX3, min_pcp_max3, max_pcp_max3);"
   ]
  },
  {
   "cell_type": "code",
   "execution_count": 355,
   "metadata": {
    "scrolled": true
   },
   "outputs": [
    {
     "data": {
      "text/html": [
       "<table class=\"data-frame\"><thead><tr><th></th><th>ID_OUVRAGE</th><th>TP_LAT</th><th>TP_LNG</th><th>TP_Z</th><th>DATE</th><th>PCP_SUM</th><th>PCP_MAX</th><th>PCP_MAX3</th></tr><tr><th></th><th>String</th><th>Float64</th><th>Float64</th><th>Float64</th><th>Date</th><th>Float64</th><th>Float64</th><th>Float64</th></tr></thead><tbody><p>10 rows × 9 columns (omitted printing of 1 columns)</p><tr><th>1</th><td>4230-09D</td><td>0.728544</td><td>0.88331</td><td>0.0</td><td>2014-05-27</td><td>0.162274</td><td>0.0572732</td><td>0.0572732</td></tr><tr><th>2</th><td>3400-01D</td><td>0.346518</td><td>0.521076</td><td>0.578524</td><td>2013-05-29</td><td>0.155292</td><td>0.11966</td><td>0.109555</td></tr><tr><th>3</th><td>4430-04D</td><td>0.0424383</td><td>0.570669</td><td>0.758362</td><td>2017-08-04</td><td>0.322848</td><td>0.441542</td><td>0.299637</td></tr><tr><th>4</th><td>4290-01D</td><td>0.447648</td><td>0.831152</td><td>0.115849</td><td>2015-07-01</td><td>0.332054</td><td>0.142091</td><td>0.17112</td></tr><tr><th>5</th><td>3280-02D</td><td>0.519128</td><td>0.661874</td><td>0.754112</td><td>2018-09-21</td><td>0.353104</td><td>0.26118</td><td>0.197466</td></tr><tr><th>6</th><td>3310-01D</td><td>0.51946</td><td>0.602926</td><td>0.367296</td><td>2017-10-04</td><td>0.070545</td><td>0.0586286</td><td>0.0629185</td></tr><tr><th>7</th><td>4370-03D</td><td>0.0842328</td><td>0.458181</td><td>0.584737</td><td>2013-10-17</td><td>0.136082</td><td>0.0957393</td><td>0.131265</td></tr><tr><th>8</th><td>3310-01D</td><td>0.51946</td><td>0.602926</td><td>0.367296</td><td>2016-06-29</td><td>0.0200195</td><td>0.0214495</td><td>0.0200195</td></tr><tr><th>9</th><td>4400-02D</td><td>0.118583</td><td>0.711983</td><td>0.255796</td><td>2016-10-16</td><td>0.145603</td><td>0.0762682</td><td>0.0704903</td></tr><tr><th>10</th><td>4370-01D</td><td>0.16919</td><td>0.735733</td><td>0.359859</td><td>2017-08-04</td><td>0.179623</td><td>0.18205</td><td>0.135931</td></tr></tbody></table>"
      ],
      "text/latex": [
       "\\begin{tabular}{r|ccccccccc}\n",
       "\t& ID\\_OUVRAGE & TP\\_LAT & TP\\_LNG & TP\\_Z & DATE & PCP\\_SUM & PCP\\_MAX & PCP\\_MAX3 & \\\\\n",
       "\t\\hline\n",
       "\t& String & Float64 & Float64 & Float64 & Date & Float64 & Float64 & Float64 & \\\\\n",
       "\t\\hline\n",
       "\t1 & 4230-09D & 0.728544 & 0.88331 & 0.0 & 2014-05-27 & 0.162274 & 0.0572732 & 0.0572732 & $\\dots$ \\\\\n",
       "\t2 & 3400-01D & 0.346518 & 0.521076 & 0.578524 & 2013-05-29 & 0.155292 & 0.11966 & 0.109555 & $\\dots$ \\\\\n",
       "\t3 & 4430-04D & 0.0424383 & 0.570669 & 0.758362 & 2017-08-04 & 0.322848 & 0.441542 & 0.299637 & $\\dots$ \\\\\n",
       "\t4 & 4290-01D & 0.447648 & 0.831152 & 0.115849 & 2015-07-01 & 0.332054 & 0.142091 & 0.17112 & $\\dots$ \\\\\n",
       "\t5 & 3280-02D & 0.519128 & 0.661874 & 0.754112 & 2018-09-21 & 0.353104 & 0.26118 & 0.197466 & $\\dots$ \\\\\n",
       "\t6 & 3310-01D & 0.51946 & 0.602926 & 0.367296 & 2017-10-04 & 0.070545 & 0.0586286 & 0.0629185 & $\\dots$ \\\\\n",
       "\t7 & 4370-03D & 0.0842328 & 0.458181 & 0.584737 & 2013-10-17 & 0.136082 & 0.0957393 & 0.131265 & $\\dots$ \\\\\n",
       "\t8 & 3310-01D & 0.51946 & 0.602926 & 0.367296 & 2016-06-29 & 0.0200195 & 0.0214495 & 0.0200195 & $\\dots$ \\\\\n",
       "\t9 & 4400-02D & 0.118583 & 0.711983 & 0.255796 & 2016-10-16 & 0.145603 & 0.0762682 & 0.0704903 & $\\dots$ \\\\\n",
       "\t10 & 4370-01D & 0.16919 & 0.735733 & 0.359859 & 2017-08-04 & 0.179623 & 0.18205 & 0.135931 & $\\dots$ \\\\\n",
       "\\end{tabular}\n"
      ],
      "text/plain": [
       "10×9 DataFrame. Omitted printing of 3 columns\n",
       "│ Row │ ID_OUVRAGE │ TP_LAT    │ TP_LNG   │ TP_Z     │ DATE       │ PCP_SUM   │\n",
       "│     │ \u001b[90mString\u001b[39m     │ \u001b[90mFloat64\u001b[39m   │ \u001b[90mFloat64\u001b[39m  │ \u001b[90mFloat64\u001b[39m  │ \u001b[90mDate\u001b[39m       │ \u001b[90mFloat64\u001b[39m   │\n",
       "├─────┼────────────┼───────────┼──────────┼──────────┼────────────┼───────────┤\n",
       "│ 1   │ 4230-09D   │ 0.728544  │ 0.88331  │ 0.0      │ 2014-05-27 │ 0.162274  │\n",
       "│ 2   │ 3400-01D   │ 0.346518  │ 0.521076 │ 0.578524 │ 2013-05-29 │ 0.155292  │\n",
       "│ 3   │ 4430-04D   │ 0.0424383 │ 0.570669 │ 0.758362 │ 2017-08-04 │ 0.322848  │\n",
       "│ 4   │ 4290-01D   │ 0.447648  │ 0.831152 │ 0.115849 │ 2015-07-01 │ 0.332054  │\n",
       "│ 5   │ 3280-02D   │ 0.519128  │ 0.661874 │ 0.754112 │ 2018-09-21 │ 0.353104  │\n",
       "│ 6   │ 3310-01D   │ 0.51946   │ 0.602926 │ 0.367296 │ 2017-10-04 │ 0.070545  │\n",
       "│ 7   │ 4370-03D   │ 0.0842328 │ 0.458181 │ 0.584737 │ 2013-10-17 │ 0.136082  │\n",
       "│ 8   │ 3310-01D   │ 0.51946   │ 0.602926 │ 0.367296 │ 2016-06-29 │ 0.0200195 │\n",
       "│ 9   │ 4400-02D   │ 0.118583  │ 0.711983 │ 0.255796 │ 2016-10-16 │ 0.145603  │\n",
       "│ 10  │ 4370-01D   │ 0.16919   │ 0.735733 │ 0.359859 │ 2017-08-04 │ 0.179623  │"
      ]
     },
     "execution_count": 355,
     "metadata": {},
     "output_type": "execute_result"
    }
   ],
   "source": [
    "first(shuffleDf(filter(row -> row.SURVERSE == 1, comb)), 10)"
   ]
  },
  {
   "cell_type": "markdown",
   "metadata": {},
   "source": [
    "### Split dates into months and days"
   ]
  },
  {
   "cell_type": "code",
   "execution_count": 363,
   "metadata": {},
   "outputs": [
    {
     "data": {
      "text/html": [
       "<table class=\"data-frame\"><thead><tr><th></th><th>DATE</th><th>MONTH</th><th>DAY</th></tr><tr><th></th><th>Date</th><th>Int64</th><th>Int64</th></tr></thead><tbody><p>5 rows × 3 columns</p><tr><th>1</th><td>2014-07-10</td><td>7</td><td>10</td></tr><tr><th>2</th><td>2017-10-01</td><td>10</td><td>1</td></tr><tr><th>3</th><td>2015-05-15</td><td>5</td><td>15</td></tr><tr><th>4</th><td>2014-09-22</td><td>9</td><td>22</td></tr><tr><th>5</th><td>2015-10-15</td><td>10</td><td>15</td></tr></tbody></table>"
      ],
      "text/latex": [
       "\\begin{tabular}{r|ccc}\n",
       "\t& DATE & MONTH & DAY\\\\\n",
       "\t\\hline\n",
       "\t& Date & Int64 & Int64\\\\\n",
       "\t\\hline\n",
       "\t1 & 2014-07-10 & 7 & 10 \\\\\n",
       "\t2 & 2017-10-01 & 10 & 1 \\\\\n",
       "\t3 & 2015-05-15 & 5 & 15 \\\\\n",
       "\t4 & 2014-09-22 & 9 & 22 \\\\\n",
       "\t5 & 2015-10-15 & 10 & 15 \\\\\n",
       "\\end{tabular}\n"
      ],
      "text/plain": [
       "5×3 DataFrame\n",
       "│ Row │ DATE       │ MONTH │ DAY   │\n",
       "│     │ \u001b[90mDate\u001b[39m       │ \u001b[90mInt64\u001b[39m │ \u001b[90mInt64\u001b[39m │\n",
       "├─────┼────────────┼───────┼───────┤\n",
       "│ 1   │ 2014-07-10 │ 7     │ 10    │\n",
       "│ 2   │ 2017-10-01 │ 10    │ 1     │\n",
       "│ 3   │ 2015-05-15 │ 5     │ 15    │\n",
       "│ 4   │ 2014-09-22 │ 9     │ 22    │\n",
       "│ 5   │ 2015-10-15 │ 10    │ 15    │"
      ]
     },
     "execution_count": 363,
     "metadata": {},
     "output_type": "execute_result"
    }
   ],
   "source": [
    "comb.MONTH = month.(comb.DATE);\n",
    "comb.DAY = day.(comb.DATE);\n",
    "first(shuffleDf(comb[!, [:DATE, :MONTH, :DAY]]), 5)"
   ]
  },
  {
   "cell_type": "markdown",
   "metadata": {},
   "source": [
    "#### Normalize the months and days"
   ]
  },
  {
   "cell_type": "code",
   "execution_count": 364,
   "metadata": {},
   "outputs": [
    {
     "data": {
      "text/html": [
       "<table class=\"data-frame\"><thead><tr><th></th><th>DATE</th><th>MONTH</th><th>DAY</th></tr><tr><th></th><th>Date</th><th>Float64</th><th>Float64</th></tr></thead><tbody><p>5 rows × 3 columns</p><tr><th>1</th><td>2014-10-06</td><td>1.0</td><td>0.166667</td></tr><tr><th>2</th><td>2013-06-20</td><td>0.2</td><td>0.633333</td></tr><tr><th>3</th><td>2013-07-31</td><td>0.4</td><td>1.0</td></tr><tr><th>4</th><td>2018-09-03</td><td>0.8</td><td>0.0666667</td></tr><tr><th>5</th><td>2015-09-21</td><td>0.8</td><td>0.666667</td></tr></tbody></table>"
      ],
      "text/latex": [
       "\\begin{tabular}{r|ccc}\n",
       "\t& DATE & MONTH & DAY\\\\\n",
       "\t\\hline\n",
       "\t& Date & Float64 & Float64\\\\\n",
       "\t\\hline\n",
       "\t1 & 2014-10-06 & 1.0 & 0.166667 \\\\\n",
       "\t2 & 2013-06-20 & 0.2 & 0.633333 \\\\\n",
       "\t3 & 2013-07-31 & 0.4 & 1.0 \\\\\n",
       "\t4 & 2018-09-03 & 0.8 & 0.0666667 \\\\\n",
       "\t5 & 2015-09-21 & 0.8 & 0.666667 \\\\\n",
       "\\end{tabular}\n"
      ],
      "text/plain": [
       "5×3 DataFrame\n",
       "│ Row │ DATE       │ MONTH   │ DAY       │\n",
       "│     │ \u001b[90mDate\u001b[39m       │ \u001b[90mFloat64\u001b[39m │ \u001b[90mFloat64\u001b[39m   │\n",
       "├─────┼────────────┼─────────┼───────────┤\n",
       "│ 1   │ 2014-10-06 │ 1.0     │ 0.166667  │\n",
       "│ 2   │ 2013-06-20 │ 0.2     │ 0.633333  │\n",
       "│ 3   │ 2013-07-31 │ 0.4     │ 1.0       │\n",
       "│ 4   │ 2018-09-03 │ 0.8     │ 0.0666667 │\n",
       "│ 5   │ 2015-09-21 │ 0.8     │ 0.666667  │"
      ]
     },
     "execution_count": 364,
     "metadata": {},
     "output_type": "execute_result"
    }
   ],
   "source": [
    "comb.MONTH = normalize.(comb.MONTH, 5, 10);\n",
    "comb.DAY = normalize.(comb.DAY, 1, 31);\n",
    "first(shuffleDf(comb[!, [:DATE, :MONTH, :DAY]]), 5)"
   ]
  },
  {
   "cell_type": "markdown",
   "metadata": {},
   "source": [
    "# Validate model"
   ]
  },
  {
   "cell_type": "markdown",
   "metadata": {},
   "source": [
    "### Split train and validation sets"
   ]
  },
  {
   "cell_type": "code",
   "execution_count": 365,
   "metadata": {},
   "outputs": [],
   "source": [
    "r_idx = shuffle(1:size(comb, 1));\n",
    "train_ceil = floor(Int, size(r_idx, 1) * 0.8);\n",
    "train_set = comb[r_idx[1:train_ceil], :];\n",
    "val_set = comb[r_idx[train_ceil+1:size(r_idx, 1)], :];"
   ]
  },
  {
   "cell_type": "markdown",
   "metadata": {},
   "source": [
    "### Train model on train set"
   ]
  },
  {
   "cell_type": "markdown",
   "metadata": {},
   "source": [
    "#### Build the features and labels"
   ]
  },
  {
   "cell_type": "code",
   "execution_count": 375,
   "metadata": {},
   "outputs": [],
   "source": [
    "names_ft = [:TP_LAT, :TP_LNG, :TP_Z, :MONTH, :DAY, :PCP_SUM, :PCP_MAX, :PCP_MAX3];\n",
    "train_features = convert(Matrix{Float64},train_set[:, names_ft]);\n",
    "train_labels = train_set[:, :SURVERSE];"
   ]
  },
  {
   "cell_type": "markdown",
   "metadata": {},
   "source": [
    "#### Build the model N features to use is log_2(N + 1)"
   ]
  },
  {
   "cell_type": "code",
   "execution_count": 381,
   "metadata": {},
   "outputs": [
    {
     "data": {
      "text/plain": [
       "Ensemble of Decision Trees\n",
       "Trees:      100\n",
       "Avg Leaves: 2415.73\n",
       "Avg Depth:  31.58"
      ]
     },
     "execution_count": 381,
     "metadata": {},
     "output_type": "execute_result"
    }
   ],
   "source": [
    "val_model = build_forest(train_labels, train_features, 4, 100, 0.7, 40)"
   ]
  },
  {
   "cell_type": "markdown",
   "metadata": {},
   "source": [
    "### Validate model on validation set"
   ]
  },
  {
   "cell_type": "markdown",
   "metadata": {},
   "source": [
    "#### Single validation"
   ]
  },
  {
   "cell_type": "code",
   "execution_count": 382,
   "metadata": {},
   "outputs": [
    {
     "data": {
      "text/plain": [
       "0.619348054679285"
      ]
     },
     "execution_count": 382,
     "metadata": {},
     "output_type": "execute_result"
    }
   ],
   "source": [
    "val_features = convert(Matrix{Float64},val_set[:, names_ft]);\n",
    "val_labels = val_set[!, :SURVERSE];\n",
    "val_pred = apply_forest(val_model, val_features);\n",
    "\n",
    "r = roc(val_labels, val_pred);\n",
    "f1score(r)"
   ]
  },
  {
   "cell_type": "markdown",
   "metadata": {},
   "source": [
    "#### Batch validation for F1Score"
   ]
  },
  {
   "cell_type": "code",
   "execution_count": 410,
   "metadata": {},
   "outputs": [
    {
     "data": {
      "text/plain": [
       "0.6169089771652957"
      ]
     },
     "execution_count": 410,
     "metadata": {},
     "output_type": "execute_result"
    }
   ],
   "source": [
    "niter = 10;\n",
    "batch_score = 0;\n",
    "\n",
    "for i=1:niter\n",
    "    # Split train and val sets\n",
    "    r_idx = shuffle(1:size(comb, 1));\n",
    "    train_ceil = floor(Int, size(r_idx, 1) * 0.8);\n",
    "    train_set = comb[r_idx[1:train_ceil], :];\n",
    "    val_set = comb[r_idx[train_ceil+1:size(r_idx, 1)], :];\n",
    "    \n",
    "    # Build features and labels\n",
    "    train_features = convert(Matrix{Float64},train_set[:, names_ft]);\n",
    "    train_labels = train_set[:, :SURVERSE];\n",
    "    \n",
    "    # Build model\n",
    "    val_model = build_forest(train_labels, train_features, 4, 100, 0.7, 40);\n",
    "    \n",
    "    # Validate model\n",
    "    val_features = convert(Matrix{Float64},val_set[:, names_ft]);\n",
    "    val_labels = val_set[!, :SURVERSE];\n",
    "    val_pred = apply_forest(val_model, val_features);\n",
    "\n",
    "    r = roc(val_labels, val_pred);\n",
    "    batch_score += f1score(r);\n",
    "end\n",
    "\n",
    "batch_score = batch_score / niter"
   ]
  },
  {
   "cell_type": "markdown",
   "metadata": {},
   "source": [
    "# Submission model creation"
   ]
  },
  {
   "cell_type": "markdown",
   "metadata": {},
   "source": [
    "### Separate features and labels"
   ]
  },
  {
   "cell_type": "code",
   "execution_count": 383,
   "metadata": {},
   "outputs": [],
   "source": [
    "full_train_features = convert(Matrix{Float64},comb[:, names_ft]);\n",
    "# train_features = hcat(dates, train_features);"
   ]
  },
  {
   "cell_type": "code",
   "execution_count": 384,
   "metadata": {},
   "outputs": [],
   "source": [
    "full_train_labels = comb[:, :SURVERSE];"
   ]
  },
  {
   "cell_type": "markdown",
   "metadata": {},
   "source": [
    "### Build Model"
   ]
  },
  {
   "cell_type": "markdown",
   "metadata": {},
   "source": [
    "#### Test with tree first"
   ]
  },
  {
   "cell_type": "code",
   "execution_count": 385,
   "metadata": {},
   "outputs": [
    {
     "data": {
      "text/plain": [
       "Decision Tree\n",
       "Leaves: 4072\n",
       "Depth:  35"
      ]
     },
     "execution_count": 385,
     "metadata": {},
     "output_type": "execute_result"
    }
   ],
   "source": [
    "model_tree = build_tree(full_train_labels, full_train_features)"
   ]
  },
  {
   "cell_type": "code",
   "execution_count": 386,
   "metadata": {},
   "outputs": [
    {
     "data": {
      "text/plain": [
       "Decision Tree\n",
       "Leaves: 3930\n",
       "Depth:  35"
      ]
     },
     "execution_count": 386,
     "metadata": {},
     "output_type": "execute_result"
    }
   ],
   "source": [
    "model_tree = prune_tree(model_tree, 0.90)"
   ]
  },
  {
   "cell_type": "code",
   "execution_count": 387,
   "metadata": {},
   "outputs": [
    {
     "data": {
      "text/plain": [
       "Ensemble of Decision Trees\n",
       "Trees:      100\n",
       "Avg Leaves: 2921.1\n",
       "Avg Depth:  31.62"
      ]
     },
     "execution_count": 387,
     "metadata": {},
     "output_type": "execute_result"
    }
   ],
   "source": [
    "model = build_forest(full_train_labels, full_train_features, 4, 100, 0.7, 40)"
   ]
  },
  {
   "cell_type": "markdown",
   "metadata": {},
   "source": [
    "# Prediction"
   ]
  },
  {
   "cell_type": "markdown",
   "metadata": {},
   "source": [
    "## Get the test data"
   ]
  },
  {
   "cell_type": "code",
   "execution_count": 389,
   "metadata": {},
   "outputs": [
    {
     "data": {
      "text/html": [
       "<table class=\"data-frame\"><thead><tr><th></th><th>ID_OUVRAGE</th><th>DATE</th></tr><tr><th></th><th>String</th><th>Date</th></tr></thead><tbody><p>10 rows × 2 columns</p><tr><th>1</th><td>3260-01D</td><td>2019-05-02</td></tr><tr><th>2</th><td>3260-01D</td><td>2019-05-09</td></tr><tr><th>3</th><td>3260-01D</td><td>2019-05-10</td></tr><tr><th>4</th><td>3260-01D</td><td>2019-05-15</td></tr><tr><th>5</th><td>3260-01D</td><td>2019-05-20</td></tr><tr><th>6</th><td>3260-01D</td><td>2019-05-23</td></tr><tr><th>7</th><td>3260-01D</td><td>2019-05-24</td></tr><tr><th>8</th><td>3260-01D</td><td>2019-05-26</td></tr><tr><th>9</th><td>3260-01D</td><td>2019-05-30</td></tr><tr><th>10</th><td>3350-07D</td><td>2019-05-01</td></tr></tbody></table>"
      ],
      "text/latex": [
       "\\begin{tabular}{r|cc}\n",
       "\t& ID\\_OUVRAGE & DATE\\\\\n",
       "\t\\hline\n",
       "\t& String & Date\\\\\n",
       "\t\\hline\n",
       "\t1 & 3260-01D & 2019-05-02 \\\\\n",
       "\t2 & 3260-01D & 2019-05-09 \\\\\n",
       "\t3 & 3260-01D & 2019-05-10 \\\\\n",
       "\t4 & 3260-01D & 2019-05-15 \\\\\n",
       "\t5 & 3260-01D & 2019-05-20 \\\\\n",
       "\t6 & 3260-01D & 2019-05-23 \\\\\n",
       "\t7 & 3260-01D & 2019-05-24 \\\\\n",
       "\t8 & 3260-01D & 2019-05-26 \\\\\n",
       "\t9 & 3260-01D & 2019-05-30 \\\\\n",
       "\t10 & 3350-07D & 2019-05-01 \\\\\n",
       "\\end{tabular}\n"
      ],
      "text/plain": [
       "10×2 DataFrame\n",
       "│ Row │ ID_OUVRAGE │ DATE       │\n",
       "│     │ \u001b[90mString\u001b[39m     │ \u001b[90mDate\u001b[39m       │\n",
       "├─────┼────────────┼────────────┤\n",
       "│ 1   │ 3260-01D   │ 2019-05-02 │\n",
       "│ 2   │ 3260-01D   │ 2019-05-09 │\n",
       "│ 3   │ 3260-01D   │ 2019-05-10 │\n",
       "│ 4   │ 3260-01D   │ 2019-05-15 │\n",
       "│ 5   │ 3260-01D   │ 2019-05-20 │\n",
       "│ 6   │ 3260-01D   │ 2019-05-23 │\n",
       "│ 7   │ 3260-01D   │ 2019-05-24 │\n",
       "│ 8   │ 3260-01D   │ 2019-05-26 │\n",
       "│ 9   │ 3260-01D   │ 2019-05-30 │\n",
       "│ 10  │ 3350-07D   │ 2019-05-01 │"
      ]
     },
     "execution_count": 389,
     "metadata": {},
     "output_type": "execute_result"
    }
   ],
   "source": [
    "test = CSV.read(\"data/test.csv\");\n",
    "rename!(test, :NO_OUVRAGE => :ID_OUVRAGE);\n",
    "first(test, 10)"
   ]
  },
  {
   "cell_type": "code",
   "execution_count": 390,
   "metadata": {},
   "outputs": [
    {
     "data": {
      "text/plain": [
       "283"
      ]
     },
     "execution_count": 390,
     "metadata": {},
     "output_type": "execute_result"
    }
   ],
   "source": [
    "to_merge = unique(comb[!, [:ID_OUVRAGE, :TP_LAT, :TP_LNG, :TP_Z]], :ID_OUVRAGE);\n",
    "test_comb = join(test, to_merge, on= [:ID_OUVRAGE]);\n",
    "nrow(test_comb)"
   ]
  },
  {
   "cell_type": "code",
   "execution_count": 391,
   "metadata": {},
   "outputs": [
    {
     "data": {
      "text/html": [
       "<table class=\"data-frame\"><thead><tr><th></th><th>ID_OUVRAGE</th><th>DATE</th><th>TP_LAT</th><th>TP_LNG</th><th>TP_Z</th></tr><tr><th></th><th>String</th><th>Date</th><th>Float64</th><th>Float64</th><th>Float64</th></tr></thead><tbody><p>10 rows × 5 columns</p><tr><th>1</th><td>4380-01D</td><td>2019-06-30</td><td>0.160421</td><td>0.728206</td><td>0.359859</td></tr><tr><th>2</th><td>4350-01D</td><td>2019-07-08</td><td>0.237379</td><td>0.74432</td><td>0.359859</td></tr><tr><th>3</th><td>4240-01D</td><td>2019-05-23</td><td>0.607546</td><td>0.868856</td><td>0.116503</td></tr><tr><th>4</th><td>4350-01D</td><td>2019-08-06</td><td>0.237379</td><td>0.74432</td><td>0.359859</td></tr><tr><th>5</th><td>4240-01D</td><td>2019-07-14</td><td>0.607546</td><td>0.868856</td><td>0.116503</td></tr><tr><th>6</th><td>4350-01D</td><td>2019-09-05</td><td>0.237379</td><td>0.74432</td><td>0.359859</td></tr><tr><th>7</th><td>3260-01D</td><td>2019-08-28</td><td>0.609996</td><td>0.697487</td><td>0.386587</td></tr><tr><th>8</th><td>3350-07D</td><td>2019-09-02</td><td>0.353054</td><td>0.490395</td><td>0.405552</td></tr><tr><th>9</th><td>4240-01D</td><td>2019-05-22</td><td>0.607546</td><td>0.868856</td><td>0.116503</td></tr><tr><th>10</th><td>3260-01D</td><td>2019-05-23</td><td>0.609996</td><td>0.697487</td><td>0.386587</td></tr></tbody></table>"
      ],
      "text/latex": [
       "\\begin{tabular}{r|ccccc}\n",
       "\t& ID\\_OUVRAGE & DATE & TP\\_LAT & TP\\_LNG & TP\\_Z\\\\\n",
       "\t\\hline\n",
       "\t& String & Date & Float64 & Float64 & Float64\\\\\n",
       "\t\\hline\n",
       "\t1 & 4380-01D & 2019-06-30 & 0.160421 & 0.728206 & 0.359859 \\\\\n",
       "\t2 & 4350-01D & 2019-07-08 & 0.237379 & 0.74432 & 0.359859 \\\\\n",
       "\t3 & 4240-01D & 2019-05-23 & 0.607546 & 0.868856 & 0.116503 \\\\\n",
       "\t4 & 4350-01D & 2019-08-06 & 0.237379 & 0.74432 & 0.359859 \\\\\n",
       "\t5 & 4240-01D & 2019-07-14 & 0.607546 & 0.868856 & 0.116503 \\\\\n",
       "\t6 & 4350-01D & 2019-09-05 & 0.237379 & 0.74432 & 0.359859 \\\\\n",
       "\t7 & 3260-01D & 2019-08-28 & 0.609996 & 0.697487 & 0.386587 \\\\\n",
       "\t8 & 3350-07D & 2019-09-02 & 0.353054 & 0.490395 & 0.405552 \\\\\n",
       "\t9 & 4240-01D & 2019-05-22 & 0.607546 & 0.868856 & 0.116503 \\\\\n",
       "\t10 & 3260-01D & 2019-05-23 & 0.609996 & 0.697487 & 0.386587 \\\\\n",
       "\\end{tabular}\n"
      ],
      "text/plain": [
       "10×5 DataFrame\n",
       "│ Row │ ID_OUVRAGE │ DATE       │ TP_LAT   │ TP_LNG   │ TP_Z     │\n",
       "│     │ \u001b[90mString\u001b[39m     │ \u001b[90mDate\u001b[39m       │ \u001b[90mFloat64\u001b[39m  │ \u001b[90mFloat64\u001b[39m  │ \u001b[90mFloat64\u001b[39m  │\n",
       "├─────┼────────────┼────────────┼──────────┼──────────┼──────────┤\n",
       "│ 1   │ 4380-01D   │ 2019-06-30 │ 0.160421 │ 0.728206 │ 0.359859 │\n",
       "│ 2   │ 4350-01D   │ 2019-07-08 │ 0.237379 │ 0.74432  │ 0.359859 │\n",
       "│ 3   │ 4240-01D   │ 2019-05-23 │ 0.607546 │ 0.868856 │ 0.116503 │\n",
       "│ 4   │ 4350-01D   │ 2019-08-06 │ 0.237379 │ 0.74432  │ 0.359859 │\n",
       "│ 5   │ 4240-01D   │ 2019-07-14 │ 0.607546 │ 0.868856 │ 0.116503 │\n",
       "│ 6   │ 4350-01D   │ 2019-09-05 │ 0.237379 │ 0.74432  │ 0.359859 │\n",
       "│ 7   │ 3260-01D   │ 2019-08-28 │ 0.609996 │ 0.697487 │ 0.386587 │\n",
       "│ 8   │ 3350-07D   │ 2019-09-02 │ 0.353054 │ 0.490395 │ 0.405552 │\n",
       "│ 9   │ 4240-01D   │ 2019-05-22 │ 0.607546 │ 0.868856 │ 0.116503 │\n",
       "│ 10  │ 3260-01D   │ 2019-05-23 │ 0.609996 │ 0.697487 │ 0.386587 │"
      ]
     },
     "execution_count": 391,
     "metadata": {},
     "output_type": "execute_result"
    }
   ],
   "source": [
    "first(shuffleDf(test_comb), 10)"
   ]
  },
  {
   "cell_type": "markdown",
   "metadata": {},
   "source": [
    "### Add PCP_SUM and PCP_MAX"
   ]
  },
  {
   "cell_type": "markdown",
   "metadata": {},
   "source": [
    "#### Initialize default pcp"
   ]
  },
  {
   "cell_type": "code",
   "execution_count": 399,
   "metadata": {},
   "outputs": [],
   "source": [
    "test_comb.PCP_SUM = zeros(size(test_comb, 1));\n",
    "test_comb.PCP_MAX = zeros(size(test_comb, 1));\n",
    "test_comb.PCP_MAX3 = zeros(size(test_comb, 1));\n",
    "permutecols!(test_comb, [:ID_OUVRAGE, :TP_LAT, :TP_LNG, :TP_Z, :DATE, :PCP_SUM, :PCP_MAX, :PCP_MAX3]);"
   ]
  },
  {
   "cell_type": "code",
   "execution_count": 400,
   "metadata": {},
   "outputs": [
    {
     "data": {
      "text/html": [
       "<table class=\"data-frame\"><thead><tr><th></th><th>ID_OUVRAGE</th><th>TP_LAT</th><th>TP_LNG</th><th>TP_Z</th><th>DATE</th><th>PCP_SUM</th><th>PCP_MAX</th><th>PCP_MAX3</th></tr><tr><th></th><th>String</th><th>Float64</th><th>Float64</th><th>Float64</th><th>Date</th><th>Float64</th><th>Float64</th><th>Float64</th></tr></thead><tbody><p>10 rows × 8 columns</p><tr><th>1</th><td>4380-01D</td><td>0.160421</td><td>0.728206</td><td>0.359859</td><td>2019-08-17</td><td>0.0</td><td>0.0</td><td>0.0</td></tr><tr><th>2</th><td>4350-01D</td><td>0.237379</td><td>0.74432</td><td>0.359859</td><td>2019-06-14</td><td>0.0</td><td>0.0</td><td>0.0</td></tr><tr><th>3</th><td>4240-01D</td><td>0.607546</td><td>0.868856</td><td>0.116503</td><td>2019-08-13</td><td>0.0</td><td>0.0</td><td>0.0</td></tr><tr><th>4</th><td>4350-01D</td><td>0.237379</td><td>0.74432</td><td>0.359859</td><td>2019-09-10</td><td>0.0</td><td>0.0</td><td>0.0</td></tr><tr><th>5</th><td>4350-01D</td><td>0.237379</td><td>0.74432</td><td>0.359859</td><td>2019-05-30</td><td>0.0</td><td>0.0</td><td>0.0</td></tr><tr><th>6</th><td>3260-01D</td><td>0.609996</td><td>0.697487</td><td>0.386587</td><td>2019-08-01</td><td>0.0</td><td>0.0</td><td>0.0</td></tr><tr><th>7</th><td>3350-07D</td><td>0.353054</td><td>0.490395</td><td>0.405552</td><td>2019-05-11</td><td>0.0</td><td>0.0</td><td>0.0</td></tr><tr><th>8</th><td>3350-07D</td><td>0.353054</td><td>0.490395</td><td>0.405552</td><td>2019-05-13</td><td>0.0</td><td>0.0</td><td>0.0</td></tr><tr><th>9</th><td>4380-01D</td><td>0.160421</td><td>0.728206</td><td>0.359859</td><td>2019-05-28</td><td>0.0</td><td>0.0</td><td>0.0</td></tr><tr><th>10</th><td>3350-07D</td><td>0.353054</td><td>0.490395</td><td>0.405552</td><td>2019-09-23</td><td>0.0</td><td>0.0</td><td>0.0</td></tr></tbody></table>"
      ],
      "text/latex": [
       "\\begin{tabular}{r|cccccccc}\n",
       "\t& ID\\_OUVRAGE & TP\\_LAT & TP\\_LNG & TP\\_Z & DATE & PCP\\_SUM & PCP\\_MAX & PCP\\_MAX3\\\\\n",
       "\t\\hline\n",
       "\t& String & Float64 & Float64 & Float64 & Date & Float64 & Float64 & Float64\\\\\n",
       "\t\\hline\n",
       "\t1 & 4380-01D & 0.160421 & 0.728206 & 0.359859 & 2019-08-17 & 0.0 & 0.0 & 0.0 \\\\\n",
       "\t2 & 4350-01D & 0.237379 & 0.74432 & 0.359859 & 2019-06-14 & 0.0 & 0.0 & 0.0 \\\\\n",
       "\t3 & 4240-01D & 0.607546 & 0.868856 & 0.116503 & 2019-08-13 & 0.0 & 0.0 & 0.0 \\\\\n",
       "\t4 & 4350-01D & 0.237379 & 0.74432 & 0.359859 & 2019-09-10 & 0.0 & 0.0 & 0.0 \\\\\n",
       "\t5 & 4350-01D & 0.237379 & 0.74432 & 0.359859 & 2019-05-30 & 0.0 & 0.0 & 0.0 \\\\\n",
       "\t6 & 3260-01D & 0.609996 & 0.697487 & 0.386587 & 2019-08-01 & 0.0 & 0.0 & 0.0 \\\\\n",
       "\t7 & 3350-07D & 0.353054 & 0.490395 & 0.405552 & 2019-05-11 & 0.0 & 0.0 & 0.0 \\\\\n",
       "\t8 & 3350-07D & 0.353054 & 0.490395 & 0.405552 & 2019-05-13 & 0.0 & 0.0 & 0.0 \\\\\n",
       "\t9 & 4380-01D & 0.160421 & 0.728206 & 0.359859 & 2019-05-28 & 0.0 & 0.0 & 0.0 \\\\\n",
       "\t10 & 3350-07D & 0.353054 & 0.490395 & 0.405552 & 2019-09-23 & 0.0 & 0.0 & 0.0 \\\\\n",
       "\\end{tabular}\n"
      ],
      "text/plain": [
       "10×8 DataFrame. Omitted printing of 2 columns\n",
       "│ Row │ ID_OUVRAGE │ TP_LAT   │ TP_LNG   │ TP_Z     │ DATE       │ PCP_SUM │\n",
       "│     │ \u001b[90mString\u001b[39m     │ \u001b[90mFloat64\u001b[39m  │ \u001b[90mFloat64\u001b[39m  │ \u001b[90mFloat64\u001b[39m  │ \u001b[90mDate\u001b[39m       │ \u001b[90mFloat64\u001b[39m │\n",
       "├─────┼────────────┼──────────┼──────────┼──────────┼────────────┼─────────┤\n",
       "│ 1   │ 4380-01D   │ 0.160421 │ 0.728206 │ 0.359859 │ 2019-08-17 │ 0.0     │\n",
       "│ 2   │ 4350-01D   │ 0.237379 │ 0.74432  │ 0.359859 │ 2019-06-14 │ 0.0     │\n",
       "│ 3   │ 4240-01D   │ 0.607546 │ 0.868856 │ 0.116503 │ 2019-08-13 │ 0.0     │\n",
       "│ 4   │ 4350-01D   │ 0.237379 │ 0.74432  │ 0.359859 │ 2019-09-10 │ 0.0     │\n",
       "│ 5   │ 4350-01D   │ 0.237379 │ 0.74432  │ 0.359859 │ 2019-05-30 │ 0.0     │\n",
       "│ 6   │ 3260-01D   │ 0.609996 │ 0.697487 │ 0.386587 │ 2019-08-01 │ 0.0     │\n",
       "│ 7   │ 3350-07D   │ 0.353054 │ 0.490395 │ 0.405552 │ 2019-05-11 │ 0.0     │\n",
       "│ 8   │ 3350-07D   │ 0.353054 │ 0.490395 │ 0.405552 │ 2019-05-13 │ 0.0     │\n",
       "│ 9   │ 4380-01D   │ 0.160421 │ 0.728206 │ 0.359859 │ 2019-05-28 │ 0.0     │\n",
       "│ 10  │ 3350-07D   │ 0.353054 │ 0.490395 │ 0.405552 │ 2019-09-23 │ 0.0     │"
      ]
     },
     "execution_count": 400,
     "metadata": {},
     "output_type": "execute_result"
    }
   ],
   "source": [
    "first(shuffleDf(test_comb), 10)"
   ]
  },
  {
   "cell_type": "markdown",
   "metadata": {},
   "source": [
    "#### Populate pcp"
   ]
  },
  {
   "cell_type": "code",
   "execution_count": 401,
   "metadata": {},
   "outputs": [],
   "source": [
    "for i=1:size(test_comb, 1)\n",
    "    id_ouvrage = test_comb[i, 1]; \n",
    "    closest_station = \"McTavish\"; # initial value\n",
    "    shortest_dist = -1;\n",
    "    \n",
    "    # Find closest station\n",
    "    for j=1:size(station_df, 1)\n",
    "        dist = findDistance(test_comb[i, :TP_LAT], test_comb[i, :TP_LNG], station_df[j, :LAT], station_df[j, :LNG]);\n",
    "        \n",
    "        if shortest_dist == -1 || dist < shortest_dist\n",
    "            shortest_dist = dist;\n",
    "            closest_station = station_df[j, :STATION];\n",
    "        end\n",
    "    end\n",
    "    \n",
    "    # Augment comb with a weighted p_sum, based on the distance to the station\n",
    "    p_sum = pcp_sum[∈([test_comb[i, :DATE]]).(pcp_sum.date), Symbol(closest_station)];\n",
    "    test_comb[i, :PCP_SUM] = p_sum[1] * (1 - shortest_dist); \n",
    "    # Augment comb with a weighted p_max, based on the distance to the station\n",
    "    p_max = pcp_max[∈([test_comb[i, :DATE]]).(pcp_max.date), Symbol(closest_station)]\n",
    "    test_comb[i, :PCP_MAX] = p_max[1] * (1 - shortest_dist);\n",
    "    # Augment comb with a weighted p_max3, based on the distance to the station\n",
    "    p_max3 = pcp_max3h[∈([test_comb[i, :DATE]]).(pcp_max3h.date), Symbol(closest_station)]\n",
    "    test_comb[i, :PCP_MAX3] = p_max3[1] * (1 - shortest_dist);\n",
    "end"
   ]
  },
  {
   "cell_type": "code",
   "execution_count": 402,
   "metadata": {},
   "outputs": [
    {
     "data": {
      "text/html": [
       "<table class=\"data-frame\"><thead><tr><th></th><th>ID_OUVRAGE</th><th>TP_LAT</th><th>TP_LNG</th><th>TP_Z</th><th>DATE</th><th>PCP_SUM</th><th>PCP_MAX</th><th>PCP_MAX3</th></tr><tr><th></th><th>String</th><th>Float64</th><th>Float64</th><th>Float64</th><th>Date</th><th>Float64</th><th>Float64</th><th>Float64</th></tr></thead><tbody><p>10 rows × 8 columns</p><tr><th>1</th><td>4380-01D</td><td>0.160421</td><td>0.728206</td><td>0.359859</td><td>2019-06-24</td><td>0.0</td><td>0.0</td><td>0.0</td></tr><tr><th>2</th><td>3260-01D</td><td>0.609996</td><td>0.697487</td><td>0.386587</td><td>2019-08-09</td><td>55.153</td><td>21.8047</td><td>36.5549</td></tr><tr><th>3</th><td>3350-07D</td><td>0.353054</td><td>0.490395</td><td>0.405552</td><td>2019-07-23</td><td>0.0</td><td>0.0</td><td>0.0</td></tr><tr><th>4</th><td>4240-01D</td><td>0.607546</td><td>0.868856</td><td>0.116503</td><td>2019-06-13</td><td>5.19718</td><td>5.19718</td><td>5.19718</td></tr><tr><th>5</th><td>4350-01D</td><td>0.237379</td><td>0.74432</td><td>0.359859</td><td>2019-06-19</td><td>0.0</td><td>0.0</td><td>0.0</td></tr><tr><th>6</th><td>3350-07D</td><td>0.353054</td><td>0.490395</td><td>0.405552</td><td>2019-06-14</td><td>45.6263</td><td>14.9465</td><td>40.9063</td></tr><tr><th>7</th><td>3260-01D</td><td>0.609996</td><td>0.697487</td><td>0.386587</td><td>2019-07-31</td><td>0.0</td><td>0.0</td><td>0.0</td></tr><tr><th>8</th><td>3350-07D</td><td>0.353054</td><td>0.490395</td><td>0.405552</td><td>2019-06-30</td><td>24.3865</td><td>14.9465</td><td>24.3865</td></tr><tr><th>9</th><td>3350-07D</td><td>0.353054</td><td>0.490395</td><td>0.405552</td><td>2019-07-29</td><td>0.0</td><td>0.0</td><td>0.0</td></tr><tr><th>10</th><td>4380-01D</td><td>0.160421</td><td>0.728206</td><td>0.359859</td><td>2019-06-30</td><td>113.086</td><td>104.039</td><td>113.086</td></tr></tbody></table>"
      ],
      "text/latex": [
       "\\begin{tabular}{r|cccccccc}\n",
       "\t& ID\\_OUVRAGE & TP\\_LAT & TP\\_LNG & TP\\_Z & DATE & PCP\\_SUM & PCP\\_MAX & PCP\\_MAX3\\\\\n",
       "\t\\hline\n",
       "\t& String & Float64 & Float64 & Float64 & Date & Float64 & Float64 & Float64\\\\\n",
       "\t\\hline\n",
       "\t1 & 4380-01D & 0.160421 & 0.728206 & 0.359859 & 2019-06-24 & 0.0 & 0.0 & 0.0 \\\\\n",
       "\t2 & 3260-01D & 0.609996 & 0.697487 & 0.386587 & 2019-08-09 & 55.153 & 21.8047 & 36.5549 \\\\\n",
       "\t3 & 3350-07D & 0.353054 & 0.490395 & 0.405552 & 2019-07-23 & 0.0 & 0.0 & 0.0 \\\\\n",
       "\t4 & 4240-01D & 0.607546 & 0.868856 & 0.116503 & 2019-06-13 & 5.19718 & 5.19718 & 5.19718 \\\\\n",
       "\t5 & 4350-01D & 0.237379 & 0.74432 & 0.359859 & 2019-06-19 & 0.0 & 0.0 & 0.0 \\\\\n",
       "\t6 & 3350-07D & 0.353054 & 0.490395 & 0.405552 & 2019-06-14 & 45.6263 & 14.9465 & 40.9063 \\\\\n",
       "\t7 & 3260-01D & 0.609996 & 0.697487 & 0.386587 & 2019-07-31 & 0.0 & 0.0 & 0.0 \\\\\n",
       "\t8 & 3350-07D & 0.353054 & 0.490395 & 0.405552 & 2019-06-30 & 24.3865 & 14.9465 & 24.3865 \\\\\n",
       "\t9 & 3350-07D & 0.353054 & 0.490395 & 0.405552 & 2019-07-29 & 0.0 & 0.0 & 0.0 \\\\\n",
       "\t10 & 4380-01D & 0.160421 & 0.728206 & 0.359859 & 2019-06-30 & 113.086 & 104.039 & 113.086 \\\\\n",
       "\\end{tabular}\n"
      ],
      "text/plain": [
       "10×8 DataFrame. Omitted printing of 2 columns\n",
       "│ Row │ ID_OUVRAGE │ TP_LAT   │ TP_LNG   │ TP_Z     │ DATE       │ PCP_SUM │\n",
       "│     │ \u001b[90mString\u001b[39m     │ \u001b[90mFloat64\u001b[39m  │ \u001b[90mFloat64\u001b[39m  │ \u001b[90mFloat64\u001b[39m  │ \u001b[90mDate\u001b[39m       │ \u001b[90mFloat64\u001b[39m │\n",
       "├─────┼────────────┼──────────┼──────────┼──────────┼────────────┼─────────┤\n",
       "│ 1   │ 4380-01D   │ 0.160421 │ 0.728206 │ 0.359859 │ 2019-06-24 │ 0.0     │\n",
       "│ 2   │ 3260-01D   │ 0.609996 │ 0.697487 │ 0.386587 │ 2019-08-09 │ 55.153  │\n",
       "│ 3   │ 3350-07D   │ 0.353054 │ 0.490395 │ 0.405552 │ 2019-07-23 │ 0.0     │\n",
       "│ 4   │ 4240-01D   │ 0.607546 │ 0.868856 │ 0.116503 │ 2019-06-13 │ 5.19718 │\n",
       "│ 5   │ 4350-01D   │ 0.237379 │ 0.74432  │ 0.359859 │ 2019-06-19 │ 0.0     │\n",
       "│ 6   │ 3350-07D   │ 0.353054 │ 0.490395 │ 0.405552 │ 2019-06-14 │ 45.6263 │\n",
       "│ 7   │ 3260-01D   │ 0.609996 │ 0.697487 │ 0.386587 │ 2019-07-31 │ 0.0     │\n",
       "│ 8   │ 3350-07D   │ 0.353054 │ 0.490395 │ 0.405552 │ 2019-06-30 │ 24.3865 │\n",
       "│ 9   │ 3350-07D   │ 0.353054 │ 0.490395 │ 0.405552 │ 2019-07-29 │ 0.0     │\n",
       "│ 10  │ 4380-01D   │ 0.160421 │ 0.728206 │ 0.359859 │ 2019-06-30 │ 113.086 │"
      ]
     },
     "execution_count": 402,
     "metadata": {},
     "output_type": "execute_result"
    }
   ],
   "source": [
    "first(shuffleDf(test_comb), 10)"
   ]
  },
  {
   "cell_type": "markdown",
   "metadata": {},
   "source": [
    "#### Normalize pcp based on comb (not test_comb)"
   ]
  },
  {
   "cell_type": "code",
   "execution_count": 403,
   "metadata": {},
   "outputs": [],
   "source": [
    "test_comb.PCP_SUM = normalize.(test_comb.PCP_SUM, min_pcp_sum, max_pcp_sum);\n",
    "test_comb.PCP_MAX = normalize.(test_comb.PCP_MAX, min_pcp_max, max_pcp_max);\n",
    "test_comb.PCP_MAX3 = normalize.(test_comb.PCP_MAX3, min_pcp_max3, max_pcp_max3);"
   ]
  },
  {
   "cell_type": "code",
   "execution_count": 404,
   "metadata": {},
   "outputs": [
    {
     "data": {
      "text/html": [
       "<table class=\"data-frame\"><thead><tr><th></th><th>ID_OUVRAGE</th><th>TP_LAT</th><th>TP_LNG</th><th>TP_Z</th><th>DATE</th><th>PCP_SUM</th><th>PCP_MAX</th><th>PCP_MAX3</th></tr><tr><th></th><th>String</th><th>Float64</th><th>Float64</th><th>Float64</th><th>Date</th><th>Float64</th><th>Float64</th><th>Float64</th></tr></thead><tbody><p>20 rows × 8 columns</p><tr><th>1</th><td>3260-01D</td><td>0.609996</td><td>0.697487</td><td>0.386587</td><td>2019-05-02</td><td>0.0222322</td><td>0.0153915</td><td>0.0188119</td></tr><tr><th>2</th><td>3260-01D</td><td>0.609996</td><td>0.697487</td><td>0.386587</td><td>2019-05-09</td><td>0.0761026</td><td>0.0577183</td><td>0.0761026</td></tr><tr><th>3</th><td>3260-01D</td><td>0.609996</td><td>0.697487</td><td>0.386587</td><td>2019-05-10</td><td>0.329208</td><td>0.0846535</td><td>0.132538</td></tr><tr><th>4</th><td>3260-01D</td><td>0.609996</td><td>0.697487</td><td>0.386587</td><td>2019-05-15</td><td>0.00171017</td><td>0.00256526</td><td>0.00171017</td></tr><tr><th>5</th><td>3260-01D</td><td>0.609996</td><td>0.697487</td><td>0.386587</td><td>2019-05-20</td><td>0.039334</td><td>0.0513052</td><td>0.0376238</td></tr><tr><th>6</th><td>3260-01D</td><td>0.609996</td><td>0.697487</td><td>0.386587</td><td>2019-05-23</td><td>0.14964</td><td>0.0808056</td><td>0.122277</td></tr><tr><th>7</th><td>3260-01D</td><td>0.609996</td><td>0.697487</td><td>0.386587</td><td>2019-05-24</td><td>0.0111161</td><td>0.0115437</td><td>0.00940595</td></tr><tr><th>8</th><td>3260-01D</td><td>0.609996</td><td>0.697487</td><td>0.386587</td><td>2019-05-26</td><td>0.00256526</td><td>0.00384789</td><td>0.00256526</td></tr><tr><th>9</th><td>3260-01D</td><td>0.609996</td><td>0.697487</td><td>0.386587</td><td>2019-05-30</td><td>0.0059856</td><td>0.0089784</td><td>0.0059856</td></tr><tr><th>10</th><td>3350-07D</td><td>0.353054</td><td>0.490395</td><td>0.405552</td><td>2019-05-01</td><td>0.0492974</td><td>0.0330397</td><td>0.0430041</td></tr><tr><th>11</th><td>3350-07D</td><td>0.353054</td><td>0.490395</td><td>0.405552</td><td>2019-05-02</td><td>0.0136354</td><td>0.0125866</td><td>0.0115377</td></tr><tr><th>12</th><td>3350-07D</td><td>0.353054</td><td>0.490395</td><td>0.405552</td><td>2019-05-08</td><td>0.0</td><td>0.0</td><td>0.0</td></tr><tr><th>13</th><td>3350-07D</td><td>0.353054</td><td>0.490395</td><td>0.405552</td><td>2019-05-09</td><td>0.0902037</td><td>0.0676528</td><td>0.0902037</td></tr><tr><th>14</th><td>3350-07D</td><td>0.353054</td><td>0.490395</td><td>0.405552</td><td>2019-05-10</td><td>0.298931</td><td>0.0755194</td><td>0.132159</td></tr><tr><th>15</th><td>3350-07D</td><td>0.353054</td><td>0.490395</td><td>0.405552</td><td>2019-05-11</td><td>0.0</td><td>0.0</td><td>0.0</td></tr><tr><th>16</th><td>3350-07D</td><td>0.353054</td><td>0.490395</td><td>0.405552</td><td>2019-05-13</td><td>0.00943993</td><td>0.0141599</td><td>0.00943993</td></tr><tr><th>17</th><td>3350-07D</td><td>0.353054</td><td>0.490395</td><td>0.405552</td><td>2019-05-14</td><td>0.109084</td><td>0.0283198</td><td>0.0461507</td></tr><tr><th>18</th><td>3350-07D</td><td>0.353054</td><td>0.490395</td><td>0.405552</td><td>2019-05-18</td><td>0.00209776</td><td>0.00314664</td><td>0.00209776</td></tr><tr><th>19</th><td>3350-07D</td><td>0.353054</td><td>0.490395</td><td>0.405552</td><td>2019-05-19</td><td>0.0597862</td><td>0.0424797</td><td>0.0482485</td></tr><tr><th>20</th><td>3350-07D</td><td>0.353054</td><td>0.490395</td><td>0.405552</td><td>2019-05-20</td><td>0.0555907</td><td>0.0802394</td><td>0.0555907</td></tr></tbody></table>"
      ],
      "text/latex": [
       "\\begin{tabular}{r|cccccccc}\n",
       "\t& ID\\_OUVRAGE & TP\\_LAT & TP\\_LNG & TP\\_Z & DATE & PCP\\_SUM & PCP\\_MAX & PCP\\_MAX3\\\\\n",
       "\t\\hline\n",
       "\t& String & Float64 & Float64 & Float64 & Date & Float64 & Float64 & Float64\\\\\n",
       "\t\\hline\n",
       "\t1 & 3260-01D & 0.609996 & 0.697487 & 0.386587 & 2019-05-02 & 0.0222322 & 0.0153915 & 0.0188119 \\\\\n",
       "\t2 & 3260-01D & 0.609996 & 0.697487 & 0.386587 & 2019-05-09 & 0.0761026 & 0.0577183 & 0.0761026 \\\\\n",
       "\t3 & 3260-01D & 0.609996 & 0.697487 & 0.386587 & 2019-05-10 & 0.329208 & 0.0846535 & 0.132538 \\\\\n",
       "\t4 & 3260-01D & 0.609996 & 0.697487 & 0.386587 & 2019-05-15 & 0.00171017 & 0.00256526 & 0.00171017 \\\\\n",
       "\t5 & 3260-01D & 0.609996 & 0.697487 & 0.386587 & 2019-05-20 & 0.039334 & 0.0513052 & 0.0376238 \\\\\n",
       "\t6 & 3260-01D & 0.609996 & 0.697487 & 0.386587 & 2019-05-23 & 0.14964 & 0.0808056 & 0.122277 \\\\\n",
       "\t7 & 3260-01D & 0.609996 & 0.697487 & 0.386587 & 2019-05-24 & 0.0111161 & 0.0115437 & 0.00940595 \\\\\n",
       "\t8 & 3260-01D & 0.609996 & 0.697487 & 0.386587 & 2019-05-26 & 0.00256526 & 0.00384789 & 0.00256526 \\\\\n",
       "\t9 & 3260-01D & 0.609996 & 0.697487 & 0.386587 & 2019-05-30 & 0.0059856 & 0.0089784 & 0.0059856 \\\\\n",
       "\t10 & 3350-07D & 0.353054 & 0.490395 & 0.405552 & 2019-05-01 & 0.0492974 & 0.0330397 & 0.0430041 \\\\\n",
       "\t11 & 3350-07D & 0.353054 & 0.490395 & 0.405552 & 2019-05-02 & 0.0136354 & 0.0125866 & 0.0115377 \\\\\n",
       "\t12 & 3350-07D & 0.353054 & 0.490395 & 0.405552 & 2019-05-08 & 0.0 & 0.0 & 0.0 \\\\\n",
       "\t13 & 3350-07D & 0.353054 & 0.490395 & 0.405552 & 2019-05-09 & 0.0902037 & 0.0676528 & 0.0902037 \\\\\n",
       "\t14 & 3350-07D & 0.353054 & 0.490395 & 0.405552 & 2019-05-10 & 0.298931 & 0.0755194 & 0.132159 \\\\\n",
       "\t15 & 3350-07D & 0.353054 & 0.490395 & 0.405552 & 2019-05-11 & 0.0 & 0.0 & 0.0 \\\\\n",
       "\t16 & 3350-07D & 0.353054 & 0.490395 & 0.405552 & 2019-05-13 & 0.00943993 & 0.0141599 & 0.00943993 \\\\\n",
       "\t17 & 3350-07D & 0.353054 & 0.490395 & 0.405552 & 2019-05-14 & 0.109084 & 0.0283198 & 0.0461507 \\\\\n",
       "\t18 & 3350-07D & 0.353054 & 0.490395 & 0.405552 & 2019-05-18 & 0.00209776 & 0.00314664 & 0.00209776 \\\\\n",
       "\t19 & 3350-07D & 0.353054 & 0.490395 & 0.405552 & 2019-05-19 & 0.0597862 & 0.0424797 & 0.0482485 \\\\\n",
       "\t20 & 3350-07D & 0.353054 & 0.490395 & 0.405552 & 2019-05-20 & 0.0555907 & 0.0802394 & 0.0555907 \\\\\n",
       "\\end{tabular}\n"
      ],
      "text/plain": [
       "20×8 DataFrame. Omitted printing of 2 columns\n",
       "│ Row │ ID_OUVRAGE │ TP_LAT   │ TP_LNG   │ TP_Z     │ DATE       │ PCP_SUM    │\n",
       "│     │ \u001b[90mString\u001b[39m     │ \u001b[90mFloat64\u001b[39m  │ \u001b[90mFloat64\u001b[39m  │ \u001b[90mFloat64\u001b[39m  │ \u001b[90mDate\u001b[39m       │ \u001b[90mFloat64\u001b[39m    │\n",
       "├─────┼────────────┼──────────┼──────────┼──────────┼────────────┼────────────┤\n",
       "│ 1   │ 3260-01D   │ 0.609996 │ 0.697487 │ 0.386587 │ 2019-05-02 │ 0.0222322  │\n",
       "│ 2   │ 3260-01D   │ 0.609996 │ 0.697487 │ 0.386587 │ 2019-05-09 │ 0.0761026  │\n",
       "│ 3   │ 3260-01D   │ 0.609996 │ 0.697487 │ 0.386587 │ 2019-05-10 │ 0.329208   │\n",
       "│ 4   │ 3260-01D   │ 0.609996 │ 0.697487 │ 0.386587 │ 2019-05-15 │ 0.00171017 │\n",
       "│ 5   │ 3260-01D   │ 0.609996 │ 0.697487 │ 0.386587 │ 2019-05-20 │ 0.039334   │\n",
       "│ 6   │ 3260-01D   │ 0.609996 │ 0.697487 │ 0.386587 │ 2019-05-23 │ 0.14964    │\n",
       "│ 7   │ 3260-01D   │ 0.609996 │ 0.697487 │ 0.386587 │ 2019-05-24 │ 0.0111161  │\n",
       "│ 8   │ 3260-01D   │ 0.609996 │ 0.697487 │ 0.386587 │ 2019-05-26 │ 0.00256526 │\n",
       "│ 9   │ 3260-01D   │ 0.609996 │ 0.697487 │ 0.386587 │ 2019-05-30 │ 0.0059856  │\n",
       "│ 10  │ 3350-07D   │ 0.353054 │ 0.490395 │ 0.405552 │ 2019-05-01 │ 0.0492974  │\n",
       "│ 11  │ 3350-07D   │ 0.353054 │ 0.490395 │ 0.405552 │ 2019-05-02 │ 0.0136354  │\n",
       "│ 12  │ 3350-07D   │ 0.353054 │ 0.490395 │ 0.405552 │ 2019-05-08 │ 0.0        │\n",
       "│ 13  │ 3350-07D   │ 0.353054 │ 0.490395 │ 0.405552 │ 2019-05-09 │ 0.0902037  │\n",
       "│ 14  │ 3350-07D   │ 0.353054 │ 0.490395 │ 0.405552 │ 2019-05-10 │ 0.298931   │\n",
       "│ 15  │ 3350-07D   │ 0.353054 │ 0.490395 │ 0.405552 │ 2019-05-11 │ 0.0        │\n",
       "│ 16  │ 3350-07D   │ 0.353054 │ 0.490395 │ 0.405552 │ 2019-05-13 │ 0.00943993 │\n",
       "│ 17  │ 3350-07D   │ 0.353054 │ 0.490395 │ 0.405552 │ 2019-05-14 │ 0.109084   │\n",
       "│ 18  │ 3350-07D   │ 0.353054 │ 0.490395 │ 0.405552 │ 2019-05-18 │ 0.00209776 │\n",
       "│ 19  │ 3350-07D   │ 0.353054 │ 0.490395 │ 0.405552 │ 2019-05-19 │ 0.0597862  │\n",
       "│ 20  │ 3350-07D   │ 0.353054 │ 0.490395 │ 0.405552 │ 2019-05-20 │ 0.0555907  │"
      ]
     },
     "execution_count": 404,
     "metadata": {},
     "output_type": "execute_result"
    }
   ],
   "source": [
    "first(test_comb, 20)"
   ]
  },
  {
   "cell_type": "markdown",
   "metadata": {},
   "source": [
    "#### Split dates into month and day"
   ]
  },
  {
   "cell_type": "code",
   "execution_count": 405,
   "metadata": {},
   "outputs": [
    {
     "data": {
      "text/html": [
       "<table class=\"data-frame\"><thead><tr><th></th><th>DATE</th><th>MONTH</th><th>DAY</th></tr><tr><th></th><th>Date</th><th>Int64</th><th>Int64</th></tr></thead><tbody><p>5 rows × 3 columns</p><tr><th>1</th><td>2019-05-24</td><td>5</td><td>24</td></tr><tr><th>2</th><td>2019-07-11</td><td>7</td><td>11</td></tr><tr><th>3</th><td>2019-09-13</td><td>9</td><td>13</td></tr><tr><th>4</th><td>2019-05-06</td><td>5</td><td>6</td></tr><tr><th>5</th><td>2019-06-28</td><td>6</td><td>28</td></tr></tbody></table>"
      ],
      "text/latex": [
       "\\begin{tabular}{r|ccc}\n",
       "\t& DATE & MONTH & DAY\\\\\n",
       "\t\\hline\n",
       "\t& Date & Int64 & Int64\\\\\n",
       "\t\\hline\n",
       "\t1 & 2019-05-24 & 5 & 24 \\\\\n",
       "\t2 & 2019-07-11 & 7 & 11 \\\\\n",
       "\t3 & 2019-09-13 & 9 & 13 \\\\\n",
       "\t4 & 2019-05-06 & 5 & 6 \\\\\n",
       "\t5 & 2019-06-28 & 6 & 28 \\\\\n",
       "\\end{tabular}\n"
      ],
      "text/plain": [
       "5×3 DataFrame\n",
       "│ Row │ DATE       │ MONTH │ DAY   │\n",
       "│     │ \u001b[90mDate\u001b[39m       │ \u001b[90mInt64\u001b[39m │ \u001b[90mInt64\u001b[39m │\n",
       "├─────┼────────────┼───────┼───────┤\n",
       "│ 1   │ 2019-05-24 │ 5     │ 24    │\n",
       "│ 2   │ 2019-07-11 │ 7     │ 11    │\n",
       "│ 3   │ 2019-09-13 │ 9     │ 13    │\n",
       "│ 4   │ 2019-05-06 │ 5     │ 6     │\n",
       "│ 5   │ 2019-06-28 │ 6     │ 28    │"
      ]
     },
     "execution_count": 405,
     "metadata": {},
     "output_type": "execute_result"
    }
   ],
   "source": [
    "test_comb.MONTH = month.(test_comb.DATE);\n",
    "test_comb.DAY = day.(test_comb.DATE);\n",
    "\n",
    "first(shuffleDf(test_comb[!, [:DATE, :MONTH, :DAY]]), 5)"
   ]
  },
  {
   "cell_type": "markdown",
   "metadata": {},
   "source": [
    "#### Normalize months and days"
   ]
  },
  {
   "cell_type": "code",
   "execution_count": 406,
   "metadata": {},
   "outputs": [
    {
     "data": {
      "text/html": [
       "<table class=\"data-frame\"><thead><tr><th></th><th>DATE</th><th>MONTH</th><th>DAY</th></tr><tr><th></th><th>Date</th><th>Float64</th><th>Float64</th></tr></thead><tbody><p>5 rows × 3 columns</p><tr><th>1</th><td>2019-08-27</td><td>0.6</td><td>0.866667</td></tr><tr><th>2</th><td>2019-07-07</td><td>0.4</td><td>0.2</td></tr><tr><th>3</th><td>2019-07-05</td><td>0.4</td><td>0.133333</td></tr><tr><th>4</th><td>2019-09-28</td><td>0.8</td><td>0.9</td></tr><tr><th>5</th><td>2019-07-31</td><td>0.4</td><td>1.0</td></tr></tbody></table>"
      ],
      "text/latex": [
       "\\begin{tabular}{r|ccc}\n",
       "\t& DATE & MONTH & DAY\\\\\n",
       "\t\\hline\n",
       "\t& Date & Float64 & Float64\\\\\n",
       "\t\\hline\n",
       "\t1 & 2019-08-27 & 0.6 & 0.866667 \\\\\n",
       "\t2 & 2019-07-07 & 0.4 & 0.2 \\\\\n",
       "\t3 & 2019-07-05 & 0.4 & 0.133333 \\\\\n",
       "\t4 & 2019-09-28 & 0.8 & 0.9 \\\\\n",
       "\t5 & 2019-07-31 & 0.4 & 1.0 \\\\\n",
       "\\end{tabular}\n"
      ],
      "text/plain": [
       "5×3 DataFrame\n",
       "│ Row │ DATE       │ MONTH   │ DAY      │\n",
       "│     │ \u001b[90mDate\u001b[39m       │ \u001b[90mFloat64\u001b[39m │ \u001b[90mFloat64\u001b[39m  │\n",
       "├─────┼────────────┼─────────┼──────────┤\n",
       "│ 1   │ 2019-08-27 │ 0.6     │ 0.866667 │\n",
       "│ 2   │ 2019-07-07 │ 0.4     │ 0.2      │\n",
       "│ 3   │ 2019-07-05 │ 0.4     │ 0.133333 │\n",
       "│ 4   │ 2019-09-28 │ 0.8     │ 0.9      │\n",
       "│ 5   │ 2019-07-31 │ 0.4     │ 1.0      │"
      ]
     },
     "execution_count": 406,
     "metadata": {},
     "output_type": "execute_result"
    }
   ],
   "source": [
    "test_comb.MONTH = normalize.(test_comb.MONTH, 5, 10);\n",
    "test_comb.DAY = normalize.(test_comb.DAY, 1, 31);\n",
    "first(shuffleDf(test_comb[!, [:DATE, :MONTH, :DAY]]), 5)"
   ]
  },
  {
   "cell_type": "markdown",
   "metadata": {},
   "source": [
    "### Create Test features"
   ]
  },
  {
   "cell_type": "code",
   "execution_count": 407,
   "metadata": {},
   "outputs": [
    {
     "data": {
      "text/plain": [
       "283×8 Array{Float64,2}:\n",
       " 0.609996  0.697487  0.386587  0.0  …  0.0222322   0.0153915   0.0188119 \n",
       " 0.609996  0.697487  0.386587  0.0     0.0761026   0.0577183   0.0761026 \n",
       " 0.609996  0.697487  0.386587  0.0     0.329208    0.0846535   0.132538  \n",
       " 0.609996  0.697487  0.386587  0.0     0.00171017  0.00256526  0.00171017\n",
       " 0.609996  0.697487  0.386587  0.0     0.039334    0.0513052   0.0376238 \n",
       " 0.609996  0.697487  0.386587  0.0  …  0.14964     0.0808056   0.122277  \n",
       " 0.609996  0.697487  0.386587  0.0     0.0111161   0.0115437   0.00940595\n",
       " 0.609996  0.697487  0.386587  0.0     0.00256526  0.00384789  0.00256526\n",
       " 0.609996  0.697487  0.386587  0.0     0.0059856   0.0089784   0.0059856 \n",
       " 0.353054  0.490395  0.405552  0.0     0.0492974   0.0330397   0.0430041 \n",
       " 0.353054  0.490395  0.405552  0.0  …  0.0136354   0.0125866   0.0115377 \n",
       " 0.353054  0.490395  0.405552  0.0     0.0         0.0         0.0       \n",
       " 0.353054  0.490395  0.405552  0.0     0.0902037   0.0676528   0.0902037 \n",
       " ⋮                                  ⋱  ⋮                                 \n",
       " 0.160421  0.728206  0.359859  0.8     0.0         0.0         0.0       \n",
       " 0.160421  0.728206  0.359859  0.8     0.424602    0.110372    0.177319  \n",
       " 0.160421  0.728206  0.359859  0.8     0.27382     0.227982    0.231601  \n",
       " 0.160421  0.728206  0.359859  0.8     0.0         0.0         0.0       \n",
       " 0.160421  0.728206  0.359859  0.8  …  0.0         0.0         0.0       \n",
       " 0.160421  0.728206  0.359859  0.8     0.0         0.0         0.0       \n",
       " 0.160421  0.728206  0.359859  0.8     0.0         0.0         0.0       \n",
       " 0.160421  0.728206  0.359859  0.8     0.0         0.0         0.0       \n",
       " 0.160421  0.728206  0.359859  0.8     0.135101    0.061519    0.0989129 \n",
       " 0.160421  0.728206  0.359859  0.8  …  0.066344    0.0307595   0.0422189 \n",
       " 0.160421  0.728206  0.359859  0.8     0.00241251  0.00361876  0.00241251\n",
       " 0.160421  0.728206  0.359859  0.8     0.0         0.0         0.0       "
      ]
     },
     "execution_count": 407,
     "metadata": {},
     "output_type": "execute_result"
    }
   ],
   "source": [
    "test_features = convert(Matrix{Float64}, test_comb[:, names_ft]);\n",
    "# test_features = hcat(test_dates, test_features);\n",
    "\n",
    "test_features"
   ]
  },
  {
   "cell_type": "markdown",
   "metadata": {},
   "source": [
    "## Predict"
   ]
  },
  {
   "cell_type": "code",
   "execution_count": 408,
   "metadata": {},
   "outputs": [
    {
     "data": {
      "text/plain": [
       "283-element Array{Int64,1}:\n",
       " 0\n",
       " 0\n",
       " 1\n",
       " 0\n",
       " 0\n",
       " 1\n",
       " 0\n",
       " 0\n",
       " 0\n",
       " 1\n",
       " 0\n",
       " 0\n",
       " 1\n",
       " ⋮\n",
       " 0\n",
       " 1\n",
       " 1\n",
       " 0\n",
       " 0\n",
       " 0\n",
       " 0\n",
       " 0\n",
       " 0\n",
       " 0\n",
       " 0\n",
       " 0"
      ]
     },
     "execution_count": 408,
     "metadata": {},
     "output_type": "execute_result"
    }
   ],
   "source": [
    "test_labels = apply_forest(model, test_features)"
   ]
  },
  {
   "cell_type": "markdown",
   "metadata": {},
   "source": [
    "## Generate submission"
   ]
  },
  {
   "cell_type": "code",
   "execution_count": 409,
   "metadata": {},
   "outputs": [
    {
     "data": {
      "text/plain": [
       "\"submissions/mc-submission-7.csv\""
      ]
     },
     "execution_count": 409,
     "metadata": {},
     "output_type": "execute_result"
    }
   ],
   "source": [
    "ID = test_comb[:,:ID_OUVRAGE].*\"_\".*string.(test_comb[:,:DATE])\n",
    "sampleSubmission = DataFrame(ID = ID, Surverse=test_labels)\n",
    "CSV.write(\"submissions/mc-submission-7.csv\",sampleSubmission)"
   ]
  }
 ],
 "metadata": {
  "kernelspec": {
   "display_name": "Julia 1.2.0",
   "language": "julia",
   "name": "julia-1.2"
  },
  "language_info": {
   "file_extension": ".jl",
   "mimetype": "application/julia",
   "name": "julia",
   "version": "1.0.5"
  }
 },
 "nbformat": 4,
 "nbformat_minor": 2
}
