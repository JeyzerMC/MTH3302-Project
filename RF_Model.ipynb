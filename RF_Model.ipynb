{
 "cells": [
  {
   "cell_type": "markdown",
   "metadata": {},
   "source": [
    "# Data Processing"
   ]
  },
  {
   "cell_type": "code",
   "execution_count": 1,
   "metadata": {},
   "outputs": [],
   "source": [
    "using CSV, DataFrames, DecisionTree, Statistics, Dates, Gadfly, Random;\n",
    "include(\"utils/precipitation.jl\");"
   ]
  },
  {
   "cell_type": "markdown",
   "metadata": {},
   "source": [
    "## Build features"
   ]
  },
  {
   "cell_type": "markdown",
   "metadata": {},
   "source": [
    "### Get and filter the features"
   ]
  },
  {
   "cell_type": "markdown",
   "metadata": {},
   "source": [
    "#### Latitude, Longitude, Height"
   ]
  },
  {
   "cell_type": "code",
   "execution_count": 2,
   "metadata": {},
   "outputs": [],
   "source": [
    "features = CSV.read(\"data/ouvrages-surverses.csv\");\n",
    "colnames = [\"N_Env\", \"ID_SOMA\", \"ID_OUVRAGE\", \"NOM\", \"SOMA_SEC\", \"REGION\", \"TP_X\", \"TP_Y\", \"TP_Z\", \"TP_LAT\", \"TP_LNG\", \"EMI_X\", \"EMI_Y\", \"EMI_LNG\", \"EMI_LAT\"];\n",
    "names!(features, Symbol.(colnames));\n",
    "select!(features, [:ID_OUVRAGE, :TP_LAT, :TP_LNG, :TP_Z]);"
   ]
  },
  {
   "cell_type": "markdown",
   "metadata": {},
   "source": [
    "#### Replace missing Z index with mean"
   ]
  },
  {
   "cell_type": "code",
   "execution_count": 3,
   "metadata": {},
   "outputs": [
    {
     "data": {
      "text/html": [
       "<table class=\"data-frame\"><thead><tr><th></th><th>ID_OUVRAGE</th><th>TP_LAT</th><th>TP_LNG</th><th>TP_Z</th></tr><tr><th></th><th>String</th><th>Float64</th><th>Float64</th><th>Float64</th></tr></thead><tbody><p>10 rows × 4 columns</p><tr><th>1</th><td>0642-01D</td><td>45.6727</td><td>-73.5262</td><td>19.3526</td></tr><tr><th>2</th><td>3305-06D</td><td>45.6136</td><td>-73.6363</td><td>12.25</td></tr><tr><th>3</th><td>3410-02D</td><td>45.5325</td><td>-73.696</td><td>19.3526</td></tr><tr><th>4</th><td>4315-01D</td><td>45.5628</td><td>-73.5243</td><td>14.39</td></tr><tr><th>5</th><td>4430-06D</td><td>45.4304</td><td>-73.6655</td><td>23.67</td></tr><tr><th>6</th><td>3275-01D</td><td>45.637</td><td>-73.607</td><td>14.53</td></tr><tr><th>7</th><td>4620-04D</td><td>45.416</td><td>-73.8844</td><td>25.09</td></tr><tr><th>8</th><td>4795-01D</td><td>45.4499</td><td>-73.5682</td><td>15.747</td></tr><tr><th>9</th><td>3762-01D</td><td>45.5764</td><td>-73.6619</td><td>13.53</td></tr><tr><th>10</th><td>4230-06D</td><td>45.6821</td><td>-73.4901</td><td>8.97</td></tr></tbody></table>"
      ],
      "text/latex": [
       "\\begin{tabular}{r|cccc}\n",
       "\t& ID\\_OUVRAGE & TP\\_LAT & TP\\_LNG & TP\\_Z\\\\\n",
       "\t\\hline\n",
       "\t& String & Float64 & Float64 & Float64\\\\\n",
       "\t\\hline\n",
       "\t1 & 0642-01D & 45.6727 & -73.5262 & 19.3526 \\\\\n",
       "\t2 & 3305-06D & 45.6136 & -73.6363 & 12.25 \\\\\n",
       "\t3 & 3410-02D & 45.5325 & -73.696 & 19.3526 \\\\\n",
       "\t4 & 4315-01D & 45.5628 & -73.5243 & 14.39 \\\\\n",
       "\t5 & 4430-06D & 45.4304 & -73.6655 & 23.67 \\\\\n",
       "\t6 & 3275-01D & 45.637 & -73.607 & 14.53 \\\\\n",
       "\t7 & 4620-04D & 45.416 & -73.8844 & 25.09 \\\\\n",
       "\t8 & 4795-01D & 45.4499 & -73.5682 & 15.747 \\\\\n",
       "\t9 & 3762-01D & 45.5764 & -73.6619 & 13.53 \\\\\n",
       "\t10 & 4230-06D & 45.6821 & -73.4901 & 8.97 \\\\\n",
       "\\end{tabular}\n"
      ],
      "text/plain": [
       "10×4 DataFrame\n",
       "│ Row │ ID_OUVRAGE │ TP_LAT  │ TP_LNG   │ TP_Z    │\n",
       "│     │ \u001b[90mString\u001b[39m     │ \u001b[90mFloat64\u001b[39m │ \u001b[90mFloat64\u001b[39m  │ \u001b[90mFloat64\u001b[39m │\n",
       "├─────┼────────────┼─────────┼──────────┼─────────┤\n",
       "│ 1   │ 0642-01D   │ 45.6727 │ -73.5262 │ 19.3526 │\n",
       "│ 2   │ 3305-06D   │ 45.6136 │ -73.6363 │ 12.25   │\n",
       "│ 3   │ 3410-02D   │ 45.5325 │ -73.696  │ 19.3526 │\n",
       "│ 4   │ 4315-01D   │ 45.5628 │ -73.5243 │ 14.39   │\n",
       "│ 5   │ 4430-06D   │ 45.4304 │ -73.6655 │ 23.67   │\n",
       "│ 6   │ 3275-01D   │ 45.637  │ -73.607  │ 14.53   │\n",
       "│ 7   │ 4620-04D   │ 45.416  │ -73.8844 │ 25.09   │\n",
       "│ 8   │ 4795-01D   │ 45.4499 │ -73.5682 │ 15.747  │\n",
       "│ 9   │ 3762-01D   │ 45.5764 │ -73.6619 │ 13.53   │\n",
       "│ 10  │ 4230-06D   │ 45.6821 │ -73.4901 │ 8.97    │"
      ]
     },
     "execution_count": 3,
     "metadata": {},
     "output_type": "execute_result"
    }
   ],
   "source": [
    "features.TP_Z = coalesce.(features.TP_Z, mean(features[completecases(features), :].TP_Z));\n",
    "first(shuffleDf(features), 10)"
   ]
  },
  {
   "cell_type": "markdown",
   "metadata": {},
   "source": [
    "### Load dates and surverses"
   ]
  },
  {
   "cell_type": "code",
   "execution_count": 4,
   "metadata": {},
   "outputs": [],
   "source": [
    "surverses = CSV.read(\"data/surverses.csv\",missingstring=\"-99999\");"
   ]
  },
  {
   "cell_type": "markdown",
   "metadata": {},
   "source": [
    "#### Filter months"
   ]
  },
  {
   "cell_type": "code",
   "execution_count": 5,
   "metadata": {},
   "outputs": [],
   "source": [
    "surverses = filter(row -> month(row.DATE) > 4, surverses);\n",
    "surverses = filter(row -> month(row.DATE) < 11, surverses);"
   ]
  },
  {
   "cell_type": "markdown",
   "metadata": {},
   "source": [
    "#### Filter non rain surverses"
   ]
  },
  {
   "cell_type": "code",
   "execution_count": 6,
   "metadata": {},
   "outputs": [],
   "source": [
    "raison = coalesce.(surverses[:,:RAISON],\"Inconnue\");\n",
    "surverses[!,:RAISON] = raison;\n",
    "\n",
    "surverses = filter(row -> row.RAISON ∈ [\"P\",\"Inconnue\",\"TS\"], surverses);\n",
    "select!(surverses, [:NO_OUVRAGE, :DATE, :SURVERSE]);"
   ]
  },
  {
   "cell_type": "markdown",
   "metadata": {},
   "source": [
    "#### Remove missing data and rename"
   ]
  },
  {
   "cell_type": "code",
   "execution_count": 7,
   "metadata": {},
   "outputs": [
    {
     "data": {
      "text/html": [
       "<table class=\"data-frame\"><thead><tr><th></th><th>ID_OUVRAGE</th><th>DATE</th><th>SURVERSE</th></tr><tr><th></th><th>String</th><th>Date</th><th>Int64</th></tr></thead><tbody><p>10 rows × 3 columns</p><tr><th>1</th><td>4280-02D</td><td>2013-06-05</td><td>0</td></tr><tr><th>2</th><td>4620-01D</td><td>2016-09-18</td><td>0</td></tr><tr><th>3</th><td>4420-04D</td><td>2018-06-17</td><td>0</td></tr><tr><th>4</th><td>3480-02D</td><td>2013-08-25</td><td>0</td></tr><tr><th>5</th><td>4430-05D</td><td>2016-07-12</td><td>0</td></tr><tr><th>6</th><td>4370-04D</td><td>2013-08-13</td><td>0</td></tr><tr><th>7</th><td>4620-01D</td><td>2018-08-03</td><td>0</td></tr><tr><th>8</th><td>3290-01D</td><td>2013-08-02</td><td>0</td></tr><tr><th>9</th><td>4430-04D</td><td>2017-05-06</td><td>0</td></tr><tr><th>10</th><td>3480-03D</td><td>2013-05-07</td><td>0</td></tr></tbody></table>"
      ],
      "text/latex": [
       "\\begin{tabular}{r|ccc}\n",
       "\t& ID\\_OUVRAGE & DATE & SURVERSE\\\\\n",
       "\t\\hline\n",
       "\t& String & Date & Int64\\\\\n",
       "\t\\hline\n",
       "\t1 & 4280-02D & 2013-06-05 & 0 \\\\\n",
       "\t2 & 4620-01D & 2016-09-18 & 0 \\\\\n",
       "\t3 & 4420-04D & 2018-06-17 & 0 \\\\\n",
       "\t4 & 3480-02D & 2013-08-25 & 0 \\\\\n",
       "\t5 & 4430-05D & 2016-07-12 & 0 \\\\\n",
       "\t6 & 4370-04D & 2013-08-13 & 0 \\\\\n",
       "\t7 & 4620-01D & 2018-08-03 & 0 \\\\\n",
       "\t8 & 3290-01D & 2013-08-02 & 0 \\\\\n",
       "\t9 & 4430-04D & 2017-05-06 & 0 \\\\\n",
       "\t10 & 3480-03D & 2013-05-07 & 0 \\\\\n",
       "\\end{tabular}\n"
      ],
      "text/plain": [
       "10×3 DataFrame\n",
       "│ Row │ ID_OUVRAGE │ DATE       │ SURVERSE │\n",
       "│     │ \u001b[90mString\u001b[39m     │ \u001b[90mDate\u001b[39m       │ \u001b[90mInt64\u001b[39m    │\n",
       "├─────┼────────────┼────────────┼──────────┤\n",
       "│ 1   │ 4280-02D   │ 2013-06-05 │ 0        │\n",
       "│ 2   │ 4620-01D   │ 2016-09-18 │ 0        │\n",
       "│ 3   │ 4420-04D   │ 2018-06-17 │ 0        │\n",
       "│ 4   │ 3480-02D   │ 2013-08-25 │ 0        │\n",
       "│ 5   │ 4430-05D   │ 2016-07-12 │ 0        │\n",
       "│ 6   │ 4370-04D   │ 2013-08-13 │ 0        │\n",
       "│ 7   │ 4620-01D   │ 2018-08-03 │ 0        │\n",
       "│ 8   │ 3290-01D   │ 2013-08-02 │ 0        │\n",
       "│ 9   │ 4430-04D   │ 2017-05-06 │ 0        │\n",
       "│ 10  │ 3480-03D   │ 2013-05-07 │ 0        │"
      ]
     },
     "execution_count": 7,
     "metadata": {},
     "output_type": "execute_result"
    }
   ],
   "source": [
    "surverses = dropmissing(surverses, disallowmissing=true);\n",
    "rename!(surverses, :NO_OUVRAGE => :ID_OUVRAGE);\n",
    "first(shuffleDf(surverses),10)"
   ]
  },
  {
   "cell_type": "markdown",
   "metadata": {},
   "source": [
    "### Augment features with dates and label"
   ]
  },
  {
   "cell_type": "code",
   "execution_count": 8,
   "metadata": {},
   "outputs": [
    {
     "data": {
      "text/html": [
       "<table class=\"data-frame\"><thead><tr><th></th><th>ID_OUVRAGE</th><th>TP_LAT</th><th>TP_LNG</th><th>TP_Z</th><th>DATE</th><th>SURVERSE</th></tr><tr><th></th><th>String</th><th>Float64</th><th>Float64</th><th>Float64</th><th>Date</th><th>Int64</th></tr></thead><tbody><p>10 rows × 6 columns</p><tr><th>1</th><td>3230-01D</td><td>45.6661</td><td>-73.5469</td><td>13.77</td><td>2015-07-21</td><td>0</td></tr><tr><th>2</th><td>3350-09D</td><td>45.5371</td><td>-73.713</td><td>23.72</td><td>2014-08-24</td><td>0</td></tr><tr><th>3</th><td>3490-02D</td><td>45.5054</td><td>-73.8061</td><td>24.49</td><td>2014-05-12</td><td>0</td></tr><tr><th>4</th><td>4270-02D</td><td>45.6112</td><td>-73.5084</td><td>19.3526</td><td>2016-10-02</td><td>0</td></tr><tr><th>5</th><td>4265-01D</td><td>45.626</td><td>-73.4991</td><td>11.78</td><td>2018-05-08</td><td>0</td></tr><tr><th>6</th><td>3350-09D</td><td>45.5371</td><td>-73.713</td><td>23.72</td><td>2013-07-12</td><td>0</td></tr><tr><th>7</th><td>0672-03D</td><td>45.6732</td><td>-73.5402</td><td>9.99</td><td>2013-10-12</td><td>0</td></tr><tr><th>8</th><td>3370-01D</td><td>45.5653</td><td>-73.6631</td><td>18.21</td><td>2013-08-11</td><td>0</td></tr><tr><th>9</th><td>0801-01D</td><td>45.519</td><td>-73.5275</td><td>13.71</td><td>2014-05-23</td><td>0</td></tr><tr><th>10</th><td>4560-02D</td><td>45.451</td><td>-73.7841</td><td>26.18</td><td>2016-07-07</td><td>0</td></tr></tbody></table>"
      ],
      "text/latex": [
       "\\begin{tabular}{r|cccccc}\n",
       "\t& ID\\_OUVRAGE & TP\\_LAT & TP\\_LNG & TP\\_Z & DATE & SURVERSE\\\\\n",
       "\t\\hline\n",
       "\t& String & Float64 & Float64 & Float64 & Date & Int64\\\\\n",
       "\t\\hline\n",
       "\t1 & 3230-01D & 45.6661 & -73.5469 & 13.77 & 2015-07-21 & 0 \\\\\n",
       "\t2 & 3350-09D & 45.5371 & -73.713 & 23.72 & 2014-08-24 & 0 \\\\\n",
       "\t3 & 3490-02D & 45.5054 & -73.8061 & 24.49 & 2014-05-12 & 0 \\\\\n",
       "\t4 & 4270-02D & 45.6112 & -73.5084 & 19.3526 & 2016-10-02 & 0 \\\\\n",
       "\t5 & 4265-01D & 45.626 & -73.4991 & 11.78 & 2018-05-08 & 0 \\\\\n",
       "\t6 & 3350-09D & 45.5371 & -73.713 & 23.72 & 2013-07-12 & 0 \\\\\n",
       "\t7 & 0672-03D & 45.6732 & -73.5402 & 9.99 & 2013-10-12 & 0 \\\\\n",
       "\t8 & 3370-01D & 45.5653 & -73.6631 & 18.21 & 2013-08-11 & 0 \\\\\n",
       "\t9 & 0801-01D & 45.519 & -73.5275 & 13.71 & 2014-05-23 & 0 \\\\\n",
       "\t10 & 4560-02D & 45.451 & -73.7841 & 26.18 & 2016-07-07 & 0 \\\\\n",
       "\\end{tabular}\n"
      ],
      "text/plain": [
       "10×6 DataFrame\n",
       "│ Row │ ID_OUVRAGE │ TP_LAT  │ TP_LNG   │ TP_Z    │ DATE       │ SURVERSE │\n",
       "│     │ \u001b[90mString\u001b[39m     │ \u001b[90mFloat64\u001b[39m │ \u001b[90mFloat64\u001b[39m  │ \u001b[90mFloat64\u001b[39m │ \u001b[90mDate\u001b[39m       │ \u001b[90mInt64\u001b[39m    │\n",
       "├─────┼────────────┼─────────┼──────────┼─────────┼────────────┼──────────┤\n",
       "│ 1   │ 3230-01D   │ 45.6661 │ -73.5469 │ 13.77   │ 2015-07-21 │ 0        │\n",
       "│ 2   │ 3350-09D   │ 45.5371 │ -73.713  │ 23.72   │ 2014-08-24 │ 0        │\n",
       "│ 3   │ 3490-02D   │ 45.5054 │ -73.8061 │ 24.49   │ 2014-05-12 │ 0        │\n",
       "│ 4   │ 4270-02D   │ 45.6112 │ -73.5084 │ 19.3526 │ 2016-10-02 │ 0        │\n",
       "│ 5   │ 4265-01D   │ 45.626  │ -73.4991 │ 11.78   │ 2018-05-08 │ 0        │\n",
       "│ 6   │ 3350-09D   │ 45.5371 │ -73.713  │ 23.72   │ 2013-07-12 │ 0        │\n",
       "│ 7   │ 0672-03D   │ 45.6732 │ -73.5402 │ 9.99    │ 2013-10-12 │ 0        │\n",
       "│ 8   │ 3370-01D   │ 45.5653 │ -73.6631 │ 18.21   │ 2013-08-11 │ 0        │\n",
       "│ 9   │ 0801-01D   │ 45.519  │ -73.5275 │ 13.71   │ 2014-05-23 │ 0        │\n",
       "│ 10  │ 4560-02D   │ 45.451  │ -73.7841 │ 26.18   │ 2016-07-07 │ 0        │"
      ]
     },
     "execution_count": 8,
     "metadata": {},
     "output_type": "execute_result"
    }
   ],
   "source": [
    "comb = join(features, surverses, on = :ID_OUVRAGE);\n",
    "first(shuffleDf(comb), 10)"
   ]
  },
  {
   "cell_type": "markdown",
   "metadata": {},
   "source": [
    "### Load precipitation data"
   ]
  },
  {
   "cell_type": "markdown",
   "metadata": {},
   "source": [
    "#### Load and filter months between May & October included"
   ]
  },
  {
   "cell_type": "code",
   "execution_count": 9,
   "metadata": {},
   "outputs": [],
   "source": [
    "precipitation = CSV.read(\"data/precipitations.csv\",missingstring=\"-99999\");\n",
    "rename!(precipitation, Symbol(\"St-Hubert\")=>:StHubert);\n",
    "\n",
    "precipitation = filter(row -> month(row.date) > 4, precipitation);\n",
    "precipitation = filter(row -> month(row.date) < 11, precipitation); "
   ]
  },
  {
   "cell_type": "markdown",
   "metadata": {},
   "source": [
    "#### Replace missing data by 0"
   ]
  },
  {
   "cell_type": "code",
   "execution_count": 10,
   "metadata": {},
   "outputs": [
    {
     "data": {
      "text/html": [
       "<table class=\"data-frame\"><thead><tr><th></th><th>date</th><th>heure</th><th>McTavish</th><th>Bellevue</th><th>Assomption</th><th>Trudeau</th><th>StHubert</th></tr><tr><th></th><th>Date</th><th>Int64</th><th>Int64</th><th>Int64</th><th>Int64</th><th>Int64</th><th>Int64</th></tr></thead><tbody><p>5 rows × 7 columns</p><tr><th>1</th><td>2018-08-12</td><td>1</td><td>0</td><td>0</td><td>0</td><td>0</td><td>0</td></tr><tr><th>2</th><td>2015-10-09</td><td>19</td><td>0</td><td>0</td><td>0</td><td>0</td><td>0</td></tr><tr><th>3</th><td>2013-08-04</td><td>0</td><td>0</td><td>0</td><td>0</td><td>0</td><td>0</td></tr><tr><th>4</th><td>2014-06-24</td><td>17</td><td>0</td><td>0</td><td>100</td><td>0</td><td>5</td></tr><tr><th>5</th><td>2017-09-06</td><td>10</td><td>0</td><td>0</td><td>0</td><td>0</td><td>0</td></tr></tbody></table>"
      ],
      "text/latex": [
       "\\begin{tabular}{r|ccccccc}\n",
       "\t& date & heure & McTavish & Bellevue & Assomption & Trudeau & StHubert\\\\\n",
       "\t\\hline\n",
       "\t& Date & Int64 & Int64 & Int64 & Int64 & Int64 & Int64\\\\\n",
       "\t\\hline\n",
       "\t1 & 2018-08-12 & 1 & 0 & 0 & 0 & 0 & 0 \\\\\n",
       "\t2 & 2015-10-09 & 19 & 0 & 0 & 0 & 0 & 0 \\\\\n",
       "\t3 & 2013-08-04 & 0 & 0 & 0 & 0 & 0 & 0 \\\\\n",
       "\t4 & 2014-06-24 & 17 & 0 & 0 & 100 & 0 & 5 \\\\\n",
       "\t5 & 2017-09-06 & 10 & 0 & 0 & 0 & 0 & 0 \\\\\n",
       "\\end{tabular}\n"
      ],
      "text/plain": [
       "5×7 DataFrame. Omitted printing of 1 columns\n",
       "│ Row │ date       │ heure │ McTavish │ Bellevue │ Assomption │ Trudeau │\n",
       "│     │ \u001b[90mDate\u001b[39m       │ \u001b[90mInt64\u001b[39m │ \u001b[90mInt64\u001b[39m    │ \u001b[90mInt64\u001b[39m    │ \u001b[90mInt64\u001b[39m      │ \u001b[90mInt64\u001b[39m   │\n",
       "├─────┼────────────┼───────┼──────────┼──────────┼────────────┼─────────┤\n",
       "│ 1   │ 2018-08-12 │ 1     │ 0        │ 0        │ 0          │ 0       │\n",
       "│ 2   │ 2015-10-09 │ 19    │ 0        │ 0        │ 0          │ 0       │\n",
       "│ 3   │ 2013-08-04 │ 0     │ 0        │ 0        │ 0          │ 0       │\n",
       "│ 4   │ 2014-06-24 │ 17    │ 0        │ 0        │ 100        │ 0       │\n",
       "│ 5   │ 2017-09-06 │ 10    │ 0        │ 0        │ 0          │ 0       │"
      ]
     },
     "execution_count": 10,
     "metadata": {},
     "output_type": "execute_result"
    }
   ],
   "source": [
    "precipitation[!,:McTavish] = coalesce.(precipitation[:,:McTavish], 0);\n",
    "precipitation[!,:Bellevue] = coalesce.(precipitation[:,:Bellevue], 0);\n",
    "precipitation[!,:Assomption] = coalesce.(precipitation[:,:Assomption], 0);\n",
    "precipitation[!,:Trudeau] = coalesce.(precipitation[:,:Trudeau], 0);\n",
    "precipitation[!,:StHubert] = coalesce.(precipitation[:,:StHubert], 0);\n",
    "\n",
    "first(shuffleDf(precipitation), 5)"
   ]
  },
  {
   "cell_type": "markdown",
   "metadata": {},
   "source": [
    "### Extract features from precipitation"
   ]
  },
  {
   "cell_type": "markdown",
   "metadata": {},
   "source": [
    "#### Sum of precipitation for the day"
   ]
  },
  {
   "cell_type": "code",
   "execution_count": 11,
   "metadata": {
    "scrolled": true
   },
   "outputs": [
    {
     "data": {
      "text/html": [
       "<table class=\"data-frame\"><thead><tr><th></th><th>date</th><th>McTavish</th><th>Bellevue</th><th>Assomption</th><th>Trudeau</th><th>StHubert</th></tr><tr><th></th><th>Date</th><th>Int64</th><th>Int64</th><th>Int64</th><th>Int64</th><th>Int64</th></tr></thead><tbody><p>5 rows × 6 columns</p><tr><th>1</th><td>2019-10-01</td><td>542</td><td>0</td><td>0</td><td>548</td><td>658</td></tr><tr><th>2</th><td>2017-06-22</td><td>0</td><td>0</td><td>0</td><td>0</td><td>0</td></tr><tr><th>3</th><td>2015-10-25</td><td>204</td><td>152</td><td>167</td><td>158</td><td>178</td></tr><tr><th>4</th><td>2018-09-10</td><td>81</td><td>141</td><td>56</td><td>113</td><td>92</td></tr><tr><th>5</th><td>2017-06-07</td><td>0</td><td>0</td><td>0</td><td>0</td><td>0</td></tr></tbody></table>"
      ],
      "text/latex": [
       "\\begin{tabular}{r|cccccc}\n",
       "\t& date & McTavish & Bellevue & Assomption & Trudeau & StHubert\\\\\n",
       "\t\\hline\n",
       "\t& Date & Int64 & Int64 & Int64 & Int64 & Int64\\\\\n",
       "\t\\hline\n",
       "\t1 & 2019-10-01 & 542 & 0 & 0 & 548 & 658 \\\\\n",
       "\t2 & 2017-06-22 & 0 & 0 & 0 & 0 & 0 \\\\\n",
       "\t3 & 2015-10-25 & 204 & 152 & 167 & 158 & 178 \\\\\n",
       "\t4 & 2018-09-10 & 81 & 141 & 56 & 113 & 92 \\\\\n",
       "\t5 & 2017-06-07 & 0 & 0 & 0 & 0 & 0 \\\\\n",
       "\\end{tabular}\n"
      ],
      "text/plain": [
       "5×6 DataFrame\n",
       "│ Row │ date       │ McTavish │ Bellevue │ Assomption │ Trudeau │ StHubert │\n",
       "│     │ \u001b[90mDate\u001b[39m       │ \u001b[90mInt64\u001b[39m    │ \u001b[90mInt64\u001b[39m    │ \u001b[90mInt64\u001b[39m      │ \u001b[90mInt64\u001b[39m   │ \u001b[90mInt64\u001b[39m    │\n",
       "├─────┼────────────┼──────────┼──────────┼────────────┼─────────┼──────────┤\n",
       "│ 1   │ 2019-10-01 │ 542      │ 0        │ 0          │ 548     │ 658      │\n",
       "│ 2   │ 2017-06-22 │ 0        │ 0        │ 0          │ 0       │ 0        │\n",
       "│ 3   │ 2015-10-25 │ 204      │ 152      │ 167        │ 158     │ 178      │\n",
       "│ 4   │ 2018-09-10 │ 81       │ 141      │ 56         │ 113     │ 92       │\n",
       "│ 5   │ 2017-06-07 │ 0        │ 0        │ 0          │ 0       │ 0        │"
      ]
     },
     "execution_count": 11,
     "metadata": {},
     "output_type": "execute_result"
    }
   ],
   "source": [
    "pcp_sum = by(precipitation, :date,  McTavish = :McTavish=>sum, Bellevue = :Bellevue=>sum, \n",
    "   Assomption = :Assomption=>sum, Trudeau = :Trudeau=>sum, StHubert = :StHubert=>sum);\n",
    "first(shuffleDf(pcp_sum), 5)"
   ]
  },
  {
   "cell_type": "markdown",
   "metadata": {},
   "source": [
    "#### Maximum precipitation in an hour for the day"
   ]
  },
  {
   "cell_type": "code",
   "execution_count": 12,
   "metadata": {},
   "outputs": [
    {
     "data": {
      "text/html": [
       "<table class=\"data-frame\"><thead><tr><th></th><th>date</th><th>McTavish</th><th>Bellevue</th><th>Assomption</th><th>Trudeau</th><th>StHubert</th></tr><tr><th></th><th>Date</th><th>Int64</th><th>Int64</th><th>Int64</th><th>Int64</th><th>Int64</th></tr></thead><tbody><p>5 rows × 6 columns</p><tr><th>1</th><td>2015-08-01</td><td>23</td><td>17</td><td>0</td><td>47</td><td>8</td></tr><tr><th>2</th><td>2013-09-16</td><td>48</td><td>39</td><td>30</td><td>70</td><td>0</td></tr><tr><th>3</th><td>2018-06-10</td><td>0</td><td>0</td><td>2</td><td>0</td><td>0</td></tr><tr><th>4</th><td>2014-08-30</td><td>0</td><td>0</td><td>0</td><td>0</td><td>0</td></tr><tr><th>5</th><td>2019-07-27</td><td>0</td><td>0</td><td>3</td><td>0</td><td>28</td></tr></tbody></table>"
      ],
      "text/latex": [
       "\\begin{tabular}{r|cccccc}\n",
       "\t& date & McTavish & Bellevue & Assomption & Trudeau & StHubert\\\\\n",
       "\t\\hline\n",
       "\t& Date & Int64 & Int64 & Int64 & Int64 & Int64\\\\\n",
       "\t\\hline\n",
       "\t1 & 2015-08-01 & 23 & 17 & 0 & 47 & 8 \\\\\n",
       "\t2 & 2013-09-16 & 48 & 39 & 30 & 70 & 0 \\\\\n",
       "\t3 & 2018-06-10 & 0 & 0 & 2 & 0 & 0 \\\\\n",
       "\t4 & 2014-08-30 & 0 & 0 & 0 & 0 & 0 \\\\\n",
       "\t5 & 2019-07-27 & 0 & 0 & 3 & 0 & 28 \\\\\n",
       "\\end{tabular}\n"
      ],
      "text/plain": [
       "5×6 DataFrame\n",
       "│ Row │ date       │ McTavish │ Bellevue │ Assomption │ Trudeau │ StHubert │\n",
       "│     │ \u001b[90mDate\u001b[39m       │ \u001b[90mInt64\u001b[39m    │ \u001b[90mInt64\u001b[39m    │ \u001b[90mInt64\u001b[39m      │ \u001b[90mInt64\u001b[39m   │ \u001b[90mInt64\u001b[39m    │\n",
       "├─────┼────────────┼──────────┼──────────┼────────────┼─────────┼──────────┤\n",
       "│ 1   │ 2015-08-01 │ 23       │ 17       │ 0          │ 47      │ 8        │\n",
       "│ 2   │ 2013-09-16 │ 48       │ 39       │ 30         │ 70      │ 0        │\n",
       "│ 3   │ 2018-06-10 │ 0        │ 0        │ 2          │ 0       │ 0        │\n",
       "│ 4   │ 2014-08-30 │ 0        │ 0        │ 0          │ 0       │ 0        │\n",
       "│ 5   │ 2019-07-27 │ 0        │ 0        │ 3          │ 0       │ 28       │"
      ]
     },
     "execution_count": 12,
     "metadata": {},
     "output_type": "execute_result"
    }
   ],
   "source": [
    "pcp_max = by(precipitation, :date,  McTavish = :McTavish=>maximum, Bellevue = :Bellevue=>maximum, \n",
    "   Assomption = :Assomption=>maximum, Trudeau = :Trudeau=>maximum, StHubert = :StHubert=>maximum)\n",
    "first(shuffleDf(pcp_max),5)"
   ]
  },
  {
   "cell_type": "markdown",
   "metadata": {},
   "source": [
    "### Add precipitation data to features"
   ]
  },
  {
   "cell_type": "markdown",
   "metadata": {},
   "source": [
    "#### Get stations lat-lng"
   ]
  },
  {
   "cell_type": "code",
   "execution_count": 14,
   "metadata": {},
   "outputs": [
    {
     "data": {
      "text/html": [
       "<table class=\"data-frame\"><thead><tr><th></th><th>STATION</th><th>LAT</th><th>LNG</th></tr><tr><th></th><th>String</th><th>Float64</th><th>Float64</th></tr></thead><tbody><p>5 rows × 3 columns</p><tr><th>1</th><td>McTavish</td><td>45.5047</td><td>-73.5792</td></tr><tr><th>2</th><td>Bellevue</td><td>45.4272</td><td>-73.9292</td></tr><tr><th>3</th><td>Assomption</td><td>45.8094</td><td>-73.4347</td></tr><tr><th>4</th><td>Trudeau</td><td>45.4678</td><td>-73.7417</td></tr><tr><th>5</th><td>StHubert</td><td>45.5175</td><td>-73.4169</td></tr></tbody></table>"
      ],
      "text/latex": [
       "\\begin{tabular}{r|ccc}\n",
       "\t& STATION & LAT & LNG\\\\\n",
       "\t\\hline\n",
       "\t& String & Float64 & Float64\\\\\n",
       "\t\\hline\n",
       "\t1 & McTavish & 45.5047 & -73.5792 \\\\\n",
       "\t2 & Bellevue & 45.4272 & -73.9292 \\\\\n",
       "\t3 & Assomption & 45.8094 & -73.4347 \\\\\n",
       "\t4 & Trudeau & 45.4678 & -73.7417 \\\\\n",
       "\t5 & StHubert & 45.5175 & -73.4169 \\\\\n",
       "\\end{tabular}\n"
      ],
      "text/plain": [
       "5×3 DataFrame\n",
       "│ Row │ STATION    │ LAT     │ LNG      │\n",
       "│     │ \u001b[90mString\u001b[39m     │ \u001b[90mFloat64\u001b[39m │ \u001b[90mFloat64\u001b[39m  │\n",
       "├─────┼────────────┼─────────┼──────────┤\n",
       "│ 1   │ McTavish   │ 45.5047 │ -73.5792 │\n",
       "│ 2   │ Bellevue   │ 45.4272 │ -73.9292 │\n",
       "│ 3   │ Assomption │ 45.8094 │ -73.4347 │\n",
       "│ 4   │ Trudeau    │ 45.4678 │ -73.7417 │\n",
       "│ 5   │ StHubert   │ 45.5175 │ -73.4169 │"
      ]
     },
     "execution_count": 14,
     "metadata": {},
     "output_type": "execute_result"
    }
   ],
   "source": [
    "station_df = DataFrame(STATION = String[], LAT = Float64[], LNG = Float64[]);\n",
    "\n",
    "push!(station_df, [\"McTavish\", 45.504742, -73.579167]);\n",
    "push!(station_df, [\"Bellevue\", 45.427222, -73.929167]);\n",
    "push!(station_df, [\"Assomption\", 45.809444, -73.434722]);\n",
    "push!(station_df, [\"Trudeau\", 45.467778, -73.741667]);\n",
    "push!(station_df, [\"StHubert\", 45.5175, -73.416944]);\n",
    "\n",
    "station_df"
   ]
  },
  {
   "cell_type": "markdown",
   "metadata": {},
   "source": [
    "### Normalize elements"
   ]
  },
  {
   "cell_type": "markdown",
   "metadata": {},
   "source": [
    "#### Get extreme values"
   ]
  },
  {
   "cell_type": "code",
   "execution_count": 15,
   "metadata": {},
   "outputs": [],
   "source": [
    "min_lat = min(minimum(comb.TP_LAT), minimum(station_df.LAT));\n",
    "max_lat = max(maximum(comb.TP_LAT), maximum(station_df.LAT));\n",
    "\n",
    "min_lng = min(minimum(comb.TP_LNG), minimum(station_df.LNG));\n",
    "max_lng = max(maximum(comb.TP_LNG), maximum(station_df.LNG));\n",
    "\n",
    "min_z = minimum(comb.TP_Z);\n",
    "max_z = maximum(comb.TP_Z);"
   ]
  },
  {
   "cell_type": "markdown",
   "metadata": {},
   "source": [
    "#### Normalize every value of comb between 0 and 1"
   ]
  },
  {
   "cell_type": "code",
   "execution_count": 16,
   "metadata": {},
   "outputs": [
    {
     "data": {
      "text/html": [
       "<table class=\"data-frame\"><thead><tr><th></th><th>ID_OUVRAGE</th><th>TP_LAT</th><th>TP_LNG</th><th>TP_Z</th><th>DATE</th><th>SURVERSE</th></tr><tr><th></th><th>String</th><th>Float64</th><th>Float64</th><th>Float64</th><th>Date</th><th>Int64</th></tr></thead><tbody><p>10 rows × 6 columns</p><tr><th>1</th><td>3520-01D</td><td>0.206585</td><td>0.17491</td><td>0.624955</td><td>2018-09-24</td><td>0</td></tr><tr><th>2</th><td>4795-01D</td><td>0.116487</td><td>0.719818</td><td>0.241964</td><td>2014-09-01</td><td>0</td></tr><tr><th>3</th><td>4370-03D</td><td>0.0842328</td><td>0.458181</td><td>0.584737</td><td>2018-08-14</td><td>0</td></tr><tr><th>4</th><td>0672-01D</td><td>0.687609</td><td>0.788765</td><td>0.0252755</td><td>2013-06-11</td><td>0</td></tr><tr><th>5</th><td>4370-03D</td><td>0.0842328</td><td>0.458181</td><td>0.584737</td><td>2014-06-04</td><td>0</td></tr><tr><th>6</th><td>4400-02D</td><td>0.118583</td><td>0.711983</td><td>0.255796</td><td>2016-08-08</td><td>0</td></tr><tr><th>7</th><td>4230-01D</td><td>0.637935</td><td>0.849315</td><td>0.112579</td><td>2013-05-24</td><td>0</td></tr><tr><th>8</th><td>4430-03D</td><td>0.0306819</td><td>0.604824</td><td>0.454599</td><td>2016-06-11</td><td>0</td></tr><tr><th>9</th><td>0801-07D</td><td>0.286683</td><td>0.783098</td><td>0.825066</td><td>2016-09-10</td><td>0</td></tr><tr><th>10</th><td>3275-02D</td><td>0.5763</td><td>0.647929</td><td>0.202171</td><td>2014-05-13</td><td>0</td></tr></tbody></table>"
      ],
      "text/latex": [
       "\\begin{tabular}{r|cccccc}\n",
       "\t& ID\\_OUVRAGE & TP\\_LAT & TP\\_LNG & TP\\_Z & DATE & SURVERSE\\\\\n",
       "\t\\hline\n",
       "\t& String & Float64 & Float64 & Float64 & Date & Int64\\\\\n",
       "\t\\hline\n",
       "\t1 & 3520-01D & 0.206585 & 0.17491 & 0.624955 & 2018-09-24 & 0 \\\\\n",
       "\t2 & 4795-01D & 0.116487 & 0.719818 & 0.241964 & 2014-09-01 & 0 \\\\\n",
       "\t3 & 4370-03D & 0.0842328 & 0.458181 & 0.584737 & 2018-08-14 & 0 \\\\\n",
       "\t4 & 0672-01D & 0.687609 & 0.788765 & 0.0252755 & 2013-06-11 & 0 \\\\\n",
       "\t5 & 4370-03D & 0.0842328 & 0.458181 & 0.584737 & 2014-06-04 & 0 \\\\\n",
       "\t6 & 4400-02D & 0.118583 & 0.711983 & 0.255796 & 2016-08-08 & 0 \\\\\n",
       "\t7 & 4230-01D & 0.637935 & 0.849315 & 0.112579 & 2013-05-24 & 0 \\\\\n",
       "\t8 & 4430-03D & 0.0306819 & 0.604824 & 0.454599 & 2016-06-11 & 0 \\\\\n",
       "\t9 & 0801-07D & 0.286683 & 0.783098 & 0.825066 & 2016-09-10 & 0 \\\\\n",
       "\t10 & 3275-02D & 0.5763 & 0.647929 & 0.202171 & 2014-05-13 & 0 \\\\\n",
       "\\end{tabular}\n"
      ],
      "text/plain": [
       "10×6 DataFrame\n",
       "│ Row │ ID_OUVRAGE │ TP_LAT    │ TP_LNG   │ TP_Z      │ DATE       │ SURVERSE │\n",
       "│     │ \u001b[90mString\u001b[39m     │ \u001b[90mFloat64\u001b[39m   │ \u001b[90mFloat64\u001b[39m  │ \u001b[90mFloat64\u001b[39m   │ \u001b[90mDate\u001b[39m       │ \u001b[90mInt64\u001b[39m    │\n",
       "├─────┼────────────┼───────────┼──────────┼───────────┼────────────┼──────────┤\n",
       "│ 1   │ 3520-01D   │ 0.206585  │ 0.17491  │ 0.624955  │ 2018-09-24 │ 0        │\n",
       "│ 2   │ 4795-01D   │ 0.116487  │ 0.719818 │ 0.241964  │ 2014-09-01 │ 0        │\n",
       "│ 3   │ 4370-03D   │ 0.0842328 │ 0.458181 │ 0.584737  │ 2018-08-14 │ 0        │\n",
       "│ 4   │ 0672-01D   │ 0.687609  │ 0.788765 │ 0.0252755 │ 2013-06-11 │ 0        │\n",
       "│ 5   │ 4370-03D   │ 0.0842328 │ 0.458181 │ 0.584737  │ 2014-06-04 │ 0        │\n",
       "│ 6   │ 4400-02D   │ 0.118583  │ 0.711983 │ 0.255796  │ 2016-08-08 │ 0        │\n",
       "│ 7   │ 4230-01D   │ 0.637935  │ 0.849315 │ 0.112579  │ 2013-05-24 │ 0        │\n",
       "│ 8   │ 4430-03D   │ 0.0306819 │ 0.604824 │ 0.454599  │ 2016-06-11 │ 0        │\n",
       "│ 9   │ 0801-07D   │ 0.286683  │ 0.783098 │ 0.825066  │ 2016-09-10 │ 0        │\n",
       "│ 10  │ 3275-02D   │ 0.5763    │ 0.647929 │ 0.202171  │ 2014-05-13 │ 0        │"
      ]
     },
     "execution_count": 16,
     "metadata": {},
     "output_type": "execute_result"
    }
   ],
   "source": [
    "comb.TP_LAT = normalize.(comb.TP_LAT, min_lat, max_lat);\n",
    "comb.TP_LNG = normalize.(comb.TP_LNG, min_lng, max_lng);\n",
    "comb.TP_Z = normalize.(comb.TP_Z, min_z, max_z);\n",
    "\n",
    "first(shuffleDf(comb), 10)"
   ]
  },
  {
   "cell_type": "markdown",
   "metadata": {},
   "source": [
    "#### Normalize every value of station_df between 0 and 1"
   ]
  },
  {
   "cell_type": "code",
   "execution_count": 17,
   "metadata": {},
   "outputs": [
    {
     "data": {
      "text/html": [
       "<table class=\"data-frame\"><thead><tr><th></th><th>STATION</th><th>LAT</th><th>LNG</th></tr><tr><th></th><th>String</th><th>Float64</th><th>Float64</th></tr></thead><tbody><p>5 rows × 3 columns</p><tr><th>1</th><td>McTavish</td><td>0.251316</td><td>0.699536</td></tr><tr><th>2</th><td>Bellevue</td><td>0.0608415</td><td>0.0512791</td></tr><tr><th>3</th><td>Assomption</td><td>1.0</td><td>0.967072</td></tr><tr><th>4</th><td>Trudeau</td><td>0.160492</td><td>0.39856</td></tr><tr><th>5</th><td>StHubert</td><td>0.282664</td><td>1.0</td></tr></tbody></table>"
      ],
      "text/latex": [
       "\\begin{tabular}{r|ccc}\n",
       "\t& STATION & LAT & LNG\\\\\n",
       "\t\\hline\n",
       "\t& String & Float64 & Float64\\\\\n",
       "\t\\hline\n",
       "\t1 & McTavish & 0.251316 & 0.699536 \\\\\n",
       "\t2 & Bellevue & 0.0608415 & 0.0512791 \\\\\n",
       "\t3 & Assomption & 1.0 & 0.967072 \\\\\n",
       "\t4 & Trudeau & 0.160492 & 0.39856 \\\\\n",
       "\t5 & StHubert & 0.282664 & 1.0 \\\\\n",
       "\\end{tabular}\n"
      ],
      "text/plain": [
       "5×3 DataFrame\n",
       "│ Row │ STATION    │ LAT       │ LNG       │\n",
       "│     │ \u001b[90mString\u001b[39m     │ \u001b[90mFloat64\u001b[39m   │ \u001b[90mFloat64\u001b[39m   │\n",
       "├─────┼────────────┼───────────┼───────────┤\n",
       "│ 1   │ McTavish   │ 0.251316  │ 0.699536  │\n",
       "│ 2   │ Bellevue   │ 0.0608415 │ 0.0512791 │\n",
       "│ 3   │ Assomption │ 1.0       │ 0.967072  │\n",
       "│ 4   │ Trudeau    │ 0.160492  │ 0.39856   │\n",
       "│ 5   │ StHubert   │ 0.282664  │ 1.0       │"
      ]
     },
     "execution_count": 17,
     "metadata": {},
     "output_type": "execute_result"
    }
   ],
   "source": [
    "station_df.LAT = normalize.(station_df.LAT, min_lat, max_lat);\n",
    "station_df.LNG = normalize.(station_df.LNG, min_lng, max_lng);\n",
    "\n",
    "station_df"
   ]
  },
  {
   "cell_type": "markdown",
   "metadata": {},
   "source": [
    "### Augment Features"
   ]
  },
  {
   "cell_type": "markdown",
   "metadata": {},
   "source": [
    "#### Add pcp_sum and pcp_max columns"
   ]
  },
  {
   "cell_type": "code",
   "execution_count": 18,
   "metadata": {},
   "outputs": [],
   "source": [
    "comb.PCP_MAX = zeros(size(comb, 1));\n",
    "comb.PCP_SUM = zeros(size(comb, 1));\n",
    "permutecols!(comb, [:ID_OUVRAGE, :TP_LAT, :TP_LNG, :TP_Z, :DATE, :PCP_SUM, :PCP_MAX, :SURVERSE]);"
   ]
  },
  {
   "cell_type": "code",
   "execution_count": 19,
   "metadata": {},
   "outputs": [
    {
     "data": {
      "text/html": [
       "<table class=\"data-frame\"><thead><tr><th></th><th>ID_OUVRAGE</th><th>TP_LAT</th><th>TP_LNG</th><th>TP_Z</th><th>DATE</th><th>PCP_SUM</th><th>PCP_MAX</th><th>SURVERSE</th></tr><tr><th></th><th>String</th><th>Float64</th><th>Float64</th><th>Float64</th><th>Date</th><th>Float64</th><th>Float64</th><th>Int64</th></tr></thead><tbody><p>10 rows × 8 columns</p><tr><th>1</th><td>3350-03D</td><td>0.432488</td><td>0.553455</td><td>0.310401</td><td>2013-08-14</td><td>0.0</td><td>0.0</td><td>0</td></tr><tr><th>2</th><td>3410-02D</td><td>0.319462</td><td>0.483178</td><td>0.359859</td><td>2018-10-12</td><td>0.0</td><td>0.0</td><td>0</td></tr><tr><th>3</th><td>4270-02D</td><td>0.512785</td><td>0.830625</td><td>0.359859</td><td>2014-06-05</td><td>0.0</td><td>0.0</td><td>0</td></tr><tr><th>4</th><td>4420-02D</td><td>0.0997269</td><td>0.704644</td><td>0.285551</td><td>2016-06-22</td><td>0.0</td><td>0.0</td><td>0</td></tr><tr><th>5</th><td>4370-04D</td><td>0.0842328</td><td>0.458181</td><td>0.584737</td><td>2013-09-17</td><td>0.0</td><td>0.0</td><td>0</td></tr><tr><th>6</th><td>0642-01D</td><td>0.663919</td><td>0.797687</td><td>0.359859</td><td>2013-07-18</td><td>0.0</td><td>0.0</td><td>0</td></tr><tr><th>7</th><td>3350-09D</td><td>0.330728</td><td>0.451592</td><td>0.502665</td><td>2013-05-27</td><td>0.0</td><td>0.0</td><td>0</td></tr><tr><th>8</th><td>0801-09D</td><td>0.278466</td><td>0.780082</td><td>0.553674</td><td>2013-10-09</td><td>0.0</td><td>0.0</td><td>0</td></tr><tr><th>9</th><td>4720-01D</td><td>0.731445</td><td>0.86632</td><td>0.0736684</td><td>2015-08-13</td><td>0.0</td><td>0.0</td><td>0</td></tr><tr><th>10</th><td>3490-02D</td><td>0.252859</td><td>0.279298</td><td>0.527842</td><td>2015-10-24</td><td>0.0</td><td>0.0</td><td>0</td></tr></tbody></table>"
      ],
      "text/latex": [
       "\\begin{tabular}{r|cccccccc}\n",
       "\t& ID\\_OUVRAGE & TP\\_LAT & TP\\_LNG & TP\\_Z & DATE & PCP\\_SUM & PCP\\_MAX & SURVERSE\\\\\n",
       "\t\\hline\n",
       "\t& String & Float64 & Float64 & Float64 & Date & Float64 & Float64 & Int64\\\\\n",
       "\t\\hline\n",
       "\t1 & 3350-03D & 0.432488 & 0.553455 & 0.310401 & 2013-08-14 & 0.0 & 0.0 & 0 \\\\\n",
       "\t2 & 3410-02D & 0.319462 & 0.483178 & 0.359859 & 2018-10-12 & 0.0 & 0.0 & 0 \\\\\n",
       "\t3 & 4270-02D & 0.512785 & 0.830625 & 0.359859 & 2014-06-05 & 0.0 & 0.0 & 0 \\\\\n",
       "\t4 & 4420-02D & 0.0997269 & 0.704644 & 0.285551 & 2016-06-22 & 0.0 & 0.0 & 0 \\\\\n",
       "\t5 & 4370-04D & 0.0842328 & 0.458181 & 0.584737 & 2013-09-17 & 0.0 & 0.0 & 0 \\\\\n",
       "\t6 & 0642-01D & 0.663919 & 0.797687 & 0.359859 & 2013-07-18 & 0.0 & 0.0 & 0 \\\\\n",
       "\t7 & 3350-09D & 0.330728 & 0.451592 & 0.502665 & 2013-05-27 & 0.0 & 0.0 & 0 \\\\\n",
       "\t8 & 0801-09D & 0.278466 & 0.780082 & 0.553674 & 2013-10-09 & 0.0 & 0.0 & 0 \\\\\n",
       "\t9 & 4720-01D & 0.731445 & 0.86632 & 0.0736684 & 2015-08-13 & 0.0 & 0.0 & 0 \\\\\n",
       "\t10 & 3490-02D & 0.252859 & 0.279298 & 0.527842 & 2015-10-24 & 0.0 & 0.0 & 0 \\\\\n",
       "\\end{tabular}\n"
      ],
      "text/plain": [
       "10×8 DataFrame. Omitted printing of 2 columns\n",
       "│ Row │ ID_OUVRAGE │ TP_LAT    │ TP_LNG   │ TP_Z      │ DATE       │ PCP_SUM │\n",
       "│     │ \u001b[90mString\u001b[39m     │ \u001b[90mFloat64\u001b[39m   │ \u001b[90mFloat64\u001b[39m  │ \u001b[90mFloat64\u001b[39m   │ \u001b[90mDate\u001b[39m       │ \u001b[90mFloat64\u001b[39m │\n",
       "├─────┼────────────┼───────────┼──────────┼───────────┼────────────┼─────────┤\n",
       "│ 1   │ 3350-03D   │ 0.432488  │ 0.553455 │ 0.310401  │ 2013-08-14 │ 0.0     │\n",
       "│ 2   │ 3410-02D   │ 0.319462  │ 0.483178 │ 0.359859  │ 2018-10-12 │ 0.0     │\n",
       "│ 3   │ 4270-02D   │ 0.512785  │ 0.830625 │ 0.359859  │ 2014-06-05 │ 0.0     │\n",
       "│ 4   │ 4420-02D   │ 0.0997269 │ 0.704644 │ 0.285551  │ 2016-06-22 │ 0.0     │\n",
       "│ 5   │ 4370-04D   │ 0.0842328 │ 0.458181 │ 0.584737  │ 2013-09-17 │ 0.0     │\n",
       "│ 6   │ 0642-01D   │ 0.663919  │ 0.797687 │ 0.359859  │ 2013-07-18 │ 0.0     │\n",
       "│ 7   │ 3350-09D   │ 0.330728  │ 0.451592 │ 0.502665  │ 2013-05-27 │ 0.0     │\n",
       "│ 8   │ 0801-09D   │ 0.278466  │ 0.780082 │ 0.553674  │ 2013-10-09 │ 0.0     │\n",
       "│ 9   │ 4720-01D   │ 0.731445  │ 0.86632  │ 0.0736684 │ 2015-08-13 │ 0.0     │\n",
       "│ 10  │ 3490-02D   │ 0.252859  │ 0.279298 │ 0.527842  │ 2015-10-24 │ 0.0     │"
      ]
     },
     "execution_count": 19,
     "metadata": {},
     "output_type": "execute_result"
    }
   ],
   "source": [
    "first(shuffleDf(comb), 10)"
   ]
  },
  {
   "cell_type": "markdown",
   "metadata": {},
   "source": [
    "#### Find closest station to each ouvrage and add pcp_sum and pcp_max to it"
   ]
  },
  {
   "cell_type": "code",
   "execution_count": 20,
   "metadata": {},
   "outputs": [],
   "source": [
    "for i=1:size(comb, 1)\n",
    "    id_ouvrage = comb[i, 1]; \n",
    "    closest_station = \"McTavish\"; # initial value\n",
    "    shortest_dist = -1;\n",
    "    \n",
    "    # Find closest station\n",
    "    for j=1:size(station_df, 1)\n",
    "        dist = findDistance(comb[i, :TP_LAT], comb[i, :TP_LNG], station_df[j, :LAT], station_df[j, :LNG]);\n",
    "        \n",
    "        if shortest_dist == -1 || dist < shortest_dist\n",
    "            shortest_dist = dist;\n",
    "            closest_station = station_df[j, :STATION];\n",
    "        end\n",
    "    end\n",
    "    \n",
    "    # Augment comb with a weighted p_sum, based on the distance to the station\n",
    "    p_sum = pcp_sum[∈([comb[i, :DATE]]).(pcp_sum.date), Symbol(closest_station)];\n",
    "    comb[i, :PCP_SUM] = p_sum[1] * (1 - shortest_dist); \n",
    "    # Augment comb with a weighted p_max, based on the distance to the station\n",
    "    p_max = pcp_max[∈([comb[i, :DATE]]).(pcp_max.date), Symbol(closest_station)]\n",
    "    comb[i, :PCP_MAX] = p_max[1] * (1 - shortest_dist);\n",
    "end"
   ]
  },
  {
   "cell_type": "markdown",
   "metadata": {},
   "source": [
    "### TODO: Remove outlier in PCP_SUM and PCP_MAX that cause compression"
   ]
  },
  {
   "cell_type": "code",
   "execution_count": 30,
   "metadata": {},
   "outputs": [
    {
     "name": "stderr",
     "output_type": "stream",
     "text": [
      "┌ Warning: `getindex(df::DataFrame, col_ind::ColumnIndex)` is deprecated, use `df[!, col_ind]` instead.\n",
      "│   caller = top-level scope at In[30]:1\n",
      "└ @ Core In[30]:1\n",
      "┌ Warning: `getindex(df::DataFrame, col_ind::ColumnIndex)` is deprecated, use `df[!, col_ind]` instead.\n",
      "│   caller = top-level scope at In[30]:2\n",
      "└ @ Core In[30]:2\n"
     ]
    }
   ],
   "source": [
    "comb[comb[:PCP_SUM] .> 500, :PCP_SUM] = 500;\n",
    "comb[comb[:PCP_MAX] .> 500, :PCP_MAX] = 500;"
   ]
  },
  {
   "cell_type": "code",
   "execution_count": 31,
   "metadata": {},
   "outputs": [
    {
     "data": {
      "text/html": [
       "<table class=\"data-frame\"><thead><tr><th></th><th>ID_OUVRAGE</th><th>TP_LAT</th><th>TP_LNG</th><th>TP_Z</th><th>DATE</th><th>PCP_SUM</th><th>PCP_MAX</th><th>SURVERSE</th></tr><tr><th></th><th>String</th><th>Float64</th><th>Float64</th><th>Float64</th><th>Date</th><th>Float64</th><th>Float64</th><th>Int64</th></tr></thead><tbody><p>10 rows × 8 columns</p><tr><th>1</th><td>3270-01D</td><td>0.586728</td><td>0.669867</td><td>0.420593</td><td>2015-10-25</td><td>135.309</td><td>43.7764</td><td>1</td></tr><tr><th>2</th><td>3350-01D</td><td>0.459837</td><td>0.564893</td><td>0.220482</td><td>2016-10-21</td><td>363.865</td><td>47.3625</td><td>1</td></tr><tr><th>3</th><td>3350-11D</td><td>0.320282</td><td>0.463777</td><td>0.553674</td><td>2014-07-31</td><td>101.772</td><td>51.2996</td><td>1</td></tr><tr><th>4</th><td>4340-01D</td><td>0.304064</td><td>0.76384</td><td>0.359121</td><td>2016-10-20</td><td>188.867</td><td>54.093</td><td>1</td></tr><tr><th>5</th><td>0801-05D</td><td>0.282104</td><td>0.788458</td><td>0.142334</td><td>2017-06-30</td><td>44.3891</td><td>40.7655</td><td>1</td></tr><tr><th>6</th><td>3260-01D</td><td>0.609996</td><td>0.697487</td><td>0.386587</td><td>2013-09-02</td><td>137.883</td><td>80.1643</td><td>1</td></tr><tr><th>7</th><td>4310-01D</td><td>0.398976</td><td>0.803102</td><td>0.182552</td><td>2013-07-17</td><td>196.714</td><td>196.714</td><td>1</td></tr><tr><th>8</th><td>3250-01D</td><td>0.623463</td><td>0.710794</td><td>0.288167</td><td>2015-09-19</td><td>48.9592</td><td>34.5225</td><td>1</td></tr><tr><th>9</th><td>4430-05D</td><td>0.0529114</td><td>0.554875</td><td>0.729588</td><td>2017-07-14</td><td>62.3887</td><td>34.8404</td><td>1</td></tr><tr><th>10</th><td>4400-01D</td><td>0.138043</td><td>0.73123</td><td>0.276395</td><td>2016-10-21</td><td>427.07</td><td>55.5897</td><td>1</td></tr></tbody></table>"
      ],
      "text/latex": [
       "\\begin{tabular}{r|cccccccc}\n",
       "\t& ID\\_OUVRAGE & TP\\_LAT & TP\\_LNG & TP\\_Z & DATE & PCP\\_SUM & PCP\\_MAX & SURVERSE\\\\\n",
       "\t\\hline\n",
       "\t& String & Float64 & Float64 & Float64 & Date & Float64 & Float64 & Int64\\\\\n",
       "\t\\hline\n",
       "\t1 & 3270-01D & 0.586728 & 0.669867 & 0.420593 & 2015-10-25 & 135.309 & 43.7764 & 1 \\\\\n",
       "\t2 & 3350-01D & 0.459837 & 0.564893 & 0.220482 & 2016-10-21 & 363.865 & 47.3625 & 1 \\\\\n",
       "\t3 & 3350-11D & 0.320282 & 0.463777 & 0.553674 & 2014-07-31 & 101.772 & 51.2996 & 1 \\\\\n",
       "\t4 & 4340-01D & 0.304064 & 0.76384 & 0.359121 & 2016-10-20 & 188.867 & 54.093 & 1 \\\\\n",
       "\t5 & 0801-05D & 0.282104 & 0.788458 & 0.142334 & 2017-06-30 & 44.3891 & 40.7655 & 1 \\\\\n",
       "\t6 & 3260-01D & 0.609996 & 0.697487 & 0.386587 & 2013-09-02 & 137.883 & 80.1643 & 1 \\\\\n",
       "\t7 & 4310-01D & 0.398976 & 0.803102 & 0.182552 & 2013-07-17 & 196.714 & 196.714 & 1 \\\\\n",
       "\t8 & 3250-01D & 0.623463 & 0.710794 & 0.288167 & 2015-09-19 & 48.9592 & 34.5225 & 1 \\\\\n",
       "\t9 & 4430-05D & 0.0529114 & 0.554875 & 0.729588 & 2017-07-14 & 62.3887 & 34.8404 & 1 \\\\\n",
       "\t10 & 4400-01D & 0.138043 & 0.73123 & 0.276395 & 2016-10-21 & 427.07 & 55.5897 & 1 \\\\\n",
       "\\end{tabular}\n"
      ],
      "text/plain": [
       "10×8 DataFrame. Omitted printing of 2 columns\n",
       "│ Row │ ID_OUVRAGE │ TP_LAT    │ TP_LNG   │ TP_Z     │ DATE       │ PCP_SUM │\n",
       "│     │ \u001b[90mString\u001b[39m     │ \u001b[90mFloat64\u001b[39m   │ \u001b[90mFloat64\u001b[39m  │ \u001b[90mFloat64\u001b[39m  │ \u001b[90mDate\u001b[39m       │ \u001b[90mFloat64\u001b[39m │\n",
       "├─────┼────────────┼───────────┼──────────┼──────────┼────────────┼─────────┤\n",
       "│ 1   │ 3270-01D   │ 0.586728  │ 0.669867 │ 0.420593 │ 2015-10-25 │ 135.309 │\n",
       "│ 2   │ 3350-01D   │ 0.459837  │ 0.564893 │ 0.220482 │ 2016-10-21 │ 363.865 │\n",
       "│ 3   │ 3350-11D   │ 0.320282  │ 0.463777 │ 0.553674 │ 2014-07-31 │ 101.772 │\n",
       "│ 4   │ 4340-01D   │ 0.304064  │ 0.76384  │ 0.359121 │ 2016-10-20 │ 188.867 │\n",
       "│ 5   │ 0801-05D   │ 0.282104  │ 0.788458 │ 0.142334 │ 2017-06-30 │ 44.3891 │\n",
       "│ 6   │ 3260-01D   │ 0.609996  │ 0.697487 │ 0.386587 │ 2013-09-02 │ 137.883 │\n",
       "│ 7   │ 4310-01D   │ 0.398976  │ 0.803102 │ 0.182552 │ 2013-07-17 │ 196.714 │\n",
       "│ 8   │ 3250-01D   │ 0.623463  │ 0.710794 │ 0.288167 │ 2015-09-19 │ 48.9592 │\n",
       "│ 9   │ 4430-05D   │ 0.0529114 │ 0.554875 │ 0.729588 │ 2017-07-14 │ 62.3887 │\n",
       "│ 10  │ 4400-01D   │ 0.138043  │ 0.73123  │ 0.276395 │ 2016-10-21 │ 427.07  │"
      ]
     },
     "execution_count": 31,
     "metadata": {},
     "output_type": "execute_result"
    }
   ],
   "source": [
    "first(shuffleDf(filter(row -> row.SURVERSE == 1, comb)), 10)"
   ]
  },
  {
   "cell_type": "markdown",
   "metadata": {},
   "source": [
    "#### Normalize pcp_sum and pcp_max"
   ]
  },
  {
   "cell_type": "code",
   "execution_count": 32,
   "metadata": {},
   "outputs": [],
   "source": [
    "min_pcp_sum = minimum(comb.PCP_SUM);\n",
    "max_pcp_sum = maximum(comb.PCP_SUM);\n",
    "\n",
    "min_pcp_max = minimum(comb.PCP_MAX);\n",
    "max_pcp_max = maximum(comb.PCP_MAX);"
   ]
  },
  {
   "cell_type": "code",
   "execution_count": 33,
   "metadata": {},
   "outputs": [],
   "source": [
    "comb.PCP_SUM = normalize.(comb.PCP_SUM, min_pcp_sum, max_pcp_sum);\n",
    "comb.PCP_MAX = normalize.(comb.PCP_MAX, min_pcp_max, max_pcp_max);"
   ]
  },
  {
   "cell_type": "code",
   "execution_count": 34,
   "metadata": {
    "scrolled": true
   },
   "outputs": [
    {
     "data": {
      "text/html": [
       "<table class=\"data-frame\"><thead><tr><th></th><th>ID_OUVRAGE</th><th>TP_LAT</th><th>TP_LNG</th><th>TP_Z</th><th>DATE</th><th>PCP_SUM</th><th>PCP_MAX</th><th>SURVERSE</th></tr><tr><th></th><th>String</th><th>Float64</th><th>Float64</th><th>Float64</th><th>Date</th><th>Float64</th><th>Float64</th><th>Int64</th></tr></thead><tbody><p>10 rows × 8 columns</p><tr><th>1</th><td>3370-01D</td><td>0.400013</td><td>0.544048</td><td>0.322499</td><td>2017-08-22</td><td>0.227608</td><td>0.16011</td><td>1</td></tr><tr><th>2</th><td>3410-02D</td><td>0.319462</td><td>0.483178</td><td>0.359859</td><td>2013-08-13</td><td>0.178741</td><td>0.109868</td><td>1</td></tr><tr><th>3</th><td>4380-01D</td><td>0.160421</td><td>0.728206</td><td>0.359859</td><td>2016-10-21</td><td>0.875741</td><td>0.113991</td><td>1</td></tr><tr><th>4</th><td>4430-05D</td><td>0.0529114</td><td>0.554875</td><td>0.729588</td><td>2016-10-27</td><td>0.202561</td><td>0.0518555</td><td>1</td></tr><tr><th>5</th><td>3750-01D</td><td>0.506656</td><td>0.587505</td><td>0.106366</td><td>2017-10-09</td><td>0.467314</td><td>0.118271</td><td>1</td></tr><tr><th>6</th><td>4230-04D</td><td>0.660589</td><td>0.861562</td><td>0.0200438</td><td>2018-06-18</td><td>0.413812</td><td>0.170166</td><td>1</td></tr><tr><th>7</th><td>0801-05D</td><td>0.282104</td><td>0.788458</td><td>0.142334</td><td>2013-06-29</td><td>0.0</td><td>0.0</td><td>1</td></tr><tr><th>8</th><td>3260-01D</td><td>0.609996</td><td>0.697487</td><td>0.386587</td><td>2016-10-21</td><td>0.620792</td><td>0.0808056</td><td>1</td></tr><tr><th>9</th><td>3290-01D</td><td>0.543825</td><td>0.620308</td><td>0.376124</td><td>2015-05-11</td><td>0.289932</td><td>0.0641195</td><td>1</td></tr><tr><th>10</th><td>3260-01D</td><td>0.609996</td><td>0.697487</td><td>0.386587</td><td>2013-06-11</td><td>0.459181</td><td>0.0641314</td><td>1</td></tr></tbody></table>"
      ],
      "text/latex": [
       "\\begin{tabular}{r|cccccccc}\n",
       "\t& ID\\_OUVRAGE & TP\\_LAT & TP\\_LNG & TP\\_Z & DATE & PCP\\_SUM & PCP\\_MAX & SURVERSE\\\\\n",
       "\t\\hline\n",
       "\t& String & Float64 & Float64 & Float64 & Date & Float64 & Float64 & Int64\\\\\n",
       "\t\\hline\n",
       "\t1 & 3370-01D & 0.400013 & 0.544048 & 0.322499 & 2017-08-22 & 0.227608 & 0.16011 & 1 \\\\\n",
       "\t2 & 3410-02D & 0.319462 & 0.483178 & 0.359859 & 2013-08-13 & 0.178741 & 0.109868 & 1 \\\\\n",
       "\t3 & 4380-01D & 0.160421 & 0.728206 & 0.359859 & 2016-10-21 & 0.875741 & 0.113991 & 1 \\\\\n",
       "\t4 & 4430-05D & 0.0529114 & 0.554875 & 0.729588 & 2016-10-27 & 0.202561 & 0.0518555 & 1 \\\\\n",
       "\t5 & 3750-01D & 0.506656 & 0.587505 & 0.106366 & 2017-10-09 & 0.467314 & 0.118271 & 1 \\\\\n",
       "\t6 & 4230-04D & 0.660589 & 0.861562 & 0.0200438 & 2018-06-18 & 0.413812 & 0.170166 & 1 \\\\\n",
       "\t7 & 0801-05D & 0.282104 & 0.788458 & 0.142334 & 2013-06-29 & 0.0 & 0.0 & 1 \\\\\n",
       "\t8 & 3260-01D & 0.609996 & 0.697487 & 0.386587 & 2016-10-21 & 0.620792 & 0.0808056 & 1 \\\\\n",
       "\t9 & 3290-01D & 0.543825 & 0.620308 & 0.376124 & 2015-05-11 & 0.289932 & 0.0641195 & 1 \\\\\n",
       "\t10 & 3260-01D & 0.609996 & 0.697487 & 0.386587 & 2013-06-11 & 0.459181 & 0.0641314 & 1 \\\\\n",
       "\\end{tabular}\n"
      ],
      "text/plain": [
       "10×8 DataFrame. Omitted printing of 2 columns\n",
       "│ Row │ ID_OUVRAGE │ TP_LAT    │ TP_LNG   │ TP_Z      │ DATE       │ PCP_SUM  │\n",
       "│     │ \u001b[90mString\u001b[39m     │ \u001b[90mFloat64\u001b[39m   │ \u001b[90mFloat64\u001b[39m  │ \u001b[90mFloat64\u001b[39m   │ \u001b[90mDate\u001b[39m       │ \u001b[90mFloat64\u001b[39m  │\n",
       "├─────┼────────────┼───────────┼──────────┼───────────┼────────────┼──────────┤\n",
       "│ 1   │ 3370-01D   │ 0.400013  │ 0.544048 │ 0.322499  │ 2017-08-22 │ 0.227608 │\n",
       "│ 2   │ 3410-02D   │ 0.319462  │ 0.483178 │ 0.359859  │ 2013-08-13 │ 0.178741 │\n",
       "│ 3   │ 4380-01D   │ 0.160421  │ 0.728206 │ 0.359859  │ 2016-10-21 │ 0.875741 │\n",
       "│ 4   │ 4430-05D   │ 0.0529114 │ 0.554875 │ 0.729588  │ 2016-10-27 │ 0.202561 │\n",
       "│ 5   │ 3750-01D   │ 0.506656  │ 0.587505 │ 0.106366  │ 2017-10-09 │ 0.467314 │\n",
       "│ 6   │ 4230-04D   │ 0.660589  │ 0.861562 │ 0.0200438 │ 2018-06-18 │ 0.413812 │\n",
       "│ 7   │ 0801-05D   │ 0.282104  │ 0.788458 │ 0.142334  │ 2013-06-29 │ 0.0      │\n",
       "│ 8   │ 3260-01D   │ 0.609996  │ 0.697487 │ 0.386587  │ 2016-10-21 │ 0.620792 │\n",
       "│ 9   │ 3290-01D   │ 0.543825  │ 0.620308 │ 0.376124  │ 2015-05-11 │ 0.289932 │\n",
       "│ 10  │ 3260-01D   │ 0.609996  │ 0.697487 │ 0.386587  │ 2013-06-11 │ 0.459181 │"
      ]
     },
     "execution_count": 34,
     "metadata": {},
     "output_type": "execute_result"
    }
   ],
   "source": [
    "first(shuffleDf(filter(row -> row.SURVERSE == 1, comb)), 10)"
   ]
  },
  {
   "cell_type": "markdown",
   "metadata": {},
   "source": [
    "#### Normalize dates (UNUSED ANYMORE)"
   ]
  },
  {
   "cell_type": "code",
   "execution_count": 35,
   "metadata": {},
   "outputs": [],
   "source": [
    "dates = dateToDay.(comb.DATE);\n",
    "dates = normalize.(dates, minimum(dates), maximum(dates));"
   ]
  },
  {
   "cell_type": "markdown",
   "metadata": {},
   "source": [
    "# Model creation"
   ]
  },
  {
   "cell_type": "markdown",
   "metadata": {},
   "source": [
    "### Separate features and labels"
   ]
  },
  {
   "cell_type": "code",
   "execution_count": 66,
   "metadata": {},
   "outputs": [],
   "source": [
    "train_features = convert(Matrix{Float64},comb[:, [:TP_LAT, :TP_LNG, :TP_Z, :PCP_SUM, :PCP_MAX]]);\n",
    "# train_features = hcat(dates, train_features);"
   ]
  },
  {
   "cell_type": "code",
   "execution_count": 37,
   "metadata": {},
   "outputs": [],
   "source": [
    "train_labels = comb[:, :SURVERSE];"
   ]
  },
  {
   "cell_type": "markdown",
   "metadata": {},
   "source": [
    "### Build Model"
   ]
  },
  {
   "cell_type": "markdown",
   "metadata": {},
   "source": [
    "#### Test with tree first"
   ]
  },
  {
   "cell_type": "code",
   "execution_count": 38,
   "metadata": {},
   "outputs": [
    {
     "data": {
      "text/plain": [
       "Decision Tree\n",
       "Leaves: 3793\n",
       "Depth:  38"
      ]
     },
     "execution_count": 38,
     "metadata": {},
     "output_type": "execute_result"
    }
   ],
   "source": [
    "model_tree = build_tree(train_labels, train_features)"
   ]
  },
  {
   "cell_type": "code",
   "execution_count": 39,
   "metadata": {},
   "outputs": [
    {
     "data": {
      "text/plain": [
       "Decision Tree\n",
       "Leaves: 3545\n",
       "Depth:  38"
      ]
     },
     "execution_count": 39,
     "metadata": {},
     "output_type": "execute_result"
    }
   ],
   "source": [
    "model_tree = prune_tree(model_tree, 0.90)"
   ]
  },
  {
   "cell_type": "code",
   "execution_count": 44,
   "metadata": {},
   "outputs": [
    {
     "data": {
      "text/plain": [
       "Ensemble of Decision Trees\n",
       "Trees:      30\n",
       "Avg Leaves: 357.56666666666666\n",
       "Avg Depth:  10.0"
      ]
     },
     "execution_count": 44,
     "metadata": {},
     "output_type": "execute_result"
    }
   ],
   "source": [
    "model = build_forest(train_labels, train_features, 3, 30, 0.5, 10)"
   ]
  },
  {
   "cell_type": "markdown",
   "metadata": {},
   "source": [
    "# Prediction"
   ]
  },
  {
   "cell_type": "markdown",
   "metadata": {},
   "source": [
    "## Get the test data"
   ]
  },
  {
   "cell_type": "code",
   "execution_count": 45,
   "metadata": {},
   "outputs": [
    {
     "data": {
      "text/html": [
       "<table class=\"data-frame\"><thead><tr><th></th><th>ID_OUVRAGE</th><th>DATE</th></tr><tr><th></th><th>String</th><th>Date</th></tr></thead><tbody><p>10 rows × 2 columns</p><tr><th>1</th><td>3260-01D</td><td>2019-05-02</td></tr><tr><th>2</th><td>3260-01D</td><td>2019-05-09</td></tr><tr><th>3</th><td>3260-01D</td><td>2019-05-10</td></tr><tr><th>4</th><td>3260-01D</td><td>2019-05-15</td></tr><tr><th>5</th><td>3260-01D</td><td>2019-05-20</td></tr><tr><th>6</th><td>3260-01D</td><td>2019-05-23</td></tr><tr><th>7</th><td>3260-01D</td><td>2019-05-24</td></tr><tr><th>8</th><td>3260-01D</td><td>2019-05-26</td></tr><tr><th>9</th><td>3260-01D</td><td>2019-05-30</td></tr><tr><th>10</th><td>3350-07D</td><td>2019-05-01</td></tr></tbody></table>"
      ],
      "text/latex": [
       "\\begin{tabular}{r|cc}\n",
       "\t& ID\\_OUVRAGE & DATE\\\\\n",
       "\t\\hline\n",
       "\t& String & Date\\\\\n",
       "\t\\hline\n",
       "\t1 & 3260-01D & 2019-05-02 \\\\\n",
       "\t2 & 3260-01D & 2019-05-09 \\\\\n",
       "\t3 & 3260-01D & 2019-05-10 \\\\\n",
       "\t4 & 3260-01D & 2019-05-15 \\\\\n",
       "\t5 & 3260-01D & 2019-05-20 \\\\\n",
       "\t6 & 3260-01D & 2019-05-23 \\\\\n",
       "\t7 & 3260-01D & 2019-05-24 \\\\\n",
       "\t8 & 3260-01D & 2019-05-26 \\\\\n",
       "\t9 & 3260-01D & 2019-05-30 \\\\\n",
       "\t10 & 3350-07D & 2019-05-01 \\\\\n",
       "\\end{tabular}\n"
      ],
      "text/plain": [
       "10×2 DataFrame\n",
       "│ Row │ ID_OUVRAGE │ DATE       │\n",
       "│     │ \u001b[90mString\u001b[39m     │ \u001b[90mDate\u001b[39m       │\n",
       "├─────┼────────────┼────────────┤\n",
       "│ 1   │ 3260-01D   │ 2019-05-02 │\n",
       "│ 2   │ 3260-01D   │ 2019-05-09 │\n",
       "│ 3   │ 3260-01D   │ 2019-05-10 │\n",
       "│ 4   │ 3260-01D   │ 2019-05-15 │\n",
       "│ 5   │ 3260-01D   │ 2019-05-20 │\n",
       "│ 6   │ 3260-01D   │ 2019-05-23 │\n",
       "│ 7   │ 3260-01D   │ 2019-05-24 │\n",
       "│ 8   │ 3260-01D   │ 2019-05-26 │\n",
       "│ 9   │ 3260-01D   │ 2019-05-30 │\n",
       "│ 10  │ 3350-07D   │ 2019-05-01 │"
      ]
     },
     "execution_count": 45,
     "metadata": {},
     "output_type": "execute_result"
    }
   ],
   "source": [
    "test = CSV.read(\"data/test.csv\");\n",
    "rename!(test, :NO_OUVRAGE => :ID_OUVRAGE);\n",
    "first(test, 10)"
   ]
  },
  {
   "cell_type": "code",
   "execution_count": 46,
   "metadata": {},
   "outputs": [
    {
     "data": {
      "text/plain": [
       "283"
      ]
     },
     "execution_count": 46,
     "metadata": {},
     "output_type": "execute_result"
    }
   ],
   "source": [
    "to_merge = unique(comb[!, [:ID_OUVRAGE, :TP_LAT, :TP_LNG, :TP_Z]], :ID_OUVRAGE);\n",
    "test_comb = join(test, to_merge, on= [:ID_OUVRAGE]);\n",
    "nrow(test_comb)"
   ]
  },
  {
   "cell_type": "code",
   "execution_count": 47,
   "metadata": {},
   "outputs": [],
   "source": [
    "first(shuffleDf(test_comb), 10);"
   ]
  },
  {
   "cell_type": "markdown",
   "metadata": {},
   "source": [
    "### Add PCP_SUM and PCP_MAX"
   ]
  },
  {
   "cell_type": "markdown",
   "metadata": {},
   "source": [
    "#### Initialize default pcp"
   ]
  },
  {
   "cell_type": "code",
   "execution_count": 48,
   "metadata": {},
   "outputs": [],
   "source": [
    "test_comb.PCP_MAX = zeros(size(test_comb, 1));\n",
    "test_comb.PCP_SUM = zeros(size(test_comb, 1));\n",
    "permutecols!(test_comb, [:ID_OUVRAGE, :TP_LAT, :TP_LNG, :TP_Z, :DATE, :PCP_SUM, :PCP_MAX]);"
   ]
  },
  {
   "cell_type": "code",
   "execution_count": 49,
   "metadata": {},
   "outputs": [],
   "source": [
    "first(shuffleDf(test_comb), 10);"
   ]
  },
  {
   "cell_type": "markdown",
   "metadata": {},
   "source": [
    "#### Populate pcp"
   ]
  },
  {
   "cell_type": "code",
   "execution_count": 50,
   "metadata": {},
   "outputs": [],
   "source": [
    "for i=1:size(test_comb, 1)\n",
    "    id_ouvrage = test_comb[i, 1]; \n",
    "    closest_station = \"McTavish\"; # initial value\n",
    "    shortest_dist = -1;\n",
    "    \n",
    "    # Find closest station\n",
    "    for j=1:size(station_df, 1)\n",
    "        dist = findDistance(test_comb[i, :TP_LAT], test_comb[i, :TP_LNG], station_df[j, :LAT], station_df[j, :LNG]);\n",
    "        \n",
    "        if shortest_dist == -1 || dist < shortest_dist\n",
    "            shortest_dist = dist;\n",
    "            closest_station = station_df[j, :STATION];\n",
    "        end\n",
    "    end\n",
    "    \n",
    "    # Augment comb with a weighted p_sum, based on the distance to the station\n",
    "    p_sum = pcp_sum[∈([test_comb[i, :DATE]]).(pcp_sum.date), Symbol(closest_station)];\n",
    "    test_comb[i, :PCP_SUM] = p_sum[1] * (1 - shortest_dist); \n",
    "    # Augment comb with a weighted p_max, based on the distance to the station\n",
    "    p_max = pcp_max[∈([test_comb[i, :DATE]]).(pcp_max.date), Symbol(closest_station)]\n",
    "    test_comb[i, :PCP_MAX] = p_max[1] * (1 - shortest_dist);\n",
    "end"
   ]
  },
  {
   "cell_type": "code",
   "execution_count": 51,
   "metadata": {},
   "outputs": [
    {
     "data": {
      "text/html": [
       "<table class=\"data-frame\"><thead><tr><th></th><th>ID_OUVRAGE</th><th>TP_LAT</th><th>TP_LNG</th><th>TP_Z</th><th>DATE</th><th>PCP_SUM</th><th>PCP_MAX</th></tr><tr><th></th><th>String</th><th>Float64</th><th>Float64</th><th>Float64</th><th>Date</th><th>Float64</th><th>Float64</th></tr></thead><tbody><p>10 rows × 7 columns</p><tr><th>1</th><td>3260-01D</td><td>0.609996</td><td>0.697487</td><td>0.386587</td><td>2019-07-11</td><td>241.776</td><td>132.752</td></tr><tr><th>2</th><td>4380-01D</td><td>0.160421</td><td>0.728206</td><td>0.359859</td><td>2019-05-30</td><td>6.33284</td><td>6.33284</td></tr><tr><th>3</th><td>3260-01D</td><td>0.609996</td><td>0.697487</td><td>0.386587</td><td>2019-07-14</td><td>7.69577</td><td>5.13052</td></tr><tr><th>4</th><td>4240-01D</td><td>0.607546</td><td>0.868856</td><td>0.116503</td><td>2019-07-06</td><td>31.1831</td><td>29.8838</td></tr><tr><th>5</th><td>3350-07D</td><td>0.353054</td><td>0.490395</td><td>0.405552</td><td>2019-08-26</td><td>1.57332</td><td>1.57332</td></tr><tr><th>6</th><td>4350-01D</td><td>0.237379</td><td>0.74432</td><td>0.359859</td><td>2019-08-29</td><td>0.0</td><td>0.0</td></tr><tr><th>7</th><td>4380-01D</td><td>0.160421</td><td>0.728206</td><td>0.359859</td><td>2019-08-17</td><td>175.51</td><td>157.416</td></tr><tr><th>8</th><td>3260-01D</td><td>0.609996</td><td>0.697487</td><td>0.386587</td><td>2019-07-01</td><td>0.0</td><td>0.0</td></tr><tr><th>9</th><td>4240-01D</td><td>0.607546</td><td>0.868856</td><td>0.116503</td><td>2019-09-15</td><td>0.0</td><td>0.0</td></tr><tr><th>10</th><td>3350-07D</td><td>0.353054</td><td>0.490395</td><td>0.405552</td><td>2019-09-30</td><td>0.0</td><td>0.0</td></tr></tbody></table>"
      ],
      "text/latex": [
       "\\begin{tabular}{r|ccccccc}\n",
       "\t& ID\\_OUVRAGE & TP\\_LAT & TP\\_LNG & TP\\_Z & DATE & PCP\\_SUM & PCP\\_MAX\\\\\n",
       "\t\\hline\n",
       "\t& String & Float64 & Float64 & Float64 & Date & Float64 & Float64\\\\\n",
       "\t\\hline\n",
       "\t1 & 3260-01D & 0.609996 & 0.697487 & 0.386587 & 2019-07-11 & 241.776 & 132.752 \\\\\n",
       "\t2 & 4380-01D & 0.160421 & 0.728206 & 0.359859 & 2019-05-30 & 6.33284 & 6.33284 \\\\\n",
       "\t3 & 3260-01D & 0.609996 & 0.697487 & 0.386587 & 2019-07-14 & 7.69577 & 5.13052 \\\\\n",
       "\t4 & 4240-01D & 0.607546 & 0.868856 & 0.116503 & 2019-07-06 & 31.1831 & 29.8838 \\\\\n",
       "\t5 & 3350-07D & 0.353054 & 0.490395 & 0.405552 & 2019-08-26 & 1.57332 & 1.57332 \\\\\n",
       "\t6 & 4350-01D & 0.237379 & 0.74432 & 0.359859 & 2019-08-29 & 0.0 & 0.0 \\\\\n",
       "\t7 & 4380-01D & 0.160421 & 0.728206 & 0.359859 & 2019-08-17 & 175.51 & 157.416 \\\\\n",
       "\t8 & 3260-01D & 0.609996 & 0.697487 & 0.386587 & 2019-07-01 & 0.0 & 0.0 \\\\\n",
       "\t9 & 4240-01D & 0.607546 & 0.868856 & 0.116503 & 2019-09-15 & 0.0 & 0.0 \\\\\n",
       "\t10 & 3350-07D & 0.353054 & 0.490395 & 0.405552 & 2019-09-30 & 0.0 & 0.0 \\\\\n",
       "\\end{tabular}\n"
      ],
      "text/plain": [
       "10×7 DataFrame. Omitted printing of 1 columns\n",
       "│ Row │ ID_OUVRAGE │ TP_LAT   │ TP_LNG   │ TP_Z     │ DATE       │ PCP_SUM │\n",
       "│     │ \u001b[90mString\u001b[39m     │ \u001b[90mFloat64\u001b[39m  │ \u001b[90mFloat64\u001b[39m  │ \u001b[90mFloat64\u001b[39m  │ \u001b[90mDate\u001b[39m       │ \u001b[90mFloat64\u001b[39m │\n",
       "├─────┼────────────┼──────────┼──────────┼──────────┼────────────┼─────────┤\n",
       "│ 1   │ 3260-01D   │ 0.609996 │ 0.697487 │ 0.386587 │ 2019-07-11 │ 241.776 │\n",
       "│ 2   │ 4380-01D   │ 0.160421 │ 0.728206 │ 0.359859 │ 2019-05-30 │ 6.33284 │\n",
       "│ 3   │ 3260-01D   │ 0.609996 │ 0.697487 │ 0.386587 │ 2019-07-14 │ 7.69577 │\n",
       "│ 4   │ 4240-01D   │ 0.607546 │ 0.868856 │ 0.116503 │ 2019-07-06 │ 31.1831 │\n",
       "│ 5   │ 3350-07D   │ 0.353054 │ 0.490395 │ 0.405552 │ 2019-08-26 │ 1.57332 │\n",
       "│ 6   │ 4350-01D   │ 0.237379 │ 0.74432  │ 0.359859 │ 2019-08-29 │ 0.0     │\n",
       "│ 7   │ 4380-01D   │ 0.160421 │ 0.728206 │ 0.359859 │ 2019-08-17 │ 175.51  │\n",
       "│ 8   │ 3260-01D   │ 0.609996 │ 0.697487 │ 0.386587 │ 2019-07-01 │ 0.0     │\n",
       "│ 9   │ 4240-01D   │ 0.607546 │ 0.868856 │ 0.116503 │ 2019-09-15 │ 0.0     │\n",
       "│ 10  │ 3350-07D   │ 0.353054 │ 0.490395 │ 0.405552 │ 2019-09-30 │ 0.0     │"
      ]
     },
     "execution_count": 51,
     "metadata": {},
     "output_type": "execute_result"
    }
   ],
   "source": [
    "first(shuffleDf(test_comb), 10)"
   ]
  },
  {
   "cell_type": "markdown",
   "metadata": {},
   "source": [
    "#### Normalize pcp based on comb (not test_comb)"
   ]
  },
  {
   "cell_type": "code",
   "execution_count": 61,
   "metadata": {},
   "outputs": [],
   "source": [
    "min_pcp_sum = minimum(comb.PCP_SUM);\n",
    "max_pcp_sum = maximum(comb.PCP_SUM);\n",
    "\n",
    "min_pcp_max = minimum(comb.PCP_MAX);\n",
    "max_pcp_max = maximum(comb.PCP_MAX);"
   ]
  },
  {
   "cell_type": "code",
   "execution_count": 62,
   "metadata": {},
   "outputs": [],
   "source": [
    "test_comb.PCP_SUM = normalize.(test_comb.PCP_SUM, min_pcp_sum, max_pcp_sum);\n",
    "test_comb.PCP_MAX = normalize.(test_comb.PCP_MAX, min_pcp_max, max_pcp_max);"
   ]
  },
  {
   "cell_type": "code",
   "execution_count": 64,
   "metadata": {},
   "outputs": [
    {
     "data": {
      "text/html": [
       "<table class=\"data-frame\"><thead><tr><th></th><th>ID_OUVRAGE</th><th>TP_LAT</th><th>TP_LNG</th><th>TP_Z</th><th>DATE</th><th>PCP_SUM</th><th>PCP_MAX</th></tr><tr><th></th><th>String</th><th>Float64</th><th>Float64</th><th>Float64</th><th>Date</th><th>Float64</th><th>Float64</th></tr></thead><tbody><p>20 rows × 7 columns</p><tr><th>1</th><td>3260-01D</td><td>0.609996</td><td>0.697487</td><td>0.386587</td><td>2019-05-02</td><td>0.0454408</td><td>0.0390072</td></tr><tr><th>2</th><td>3260-01D</td><td>0.609996</td><td>0.697487</td><td>0.386587</td><td>2019-05-09</td><td>0.155547</td><td>0.146277</td></tr><tr><th>3</th><td>3260-01D</td><td>0.609996</td><td>0.697487</td><td>0.386587</td><td>2019-05-10</td><td>0.672874</td><td>0.214539</td></tr><tr><th>4</th><td>3260-01D</td><td>0.609996</td><td>0.697487</td><td>0.386587</td><td>2019-05-15</td><td>0.00349545</td><td>0.00650119</td></tr><tr><th>5</th><td>3260-01D</td><td>0.609996</td><td>0.697487</td><td>0.386587</td><td>2019-05-20</td><td>0.0803953</td><td>0.130024</td></tr><tr><th>6</th><td>3260-01D</td><td>0.609996</td><td>0.697487</td><td>0.386587</td><td>2019-05-23</td><td>0.305852</td><td>0.204788</td></tr><tr><th>7</th><td>3260-01D</td><td>0.609996</td><td>0.697487</td><td>0.386587</td><td>2019-05-24</td><td>0.0227204</td><td>0.0292554</td></tr><tr><th>8</th><td>3260-01D</td><td>0.609996</td><td>0.697487</td><td>0.386587</td><td>2019-05-26</td><td>0.00524317</td><td>0.00975179</td></tr><tr><th>9</th><td>3260-01D</td><td>0.609996</td><td>0.697487</td><td>0.386587</td><td>2019-05-30</td><td>0.0122341</td><td>0.0227542</td></tr><tr><th>10</th><td>3350-07D</td><td>0.353054</td><td>0.490395</td><td>0.405552</td><td>2019-05-01</td><td>0.10076</td><td>0.0837334</td></tr><tr><th>11</th><td>3350-07D</td><td>0.353054</td><td>0.490395</td><td>0.405552</td><td>2019-05-02</td><td>0.0278697</td><td>0.0318984</td></tr><tr><th>12</th><td>3350-07D</td><td>0.353054</td><td>0.490395</td><td>0.405552</td><td>2019-05-08</td><td>0.0</td><td>0.0</td></tr><tr><th>13</th><td>3350-07D</td><td>0.353054</td><td>0.490395</td><td>0.405552</td><td>2019-05-09</td><td>0.184369</td><td>0.171454</td></tr><tr><th>14</th><td>3350-07D</td><td>0.353054</td><td>0.490395</td><td>0.405552</td><td>2019-05-10</td><td>0.61099</td><td>0.191391</td></tr><tr><th>15</th><td>3350-07D</td><td>0.353054</td><td>0.490395</td><td>0.405552</td><td>2019-05-11</td><td>0.0</td><td>0.0</td></tr><tr><th>16</th><td>3350-07D</td><td>0.353054</td><td>0.490395</td><td>0.405552</td><td>2019-05-13</td><td>0.0192944</td><td>0.0358857</td></tr><tr><th>17</th><td>3350-07D</td><td>0.353054</td><td>0.490395</td><td>0.405552</td><td>2019-05-14</td><td>0.222958</td><td>0.0717715</td></tr><tr><th>18</th><td>3350-07D</td><td>0.353054</td><td>0.490395</td><td>0.405552</td><td>2019-05-18</td><td>0.00428765</td><td>0.00797461</td></tr><tr><th>19</th><td>3350-07D</td><td>0.353054</td><td>0.490395</td><td>0.405552</td><td>2019-05-19</td><td>0.122198</td><td>0.107657</td></tr><tr><th>20</th><td>3350-07D</td><td>0.353054</td><td>0.490395</td><td>0.405552</td><td>2019-05-20</td><td>0.113623</td><td>0.203353</td></tr></tbody></table>"
      ],
      "text/latex": [
       "\\begin{tabular}{r|ccccccc}\n",
       "\t& ID\\_OUVRAGE & TP\\_LAT & TP\\_LNG & TP\\_Z & DATE & PCP\\_SUM & PCP\\_MAX\\\\\n",
       "\t\\hline\n",
       "\t& String & Float64 & Float64 & Float64 & Date & Float64 & Float64\\\\\n",
       "\t\\hline\n",
       "\t1 & 3260-01D & 0.609996 & 0.697487 & 0.386587 & 2019-05-02 & 0.0454408 & 0.0390072 \\\\\n",
       "\t2 & 3260-01D & 0.609996 & 0.697487 & 0.386587 & 2019-05-09 & 0.155547 & 0.146277 \\\\\n",
       "\t3 & 3260-01D & 0.609996 & 0.697487 & 0.386587 & 2019-05-10 & 0.672874 & 0.214539 \\\\\n",
       "\t4 & 3260-01D & 0.609996 & 0.697487 & 0.386587 & 2019-05-15 & 0.00349545 & 0.00650119 \\\\\n",
       "\t5 & 3260-01D & 0.609996 & 0.697487 & 0.386587 & 2019-05-20 & 0.0803953 & 0.130024 \\\\\n",
       "\t6 & 3260-01D & 0.609996 & 0.697487 & 0.386587 & 2019-05-23 & 0.305852 & 0.204788 \\\\\n",
       "\t7 & 3260-01D & 0.609996 & 0.697487 & 0.386587 & 2019-05-24 & 0.0227204 & 0.0292554 \\\\\n",
       "\t8 & 3260-01D & 0.609996 & 0.697487 & 0.386587 & 2019-05-26 & 0.00524317 & 0.00975179 \\\\\n",
       "\t9 & 3260-01D & 0.609996 & 0.697487 & 0.386587 & 2019-05-30 & 0.0122341 & 0.0227542 \\\\\n",
       "\t10 & 3350-07D & 0.353054 & 0.490395 & 0.405552 & 2019-05-01 & 0.10076 & 0.0837334 \\\\\n",
       "\t11 & 3350-07D & 0.353054 & 0.490395 & 0.405552 & 2019-05-02 & 0.0278697 & 0.0318984 \\\\\n",
       "\t12 & 3350-07D & 0.353054 & 0.490395 & 0.405552 & 2019-05-08 & 0.0 & 0.0 \\\\\n",
       "\t13 & 3350-07D & 0.353054 & 0.490395 & 0.405552 & 2019-05-09 & 0.184369 & 0.171454 \\\\\n",
       "\t14 & 3350-07D & 0.353054 & 0.490395 & 0.405552 & 2019-05-10 & 0.61099 & 0.191391 \\\\\n",
       "\t15 & 3350-07D & 0.353054 & 0.490395 & 0.405552 & 2019-05-11 & 0.0 & 0.0 \\\\\n",
       "\t16 & 3350-07D & 0.353054 & 0.490395 & 0.405552 & 2019-05-13 & 0.0192944 & 0.0358857 \\\\\n",
       "\t17 & 3350-07D & 0.353054 & 0.490395 & 0.405552 & 2019-05-14 & 0.222958 & 0.0717715 \\\\\n",
       "\t18 & 3350-07D & 0.353054 & 0.490395 & 0.405552 & 2019-05-18 & 0.00428765 & 0.00797461 \\\\\n",
       "\t19 & 3350-07D & 0.353054 & 0.490395 & 0.405552 & 2019-05-19 & 0.122198 & 0.107657 \\\\\n",
       "\t20 & 3350-07D & 0.353054 & 0.490395 & 0.405552 & 2019-05-20 & 0.113623 & 0.203353 \\\\\n",
       "\\end{tabular}\n"
      ],
      "text/plain": [
       "20×7 DataFrame. Omitted printing of 1 columns\n",
       "│ Row │ ID_OUVRAGE │ TP_LAT   │ TP_LNG   │ TP_Z     │ DATE       │ PCP_SUM    │\n",
       "│     │ \u001b[90mString\u001b[39m     │ \u001b[90mFloat64\u001b[39m  │ \u001b[90mFloat64\u001b[39m  │ \u001b[90mFloat64\u001b[39m  │ \u001b[90mDate\u001b[39m       │ \u001b[90mFloat64\u001b[39m    │\n",
       "├─────┼────────────┼──────────┼──────────┼──────────┼────────────┼────────────┤\n",
       "│ 1   │ 3260-01D   │ 0.609996 │ 0.697487 │ 0.386587 │ 2019-05-02 │ 0.0454408  │\n",
       "│ 2   │ 3260-01D   │ 0.609996 │ 0.697487 │ 0.386587 │ 2019-05-09 │ 0.155547   │\n",
       "│ 3   │ 3260-01D   │ 0.609996 │ 0.697487 │ 0.386587 │ 2019-05-10 │ 0.672874   │\n",
       "│ 4   │ 3260-01D   │ 0.609996 │ 0.697487 │ 0.386587 │ 2019-05-15 │ 0.00349545 │\n",
       "│ 5   │ 3260-01D   │ 0.609996 │ 0.697487 │ 0.386587 │ 2019-05-20 │ 0.0803953  │\n",
       "│ 6   │ 3260-01D   │ 0.609996 │ 0.697487 │ 0.386587 │ 2019-05-23 │ 0.305852   │\n",
       "│ 7   │ 3260-01D   │ 0.609996 │ 0.697487 │ 0.386587 │ 2019-05-24 │ 0.0227204  │\n",
       "│ 8   │ 3260-01D   │ 0.609996 │ 0.697487 │ 0.386587 │ 2019-05-26 │ 0.00524317 │\n",
       "│ 9   │ 3260-01D   │ 0.609996 │ 0.697487 │ 0.386587 │ 2019-05-30 │ 0.0122341  │\n",
       "│ 10  │ 3350-07D   │ 0.353054 │ 0.490395 │ 0.405552 │ 2019-05-01 │ 0.10076    │\n",
       "│ 11  │ 3350-07D   │ 0.353054 │ 0.490395 │ 0.405552 │ 2019-05-02 │ 0.0278697  │\n",
       "│ 12  │ 3350-07D   │ 0.353054 │ 0.490395 │ 0.405552 │ 2019-05-08 │ 0.0        │\n",
       "│ 13  │ 3350-07D   │ 0.353054 │ 0.490395 │ 0.405552 │ 2019-05-09 │ 0.184369   │\n",
       "│ 14  │ 3350-07D   │ 0.353054 │ 0.490395 │ 0.405552 │ 2019-05-10 │ 0.61099    │\n",
       "│ 15  │ 3350-07D   │ 0.353054 │ 0.490395 │ 0.405552 │ 2019-05-11 │ 0.0        │\n",
       "│ 16  │ 3350-07D   │ 0.353054 │ 0.490395 │ 0.405552 │ 2019-05-13 │ 0.0192944  │\n",
       "│ 17  │ 3350-07D   │ 0.353054 │ 0.490395 │ 0.405552 │ 2019-05-14 │ 0.222958   │\n",
       "│ 18  │ 3350-07D   │ 0.353054 │ 0.490395 │ 0.405552 │ 2019-05-18 │ 0.00428765 │\n",
       "│ 19  │ 3350-07D   │ 0.353054 │ 0.490395 │ 0.405552 │ 2019-05-19 │ 0.122198   │\n",
       "│ 20  │ 3350-07D   │ 0.353054 │ 0.490395 │ 0.405552 │ 2019-05-20 │ 0.113623   │"
      ]
     },
     "execution_count": 64,
     "metadata": {},
     "output_type": "execute_result"
    }
   ],
   "source": [
    "first(test_comb, 20)"
   ]
  },
  {
   "cell_type": "markdown",
   "metadata": {},
   "source": [
    "#### Normalize dates (UNUSED ANYMORE)"
   ]
  },
  {
   "cell_type": "code",
   "execution_count": 203,
   "metadata": {},
   "outputs": [],
   "source": [
    "test_dates = dateToDay.(test_comb.DATE);\n",
    "test_dates = normalize.(test_dates, minimum(test_dates), maximum(test_dates));"
   ]
  },
  {
   "cell_type": "markdown",
   "metadata": {},
   "source": [
    "### Create Test features"
   ]
  },
  {
   "cell_type": "code",
   "execution_count": 63,
   "metadata": {},
   "outputs": [
    {
     "data": {
      "text/plain": [
       "283×5 Array{Float64,2}:\n",
       " 0.609996  0.697487  0.386587  0.0454408   0.0390072 \n",
       " 0.609996  0.697487  0.386587  0.155547    0.146277  \n",
       " 0.609996  0.697487  0.386587  0.672874    0.214539  \n",
       " 0.609996  0.697487  0.386587  0.00349545  0.00650119\n",
       " 0.609996  0.697487  0.386587  0.0803953   0.130024  \n",
       " 0.609996  0.697487  0.386587  0.305852    0.204788  \n",
       " 0.609996  0.697487  0.386587  0.0227204   0.0292554 \n",
       " 0.609996  0.697487  0.386587  0.00524317  0.00975179\n",
       " 0.609996  0.697487  0.386587  0.0122341   0.0227542 \n",
       " 0.353054  0.490395  0.405552  0.10076     0.0837334 \n",
       " 0.353054  0.490395  0.405552  0.0278697   0.0318984 \n",
       " 0.353054  0.490395  0.405552  0.0         0.0       \n",
       " 0.353054  0.490395  0.405552  0.184369    0.171454  \n",
       " ⋮                                                   \n",
       " 0.160421  0.728206  0.359859  0.0         0.0       \n",
       " 0.160421  0.728206  0.359859  0.86785     0.279719  \n",
       " 0.160421  0.728206  0.359859  0.559665    0.577781  \n",
       " 0.160421  0.728206  0.359859  0.0         0.0       \n",
       " 0.160421  0.728206  0.359859  0.0         0.0       \n",
       " 0.160421  0.728206  0.359859  0.0         0.0       \n",
       " 0.160421  0.728206  0.359859  0.0         0.0       \n",
       " 0.160421  0.728206  0.359859  0.0         0.0       \n",
       " 0.160421  0.728206  0.359859  0.276134    0.155909  \n",
       " 0.160421  0.728206  0.359859  0.135602    0.0779545 \n",
       " 0.160421  0.728206  0.359859  0.00493097  0.00917112\n",
       " 0.160421  0.728206  0.359859  0.0         0.0       "
      ]
     },
     "execution_count": 63,
     "metadata": {},
     "output_type": "execute_result"
    }
   ],
   "source": [
    "test_features = convert(Matrix{Float64}, test_comb[:, [:TP_LAT, :TP_LNG, :TP_Z, :PCP_SUM, :PCP_MAX]]);\n",
    "# test_features = hcat(test_dates, test_features);\n",
    "\n",
    "test_features"
   ]
  },
  {
   "cell_type": "markdown",
   "metadata": {},
   "source": [
    "## Predict"
   ]
  },
  {
   "cell_type": "code",
   "execution_count": 67,
   "metadata": {},
   "outputs": [
    {
     "data": {
      "text/plain": [
       "283-element Array{Int64,1}:\n",
       " 0\n",
       " 0\n",
       " 1\n",
       " 0\n",
       " 0\n",
       " 1\n",
       " 0\n",
       " 0\n",
       " 0\n",
       " 0\n",
       " 0\n",
       " 0\n",
       " 1\n",
       " ⋮\n",
       " 0\n",
       " 1\n",
       " 1\n",
       " 0\n",
       " 0\n",
       " 0\n",
       " 0\n",
       " 0\n",
       " 0\n",
       " 0\n",
       " 0\n",
       " 0"
      ]
     },
     "execution_count": 67,
     "metadata": {},
     "output_type": "execute_result"
    }
   ],
   "source": [
    "test_labels = apply_forest(model, test_features)"
   ]
  },
  {
   "cell_type": "markdown",
   "metadata": {},
   "source": [
    "## Generate submission"
   ]
  },
  {
   "cell_type": "code",
   "execution_count": 68,
   "metadata": {},
   "outputs": [
    {
     "data": {
      "text/plain": [
       "\"submissions/mc-submission-5.csv\""
      ]
     },
     "execution_count": 68,
     "metadata": {},
     "output_type": "execute_result"
    }
   ],
   "source": [
    "ID = test_comb[:,:ID_OUVRAGE].*\"_\".*string.(test_comb[:,:DATE])\n",
    "sampleSubmission = DataFrame(ID = ID, Surverse=test_labels)\n",
    "CSV.write(\"submissions/mc-submission-5.csv\",sampleSubmission)"
   ]
  }
 ],
 "metadata": {
  "kernelspec": {
   "display_name": "Julia 1.2.0",
   "language": "julia",
   "name": "julia-1.2"
  },
  "language_info": {
   "file_extension": ".jl",
   "mimetype": "application/julia",
   "name": "julia",
   "version": "1.0.5"
  }
 },
 "nbformat": 4,
 "nbformat_minor": 2
}
