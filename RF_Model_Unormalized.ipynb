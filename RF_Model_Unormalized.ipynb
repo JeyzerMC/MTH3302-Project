{
 "cells": [
  {
   "cell_type": "markdown",
   "metadata": {},
   "source": [
    "# Data Processing"
   ]
  },
  {
   "cell_type": "code",
   "execution_count": 1,
   "metadata": {},
   "outputs": [],
   "source": [
    "using CSV, DataFrames, DecisionTree, Statistics, Dates, Gadfly, Random, MLBase;\n",
    "include(\"utils/precipitation.jl\");"
   ]
  },
  {
   "cell_type": "markdown",
   "metadata": {},
   "source": [
    "## Build features"
   ]
  },
  {
   "cell_type": "markdown",
   "metadata": {},
   "source": [
    "### Get and filter the features"
   ]
  },
  {
   "cell_type": "markdown",
   "metadata": {},
   "source": [
    "#### Latitude, Longitude, Height"
   ]
  },
  {
   "cell_type": "code",
   "execution_count": 2,
   "metadata": {},
   "outputs": [],
   "source": [
    "features = CSV.read(\"data/ouvrages-surverses.csv\");\n",
    "colnames = [\"N_Env\", \"ID_SOMA\", \"ID_OUVRAGE\", \"NOM\", \"SOMA_SEC\", \"REGION\", \"TP_X\", \"TP_Y\", \"TP_Z\", \"TP_LAT\", \"TP_LNG\", \"EMI_X\", \"EMI_Y\", \"EMI_LNG\", \"EMI_LAT\"];\n",
    "names!(features, Symbol.(colnames));\n",
    "select!(features, [:ID_OUVRAGE, :TP_LAT, :TP_LNG, :TP_Z]);"
   ]
  },
  {
   "cell_type": "markdown",
   "metadata": {},
   "source": [
    "#### Replace missing Z index with mean"
   ]
  },
  {
   "cell_type": "code",
   "execution_count": 3,
   "metadata": {},
   "outputs": [
    {
     "data": {
      "text/html": [
       "<table class=\"data-frame\"><thead><tr><th></th><th>ID_OUVRAGE</th><th>TP_LAT</th><th>TP_LNG</th><th>TP_Z</th></tr><tr><th></th><th>String</th><th>Float64</th><th>Float64</th><th>Float64</th></tr></thead><tbody><p>10 rows × 4 columns</p><tr><th>1</th><td>4230-03D</td><td>45.6705</td><td>-73.4918</td><td>9.1</td></tr><tr><th>2</th><td>3350-04D</td><td>45.5761</td><td>-73.6603</td><td>9.43</td></tr><tr><th>3</th><td>3260-01D</td><td>45.6507</td><td>-73.5803</td><td>20.17</td></tr><tr><th>4</th><td>3305-04D</td><td>45.6196</td><td>-73.6329</td><td>11.76</td></tr><tr><th>5</th><td>4420-02D</td><td>45.443</td><td>-73.5764</td><td>17.08</td></tr><tr><th>6</th><td>4265-01D</td><td>45.626</td><td>-73.4991</td><td>11.78</td></tr><tr><th>7</th><td>0672-03D</td><td>45.6732</td><td>-73.5402</td><td>9.99</td></tr><tr><th>8</th><td>4610-08D</td><td>45.4267</td><td>-73.8538</td><td>19.3526</td></tr><tr><th>9</th><td>3305-01D</td><td>45.6257</td><td>-73.6241</td><td>12.7</td></tr><tr><th>10</th><td>3790-01D</td><td>45.4027</td><td>-73.9466</td><td>23.6</td></tr></tbody></table>"
      ],
      "text/latex": [
       "\\begin{tabular}{r|cccc}\n",
       "\t& ID\\_OUVRAGE & TP\\_LAT & TP\\_LNG & TP\\_Z\\\\\n",
       "\t\\hline\n",
       "\t& String & Float64 & Float64 & Float64\\\\\n",
       "\t\\hline\n",
       "\t1 & 4230-03D & 45.6705 & -73.4918 & 9.1 \\\\\n",
       "\t2 & 3350-04D & 45.5761 & -73.6603 & 9.43 \\\\\n",
       "\t3 & 3260-01D & 45.6507 & -73.5803 & 20.17 \\\\\n",
       "\t4 & 3305-04D & 45.6196 & -73.6329 & 11.76 \\\\\n",
       "\t5 & 4420-02D & 45.443 & -73.5764 & 17.08 \\\\\n",
       "\t6 & 4265-01D & 45.626 & -73.4991 & 11.78 \\\\\n",
       "\t7 & 0672-03D & 45.6732 & -73.5402 & 9.99 \\\\\n",
       "\t8 & 4610-08D & 45.4267 & -73.8538 & 19.3526 \\\\\n",
       "\t9 & 3305-01D & 45.6257 & -73.6241 & 12.7 \\\\\n",
       "\t10 & 3790-01D & 45.4027 & -73.9466 & 23.6 \\\\\n",
       "\\end{tabular}\n"
      ],
      "text/plain": [
       "10×4 DataFrame\n",
       "│ Row │ ID_OUVRAGE │ TP_LAT  │ TP_LNG   │ TP_Z    │\n",
       "│     │ \u001b[90mString\u001b[39m     │ \u001b[90mFloat64\u001b[39m │ \u001b[90mFloat64\u001b[39m  │ \u001b[90mFloat64\u001b[39m │\n",
       "├─────┼────────────┼─────────┼──────────┼─────────┤\n",
       "│ 1   │ 4230-03D   │ 45.6705 │ -73.4918 │ 9.1     │\n",
       "│ 2   │ 3350-04D   │ 45.5761 │ -73.6603 │ 9.43    │\n",
       "│ 3   │ 3260-01D   │ 45.6507 │ -73.5803 │ 20.17   │\n",
       "│ 4   │ 3305-04D   │ 45.6196 │ -73.6329 │ 11.76   │\n",
       "│ 5   │ 4420-02D   │ 45.443  │ -73.5764 │ 17.08   │\n",
       "│ 6   │ 4265-01D   │ 45.626  │ -73.4991 │ 11.78   │\n",
       "│ 7   │ 0672-03D   │ 45.6732 │ -73.5402 │ 9.99    │\n",
       "│ 8   │ 4610-08D   │ 45.4267 │ -73.8538 │ 19.3526 │\n",
       "│ 9   │ 3305-01D   │ 45.6257 │ -73.6241 │ 12.7    │\n",
       "│ 10  │ 3790-01D   │ 45.4027 │ -73.9466 │ 23.6    │"
      ]
     },
     "execution_count": 3,
     "metadata": {},
     "output_type": "execute_result"
    }
   ],
   "source": [
    "features.TP_Z = coalesce.(features.TP_Z, mean(features[completecases(features), :].TP_Z));\n",
    "first(shuffleDf(features), 10)"
   ]
  },
  {
   "cell_type": "markdown",
   "metadata": {},
   "source": [
    "### Load dates and surverses"
   ]
  },
  {
   "cell_type": "code",
   "execution_count": 4,
   "metadata": {},
   "outputs": [],
   "source": [
    "surverses = CSV.read(\"data/surverses.csv\",missingstring=\"-99999\");"
   ]
  },
  {
   "cell_type": "markdown",
   "metadata": {},
   "source": [
    "#### Filter months"
   ]
  },
  {
   "cell_type": "code",
   "execution_count": 5,
   "metadata": {},
   "outputs": [],
   "source": [
    "surverses = filter(row -> month(row.DATE) > 4, surverses);\n",
    "surverses = filter(row -> month(row.DATE) < 11, surverses);"
   ]
  },
  {
   "cell_type": "markdown",
   "metadata": {},
   "source": [
    "#### Filter non rain surverses"
   ]
  },
  {
   "cell_type": "code",
   "execution_count": 6,
   "metadata": {},
   "outputs": [],
   "source": [
    "raison = coalesce.(surverses[:,:RAISON],\"Inconnue\");\n",
    "surverses[!,:RAISON] = raison;\n",
    "\n",
    "surverses = filter(row -> row.RAISON ∈ [\"P\",\"Inconnue\",\"TS\"], surverses);\n",
    "select!(surverses, [:NO_OUVRAGE, :DATE, :SURVERSE]);"
   ]
  },
  {
   "cell_type": "markdown",
   "metadata": {},
   "source": [
    "#### Remove missing data and rename"
   ]
  },
  {
   "cell_type": "code",
   "execution_count": 7,
   "metadata": {},
   "outputs": [
    {
     "data": {
      "text/html": [
       "<table class=\"data-frame\"><thead><tr><th></th><th>ID_OUVRAGE</th><th>DATE</th><th>SURVERSE</th></tr><tr><th></th><th>String</th><th>Date</th><th>Int64</th></tr></thead><tbody><p>10 rows × 3 columns</p><tr><th>1</th><td>3530-01D</td><td>2015-10-11</td><td>0</td></tr><tr><th>2</th><td>4620-03D</td><td>2015-09-28</td><td>0</td></tr><tr><th>3</th><td>4620-05D</td><td>2015-06-11</td><td>0</td></tr><tr><th>4</th><td>3280-02D</td><td>2013-06-09</td><td>0</td></tr><tr><th>5</th><td>3240-05D</td><td>2014-07-17</td><td>0</td></tr><tr><th>6</th><td>4600-03D</td><td>2014-06-20</td><td>0</td></tr><tr><th>7</th><td>3450-01D</td><td>2016-08-30</td><td>0</td></tr><tr><th>8</th><td>3781-01D</td><td>2016-07-22</td><td>0</td></tr><tr><th>9</th><td>4710-02D</td><td>2014-08-23</td><td>0</td></tr><tr><th>10</th><td>3350-01D</td><td>2017-07-18</td><td>0</td></tr></tbody></table>"
      ],
      "text/latex": [
       "\\begin{tabular}{r|ccc}\n",
       "\t& ID\\_OUVRAGE & DATE & SURVERSE\\\\\n",
       "\t\\hline\n",
       "\t& String & Date & Int64\\\\\n",
       "\t\\hline\n",
       "\t1 & 3530-01D & 2015-10-11 & 0 \\\\\n",
       "\t2 & 4620-03D & 2015-09-28 & 0 \\\\\n",
       "\t3 & 4620-05D & 2015-06-11 & 0 \\\\\n",
       "\t4 & 3280-02D & 2013-06-09 & 0 \\\\\n",
       "\t5 & 3240-05D & 2014-07-17 & 0 \\\\\n",
       "\t6 & 4600-03D & 2014-06-20 & 0 \\\\\n",
       "\t7 & 3450-01D & 2016-08-30 & 0 \\\\\n",
       "\t8 & 3781-01D & 2016-07-22 & 0 \\\\\n",
       "\t9 & 4710-02D & 2014-08-23 & 0 \\\\\n",
       "\t10 & 3350-01D & 2017-07-18 & 0 \\\\\n",
       "\\end{tabular}\n"
      ],
      "text/plain": [
       "10×3 DataFrame\n",
       "│ Row │ ID_OUVRAGE │ DATE       │ SURVERSE │\n",
       "│     │ \u001b[90mString\u001b[39m     │ \u001b[90mDate\u001b[39m       │ \u001b[90mInt64\u001b[39m    │\n",
       "├─────┼────────────┼────────────┼──────────┤\n",
       "│ 1   │ 3530-01D   │ 2015-10-11 │ 0        │\n",
       "│ 2   │ 4620-03D   │ 2015-09-28 │ 0        │\n",
       "│ 3   │ 4620-05D   │ 2015-06-11 │ 0        │\n",
       "│ 4   │ 3280-02D   │ 2013-06-09 │ 0        │\n",
       "│ 5   │ 3240-05D   │ 2014-07-17 │ 0        │\n",
       "│ 6   │ 4600-03D   │ 2014-06-20 │ 0        │\n",
       "│ 7   │ 3450-01D   │ 2016-08-30 │ 0        │\n",
       "│ 8   │ 3781-01D   │ 2016-07-22 │ 0        │\n",
       "│ 9   │ 4710-02D   │ 2014-08-23 │ 0        │\n",
       "│ 10  │ 3350-01D   │ 2017-07-18 │ 0        │"
      ]
     },
     "execution_count": 7,
     "metadata": {},
     "output_type": "execute_result"
    }
   ],
   "source": [
    "surverses = dropmissing(surverses, disallowmissing=true);\n",
    "rename!(surverses, :NO_OUVRAGE => :ID_OUVRAGE);\n",
    "first(shuffleDf(surverses),10)"
   ]
  },
  {
   "cell_type": "markdown",
   "metadata": {},
   "source": [
    "### Augment features with dates and label"
   ]
  },
  {
   "cell_type": "code",
   "execution_count": 8,
   "metadata": {},
   "outputs": [
    {
     "data": {
      "text/html": [
       "<table class=\"data-frame\"><thead><tr><th></th><th>ID_OUVRAGE</th><th>TP_LAT</th><th>TP_LNG</th><th>TP_Z</th><th>DATE</th><th>SURVERSE</th></tr><tr><th></th><th>String</th><th>Float64</th><th>Float64</th><th>Float64</th><th>Date</th><th>Int64</th></tr></thead><tbody><p>10 rows × 6 columns</p><tr><th>1</th><td>4380-01D</td><td>45.4677</td><td>-73.5637</td><td>19.3526</td><td>2013-06-15</td><td>0</td></tr><tr><th>2</th><td>0672-02D</td><td>45.6939</td><td>-73.5214</td><td>10.23</td><td>2015-10-04</td><td>0</td></tr><tr><th>3</th><td>4340-01D</td><td>45.5262</td><td>-73.5444</td><td>19.33</td><td>2014-09-19</td><td>0</td></tr><tr><th>4</th><td>4620-07D</td><td>45.4163</td><td>-73.8825</td><td>19.3526</td><td>2016-09-26</td><td>0</td></tr><tr><th>5</th><td>4230-03D</td><td>45.6705</td><td>-73.4918</td><td>9.1</td><td>2017-10-27</td><td>0</td></tr><tr><th>6</th><td>3240-05D</td><td>45.6604</td><td>-73.5607</td><td>27.09</td><td>2013-07-16</td><td>0</td></tr><tr><th>7</th><td>4610-09D</td><td>45.4372</td><td>-73.8477</td><td>19.3526</td><td>2017-05-07</td><td>0</td></tr><tr><th>8</th><td>4560-02D</td><td>45.451</td><td>-73.7841</td><td>26.18</td><td>2018-05-22</td><td>0</td></tr><tr><th>9</th><td>3350-03D</td><td>45.5785</td><td>-73.658</td><td>17.84</td><td>2013-08-02</td><td>0</td></tr><tr><th>10</th><td>3540-02D</td><td>45.4751</td><td>-73.8727</td><td>26.52</td><td>2013-06-04</td><td>0</td></tr></tbody></table>"
      ],
      "text/latex": [
       "\\begin{tabular}{r|cccccc}\n",
       "\t& ID\\_OUVRAGE & TP\\_LAT & TP\\_LNG & TP\\_Z & DATE & SURVERSE\\\\\n",
       "\t\\hline\n",
       "\t& String & Float64 & Float64 & Float64 & Date & Int64\\\\\n",
       "\t\\hline\n",
       "\t1 & 4380-01D & 45.4677 & -73.5637 & 19.3526 & 2013-06-15 & 0 \\\\\n",
       "\t2 & 0672-02D & 45.6939 & -73.5214 & 10.23 & 2015-10-04 & 0 \\\\\n",
       "\t3 & 4340-01D & 45.5262 & -73.5444 & 19.33 & 2014-09-19 & 0 \\\\\n",
       "\t4 & 4620-07D & 45.4163 & -73.8825 & 19.3526 & 2016-09-26 & 0 \\\\\n",
       "\t5 & 4230-03D & 45.6705 & -73.4918 & 9.1 & 2017-10-27 & 0 \\\\\n",
       "\t6 & 3240-05D & 45.6604 & -73.5607 & 27.09 & 2013-07-16 & 0 \\\\\n",
       "\t7 & 4610-09D & 45.4372 & -73.8477 & 19.3526 & 2017-05-07 & 0 \\\\\n",
       "\t8 & 4560-02D & 45.451 & -73.7841 & 26.18 & 2018-05-22 & 0 \\\\\n",
       "\t9 & 3350-03D & 45.5785 & -73.658 & 17.84 & 2013-08-02 & 0 \\\\\n",
       "\t10 & 3540-02D & 45.4751 & -73.8727 & 26.52 & 2013-06-04 & 0 \\\\\n",
       "\\end{tabular}\n"
      ],
      "text/plain": [
       "10×6 DataFrame\n",
       "│ Row │ ID_OUVRAGE │ TP_LAT  │ TP_LNG   │ TP_Z    │ DATE       │ SURVERSE │\n",
       "│     │ \u001b[90mString\u001b[39m     │ \u001b[90mFloat64\u001b[39m │ \u001b[90mFloat64\u001b[39m  │ \u001b[90mFloat64\u001b[39m │ \u001b[90mDate\u001b[39m       │ \u001b[90mInt64\u001b[39m    │\n",
       "├─────┼────────────┼─────────┼──────────┼─────────┼────────────┼──────────┤\n",
       "│ 1   │ 4380-01D   │ 45.4677 │ -73.5637 │ 19.3526 │ 2013-06-15 │ 0        │\n",
       "│ 2   │ 0672-02D   │ 45.6939 │ -73.5214 │ 10.23   │ 2015-10-04 │ 0        │\n",
       "│ 3   │ 4340-01D   │ 45.5262 │ -73.5444 │ 19.33   │ 2014-09-19 │ 0        │\n",
       "│ 4   │ 4620-07D   │ 45.4163 │ -73.8825 │ 19.3526 │ 2016-09-26 │ 0        │\n",
       "│ 5   │ 4230-03D   │ 45.6705 │ -73.4918 │ 9.1     │ 2017-10-27 │ 0        │\n",
       "│ 6   │ 3240-05D   │ 45.6604 │ -73.5607 │ 27.09   │ 2013-07-16 │ 0        │\n",
       "│ 7   │ 4610-09D   │ 45.4372 │ -73.8477 │ 19.3526 │ 2017-05-07 │ 0        │\n",
       "│ 8   │ 4560-02D   │ 45.451  │ -73.7841 │ 26.18   │ 2018-05-22 │ 0        │\n",
       "│ 9   │ 3350-03D   │ 45.5785 │ -73.658  │ 17.84   │ 2013-08-02 │ 0        │\n",
       "│ 10  │ 3540-02D   │ 45.4751 │ -73.8727 │ 26.52   │ 2013-06-04 │ 0        │"
      ]
     },
     "execution_count": 8,
     "metadata": {},
     "output_type": "execute_result"
    }
   ],
   "source": [
    "comb = join(features, surverses, on = :ID_OUVRAGE);\n",
    "first(shuffleDf(comb), 10)"
   ]
  },
  {
   "cell_type": "markdown",
   "metadata": {},
   "source": [
    "### Load precipitation data"
   ]
  },
  {
   "cell_type": "markdown",
   "metadata": {},
   "source": [
    "#### Load and filter months between May & October included"
   ]
  },
  {
   "cell_type": "code",
   "execution_count": 9,
   "metadata": {},
   "outputs": [],
   "source": [
    "precipitation = CSV.read(\"data/precipitations.csv\",missingstring=\"-99999\");\n",
    "rename!(precipitation, Symbol(\"St-Hubert\")=>:StHubert);\n",
    "\n",
    "precipitation = filter(row -> month(row.date) > 4, precipitation);\n",
    "precipitation = filter(row -> month(row.date) < 11, precipitation); "
   ]
  },
  {
   "cell_type": "markdown",
   "metadata": {},
   "source": [
    "#### Replace missing data by 0"
   ]
  },
  {
   "cell_type": "code",
   "execution_count": 10,
   "metadata": {},
   "outputs": [
    {
     "data": {
      "text/html": [
       "<table class=\"data-frame\"><thead><tr><th></th><th>date</th><th>heure</th><th>McTavish</th><th>Bellevue</th><th>Assomption</th><th>Trudeau</th><th>StHubert</th></tr><tr><th></th><th>Date</th><th>Int64</th><th>Int64</th><th>Int64</th><th>Int64</th><th>Int64</th><th>Int64</th></tr></thead><tbody><p>5 rows × 7 columns</p><tr><th>1</th><td>2017-08-09</td><td>18</td><td>0</td><td>0</td><td>0</td><td>0</td><td>0</td></tr><tr><th>2</th><td>2013-05-24</td><td>14</td><td>0</td><td>0</td><td>0</td><td>3</td><td>0</td></tr><tr><th>3</th><td>2018-10-25</td><td>9</td><td>0</td><td>0</td><td>0</td><td>0</td><td>0</td></tr><tr><th>4</th><td>2015-06-10</td><td>3</td><td>0</td><td>0</td><td>0</td><td>0</td><td>0</td></tr><tr><th>5</th><td>2016-07-04</td><td>3</td><td>0</td><td>0</td><td>0</td><td>0</td><td>0</td></tr></tbody></table>"
      ],
      "text/latex": [
       "\\begin{tabular}{r|ccccccc}\n",
       "\t& date & heure & McTavish & Bellevue & Assomption & Trudeau & StHubert\\\\\n",
       "\t\\hline\n",
       "\t& Date & Int64 & Int64 & Int64 & Int64 & Int64 & Int64\\\\\n",
       "\t\\hline\n",
       "\t1 & 2017-08-09 & 18 & 0 & 0 & 0 & 0 & 0 \\\\\n",
       "\t2 & 2013-05-24 & 14 & 0 & 0 & 0 & 3 & 0 \\\\\n",
       "\t3 & 2018-10-25 & 9 & 0 & 0 & 0 & 0 & 0 \\\\\n",
       "\t4 & 2015-06-10 & 3 & 0 & 0 & 0 & 0 & 0 \\\\\n",
       "\t5 & 2016-07-04 & 3 & 0 & 0 & 0 & 0 & 0 \\\\\n",
       "\\end{tabular}\n"
      ],
      "text/plain": [
       "5×7 DataFrame. Omitted printing of 1 columns\n",
       "│ Row │ date       │ heure │ McTavish │ Bellevue │ Assomption │ Trudeau │\n",
       "│     │ \u001b[90mDate\u001b[39m       │ \u001b[90mInt64\u001b[39m │ \u001b[90mInt64\u001b[39m    │ \u001b[90mInt64\u001b[39m    │ \u001b[90mInt64\u001b[39m      │ \u001b[90mInt64\u001b[39m   │\n",
       "├─────┼────────────┼───────┼──────────┼──────────┼────────────┼─────────┤\n",
       "│ 1   │ 2017-08-09 │ 18    │ 0        │ 0        │ 0          │ 0       │\n",
       "│ 2   │ 2013-05-24 │ 14    │ 0        │ 0        │ 0          │ 3       │\n",
       "│ 3   │ 2018-10-25 │ 9     │ 0        │ 0        │ 0          │ 0       │\n",
       "│ 4   │ 2015-06-10 │ 3     │ 0        │ 0        │ 0          │ 0       │\n",
       "│ 5   │ 2016-07-04 │ 3     │ 0        │ 0        │ 0          │ 0       │"
      ]
     },
     "execution_count": 10,
     "metadata": {},
     "output_type": "execute_result"
    }
   ],
   "source": [
    "precipitation[!,:McTavish] = coalesce.(precipitation[:,:McTavish], 0);\n",
    "precipitation[!,:Bellevue] = coalesce.(precipitation[:,:Bellevue], 0);\n",
    "precipitation[!,:Assomption] = coalesce.(precipitation[:,:Assomption], 0);\n",
    "precipitation[!,:Trudeau] = coalesce.(precipitation[:,:Trudeau], 0);\n",
    "precipitation[!,:StHubert] = coalesce.(precipitation[:,:StHubert], 0);\n",
    "\n",
    "first(shuffleDf(precipitation), 5)"
   ]
  },
  {
   "cell_type": "markdown",
   "metadata": {},
   "source": [
    "### Extract features from precipitation"
   ]
  },
  {
   "cell_type": "markdown",
   "metadata": {},
   "source": [
    "#### Sum of precipitation for the day"
   ]
  },
  {
   "cell_type": "code",
   "execution_count": 11,
   "metadata": {
    "scrolled": true
   },
   "outputs": [
    {
     "data": {
      "text/html": [
       "<table class=\"data-frame\"><thead><tr><th></th><th>date</th><th>McTavish</th><th>Bellevue</th><th>Assomption</th><th>Trudeau</th><th>StHubert</th></tr><tr><th></th><th>Date</th><th>Int64</th><th>Int64</th><th>Int64</th><th>Int64</th><th>Int64</th></tr></thead><tbody><p>5 rows × 6 columns</p><tr><th>1</th><td>2013-10-17</td><td>114</td><td>78</td><td>80</td><td>113</td><td>0</td></tr><tr><th>2</th><td>2015-06-25</td><td>2</td><td>2</td><td>0</td><td>2</td><td>0</td></tr><tr><th>3</th><td>2016-07-26</td><td>0</td><td>0</td><td>0</td><td>0</td><td>18</td></tr><tr><th>4</th><td>2018-10-03</td><td>0</td><td>0</td><td>0</td><td>0</td><td>0</td></tr><tr><th>5</th><td>2016-09-04</td><td>0</td><td>0</td><td>0</td><td>0</td><td>0</td></tr></tbody></table>"
      ],
      "text/latex": [
       "\\begin{tabular}{r|cccccc}\n",
       "\t& date & McTavish & Bellevue & Assomption & Trudeau & StHubert\\\\\n",
       "\t\\hline\n",
       "\t& Date & Int64 & Int64 & Int64 & Int64 & Int64\\\\\n",
       "\t\\hline\n",
       "\t1 & 2013-10-17 & 114 & 78 & 80 & 113 & 0 \\\\\n",
       "\t2 & 2015-06-25 & 2 & 2 & 0 & 2 & 0 \\\\\n",
       "\t3 & 2016-07-26 & 0 & 0 & 0 & 0 & 18 \\\\\n",
       "\t4 & 2018-10-03 & 0 & 0 & 0 & 0 & 0 \\\\\n",
       "\t5 & 2016-09-04 & 0 & 0 & 0 & 0 & 0 \\\\\n",
       "\\end{tabular}\n"
      ],
      "text/plain": [
       "5×6 DataFrame\n",
       "│ Row │ date       │ McTavish │ Bellevue │ Assomption │ Trudeau │ StHubert │\n",
       "│     │ \u001b[90mDate\u001b[39m       │ \u001b[90mInt64\u001b[39m    │ \u001b[90mInt64\u001b[39m    │ \u001b[90mInt64\u001b[39m      │ \u001b[90mInt64\u001b[39m   │ \u001b[90mInt64\u001b[39m    │\n",
       "├─────┼────────────┼──────────┼──────────┼────────────┼─────────┼──────────┤\n",
       "│ 1   │ 2013-10-17 │ 114      │ 78       │ 80         │ 113     │ 0        │\n",
       "│ 2   │ 2015-06-25 │ 2        │ 2        │ 0          │ 2       │ 0        │\n",
       "│ 3   │ 2016-07-26 │ 0        │ 0        │ 0          │ 0       │ 18       │\n",
       "│ 4   │ 2018-10-03 │ 0        │ 0        │ 0          │ 0       │ 0        │\n",
       "│ 5   │ 2016-09-04 │ 0        │ 0        │ 0          │ 0       │ 0        │"
      ]
     },
     "execution_count": 11,
     "metadata": {},
     "output_type": "execute_result"
    }
   ],
   "source": [
    "pcp_sum = by(precipitation, :date,  McTavish = :McTavish=>sum, Bellevue = :Bellevue=>sum, \n",
    "   Assomption = :Assomption=>sum, Trudeau = :Trudeau=>sum, StHubert = :StHubert=>sum);\n",
    "first(shuffleDf(pcp_sum), 5)"
   ]
  },
  {
   "cell_type": "markdown",
   "metadata": {},
   "source": [
    "#### Maximum precipitation in an hour for the day"
   ]
  },
  {
   "cell_type": "code",
   "execution_count": 12,
   "metadata": {},
   "outputs": [
    {
     "data": {
      "text/html": [
       "<table class=\"data-frame\"><thead><tr><th></th><th>date</th><th>McTavish</th><th>Bellevue</th><th>Assomption</th><th>Trudeau</th><th>StHubert</th></tr><tr><th></th><th>Date</th><th>Int64</th><th>Int64</th><th>Int64</th><th>Int64</th><th>Int64</th></tr></thead><tbody><p>5 rows × 6 columns</p><tr><th>1</th><td>2015-08-13</td><td>0</td><td>0</td><td>0</td><td>0</td><td>0</td></tr><tr><th>2</th><td>2014-10-29</td><td>8</td><td>7</td><td>10</td><td>7</td><td>5</td></tr><tr><th>3</th><td>2014-06-13</td><td>0</td><td>44</td><td>80</td><td>68</td><td>45</td></tr><tr><th>4</th><td>2018-07-02</td><td>0</td><td>0</td><td>13</td><td>0</td><td>0</td></tr><tr><th>5</th><td>2013-06-11</td><td>50</td><td>35</td><td>50</td><td>50</td><td>0</td></tr></tbody></table>"
      ],
      "text/latex": [
       "\\begin{tabular}{r|cccccc}\n",
       "\t& date & McTavish & Bellevue & Assomption & Trudeau & StHubert\\\\\n",
       "\t\\hline\n",
       "\t& Date & Int64 & Int64 & Int64 & Int64 & Int64\\\\\n",
       "\t\\hline\n",
       "\t1 & 2015-08-13 & 0 & 0 & 0 & 0 & 0 \\\\\n",
       "\t2 & 2014-10-29 & 8 & 7 & 10 & 7 & 5 \\\\\n",
       "\t3 & 2014-06-13 & 0 & 44 & 80 & 68 & 45 \\\\\n",
       "\t4 & 2018-07-02 & 0 & 0 & 13 & 0 & 0 \\\\\n",
       "\t5 & 2013-06-11 & 50 & 35 & 50 & 50 & 0 \\\\\n",
       "\\end{tabular}\n"
      ],
      "text/plain": [
       "5×6 DataFrame\n",
       "│ Row │ date       │ McTavish │ Bellevue │ Assomption │ Trudeau │ StHubert │\n",
       "│     │ \u001b[90mDate\u001b[39m       │ \u001b[90mInt64\u001b[39m    │ \u001b[90mInt64\u001b[39m    │ \u001b[90mInt64\u001b[39m      │ \u001b[90mInt64\u001b[39m   │ \u001b[90mInt64\u001b[39m    │\n",
       "├─────┼────────────┼──────────┼──────────┼────────────┼─────────┼──────────┤\n",
       "│ 1   │ 2015-08-13 │ 0        │ 0        │ 0          │ 0       │ 0        │\n",
       "│ 2   │ 2014-10-29 │ 8        │ 7        │ 10         │ 7       │ 5        │\n",
       "│ 3   │ 2014-06-13 │ 0        │ 44       │ 80         │ 68      │ 45       │\n",
       "│ 4   │ 2018-07-02 │ 0        │ 0        │ 13         │ 0       │ 0        │\n",
       "│ 5   │ 2013-06-11 │ 50       │ 35       │ 50         │ 50      │ 0        │"
      ]
     },
     "execution_count": 12,
     "metadata": {},
     "output_type": "execute_result"
    }
   ],
   "source": [
    "pcp_max = by(precipitation, :date,  McTavish = :McTavish=>maximum, Bellevue = :Bellevue=>maximum, \n",
    "   Assomption = :Assomption=>maximum, Trudeau = :Trudeau=>maximum, StHubert = :StHubert=>maximum)\n",
    "first(shuffleDf(pcp_max),5)"
   ]
  },
  {
   "cell_type": "markdown",
   "metadata": {},
   "source": [
    "#### Maximum precipitation during three consecutive hours in a day"
   ]
  },
  {
   "cell_type": "code",
   "execution_count": 13,
   "metadata": {},
   "outputs": [
    {
     "data": {
      "text/html": [
       "<table class=\"data-frame\"><thead><tr><th></th><th>date</th><th>McTavish</th><th>Bellevue</th><th>Assomption</th><th>Trudeau</th><th>StHubert</th></tr><tr><th></th><th>Date</th><th>Int64</th><th>Int64</th><th>Int64</th><th>Int64</th><th>Int64</th></tr></thead><tbody><p>5 rows × 6 columns</p><tr><th>1</th><td>2015-08-03</td><td>0</td><td>10</td><td>20</td><td>2</td><td>0</td></tr><tr><th>2</th><td>2016-08-13</td><td>115</td><td>83</td><td>430</td><td>118</td><td>200</td></tr><tr><th>3</th><td>2015-08-08</td><td>0</td><td>0</td><td>0</td><td>3</td><td>0</td></tr><tr><th>4</th><td>2016-05-15</td><td>7</td><td>3</td><td>0</td><td>2</td><td>10</td></tr><tr><th>5</th><td>2013-09-28</td><td>0</td><td>0</td><td>0</td><td>0</td><td>0</td></tr></tbody></table>"
      ],
      "text/latex": [
       "\\begin{tabular}{r|cccccc}\n",
       "\t& date & McTavish & Bellevue & Assomption & Trudeau & StHubert\\\\\n",
       "\t\\hline\n",
       "\t& Date & Int64 & Int64 & Int64 & Int64 & Int64\\\\\n",
       "\t\\hline\n",
       "\t1 & 2015-08-03 & 0 & 10 & 20 & 2 & 0 \\\\\n",
       "\t2 & 2016-08-13 & 115 & 83 & 430 & 118 & 200 \\\\\n",
       "\t3 & 2015-08-08 & 0 & 0 & 0 & 3 & 0 \\\\\n",
       "\t4 & 2016-05-15 & 7 & 3 & 0 & 2 & 10 \\\\\n",
       "\t5 & 2013-09-28 & 0 & 0 & 0 & 0 & 0 \\\\\n",
       "\\end{tabular}\n"
      ],
      "text/plain": [
       "5×6 DataFrame\n",
       "│ Row │ date       │ McTavish │ Bellevue │ Assomption │ Trudeau │ StHubert │\n",
       "│     │ \u001b[90mDate\u001b[39m       │ \u001b[90mInt64\u001b[39m    │ \u001b[90mInt64\u001b[39m    │ \u001b[90mInt64\u001b[39m      │ \u001b[90mInt64\u001b[39m   │ \u001b[90mInt64\u001b[39m    │\n",
       "├─────┼────────────┼──────────┼──────────┼────────────┼─────────┼──────────┤\n",
       "│ 1   │ 2015-08-03 │ 0        │ 10       │ 20         │ 2       │ 0        │\n",
       "│ 2   │ 2016-08-13 │ 115      │ 83       │ 430        │ 118     │ 200      │\n",
       "│ 3   │ 2015-08-08 │ 0        │ 0        │ 0          │ 3       │ 0        │\n",
       "│ 4   │ 2016-05-15 │ 7        │ 3        │ 0          │ 2       │ 10       │\n",
       "│ 5   │ 2013-09-28 │ 0        │ 0        │ 0          │ 0       │ 0        │"
      ]
     },
     "execution_count": 13,
     "metadata": {},
     "output_type": "execute_result"
    }
   ],
   "source": [
    "pcp_max3h = by(precipitation, :date,  McTavish = :McTavish=>maximum3, Bellevue = :Bellevue=>maximum3, \n",
    "   Assomption = :Assomption=>maximum3, Trudeau = :Trudeau=>maximum3, StHubert = :StHubert=>maximum3)\n",
    "first(shuffleDf(pcp_max3h),5)"
   ]
  },
  {
   "cell_type": "markdown",
   "metadata": {},
   "source": [
    "### Add precipitation data to features"
   ]
  },
  {
   "cell_type": "markdown",
   "metadata": {},
   "source": [
    "#### Get stations lat-lng"
   ]
  },
  {
   "cell_type": "code",
   "execution_count": 14,
   "metadata": {},
   "outputs": [
    {
     "data": {
      "text/html": [
       "<table class=\"data-frame\"><thead><tr><th></th><th>STATION</th><th>LAT</th><th>LNG</th></tr><tr><th></th><th>String</th><th>Float64</th><th>Float64</th></tr></thead><tbody><p>5 rows × 3 columns</p><tr><th>1</th><td>McTavish</td><td>45.5047</td><td>-73.5792</td></tr><tr><th>2</th><td>Bellevue</td><td>45.4272</td><td>-73.9292</td></tr><tr><th>3</th><td>Assomption</td><td>45.8094</td><td>-73.4347</td></tr><tr><th>4</th><td>Trudeau</td><td>45.4678</td><td>-73.7417</td></tr><tr><th>5</th><td>StHubert</td><td>45.5175</td><td>-73.4169</td></tr></tbody></table>"
      ],
      "text/latex": [
       "\\begin{tabular}{r|ccc}\n",
       "\t& STATION & LAT & LNG\\\\\n",
       "\t\\hline\n",
       "\t& String & Float64 & Float64\\\\\n",
       "\t\\hline\n",
       "\t1 & McTavish & 45.5047 & -73.5792 \\\\\n",
       "\t2 & Bellevue & 45.4272 & -73.9292 \\\\\n",
       "\t3 & Assomption & 45.8094 & -73.4347 \\\\\n",
       "\t4 & Trudeau & 45.4678 & -73.7417 \\\\\n",
       "\t5 & StHubert & 45.5175 & -73.4169 \\\\\n",
       "\\end{tabular}\n"
      ],
      "text/plain": [
       "5×3 DataFrame\n",
       "│ Row │ STATION    │ LAT     │ LNG      │\n",
       "│     │ \u001b[90mString\u001b[39m     │ \u001b[90mFloat64\u001b[39m │ \u001b[90mFloat64\u001b[39m  │\n",
       "├─────┼────────────┼─────────┼──────────┤\n",
       "│ 1   │ McTavish   │ 45.5047 │ -73.5792 │\n",
       "│ 2   │ Bellevue   │ 45.4272 │ -73.9292 │\n",
       "│ 3   │ Assomption │ 45.8094 │ -73.4347 │\n",
       "│ 4   │ Trudeau    │ 45.4678 │ -73.7417 │\n",
       "│ 5   │ StHubert   │ 45.5175 │ -73.4169 │"
      ]
     },
     "execution_count": 14,
     "metadata": {},
     "output_type": "execute_result"
    }
   ],
   "source": [
    "station_df = DataFrame(STATION = String[], LAT = Float64[], LNG = Float64[]);\n",
    "\n",
    "push!(station_df, [\"McTavish\", 45.504742, -73.579167]);\n",
    "push!(station_df, [\"Bellevue\", 45.427222, -73.929167]);\n",
    "push!(station_df, [\"Assomption\", 45.809444, -73.434722]);\n",
    "push!(station_df, [\"Trudeau\", 45.467778, -73.741667]);\n",
    "push!(station_df, [\"StHubert\", 45.5175, -73.416944]);\n",
    "\n",
    "station_df"
   ]
  },
  {
   "cell_type": "markdown",
   "metadata": {},
   "source": [
    "### Normalize elements"
   ]
  },
  {
   "cell_type": "markdown",
   "metadata": {},
   "source": [
    "#### Get extreme values"
   ]
  },
  {
   "cell_type": "code",
   "execution_count": 332,
   "metadata": {},
   "outputs": [],
   "source": [
    "# min_lat = min(minimum(comb.TP_LAT), minimum(station_df.LAT));\n",
    "# max_lat = max(maximum(comb.TP_LAT), maximum(station_df.LAT));\n",
    "\n",
    "# min_lng = min(minimum(comb.TP_LNG), minimum(station_df.LNG));\n",
    "# max_lng = max(maximum(comb.TP_LNG), maximum(station_df.LNG));\n",
    "\n",
    "# min_z = minimum(comb.TP_Z);\n",
    "# max_z = maximum(comb.TP_Z);"
   ]
  },
  {
   "cell_type": "markdown",
   "metadata": {},
   "source": [
    "#### Normalize every value of comb between 0 and 1"
   ]
  },
  {
   "cell_type": "code",
   "execution_count": 15,
   "metadata": {},
   "outputs": [],
   "source": [
    "# comb.TP_LAT = normalize.(comb.TP_LAT, min_lat, max_lat);\n",
    "# comb.TP_LNG = normalize.(comb.TP_LNG, min_lng, max_lng);\n",
    "# comb.TP_Z = normalize.(comb.TP_Z, min_z, max_z);\n",
    "\n",
    "# first(shuffleDf(comb), 10)"
   ]
  },
  {
   "cell_type": "markdown",
   "metadata": {},
   "source": [
    "#### Normalize every value of station_df between 0 and 1"
   ]
  },
  {
   "cell_type": "code",
   "execution_count": 16,
   "metadata": {},
   "outputs": [],
   "source": [
    "# station_df.LAT = normalize.(station_df.LAT, min_lat, max_lat);\n",
    "# station_df.LNG = normalize.(station_df.LNG, min_lng, max_lng);\n",
    "\n",
    "# station_df"
   ]
  },
  {
   "cell_type": "markdown",
   "metadata": {},
   "source": [
    "### Augment Features"
   ]
  },
  {
   "cell_type": "markdown",
   "metadata": {},
   "source": [
    "#### Add pcp_sum and pcp_max columns"
   ]
  },
  {
   "cell_type": "code",
   "execution_count": 17,
   "metadata": {},
   "outputs": [],
   "source": [
    "comb.PCP_SUM = zeros(size(comb, 1));\n",
    "comb.PCP_MAX = zeros(size(comb, 1));\n",
    "comb.PCP_MAX3 = zeros(size(comb, 1));\n",
    "permutecols!(comb, [:ID_OUVRAGE, :TP_LAT, :TP_LNG, :TP_Z, :DATE, :PCP_SUM, :PCP_MAX, :PCP_MAX3, :SURVERSE]);"
   ]
  },
  {
   "cell_type": "code",
   "execution_count": 18,
   "metadata": {},
   "outputs": [
    {
     "data": {
      "text/html": [
       "<table class=\"data-frame\"><thead><tr><th></th><th>ID_OUVRAGE</th><th>TP_LAT</th><th>TP_LNG</th><th>TP_Z</th><th>DATE</th><th>PCP_SUM</th><th>PCP_MAX</th><th>PCP_MAX3</th></tr><tr><th></th><th>String</th><th>Float64</th><th>Float64</th><th>Float64</th><th>Date</th><th>Float64</th><th>Float64</th><th>Float64</th></tr></thead><tbody><p>10 rows × 9 columns (omitted printing of 1 columns)</p><tr><th>1</th><td>4370-03D</td><td>45.4367</td><td>-73.7095</td><td>26.23</td><td>2018-07-10</td><td>0.0</td><td>0.0</td><td>0.0</td></tr><tr><th>2</th><td>4280-02D</td><td>45.5986</td><td>-73.5102</td><td>11.534</td><td>2013-07-17</td><td>0.0</td><td>0.0</td><td>0.0</td></tr><tr><th>3</th><td>4270-02D</td><td>45.6112</td><td>-73.5084</td><td>19.3526</td><td>2013-10-14</td><td>0.0</td><td>0.0</td><td>0.0</td></tr><tr><th>4</th><td>4310-02D</td><td>45.6067</td><td>-73.5865</td><td>32.4</td><td>2015-08-01</td><td>0.0</td><td>0.0</td><td>0.0</td></tr><tr><th>5</th><td>4280-01D</td><td>45.6009</td><td>-73.5111</td><td>12.53</td><td>2017-10-06</td><td>0.0</td><td>0.0</td><td>0.0</td></tr><tr><th>6</th><td>4430-01D</td><td>45.4324</td><td>-73.5885</td><td>19.36</td><td>2013-07-10</td><td>0.0</td><td>0.0</td><td>0.0</td></tr><tr><th>7</th><td>4360-01D</td><td>45.4907</td><td>-73.5508</td><td>15.15</td><td>2014-07-23</td><td>0.0</td><td>0.0</td><td>0.0</td></tr><tr><th>8</th><td>0801-03D</td><td>45.5081</td><td>-73.5273</td><td>11.94</td><td>2015-10-02</td><td>0.0</td><td>0.0</td><td>0.0</td></tr><tr><th>9</th><td>4330-01D</td><td>45.5438</td><td>-73.5353</td><td>14.16</td><td>2014-10-14</td><td>0.0</td><td>0.0</td><td>0.0</td></tr><tr><th>10</th><td>4600-03D</td><td>45.4364</td><td>-73.8226</td><td>26.42</td><td>2013-10-15</td><td>0.0</td><td>0.0</td><td>0.0</td></tr></tbody></table>"
      ],
      "text/latex": [
       "\\begin{tabular}{r|ccccccccc}\n",
       "\t& ID\\_OUVRAGE & TP\\_LAT & TP\\_LNG & TP\\_Z & DATE & PCP\\_SUM & PCP\\_MAX & PCP\\_MAX3 & \\\\\n",
       "\t\\hline\n",
       "\t& String & Float64 & Float64 & Float64 & Date & Float64 & Float64 & Float64 & \\\\\n",
       "\t\\hline\n",
       "\t1 & 4370-03D & 45.4367 & -73.7095 & 26.23 & 2018-07-10 & 0.0 & 0.0 & 0.0 & $\\dots$ \\\\\n",
       "\t2 & 4280-02D & 45.5986 & -73.5102 & 11.534 & 2013-07-17 & 0.0 & 0.0 & 0.0 & $\\dots$ \\\\\n",
       "\t3 & 4270-02D & 45.6112 & -73.5084 & 19.3526 & 2013-10-14 & 0.0 & 0.0 & 0.0 & $\\dots$ \\\\\n",
       "\t4 & 4310-02D & 45.6067 & -73.5865 & 32.4 & 2015-08-01 & 0.0 & 0.0 & 0.0 & $\\dots$ \\\\\n",
       "\t5 & 4280-01D & 45.6009 & -73.5111 & 12.53 & 2017-10-06 & 0.0 & 0.0 & 0.0 & $\\dots$ \\\\\n",
       "\t6 & 4430-01D & 45.4324 & -73.5885 & 19.36 & 2013-07-10 & 0.0 & 0.0 & 0.0 & $\\dots$ \\\\\n",
       "\t7 & 4360-01D & 45.4907 & -73.5508 & 15.15 & 2014-07-23 & 0.0 & 0.0 & 0.0 & $\\dots$ \\\\\n",
       "\t8 & 0801-03D & 45.5081 & -73.5273 & 11.94 & 2015-10-02 & 0.0 & 0.0 & 0.0 & $\\dots$ \\\\\n",
       "\t9 & 4330-01D & 45.5438 & -73.5353 & 14.16 & 2014-10-14 & 0.0 & 0.0 & 0.0 & $\\dots$ \\\\\n",
       "\t10 & 4600-03D & 45.4364 & -73.8226 & 26.42 & 2013-10-15 & 0.0 & 0.0 & 0.0 & $\\dots$ \\\\\n",
       "\\end{tabular}\n"
      ],
      "text/plain": [
       "10×9 DataFrame. Omitted printing of 3 columns\n",
       "│ Row │ ID_OUVRAGE │ TP_LAT  │ TP_LNG   │ TP_Z    │ DATE       │ PCP_SUM │\n",
       "│     │ \u001b[90mString\u001b[39m     │ \u001b[90mFloat64\u001b[39m │ \u001b[90mFloat64\u001b[39m  │ \u001b[90mFloat64\u001b[39m │ \u001b[90mDate\u001b[39m       │ \u001b[90mFloat64\u001b[39m │\n",
       "├─────┼────────────┼─────────┼──────────┼─────────┼────────────┼─────────┤\n",
       "│ 1   │ 4370-03D   │ 45.4367 │ -73.7095 │ 26.23   │ 2018-07-10 │ 0.0     │\n",
       "│ 2   │ 4280-02D   │ 45.5986 │ -73.5102 │ 11.534  │ 2013-07-17 │ 0.0     │\n",
       "│ 3   │ 4270-02D   │ 45.6112 │ -73.5084 │ 19.3526 │ 2013-10-14 │ 0.0     │\n",
       "│ 4   │ 4310-02D   │ 45.6067 │ -73.5865 │ 32.4    │ 2015-08-01 │ 0.0     │\n",
       "│ 5   │ 4280-01D   │ 45.6009 │ -73.5111 │ 12.53   │ 2017-10-06 │ 0.0     │\n",
       "│ 6   │ 4430-01D   │ 45.4324 │ -73.5885 │ 19.36   │ 2013-07-10 │ 0.0     │\n",
       "│ 7   │ 4360-01D   │ 45.4907 │ -73.5508 │ 15.15   │ 2014-07-23 │ 0.0     │\n",
       "│ 8   │ 0801-03D   │ 45.5081 │ -73.5273 │ 11.94   │ 2015-10-02 │ 0.0     │\n",
       "│ 9   │ 4330-01D   │ 45.5438 │ -73.5353 │ 14.16   │ 2014-10-14 │ 0.0     │\n",
       "│ 10  │ 4600-03D   │ 45.4364 │ -73.8226 │ 26.42   │ 2013-10-15 │ 0.0     │"
      ]
     },
     "execution_count": 18,
     "metadata": {},
     "output_type": "execute_result"
    }
   ],
   "source": [
    "first(shuffleDf(comb), 10)"
   ]
  },
  {
   "cell_type": "markdown",
   "metadata": {},
   "source": [
    "#### Find closest station to each ouvrage and add pcp_sum and pcp_max to it"
   ]
  },
  {
   "cell_type": "code",
   "execution_count": 19,
   "metadata": {},
   "outputs": [],
   "source": [
    "for i=1:size(comb, 1)\n",
    "    id_ouvrage = comb[i, 1]; \n",
    "    closest_station = \"McTavish\"; # initial value\n",
    "    shortest_dist = -1;\n",
    "    \n",
    "    # Find closest station\n",
    "    for j=1:size(station_df, 1)\n",
    "        dist = findDistance(comb[i, :TP_LAT], comb[i, :TP_LNG], station_df[j, :LAT], station_df[j, :LNG]);\n",
    "        \n",
    "        if shortest_dist == -1 || dist < shortest_dist\n",
    "            shortest_dist = dist;\n",
    "            closest_station = station_df[j, :STATION];\n",
    "        end\n",
    "    end\n",
    "    \n",
    "    # Augment comb with a weighted p_sum, based on the distance to the station\n",
    "    p_sum = pcp_sum[∈([comb[i, :DATE]]).(pcp_sum.date), Symbol(closest_station)];\n",
    "    comb[i, :PCP_SUM] = p_sum[1] * (1 - shortest_dist); \n",
    "    # Augment comb with a weighted p_max, based on the distance to the station\n",
    "    p_max = pcp_max[∈([comb[i, :DATE]]).(pcp_max.date), Symbol(closest_station)]\n",
    "    comb[i, :PCP_MAX] = p_max[1] * (1 - shortest_dist);\n",
    "    # Augment comb with a weighted p_max3h, based on the distance to the station\n",
    "    p_max3 = pcp_max3h[∈([comb[i, :DATE]]).(pcp_max3h.date), Symbol(closest_station)]\n",
    "    comb[i, :PCP_MAX3] = p_max3[1] * (1 - shortest_dist);\n",
    "end"
   ]
  },
  {
   "cell_type": "markdown",
   "metadata": {},
   "source": [
    "### TODO: Remove outlier in PCP_SUM and PCP_MAX AND PCP_MAX3 that cause compression"
   ]
  },
  {
   "cell_type": "code",
   "execution_count": 20,
   "metadata": {},
   "outputs": [
    {
     "name": "stderr",
     "output_type": "stream",
     "text": [
      "┌ Warning: `getindex(df::DataFrame, col_ind::ColumnIndex)` is deprecated, use `df[!, col_ind]` instead.\n",
      "│   caller = top-level scope at In[20]:1\n",
      "└ @ Core In[20]:1\n",
      "┌ Warning: implicit broadcasting in setindex! is deprecated; use `df[row_inds, col_ind] .= Ref(v)` broadcasting assignment to change the column in place\n",
      "│   caller = setindex!(::DataFrame, ::Int64, ::BitArray{1}, ::Symbol) at deprecated.jl:1490\n",
      "└ @ DataFrames /home/chaime/.julia/packages/DataFrames/yH0f6/src/deprecated.jl:1490\n",
      "┌ Warning: `getindex(df::DataFrame, col_ind::ColumnIndex)` is deprecated, use `df[!, col_ind]` instead.\n",
      "│   caller = top-level scope at In[20]:2\n",
      "└ @ Core In[20]:2\n",
      "┌ Warning: `getindex(df::DataFrame, col_ind::ColumnIndex)` is deprecated, use `df[!, col_ind]` instead.\n",
      "│   caller = top-level scope at In[20]:3\n",
      "└ @ Core In[20]:3\n"
     ]
    }
   ],
   "source": [
    "comb[comb[:PCP_SUM] .> 750, :PCP_SUM] = 750;\n",
    "comb[comb[:PCP_MAX] .> 500, :PCP_MAX] = 500;\n",
    "comb[comb[:PCP_MAX3] .> 750, :PCP_MAX3] = 750;"
   ]
  },
  {
   "cell_type": "code",
   "execution_count": 21,
   "metadata": {},
   "outputs": [
    {
     "data": {
      "text/html": [
       "<table class=\"data-frame\"><thead><tr><th></th><th>ID_OUVRAGE</th><th>TP_LAT</th><th>TP_LNG</th><th>TP_Z</th><th>DATE</th><th>PCP_SUM</th><th>PCP_MAX</th><th>PCP_MAX3</th></tr><tr><th></th><th>String</th><th>Float64</th><th>Float64</th><th>Float64</th><th>Date</th><th>Float64</th><th>Float64</th><th>Float64</th></tr></thead><tbody><p>10 rows × 9 columns (omitted printing of 1 columns)</p><tr><th>1</th><td>4400-01D</td><td>45.4586</td><td>-73.5621</td><td>16.8</td><td>2014-08-13</td><td>587.611</td><td>125.509</td><td>249.117</td></tr><tr><th>2</th><td>3350-01D</td><td>45.5896</td><td>-73.6519</td><td>15.09</td><td>2016-10-27</td><td>104.814</td><td>27.536</td><td>62.178</td></tr><tr><th>3</th><td>3350-11D</td><td>45.5328</td><td>-73.7065</td><td>25.28</td><td>2013-09-12</td><td>296.335</td><td>72.2317</td><td>113.904</td></tr><tr><th>4</th><td>4290-01D</td><td>45.5846</td><td>-73.5081</td><td>11.89</td><td>2015-10-28</td><td>262.562</td><td>65.194</td><td>138.426</td></tr><tr><th>5</th><td>3400-01D</td><td>45.5435</td><td>-73.6755</td><td>26.04</td><td>2015-07-27</td><td>8.99464</td><td>7.19571</td><td>8.99464</td></tr><tr><th>6</th><td>3350-09D</td><td>45.5371</td><td>-73.713</td><td>23.72</td><td>2015-06-05</td><td>13.8755</td><td>13.8755</td><td>13.8755</td></tr><tr><th>7</th><td>0801-05D</td><td>45.5173</td><td>-73.5312</td><td>12.7</td><td>2016-05-06</td><td>0.0</td><td>0.0</td><td>0.0</td></tr><tr><th>8</th><td>4340-02D</td><td>45.5262</td><td>-73.5444</td><td>19.33</td><td>2018-05-03</td><td>168.812</td><td>44.1212</td><td>115.099</td></tr><tr><th>9</th><td>3310-01D</td><td>45.6139</td><td>-73.6313</td><td>19.58</td><td>2016-08-14</td><td>142.405</td><td>33.4037</td><td>80.8721</td></tr><tr><th>10</th><td>3260-01D</td><td>45.6507</td><td>-73.5803</td><td>20.17</td><td>2014-08-13</td><td>527.784</td><td>112.731</td><td>223.753</td></tr></tbody></table>"
      ],
      "text/latex": [
       "\\begin{tabular}{r|ccccccccc}\n",
       "\t& ID\\_OUVRAGE & TP\\_LAT & TP\\_LNG & TP\\_Z & DATE & PCP\\_SUM & PCP\\_MAX & PCP\\_MAX3 & \\\\\n",
       "\t\\hline\n",
       "\t& String & Float64 & Float64 & Float64 & Date & Float64 & Float64 & Float64 & \\\\\n",
       "\t\\hline\n",
       "\t1 & 4400-01D & 45.4586 & -73.5621 & 16.8 & 2014-08-13 & 587.611 & 125.509 & 249.117 & $\\dots$ \\\\\n",
       "\t2 & 3350-01D & 45.5896 & -73.6519 & 15.09 & 2016-10-27 & 104.814 & 27.536 & 62.178 & $\\dots$ \\\\\n",
       "\t3 & 3350-11D & 45.5328 & -73.7065 & 25.28 & 2013-09-12 & 296.335 & 72.2317 & 113.904 & $\\dots$ \\\\\n",
       "\t4 & 4290-01D & 45.5846 & -73.5081 & 11.89 & 2015-10-28 & 262.562 & 65.194 & 138.426 & $\\dots$ \\\\\n",
       "\t5 & 3400-01D & 45.5435 & -73.6755 & 26.04 & 2015-07-27 & 8.99464 & 7.19571 & 8.99464 & $\\dots$ \\\\\n",
       "\t6 & 3350-09D & 45.5371 & -73.713 & 23.72 & 2015-06-05 & 13.8755 & 13.8755 & 13.8755 & $\\dots$ \\\\\n",
       "\t7 & 0801-05D & 45.5173 & -73.5312 & 12.7 & 2016-05-06 & 0.0 & 0.0 & 0.0 & $\\dots$ \\\\\n",
       "\t8 & 4340-02D & 45.5262 & -73.5444 & 19.33 & 2018-05-03 & 168.812 & 44.1212 & 115.099 & $\\dots$ \\\\\n",
       "\t9 & 3310-01D & 45.6139 & -73.6313 & 19.58 & 2016-08-14 & 142.405 & 33.4037 & 80.8721 & $\\dots$ \\\\\n",
       "\t10 & 3260-01D & 45.6507 & -73.5803 & 20.17 & 2014-08-13 & 527.784 & 112.731 & 223.753 & $\\dots$ \\\\\n",
       "\\end{tabular}\n"
      ],
      "text/plain": [
       "10×9 DataFrame. Omitted printing of 3 columns\n",
       "│ Row │ ID_OUVRAGE │ TP_LAT  │ TP_LNG   │ TP_Z    │ DATE       │ PCP_SUM │\n",
       "│     │ \u001b[90mString\u001b[39m     │ \u001b[90mFloat64\u001b[39m │ \u001b[90mFloat64\u001b[39m  │ \u001b[90mFloat64\u001b[39m │ \u001b[90mDate\u001b[39m       │ \u001b[90mFloat64\u001b[39m │\n",
       "├─────┼────────────┼─────────┼──────────┼─────────┼────────────┼─────────┤\n",
       "│ 1   │ 4400-01D   │ 45.4586 │ -73.5621 │ 16.8    │ 2014-08-13 │ 587.611 │\n",
       "│ 2   │ 3350-01D   │ 45.5896 │ -73.6519 │ 15.09   │ 2016-10-27 │ 104.814 │\n",
       "│ 3   │ 3350-11D   │ 45.5328 │ -73.7065 │ 25.28   │ 2013-09-12 │ 296.335 │\n",
       "│ 4   │ 4290-01D   │ 45.5846 │ -73.5081 │ 11.89   │ 2015-10-28 │ 262.562 │\n",
       "│ 5   │ 3400-01D   │ 45.5435 │ -73.6755 │ 26.04   │ 2015-07-27 │ 8.99464 │\n",
       "│ 6   │ 3350-09D   │ 45.5371 │ -73.713  │ 23.72   │ 2015-06-05 │ 13.8755 │\n",
       "│ 7   │ 0801-05D   │ 45.5173 │ -73.5312 │ 12.7    │ 2016-05-06 │ 0.0     │\n",
       "│ 8   │ 4340-02D   │ 45.5262 │ -73.5444 │ 19.33   │ 2018-05-03 │ 168.812 │\n",
       "│ 9   │ 3310-01D   │ 45.6139 │ -73.6313 │ 19.58   │ 2016-08-14 │ 142.405 │\n",
       "│ 10  │ 3260-01D   │ 45.6507 │ -73.5803 │ 20.17   │ 2014-08-13 │ 527.784 │"
      ]
     },
     "execution_count": 21,
     "metadata": {},
     "output_type": "execute_result"
    }
   ],
   "source": [
    "first(shuffleDf(filter(row -> row.SURVERSE == 1, comb)), 10)"
   ]
  },
  {
   "cell_type": "markdown",
   "metadata": {},
   "source": [
    "#### Normalize pcp_sum and pcp_max and pcp_max3"
   ]
  },
  {
   "cell_type": "code",
   "execution_count": 22,
   "metadata": {},
   "outputs": [],
   "source": [
    "# min_pcp_sum = minimum(comb.PCP_SUM);\n",
    "# max_pcp_sum = maximum(comb.PCP_SUM);\n",
    "\n",
    "# min_pcp_max = minimum(comb.PCP_MAX);\n",
    "# max_pcp_max = maximum(comb.PCP_MAX);\n",
    "\n",
    "# min_pcp_max3 = minimum(comb.PCP_MAX3);\n",
    "# max_pcp_max3 = maximum(comb.PCP_MAX3);"
   ]
  },
  {
   "cell_type": "code",
   "execution_count": 354,
   "metadata": {},
   "outputs": [],
   "source": [
    "# comb.PCP_SUM = normalize.(comb.PCP_SUM, min_pcp_sum, max_pcp_sum);\n",
    "# comb.PCP_MAX = normalize.(comb.PCP_MAX, min_pcp_max, max_pcp_max);\n",
    "# comb.PCP_MAX3 = normalize.(comb.PCP_MAX3, min_pcp_max3, max_pcp_max3);"
   ]
  },
  {
   "cell_type": "code",
   "execution_count": 23,
   "metadata": {
    "scrolled": true
   },
   "outputs": [
    {
     "data": {
      "text/html": [
       "<table class=\"data-frame\"><thead><tr><th></th><th>ID_OUVRAGE</th><th>TP_LAT</th><th>TP_LNG</th><th>TP_Z</th><th>DATE</th><th>PCP_SUM</th><th>PCP_MAX</th><th>PCP_MAX3</th></tr><tr><th></th><th>String</th><th>Float64</th><th>Float64</th><th>Float64</th><th>Date</th><th>Float64</th><th>Float64</th><th>Float64</th></tr></thead><tbody><p>10 rows × 9 columns (omitted printing of 1 columns)</p><tr><th>1</th><td>3350-11D</td><td>45.5328</td><td>-73.7065</td><td>25.28</td><td>2017-07-08</td><td>191.692</td><td>146.315</td><td>163.91</td></tr><tr><th>2</th><td>3250-01D</td><td>45.6562</td><td>-73.5731</td><td>17.16</td><td>2018-07-06</td><td>27.1495</td><td>27.1495</td><td>27.1495</td></tr><tr><th>3</th><td>3280-01D</td><td>45.634</td><td>-73.6059</td><td>23.86</td><td>2016-10-28</td><td>83.3252</td><td>18.2274</td><td>43.3986</td></tr><tr><th>4</th><td>0801-05D</td><td>45.5173</td><td>-73.5312</td><td>12.7</td><td>2017-07-14</td><td>53.2214</td><td>25.6603</td><td>45.6184</td></tr><tr><th>5</th><td>4430-04D</td><td>45.4197</td><td>-73.6487</td><td>31.54</td><td>2014-06-24</td><td>389.495</td><td>148.635</td><td>265.931</td></tr><tr><th>6</th><td>3260-01D</td><td>45.6507</td><td>-73.5803</td><td>20.17</td><td>2014-08-13</td><td>527.784</td><td>112.731</td><td>223.753</td></tr><tr><th>7</th><td>4400-01D</td><td>45.4586</td><td>-73.5621</td><td>16.8</td><td>2014-07-23</td><td>0.0</td><td>0.0</td><td>0.0</td></tr><tr><th>8</th><td>3350-05D</td><td>45.5705</td><td>-73.6624</td><td>21.27</td><td>2013-07-28</td><td>84.0344</td><td>44.6991</td><td>44.6991</td></tr><tr><th>9</th><td>3370-01D</td><td>45.5653</td><td>-73.6631</td><td>18.21</td><td>2017-07-31</td><td>90.5477</td><td>90.5477</td><td>90.5477</td></tr><tr><th>10</th><td>4230-09D</td><td>45.699</td><td>-73.4799</td><td>8.347</td><td>2014-10-07</td><td>79.2562</td><td>35.225</td><td>35.225</td></tr></tbody></table>"
      ],
      "text/latex": [
       "\\begin{tabular}{r|ccccccccc}\n",
       "\t& ID\\_OUVRAGE & TP\\_LAT & TP\\_LNG & TP\\_Z & DATE & PCP\\_SUM & PCP\\_MAX & PCP\\_MAX3 & \\\\\n",
       "\t\\hline\n",
       "\t& String & Float64 & Float64 & Float64 & Date & Float64 & Float64 & Float64 & \\\\\n",
       "\t\\hline\n",
       "\t1 & 3350-11D & 45.5328 & -73.7065 & 25.28 & 2017-07-08 & 191.692 & 146.315 & 163.91 & $\\dots$ \\\\\n",
       "\t2 & 3250-01D & 45.6562 & -73.5731 & 17.16 & 2018-07-06 & 27.1495 & 27.1495 & 27.1495 & $\\dots$ \\\\\n",
       "\t3 & 3280-01D & 45.634 & -73.6059 & 23.86 & 2016-10-28 & 83.3252 & 18.2274 & 43.3986 & $\\dots$ \\\\\n",
       "\t4 & 0801-05D & 45.5173 & -73.5312 & 12.7 & 2017-07-14 & 53.2214 & 25.6603 & 45.6184 & $\\dots$ \\\\\n",
       "\t5 & 4430-04D & 45.4197 & -73.6487 & 31.54 & 2014-06-24 & 389.495 & 148.635 & 265.931 & $\\dots$ \\\\\n",
       "\t6 & 3260-01D & 45.6507 & -73.5803 & 20.17 & 2014-08-13 & 527.784 & 112.731 & 223.753 & $\\dots$ \\\\\n",
       "\t7 & 4400-01D & 45.4586 & -73.5621 & 16.8 & 2014-07-23 & 0.0 & 0.0 & 0.0 & $\\dots$ \\\\\n",
       "\t8 & 3350-05D & 45.5705 & -73.6624 & 21.27 & 2013-07-28 & 84.0344 & 44.6991 & 44.6991 & $\\dots$ \\\\\n",
       "\t9 & 3370-01D & 45.5653 & -73.6631 & 18.21 & 2017-07-31 & 90.5477 & 90.5477 & 90.5477 & $\\dots$ \\\\\n",
       "\t10 & 4230-09D & 45.699 & -73.4799 & 8.347 & 2014-10-07 & 79.2562 & 35.225 & 35.225 & $\\dots$ \\\\\n",
       "\\end{tabular}\n"
      ],
      "text/plain": [
       "10×9 DataFrame. Omitted printing of 3 columns\n",
       "│ Row │ ID_OUVRAGE │ TP_LAT  │ TP_LNG   │ TP_Z    │ DATE       │ PCP_SUM │\n",
       "│     │ \u001b[90mString\u001b[39m     │ \u001b[90mFloat64\u001b[39m │ \u001b[90mFloat64\u001b[39m  │ \u001b[90mFloat64\u001b[39m │ \u001b[90mDate\u001b[39m       │ \u001b[90mFloat64\u001b[39m │\n",
       "├─────┼────────────┼─────────┼──────────┼─────────┼────────────┼─────────┤\n",
       "│ 1   │ 3350-11D   │ 45.5328 │ -73.7065 │ 25.28   │ 2017-07-08 │ 191.692 │\n",
       "│ 2   │ 3250-01D   │ 45.6562 │ -73.5731 │ 17.16   │ 2018-07-06 │ 27.1495 │\n",
       "│ 3   │ 3280-01D   │ 45.634  │ -73.6059 │ 23.86   │ 2016-10-28 │ 83.3252 │\n",
       "│ 4   │ 0801-05D   │ 45.5173 │ -73.5312 │ 12.7    │ 2017-07-14 │ 53.2214 │\n",
       "│ 5   │ 4430-04D   │ 45.4197 │ -73.6487 │ 31.54   │ 2014-06-24 │ 389.495 │\n",
       "│ 6   │ 3260-01D   │ 45.6507 │ -73.5803 │ 20.17   │ 2014-08-13 │ 527.784 │\n",
       "│ 7   │ 4400-01D   │ 45.4586 │ -73.5621 │ 16.8    │ 2014-07-23 │ 0.0     │\n",
       "│ 8   │ 3350-05D   │ 45.5705 │ -73.6624 │ 21.27   │ 2013-07-28 │ 84.0344 │\n",
       "│ 9   │ 3370-01D   │ 45.5653 │ -73.6631 │ 18.21   │ 2017-07-31 │ 90.5477 │\n",
       "│ 10  │ 4230-09D   │ 45.699  │ -73.4799 │ 8.347   │ 2014-10-07 │ 79.2562 │"
      ]
     },
     "execution_count": 23,
     "metadata": {},
     "output_type": "execute_result"
    }
   ],
   "source": [
    "first(shuffleDf(filter(row -> row.SURVERSE == 1, comb)), 10)"
   ]
  },
  {
   "cell_type": "markdown",
   "metadata": {},
   "source": [
    "### Split dates into months and days"
   ]
  },
  {
   "cell_type": "code",
   "execution_count": 24,
   "metadata": {},
   "outputs": [
    {
     "data": {
      "text/html": [
       "<table class=\"data-frame\"><thead><tr><th></th><th>DATE</th><th>MONTH</th><th>DAY</th></tr><tr><th></th><th>Date</th><th>Int64</th><th>Int64</th></tr></thead><tbody><p>5 rows × 3 columns</p><tr><th>1</th><td>2016-06-13</td><td>6</td><td>13</td></tr><tr><th>2</th><td>2014-07-05</td><td>7</td><td>5</td></tr><tr><th>3</th><td>2015-09-24</td><td>9</td><td>24</td></tr><tr><th>4</th><td>2014-05-07</td><td>5</td><td>7</td></tr><tr><th>5</th><td>2018-07-26</td><td>7</td><td>26</td></tr></tbody></table>"
      ],
      "text/latex": [
       "\\begin{tabular}{r|ccc}\n",
       "\t& DATE & MONTH & DAY\\\\\n",
       "\t\\hline\n",
       "\t& Date & Int64 & Int64\\\\\n",
       "\t\\hline\n",
       "\t1 & 2016-06-13 & 6 & 13 \\\\\n",
       "\t2 & 2014-07-05 & 7 & 5 \\\\\n",
       "\t3 & 2015-09-24 & 9 & 24 \\\\\n",
       "\t4 & 2014-05-07 & 5 & 7 \\\\\n",
       "\t5 & 2018-07-26 & 7 & 26 \\\\\n",
       "\\end{tabular}\n"
      ],
      "text/plain": [
       "5×3 DataFrame\n",
       "│ Row │ DATE       │ MONTH │ DAY   │\n",
       "│     │ \u001b[90mDate\u001b[39m       │ \u001b[90mInt64\u001b[39m │ \u001b[90mInt64\u001b[39m │\n",
       "├─────┼────────────┼───────┼───────┤\n",
       "│ 1   │ 2016-06-13 │ 6     │ 13    │\n",
       "│ 2   │ 2014-07-05 │ 7     │ 5     │\n",
       "│ 3   │ 2015-09-24 │ 9     │ 24    │\n",
       "│ 4   │ 2014-05-07 │ 5     │ 7     │\n",
       "│ 5   │ 2018-07-26 │ 7     │ 26    │"
      ]
     },
     "execution_count": 24,
     "metadata": {},
     "output_type": "execute_result"
    }
   ],
   "source": [
    "comb.MONTH = month.(comb.DATE);\n",
    "comb.DAY = day.(comb.DATE);\n",
    "first(shuffleDf(comb[!, [:DATE, :MONTH, :DAY]]), 5)"
   ]
  },
  {
   "cell_type": "markdown",
   "metadata": {},
   "source": [
    "#### Normalize the months and days"
   ]
  },
  {
   "cell_type": "code",
   "execution_count": 25,
   "metadata": {},
   "outputs": [],
   "source": [
    "# comb.MONTH = normalize.(comb.MONTH, 5, 10);\n",
    "# comb.DAY = normalize.(comb.DAY, 1, 31);\n",
    "# first(shuffleDf(comb[!, [:DATE, :MONTH, :DAY]]), 5)"
   ]
  },
  {
   "cell_type": "markdown",
   "metadata": {},
   "source": [
    "# Validate model"
   ]
  },
  {
   "cell_type": "markdown",
   "metadata": {},
   "source": [
    "### Split train and validation sets"
   ]
  },
  {
   "cell_type": "code",
   "execution_count": 26,
   "metadata": {},
   "outputs": [],
   "source": [
    "r_idx = shuffle(1:size(comb, 1));\n",
    "train_ceil = floor(Int, size(r_idx, 1) * 0.8);\n",
    "train_set = comb[r_idx[1:train_ceil], :];\n",
    "val_set = comb[r_idx[train_ceil+1:size(r_idx, 1)], :];"
   ]
  },
  {
   "cell_type": "markdown",
   "metadata": {},
   "source": [
    "### Train model on train set"
   ]
  },
  {
   "cell_type": "markdown",
   "metadata": {},
   "source": [
    "#### Random Forest Params"
   ]
  },
  {
   "cell_type": "code",
   "execution_count": 90,
   "metadata": {},
   "outputs": [],
   "source": [
    "names_ft = [:TP_LAT, :TP_LNG, :TP_Z, :MONTH, :PCP_SUM, :PCP_MAX, :PCP_MAX3];\n",
    "nft = 3;\n",
    "ntrees = 100;\n",
    "podata = 0.7;\n",
    "maxd = 30;"
   ]
  },
  {
   "cell_type": "markdown",
   "metadata": {},
   "source": [
    "#### Build the features and labels"
   ]
  },
  {
   "cell_type": "code",
   "execution_count": 85,
   "metadata": {},
   "outputs": [],
   "source": [
    "train_features = convert(Matrix{Float64},train_set[:, names_ft]);\n",
    "train_labels = train_set[:, :SURVERSE];"
   ]
  },
  {
   "cell_type": "markdown",
   "metadata": {},
   "source": [
    "#### Build the model N features to use is log_2(N + 1)"
   ]
  },
  {
   "cell_type": "code",
   "execution_count": 91,
   "metadata": {},
   "outputs": [
    {
     "data": {
      "text/plain": [
       "Ensemble of Decision Trees\n",
       "Trees:      100\n",
       "Avg Leaves: 2102.38\n",
       "Avg Depth:  29.47"
      ]
     },
     "execution_count": 91,
     "metadata": {},
     "output_type": "execute_result"
    }
   ],
   "source": [
    "val_model = build_forest(train_labels, train_features, nft, ntrees, podata, maxd)"
   ]
  },
  {
   "cell_type": "markdown",
   "metadata": {},
   "source": [
    "### Validate model on validation set"
   ]
  },
  {
   "cell_type": "markdown",
   "metadata": {},
   "source": [
    "#### Single validation"
   ]
  },
  {
   "cell_type": "code",
   "execution_count": 92,
   "metadata": {},
   "outputs": [
    {
     "data": {
      "text/plain": [
       "0.6117517847336629"
      ]
     },
     "execution_count": 92,
     "metadata": {},
     "output_type": "execute_result"
    }
   ],
   "source": [
    "val_features = convert(Matrix{Float64},val_set[:, names_ft]);\n",
    "val_labels = val_set[!, :SURVERSE];\n",
    "val_pred = apply_forest(val_model, val_features);\n",
    "\n",
    "r = roc(val_labels, val_pred);\n",
    "f1score(r)"
   ]
  },
  {
   "cell_type": "markdown",
   "metadata": {},
   "source": [
    "#### Batch validation for F1Score"
   ]
  },
  {
   "cell_type": "code",
   "execution_count": 93,
   "metadata": {},
   "outputs": [
    {
     "data": {
      "text/plain": [
       "0.6226479666429657"
      ]
     },
     "execution_count": 93,
     "metadata": {},
     "output_type": "execute_result"
    }
   ],
   "source": [
    "niter = 10;\n",
    "batch_score = 0;\n",
    "\n",
    "for i=1:niter\n",
    "    # Split train and val sets\n",
    "    r_idx = shuffle(1:size(comb, 1));\n",
    "    train_ceil = floor(Int, size(r_idx, 1) * 0.8);\n",
    "    train_set = comb[r_idx[1:train_ceil], :];\n",
    "    val_set = comb[r_idx[train_ceil+1:size(r_idx, 1)], :];\n",
    "    \n",
    "    # Build features and labels\n",
    "    train_features = convert(Matrix{Float64},train_set[:, names_ft]);\n",
    "    train_labels = train_set[:, :SURVERSE];\n",
    "    \n",
    "    # Build model\n",
    "    val_model = build_forest(train_labels, train_features, nft, ntrees, podata, maxd);\n",
    "    \n",
    "    # Validate model\n",
    "    val_features = convert(Matrix{Float64},val_set[:, names_ft]);\n",
    "    val_labels = val_set[!, :SURVERSE];\n",
    "    val_pred = apply_forest(val_model, val_features);\n",
    "\n",
    "    r = roc(val_labels, val_pred);\n",
    "    batch_score += f1score(r);\n",
    "end\n",
    "\n",
    "batch_score = batch_score / niter"
   ]
  },
  {
   "cell_type": "markdown",
   "metadata": {},
   "source": [
    "# Submission model creation"
   ]
  },
  {
   "cell_type": "markdown",
   "metadata": {},
   "source": [
    "### Separate features and labels"
   ]
  },
  {
   "cell_type": "code",
   "execution_count": 94,
   "metadata": {},
   "outputs": [],
   "source": [
    "full_train_features = convert(Matrix{Float64},comb[:, names_ft]);"
   ]
  },
  {
   "cell_type": "code",
   "execution_count": 95,
   "metadata": {},
   "outputs": [],
   "source": [
    "full_train_labels = comb[:, :SURVERSE];"
   ]
  },
  {
   "cell_type": "markdown",
   "metadata": {},
   "source": [
    "### Build Model"
   ]
  },
  {
   "cell_type": "markdown",
   "metadata": {},
   "source": [
    "#### Test with tree first"
   ]
  },
  {
   "cell_type": "code",
   "execution_count": 96,
   "metadata": {},
   "outputs": [
    {
     "data": {
      "text/plain": [
       "Decision Tree\n",
       "Leaves: 3470\n",
       "Depth:  34"
      ]
     },
     "execution_count": 96,
     "metadata": {},
     "output_type": "execute_result"
    }
   ],
   "source": [
    "model_tree = build_tree(full_train_labels, full_train_features)"
   ]
  },
  {
   "cell_type": "code",
   "execution_count": 97,
   "metadata": {},
   "outputs": [
    {
     "data": {
      "text/plain": [
       "Decision Tree\n",
       "Leaves: 3046\n",
       "Depth:  34"
      ]
     },
     "execution_count": 97,
     "metadata": {},
     "output_type": "execute_result"
    }
   ],
   "source": [
    "model_tree = prune_tree(model_tree, 0.90)"
   ]
  },
  {
   "cell_type": "code",
   "execution_count": 98,
   "metadata": {},
   "outputs": [
    {
     "data": {
      "text/plain": [
       "Ensemble of Decision Trees\n",
       "Trees:      100\n",
       "Avg Leaves: 2516.86\n",
       "Avg Depth:  29.63"
      ]
     },
     "execution_count": 98,
     "metadata": {},
     "output_type": "execute_result"
    }
   ],
   "source": [
    "model = build_forest(full_train_labels, full_train_features, nft, ntrees, podata, maxd)"
   ]
  },
  {
   "cell_type": "markdown",
   "metadata": {},
   "source": [
    "# Prediction"
   ]
  },
  {
   "cell_type": "markdown",
   "metadata": {},
   "source": [
    "## Get the test data"
   ]
  },
  {
   "cell_type": "code",
   "execution_count": 99,
   "metadata": {},
   "outputs": [
    {
     "data": {
      "text/html": [
       "<table class=\"data-frame\"><thead><tr><th></th><th>ID_OUVRAGE</th><th>DATE</th></tr><tr><th></th><th>String</th><th>Date</th></tr></thead><tbody><p>10 rows × 2 columns</p><tr><th>1</th><td>3260-01D</td><td>2019-05-02</td></tr><tr><th>2</th><td>3260-01D</td><td>2019-05-09</td></tr><tr><th>3</th><td>3260-01D</td><td>2019-05-10</td></tr><tr><th>4</th><td>3260-01D</td><td>2019-05-15</td></tr><tr><th>5</th><td>3260-01D</td><td>2019-05-20</td></tr><tr><th>6</th><td>3260-01D</td><td>2019-05-23</td></tr><tr><th>7</th><td>3260-01D</td><td>2019-05-24</td></tr><tr><th>8</th><td>3260-01D</td><td>2019-05-26</td></tr><tr><th>9</th><td>3260-01D</td><td>2019-05-30</td></tr><tr><th>10</th><td>3350-07D</td><td>2019-05-01</td></tr></tbody></table>"
      ],
      "text/latex": [
       "\\begin{tabular}{r|cc}\n",
       "\t& ID\\_OUVRAGE & DATE\\\\\n",
       "\t\\hline\n",
       "\t& String & Date\\\\\n",
       "\t\\hline\n",
       "\t1 & 3260-01D & 2019-05-02 \\\\\n",
       "\t2 & 3260-01D & 2019-05-09 \\\\\n",
       "\t3 & 3260-01D & 2019-05-10 \\\\\n",
       "\t4 & 3260-01D & 2019-05-15 \\\\\n",
       "\t5 & 3260-01D & 2019-05-20 \\\\\n",
       "\t6 & 3260-01D & 2019-05-23 \\\\\n",
       "\t7 & 3260-01D & 2019-05-24 \\\\\n",
       "\t8 & 3260-01D & 2019-05-26 \\\\\n",
       "\t9 & 3260-01D & 2019-05-30 \\\\\n",
       "\t10 & 3350-07D & 2019-05-01 \\\\\n",
       "\\end{tabular}\n"
      ],
      "text/plain": [
       "10×2 DataFrame\n",
       "│ Row │ ID_OUVRAGE │ DATE       │\n",
       "│     │ \u001b[90mString\u001b[39m     │ \u001b[90mDate\u001b[39m       │\n",
       "├─────┼────────────┼────────────┤\n",
       "│ 1   │ 3260-01D   │ 2019-05-02 │\n",
       "│ 2   │ 3260-01D   │ 2019-05-09 │\n",
       "│ 3   │ 3260-01D   │ 2019-05-10 │\n",
       "│ 4   │ 3260-01D   │ 2019-05-15 │\n",
       "│ 5   │ 3260-01D   │ 2019-05-20 │\n",
       "│ 6   │ 3260-01D   │ 2019-05-23 │\n",
       "│ 7   │ 3260-01D   │ 2019-05-24 │\n",
       "│ 8   │ 3260-01D   │ 2019-05-26 │\n",
       "│ 9   │ 3260-01D   │ 2019-05-30 │\n",
       "│ 10  │ 3350-07D   │ 2019-05-01 │"
      ]
     },
     "execution_count": 99,
     "metadata": {},
     "output_type": "execute_result"
    }
   ],
   "source": [
    "test = CSV.read(\"data/test.csv\");\n",
    "rename!(test, :NO_OUVRAGE => :ID_OUVRAGE);\n",
    "first(test, 10)"
   ]
  },
  {
   "cell_type": "code",
   "execution_count": 100,
   "metadata": {},
   "outputs": [
    {
     "data": {
      "text/plain": [
       "283"
      ]
     },
     "execution_count": 100,
     "metadata": {},
     "output_type": "execute_result"
    }
   ],
   "source": [
    "to_merge = unique(comb[!, [:ID_OUVRAGE, :TP_LAT, :TP_LNG, :TP_Z]], :ID_OUVRAGE);\n",
    "test_comb = join(test, to_merge, on= [:ID_OUVRAGE]);\n",
    "nrow(test_comb)"
   ]
  },
  {
   "cell_type": "code",
   "execution_count": 101,
   "metadata": {},
   "outputs": [
    {
     "data": {
      "text/html": [
       "<table class=\"data-frame\"><thead><tr><th></th><th>ID_OUVRAGE</th><th>DATE</th><th>TP_LAT</th><th>TP_LNG</th><th>TP_Z</th></tr><tr><th></th><th>String</th><th>Date</th><th>Float64</th><th>Float64</th><th>Float64</th></tr></thead><tbody><p>10 rows × 5 columns</p><tr><th>1</th><td>4350-01D</td><td>2019-07-31</td><td>45.4991</td><td>-73.555</td><td>19.3526</td></tr><tr><th>2</th><td>4240-01D</td><td>2019-09-04</td><td>45.6497</td><td>-73.4877</td><td>11.91</td></tr><tr><th>3</th><td>4350-01D</td><td>2019-06-16</td><td>45.4991</td><td>-73.555</td><td>19.3526</td></tr><tr><th>4</th><td>4350-01D</td><td>2019-08-11</td><td>45.4991</td><td>-73.555</td><td>19.3526</td></tr><tr><th>5</th><td>3260-01D</td><td>2019-07-05</td><td>45.6507</td><td>-73.5803</td><td>20.17</td></tr><tr><th>6</th><td>4240-01D</td><td>2019-05-25</td><td>45.6497</td><td>-73.4877</td><td>11.91</td></tr><tr><th>7</th><td>4380-01D</td><td>2019-08-27</td><td>45.4677</td><td>-73.5637</td><td>19.3526</td></tr><tr><th>8</th><td>3350-07D</td><td>2019-06-04</td><td>45.5461</td><td>-73.6921</td><td>20.75</td></tr><tr><th>9</th><td>3260-01D</td><td>2019-09-17</td><td>45.6507</td><td>-73.5803</td><td>20.17</td></tr><tr><th>10</th><td>4240-01D</td><td>2019-07-03</td><td>45.6497</td><td>-73.4877</td><td>11.91</td></tr></tbody></table>"
      ],
      "text/latex": [
       "\\begin{tabular}{r|ccccc}\n",
       "\t& ID\\_OUVRAGE & DATE & TP\\_LAT & TP\\_LNG & TP\\_Z\\\\\n",
       "\t\\hline\n",
       "\t& String & Date & Float64 & Float64 & Float64\\\\\n",
       "\t\\hline\n",
       "\t1 & 4350-01D & 2019-07-31 & 45.4991 & -73.555 & 19.3526 \\\\\n",
       "\t2 & 4240-01D & 2019-09-04 & 45.6497 & -73.4877 & 11.91 \\\\\n",
       "\t3 & 4350-01D & 2019-06-16 & 45.4991 & -73.555 & 19.3526 \\\\\n",
       "\t4 & 4350-01D & 2019-08-11 & 45.4991 & -73.555 & 19.3526 \\\\\n",
       "\t5 & 3260-01D & 2019-07-05 & 45.6507 & -73.5803 & 20.17 \\\\\n",
       "\t6 & 4240-01D & 2019-05-25 & 45.6497 & -73.4877 & 11.91 \\\\\n",
       "\t7 & 4380-01D & 2019-08-27 & 45.4677 & -73.5637 & 19.3526 \\\\\n",
       "\t8 & 3350-07D & 2019-06-04 & 45.5461 & -73.6921 & 20.75 \\\\\n",
       "\t9 & 3260-01D & 2019-09-17 & 45.6507 & -73.5803 & 20.17 \\\\\n",
       "\t10 & 4240-01D & 2019-07-03 & 45.6497 & -73.4877 & 11.91 \\\\\n",
       "\\end{tabular}\n"
      ],
      "text/plain": [
       "10×5 DataFrame\n",
       "│ Row │ ID_OUVRAGE │ DATE       │ TP_LAT  │ TP_LNG   │ TP_Z    │\n",
       "│     │ \u001b[90mString\u001b[39m     │ \u001b[90mDate\u001b[39m       │ \u001b[90mFloat64\u001b[39m │ \u001b[90mFloat64\u001b[39m  │ \u001b[90mFloat64\u001b[39m │\n",
       "├─────┼────────────┼────────────┼─────────┼──────────┼─────────┤\n",
       "│ 1   │ 4350-01D   │ 2019-07-31 │ 45.4991 │ -73.555  │ 19.3526 │\n",
       "│ 2   │ 4240-01D   │ 2019-09-04 │ 45.6497 │ -73.4877 │ 11.91   │\n",
       "│ 3   │ 4350-01D   │ 2019-06-16 │ 45.4991 │ -73.555  │ 19.3526 │\n",
       "│ 4   │ 4350-01D   │ 2019-08-11 │ 45.4991 │ -73.555  │ 19.3526 │\n",
       "│ 5   │ 3260-01D   │ 2019-07-05 │ 45.6507 │ -73.5803 │ 20.17   │\n",
       "│ 6   │ 4240-01D   │ 2019-05-25 │ 45.6497 │ -73.4877 │ 11.91   │\n",
       "│ 7   │ 4380-01D   │ 2019-08-27 │ 45.4677 │ -73.5637 │ 19.3526 │\n",
       "│ 8   │ 3350-07D   │ 2019-06-04 │ 45.5461 │ -73.6921 │ 20.75   │\n",
       "│ 9   │ 3260-01D   │ 2019-09-17 │ 45.6507 │ -73.5803 │ 20.17   │\n",
       "│ 10  │ 4240-01D   │ 2019-07-03 │ 45.6497 │ -73.4877 │ 11.91   │"
      ]
     },
     "execution_count": 101,
     "metadata": {},
     "output_type": "execute_result"
    }
   ],
   "source": [
    "first(shuffleDf(test_comb), 10)"
   ]
  },
  {
   "cell_type": "markdown",
   "metadata": {},
   "source": [
    "### Add PCP_SUM and PCP_MAX"
   ]
  },
  {
   "cell_type": "markdown",
   "metadata": {},
   "source": [
    "#### Initialize default pcp"
   ]
  },
  {
   "cell_type": "code",
   "execution_count": 102,
   "metadata": {},
   "outputs": [],
   "source": [
    "test_comb.PCP_SUM = zeros(size(test_comb, 1));\n",
    "test_comb.PCP_MAX = zeros(size(test_comb, 1));\n",
    "test_comb.PCP_MAX3 = zeros(size(test_comb, 1));\n",
    "permutecols!(test_comb, [:ID_OUVRAGE, :TP_LAT, :TP_LNG, :TP_Z, :DATE, :PCP_SUM, :PCP_MAX, :PCP_MAX3]);"
   ]
  },
  {
   "cell_type": "code",
   "execution_count": 103,
   "metadata": {},
   "outputs": [
    {
     "data": {
      "text/html": [
       "<table class=\"data-frame\"><thead><tr><th></th><th>ID_OUVRAGE</th><th>TP_LAT</th><th>TP_LNG</th><th>TP_Z</th><th>DATE</th><th>PCP_SUM</th><th>PCP_MAX</th><th>PCP_MAX3</th></tr><tr><th></th><th>String</th><th>Float64</th><th>Float64</th><th>Float64</th><th>Date</th><th>Float64</th><th>Float64</th><th>Float64</th></tr></thead><tbody><p>10 rows × 8 columns</p><tr><th>1</th><td>3350-07D</td><td>45.5461</td><td>-73.6921</td><td>20.75</td><td>2019-05-14</td><td>0.0</td><td>0.0</td><td>0.0</td></tr><tr><th>2</th><td>4240-01D</td><td>45.6497</td><td>-73.4877</td><td>11.91</td><td>2019-06-12</td><td>0.0</td><td>0.0</td><td>0.0</td></tr><tr><th>3</th><td>4350-01D</td><td>45.4991</td><td>-73.555</td><td>19.3526</td><td>2019-09-04</td><td>0.0</td><td>0.0</td><td>0.0</td></tr><tr><th>4</th><td>3260-01D</td><td>45.6507</td><td>-73.5803</td><td>20.17</td><td>2019-08-22</td><td>0.0</td><td>0.0</td><td>0.0</td></tr><tr><th>5</th><td>3350-07D</td><td>45.5461</td><td>-73.6921</td><td>20.75</td><td>2019-07-27</td><td>0.0</td><td>0.0</td><td>0.0</td></tr><tr><th>6</th><td>3260-01D</td><td>45.6507</td><td>-73.5803</td><td>20.17</td><td>2019-05-26</td><td>0.0</td><td>0.0</td><td>0.0</td></tr><tr><th>7</th><td>3350-07D</td><td>45.5461</td><td>-73.6921</td><td>20.75</td><td>2019-09-02</td><td>0.0</td><td>0.0</td><td>0.0</td></tr><tr><th>8</th><td>3350-07D</td><td>45.5461</td><td>-73.6921</td><td>20.75</td><td>2019-07-08</td><td>0.0</td><td>0.0</td><td>0.0</td></tr><tr><th>9</th><td>4350-01D</td><td>45.4991</td><td>-73.555</td><td>19.3526</td><td>2019-08-01</td><td>0.0</td><td>0.0</td><td>0.0</td></tr><tr><th>10</th><td>4350-01D</td><td>45.4991</td><td>-73.555</td><td>19.3526</td><td>2019-09-07</td><td>0.0</td><td>0.0</td><td>0.0</td></tr></tbody></table>"
      ],
      "text/latex": [
       "\\begin{tabular}{r|cccccccc}\n",
       "\t& ID\\_OUVRAGE & TP\\_LAT & TP\\_LNG & TP\\_Z & DATE & PCP\\_SUM & PCP\\_MAX & PCP\\_MAX3\\\\\n",
       "\t\\hline\n",
       "\t& String & Float64 & Float64 & Float64 & Date & Float64 & Float64 & Float64\\\\\n",
       "\t\\hline\n",
       "\t1 & 3350-07D & 45.5461 & -73.6921 & 20.75 & 2019-05-14 & 0.0 & 0.0 & 0.0 \\\\\n",
       "\t2 & 4240-01D & 45.6497 & -73.4877 & 11.91 & 2019-06-12 & 0.0 & 0.0 & 0.0 \\\\\n",
       "\t3 & 4350-01D & 45.4991 & -73.555 & 19.3526 & 2019-09-04 & 0.0 & 0.0 & 0.0 \\\\\n",
       "\t4 & 3260-01D & 45.6507 & -73.5803 & 20.17 & 2019-08-22 & 0.0 & 0.0 & 0.0 \\\\\n",
       "\t5 & 3350-07D & 45.5461 & -73.6921 & 20.75 & 2019-07-27 & 0.0 & 0.0 & 0.0 \\\\\n",
       "\t6 & 3260-01D & 45.6507 & -73.5803 & 20.17 & 2019-05-26 & 0.0 & 0.0 & 0.0 \\\\\n",
       "\t7 & 3350-07D & 45.5461 & -73.6921 & 20.75 & 2019-09-02 & 0.0 & 0.0 & 0.0 \\\\\n",
       "\t8 & 3350-07D & 45.5461 & -73.6921 & 20.75 & 2019-07-08 & 0.0 & 0.0 & 0.0 \\\\\n",
       "\t9 & 4350-01D & 45.4991 & -73.555 & 19.3526 & 2019-08-01 & 0.0 & 0.0 & 0.0 \\\\\n",
       "\t10 & 4350-01D & 45.4991 & -73.555 & 19.3526 & 2019-09-07 & 0.0 & 0.0 & 0.0 \\\\\n",
       "\\end{tabular}\n"
      ],
      "text/plain": [
       "10×8 DataFrame. Omitted printing of 2 columns\n",
       "│ Row │ ID_OUVRAGE │ TP_LAT  │ TP_LNG   │ TP_Z    │ DATE       │ PCP_SUM │\n",
       "│     │ \u001b[90mString\u001b[39m     │ \u001b[90mFloat64\u001b[39m │ \u001b[90mFloat64\u001b[39m  │ \u001b[90mFloat64\u001b[39m │ \u001b[90mDate\u001b[39m       │ \u001b[90mFloat64\u001b[39m │\n",
       "├─────┼────────────┼─────────┼──────────┼─────────┼────────────┼─────────┤\n",
       "│ 1   │ 3350-07D   │ 45.5461 │ -73.6921 │ 20.75   │ 2019-05-14 │ 0.0     │\n",
       "│ 2   │ 4240-01D   │ 45.6497 │ -73.4877 │ 11.91   │ 2019-06-12 │ 0.0     │\n",
       "│ 3   │ 4350-01D   │ 45.4991 │ -73.555  │ 19.3526 │ 2019-09-04 │ 0.0     │\n",
       "│ 4   │ 3260-01D   │ 45.6507 │ -73.5803 │ 20.17   │ 2019-08-22 │ 0.0     │\n",
       "│ 5   │ 3350-07D   │ 45.5461 │ -73.6921 │ 20.75   │ 2019-07-27 │ 0.0     │\n",
       "│ 6   │ 3260-01D   │ 45.6507 │ -73.5803 │ 20.17   │ 2019-05-26 │ 0.0     │\n",
       "│ 7   │ 3350-07D   │ 45.5461 │ -73.6921 │ 20.75   │ 2019-09-02 │ 0.0     │\n",
       "│ 8   │ 3350-07D   │ 45.5461 │ -73.6921 │ 20.75   │ 2019-07-08 │ 0.0     │\n",
       "│ 9   │ 4350-01D   │ 45.4991 │ -73.555  │ 19.3526 │ 2019-08-01 │ 0.0     │\n",
       "│ 10  │ 4350-01D   │ 45.4991 │ -73.555  │ 19.3526 │ 2019-09-07 │ 0.0     │"
      ]
     },
     "execution_count": 103,
     "metadata": {},
     "output_type": "execute_result"
    }
   ],
   "source": [
    "first(shuffleDf(test_comb), 10)"
   ]
  },
  {
   "cell_type": "markdown",
   "metadata": {},
   "source": [
    "#### Populate pcp"
   ]
  },
  {
   "cell_type": "code",
   "execution_count": 104,
   "metadata": {},
   "outputs": [],
   "source": [
    "for i=1:size(test_comb, 1)\n",
    "    id_ouvrage = test_comb[i, 1]; \n",
    "    closest_station = \"McTavish\"; # initial value\n",
    "    shortest_dist = -1;\n",
    "    \n",
    "    # Find closest station\n",
    "    for j=1:size(station_df, 1)\n",
    "        dist = findDistance(test_comb[i, :TP_LAT], test_comb[i, :TP_LNG], station_df[j, :LAT], station_df[j, :LNG]);\n",
    "        \n",
    "        if shortest_dist == -1 || dist < shortest_dist\n",
    "            shortest_dist = dist;\n",
    "            closest_station = station_df[j, :STATION];\n",
    "        end\n",
    "    end\n",
    "    \n",
    "    # Augment comb with a weighted p_sum, based on the distance to the station\n",
    "    p_sum = pcp_sum[∈([test_comb[i, :DATE]]).(pcp_sum.date), Symbol(closest_station)];\n",
    "    test_comb[i, :PCP_SUM] = p_sum[1] * (1 - shortest_dist); \n",
    "    # Augment comb with a weighted p_max, based on the distance to the station\n",
    "    p_max = pcp_max[∈([test_comb[i, :DATE]]).(pcp_max.date), Symbol(closest_station)]\n",
    "    test_comb[i, :PCP_MAX] = p_max[1] * (1 - shortest_dist);\n",
    "    # Augment comb with a weighted p_max3, based on the distance to the station\n",
    "    p_max3 = pcp_max3h[∈([test_comb[i, :DATE]]).(pcp_max3h.date), Symbol(closest_station)]\n",
    "    test_comb[i, :PCP_MAX3] = p_max3[1] * (1 - shortest_dist);\n",
    "end"
   ]
  },
  {
   "cell_type": "code",
   "execution_count": 106,
   "metadata": {},
   "outputs": [
    {
     "data": {
      "text/html": [
       "<table class=\"data-frame\"><thead><tr><th></th><th>ID_OUVRAGE</th><th>TP_LAT</th><th>TP_LNG</th><th>TP_Z</th><th>DATE</th><th>PCP_SUM</th><th>PCP_MAX</th><th>PCP_MAX3</th></tr><tr><th></th><th>String</th><th>Float64</th><th>Float64</th><th>Float64</th><th>Date</th><th>Float64</th><th>Float64</th><th>Float64</th></tr></thead><tbody><p>10 rows × 8 columns</p><tr><th>1</th><td>4350-01D</td><td>45.4991</td><td>-73.555</td><td>19.3526</td><td>2019-08-18</td><td>0.0</td><td>0.0</td><td>0.0</td></tr><tr><th>2</th><td>4380-01D</td><td>45.4677</td><td>-73.5637</td><td>19.3526</td><td>2019-09-01</td><td>0.0</td><td>0.0</td><td>0.0</td></tr><tr><th>3</th><td>4380-01D</td><td>45.4677</td><td>-73.5637</td><td>19.3526</td><td>2019-08-07</td><td>1.9198</td><td>1.9198</td><td>1.9198</td></tr><tr><th>4</th><td>3350-07D</td><td>45.5461</td><td>-73.6921</td><td>20.75</td><td>2019-08-24</td><td>0.0</td><td>0.0</td><td>0.0</td></tr><tr><th>5</th><td>4380-01D</td><td>45.4677</td><td>-73.5637</td><td>19.3526</td><td>2019-07-17</td><td>0.0</td><td>0.0</td><td>0.0</td></tr><tr><th>6</th><td>4350-01D</td><td>45.4991</td><td>-73.555</td><td>19.3526</td><td>2019-06-23</td><td>0.0</td><td>0.0</td><td>0.0</td></tr><tr><th>7</th><td>4380-01D</td><td>45.4677</td><td>-73.5637</td><td>19.3526</td><td>2019-09-04</td><td>217.897</td><td>120.947</td><td>184.301</td></tr><tr><th>8</th><td>4240-01D</td><td>45.6497</td><td>-73.4877</td><td>11.91</td><td>2019-06-25</td><td>72.2511</td><td>23.8004</td><td>56.1009</td></tr><tr><th>9</th><td>3260-01D</td><td>45.6507</td><td>-73.5803</td><td>20.17</td><td>2019-07-10</td><td>0.0</td><td>0.0</td><td>0.0</td></tr><tr><th>10</th><td>3260-01D</td><td>45.6507</td><td>-73.5803</td><td>20.17</td><td>2019-05-20</td><td>39.2849</td><td>34.1608</td><td>37.5768</td></tr></tbody></table>"
      ],
      "text/latex": [
       "\\begin{tabular}{r|cccccccc}\n",
       "\t& ID\\_OUVRAGE & TP\\_LAT & TP\\_LNG & TP\\_Z & DATE & PCP\\_SUM & PCP\\_MAX & PCP\\_MAX3\\\\\n",
       "\t\\hline\n",
       "\t& String & Float64 & Float64 & Float64 & Date & Float64 & Float64 & Float64\\\\\n",
       "\t\\hline\n",
       "\t1 & 4350-01D & 45.4991 & -73.555 & 19.3526 & 2019-08-18 & 0.0 & 0.0 & 0.0 \\\\\n",
       "\t2 & 4380-01D & 45.4677 & -73.5637 & 19.3526 & 2019-09-01 & 0.0 & 0.0 & 0.0 \\\\\n",
       "\t3 & 4380-01D & 45.4677 & -73.5637 & 19.3526 & 2019-08-07 & 1.9198 & 1.9198 & 1.9198 \\\\\n",
       "\t4 & 3350-07D & 45.5461 & -73.6921 & 20.75 & 2019-08-24 & 0.0 & 0.0 & 0.0 \\\\\n",
       "\t5 & 4380-01D & 45.4677 & -73.5637 & 19.3526 & 2019-07-17 & 0.0 & 0.0 & 0.0 \\\\\n",
       "\t6 & 4350-01D & 45.4991 & -73.555 & 19.3526 & 2019-06-23 & 0.0 & 0.0 & 0.0 \\\\\n",
       "\t7 & 4380-01D & 45.4677 & -73.5637 & 19.3526 & 2019-09-04 & 217.897 & 120.947 & 184.301 \\\\\n",
       "\t8 & 4240-01D & 45.6497 & -73.4877 & 11.91 & 2019-06-25 & 72.2511 & 23.8004 & 56.1009 \\\\\n",
       "\t9 & 3260-01D & 45.6507 & -73.5803 & 20.17 & 2019-07-10 & 0.0 & 0.0 & 0.0 \\\\\n",
       "\t10 & 3260-01D & 45.6507 & -73.5803 & 20.17 & 2019-05-20 & 39.2849 & 34.1608 & 37.5768 \\\\\n",
       "\\end{tabular}\n"
      ],
      "text/plain": [
       "10×8 DataFrame. Omitted printing of 2 columns\n",
       "│ Row │ ID_OUVRAGE │ TP_LAT  │ TP_LNG   │ TP_Z    │ DATE       │ PCP_SUM │\n",
       "│     │ \u001b[90mString\u001b[39m     │ \u001b[90mFloat64\u001b[39m │ \u001b[90mFloat64\u001b[39m  │ \u001b[90mFloat64\u001b[39m │ \u001b[90mDate\u001b[39m       │ \u001b[90mFloat64\u001b[39m │\n",
       "├─────┼────────────┼─────────┼──────────┼─────────┼────────────┼─────────┤\n",
       "│ 1   │ 4350-01D   │ 45.4991 │ -73.555  │ 19.3526 │ 2019-08-18 │ 0.0     │\n",
       "│ 2   │ 4380-01D   │ 45.4677 │ -73.5637 │ 19.3526 │ 2019-09-01 │ 0.0     │\n",
       "│ 3   │ 4380-01D   │ 45.4677 │ -73.5637 │ 19.3526 │ 2019-08-07 │ 1.9198  │\n",
       "│ 4   │ 3350-07D   │ 45.5461 │ -73.6921 │ 20.75   │ 2019-08-24 │ 0.0     │\n",
       "│ 5   │ 4380-01D   │ 45.4677 │ -73.5637 │ 19.3526 │ 2019-07-17 │ 0.0     │\n",
       "│ 6   │ 4350-01D   │ 45.4991 │ -73.555  │ 19.3526 │ 2019-06-23 │ 0.0     │\n",
       "│ 7   │ 4380-01D   │ 45.4677 │ -73.5637 │ 19.3526 │ 2019-09-04 │ 217.897 │\n",
       "│ 8   │ 4240-01D   │ 45.6497 │ -73.4877 │ 11.91   │ 2019-06-25 │ 72.2511 │\n",
       "│ 9   │ 3260-01D   │ 45.6507 │ -73.5803 │ 20.17   │ 2019-07-10 │ 0.0     │\n",
       "│ 10  │ 3260-01D   │ 45.6507 │ -73.5803 │ 20.17   │ 2019-05-20 │ 39.2849 │"
      ]
     },
     "execution_count": 106,
     "metadata": {},
     "output_type": "execute_result"
    }
   ],
   "source": [
    "first(shuffleDf(test_comb), 10)"
   ]
  },
  {
   "cell_type": "markdown",
   "metadata": {},
   "source": [
    "#### Normalize pcp based on comb (not test_comb)"
   ]
  },
  {
   "cell_type": "code",
   "execution_count": 59,
   "metadata": {},
   "outputs": [],
   "source": [
    "# test_comb.PCP_SUM = normalize.(test_comb.PCP_SUM, min_pcp_sum, max_pcp_sum);\n",
    "# test_comb.PCP_MAX = normalize.(test_comb.PCP_MAX, min_pcp_max, max_pcp_max);\n",
    "# test_comb.PCP_MAX3 = normalize.(test_comb.PCP_MAX3, min_pcp_max3, max_pcp_max3);"
   ]
  },
  {
   "cell_type": "code",
   "execution_count": 107,
   "metadata": {},
   "outputs": [
    {
     "data": {
      "text/html": [
       "<table class=\"data-frame\"><thead><tr><th></th><th>ID_OUVRAGE</th><th>TP_LAT</th><th>TP_LNG</th><th>TP_Z</th><th>DATE</th><th>PCP_SUM</th><th>PCP_MAX</th><th>PCP_MAX3</th></tr><tr><th></th><th>String</th><th>Float64</th><th>Float64</th><th>Float64</th><th>Date</th><th>Float64</th><th>Float64</th><th>Float64</th></tr></thead><tbody><p>20 rows × 8 columns</p><tr><th>1</th><td>3260-01D</td><td>45.6507</td><td>-73.5803</td><td>20.17</td><td>2019-05-02</td><td>22.2045</td><td>10.2482</td><td>18.7884</td></tr><tr><th>2</th><td>3260-01D</td><td>45.6507</td><td>-73.5803</td><td>20.17</td><td>2019-05-09</td><td>76.0077</td><td>38.4309</td><td>76.0077</td></tr><tr><th>3</th><td>3260-01D</td><td>45.6507</td><td>-73.5803</td><td>20.17</td><td>2019-05-10</td><td>328.797</td><td>56.3653</td><td>132.373</td></tr><tr><th>4</th><td>3260-01D</td><td>45.6507</td><td>-73.5803</td><td>20.17</td><td>2019-05-15</td><td>1.70804</td><td>1.70804</td><td>1.70804</td></tr><tr><th>5</th><td>3260-01D</td><td>45.6507</td><td>-73.5803</td><td>20.17</td><td>2019-05-20</td><td>39.2849</td><td>34.1608</td><td>37.5768</td></tr><tr><th>6</th><td>3260-01D</td><td>45.6507</td><td>-73.5803</td><td>20.17</td><td>2019-05-23</td><td>149.453</td><td>53.8032</td><td>122.125</td></tr><tr><th>7</th><td>3260-01D</td><td>45.6507</td><td>-73.5803</td><td>20.17</td><td>2019-05-24</td><td>11.1022</td><td>7.68617</td><td>9.39421</td></tr><tr><th>8</th><td>3260-01D</td><td>45.6507</td><td>-73.5803</td><td>20.17</td><td>2019-05-26</td><td>2.56206</td><td>2.56206</td><td>2.56206</td></tr><tr><th>9</th><td>3260-01D</td><td>45.6507</td><td>-73.5803</td><td>20.17</td><td>2019-05-30</td><td>5.97813</td><td>5.97813</td><td>5.97813</td></tr><tr><th>10</th><td>3350-07D</td><td>45.5461</td><td>-73.6921</td><td>20.75</td><td>2019-05-01</td><td>42.6413</td><td>19.0525</td><td>37.1978</td></tr><tr><th>11</th><td>3350-07D</td><td>45.5461</td><td>-73.6921</td><td>20.75</td><td>2019-05-02</td><td>11.7944</td><td>7.2581</td><td>9.97989</td></tr><tr><th>12</th><td>3350-07D</td><td>45.5461</td><td>-73.6921</td><td>20.75</td><td>2019-05-08</td><td>0.0</td><td>0.0</td><td>0.0</td></tr><tr><th>13</th><td>3350-07D</td><td>45.5461</td><td>-73.6921</td><td>20.75</td><td>2019-05-09</td><td>78.0246</td><td>39.0123</td><td>78.0246</td></tr><tr><th>14</th><td>3350-07D</td><td>45.5461</td><td>-73.6921</td><td>20.75</td><td>2019-05-10</td><td>258.57</td><td>43.5486</td><td>114.315</td></tr><tr><th>15</th><td>3350-07D</td><td>45.5461</td><td>-73.6921</td><td>20.75</td><td>2019-05-11</td><td>0.0</td><td>0.0</td><td>0.0</td></tr><tr><th>16</th><td>3350-07D</td><td>45.5461</td><td>-73.6921</td><td>20.75</td><td>2019-05-13</td><td>8.16536</td><td>8.16536</td><td>8.16536</td></tr><tr><th>17</th><td>3350-07D</td><td>45.5461</td><td>-73.6921</td><td>20.75</td><td>2019-05-14</td><td>94.3553</td><td>16.3307</td><td>39.9196</td></tr><tr><th>18</th><td>3350-07D</td><td>45.5461</td><td>-73.6921</td><td>20.75</td><td>2019-05-18</td><td>1.81453</td><td>1.81453</td><td>1.81453</td></tr><tr><th>19</th><td>3350-07D</td><td>45.5461</td><td>-73.6921</td><td>20.75</td><td>2019-05-19</td><td>51.714</td><td>24.4961</td><td>41.7341</td></tr><tr><th>20</th><td>3350-07D</td><td>45.5461</td><td>-73.6921</td><td>20.75</td><td>2019-05-20</td><td>48.0849</td><td>46.2704</td><td>48.0849</td></tr></tbody></table>"
      ],
      "text/latex": [
       "\\begin{tabular}{r|cccccccc}\n",
       "\t& ID\\_OUVRAGE & TP\\_LAT & TP\\_LNG & TP\\_Z & DATE & PCP\\_SUM & PCP\\_MAX & PCP\\_MAX3\\\\\n",
       "\t\\hline\n",
       "\t& String & Float64 & Float64 & Float64 & Date & Float64 & Float64 & Float64\\\\\n",
       "\t\\hline\n",
       "\t1 & 3260-01D & 45.6507 & -73.5803 & 20.17 & 2019-05-02 & 22.2045 & 10.2482 & 18.7884 \\\\\n",
       "\t2 & 3260-01D & 45.6507 & -73.5803 & 20.17 & 2019-05-09 & 76.0077 & 38.4309 & 76.0077 \\\\\n",
       "\t3 & 3260-01D & 45.6507 & -73.5803 & 20.17 & 2019-05-10 & 328.797 & 56.3653 & 132.373 \\\\\n",
       "\t4 & 3260-01D & 45.6507 & -73.5803 & 20.17 & 2019-05-15 & 1.70804 & 1.70804 & 1.70804 \\\\\n",
       "\t5 & 3260-01D & 45.6507 & -73.5803 & 20.17 & 2019-05-20 & 39.2849 & 34.1608 & 37.5768 \\\\\n",
       "\t6 & 3260-01D & 45.6507 & -73.5803 & 20.17 & 2019-05-23 & 149.453 & 53.8032 & 122.125 \\\\\n",
       "\t7 & 3260-01D & 45.6507 & -73.5803 & 20.17 & 2019-05-24 & 11.1022 & 7.68617 & 9.39421 \\\\\n",
       "\t8 & 3260-01D & 45.6507 & -73.5803 & 20.17 & 2019-05-26 & 2.56206 & 2.56206 & 2.56206 \\\\\n",
       "\t9 & 3260-01D & 45.6507 & -73.5803 & 20.17 & 2019-05-30 & 5.97813 & 5.97813 & 5.97813 \\\\\n",
       "\t10 & 3350-07D & 45.5461 & -73.6921 & 20.75 & 2019-05-01 & 42.6413 & 19.0525 & 37.1978 \\\\\n",
       "\t11 & 3350-07D & 45.5461 & -73.6921 & 20.75 & 2019-05-02 & 11.7944 & 7.2581 & 9.97989 \\\\\n",
       "\t12 & 3350-07D & 45.5461 & -73.6921 & 20.75 & 2019-05-08 & 0.0 & 0.0 & 0.0 \\\\\n",
       "\t13 & 3350-07D & 45.5461 & -73.6921 & 20.75 & 2019-05-09 & 78.0246 & 39.0123 & 78.0246 \\\\\n",
       "\t14 & 3350-07D & 45.5461 & -73.6921 & 20.75 & 2019-05-10 & 258.57 & 43.5486 & 114.315 \\\\\n",
       "\t15 & 3350-07D & 45.5461 & -73.6921 & 20.75 & 2019-05-11 & 0.0 & 0.0 & 0.0 \\\\\n",
       "\t16 & 3350-07D & 45.5461 & -73.6921 & 20.75 & 2019-05-13 & 8.16536 & 8.16536 & 8.16536 \\\\\n",
       "\t17 & 3350-07D & 45.5461 & -73.6921 & 20.75 & 2019-05-14 & 94.3553 & 16.3307 & 39.9196 \\\\\n",
       "\t18 & 3350-07D & 45.5461 & -73.6921 & 20.75 & 2019-05-18 & 1.81453 & 1.81453 & 1.81453 \\\\\n",
       "\t19 & 3350-07D & 45.5461 & -73.6921 & 20.75 & 2019-05-19 & 51.714 & 24.4961 & 41.7341 \\\\\n",
       "\t20 & 3350-07D & 45.5461 & -73.6921 & 20.75 & 2019-05-20 & 48.0849 & 46.2704 & 48.0849 \\\\\n",
       "\\end{tabular}\n"
      ],
      "text/plain": [
       "20×8 DataFrame. Omitted printing of 2 columns\n",
       "│ Row │ ID_OUVRAGE │ TP_LAT  │ TP_LNG   │ TP_Z    │ DATE       │ PCP_SUM │\n",
       "│     │ \u001b[90mString\u001b[39m     │ \u001b[90mFloat64\u001b[39m │ \u001b[90mFloat64\u001b[39m  │ \u001b[90mFloat64\u001b[39m │ \u001b[90mDate\u001b[39m       │ \u001b[90mFloat64\u001b[39m │\n",
       "├─────┼────────────┼─────────┼──────────┼─────────┼────────────┼─────────┤\n",
       "│ 1   │ 3260-01D   │ 45.6507 │ -73.5803 │ 20.17   │ 2019-05-02 │ 22.2045 │\n",
       "│ 2   │ 3260-01D   │ 45.6507 │ -73.5803 │ 20.17   │ 2019-05-09 │ 76.0077 │\n",
       "│ 3   │ 3260-01D   │ 45.6507 │ -73.5803 │ 20.17   │ 2019-05-10 │ 328.797 │\n",
       "│ 4   │ 3260-01D   │ 45.6507 │ -73.5803 │ 20.17   │ 2019-05-15 │ 1.70804 │\n",
       "│ 5   │ 3260-01D   │ 45.6507 │ -73.5803 │ 20.17   │ 2019-05-20 │ 39.2849 │\n",
       "│ 6   │ 3260-01D   │ 45.6507 │ -73.5803 │ 20.17   │ 2019-05-23 │ 149.453 │\n",
       "│ 7   │ 3260-01D   │ 45.6507 │ -73.5803 │ 20.17   │ 2019-05-24 │ 11.1022 │\n",
       "│ 8   │ 3260-01D   │ 45.6507 │ -73.5803 │ 20.17   │ 2019-05-26 │ 2.56206 │\n",
       "│ 9   │ 3260-01D   │ 45.6507 │ -73.5803 │ 20.17   │ 2019-05-30 │ 5.97813 │\n",
       "│ 10  │ 3350-07D   │ 45.5461 │ -73.6921 │ 20.75   │ 2019-05-01 │ 42.6413 │\n",
       "│ 11  │ 3350-07D   │ 45.5461 │ -73.6921 │ 20.75   │ 2019-05-02 │ 11.7944 │\n",
       "│ 12  │ 3350-07D   │ 45.5461 │ -73.6921 │ 20.75   │ 2019-05-08 │ 0.0     │\n",
       "│ 13  │ 3350-07D   │ 45.5461 │ -73.6921 │ 20.75   │ 2019-05-09 │ 78.0246 │\n",
       "│ 14  │ 3350-07D   │ 45.5461 │ -73.6921 │ 20.75   │ 2019-05-10 │ 258.57  │\n",
       "│ 15  │ 3350-07D   │ 45.5461 │ -73.6921 │ 20.75   │ 2019-05-11 │ 0.0     │\n",
       "│ 16  │ 3350-07D   │ 45.5461 │ -73.6921 │ 20.75   │ 2019-05-13 │ 8.16536 │\n",
       "│ 17  │ 3350-07D   │ 45.5461 │ -73.6921 │ 20.75   │ 2019-05-14 │ 94.3553 │\n",
       "│ 18  │ 3350-07D   │ 45.5461 │ -73.6921 │ 20.75   │ 2019-05-18 │ 1.81453 │\n",
       "│ 19  │ 3350-07D   │ 45.5461 │ -73.6921 │ 20.75   │ 2019-05-19 │ 51.714  │\n",
       "│ 20  │ 3350-07D   │ 45.5461 │ -73.6921 │ 20.75   │ 2019-05-20 │ 48.0849 │"
      ]
     },
     "execution_count": 107,
     "metadata": {},
     "output_type": "execute_result"
    }
   ],
   "source": [
    "first(test_comb, 20)"
   ]
  },
  {
   "cell_type": "markdown",
   "metadata": {},
   "source": [
    "#### Split dates into month and day"
   ]
  },
  {
   "cell_type": "code",
   "execution_count": 108,
   "metadata": {},
   "outputs": [
    {
     "data": {
      "text/html": [
       "<table class=\"data-frame\"><thead><tr><th></th><th>DATE</th><th>MONTH</th><th>DAY</th></tr><tr><th></th><th>Date</th><th>Int64</th><th>Int64</th></tr></thead><tbody><p>5 rows × 3 columns</p><tr><th>1</th><td>2019-08-02</td><td>8</td><td>2</td></tr><tr><th>2</th><td>2019-05-24</td><td>5</td><td>24</td></tr><tr><th>3</th><td>2019-06-11</td><td>6</td><td>11</td></tr><tr><th>4</th><td>2019-08-24</td><td>8</td><td>24</td></tr><tr><th>5</th><td>2019-07-21</td><td>7</td><td>21</td></tr></tbody></table>"
      ],
      "text/latex": [
       "\\begin{tabular}{r|ccc}\n",
       "\t& DATE & MONTH & DAY\\\\\n",
       "\t\\hline\n",
       "\t& Date & Int64 & Int64\\\\\n",
       "\t\\hline\n",
       "\t1 & 2019-08-02 & 8 & 2 \\\\\n",
       "\t2 & 2019-05-24 & 5 & 24 \\\\\n",
       "\t3 & 2019-06-11 & 6 & 11 \\\\\n",
       "\t4 & 2019-08-24 & 8 & 24 \\\\\n",
       "\t5 & 2019-07-21 & 7 & 21 \\\\\n",
       "\\end{tabular}\n"
      ],
      "text/plain": [
       "5×3 DataFrame\n",
       "│ Row │ DATE       │ MONTH │ DAY   │\n",
       "│     │ \u001b[90mDate\u001b[39m       │ \u001b[90mInt64\u001b[39m │ \u001b[90mInt64\u001b[39m │\n",
       "├─────┼────────────┼───────┼───────┤\n",
       "│ 1   │ 2019-08-02 │ 8     │ 2     │\n",
       "│ 2   │ 2019-05-24 │ 5     │ 24    │\n",
       "│ 3   │ 2019-06-11 │ 6     │ 11    │\n",
       "│ 4   │ 2019-08-24 │ 8     │ 24    │\n",
       "│ 5   │ 2019-07-21 │ 7     │ 21    │"
      ]
     },
     "execution_count": 108,
     "metadata": {},
     "output_type": "execute_result"
    }
   ],
   "source": [
    "test_comb.MONTH = month.(test_comb.DATE);\n",
    "test_comb.DAY = day.(test_comb.DATE);\n",
    "\n",
    "first(shuffleDf(test_comb[!, [:DATE, :MONTH, :DAY]]), 5)"
   ]
  },
  {
   "cell_type": "markdown",
   "metadata": {},
   "source": [
    "#### Normalize months and days"
   ]
  },
  {
   "cell_type": "code",
   "execution_count": 62,
   "metadata": {},
   "outputs": [],
   "source": [
    "# test_comb.MONTH = normalize.(test_comb.MONTH, 5, 10);\n",
    "# test_comb.DAY = normalize.(test_comb.DAY, 1, 31);\n",
    "# first(shuffleDf(test_comb[!, [:DATE, :MONTH, :DAY]]), 5)"
   ]
  },
  {
   "cell_type": "code",
   "execution_count": 109,
   "metadata": {},
   "outputs": [
    {
     "data": {
      "text/html": [
       "<table class=\"data-frame\"><thead><tr><th></th><th>ID_OUVRAGE</th><th>TP_LAT</th><th>TP_LNG</th><th>TP_Z</th><th>MONTH</th><th>DAY</th><th>PCP_SUM</th><th>PCP_MAX</th><th>PCP_MAX3</th></tr><tr><th></th><th>String</th><th>Float64</th><th>Float64</th><th>Float64</th><th>Int64</th><th>Int64</th><th>Float64</th><th>Float64</th><th>Float64</th></tr></thead><tbody><p>5 rows × 9 columns</p><tr><th>1</th><td>3260-01D</td><td>45.6507</td><td>-73.5803</td><td>20.17</td><td>5</td><td>2</td><td>22.2045</td><td>10.2482</td><td>18.7884</td></tr><tr><th>2</th><td>4240-01D</td><td>45.6497</td><td>-73.4877</td><td>11.91</td><td>7</td><td>14</td><td>0.0</td><td>0.0</td><td>0.0</td></tr><tr><th>3</th><td>3260-01D</td><td>45.6507</td><td>-73.5803</td><td>20.17</td><td>9</td><td>5</td><td>0.0</td><td>0.0</td><td>0.0</td></tr><tr><th>4</th><td>4380-01D</td><td>45.4677</td><td>-73.5637</td><td>19.3526</td><td>6</td><td>26</td><td>0.0</td><td>0.0</td><td>0.0</td></tr><tr><th>5</th><td>4240-01D</td><td>45.6497</td><td>-73.4877</td><td>11.91</td><td>7</td><td>4</td><td>0.0</td><td>0.0</td><td>0.0</td></tr></tbody></table>"
      ],
      "text/latex": [
       "\\begin{tabular}{r|ccccccccc}\n",
       "\t& ID\\_OUVRAGE & TP\\_LAT & TP\\_LNG & TP\\_Z & MONTH & DAY & PCP\\_SUM & PCP\\_MAX & PCP\\_MAX3\\\\\n",
       "\t\\hline\n",
       "\t& String & Float64 & Float64 & Float64 & Int64 & Int64 & Float64 & Float64 & Float64\\\\\n",
       "\t\\hline\n",
       "\t1 & 3260-01D & 45.6507 & -73.5803 & 20.17 & 5 & 2 & 22.2045 & 10.2482 & 18.7884 \\\\\n",
       "\t2 & 4240-01D & 45.6497 & -73.4877 & 11.91 & 7 & 14 & 0.0 & 0.0 & 0.0 \\\\\n",
       "\t3 & 3260-01D & 45.6507 & -73.5803 & 20.17 & 9 & 5 & 0.0 & 0.0 & 0.0 \\\\\n",
       "\t4 & 4380-01D & 45.4677 & -73.5637 & 19.3526 & 6 & 26 & 0.0 & 0.0 & 0.0 \\\\\n",
       "\t5 & 4240-01D & 45.6497 & -73.4877 & 11.91 & 7 & 4 & 0.0 & 0.0 & 0.0 \\\\\n",
       "\\end{tabular}\n"
      ],
      "text/plain": [
       "5×9 DataFrame. Omitted printing of 2 columns\n",
       "│ Row │ ID_OUVRAGE │ TP_LAT  │ TP_LNG   │ TP_Z    │ MONTH │ DAY   │ PCP_SUM │\n",
       "│     │ \u001b[90mString\u001b[39m     │ \u001b[90mFloat64\u001b[39m │ \u001b[90mFloat64\u001b[39m  │ \u001b[90mFloat64\u001b[39m │ \u001b[90mInt64\u001b[39m │ \u001b[90mInt64\u001b[39m │ \u001b[90mFloat64\u001b[39m │\n",
       "├─────┼────────────┼─────────┼──────────┼─────────┼───────┼───────┼─────────┤\n",
       "│ 1   │ 3260-01D   │ 45.6507 │ -73.5803 │ 20.17   │ 5     │ 2     │ 22.2045 │\n",
       "│ 2   │ 4240-01D   │ 45.6497 │ -73.4877 │ 11.91   │ 7     │ 14    │ 0.0     │\n",
       "│ 3   │ 3260-01D   │ 45.6507 │ -73.5803 │ 20.17   │ 9     │ 5     │ 0.0     │\n",
       "│ 4   │ 4380-01D   │ 45.4677 │ -73.5637 │ 19.3526 │ 6     │ 26    │ 0.0     │\n",
       "│ 5   │ 4240-01D   │ 45.6497 │ -73.4877 │ 11.91   │ 7     │ 4     │ 0.0     │"
      ]
     },
     "execution_count": 109,
     "metadata": {},
     "output_type": "execute_result"
    }
   ],
   "source": [
    "first(shuffleDf(test_comb[!, [:ID_OUVRAGE, :TP_LAT, :TP_LNG, :TP_Z, :MONTH, :DAY, :PCP_SUM, :PCP_MAX, :PCP_MAX3]]), 5)"
   ]
  },
  {
   "cell_type": "markdown",
   "metadata": {},
   "source": [
    "### Create Test features"
   ]
  },
  {
   "cell_type": "code",
   "execution_count": 110,
   "metadata": {},
   "outputs": [
    {
     "data": {
      "text/plain": [
       "283×7 Array{Float64,2}:\n",
       " 45.6507  -73.5803  20.17    5.0   22.2045    10.2482    18.7884 \n",
       " 45.6507  -73.5803  20.17    5.0   76.0077    38.4309    76.0077 \n",
       " 45.6507  -73.5803  20.17    5.0  328.797     56.3653   132.373  \n",
       " 45.6507  -73.5803  20.17    5.0    1.70804    1.70804    1.70804\n",
       " 45.6507  -73.5803  20.17    5.0   39.2849    34.1608    37.5768 \n",
       " 45.6507  -73.5803  20.17    5.0  149.453     53.8032   122.125  \n",
       " 45.6507  -73.5803  20.17    5.0   11.1022     7.68617    9.39421\n",
       " 45.6507  -73.5803  20.17    5.0    2.56206    2.56206    2.56206\n",
       " 45.6507  -73.5803  20.17    5.0    5.97813    5.97813    5.97813\n",
       " 45.5461  -73.6921  20.75    5.0   42.6413    19.0525    37.1978 \n",
       " 45.5461  -73.6921  20.75    5.0   11.7944     7.2581     9.97989\n",
       " 45.5461  -73.6921  20.75    5.0    0.0        0.0        0.0    \n",
       " 45.5461  -73.6921  20.75    5.0   78.0246    39.0123    78.0246 \n",
       "  ⋮                                            ⋮                 \n",
       " 45.4677  -73.5637  19.3526  9.0    0.0        0.0        0.0    \n",
       " 45.4677  -73.5637  19.3526  9.0  337.885     58.5539   141.105  \n",
       " 45.4677  -73.5637  19.3526  9.0  217.897    120.947    184.301  \n",
       " 45.4677  -73.5637  19.3526  9.0    0.0        0.0        0.0    \n",
       " 45.4677  -73.5637  19.3526  9.0    0.0        0.0        0.0    \n",
       " 45.4677  -73.5637  19.3526  9.0    0.0        0.0        0.0    \n",
       " 45.4677  -73.5637  19.3526  9.0    0.0        0.0        0.0    \n",
       " 45.4677  -73.5637  19.3526  9.0    0.0        0.0        0.0    \n",
       " 45.4677  -73.5637  19.3526  9.0  107.509     32.6366    78.7118 \n",
       " 45.4677  -73.5637  19.3526  9.0   52.7945    16.3183    33.5965 \n",
       " 45.4677  -73.5637  19.3526  9.0    1.9198     1.9198     1.9198 \n",
       " 45.4677  -73.5637  19.3526  9.0    0.0        0.0        0.0    "
      ]
     },
     "execution_count": 110,
     "metadata": {},
     "output_type": "execute_result"
    }
   ],
   "source": [
    "test_features = convert(Matrix{Float64}, test_comb[:, names_ft]);\n",
    "# test_features = hcat(test_dates, test_features);\n",
    "\n",
    "test_features"
   ]
  },
  {
   "cell_type": "markdown",
   "metadata": {},
   "source": [
    "## Predict"
   ]
  },
  {
   "cell_type": "code",
   "execution_count": 111,
   "metadata": {},
   "outputs": [
    {
     "data": {
      "text/plain": [
       "283-element Array{Int64,1}:\n",
       " 0\n",
       " 0\n",
       " 1\n",
       " 0\n",
       " 0\n",
       " 1\n",
       " 0\n",
       " 0\n",
       " 0\n",
       " 1\n",
       " 0\n",
       " 0\n",
       " 1\n",
       " ⋮\n",
       " 0\n",
       " 1\n",
       " 1\n",
       " 0\n",
       " 0\n",
       " 0\n",
       " 0\n",
       " 0\n",
       " 0\n",
       " 0\n",
       " 0\n",
       " 0"
      ]
     },
     "execution_count": 111,
     "metadata": {},
     "output_type": "execute_result"
    }
   ],
   "source": [
    "test_labels = apply_forest(model, test_features)"
   ]
  },
  {
   "cell_type": "markdown",
   "metadata": {},
   "source": [
    "## Generate submission"
   ]
  },
  {
   "cell_type": "code",
   "execution_count": 112,
   "metadata": {},
   "outputs": [
    {
     "data": {
      "text/plain": [
       "\"submissions/mc-submission-9.csv\""
      ]
     },
     "execution_count": 112,
     "metadata": {},
     "output_type": "execute_result"
    }
   ],
   "source": [
    "ID = test_comb[:,:ID_OUVRAGE].*\"_\".*string.(test_comb[:,:DATE])\n",
    "sampleSubmission = DataFrame(ID = ID, Surverse=test_labels)\n",
    "CSV.write(\"submissions/mc-submission-9.csv\",sampleSubmission)"
   ]
  }
 ],
 "metadata": {
  "kernelspec": {
   "display_name": "Julia 1.2.0",
   "language": "julia",
   "name": "julia-1.2"
  },
  "language_info": {
   "file_extension": ".jl",
   "mimetype": "application/julia",
   "name": "julia",
   "version": "1.0.5"
  }
 },
 "nbformat": 4,
 "nbformat_minor": 2
}
