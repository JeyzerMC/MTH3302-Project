{
 "cells": [
  {
   "cell_type": "markdown",
   "metadata": {},
   "source": [
    "# Data Processing"
   ]
  },
  {
   "cell_type": "code",
   "execution_count": 78,
   "metadata": {},
   "outputs": [],
   "source": [
    "using CSV, DataFrames, DecisionTree, Statistics, Dates, Gadfly, Random, MLBase;\n",
    "include(\"utils/precipitation.jl\");"
   ]
  },
  {
   "cell_type": "markdown",
   "metadata": {},
   "source": [
    "## Build features"
   ]
  },
  {
   "cell_type": "markdown",
   "metadata": {},
   "source": [
    "### Get and filter the features"
   ]
  },
  {
   "cell_type": "markdown",
   "metadata": {},
   "source": [
    "#### Latitude, Longitude, Height"
   ]
  },
  {
   "cell_type": "code",
   "execution_count": 79,
   "metadata": {},
   "outputs": [],
   "source": [
    "features = CSV.read(\"data/ouvrages-surverses.csv\");\n",
    "colnames = [\"N_Env\", \"ID_SOMA\", \"ID_OUVRAGE\", \"NOM\", \"SOMA_SEC\", \"REGION\", \"TP_X\", \"TP_Y\", \"TP_Z\", \"TP_LAT\", \"TP_LNG\", \"EMI_X\", \"EMI_Y\", \"EMI_LNG\", \"EMI_LAT\"];\n",
    "names!(features, Symbol.(colnames));\n",
    "select!(features, [:ID_OUVRAGE, :TP_LAT, :TP_LNG, :TP_Z]);"
   ]
  },
  {
   "cell_type": "markdown",
   "metadata": {},
   "source": [
    "#### Replace missing Z index with mean"
   ]
  },
  {
   "cell_type": "code",
   "execution_count": 80,
   "metadata": {},
   "outputs": [
    {
     "data": {
      "text/html": [
       "<table class=\"data-frame\"><thead><tr><th></th><th>ID_OUVRAGE</th><th>TP_LAT</th><th>TP_LNG</th><th>TP_Z</th></tr><tr><th></th><th>String</th><th>Float64</th><th>Float64</th><th>Float64</th></tr></thead><tbody><p>10 rows × 4 columns</p><tr><th>1</th><td>3540-02D</td><td>45.4751</td><td>-73.8727</td><td>26.52</td></tr><tr><th>2</th><td>4340-02D</td><td>45.5262</td><td>-73.5444</td><td>19.33</td></tr><tr><th>3</th><td>4420-02D</td><td>45.443</td><td>-73.5764</td><td>17.08</td></tr><tr><th>4</th><td>4560-01D</td><td>45.4509</td><td>-73.7843</td><td>26.37</td></tr><tr><th>5</th><td>3305-03D</td><td>45.6196</td><td>-73.6329</td><td>11.76</td></tr><tr><th>6</th><td>3781-01D</td><td>45.4723</td><td>-73.8773</td><td>24.7</td></tr><tr><th>7</th><td>4430-06D</td><td>45.4304</td><td>-73.6655</td><td>23.67</td></tr><tr><th>8</th><td>4430-04D</td><td>45.4197</td><td>-73.6487</td><td>31.54</td></tr><tr><th>9</th><td>4710-01D</td><td>45.6976</td><td>-73.4968</td><td>12.12</td></tr><tr><th>10</th><td>3490-02D</td><td>45.5054</td><td>-73.8061</td><td>24.49</td></tr></tbody></table>"
      ],
      "text/latex": [
       "\\begin{tabular}{r|cccc}\n",
       "\t& ID\\_OUVRAGE & TP\\_LAT & TP\\_LNG & TP\\_Z\\\\\n",
       "\t\\hline\n",
       "\t& String & Float64 & Float64 & Float64\\\\\n",
       "\t\\hline\n",
       "\t1 & 3540-02D & 45.4751 & -73.8727 & 26.52 \\\\\n",
       "\t2 & 4340-02D & 45.5262 & -73.5444 & 19.33 \\\\\n",
       "\t3 & 4420-02D & 45.443 & -73.5764 & 17.08 \\\\\n",
       "\t4 & 4560-01D & 45.4509 & -73.7843 & 26.37 \\\\\n",
       "\t5 & 3305-03D & 45.6196 & -73.6329 & 11.76 \\\\\n",
       "\t6 & 3781-01D & 45.4723 & -73.8773 & 24.7 \\\\\n",
       "\t7 & 4430-06D & 45.4304 & -73.6655 & 23.67 \\\\\n",
       "\t8 & 4430-04D & 45.4197 & -73.6487 & 31.54 \\\\\n",
       "\t9 & 4710-01D & 45.6976 & -73.4968 & 12.12 \\\\\n",
       "\t10 & 3490-02D & 45.5054 & -73.8061 & 24.49 \\\\\n",
       "\\end{tabular}\n"
      ],
      "text/plain": [
       "10×4 DataFrame\n",
       "│ Row │ ID_OUVRAGE │ TP_LAT  │ TP_LNG   │ TP_Z    │\n",
       "│     │ \u001b[90mString\u001b[39m     │ \u001b[90mFloat64\u001b[39m │ \u001b[90mFloat64\u001b[39m  │ \u001b[90mFloat64\u001b[39m │\n",
       "├─────┼────────────┼─────────┼──────────┼─────────┤\n",
       "│ 1   │ 3540-02D   │ 45.4751 │ -73.8727 │ 26.52   │\n",
       "│ 2   │ 4340-02D   │ 45.5262 │ -73.5444 │ 19.33   │\n",
       "│ 3   │ 4420-02D   │ 45.443  │ -73.5764 │ 17.08   │\n",
       "│ 4   │ 4560-01D   │ 45.4509 │ -73.7843 │ 26.37   │\n",
       "│ 5   │ 3305-03D   │ 45.6196 │ -73.6329 │ 11.76   │\n",
       "│ 6   │ 3781-01D   │ 45.4723 │ -73.8773 │ 24.7    │\n",
       "│ 7   │ 4430-06D   │ 45.4304 │ -73.6655 │ 23.67   │\n",
       "│ 8   │ 4430-04D   │ 45.4197 │ -73.6487 │ 31.54   │\n",
       "│ 9   │ 4710-01D   │ 45.6976 │ -73.4968 │ 12.12   │\n",
       "│ 10  │ 3490-02D   │ 45.5054 │ -73.8061 │ 24.49   │"
      ]
     },
     "execution_count": 80,
     "metadata": {},
     "output_type": "execute_result"
    }
   ],
   "source": [
    "features.TP_Z = coalesce.(features.TP_Z, mean(features[completecases(features), :].TP_Z));\n",
    "first(shuffleDf(features), 10)"
   ]
  },
  {
   "cell_type": "markdown",
   "metadata": {},
   "source": [
    "### Load dates and surverses"
   ]
  },
  {
   "cell_type": "code",
   "execution_count": 81,
   "metadata": {},
   "outputs": [],
   "source": [
    "surverses = CSV.read(\"data/surverses.csv\",missingstring=\"-99999\");"
   ]
  },
  {
   "cell_type": "markdown",
   "metadata": {},
   "source": [
    "#### Filter months"
   ]
  },
  {
   "cell_type": "code",
   "execution_count": 82,
   "metadata": {},
   "outputs": [],
   "source": [
    "surverses = filter(row -> month(row.DATE) > 4, surverses);\n",
    "surverses = filter(row -> month(row.DATE) < 11, surverses);"
   ]
  },
  {
   "cell_type": "markdown",
   "metadata": {},
   "source": [
    "#### Filter non rain surverses"
   ]
  },
  {
   "cell_type": "code",
   "execution_count": 83,
   "metadata": {},
   "outputs": [],
   "source": [
    "raison = coalesce.(surverses[:,:RAISON],\"Inconnue\");\n",
    "surverses[!,:RAISON] = raison;\n",
    "\n",
    "surverses = filter(row -> row.RAISON ∈ [\"P\",\"Inconnue\",\"TS\"], surverses);\n",
    "select!(surverses, [:NO_OUVRAGE, :DATE, :SURVERSE]);"
   ]
  },
  {
   "cell_type": "markdown",
   "metadata": {},
   "source": [
    "#### Remove missing data and rename"
   ]
  },
  {
   "cell_type": "code",
   "execution_count": 84,
   "metadata": {},
   "outputs": [
    {
     "data": {
      "text/html": [
       "<table class=\"data-frame\"><thead><tr><th></th><th>ID_OUVRAGE</th><th>DATE</th><th>SURVERSE</th></tr><tr><th></th><th>String</th><th>Date</th><th>Int64</th></tr></thead><tbody><p>10 rows × 3 columns</p><tr><th>1</th><td>4270-02D</td><td>2018-05-29</td><td>0</td></tr><tr><th>2</th><td>4560-03D</td><td>2013-07-10</td><td>0</td></tr><tr><th>3</th><td>4610-09D</td><td>2015-09-16</td><td>0</td></tr><tr><th>4</th><td>4230-06D</td><td>2016-08-15</td><td>0</td></tr><tr><th>5</th><td>3305-01D</td><td>2015-09-24</td><td>0</td></tr><tr><th>6</th><td>4280-02D</td><td>2017-10-21</td><td>0</td></tr><tr><th>7</th><td>4430-06D</td><td>2017-05-10</td><td>0</td></tr><tr><th>8</th><td>3305-02D</td><td>2017-09-07</td><td>0</td></tr><tr><th>9</th><td>3580-01D</td><td>2016-06-29</td><td>0</td></tr><tr><th>10</th><td>0672-03D</td><td>2017-05-18</td><td>0</td></tr></tbody></table>"
      ],
      "text/latex": [
       "\\begin{tabular}{r|ccc}\n",
       "\t& ID\\_OUVRAGE & DATE & SURVERSE\\\\\n",
       "\t\\hline\n",
       "\t& String & Date & Int64\\\\\n",
       "\t\\hline\n",
       "\t1 & 4270-02D & 2018-05-29 & 0 \\\\\n",
       "\t2 & 4560-03D & 2013-07-10 & 0 \\\\\n",
       "\t3 & 4610-09D & 2015-09-16 & 0 \\\\\n",
       "\t4 & 4230-06D & 2016-08-15 & 0 \\\\\n",
       "\t5 & 3305-01D & 2015-09-24 & 0 \\\\\n",
       "\t6 & 4280-02D & 2017-10-21 & 0 \\\\\n",
       "\t7 & 4430-06D & 2017-05-10 & 0 \\\\\n",
       "\t8 & 3305-02D & 2017-09-07 & 0 \\\\\n",
       "\t9 & 3580-01D & 2016-06-29 & 0 \\\\\n",
       "\t10 & 0672-03D & 2017-05-18 & 0 \\\\\n",
       "\\end{tabular}\n"
      ],
      "text/plain": [
       "10×3 DataFrame\n",
       "│ Row │ ID_OUVRAGE │ DATE       │ SURVERSE │\n",
       "│     │ \u001b[90mString\u001b[39m     │ \u001b[90mDate\u001b[39m       │ \u001b[90mInt64\u001b[39m    │\n",
       "├─────┼────────────┼────────────┼──────────┤\n",
       "│ 1   │ 4270-02D   │ 2018-05-29 │ 0        │\n",
       "│ 2   │ 4560-03D   │ 2013-07-10 │ 0        │\n",
       "│ 3   │ 4610-09D   │ 2015-09-16 │ 0        │\n",
       "│ 4   │ 4230-06D   │ 2016-08-15 │ 0        │\n",
       "│ 5   │ 3305-01D   │ 2015-09-24 │ 0        │\n",
       "│ 6   │ 4280-02D   │ 2017-10-21 │ 0        │\n",
       "│ 7   │ 4430-06D   │ 2017-05-10 │ 0        │\n",
       "│ 8   │ 3305-02D   │ 2017-09-07 │ 0        │\n",
       "│ 9   │ 3580-01D   │ 2016-06-29 │ 0        │\n",
       "│ 10  │ 0672-03D   │ 2017-05-18 │ 0        │"
      ]
     },
     "execution_count": 84,
     "metadata": {},
     "output_type": "execute_result"
    }
   ],
   "source": [
    "surverses = dropmissing(surverses, disallowmissing=true);\n",
    "rename!(surverses, :NO_OUVRAGE => :ID_OUVRAGE);\n",
    "first(shuffleDf(surverses),10)"
   ]
  },
  {
   "cell_type": "markdown",
   "metadata": {},
   "source": [
    "### Augment features with dates and label"
   ]
  },
  {
   "cell_type": "code",
   "execution_count": 85,
   "metadata": {},
   "outputs": [
    {
     "data": {
      "text/html": [
       "<table class=\"data-frame\"><thead><tr><th></th><th>ID_OUVRAGE</th><th>TP_LAT</th><th>TP_LNG</th><th>TP_Z</th><th>DATE</th><th>SURVERSE</th></tr><tr><th></th><th>String</th><th>Float64</th><th>Float64</th><th>Float64</th><th>Date</th><th>Int64</th></tr></thead><tbody><p>10 rows × 6 columns</p><tr><th>1</th><td>3540-02D</td><td>45.4751</td><td>-73.8727</td><td>26.52</td><td>2014-06-04</td><td>0</td></tr><tr><th>2</th><td>0801-09D</td><td>45.5158</td><td>-73.5357</td><td>25.28</td><td>2013-10-31</td><td>0</td></tr><tr><th>3</th><td>4230-09D</td><td>45.699</td><td>-73.4799</td><td>8.347</td><td>2013-05-06</td><td>0</td></tr><tr><th>4</th><td>4230-04D</td><td>45.6713</td><td>-73.4917</td><td>8.96</td><td>2016-07-03</td><td>0</td></tr><tr><th>5</th><td>4620-01D</td><td>45.4156</td><td>-73.885</td><td>24.92</td><td>2016-10-18</td><td>0</td></tr><tr><th>6</th><td>3400-01D</td><td>45.5435</td><td>-73.6755</td><td>26.04</td><td>2014-07-02</td><td>0</td></tr><tr><th>7</th><td>3350-09D</td><td>45.5371</td><td>-73.713</td><td>23.72</td><td>2015-06-25</td><td>0</td></tr><tr><th>8</th><td>3290-01D</td><td>45.6238</td><td>-73.6219</td><td>19.85</td><td>2014-09-04</td><td>0</td></tr><tr><th>9</th><td>3767-01D</td><td>45.5456</td><td>-73.701</td><td>20.51</td><td>2017-06-21</td><td>0</td></tr><tr><th>10</th><td>4600-03D</td><td>45.4364</td><td>-73.8226</td><td>26.42</td><td>2017-05-31</td><td>0</td></tr></tbody></table>"
      ],
      "text/latex": [
       "\\begin{tabular}{r|cccccc}\n",
       "\t& ID\\_OUVRAGE & TP\\_LAT & TP\\_LNG & TP\\_Z & DATE & SURVERSE\\\\\n",
       "\t\\hline\n",
       "\t& String & Float64 & Float64 & Float64 & Date & Int64\\\\\n",
       "\t\\hline\n",
       "\t1 & 3540-02D & 45.4751 & -73.8727 & 26.52 & 2014-06-04 & 0 \\\\\n",
       "\t2 & 0801-09D & 45.5158 & -73.5357 & 25.28 & 2013-10-31 & 0 \\\\\n",
       "\t3 & 4230-09D & 45.699 & -73.4799 & 8.347 & 2013-05-06 & 0 \\\\\n",
       "\t4 & 4230-04D & 45.6713 & -73.4917 & 8.96 & 2016-07-03 & 0 \\\\\n",
       "\t5 & 4620-01D & 45.4156 & -73.885 & 24.92 & 2016-10-18 & 0 \\\\\n",
       "\t6 & 3400-01D & 45.5435 & -73.6755 & 26.04 & 2014-07-02 & 0 \\\\\n",
       "\t7 & 3350-09D & 45.5371 & -73.713 & 23.72 & 2015-06-25 & 0 \\\\\n",
       "\t8 & 3290-01D & 45.6238 & -73.6219 & 19.85 & 2014-09-04 & 0 \\\\\n",
       "\t9 & 3767-01D & 45.5456 & -73.701 & 20.51 & 2017-06-21 & 0 \\\\\n",
       "\t10 & 4600-03D & 45.4364 & -73.8226 & 26.42 & 2017-05-31 & 0 \\\\\n",
       "\\end{tabular}\n"
      ],
      "text/plain": [
       "10×6 DataFrame\n",
       "│ Row │ ID_OUVRAGE │ TP_LAT  │ TP_LNG   │ TP_Z    │ DATE       │ SURVERSE │\n",
       "│     │ \u001b[90mString\u001b[39m     │ \u001b[90mFloat64\u001b[39m │ \u001b[90mFloat64\u001b[39m  │ \u001b[90mFloat64\u001b[39m │ \u001b[90mDate\u001b[39m       │ \u001b[90mInt64\u001b[39m    │\n",
       "├─────┼────────────┼─────────┼──────────┼─────────┼────────────┼──────────┤\n",
       "│ 1   │ 3540-02D   │ 45.4751 │ -73.8727 │ 26.52   │ 2014-06-04 │ 0        │\n",
       "│ 2   │ 0801-09D   │ 45.5158 │ -73.5357 │ 25.28   │ 2013-10-31 │ 0        │\n",
       "│ 3   │ 4230-09D   │ 45.699  │ -73.4799 │ 8.347   │ 2013-05-06 │ 0        │\n",
       "│ 4   │ 4230-04D   │ 45.6713 │ -73.4917 │ 8.96    │ 2016-07-03 │ 0        │\n",
       "│ 5   │ 4620-01D   │ 45.4156 │ -73.885  │ 24.92   │ 2016-10-18 │ 0        │\n",
       "│ 6   │ 3400-01D   │ 45.5435 │ -73.6755 │ 26.04   │ 2014-07-02 │ 0        │\n",
       "│ 7   │ 3350-09D   │ 45.5371 │ -73.713  │ 23.72   │ 2015-06-25 │ 0        │\n",
       "│ 8   │ 3290-01D   │ 45.6238 │ -73.6219 │ 19.85   │ 2014-09-04 │ 0        │\n",
       "│ 9   │ 3767-01D   │ 45.5456 │ -73.701  │ 20.51   │ 2017-06-21 │ 0        │\n",
       "│ 10  │ 4600-03D   │ 45.4364 │ -73.8226 │ 26.42   │ 2017-05-31 │ 0        │"
      ]
     },
     "execution_count": 85,
     "metadata": {},
     "output_type": "execute_result"
    }
   ],
   "source": [
    "comb = join(features, surverses, on = :ID_OUVRAGE);\n",
    "first(shuffleDf(comb), 10)"
   ]
  },
  {
   "cell_type": "markdown",
   "metadata": {},
   "source": [
    "### Load precipitation data"
   ]
  },
  {
   "cell_type": "markdown",
   "metadata": {},
   "source": [
    "#### Load and filter months between May & October included"
   ]
  },
  {
   "cell_type": "code",
   "execution_count": 86,
   "metadata": {},
   "outputs": [],
   "source": [
    "precipitation = CSV.read(\"data/precipitations.csv\",missingstring=\"-99999\");\n",
    "rename!(precipitation, Symbol(\"St-Hubert\")=>:StHubert);\n",
    "\n",
    "precipitation = filter(row -> month(row.date) > 4, precipitation);\n",
    "precipitation = filter(row -> month(row.date) < 11, precipitation); "
   ]
  },
  {
   "cell_type": "markdown",
   "metadata": {},
   "source": [
    "#### Replace missing data by 0"
   ]
  },
  {
   "cell_type": "code",
   "execution_count": 87,
   "metadata": {},
   "outputs": [
    {
     "data": {
      "text/html": [
       "<table class=\"data-frame\"><thead><tr><th></th><th>date</th><th>heure</th><th>McTavish</th><th>Bellevue</th><th>Assomption</th><th>Trudeau</th><th>StHubert</th></tr><tr><th></th><th>Date</th><th>Int64</th><th>Int64</th><th>Int64</th><th>Int64</th><th>Int64</th><th>Int64</th></tr></thead><tbody><p>5 rows × 7 columns</p><tr><th>1</th><td>2013-10-29</td><td>15</td><td>0</td><td>0</td><td>0</td><td>0</td><td>0</td></tr><tr><th>2</th><td>2018-07-01</td><td>8</td><td>0</td><td>0</td><td>0</td><td>0</td><td>0</td></tr><tr><th>3</th><td>2015-08-16</td><td>16</td><td>0</td><td>0</td><td>0</td><td>0</td><td>0</td></tr><tr><th>4</th><td>2017-05-08</td><td>18</td><td>0</td><td>0</td><td>0</td><td>0</td><td>0</td></tr><tr><th>5</th><td>2019-09-14</td><td>8</td><td>2</td><td>0</td><td>0</td><td>0</td><td>8</td></tr></tbody></table>"
      ],
      "text/latex": [
       "\\begin{tabular}{r|ccccccc}\n",
       "\t& date & heure & McTavish & Bellevue & Assomption & Trudeau & StHubert\\\\\n",
       "\t\\hline\n",
       "\t& Date & Int64 & Int64 & Int64 & Int64 & Int64 & Int64\\\\\n",
       "\t\\hline\n",
       "\t1 & 2013-10-29 & 15 & 0 & 0 & 0 & 0 & 0 \\\\\n",
       "\t2 & 2018-07-01 & 8 & 0 & 0 & 0 & 0 & 0 \\\\\n",
       "\t3 & 2015-08-16 & 16 & 0 & 0 & 0 & 0 & 0 \\\\\n",
       "\t4 & 2017-05-08 & 18 & 0 & 0 & 0 & 0 & 0 \\\\\n",
       "\t5 & 2019-09-14 & 8 & 2 & 0 & 0 & 0 & 8 \\\\\n",
       "\\end{tabular}\n"
      ],
      "text/plain": [
       "5×7 DataFrame. Omitted printing of 1 columns\n",
       "│ Row │ date       │ heure │ McTavish │ Bellevue │ Assomption │ Trudeau │\n",
       "│     │ \u001b[90mDate\u001b[39m       │ \u001b[90mInt64\u001b[39m │ \u001b[90mInt64\u001b[39m    │ \u001b[90mInt64\u001b[39m    │ \u001b[90mInt64\u001b[39m      │ \u001b[90mInt64\u001b[39m   │\n",
       "├─────┼────────────┼───────┼──────────┼──────────┼────────────┼─────────┤\n",
       "│ 1   │ 2013-10-29 │ 15    │ 0        │ 0        │ 0          │ 0       │\n",
       "│ 2   │ 2018-07-01 │ 8     │ 0        │ 0        │ 0          │ 0       │\n",
       "│ 3   │ 2015-08-16 │ 16    │ 0        │ 0        │ 0          │ 0       │\n",
       "│ 4   │ 2017-05-08 │ 18    │ 0        │ 0        │ 0          │ 0       │\n",
       "│ 5   │ 2019-09-14 │ 8     │ 2        │ 0        │ 0          │ 0       │"
      ]
     },
     "execution_count": 87,
     "metadata": {},
     "output_type": "execute_result"
    }
   ],
   "source": [
    "precipitation[!,:McTavish] = coalesce.(precipitation[:,:McTavish], 0);\n",
    "precipitation[!,:Bellevue] = coalesce.(precipitation[:,:Bellevue], 0);\n",
    "precipitation[!,:Assomption] = coalesce.(precipitation[:,:Assomption], 0);\n",
    "precipitation[!,:Trudeau] = coalesce.(precipitation[:,:Trudeau], 0);\n",
    "precipitation[!,:StHubert] = coalesce.(precipitation[:,:StHubert], 0);\n",
    "\n",
    "first(shuffleDf(precipitation), 5)"
   ]
  },
  {
   "cell_type": "markdown",
   "metadata": {},
   "source": [
    "### Extract features from precipitation"
   ]
  },
  {
   "cell_type": "markdown",
   "metadata": {},
   "source": [
    "#### Sum of precipitation for the day"
   ]
  },
  {
   "cell_type": "code",
   "execution_count": 88,
   "metadata": {
    "scrolled": true
   },
   "outputs": [
    {
     "data": {
      "text/html": [
       "<table class=\"data-frame\"><thead><tr><th></th><th>date</th><th>McTavish</th><th>Bellevue</th><th>Assomption</th><th>Trudeau</th><th>StHubert</th></tr><tr><th></th><th>Date</th><th>Int64</th><th>Int64</th><th>Int64</th><th>Int64</th><th>Int64</th></tr></thead><tbody><p>5 rows × 6 columns</p><tr><th>1</th><td>2016-08-27</td><td>0</td><td>0</td><td>0</td><td>0</td><td>0</td></tr><tr><th>2</th><td>2016-05-19</td><td>0</td><td>0</td><td>101</td><td>0</td><td>8</td></tr><tr><th>3</th><td>2014-10-14</td><td>0</td><td>0</td><td>10</td><td>0</td><td>0</td></tr><tr><th>4</th><td>2019-06-18</td><td>0</td><td>0</td><td>0</td><td>0</td><td>0</td></tr><tr><th>5</th><td>2019-06-29</td><td>31</td><td>0</td><td>64</td><td>138</td><td>186</td></tr></tbody></table>"
      ],
      "text/latex": [
       "\\begin{tabular}{r|cccccc}\n",
       "\t& date & McTavish & Bellevue & Assomption & Trudeau & StHubert\\\\\n",
       "\t\\hline\n",
       "\t& Date & Int64 & Int64 & Int64 & Int64 & Int64\\\\\n",
       "\t\\hline\n",
       "\t1 & 2016-08-27 & 0 & 0 & 0 & 0 & 0 \\\\\n",
       "\t2 & 2016-05-19 & 0 & 0 & 101 & 0 & 8 \\\\\n",
       "\t3 & 2014-10-14 & 0 & 0 & 10 & 0 & 0 \\\\\n",
       "\t4 & 2019-06-18 & 0 & 0 & 0 & 0 & 0 \\\\\n",
       "\t5 & 2019-06-29 & 31 & 0 & 64 & 138 & 186 \\\\\n",
       "\\end{tabular}\n"
      ],
      "text/plain": [
       "5×6 DataFrame\n",
       "│ Row │ date       │ McTavish │ Bellevue │ Assomption │ Trudeau │ StHubert │\n",
       "│     │ \u001b[90mDate\u001b[39m       │ \u001b[90mInt64\u001b[39m    │ \u001b[90mInt64\u001b[39m    │ \u001b[90mInt64\u001b[39m      │ \u001b[90mInt64\u001b[39m   │ \u001b[90mInt64\u001b[39m    │\n",
       "├─────┼────────────┼──────────┼──────────┼────────────┼─────────┼──────────┤\n",
       "│ 1   │ 2016-08-27 │ 0        │ 0        │ 0          │ 0       │ 0        │\n",
       "│ 2   │ 2016-05-19 │ 0        │ 0        │ 101        │ 0       │ 8        │\n",
       "│ 3   │ 2014-10-14 │ 0        │ 0        │ 10         │ 0       │ 0        │\n",
       "│ 4   │ 2019-06-18 │ 0        │ 0        │ 0          │ 0       │ 0        │\n",
       "│ 5   │ 2019-06-29 │ 31       │ 0        │ 64         │ 138     │ 186      │"
      ]
     },
     "execution_count": 88,
     "metadata": {},
     "output_type": "execute_result"
    }
   ],
   "source": [
    "pcp_sum = by(precipitation, :date,  McTavish = :McTavish=>sum, Bellevue = :Bellevue=>sum, \n",
    "   Assomption = :Assomption=>sum, Trudeau = :Trudeau=>sum, StHubert = :StHubert=>sum);\n",
    "first(shuffleDf(pcp_sum), 5)"
   ]
  },
  {
   "cell_type": "markdown",
   "metadata": {},
   "source": [
    "#### Maximum precipitation in an hour for the day"
   ]
  },
  {
   "cell_type": "code",
   "execution_count": 89,
   "metadata": {},
   "outputs": [
    {
     "data": {
      "text/html": [
       "<table class=\"data-frame\"><thead><tr><th></th><th>date</th><th>McTavish</th><th>Bellevue</th><th>Assomption</th><th>Trudeau</th><th>StHubert</th></tr><tr><th></th><th>Date</th><th>Int64</th><th>Int64</th><th>Int64</th><th>Int64</th><th>Int64</th></tr></thead><tbody><p>5 rows × 6 columns</p><tr><th>1</th><td>2015-06-16</td><td>232</td><td>74</td><td>62</td><td>118</td><td>126</td></tr><tr><th>2</th><td>2017-05-06</td><td>34</td><td>26</td><td>40</td><td>47</td><td>12</td></tr><tr><th>3</th><td>2018-05-02</td><td>0</td><td>0</td><td>17</td><td>0</td><td>0</td></tr><tr><th>4</th><td>2018-05-20</td><td>68</td><td>71</td><td>35</td><td>69</td><td>63</td></tr><tr><th>5</th><td>2018-09-18</td><td>0</td><td>0</td><td>0</td><td>2</td><td>0</td></tr></tbody></table>"
      ],
      "text/latex": [
       "\\begin{tabular}{r|cccccc}\n",
       "\t& date & McTavish & Bellevue & Assomption & Trudeau & StHubert\\\\\n",
       "\t\\hline\n",
       "\t& Date & Int64 & Int64 & Int64 & Int64 & Int64\\\\\n",
       "\t\\hline\n",
       "\t1 & 2015-06-16 & 232 & 74 & 62 & 118 & 126 \\\\\n",
       "\t2 & 2017-05-06 & 34 & 26 & 40 & 47 & 12 \\\\\n",
       "\t3 & 2018-05-02 & 0 & 0 & 17 & 0 & 0 \\\\\n",
       "\t4 & 2018-05-20 & 68 & 71 & 35 & 69 & 63 \\\\\n",
       "\t5 & 2018-09-18 & 0 & 0 & 0 & 2 & 0 \\\\\n",
       "\\end{tabular}\n"
      ],
      "text/plain": [
       "5×6 DataFrame\n",
       "│ Row │ date       │ McTavish │ Bellevue │ Assomption │ Trudeau │ StHubert │\n",
       "│     │ \u001b[90mDate\u001b[39m       │ \u001b[90mInt64\u001b[39m    │ \u001b[90mInt64\u001b[39m    │ \u001b[90mInt64\u001b[39m      │ \u001b[90mInt64\u001b[39m   │ \u001b[90mInt64\u001b[39m    │\n",
       "├─────┼────────────┼──────────┼──────────┼────────────┼─────────┼──────────┤\n",
       "│ 1   │ 2015-06-16 │ 232      │ 74       │ 62         │ 118     │ 126      │\n",
       "│ 2   │ 2017-05-06 │ 34       │ 26       │ 40         │ 47      │ 12       │\n",
       "│ 3   │ 2018-05-02 │ 0        │ 0        │ 17         │ 0       │ 0        │\n",
       "│ 4   │ 2018-05-20 │ 68       │ 71       │ 35         │ 69      │ 63       │\n",
       "│ 5   │ 2018-09-18 │ 0        │ 0        │ 0          │ 2       │ 0        │"
      ]
     },
     "execution_count": 89,
     "metadata": {},
     "output_type": "execute_result"
    }
   ],
   "source": [
    "pcp_max = by(precipitation, :date,  McTavish = :McTavish=>maximum, Bellevue = :Bellevue=>maximum, \n",
    "   Assomption = :Assomption=>maximum, Trudeau = :Trudeau=>maximum, StHubert = :StHubert=>maximum)\n",
    "first(shuffleDf(pcp_max),5)"
   ]
  },
  {
   "cell_type": "markdown",
   "metadata": {},
   "source": [
    "#### Maximum precipitation during three consecutive hours in a day"
   ]
  },
  {
   "cell_type": "code",
   "execution_count": 90,
   "metadata": {},
   "outputs": [
    {
     "data": {
      "text/html": [
       "<table class=\"data-frame\"><thead><tr><th></th><th>date</th><th>McTavish</th><th>Bellevue</th><th>Assomption</th><th>Trudeau</th><th>StHubert</th></tr><tr><th></th><th>Date</th><th>Int64</th><th>Int64</th><th>Int64</th><th>Int64</th><th>Int64</th></tr></thead><tbody><p>5 rows × 6 columns</p><tr><th>1</th><td>2018-05-11</td><td>0</td><td>0</td><td>0</td><td>0</td><td>0</td></tr><tr><th>2</th><td>2019-08-23</td><td>0</td><td>0</td><td>0</td><td>0</td><td>0</td></tr><tr><th>3</th><td>2014-09-14</td><td>0</td><td>0</td><td>0</td><td>0</td><td>0</td></tr><tr><th>4</th><td>2018-06-10</td><td>0</td><td>0</td><td>2</td><td>0</td><td>0</td></tr><tr><th>5</th><td>2015-06-24</td><td>6</td><td>0</td><td>0</td><td>29</td><td>2</td></tr></tbody></table>"
      ],
      "text/latex": [
       "\\begin{tabular}{r|cccccc}\n",
       "\t& date & McTavish & Bellevue & Assomption & Trudeau & StHubert\\\\\n",
       "\t\\hline\n",
       "\t& Date & Int64 & Int64 & Int64 & Int64 & Int64\\\\\n",
       "\t\\hline\n",
       "\t1 & 2018-05-11 & 0 & 0 & 0 & 0 & 0 \\\\\n",
       "\t2 & 2019-08-23 & 0 & 0 & 0 & 0 & 0 \\\\\n",
       "\t3 & 2014-09-14 & 0 & 0 & 0 & 0 & 0 \\\\\n",
       "\t4 & 2018-06-10 & 0 & 0 & 2 & 0 & 0 \\\\\n",
       "\t5 & 2015-06-24 & 6 & 0 & 0 & 29 & 2 \\\\\n",
       "\\end{tabular}\n"
      ],
      "text/plain": [
       "5×6 DataFrame\n",
       "│ Row │ date       │ McTavish │ Bellevue │ Assomption │ Trudeau │ StHubert │\n",
       "│     │ \u001b[90mDate\u001b[39m       │ \u001b[90mInt64\u001b[39m    │ \u001b[90mInt64\u001b[39m    │ \u001b[90mInt64\u001b[39m      │ \u001b[90mInt64\u001b[39m   │ \u001b[90mInt64\u001b[39m    │\n",
       "├─────┼────────────┼──────────┼──────────┼────────────┼─────────┼──────────┤\n",
       "│ 1   │ 2018-05-11 │ 0        │ 0        │ 0          │ 0       │ 0        │\n",
       "│ 2   │ 2019-08-23 │ 0        │ 0        │ 0          │ 0       │ 0        │\n",
       "│ 3   │ 2014-09-14 │ 0        │ 0        │ 0          │ 0       │ 0        │\n",
       "│ 4   │ 2018-06-10 │ 0        │ 0        │ 2          │ 0       │ 0        │\n",
       "│ 5   │ 2015-06-24 │ 6        │ 0        │ 0          │ 29      │ 2        │"
      ]
     },
     "execution_count": 90,
     "metadata": {},
     "output_type": "execute_result"
    }
   ],
   "source": [
    "pcp_max3h = by(precipitation, :date,  McTavish = :McTavish=>maximum3, Bellevue = :Bellevue=>maximum3, \n",
    "   Assomption = :Assomption=>maximum3, Trudeau = :Trudeau=>maximum3, StHubert = :StHubert=>maximum3)\n",
    "first(shuffleDf(pcp_max3h),5)"
   ]
  },
  {
   "cell_type": "markdown",
   "metadata": {},
   "source": [
    "### Add precipitation data to features"
   ]
  },
  {
   "cell_type": "markdown",
   "metadata": {},
   "source": [
    "#### Get stations lat-lng"
   ]
  },
  {
   "cell_type": "code",
   "execution_count": 91,
   "metadata": {},
   "outputs": [
    {
     "data": {
      "text/html": [
       "<table class=\"data-frame\"><thead><tr><th></th><th>STATION</th><th>LAT</th><th>LNG</th></tr><tr><th></th><th>String</th><th>Float64</th><th>Float64</th></tr></thead><tbody><p>5 rows × 3 columns</p><tr><th>1</th><td>McTavish</td><td>45.5047</td><td>-73.5792</td></tr><tr><th>2</th><td>Bellevue</td><td>45.4272</td><td>-73.9292</td></tr><tr><th>3</th><td>Assomption</td><td>45.8094</td><td>-73.4347</td></tr><tr><th>4</th><td>Trudeau</td><td>45.4678</td><td>-73.7417</td></tr><tr><th>5</th><td>StHubert</td><td>45.5175</td><td>-73.4169</td></tr></tbody></table>"
      ],
      "text/latex": [
       "\\begin{tabular}{r|ccc}\n",
       "\t& STATION & LAT & LNG\\\\\n",
       "\t\\hline\n",
       "\t& String & Float64 & Float64\\\\\n",
       "\t\\hline\n",
       "\t1 & McTavish & 45.5047 & -73.5792 \\\\\n",
       "\t2 & Bellevue & 45.4272 & -73.9292 \\\\\n",
       "\t3 & Assomption & 45.8094 & -73.4347 \\\\\n",
       "\t4 & Trudeau & 45.4678 & -73.7417 \\\\\n",
       "\t5 & StHubert & 45.5175 & -73.4169 \\\\\n",
       "\\end{tabular}\n"
      ],
      "text/plain": [
       "5×3 DataFrame\n",
       "│ Row │ STATION    │ LAT     │ LNG      │\n",
       "│     │ \u001b[90mString\u001b[39m     │ \u001b[90mFloat64\u001b[39m │ \u001b[90mFloat64\u001b[39m  │\n",
       "├─────┼────────────┼─────────┼──────────┤\n",
       "│ 1   │ McTavish   │ 45.5047 │ -73.5792 │\n",
       "│ 2   │ Bellevue   │ 45.4272 │ -73.9292 │\n",
       "│ 3   │ Assomption │ 45.8094 │ -73.4347 │\n",
       "│ 4   │ Trudeau    │ 45.4678 │ -73.7417 │\n",
       "│ 5   │ StHubert   │ 45.5175 │ -73.4169 │"
      ]
     },
     "execution_count": 91,
     "metadata": {},
     "output_type": "execute_result"
    }
   ],
   "source": [
    "station_df = DataFrame(STATION = String[], LAT = Float64[], LNG = Float64[]);\n",
    "\n",
    "push!(station_df, [\"McTavish\", 45.504742, -73.579167]);\n",
    "push!(station_df, [\"Bellevue\", 45.427222, -73.929167]);\n",
    "push!(station_df, [\"Assomption\", 45.809444, -73.434722]);\n",
    "push!(station_df, [\"Trudeau\", 45.467778, -73.741667]);\n",
    "push!(station_df, [\"StHubert\", 45.5175, -73.416944]);\n",
    "\n",
    "station_df"
   ]
  },
  {
   "cell_type": "markdown",
   "metadata": {},
   "source": [
    "### Standardize TP and station data"
   ]
  },
  {
   "cell_type": "code",
   "execution_count": 92,
   "metadata": {},
   "outputs": [],
   "source": [
    "meanlat = mean(comb.TP_LAT);\n",
    "stdlat = std(comb.TP_LAT);\n",
    "comb.TP_LAT = (comb.TP_LAT .- meanlat) ./ stdlat;\n",
    "station_df.LAT = (station_df.LAT .- meanlat) ./ stdlat;\n",
    "\n",
    "meanlng = mean(comb.TP_LNG);\n",
    "stdlng = std(comb.TP_LNG);\n",
    "comb.TP_LNG = (comb.TP_LNG .- meanlng) ./ stdlng;\n",
    "station_df.LNG = (station_df.LNG .- meanlng) ./ stdlng;\n",
    "\n",
    "meanz = mean(comb.TP_Z);\n",
    "stdz = std(comb.TP_Z);\n",
    "comb.TP_Z = (comb.TP_Z .- meanz) ./ stdz;"
   ]
  },
  {
   "cell_type": "code",
   "execution_count": 93,
   "metadata": {},
   "outputs": [
    {
     "data": {
      "text/html": [
       "<table class=\"data-frame\"><thead><tr><th></th><th>STATION</th><th>LAT</th><th>LNG</th></tr><tr><th></th><th>String</th><th>Float64</th><th>Float64</th></tr></thead><tbody><p>5 rows × 3 columns</p><tr><th>1</th><td>McTavish</td><td>-0.399934</td><td>0.53979</td></tr><tr><th>2</th><td>Bellevue</td><td>-1.29892</td><td>-2.14237</td></tr><tr><th>3</th><td>Assomption</td><td>3.13364</td><td>1.64672</td></tr><tr><th>4</th><td>Trudeau</td><td>-0.828599</td><td>-0.705498</td></tr><tr><th>5</th><td>StHubert</td><td>-0.251981</td><td>1.78296</td></tr></tbody></table>"
      ],
      "text/latex": [
       "\\begin{tabular}{r|ccc}\n",
       "\t& STATION & LAT & LNG\\\\\n",
       "\t\\hline\n",
       "\t& String & Float64 & Float64\\\\\n",
       "\t\\hline\n",
       "\t1 & McTavish & -0.399934 & 0.53979 \\\\\n",
       "\t2 & Bellevue & -1.29892 & -2.14237 \\\\\n",
       "\t3 & Assomption & 3.13364 & 1.64672 \\\\\n",
       "\t4 & Trudeau & -0.828599 & -0.705498 \\\\\n",
       "\t5 & StHubert & -0.251981 & 1.78296 \\\\\n",
       "\\end{tabular}\n"
      ],
      "text/plain": [
       "5×3 DataFrame\n",
       "│ Row │ STATION    │ LAT       │ LNG       │\n",
       "│     │ \u001b[90mString\u001b[39m     │ \u001b[90mFloat64\u001b[39m   │ \u001b[90mFloat64\u001b[39m   │\n",
       "├─────┼────────────┼───────────┼───────────┤\n",
       "│ 1   │ McTavish   │ -0.399934 │ 0.53979   │\n",
       "│ 2   │ Bellevue   │ -1.29892  │ -2.14237  │\n",
       "│ 3   │ Assomption │ 3.13364   │ 1.64672   │\n",
       "│ 4   │ Trudeau    │ -0.828599 │ -0.705498 │\n",
       "│ 5   │ StHubert   │ -0.251981 │ 1.78296   │"
      ]
     },
     "execution_count": 93,
     "metadata": {},
     "output_type": "execute_result"
    }
   ],
   "source": [
    "station_df"
   ]
  },
  {
   "cell_type": "markdown",
   "metadata": {},
   "source": [
    "### Augment Features"
   ]
  },
  {
   "cell_type": "markdown",
   "metadata": {},
   "source": [
    "#### Add pcp_sum and pcp_max columns"
   ]
  },
  {
   "cell_type": "code",
   "execution_count": 94,
   "metadata": {},
   "outputs": [],
   "source": [
    "comb.PCP_SUM = zeros(size(comb, 1));\n",
    "comb.PCP_MAX = zeros(size(comb, 1));\n",
    "comb.PCP_MAX3 = zeros(size(comb, 1));\n",
    "permutecols!(comb, [:ID_OUVRAGE, :TP_LAT, :TP_LNG, :TP_Z, :DATE, :PCP_SUM, :PCP_MAX, :PCP_MAX3, :SURVERSE]);"
   ]
  },
  {
   "cell_type": "code",
   "execution_count": 95,
   "metadata": {},
   "outputs": [
    {
     "data": {
      "text/html": [
       "<table class=\"data-frame\"><thead><tr><th></th><th>ID_OUVRAGE</th><th>TP_LAT</th><th>TP_LNG</th><th>TP_Z</th><th>DATE</th><th>PCP_SUM</th><th>PCP_MAX</th><th>PCP_MAX3</th></tr><tr><th></th><th>String</th><th>Float64</th><th>Float64</th><th>Float64</th><th>Date</th><th>Float64</th><th>Float64</th><th>Float64</th></tr></thead><tbody><p>10 rows × 9 columns (omitted printing of 1 columns)</p><tr><th>1</th><td>0801-05D</td><td>-0.254625</td><td>0.907701</td><td>-1.07023</td><td>2017-10-12</td><td>0.0</td><td>0.0</td><td>0.0</td></tr><tr><th>2</th><td>4270-02D</td><td>0.834128</td><td>1.08217</td><td>-0.0467296</td><td>2018-07-17</td><td>0.0</td><td>0.0</td><td>0.0</td></tr><tr><th>3</th><td>4610-06D</td><td>-1.26037</td><td>-1.58426</td><td>1.44523</td><td>2013-06-04</td><td>0.0</td><td>0.0</td><td>0.0</td></tr><tr><th>4</th><td>4360-01D</td><td>-0.562793</td><td>0.757544</td><td>-0.693299</td><td>2016-09-01</td><td>0.0</td><td>0.0</td><td>0.0</td></tr><tr><th>5</th><td>3240-03D</td><td>1.45111</td><td>0.682728</td><td>-1.46871</td><td>2018-10-20</td><td>0.0</td><td>0.0</td><td>0.0</td></tr><tr><th>6</th><td>3480-04D</td><td>-0.454006</td><td>-1.05544</td><td>0.760593</td><td>2017-06-24</td><td>0.0</td><td>0.0</td><td>0.0</td></tr><tr><th>7</th><td>3275-01D</td><td>1.1339</td><td>0.326263</td><td>-0.788686</td><td>2015-07-07</td><td>0.0</td><td>0.0</td><td>0.0</td></tr><tr><th>8</th><td>0801-06D</td><td>-0.238094</td><td>0.893818</td><td>-0.153282</td><td>2013-10-01</td><td>0.0</td><td>0.0</td><td>0.0</td></tr><tr><th>9</th><td>3767-01D</td><td>0.0734405</td><td>-0.394057</td><td>0.131343</td><td>2017-05-31</td><td>0.0</td><td>0.0</td><td>0.0</td></tr><tr><th>10</th><td>0801-06D</td><td>-0.238094</td><td>0.893818</td><td>-0.153282</td><td>2014-07-10</td><td>0.0</td><td>0.0</td><td>0.0</td></tr></tbody></table>"
      ],
      "text/latex": [
       "\\begin{tabular}{r|ccccccccc}\n",
       "\t& ID\\_OUVRAGE & TP\\_LAT & TP\\_LNG & TP\\_Z & DATE & PCP\\_SUM & PCP\\_MAX & PCP\\_MAX3 & \\\\\n",
       "\t\\hline\n",
       "\t& String & Float64 & Float64 & Float64 & Date & Float64 & Float64 & Float64 & \\\\\n",
       "\t\\hline\n",
       "\t1 & 0801-05D & -0.254625 & 0.907701 & -1.07023 & 2017-10-12 & 0.0 & 0.0 & 0.0 & $\\dots$ \\\\\n",
       "\t2 & 4270-02D & 0.834128 & 1.08217 & -0.0467296 & 2018-07-17 & 0.0 & 0.0 & 0.0 & $\\dots$ \\\\\n",
       "\t3 & 4610-06D & -1.26037 & -1.58426 & 1.44523 & 2013-06-04 & 0.0 & 0.0 & 0.0 & $\\dots$ \\\\\n",
       "\t4 & 4360-01D & -0.562793 & 0.757544 & -0.693299 & 2016-09-01 & 0.0 & 0.0 & 0.0 & $\\dots$ \\\\\n",
       "\t5 & 3240-03D & 1.45111 & 0.682728 & -1.46871 & 2018-10-20 & 0.0 & 0.0 & 0.0 & $\\dots$ \\\\\n",
       "\t6 & 3480-04D & -0.454006 & -1.05544 & 0.760593 & 2017-06-24 & 0.0 & 0.0 & 0.0 & $\\dots$ \\\\\n",
       "\t7 & 3275-01D & 1.1339 & 0.326263 & -0.788686 & 2015-07-07 & 0.0 & 0.0 & 0.0 & $\\dots$ \\\\\n",
       "\t8 & 0801-06D & -0.238094 & 0.893818 & -0.153282 & 2013-10-01 & 0.0 & 0.0 & 0.0 & $\\dots$ \\\\\n",
       "\t9 & 3767-01D & 0.0734405 & -0.394057 & 0.131343 & 2017-05-31 & 0.0 & 0.0 & 0.0 & $\\dots$ \\\\\n",
       "\t10 & 0801-06D & -0.238094 & 0.893818 & -0.153282 & 2014-07-10 & 0.0 & 0.0 & 0.0 & $\\dots$ \\\\\n",
       "\\end{tabular}\n"
      ],
      "text/plain": [
       "10×9 DataFrame. Omitted printing of 3 columns\n",
       "│ Row │ ID_OUVRAGE │ TP_LAT    │ TP_LNG    │ TP_Z       │ DATE       │ PCP_SUM │\n",
       "│     │ \u001b[90mString\u001b[39m     │ \u001b[90mFloat64\u001b[39m   │ \u001b[90mFloat64\u001b[39m   │ \u001b[90mFloat64\u001b[39m    │ \u001b[90mDate\u001b[39m       │ \u001b[90mFloat64\u001b[39m │\n",
       "├─────┼────────────┼───────────┼───────────┼────────────┼────────────┼─────────┤\n",
       "│ 1   │ 0801-05D   │ -0.254625 │ 0.907701  │ -1.07023   │ 2017-10-12 │ 0.0     │\n",
       "│ 2   │ 4270-02D   │ 0.834128  │ 1.08217   │ -0.0467296 │ 2018-07-17 │ 0.0     │\n",
       "│ 3   │ 4610-06D   │ -1.26037  │ -1.58426  │ 1.44523    │ 2013-06-04 │ 0.0     │\n",
       "│ 4   │ 4360-01D   │ -0.562793 │ 0.757544  │ -0.693299  │ 2016-09-01 │ 0.0     │\n",
       "│ 5   │ 3240-03D   │ 1.45111   │ 0.682728  │ -1.46871   │ 2018-10-20 │ 0.0     │\n",
       "│ 6   │ 3480-04D   │ -0.454006 │ -1.05544  │ 0.760593   │ 2017-06-24 │ 0.0     │\n",
       "│ 7   │ 3275-01D   │ 1.1339    │ 0.326263  │ -0.788686  │ 2015-07-07 │ 0.0     │\n",
       "│ 8   │ 0801-06D   │ -0.238094 │ 0.893818  │ -0.153282  │ 2013-10-01 │ 0.0     │\n",
       "│ 9   │ 3767-01D   │ 0.0734405 │ -0.394057 │ 0.131343   │ 2017-05-31 │ 0.0     │\n",
       "│ 10  │ 0801-06D   │ -0.238094 │ 0.893818  │ -0.153282  │ 2014-07-10 │ 0.0     │"
      ]
     },
     "execution_count": 95,
     "metadata": {},
     "output_type": "execute_result"
    }
   ],
   "source": [
    "first(shuffleDf(comb), 10)"
   ]
  },
  {
   "cell_type": "markdown",
   "metadata": {},
   "source": [
    "#### Find closest station to each ouvrage and add pcp_sum and pcp_max to it"
   ]
  },
  {
   "cell_type": "code",
   "execution_count": 96,
   "metadata": {},
   "outputs": [],
   "source": [
    "for i=1:size(comb, 1)\n",
    "    id_ouvrage = comb[i, 1]; \n",
    "    closest_station = \"McTavish\"; # initial value\n",
    "    shortest_dist = -1;\n",
    "    \n",
    "    # Find closest station\n",
    "    for j=1:size(station_df, 1)\n",
    "        dist = findDistance(comb[i, :TP_LAT], comb[i, :TP_LNG], station_df[j, :LAT], station_df[j, :LNG]);\n",
    "        \n",
    "        if shortest_dist == -1 || dist < shortest_dist\n",
    "            shortest_dist = dist;\n",
    "            closest_station = station_df[j, :STATION];\n",
    "        end\n",
    "    end\n",
    "    \n",
    "    # Augment comb with a weighted p_sum, based on the distance to the station\n",
    "    p_sum = pcp_sum[∈([comb[i, :DATE]]).(pcp_sum.date), Symbol(closest_station)];\n",
    "#     comb[i, :PCP_SUM] = p_sum[1] * (1 - shortest_dist);\n",
    "    comb[i, :PCP_SUM] = p_sum[1]; \n",
    "    \n",
    "    # Augment comb with a weighted p_max, based on the distance to the station\n",
    "    p_max = pcp_max[∈([comb[i, :DATE]]).(pcp_max.date), Symbol(closest_station)]\n",
    "#     comb[i, :PCP_MAX] = p_max[1] * (1 - shortest_dist);\n",
    "    comb[i, :PCP_MAX] = p_max[1];\n",
    "    \n",
    "    # Augment comb with a weighted p_max3h, based on the distance to the station\n",
    "    p_max3 = pcp_max3h[∈([comb[i, :DATE]]).(pcp_max3h.date), Symbol(closest_station)]\n",
    "#     comb[i, :PCP_MAX3] = p_max3[1] * (1 - shortest_dist);\n",
    "    comb[i, :PCP_MAX3] = p_max3[1]; \n",
    "end"
   ]
  },
  {
   "cell_type": "markdown",
   "metadata": {},
   "source": [
    "#### Remove outlier in PCP_SUM and PCP_MAX AND PCP_MAX3 that cause compression"
   ]
  },
  {
   "cell_type": "code",
   "execution_count": 97,
   "metadata": {},
   "outputs": [
    {
     "name": "stderr",
     "output_type": "stream",
     "text": [
      "┌ Warning: `getindex(df::DataFrame, col_ind::ColumnIndex)` is deprecated, use `df[!, col_ind]` instead.\n",
      "│   caller = top-level scope at In[97]:1\n",
      "└ @ Core In[97]:1\n",
      "┌ Warning: `getindex(df::DataFrame, col_ind::ColumnIndex)` is deprecated, use `df[!, col_ind]` instead.\n",
      "│   caller = top-level scope at In[97]:2\n",
      "└ @ Core In[97]:2\n",
      "┌ Warning: `getindex(df::DataFrame, col_ind::ColumnIndex)` is deprecated, use `df[!, col_ind]` instead.\n",
      "│   caller = top-level scope at In[97]:3\n",
      "└ @ Core In[97]:3\n"
     ]
    }
   ],
   "source": [
    "comb[comb[:PCP_SUM] .> 750, :PCP_SUM] = 750;\n",
    "comb[comb[:PCP_MAX] .> 500, :PCP_MAX] = 500;\n",
    "comb[comb[:PCP_MAX3] .> 750, :PCP_MAX3] = 750;"
   ]
  },
  {
   "cell_type": "code",
   "execution_count": 98,
   "metadata": {},
   "outputs": [
    {
     "data": {
      "text/html": [
       "<table class=\"data-frame\"><thead><tr><th></th><th>ID_OUVRAGE</th><th>TP_LAT</th><th>TP_LNG</th><th>TP_Z</th><th>DATE</th><th>PCP_SUM</th><th>PCP_MAX</th><th>PCP_MAX3</th></tr><tr><th></th><th>String</th><th>Float64</th><th>Float64</th><th>Float64</th><th>Date</th><th>Float64</th><th>Float64</th><th>Float64</th></tr></thead><tbody><p>10 rows × 9 columns (omitted printing of 1 columns)</p><tr><th>1</th><td>4360-01D</td><td>-0.562793</td><td>0.757544</td><td>-0.693299</td><td>2013-09-12</td><td>362.0</td><td>99.0</td><td>138.0</td></tr><tr><th>2</th><td>4430-01D</td><td>-1.23852</td><td>0.468524</td><td>-0.045586</td><td>2016-07-23</td><td>183.0</td><td>128.0</td><td>157.0</td></tr><tr><th>3</th><td>3400-01D</td><td>0.0493937</td><td>-0.198587</td><td>0.982139</td><td>2017-08-18</td><td>189.0</td><td>69.0</td><td>172.0</td></tr><tr><th>4</th><td>3260-01D</td><td>1.29293</td><td>0.531312</td><td>0.0790333</td><td>2015-05-30</td><td>38.0</td><td>28.0</td><td>36.0</td></tr><tr><th>5</th><td>3480-02D</td><td>-0.471222</td><td>-1.08189</td><td>0.88829</td><td>2014-06-03</td><td>209.0</td><td>120.0</td><td>198.0</td></tr><tr><th>6</th><td>3350-11D</td><td>-0.074433</td><td>-0.435663</td><td>0.865212</td><td>2013-06-12</td><td>37.0</td><td>16.0</td><td>37.0</td></tr><tr><th>7</th><td>4360-01D</td><td>-0.562793</td><td>0.757544</td><td>-0.693299</td><td>2014-08-13</td><td>618.0</td><td>132.0</td><td>262.0</td></tr><tr><th>8</th><td>4400-02D</td><td>-1.0264</td><td>0.591287</td><td>-0.536371</td><td>2015-08-24</td><td>0.0</td><td>0.0</td><td>0.0</td></tr><tr><th>9</th><td>3310-01D</td><td>0.865632</td><td>0.140067</td><td>-0.0117388</td><td>2014-05-17</td><td>300.0</td><td>90.0</td><td>203.0</td></tr><tr><th>10</th><td>4430-05D</td><td>-1.33635</td><td>-0.0587449</td><td>1.69293</td><td>2018-09-21</td><td>329.0</td><td>143.0</td><td>148.0</td></tr></tbody></table>"
      ],
      "text/latex": [
       "\\begin{tabular}{r|ccccccccc}\n",
       "\t& ID\\_OUVRAGE & TP\\_LAT & TP\\_LNG & TP\\_Z & DATE & PCP\\_SUM & PCP\\_MAX & PCP\\_MAX3 & \\\\\n",
       "\t\\hline\n",
       "\t& String & Float64 & Float64 & Float64 & Date & Float64 & Float64 & Float64 & \\\\\n",
       "\t\\hline\n",
       "\t1 & 4360-01D & -0.562793 & 0.757544 & -0.693299 & 2013-09-12 & 362.0 & 99.0 & 138.0 & $\\dots$ \\\\\n",
       "\t2 & 4430-01D & -1.23852 & 0.468524 & -0.045586 & 2016-07-23 & 183.0 & 128.0 & 157.0 & $\\dots$ \\\\\n",
       "\t3 & 3400-01D & 0.0493937 & -0.198587 & 0.982139 & 2017-08-18 & 189.0 & 69.0 & 172.0 & $\\dots$ \\\\\n",
       "\t4 & 3260-01D & 1.29293 & 0.531312 & 0.0790333 & 2015-05-30 & 38.0 & 28.0 & 36.0 & $\\dots$ \\\\\n",
       "\t5 & 3480-02D & -0.471222 & -1.08189 & 0.88829 & 2014-06-03 & 209.0 & 120.0 & 198.0 & $\\dots$ \\\\\n",
       "\t6 & 3350-11D & -0.074433 & -0.435663 & 0.865212 & 2013-06-12 & 37.0 & 16.0 & 37.0 & $\\dots$ \\\\\n",
       "\t7 & 4360-01D & -0.562793 & 0.757544 & -0.693299 & 2014-08-13 & 618.0 & 132.0 & 262.0 & $\\dots$ \\\\\n",
       "\t8 & 4400-02D & -1.0264 & 0.591287 & -0.536371 & 2015-08-24 & 0.0 & 0.0 & 0.0 & $\\dots$ \\\\\n",
       "\t9 & 3310-01D & 0.865632 & 0.140067 & -0.0117388 & 2014-05-17 & 300.0 & 90.0 & 203.0 & $\\dots$ \\\\\n",
       "\t10 & 4430-05D & -1.33635 & -0.0587449 & 1.69293 & 2018-09-21 & 329.0 & 143.0 & 148.0 & $\\dots$ \\\\\n",
       "\\end{tabular}\n"
      ],
      "text/plain": [
       "10×9 DataFrame. Omitted printing of 4 columns\n",
       "│ Row │ ID_OUVRAGE │ TP_LAT    │ TP_LNG     │ TP_Z       │ DATE       │\n",
       "│     │ \u001b[90mString\u001b[39m     │ \u001b[90mFloat64\u001b[39m   │ \u001b[90mFloat64\u001b[39m    │ \u001b[90mFloat64\u001b[39m    │ \u001b[90mDate\u001b[39m       │\n",
       "├─────┼────────────┼───────────┼────────────┼────────────┼────────────┤\n",
       "│ 1   │ 4360-01D   │ -0.562793 │ 0.757544   │ -0.693299  │ 2013-09-12 │\n",
       "│ 2   │ 4430-01D   │ -1.23852  │ 0.468524   │ -0.045586  │ 2016-07-23 │\n",
       "│ 3   │ 3400-01D   │ 0.0493937 │ -0.198587  │ 0.982139   │ 2017-08-18 │\n",
       "│ 4   │ 3260-01D   │ 1.29293   │ 0.531312   │ 0.0790333  │ 2015-05-30 │\n",
       "│ 5   │ 3480-02D   │ -0.471222 │ -1.08189   │ 0.88829    │ 2014-06-03 │\n",
       "│ 6   │ 3350-11D   │ -0.074433 │ -0.435663  │ 0.865212   │ 2013-06-12 │\n",
       "│ 7   │ 4360-01D   │ -0.562793 │ 0.757544   │ -0.693299  │ 2014-08-13 │\n",
       "│ 8   │ 4400-02D   │ -1.0264   │ 0.591287   │ -0.536371  │ 2015-08-24 │\n",
       "│ 9   │ 3310-01D   │ 0.865632  │ 0.140067   │ -0.0117388 │ 2014-05-17 │\n",
       "│ 10  │ 4430-05D   │ -1.33635  │ -0.0587449 │ 1.69293    │ 2018-09-21 │"
      ]
     },
     "execution_count": 98,
     "metadata": {},
     "output_type": "execute_result"
    }
   ],
   "source": [
    "first(shuffleDf(filter(row -> row.SURVERSE == 1, comb)), 10)"
   ]
  },
  {
   "cell_type": "markdown",
   "metadata": {},
   "source": [
    "### Split dates into months and days"
   ]
  },
  {
   "cell_type": "code",
   "execution_count": 99,
   "metadata": {},
   "outputs": [
    {
     "data": {
      "text/html": [
       "<table class=\"data-frame\"><thead><tr><th></th><th>DATE</th><th>MONTH</th><th>DAY</th></tr><tr><th></th><th>Date</th><th>Int64</th><th>Int64</th></tr></thead><tbody><p>5 rows × 3 columns</p><tr><th>1</th><td>2014-08-26</td><td>8</td><td>26</td></tr><tr><th>2</th><td>2016-06-02</td><td>6</td><td>2</td></tr><tr><th>3</th><td>2014-08-16</td><td>8</td><td>16</td></tr><tr><th>4</th><td>2017-06-28</td><td>6</td><td>28</td></tr><tr><th>5</th><td>2018-09-28</td><td>9</td><td>28</td></tr></tbody></table>"
      ],
      "text/latex": [
       "\\begin{tabular}{r|ccc}\n",
       "\t& DATE & MONTH & DAY\\\\\n",
       "\t\\hline\n",
       "\t& Date & Int64 & Int64\\\\\n",
       "\t\\hline\n",
       "\t1 & 2014-08-26 & 8 & 26 \\\\\n",
       "\t2 & 2016-06-02 & 6 & 2 \\\\\n",
       "\t3 & 2014-08-16 & 8 & 16 \\\\\n",
       "\t4 & 2017-06-28 & 6 & 28 \\\\\n",
       "\t5 & 2018-09-28 & 9 & 28 \\\\\n",
       "\\end{tabular}\n"
      ],
      "text/plain": [
       "5×3 DataFrame\n",
       "│ Row │ DATE       │ MONTH │ DAY   │\n",
       "│     │ \u001b[90mDate\u001b[39m       │ \u001b[90mInt64\u001b[39m │ \u001b[90mInt64\u001b[39m │\n",
       "├─────┼────────────┼───────┼───────┤\n",
       "│ 1   │ 2014-08-26 │ 8     │ 26    │\n",
       "│ 2   │ 2016-06-02 │ 6     │ 2     │\n",
       "│ 3   │ 2014-08-16 │ 8     │ 16    │\n",
       "│ 4   │ 2017-06-28 │ 6     │ 28    │\n",
       "│ 5   │ 2018-09-28 │ 9     │ 28    │"
      ]
     },
     "execution_count": 99,
     "metadata": {},
     "output_type": "execute_result"
    }
   ],
   "source": [
    "comb.MONTH = month.(comb.DATE);\n",
    "comb.DAY = day.(comb.DATE);\n",
    "first(shuffleDf(comb[!, [:DATE, :MONTH, :DAY]]), 5)"
   ]
  },
  {
   "cell_type": "markdown",
   "metadata": {},
   "source": [
    "## Standardize the PCP and Date"
   ]
  },
  {
   "cell_type": "code",
   "execution_count": 100,
   "metadata": {},
   "outputs": [],
   "source": [
    "mean_pcpsum = mean(comb.PCP_SUM);\n",
    "std_pcpsum = std(comb.PCP_SUM);\n",
    "comb.PCP_SUM = (comb.PCP_SUM .- mean_pcpsum) ./ std_pcpsum;\n",
    "\n",
    "mean_pcpmax = mean(comb.PCP_MAX);\n",
    "std_pcpmax = std(comb.PCP_MAX);\n",
    "comb.PCP_MAX = (comb.PCP_MAX .- mean_pcpmax) ./ std_pcpmax;\n",
    "\n",
    "mean_pcpmax3 = mean(comb.PCP_MAX3);\n",
    "std_pcpmax3 = std(comb.PCP_MAX3);\n",
    "comb.PCP_MAX3 = (comb.PCP_MAX3 .- mean_pcpmax3) ./ std_pcpmax3;\n",
    "\n",
    "meanmonth = mean(comb.MONTH);\n",
    "stdmonth = std(comb.MONTH);\n",
    "comb.MONTH = (comb.MONTH .- meanmonth) ./ stdmonth;\n",
    "\n",
    "meanday = mean(comb.DAY);\n",
    "stdday = std(comb.DAY);\n",
    "comb.DAY = (comb.DAY .- meanday) ./ stdday;"
   ]
  },
  {
   "cell_type": "code",
   "execution_count": 101,
   "metadata": {},
   "outputs": [
    {
     "data": {
      "text/html": [
       "<table class=\"data-frame\"><thead><tr><th></th><th>ID_OUVRAGE</th><th>TP_LAT</th><th>TP_LNG</th><th>TP_Z</th><th>DATE</th><th>PCP_SUM</th><th>PCP_MAX</th></tr><tr><th></th><th>String</th><th>Float64</th><th>Float64</th><th>Float64</th><th>Date</th><th>Float64</th><th>Float64</th></tr></thead><tbody><p>10 rows × 11 columns (omitted printing of 4 columns)</p><tr><th>1</th><td>3400-01D</td><td>0.0493937</td><td>-0.198587</td><td>0.982139</td><td>2015-07-27</td><td>2.28954</td><td>4.85889</td></tr><tr><th>2</th><td>4330-01D</td><td>0.0527466</td><td>0.876211</td><td>-0.845611</td><td>2014-06-17</td><td>-0.400087</td><td>-0.401707</td></tr><tr><th>3</th><td>3400-01D</td><td>0.0493937</td><td>-0.198587</td><td>0.982139</td><td>2015-06-16</td><td>5.11501</td><td>6.73548</td></tr><tr><th>4</th><td>3380-01D</td><td>0.163171</td><td>-0.158884</td><td>0.395966</td><td>2016-08-14</td><td>1.80052</td><td>0.767314</td></tr><tr><th>5</th><td>4230-09D</td><td>1.85245</td><td>1.30015</td><td>-1.73995</td><td>2013-07-28</td><td>1.22999</td><td>1.75175</td></tr><tr><th>6</th><td>3250-01D</td><td>1.3565</td><td>0.586367</td><td>-0.384058</td><td>2018-06-04</td><td>3.52568</td><td>0.64426</td></tr><tr><th>7</th><td>4430-05D</td><td>-1.33635</td><td>-0.0587449</td><td>1.69293</td><td>2016-08-13</td><td>3.15891</td><td>2.52085</td></tr><tr><th>8</th><td>4265-01D</td><td>1.00593</td><td>1.15342</td><td>-1.21178</td><td>2014-07-05</td><td>0.00743168</td><td>0.521205</td></tr><tr><th>9</th><td>3250-01D</td><td>1.3565</td><td>0.586367</td><td>-0.384058</td><td>2015-07-07</td><td>0.523623</td><td>0.951897</td></tr><tr><th>10</th><td>4265-01D</td><td>1.00593</td><td>1.15342</td><td>-1.21178</td><td>2014-10-04</td><td>2.00428</td><td>0.582732</td></tr></tbody></table>"
      ],
      "text/latex": [
       "\\begin{tabular}{r|cccccccc}\n",
       "\t& ID\\_OUVRAGE & TP\\_LAT & TP\\_LNG & TP\\_Z & DATE & PCP\\_SUM & PCP\\_MAX & \\\\\n",
       "\t\\hline\n",
       "\t& String & Float64 & Float64 & Float64 & Date & Float64 & Float64 & \\\\\n",
       "\t\\hline\n",
       "\t1 & 3400-01D & 0.0493937 & -0.198587 & 0.982139 & 2015-07-27 & 2.28954 & 4.85889 & $\\dots$ \\\\\n",
       "\t2 & 4330-01D & 0.0527466 & 0.876211 & -0.845611 & 2014-06-17 & -0.400087 & -0.401707 & $\\dots$ \\\\\n",
       "\t3 & 3400-01D & 0.0493937 & -0.198587 & 0.982139 & 2015-06-16 & 5.11501 & 6.73548 & $\\dots$ \\\\\n",
       "\t4 & 3380-01D & 0.163171 & -0.158884 & 0.395966 & 2016-08-14 & 1.80052 & 0.767314 & $\\dots$ \\\\\n",
       "\t5 & 4230-09D & 1.85245 & 1.30015 & -1.73995 & 2013-07-28 & 1.22999 & 1.75175 & $\\dots$ \\\\\n",
       "\t6 & 3250-01D & 1.3565 & 0.586367 & -0.384058 & 2018-06-04 & 3.52568 & 0.64426 & $\\dots$ \\\\\n",
       "\t7 & 4430-05D & -1.33635 & -0.0587449 & 1.69293 & 2016-08-13 & 3.15891 & 2.52085 & $\\dots$ \\\\\n",
       "\t8 & 4265-01D & 1.00593 & 1.15342 & -1.21178 & 2014-07-05 & 0.00743168 & 0.521205 & $\\dots$ \\\\\n",
       "\t9 & 3250-01D & 1.3565 & 0.586367 & -0.384058 & 2015-07-07 & 0.523623 & 0.951897 & $\\dots$ \\\\\n",
       "\t10 & 4265-01D & 1.00593 & 1.15342 & -1.21178 & 2014-10-04 & 2.00428 & 0.582732 & $\\dots$ \\\\\n",
       "\\end{tabular}\n"
      ],
      "text/plain": [
       "10×11 DataFrame. Omitted printing of 6 columns\n",
       "│ Row │ ID_OUVRAGE │ TP_LAT    │ TP_LNG     │ TP_Z      │ DATE       │\n",
       "│     │ \u001b[90mString\u001b[39m     │ \u001b[90mFloat64\u001b[39m   │ \u001b[90mFloat64\u001b[39m    │ \u001b[90mFloat64\u001b[39m   │ \u001b[90mDate\u001b[39m       │\n",
       "├─────┼────────────┼───────────┼────────────┼───────────┼────────────┤\n",
       "│ 1   │ 3400-01D   │ 0.0493937 │ -0.198587  │ 0.982139  │ 2015-07-27 │\n",
       "│ 2   │ 4330-01D   │ 0.0527466 │ 0.876211   │ -0.845611 │ 2014-06-17 │\n",
       "│ 3   │ 3400-01D   │ 0.0493937 │ -0.198587  │ 0.982139  │ 2015-06-16 │\n",
       "│ 4   │ 3380-01D   │ 0.163171  │ -0.158884  │ 0.395966  │ 2016-08-14 │\n",
       "│ 5   │ 4230-09D   │ 1.85245   │ 1.30015    │ -1.73995  │ 2013-07-28 │\n",
       "│ 6   │ 3250-01D   │ 1.3565    │ 0.586367   │ -0.384058 │ 2018-06-04 │\n",
       "│ 7   │ 4430-05D   │ -1.33635  │ -0.0587449 │ 1.69293   │ 2016-08-13 │\n",
       "│ 8   │ 4265-01D   │ 1.00593   │ 1.15342    │ -1.21178  │ 2014-07-05 │\n",
       "│ 9   │ 3250-01D   │ 1.3565    │ 0.586367   │ -0.384058 │ 2015-07-07 │\n",
       "│ 10  │ 4265-01D   │ 1.00593   │ 1.15342    │ -1.21178  │ 2014-10-04 │"
      ]
     },
     "execution_count": 101,
     "metadata": {},
     "output_type": "execute_result"
    }
   ],
   "source": [
    "first(shuffleDf(filter(row -> row.SURVERSE == 1, comb)), 10)"
   ]
  },
  {
   "cell_type": "markdown",
   "metadata": {},
   "source": [
    "# Validate model"
   ]
  },
  {
   "cell_type": "markdown",
   "metadata": {},
   "source": [
    "### Split train and validation sets"
   ]
  },
  {
   "cell_type": "code",
   "execution_count": 102,
   "metadata": {},
   "outputs": [],
   "source": [
    "r_idx = shuffle(1:size(comb, 1));\n",
    "train_ceil = floor(Int, size(r_idx, 1) * 0.8);\n",
    "train_set = comb[r_idx[1:train_ceil], :];\n",
    "val_set = comb[r_idx[train_ceil+1:size(r_idx, 1)], :];"
   ]
  },
  {
   "cell_type": "markdown",
   "metadata": {},
   "source": [
    "### Train model on train set"
   ]
  },
  {
   "cell_type": "markdown",
   "metadata": {},
   "source": [
    "#### Random Forest Params"
   ]
  },
  {
   "cell_type": "code",
   "execution_count": 103,
   "metadata": {},
   "outputs": [],
   "source": [
    "names_ft = [:TP_LAT, :TP_LNG, :TP_Z, :MONTH, :DAY, :PCP_SUM, :PCP_MAX, :PCP_MAX3];\n",
    "nft = 3;\n",
    "ntrees = 100;\n",
    "podata = 0.8;\n",
    "maxd = 25;"
   ]
  },
  {
   "cell_type": "markdown",
   "metadata": {},
   "source": [
    "#### Build the features and labels"
   ]
  },
  {
   "cell_type": "code",
   "execution_count": 104,
   "metadata": {},
   "outputs": [],
   "source": [
    "train_features = convert(Matrix{Float64},train_set[:, names_ft]);\n",
    "train_labels = train_set[:, :SURVERSE];"
   ]
  },
  {
   "cell_type": "markdown",
   "metadata": {},
   "source": [
    "#### Build the model N features to use is log_2(N + 1)"
   ]
  },
  {
   "cell_type": "code",
   "execution_count": 105,
   "metadata": {},
   "outputs": [
    {
     "data": {
      "text/plain": [
       "Ensemble of Decision Trees\n",
       "Trees:      100\n",
       "Avg Leaves: 2988.55\n",
       "Avg Depth:  25.0"
      ]
     },
     "execution_count": 105,
     "metadata": {},
     "output_type": "execute_result"
    }
   ],
   "source": [
    "val_model = build_forest(train_labels, train_features, nft, ntrees, podata, maxd)"
   ]
  },
  {
   "cell_type": "markdown",
   "metadata": {},
   "source": [
    "### Validate model on validation set"
   ]
  },
  {
   "cell_type": "markdown",
   "metadata": {},
   "source": [
    "#### Single validation"
   ]
  },
  {
   "cell_type": "code",
   "execution_count": 106,
   "metadata": {},
   "outputs": [
    {
     "data": {
      "text/plain": [
       "0.6528384279475983"
      ]
     },
     "execution_count": 106,
     "metadata": {},
     "output_type": "execute_result"
    }
   ],
   "source": [
    "val_model = build_forest(train_labels, train_features, nft, ntrees, podata, maxd)\n",
    "val_features = convert(Matrix{Float64},val_set[:, names_ft]);\n",
    "val_labels = val_set[!, :SURVERSE];\n",
    "val_pred = apply_forest(val_model, val_features);\n",
    "\n",
    "r = roc(val_labels, val_pred);\n",
    "f1score(r)"
   ]
  },
  {
   "cell_type": "markdown",
   "metadata": {},
   "source": [
    "#### Batch validation for F1Score"
   ]
  },
  {
   "cell_type": "code",
   "execution_count": 107,
   "metadata": {},
   "outputs": [
    {
     "data": {
      "text/plain": [
       "0.6427118767207884"
      ]
     },
     "execution_count": 107,
     "metadata": {},
     "output_type": "execute_result"
    }
   ],
   "source": [
    "niter = 10;\n",
    "batch_score = 0;\n",
    "\n",
    "for i=1:niter\n",
    "    # Split train and val sets\n",
    "    r_idx = shuffle(1:size(comb, 1));\n",
    "    train_ceil = floor(Int, size(r_idx, 1) * 0.8);\n",
    "    train_set = comb[r_idx[1:train_ceil], :];\n",
    "    val_set = comb[r_idx[train_ceil+1:size(r_idx, 1)], :];\n",
    "    \n",
    "    # Build features and labels\n",
    "    train_features = convert(Matrix{Float64},train_set[:, names_ft]);\n",
    "    train_labels = train_set[:, :SURVERSE];\n",
    "    \n",
    "    # Build model\n",
    "    val_model = build_forest(train_labels, train_features, nft, ntrees, podata, maxd);\n",
    "    \n",
    "    # Validate model\n",
    "    val_features = convert(Matrix{Float64},val_set[:, names_ft]);\n",
    "    val_labels = val_set[!, :SURVERSE];\n",
    "    val_pred = apply_forest(val_model, val_features);\n",
    "\n",
    "    r = roc(val_labels, val_pred);\n",
    "    batch_score += f1score(r);\n",
    "end\n",
    "\n",
    "batch_score = batch_score / niter"
   ]
  },
  {
   "cell_type": "markdown",
   "metadata": {},
   "source": [
    "# Submission model creation"
   ]
  },
  {
   "cell_type": "markdown",
   "metadata": {},
   "source": [
    "### Separate features and labels"
   ]
  },
  {
   "cell_type": "code",
   "execution_count": 108,
   "metadata": {},
   "outputs": [],
   "source": [
    "full_train_features = convert(Matrix{Float64},comb[:, names_ft]);"
   ]
  },
  {
   "cell_type": "code",
   "execution_count": 109,
   "metadata": {},
   "outputs": [],
   "source": [
    "full_train_labels = comb[:, :SURVERSE];"
   ]
  },
  {
   "cell_type": "markdown",
   "metadata": {},
   "source": [
    "### Build Model"
   ]
  },
  {
   "cell_type": "markdown",
   "metadata": {},
   "source": [
    "#### Test with tree first"
   ]
  },
  {
   "cell_type": "code",
   "execution_count": 110,
   "metadata": {},
   "outputs": [
    {
     "data": {
      "text/plain": [
       "Decision Tree\n",
       "Leaves: 4709\n",
       "Depth:  33"
      ]
     },
     "execution_count": 110,
     "metadata": {},
     "output_type": "execute_result"
    }
   ],
   "source": [
    "model_tree = build_tree(full_train_labels, full_train_features)"
   ]
  },
  {
   "cell_type": "code",
   "execution_count": 111,
   "metadata": {},
   "outputs": [
    {
     "data": {
      "text/plain": [
       "Decision Tree\n",
       "Leaves: 4588\n",
       "Depth:  33"
      ]
     },
     "execution_count": 111,
     "metadata": {},
     "output_type": "execute_result"
    }
   ],
   "source": [
    "model_tree = prune_tree(model_tree, 0.90)"
   ]
  },
  {
   "cell_type": "code",
   "execution_count": 112,
   "metadata": {},
   "outputs": [
    {
     "data": {
      "text/plain": [
       "Ensemble of Decision Trees\n",
       "Trees:      100\n",
       "Avg Leaves: 3568.16\n",
       "Avg Depth:  25.0"
      ]
     },
     "execution_count": 112,
     "metadata": {},
     "output_type": "execute_result"
    }
   ],
   "source": [
    "model = build_forest(full_train_labels, full_train_features, nft, ntrees, podata, maxd)"
   ]
  },
  {
   "cell_type": "markdown",
   "metadata": {},
   "source": [
    "# Prediction"
   ]
  },
  {
   "cell_type": "markdown",
   "metadata": {},
   "source": [
    "## Get the test data"
   ]
  },
  {
   "cell_type": "code",
   "execution_count": 113,
   "metadata": {},
   "outputs": [
    {
     "data": {
      "text/html": [
       "<table class=\"data-frame\"><thead><tr><th></th><th>ID_OUVRAGE</th><th>DATE</th></tr><tr><th></th><th>String</th><th>Date</th></tr></thead><tbody><p>10 rows × 2 columns</p><tr><th>1</th><td>3260-01D</td><td>2019-05-02</td></tr><tr><th>2</th><td>3260-01D</td><td>2019-05-09</td></tr><tr><th>3</th><td>3260-01D</td><td>2019-05-10</td></tr><tr><th>4</th><td>3260-01D</td><td>2019-05-15</td></tr><tr><th>5</th><td>3260-01D</td><td>2019-05-20</td></tr><tr><th>6</th><td>3260-01D</td><td>2019-05-23</td></tr><tr><th>7</th><td>3260-01D</td><td>2019-05-24</td></tr><tr><th>8</th><td>3260-01D</td><td>2019-05-26</td></tr><tr><th>9</th><td>3260-01D</td><td>2019-05-30</td></tr><tr><th>10</th><td>3350-07D</td><td>2019-05-01</td></tr></tbody></table>"
      ],
      "text/latex": [
       "\\begin{tabular}{r|cc}\n",
       "\t& ID\\_OUVRAGE & DATE\\\\\n",
       "\t\\hline\n",
       "\t& String & Date\\\\\n",
       "\t\\hline\n",
       "\t1 & 3260-01D & 2019-05-02 \\\\\n",
       "\t2 & 3260-01D & 2019-05-09 \\\\\n",
       "\t3 & 3260-01D & 2019-05-10 \\\\\n",
       "\t4 & 3260-01D & 2019-05-15 \\\\\n",
       "\t5 & 3260-01D & 2019-05-20 \\\\\n",
       "\t6 & 3260-01D & 2019-05-23 \\\\\n",
       "\t7 & 3260-01D & 2019-05-24 \\\\\n",
       "\t8 & 3260-01D & 2019-05-26 \\\\\n",
       "\t9 & 3260-01D & 2019-05-30 \\\\\n",
       "\t10 & 3350-07D & 2019-05-01 \\\\\n",
       "\\end{tabular}\n"
      ],
      "text/plain": [
       "10×2 DataFrame\n",
       "│ Row │ ID_OUVRAGE │ DATE       │\n",
       "│     │ \u001b[90mString\u001b[39m     │ \u001b[90mDate\u001b[39m       │\n",
       "├─────┼────────────┼────────────┤\n",
       "│ 1   │ 3260-01D   │ 2019-05-02 │\n",
       "│ 2   │ 3260-01D   │ 2019-05-09 │\n",
       "│ 3   │ 3260-01D   │ 2019-05-10 │\n",
       "│ 4   │ 3260-01D   │ 2019-05-15 │\n",
       "│ 5   │ 3260-01D   │ 2019-05-20 │\n",
       "│ 6   │ 3260-01D   │ 2019-05-23 │\n",
       "│ 7   │ 3260-01D   │ 2019-05-24 │\n",
       "│ 8   │ 3260-01D   │ 2019-05-26 │\n",
       "│ 9   │ 3260-01D   │ 2019-05-30 │\n",
       "│ 10  │ 3350-07D   │ 2019-05-01 │"
      ]
     },
     "execution_count": 113,
     "metadata": {},
     "output_type": "execute_result"
    }
   ],
   "source": [
    "test = CSV.read(\"data/test.csv\");\n",
    "rename!(test, :NO_OUVRAGE => :ID_OUVRAGE);\n",
    "first(test, 10)"
   ]
  },
  {
   "cell_type": "code",
   "execution_count": 114,
   "metadata": {},
   "outputs": [
    {
     "data": {
      "text/plain": [
       "283"
      ]
     },
     "execution_count": 114,
     "metadata": {},
     "output_type": "execute_result"
    }
   ],
   "source": [
    "to_merge = unique(comb[!, [:ID_OUVRAGE, :TP_LAT, :TP_LNG, :TP_Z]], :ID_OUVRAGE);\n",
    "test_comb = join(test, to_merge, on= [:ID_OUVRAGE]);\n",
    "nrow(test_comb)"
   ]
  },
  {
   "cell_type": "code",
   "execution_count": 115,
   "metadata": {},
   "outputs": [
    {
     "data": {
      "text/html": [
       "<table class=\"data-frame\"><thead><tr><th></th><th>ID_OUVRAGE</th><th>DATE</th><th>TP_LAT</th><th>TP_LNG</th><th>TP_Z</th></tr><tr><th></th><th>String</th><th>Date</th><th>Float64</th><th>Float64</th><th>Float64</th></tr></thead><tbody><p>10 rows × 5 columns</p><tr><th>1</th><td>3260-01D</td><td>2019-05-23</td><td>1.29293</td><td>0.531312</td><td>0.0790333</td></tr><tr><th>2</th><td>4380-01D</td><td>2019-09-28</td><td>-0.828933</td><td>0.658409</td><td>-0.0467296</td></tr><tr><th>3</th><td>3350-07D</td><td>2019-07-11</td><td>0.0802391</td><td>-0.325532</td><td>0.168267</td></tr><tr><th>4</th><td>3350-07D</td><td>2019-06-17</td><td>0.0802391</td><td>-0.325532</td><td>0.168267</td></tr><tr><th>5</th><td>4380-01D</td><td>2019-06-28</td><td>-0.828933</td><td>0.658409</td><td>-0.0467296</td></tr><tr><th>6</th><td>4240-01D</td><td>2019-09-28</td><td>1.28137</td><td>1.24035</td><td>-1.19178</td></tr><tr><th>7</th><td>4240-01D</td><td>2019-06-28</td><td>1.28137</td><td>1.24035</td><td>-1.19178</td></tr><tr><th>8</th><td>4350-01D</td><td>2019-08-17</td><td>-0.465715</td><td>0.725081</td><td>-0.0467296</td></tr><tr><th>9</th><td>4380-01D</td><td>2019-09-29</td><td>-0.828933</td><td>0.658409</td><td>-0.0467296</td></tr><tr><th>10</th><td>4380-01D</td><td>2019-09-01</td><td>-0.828933</td><td>0.658409</td><td>-0.0467296</td></tr></tbody></table>"
      ],
      "text/latex": [
       "\\begin{tabular}{r|ccccc}\n",
       "\t& ID\\_OUVRAGE & DATE & TP\\_LAT & TP\\_LNG & TP\\_Z\\\\\n",
       "\t\\hline\n",
       "\t& String & Date & Float64 & Float64 & Float64\\\\\n",
       "\t\\hline\n",
       "\t1 & 3260-01D & 2019-05-23 & 1.29293 & 0.531312 & 0.0790333 \\\\\n",
       "\t2 & 4380-01D & 2019-09-28 & -0.828933 & 0.658409 & -0.0467296 \\\\\n",
       "\t3 & 3350-07D & 2019-07-11 & 0.0802391 & -0.325532 & 0.168267 \\\\\n",
       "\t4 & 3350-07D & 2019-06-17 & 0.0802391 & -0.325532 & 0.168267 \\\\\n",
       "\t5 & 4380-01D & 2019-06-28 & -0.828933 & 0.658409 & -0.0467296 \\\\\n",
       "\t6 & 4240-01D & 2019-09-28 & 1.28137 & 1.24035 & -1.19178 \\\\\n",
       "\t7 & 4240-01D & 2019-06-28 & 1.28137 & 1.24035 & -1.19178 \\\\\n",
       "\t8 & 4350-01D & 2019-08-17 & -0.465715 & 0.725081 & -0.0467296 \\\\\n",
       "\t9 & 4380-01D & 2019-09-29 & -0.828933 & 0.658409 & -0.0467296 \\\\\n",
       "\t10 & 4380-01D & 2019-09-01 & -0.828933 & 0.658409 & -0.0467296 \\\\\n",
       "\\end{tabular}\n"
      ],
      "text/plain": [
       "10×5 DataFrame\n",
       "│ Row │ ID_OUVRAGE │ DATE       │ TP_LAT    │ TP_LNG    │ TP_Z       │\n",
       "│     │ \u001b[90mString\u001b[39m     │ \u001b[90mDate\u001b[39m       │ \u001b[90mFloat64\u001b[39m   │ \u001b[90mFloat64\u001b[39m   │ \u001b[90mFloat64\u001b[39m    │\n",
       "├─────┼────────────┼────────────┼───────────┼───────────┼────────────┤\n",
       "│ 1   │ 3260-01D   │ 2019-05-23 │ 1.29293   │ 0.531312  │ 0.0790333  │\n",
       "│ 2   │ 4380-01D   │ 2019-09-28 │ -0.828933 │ 0.658409  │ -0.0467296 │\n",
       "│ 3   │ 3350-07D   │ 2019-07-11 │ 0.0802391 │ -0.325532 │ 0.168267   │\n",
       "│ 4   │ 3350-07D   │ 2019-06-17 │ 0.0802391 │ -0.325532 │ 0.168267   │\n",
       "│ 5   │ 4380-01D   │ 2019-06-28 │ -0.828933 │ 0.658409  │ -0.0467296 │\n",
       "│ 6   │ 4240-01D   │ 2019-09-28 │ 1.28137   │ 1.24035   │ -1.19178   │\n",
       "│ 7   │ 4240-01D   │ 2019-06-28 │ 1.28137   │ 1.24035   │ -1.19178   │\n",
       "│ 8   │ 4350-01D   │ 2019-08-17 │ -0.465715 │ 0.725081  │ -0.0467296 │\n",
       "│ 9   │ 4380-01D   │ 2019-09-29 │ -0.828933 │ 0.658409  │ -0.0467296 │\n",
       "│ 10  │ 4380-01D   │ 2019-09-01 │ -0.828933 │ 0.658409  │ -0.0467296 │"
      ]
     },
     "execution_count": 115,
     "metadata": {},
     "output_type": "execute_result"
    }
   ],
   "source": [
    "first(shuffleDf(test_comb), 10)"
   ]
  },
  {
   "cell_type": "markdown",
   "metadata": {},
   "source": [
    "### Add PCP_SUM and PCP_MAX"
   ]
  },
  {
   "cell_type": "markdown",
   "metadata": {},
   "source": [
    "#### Initialize default pcp"
   ]
  },
  {
   "cell_type": "code",
   "execution_count": 116,
   "metadata": {},
   "outputs": [],
   "source": [
    "test_comb.PCP_SUM = zeros(size(test_comb, 1));\n",
    "test_comb.PCP_MAX = zeros(size(test_comb, 1));\n",
    "test_comb.PCP_MAX3 = zeros(size(test_comb, 1));\n",
    "permutecols!(test_comb, [:ID_OUVRAGE, :TP_LAT, :TP_LNG, :TP_Z, :DATE, :PCP_SUM, :PCP_MAX, :PCP_MAX3]);"
   ]
  },
  {
   "cell_type": "code",
   "execution_count": 117,
   "metadata": {},
   "outputs": [
    {
     "data": {
      "text/html": [
       "<table class=\"data-frame\"><thead><tr><th></th><th>ID_OUVRAGE</th><th>TP_LAT</th><th>TP_LNG</th><th>TP_Z</th><th>DATE</th><th>PCP_SUM</th><th>PCP_MAX</th><th>PCP_MAX3</th></tr><tr><th></th><th>String</th><th>Float64</th><th>Float64</th><th>Float64</th><th>Date</th><th>Float64</th><th>Float64</th><th>Float64</th></tr></thead><tbody><p>10 rows × 8 columns</p><tr><th>1</th><td>3260-01D</td><td>1.29293</td><td>0.531312</td><td>0.0790333</td><td>2019-08-21</td><td>0.0</td><td>0.0</td><td>0.0</td></tr><tr><th>2</th><td>4350-01D</td><td>-0.465715</td><td>0.725081</td><td>-0.0467296</td><td>2019-07-06</td><td>0.0</td><td>0.0</td><td>0.0</td></tr><tr><th>3</th><td>3260-01D</td><td>1.29293</td><td>0.531312</td><td>0.0790333</td><td>2019-09-17</td><td>0.0</td><td>0.0</td><td>0.0</td></tr><tr><th>4</th><td>4380-01D</td><td>-0.828933</td><td>0.658409</td><td>-0.0467296</td><td>2019-06-20</td><td>0.0</td><td>0.0</td><td>0.0</td></tr><tr><th>5</th><td>3260-01D</td><td>1.29293</td><td>0.531312</td><td>0.0790333</td><td>2019-05-24</td><td>0.0</td><td>0.0</td><td>0.0</td></tr><tr><th>6</th><td>4240-01D</td><td>1.28137</td><td>1.24035</td><td>-1.19178</td><td>2019-05-22</td><td>0.0</td><td>0.0</td><td>0.0</td></tr><tr><th>7</th><td>3260-01D</td><td>1.29293</td><td>0.531312</td><td>0.0790333</td><td>2019-08-28</td><td>0.0</td><td>0.0</td><td>0.0</td></tr><tr><th>8</th><td>4240-01D</td><td>1.28137</td><td>1.24035</td><td>-1.19178</td><td>2019-08-17</td><td>0.0</td><td>0.0</td><td>0.0</td></tr><tr><th>9</th><td>3260-01D</td><td>1.29293</td><td>0.531312</td><td>0.0790333</td><td>2019-05-09</td><td>0.0</td><td>0.0</td><td>0.0</td></tr><tr><th>10</th><td>4380-01D</td><td>-0.828933</td><td>0.658409</td><td>-0.0467296</td><td>2019-09-05</td><td>0.0</td><td>0.0</td><td>0.0</td></tr></tbody></table>"
      ],
      "text/latex": [
       "\\begin{tabular}{r|cccccccc}\n",
       "\t& ID\\_OUVRAGE & TP\\_LAT & TP\\_LNG & TP\\_Z & DATE & PCP\\_SUM & PCP\\_MAX & PCP\\_MAX3\\\\\n",
       "\t\\hline\n",
       "\t& String & Float64 & Float64 & Float64 & Date & Float64 & Float64 & Float64\\\\\n",
       "\t\\hline\n",
       "\t1 & 3260-01D & 1.29293 & 0.531312 & 0.0790333 & 2019-08-21 & 0.0 & 0.0 & 0.0 \\\\\n",
       "\t2 & 4350-01D & -0.465715 & 0.725081 & -0.0467296 & 2019-07-06 & 0.0 & 0.0 & 0.0 \\\\\n",
       "\t3 & 3260-01D & 1.29293 & 0.531312 & 0.0790333 & 2019-09-17 & 0.0 & 0.0 & 0.0 \\\\\n",
       "\t4 & 4380-01D & -0.828933 & 0.658409 & -0.0467296 & 2019-06-20 & 0.0 & 0.0 & 0.0 \\\\\n",
       "\t5 & 3260-01D & 1.29293 & 0.531312 & 0.0790333 & 2019-05-24 & 0.0 & 0.0 & 0.0 \\\\\n",
       "\t6 & 4240-01D & 1.28137 & 1.24035 & -1.19178 & 2019-05-22 & 0.0 & 0.0 & 0.0 \\\\\n",
       "\t7 & 3260-01D & 1.29293 & 0.531312 & 0.0790333 & 2019-08-28 & 0.0 & 0.0 & 0.0 \\\\\n",
       "\t8 & 4240-01D & 1.28137 & 1.24035 & -1.19178 & 2019-08-17 & 0.0 & 0.0 & 0.0 \\\\\n",
       "\t9 & 3260-01D & 1.29293 & 0.531312 & 0.0790333 & 2019-05-09 & 0.0 & 0.0 & 0.0 \\\\\n",
       "\t10 & 4380-01D & -0.828933 & 0.658409 & -0.0467296 & 2019-09-05 & 0.0 & 0.0 & 0.0 \\\\\n",
       "\\end{tabular}\n"
      ],
      "text/plain": [
       "10×8 DataFrame. Omitted printing of 2 columns\n",
       "│ Row │ ID_OUVRAGE │ TP_LAT    │ TP_LNG   │ TP_Z       │ DATE       │ PCP_SUM │\n",
       "│     │ \u001b[90mString\u001b[39m     │ \u001b[90mFloat64\u001b[39m   │ \u001b[90mFloat64\u001b[39m  │ \u001b[90mFloat64\u001b[39m    │ \u001b[90mDate\u001b[39m       │ \u001b[90mFloat64\u001b[39m │\n",
       "├─────┼────────────┼───────────┼──────────┼────────────┼────────────┼─────────┤\n",
       "│ 1   │ 3260-01D   │ 1.29293   │ 0.531312 │ 0.0790333  │ 2019-08-21 │ 0.0     │\n",
       "│ 2   │ 4350-01D   │ -0.465715 │ 0.725081 │ -0.0467296 │ 2019-07-06 │ 0.0     │\n",
       "│ 3   │ 3260-01D   │ 1.29293   │ 0.531312 │ 0.0790333  │ 2019-09-17 │ 0.0     │\n",
       "│ 4   │ 4380-01D   │ -0.828933 │ 0.658409 │ -0.0467296 │ 2019-06-20 │ 0.0     │\n",
       "│ 5   │ 3260-01D   │ 1.29293   │ 0.531312 │ 0.0790333  │ 2019-05-24 │ 0.0     │\n",
       "│ 6   │ 4240-01D   │ 1.28137   │ 1.24035  │ -1.19178   │ 2019-05-22 │ 0.0     │\n",
       "│ 7   │ 3260-01D   │ 1.29293   │ 0.531312 │ 0.0790333  │ 2019-08-28 │ 0.0     │\n",
       "│ 8   │ 4240-01D   │ 1.28137   │ 1.24035  │ -1.19178   │ 2019-08-17 │ 0.0     │\n",
       "│ 9   │ 3260-01D   │ 1.29293   │ 0.531312 │ 0.0790333  │ 2019-05-09 │ 0.0     │\n",
       "│ 10  │ 4380-01D   │ -0.828933 │ 0.658409 │ -0.0467296 │ 2019-09-05 │ 0.0     │"
      ]
     },
     "execution_count": 117,
     "metadata": {},
     "output_type": "execute_result"
    }
   ],
   "source": [
    "first(shuffleDf(test_comb), 10)"
   ]
  },
  {
   "cell_type": "markdown",
   "metadata": {},
   "source": [
    "#### Populate pcp"
   ]
  },
  {
   "cell_type": "code",
   "execution_count": 118,
   "metadata": {},
   "outputs": [],
   "source": [
    "for i=1:size(test_comb, 1)\n",
    "    id_ouvrage = test_comb[i, 1]; \n",
    "    closest_station = \"McTavish\"; # initial value\n",
    "    shortest_dist = -1;\n",
    "    \n",
    "    # Find closest station\n",
    "    for j=1:size(station_df, 1)\n",
    "        dist = findDistance(test_comb[i, :TP_LAT], test_comb[i, :TP_LNG], station_df[j, :LAT], station_df[j, :LNG]);\n",
    "        \n",
    "        if shortest_dist == -1 || dist < shortest_dist\n",
    "            shortest_dist = dist;\n",
    "            closest_station = station_df[j, :STATION];\n",
    "        end\n",
    "    end\n",
    "    \n",
    "    # Augment comb with a weighted p_sum, based on the distance to the station\n",
    "    p_sum = pcp_sum[∈([test_comb[i, :DATE]]).(pcp_sum.date), Symbol(closest_station)];\n",
    "#     test_comb[i, :PCP_SUM] = p_sum[1] * (1 - shortest_dist); \n",
    "    test_comb[i, :PCP_SUM] = p_sum[1]; \n",
    "    # Augment comb with a weighted p_max, based on the distance to the station\n",
    "    p_max = pcp_max[∈([test_comb[i, :DATE]]).(pcp_max.date), Symbol(closest_station)]\n",
    "#     test_comb[i, :PCP_MAX] = p_max[1] * (1 - shortest_dist);\n",
    "    test_comb[i, :PCP_MAX] = p_max[1];\n",
    "    # Augment comb with a weighted p_max3, based on the distance to the station\n",
    "    p_max3 = pcp_max3h[∈([test_comb[i, :DATE]]).(pcp_max3h.date), Symbol(closest_station)]\n",
    "#     test_comb[i, :PCP_MAX3] = p_max3[1] * (1 - shortest_dist);\n",
    "    test_comb[i, :PCP_MAX3] = p_max3[1];\n",
    "end"
   ]
  },
  {
   "cell_type": "code",
   "execution_count": 119,
   "metadata": {},
   "outputs": [
    {
     "data": {
      "text/html": [
       "<table class=\"data-frame\"><thead><tr><th></th><th>ID_OUVRAGE</th><th>TP_LAT</th><th>TP_LNG</th><th>TP_Z</th><th>DATE</th><th>PCP_SUM</th><th>PCP_MAX</th><th>PCP_MAX3</th></tr><tr><th></th><th>String</th><th>Float64</th><th>Float64</th><th>Float64</th><th>Date</th><th>Float64</th><th>Float64</th><th>Float64</th></tr></thead><tbody><p>10 rows × 8 columns</p><tr><th>1</th><td>3350-07D</td><td>0.0802391</td><td>-0.325532</td><td>0.168267</td><td>2019-07-05</td><td>27.0</td><td>25.0</td><td>27.0</td></tr><tr><th>2</th><td>3260-01D</td><td>1.29293</td><td>0.531312</td><td>0.0790333</td><td>2019-07-02</td><td>0.0</td><td>0.0</td><td>0.0</td></tr><tr><th>3</th><td>3350-07D</td><td>0.0802391</td><td>-0.325532</td><td>0.168267</td><td>2019-07-04</td><td>0.0</td><td>0.0</td><td>0.0</td></tr><tr><th>4</th><td>4380-01D</td><td>-0.828933</td><td>0.658409</td><td>-0.0467296</td><td>2019-08-12</td><td>20.0</td><td>10.0</td><td>12.0</td></tr><tr><th>5</th><td>3260-01D</td><td>1.29293</td><td>0.531312</td><td>0.0790333</td><td>2019-07-11</td><td>377.0</td><td>207.0</td><td>279.0</td></tr><tr><th>6</th><td>4350-01D</td><td>-0.465715</td><td>0.725081</td><td>-0.0467296</td><td>2019-05-07</td><td>3.0</td><td>3.0</td><td>3.0</td></tr><tr><th>7</th><td>4240-01D</td><td>1.28137</td><td>1.24035</td><td>-1.19178</td><td>2019-08-21</td><td>52.0</td><td>32.0</td><td>52.0</td></tr><tr><th>8</th><td>3260-01D</td><td>1.29293</td><td>0.531312</td><td>0.0790333</td><td>2019-08-26</td><td>0.0</td><td>0.0</td><td>0.0</td></tr><tr><th>9</th><td>4240-01D</td><td>1.28137</td><td>1.24035</td><td>-1.19178</td><td>2019-09-15</td><td>0.0</td><td>0.0</td><td>0.0</td></tr><tr><th>10</th><td>4240-01D</td><td>1.28137</td><td>1.24035</td><td>-1.19178</td><td>2019-06-11</td><td>175.0</td><td>52.0</td><td>108.0</td></tr></tbody></table>"
      ],
      "text/latex": [
       "\\begin{tabular}{r|cccccccc}\n",
       "\t& ID\\_OUVRAGE & TP\\_LAT & TP\\_LNG & TP\\_Z & DATE & PCP\\_SUM & PCP\\_MAX & PCP\\_MAX3\\\\\n",
       "\t\\hline\n",
       "\t& String & Float64 & Float64 & Float64 & Date & Float64 & Float64 & Float64\\\\\n",
       "\t\\hline\n",
       "\t1 & 3350-07D & 0.0802391 & -0.325532 & 0.168267 & 2019-07-05 & 27.0 & 25.0 & 27.0 \\\\\n",
       "\t2 & 3260-01D & 1.29293 & 0.531312 & 0.0790333 & 2019-07-02 & 0.0 & 0.0 & 0.0 \\\\\n",
       "\t3 & 3350-07D & 0.0802391 & -0.325532 & 0.168267 & 2019-07-04 & 0.0 & 0.0 & 0.0 \\\\\n",
       "\t4 & 4380-01D & -0.828933 & 0.658409 & -0.0467296 & 2019-08-12 & 20.0 & 10.0 & 12.0 \\\\\n",
       "\t5 & 3260-01D & 1.29293 & 0.531312 & 0.0790333 & 2019-07-11 & 377.0 & 207.0 & 279.0 \\\\\n",
       "\t6 & 4350-01D & -0.465715 & 0.725081 & -0.0467296 & 2019-05-07 & 3.0 & 3.0 & 3.0 \\\\\n",
       "\t7 & 4240-01D & 1.28137 & 1.24035 & -1.19178 & 2019-08-21 & 52.0 & 32.0 & 52.0 \\\\\n",
       "\t8 & 3260-01D & 1.29293 & 0.531312 & 0.0790333 & 2019-08-26 & 0.0 & 0.0 & 0.0 \\\\\n",
       "\t9 & 4240-01D & 1.28137 & 1.24035 & -1.19178 & 2019-09-15 & 0.0 & 0.0 & 0.0 \\\\\n",
       "\t10 & 4240-01D & 1.28137 & 1.24035 & -1.19178 & 2019-06-11 & 175.0 & 52.0 & 108.0 \\\\\n",
       "\\end{tabular}\n"
      ],
      "text/plain": [
       "10×8 DataFrame. Omitted printing of 2 columns\n",
       "│ Row │ ID_OUVRAGE │ TP_LAT    │ TP_LNG    │ TP_Z       │ DATE       │ PCP_SUM │\n",
       "│     │ \u001b[90mString\u001b[39m     │ \u001b[90mFloat64\u001b[39m   │ \u001b[90mFloat64\u001b[39m   │ \u001b[90mFloat64\u001b[39m    │ \u001b[90mDate\u001b[39m       │ \u001b[90mFloat64\u001b[39m │\n",
       "├─────┼────────────┼───────────┼───────────┼────────────┼────────────┼─────────┤\n",
       "│ 1   │ 3350-07D   │ 0.0802391 │ -0.325532 │ 0.168267   │ 2019-07-05 │ 27.0    │\n",
       "│ 2   │ 3260-01D   │ 1.29293   │ 0.531312  │ 0.0790333  │ 2019-07-02 │ 0.0     │\n",
       "│ 3   │ 3350-07D   │ 0.0802391 │ -0.325532 │ 0.168267   │ 2019-07-04 │ 0.0     │\n",
       "│ 4   │ 4380-01D   │ -0.828933 │ 0.658409  │ -0.0467296 │ 2019-08-12 │ 20.0    │\n",
       "│ 5   │ 3260-01D   │ 1.29293   │ 0.531312  │ 0.0790333  │ 2019-07-11 │ 377.0   │\n",
       "│ 6   │ 4350-01D   │ -0.465715 │ 0.725081  │ -0.0467296 │ 2019-05-07 │ 3.0     │\n",
       "│ 7   │ 4240-01D   │ 1.28137   │ 1.24035   │ -1.19178   │ 2019-08-21 │ 52.0    │\n",
       "│ 8   │ 3260-01D   │ 1.29293   │ 0.531312  │ 0.0790333  │ 2019-08-26 │ 0.0     │\n",
       "│ 9   │ 4240-01D   │ 1.28137   │ 1.24035   │ -1.19178   │ 2019-09-15 │ 0.0     │\n",
       "│ 10  │ 4240-01D   │ 1.28137   │ 1.24035   │ -1.19178   │ 2019-06-11 │ 175.0   │"
      ]
     },
     "execution_count": 119,
     "metadata": {},
     "output_type": "execute_result"
    }
   ],
   "source": [
    "first(shuffleDf(test_comb), 10)"
   ]
  },
  {
   "cell_type": "markdown",
   "metadata": {},
   "source": [
    "### Standardize PCP"
   ]
  },
  {
   "cell_type": "code",
   "execution_count": 120,
   "metadata": {},
   "outputs": [],
   "source": [
    "test_comb.PCP_SUM = (test_comb.PCP_SUM .- mean_pcpsum) ./ std_pcpsum;\n",
    "test_comb.PCP_MAX = (test_comb.PCP_MAX .- mean_pcpmax) ./ std_pcpmax;\n",
    "test_comb.PCP_MAX3 = (test_comb.PCP_MAX3 .- mean_pcpmax3) ./ std_pcpmax3;"
   ]
  },
  {
   "cell_type": "code",
   "execution_count": 121,
   "metadata": {},
   "outputs": [
    {
     "data": {
      "text/html": [
       "<table class=\"data-frame\"><thead><tr><th></th><th>ID_OUVRAGE</th><th>TP_LAT</th><th>TP_LNG</th><th>TP_Z</th><th>DATE</th><th>PCP_SUM</th><th>PCP_MAX</th></tr><tr><th></th><th>String</th><th>Float64</th><th>Float64</th><th>Float64</th><th>Date</th><th>Float64</th><th>Float64</th></tr></thead><tbody><p>20 rows × 8 columns (omitted printing of 1 columns)</p><tr><th>1</th><td>3260-01D</td><td>1.29293</td><td>0.531312</td><td>0.0790333</td><td>2019-05-02</td><td>-0.0469042</td><td>-0.0325426</td></tr><tr><th>2</th><td>3260-01D</td><td>1.29293</td><td>0.531312</td><td>0.0790333</td><td>2019-05-09</td><td>0.808886</td><td>0.982661</td></tr><tr><th>3</th><td>3260-01D</td><td>1.29293</td><td>0.531312</td><td>0.0790333</td><td>2019-05-10</td><td>4.82974</td><td>1.6287</td></tr><tr><th>4</th><td>3260-01D</td><td>1.29293</td><td>0.531312</td><td>0.0790333</td><td>2019-05-15</td><td>-0.37292</td><td>-0.34018</td></tr><tr><th>5</th><td>3260-01D</td><td>1.29293</td><td>0.531312</td><td>0.0790333</td><td>2019-05-20</td><td>0.224775</td><td>0.828842</td></tr><tr><th>6</th><td>3260-01D</td><td>1.29293</td><td>0.531312</td><td>0.0790333</td><td>2019-05-23</td><td>1.97711</td><td>1.53641</td></tr><tr><th>7</th><td>3260-01D</td><td>1.29293</td><td>0.531312</td><td>0.0790333</td><td>2019-05-24</td><td>-0.223496</td><td>-0.124834</td></tr><tr><th>8</th><td>3260-01D</td><td>1.29293</td><td>0.531312</td><td>0.0790333</td><td>2019-05-26</td><td>-0.359336</td><td>-0.309416</td></tr><tr><th>9</th><td>3260-01D</td><td>1.29293</td><td>0.531312</td><td>0.0790333</td><td>2019-05-30</td><td>-0.305</td><td>-0.186361</td></tr><tr><th>10</th><td>3350-07D</td><td>0.0802391</td><td>-0.325532</td><td>0.168267</td><td>2019-05-01</td><td>0.238359</td><td>0.244331</td></tr><tr><th>11</th><td>3350-07D</td><td>0.0802391</td><td>-0.325532</td><td>0.168267</td><td>2019-05-02</td><td>-0.223496</td><td>-0.155598</td></tr><tr><th>12</th><td>3350-07D</td><td>0.0802391</td><td>-0.325532</td><td>0.168267</td><td>2019-05-08</td><td>-0.400087</td><td>-0.401707</td></tr><tr><th>13</th><td>3350-07D</td><td>0.0802391</td><td>-0.325532</td><td>0.168267</td><td>2019-05-09</td><td>0.768134</td><td>0.921133</td></tr><tr><th>14</th><td>3350-07D</td><td>0.0802391</td><td>-0.325532</td><td>0.168267</td><td>2019-05-10</td><td>3.47134</td><td>1.07495</td></tr><tr><th>15</th><td>3350-07D</td><td>0.0802391</td><td>-0.325532</td><td>0.168267</td><td>2019-05-11</td><td>-0.400087</td><td>-0.401707</td></tr><tr><th>16</th><td>3350-07D</td><td>0.0802391</td><td>-0.325532</td><td>0.168267</td><td>2019-05-13</td><td>-0.277832</td><td>-0.124834</td></tr><tr><th>17</th><td>3350-07D</td><td>0.0802391</td><td>-0.325532</td><td>0.168267</td><td>2019-05-14</td><td>1.01265</td><td>0.15204</td></tr><tr><th>18</th><td>3350-07D</td><td>0.0802391</td><td>-0.325532</td><td>0.168267</td><td>2019-05-18</td><td>-0.37292</td><td>-0.34018</td></tr><tr><th>19</th><td>3350-07D</td><td>0.0802391</td><td>-0.325532</td><td>0.168267</td><td>2019-05-19</td><td>0.374199</td><td>0.428913</td></tr><tr><th>20</th><td>3350-07D</td><td>0.0802391</td><td>-0.325532</td><td>0.168267</td><td>2019-05-20</td><td>0.319863</td><td>1.16724</td></tr></tbody></table>"
      ],
      "text/latex": [
       "\\begin{tabular}{r|cccccccc}\n",
       "\t& ID\\_OUVRAGE & TP\\_LAT & TP\\_LNG & TP\\_Z & DATE & PCP\\_SUM & PCP\\_MAX & \\\\\n",
       "\t\\hline\n",
       "\t& String & Float64 & Float64 & Float64 & Date & Float64 & Float64 & \\\\\n",
       "\t\\hline\n",
       "\t1 & 3260-01D & 1.29293 & 0.531312 & 0.0790333 & 2019-05-02 & -0.0469042 & -0.0325426 & $\\dots$ \\\\\n",
       "\t2 & 3260-01D & 1.29293 & 0.531312 & 0.0790333 & 2019-05-09 & 0.808886 & 0.982661 & $\\dots$ \\\\\n",
       "\t3 & 3260-01D & 1.29293 & 0.531312 & 0.0790333 & 2019-05-10 & 4.82974 & 1.6287 & $\\dots$ \\\\\n",
       "\t4 & 3260-01D & 1.29293 & 0.531312 & 0.0790333 & 2019-05-15 & -0.37292 & -0.34018 & $\\dots$ \\\\\n",
       "\t5 & 3260-01D & 1.29293 & 0.531312 & 0.0790333 & 2019-05-20 & 0.224775 & 0.828842 & $\\dots$ \\\\\n",
       "\t6 & 3260-01D & 1.29293 & 0.531312 & 0.0790333 & 2019-05-23 & 1.97711 & 1.53641 & $\\dots$ \\\\\n",
       "\t7 & 3260-01D & 1.29293 & 0.531312 & 0.0790333 & 2019-05-24 & -0.223496 & -0.124834 & $\\dots$ \\\\\n",
       "\t8 & 3260-01D & 1.29293 & 0.531312 & 0.0790333 & 2019-05-26 & -0.359336 & -0.309416 & $\\dots$ \\\\\n",
       "\t9 & 3260-01D & 1.29293 & 0.531312 & 0.0790333 & 2019-05-30 & -0.305 & -0.186361 & $\\dots$ \\\\\n",
       "\t10 & 3350-07D & 0.0802391 & -0.325532 & 0.168267 & 2019-05-01 & 0.238359 & 0.244331 & $\\dots$ \\\\\n",
       "\t11 & 3350-07D & 0.0802391 & -0.325532 & 0.168267 & 2019-05-02 & -0.223496 & -0.155598 & $\\dots$ \\\\\n",
       "\t12 & 3350-07D & 0.0802391 & -0.325532 & 0.168267 & 2019-05-08 & -0.400087 & -0.401707 & $\\dots$ \\\\\n",
       "\t13 & 3350-07D & 0.0802391 & -0.325532 & 0.168267 & 2019-05-09 & 0.768134 & 0.921133 & $\\dots$ \\\\\n",
       "\t14 & 3350-07D & 0.0802391 & -0.325532 & 0.168267 & 2019-05-10 & 3.47134 & 1.07495 & $\\dots$ \\\\\n",
       "\t15 & 3350-07D & 0.0802391 & -0.325532 & 0.168267 & 2019-05-11 & -0.400087 & -0.401707 & $\\dots$ \\\\\n",
       "\t16 & 3350-07D & 0.0802391 & -0.325532 & 0.168267 & 2019-05-13 & -0.277832 & -0.124834 & $\\dots$ \\\\\n",
       "\t17 & 3350-07D & 0.0802391 & -0.325532 & 0.168267 & 2019-05-14 & 1.01265 & 0.15204 & $\\dots$ \\\\\n",
       "\t18 & 3350-07D & 0.0802391 & -0.325532 & 0.168267 & 2019-05-18 & -0.37292 & -0.34018 & $\\dots$ \\\\\n",
       "\t19 & 3350-07D & 0.0802391 & -0.325532 & 0.168267 & 2019-05-19 & 0.374199 & 0.428913 & $\\dots$ \\\\\n",
       "\t20 & 3350-07D & 0.0802391 & -0.325532 & 0.168267 & 2019-05-20 & 0.319863 & 1.16724 & $\\dots$ \\\\\n",
       "\\end{tabular}\n"
      ],
      "text/plain": [
       "20×8 DataFrame. Omitted printing of 3 columns\n",
       "│ Row │ ID_OUVRAGE │ TP_LAT    │ TP_LNG    │ TP_Z      │ DATE       │\n",
       "│     │ \u001b[90mString\u001b[39m     │ \u001b[90mFloat64\u001b[39m   │ \u001b[90mFloat64\u001b[39m   │ \u001b[90mFloat64\u001b[39m   │ \u001b[90mDate\u001b[39m       │\n",
       "├─────┼────────────┼───────────┼───────────┼───────────┼────────────┤\n",
       "│ 1   │ 3260-01D   │ 1.29293   │ 0.531312  │ 0.0790333 │ 2019-05-02 │\n",
       "│ 2   │ 3260-01D   │ 1.29293   │ 0.531312  │ 0.0790333 │ 2019-05-09 │\n",
       "│ 3   │ 3260-01D   │ 1.29293   │ 0.531312  │ 0.0790333 │ 2019-05-10 │\n",
       "│ 4   │ 3260-01D   │ 1.29293   │ 0.531312  │ 0.0790333 │ 2019-05-15 │\n",
       "│ 5   │ 3260-01D   │ 1.29293   │ 0.531312  │ 0.0790333 │ 2019-05-20 │\n",
       "│ 6   │ 3260-01D   │ 1.29293   │ 0.531312  │ 0.0790333 │ 2019-05-23 │\n",
       "│ 7   │ 3260-01D   │ 1.29293   │ 0.531312  │ 0.0790333 │ 2019-05-24 │\n",
       "│ 8   │ 3260-01D   │ 1.29293   │ 0.531312  │ 0.0790333 │ 2019-05-26 │\n",
       "│ 9   │ 3260-01D   │ 1.29293   │ 0.531312  │ 0.0790333 │ 2019-05-30 │\n",
       "│ 10  │ 3350-07D   │ 0.0802391 │ -0.325532 │ 0.168267  │ 2019-05-01 │\n",
       "│ 11  │ 3350-07D   │ 0.0802391 │ -0.325532 │ 0.168267  │ 2019-05-02 │\n",
       "│ 12  │ 3350-07D   │ 0.0802391 │ -0.325532 │ 0.168267  │ 2019-05-08 │\n",
       "│ 13  │ 3350-07D   │ 0.0802391 │ -0.325532 │ 0.168267  │ 2019-05-09 │\n",
       "│ 14  │ 3350-07D   │ 0.0802391 │ -0.325532 │ 0.168267  │ 2019-05-10 │\n",
       "│ 15  │ 3350-07D   │ 0.0802391 │ -0.325532 │ 0.168267  │ 2019-05-11 │\n",
       "│ 16  │ 3350-07D   │ 0.0802391 │ -0.325532 │ 0.168267  │ 2019-05-13 │\n",
       "│ 17  │ 3350-07D   │ 0.0802391 │ -0.325532 │ 0.168267  │ 2019-05-14 │\n",
       "│ 18  │ 3350-07D   │ 0.0802391 │ -0.325532 │ 0.168267  │ 2019-05-18 │\n",
       "│ 19  │ 3350-07D   │ 0.0802391 │ -0.325532 │ 0.168267  │ 2019-05-19 │\n",
       "│ 20  │ 3350-07D   │ 0.0802391 │ -0.325532 │ 0.168267  │ 2019-05-20 │"
      ]
     },
     "execution_count": 121,
     "metadata": {},
     "output_type": "execute_result"
    }
   ],
   "source": [
    "first(test_comb, 20)"
   ]
  },
  {
   "cell_type": "markdown",
   "metadata": {},
   "source": [
    "#### Split dates into month and day"
   ]
  },
  {
   "cell_type": "code",
   "execution_count": 122,
   "metadata": {},
   "outputs": [
    {
     "data": {
      "text/html": [
       "<table class=\"data-frame\"><thead><tr><th></th><th>DATE</th><th>MONTH</th><th>DAY</th></tr><tr><th></th><th>Date</th><th>Int64</th><th>Int64</th></tr></thead><tbody><p>5 rows × 3 columns</p><tr><th>1</th><td>2019-08-17</td><td>8</td><td>17</td></tr><tr><th>2</th><td>2019-06-05</td><td>6</td><td>5</td></tr><tr><th>3</th><td>2019-07-19</td><td>7</td><td>19</td></tr><tr><th>4</th><td>2019-08-02</td><td>8</td><td>2</td></tr><tr><th>5</th><td>2019-08-22</td><td>8</td><td>22</td></tr></tbody></table>"
      ],
      "text/latex": [
       "\\begin{tabular}{r|ccc}\n",
       "\t& DATE & MONTH & DAY\\\\\n",
       "\t\\hline\n",
       "\t& Date & Int64 & Int64\\\\\n",
       "\t\\hline\n",
       "\t1 & 2019-08-17 & 8 & 17 \\\\\n",
       "\t2 & 2019-06-05 & 6 & 5 \\\\\n",
       "\t3 & 2019-07-19 & 7 & 19 \\\\\n",
       "\t4 & 2019-08-02 & 8 & 2 \\\\\n",
       "\t5 & 2019-08-22 & 8 & 22 \\\\\n",
       "\\end{tabular}\n"
      ],
      "text/plain": [
       "5×3 DataFrame\n",
       "│ Row │ DATE       │ MONTH │ DAY   │\n",
       "│     │ \u001b[90mDate\u001b[39m       │ \u001b[90mInt64\u001b[39m │ \u001b[90mInt64\u001b[39m │\n",
       "├─────┼────────────┼───────┼───────┤\n",
       "│ 1   │ 2019-08-17 │ 8     │ 17    │\n",
       "│ 2   │ 2019-06-05 │ 6     │ 5     │\n",
       "│ 3   │ 2019-07-19 │ 7     │ 19    │\n",
       "│ 4   │ 2019-08-02 │ 8     │ 2     │\n",
       "│ 5   │ 2019-08-22 │ 8     │ 22    │"
      ]
     },
     "execution_count": 122,
     "metadata": {},
     "output_type": "execute_result"
    }
   ],
   "source": [
    "test_comb.MONTH = month.(test_comb.DATE);\n",
    "test_comb.DAY = day.(test_comb.DATE);\n",
    "\n",
    "first(shuffleDf(test_comb[!, [:DATE, :MONTH, :DAY]]), 5)"
   ]
  },
  {
   "cell_type": "markdown",
   "metadata": {},
   "source": [
    "#### Standardize months and days"
   ]
  },
  {
   "cell_type": "code",
   "execution_count": 123,
   "metadata": {},
   "outputs": [],
   "source": [
    "test_comb.MONTH = (test_comb.MONTH .- meanmonth) ./ stdmonth;\n",
    "test_comb.DAY = (test_comb.DAY .- meanday) ./ stdday;"
   ]
  },
  {
   "cell_type": "code",
   "execution_count": 124,
   "metadata": {},
   "outputs": [
    {
     "data": {
      "text/html": [
       "<table class=\"data-frame\"><thead><tr><th></th><th>ID_OUVRAGE</th><th>TP_LAT</th><th>TP_LNG</th><th>TP_Z</th><th>MONTH</th><th>DAY</th><th>PCP_SUM</th><th>PCP_MAX</th></tr><tr><th></th><th>String</th><th>Float64</th><th>Float64</th><th>Float64</th><th>Float64</th><th>Float64</th><th>Float64</th><th>Float64</th></tr></thead><tbody><p>5 rows × 9 columns (omitted printing of 1 columns)</p><tr><th>1</th><td>4350-01D</td><td>-0.465715</td><td>0.725081</td><td>-0.0467296</td><td>-0.875331</td><td>0.0176291</td><td>-0.400087</td><td>-0.401707</td></tr><tr><th>2</th><td>4240-01D</td><td>1.28137</td><td>1.24035</td><td>-1.19178</td><td>-0.875331</td><td>1.03449</td><td>0.75455</td><td>0.459677</td></tr><tr><th>3</th><td>4380-01D</td><td>-0.828933</td><td>0.658409</td><td>-0.0467296</td><td>0.293667</td><td>1.26046</td><td>-0.400087</td><td>-0.401707</td></tr><tr><th>4</th><td>3260-01D</td><td>1.29293</td><td>0.531312</td><td>0.0790333</td><td>0.878166</td><td>0.921508</td><td>-0.400087</td><td>-0.401707</td></tr><tr><th>5</th><td>4380-01D</td><td>-0.828933</td><td>0.658409</td><td>-0.0467296</td><td>0.878166</td><td>0.695538</td><td>-0.400087</td><td>-0.401707</td></tr></tbody></table>"
      ],
      "text/latex": [
       "\\begin{tabular}{r|ccccccccc}\n",
       "\t& ID\\_OUVRAGE & TP\\_LAT & TP\\_LNG & TP\\_Z & MONTH & DAY & PCP\\_SUM & PCP\\_MAX & \\\\\n",
       "\t\\hline\n",
       "\t& String & Float64 & Float64 & Float64 & Float64 & Float64 & Float64 & Float64 & \\\\\n",
       "\t\\hline\n",
       "\t1 & 4350-01D & -0.465715 & 0.725081 & -0.0467296 & -0.875331 & 0.0176291 & -0.400087 & -0.401707 & $\\dots$ \\\\\n",
       "\t2 & 4240-01D & 1.28137 & 1.24035 & -1.19178 & -0.875331 & 1.03449 & 0.75455 & 0.459677 & $\\dots$ \\\\\n",
       "\t3 & 4380-01D & -0.828933 & 0.658409 & -0.0467296 & 0.293667 & 1.26046 & -0.400087 & -0.401707 & $\\dots$ \\\\\n",
       "\t4 & 3260-01D & 1.29293 & 0.531312 & 0.0790333 & 0.878166 & 0.921508 & -0.400087 & -0.401707 & $\\dots$ \\\\\n",
       "\t5 & 4380-01D & -0.828933 & 0.658409 & -0.0467296 & 0.878166 & 0.695538 & -0.400087 & -0.401707 & $\\dots$ \\\\\n",
       "\\end{tabular}\n"
      ],
      "text/plain": [
       "5×9 DataFrame. Omitted printing of 3 columns\n",
       "│ Row │ ID_OUVRAGE │ TP_LAT    │ TP_LNG   │ TP_Z       │ MONTH     │ DAY       │\n",
       "│     │ \u001b[90mString\u001b[39m     │ \u001b[90mFloat64\u001b[39m   │ \u001b[90mFloat64\u001b[39m  │ \u001b[90mFloat64\u001b[39m    │ \u001b[90mFloat64\u001b[39m   │ \u001b[90mFloat64\u001b[39m   │\n",
       "├─────┼────────────┼───────────┼──────────┼────────────┼───────────┼───────────┤\n",
       "│ 1   │ 4350-01D   │ -0.465715 │ 0.725081 │ -0.0467296 │ -0.875331 │ 0.0176291 │\n",
       "│ 2   │ 4240-01D   │ 1.28137   │ 1.24035  │ -1.19178   │ -0.875331 │ 1.03449   │\n",
       "│ 3   │ 4380-01D   │ -0.828933 │ 0.658409 │ -0.0467296 │ 0.293667  │ 1.26046   │\n",
       "│ 4   │ 3260-01D   │ 1.29293   │ 0.531312 │ 0.0790333  │ 0.878166  │ 0.921508  │\n",
       "│ 5   │ 4380-01D   │ -0.828933 │ 0.658409 │ -0.0467296 │ 0.878166  │ 0.695538  │"
      ]
     },
     "execution_count": 124,
     "metadata": {},
     "output_type": "execute_result"
    }
   ],
   "source": [
    "first(shuffleDf(test_comb[!, [:ID_OUVRAGE, :TP_LAT, :TP_LNG, :TP_Z, :MONTH, :DAY, :PCP_SUM, :PCP_MAX, :PCP_MAX3]]), 5)"
   ]
  },
  {
   "cell_type": "markdown",
   "metadata": {},
   "source": [
    "### Create Test features"
   ]
  },
  {
   "cell_type": "code",
   "execution_count": 125,
   "metadata": {},
   "outputs": [
    {
     "data": {
      "text/plain": [
       "283×8 Array{Float64,2}:\n",
       "  1.29293     0.531312   0.0790333  …  -0.0469042  -0.0325426   0.0430963\n",
       "  1.29293     0.531312   0.0790333      0.808886    0.982661    1.41166  \n",
       "  1.29293     0.531312   0.0790333      4.82974     1.6287      2.75979  \n",
       "  1.29293     0.531312   0.0790333     -0.37292    -0.34018    -0.365429 \n",
       "  1.29293     0.531312   0.0790333      0.224775    0.828842    0.492474 \n",
       "  1.29293     0.531312   0.0790333  …   1.97711     1.53641     2.51467  \n",
       "  1.29293     0.531312   0.0790333     -0.223496   -0.124834   -0.181592 \n",
       "  1.29293     0.531312   0.0790333     -0.359336   -0.309416   -0.345002 \n",
       "  1.29293     0.531312   0.0790333     -0.305      -0.186361   -0.263297 \n",
       "  0.0802391  -0.325532   0.168267       0.238359    0.244331    0.431195 \n",
       "  0.0802391  -0.325532   0.168267   …  -0.223496   -0.155598   -0.181592 \n",
       "  0.0802391  -0.325532   0.168267      -0.400087   -0.401707   -0.406281 \n",
       "  0.0802391  -0.325532   0.168267       0.768134    0.921133    1.35038  \n",
       "  ⋮                                 ⋱   ⋮                                \n",
       " -0.828933    0.658409  -0.0467296     -0.400087   -0.401707   -0.406281 \n",
       " -0.828933    0.658409  -0.0467296      4.38147     1.47488     2.59638  \n",
       " -0.828933    0.658409  -0.0467296      2.68347     3.47452     3.51556  \n",
       " -0.828933    0.658409  -0.0467296     -0.400087   -0.401707   -0.406281 \n",
       " -0.828933    0.658409  -0.0467296  …  -0.400087   -0.401707   -0.406281 \n",
       " -0.828933    0.658409  -0.0467296     -0.400087   -0.401707   -0.406281 \n",
       " -0.828933    0.658409  -0.0467296     -0.400087   -0.401707   -0.406281 \n",
       " -0.828933    0.658409  -0.0467296     -0.400087   -0.401707   -0.406281 \n",
       " -0.828933    0.658409  -0.0467296      1.12132     0.64426     1.26867  \n",
       " -0.828933    0.658409  -0.0467296  …   0.347031    0.121276    0.308638 \n",
       " -0.828933    0.658409  -0.0467296     -0.37292    -0.34018    -0.365429 \n",
       " -0.828933    0.658409  -0.0467296     -0.400087   -0.401707   -0.406281 "
      ]
     },
     "execution_count": 125,
     "metadata": {},
     "output_type": "execute_result"
    }
   ],
   "source": [
    "test_features = convert(Matrix{Float64}, test_comb[:, names_ft])"
   ]
  },
  {
   "cell_type": "markdown",
   "metadata": {},
   "source": [
    "## Predict"
   ]
  },
  {
   "cell_type": "code",
   "execution_count": 126,
   "metadata": {},
   "outputs": [
    {
     "data": {
      "text/plain": [
       "283-element Array{Int64,1}:\n",
       " 0\n",
       " 0\n",
       " 1\n",
       " 0\n",
       " 0\n",
       " 1\n",
       " 0\n",
       " 0\n",
       " 0\n",
       " 1\n",
       " 0\n",
       " 0\n",
       " 1\n",
       " ⋮\n",
       " 0\n",
       " 1\n",
       " 1\n",
       " 0\n",
       " 0\n",
       " 0\n",
       " 0\n",
       " 0\n",
       " 0\n",
       " 0\n",
       " 0\n",
       " 0"
      ]
     },
     "execution_count": 126,
     "metadata": {},
     "output_type": "execute_result"
    }
   ],
   "source": [
    "test_labels = apply_forest(model, test_features)"
   ]
  },
  {
   "cell_type": "markdown",
   "metadata": {},
   "source": [
    "## Generate submission"
   ]
  },
  {
   "cell_type": "code",
   "execution_count": 127,
   "metadata": {},
   "outputs": [
    {
     "data": {
      "text/plain": [
       "\"submissions/mc-submission-10.csv\""
      ]
     },
     "execution_count": 127,
     "metadata": {},
     "output_type": "execute_result"
    }
   ],
   "source": [
    "ID = test_comb[:,:ID_OUVRAGE].*\"_\".*string.(test_comb[:,:DATE])\n",
    "sampleSubmission = DataFrame(ID = ID, Surverse=test_labels)\n",
    "CSV.write(\"submissions/mc-submission-10.csv\",sampleSubmission)"
   ]
  }
 ],
 "metadata": {
  "kernelspec": {
   "display_name": "Julia 1.2.0",
   "language": "julia",
   "name": "julia-1.2"
  },
  "language_info": {
   "file_extension": ".jl",
   "mimetype": "application/julia",
   "name": "julia",
   "version": "1.2.0"
  }
 },
 "nbformat": 4,
 "nbformat_minor": 2
}
