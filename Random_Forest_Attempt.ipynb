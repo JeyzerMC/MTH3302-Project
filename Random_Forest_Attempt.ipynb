{
 "cells": [
  {
   "cell_type": "markdown",
   "metadata": {},
   "source": [
    "# Forêt aléatoire - Projet final A19"
   ]
  },
  {
   "cell_type": "markdown",
   "metadata": {},
   "source": [
    "#### Importer les librairies"
   ]
  },
  {
   "cell_type": "code",
   "execution_count": 43,
   "metadata": {},
   "outputs": [],
   "source": [
    "using CSV, DataFrames, DecisionTree, Statistics, Dates, Gadfly, Random"
   ]
  },
  {
   "cell_type": "markdown",
   "metadata": {},
   "source": [
    "### Importer les données"
   ]
  },
  {
   "cell_type": "markdown",
   "metadata": {},
   "source": [
    "#### Importer le fichier contenant les labels"
   ]
  },
  {
   "cell_type": "code",
   "execution_count": 17,
   "metadata": {},
   "outputs": [
    {
     "data": {
      "text/html": [
       "<table class=\"data-frame\"><thead><tr><th></th><th>NO_OUVRAGE</th><th>DATE</th><th>SURVERSE</th><th>RAISON</th></tr><tr><th></th><th>String</th><th>Date</th><th>Int64⍰</th><th>String⍰</th></tr></thead><tbody><p>10 rows × 4 columns</p><tr><th>1</th><td>0642-01D</td><td>2013-05-01</td><td>0</td><td>missing</td></tr><tr><th>2</th><td>0642-01D</td><td>2013-05-02</td><td>0</td><td>missing</td></tr><tr><th>3</th><td>0642-01D</td><td>2013-05-03</td><td>0</td><td>missing</td></tr><tr><th>4</th><td>0642-01D</td><td>2013-05-04</td><td>0</td><td>missing</td></tr><tr><th>5</th><td>0642-01D</td><td>2013-05-05</td><td>0</td><td>missing</td></tr><tr><th>6</th><td>0642-01D</td><td>2013-05-06</td><td>0</td><td>missing</td></tr><tr><th>7</th><td>0642-01D</td><td>2013-05-07</td><td>0</td><td>missing</td></tr><tr><th>8</th><td>0642-01D</td><td>2013-05-08</td><td>0</td><td>missing</td></tr><tr><th>9</th><td>0642-01D</td><td>2013-05-09</td><td>0</td><td>missing</td></tr><tr><th>10</th><td>0642-01D</td><td>2013-05-10</td><td>0</td><td>missing</td></tr></tbody></table>"
      ],
      "text/latex": [
       "\\begin{tabular}{r|cccc}\n",
       "\t& NO\\_OUVRAGE & DATE & SURVERSE & RAISON\\\\\n",
       "\t\\hline\n",
       "\t& String & Date & Int64⍰ & String⍰\\\\\n",
       "\t\\hline\n",
       "\t1 & 0642-01D & 2013-05-01 & 0 &  \\\\\n",
       "\t2 & 0642-01D & 2013-05-02 & 0 &  \\\\\n",
       "\t3 & 0642-01D & 2013-05-03 & 0 &  \\\\\n",
       "\t4 & 0642-01D & 2013-05-04 & 0 &  \\\\\n",
       "\t5 & 0642-01D & 2013-05-05 & 0 &  \\\\\n",
       "\t6 & 0642-01D & 2013-05-06 & 0 &  \\\\\n",
       "\t7 & 0642-01D & 2013-05-07 & 0 &  \\\\\n",
       "\t8 & 0642-01D & 2013-05-08 & 0 &  \\\\\n",
       "\t9 & 0642-01D & 2013-05-09 & 0 &  \\\\\n",
       "\t10 & 0642-01D & 2013-05-10 & 0 &  \\\\\n",
       "\\end{tabular}\n"
      ],
      "text/plain": [
       "10×4 DataFrame\n",
       "│ Row │ NO_OUVRAGE │ DATE       │ SURVERSE │ RAISON  │\n",
       "│     │ \u001b[90mString\u001b[39m     │ \u001b[90mDate\u001b[39m       │ \u001b[90mInt64⍰\u001b[39m   │ \u001b[90mString⍰\u001b[39m │\n",
       "├─────┼────────────┼────────────┼──────────┼─────────┤\n",
       "│ 1   │ 0642-01D   │ 2013-05-01 │ 0        │ \u001b[90mmissing\u001b[39m │\n",
       "│ 2   │ 0642-01D   │ 2013-05-02 │ 0        │ \u001b[90mmissing\u001b[39m │\n",
       "│ 3   │ 0642-01D   │ 2013-05-03 │ 0        │ \u001b[90mmissing\u001b[39m │\n",
       "│ 4   │ 0642-01D   │ 2013-05-04 │ 0        │ \u001b[90mmissing\u001b[39m │\n",
       "│ 5   │ 0642-01D   │ 2013-05-05 │ 0        │ \u001b[90mmissing\u001b[39m │\n",
       "│ 6   │ 0642-01D   │ 2013-05-06 │ 0        │ \u001b[90mmissing\u001b[39m │\n",
       "│ 7   │ 0642-01D   │ 2013-05-07 │ 0        │ \u001b[90mmissing\u001b[39m │\n",
       "│ 8   │ 0642-01D   │ 2013-05-08 │ 0        │ \u001b[90mmissing\u001b[39m │\n",
       "│ 9   │ 0642-01D   │ 2013-05-09 │ 0        │ \u001b[90mmissing\u001b[39m │\n",
       "│ 10  │ 0642-01D   │ 2013-05-10 │ 0        │ \u001b[90mmissing\u001b[39m │"
      ]
     },
     "execution_count": 17,
     "metadata": {},
     "output_type": "execute_result"
    }
   ],
   "source": [
    "labels = CSV.read(\"data/surverses.csv\",missingstring=\"-99999\")\n",
    "first(labels, 10)"
   ]
  },
  {
   "cell_type": "markdown",
   "metadata": {},
   "source": [
    "### Filtrage des labels"
   ]
  },
  {
   "cell_type": "markdown",
   "metadata": {},
   "source": [
    "#### Filtrer les mois (Mai à Octobre)"
   ]
  },
  {
   "cell_type": "code",
   "execution_count": 19,
   "metadata": {},
   "outputs": [
    {
     "data": {
      "text/html": [
       "<table class=\"data-frame\"><thead><tr><th></th><th>NO_OUVRAGE</th><th>DATE</th><th>SURVERSE</th><th>RAISON</th></tr><tr><th></th><th>String</th><th>Date</th><th>Int64⍰</th><th>String⍰</th></tr></thead><tbody><p>10 rows × 4 columns</p><tr><th>1</th><td>0642-01D</td><td>2013-05-01</td><td>0</td><td>missing</td></tr><tr><th>2</th><td>0642-01D</td><td>2013-05-02</td><td>0</td><td>missing</td></tr><tr><th>3</th><td>0642-01D</td><td>2013-05-03</td><td>0</td><td>missing</td></tr><tr><th>4</th><td>0642-01D</td><td>2013-05-04</td><td>0</td><td>missing</td></tr><tr><th>5</th><td>0642-01D</td><td>2013-05-05</td><td>0</td><td>missing</td></tr><tr><th>6</th><td>0642-01D</td><td>2013-05-06</td><td>0</td><td>missing</td></tr><tr><th>7</th><td>0642-01D</td><td>2013-05-07</td><td>0</td><td>missing</td></tr><tr><th>8</th><td>0642-01D</td><td>2013-05-08</td><td>0</td><td>missing</td></tr><tr><th>9</th><td>0642-01D</td><td>2013-05-09</td><td>0</td><td>missing</td></tr><tr><th>10</th><td>0642-01D</td><td>2013-05-10</td><td>0</td><td>missing</td></tr></tbody></table>"
      ],
      "text/latex": [
       "\\begin{tabular}{r|cccc}\n",
       "\t& NO\\_OUVRAGE & DATE & SURVERSE & RAISON\\\\\n",
       "\t\\hline\n",
       "\t& String & Date & Int64⍰ & String⍰\\\\\n",
       "\t\\hline\n",
       "\t1 & 0642-01D & 2013-05-01 & 0 &  \\\\\n",
       "\t2 & 0642-01D & 2013-05-02 & 0 &  \\\\\n",
       "\t3 & 0642-01D & 2013-05-03 & 0 &  \\\\\n",
       "\t4 & 0642-01D & 2013-05-04 & 0 &  \\\\\n",
       "\t5 & 0642-01D & 2013-05-05 & 0 &  \\\\\n",
       "\t6 & 0642-01D & 2013-05-06 & 0 &  \\\\\n",
       "\t7 & 0642-01D & 2013-05-07 & 0 &  \\\\\n",
       "\t8 & 0642-01D & 2013-05-08 & 0 &  \\\\\n",
       "\t9 & 0642-01D & 2013-05-09 & 0 &  \\\\\n",
       "\t10 & 0642-01D & 2013-05-10 & 0 &  \\\\\n",
       "\\end{tabular}\n"
      ],
      "text/plain": [
       "10×4 DataFrame\n",
       "│ Row │ NO_OUVRAGE │ DATE       │ SURVERSE │ RAISON  │\n",
       "│     │ \u001b[90mString\u001b[39m     │ \u001b[90mDate\u001b[39m       │ \u001b[90mInt64⍰\u001b[39m   │ \u001b[90mString⍰\u001b[39m │\n",
       "├─────┼────────────┼────────────┼──────────┼─────────┤\n",
       "│ 1   │ 0642-01D   │ 2013-05-01 │ 0        │ \u001b[90mmissing\u001b[39m │\n",
       "│ 2   │ 0642-01D   │ 2013-05-02 │ 0        │ \u001b[90mmissing\u001b[39m │\n",
       "│ 3   │ 0642-01D   │ 2013-05-03 │ 0        │ \u001b[90mmissing\u001b[39m │\n",
       "│ 4   │ 0642-01D   │ 2013-05-04 │ 0        │ \u001b[90mmissing\u001b[39m │\n",
       "│ 5   │ 0642-01D   │ 2013-05-05 │ 0        │ \u001b[90mmissing\u001b[39m │\n",
       "│ 6   │ 0642-01D   │ 2013-05-06 │ 0        │ \u001b[90mmissing\u001b[39m │\n",
       "│ 7   │ 0642-01D   │ 2013-05-07 │ 0        │ \u001b[90mmissing\u001b[39m │\n",
       "│ 8   │ 0642-01D   │ 2013-05-08 │ 0        │ \u001b[90mmissing\u001b[39m │\n",
       "│ 9   │ 0642-01D   │ 2013-05-09 │ 0        │ \u001b[90mmissing\u001b[39m │\n",
       "│ 10  │ 0642-01D   │ 2013-05-10 │ 0        │ \u001b[90mmissing\u001b[39m │"
      ]
     },
     "execution_count": 19,
     "metadata": {},
     "output_type": "execute_result"
    }
   ],
   "source": [
    "labels = filter(row -> month(row.DATE) > 4, labels)\n",
    "labels = filter(row -> month(row.DATE) < 11, labels)\n",
    "first(labels, 10)"
   ]
  },
  {
   "cell_type": "markdown",
   "metadata": {},
   "source": [
    "#### Garder seulement les surverses dues à la pluie"
   ]
  },
  {
   "cell_type": "code",
   "execution_count": 20,
   "metadata": {},
   "outputs": [
    {
     "data": {
      "text/html": [
       "<table class=\"data-frame\"><thead><tr><th></th><th>NO_OUVRAGE</th><th>DATE</th><th>SURVERSE</th></tr><tr><th></th><th>String</th><th>Date</th><th>Int64⍰</th></tr></thead><tbody><p>10 rows × 3 columns</p><tr><th>1</th><td>0642-01D</td><td>2013-05-01</td><td>0</td></tr><tr><th>2</th><td>0642-01D</td><td>2013-05-02</td><td>0</td></tr><tr><th>3</th><td>0642-01D</td><td>2013-05-03</td><td>0</td></tr><tr><th>4</th><td>0642-01D</td><td>2013-05-04</td><td>0</td></tr><tr><th>5</th><td>0642-01D</td><td>2013-05-05</td><td>0</td></tr><tr><th>6</th><td>0642-01D</td><td>2013-05-06</td><td>0</td></tr><tr><th>7</th><td>0642-01D</td><td>2013-05-07</td><td>0</td></tr><tr><th>8</th><td>0642-01D</td><td>2013-05-08</td><td>0</td></tr><tr><th>9</th><td>0642-01D</td><td>2013-05-09</td><td>0</td></tr><tr><th>10</th><td>0642-01D</td><td>2013-05-10</td><td>0</td></tr></tbody></table>"
      ],
      "text/latex": [
       "\\begin{tabular}{r|ccc}\n",
       "\t& NO\\_OUVRAGE & DATE & SURVERSE\\\\\n",
       "\t\\hline\n",
       "\t& String & Date & Int64⍰\\\\\n",
       "\t\\hline\n",
       "\t1 & 0642-01D & 2013-05-01 & 0 \\\\\n",
       "\t2 & 0642-01D & 2013-05-02 & 0 \\\\\n",
       "\t3 & 0642-01D & 2013-05-03 & 0 \\\\\n",
       "\t4 & 0642-01D & 2013-05-04 & 0 \\\\\n",
       "\t5 & 0642-01D & 2013-05-05 & 0 \\\\\n",
       "\t6 & 0642-01D & 2013-05-06 & 0 \\\\\n",
       "\t7 & 0642-01D & 2013-05-07 & 0 \\\\\n",
       "\t8 & 0642-01D & 2013-05-08 & 0 \\\\\n",
       "\t9 & 0642-01D & 2013-05-09 & 0 \\\\\n",
       "\t10 & 0642-01D & 2013-05-10 & 0 \\\\\n",
       "\\end{tabular}\n"
      ],
      "text/plain": [
       "10×3 DataFrame\n",
       "│ Row │ NO_OUVRAGE │ DATE       │ SURVERSE │\n",
       "│     │ \u001b[90mString\u001b[39m     │ \u001b[90mDate\u001b[39m       │ \u001b[90mInt64⍰\u001b[39m   │\n",
       "├─────┼────────────┼────────────┼──────────┤\n",
       "│ 1   │ 0642-01D   │ 2013-05-01 │ 0        │\n",
       "│ 2   │ 0642-01D   │ 2013-05-02 │ 0        │\n",
       "│ 3   │ 0642-01D   │ 2013-05-03 │ 0        │\n",
       "│ 4   │ 0642-01D   │ 2013-05-04 │ 0        │\n",
       "│ 5   │ 0642-01D   │ 2013-05-05 │ 0        │\n",
       "│ 6   │ 0642-01D   │ 2013-05-06 │ 0        │\n",
       "│ 7   │ 0642-01D   │ 2013-05-07 │ 0        │\n",
       "│ 8   │ 0642-01D   │ 2013-05-08 │ 0        │\n",
       "│ 9   │ 0642-01D   │ 2013-05-09 │ 0        │\n",
       "│ 10  │ 0642-01D   │ 2013-05-10 │ 0        │"
      ]
     },
     "execution_count": 20,
     "metadata": {},
     "output_type": "execute_result"
    }
   ],
   "source": [
    "raison = coalesce.(labels[:,:RAISON],\"Inconnue\")\n",
    "labels[!,:RAISON] = raison\n",
    "\n",
    "labels = filter(row -> row.RAISON ∈ [\"P\",\"Inconnue\",\"TS\"], labels)\n",
    "select!(labels, [:NO_OUVRAGE, :DATE, :SURVERSE])\n",
    "first(labels,10)"
   ]
  },
  {
   "cell_type": "code",
   "execution_count": 32,
   "metadata": {},
   "outputs": [
    {
     "data": {
      "text/html": [
       "<table class=\"data-frame\"><thead><tr><th></th><th>ID_OUVRAGE</th><th>DATE</th><th>SURVERSE</th></tr><tr><th></th><th>String</th><th>Date</th><th>Int64</th></tr></thead><tbody><p>10 rows × 3 columns</p><tr><th>1</th><td>0642-01D</td><td>2013-05-01</td><td>0</td></tr><tr><th>2</th><td>0642-01D</td><td>2013-05-02</td><td>0</td></tr><tr><th>3</th><td>0642-01D</td><td>2013-05-03</td><td>0</td></tr><tr><th>4</th><td>0642-01D</td><td>2013-05-04</td><td>0</td></tr><tr><th>5</th><td>0642-01D</td><td>2013-05-05</td><td>0</td></tr><tr><th>6</th><td>0642-01D</td><td>2013-05-06</td><td>0</td></tr><tr><th>7</th><td>0642-01D</td><td>2013-05-07</td><td>0</td></tr><tr><th>8</th><td>0642-01D</td><td>2013-05-08</td><td>0</td></tr><tr><th>9</th><td>0642-01D</td><td>2013-05-09</td><td>0</td></tr><tr><th>10</th><td>0642-01D</td><td>2013-05-10</td><td>0</td></tr></tbody></table>"
      ],
      "text/latex": [
       "\\begin{tabular}{r|ccc}\n",
       "\t& ID\\_OUVRAGE & DATE & SURVERSE\\\\\n",
       "\t\\hline\n",
       "\t& String & Date & Int64\\\\\n",
       "\t\\hline\n",
       "\t1 & 0642-01D & 2013-05-01 & 0 \\\\\n",
       "\t2 & 0642-01D & 2013-05-02 & 0 \\\\\n",
       "\t3 & 0642-01D & 2013-05-03 & 0 \\\\\n",
       "\t4 & 0642-01D & 2013-05-04 & 0 \\\\\n",
       "\t5 & 0642-01D & 2013-05-05 & 0 \\\\\n",
       "\t6 & 0642-01D & 2013-05-06 & 0 \\\\\n",
       "\t7 & 0642-01D & 2013-05-07 & 0 \\\\\n",
       "\t8 & 0642-01D & 2013-05-08 & 0 \\\\\n",
       "\t9 & 0642-01D & 2013-05-09 & 0 \\\\\n",
       "\t10 & 0642-01D & 2013-05-10 & 0 \\\\\n",
       "\\end{tabular}\n"
      ],
      "text/plain": [
       "10×3 DataFrame\n",
       "│ Row │ ID_OUVRAGE │ DATE       │ SURVERSE │\n",
       "│     │ \u001b[90mString\u001b[39m     │ \u001b[90mDate\u001b[39m       │ \u001b[90mInt64\u001b[39m    │\n",
       "├─────┼────────────┼────────────┼──────────┤\n",
       "│ 1   │ 0642-01D   │ 2013-05-01 │ 0        │\n",
       "│ 2   │ 0642-01D   │ 2013-05-02 │ 0        │\n",
       "│ 3   │ 0642-01D   │ 2013-05-03 │ 0        │\n",
       "│ 4   │ 0642-01D   │ 2013-05-04 │ 0        │\n",
       "│ 5   │ 0642-01D   │ 2013-05-05 │ 0        │\n",
       "│ 6   │ 0642-01D   │ 2013-05-06 │ 0        │\n",
       "│ 7   │ 0642-01D   │ 2013-05-07 │ 0        │\n",
       "│ 8   │ 0642-01D   │ 2013-05-08 │ 0        │\n",
       "│ 9   │ 0642-01D   │ 2013-05-09 │ 0        │\n",
       "│ 10  │ 0642-01D   │ 2013-05-10 │ 0        │"
      ]
     },
     "execution_count": 32,
     "metadata": {},
     "output_type": "execute_result"
    }
   ],
   "source": [
    "labels = dropmissing(labels, disallowmissing=true)\n",
    "rename!(labels, :NO_OUVRAGE => :ID_OUVRAGE)\n",
    "first(labels,10)"
   ]
  },
  {
   "cell_type": "code",
   "execution_count": 33,
   "metadata": {},
   "outputs": [
    {
     "data": {
      "text/plain": [
       "161098"
      ]
     },
     "execution_count": 33,
     "metadata": {},
     "output_type": "execute_result"
    }
   ],
   "source": [
    "nrow(labels)"
   ]
  },
  {
   "cell_type": "markdown",
   "metadata": {},
   "source": [
    "### Load features"
   ]
  },
  {
   "cell_type": "code",
   "execution_count": 28,
   "metadata": {},
   "outputs": [
    {
     "data": {
      "text/html": [
       "<table class=\"data-frame\"><thead><tr><th></th><th>ID_OUVRAGE</th><th>TP_LAT</th><th>TP_LNG</th></tr><tr><th></th><th>String</th><th>Float64</th><th>Float64</th></tr></thead><tbody><p>10 rows × 3 columns</p><tr><th>1</th><td>0642-01D</td><td>45.6727</td><td>-73.5262</td></tr><tr><th>2</th><td>0672-01D</td><td>45.6823</td><td>-73.531</td></tr><tr><th>3</th><td>0672-02D</td><td>45.6939</td><td>-73.5214</td></tr><tr><th>4</th><td>0672-03D</td><td>45.6732</td><td>-73.5402</td></tr><tr><th>5</th><td>0801-01D</td><td>45.519</td><td>-73.5275</td></tr><tr><th>6</th><td>0801-02D</td><td>45.5174</td><td>-73.5281</td></tr><tr><th>7</th><td>0801-03D</td><td>45.5081</td><td>-73.5273</td></tr><tr><th>8</th><td>0801-04D</td><td>45.5029</td><td>-73.5238</td></tr><tr><th>9</th><td>0801-05D</td><td>45.5173</td><td>-73.5312</td></tr><tr><th>10</th><td>0801-06D</td><td>45.5187</td><td>-73.533</td></tr></tbody></table>"
      ],
      "text/latex": [
       "\\begin{tabular}{r|ccc}\n",
       "\t& ID\\_OUVRAGE & TP\\_LAT & TP\\_LNG\\\\\n",
       "\t\\hline\n",
       "\t& String & Float64 & Float64\\\\\n",
       "\t\\hline\n",
       "\t1 & 0642-01D & 45.6727 & -73.5262 \\\\\n",
       "\t2 & 0672-01D & 45.6823 & -73.531 \\\\\n",
       "\t3 & 0672-02D & 45.6939 & -73.5214 \\\\\n",
       "\t4 & 0672-03D & 45.6732 & -73.5402 \\\\\n",
       "\t5 & 0801-01D & 45.519 & -73.5275 \\\\\n",
       "\t6 & 0801-02D & 45.5174 & -73.5281 \\\\\n",
       "\t7 & 0801-03D & 45.5081 & -73.5273 \\\\\n",
       "\t8 & 0801-04D & 45.5029 & -73.5238 \\\\\n",
       "\t9 & 0801-05D & 45.5173 & -73.5312 \\\\\n",
       "\t10 & 0801-06D & 45.5187 & -73.533 \\\\\n",
       "\\end{tabular}\n"
      ],
      "text/plain": [
       "10×3 DataFrame\n",
       "│ Row │ ID_OUVRAGE │ TP_LAT  │ TP_LNG   │\n",
       "│     │ \u001b[90mString\u001b[39m     │ \u001b[90mFloat64\u001b[39m │ \u001b[90mFloat64\u001b[39m  │\n",
       "├─────┼────────────┼─────────┼──────────┤\n",
       "│ 1   │ 0642-01D   │ 45.6727 │ -73.5262 │\n",
       "│ 2   │ 0672-01D   │ 45.6823 │ -73.531  │\n",
       "│ 3   │ 0672-02D   │ 45.6939 │ -73.5214 │\n",
       "│ 4   │ 0672-03D   │ 45.6732 │ -73.5402 │\n",
       "│ 5   │ 0801-01D   │ 45.519  │ -73.5275 │\n",
       "│ 6   │ 0801-02D   │ 45.5174 │ -73.5281 │\n",
       "│ 7   │ 0801-03D   │ 45.5081 │ -73.5273 │\n",
       "│ 8   │ 0801-04D   │ 45.5029 │ -73.5238 │\n",
       "│ 9   │ 0801-05D   │ 45.5173 │ -73.5312 │\n",
       "│ 10  │ 0801-06D   │ 45.5187 │ -73.533  │"
      ]
     },
     "execution_count": 28,
     "metadata": {},
     "output_type": "execute_result"
    }
   ],
   "source": [
    "features = CSV.read(\"data/ouvrages-surverses.csv\")\n",
    "colnames = [\"N_Env\", \"ID_SOMA\", \"ID_OUVRAGE\", \"NOM\", \"SOMA_SEC\", \"REGION\", \"TP_X\", \"TP_Y\", \"TP_Z\", \"TP_LAT\", \"TP_LNG\", \"EMI_X\", \"EMI_Y\", \"EMI_LNG\", \"EMI_LAT\"]\n",
    "names!(features, Symbol.(colnames))\n",
    "select!(features, [:ID_OUVRAGE, :TP_LAT, :TP_LNG])\n",
    "first(features, 10)"
   ]
  },
  {
   "cell_type": "code",
   "execution_count": 56,
   "metadata": {},
   "outputs": [
    {
     "data": {
      "text/html": [
       "<table class=\"data-frame\"><thead><tr><th></th><th>ID_OUVRAGE</th><th>TP_LAT</th><th>TP_LNG</th><th>DATE</th><th>SURVERSE</th></tr><tr><th></th><th>String</th><th>Float64</th><th>Float64</th><th>Date</th><th>Int64</th></tr></thead><tbody><p>10 rows × 5 columns</p><tr><th>1</th><td>0642-01D</td><td>45.6727</td><td>-73.5262</td><td>2013-05-01</td><td>0</td></tr><tr><th>2</th><td>0642-01D</td><td>45.6727</td><td>-73.5262</td><td>2013-05-02</td><td>0</td></tr><tr><th>3</th><td>0642-01D</td><td>45.6727</td><td>-73.5262</td><td>2013-05-03</td><td>0</td></tr><tr><th>4</th><td>0642-01D</td><td>45.6727</td><td>-73.5262</td><td>2013-05-04</td><td>0</td></tr><tr><th>5</th><td>0642-01D</td><td>45.6727</td><td>-73.5262</td><td>2013-05-05</td><td>0</td></tr><tr><th>6</th><td>0642-01D</td><td>45.6727</td><td>-73.5262</td><td>2013-05-06</td><td>0</td></tr><tr><th>7</th><td>0642-01D</td><td>45.6727</td><td>-73.5262</td><td>2013-05-07</td><td>0</td></tr><tr><th>8</th><td>0642-01D</td><td>45.6727</td><td>-73.5262</td><td>2013-05-08</td><td>0</td></tr><tr><th>9</th><td>0642-01D</td><td>45.6727</td><td>-73.5262</td><td>2013-05-09</td><td>0</td></tr><tr><th>10</th><td>0642-01D</td><td>45.6727</td><td>-73.5262</td><td>2013-05-10</td><td>0</td></tr></tbody></table>"
      ],
      "text/latex": [
       "\\begin{tabular}{r|ccccc}\n",
       "\t& ID\\_OUVRAGE & TP\\_LAT & TP\\_LNG & DATE & SURVERSE\\\\\n",
       "\t\\hline\n",
       "\t& String & Float64 & Float64 & Date & Int64\\\\\n",
       "\t\\hline\n",
       "\t1 & 0642-01D & 45.6727 & -73.5262 & 2013-05-01 & 0 \\\\\n",
       "\t2 & 0642-01D & 45.6727 & -73.5262 & 2013-05-02 & 0 \\\\\n",
       "\t3 & 0642-01D & 45.6727 & -73.5262 & 2013-05-03 & 0 \\\\\n",
       "\t4 & 0642-01D & 45.6727 & -73.5262 & 2013-05-04 & 0 \\\\\n",
       "\t5 & 0642-01D & 45.6727 & -73.5262 & 2013-05-05 & 0 \\\\\n",
       "\t6 & 0642-01D & 45.6727 & -73.5262 & 2013-05-06 & 0 \\\\\n",
       "\t7 & 0642-01D & 45.6727 & -73.5262 & 2013-05-07 & 0 \\\\\n",
       "\t8 & 0642-01D & 45.6727 & -73.5262 & 2013-05-08 & 0 \\\\\n",
       "\t9 & 0642-01D & 45.6727 & -73.5262 & 2013-05-09 & 0 \\\\\n",
       "\t10 & 0642-01D & 45.6727 & -73.5262 & 2013-05-10 & 0 \\\\\n",
       "\\end{tabular}\n"
      ],
      "text/plain": [
       "10×5 DataFrame\n",
       "│ Row │ ID_OUVRAGE │ TP_LAT  │ TP_LNG   │ DATE       │ SURVERSE │\n",
       "│     │ \u001b[90mString\u001b[39m     │ \u001b[90mFloat64\u001b[39m │ \u001b[90mFloat64\u001b[39m  │ \u001b[90mDate\u001b[39m       │ \u001b[90mInt64\u001b[39m    │\n",
       "├─────┼────────────┼─────────┼──────────┼────────────┼──────────┤\n",
       "│ 1   │ 0642-01D   │ 45.6727 │ -73.5262 │ 2013-05-01 │ 0        │\n",
       "│ 2   │ 0642-01D   │ 45.6727 │ -73.5262 │ 2013-05-02 │ 0        │\n",
       "│ 3   │ 0642-01D   │ 45.6727 │ -73.5262 │ 2013-05-03 │ 0        │\n",
       "│ 4   │ 0642-01D   │ 45.6727 │ -73.5262 │ 2013-05-04 │ 0        │\n",
       "│ 5   │ 0642-01D   │ 45.6727 │ -73.5262 │ 2013-05-05 │ 0        │\n",
       "│ 6   │ 0642-01D   │ 45.6727 │ -73.5262 │ 2013-05-06 │ 0        │\n",
       "│ 7   │ 0642-01D   │ 45.6727 │ -73.5262 │ 2013-05-07 │ 0        │\n",
       "│ 8   │ 0642-01D   │ 45.6727 │ -73.5262 │ 2013-05-08 │ 0        │\n",
       "│ 9   │ 0642-01D   │ 45.6727 │ -73.5262 │ 2013-05-09 │ 0        │\n",
       "│ 10  │ 0642-01D   │ 45.6727 │ -73.5262 │ 2013-05-10 │ 0        │"
      ]
     },
     "execution_count": 56,
     "metadata": {},
     "output_type": "execute_result"
    }
   ],
   "source": [
    "comb = join(features, labels, on = :ID_OUVRAGE)\n",
    "first(comb, 10)"
   ]
  },
  {
   "cell_type": "markdown",
   "metadata": {},
   "source": [
    "#### Test avec un random sample"
   ]
  },
  {
   "cell_type": "code",
   "execution_count": 55,
   "metadata": {},
   "outputs": [
    {
     "data": {
      "text/html": [
       "<table class=\"data-frame\"><thead><tr><th></th><th>ID_OUVRAGE</th><th>DATE</th><th>TP_LAT</th><th>TP_LNG</th><th>SURVERSE</th></tr><tr><th></th><th>String</th><th>Date</th><th>Float64</th><th>Float64</th><th>Int64</th></tr></thead><tbody><p>20 rows × 5 columns</p><tr><th>1</th><td>4400-01D</td><td>2013-05-02</td><td>45.4586</td><td>-73.5621</td><td>0</td></tr><tr><th>2</th><td>4610-06D</td><td>2017-07-27</td><td>45.4305</td><td>-73.8563</td><td>0</td></tr><tr><th>3</th><td>3490-02D</td><td>2014-07-18</td><td>45.5054</td><td>-73.8061</td><td>0</td></tr><tr><th>4</th><td>4280-02D</td><td>2015-09-18</td><td>45.5986</td><td>-73.5102</td><td>0</td></tr><tr><th>5</th><td>4790-01D</td><td>2018-05-05</td><td>45.4891</td><td>-73.5419</td><td>0</td></tr><tr><th>6</th><td>3350-04D</td><td>2017-10-10</td><td>45.5761</td><td>-73.6603</td><td>0</td></tr><tr><th>7</th><td>0642-01D</td><td>2018-09-16</td><td>45.6727</td><td>-73.5262</td><td>0</td></tr><tr><th>8</th><td>3762-01D</td><td>2013-08-25</td><td>45.5764</td><td>-73.6619</td><td>0</td></tr><tr><th>9</th><td>4790-01D</td><td>2015-09-09</td><td>45.4891</td><td>-73.5419</td><td>0</td></tr><tr><th>10</th><td>4710-01D</td><td>2015-06-23</td><td>45.6976</td><td>-73.4968</td><td>0</td></tr><tr><th>11</th><td>4270-02D</td><td>2015-05-01</td><td>45.6112</td><td>-73.5084</td><td>0</td></tr><tr><th>12</th><td>4600-01D</td><td>2013-07-19</td><td>45.4299</td><td>-73.8224</td><td>0</td></tr><tr><th>13</th><td>3350-09D</td><td>2018-07-27</td><td>45.5371</td><td>-73.713</td><td>0</td></tr><tr><th>14</th><td>4340-03D</td><td>2016-06-02</td><td>45.5207</td><td>-73.5481</td><td>0</td></tr><tr><th>15</th><td>4620-01D</td><td>2013-07-04</td><td>45.4156</td><td>-73.885</td><td>0</td></tr><tr><th>16</th><td>4600-03D</td><td>2016-07-01</td><td>45.4364</td><td>-73.8226</td><td>0</td></tr><tr><th>17</th><td>4280-01D</td><td>2017-07-16</td><td>45.6009</td><td>-73.5111</td><td>0</td></tr><tr><th>18</th><td>3240-02D</td><td>2018-09-03</td><td>45.6644</td><td>-73.5605</td><td>0</td></tr><tr><th>19</th><td>0801-08D</td><td>2018-09-06</td><td>45.5194</td><td>-73.5372</td><td>0</td></tr><tr><th>20</th><td>3490-01D</td><td>2016-09-27</td><td>45.5067</td><td>-73.8082</td><td>0</td></tr></tbody></table>"
      ],
      "text/latex": [
       "\\begin{tabular}{r|ccccc}\n",
       "\t& ID\\_OUVRAGE & DATE & TP\\_LAT & TP\\_LNG & SURVERSE\\\\\n",
       "\t\\hline\n",
       "\t& String & Date & Float64 & Float64 & Int64\\\\\n",
       "\t\\hline\n",
       "\t1 & 4400-01D & 2013-05-02 & 45.4586 & -73.5621 & 0 \\\\\n",
       "\t2 & 4610-06D & 2017-07-27 & 45.4305 & -73.8563 & 0 \\\\\n",
       "\t3 & 3490-02D & 2014-07-18 & 45.5054 & -73.8061 & 0 \\\\\n",
       "\t4 & 4280-02D & 2015-09-18 & 45.5986 & -73.5102 & 0 \\\\\n",
       "\t5 & 4790-01D & 2018-05-05 & 45.4891 & -73.5419 & 0 \\\\\n",
       "\t6 & 3350-04D & 2017-10-10 & 45.5761 & -73.6603 & 0 \\\\\n",
       "\t7 & 0642-01D & 2018-09-16 & 45.6727 & -73.5262 & 0 \\\\\n",
       "\t8 & 3762-01D & 2013-08-25 & 45.5764 & -73.6619 & 0 \\\\\n",
       "\t9 & 4790-01D & 2015-09-09 & 45.4891 & -73.5419 & 0 \\\\\n",
       "\t10 & 4710-01D & 2015-06-23 & 45.6976 & -73.4968 & 0 \\\\\n",
       "\t11 & 4270-02D & 2015-05-01 & 45.6112 & -73.5084 & 0 \\\\\n",
       "\t12 & 4600-01D & 2013-07-19 & 45.4299 & -73.8224 & 0 \\\\\n",
       "\t13 & 3350-09D & 2018-07-27 & 45.5371 & -73.713 & 0 \\\\\n",
       "\t14 & 4340-03D & 2016-06-02 & 45.5207 & -73.5481 & 0 \\\\\n",
       "\t15 & 4620-01D & 2013-07-04 & 45.4156 & -73.885 & 0 \\\\\n",
       "\t16 & 4600-03D & 2016-07-01 & 45.4364 & -73.8226 & 0 \\\\\n",
       "\t17 & 4280-01D & 2017-07-16 & 45.6009 & -73.5111 & 0 \\\\\n",
       "\t18 & 3240-02D & 2018-09-03 & 45.6644 & -73.5605 & 0 \\\\\n",
       "\t19 & 0801-08D & 2018-09-06 & 45.5194 & -73.5372 & 0 \\\\\n",
       "\t20 & 3490-01D & 2016-09-27 & 45.5067 & -73.8082 & 0 \\\\\n",
       "\\end{tabular}\n"
      ],
      "text/plain": [
       "20×5 DataFrame\n",
       "│ Row │ ID_OUVRAGE │ DATE       │ TP_LAT  │ TP_LNG   │ SURVERSE │\n",
       "│     │ \u001b[90mString\u001b[39m     │ \u001b[90mDate\u001b[39m       │ \u001b[90mFloat64\u001b[39m │ \u001b[90mFloat64\u001b[39m  │ \u001b[90mInt64\u001b[39m    │\n",
       "├─────┼────────────┼────────────┼─────────┼──────────┼──────────┤\n",
       "│ 1   │ 4400-01D   │ 2013-05-02 │ 45.4586 │ -73.5621 │ 0        │\n",
       "│ 2   │ 4610-06D   │ 2017-07-27 │ 45.4305 │ -73.8563 │ 0        │\n",
       "│ 3   │ 3490-02D   │ 2014-07-18 │ 45.5054 │ -73.8061 │ 0        │\n",
       "│ 4   │ 4280-02D   │ 2015-09-18 │ 45.5986 │ -73.5102 │ 0        │\n",
       "│ 5   │ 4790-01D   │ 2018-05-05 │ 45.4891 │ -73.5419 │ 0        │\n",
       "│ 6   │ 3350-04D   │ 2017-10-10 │ 45.5761 │ -73.6603 │ 0        │\n",
       "│ 7   │ 0642-01D   │ 2018-09-16 │ 45.6727 │ -73.5262 │ 0        │\n",
       "│ 8   │ 3762-01D   │ 2013-08-25 │ 45.5764 │ -73.6619 │ 0        │\n",
       "│ 9   │ 4790-01D   │ 2015-09-09 │ 45.4891 │ -73.5419 │ 0        │\n",
       "│ 10  │ 4710-01D   │ 2015-06-23 │ 45.6976 │ -73.4968 │ 0        │\n",
       "│ 11  │ 4270-02D   │ 2015-05-01 │ 45.6112 │ -73.5084 │ 0        │\n",
       "│ 12  │ 4600-01D   │ 2013-07-19 │ 45.4299 │ -73.8224 │ 0        │\n",
       "│ 13  │ 3350-09D   │ 2018-07-27 │ 45.5371 │ -73.713  │ 0        │\n",
       "│ 14  │ 4340-03D   │ 2016-06-02 │ 45.5207 │ -73.5481 │ 0        │\n",
       "│ 15  │ 4620-01D   │ 2013-07-04 │ 45.4156 │ -73.885  │ 0        │\n",
       "│ 16  │ 4600-03D   │ 2016-07-01 │ 45.4364 │ -73.8226 │ 0        │\n",
       "│ 17  │ 4280-01D   │ 2017-07-16 │ 45.6009 │ -73.5111 │ 0        │\n",
       "│ 18  │ 3240-02D   │ 2018-09-03 │ 45.6644 │ -73.5605 │ 0        │\n",
       "│ 19  │ 0801-08D   │ 2018-09-06 │ 45.5194 │ -73.5372 │ 0        │\n",
       "│ 20  │ 3490-01D   │ 2016-09-27 │ 45.5067 │ -73.8082 │ 0        │"
      ]
     },
     "execution_count": 55,
     "metadata": {},
     "output_type": "execute_result"
    }
   ],
   "source": [
    "sample_test = comb[shuffle(1:size(comb, 1)),:]\n",
    "sample_test = sample_test[!, [:ID_OUVRAGE, :DATE, :TP_LAT, :TP_LNG, :SURVERSE]]\n",
    "first(sample_test, 20)"
   ]
  },
  {
   "cell_type": "markdown",
   "metadata": {},
   "source": [
    "#### Création des features et labels pour decision tree"
   ]
  },
  {
   "cell_type": "code",
   "execution_count": 110,
   "metadata": {},
   "outputs": [],
   "source": [
    "function dateToDay(dt)::Float64 \n",
    "    return year(dt) * 365 + month(dt) * 30 + day(dt);\n",
    "end;    "
   ]
  },
  {
   "cell_type": "code",
   "execution_count": 115,
   "metadata": {},
   "outputs": [],
   "source": [
    "dates = comb[:, [:DATE]];\n",
    "# first(dates, 5);\n",
    "n = nrow(dates)\n",
    "days = zeros(n)\n",
    "for i in 1:n\n",
    "    days[i] = dateToDay(dates[i, 1])\n",
    "end"
   ]
  },
  {
   "cell_type": "code",
   "execution_count": 117,
   "metadata": {},
   "outputs": [
    {
     "data": {
      "text/plain": [
       "21×3 Array{Float64,2}:\n",
       " 734905.0  45.6727  -73.5262\n",
       " 734906.0  45.6727  -73.5262\n",
       " 734907.0  45.6727  -73.5262\n",
       " 734908.0  45.6727  -73.5262\n",
       " 734909.0  45.6727  -73.5262\n",
       " 734910.0  45.6727  -73.5262\n",
       " 734911.0  45.6727  -73.5262\n",
       " 734912.0  45.6727  -73.5262\n",
       " 734913.0  45.6727  -73.5262\n",
       " 734914.0  45.6727  -73.5262\n",
       " 734915.0  45.6727  -73.5262\n",
       " 734916.0  45.6727  -73.5262\n",
       " 734917.0  45.6727  -73.5262\n",
       " 734918.0  45.6727  -73.5262\n",
       " 734919.0  45.6727  -73.5262\n",
       " 734920.0  45.6727  -73.5262\n",
       " 734921.0  45.6727  -73.5262\n",
       " 734922.0  45.6727  -73.5262\n",
       " 734923.0  45.6727  -73.5262\n",
       " 734924.0  45.6727  -73.5262\n",
       " 734925.0  45.6727  -73.5262"
      ]
     },
     "execution_count": 117,
     "metadata": {},
     "output_type": "execute_result"
    }
   ],
   "source": [
    "lbl = comb[:, :SURVERSE];\n",
    "ftr = convert(Matrix{Float64},comb[:, [:TP_LAT, :TP_LNG]]);\n",
    "ftr = hcat(days, ftr)\n",
    "ftr[10:30, :]"
   ]
  },
  {
   "cell_type": "markdown",
   "metadata": {},
   "source": [
    "#### Test Decision Tree"
   ]
  },
  {
   "cell_type": "code",
   "execution_count": 118,
   "metadata": {},
   "outputs": [
    {
     "data": {
      "text/plain": [
       "Decision Tree\n",
       "Leaves: 6398\n",
       "Depth:  57"
      ]
     },
     "execution_count": 118,
     "metadata": {},
     "output_type": "execute_result"
    }
   ],
   "source": [
    "model = build_tree(lbl,ftr)"
   ]
  },
  {
   "cell_type": "code",
   "execution_count": 126,
   "metadata": {},
   "outputs": [
    {
     "data": {
      "text/plain": [
       "Decision Tree\n",
       "Leaves: 5419\n",
       "Depth:  57"
      ]
     },
     "execution_count": 126,
     "metadata": {},
     "output_type": "execute_result"
    }
   ],
   "source": [
    "modelp = prune_tree(model,.80)"
   ]
  },
  {
   "cell_type": "code",
   "execution_count": 121,
   "metadata": {},
   "outputs": [
    {
     "name": "stdout",
     "output_type": "stream",
     "text": [
      "Feature 3, Threshold -73.74178122771505\n",
      "L-> Feature 2, Threshold 45.4737306942081\n",
      "    L-> Feature 1, Threshold 736095.5\n",
      "        L-> Feature 2, Threshold 45.4687971888686\n",
      "            L-> 0 : 11706/11707\n",
      "            R-> \n",
      "        R-> Feature 1, Threshold 736097.5\n",
      "            L-> \n",
      "            R-> \n",
      "    R-> Feature 3, Threshold -73.8706960818827\n",
      "        L-> Feature 1, Threshold 736796.5\n",
      "            L-> \n",
      "            R-> \n",
      "        R-> Feature 3, Threshold -73.8338415477965\n",
      "            L-> \n",
      "            R-> \n",
      "R-> Feature 2, Threshold 45.5734029500813\n",
      "    L-> Feature 2, Threshold 45.5165318661206\n",
      "        L-> Feature 2, Threshold 45.417339872290555\n",
      "            L-> 0 : 2208/2208\n",
      "            R-> \n",
      "        R-> Feature 2, Threshold 45.51732069240945\n",
      "            L-> \n",
      "            R-> \n",
      "    R-> Feature 2, Threshold 45.69829916479875\n",
      "        L-> Feature 2, Threshold 45.6589170358007\n",
      "            L-> \n",
      "            R-> \n",
      "        R-> Feature 1, Threshold 736101.5\n",
      "            L-> \n",
      "            R-> \n"
     ]
    }
   ],
   "source": [
    "print_tree(modelp,4)"
   ]
  },
  {
   "cell_type": "markdown",
   "metadata": {},
   "source": [
    "### Prediction"
   ]
  },
  {
   "cell_type": "markdown",
   "metadata": {},
   "source": [
    "#### Load data"
   ]
  },
  {
   "cell_type": "code",
   "execution_count": 130,
   "metadata": {},
   "outputs": [
    {
     "data": {
      "text/html": [
       "<table class=\"data-frame\"><thead><tr><th></th><th>ID_OUVRAGE</th><th>DATE</th></tr><tr><th></th><th>String</th><th>Date</th></tr></thead><tbody><p>10 rows × 2 columns</p><tr><th>1</th><td>3260-01D</td><td>2019-05-02</td></tr><tr><th>2</th><td>3260-01D</td><td>2019-05-09</td></tr><tr><th>3</th><td>3260-01D</td><td>2019-05-10</td></tr><tr><th>4</th><td>3260-01D</td><td>2019-05-15</td></tr><tr><th>5</th><td>3260-01D</td><td>2019-05-20</td></tr><tr><th>6</th><td>3260-01D</td><td>2019-05-23</td></tr><tr><th>7</th><td>3260-01D</td><td>2019-05-24</td></tr><tr><th>8</th><td>3260-01D</td><td>2019-05-26</td></tr><tr><th>9</th><td>3260-01D</td><td>2019-05-30</td></tr><tr><th>10</th><td>3350-07D</td><td>2019-05-01</td></tr></tbody></table>"
      ],
      "text/latex": [
       "\\begin{tabular}{r|cc}\n",
       "\t& ID\\_OUVRAGE & DATE\\\\\n",
       "\t\\hline\n",
       "\t& String & Date\\\\\n",
       "\t\\hline\n",
       "\t1 & 3260-01D & 2019-05-02 \\\\\n",
       "\t2 & 3260-01D & 2019-05-09 \\\\\n",
       "\t3 & 3260-01D & 2019-05-10 \\\\\n",
       "\t4 & 3260-01D & 2019-05-15 \\\\\n",
       "\t5 & 3260-01D & 2019-05-20 \\\\\n",
       "\t6 & 3260-01D & 2019-05-23 \\\\\n",
       "\t7 & 3260-01D & 2019-05-24 \\\\\n",
       "\t8 & 3260-01D & 2019-05-26 \\\\\n",
       "\t9 & 3260-01D & 2019-05-30 \\\\\n",
       "\t10 & 3350-07D & 2019-05-01 \\\\\n",
       "\\end{tabular}\n"
      ],
      "text/plain": [
       "10×2 DataFrame\n",
       "│ Row │ ID_OUVRAGE │ DATE       │\n",
       "│     │ \u001b[90mString\u001b[39m     │ \u001b[90mDate\u001b[39m       │\n",
       "├─────┼────────────┼────────────┤\n",
       "│ 1   │ 3260-01D   │ 2019-05-02 │\n",
       "│ 2   │ 3260-01D   │ 2019-05-09 │\n",
       "│ 3   │ 3260-01D   │ 2019-05-10 │\n",
       "│ 4   │ 3260-01D   │ 2019-05-15 │\n",
       "│ 5   │ 3260-01D   │ 2019-05-20 │\n",
       "│ 6   │ 3260-01D   │ 2019-05-23 │\n",
       "│ 7   │ 3260-01D   │ 2019-05-24 │\n",
       "│ 8   │ 3260-01D   │ 2019-05-26 │\n",
       "│ 9   │ 3260-01D   │ 2019-05-30 │\n",
       "│ 10  │ 3350-07D   │ 2019-05-01 │"
      ]
     },
     "execution_count": 130,
     "metadata": {},
     "output_type": "execute_result"
    }
   ],
   "source": [
    "test = CSV.read(\"data/test.csv\")\n",
    "rename!(test, :NO_OUVRAGE => :ID_OUVRAGE)\n",
    "first(test, 10)"
   ]
  },
  {
   "cell_type": "markdown",
   "metadata": {},
   "source": [
    "#### Augment with lat long"
   ]
  },
  {
   "cell_type": "code",
   "execution_count": 142,
   "metadata": {},
   "outputs": [
    {
     "data": {
      "text/html": [
       "<table class=\"data-frame\"><thead><tr><th></th><th>ID_OUVRAGE</th><th>DATE</th><th>TP_LAT</th><th>TP_LNG</th></tr><tr><th></th><th>String</th><th>Date</th><th>Float64</th><th>Float64</th></tr></thead><tbody><p>10 rows × 4 columns</p><tr><th>1</th><td>3260-01D</td><td>2019-05-02</td><td>45.6507</td><td>-73.5803</td></tr><tr><th>2</th><td>3260-01D</td><td>2019-05-09</td><td>45.6507</td><td>-73.5803</td></tr><tr><th>3</th><td>3260-01D</td><td>2019-05-10</td><td>45.6507</td><td>-73.5803</td></tr><tr><th>4</th><td>3260-01D</td><td>2019-05-15</td><td>45.6507</td><td>-73.5803</td></tr><tr><th>5</th><td>3260-01D</td><td>2019-05-20</td><td>45.6507</td><td>-73.5803</td></tr><tr><th>6</th><td>3260-01D</td><td>2019-05-23</td><td>45.6507</td><td>-73.5803</td></tr><tr><th>7</th><td>3260-01D</td><td>2019-05-24</td><td>45.6507</td><td>-73.5803</td></tr><tr><th>8</th><td>3260-01D</td><td>2019-05-26</td><td>45.6507</td><td>-73.5803</td></tr><tr><th>9</th><td>3260-01D</td><td>2019-05-30</td><td>45.6507</td><td>-73.5803</td></tr><tr><th>10</th><td>3350-07D</td><td>2019-05-01</td><td>45.5461</td><td>-73.6921</td></tr></tbody></table>"
      ],
      "text/latex": [
       "\\begin{tabular}{r|cccc}\n",
       "\t& ID\\_OUVRAGE & DATE & TP\\_LAT & TP\\_LNG\\\\\n",
       "\t\\hline\n",
       "\t& String & Date & Float64 & Float64\\\\\n",
       "\t\\hline\n",
       "\t1 & 3260-01D & 2019-05-02 & 45.6507 & -73.5803 \\\\\n",
       "\t2 & 3260-01D & 2019-05-09 & 45.6507 & -73.5803 \\\\\n",
       "\t3 & 3260-01D & 2019-05-10 & 45.6507 & -73.5803 \\\\\n",
       "\t4 & 3260-01D & 2019-05-15 & 45.6507 & -73.5803 \\\\\n",
       "\t5 & 3260-01D & 2019-05-20 & 45.6507 & -73.5803 \\\\\n",
       "\t6 & 3260-01D & 2019-05-23 & 45.6507 & -73.5803 \\\\\n",
       "\t7 & 3260-01D & 2019-05-24 & 45.6507 & -73.5803 \\\\\n",
       "\t8 & 3260-01D & 2019-05-26 & 45.6507 & -73.5803 \\\\\n",
       "\t9 & 3260-01D & 2019-05-30 & 45.6507 & -73.5803 \\\\\n",
       "\t10 & 3350-07D & 2019-05-01 & 45.5461 & -73.6921 \\\\\n",
       "\\end{tabular}\n"
      ],
      "text/plain": [
       "10×4 DataFrame\n",
       "│ Row │ ID_OUVRAGE │ DATE       │ TP_LAT  │ TP_LNG   │\n",
       "│     │ \u001b[90mString\u001b[39m     │ \u001b[90mDate\u001b[39m       │ \u001b[90mFloat64\u001b[39m │ \u001b[90mFloat64\u001b[39m  │\n",
       "├─────┼────────────┼────────────┼─────────┼──────────┤\n",
       "│ 1   │ 3260-01D   │ 2019-05-02 │ 45.6507 │ -73.5803 │\n",
       "│ 2   │ 3260-01D   │ 2019-05-09 │ 45.6507 │ -73.5803 │\n",
       "│ 3   │ 3260-01D   │ 2019-05-10 │ 45.6507 │ -73.5803 │\n",
       "│ 4   │ 3260-01D   │ 2019-05-15 │ 45.6507 │ -73.5803 │\n",
       "│ 5   │ 3260-01D   │ 2019-05-20 │ 45.6507 │ -73.5803 │\n",
       "│ 6   │ 3260-01D   │ 2019-05-23 │ 45.6507 │ -73.5803 │\n",
       "│ 7   │ 3260-01D   │ 2019-05-24 │ 45.6507 │ -73.5803 │\n",
       "│ 8   │ 3260-01D   │ 2019-05-26 │ 45.6507 │ -73.5803 │\n",
       "│ 9   │ 3260-01D   │ 2019-05-30 │ 45.6507 │ -73.5803 │\n",
       "│ 10  │ 3350-07D   │ 2019-05-01 │ 45.5461 │ -73.6921 │"
      ]
     },
     "execution_count": 142,
     "metadata": {},
     "output_type": "execute_result"
    }
   ],
   "source": [
    "test_comb = join(test, features, on = :ID_OUVRAGE)\n",
    "\n",
    "first(test_comb, 10)"
   ]
  },
  {
   "cell_type": "markdown",
   "metadata": {},
   "source": [
    "#### Get test_comb as array for prediction"
   ]
  },
  {
   "cell_type": "code",
   "execution_count": 154,
   "metadata": {},
   "outputs": [
    {
     "data": {
      "text/plain": [
       "20-element Array{Float64,1}:\n",
       " 737087.0\n",
       " 737094.0\n",
       " 737095.0\n",
       " 737100.0\n",
       " 737105.0\n",
       " 737108.0\n",
       " 737109.0\n",
       " 737111.0\n",
       " 737115.0\n",
       " 737086.0\n",
       " 737087.0\n",
       " 737093.0\n",
       " 737094.0\n",
       " 737095.0\n",
       " 737096.0\n",
       " 737098.0\n",
       " 737099.0\n",
       " 737103.0\n",
       " 737104.0\n",
       " 737105.0"
      ]
     },
     "execution_count": 154,
     "metadata": {},
     "output_type": "execute_result"
    }
   ],
   "source": [
    "dates_t = test_comb[:, [:DATE]];\n",
    "first(dates_t, 5)\n",
    "nt = nrow(dates_t)\n",
    "days_t = zeros(nt)\n",
    "for i in 1:nt\n",
    "    days_t[i] = dateToDay(dates_t[i, 1])\n",
    "end\n",
    "\n",
    "days_t[1:20]"
   ]
  },
  {
   "cell_type": "code",
   "execution_count": 158,
   "metadata": {},
   "outputs": [
    {
     "data": {
      "text/plain": [
       "(283, 3)"
      ]
     },
     "execution_count": 158,
     "metadata": {},
     "output_type": "execute_result"
    }
   ],
   "source": [
    "ftr_t = convert(Matrix{Float64},test_comb[:, [:TP_LAT, :TP_LNG]]);\n",
    "ftr_t = hcat(days_t, ftr_t)\n",
    "size(ftr_t)"
   ]
  },
  {
   "cell_type": "code",
   "execution_count": 160,
   "metadata": {},
   "outputs": [
    {
     "data": {
      "text/plain": [
       "283-element Array{Int64,1}:\n",
       " 0\n",
       " 0\n",
       " 0\n",
       " 0\n",
       " 0\n",
       " 0\n",
       " 0\n",
       " 0\n",
       " 0\n",
       " 1\n",
       " 1\n",
       " 1\n",
       " 1\n",
       " ⋮\n",
       " 0\n",
       " 0\n",
       " 0\n",
       " 0\n",
       " 0\n",
       " 0\n",
       " 0\n",
       " 0\n",
       " 0\n",
       " 0\n",
       " 0\n",
       " 0"
      ]
     },
     "execution_count": 160,
     "metadata": {},
     "output_type": "execute_result"
    }
   ],
   "source": [
    "res_t = apply_tree(modelp, ftr_t)"
   ]
  },
  {
   "cell_type": "markdown",
   "metadata": {},
   "source": [
    "### Prepare for submission"
   ]
  },
  {
   "cell_type": "code",
   "execution_count": 162,
   "metadata": {},
   "outputs": [
    {
     "data": {
      "text/plain": [
       "\"sampleSubmission.csv\""
      ]
     },
     "execution_count": 162,
     "metadata": {},
     "output_type": "execute_result"
    }
   ],
   "source": [
    "ID = test_comb[:,:ID_OUVRAGE].*\"_\".*string.(test_comb[:,:DATE])\n",
    "sampleSubmission = DataFrame(ID = ID, Surverse=res_t)\n",
    "CSV.write(\"sampleSubmission.csv\",sampleSubmission)"
   ]
  }
 ],
 "metadata": {
  "kernelspec": {
   "display_name": "Julia 1.2.0",
   "language": "julia",
   "name": "julia-1.2"
  },
  "language_info": {
   "file_extension": ".jl",
   "mimetype": "application/julia",
   "name": "julia",
   "version": "1.0.5"
  }
 },
 "nbformat": 4,
 "nbformat_minor": 2
}
