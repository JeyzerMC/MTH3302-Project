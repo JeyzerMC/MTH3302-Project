{
 "cells": [
  {
   "cell_type": "markdown",
   "metadata": {},
   "source": [
    "# Forêt aléatoire - Projet final A19"
   ]
  },
  {
   "cell_type": "markdown",
   "metadata": {},
   "source": [
    "#### Importer les librairies"
   ]
  },
  {
   "cell_type": "code",
   "execution_count": 1,
   "metadata": {},
   "outputs": [],
   "source": [
    "using CSV, DataFrames, DecisionTree, Statistics, Dates, Gadfly, Random"
   ]
  },
  {
   "cell_type": "markdown",
   "metadata": {},
   "source": [
    "### Importer les données"
   ]
  },
  {
   "cell_type": "markdown",
   "metadata": {},
   "source": [
    "#### Importer le fichier contenant les labels"
   ]
  },
  {
   "cell_type": "code",
   "execution_count": 24,
   "metadata": {},
   "outputs": [
    {
     "data": {
      "text/html": [
       "<table class=\"data-frame\"><thead><tr><th></th><th>NO_OUVRAGE</th><th>DATE</th><th>SURVERSE</th><th>RAISON</th></tr><tr><th></th><th>String</th><th>Date</th><th>Int64⍰</th><th>String⍰</th></tr></thead><tbody><p>10 rows × 4 columns</p><tr><th>1</th><td>0642-01D</td><td>2013-05-01</td><td>0</td><td>missing</td></tr><tr><th>2</th><td>0642-01D</td><td>2013-05-02</td><td>0</td><td>missing</td></tr><tr><th>3</th><td>0642-01D</td><td>2013-05-03</td><td>0</td><td>missing</td></tr><tr><th>4</th><td>0642-01D</td><td>2013-05-04</td><td>0</td><td>missing</td></tr><tr><th>5</th><td>0642-01D</td><td>2013-05-05</td><td>0</td><td>missing</td></tr><tr><th>6</th><td>0642-01D</td><td>2013-05-06</td><td>0</td><td>missing</td></tr><tr><th>7</th><td>0642-01D</td><td>2013-05-07</td><td>0</td><td>missing</td></tr><tr><th>8</th><td>0642-01D</td><td>2013-05-08</td><td>0</td><td>missing</td></tr><tr><th>9</th><td>0642-01D</td><td>2013-05-09</td><td>0</td><td>missing</td></tr><tr><th>10</th><td>0642-01D</td><td>2013-05-10</td><td>0</td><td>missing</td></tr></tbody></table>"
      ],
      "text/latex": [
       "\\begin{tabular}{r|cccc}\n",
       "\t& NO\\_OUVRAGE & DATE & SURVERSE & RAISON\\\\\n",
       "\t\\hline\n",
       "\t& String & Date & Int64⍰ & String⍰\\\\\n",
       "\t\\hline\n",
       "\t1 & 0642-01D & 2013-05-01 & 0 &  \\\\\n",
       "\t2 & 0642-01D & 2013-05-02 & 0 &  \\\\\n",
       "\t3 & 0642-01D & 2013-05-03 & 0 &  \\\\\n",
       "\t4 & 0642-01D & 2013-05-04 & 0 &  \\\\\n",
       "\t5 & 0642-01D & 2013-05-05 & 0 &  \\\\\n",
       "\t6 & 0642-01D & 2013-05-06 & 0 &  \\\\\n",
       "\t7 & 0642-01D & 2013-05-07 & 0 &  \\\\\n",
       "\t8 & 0642-01D & 2013-05-08 & 0 &  \\\\\n",
       "\t9 & 0642-01D & 2013-05-09 & 0 &  \\\\\n",
       "\t10 & 0642-01D & 2013-05-10 & 0 &  \\\\\n",
       "\\end{tabular}\n"
      ],
      "text/plain": [
       "10×4 DataFrame\n",
       "│ Row │ NO_OUVRAGE │ DATE       │ SURVERSE │ RAISON  │\n",
       "│     │ \u001b[90mString\u001b[39m     │ \u001b[90mDate\u001b[39m       │ \u001b[90mInt64⍰\u001b[39m   │ \u001b[90mString⍰\u001b[39m │\n",
       "├─────┼────────────┼────────────┼──────────┼─────────┤\n",
       "│ 1   │ 0642-01D   │ 2013-05-01 │ 0        │ \u001b[90mmissing\u001b[39m │\n",
       "│ 2   │ 0642-01D   │ 2013-05-02 │ 0        │ \u001b[90mmissing\u001b[39m │\n",
       "│ 3   │ 0642-01D   │ 2013-05-03 │ 0        │ \u001b[90mmissing\u001b[39m │\n",
       "│ 4   │ 0642-01D   │ 2013-05-04 │ 0        │ \u001b[90mmissing\u001b[39m │\n",
       "│ 5   │ 0642-01D   │ 2013-05-05 │ 0        │ \u001b[90mmissing\u001b[39m │\n",
       "│ 6   │ 0642-01D   │ 2013-05-06 │ 0        │ \u001b[90mmissing\u001b[39m │\n",
       "│ 7   │ 0642-01D   │ 2013-05-07 │ 0        │ \u001b[90mmissing\u001b[39m │\n",
       "│ 8   │ 0642-01D   │ 2013-05-08 │ 0        │ \u001b[90mmissing\u001b[39m │\n",
       "│ 9   │ 0642-01D   │ 2013-05-09 │ 0        │ \u001b[90mmissing\u001b[39m │\n",
       "│ 10  │ 0642-01D   │ 2013-05-10 │ 0        │ \u001b[90mmissing\u001b[39m │"
      ]
     },
     "execution_count": 24,
     "metadata": {},
     "output_type": "execute_result"
    }
   ],
   "source": [
    "labels = CSV.read(\"data/surverses.csv\",missingstring=\"-99999\")\n",
    "first(labels, 10)"
   ]
  },
  {
   "cell_type": "markdown",
   "metadata": {},
   "source": [
    "### Filtrage des labels"
   ]
  },
  {
   "cell_type": "markdown",
   "metadata": {},
   "source": [
    "#### Filtrer les mois (Mai à Octobre)"
   ]
  },
  {
   "cell_type": "code",
   "execution_count": 25,
   "metadata": {},
   "outputs": [
    {
     "data": {
      "text/html": [
       "<table class=\"data-frame\"><thead><tr><th></th><th>NO_OUVRAGE</th><th>DATE</th><th>SURVERSE</th><th>RAISON</th></tr><tr><th></th><th>String</th><th>Date</th><th>Int64⍰</th><th>String⍰</th></tr></thead><tbody><p>10 rows × 4 columns</p><tr><th>1</th><td>0642-01D</td><td>2013-05-01</td><td>0</td><td>missing</td></tr><tr><th>2</th><td>0642-01D</td><td>2013-05-02</td><td>0</td><td>missing</td></tr><tr><th>3</th><td>0642-01D</td><td>2013-05-03</td><td>0</td><td>missing</td></tr><tr><th>4</th><td>0642-01D</td><td>2013-05-04</td><td>0</td><td>missing</td></tr><tr><th>5</th><td>0642-01D</td><td>2013-05-05</td><td>0</td><td>missing</td></tr><tr><th>6</th><td>0642-01D</td><td>2013-05-06</td><td>0</td><td>missing</td></tr><tr><th>7</th><td>0642-01D</td><td>2013-05-07</td><td>0</td><td>missing</td></tr><tr><th>8</th><td>0642-01D</td><td>2013-05-08</td><td>0</td><td>missing</td></tr><tr><th>9</th><td>0642-01D</td><td>2013-05-09</td><td>0</td><td>missing</td></tr><tr><th>10</th><td>0642-01D</td><td>2013-05-10</td><td>0</td><td>missing</td></tr></tbody></table>"
      ],
      "text/latex": [
       "\\begin{tabular}{r|cccc}\n",
       "\t& NO\\_OUVRAGE & DATE & SURVERSE & RAISON\\\\\n",
       "\t\\hline\n",
       "\t& String & Date & Int64⍰ & String⍰\\\\\n",
       "\t\\hline\n",
       "\t1 & 0642-01D & 2013-05-01 & 0 &  \\\\\n",
       "\t2 & 0642-01D & 2013-05-02 & 0 &  \\\\\n",
       "\t3 & 0642-01D & 2013-05-03 & 0 &  \\\\\n",
       "\t4 & 0642-01D & 2013-05-04 & 0 &  \\\\\n",
       "\t5 & 0642-01D & 2013-05-05 & 0 &  \\\\\n",
       "\t6 & 0642-01D & 2013-05-06 & 0 &  \\\\\n",
       "\t7 & 0642-01D & 2013-05-07 & 0 &  \\\\\n",
       "\t8 & 0642-01D & 2013-05-08 & 0 &  \\\\\n",
       "\t9 & 0642-01D & 2013-05-09 & 0 &  \\\\\n",
       "\t10 & 0642-01D & 2013-05-10 & 0 &  \\\\\n",
       "\\end{tabular}\n"
      ],
      "text/plain": [
       "10×4 DataFrame\n",
       "│ Row │ NO_OUVRAGE │ DATE       │ SURVERSE │ RAISON  │\n",
       "│     │ \u001b[90mString\u001b[39m     │ \u001b[90mDate\u001b[39m       │ \u001b[90mInt64⍰\u001b[39m   │ \u001b[90mString⍰\u001b[39m │\n",
       "├─────┼────────────┼────────────┼──────────┼─────────┤\n",
       "│ 1   │ 0642-01D   │ 2013-05-01 │ 0        │ \u001b[90mmissing\u001b[39m │\n",
       "│ 2   │ 0642-01D   │ 2013-05-02 │ 0        │ \u001b[90mmissing\u001b[39m │\n",
       "│ 3   │ 0642-01D   │ 2013-05-03 │ 0        │ \u001b[90mmissing\u001b[39m │\n",
       "│ 4   │ 0642-01D   │ 2013-05-04 │ 0        │ \u001b[90mmissing\u001b[39m │\n",
       "│ 5   │ 0642-01D   │ 2013-05-05 │ 0        │ \u001b[90mmissing\u001b[39m │\n",
       "│ 6   │ 0642-01D   │ 2013-05-06 │ 0        │ \u001b[90mmissing\u001b[39m │\n",
       "│ 7   │ 0642-01D   │ 2013-05-07 │ 0        │ \u001b[90mmissing\u001b[39m │\n",
       "│ 8   │ 0642-01D   │ 2013-05-08 │ 0        │ \u001b[90mmissing\u001b[39m │\n",
       "│ 9   │ 0642-01D   │ 2013-05-09 │ 0        │ \u001b[90mmissing\u001b[39m │\n",
       "│ 10  │ 0642-01D   │ 2013-05-10 │ 0        │ \u001b[90mmissing\u001b[39m │"
      ]
     },
     "execution_count": 25,
     "metadata": {},
     "output_type": "execute_result"
    }
   ],
   "source": [
    "labels = filter(row -> month(row.DATE) > 4, labels)\n",
    "labels = filter(row -> month(row.DATE) < 11, labels)\n",
    "first(labels, 10)"
   ]
  },
  {
   "cell_type": "markdown",
   "metadata": {},
   "source": [
    "#### Garder seulement les surverses dues à la pluie"
   ]
  },
  {
   "cell_type": "code",
   "execution_count": 26,
   "metadata": {},
   "outputs": [
    {
     "data": {
      "text/html": [
       "<table class=\"data-frame\"><thead><tr><th></th><th>NO_OUVRAGE</th><th>DATE</th><th>SURVERSE</th></tr><tr><th></th><th>String</th><th>Date</th><th>Int64⍰</th></tr></thead><tbody><p>10 rows × 3 columns</p><tr><th>1</th><td>0642-01D</td><td>2013-05-01</td><td>0</td></tr><tr><th>2</th><td>0642-01D</td><td>2013-05-02</td><td>0</td></tr><tr><th>3</th><td>0642-01D</td><td>2013-05-03</td><td>0</td></tr><tr><th>4</th><td>0642-01D</td><td>2013-05-04</td><td>0</td></tr><tr><th>5</th><td>0642-01D</td><td>2013-05-05</td><td>0</td></tr><tr><th>6</th><td>0642-01D</td><td>2013-05-06</td><td>0</td></tr><tr><th>7</th><td>0642-01D</td><td>2013-05-07</td><td>0</td></tr><tr><th>8</th><td>0642-01D</td><td>2013-05-08</td><td>0</td></tr><tr><th>9</th><td>0642-01D</td><td>2013-05-09</td><td>0</td></tr><tr><th>10</th><td>0642-01D</td><td>2013-05-10</td><td>0</td></tr></tbody></table>"
      ],
      "text/latex": [
       "\\begin{tabular}{r|ccc}\n",
       "\t& NO\\_OUVRAGE & DATE & SURVERSE\\\\\n",
       "\t\\hline\n",
       "\t& String & Date & Int64⍰\\\\\n",
       "\t\\hline\n",
       "\t1 & 0642-01D & 2013-05-01 & 0 \\\\\n",
       "\t2 & 0642-01D & 2013-05-02 & 0 \\\\\n",
       "\t3 & 0642-01D & 2013-05-03 & 0 \\\\\n",
       "\t4 & 0642-01D & 2013-05-04 & 0 \\\\\n",
       "\t5 & 0642-01D & 2013-05-05 & 0 \\\\\n",
       "\t6 & 0642-01D & 2013-05-06 & 0 \\\\\n",
       "\t7 & 0642-01D & 2013-05-07 & 0 \\\\\n",
       "\t8 & 0642-01D & 2013-05-08 & 0 \\\\\n",
       "\t9 & 0642-01D & 2013-05-09 & 0 \\\\\n",
       "\t10 & 0642-01D & 2013-05-10 & 0 \\\\\n",
       "\\end{tabular}\n"
      ],
      "text/plain": [
       "10×3 DataFrame\n",
       "│ Row │ NO_OUVRAGE │ DATE       │ SURVERSE │\n",
       "│     │ \u001b[90mString\u001b[39m     │ \u001b[90mDate\u001b[39m       │ \u001b[90mInt64⍰\u001b[39m   │\n",
       "├─────┼────────────┼────────────┼──────────┤\n",
       "│ 1   │ 0642-01D   │ 2013-05-01 │ 0        │\n",
       "│ 2   │ 0642-01D   │ 2013-05-02 │ 0        │\n",
       "│ 3   │ 0642-01D   │ 2013-05-03 │ 0        │\n",
       "│ 4   │ 0642-01D   │ 2013-05-04 │ 0        │\n",
       "│ 5   │ 0642-01D   │ 2013-05-05 │ 0        │\n",
       "│ 6   │ 0642-01D   │ 2013-05-06 │ 0        │\n",
       "│ 7   │ 0642-01D   │ 2013-05-07 │ 0        │\n",
       "│ 8   │ 0642-01D   │ 2013-05-08 │ 0        │\n",
       "│ 9   │ 0642-01D   │ 2013-05-09 │ 0        │\n",
       "│ 10  │ 0642-01D   │ 2013-05-10 │ 0        │"
      ]
     },
     "execution_count": 26,
     "metadata": {},
     "output_type": "execute_result"
    }
   ],
   "source": [
    "raison = coalesce.(labels[:,:RAISON],\"Inconnue\")\n",
    "labels[!,:RAISON] = raison\n",
    "\n",
    "labels = filter(row -> row.RAISON ∈ [\"P\",\"Inconnue\",\"TS\"], labels)\n",
    "select!(labels, [:NO_OUVRAGE, :DATE, :SURVERSE])\n",
    "first(labels,10)"
   ]
  },
  {
   "cell_type": "code",
   "execution_count": 27,
   "metadata": {},
   "outputs": [
    {
     "data": {
      "text/html": [
       "<table class=\"data-frame\"><thead><tr><th></th><th>ID_OUVRAGE</th><th>DATE</th><th>SURVERSE</th></tr><tr><th></th><th>String</th><th>Date</th><th>Int64</th></tr></thead><tbody><p>10 rows × 3 columns</p><tr><th>1</th><td>0642-01D</td><td>2013-05-01</td><td>0</td></tr><tr><th>2</th><td>0642-01D</td><td>2013-05-02</td><td>0</td></tr><tr><th>3</th><td>0642-01D</td><td>2013-05-03</td><td>0</td></tr><tr><th>4</th><td>0642-01D</td><td>2013-05-04</td><td>0</td></tr><tr><th>5</th><td>0642-01D</td><td>2013-05-05</td><td>0</td></tr><tr><th>6</th><td>0642-01D</td><td>2013-05-06</td><td>0</td></tr><tr><th>7</th><td>0642-01D</td><td>2013-05-07</td><td>0</td></tr><tr><th>8</th><td>0642-01D</td><td>2013-05-08</td><td>0</td></tr><tr><th>9</th><td>0642-01D</td><td>2013-05-09</td><td>0</td></tr><tr><th>10</th><td>0642-01D</td><td>2013-05-10</td><td>0</td></tr></tbody></table>"
      ],
      "text/latex": [
       "\\begin{tabular}{r|ccc}\n",
       "\t& ID\\_OUVRAGE & DATE & SURVERSE\\\\\n",
       "\t\\hline\n",
       "\t& String & Date & Int64\\\\\n",
       "\t\\hline\n",
       "\t1 & 0642-01D & 2013-05-01 & 0 \\\\\n",
       "\t2 & 0642-01D & 2013-05-02 & 0 \\\\\n",
       "\t3 & 0642-01D & 2013-05-03 & 0 \\\\\n",
       "\t4 & 0642-01D & 2013-05-04 & 0 \\\\\n",
       "\t5 & 0642-01D & 2013-05-05 & 0 \\\\\n",
       "\t6 & 0642-01D & 2013-05-06 & 0 \\\\\n",
       "\t7 & 0642-01D & 2013-05-07 & 0 \\\\\n",
       "\t8 & 0642-01D & 2013-05-08 & 0 \\\\\n",
       "\t9 & 0642-01D & 2013-05-09 & 0 \\\\\n",
       "\t10 & 0642-01D & 2013-05-10 & 0 \\\\\n",
       "\\end{tabular}\n"
      ],
      "text/plain": [
       "10×3 DataFrame\n",
       "│ Row │ ID_OUVRAGE │ DATE       │ SURVERSE │\n",
       "│     │ \u001b[90mString\u001b[39m     │ \u001b[90mDate\u001b[39m       │ \u001b[90mInt64\u001b[39m    │\n",
       "├─────┼────────────┼────────────┼──────────┤\n",
       "│ 1   │ 0642-01D   │ 2013-05-01 │ 0        │\n",
       "│ 2   │ 0642-01D   │ 2013-05-02 │ 0        │\n",
       "│ 3   │ 0642-01D   │ 2013-05-03 │ 0        │\n",
       "│ 4   │ 0642-01D   │ 2013-05-04 │ 0        │\n",
       "│ 5   │ 0642-01D   │ 2013-05-05 │ 0        │\n",
       "│ 6   │ 0642-01D   │ 2013-05-06 │ 0        │\n",
       "│ 7   │ 0642-01D   │ 2013-05-07 │ 0        │\n",
       "│ 8   │ 0642-01D   │ 2013-05-08 │ 0        │\n",
       "│ 9   │ 0642-01D   │ 2013-05-09 │ 0        │\n",
       "│ 10  │ 0642-01D   │ 2013-05-10 │ 0        │"
      ]
     },
     "execution_count": 27,
     "metadata": {},
     "output_type": "execute_result"
    }
   ],
   "source": [
    "labels = dropmissing(labels, disallowmissing=true)\n",
    "rename!(labels, :NO_OUVRAGE => :ID_OUVRAGE)\n",
    "first(labels,10)"
   ]
  },
  {
   "cell_type": "markdown",
   "metadata": {},
   "source": [
    "### Load features"
   ]
  },
  {
   "cell_type": "code",
   "execution_count": 45,
   "metadata": {},
   "outputs": [
    {
     "data": {
      "text/html": [
       "<table class=\"data-frame\"><thead><tr><th></th><th>ID_OUVRAGE</th><th>TP_LAT</th><th>TP_LNG</th><th>TP_Z</th></tr><tr><th></th><th>String</th><th>Float64</th><th>Float64</th><th>Float64⍰</th></tr></thead><tbody><p>10 rows × 4 columns</p><tr><th>1</th><td>0642-01D</td><td>45.6727</td><td>-73.5262</td><td>missing</td></tr><tr><th>2</th><td>0672-01D</td><td>45.6823</td><td>-73.531</td><td>9.12</td></tr><tr><th>3</th><td>0672-02D</td><td>45.6939</td><td>-73.5214</td><td>10.23</td></tr><tr><th>4</th><td>0672-03D</td><td>45.6732</td><td>-73.5402</td><td>9.99</td></tr><tr><th>5</th><td>0801-01D</td><td>45.519</td><td>-73.5275</td><td>13.71</td></tr><tr><th>6</th><td>0801-02D</td><td>45.5174</td><td>-73.5281</td><td>12.34</td></tr><tr><th>7</th><td>0801-03D</td><td>45.5081</td><td>-73.5273</td><td>11.94</td></tr><tr><th>8</th><td>0801-04D</td><td>45.5029</td><td>-73.5238</td><td>12.36</td></tr><tr><th>9</th><td>0801-05D</td><td>45.5173</td><td>-73.5312</td><td>12.7</td></tr><tr><th>10</th><td>0801-06D</td><td>45.5187</td><td>-73.533</td><td>18.66</td></tr></tbody></table>"
      ],
      "text/latex": [
       "\\begin{tabular}{r|cccc}\n",
       "\t& ID\\_OUVRAGE & TP\\_LAT & TP\\_LNG & TP\\_Z\\\\\n",
       "\t\\hline\n",
       "\t& String & Float64 & Float64 & Float64⍰\\\\\n",
       "\t\\hline\n",
       "\t1 & 0642-01D & 45.6727 & -73.5262 &  \\\\\n",
       "\t2 & 0672-01D & 45.6823 & -73.531 & 9.12 \\\\\n",
       "\t3 & 0672-02D & 45.6939 & -73.5214 & 10.23 \\\\\n",
       "\t4 & 0672-03D & 45.6732 & -73.5402 & 9.99 \\\\\n",
       "\t5 & 0801-01D & 45.519 & -73.5275 & 13.71 \\\\\n",
       "\t6 & 0801-02D & 45.5174 & -73.5281 & 12.34 \\\\\n",
       "\t7 & 0801-03D & 45.5081 & -73.5273 & 11.94 \\\\\n",
       "\t8 & 0801-04D & 45.5029 & -73.5238 & 12.36 \\\\\n",
       "\t9 & 0801-05D & 45.5173 & -73.5312 & 12.7 \\\\\n",
       "\t10 & 0801-06D & 45.5187 & -73.533 & 18.66 \\\\\n",
       "\\end{tabular}\n"
      ],
      "text/plain": [
       "10×4 DataFrame\n",
       "│ Row │ ID_OUVRAGE │ TP_LAT  │ TP_LNG   │ TP_Z     │\n",
       "│     │ \u001b[90mString\u001b[39m     │ \u001b[90mFloat64\u001b[39m │ \u001b[90mFloat64\u001b[39m  │ \u001b[90mFloat64⍰\u001b[39m │\n",
       "├─────┼────────────┼─────────┼──────────┼──────────┤\n",
       "│ 1   │ 0642-01D   │ 45.6727 │ -73.5262 │ \u001b[90mmissing\u001b[39m  │\n",
       "│ 2   │ 0672-01D   │ 45.6823 │ -73.531  │ 9.12     │\n",
       "│ 3   │ 0672-02D   │ 45.6939 │ -73.5214 │ 10.23    │\n",
       "│ 4   │ 0672-03D   │ 45.6732 │ -73.5402 │ 9.99     │\n",
       "│ 5   │ 0801-01D   │ 45.519  │ -73.5275 │ 13.71    │\n",
       "│ 6   │ 0801-02D   │ 45.5174 │ -73.5281 │ 12.34    │\n",
       "│ 7   │ 0801-03D   │ 45.5081 │ -73.5273 │ 11.94    │\n",
       "│ 8   │ 0801-04D   │ 45.5029 │ -73.5238 │ 12.36    │\n",
       "│ 9   │ 0801-05D   │ 45.5173 │ -73.5312 │ 12.7     │\n",
       "│ 10  │ 0801-06D   │ 45.5187 │ -73.533  │ 18.66    │"
      ]
     },
     "execution_count": 45,
     "metadata": {},
     "output_type": "execute_result"
    }
   ],
   "source": [
    "features = CSV.read(\"data/ouvrages-surverses.csv\")\n",
    "colnames = [\"N_Env\", \"ID_SOMA\", \"ID_OUVRAGE\", \"NOM\", \"SOMA_SEC\", \"REGION\", \"TP_X\", \"TP_Y\", \"TP_Z\", \"TP_LAT\", \"TP_LNG\", \"EMI_X\", \"EMI_Y\", \"EMI_LNG\", \"EMI_LAT\"]\n",
    "names!(features, Symbol.(colnames))\n",
    "select!(features, [:ID_OUVRAGE, :TP_LAT, :TP_LNG, :TP_Z])\n",
    "first(features, 10)"
   ]
  },
  {
   "cell_type": "code",
   "execution_count": 86,
   "metadata": {},
   "outputs": [
    {
     "data": {
      "text/html": [
       "<table class=\"data-frame\"><thead><tr><th></th><th>ID_OUVRAGE</th><th>TP_LAT</th><th>TP_LNG</th><th>TP_Z</th><th>DATE</th><th>SURVERSE</th></tr><tr><th></th><th>String</th><th>Float64</th><th>Float64</th><th>Float64⍰</th><th>Date</th><th>Int64</th></tr></thead><tbody><p>10 rows × 6 columns</p><tr><th>1</th><td>0642-01D</td><td>45.6727</td><td>-73.5262</td><td>missing</td><td>2013-05-01</td><td>0</td></tr><tr><th>2</th><td>0642-01D</td><td>45.6727</td><td>-73.5262</td><td>missing</td><td>2013-05-02</td><td>0</td></tr><tr><th>3</th><td>0642-01D</td><td>45.6727</td><td>-73.5262</td><td>missing</td><td>2013-05-03</td><td>0</td></tr><tr><th>4</th><td>0642-01D</td><td>45.6727</td><td>-73.5262</td><td>missing</td><td>2013-05-04</td><td>0</td></tr><tr><th>5</th><td>0642-01D</td><td>45.6727</td><td>-73.5262</td><td>missing</td><td>2013-05-05</td><td>0</td></tr><tr><th>6</th><td>0642-01D</td><td>45.6727</td><td>-73.5262</td><td>missing</td><td>2013-05-06</td><td>0</td></tr><tr><th>7</th><td>0642-01D</td><td>45.6727</td><td>-73.5262</td><td>missing</td><td>2013-05-07</td><td>0</td></tr><tr><th>8</th><td>0642-01D</td><td>45.6727</td><td>-73.5262</td><td>missing</td><td>2013-05-08</td><td>0</td></tr><tr><th>9</th><td>0642-01D</td><td>45.6727</td><td>-73.5262</td><td>missing</td><td>2013-05-09</td><td>0</td></tr><tr><th>10</th><td>0642-01D</td><td>45.6727</td><td>-73.5262</td><td>missing</td><td>2013-05-10</td><td>0</td></tr></tbody></table>"
      ],
      "text/latex": [
       "\\begin{tabular}{r|cccccc}\n",
       "\t& ID\\_OUVRAGE & TP\\_LAT & TP\\_LNG & TP\\_Z & DATE & SURVERSE\\\\\n",
       "\t\\hline\n",
       "\t& String & Float64 & Float64 & Float64⍰ & Date & Int64\\\\\n",
       "\t\\hline\n",
       "\t1 & 0642-01D & 45.6727 & -73.5262 &  & 2013-05-01 & 0 \\\\\n",
       "\t2 & 0642-01D & 45.6727 & -73.5262 &  & 2013-05-02 & 0 \\\\\n",
       "\t3 & 0642-01D & 45.6727 & -73.5262 &  & 2013-05-03 & 0 \\\\\n",
       "\t4 & 0642-01D & 45.6727 & -73.5262 &  & 2013-05-04 & 0 \\\\\n",
       "\t5 & 0642-01D & 45.6727 & -73.5262 &  & 2013-05-05 & 0 \\\\\n",
       "\t6 & 0642-01D & 45.6727 & -73.5262 &  & 2013-05-06 & 0 \\\\\n",
       "\t7 & 0642-01D & 45.6727 & -73.5262 &  & 2013-05-07 & 0 \\\\\n",
       "\t8 & 0642-01D & 45.6727 & -73.5262 &  & 2013-05-08 & 0 \\\\\n",
       "\t9 & 0642-01D & 45.6727 & -73.5262 &  & 2013-05-09 & 0 \\\\\n",
       "\t10 & 0642-01D & 45.6727 & -73.5262 &  & 2013-05-10 & 0 \\\\\n",
       "\\end{tabular}\n"
      ],
      "text/plain": [
       "10×6 DataFrame\n",
       "│ Row │ ID_OUVRAGE │ TP_LAT  │ TP_LNG   │ TP_Z     │ DATE       │ SURVERSE │\n",
       "│     │ \u001b[90mString\u001b[39m     │ \u001b[90mFloat64\u001b[39m │ \u001b[90mFloat64\u001b[39m  │ \u001b[90mFloat64⍰\u001b[39m │ \u001b[90mDate\u001b[39m       │ \u001b[90mInt64\u001b[39m    │\n",
       "├─────┼────────────┼─────────┼──────────┼──────────┼────────────┼──────────┤\n",
       "│ 1   │ 0642-01D   │ 45.6727 │ -73.5262 │ \u001b[90mmissing\u001b[39m  │ 2013-05-01 │ 0        │\n",
       "│ 2   │ 0642-01D   │ 45.6727 │ -73.5262 │ \u001b[90mmissing\u001b[39m  │ 2013-05-02 │ 0        │\n",
       "│ 3   │ 0642-01D   │ 45.6727 │ -73.5262 │ \u001b[90mmissing\u001b[39m  │ 2013-05-03 │ 0        │\n",
       "│ 4   │ 0642-01D   │ 45.6727 │ -73.5262 │ \u001b[90mmissing\u001b[39m  │ 2013-05-04 │ 0        │\n",
       "│ 5   │ 0642-01D   │ 45.6727 │ -73.5262 │ \u001b[90mmissing\u001b[39m  │ 2013-05-05 │ 0        │\n",
       "│ 6   │ 0642-01D   │ 45.6727 │ -73.5262 │ \u001b[90mmissing\u001b[39m  │ 2013-05-06 │ 0        │\n",
       "│ 7   │ 0642-01D   │ 45.6727 │ -73.5262 │ \u001b[90mmissing\u001b[39m  │ 2013-05-07 │ 0        │\n",
       "│ 8   │ 0642-01D   │ 45.6727 │ -73.5262 │ \u001b[90mmissing\u001b[39m  │ 2013-05-08 │ 0        │\n",
       "│ 9   │ 0642-01D   │ 45.6727 │ -73.5262 │ \u001b[90mmissing\u001b[39m  │ 2013-05-09 │ 0        │\n",
       "│ 10  │ 0642-01D   │ 45.6727 │ -73.5262 │ \u001b[90mmissing\u001b[39m  │ 2013-05-10 │ 0        │"
      ]
     },
     "execution_count": 86,
     "metadata": {},
     "output_type": "execute_result"
    }
   ],
   "source": [
    "comb = join(features, labels, on = :ID_OUVRAGE)\n",
    "first(comb, 10)"
   ]
  },
  {
   "cell_type": "markdown",
   "metadata": {},
   "source": [
    "#### Replace missing TP_Z with mean"
   ]
  },
  {
   "cell_type": "code",
   "execution_count": 101,
   "metadata": {},
   "outputs": [
    {
     "data": {
      "text/html": [
       "<table class=\"data-frame\"><thead><tr><th></th><th>ID_OUVRAGE</th><th>TP_LAT</th><th>TP_LNG</th><th>TP_Z</th><th>DATE</th><th>SURVERSE</th></tr><tr><th></th><th>String</th><th>Float64</th><th>Float64</th><th>Float64</th><th>Date</th><th>Int64</th></tr></thead><tbody><p>10 rows × 6 columns</p><tr><th>1</th><td>0642-01D</td><td>45.6727</td><td>-73.5262</td><td>19.6862</td><td>2013-05-01</td><td>0</td></tr><tr><th>2</th><td>0642-01D</td><td>45.6727</td><td>-73.5262</td><td>19.6862</td><td>2013-05-02</td><td>0</td></tr><tr><th>3</th><td>0642-01D</td><td>45.6727</td><td>-73.5262</td><td>19.6862</td><td>2013-05-03</td><td>0</td></tr><tr><th>4</th><td>0642-01D</td><td>45.6727</td><td>-73.5262</td><td>19.6862</td><td>2013-05-04</td><td>0</td></tr><tr><th>5</th><td>0642-01D</td><td>45.6727</td><td>-73.5262</td><td>19.6862</td><td>2013-05-05</td><td>0</td></tr><tr><th>6</th><td>0642-01D</td><td>45.6727</td><td>-73.5262</td><td>19.6862</td><td>2013-05-06</td><td>0</td></tr><tr><th>7</th><td>0642-01D</td><td>45.6727</td><td>-73.5262</td><td>19.6862</td><td>2013-05-07</td><td>0</td></tr><tr><th>8</th><td>0642-01D</td><td>45.6727</td><td>-73.5262</td><td>19.6862</td><td>2013-05-08</td><td>0</td></tr><tr><th>9</th><td>0642-01D</td><td>45.6727</td><td>-73.5262</td><td>19.6862</td><td>2013-05-09</td><td>0</td></tr><tr><th>10</th><td>0642-01D</td><td>45.6727</td><td>-73.5262</td><td>19.6862</td><td>2013-05-10</td><td>0</td></tr></tbody></table>"
      ],
      "text/latex": [
       "\\begin{tabular}{r|cccccc}\n",
       "\t& ID\\_OUVRAGE & TP\\_LAT & TP\\_LNG & TP\\_Z & DATE & SURVERSE\\\\\n",
       "\t\\hline\n",
       "\t& String & Float64 & Float64 & Float64 & Date & Int64\\\\\n",
       "\t\\hline\n",
       "\t1 & 0642-01D & 45.6727 & -73.5262 & 19.6862 & 2013-05-01 & 0 \\\\\n",
       "\t2 & 0642-01D & 45.6727 & -73.5262 & 19.6862 & 2013-05-02 & 0 \\\\\n",
       "\t3 & 0642-01D & 45.6727 & -73.5262 & 19.6862 & 2013-05-03 & 0 \\\\\n",
       "\t4 & 0642-01D & 45.6727 & -73.5262 & 19.6862 & 2013-05-04 & 0 \\\\\n",
       "\t5 & 0642-01D & 45.6727 & -73.5262 & 19.6862 & 2013-05-05 & 0 \\\\\n",
       "\t6 & 0642-01D & 45.6727 & -73.5262 & 19.6862 & 2013-05-06 & 0 \\\\\n",
       "\t7 & 0642-01D & 45.6727 & -73.5262 & 19.6862 & 2013-05-07 & 0 \\\\\n",
       "\t8 & 0642-01D & 45.6727 & -73.5262 & 19.6862 & 2013-05-08 & 0 \\\\\n",
       "\t9 & 0642-01D & 45.6727 & -73.5262 & 19.6862 & 2013-05-09 & 0 \\\\\n",
       "\t10 & 0642-01D & 45.6727 & -73.5262 & 19.6862 & 2013-05-10 & 0 \\\\\n",
       "\\end{tabular}\n"
      ],
      "text/plain": [
       "10×6 DataFrame\n",
       "│ Row │ ID_OUVRAGE │ TP_LAT  │ TP_LNG   │ TP_Z    │ DATE       │ SURVERSE │\n",
       "│     │ \u001b[90mString\u001b[39m     │ \u001b[90mFloat64\u001b[39m │ \u001b[90mFloat64\u001b[39m  │ \u001b[90mFloat64\u001b[39m │ \u001b[90mDate\u001b[39m       │ \u001b[90mInt64\u001b[39m    │\n",
       "├─────┼────────────┼─────────┼──────────┼─────────┼────────────┼──────────┤\n",
       "│ 1   │ 0642-01D   │ 45.6727 │ -73.5262 │ 19.6862 │ 2013-05-01 │ 0        │\n",
       "│ 2   │ 0642-01D   │ 45.6727 │ -73.5262 │ 19.6862 │ 2013-05-02 │ 0        │\n",
       "│ 3   │ 0642-01D   │ 45.6727 │ -73.5262 │ 19.6862 │ 2013-05-03 │ 0        │\n",
       "│ 4   │ 0642-01D   │ 45.6727 │ -73.5262 │ 19.6862 │ 2013-05-04 │ 0        │\n",
       "│ 5   │ 0642-01D   │ 45.6727 │ -73.5262 │ 19.6862 │ 2013-05-05 │ 0        │\n",
       "│ 6   │ 0642-01D   │ 45.6727 │ -73.5262 │ 19.6862 │ 2013-05-06 │ 0        │\n",
       "│ 7   │ 0642-01D   │ 45.6727 │ -73.5262 │ 19.6862 │ 2013-05-07 │ 0        │\n",
       "│ 8   │ 0642-01D   │ 45.6727 │ -73.5262 │ 19.6862 │ 2013-05-08 │ 0        │\n",
       "│ 9   │ 0642-01D   │ 45.6727 │ -73.5262 │ 19.6862 │ 2013-05-09 │ 0        │\n",
       "│ 10  │ 0642-01D   │ 45.6727 │ -73.5262 │ 19.6862 │ 2013-05-10 │ 0        │"
      ]
     },
     "execution_count": 101,
     "metadata": {},
     "output_type": "execute_result"
    }
   ],
   "source": [
    "comb.TP_Z = coalesce.(comb.TP_Z, mean(comb[completecases(comb), :].TP_Z))\n",
    "first(comb, 10)"
   ]
  },
  {
   "cell_type": "markdown",
   "metadata": {},
   "source": [
    "#### Test avec un random sample"
   ]
  },
  {
   "cell_type": "code",
   "execution_count": 190,
   "metadata": {
    "scrolled": true
   },
   "outputs": [
    {
     "data": {
      "text/html": [
       "<table class=\"data-frame\"><thead><tr><th></th><th>ID_OUVRAGE</th><th>DATE</th><th>TP_LAT</th><th>TP_LNG</th><th>TP_Z</th><th>SURVERSE</th></tr><tr><th></th><th>String</th><th>Date</th><th>Float64</th><th>Float64</th><th>Float64</th><th>Int64</th></tr></thead><tbody><p>20 rows × 6 columns</p><tr><th>1</th><td>4310-02D</td><td>2018-06-22</td><td>45.6067</td><td>-73.5865</td><td>32.4</td><td>0</td></tr><tr><th>2</th><td>3275-02D</td><td>2014-05-25</td><td>45.637</td><td>-73.607</td><td>14.53</td><td>0</td></tr><tr><th>3</th><td>3250-02D</td><td>2014-06-06</td><td>45.6437</td><td>-73.5541</td><td>38.93</td><td>0</td></tr><tr><th>4</th><td>4240-01D</td><td>2015-08-01</td><td>45.6497</td><td>-73.4877</td><td>11.91</td><td>0</td></tr><tr><th>5</th><td>3280-01D</td><td>2015-06-04</td><td>45.634</td><td>-73.6059</td><td>23.86</td><td>0</td></tr><tr><th>6</th><td>4630-01D</td><td>2017-08-11</td><td>45.4915</td><td>-73.7707</td><td>26.59</td><td>0</td></tr><tr><th>7</th><td>4430-04D</td><td>2017-10-19</td><td>45.4197</td><td>-73.6487</td><td>31.54</td><td>0</td></tr><tr><th>8</th><td>3560-01D</td><td>2014-10-14</td><td>45.4655</td><td>-73.8933</td><td>25.32</td><td>0</td></tr><tr><th>9</th><td>4430-01D</td><td>2018-05-23</td><td>45.4324</td><td>-73.5885</td><td>19.36</td><td>0</td></tr><tr><th>10</th><td>4320-01D</td><td>2014-06-16</td><td>45.5488</td><td>-73.5307</td><td>13.68</td><td>0</td></tr><tr><th>11</th><td>4230-05D</td><td>2018-07-17</td><td>45.6728</td><td>-73.4915</td><td>11.55</td><td>1</td></tr><tr><th>12</th><td>4230-05D</td><td>2013-10-05</td><td>45.6728</td><td>-73.4915</td><td>11.55</td><td>0</td></tr><tr><th>13</th><td>4610-08D</td><td>2017-08-23</td><td>45.4267</td><td>-73.8538</td><td>19.6862</td><td>0</td></tr><tr><th>14</th><td>4230-07D</td><td>2014-06-21</td><td>45.6888</td><td>-73.4863</td><td>9.86</td><td>0</td></tr><tr><th>15</th><td>4330-01D</td><td>2017-06-21</td><td>45.5438</td><td>-73.5353</td><td>14.16</td><td>0</td></tr><tr><th>16</th><td>4265-01D</td><td>2017-06-10</td><td>45.626</td><td>-73.4991</td><td>11.78</td><td>0</td></tr><tr><th>17</th><td>0801-01D</td><td>2018-07-09</td><td>45.519</td><td>-73.5275</td><td>13.71</td><td>0</td></tr><tr><th>18</th><td>4370-01D</td><td>2015-09-15</td><td>45.4713</td><td>-73.5596</td><td>19.6862</td><td>0</td></tr><tr><th>19</th><td>3240-02D</td><td>2017-09-21</td><td>45.6644</td><td>-73.5605</td><td>10.11</td><td>0</td></tr><tr><th>20</th><td>4340-02D</td><td>2018-05-08</td><td>45.5262</td><td>-73.5444</td><td>19.33</td><td>0</td></tr></tbody></table>"
      ],
      "text/latex": [
       "\\begin{tabular}{r|cccccc}\n",
       "\t& ID\\_OUVRAGE & DATE & TP\\_LAT & TP\\_LNG & TP\\_Z & SURVERSE\\\\\n",
       "\t\\hline\n",
       "\t& String & Date & Float64 & Float64 & Float64 & Int64\\\\\n",
       "\t\\hline\n",
       "\t1 & 4310-02D & 2018-06-22 & 45.6067 & -73.5865 & 32.4 & 0 \\\\\n",
       "\t2 & 3275-02D & 2014-05-25 & 45.637 & -73.607 & 14.53 & 0 \\\\\n",
       "\t3 & 3250-02D & 2014-06-06 & 45.6437 & -73.5541 & 38.93 & 0 \\\\\n",
       "\t4 & 4240-01D & 2015-08-01 & 45.6497 & -73.4877 & 11.91 & 0 \\\\\n",
       "\t5 & 3280-01D & 2015-06-04 & 45.634 & -73.6059 & 23.86 & 0 \\\\\n",
       "\t6 & 4630-01D & 2017-08-11 & 45.4915 & -73.7707 & 26.59 & 0 \\\\\n",
       "\t7 & 4430-04D & 2017-10-19 & 45.4197 & -73.6487 & 31.54 & 0 \\\\\n",
       "\t8 & 3560-01D & 2014-10-14 & 45.4655 & -73.8933 & 25.32 & 0 \\\\\n",
       "\t9 & 4430-01D & 2018-05-23 & 45.4324 & -73.5885 & 19.36 & 0 \\\\\n",
       "\t10 & 4320-01D & 2014-06-16 & 45.5488 & -73.5307 & 13.68 & 0 \\\\\n",
       "\t11 & 4230-05D & 2018-07-17 & 45.6728 & -73.4915 & 11.55 & 1 \\\\\n",
       "\t12 & 4230-05D & 2013-10-05 & 45.6728 & -73.4915 & 11.55 & 0 \\\\\n",
       "\t13 & 4610-08D & 2017-08-23 & 45.4267 & -73.8538 & 19.6862 & 0 \\\\\n",
       "\t14 & 4230-07D & 2014-06-21 & 45.6888 & -73.4863 & 9.86 & 0 \\\\\n",
       "\t15 & 4330-01D & 2017-06-21 & 45.5438 & -73.5353 & 14.16 & 0 \\\\\n",
       "\t16 & 4265-01D & 2017-06-10 & 45.626 & -73.4991 & 11.78 & 0 \\\\\n",
       "\t17 & 0801-01D & 2018-07-09 & 45.519 & -73.5275 & 13.71 & 0 \\\\\n",
       "\t18 & 4370-01D & 2015-09-15 & 45.4713 & -73.5596 & 19.6862 & 0 \\\\\n",
       "\t19 & 3240-02D & 2017-09-21 & 45.6644 & -73.5605 & 10.11 & 0 \\\\\n",
       "\t20 & 4340-02D & 2018-05-08 & 45.5262 & -73.5444 & 19.33 & 0 \\\\\n",
       "\\end{tabular}\n"
      ],
      "text/plain": [
       "20×6 DataFrame\n",
       "│ Row │ ID_OUVRAGE │ DATE       │ TP_LAT  │ TP_LNG   │ TP_Z    │ SURVERSE │\n",
       "│     │ \u001b[90mString\u001b[39m     │ \u001b[90mDate\u001b[39m       │ \u001b[90mFloat64\u001b[39m │ \u001b[90mFloat64\u001b[39m  │ \u001b[90mFloat64\u001b[39m │ \u001b[90mInt64\u001b[39m    │\n",
       "├─────┼────────────┼────────────┼─────────┼──────────┼─────────┼──────────┤\n",
       "│ 1   │ 4310-02D   │ 2018-06-22 │ 45.6067 │ -73.5865 │ 32.4    │ 0        │\n",
       "│ 2   │ 3275-02D   │ 2014-05-25 │ 45.637  │ -73.607  │ 14.53   │ 0        │\n",
       "│ 3   │ 3250-02D   │ 2014-06-06 │ 45.6437 │ -73.5541 │ 38.93   │ 0        │\n",
       "│ 4   │ 4240-01D   │ 2015-08-01 │ 45.6497 │ -73.4877 │ 11.91   │ 0        │\n",
       "│ 5   │ 3280-01D   │ 2015-06-04 │ 45.634  │ -73.6059 │ 23.86   │ 0        │\n",
       "│ 6   │ 4630-01D   │ 2017-08-11 │ 45.4915 │ -73.7707 │ 26.59   │ 0        │\n",
       "│ 7   │ 4430-04D   │ 2017-10-19 │ 45.4197 │ -73.6487 │ 31.54   │ 0        │\n",
       "│ 8   │ 3560-01D   │ 2014-10-14 │ 45.4655 │ -73.8933 │ 25.32   │ 0        │\n",
       "│ 9   │ 4430-01D   │ 2018-05-23 │ 45.4324 │ -73.5885 │ 19.36   │ 0        │\n",
       "│ 10  │ 4320-01D   │ 2014-06-16 │ 45.5488 │ -73.5307 │ 13.68   │ 0        │\n",
       "│ 11  │ 4230-05D   │ 2018-07-17 │ 45.6728 │ -73.4915 │ 11.55   │ 1        │\n",
       "│ 12  │ 4230-05D   │ 2013-10-05 │ 45.6728 │ -73.4915 │ 11.55   │ 0        │\n",
       "│ 13  │ 4610-08D   │ 2017-08-23 │ 45.4267 │ -73.8538 │ 19.6862 │ 0        │\n",
       "│ 14  │ 4230-07D   │ 2014-06-21 │ 45.6888 │ -73.4863 │ 9.86    │ 0        │\n",
       "│ 15  │ 4330-01D   │ 2017-06-21 │ 45.5438 │ -73.5353 │ 14.16   │ 0        │\n",
       "│ 16  │ 4265-01D   │ 2017-06-10 │ 45.626  │ -73.4991 │ 11.78   │ 0        │\n",
       "│ 17  │ 0801-01D   │ 2018-07-09 │ 45.519  │ -73.5275 │ 13.71   │ 0        │\n",
       "│ 18  │ 4370-01D   │ 2015-09-15 │ 45.4713 │ -73.5596 │ 19.6862 │ 0        │\n",
       "│ 19  │ 3240-02D   │ 2017-09-21 │ 45.6644 │ -73.5605 │ 10.11   │ 0        │\n",
       "│ 20  │ 4340-02D   │ 2018-05-08 │ 45.5262 │ -73.5444 │ 19.33   │ 0        │"
      ]
     },
     "execution_count": 190,
     "metadata": {},
     "output_type": "execute_result"
    }
   ],
   "source": [
    "sample_test = comb[shuffle(1:size(comb, 1)),:]\n",
    "sample_test = sample_test[!, [:ID_OUVRAGE, :DATE, :TP_LAT, :TP_LNG, :TP_Z, :SURVERSE]]\n",
    "first(sample_test, 20)"
   ]
  },
  {
   "cell_type": "markdown",
   "metadata": {},
   "source": [
    "### Distance to Stations"
   ]
  },
  {
   "cell_type": "markdown",
   "metadata": {},
   "source": [
    "#### Stations coordinates"
   ]
  },
  {
   "cell_type": "code",
   "execution_count": 155,
   "metadata": {},
   "outputs": [
    {
     "data": {
      "text/html": [
       "<table class=\"data-frame\"><thead><tr><th></th><th>STATION</th><th>LAT</th><th>LNG</th></tr><tr><th></th><th>String</th><th>Float64</th><th>Float64</th></tr></thead><tbody><p>5 rows × 3 columns</p><tr><th>1</th><td>McTavish</td><td>45.5047</td><td>-73.5792</td></tr><tr><th>2</th><td>Bellevue</td><td>45.4272</td><td>-73.9292</td></tr><tr><th>3</th><td>Assomption</td><td>45.8094</td><td>-73.4347</td></tr><tr><th>4</th><td>Trudeau</td><td>45.4678</td><td>-73.7417</td></tr><tr><th>5</th><td>StHubert</td><td>45.5175</td><td>-73.4169</td></tr></tbody></table>"
      ],
      "text/latex": [
       "\\begin{tabular}{r|ccc}\n",
       "\t& STATION & LAT & LNG\\\\\n",
       "\t\\hline\n",
       "\t& String & Float64 & Float64\\\\\n",
       "\t\\hline\n",
       "\t1 & McTavish & 45.5047 & -73.5792 \\\\\n",
       "\t2 & Bellevue & 45.4272 & -73.9292 \\\\\n",
       "\t3 & Assomption & 45.8094 & -73.4347 \\\\\n",
       "\t4 & Trudeau & 45.4678 & -73.7417 \\\\\n",
       "\t5 & StHubert & 45.5175 & -73.4169 \\\\\n",
       "\\end{tabular}\n"
      ],
      "text/plain": [
       "5×3 DataFrame\n",
       "│ Row │ STATION    │ LAT     │ LNG      │\n",
       "│     │ \u001b[90mString\u001b[39m     │ \u001b[90mFloat64\u001b[39m │ \u001b[90mFloat64\u001b[39m  │\n",
       "├─────┼────────────┼─────────┼──────────┤\n",
       "│ 1   │ McTavish   │ 45.5047 │ -73.5792 │\n",
       "│ 2   │ Bellevue   │ 45.4272 │ -73.9292 │\n",
       "│ 3   │ Assomption │ 45.8094 │ -73.4347 │\n",
       "│ 4   │ Trudeau    │ 45.4678 │ -73.7417 │\n",
       "│ 5   │ StHubert   │ 45.5175 │ -73.4169 │"
      ]
     },
     "execution_count": 155,
     "metadata": {},
     "output_type": "execute_result"
    }
   ],
   "source": [
    "station_df = DataFrame(STATION = String[], LAT = Float64[], LNG = Float64[]);\n",
    "\n",
    "push!(station_df, [\"McTavish\", 45.504742, -73.579167]);\n",
    "push!(station_df, [\"Bellevue\", 45.427222, -73.929167]);\n",
    "push!(station_df, [\"Assomption\", 45.809444, -73.434722]);\n",
    "push!(station_df, [\"Trudeau\", 45.467778, -73.741667]);\n",
    "push!(station_df, [\"StHubert\", 45.5175, -73.416944]);\n",
    "\n",
    "station_df"
   ]
  },
  {
   "cell_type": "markdown",
   "metadata": {},
   "source": [
    "#### Get the precipitation data"
   ]
  },
  {
   "cell_type": "code",
   "execution_count": 156,
   "metadata": {},
   "outputs": [
    {
     "data": {
      "text/html": [
       "<table class=\"data-frame\"><thead><tr><th></th><th>date</th><th>heure</th><th>McTavish</th><th>Bellevue</th><th>Assomption</th><th>Trudeau</th><th>StHubert</th></tr><tr><th></th><th>Date</th><th>Int64</th><th>Int64⍰</th><th>Int64⍰</th><th>Int64⍰</th><th>Int64⍰</th><th>Int64⍰</th></tr></thead><tbody><p>5 rows × 7 columns</p><tr><th>1</th><td>2013-05-01</td><td>0</td><td>0</td><td>0</td><td>0</td><td>0</td><td>missing</td></tr><tr><th>2</th><td>2013-05-01</td><td>1</td><td>0</td><td>0</td><td>0</td><td>0</td><td>missing</td></tr><tr><th>3</th><td>2013-05-01</td><td>2</td><td>0</td><td>0</td><td>0</td><td>0</td><td>missing</td></tr><tr><th>4</th><td>2013-05-01</td><td>3</td><td>0</td><td>0</td><td>0</td><td>0</td><td>missing</td></tr><tr><th>5</th><td>2013-05-01</td><td>4</td><td>0</td><td>0</td><td>0</td><td>0</td><td>missing</td></tr></tbody></table>"
      ],
      "text/latex": [
       "\\begin{tabular}{r|ccccccc}\n",
       "\t& date & heure & McTavish & Bellevue & Assomption & Trudeau & StHubert\\\\\n",
       "\t\\hline\n",
       "\t& Date & Int64 & Int64⍰ & Int64⍰ & Int64⍰ & Int64⍰ & Int64⍰\\\\\n",
       "\t\\hline\n",
       "\t1 & 2013-05-01 & 0 & 0 & 0 & 0 & 0 &  \\\\\n",
       "\t2 & 2013-05-01 & 1 & 0 & 0 & 0 & 0 &  \\\\\n",
       "\t3 & 2013-05-01 & 2 & 0 & 0 & 0 & 0 &  \\\\\n",
       "\t4 & 2013-05-01 & 3 & 0 & 0 & 0 & 0 &  \\\\\n",
       "\t5 & 2013-05-01 & 4 & 0 & 0 & 0 & 0 &  \\\\\n",
       "\\end{tabular}\n"
      ],
      "text/plain": [
       "5×7 DataFrame. Omitted printing of 1 columns\n",
       "│ Row │ date       │ heure │ McTavish │ Bellevue │ Assomption │ Trudeau │\n",
       "│     │ \u001b[90mDate\u001b[39m       │ \u001b[90mInt64\u001b[39m │ \u001b[90mInt64⍰\u001b[39m   │ \u001b[90mInt64⍰\u001b[39m   │ \u001b[90mInt64⍰\u001b[39m     │ \u001b[90mInt64⍰\u001b[39m  │\n",
       "├─────┼────────────┼───────┼──────────┼──────────┼────────────┼─────────┤\n",
       "│ 1   │ 2013-05-01 │ 0     │ 0        │ 0        │ 0          │ 0       │\n",
       "│ 2   │ 2013-05-01 │ 1     │ 0        │ 0        │ 0          │ 0       │\n",
       "│ 3   │ 2013-05-01 │ 2     │ 0        │ 0        │ 0          │ 0       │\n",
       "│ 4   │ 2013-05-01 │ 3     │ 0        │ 0        │ 0          │ 0       │\n",
       "│ 5   │ 2013-05-01 │ 4     │ 0        │ 0        │ 0          │ 0       │"
      ]
     },
     "execution_count": 156,
     "metadata": {},
     "output_type": "execute_result"
    }
   ],
   "source": [
    "precipitation = CSV.read(\"data/precipitations.csv\",missingstring=\"-99999\")\n",
    "rename!(precipitation, Symbol(\"St-Hubert\")=>:StHubert)\n",
    "precipitation = filter(row -> month(row.date) > 4, precipitation) \n",
    "precipitation = filter(row -> month(row.date) < 11, precipitation) \n",
    "first(precipitation, 5)"
   ]
  },
  {
   "cell_type": "markdown",
   "metadata": {},
   "source": [
    "#### Remplacement des missing par 0 (Arbitraire)"
   ]
  },
  {
   "cell_type": "code",
   "execution_count": 165,
   "metadata": {
    "scrolled": true
   },
   "outputs": [
    {
     "data": {
      "text/html": [
       "<table class=\"data-frame\"><thead><tr><th></th><th>date</th><th>heure</th><th>McTavish</th><th>Bellevue</th><th>Assomption</th><th>Trudeau</th><th>StHubert</th></tr><tr><th></th><th>Date</th><th>Int64</th><th>Int64</th><th>Int64</th><th>Int64</th><th>Int64</th><th>Int64</th></tr></thead><tbody><p>5 rows × 7 columns</p><tr><th>1</th><td>2013-05-01</td><td>0</td><td>0</td><td>0</td><td>0</td><td>0</td><td>0</td></tr><tr><th>2</th><td>2013-05-01</td><td>1</td><td>0</td><td>0</td><td>0</td><td>0</td><td>0</td></tr><tr><th>3</th><td>2013-05-01</td><td>2</td><td>0</td><td>0</td><td>0</td><td>0</td><td>0</td></tr><tr><th>4</th><td>2013-05-01</td><td>3</td><td>0</td><td>0</td><td>0</td><td>0</td><td>0</td></tr><tr><th>5</th><td>2013-05-01</td><td>4</td><td>0</td><td>0</td><td>0</td><td>0</td><td>0</td></tr></tbody></table>"
      ],
      "text/latex": [
       "\\begin{tabular}{r|ccccccc}\n",
       "\t& date & heure & McTavish & Bellevue & Assomption & Trudeau & StHubert\\\\\n",
       "\t\\hline\n",
       "\t& Date & Int64 & Int64 & Int64 & Int64 & Int64 & Int64\\\\\n",
       "\t\\hline\n",
       "\t1 & 2013-05-01 & 0 & 0 & 0 & 0 & 0 & 0 \\\\\n",
       "\t2 & 2013-05-01 & 1 & 0 & 0 & 0 & 0 & 0 \\\\\n",
       "\t3 & 2013-05-01 & 2 & 0 & 0 & 0 & 0 & 0 \\\\\n",
       "\t4 & 2013-05-01 & 3 & 0 & 0 & 0 & 0 & 0 \\\\\n",
       "\t5 & 2013-05-01 & 4 & 0 & 0 & 0 & 0 & 0 \\\\\n",
       "\\end{tabular}\n"
      ],
      "text/plain": [
       "5×7 DataFrame. Omitted printing of 1 columns\n",
       "│ Row │ date       │ heure │ McTavish │ Bellevue │ Assomption │ Trudeau │\n",
       "│     │ \u001b[90mDate\u001b[39m       │ \u001b[90mInt64\u001b[39m │ \u001b[90mInt64\u001b[39m    │ \u001b[90mInt64\u001b[39m    │ \u001b[90mInt64\u001b[39m      │ \u001b[90mInt64\u001b[39m   │\n",
       "├─────┼────────────┼───────┼──────────┼──────────┼────────────┼─────────┤\n",
       "│ 1   │ 2013-05-01 │ 0     │ 0        │ 0        │ 0          │ 0       │\n",
       "│ 2   │ 2013-05-01 │ 1     │ 0        │ 0        │ 0          │ 0       │\n",
       "│ 3   │ 2013-05-01 │ 2     │ 0        │ 0        │ 0          │ 0       │\n",
       "│ 4   │ 2013-05-01 │ 3     │ 0        │ 0        │ 0          │ 0       │\n",
       "│ 5   │ 2013-05-01 │ 4     │ 0        │ 0        │ 0          │ 0       │"
      ]
     },
     "execution_count": 165,
     "metadata": {},
     "output_type": "execute_result"
    }
   ],
   "source": [
    "precipitation[!,:McTavish] = coalesce.(precipitation[:,:McTavish], 0)\n",
    "precipitation[!,:Bellevue] = coalesce.(precipitation[:,:Bellevue], 0)\n",
    "precipitation[!,:Assomption] = coalesce.(precipitation[:,:Assomption], 0)\n",
    "precipitation[!,:Trudeau] = coalesce.(precipitation[:,:Trudeau], 0)\n",
    "precipitation[!,:StHubert] = coalesce.(precipitation[:,:StHubert], 0)\n",
    "\n",
    "first(precipitation, 5)"
   ]
  },
  {
   "cell_type": "markdown",
   "metadata": {},
   "source": [
    "#### Quantite journaliere des precipitations par station"
   ]
  },
  {
   "cell_type": "code",
   "execution_count": 167,
   "metadata": {},
   "outputs": [
    {
     "data": {
      "text/html": [
       "<table class=\"data-frame\"><thead><tr><th></th><th>date</th><th>McTavish</th><th>Bellevue</th><th>Assomption</th><th>Trudeau</th><th>StHubert</th></tr><tr><th></th><th>Date</th><th>Int64</th><th>Int64</th><th>Int64</th><th>Int64</th><th>Int64</th></tr></thead><tbody><p>20 rows × 6 columns</p><tr><th>1</th><td>2013-05-01</td><td>0</td><td>0</td><td>0</td><td>0</td><td>0</td></tr><tr><th>2</th><td>2013-05-02</td><td>0</td><td>0</td><td>0</td><td>0</td><td>0</td></tr><tr><th>3</th><td>2013-05-03</td><td>0</td><td>0</td><td>0</td><td>0</td><td>0</td></tr><tr><th>4</th><td>2013-05-04</td><td>0</td><td>0</td><td>0</td><td>0</td><td>0</td></tr><tr><th>5</th><td>2013-05-05</td><td>0</td><td>0</td><td>0</td><td>0</td><td>0</td></tr><tr><th>6</th><td>2013-05-06</td><td>0</td><td>0</td><td>0</td><td>0</td><td>0</td></tr><tr><th>7</th><td>2013-05-07</td><td>0</td><td>0</td><td>0</td><td>0</td><td>0</td></tr><tr><th>8</th><td>2013-05-08</td><td>0</td><td>0</td><td>0</td><td>0</td><td>0</td></tr><tr><th>9</th><td>2013-05-09</td><td>10</td><td>0</td><td>19</td><td>0</td><td>0</td></tr><tr><th>10</th><td>2013-05-10</td><td>0</td><td>4</td><td>20</td><td>0</td><td>0</td></tr><tr><th>11</th><td>2013-05-11</td><td>106</td><td>105</td><td>190</td><td>138</td><td>0</td></tr><tr><th>12</th><td>2013-05-12</td><td>0</td><td>0</td><td>10</td><td>0</td><td>0</td></tr><tr><th>13</th><td>2013-05-13</td><td>10</td><td>0</td><td>0</td><td>0</td><td>0</td></tr><tr><th>14</th><td>2013-05-14</td><td>0</td><td>0</td><td>0</td><td>0</td><td>0</td></tr><tr><th>15</th><td>2013-05-15</td><td>40</td><td>0</td><td>10</td><td>10</td><td>0</td></tr><tr><th>16</th><td>2013-05-16</td><td>0</td><td>0</td><td>0</td><td>0</td><td>0</td></tr><tr><th>17</th><td>2013-05-17</td><td>0</td><td>0</td><td>0</td><td>0</td><td>0</td></tr><tr><th>18</th><td>2013-05-18</td><td>0</td><td>0</td><td>0</td><td>0</td><td>0</td></tr><tr><th>19</th><td>2013-05-19</td><td>12</td><td>21</td><td>0</td><td>32</td><td>0</td></tr><tr><th>20</th><td>2013-05-20</td><td>64</td><td>19</td><td>90</td><td>38</td><td>0</td></tr></tbody></table>"
      ],
      "text/latex": [
       "\\begin{tabular}{r|cccccc}\n",
       "\t& date & McTavish & Bellevue & Assomption & Trudeau & StHubert\\\\\n",
       "\t\\hline\n",
       "\t& Date & Int64 & Int64 & Int64 & Int64 & Int64\\\\\n",
       "\t\\hline\n",
       "\t1 & 2013-05-01 & 0 & 0 & 0 & 0 & 0 \\\\\n",
       "\t2 & 2013-05-02 & 0 & 0 & 0 & 0 & 0 \\\\\n",
       "\t3 & 2013-05-03 & 0 & 0 & 0 & 0 & 0 \\\\\n",
       "\t4 & 2013-05-04 & 0 & 0 & 0 & 0 & 0 \\\\\n",
       "\t5 & 2013-05-05 & 0 & 0 & 0 & 0 & 0 \\\\\n",
       "\t6 & 2013-05-06 & 0 & 0 & 0 & 0 & 0 \\\\\n",
       "\t7 & 2013-05-07 & 0 & 0 & 0 & 0 & 0 \\\\\n",
       "\t8 & 2013-05-08 & 0 & 0 & 0 & 0 & 0 \\\\\n",
       "\t9 & 2013-05-09 & 10 & 0 & 19 & 0 & 0 \\\\\n",
       "\t10 & 2013-05-10 & 0 & 4 & 20 & 0 & 0 \\\\\n",
       "\t11 & 2013-05-11 & 106 & 105 & 190 & 138 & 0 \\\\\n",
       "\t12 & 2013-05-12 & 0 & 0 & 10 & 0 & 0 \\\\\n",
       "\t13 & 2013-05-13 & 10 & 0 & 0 & 0 & 0 \\\\\n",
       "\t14 & 2013-05-14 & 0 & 0 & 0 & 0 & 0 \\\\\n",
       "\t15 & 2013-05-15 & 40 & 0 & 10 & 10 & 0 \\\\\n",
       "\t16 & 2013-05-16 & 0 & 0 & 0 & 0 & 0 \\\\\n",
       "\t17 & 2013-05-17 & 0 & 0 & 0 & 0 & 0 \\\\\n",
       "\t18 & 2013-05-18 & 0 & 0 & 0 & 0 & 0 \\\\\n",
       "\t19 & 2013-05-19 & 12 & 21 & 0 & 32 & 0 \\\\\n",
       "\t20 & 2013-05-20 & 64 & 19 & 90 & 38 & 0 \\\\\n",
       "\\end{tabular}\n"
      ],
      "text/plain": [
       "20×6 DataFrame\n",
       "│ Row │ date       │ McTavish │ Bellevue │ Assomption │ Trudeau │ StHubert │\n",
       "│     │ \u001b[90mDate\u001b[39m       │ \u001b[90mInt64\u001b[39m    │ \u001b[90mInt64\u001b[39m    │ \u001b[90mInt64\u001b[39m      │ \u001b[90mInt64\u001b[39m   │ \u001b[90mInt64\u001b[39m    │\n",
       "├─────┼────────────┼──────────┼──────────┼────────────┼─────────┼──────────┤\n",
       "│ 1   │ 2013-05-01 │ 0        │ 0        │ 0          │ 0       │ 0        │\n",
       "│ 2   │ 2013-05-02 │ 0        │ 0        │ 0          │ 0       │ 0        │\n",
       "│ 3   │ 2013-05-03 │ 0        │ 0        │ 0          │ 0       │ 0        │\n",
       "│ 4   │ 2013-05-04 │ 0        │ 0        │ 0          │ 0       │ 0        │\n",
       "│ 5   │ 2013-05-05 │ 0        │ 0        │ 0          │ 0       │ 0        │\n",
       "│ 6   │ 2013-05-06 │ 0        │ 0        │ 0          │ 0       │ 0        │\n",
       "│ 7   │ 2013-05-07 │ 0        │ 0        │ 0          │ 0       │ 0        │\n",
       "│ 8   │ 2013-05-08 │ 0        │ 0        │ 0          │ 0       │ 0        │\n",
       "│ 9   │ 2013-05-09 │ 10       │ 0        │ 19         │ 0       │ 0        │\n",
       "│ 10  │ 2013-05-10 │ 0        │ 4        │ 20         │ 0       │ 0        │\n",
       "│ 11  │ 2013-05-11 │ 106      │ 105      │ 190        │ 138     │ 0        │\n",
       "│ 12  │ 2013-05-12 │ 0        │ 0        │ 10         │ 0       │ 0        │\n",
       "│ 13  │ 2013-05-13 │ 10       │ 0        │ 0          │ 0       │ 0        │\n",
       "│ 14  │ 2013-05-14 │ 0        │ 0        │ 0          │ 0       │ 0        │\n",
       "│ 15  │ 2013-05-15 │ 40       │ 0        │ 10         │ 10      │ 0        │\n",
       "│ 16  │ 2013-05-16 │ 0        │ 0        │ 0          │ 0       │ 0        │\n",
       "│ 17  │ 2013-05-17 │ 0        │ 0        │ 0          │ 0       │ 0        │\n",
       "│ 18  │ 2013-05-18 │ 0        │ 0        │ 0          │ 0       │ 0        │\n",
       "│ 19  │ 2013-05-19 │ 12       │ 21       │ 0          │ 32      │ 0        │\n",
       "│ 20  │ 2013-05-20 │ 64       │ 19       │ 90         │ 38      │ 0        │"
      ]
     },
     "execution_count": 167,
     "metadata": {},
     "output_type": "execute_result"
    }
   ],
   "source": [
    "pcp_sum = by(precipitation, :date,  McTavish = :McTavish=>sum, Bellevue = :Bellevue=>sum, \n",
    "   Assomption = :Assomption=>sum, Trudeau = :Trudeau=>sum, StHubert = :StHubert=>sum)\n",
    "first(pcp_sum, 20)"
   ]
  },
  {
   "cell_type": "markdown",
   "metadata": {},
   "source": [
    "#### Taux horaire max par station"
   ]
  },
  {
   "cell_type": "code",
   "execution_count": 171,
   "metadata": {
    "scrolled": false
   },
   "outputs": [
    {
     "data": {
      "text/html": [
       "<table class=\"data-frame\"><thead><tr><th></th><th>date</th><th>McTavish</th><th>Bellevue</th><th>Assomption</th><th>Trudeau</th><th>StHubert</th></tr><tr><th></th><th>Date</th><th>Int64</th><th>Int64</th><th>Int64</th><th>Int64</th><th>Int64</th></tr></thead><tbody><p>20 rows × 6 columns</p><tr><th>1</th><td>2013-05-01</td><td>0</td><td>0</td><td>0</td><td>0</td><td>0</td></tr><tr><th>2</th><td>2013-05-02</td><td>0</td><td>0</td><td>0</td><td>0</td><td>0</td></tr><tr><th>3</th><td>2013-05-03</td><td>0</td><td>0</td><td>0</td><td>0</td><td>0</td></tr><tr><th>4</th><td>2013-05-04</td><td>0</td><td>0</td><td>0</td><td>0</td><td>0</td></tr><tr><th>5</th><td>2013-05-05</td><td>0</td><td>0</td><td>0</td><td>0</td><td>0</td></tr><tr><th>6</th><td>2013-05-06</td><td>0</td><td>0</td><td>0</td><td>0</td><td>0</td></tr><tr><th>7</th><td>2013-05-07</td><td>0</td><td>0</td><td>0</td><td>0</td><td>0</td></tr><tr><th>8</th><td>2013-05-08</td><td>0</td><td>0</td><td>0</td><td>0</td><td>0</td></tr><tr><th>9</th><td>2013-05-09</td><td>10</td><td>0</td><td>19</td><td>0</td><td>0</td></tr><tr><th>10</th><td>2013-05-10</td><td>0</td><td>4</td><td>20</td><td>0</td><td>0</td></tr><tr><th>11</th><td>2013-05-11</td><td>39</td><td>33</td><td>60</td><td>57</td><td>0</td></tr><tr><th>12</th><td>2013-05-12</td><td>0</td><td>0</td><td>10</td><td>0</td><td>0</td></tr><tr><th>13</th><td>2013-05-13</td><td>10</td><td>0</td><td>0</td><td>0</td><td>0</td></tr><tr><th>14</th><td>2013-05-14</td><td>0</td><td>0</td><td>0</td><td>0</td><td>0</td></tr><tr><th>15</th><td>2013-05-15</td><td>16</td><td>0</td><td>10</td><td>10</td><td>0</td></tr><tr><th>16</th><td>2013-05-16</td><td>0</td><td>0</td><td>0</td><td>0</td><td>0</td></tr><tr><th>17</th><td>2013-05-17</td><td>0</td><td>0</td><td>0</td><td>0</td><td>0</td></tr><tr><th>18</th><td>2013-05-18</td><td>0</td><td>0</td><td>0</td><td>0</td><td>0</td></tr><tr><th>19</th><td>2013-05-19</td><td>12</td><td>11</td><td>0</td><td>14</td><td>0</td></tr><tr><th>20</th><td>2013-05-20</td><td>27</td><td>12</td><td>50</td><td>17</td><td>0</td></tr></tbody></table>"
      ],
      "text/latex": [
       "\\begin{tabular}{r|cccccc}\n",
       "\t& date & McTavish & Bellevue & Assomption & Trudeau & StHubert\\\\\n",
       "\t\\hline\n",
       "\t& Date & Int64 & Int64 & Int64 & Int64 & Int64\\\\\n",
       "\t\\hline\n",
       "\t1 & 2013-05-01 & 0 & 0 & 0 & 0 & 0 \\\\\n",
       "\t2 & 2013-05-02 & 0 & 0 & 0 & 0 & 0 \\\\\n",
       "\t3 & 2013-05-03 & 0 & 0 & 0 & 0 & 0 \\\\\n",
       "\t4 & 2013-05-04 & 0 & 0 & 0 & 0 & 0 \\\\\n",
       "\t5 & 2013-05-05 & 0 & 0 & 0 & 0 & 0 \\\\\n",
       "\t6 & 2013-05-06 & 0 & 0 & 0 & 0 & 0 \\\\\n",
       "\t7 & 2013-05-07 & 0 & 0 & 0 & 0 & 0 \\\\\n",
       "\t8 & 2013-05-08 & 0 & 0 & 0 & 0 & 0 \\\\\n",
       "\t9 & 2013-05-09 & 10 & 0 & 19 & 0 & 0 \\\\\n",
       "\t10 & 2013-05-10 & 0 & 4 & 20 & 0 & 0 \\\\\n",
       "\t11 & 2013-05-11 & 39 & 33 & 60 & 57 & 0 \\\\\n",
       "\t12 & 2013-05-12 & 0 & 0 & 10 & 0 & 0 \\\\\n",
       "\t13 & 2013-05-13 & 10 & 0 & 0 & 0 & 0 \\\\\n",
       "\t14 & 2013-05-14 & 0 & 0 & 0 & 0 & 0 \\\\\n",
       "\t15 & 2013-05-15 & 16 & 0 & 10 & 10 & 0 \\\\\n",
       "\t16 & 2013-05-16 & 0 & 0 & 0 & 0 & 0 \\\\\n",
       "\t17 & 2013-05-17 & 0 & 0 & 0 & 0 & 0 \\\\\n",
       "\t18 & 2013-05-18 & 0 & 0 & 0 & 0 & 0 \\\\\n",
       "\t19 & 2013-05-19 & 12 & 11 & 0 & 14 & 0 \\\\\n",
       "\t20 & 2013-05-20 & 27 & 12 & 50 & 17 & 0 \\\\\n",
       "\\end{tabular}\n"
      ],
      "text/plain": [
       "20×6 DataFrame\n",
       "│ Row │ date       │ McTavish │ Bellevue │ Assomption │ Trudeau │ StHubert │\n",
       "│     │ \u001b[90mDate\u001b[39m       │ \u001b[90mInt64\u001b[39m    │ \u001b[90mInt64\u001b[39m    │ \u001b[90mInt64\u001b[39m      │ \u001b[90mInt64\u001b[39m   │ \u001b[90mInt64\u001b[39m    │\n",
       "├─────┼────────────┼──────────┼──────────┼────────────┼─────────┼──────────┤\n",
       "│ 1   │ 2013-05-01 │ 0        │ 0        │ 0          │ 0       │ 0        │\n",
       "│ 2   │ 2013-05-02 │ 0        │ 0        │ 0          │ 0       │ 0        │\n",
       "│ 3   │ 2013-05-03 │ 0        │ 0        │ 0          │ 0       │ 0        │\n",
       "│ 4   │ 2013-05-04 │ 0        │ 0        │ 0          │ 0       │ 0        │\n",
       "│ 5   │ 2013-05-05 │ 0        │ 0        │ 0          │ 0       │ 0        │\n",
       "│ 6   │ 2013-05-06 │ 0        │ 0        │ 0          │ 0       │ 0        │\n",
       "│ 7   │ 2013-05-07 │ 0        │ 0        │ 0          │ 0       │ 0        │\n",
       "│ 8   │ 2013-05-08 │ 0        │ 0        │ 0          │ 0       │ 0        │\n",
       "│ 9   │ 2013-05-09 │ 10       │ 0        │ 19         │ 0       │ 0        │\n",
       "│ 10  │ 2013-05-10 │ 0        │ 4        │ 20         │ 0       │ 0        │\n",
       "│ 11  │ 2013-05-11 │ 39       │ 33       │ 60         │ 57      │ 0        │\n",
       "│ 12  │ 2013-05-12 │ 0        │ 0        │ 10         │ 0       │ 0        │\n",
       "│ 13  │ 2013-05-13 │ 10       │ 0        │ 0          │ 0       │ 0        │\n",
       "│ 14  │ 2013-05-14 │ 0        │ 0        │ 0          │ 0       │ 0        │\n",
       "│ 15  │ 2013-05-15 │ 16       │ 0        │ 10         │ 10      │ 0        │\n",
       "│ 16  │ 2013-05-16 │ 0        │ 0        │ 0          │ 0       │ 0        │\n",
       "│ 17  │ 2013-05-17 │ 0        │ 0        │ 0          │ 0       │ 0        │\n",
       "│ 18  │ 2013-05-18 │ 0        │ 0        │ 0          │ 0       │ 0        │\n",
       "│ 19  │ 2013-05-19 │ 12       │ 11       │ 0          │ 14      │ 0        │\n",
       "│ 20  │ 2013-05-20 │ 27       │ 12       │ 50         │ 17      │ 0        │"
      ]
     },
     "execution_count": 171,
     "metadata": {},
     "output_type": "execute_result"
    }
   ],
   "source": [
    "pcp_max = by(precipitation, :date,  McTavish = :McTavish=>maximum, Bellevue = :Bellevue=>maximum, \n",
    "   Assomption = :Assomption=>maximum, Trudeau = :Trudeau=>maximum, StHubert = :StHubert=>maximum)\n",
    "first(pcp_max,20)"
   ]
  },
  {
   "cell_type": "markdown",
   "metadata": {},
   "source": [
    "#### Création des features et labels pour decision tree"
   ]
  },
  {
   "cell_type": "code",
   "execution_count": 56,
   "metadata": {},
   "outputs": [],
   "source": [
    "function dateToDay(dt)::Float64 \n",
    "    return year(dt) * 365 + month(dt) * 30 + day(dt);\n",
    "end;    "
   ]
  },
  {
   "cell_type": "code",
   "execution_count": 103,
   "metadata": {},
   "outputs": [],
   "source": [
    "dates = comb[:, [:DATE]];\n",
    "n = nrow(dates)\n",
    "days = zeros(n)\n",
    "for i in 1:n\n",
    "    days[i] = dateToDay(dates[i, 1])\n",
    "end"
   ]
  },
  {
   "cell_type": "code",
   "execution_count": 191,
   "metadata": {},
   "outputs": [],
   "source": [
    "lbl = comb[:, :SURVERSE];\n",
    "ftr = convert(Matrix{Float64},comb[:, [:TP_LAT, :TP_LNG, :TP_Z]]);\n",
    "ftr = hcat(days, ftr);"
   ]
  },
  {
   "cell_type": "markdown",
   "metadata": {},
   "source": [
    "#### Test Decision Tree"
   ]
  },
  {
   "cell_type": "code",
   "execution_count": 105,
   "metadata": {},
   "outputs": [
    {
     "data": {
      "text/plain": [
       "Decision Tree\n",
       "Leaves: 6118\n",
       "Depth:  57"
      ]
     },
     "execution_count": 105,
     "metadata": {},
     "output_type": "execute_result"
    }
   ],
   "source": [
    "model = build_tree(lbl,ftr)"
   ]
  },
  {
   "cell_type": "code",
   "execution_count": 106,
   "metadata": {},
   "outputs": [
    {
     "data": {
      "text/plain": [
       "Decision Tree\n",
       "Leaves: 5178\n",
       "Depth:  57"
      ]
     },
     "execution_count": 106,
     "metadata": {},
     "output_type": "execute_result"
    }
   ],
   "source": [
    "modelp = prune_tree(model,.80)"
   ]
  },
  {
   "cell_type": "code",
   "execution_count": 107,
   "metadata": {},
   "outputs": [
    {
     "name": "stdout",
     "output_type": "stream",
     "text": [
      "Feature 3, Threshold -73.74178122771505\n",
      "L-> Feature 2, Threshold 45.4737306942081\n",
      "    L-> Feature 1, Threshold 736095.5\n",
      "        L-> Feature 2, Threshold 45.4687971888686\n",
      "            L-> 0 : 11706/11707\n",
      "            R-> \n",
      "        R-> Feature 1, Threshold 736097.5\n",
      "            L-> \n",
      "            R-> \n",
      "    R-> Feature 2, Threshold 45.48227864854675\n",
      "        L-> Feature 1, Threshold 736796.5\n",
      "            L-> \n",
      "            R-> \n",
      "        R-> Feature 3, Threshold -73.8338415477965\n",
      "            L-> \n",
      "            R-> \n",
      "R-> Feature 2, Threshold 45.5734029500813\n",
      "    L-> Feature 2, Threshold 45.5165318661206\n",
      "        L-> Feature 4, Threshold 14.885\n",
      "            L-> \n",
      "            R-> \n",
      "        R-> Feature 2, Threshold 45.51732069240945\n",
      "            L-> \n",
      "            R-> \n",
      "    R-> Feature 4, Threshold 25.475\n",
      "        L-> Feature 4, Threshold 19.84\n",
      "            L-> \n",
      "            R-> \n",
      "        R-> Feature 1, Threshold 736804.5\n",
      "            L-> \n",
      "            R-> \n"
     ]
    }
   ],
   "source": [
    "print_tree(modelp,4)"
   ]
  },
  {
   "cell_type": "markdown",
   "metadata": {},
   "source": [
    "### Prediction"
   ]
  },
  {
   "cell_type": "markdown",
   "metadata": {},
   "source": [
    "#### Load data"
   ]
  },
  {
   "cell_type": "code",
   "execution_count": 108,
   "metadata": {},
   "outputs": [
    {
     "data": {
      "text/html": [
       "<table class=\"data-frame\"><thead><tr><th></th><th>ID_OUVRAGE</th><th>DATE</th></tr><tr><th></th><th>String</th><th>Date</th></tr></thead><tbody><p>10 rows × 2 columns</p><tr><th>1</th><td>3260-01D</td><td>2019-05-02</td></tr><tr><th>2</th><td>3260-01D</td><td>2019-05-09</td></tr><tr><th>3</th><td>3260-01D</td><td>2019-05-10</td></tr><tr><th>4</th><td>3260-01D</td><td>2019-05-15</td></tr><tr><th>5</th><td>3260-01D</td><td>2019-05-20</td></tr><tr><th>6</th><td>3260-01D</td><td>2019-05-23</td></tr><tr><th>7</th><td>3260-01D</td><td>2019-05-24</td></tr><tr><th>8</th><td>3260-01D</td><td>2019-05-26</td></tr><tr><th>9</th><td>3260-01D</td><td>2019-05-30</td></tr><tr><th>10</th><td>3350-07D</td><td>2019-05-01</td></tr></tbody></table>"
      ],
      "text/latex": [
       "\\begin{tabular}{r|cc}\n",
       "\t& ID\\_OUVRAGE & DATE\\\\\n",
       "\t\\hline\n",
       "\t& String & Date\\\\\n",
       "\t\\hline\n",
       "\t1 & 3260-01D & 2019-05-02 \\\\\n",
       "\t2 & 3260-01D & 2019-05-09 \\\\\n",
       "\t3 & 3260-01D & 2019-05-10 \\\\\n",
       "\t4 & 3260-01D & 2019-05-15 \\\\\n",
       "\t5 & 3260-01D & 2019-05-20 \\\\\n",
       "\t6 & 3260-01D & 2019-05-23 \\\\\n",
       "\t7 & 3260-01D & 2019-05-24 \\\\\n",
       "\t8 & 3260-01D & 2019-05-26 \\\\\n",
       "\t9 & 3260-01D & 2019-05-30 \\\\\n",
       "\t10 & 3350-07D & 2019-05-01 \\\\\n",
       "\\end{tabular}\n"
      ],
      "text/plain": [
       "10×2 DataFrame\n",
       "│ Row │ ID_OUVRAGE │ DATE       │\n",
       "│     │ \u001b[90mString\u001b[39m     │ \u001b[90mDate\u001b[39m       │\n",
       "├─────┼────────────┼────────────┤\n",
       "│ 1   │ 3260-01D   │ 2019-05-02 │\n",
       "│ 2   │ 3260-01D   │ 2019-05-09 │\n",
       "│ 3   │ 3260-01D   │ 2019-05-10 │\n",
       "│ 4   │ 3260-01D   │ 2019-05-15 │\n",
       "│ 5   │ 3260-01D   │ 2019-05-20 │\n",
       "│ 6   │ 3260-01D   │ 2019-05-23 │\n",
       "│ 7   │ 3260-01D   │ 2019-05-24 │\n",
       "│ 8   │ 3260-01D   │ 2019-05-26 │\n",
       "│ 9   │ 3260-01D   │ 2019-05-30 │\n",
       "│ 10  │ 3350-07D   │ 2019-05-01 │"
      ]
     },
     "execution_count": 108,
     "metadata": {},
     "output_type": "execute_result"
    }
   ],
   "source": [
    "test = CSV.read(\"data/test.csv\")\n",
    "rename!(test, :NO_OUVRAGE => :ID_OUVRAGE)\n",
    "first(test, 10)"
   ]
  },
  {
   "cell_type": "markdown",
   "metadata": {},
   "source": [
    "#### Augment with lat long z"
   ]
  },
  {
   "cell_type": "code",
   "execution_count": 116,
   "metadata": {},
   "outputs": [
    {
     "data": {
      "text/html": [
       "<table class=\"data-frame\"><thead><tr><th></th><th>ID_OUVRAGE</th><th>DATE</th><th>TP_LAT</th><th>TP_LNG</th><th>TP_Z</th></tr><tr><th></th><th>String</th><th>Date</th><th>Float64</th><th>Float64</th><th>Float64</th></tr></thead><tbody><p>10 rows × 5 columns</p><tr><th>1</th><td>3260-01D</td><td>2019-05-02</td><td>45.6507</td><td>-73.5803</td><td>20.17</td></tr><tr><th>2</th><td>3260-01D</td><td>2019-05-09</td><td>45.6507</td><td>-73.5803</td><td>20.17</td></tr><tr><th>3</th><td>3260-01D</td><td>2019-05-10</td><td>45.6507</td><td>-73.5803</td><td>20.17</td></tr><tr><th>4</th><td>3260-01D</td><td>2019-05-15</td><td>45.6507</td><td>-73.5803</td><td>20.17</td></tr><tr><th>5</th><td>3260-01D</td><td>2019-05-20</td><td>45.6507</td><td>-73.5803</td><td>20.17</td></tr><tr><th>6</th><td>3260-01D</td><td>2019-05-23</td><td>45.6507</td><td>-73.5803</td><td>20.17</td></tr><tr><th>7</th><td>3260-01D</td><td>2019-05-24</td><td>45.6507</td><td>-73.5803</td><td>20.17</td></tr><tr><th>8</th><td>3260-01D</td><td>2019-05-26</td><td>45.6507</td><td>-73.5803</td><td>20.17</td></tr><tr><th>9</th><td>3260-01D</td><td>2019-05-30</td><td>45.6507</td><td>-73.5803</td><td>20.17</td></tr><tr><th>10</th><td>3350-07D</td><td>2019-05-01</td><td>45.5461</td><td>-73.6921</td><td>20.75</td></tr></tbody></table>"
      ],
      "text/latex": [
       "\\begin{tabular}{r|ccccc}\n",
       "\t& ID\\_OUVRAGE & DATE & TP\\_LAT & TP\\_LNG & TP\\_Z\\\\\n",
       "\t\\hline\n",
       "\t& String & Date & Float64 & Float64 & Float64\\\\\n",
       "\t\\hline\n",
       "\t1 & 3260-01D & 2019-05-02 & 45.6507 & -73.5803 & 20.17 \\\\\n",
       "\t2 & 3260-01D & 2019-05-09 & 45.6507 & -73.5803 & 20.17 \\\\\n",
       "\t3 & 3260-01D & 2019-05-10 & 45.6507 & -73.5803 & 20.17 \\\\\n",
       "\t4 & 3260-01D & 2019-05-15 & 45.6507 & -73.5803 & 20.17 \\\\\n",
       "\t5 & 3260-01D & 2019-05-20 & 45.6507 & -73.5803 & 20.17 \\\\\n",
       "\t6 & 3260-01D & 2019-05-23 & 45.6507 & -73.5803 & 20.17 \\\\\n",
       "\t7 & 3260-01D & 2019-05-24 & 45.6507 & -73.5803 & 20.17 \\\\\n",
       "\t8 & 3260-01D & 2019-05-26 & 45.6507 & -73.5803 & 20.17 \\\\\n",
       "\t9 & 3260-01D & 2019-05-30 & 45.6507 & -73.5803 & 20.17 \\\\\n",
       "\t10 & 3350-07D & 2019-05-01 & 45.5461 & -73.6921 & 20.75 \\\\\n",
       "\\end{tabular}\n"
      ],
      "text/plain": [
       "10×5 DataFrame\n",
       "│ Row │ ID_OUVRAGE │ DATE       │ TP_LAT  │ TP_LNG   │ TP_Z    │\n",
       "│     │ \u001b[90mString\u001b[39m     │ \u001b[90mDate\u001b[39m       │ \u001b[90mFloat64\u001b[39m │ \u001b[90mFloat64\u001b[39m  │ \u001b[90mFloat64\u001b[39m │\n",
       "├─────┼────────────┼────────────┼─────────┼──────────┼─────────┤\n",
       "│ 1   │ 3260-01D   │ 2019-05-02 │ 45.6507 │ -73.5803 │ 20.17   │\n",
       "│ 2   │ 3260-01D   │ 2019-05-09 │ 45.6507 │ -73.5803 │ 20.17   │\n",
       "│ 3   │ 3260-01D   │ 2019-05-10 │ 45.6507 │ -73.5803 │ 20.17   │\n",
       "│ 4   │ 3260-01D   │ 2019-05-15 │ 45.6507 │ -73.5803 │ 20.17   │\n",
       "│ 5   │ 3260-01D   │ 2019-05-20 │ 45.6507 │ -73.5803 │ 20.17   │\n",
       "│ 6   │ 3260-01D   │ 2019-05-23 │ 45.6507 │ -73.5803 │ 20.17   │\n",
       "│ 7   │ 3260-01D   │ 2019-05-24 │ 45.6507 │ -73.5803 │ 20.17   │\n",
       "│ 8   │ 3260-01D   │ 2019-05-26 │ 45.6507 │ -73.5803 │ 20.17   │\n",
       "│ 9   │ 3260-01D   │ 2019-05-30 │ 45.6507 │ -73.5803 │ 20.17   │\n",
       "│ 10  │ 3350-07D   │ 2019-05-01 │ 45.5461 │ -73.6921 │ 20.75   │"
      ]
     },
     "execution_count": 116,
     "metadata": {},
     "output_type": "execute_result"
    }
   ],
   "source": [
    "test_comb = join(test, features, on = :ID_OUVRAGE)\n",
    "test_comb.TP_Z = coalesce.(test_comb.TP_Z, mean(test_comb[completecases(test_comb), :].TP_Z))\n",
    "first(test_comb, 10)"
   ]
  },
  {
   "cell_type": "markdown",
   "metadata": {},
   "source": [
    "#### Get test_comb as array for prediction"
   ]
  },
  {
   "cell_type": "code",
   "execution_count": 117,
   "metadata": {},
   "outputs": [
    {
     "data": {
      "text/plain": [
       "20-element Array{Float64,1}:\n",
       " 737087.0\n",
       " 737094.0\n",
       " 737095.0\n",
       " 737100.0\n",
       " 737105.0\n",
       " 737108.0\n",
       " 737109.0\n",
       " 737111.0\n",
       " 737115.0\n",
       " 737086.0\n",
       " 737087.0\n",
       " 737093.0\n",
       " 737094.0\n",
       " 737095.0\n",
       " 737096.0\n",
       " 737098.0\n",
       " 737099.0\n",
       " 737103.0\n",
       " 737104.0\n",
       " 737105.0"
      ]
     },
     "execution_count": 117,
     "metadata": {},
     "output_type": "execute_result"
    }
   ],
   "source": [
    "dates_t = test_comb[:, [:DATE]];\n",
    "first(dates_t, 5)\n",
    "nt = nrow(dates_t)\n",
    "days_t = zeros(nt)\n",
    "for i in 1:nt\n",
    "    days_t[i] = dateToDay(dates_t[i, 1])\n",
    "end\n",
    "\n",
    "days_t[1:20]"
   ]
  },
  {
   "cell_type": "code",
   "execution_count": 120,
   "metadata": {},
   "outputs": [
    {
     "data": {
      "text/plain": [
       "(283, 4)"
      ]
     },
     "execution_count": 120,
     "metadata": {},
     "output_type": "execute_result"
    }
   ],
   "source": [
    "ftr_t = convert(Matrix{Float64},test_comb[:, [:TP_LAT, :TP_LNG, :TP_Z]]);\n",
    "ftr_t = hcat(days_t, ftr_t);\n",
    "size(ftr_t)"
   ]
  },
  {
   "cell_type": "markdown",
   "metadata": {},
   "source": [
    "#### Station la plus proche pour chaque ouvrage"
   ]
  },
  {
   "cell_type": "code",
   "execution_count": 186,
   "metadata": {},
   "outputs": [
    {
     "data": {
      "text/html": [
       "<table class=\"data-frame\"><thead><tr><th></th><th>ID_OUVRAGE</th></tr><tr><th></th><th>String</th></tr></thead><tbody><p>5 rows × 1 columns</p><tr><th>1</th><td>3260-01D</td></tr><tr><th>2</th><td>3350-07D</td></tr><tr><th>3</th><td>4240-01D</td></tr><tr><th>4</th><td>4350-01D</td></tr><tr><th>5</th><td>4380-01D</td></tr></tbody></table>"
      ],
      "text/latex": [
       "\\begin{tabular}{r|c}\n",
       "\t& ID\\_OUVRAGE\\\\\n",
       "\t\\hline\n",
       "\t& String\\\\\n",
       "\t\\hline\n",
       "\t1 & 3260-01D \\\\\n",
       "\t2 & 3350-07D \\\\\n",
       "\t3 & 4240-01D \\\\\n",
       "\t4 & 4350-01D \\\\\n",
       "\t5 & 4380-01D \\\\\n",
       "\\end{tabular}\n"
      ],
      "text/plain": [
       "5×1 DataFrame\n",
       "│ Row │ ID_OUVRAGE │\n",
       "│     │ \u001b[90mString\u001b[39m     │\n",
       "├─────┼────────────┤\n",
       "│ 1   │ 3260-01D   │\n",
       "│ 2   │ 3350-07D   │\n",
       "│ 3   │ 4240-01D   │\n",
       "│ 4   │ 4350-01D   │\n",
       "│ 5   │ 4380-01D   │"
      ]
     },
     "execution_count": 186,
     "metadata": {},
     "output_type": "execute_result"
    }
   ],
   "source": [
    "ouvrages = unique(test_comb[!, [:ID_OUVRAGE]], :ID_OUVRAGE)"
   ]
  },
  {
   "cell_type": "markdown",
   "metadata": {},
   "source": [
    "#### Pour chaque ouvrage / date, trouver la station la plus proche (lat long) et obtenir sum precipitation et taux horaire"
   ]
  },
  {
   "cell_type": "code",
   "execution_count": null,
   "metadata": {},
   "outputs": [],
   "source": [
    "for i=1:size(test_comb)\n",
    "    \n",
    "end"
   ]
  },
  {
   "cell_type": "markdown",
   "metadata": {},
   "source": [
    "### Forest"
   ]
  },
  {
   "cell_type": "code",
   "execution_count": 136,
   "metadata": {},
   "outputs": [
    {
     "data": {
      "text/plain": [
       "Ensemble of Decision Trees\n",
       "Trees:      10\n",
       "Avg Leaves: 3626.0\n",
       "Avg Depth:  47.4"
      ]
     },
     "execution_count": 136,
     "metadata": {},
     "output_type": "execute_result"
    }
   ],
   "source": [
    "model_rf = build_forest(lbl,ftr, 3, 10, 0.5, 48)"
   ]
  },
  {
   "cell_type": "markdown",
   "metadata": {},
   "source": [
    "### Submission"
   ]
  },
  {
   "cell_type": "code",
   "execution_count": 137,
   "metadata": {},
   "outputs": [
    {
     "data": {
      "text/plain": [
       "283-element Array{Int64,1}:\n",
       " 0\n",
       " 0\n",
       " 0\n",
       " 0\n",
       " 0\n",
       " 0\n",
       " 0\n",
       " 0\n",
       " 0\n",
       " 1\n",
       " 1\n",
       " 1\n",
       " 1\n",
       " ⋮\n",
       " 0\n",
       " 0\n",
       " 0\n",
       " 0\n",
       " 0\n",
       " 0\n",
       " 0\n",
       " 0\n",
       " 0\n",
       " 0\n",
       " 0\n",
       " 0"
      ]
     },
     "execution_count": 137,
     "metadata": {},
     "output_type": "execute_result"
    }
   ],
   "source": [
    "res_t = apply_forest(model_rf, ftr_t)"
   ]
  },
  {
   "cell_type": "code",
   "execution_count": 139,
   "metadata": {},
   "outputs": [
    {
     "data": {
      "text/plain": [
       "\"submissions/mc-submission-3.csv\""
      ]
     },
     "execution_count": 139,
     "metadata": {},
     "output_type": "execute_result"
    }
   ],
   "source": [
    "ID = test_comb[:,:ID_OUVRAGE].*\"_\".*string.(test_comb[:,:DATE])\n",
    "sampleSubmission = DataFrame(ID = ID, Surverse=res_t)\n",
    "CSV.write(\"submissions/mc-submission-3.csv\",sampleSubmission)"
   ]
  }
 ],
 "metadata": {
  "kernelspec": {
   "display_name": "Julia 1.2.0",
   "language": "julia",
   "name": "julia-1.2"
  },
  "language_info": {
   "file_extension": ".jl",
   "mimetype": "application/julia",
   "name": "julia",
   "version": "1.0.5"
  }
 },
 "nbformat": 4,
 "nbformat_minor": 2
}
