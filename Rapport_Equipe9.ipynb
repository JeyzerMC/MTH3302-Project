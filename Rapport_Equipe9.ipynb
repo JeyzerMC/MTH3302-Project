{
 "cells": [
  {
   "cell_type": "markdown",
   "metadata": {},
   "source": [
    "# Projet: Débordement d'égouts\n",
    "## Rapport équipe 9 - A19\n",
    "#### Noboru Yoshida - Mehdi Chaid - Mathieu Giroud-Huppé - Maxime Gosselin\n",
    "#### 05 Décembre 2020"
   ]
  },
  {
   "cell_type": "markdown",
   "metadata": {},
   "source": [
    "## Table des matières\n",
    "\n",
    "1. [Objectif](#objectives)  \n",
    "2. [Méthode choisie](#chosen_method)\n",
    "3. [Traitement des données](#data_processing)  \n",
    "    1. [Chargement des données de l'ensemble d'entraînement](#data_loading) \n",
    "    2. [Nettoyage des données](#data_cleaning)  \n",
    "    3. [Augmentation des données](#data_augmentation)\n",
    "4. [Analyse exploratoire](#data_analysis)  \n",
    "    1. [Distance à la station météorologique](#distance-meteo) \n",
    "    2. [Hauteur du trop plein](#very-full-height)\n",
    "    3. [TODO: Continuer](#continue)\n",
    "5. [Sélection de modèles](#model-selection)\n",
    "    1. [Régression logistique](#logistic-reg)\n",
    "    2. [Classification bayésienne naive](#naive-bayes)\n",
    "    3. [Forêt aléatoire](#random-forest)\n",
    "    4. [Séparateur à vaste marge](#svm)\n",
    "6. [Améliorations possibles](#possible-improvements)"
   ]
  },
  {
   "cell_type": "markdown",
   "metadata": {},
   "source": [
    "<a id=\"objectives\"></a>\n",
    "\n",
    "## 1. Objectif\n",
    "\n",
    "Ce rapport vise à fournir une prédiction sur les surverses dans plusieurs ouvrages sur l'île de Montréal. TODO: Continuer"
   ]
  },
  {
   "cell_type": "markdown",
   "metadata": {},
   "source": [
    "<a id=\"chosen_method\"></a>\n",
    "\n",
    "## 2. Méthode choisie\n",
    "\n",
    "TODO"
   ]
  },
  {
   "cell_type": "markdown",
   "metadata": {},
   "source": [
    "<a id=\"data_processing\"></a>\n",
    "\n",
    "## 3. Traitement des données\n",
    "\n",
    "TODO"
   ]
  },
  {
   "cell_type": "markdown",
   "metadata": {},
   "source": [
    "<a id=\"data_analysis\"></a>\n",
    "\n",
    "## 4. Analyse exploratoire\n",
    "\n",
    "\n"
   ]
  }
 ],
 "metadata": {
  "kernelspec": {
   "display_name": "Julia 1.2.0",
   "language": "julia",
   "name": "julia-1.2"
  },
  "language_info": {
   "file_extension": ".jl",
   "mimetype": "application/julia",
   "name": "julia",
   "version": "1.0.5"
  }
 },
 "nbformat": 4,
 "nbformat_minor": 2
}
