{
 "cells": [
  {
   "cell_type": "markdown",
   "metadata": {},
   "source": [
    "# Data Processing"
   ]
  },
  {
   "cell_type": "code",
   "execution_count": 1,
   "metadata": {},
   "outputs": [],
   "source": [
    "using CSV, DataFrames, LIBSVM, Statistics, Dates, Gadfly, Random, MLBase;\n",
    "include(\"utils/precipitation.jl\");"
   ]
  },
  {
   "cell_type": "markdown",
   "metadata": {},
   "source": [
    "## Build features"
   ]
  },
  {
   "cell_type": "markdown",
   "metadata": {},
   "source": [
    "### Get and filter the features"
   ]
  },
  {
   "cell_type": "markdown",
   "metadata": {},
   "source": [
    "#### Latitude, Longitude, Height"
   ]
  },
  {
   "cell_type": "code",
   "execution_count": 80,
   "metadata": {},
   "outputs": [],
   "source": [
    "features = CSV.read(\"data/ouvrages-surverses.csv\");\n",
    "colnames = [\"N_Env\", \"ID_SOMA\", \"ID_OUVRAGE\", \"NOM\", \"SOMA_SEC\", \"REGION\", \"TP_X\", \"TP_Y\", \"TP_Z\", \"TP_LAT\", \"TP_LNG\", \"EMI_X\", \"EMI_Y\", \"EMI_LNG\", \"EMI_LAT\"];\n",
    "names!(features, Symbol.(colnames));\n",
    "select!(features, [:ID_OUVRAGE, :TP_LAT, :TP_LNG, :TP_Z]);"
   ]
  },
  {
   "cell_type": "markdown",
   "metadata": {},
   "source": [
    "#### Replace missing Z index with mean"
   ]
  },
  {
   "cell_type": "code",
   "execution_count": 81,
   "metadata": {},
   "outputs": [
    {
     "data": {
      "text/html": [
       "<table class=\"data-frame\"><thead><tr><th></th><th>ID_OUVRAGE</th><th>TP_LAT</th><th>TP_LNG</th><th>TP_Z</th></tr><tr><th></th><th>String</th><th>Float64</th><th>Float64</th><th>Float64</th></tr></thead><tbody><p>10 rows × 4 columns</p><tr><th>1</th><td>4300-01D</td><td>45.5707</td><td>-73.5207</td><td>13.59</td></tr><tr><th>2</th><td>4530-02D</td><td>45.4408</td><td>-73.7711</td><td>19.3526</td></tr><tr><th>3</th><td>0801-04D</td><td>45.5029</td><td>-73.5238</td><td>12.36</td></tr><tr><th>4</th><td>4270-02D</td><td>45.6112</td><td>-73.5084</td><td>19.3526</td></tr><tr><th>5</th><td>3305-02D</td><td>45.6233</td><td>-73.628</td><td>12.51</td></tr><tr><th>6</th><td>3350-11D</td><td>45.5328</td><td>-73.7065</td><td>25.28</td></tr><tr><th>7</th><td>3480-05D</td><td>45.4986</td><td>-73.7835</td><td>24.85</td></tr><tr><th>8</th><td>4620-08D</td><td>45.4342</td><td>-73.8715</td><td>19.3526</td></tr><tr><th>9</th><td>4370-04D</td><td>45.4367</td><td>-73.7095</td><td>26.23</td></tr><tr><th>10</th><td>4230-04D</td><td>45.6713</td><td>-73.4917</td><td>8.96</td></tr></tbody></table>"
      ],
      "text/latex": [
       "\\begin{tabular}{r|cccc}\n",
       "\t& ID\\_OUVRAGE & TP\\_LAT & TP\\_LNG & TP\\_Z\\\\\n",
       "\t\\hline\n",
       "\t& String & Float64 & Float64 & Float64\\\\\n",
       "\t\\hline\n",
       "\t1 & 4300-01D & 45.5707 & -73.5207 & 13.59 \\\\\n",
       "\t2 & 4530-02D & 45.4408 & -73.7711 & 19.3526 \\\\\n",
       "\t3 & 0801-04D & 45.5029 & -73.5238 & 12.36 \\\\\n",
       "\t4 & 4270-02D & 45.6112 & -73.5084 & 19.3526 \\\\\n",
       "\t5 & 3305-02D & 45.6233 & -73.628 & 12.51 \\\\\n",
       "\t6 & 3350-11D & 45.5328 & -73.7065 & 25.28 \\\\\n",
       "\t7 & 3480-05D & 45.4986 & -73.7835 & 24.85 \\\\\n",
       "\t8 & 4620-08D & 45.4342 & -73.8715 & 19.3526 \\\\\n",
       "\t9 & 4370-04D & 45.4367 & -73.7095 & 26.23 \\\\\n",
       "\t10 & 4230-04D & 45.6713 & -73.4917 & 8.96 \\\\\n",
       "\\end{tabular}\n"
      ],
      "text/plain": [
       "10×4 DataFrame\n",
       "│ Row │ ID_OUVRAGE │ TP_LAT  │ TP_LNG   │ TP_Z    │\n",
       "│     │ \u001b[90mString\u001b[39m     │ \u001b[90mFloat64\u001b[39m │ \u001b[90mFloat64\u001b[39m  │ \u001b[90mFloat64\u001b[39m │\n",
       "├─────┼────────────┼─────────┼──────────┼─────────┤\n",
       "│ 1   │ 4300-01D   │ 45.5707 │ -73.5207 │ 13.59   │\n",
       "│ 2   │ 4530-02D   │ 45.4408 │ -73.7711 │ 19.3526 │\n",
       "│ 3   │ 0801-04D   │ 45.5029 │ -73.5238 │ 12.36   │\n",
       "│ 4   │ 4270-02D   │ 45.6112 │ -73.5084 │ 19.3526 │\n",
       "│ 5   │ 3305-02D   │ 45.6233 │ -73.628  │ 12.51   │\n",
       "│ 6   │ 3350-11D   │ 45.5328 │ -73.7065 │ 25.28   │\n",
       "│ 7   │ 3480-05D   │ 45.4986 │ -73.7835 │ 24.85   │\n",
       "│ 8   │ 4620-08D   │ 45.4342 │ -73.8715 │ 19.3526 │\n",
       "│ 9   │ 4370-04D   │ 45.4367 │ -73.7095 │ 26.23   │\n",
       "│ 10  │ 4230-04D   │ 45.6713 │ -73.4917 │ 8.96    │"
      ]
     },
     "execution_count": 81,
     "metadata": {},
     "output_type": "execute_result"
    }
   ],
   "source": [
    "features.TP_Z = coalesce.(features.TP_Z, mean(features[completecases(features), :].TP_Z));\n",
    "first(shuffleDf(features), 10)"
   ]
  },
  {
   "cell_type": "markdown",
   "metadata": {},
   "source": [
    "### Load dates and surverses"
   ]
  },
  {
   "cell_type": "code",
   "execution_count": 82,
   "metadata": {},
   "outputs": [],
   "source": [
    "surverses = CSV.read(\"data/surverses.csv\",missingstring=\"-99999\");"
   ]
  },
  {
   "cell_type": "markdown",
   "metadata": {},
   "source": [
    "#### Filter months"
   ]
  },
  {
   "cell_type": "code",
   "execution_count": 83,
   "metadata": {},
   "outputs": [],
   "source": [
    "surverses = filter(row -> month(row.DATE) > 4, surverses);\n",
    "surverses = filter(row -> month(row.DATE) < 11, surverses);"
   ]
  },
  {
   "cell_type": "markdown",
   "metadata": {},
   "source": [
    "#### Filter non rain surverses"
   ]
  },
  {
   "cell_type": "code",
   "execution_count": 84,
   "metadata": {},
   "outputs": [],
   "source": [
    "raison = coalesce.(surverses[:,:RAISON],\"Inconnue\");\n",
    "surverses[!,:RAISON] = raison;\n",
    "\n",
    "surverses = filter(row -> row.RAISON ∈ [\"P\",\"Inconnue\",\"TS\"], surverses);\n",
    "select!(surverses, [:NO_OUVRAGE, :DATE, :SURVERSE]);"
   ]
  },
  {
   "cell_type": "markdown",
   "metadata": {},
   "source": [
    "#### Remove missing data and rename"
   ]
  },
  {
   "cell_type": "code",
   "execution_count": 85,
   "metadata": {},
   "outputs": [
    {
     "data": {
      "text/html": [
       "<table class=\"data-frame\"><thead><tr><th></th><th>ID_OUVRAGE</th><th>DATE</th><th>SURVERSE</th></tr><tr><th></th><th>String</th><th>Date</th><th>Int64</th></tr></thead><tbody><p>10 rows × 3 columns</p><tr><th>1</th><td>3480-01D</td><td>2016-08-11</td><td>0</td></tr><tr><th>2</th><td>3782-01D</td><td>2013-09-19</td><td>0</td></tr><tr><th>3</th><td>3500-03D</td><td>2016-06-20</td><td>0</td></tr><tr><th>4</th><td>3350-01D</td><td>2018-09-27</td><td>0</td></tr><tr><th>5</th><td>0672-01D</td><td>2015-08-24</td><td>0</td></tr><tr><th>6</th><td>3350-03D</td><td>2013-05-23</td><td>0</td></tr><tr><th>7</th><td>4370-02D</td><td>2014-10-22</td><td>0</td></tr><tr><th>8</th><td>3580-01D</td><td>2015-05-22</td><td>0</td></tr><tr><th>9</th><td>4230-03D</td><td>2018-05-21</td><td>0</td></tr><tr><th>10</th><td>4330-02D</td><td>2014-10-21</td><td>0</td></tr></tbody></table>"
      ],
      "text/latex": [
       "\\begin{tabular}{r|ccc}\n",
       "\t& ID\\_OUVRAGE & DATE & SURVERSE\\\\\n",
       "\t\\hline\n",
       "\t& String & Date & Int64\\\\\n",
       "\t\\hline\n",
       "\t1 & 3480-01D & 2016-08-11 & 0 \\\\\n",
       "\t2 & 3782-01D & 2013-09-19 & 0 \\\\\n",
       "\t3 & 3500-03D & 2016-06-20 & 0 \\\\\n",
       "\t4 & 3350-01D & 2018-09-27 & 0 \\\\\n",
       "\t5 & 0672-01D & 2015-08-24 & 0 \\\\\n",
       "\t6 & 3350-03D & 2013-05-23 & 0 \\\\\n",
       "\t7 & 4370-02D & 2014-10-22 & 0 \\\\\n",
       "\t8 & 3580-01D & 2015-05-22 & 0 \\\\\n",
       "\t9 & 4230-03D & 2018-05-21 & 0 \\\\\n",
       "\t10 & 4330-02D & 2014-10-21 & 0 \\\\\n",
       "\\end{tabular}\n"
      ],
      "text/plain": [
       "10×3 DataFrame\n",
       "│ Row │ ID_OUVRAGE │ DATE       │ SURVERSE │\n",
       "│     │ \u001b[90mString\u001b[39m     │ \u001b[90mDate\u001b[39m       │ \u001b[90mInt64\u001b[39m    │\n",
       "├─────┼────────────┼────────────┼──────────┤\n",
       "│ 1   │ 3480-01D   │ 2016-08-11 │ 0        │\n",
       "│ 2   │ 3782-01D   │ 2013-09-19 │ 0        │\n",
       "│ 3   │ 3500-03D   │ 2016-06-20 │ 0        │\n",
       "│ 4   │ 3350-01D   │ 2018-09-27 │ 0        │\n",
       "│ 5   │ 0672-01D   │ 2015-08-24 │ 0        │\n",
       "│ 6   │ 3350-03D   │ 2013-05-23 │ 0        │\n",
       "│ 7   │ 4370-02D   │ 2014-10-22 │ 0        │\n",
       "│ 8   │ 3580-01D   │ 2015-05-22 │ 0        │\n",
       "│ 9   │ 4230-03D   │ 2018-05-21 │ 0        │\n",
       "│ 10  │ 4330-02D   │ 2014-10-21 │ 0        │"
      ]
     },
     "execution_count": 85,
     "metadata": {},
     "output_type": "execute_result"
    }
   ],
   "source": [
    "surverses = dropmissing(surverses, disallowmissing=true);\n",
    "rename!(surverses, :NO_OUVRAGE => :ID_OUVRAGE);\n",
    "first(shuffleDf(surverses),10)"
   ]
  },
  {
   "cell_type": "markdown",
   "metadata": {},
   "source": [
    "### Augment features with dates and label"
   ]
  },
  {
   "cell_type": "code",
   "execution_count": 86,
   "metadata": {},
   "outputs": [
    {
     "data": {
      "text/html": [
       "<table class=\"data-frame\"><thead><tr><th></th><th>ID_OUVRAGE</th><th>TP_LAT</th><th>TP_LNG</th><th>TP_Z</th><th>DATE</th><th>SURVERSE</th></tr><tr><th></th><th>String</th><th>Float64</th><th>Float64</th><th>Float64</th><th>Date</th><th>Int64</th></tr></thead><tbody><p>10 rows × 6 columns</p><tr><th>1</th><td>3310-01D</td><td>45.6139</td><td>-73.6313</td><td>19.58</td><td>2016-10-13</td><td>1</td></tr><tr><th>2</th><td>3767-01D</td><td>45.5456</td><td>-73.701</td><td>20.51</td><td>2013-09-28</td><td>0</td></tr><tr><th>3</th><td>3290-01D</td><td>45.6238</td><td>-73.6219</td><td>19.85</td><td>2016-10-27</td><td>1</td></tr><tr><th>4</th><td>4230-03D</td><td>45.6705</td><td>-73.4918</td><td>9.1</td><td>2014-07-09</td><td>0</td></tr><tr><th>5</th><td>4230-08D</td><td>45.6968</td><td>-73.4809</td><td>10.11</td><td>2016-05-06</td><td>0</td></tr><tr><th>6</th><td>4390-01D</td><td>45.4618</td><td>-73.5555</td><td>14.62</td><td>2013-09-24</td><td>0</td></tr><tr><th>7</th><td>4720-01D</td><td>45.7001</td><td>-73.4891</td><td>10.6</td><td>2017-06-04</td><td>0</td></tr><tr><th>8</th><td>4430-02D</td><td>45.4344</td><td>-73.5869</td><td>18.56</td><td>2017-08-21</td><td>0</td></tr><tr><th>9</th><td>3310-01D</td><td>45.6139</td><td>-73.6313</td><td>19.58</td><td>2016-08-13</td><td>1</td></tr><tr><th>10</th><td>3240-05D</td><td>45.6604</td><td>-73.5607</td><td>27.09</td><td>2018-05-30</td><td>0</td></tr></tbody></table>"
      ],
      "text/latex": [
       "\\begin{tabular}{r|cccccc}\n",
       "\t& ID\\_OUVRAGE & TP\\_LAT & TP\\_LNG & TP\\_Z & DATE & SURVERSE\\\\\n",
       "\t\\hline\n",
       "\t& String & Float64 & Float64 & Float64 & Date & Int64\\\\\n",
       "\t\\hline\n",
       "\t1 & 3310-01D & 45.6139 & -73.6313 & 19.58 & 2016-10-13 & 1 \\\\\n",
       "\t2 & 3767-01D & 45.5456 & -73.701 & 20.51 & 2013-09-28 & 0 \\\\\n",
       "\t3 & 3290-01D & 45.6238 & -73.6219 & 19.85 & 2016-10-27 & 1 \\\\\n",
       "\t4 & 4230-03D & 45.6705 & -73.4918 & 9.1 & 2014-07-09 & 0 \\\\\n",
       "\t5 & 4230-08D & 45.6968 & -73.4809 & 10.11 & 2016-05-06 & 0 \\\\\n",
       "\t6 & 4390-01D & 45.4618 & -73.5555 & 14.62 & 2013-09-24 & 0 \\\\\n",
       "\t7 & 4720-01D & 45.7001 & -73.4891 & 10.6 & 2017-06-04 & 0 \\\\\n",
       "\t8 & 4430-02D & 45.4344 & -73.5869 & 18.56 & 2017-08-21 & 0 \\\\\n",
       "\t9 & 3310-01D & 45.6139 & -73.6313 & 19.58 & 2016-08-13 & 1 \\\\\n",
       "\t10 & 3240-05D & 45.6604 & -73.5607 & 27.09 & 2018-05-30 & 0 \\\\\n",
       "\\end{tabular}\n"
      ],
      "text/plain": [
       "10×6 DataFrame\n",
       "│ Row │ ID_OUVRAGE │ TP_LAT  │ TP_LNG   │ TP_Z    │ DATE       │ SURVERSE │\n",
       "│     │ \u001b[90mString\u001b[39m     │ \u001b[90mFloat64\u001b[39m │ \u001b[90mFloat64\u001b[39m  │ \u001b[90mFloat64\u001b[39m │ \u001b[90mDate\u001b[39m       │ \u001b[90mInt64\u001b[39m    │\n",
       "├─────┼────────────┼─────────┼──────────┼─────────┼────────────┼──────────┤\n",
       "│ 1   │ 3310-01D   │ 45.6139 │ -73.6313 │ 19.58   │ 2016-10-13 │ 1        │\n",
       "│ 2   │ 3767-01D   │ 45.5456 │ -73.701  │ 20.51   │ 2013-09-28 │ 0        │\n",
       "│ 3   │ 3290-01D   │ 45.6238 │ -73.6219 │ 19.85   │ 2016-10-27 │ 1        │\n",
       "│ 4   │ 4230-03D   │ 45.6705 │ -73.4918 │ 9.1     │ 2014-07-09 │ 0        │\n",
       "│ 5   │ 4230-08D   │ 45.6968 │ -73.4809 │ 10.11   │ 2016-05-06 │ 0        │\n",
       "│ 6   │ 4390-01D   │ 45.4618 │ -73.5555 │ 14.62   │ 2013-09-24 │ 0        │\n",
       "│ 7   │ 4720-01D   │ 45.7001 │ -73.4891 │ 10.6    │ 2017-06-04 │ 0        │\n",
       "│ 8   │ 4430-02D   │ 45.4344 │ -73.5869 │ 18.56   │ 2017-08-21 │ 0        │\n",
       "│ 9   │ 3310-01D   │ 45.6139 │ -73.6313 │ 19.58   │ 2016-08-13 │ 1        │\n",
       "│ 10  │ 3240-05D   │ 45.6604 │ -73.5607 │ 27.09   │ 2018-05-30 │ 0        │"
      ]
     },
     "execution_count": 86,
     "metadata": {},
     "output_type": "execute_result"
    }
   ],
   "source": [
    "comb = join(features, surverses, on = :ID_OUVRAGE);\n",
    "first(shuffleDf(comb), 10)"
   ]
  },
  {
   "cell_type": "markdown",
   "metadata": {},
   "source": [
    "### Load precipitation data"
   ]
  },
  {
   "cell_type": "markdown",
   "metadata": {},
   "source": [
    "#### Load and filter months between May & October included"
   ]
  },
  {
   "cell_type": "code",
   "execution_count": 87,
   "metadata": {},
   "outputs": [],
   "source": [
    "precipitation = CSV.read(\"data/precipitations.csv\",missingstring=\"-99999\");\n",
    "rename!(precipitation, Symbol(\"St-Hubert\")=>:StHubert);\n",
    "\n",
    "precipitation = filter(row -> month(row.date) > 4, precipitation);\n",
    "precipitation = filter(row -> month(row.date) < 11, precipitation); "
   ]
  },
  {
   "cell_type": "markdown",
   "metadata": {},
   "source": [
    "#### Replace missing data by 0"
   ]
  },
  {
   "cell_type": "code",
   "execution_count": 88,
   "metadata": {},
   "outputs": [
    {
     "data": {
      "text/html": [
       "<table class=\"data-frame\"><thead><tr><th></th><th>date</th><th>heure</th><th>McTavish</th><th>Bellevue</th><th>Assomption</th><th>Trudeau</th><th>StHubert</th></tr><tr><th></th><th>Date</th><th>Int64</th><th>Int64</th><th>Int64</th><th>Int64</th><th>Int64</th><th>Int64</th></tr></thead><tbody><p>5 rows × 7 columns</p><tr><th>1</th><td>2016-06-28</td><td>5</td><td>0</td><td>0</td><td>0</td><td>0</td><td>0</td></tr><tr><th>2</th><td>2014-06-18</td><td>12</td><td>0</td><td>0</td><td>0</td><td>0</td><td>0</td></tr><tr><th>3</th><td>2014-09-05</td><td>8</td><td>0</td><td>0</td><td>0</td><td>0</td><td>0</td></tr><tr><th>4</th><td>2014-06-20</td><td>9</td><td>0</td><td>0</td><td>0</td><td>0</td><td>0</td></tr><tr><th>5</th><td>2017-09-05</td><td>14</td><td>0</td><td>0</td><td>0</td><td>0</td><td>0</td></tr></tbody></table>"
      ],
      "text/latex": [
       "\\begin{tabular}{r|ccccccc}\n",
       "\t& date & heure & McTavish & Bellevue & Assomption & Trudeau & StHubert\\\\\n",
       "\t\\hline\n",
       "\t& Date & Int64 & Int64 & Int64 & Int64 & Int64 & Int64\\\\\n",
       "\t\\hline\n",
       "\t1 & 2016-06-28 & 5 & 0 & 0 & 0 & 0 & 0 \\\\\n",
       "\t2 & 2014-06-18 & 12 & 0 & 0 & 0 & 0 & 0 \\\\\n",
       "\t3 & 2014-09-05 & 8 & 0 & 0 & 0 & 0 & 0 \\\\\n",
       "\t4 & 2014-06-20 & 9 & 0 & 0 & 0 & 0 & 0 \\\\\n",
       "\t5 & 2017-09-05 & 14 & 0 & 0 & 0 & 0 & 0 \\\\\n",
       "\\end{tabular}\n"
      ],
      "text/plain": [
       "5×7 DataFrame. Omitted printing of 1 columns\n",
       "│ Row │ date       │ heure │ McTavish │ Bellevue │ Assomption │ Trudeau │\n",
       "│     │ \u001b[90mDate\u001b[39m       │ \u001b[90mInt64\u001b[39m │ \u001b[90mInt64\u001b[39m    │ \u001b[90mInt64\u001b[39m    │ \u001b[90mInt64\u001b[39m      │ \u001b[90mInt64\u001b[39m   │\n",
       "├─────┼────────────┼───────┼──────────┼──────────┼────────────┼─────────┤\n",
       "│ 1   │ 2016-06-28 │ 5     │ 0        │ 0        │ 0          │ 0       │\n",
       "│ 2   │ 2014-06-18 │ 12    │ 0        │ 0        │ 0          │ 0       │\n",
       "│ 3   │ 2014-09-05 │ 8     │ 0        │ 0        │ 0          │ 0       │\n",
       "│ 4   │ 2014-06-20 │ 9     │ 0        │ 0        │ 0          │ 0       │\n",
       "│ 5   │ 2017-09-05 │ 14    │ 0        │ 0        │ 0          │ 0       │"
      ]
     },
     "execution_count": 88,
     "metadata": {},
     "output_type": "execute_result"
    }
   ],
   "source": [
    "precipitation[!,:McTavish] = coalesce.(precipitation[:,:McTavish], 0);\n",
    "precipitation[!,:Bellevue] = coalesce.(precipitation[:,:Bellevue], 0);\n",
    "precipitation[!,:Assomption] = coalesce.(precipitation[:,:Assomption], 0);\n",
    "precipitation[!,:Trudeau] = coalesce.(precipitation[:,:Trudeau], 0);\n",
    "precipitation[!,:StHubert] = coalesce.(precipitation[:,:StHubert], 0);\n",
    "\n",
    "first(shuffleDf(precipitation), 5)"
   ]
  },
  {
   "cell_type": "markdown",
   "metadata": {},
   "source": [
    "### Extract features from precipitation"
   ]
  },
  {
   "cell_type": "markdown",
   "metadata": {},
   "source": [
    "#### Sum of precipitation for the day"
   ]
  },
  {
   "cell_type": "code",
   "execution_count": 89,
   "metadata": {
    "scrolled": true
   },
   "outputs": [
    {
     "data": {
      "text/html": [
       "<table class=\"data-frame\"><thead><tr><th></th><th>date</th><th>McTavish</th><th>Bellevue</th><th>Assomption</th><th>Trudeau</th><th>StHubert</th></tr><tr><th></th><th>Date</th><th>Int64</th><th>Int64</th><th>Int64</th><th>Int64</th><th>Int64</th></tr></thead><tbody><p>5 rows × 6 columns</p><tr><th>1</th><td>2016-09-11</td><td>60</td><td>38</td><td>30</td><td>54</td><td>76</td></tr><tr><th>2</th><td>2019-09-25</td><td>18</td><td>0</td><td>0</td><td>2</td><td>0</td></tr><tr><th>3</th><td>2015-06-28</td><td>164</td><td>108</td><td>190</td><td>113</td><td>119</td></tr><tr><th>4</th><td>2016-07-25</td><td>41</td><td>7</td><td>100</td><td>49</td><td>35</td></tr><tr><th>5</th><td>2013-07-28</td><td>94</td><td>206</td><td>120</td><td>110</td><td>0</td></tr></tbody></table>"
      ],
      "text/latex": [
       "\\begin{tabular}{r|cccccc}\n",
       "\t& date & McTavish & Bellevue & Assomption & Trudeau & StHubert\\\\\n",
       "\t\\hline\n",
       "\t& Date & Int64 & Int64 & Int64 & Int64 & Int64\\\\\n",
       "\t\\hline\n",
       "\t1 & 2016-09-11 & 60 & 38 & 30 & 54 & 76 \\\\\n",
       "\t2 & 2019-09-25 & 18 & 0 & 0 & 2 & 0 \\\\\n",
       "\t3 & 2015-06-28 & 164 & 108 & 190 & 113 & 119 \\\\\n",
       "\t4 & 2016-07-25 & 41 & 7 & 100 & 49 & 35 \\\\\n",
       "\t5 & 2013-07-28 & 94 & 206 & 120 & 110 & 0 \\\\\n",
       "\\end{tabular}\n"
      ],
      "text/plain": [
       "5×6 DataFrame\n",
       "│ Row │ date       │ McTavish │ Bellevue │ Assomption │ Trudeau │ StHubert │\n",
       "│     │ \u001b[90mDate\u001b[39m       │ \u001b[90mInt64\u001b[39m    │ \u001b[90mInt64\u001b[39m    │ \u001b[90mInt64\u001b[39m      │ \u001b[90mInt64\u001b[39m   │ \u001b[90mInt64\u001b[39m    │\n",
       "├─────┼────────────┼──────────┼──────────┼────────────┼─────────┼──────────┤\n",
       "│ 1   │ 2016-09-11 │ 60       │ 38       │ 30         │ 54      │ 76       │\n",
       "│ 2   │ 2019-09-25 │ 18       │ 0        │ 0          │ 2       │ 0        │\n",
       "│ 3   │ 2015-06-28 │ 164      │ 108      │ 190        │ 113     │ 119      │\n",
       "│ 4   │ 2016-07-25 │ 41       │ 7        │ 100        │ 49      │ 35       │\n",
       "│ 5   │ 2013-07-28 │ 94       │ 206      │ 120        │ 110     │ 0        │"
      ]
     },
     "execution_count": 89,
     "metadata": {},
     "output_type": "execute_result"
    }
   ],
   "source": [
    "pcp_sum = by(precipitation, :date,  McTavish = :McTavish=>sum, Bellevue = :Bellevue=>sum, \n",
    "   Assomption = :Assomption=>sum, Trudeau = :Trudeau=>sum, StHubert = :StHubert=>sum);\n",
    "first(shuffleDf(pcp_sum), 5)"
   ]
  },
  {
   "cell_type": "markdown",
   "metadata": {},
   "source": [
    "#### Maximum precipitation in an hour for the day"
   ]
  },
  {
   "cell_type": "code",
   "execution_count": 90,
   "metadata": {},
   "outputs": [
    {
     "data": {
      "text/html": [
       "<table class=\"data-frame\"><thead><tr><th></th><th>date</th><th>McTavish</th><th>Bellevue</th><th>Assomption</th><th>Trudeau</th><th>StHubert</th></tr><tr><th></th><th>Date</th><th>Int64</th><th>Int64</th><th>Int64</th><th>Int64</th><th>Int64</th></tr></thead><tbody><p>5 rows × 6 columns</p><tr><th>1</th><td>2013-07-15</td><td>0</td><td>0</td><td>0</td><td>0</td><td>0</td></tr><tr><th>2</th><td>2017-07-14</td><td>27</td><td>50</td><td>0</td><td>43</td><td>30</td></tr><tr><th>3</th><td>2018-05-18</td><td>0</td><td>0</td><td>5</td><td>0</td><td>0</td></tr><tr><th>4</th><td>2015-08-03</td><td>0</td><td>10</td><td>20</td><td>2</td><td>0</td></tr><tr><th>5</th><td>2017-09-27</td><td>42</td><td>36</td><td>50</td><td>50</td><td>10</td></tr></tbody></table>"
      ],
      "text/latex": [
       "\\begin{tabular}{r|cccccc}\n",
       "\t& date & McTavish & Bellevue & Assomption & Trudeau & StHubert\\\\\n",
       "\t\\hline\n",
       "\t& Date & Int64 & Int64 & Int64 & Int64 & Int64\\\\\n",
       "\t\\hline\n",
       "\t1 & 2013-07-15 & 0 & 0 & 0 & 0 & 0 \\\\\n",
       "\t2 & 2017-07-14 & 27 & 50 & 0 & 43 & 30 \\\\\n",
       "\t3 & 2018-05-18 & 0 & 0 & 5 & 0 & 0 \\\\\n",
       "\t4 & 2015-08-03 & 0 & 10 & 20 & 2 & 0 \\\\\n",
       "\t5 & 2017-09-27 & 42 & 36 & 50 & 50 & 10 \\\\\n",
       "\\end{tabular}\n"
      ],
      "text/plain": [
       "5×6 DataFrame\n",
       "│ Row │ date       │ McTavish │ Bellevue │ Assomption │ Trudeau │ StHubert │\n",
       "│     │ \u001b[90mDate\u001b[39m       │ \u001b[90mInt64\u001b[39m    │ \u001b[90mInt64\u001b[39m    │ \u001b[90mInt64\u001b[39m      │ \u001b[90mInt64\u001b[39m   │ \u001b[90mInt64\u001b[39m    │\n",
       "├─────┼────────────┼──────────┼──────────┼────────────┼─────────┼──────────┤\n",
       "│ 1   │ 2013-07-15 │ 0        │ 0        │ 0          │ 0       │ 0        │\n",
       "│ 2   │ 2017-07-14 │ 27       │ 50       │ 0          │ 43      │ 30       │\n",
       "│ 3   │ 2018-05-18 │ 0        │ 0        │ 5          │ 0       │ 0        │\n",
       "│ 4   │ 2015-08-03 │ 0        │ 10       │ 20         │ 2       │ 0        │\n",
       "│ 5   │ 2017-09-27 │ 42       │ 36       │ 50         │ 50      │ 10       │"
      ]
     },
     "execution_count": 90,
     "metadata": {},
     "output_type": "execute_result"
    }
   ],
   "source": [
    "pcp_max = by(precipitation, :date,  McTavish = :McTavish=>maximum, Bellevue = :Bellevue=>maximum, \n",
    "   Assomption = :Assomption=>maximum, Trudeau = :Trudeau=>maximum, StHubert = :StHubert=>maximum)\n",
    "first(shuffleDf(pcp_max),5)"
   ]
  },
  {
   "cell_type": "markdown",
   "metadata": {},
   "source": [
    "#### Maximum precipitation during three consecutive hours in a day"
   ]
  },
  {
   "cell_type": "code",
   "execution_count": 91,
   "metadata": {},
   "outputs": [
    {
     "data": {
      "text/html": [
       "<table class=\"data-frame\"><thead><tr><th></th><th>date</th><th>McTavish</th><th>Bellevue</th><th>Assomption</th><th>Trudeau</th><th>StHubert</th></tr><tr><th></th><th>Date</th><th>Int64</th><th>Int64</th><th>Int64</th><th>Int64</th><th>Int64</th></tr></thead><tbody><p>5 rows × 6 columns</p><tr><th>1</th><td>2019-08-14</td><td>0</td><td>0</td><td>0</td><td>0</td><td>0</td></tr><tr><th>2</th><td>2018-09-03</td><td>59</td><td>81</td><td>123</td><td>33</td><td>112</td></tr><tr><th>3</th><td>2019-10-27</td><td>210</td><td>0</td><td>0</td><td>197</td><td>171</td></tr><tr><th>4</th><td>2015-10-26</td><td>2</td><td>0</td><td>10</td><td>0</td><td>0</td></tr><tr><th>5</th><td>2016-10-19</td><td>0</td><td>0</td><td>0</td><td>0</td><td>0</td></tr></tbody></table>"
      ],
      "text/latex": [
       "\\begin{tabular}{r|cccccc}\n",
       "\t& date & McTavish & Bellevue & Assomption & Trudeau & StHubert\\\\\n",
       "\t\\hline\n",
       "\t& Date & Int64 & Int64 & Int64 & Int64 & Int64\\\\\n",
       "\t\\hline\n",
       "\t1 & 2019-08-14 & 0 & 0 & 0 & 0 & 0 \\\\\n",
       "\t2 & 2018-09-03 & 59 & 81 & 123 & 33 & 112 \\\\\n",
       "\t3 & 2019-10-27 & 210 & 0 & 0 & 197 & 171 \\\\\n",
       "\t4 & 2015-10-26 & 2 & 0 & 10 & 0 & 0 \\\\\n",
       "\t5 & 2016-10-19 & 0 & 0 & 0 & 0 & 0 \\\\\n",
       "\\end{tabular}\n"
      ],
      "text/plain": [
       "5×6 DataFrame\n",
       "│ Row │ date       │ McTavish │ Bellevue │ Assomption │ Trudeau │ StHubert │\n",
       "│     │ \u001b[90mDate\u001b[39m       │ \u001b[90mInt64\u001b[39m    │ \u001b[90mInt64\u001b[39m    │ \u001b[90mInt64\u001b[39m      │ \u001b[90mInt64\u001b[39m   │ \u001b[90mInt64\u001b[39m    │\n",
       "├─────┼────────────┼──────────┼──────────┼────────────┼─────────┼──────────┤\n",
       "│ 1   │ 2019-08-14 │ 0        │ 0        │ 0          │ 0       │ 0        │\n",
       "│ 2   │ 2018-09-03 │ 59       │ 81       │ 123        │ 33      │ 112      │\n",
       "│ 3   │ 2019-10-27 │ 210      │ 0        │ 0          │ 197     │ 171      │\n",
       "│ 4   │ 2015-10-26 │ 2        │ 0        │ 10         │ 0       │ 0        │\n",
       "│ 5   │ 2016-10-19 │ 0        │ 0        │ 0          │ 0       │ 0        │"
      ]
     },
     "execution_count": 91,
     "metadata": {},
     "output_type": "execute_result"
    }
   ],
   "source": [
    "pcp_max3h = by(precipitation, :date,  McTavish = :McTavish=>maximum3, Bellevue = :Bellevue=>maximum3, \n",
    "   Assomption = :Assomption=>maximum3, Trudeau = :Trudeau=>maximum3, StHubert = :StHubert=>maximum3)\n",
    "first(shuffleDf(pcp_max3h),5)"
   ]
  },
  {
   "cell_type": "markdown",
   "metadata": {},
   "source": [
    "### Add precipitation data to features"
   ]
  },
  {
   "cell_type": "markdown",
   "metadata": {},
   "source": [
    "#### Get stations lat-lng"
   ]
  },
  {
   "cell_type": "code",
   "execution_count": 92,
   "metadata": {},
   "outputs": [
    {
     "data": {
      "text/html": [
       "<table class=\"data-frame\"><thead><tr><th></th><th>STATION</th><th>LAT</th><th>LNG</th></tr><tr><th></th><th>String</th><th>Float64</th><th>Float64</th></tr></thead><tbody><p>5 rows × 3 columns</p><tr><th>1</th><td>McTavish</td><td>45.5047</td><td>-73.5792</td></tr><tr><th>2</th><td>Bellevue</td><td>45.4272</td><td>-73.9292</td></tr><tr><th>3</th><td>Assomption</td><td>45.8094</td><td>-73.4347</td></tr><tr><th>4</th><td>Trudeau</td><td>45.4678</td><td>-73.7417</td></tr><tr><th>5</th><td>StHubert</td><td>45.5175</td><td>-73.4169</td></tr></tbody></table>"
      ],
      "text/latex": [
       "\\begin{tabular}{r|ccc}\n",
       "\t& STATION & LAT & LNG\\\\\n",
       "\t\\hline\n",
       "\t& String & Float64 & Float64\\\\\n",
       "\t\\hline\n",
       "\t1 & McTavish & 45.5047 & -73.5792 \\\\\n",
       "\t2 & Bellevue & 45.4272 & -73.9292 \\\\\n",
       "\t3 & Assomption & 45.8094 & -73.4347 \\\\\n",
       "\t4 & Trudeau & 45.4678 & -73.7417 \\\\\n",
       "\t5 & StHubert & 45.5175 & -73.4169 \\\\\n",
       "\\end{tabular}\n"
      ],
      "text/plain": [
       "5×3 DataFrame\n",
       "│ Row │ STATION    │ LAT     │ LNG      │\n",
       "│     │ \u001b[90mString\u001b[39m     │ \u001b[90mFloat64\u001b[39m │ \u001b[90mFloat64\u001b[39m  │\n",
       "├─────┼────────────┼─────────┼──────────┤\n",
       "│ 1   │ McTavish   │ 45.5047 │ -73.5792 │\n",
       "│ 2   │ Bellevue   │ 45.4272 │ -73.9292 │\n",
       "│ 3   │ Assomption │ 45.8094 │ -73.4347 │\n",
       "│ 4   │ Trudeau    │ 45.4678 │ -73.7417 │\n",
       "│ 5   │ StHubert   │ 45.5175 │ -73.4169 │"
      ]
     },
     "execution_count": 92,
     "metadata": {},
     "output_type": "execute_result"
    }
   ],
   "source": [
    "station_df = DataFrame(STATION = String[], LAT = Float64[], LNG = Float64[]);\n",
    "\n",
    "push!(station_df, [\"McTavish\", 45.504742, -73.579167]);\n",
    "push!(station_df, [\"Bellevue\", 45.427222, -73.929167]);\n",
    "push!(station_df, [\"Assomption\", 45.809444, -73.434722]);\n",
    "push!(station_df, [\"Trudeau\", 45.467778, -73.741667]);\n",
    "push!(station_df, [\"StHubert\", 45.5175, -73.416944]);\n",
    "\n",
    "station_df"
   ]
  },
  {
   "cell_type": "markdown",
   "metadata": {},
   "source": [
    "### Normalize elements"
   ]
  },
  {
   "cell_type": "markdown",
   "metadata": {},
   "source": [
    "#### Get extreme values"
   ]
  },
  {
   "cell_type": "code",
   "execution_count": 18,
   "metadata": {},
   "outputs": [],
   "source": [
    "min_lat = min(minimum(comb.TP_LAT), minimum(station_df.LAT));\n",
    "max_lat = max(maximum(comb.TP_LAT), maximum(station_df.LAT));\n",
    "\n",
    "min_lng = min(minimum(comb.TP_LNG), minimum(station_df.LNG));\n",
    "max_lng = max(maximum(comb.TP_LNG), maximum(station_df.LNG));\n",
    "\n",
    "min_z = minimum(comb.TP_Z);\n",
    "max_z = maximum(comb.TP_Z);"
   ]
  },
  {
   "cell_type": "markdown",
   "metadata": {},
   "source": [
    "#### Normalize every value of comb between 0 and 1"
   ]
  },
  {
   "cell_type": "code",
   "execution_count": 19,
   "metadata": {},
   "outputs": [
    {
     "data": {
      "text/html": [
       "<table class=\"data-frame\"><thead><tr><th></th><th>ID_OUVRAGE</th><th>TP_LAT</th><th>TP_LNG</th><th>TP_Z</th><th>DATE</th><th>SURVERSE</th></tr><tr><th></th><th>String</th><th>Float64</th><th>Float64</th><th>Float64</th><th>Date</th><th>Int64</th></tr></thead><tbody><p>10 rows × 6 columns</p><tr><th>1</th><td>4340-01D</td><td>0.304064</td><td>0.76384</td><td>0.359121</td><td>2016-10-27</td><td>0</td></tr><tr><th>2</th><td>0801-02D</td><td>0.282343</td><td>0.794159</td><td>0.130563</td><td>2014-05-22</td><td>0</td></tr><tr><th>3</th><td>0801-03D</td><td>0.259517</td><td>0.795544</td><td>0.117484</td><td>2017-09-14</td><td>0</td></tr><tr><th>4</th><td>3305-02D</td><td>0.54252</td><td>0.609008</td><td>0.136121</td><td>2015-08-27</td><td>0</td></tr><tr><th>5</th><td>3350-03D</td><td>0.432488</td><td>0.553455</td><td>0.310401</td><td>2018-06-07</td><td>0</td></tr><tr><th>6</th><td>4310-01D</td><td>0.398976</td><td>0.803102</td><td>0.182552</td><td>2018-05-26</td><td>0</td></tr><tr><th>7</th><td>4430-02D</td><td>0.078588</td><td>0.685158</td><td>0.333944</td><td>2018-10-13</td><td>0</td></tr><tr><th>8</th><td>4230-03D</td><td>0.658594</td><td>0.861384</td><td>0.0246215</td><td>2013-05-18</td><td>0</td></tr><tr><th>9</th><td>4265-01D</td><td>0.549187</td><td>0.847845</td><td>0.112252</td><td>2013-07-04</td><td>0</td></tr><tr><th>10</th><td>4300-01D</td><td>0.413346</td><td>0.807748</td><td>0.171435</td><td>2016-07-30</td><td>0</td></tr></tbody></table>"
      ],
      "text/latex": [
       "\\begin{tabular}{r|cccccc}\n",
       "\t& ID\\_OUVRAGE & TP\\_LAT & TP\\_LNG & TP\\_Z & DATE & SURVERSE\\\\\n",
       "\t\\hline\n",
       "\t& String & Float64 & Float64 & Float64 & Date & Int64\\\\\n",
       "\t\\hline\n",
       "\t1 & 4340-01D & 0.304064 & 0.76384 & 0.359121 & 2016-10-27 & 0 \\\\\n",
       "\t2 & 0801-02D & 0.282343 & 0.794159 & 0.130563 & 2014-05-22 & 0 \\\\\n",
       "\t3 & 0801-03D & 0.259517 & 0.795544 & 0.117484 & 2017-09-14 & 0 \\\\\n",
       "\t4 & 3305-02D & 0.54252 & 0.609008 & 0.136121 & 2015-08-27 & 0 \\\\\n",
       "\t5 & 3350-03D & 0.432488 & 0.553455 & 0.310401 & 2018-06-07 & 0 \\\\\n",
       "\t6 & 4310-01D & 0.398976 & 0.803102 & 0.182552 & 2018-05-26 & 0 \\\\\n",
       "\t7 & 4430-02D & 0.078588 & 0.685158 & 0.333944 & 2018-10-13 & 0 \\\\\n",
       "\t8 & 4230-03D & 0.658594 & 0.861384 & 0.0246215 & 2013-05-18 & 0 \\\\\n",
       "\t9 & 4265-01D & 0.549187 & 0.847845 & 0.112252 & 2013-07-04 & 0 \\\\\n",
       "\t10 & 4300-01D & 0.413346 & 0.807748 & 0.171435 & 2016-07-30 & 0 \\\\\n",
       "\\end{tabular}\n"
      ],
      "text/plain": [
       "10×6 DataFrame\n",
       "│ Row │ ID_OUVRAGE │ TP_LAT   │ TP_LNG   │ TP_Z      │ DATE       │ SURVERSE │\n",
       "│     │ \u001b[90mString\u001b[39m     │ \u001b[90mFloat64\u001b[39m  │ \u001b[90mFloat64\u001b[39m  │ \u001b[90mFloat64\u001b[39m   │ \u001b[90mDate\u001b[39m       │ \u001b[90mInt64\u001b[39m    │\n",
       "├─────┼────────────┼──────────┼──────────┼───────────┼────────────┼──────────┤\n",
       "│ 1   │ 4340-01D   │ 0.304064 │ 0.76384  │ 0.359121  │ 2016-10-27 │ 0        │\n",
       "│ 2   │ 0801-02D   │ 0.282343 │ 0.794159 │ 0.130563  │ 2014-05-22 │ 0        │\n",
       "│ 3   │ 0801-03D   │ 0.259517 │ 0.795544 │ 0.117484  │ 2017-09-14 │ 0        │\n",
       "│ 4   │ 3305-02D   │ 0.54252  │ 0.609008 │ 0.136121  │ 2015-08-27 │ 0        │\n",
       "│ 5   │ 3350-03D   │ 0.432488 │ 0.553455 │ 0.310401  │ 2018-06-07 │ 0        │\n",
       "│ 6   │ 4310-01D   │ 0.398976 │ 0.803102 │ 0.182552  │ 2018-05-26 │ 0        │\n",
       "│ 7   │ 4430-02D   │ 0.078588 │ 0.685158 │ 0.333944  │ 2018-10-13 │ 0        │\n",
       "│ 8   │ 4230-03D   │ 0.658594 │ 0.861384 │ 0.0246215 │ 2013-05-18 │ 0        │\n",
       "│ 9   │ 4265-01D   │ 0.549187 │ 0.847845 │ 0.112252  │ 2013-07-04 │ 0        │\n",
       "│ 10  │ 4300-01D   │ 0.413346 │ 0.807748 │ 0.171435  │ 2016-07-30 │ 0        │"
      ]
     },
     "execution_count": 19,
     "metadata": {},
     "output_type": "execute_result"
    }
   ],
   "source": [
    "comb.TP_LAT = normalize.(comb.TP_LAT, min_lat, max_lat);\n",
    "comb.TP_LNG = normalize.(comb.TP_LNG, min_lng, max_lng);\n",
    "comb.TP_Z = normalize.(comb.TP_Z, min_z, max_z);\n",
    "\n",
    "first(shuffleDf(comb), 10)"
   ]
  },
  {
   "cell_type": "markdown",
   "metadata": {},
   "source": [
    "#### Normalize every value of station_df between 0 and 1"
   ]
  },
  {
   "cell_type": "code",
   "execution_count": 20,
   "metadata": {},
   "outputs": [
    {
     "data": {
      "text/html": [
       "<table class=\"data-frame\"><thead><tr><th></th><th>STATION</th><th>LAT</th><th>LNG</th></tr><tr><th></th><th>String</th><th>Float64</th><th>Float64</th></tr></thead><tbody><p>5 rows × 3 columns</p><tr><th>1</th><td>McTavish</td><td>0.251316</td><td>0.699536</td></tr><tr><th>2</th><td>Bellevue</td><td>0.0608415</td><td>0.0512791</td></tr><tr><th>3</th><td>Assomption</td><td>1.0</td><td>0.967072</td></tr><tr><th>4</th><td>Trudeau</td><td>0.160492</td><td>0.39856</td></tr><tr><th>5</th><td>StHubert</td><td>0.282664</td><td>1.0</td></tr></tbody></table>"
      ],
      "text/latex": [
       "\\begin{tabular}{r|ccc}\n",
       "\t& STATION & LAT & LNG\\\\\n",
       "\t\\hline\n",
       "\t& String & Float64 & Float64\\\\\n",
       "\t\\hline\n",
       "\t1 & McTavish & 0.251316 & 0.699536 \\\\\n",
       "\t2 & Bellevue & 0.0608415 & 0.0512791 \\\\\n",
       "\t3 & Assomption & 1.0 & 0.967072 \\\\\n",
       "\t4 & Trudeau & 0.160492 & 0.39856 \\\\\n",
       "\t5 & StHubert & 0.282664 & 1.0 \\\\\n",
       "\\end{tabular}\n"
      ],
      "text/plain": [
       "5×3 DataFrame\n",
       "│ Row │ STATION    │ LAT       │ LNG       │\n",
       "│     │ \u001b[90mString\u001b[39m     │ \u001b[90mFloat64\u001b[39m   │ \u001b[90mFloat64\u001b[39m   │\n",
       "├─────┼────────────┼───────────┼───────────┤\n",
       "│ 1   │ McTavish   │ 0.251316  │ 0.699536  │\n",
       "│ 2   │ Bellevue   │ 0.0608415 │ 0.0512791 │\n",
       "│ 3   │ Assomption │ 1.0       │ 0.967072  │\n",
       "│ 4   │ Trudeau    │ 0.160492  │ 0.39856   │\n",
       "│ 5   │ StHubert   │ 0.282664  │ 1.0       │"
      ]
     },
     "execution_count": 20,
     "metadata": {},
     "output_type": "execute_result"
    }
   ],
   "source": [
    "station_df.LAT = normalize.(station_df.LAT, min_lat, max_lat);\n",
    "station_df.LNG = normalize.(station_df.LNG, min_lng, max_lng);\n",
    "\n",
    "station_df"
   ]
  },
  {
   "cell_type": "markdown",
   "metadata": {},
   "source": [
    "### Augment Features"
   ]
  },
  {
   "cell_type": "markdown",
   "metadata": {},
   "source": [
    "#### Add pcp_sum and pcp_max columns"
   ]
  },
  {
   "cell_type": "code",
   "execution_count": 94,
   "metadata": {},
   "outputs": [],
   "source": [
    "comb.PCP_SUM = zeros(size(comb, 1));\n",
    "comb.PCP_MAX = zeros(size(comb, 1));\n",
    "comb.PCP_MAX3 = zeros(size(comb, 1));\n",
    "permutecols!(comb, [:ID_OUVRAGE, :TP_LAT, :TP_LNG, :TP_Z, :DATE, :PCP_SUM, :PCP_MAX, :PCP_MAX3, :SURVERSE]);"
   ]
  },
  {
   "cell_type": "code",
   "execution_count": 95,
   "metadata": {},
   "outputs": [
    {
     "data": {
      "text/html": [
       "<table class=\"data-frame\"><thead><tr><th></th><th>ID_OUVRAGE</th><th>TP_LAT</th><th>TP_LNG</th><th>TP_Z</th><th>DATE</th><th>PCP_SUM</th><th>PCP_MAX</th><th>PCP_MAX3</th></tr><tr><th></th><th>String</th><th>Float64</th><th>Float64</th><th>Float64</th><th>Date</th><th>Float64</th><th>Float64</th><th>Float64</th></tr></thead><tbody><p>10 rows × 9 columns (omitted printing of 1 columns)</p><tr><th>1</th><td>3305-05D</td><td>45.6166</td><td>-73.6349</td><td>12.12</td><td>2017-10-22</td><td>0.0</td><td>0.0</td><td>0.0</td></tr><tr><th>2</th><td>3350-11D</td><td>45.5328</td><td>-73.7065</td><td>25.28</td><td>2013-06-12</td><td>0.0</td><td>0.0</td><td>0.0</td></tr><tr><th>3</th><td>0801-07D</td><td>45.5191</td><td>-73.5341</td><td>33.58</td><td>2013-05-18</td><td>0.0</td><td>0.0</td><td>0.0</td></tr><tr><th>4</th><td>4330-01D</td><td>45.5438</td><td>-73.5353</td><td>14.16</td><td>2017-06-19</td><td>0.0</td><td>0.0</td><td>0.0</td></tr><tr><th>5</th><td>4560-02D</td><td>45.451</td><td>-73.7841</td><td>26.18</td><td>2014-09-22</td><td>0.0</td><td>0.0</td><td>0.0</td></tr><tr><th>6</th><td>3240-02D</td><td>45.6644</td><td>-73.5605</td><td>10.11</td><td>2015-06-15</td><td>0.0</td><td>0.0</td><td>0.0</td></tr><tr><th>7</th><td>0672-01D</td><td>45.6823</td><td>-73.531</td><td>9.12</td><td>2014-05-16</td><td>0.0</td><td>0.0</td><td>0.0</td></tr><tr><th>8</th><td>3350-11D</td><td>45.5328</td><td>-73.7065</td><td>25.28</td><td>2016-07-27</td><td>0.0</td><td>0.0</td><td>0.0</td></tr><tr><th>9</th><td>3230-01D</td><td>45.6661</td><td>-73.5469</td><td>13.77</td><td>2015-06-01</td><td>0.0</td><td>0.0</td><td>0.0</td></tr><tr><th>10</th><td>3305-06D</td><td>45.6136</td><td>-73.6363</td><td>12.25</td><td>2018-10-11</td><td>0.0</td><td>0.0</td><td>0.0</td></tr></tbody></table>"
      ],
      "text/latex": [
       "\\begin{tabular}{r|ccccccccc}\n",
       "\t& ID\\_OUVRAGE & TP\\_LAT & TP\\_LNG & TP\\_Z & DATE & PCP\\_SUM & PCP\\_MAX & PCP\\_MAX3 & \\\\\n",
       "\t\\hline\n",
       "\t& String & Float64 & Float64 & Float64 & Date & Float64 & Float64 & Float64 & \\\\\n",
       "\t\\hline\n",
       "\t1 & 3305-05D & 45.6166 & -73.6349 & 12.12 & 2017-10-22 & 0.0 & 0.0 & 0.0 & $\\dots$ \\\\\n",
       "\t2 & 3350-11D & 45.5328 & -73.7065 & 25.28 & 2013-06-12 & 0.0 & 0.0 & 0.0 & $\\dots$ \\\\\n",
       "\t3 & 0801-07D & 45.5191 & -73.5341 & 33.58 & 2013-05-18 & 0.0 & 0.0 & 0.0 & $\\dots$ \\\\\n",
       "\t4 & 4330-01D & 45.5438 & -73.5353 & 14.16 & 2017-06-19 & 0.0 & 0.0 & 0.0 & $\\dots$ \\\\\n",
       "\t5 & 4560-02D & 45.451 & -73.7841 & 26.18 & 2014-09-22 & 0.0 & 0.0 & 0.0 & $\\dots$ \\\\\n",
       "\t6 & 3240-02D & 45.6644 & -73.5605 & 10.11 & 2015-06-15 & 0.0 & 0.0 & 0.0 & $\\dots$ \\\\\n",
       "\t7 & 0672-01D & 45.6823 & -73.531 & 9.12 & 2014-05-16 & 0.0 & 0.0 & 0.0 & $\\dots$ \\\\\n",
       "\t8 & 3350-11D & 45.5328 & -73.7065 & 25.28 & 2016-07-27 & 0.0 & 0.0 & 0.0 & $\\dots$ \\\\\n",
       "\t9 & 3230-01D & 45.6661 & -73.5469 & 13.77 & 2015-06-01 & 0.0 & 0.0 & 0.0 & $\\dots$ \\\\\n",
       "\t10 & 3305-06D & 45.6136 & -73.6363 & 12.25 & 2018-10-11 & 0.0 & 0.0 & 0.0 & $\\dots$ \\\\\n",
       "\\end{tabular}\n"
      ],
      "text/plain": [
       "10×9 DataFrame. Omitted printing of 3 columns\n",
       "│ Row │ ID_OUVRAGE │ TP_LAT  │ TP_LNG   │ TP_Z    │ DATE       │ PCP_SUM │\n",
       "│     │ \u001b[90mString\u001b[39m     │ \u001b[90mFloat64\u001b[39m │ \u001b[90mFloat64\u001b[39m  │ \u001b[90mFloat64\u001b[39m │ \u001b[90mDate\u001b[39m       │ \u001b[90mFloat64\u001b[39m │\n",
       "├─────┼────────────┼─────────┼──────────┼─────────┼────────────┼─────────┤\n",
       "│ 1   │ 3305-05D   │ 45.6166 │ -73.6349 │ 12.12   │ 2017-10-22 │ 0.0     │\n",
       "│ 2   │ 3350-11D   │ 45.5328 │ -73.7065 │ 25.28   │ 2013-06-12 │ 0.0     │\n",
       "│ 3   │ 0801-07D   │ 45.5191 │ -73.5341 │ 33.58   │ 2013-05-18 │ 0.0     │\n",
       "│ 4   │ 4330-01D   │ 45.5438 │ -73.5353 │ 14.16   │ 2017-06-19 │ 0.0     │\n",
       "│ 5   │ 4560-02D   │ 45.451  │ -73.7841 │ 26.18   │ 2014-09-22 │ 0.0     │\n",
       "│ 6   │ 3240-02D   │ 45.6644 │ -73.5605 │ 10.11   │ 2015-06-15 │ 0.0     │\n",
       "│ 7   │ 0672-01D   │ 45.6823 │ -73.531  │ 9.12    │ 2014-05-16 │ 0.0     │\n",
       "│ 8   │ 3350-11D   │ 45.5328 │ -73.7065 │ 25.28   │ 2016-07-27 │ 0.0     │\n",
       "│ 9   │ 3230-01D   │ 45.6661 │ -73.5469 │ 13.77   │ 2015-06-01 │ 0.0     │\n",
       "│ 10  │ 3305-06D   │ 45.6136 │ -73.6363 │ 12.25   │ 2018-10-11 │ 0.0     │"
      ]
     },
     "execution_count": 95,
     "metadata": {},
     "output_type": "execute_result"
    }
   ],
   "source": [
    "first(shuffleDf(comb), 10)"
   ]
  },
  {
   "cell_type": "markdown",
   "metadata": {},
   "source": [
    "#### Find closest station to each ouvrage and add pcp_sum and pcp_max to it"
   ]
  },
  {
   "cell_type": "code",
   "execution_count": 98,
   "metadata": {},
   "outputs": [],
   "source": [
    "for i=1:size(comb, 1)\n",
    "    id_ouvrage = comb[i, 1]; \n",
    "    closest_station = \"McTavish\"; # initial value\n",
    "    shortest_dist = -1;\n",
    "    \n",
    "    # Find closest station\n",
    "    for j=1:size(station_df, 1)\n",
    "        dist = findDistance(comb[i, :TP_LAT], comb[i, :TP_LNG], station_df[j, :LAT], station_df[j, :LNG]);\n",
    "        \n",
    "        if shortest_dist == -1 || dist < shortest_dist\n",
    "            shortest_dist = dist;\n",
    "            closest_station = station_df[j, :STATION];\n",
    "        end\n",
    "    end\n",
    "    \n",
    "    # Augment comb with a weighted p_sum, based on the distance to the station\n",
    "    p_sum = pcp_sum[∈([comb[i, :DATE]]).(pcp_sum.date), Symbol(closest_station)];\n",
    "    comb[i, :PCP_SUM] = p_sum[1] * (1 - shortest_dist); \n",
    "    # Augment comb with a weighted p_max, based on the distance to the station\n",
    "    p_max = pcp_max[∈([comb[i, :DATE]]).(pcp_max.date), Symbol(closest_station)]\n",
    "    comb[i, :PCP_MAX] = p_max[1] * (1 - shortest_dist);\n",
    "    # Augment comb with a weighted p_max3h, based on the distance to the station\n",
    "    p_max3 = pcp_max3h[∈([comb[i, :DATE]]).(pcp_max3h.date), Symbol(closest_station)]\n",
    "    comb[i, :PCP_MAX3] = p_max3[1] * (1 - shortest_dist);\n",
    "end"
   ]
  },
  {
   "cell_type": "markdown",
   "metadata": {},
   "source": [
    "### TODO: Remove outlier in PCP_SUM and PCP_MAX AND PCP_MAX3 that cause compression"
   ]
  },
  {
   "cell_type": "code",
   "execution_count": 99,
   "metadata": {},
   "outputs": [
    {
     "name": "stderr",
     "output_type": "stream",
     "text": [
      "┌ Warning: `getindex(df::DataFrame, col_ind::ColumnIndex)` is deprecated, use `df[!, col_ind]` instead.\n",
      "│   caller = top-level scope at In[99]:1\n",
      "└ @ Core In[99]:1\n",
      "┌ Warning: `getindex(df::DataFrame, col_ind::ColumnIndex)` is deprecated, use `df[!, col_ind]` instead.\n",
      "│   caller = top-level scope at In[99]:2\n",
      "└ @ Core In[99]:2\n",
      "┌ Warning: `getindex(df::DataFrame, col_ind::ColumnIndex)` is deprecated, use `df[!, col_ind]` instead.\n",
      "│   caller = top-level scope at In[99]:3\n",
      "└ @ Core In[99]:3\n"
     ]
    }
   ],
   "source": [
    "comb[comb[:PCP_SUM] .> 750, :PCP_SUM] = 750;\n",
    "comb[comb[:PCP_MAX] .> 500, :PCP_MAX] = 500;\n",
    "comb[comb[:PCP_MAX3] .> 750, :PCP_MAX3] = 750;"
   ]
  },
  {
   "cell_type": "code",
   "execution_count": 100,
   "metadata": {},
   "outputs": [
    {
     "data": {
      "text/html": [
       "<table class=\"data-frame\"><thead><tr><th></th><th>ID_OUVRAGE</th><th>TP_LAT</th><th>TP_LNG</th><th>TP_Z</th><th>DATE</th><th>PCP_SUM</th><th>PCP_MAX</th><th>PCP_MAX3</th></tr><tr><th></th><th>String</th><th>Float64</th><th>Float64</th><th>Float64</th><th>Date</th><th>Float64</th><th>Float64</th><th>Float64</th></tr></thead><tbody><p>10 rows × 9 columns (omitted printing of 1 columns)</p><tr><th>1</th><td>4340-01D</td><td>45.5262</td><td>-73.5444</td><td>19.33</td><td>2014-06-17</td><td>0.0</td><td>0.0</td><td>0.0</td></tr><tr><th>2</th><td>0801-05D</td><td>45.5173</td><td>-73.5312</td><td>12.7</td><td>2018-10-27</td><td>95.9886</td><td>38.0153</td><td>59.8741</td></tr><tr><th>3</th><td>4270-01D</td><td>45.6105</td><td>-73.5087</td><td>11.17</td><td>2013-05-29</td><td>127.449</td><td>65.4703</td><td>89.9126</td></tr><tr><th>4</th><td>3350-01D</td><td>45.5896</td><td>-73.6519</td><td>15.09</td><td>2016-08-16</td><td>682.181</td><td>195.416</td><td>526.736</td></tr><tr><th>5</th><td>3350-07D</td><td>45.5461</td><td>-73.6921</td><td>20.75</td><td>2015-07-07</td><td>1.81453</td><td>1.81453</td><td>1.81453</td></tr><tr><th>6</th><td>3290-01D</td><td>45.6238</td><td>-73.6219</td><td>19.85</td><td>2013-05-26</td><td>101.326</td><td>21.8375</td><td>35.8136</td></tr><tr><th>7</th><td>4230-09D</td><td>45.699</td><td>-73.4799</td><td>8.347</td><td>2013-06-07</td><td>132.094</td><td>27.2994</td><td>61.6437</td></tr><tr><th>8</th><td>0801-05D</td><td>45.5173</td><td>-73.5312</td><td>12.7</td><td>2013-07-06</td><td>0.0</td><td>0.0</td><td>0.0</td></tr><tr><th>9</th><td>3380-01D</td><td>45.5533</td><td>-73.6703</td><td>22.23</td><td>2013-08-22</td><td>190.101</td><td>81.6001</td><td>105.811</td></tr><tr><th>10</th><td>4240-01D</td><td>45.6497</td><td>-73.4877</td><td>11.91</td><td>2014-07-31</td><td>101.152</td><td>55.2509</td><td>99.4516</td></tr></tbody></table>"
      ],
      "text/latex": [
       "\\begin{tabular}{r|ccccccccc}\n",
       "\t& ID\\_OUVRAGE & TP\\_LAT & TP\\_LNG & TP\\_Z & DATE & PCP\\_SUM & PCP\\_MAX & PCP\\_MAX3 & \\\\\n",
       "\t\\hline\n",
       "\t& String & Float64 & Float64 & Float64 & Date & Float64 & Float64 & Float64 & \\\\\n",
       "\t\\hline\n",
       "\t1 & 4340-01D & 45.5262 & -73.5444 & 19.33 & 2014-06-17 & 0.0 & 0.0 & 0.0 & $\\dots$ \\\\\n",
       "\t2 & 0801-05D & 45.5173 & -73.5312 & 12.7 & 2018-10-27 & 95.9886 & 38.0153 & 59.8741 & $\\dots$ \\\\\n",
       "\t3 & 4270-01D & 45.6105 & -73.5087 & 11.17 & 2013-05-29 & 127.449 & 65.4703 & 89.9126 & $\\dots$ \\\\\n",
       "\t4 & 3350-01D & 45.5896 & -73.6519 & 15.09 & 2016-08-16 & 682.181 & 195.416 & 526.736 & $\\dots$ \\\\\n",
       "\t5 & 3350-07D & 45.5461 & -73.6921 & 20.75 & 2015-07-07 & 1.81453 & 1.81453 & 1.81453 & $\\dots$ \\\\\n",
       "\t6 & 3290-01D & 45.6238 & -73.6219 & 19.85 & 2013-05-26 & 101.326 & 21.8375 & 35.8136 & $\\dots$ \\\\\n",
       "\t7 & 4230-09D & 45.699 & -73.4799 & 8.347 & 2013-06-07 & 132.094 & 27.2994 & 61.6437 & $\\dots$ \\\\\n",
       "\t8 & 0801-05D & 45.5173 & -73.5312 & 12.7 & 2013-07-06 & 0.0 & 0.0 & 0.0 & $\\dots$ \\\\\n",
       "\t9 & 3380-01D & 45.5533 & -73.6703 & 22.23 & 2013-08-22 & 190.101 & 81.6001 & 105.811 & $\\dots$ \\\\\n",
       "\t10 & 4240-01D & 45.6497 & -73.4877 & 11.91 & 2014-07-31 & 101.152 & 55.2509 & 99.4516 & $\\dots$ \\\\\n",
       "\\end{tabular}\n"
      ],
      "text/plain": [
       "10×9 DataFrame. Omitted printing of 3 columns\n",
       "│ Row │ ID_OUVRAGE │ TP_LAT  │ TP_LNG   │ TP_Z    │ DATE       │ PCP_SUM │\n",
       "│     │ \u001b[90mString\u001b[39m     │ \u001b[90mFloat64\u001b[39m │ \u001b[90mFloat64\u001b[39m  │ \u001b[90mFloat64\u001b[39m │ \u001b[90mDate\u001b[39m       │ \u001b[90mFloat64\u001b[39m │\n",
       "├─────┼────────────┼─────────┼──────────┼─────────┼────────────┼─────────┤\n",
       "│ 1   │ 4340-01D   │ 45.5262 │ -73.5444 │ 19.33   │ 2014-06-17 │ 0.0     │\n",
       "│ 2   │ 0801-05D   │ 45.5173 │ -73.5312 │ 12.7    │ 2018-10-27 │ 95.9886 │\n",
       "│ 3   │ 4270-01D   │ 45.6105 │ -73.5087 │ 11.17   │ 2013-05-29 │ 127.449 │\n",
       "│ 4   │ 3350-01D   │ 45.5896 │ -73.6519 │ 15.09   │ 2016-08-16 │ 682.181 │\n",
       "│ 5   │ 3350-07D   │ 45.5461 │ -73.6921 │ 20.75   │ 2015-07-07 │ 1.81453 │\n",
       "│ 6   │ 3290-01D   │ 45.6238 │ -73.6219 │ 19.85   │ 2013-05-26 │ 101.326 │\n",
       "│ 7   │ 4230-09D   │ 45.699  │ -73.4799 │ 8.347   │ 2013-06-07 │ 132.094 │\n",
       "│ 8   │ 0801-05D   │ 45.5173 │ -73.5312 │ 12.7    │ 2013-07-06 │ 0.0     │\n",
       "│ 9   │ 3380-01D   │ 45.5533 │ -73.6703 │ 22.23   │ 2013-08-22 │ 190.101 │\n",
       "│ 10  │ 4240-01D   │ 45.6497 │ -73.4877 │ 11.91   │ 2014-07-31 │ 101.152 │"
      ]
     },
     "execution_count": 100,
     "metadata": {},
     "output_type": "execute_result"
    }
   ],
   "source": [
    "first(shuffleDf(filter(row -> row.SURVERSE == 1, comb)), 10)"
   ]
  },
  {
   "cell_type": "markdown",
   "metadata": {},
   "source": [
    "#### Normalize pcp_sum and pcp_max and pcp_max3"
   ]
  },
  {
   "cell_type": "code",
   "execution_count": 26,
   "metadata": {},
   "outputs": [],
   "source": [
    "min_pcp_sum = minimum(comb.PCP_SUM);\n",
    "max_pcp_sum = maximum(comb.PCP_SUM);\n",
    "\n",
    "min_pcp_max = minimum(comb.PCP_MAX);\n",
    "max_pcp_max = maximum(comb.PCP_MAX);\n",
    "\n",
    "min_pcp_max3 = minimum(comb.PCP_MAX3);\n",
    "max_pcp_max3 = maximum(comb.PCP_MAX3);"
   ]
  },
  {
   "cell_type": "code",
   "execution_count": 27,
   "metadata": {},
   "outputs": [],
   "source": [
    "# comb.PCP_SUM = normalize.(comb.PCP_SUM, min_pcp_sum, max_pcp_sum);\n",
    "# comb.PCP_MAX = normalize.(comb.PCP_MAX, min_pcp_max, max_pcp_max);\n",
    "# comb.PCP_MAX3 = normalize.(comb.PCP_MAX3, min_pcp_max3, max_pcp_max3);"
   ]
  },
  {
   "cell_type": "code",
   "execution_count": 101,
   "metadata": {
    "scrolled": true
   },
   "outputs": [
    {
     "data": {
      "text/html": [
       "<table class=\"data-frame\"><thead><tr><th></th><th>ID_OUVRAGE</th><th>TP_LAT</th><th>TP_LNG</th><th>TP_Z</th><th>DATE</th><th>PCP_SUM</th><th>PCP_MAX</th><th>PCP_MAX3</th></tr><tr><th></th><th>String</th><th>Float64</th><th>Float64</th><th>Float64</th><th>Date</th><th>Float64</th><th>Float64</th><th>Float64</th></tr></thead><tbody><p>10 rows × 9 columns (omitted printing of 1 columns)</p><tr><th>1</th><td>4720-01D</td><td>45.7001</td><td>-73.4891</td><td>10.6</td><td>2013-06-02</td><td>122.908</td><td>70.2331</td><td>96.5706</td></tr><tr><th>2</th><td>4430-05D</td><td>45.424</td><td>-73.6573</td><td>30.66</td><td>2015-07-27</td><td>9.04923</td><td>7.23938</td><td>9.04923</td></tr><tr><th>3</th><td>4230-09D</td><td>45.699</td><td>-73.4799</td><td>8.347</td><td>2013-09-21</td><td>140.9</td><td>44.0312</td><td>107.436</td></tr><tr><th>4</th><td>4230-09D</td><td>45.699</td><td>-73.4799</td><td>8.347</td><td>2013-08-13</td><td>246.575</td><td>122.407</td><td>220.156</td></tr><tr><th>5</th><td>4340-02D</td><td>45.5262</td><td>-73.5444</td><td>19.33</td><td>2015-08-18</td><td>188.954</td><td>188.954</td><td>188.954</td></tr><tr><th>6</th><td>4230-03D</td><td>45.6705</td><td>-73.4918</td><td>9.1</td><td>2016-07-14</td><td>118.971</td><td>62.8847</td><td>118.971</td></tr><tr><th>7</th><td>3350-11D</td><td>45.5328</td><td>-73.7065</td><td>25.28</td><td>2014-09-06</td><td>33.3377</td><td>13.8907</td><td>17.5949</td></tr><tr><th>8</th><td>3350-07D</td><td>45.5461</td><td>-73.6921</td><td>20.75</td><td>2016-08-16</td><td>635.084</td><td>166.029</td><td>453.631</td></tr><tr><th>9</th><td>3380-01D</td><td>45.5533</td><td>-73.6703</td><td>22.23</td><td>2014-05-04</td><td>189.205</td><td>32.2814</td><td>66.3561</td></tr><tr><th>10</th><td>3350-05D</td><td>45.5705</td><td>-73.6624</td><td>21.27</td><td>2017-07-08</td><td>292.332</td><td>196.676</td><td>238.693</td></tr></tbody></table>"
      ],
      "text/latex": [
       "\\begin{tabular}{r|ccccccccc}\n",
       "\t& ID\\_OUVRAGE & TP\\_LAT & TP\\_LNG & TP\\_Z & DATE & PCP\\_SUM & PCP\\_MAX & PCP\\_MAX3 & \\\\\n",
       "\t\\hline\n",
       "\t& String & Float64 & Float64 & Float64 & Date & Float64 & Float64 & Float64 & \\\\\n",
       "\t\\hline\n",
       "\t1 & 4720-01D & 45.7001 & -73.4891 & 10.6 & 2013-06-02 & 122.908 & 70.2331 & 96.5706 & $\\dots$ \\\\\n",
       "\t2 & 4430-05D & 45.424 & -73.6573 & 30.66 & 2015-07-27 & 9.04923 & 7.23938 & 9.04923 & $\\dots$ \\\\\n",
       "\t3 & 4230-09D & 45.699 & -73.4799 & 8.347 & 2013-09-21 & 140.9 & 44.0312 & 107.436 & $\\dots$ \\\\\n",
       "\t4 & 4230-09D & 45.699 & -73.4799 & 8.347 & 2013-08-13 & 246.575 & 122.407 & 220.156 & $\\dots$ \\\\\n",
       "\t5 & 4340-02D & 45.5262 & -73.5444 & 19.33 & 2015-08-18 & 188.954 & 188.954 & 188.954 & $\\dots$ \\\\\n",
       "\t6 & 4230-03D & 45.6705 & -73.4918 & 9.1 & 2016-07-14 & 118.971 & 62.8847 & 118.971 & $\\dots$ \\\\\n",
       "\t7 & 3350-11D & 45.5328 & -73.7065 & 25.28 & 2014-09-06 & 33.3377 & 13.8907 & 17.5949 & $\\dots$ \\\\\n",
       "\t8 & 3350-07D & 45.5461 & -73.6921 & 20.75 & 2016-08-16 & 635.084 & 166.029 & 453.631 & $\\dots$ \\\\\n",
       "\t9 & 3380-01D & 45.5533 & -73.6703 & 22.23 & 2014-05-04 & 189.205 & 32.2814 & 66.3561 & $\\dots$ \\\\\n",
       "\t10 & 3350-05D & 45.5705 & -73.6624 & 21.27 & 2017-07-08 & 292.332 & 196.676 & 238.693 & $\\dots$ \\\\\n",
       "\\end{tabular}\n"
      ],
      "text/plain": [
       "10×9 DataFrame. Omitted printing of 3 columns\n",
       "│ Row │ ID_OUVRAGE │ TP_LAT  │ TP_LNG   │ TP_Z    │ DATE       │ PCP_SUM │\n",
       "│     │ \u001b[90mString\u001b[39m     │ \u001b[90mFloat64\u001b[39m │ \u001b[90mFloat64\u001b[39m  │ \u001b[90mFloat64\u001b[39m │ \u001b[90mDate\u001b[39m       │ \u001b[90mFloat64\u001b[39m │\n",
       "├─────┼────────────┼─────────┼──────────┼─────────┼────────────┼─────────┤\n",
       "│ 1   │ 4720-01D   │ 45.7001 │ -73.4891 │ 10.6    │ 2013-06-02 │ 122.908 │\n",
       "│ 2   │ 4430-05D   │ 45.424  │ -73.6573 │ 30.66   │ 2015-07-27 │ 9.04923 │\n",
       "│ 3   │ 4230-09D   │ 45.699  │ -73.4799 │ 8.347   │ 2013-09-21 │ 140.9   │\n",
       "│ 4   │ 4230-09D   │ 45.699  │ -73.4799 │ 8.347   │ 2013-08-13 │ 246.575 │\n",
       "│ 5   │ 4340-02D   │ 45.5262 │ -73.5444 │ 19.33   │ 2015-08-18 │ 188.954 │\n",
       "│ 6   │ 4230-03D   │ 45.6705 │ -73.4918 │ 9.1     │ 2016-07-14 │ 118.971 │\n",
       "│ 7   │ 3350-11D   │ 45.5328 │ -73.7065 │ 25.28   │ 2014-09-06 │ 33.3377 │\n",
       "│ 8   │ 3350-07D   │ 45.5461 │ -73.6921 │ 20.75   │ 2016-08-16 │ 635.084 │\n",
       "│ 9   │ 3380-01D   │ 45.5533 │ -73.6703 │ 22.23   │ 2014-05-04 │ 189.205 │\n",
       "│ 10  │ 3350-05D   │ 45.5705 │ -73.6624 │ 21.27   │ 2017-07-08 │ 292.332 │"
      ]
     },
     "execution_count": 101,
     "metadata": {},
     "output_type": "execute_result"
    }
   ],
   "source": [
    "first(shuffleDf(filter(row -> row.SURVERSE == 1, comb)), 10)"
   ]
  },
  {
   "cell_type": "markdown",
   "metadata": {},
   "source": [
    "### Split dates into months and days"
   ]
  },
  {
   "cell_type": "code",
   "execution_count": 102,
   "metadata": {},
   "outputs": [
    {
     "data": {
      "text/html": [
       "<table class=\"data-frame\"><thead><tr><th></th><th>DATE</th><th>MONTH</th><th>DAY</th></tr><tr><th></th><th>Date</th><th>Int64</th><th>Int64</th></tr></thead><tbody><p>5 rows × 3 columns</p><tr><th>1</th><td>2015-08-25</td><td>8</td><td>25</td></tr><tr><th>2</th><td>2016-09-20</td><td>9</td><td>20</td></tr><tr><th>3</th><td>2016-05-22</td><td>5</td><td>22</td></tr><tr><th>4</th><td>2018-06-11</td><td>6</td><td>11</td></tr><tr><th>5</th><td>2018-07-08</td><td>7</td><td>8</td></tr></tbody></table>"
      ],
      "text/latex": [
       "\\begin{tabular}{r|ccc}\n",
       "\t& DATE & MONTH & DAY\\\\\n",
       "\t\\hline\n",
       "\t& Date & Int64 & Int64\\\\\n",
       "\t\\hline\n",
       "\t1 & 2015-08-25 & 8 & 25 \\\\\n",
       "\t2 & 2016-09-20 & 9 & 20 \\\\\n",
       "\t3 & 2016-05-22 & 5 & 22 \\\\\n",
       "\t4 & 2018-06-11 & 6 & 11 \\\\\n",
       "\t5 & 2018-07-08 & 7 & 8 \\\\\n",
       "\\end{tabular}\n"
      ],
      "text/plain": [
       "5×3 DataFrame\n",
       "│ Row │ DATE       │ MONTH │ DAY   │\n",
       "│     │ \u001b[90mDate\u001b[39m       │ \u001b[90mInt64\u001b[39m │ \u001b[90mInt64\u001b[39m │\n",
       "├─────┼────────────┼───────┼───────┤\n",
       "│ 1   │ 2015-08-25 │ 8     │ 25    │\n",
       "│ 2   │ 2016-09-20 │ 9     │ 20    │\n",
       "│ 3   │ 2016-05-22 │ 5     │ 22    │\n",
       "│ 4   │ 2018-06-11 │ 6     │ 11    │\n",
       "│ 5   │ 2018-07-08 │ 7     │ 8     │"
      ]
     },
     "execution_count": 102,
     "metadata": {},
     "output_type": "execute_result"
    }
   ],
   "source": [
    "comb.MONTH = month.(comb.DATE);\n",
    "comb.DAY = day.(comb.DATE);\n",
    "first(shuffleDf(comb[!, [:DATE, :MONTH, :DAY]]), 5)"
   ]
  },
  {
   "cell_type": "markdown",
   "metadata": {},
   "source": [
    "#### Normalize the months and days"
   ]
  },
  {
   "cell_type": "code",
   "execution_count": 30,
   "metadata": {},
   "outputs": [
    {
     "data": {
      "text/html": [
       "<table class=\"data-frame\"><thead><tr><th></th><th>DATE</th><th>MONTH</th><th>DAY</th></tr><tr><th></th><th>Date</th><th>Float64</th><th>Float64</th></tr></thead><tbody><p>5 rows × 3 columns</p><tr><th>1</th><td>2018-07-14</td><td>0.4</td><td>0.433333</td></tr><tr><th>2</th><td>2017-07-06</td><td>0.4</td><td>0.166667</td></tr><tr><th>3</th><td>2018-06-04</td><td>0.2</td><td>0.1</td></tr><tr><th>4</th><td>2017-09-06</td><td>0.8</td><td>0.166667</td></tr><tr><th>5</th><td>2013-06-29</td><td>0.2</td><td>0.933333</td></tr></tbody></table>"
      ],
      "text/latex": [
       "\\begin{tabular}{r|ccc}\n",
       "\t& DATE & MONTH & DAY\\\\\n",
       "\t\\hline\n",
       "\t& Date & Float64 & Float64\\\\\n",
       "\t\\hline\n",
       "\t1 & 2018-07-14 & 0.4 & 0.433333 \\\\\n",
       "\t2 & 2017-07-06 & 0.4 & 0.166667 \\\\\n",
       "\t3 & 2018-06-04 & 0.2 & 0.1 \\\\\n",
       "\t4 & 2017-09-06 & 0.8 & 0.166667 \\\\\n",
       "\t5 & 2013-06-29 & 0.2 & 0.933333 \\\\\n",
       "\\end{tabular}\n"
      ],
      "text/plain": [
       "5×3 DataFrame\n",
       "│ Row │ DATE       │ MONTH   │ DAY      │\n",
       "│     │ \u001b[90mDate\u001b[39m       │ \u001b[90mFloat64\u001b[39m │ \u001b[90mFloat64\u001b[39m  │\n",
       "├─────┼────────────┼─────────┼──────────┤\n",
       "│ 1   │ 2018-07-14 │ 0.4     │ 0.433333 │\n",
       "│ 2   │ 2017-07-06 │ 0.4     │ 0.166667 │\n",
       "│ 3   │ 2018-06-04 │ 0.2     │ 0.1      │\n",
       "│ 4   │ 2017-09-06 │ 0.8     │ 0.166667 │\n",
       "│ 5   │ 2013-06-29 │ 0.2     │ 0.933333 │"
      ]
     },
     "execution_count": 30,
     "metadata": {},
     "output_type": "execute_result"
    }
   ],
   "source": [
    "# comb.MONTH = normalize.(comb.MONTH, 5, 10);\n",
    "# comb.DAY = normalize.(comb.DAY, 1, 31);\n",
    "first(shuffleDf(comb[!, [:DATE, :MONTH, :DAY]]), 5)"
   ]
  },
  {
   "cell_type": "markdown",
   "metadata": {},
   "source": [
    "# Validate model"
   ]
  },
  {
   "cell_type": "markdown",
   "metadata": {},
   "source": [
    "### Split train and validation sets"
   ]
  },
  {
   "cell_type": "code",
   "execution_count": 103,
   "metadata": {},
   "outputs": [],
   "source": [
    "r_idx = shuffle(1:size(comb, 1));\n",
    "train_ceil = floor(Int, size(r_idx, 1) * 0.8);\n",
    "train_set = comb[r_idx[1:train_ceil], :];\n",
    "val_set = comb[r_idx[train_ceil+1:size(r_idx, 1)], :];"
   ]
  },
  {
   "cell_type": "markdown",
   "metadata": {},
   "source": [
    "### Train model on train set"
   ]
  },
  {
   "cell_type": "markdown",
   "metadata": {},
   "source": [
    "#### Build the features and labels"
   ]
  },
  {
   "cell_type": "code",
   "execution_count": 104,
   "metadata": {},
   "outputs": [],
   "source": [
    "names_ft = [:TP_LAT, :TP_LNG, :TP_Z, :MONTH, :DAY, :PCP_SUM, :PCP_MAX, :PCP_MAX3];\n",
    "train_features = convert(Matrix{Float64},train_set[:, names_ft]);\n",
    "train_labels = convert(Vector, train_set[:, :SURVERSE]);"
   ]
  },
  {
   "cell_type": "markdown",
   "metadata": {},
   "source": [
    "#### Build the model N features to use is log_2(N + 1)"
   ]
  },
  {
   "cell_type": "code",
   "execution_count": null,
   "metadata": {},
   "outputs": [],
   "source": [
    "val_model = LIBSVM.fit!(SVC(), train_features, train_labels);"
   ]
  },
  {
   "cell_type": "markdown",
   "metadata": {},
   "source": [
    "### Validate model on validation set"
   ]
  },
  {
   "cell_type": "markdown",
   "metadata": {},
   "source": [
    "#### Single validation"
   ]
  },
  {
   "cell_type": "code",
   "execution_count": 78,
   "metadata": {},
   "outputs": [
    {
     "data": {
      "text/plain": [
       "31876-element Array{Int64,1}:\n",
       " 0\n",
       " 0\n",
       " 0\n",
       " 0\n",
       " 0\n",
       " 0\n",
       " 0\n",
       " 0\n",
       " 0\n",
       " 0\n",
       " 0\n",
       " 0\n",
       " 0\n",
       " ⋮\n",
       " 0\n",
       " 0\n",
       " 0\n",
       " 0\n",
       " 0\n",
       " 0\n",
       " 0\n",
       " 0\n",
       " 0\n",
       " 0\n",
       " 0\n",
       " 0"
      ]
     },
     "execution_count": 78,
     "metadata": {},
     "output_type": "execute_result"
    }
   ],
   "source": [
    "val_features = convert(Matrix{Float64},val_set[:, names_ft]);\n",
    "val_labels = val_set[!, :SURVERSE];\n",
    "val_pred = LIBSVM.predict(val_model, val_features);\n",
    "\n",
    "# r = roc(val_labels, val_pred);\n",
    "# f1score(r)\n",
    "val_pred"
   ]
  },
  {
   "cell_type": "markdown",
   "metadata": {},
   "source": [
    "#### Batch validation for F1Score"
   ]
  },
  {
   "cell_type": "code",
   "execution_count": 410,
   "metadata": {},
   "outputs": [
    {
     "data": {
      "text/plain": [
       "0.6169089771652957"
      ]
     },
     "execution_count": 410,
     "metadata": {},
     "output_type": "execute_result"
    }
   ],
   "source": [
    "niter = 10;\n",
    "batch_score = 0;\n",
    "\n",
    "for i=1:niter\n",
    "    # Split train and val sets\n",
    "    r_idx = shuffle(1:size(comb, 1));\n",
    "    train_ceil = floor(Int, size(r_idx, 1) * 0.8);\n",
    "    train_set = comb[r_idx[1:train_ceil], :];\n",
    "    val_set = comb[r_idx[train_ceil+1:size(r_idx, 1)], :];\n",
    "    \n",
    "    # Build features and labels\n",
    "    train_features = convert(Matrix{Float64},train_set[:, names_ft]);\n",
    "    train_labels = train_set[:, :SURVERSE];\n",
    "    \n",
    "    # Build model\n",
    "    val_model = build_forest(train_labels, train_features, 4, 100, 0.7, 40);\n",
    "    \n",
    "    # Validate model\n",
    "    val_features = convert(Matrix{Float64},val_set[:, names_ft]);\n",
    "    val_labels = val_set[!, :SURVERSE];\n",
    "    val_pred = apply_forest(val_model, val_features);\n",
    "\n",
    "    r = roc(val_labels, val_pred);\n",
    "    batch_score += f1score(r);\n",
    "end\n",
    "\n",
    "batch_score = batch_score / niter"
   ]
  },
  {
   "cell_type": "markdown",
   "metadata": {},
   "source": [
    "# Submission model creation"
   ]
  },
  {
   "cell_type": "markdown",
   "metadata": {},
   "source": [
    "### Separate features and labels"
   ]
  },
  {
   "cell_type": "code",
   "execution_count": 383,
   "metadata": {},
   "outputs": [],
   "source": [
    "full_train_features = convert(Matrix{Float64},comb[:, names_ft]);\n",
    "# train_features = hcat(dates, train_features);"
   ]
  },
  {
   "cell_type": "code",
   "execution_count": 384,
   "metadata": {},
   "outputs": [],
   "source": [
    "full_train_labels = comb[:, :SURVERSE];"
   ]
  },
  {
   "cell_type": "markdown",
   "metadata": {},
   "source": [
    "### Build Model"
   ]
  },
  {
   "cell_type": "markdown",
   "metadata": {},
   "source": [
    "#### Test with tree first"
   ]
  },
  {
   "cell_type": "code",
   "execution_count": 385,
   "metadata": {},
   "outputs": [
    {
     "data": {
      "text/plain": [
       "Decision Tree\n",
       "Leaves: 4072\n",
       "Depth:  35"
      ]
     },
     "execution_count": 385,
     "metadata": {},
     "output_type": "execute_result"
    }
   ],
   "source": [
    "model_tree = build_tree(full_train_labels, full_train_features)"
   ]
  },
  {
   "cell_type": "code",
   "execution_count": 386,
   "metadata": {},
   "outputs": [
    {
     "data": {
      "text/plain": [
       "Decision Tree\n",
       "Leaves: 3930\n",
       "Depth:  35"
      ]
     },
     "execution_count": 386,
     "metadata": {},
     "output_type": "execute_result"
    }
   ],
   "source": [
    "model_tree = prune_tree(model_tree, 0.90)"
   ]
  },
  {
   "cell_type": "code",
   "execution_count": 387,
   "metadata": {},
   "outputs": [
    {
     "data": {
      "text/plain": [
       "Ensemble of Decision Trees\n",
       "Trees:      100\n",
       "Avg Leaves: 2921.1\n",
       "Avg Depth:  31.62"
      ]
     },
     "execution_count": 387,
     "metadata": {},
     "output_type": "execute_result"
    }
   ],
   "source": [
    "model = build_forest(full_train_labels, full_train_features, 4, 100, 0.7, 40)"
   ]
  },
  {
   "cell_type": "markdown",
   "metadata": {},
   "source": [
    "# Prediction"
   ]
  },
  {
   "cell_type": "markdown",
   "metadata": {},
   "source": [
    "## Get the test data"
   ]
  },
  {
   "cell_type": "code",
   "execution_count": 389,
   "metadata": {},
   "outputs": [
    {
     "data": {
      "text/html": [
       "<table class=\"data-frame\"><thead><tr><th></th><th>ID_OUVRAGE</th><th>DATE</th></tr><tr><th></th><th>String</th><th>Date</th></tr></thead><tbody><p>10 rows × 2 columns</p><tr><th>1</th><td>3260-01D</td><td>2019-05-02</td></tr><tr><th>2</th><td>3260-01D</td><td>2019-05-09</td></tr><tr><th>3</th><td>3260-01D</td><td>2019-05-10</td></tr><tr><th>4</th><td>3260-01D</td><td>2019-05-15</td></tr><tr><th>5</th><td>3260-01D</td><td>2019-05-20</td></tr><tr><th>6</th><td>3260-01D</td><td>2019-05-23</td></tr><tr><th>7</th><td>3260-01D</td><td>2019-05-24</td></tr><tr><th>8</th><td>3260-01D</td><td>2019-05-26</td></tr><tr><th>9</th><td>3260-01D</td><td>2019-05-30</td></tr><tr><th>10</th><td>3350-07D</td><td>2019-05-01</td></tr></tbody></table>"
      ],
      "text/latex": [
       "\\begin{tabular}{r|cc}\n",
       "\t& ID\\_OUVRAGE & DATE\\\\\n",
       "\t\\hline\n",
       "\t& String & Date\\\\\n",
       "\t\\hline\n",
       "\t1 & 3260-01D & 2019-05-02 \\\\\n",
       "\t2 & 3260-01D & 2019-05-09 \\\\\n",
       "\t3 & 3260-01D & 2019-05-10 \\\\\n",
       "\t4 & 3260-01D & 2019-05-15 \\\\\n",
       "\t5 & 3260-01D & 2019-05-20 \\\\\n",
       "\t6 & 3260-01D & 2019-05-23 \\\\\n",
       "\t7 & 3260-01D & 2019-05-24 \\\\\n",
       "\t8 & 3260-01D & 2019-05-26 \\\\\n",
       "\t9 & 3260-01D & 2019-05-30 \\\\\n",
       "\t10 & 3350-07D & 2019-05-01 \\\\\n",
       "\\end{tabular}\n"
      ],
      "text/plain": [
       "10×2 DataFrame\n",
       "│ Row │ ID_OUVRAGE │ DATE       │\n",
       "│     │ \u001b[90mString\u001b[39m     │ \u001b[90mDate\u001b[39m       │\n",
       "├─────┼────────────┼────────────┤\n",
       "│ 1   │ 3260-01D   │ 2019-05-02 │\n",
       "│ 2   │ 3260-01D   │ 2019-05-09 │\n",
       "│ 3   │ 3260-01D   │ 2019-05-10 │\n",
       "│ 4   │ 3260-01D   │ 2019-05-15 │\n",
       "│ 5   │ 3260-01D   │ 2019-05-20 │\n",
       "│ 6   │ 3260-01D   │ 2019-05-23 │\n",
       "│ 7   │ 3260-01D   │ 2019-05-24 │\n",
       "│ 8   │ 3260-01D   │ 2019-05-26 │\n",
       "│ 9   │ 3260-01D   │ 2019-05-30 │\n",
       "│ 10  │ 3350-07D   │ 2019-05-01 │"
      ]
     },
     "execution_count": 389,
     "metadata": {},
     "output_type": "execute_result"
    }
   ],
   "source": [
    "test = CSV.read(\"data/test.csv\");\n",
    "rename!(test, :NO_OUVRAGE => :ID_OUVRAGE);\n",
    "first(test, 10)"
   ]
  },
  {
   "cell_type": "code",
   "execution_count": 390,
   "metadata": {},
   "outputs": [
    {
     "data": {
      "text/plain": [
       "283"
      ]
     },
     "execution_count": 390,
     "metadata": {},
     "output_type": "execute_result"
    }
   ],
   "source": [
    "to_merge = unique(comb[!, [:ID_OUVRAGE, :TP_LAT, :TP_LNG, :TP_Z]], :ID_OUVRAGE);\n",
    "test_comb = join(test, to_merge, on= [:ID_OUVRAGE]);\n",
    "nrow(test_comb)"
   ]
  },
  {
   "cell_type": "code",
   "execution_count": 391,
   "metadata": {},
   "outputs": [
    {
     "data": {
      "text/html": [
       "<table class=\"data-frame\"><thead><tr><th></th><th>ID_OUVRAGE</th><th>DATE</th><th>TP_LAT</th><th>TP_LNG</th><th>TP_Z</th></tr><tr><th></th><th>String</th><th>Date</th><th>Float64</th><th>Float64</th><th>Float64</th></tr></thead><tbody><p>10 rows × 5 columns</p><tr><th>1</th><td>4380-01D</td><td>2019-06-30</td><td>0.160421</td><td>0.728206</td><td>0.359859</td></tr><tr><th>2</th><td>4350-01D</td><td>2019-07-08</td><td>0.237379</td><td>0.74432</td><td>0.359859</td></tr><tr><th>3</th><td>4240-01D</td><td>2019-05-23</td><td>0.607546</td><td>0.868856</td><td>0.116503</td></tr><tr><th>4</th><td>4350-01D</td><td>2019-08-06</td><td>0.237379</td><td>0.74432</td><td>0.359859</td></tr><tr><th>5</th><td>4240-01D</td><td>2019-07-14</td><td>0.607546</td><td>0.868856</td><td>0.116503</td></tr><tr><th>6</th><td>4350-01D</td><td>2019-09-05</td><td>0.237379</td><td>0.74432</td><td>0.359859</td></tr><tr><th>7</th><td>3260-01D</td><td>2019-08-28</td><td>0.609996</td><td>0.697487</td><td>0.386587</td></tr><tr><th>8</th><td>3350-07D</td><td>2019-09-02</td><td>0.353054</td><td>0.490395</td><td>0.405552</td></tr><tr><th>9</th><td>4240-01D</td><td>2019-05-22</td><td>0.607546</td><td>0.868856</td><td>0.116503</td></tr><tr><th>10</th><td>3260-01D</td><td>2019-05-23</td><td>0.609996</td><td>0.697487</td><td>0.386587</td></tr></tbody></table>"
      ],
      "text/latex": [
       "\\begin{tabular}{r|ccccc}\n",
       "\t& ID\\_OUVRAGE & DATE & TP\\_LAT & TP\\_LNG & TP\\_Z\\\\\n",
       "\t\\hline\n",
       "\t& String & Date & Float64 & Float64 & Float64\\\\\n",
       "\t\\hline\n",
       "\t1 & 4380-01D & 2019-06-30 & 0.160421 & 0.728206 & 0.359859 \\\\\n",
       "\t2 & 4350-01D & 2019-07-08 & 0.237379 & 0.74432 & 0.359859 \\\\\n",
       "\t3 & 4240-01D & 2019-05-23 & 0.607546 & 0.868856 & 0.116503 \\\\\n",
       "\t4 & 4350-01D & 2019-08-06 & 0.237379 & 0.74432 & 0.359859 \\\\\n",
       "\t5 & 4240-01D & 2019-07-14 & 0.607546 & 0.868856 & 0.116503 \\\\\n",
       "\t6 & 4350-01D & 2019-09-05 & 0.237379 & 0.74432 & 0.359859 \\\\\n",
       "\t7 & 3260-01D & 2019-08-28 & 0.609996 & 0.697487 & 0.386587 \\\\\n",
       "\t8 & 3350-07D & 2019-09-02 & 0.353054 & 0.490395 & 0.405552 \\\\\n",
       "\t9 & 4240-01D & 2019-05-22 & 0.607546 & 0.868856 & 0.116503 \\\\\n",
       "\t10 & 3260-01D & 2019-05-23 & 0.609996 & 0.697487 & 0.386587 \\\\\n",
       "\\end{tabular}\n"
      ],
      "text/plain": [
       "10×5 DataFrame\n",
       "│ Row │ ID_OUVRAGE │ DATE       │ TP_LAT   │ TP_LNG   │ TP_Z     │\n",
       "│     │ \u001b[90mString\u001b[39m     │ \u001b[90mDate\u001b[39m       │ \u001b[90mFloat64\u001b[39m  │ \u001b[90mFloat64\u001b[39m  │ \u001b[90mFloat64\u001b[39m  │\n",
       "├─────┼────────────┼────────────┼──────────┼──────────┼──────────┤\n",
       "│ 1   │ 4380-01D   │ 2019-06-30 │ 0.160421 │ 0.728206 │ 0.359859 │\n",
       "│ 2   │ 4350-01D   │ 2019-07-08 │ 0.237379 │ 0.74432  │ 0.359859 │\n",
       "│ 3   │ 4240-01D   │ 2019-05-23 │ 0.607546 │ 0.868856 │ 0.116503 │\n",
       "│ 4   │ 4350-01D   │ 2019-08-06 │ 0.237379 │ 0.74432  │ 0.359859 │\n",
       "│ 5   │ 4240-01D   │ 2019-07-14 │ 0.607546 │ 0.868856 │ 0.116503 │\n",
       "│ 6   │ 4350-01D   │ 2019-09-05 │ 0.237379 │ 0.74432  │ 0.359859 │\n",
       "│ 7   │ 3260-01D   │ 2019-08-28 │ 0.609996 │ 0.697487 │ 0.386587 │\n",
       "│ 8   │ 3350-07D   │ 2019-09-02 │ 0.353054 │ 0.490395 │ 0.405552 │\n",
       "│ 9   │ 4240-01D   │ 2019-05-22 │ 0.607546 │ 0.868856 │ 0.116503 │\n",
       "│ 10  │ 3260-01D   │ 2019-05-23 │ 0.609996 │ 0.697487 │ 0.386587 │"
      ]
     },
     "execution_count": 391,
     "metadata": {},
     "output_type": "execute_result"
    }
   ],
   "source": [
    "first(shuffleDf(test_comb), 10)"
   ]
  },
  {
   "cell_type": "markdown",
   "metadata": {},
   "source": [
    "### Add PCP_SUM and PCP_MAX"
   ]
  },
  {
   "cell_type": "markdown",
   "metadata": {},
   "source": [
    "#### Initialize default pcp"
   ]
  },
  {
   "cell_type": "code",
   "execution_count": 399,
   "metadata": {},
   "outputs": [],
   "source": [
    "test_comb.PCP_SUM = zeros(size(test_comb, 1));\n",
    "test_comb.PCP_MAX = zeros(size(test_comb, 1));\n",
    "test_comb.PCP_MAX3 = zeros(size(test_comb, 1));\n",
    "permutecols!(test_comb, [:ID_OUVRAGE, :TP_LAT, :TP_LNG, :TP_Z, :DATE, :PCP_SUM, :PCP_MAX, :PCP_MAX3]);"
   ]
  },
  {
   "cell_type": "code",
   "execution_count": 400,
   "metadata": {},
   "outputs": [
    {
     "data": {
      "text/html": [
       "<table class=\"data-frame\"><thead><tr><th></th><th>ID_OUVRAGE</th><th>TP_LAT</th><th>TP_LNG</th><th>TP_Z</th><th>DATE</th><th>PCP_SUM</th><th>PCP_MAX</th><th>PCP_MAX3</th></tr><tr><th></th><th>String</th><th>Float64</th><th>Float64</th><th>Float64</th><th>Date</th><th>Float64</th><th>Float64</th><th>Float64</th></tr></thead><tbody><p>10 rows × 8 columns</p><tr><th>1</th><td>4380-01D</td><td>0.160421</td><td>0.728206</td><td>0.359859</td><td>2019-08-17</td><td>0.0</td><td>0.0</td><td>0.0</td></tr><tr><th>2</th><td>4350-01D</td><td>0.237379</td><td>0.74432</td><td>0.359859</td><td>2019-06-14</td><td>0.0</td><td>0.0</td><td>0.0</td></tr><tr><th>3</th><td>4240-01D</td><td>0.607546</td><td>0.868856</td><td>0.116503</td><td>2019-08-13</td><td>0.0</td><td>0.0</td><td>0.0</td></tr><tr><th>4</th><td>4350-01D</td><td>0.237379</td><td>0.74432</td><td>0.359859</td><td>2019-09-10</td><td>0.0</td><td>0.0</td><td>0.0</td></tr><tr><th>5</th><td>4350-01D</td><td>0.237379</td><td>0.74432</td><td>0.359859</td><td>2019-05-30</td><td>0.0</td><td>0.0</td><td>0.0</td></tr><tr><th>6</th><td>3260-01D</td><td>0.609996</td><td>0.697487</td><td>0.386587</td><td>2019-08-01</td><td>0.0</td><td>0.0</td><td>0.0</td></tr><tr><th>7</th><td>3350-07D</td><td>0.353054</td><td>0.490395</td><td>0.405552</td><td>2019-05-11</td><td>0.0</td><td>0.0</td><td>0.0</td></tr><tr><th>8</th><td>3350-07D</td><td>0.353054</td><td>0.490395</td><td>0.405552</td><td>2019-05-13</td><td>0.0</td><td>0.0</td><td>0.0</td></tr><tr><th>9</th><td>4380-01D</td><td>0.160421</td><td>0.728206</td><td>0.359859</td><td>2019-05-28</td><td>0.0</td><td>0.0</td><td>0.0</td></tr><tr><th>10</th><td>3350-07D</td><td>0.353054</td><td>0.490395</td><td>0.405552</td><td>2019-09-23</td><td>0.0</td><td>0.0</td><td>0.0</td></tr></tbody></table>"
      ],
      "text/latex": [
       "\\begin{tabular}{r|cccccccc}\n",
       "\t& ID\\_OUVRAGE & TP\\_LAT & TP\\_LNG & TP\\_Z & DATE & PCP\\_SUM & PCP\\_MAX & PCP\\_MAX3\\\\\n",
       "\t\\hline\n",
       "\t& String & Float64 & Float64 & Float64 & Date & Float64 & Float64 & Float64\\\\\n",
       "\t\\hline\n",
       "\t1 & 4380-01D & 0.160421 & 0.728206 & 0.359859 & 2019-08-17 & 0.0 & 0.0 & 0.0 \\\\\n",
       "\t2 & 4350-01D & 0.237379 & 0.74432 & 0.359859 & 2019-06-14 & 0.0 & 0.0 & 0.0 \\\\\n",
       "\t3 & 4240-01D & 0.607546 & 0.868856 & 0.116503 & 2019-08-13 & 0.0 & 0.0 & 0.0 \\\\\n",
       "\t4 & 4350-01D & 0.237379 & 0.74432 & 0.359859 & 2019-09-10 & 0.0 & 0.0 & 0.0 \\\\\n",
       "\t5 & 4350-01D & 0.237379 & 0.74432 & 0.359859 & 2019-05-30 & 0.0 & 0.0 & 0.0 \\\\\n",
       "\t6 & 3260-01D & 0.609996 & 0.697487 & 0.386587 & 2019-08-01 & 0.0 & 0.0 & 0.0 \\\\\n",
       "\t7 & 3350-07D & 0.353054 & 0.490395 & 0.405552 & 2019-05-11 & 0.0 & 0.0 & 0.0 \\\\\n",
       "\t8 & 3350-07D & 0.353054 & 0.490395 & 0.405552 & 2019-05-13 & 0.0 & 0.0 & 0.0 \\\\\n",
       "\t9 & 4380-01D & 0.160421 & 0.728206 & 0.359859 & 2019-05-28 & 0.0 & 0.0 & 0.0 \\\\\n",
       "\t10 & 3350-07D & 0.353054 & 0.490395 & 0.405552 & 2019-09-23 & 0.0 & 0.0 & 0.0 \\\\\n",
       "\\end{tabular}\n"
      ],
      "text/plain": [
       "10×8 DataFrame. Omitted printing of 2 columns\n",
       "│ Row │ ID_OUVRAGE │ TP_LAT   │ TP_LNG   │ TP_Z     │ DATE       │ PCP_SUM │\n",
       "│     │ \u001b[90mString\u001b[39m     │ \u001b[90mFloat64\u001b[39m  │ \u001b[90mFloat64\u001b[39m  │ \u001b[90mFloat64\u001b[39m  │ \u001b[90mDate\u001b[39m       │ \u001b[90mFloat64\u001b[39m │\n",
       "├─────┼────────────┼──────────┼──────────┼──────────┼────────────┼─────────┤\n",
       "│ 1   │ 4380-01D   │ 0.160421 │ 0.728206 │ 0.359859 │ 2019-08-17 │ 0.0     │\n",
       "│ 2   │ 4350-01D   │ 0.237379 │ 0.74432  │ 0.359859 │ 2019-06-14 │ 0.0     │\n",
       "│ 3   │ 4240-01D   │ 0.607546 │ 0.868856 │ 0.116503 │ 2019-08-13 │ 0.0     │\n",
       "│ 4   │ 4350-01D   │ 0.237379 │ 0.74432  │ 0.359859 │ 2019-09-10 │ 0.0     │\n",
       "│ 5   │ 4350-01D   │ 0.237379 │ 0.74432  │ 0.359859 │ 2019-05-30 │ 0.0     │\n",
       "│ 6   │ 3260-01D   │ 0.609996 │ 0.697487 │ 0.386587 │ 2019-08-01 │ 0.0     │\n",
       "│ 7   │ 3350-07D   │ 0.353054 │ 0.490395 │ 0.405552 │ 2019-05-11 │ 0.0     │\n",
       "│ 8   │ 3350-07D   │ 0.353054 │ 0.490395 │ 0.405552 │ 2019-05-13 │ 0.0     │\n",
       "│ 9   │ 4380-01D   │ 0.160421 │ 0.728206 │ 0.359859 │ 2019-05-28 │ 0.0     │\n",
       "│ 10  │ 3350-07D   │ 0.353054 │ 0.490395 │ 0.405552 │ 2019-09-23 │ 0.0     │"
      ]
     },
     "execution_count": 400,
     "metadata": {},
     "output_type": "execute_result"
    }
   ],
   "source": [
    "first(shuffleDf(test_comb), 10)"
   ]
  },
  {
   "cell_type": "markdown",
   "metadata": {},
   "source": [
    "#### Populate pcp"
   ]
  },
  {
   "cell_type": "code",
   "execution_count": 401,
   "metadata": {},
   "outputs": [],
   "source": [
    "for i=1:size(test_comb, 1)\n",
    "    id_ouvrage = test_comb[i, 1]; \n",
    "    closest_station = \"McTavish\"; # initial value\n",
    "    shortest_dist = -1;\n",
    "    \n",
    "    # Find closest station\n",
    "    for j=1:size(station_df, 1)\n",
    "        dist = findDistance(test_comb[i, :TP_LAT], test_comb[i, :TP_LNG], station_df[j, :LAT], station_df[j, :LNG]);\n",
    "        \n",
    "        if shortest_dist == -1 || dist < shortest_dist\n",
    "            shortest_dist = dist;\n",
    "            closest_station = station_df[j, :STATION];\n",
    "        end\n",
    "    end\n",
    "    \n",
    "    # Augment comb with a weighted p_sum, based on the distance to the station\n",
    "    p_sum = pcp_sum[∈([test_comb[i, :DATE]]).(pcp_sum.date), Symbol(closest_station)];\n",
    "    test_comb[i, :PCP_SUM] = p_sum[1] * (1 - shortest_dist); \n",
    "    # Augment comb with a weighted p_max, based on the distance to the station\n",
    "    p_max = pcp_max[∈([test_comb[i, :DATE]]).(pcp_max.date), Symbol(closest_station)]\n",
    "    test_comb[i, :PCP_MAX] = p_max[1] * (1 - shortest_dist);\n",
    "    # Augment comb with a weighted p_max3, based on the distance to the station\n",
    "    p_max3 = pcp_max3h[∈([test_comb[i, :DATE]]).(pcp_max3h.date), Symbol(closest_station)]\n",
    "    test_comb[i, :PCP_MAX3] = p_max3[1] * (1 - shortest_dist);\n",
    "end"
   ]
  },
  {
   "cell_type": "code",
   "execution_count": 402,
   "metadata": {},
   "outputs": [
    {
     "data": {
      "text/html": [
       "<table class=\"data-frame\"><thead><tr><th></th><th>ID_OUVRAGE</th><th>TP_LAT</th><th>TP_LNG</th><th>TP_Z</th><th>DATE</th><th>PCP_SUM</th><th>PCP_MAX</th><th>PCP_MAX3</th></tr><tr><th></th><th>String</th><th>Float64</th><th>Float64</th><th>Float64</th><th>Date</th><th>Float64</th><th>Float64</th><th>Float64</th></tr></thead><tbody><p>10 rows × 8 columns</p><tr><th>1</th><td>4380-01D</td><td>0.160421</td><td>0.728206</td><td>0.359859</td><td>2019-06-24</td><td>0.0</td><td>0.0</td><td>0.0</td></tr><tr><th>2</th><td>3260-01D</td><td>0.609996</td><td>0.697487</td><td>0.386587</td><td>2019-08-09</td><td>55.153</td><td>21.8047</td><td>36.5549</td></tr><tr><th>3</th><td>3350-07D</td><td>0.353054</td><td>0.490395</td><td>0.405552</td><td>2019-07-23</td><td>0.0</td><td>0.0</td><td>0.0</td></tr><tr><th>4</th><td>4240-01D</td><td>0.607546</td><td>0.868856</td><td>0.116503</td><td>2019-06-13</td><td>5.19718</td><td>5.19718</td><td>5.19718</td></tr><tr><th>5</th><td>4350-01D</td><td>0.237379</td><td>0.74432</td><td>0.359859</td><td>2019-06-19</td><td>0.0</td><td>0.0</td><td>0.0</td></tr><tr><th>6</th><td>3350-07D</td><td>0.353054</td><td>0.490395</td><td>0.405552</td><td>2019-06-14</td><td>45.6263</td><td>14.9465</td><td>40.9063</td></tr><tr><th>7</th><td>3260-01D</td><td>0.609996</td><td>0.697487</td><td>0.386587</td><td>2019-07-31</td><td>0.0</td><td>0.0</td><td>0.0</td></tr><tr><th>8</th><td>3350-07D</td><td>0.353054</td><td>0.490395</td><td>0.405552</td><td>2019-06-30</td><td>24.3865</td><td>14.9465</td><td>24.3865</td></tr><tr><th>9</th><td>3350-07D</td><td>0.353054</td><td>0.490395</td><td>0.405552</td><td>2019-07-29</td><td>0.0</td><td>0.0</td><td>0.0</td></tr><tr><th>10</th><td>4380-01D</td><td>0.160421</td><td>0.728206</td><td>0.359859</td><td>2019-06-30</td><td>113.086</td><td>104.039</td><td>113.086</td></tr></tbody></table>"
      ],
      "text/latex": [
       "\\begin{tabular}{r|cccccccc}\n",
       "\t& ID\\_OUVRAGE & TP\\_LAT & TP\\_LNG & TP\\_Z & DATE & PCP\\_SUM & PCP\\_MAX & PCP\\_MAX3\\\\\n",
       "\t\\hline\n",
       "\t& String & Float64 & Float64 & Float64 & Date & Float64 & Float64 & Float64\\\\\n",
       "\t\\hline\n",
       "\t1 & 4380-01D & 0.160421 & 0.728206 & 0.359859 & 2019-06-24 & 0.0 & 0.0 & 0.0 \\\\\n",
       "\t2 & 3260-01D & 0.609996 & 0.697487 & 0.386587 & 2019-08-09 & 55.153 & 21.8047 & 36.5549 \\\\\n",
       "\t3 & 3350-07D & 0.353054 & 0.490395 & 0.405552 & 2019-07-23 & 0.0 & 0.0 & 0.0 \\\\\n",
       "\t4 & 4240-01D & 0.607546 & 0.868856 & 0.116503 & 2019-06-13 & 5.19718 & 5.19718 & 5.19718 \\\\\n",
       "\t5 & 4350-01D & 0.237379 & 0.74432 & 0.359859 & 2019-06-19 & 0.0 & 0.0 & 0.0 \\\\\n",
       "\t6 & 3350-07D & 0.353054 & 0.490395 & 0.405552 & 2019-06-14 & 45.6263 & 14.9465 & 40.9063 \\\\\n",
       "\t7 & 3260-01D & 0.609996 & 0.697487 & 0.386587 & 2019-07-31 & 0.0 & 0.0 & 0.0 \\\\\n",
       "\t8 & 3350-07D & 0.353054 & 0.490395 & 0.405552 & 2019-06-30 & 24.3865 & 14.9465 & 24.3865 \\\\\n",
       "\t9 & 3350-07D & 0.353054 & 0.490395 & 0.405552 & 2019-07-29 & 0.0 & 0.0 & 0.0 \\\\\n",
       "\t10 & 4380-01D & 0.160421 & 0.728206 & 0.359859 & 2019-06-30 & 113.086 & 104.039 & 113.086 \\\\\n",
       "\\end{tabular}\n"
      ],
      "text/plain": [
       "10×8 DataFrame. Omitted printing of 2 columns\n",
       "│ Row │ ID_OUVRAGE │ TP_LAT   │ TP_LNG   │ TP_Z     │ DATE       │ PCP_SUM │\n",
       "│     │ \u001b[90mString\u001b[39m     │ \u001b[90mFloat64\u001b[39m  │ \u001b[90mFloat64\u001b[39m  │ \u001b[90mFloat64\u001b[39m  │ \u001b[90mDate\u001b[39m       │ \u001b[90mFloat64\u001b[39m │\n",
       "├─────┼────────────┼──────────┼──────────┼──────────┼────────────┼─────────┤\n",
       "│ 1   │ 4380-01D   │ 0.160421 │ 0.728206 │ 0.359859 │ 2019-06-24 │ 0.0     │\n",
       "│ 2   │ 3260-01D   │ 0.609996 │ 0.697487 │ 0.386587 │ 2019-08-09 │ 55.153  │\n",
       "│ 3   │ 3350-07D   │ 0.353054 │ 0.490395 │ 0.405552 │ 2019-07-23 │ 0.0     │\n",
       "│ 4   │ 4240-01D   │ 0.607546 │ 0.868856 │ 0.116503 │ 2019-06-13 │ 5.19718 │\n",
       "│ 5   │ 4350-01D   │ 0.237379 │ 0.74432  │ 0.359859 │ 2019-06-19 │ 0.0     │\n",
       "│ 6   │ 3350-07D   │ 0.353054 │ 0.490395 │ 0.405552 │ 2019-06-14 │ 45.6263 │\n",
       "│ 7   │ 3260-01D   │ 0.609996 │ 0.697487 │ 0.386587 │ 2019-07-31 │ 0.0     │\n",
       "│ 8   │ 3350-07D   │ 0.353054 │ 0.490395 │ 0.405552 │ 2019-06-30 │ 24.3865 │\n",
       "│ 9   │ 3350-07D   │ 0.353054 │ 0.490395 │ 0.405552 │ 2019-07-29 │ 0.0     │\n",
       "│ 10  │ 4380-01D   │ 0.160421 │ 0.728206 │ 0.359859 │ 2019-06-30 │ 113.086 │"
      ]
     },
     "execution_count": 402,
     "metadata": {},
     "output_type": "execute_result"
    }
   ],
   "source": [
    "first(shuffleDf(test_comb), 10)"
   ]
  },
  {
   "cell_type": "markdown",
   "metadata": {},
   "source": [
    "#### Normalize pcp based on comb (not test_comb)"
   ]
  },
  {
   "cell_type": "code",
   "execution_count": 403,
   "metadata": {},
   "outputs": [],
   "source": [
    "test_comb.PCP_SUM = normalize.(test_comb.PCP_SUM, min_pcp_sum, max_pcp_sum);\n",
    "test_comb.PCP_MAX = normalize.(test_comb.PCP_MAX, min_pcp_max, max_pcp_max);\n",
    "test_comb.PCP_MAX3 = normalize.(test_comb.PCP_MAX3, min_pcp_max3, max_pcp_max3);"
   ]
  },
  {
   "cell_type": "code",
   "execution_count": 404,
   "metadata": {},
   "outputs": [
    {
     "data": {
      "text/html": [
       "<table class=\"data-frame\"><thead><tr><th></th><th>ID_OUVRAGE</th><th>TP_LAT</th><th>TP_LNG</th><th>TP_Z</th><th>DATE</th><th>PCP_SUM</th><th>PCP_MAX</th><th>PCP_MAX3</th></tr><tr><th></th><th>String</th><th>Float64</th><th>Float64</th><th>Float64</th><th>Date</th><th>Float64</th><th>Float64</th><th>Float64</th></tr></thead><tbody><p>20 rows × 8 columns</p><tr><th>1</th><td>3260-01D</td><td>0.609996</td><td>0.697487</td><td>0.386587</td><td>2019-05-02</td><td>0.0222322</td><td>0.0153915</td><td>0.0188119</td></tr><tr><th>2</th><td>3260-01D</td><td>0.609996</td><td>0.697487</td><td>0.386587</td><td>2019-05-09</td><td>0.0761026</td><td>0.0577183</td><td>0.0761026</td></tr><tr><th>3</th><td>3260-01D</td><td>0.609996</td><td>0.697487</td><td>0.386587</td><td>2019-05-10</td><td>0.329208</td><td>0.0846535</td><td>0.132538</td></tr><tr><th>4</th><td>3260-01D</td><td>0.609996</td><td>0.697487</td><td>0.386587</td><td>2019-05-15</td><td>0.00171017</td><td>0.00256526</td><td>0.00171017</td></tr><tr><th>5</th><td>3260-01D</td><td>0.609996</td><td>0.697487</td><td>0.386587</td><td>2019-05-20</td><td>0.039334</td><td>0.0513052</td><td>0.0376238</td></tr><tr><th>6</th><td>3260-01D</td><td>0.609996</td><td>0.697487</td><td>0.386587</td><td>2019-05-23</td><td>0.14964</td><td>0.0808056</td><td>0.122277</td></tr><tr><th>7</th><td>3260-01D</td><td>0.609996</td><td>0.697487</td><td>0.386587</td><td>2019-05-24</td><td>0.0111161</td><td>0.0115437</td><td>0.00940595</td></tr><tr><th>8</th><td>3260-01D</td><td>0.609996</td><td>0.697487</td><td>0.386587</td><td>2019-05-26</td><td>0.00256526</td><td>0.00384789</td><td>0.00256526</td></tr><tr><th>9</th><td>3260-01D</td><td>0.609996</td><td>0.697487</td><td>0.386587</td><td>2019-05-30</td><td>0.0059856</td><td>0.0089784</td><td>0.0059856</td></tr><tr><th>10</th><td>3350-07D</td><td>0.353054</td><td>0.490395</td><td>0.405552</td><td>2019-05-01</td><td>0.0492974</td><td>0.0330397</td><td>0.0430041</td></tr><tr><th>11</th><td>3350-07D</td><td>0.353054</td><td>0.490395</td><td>0.405552</td><td>2019-05-02</td><td>0.0136354</td><td>0.0125866</td><td>0.0115377</td></tr><tr><th>12</th><td>3350-07D</td><td>0.353054</td><td>0.490395</td><td>0.405552</td><td>2019-05-08</td><td>0.0</td><td>0.0</td><td>0.0</td></tr><tr><th>13</th><td>3350-07D</td><td>0.353054</td><td>0.490395</td><td>0.405552</td><td>2019-05-09</td><td>0.0902037</td><td>0.0676528</td><td>0.0902037</td></tr><tr><th>14</th><td>3350-07D</td><td>0.353054</td><td>0.490395</td><td>0.405552</td><td>2019-05-10</td><td>0.298931</td><td>0.0755194</td><td>0.132159</td></tr><tr><th>15</th><td>3350-07D</td><td>0.353054</td><td>0.490395</td><td>0.405552</td><td>2019-05-11</td><td>0.0</td><td>0.0</td><td>0.0</td></tr><tr><th>16</th><td>3350-07D</td><td>0.353054</td><td>0.490395</td><td>0.405552</td><td>2019-05-13</td><td>0.00943993</td><td>0.0141599</td><td>0.00943993</td></tr><tr><th>17</th><td>3350-07D</td><td>0.353054</td><td>0.490395</td><td>0.405552</td><td>2019-05-14</td><td>0.109084</td><td>0.0283198</td><td>0.0461507</td></tr><tr><th>18</th><td>3350-07D</td><td>0.353054</td><td>0.490395</td><td>0.405552</td><td>2019-05-18</td><td>0.00209776</td><td>0.00314664</td><td>0.00209776</td></tr><tr><th>19</th><td>3350-07D</td><td>0.353054</td><td>0.490395</td><td>0.405552</td><td>2019-05-19</td><td>0.0597862</td><td>0.0424797</td><td>0.0482485</td></tr><tr><th>20</th><td>3350-07D</td><td>0.353054</td><td>0.490395</td><td>0.405552</td><td>2019-05-20</td><td>0.0555907</td><td>0.0802394</td><td>0.0555907</td></tr></tbody></table>"
      ],
      "text/latex": [
       "\\begin{tabular}{r|cccccccc}\n",
       "\t& ID\\_OUVRAGE & TP\\_LAT & TP\\_LNG & TP\\_Z & DATE & PCP\\_SUM & PCP\\_MAX & PCP\\_MAX3\\\\\n",
       "\t\\hline\n",
       "\t& String & Float64 & Float64 & Float64 & Date & Float64 & Float64 & Float64\\\\\n",
       "\t\\hline\n",
       "\t1 & 3260-01D & 0.609996 & 0.697487 & 0.386587 & 2019-05-02 & 0.0222322 & 0.0153915 & 0.0188119 \\\\\n",
       "\t2 & 3260-01D & 0.609996 & 0.697487 & 0.386587 & 2019-05-09 & 0.0761026 & 0.0577183 & 0.0761026 \\\\\n",
       "\t3 & 3260-01D & 0.609996 & 0.697487 & 0.386587 & 2019-05-10 & 0.329208 & 0.0846535 & 0.132538 \\\\\n",
       "\t4 & 3260-01D & 0.609996 & 0.697487 & 0.386587 & 2019-05-15 & 0.00171017 & 0.00256526 & 0.00171017 \\\\\n",
       "\t5 & 3260-01D & 0.609996 & 0.697487 & 0.386587 & 2019-05-20 & 0.039334 & 0.0513052 & 0.0376238 \\\\\n",
       "\t6 & 3260-01D & 0.609996 & 0.697487 & 0.386587 & 2019-05-23 & 0.14964 & 0.0808056 & 0.122277 \\\\\n",
       "\t7 & 3260-01D & 0.609996 & 0.697487 & 0.386587 & 2019-05-24 & 0.0111161 & 0.0115437 & 0.00940595 \\\\\n",
       "\t8 & 3260-01D & 0.609996 & 0.697487 & 0.386587 & 2019-05-26 & 0.00256526 & 0.00384789 & 0.00256526 \\\\\n",
       "\t9 & 3260-01D & 0.609996 & 0.697487 & 0.386587 & 2019-05-30 & 0.0059856 & 0.0089784 & 0.0059856 \\\\\n",
       "\t10 & 3350-07D & 0.353054 & 0.490395 & 0.405552 & 2019-05-01 & 0.0492974 & 0.0330397 & 0.0430041 \\\\\n",
       "\t11 & 3350-07D & 0.353054 & 0.490395 & 0.405552 & 2019-05-02 & 0.0136354 & 0.0125866 & 0.0115377 \\\\\n",
       "\t12 & 3350-07D & 0.353054 & 0.490395 & 0.405552 & 2019-05-08 & 0.0 & 0.0 & 0.0 \\\\\n",
       "\t13 & 3350-07D & 0.353054 & 0.490395 & 0.405552 & 2019-05-09 & 0.0902037 & 0.0676528 & 0.0902037 \\\\\n",
       "\t14 & 3350-07D & 0.353054 & 0.490395 & 0.405552 & 2019-05-10 & 0.298931 & 0.0755194 & 0.132159 \\\\\n",
       "\t15 & 3350-07D & 0.353054 & 0.490395 & 0.405552 & 2019-05-11 & 0.0 & 0.0 & 0.0 \\\\\n",
       "\t16 & 3350-07D & 0.353054 & 0.490395 & 0.405552 & 2019-05-13 & 0.00943993 & 0.0141599 & 0.00943993 \\\\\n",
       "\t17 & 3350-07D & 0.353054 & 0.490395 & 0.405552 & 2019-05-14 & 0.109084 & 0.0283198 & 0.0461507 \\\\\n",
       "\t18 & 3350-07D & 0.353054 & 0.490395 & 0.405552 & 2019-05-18 & 0.00209776 & 0.00314664 & 0.00209776 \\\\\n",
       "\t19 & 3350-07D & 0.353054 & 0.490395 & 0.405552 & 2019-05-19 & 0.0597862 & 0.0424797 & 0.0482485 \\\\\n",
       "\t20 & 3350-07D & 0.353054 & 0.490395 & 0.405552 & 2019-05-20 & 0.0555907 & 0.0802394 & 0.0555907 \\\\\n",
       "\\end{tabular}\n"
      ],
      "text/plain": [
       "20×8 DataFrame. Omitted printing of 2 columns\n",
       "│ Row │ ID_OUVRAGE │ TP_LAT   │ TP_LNG   │ TP_Z     │ DATE       │ PCP_SUM    │\n",
       "│     │ \u001b[90mString\u001b[39m     │ \u001b[90mFloat64\u001b[39m  │ \u001b[90mFloat64\u001b[39m  │ \u001b[90mFloat64\u001b[39m  │ \u001b[90mDate\u001b[39m       │ \u001b[90mFloat64\u001b[39m    │\n",
       "├─────┼────────────┼──────────┼──────────┼──────────┼────────────┼────────────┤\n",
       "│ 1   │ 3260-01D   │ 0.609996 │ 0.697487 │ 0.386587 │ 2019-05-02 │ 0.0222322  │\n",
       "│ 2   │ 3260-01D   │ 0.609996 │ 0.697487 │ 0.386587 │ 2019-05-09 │ 0.0761026  │\n",
       "│ 3   │ 3260-01D   │ 0.609996 │ 0.697487 │ 0.386587 │ 2019-05-10 │ 0.329208   │\n",
       "│ 4   │ 3260-01D   │ 0.609996 │ 0.697487 │ 0.386587 │ 2019-05-15 │ 0.00171017 │\n",
       "│ 5   │ 3260-01D   │ 0.609996 │ 0.697487 │ 0.386587 │ 2019-05-20 │ 0.039334   │\n",
       "│ 6   │ 3260-01D   │ 0.609996 │ 0.697487 │ 0.386587 │ 2019-05-23 │ 0.14964    │\n",
       "│ 7   │ 3260-01D   │ 0.609996 │ 0.697487 │ 0.386587 │ 2019-05-24 │ 0.0111161  │\n",
       "│ 8   │ 3260-01D   │ 0.609996 │ 0.697487 │ 0.386587 │ 2019-05-26 │ 0.00256526 │\n",
       "│ 9   │ 3260-01D   │ 0.609996 │ 0.697487 │ 0.386587 │ 2019-05-30 │ 0.0059856  │\n",
       "│ 10  │ 3350-07D   │ 0.353054 │ 0.490395 │ 0.405552 │ 2019-05-01 │ 0.0492974  │\n",
       "│ 11  │ 3350-07D   │ 0.353054 │ 0.490395 │ 0.405552 │ 2019-05-02 │ 0.0136354  │\n",
       "│ 12  │ 3350-07D   │ 0.353054 │ 0.490395 │ 0.405552 │ 2019-05-08 │ 0.0        │\n",
       "│ 13  │ 3350-07D   │ 0.353054 │ 0.490395 │ 0.405552 │ 2019-05-09 │ 0.0902037  │\n",
       "│ 14  │ 3350-07D   │ 0.353054 │ 0.490395 │ 0.405552 │ 2019-05-10 │ 0.298931   │\n",
       "│ 15  │ 3350-07D   │ 0.353054 │ 0.490395 │ 0.405552 │ 2019-05-11 │ 0.0        │\n",
       "│ 16  │ 3350-07D   │ 0.353054 │ 0.490395 │ 0.405552 │ 2019-05-13 │ 0.00943993 │\n",
       "│ 17  │ 3350-07D   │ 0.353054 │ 0.490395 │ 0.405552 │ 2019-05-14 │ 0.109084   │\n",
       "│ 18  │ 3350-07D   │ 0.353054 │ 0.490395 │ 0.405552 │ 2019-05-18 │ 0.00209776 │\n",
       "│ 19  │ 3350-07D   │ 0.353054 │ 0.490395 │ 0.405552 │ 2019-05-19 │ 0.0597862  │\n",
       "│ 20  │ 3350-07D   │ 0.353054 │ 0.490395 │ 0.405552 │ 2019-05-20 │ 0.0555907  │"
      ]
     },
     "execution_count": 404,
     "metadata": {},
     "output_type": "execute_result"
    }
   ],
   "source": [
    "first(test_comb, 20)"
   ]
  },
  {
   "cell_type": "markdown",
   "metadata": {},
   "source": [
    "#### Split dates into month and day"
   ]
  },
  {
   "cell_type": "code",
   "execution_count": 405,
   "metadata": {},
   "outputs": [
    {
     "data": {
      "text/html": [
       "<table class=\"data-frame\"><thead><tr><th></th><th>DATE</th><th>MONTH</th><th>DAY</th></tr><tr><th></th><th>Date</th><th>Int64</th><th>Int64</th></tr></thead><tbody><p>5 rows × 3 columns</p><tr><th>1</th><td>2019-05-24</td><td>5</td><td>24</td></tr><tr><th>2</th><td>2019-07-11</td><td>7</td><td>11</td></tr><tr><th>3</th><td>2019-09-13</td><td>9</td><td>13</td></tr><tr><th>4</th><td>2019-05-06</td><td>5</td><td>6</td></tr><tr><th>5</th><td>2019-06-28</td><td>6</td><td>28</td></tr></tbody></table>"
      ],
      "text/latex": [
       "\\begin{tabular}{r|ccc}\n",
       "\t& DATE & MONTH & DAY\\\\\n",
       "\t\\hline\n",
       "\t& Date & Int64 & Int64\\\\\n",
       "\t\\hline\n",
       "\t1 & 2019-05-24 & 5 & 24 \\\\\n",
       "\t2 & 2019-07-11 & 7 & 11 \\\\\n",
       "\t3 & 2019-09-13 & 9 & 13 \\\\\n",
       "\t4 & 2019-05-06 & 5 & 6 \\\\\n",
       "\t5 & 2019-06-28 & 6 & 28 \\\\\n",
       "\\end{tabular}\n"
      ],
      "text/plain": [
       "5×3 DataFrame\n",
       "│ Row │ DATE       │ MONTH │ DAY   │\n",
       "│     │ \u001b[90mDate\u001b[39m       │ \u001b[90mInt64\u001b[39m │ \u001b[90mInt64\u001b[39m │\n",
       "├─────┼────────────┼───────┼───────┤\n",
       "│ 1   │ 2019-05-24 │ 5     │ 24    │\n",
       "│ 2   │ 2019-07-11 │ 7     │ 11    │\n",
       "│ 3   │ 2019-09-13 │ 9     │ 13    │\n",
       "│ 4   │ 2019-05-06 │ 5     │ 6     │\n",
       "│ 5   │ 2019-06-28 │ 6     │ 28    │"
      ]
     },
     "execution_count": 405,
     "metadata": {},
     "output_type": "execute_result"
    }
   ],
   "source": [
    "test_comb.MONTH = month.(test_comb.DATE);\n",
    "test_comb.DAY = day.(test_comb.DATE);\n",
    "\n",
    "first(shuffleDf(test_comb[!, [:DATE, :MONTH, :DAY]]), 5)"
   ]
  },
  {
   "cell_type": "markdown",
   "metadata": {},
   "source": [
    "#### Normalize months and days"
   ]
  },
  {
   "cell_type": "code",
   "execution_count": 406,
   "metadata": {},
   "outputs": [
    {
     "data": {
      "text/html": [
       "<table class=\"data-frame\"><thead><tr><th></th><th>DATE</th><th>MONTH</th><th>DAY</th></tr><tr><th></th><th>Date</th><th>Float64</th><th>Float64</th></tr></thead><tbody><p>5 rows × 3 columns</p><tr><th>1</th><td>2019-08-27</td><td>0.6</td><td>0.866667</td></tr><tr><th>2</th><td>2019-07-07</td><td>0.4</td><td>0.2</td></tr><tr><th>3</th><td>2019-07-05</td><td>0.4</td><td>0.133333</td></tr><tr><th>4</th><td>2019-09-28</td><td>0.8</td><td>0.9</td></tr><tr><th>5</th><td>2019-07-31</td><td>0.4</td><td>1.0</td></tr></tbody></table>"
      ],
      "text/latex": [
       "\\begin{tabular}{r|ccc}\n",
       "\t& DATE & MONTH & DAY\\\\\n",
       "\t\\hline\n",
       "\t& Date & Float64 & Float64\\\\\n",
       "\t\\hline\n",
       "\t1 & 2019-08-27 & 0.6 & 0.866667 \\\\\n",
       "\t2 & 2019-07-07 & 0.4 & 0.2 \\\\\n",
       "\t3 & 2019-07-05 & 0.4 & 0.133333 \\\\\n",
       "\t4 & 2019-09-28 & 0.8 & 0.9 \\\\\n",
       "\t5 & 2019-07-31 & 0.4 & 1.0 \\\\\n",
       "\\end{tabular}\n"
      ],
      "text/plain": [
       "5×3 DataFrame\n",
       "│ Row │ DATE       │ MONTH   │ DAY      │\n",
       "│     │ \u001b[90mDate\u001b[39m       │ \u001b[90mFloat64\u001b[39m │ \u001b[90mFloat64\u001b[39m  │\n",
       "├─────┼────────────┼─────────┼──────────┤\n",
       "│ 1   │ 2019-08-27 │ 0.6     │ 0.866667 │\n",
       "│ 2   │ 2019-07-07 │ 0.4     │ 0.2      │\n",
       "│ 3   │ 2019-07-05 │ 0.4     │ 0.133333 │\n",
       "│ 4   │ 2019-09-28 │ 0.8     │ 0.9      │\n",
       "│ 5   │ 2019-07-31 │ 0.4     │ 1.0      │"
      ]
     },
     "execution_count": 406,
     "metadata": {},
     "output_type": "execute_result"
    }
   ],
   "source": [
    "test_comb.MONTH = normalize.(test_comb.MONTH, 5, 10);\n",
    "test_comb.DAY = normalize.(test_comb.DAY, 1, 31);\n",
    "first(shuffleDf(test_comb[!, [:DATE, :MONTH, :DAY]]), 5)"
   ]
  },
  {
   "cell_type": "markdown",
   "metadata": {},
   "source": [
    "### Create Test features"
   ]
  },
  {
   "cell_type": "code",
   "execution_count": 407,
   "metadata": {},
   "outputs": [
    {
     "data": {
      "text/plain": [
       "283×8 Array{Float64,2}:\n",
       " 0.609996  0.697487  0.386587  0.0  …  0.0222322   0.0153915   0.0188119 \n",
       " 0.609996  0.697487  0.386587  0.0     0.0761026   0.0577183   0.0761026 \n",
       " 0.609996  0.697487  0.386587  0.0     0.329208    0.0846535   0.132538  \n",
       " 0.609996  0.697487  0.386587  0.0     0.00171017  0.00256526  0.00171017\n",
       " 0.609996  0.697487  0.386587  0.0     0.039334    0.0513052   0.0376238 \n",
       " 0.609996  0.697487  0.386587  0.0  …  0.14964     0.0808056   0.122277  \n",
       " 0.609996  0.697487  0.386587  0.0     0.0111161   0.0115437   0.00940595\n",
       " 0.609996  0.697487  0.386587  0.0     0.00256526  0.00384789  0.00256526\n",
       " 0.609996  0.697487  0.386587  0.0     0.0059856   0.0089784   0.0059856 \n",
       " 0.353054  0.490395  0.405552  0.0     0.0492974   0.0330397   0.0430041 \n",
       " 0.353054  0.490395  0.405552  0.0  …  0.0136354   0.0125866   0.0115377 \n",
       " 0.353054  0.490395  0.405552  0.0     0.0         0.0         0.0       \n",
       " 0.353054  0.490395  0.405552  0.0     0.0902037   0.0676528   0.0902037 \n",
       " ⋮                                  ⋱  ⋮                                 \n",
       " 0.160421  0.728206  0.359859  0.8     0.0         0.0         0.0       \n",
       " 0.160421  0.728206  0.359859  0.8     0.424602    0.110372    0.177319  \n",
       " 0.160421  0.728206  0.359859  0.8     0.27382     0.227982    0.231601  \n",
       " 0.160421  0.728206  0.359859  0.8     0.0         0.0         0.0       \n",
       " 0.160421  0.728206  0.359859  0.8  …  0.0         0.0         0.0       \n",
       " 0.160421  0.728206  0.359859  0.8     0.0         0.0         0.0       \n",
       " 0.160421  0.728206  0.359859  0.8     0.0         0.0         0.0       \n",
       " 0.160421  0.728206  0.359859  0.8     0.0         0.0         0.0       \n",
       " 0.160421  0.728206  0.359859  0.8     0.135101    0.061519    0.0989129 \n",
       " 0.160421  0.728206  0.359859  0.8  …  0.066344    0.0307595   0.0422189 \n",
       " 0.160421  0.728206  0.359859  0.8     0.00241251  0.00361876  0.00241251\n",
       " 0.160421  0.728206  0.359859  0.8     0.0         0.0         0.0       "
      ]
     },
     "execution_count": 407,
     "metadata": {},
     "output_type": "execute_result"
    }
   ],
   "source": [
    "test_features = convert(Matrix{Float64}, test_comb[:, names_ft]);\n",
    "# test_features = hcat(test_dates, test_features);\n",
    "\n",
    "test_features"
   ]
  },
  {
   "cell_type": "markdown",
   "metadata": {},
   "source": [
    "## Predict"
   ]
  },
  {
   "cell_type": "code",
   "execution_count": 408,
   "metadata": {},
   "outputs": [
    {
     "data": {
      "text/plain": [
       "283-element Array{Int64,1}:\n",
       " 0\n",
       " 0\n",
       " 1\n",
       " 0\n",
       " 0\n",
       " 1\n",
       " 0\n",
       " 0\n",
       " 0\n",
       " 1\n",
       " 0\n",
       " 0\n",
       " 1\n",
       " ⋮\n",
       " 0\n",
       " 1\n",
       " 1\n",
       " 0\n",
       " 0\n",
       " 0\n",
       " 0\n",
       " 0\n",
       " 0\n",
       " 0\n",
       " 0\n",
       " 0"
      ]
     },
     "execution_count": 408,
     "metadata": {},
     "output_type": "execute_result"
    }
   ],
   "source": [
    "test_labels = apply_forest(model, test_features)"
   ]
  },
  {
   "cell_type": "markdown",
   "metadata": {},
   "source": [
    "## Generate submission"
   ]
  },
  {
   "cell_type": "code",
   "execution_count": 409,
   "metadata": {},
   "outputs": [
    {
     "data": {
      "text/plain": [
       "\"submissions/mc-submission-7.csv\""
      ]
     },
     "execution_count": 409,
     "metadata": {},
     "output_type": "execute_result"
    }
   ],
   "source": [
    "ID = test_comb[:,:ID_OUVRAGE].*\"_\".*string.(test_comb[:,:DATE])\n",
    "sampleSubmission = DataFrame(ID = ID, Surverse=test_labels)\n",
    "CSV.write(\"submissions/mc-submission-7.csv\",sampleSubmission)"
   ]
  }
 ],
 "metadata": {
  "kernelspec": {
   "display_name": "Julia 1.2.0",
   "language": "julia",
   "name": "julia-1.2"
  },
  "language_info": {
   "file_extension": ".jl",
   "mimetype": "application/julia",
   "name": "julia",
   "version": "1.0.5"
  }
 },
 "nbformat": 4,
 "nbformat_minor": 2
}
