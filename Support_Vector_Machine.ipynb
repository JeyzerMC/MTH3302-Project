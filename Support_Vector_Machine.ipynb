{
 "cells": [
  {
   "cell_type": "markdown",
   "metadata": {},
   "source": [
    "# Data Processing"
   ]
  },
  {
   "cell_type": "code",
   "execution_count": 31,
   "metadata": {},
   "outputs": [],
   "source": [
    "using CSV, DataFrames, LIBSVM, Statistics, Dates, Gadfly, Random, MLBase;\n",
    "include(\"utils/precipitation.jl\");"
   ]
  },
  {
   "cell_type": "markdown",
   "metadata": {},
   "source": [
    "## Build features"
   ]
  },
  {
   "cell_type": "markdown",
   "metadata": {},
   "source": [
    "### Get and filter the features"
   ]
  },
  {
   "cell_type": "markdown",
   "metadata": {},
   "source": [
    "#### Latitude, Longitude, Height"
   ]
  },
  {
   "cell_type": "code",
   "execution_count": 2,
   "metadata": {},
   "outputs": [],
   "source": [
    "features = CSV.read(\"data/ouvrages-surverses.csv\");\n",
    "colnames = [\"N_Env\", \"ID_SOMA\", \"ID_OUVRAGE\", \"NOM\", \"SOMA_SEC\", \"REGION\", \"TP_X\", \"TP_Y\", \"TP_Z\", \"TP_LAT\", \"TP_LNG\", \"EMI_X\", \"EMI_Y\", \"EMI_LNG\", \"EMI_LAT\"];\n",
    "names!(features, Symbol.(colnames));\n",
    "select!(features, [:ID_OUVRAGE, :TP_LAT, :TP_LNG, :TP_Z]);"
   ]
  },
  {
   "cell_type": "markdown",
   "metadata": {},
   "source": [
    "#### Replace missing Z index with mean"
   ]
  },
  {
   "cell_type": "code",
   "execution_count": 3,
   "metadata": {},
   "outputs": [
    {
     "data": {
      "text/html": [
       "<table class=\"data-frame\"><thead><tr><th></th><th>ID_OUVRAGE</th><th>TP_LAT</th><th>TP_LNG</th><th>TP_Z</th></tr><tr><th></th><th>String</th><th>Float64</th><th>Float64</th><th>Float64</th></tr></thead><tbody><p>10 rows × 4 columns</p><tr><th>1</th><td>4370-02D</td><td>45.4713</td><td>-73.5596</td><td>19.3526</td></tr><tr><th>2</th><td>0801-01D</td><td>45.519</td><td>-73.5275</td><td>13.71</td></tr><tr><th>3</th><td>4430-02D</td><td>45.4344</td><td>-73.5869</td><td>18.56</td></tr><tr><th>4</th><td>3230-01D</td><td>45.6661</td><td>-73.5469</td><td>13.77</td></tr><tr><th>5</th><td>4315-01D</td><td>45.5628</td><td>-73.5243</td><td>14.39</td></tr><tr><th>6</th><td>0672-03D</td><td>45.6732</td><td>-73.5402</td><td>9.99</td></tr><tr><th>7</th><td>0801-07D</td><td>45.5191</td><td>-73.5341</td><td>33.58</td></tr><tr><th>8</th><td>4330-02D</td><td>45.5387</td><td>-73.5394</td><td>19.3526</td></tr><tr><th>9</th><td>4420-04D</td><td>45.4485</td><td>-73.5697</td><td>16.0</td></tr><tr><th>10</th><td>3580-01D</td><td>45.4085</td><td>-73.9569</td><td>25.48</td></tr></tbody></table>"
      ],
      "text/latex": [
       "\\begin{tabular}{r|cccc}\n",
       "\t& ID\\_OUVRAGE & TP\\_LAT & TP\\_LNG & TP\\_Z\\\\\n",
       "\t\\hline\n",
       "\t& String & Float64 & Float64 & Float64\\\\\n",
       "\t\\hline\n",
       "\t1 & 4370-02D & 45.4713 & -73.5596 & 19.3526 \\\\\n",
       "\t2 & 0801-01D & 45.519 & -73.5275 & 13.71 \\\\\n",
       "\t3 & 4430-02D & 45.4344 & -73.5869 & 18.56 \\\\\n",
       "\t4 & 3230-01D & 45.6661 & -73.5469 & 13.77 \\\\\n",
       "\t5 & 4315-01D & 45.5628 & -73.5243 & 14.39 \\\\\n",
       "\t6 & 0672-03D & 45.6732 & -73.5402 & 9.99 \\\\\n",
       "\t7 & 0801-07D & 45.5191 & -73.5341 & 33.58 \\\\\n",
       "\t8 & 4330-02D & 45.5387 & -73.5394 & 19.3526 \\\\\n",
       "\t9 & 4420-04D & 45.4485 & -73.5697 & 16.0 \\\\\n",
       "\t10 & 3580-01D & 45.4085 & -73.9569 & 25.48 \\\\\n",
       "\\end{tabular}\n"
      ],
      "text/plain": [
       "10×4 DataFrame\n",
       "│ Row │ ID_OUVRAGE │ TP_LAT  │ TP_LNG   │ TP_Z    │\n",
       "│     │ \u001b[90mString\u001b[39m     │ \u001b[90mFloat64\u001b[39m │ \u001b[90mFloat64\u001b[39m  │ \u001b[90mFloat64\u001b[39m │\n",
       "├─────┼────────────┼─────────┼──────────┼─────────┤\n",
       "│ 1   │ 4370-02D   │ 45.4713 │ -73.5596 │ 19.3526 │\n",
       "│ 2   │ 0801-01D   │ 45.519  │ -73.5275 │ 13.71   │\n",
       "│ 3   │ 4430-02D   │ 45.4344 │ -73.5869 │ 18.56   │\n",
       "│ 4   │ 3230-01D   │ 45.6661 │ -73.5469 │ 13.77   │\n",
       "│ 5   │ 4315-01D   │ 45.5628 │ -73.5243 │ 14.39   │\n",
       "│ 6   │ 0672-03D   │ 45.6732 │ -73.5402 │ 9.99    │\n",
       "│ 7   │ 0801-07D   │ 45.5191 │ -73.5341 │ 33.58   │\n",
       "│ 8   │ 4330-02D   │ 45.5387 │ -73.5394 │ 19.3526 │\n",
       "│ 9   │ 4420-04D   │ 45.4485 │ -73.5697 │ 16.0    │\n",
       "│ 10  │ 3580-01D   │ 45.4085 │ -73.9569 │ 25.48   │"
      ]
     },
     "execution_count": 3,
     "metadata": {},
     "output_type": "execute_result"
    }
   ],
   "source": [
    "features.TP_Z = coalesce.(features.TP_Z, mean(features[completecases(features), :].TP_Z));\n",
    "first(shuffleDf(features), 10)"
   ]
  },
  {
   "cell_type": "markdown",
   "metadata": {},
   "source": [
    "### Load dates and surverses"
   ]
  },
  {
   "cell_type": "code",
   "execution_count": 4,
   "metadata": {},
   "outputs": [],
   "source": [
    "surverses = CSV.read(\"data/surverses.csv\",missingstring=\"-99999\");"
   ]
  },
  {
   "cell_type": "markdown",
   "metadata": {},
   "source": [
    "#### Filter months"
   ]
  },
  {
   "cell_type": "code",
   "execution_count": 5,
   "metadata": {},
   "outputs": [],
   "source": [
    "surverses = filter(row -> month(row.DATE) > 4, surverses);\n",
    "surverses = filter(row -> month(row.DATE) < 11, surverses);"
   ]
  },
  {
   "cell_type": "markdown",
   "metadata": {},
   "source": [
    "#### Filter non rain surverses"
   ]
  },
  {
   "cell_type": "code",
   "execution_count": 6,
   "metadata": {},
   "outputs": [],
   "source": [
    "raison = coalesce.(surverses[:,:RAISON],\"Inconnue\");\n",
    "surverses[!,:RAISON] = raison;\n",
    "\n",
    "surverses = filter(row -> row.RAISON ∈ [\"P\",\"Inconnue\",\"TS\"], surverses);\n",
    "select!(surverses, [:NO_OUVRAGE, :DATE, :SURVERSE]);"
   ]
  },
  {
   "cell_type": "markdown",
   "metadata": {},
   "source": [
    "#### Remove missing data and rename"
   ]
  },
  {
   "cell_type": "code",
   "execution_count": 7,
   "metadata": {},
   "outputs": [
    {
     "data": {
      "text/html": [
       "<table class=\"data-frame\"><thead><tr><th></th><th>ID_OUVRAGE</th><th>DATE</th><th>SURVERSE</th></tr><tr><th></th><th>String</th><th>Date</th><th>Int64</th></tr></thead><tbody><p>10 rows × 3 columns</p><tr><th>1</th><td>4600-02D</td><td>2014-10-28</td><td>0</td></tr><tr><th>2</th><td>4210-01D</td><td>2016-08-28</td><td>0</td></tr><tr><th>3</th><td>4330-01D</td><td>2014-05-15</td><td>0</td></tr><tr><th>4</th><td>0672-01D</td><td>2017-08-16</td><td>0</td></tr><tr><th>5</th><td>4265-01D</td><td>2013-08-07</td><td>0</td></tr><tr><th>6</th><td>3765-01D</td><td>2017-05-02</td><td>0</td></tr><tr><th>7</th><td>4620-03D</td><td>2013-08-09</td><td>0</td></tr><tr><th>8</th><td>3767-01D</td><td>2015-08-19</td><td>0</td></tr><tr><th>9</th><td>3275-01D</td><td>2016-09-12</td><td>0</td></tr><tr><th>10</th><td>0672-02D</td><td>2018-07-31</td><td>0</td></tr></tbody></table>"
      ],
      "text/latex": [
       "\\begin{tabular}{r|ccc}\n",
       "\t& ID\\_OUVRAGE & DATE & SURVERSE\\\\\n",
       "\t\\hline\n",
       "\t& String & Date & Int64\\\\\n",
       "\t\\hline\n",
       "\t1 & 4600-02D & 2014-10-28 & 0 \\\\\n",
       "\t2 & 4210-01D & 2016-08-28 & 0 \\\\\n",
       "\t3 & 4330-01D & 2014-05-15 & 0 \\\\\n",
       "\t4 & 0672-01D & 2017-08-16 & 0 \\\\\n",
       "\t5 & 4265-01D & 2013-08-07 & 0 \\\\\n",
       "\t6 & 3765-01D & 2017-05-02 & 0 \\\\\n",
       "\t7 & 4620-03D & 2013-08-09 & 0 \\\\\n",
       "\t8 & 3767-01D & 2015-08-19 & 0 \\\\\n",
       "\t9 & 3275-01D & 2016-09-12 & 0 \\\\\n",
       "\t10 & 0672-02D & 2018-07-31 & 0 \\\\\n",
       "\\end{tabular}\n"
      ],
      "text/plain": [
       "10×3 DataFrame\n",
       "│ Row │ ID_OUVRAGE │ DATE       │ SURVERSE │\n",
       "│     │ \u001b[90mString\u001b[39m     │ \u001b[90mDate\u001b[39m       │ \u001b[90mInt64\u001b[39m    │\n",
       "├─────┼────────────┼────────────┼──────────┤\n",
       "│ 1   │ 4600-02D   │ 2014-10-28 │ 0        │\n",
       "│ 2   │ 4210-01D   │ 2016-08-28 │ 0        │\n",
       "│ 3   │ 4330-01D   │ 2014-05-15 │ 0        │\n",
       "│ 4   │ 0672-01D   │ 2017-08-16 │ 0        │\n",
       "│ 5   │ 4265-01D   │ 2013-08-07 │ 0        │\n",
       "│ 6   │ 3765-01D   │ 2017-05-02 │ 0        │\n",
       "│ 7   │ 4620-03D   │ 2013-08-09 │ 0        │\n",
       "│ 8   │ 3767-01D   │ 2015-08-19 │ 0        │\n",
       "│ 9   │ 3275-01D   │ 2016-09-12 │ 0        │\n",
       "│ 10  │ 0672-02D   │ 2018-07-31 │ 0        │"
      ]
     },
     "execution_count": 7,
     "metadata": {},
     "output_type": "execute_result"
    }
   ],
   "source": [
    "surverses = dropmissing(surverses, disallowmissing=true);\n",
    "rename!(surverses, :NO_OUVRAGE => :ID_OUVRAGE);\n",
    "first(shuffleDf(surverses),10)"
   ]
  },
  {
   "cell_type": "markdown",
   "metadata": {},
   "source": [
    "### Augment features with dates and label"
   ]
  },
  {
   "cell_type": "code",
   "execution_count": 10,
   "metadata": {},
   "outputs": [
    {
     "data": {
      "text/html": [
       "<table class=\"data-frame\"><thead><tr><th></th><th>ID_OUVRAGE</th><th>TP_LAT</th><th>TP_LNG</th><th>TP_Z</th><th>DATE</th><th>SURVERSE</th></tr><tr><th></th><th>String</th><th>Float64</th><th>Float64</th><th>Float64</th><th>Date</th><th>Int64</th></tr></thead><tbody><p>10 rows × 6 columns</p><tr><th>1</th><td>3780-01D</td><td>45.4856</td><td>-73.8687</td><td>24.16</td><td>2016-10-04</td><td>0</td></tr><tr><th>2</th><td>4790-01D</td><td>45.4891</td><td>-73.5419</td><td>14.22</td><td>2016-10-01</td><td>0</td></tr><tr><th>3</th><td>4430-04D</td><td>45.4197</td><td>-73.6487</td><td>31.54</td><td>2016-10-11</td><td>0</td></tr><tr><th>4</th><td>4370-04D</td><td>45.4367</td><td>-73.7095</td><td>26.23</td><td>2015-08-11</td><td>0</td></tr><tr><th>5</th><td>4340-01D</td><td>45.5262</td><td>-73.5444</td><td>19.33</td><td>2015-07-17</td><td>0</td></tr><tr><th>6</th><td>3305-03D</td><td>45.6196</td><td>-73.6329</td><td>11.76</td><td>2016-10-18</td><td>0</td></tr><tr><th>7</th><td>4230-09D</td><td>45.699</td><td>-73.4799</td><td>8.347</td><td>2016-09-30</td><td>0</td></tr><tr><th>8</th><td>4265-01D</td><td>45.626</td><td>-73.4991</td><td>11.78</td><td>2013-10-20</td><td>1</td></tr><tr><th>9</th><td>3240-01D</td><td>45.6644</td><td>-73.5605</td><td>9.97</td><td>2018-07-12</td><td>0</td></tr><tr><th>10</th><td>3480-02D</td><td>45.4986</td><td>-73.7908</td><td>25.43</td><td>2018-10-23</td><td>0</td></tr></tbody></table>"
      ],
      "text/latex": [
       "\\begin{tabular}{r|cccccc}\n",
       "\t& ID\\_OUVRAGE & TP\\_LAT & TP\\_LNG & TP\\_Z & DATE & SURVERSE\\\\\n",
       "\t\\hline\n",
       "\t& String & Float64 & Float64 & Float64 & Date & Int64\\\\\n",
       "\t\\hline\n",
       "\t1 & 3780-01D & 45.4856 & -73.8687 & 24.16 & 2016-10-04 & 0 \\\\\n",
       "\t2 & 4790-01D & 45.4891 & -73.5419 & 14.22 & 2016-10-01 & 0 \\\\\n",
       "\t3 & 4430-04D & 45.4197 & -73.6487 & 31.54 & 2016-10-11 & 0 \\\\\n",
       "\t4 & 4370-04D & 45.4367 & -73.7095 & 26.23 & 2015-08-11 & 0 \\\\\n",
       "\t5 & 4340-01D & 45.5262 & -73.5444 & 19.33 & 2015-07-17 & 0 \\\\\n",
       "\t6 & 3305-03D & 45.6196 & -73.6329 & 11.76 & 2016-10-18 & 0 \\\\\n",
       "\t7 & 4230-09D & 45.699 & -73.4799 & 8.347 & 2016-09-30 & 0 \\\\\n",
       "\t8 & 4265-01D & 45.626 & -73.4991 & 11.78 & 2013-10-20 & 1 \\\\\n",
       "\t9 & 3240-01D & 45.6644 & -73.5605 & 9.97 & 2018-07-12 & 0 \\\\\n",
       "\t10 & 3480-02D & 45.4986 & -73.7908 & 25.43 & 2018-10-23 & 0 \\\\\n",
       "\\end{tabular}\n"
      ],
      "text/plain": [
       "10×6 DataFrame\n",
       "│ Row │ ID_OUVRAGE │ TP_LAT  │ TP_LNG   │ TP_Z    │ DATE       │ SURVERSE │\n",
       "│     │ \u001b[90mString\u001b[39m     │ \u001b[90mFloat64\u001b[39m │ \u001b[90mFloat64\u001b[39m  │ \u001b[90mFloat64\u001b[39m │ \u001b[90mDate\u001b[39m       │ \u001b[90mInt64\u001b[39m    │\n",
       "├─────┼────────────┼─────────┼──────────┼─────────┼────────────┼──────────┤\n",
       "│ 1   │ 3780-01D   │ 45.4856 │ -73.8687 │ 24.16   │ 2016-10-04 │ 0        │\n",
       "│ 2   │ 4790-01D   │ 45.4891 │ -73.5419 │ 14.22   │ 2016-10-01 │ 0        │\n",
       "│ 3   │ 4430-04D   │ 45.4197 │ -73.6487 │ 31.54   │ 2016-10-11 │ 0        │\n",
       "│ 4   │ 4370-04D   │ 45.4367 │ -73.7095 │ 26.23   │ 2015-08-11 │ 0        │\n",
       "│ 5   │ 4340-01D   │ 45.5262 │ -73.5444 │ 19.33   │ 2015-07-17 │ 0        │\n",
       "│ 6   │ 3305-03D   │ 45.6196 │ -73.6329 │ 11.76   │ 2016-10-18 │ 0        │\n",
       "│ 7   │ 4230-09D   │ 45.699  │ -73.4799 │ 8.347   │ 2016-09-30 │ 0        │\n",
       "│ 8   │ 4265-01D   │ 45.626  │ -73.4991 │ 11.78   │ 2013-10-20 │ 1        │\n",
       "│ 9   │ 3240-01D   │ 45.6644 │ -73.5605 │ 9.97    │ 2018-07-12 │ 0        │\n",
       "│ 10  │ 3480-02D   │ 45.4986 │ -73.7908 │ 25.43   │ 2018-10-23 │ 0        │"
      ]
     },
     "execution_count": 10,
     "metadata": {},
     "output_type": "execute_result"
    }
   ],
   "source": [
    "comb = join(features, surverses, on = :ID_OUVRAGE);\n",
    "first(shuffleDf(comb), 10)"
   ]
  },
  {
   "cell_type": "markdown",
   "metadata": {},
   "source": [
    "### Load precipitation data"
   ]
  },
  {
   "cell_type": "markdown",
   "metadata": {},
   "source": [
    "#### Load and filter months between May & October included"
   ]
  },
  {
   "cell_type": "code",
   "execution_count": 11,
   "metadata": {},
   "outputs": [],
   "source": [
    "precipitation = CSV.read(\"data/precipitations.csv\",missingstring=\"-99999\");\n",
    "rename!(precipitation, Symbol(\"St-Hubert\")=>:StHubert);\n",
    "\n",
    "precipitation = filter(row -> month(row.date) > 4, precipitation);\n",
    "precipitation = filter(row -> month(row.date) < 11, precipitation); "
   ]
  },
  {
   "cell_type": "markdown",
   "metadata": {},
   "source": [
    "#### Replace missing data by 0"
   ]
  },
  {
   "cell_type": "code",
   "execution_count": 12,
   "metadata": {},
   "outputs": [
    {
     "data": {
      "text/html": [
       "<table class=\"data-frame\"><thead><tr><th></th><th>date</th><th>heure</th><th>McTavish</th><th>Bellevue</th><th>Assomption</th><th>Trudeau</th><th>StHubert</th></tr><tr><th></th><th>Date</th><th>Int64</th><th>Int64</th><th>Int64</th><th>Int64</th><th>Int64</th><th>Int64</th></tr></thead><tbody><p>5 rows × 7 columns</p><tr><th>1</th><td>2019-10-14</td><td>9</td><td>0</td><td>0</td><td>0</td><td>0</td><td>0</td></tr><tr><th>2</th><td>2013-08-19</td><td>22</td><td>0</td><td>0</td><td>0</td><td>0</td><td>0</td></tr><tr><th>3</th><td>2017-07-03</td><td>21</td><td>0</td><td>0</td><td>0</td><td>0</td><td>0</td></tr><tr><th>4</th><td>2015-05-21</td><td>7</td><td>0</td><td>0</td><td>0</td><td>0</td><td>0</td></tr><tr><th>5</th><td>2014-07-06</td><td>3</td><td>0</td><td>0</td><td>0</td><td>0</td><td>0</td></tr></tbody></table>"
      ],
      "text/latex": [
       "\\begin{tabular}{r|ccccccc}\n",
       "\t& date & heure & McTavish & Bellevue & Assomption & Trudeau & StHubert\\\\\n",
       "\t\\hline\n",
       "\t& Date & Int64 & Int64 & Int64 & Int64 & Int64 & Int64\\\\\n",
       "\t\\hline\n",
       "\t1 & 2019-10-14 & 9 & 0 & 0 & 0 & 0 & 0 \\\\\n",
       "\t2 & 2013-08-19 & 22 & 0 & 0 & 0 & 0 & 0 \\\\\n",
       "\t3 & 2017-07-03 & 21 & 0 & 0 & 0 & 0 & 0 \\\\\n",
       "\t4 & 2015-05-21 & 7 & 0 & 0 & 0 & 0 & 0 \\\\\n",
       "\t5 & 2014-07-06 & 3 & 0 & 0 & 0 & 0 & 0 \\\\\n",
       "\\end{tabular}\n"
      ],
      "text/plain": [
       "5×7 DataFrame. Omitted printing of 1 columns\n",
       "│ Row │ date       │ heure │ McTavish │ Bellevue │ Assomption │ Trudeau │\n",
       "│     │ \u001b[90mDate\u001b[39m       │ \u001b[90mInt64\u001b[39m │ \u001b[90mInt64\u001b[39m    │ \u001b[90mInt64\u001b[39m    │ \u001b[90mInt64\u001b[39m      │ \u001b[90mInt64\u001b[39m   │\n",
       "├─────┼────────────┼───────┼──────────┼──────────┼────────────┼─────────┤\n",
       "│ 1   │ 2019-10-14 │ 9     │ 0        │ 0        │ 0          │ 0       │\n",
       "│ 2   │ 2013-08-19 │ 22    │ 0        │ 0        │ 0          │ 0       │\n",
       "│ 3   │ 2017-07-03 │ 21    │ 0        │ 0        │ 0          │ 0       │\n",
       "│ 4   │ 2015-05-21 │ 7     │ 0        │ 0        │ 0          │ 0       │\n",
       "│ 5   │ 2014-07-06 │ 3     │ 0        │ 0        │ 0          │ 0       │"
      ]
     },
     "execution_count": 12,
     "metadata": {},
     "output_type": "execute_result"
    }
   ],
   "source": [
    "precipitation[!,:McTavish] = coalesce.(precipitation[:,:McTavish], 0);\n",
    "precipitation[!,:Bellevue] = coalesce.(precipitation[:,:Bellevue], 0);\n",
    "precipitation[!,:Assomption] = coalesce.(precipitation[:,:Assomption], 0);\n",
    "precipitation[!,:Trudeau] = coalesce.(precipitation[:,:Trudeau], 0);\n",
    "precipitation[!,:StHubert] = coalesce.(precipitation[:,:StHubert], 0);\n",
    "\n",
    "first(shuffleDf(precipitation), 5)"
   ]
  },
  {
   "cell_type": "markdown",
   "metadata": {},
   "source": [
    "### Extract features from precipitation"
   ]
  },
  {
   "cell_type": "markdown",
   "metadata": {},
   "source": [
    "#### Sum of precipitation for the day"
   ]
  },
  {
   "cell_type": "code",
   "execution_count": 13,
   "metadata": {
    "scrolled": true
   },
   "outputs": [
    {
     "data": {
      "text/html": [
       "<table class=\"data-frame\"><thead><tr><th></th><th>date</th><th>McTavish</th><th>Bellevue</th><th>Assomption</th><th>Trudeau</th><th>StHubert</th></tr><tr><th></th><th>Date</th><th>Int64</th><th>Int64</th><th>Int64</th><th>Int64</th><th>Int64</th></tr></thead><tbody><p>5 rows × 6 columns</p><tr><th>1</th><td>2017-08-12</td><td>110</td><td>110</td><td>170</td><td>55</td><td>63</td></tr><tr><th>2</th><td>2017-10-18</td><td>0</td><td>0</td><td>0</td><td>0</td><td>0</td></tr><tr><th>3</th><td>2015-08-20</td><td>0</td><td>0</td><td>0</td><td>0</td><td>0</td></tr><tr><th>4</th><td>2014-08-20</td><td>0</td><td>0</td><td>0</td><td>0</td><td>0</td></tr><tr><th>5</th><td>2018-10-09</td><td>56</td><td>46</td><td>5</td><td>57</td><td>66</td></tr></tbody></table>"
      ],
      "text/latex": [
       "\\begin{tabular}{r|cccccc}\n",
       "\t& date & McTavish & Bellevue & Assomption & Trudeau & StHubert\\\\\n",
       "\t\\hline\n",
       "\t& Date & Int64 & Int64 & Int64 & Int64 & Int64\\\\\n",
       "\t\\hline\n",
       "\t1 & 2017-08-12 & 110 & 110 & 170 & 55 & 63 \\\\\n",
       "\t2 & 2017-10-18 & 0 & 0 & 0 & 0 & 0 \\\\\n",
       "\t3 & 2015-08-20 & 0 & 0 & 0 & 0 & 0 \\\\\n",
       "\t4 & 2014-08-20 & 0 & 0 & 0 & 0 & 0 \\\\\n",
       "\t5 & 2018-10-09 & 56 & 46 & 5 & 57 & 66 \\\\\n",
       "\\end{tabular}\n"
      ],
      "text/plain": [
       "5×6 DataFrame\n",
       "│ Row │ date       │ McTavish │ Bellevue │ Assomption │ Trudeau │ StHubert │\n",
       "│     │ \u001b[90mDate\u001b[39m       │ \u001b[90mInt64\u001b[39m    │ \u001b[90mInt64\u001b[39m    │ \u001b[90mInt64\u001b[39m      │ \u001b[90mInt64\u001b[39m   │ \u001b[90mInt64\u001b[39m    │\n",
       "├─────┼────────────┼──────────┼──────────┼────────────┼─────────┼──────────┤\n",
       "│ 1   │ 2017-08-12 │ 110      │ 110      │ 170        │ 55      │ 63       │\n",
       "│ 2   │ 2017-10-18 │ 0        │ 0        │ 0          │ 0       │ 0        │\n",
       "│ 3   │ 2015-08-20 │ 0        │ 0        │ 0          │ 0       │ 0        │\n",
       "│ 4   │ 2014-08-20 │ 0        │ 0        │ 0          │ 0       │ 0        │\n",
       "│ 5   │ 2018-10-09 │ 56       │ 46       │ 5          │ 57      │ 66       │"
      ]
     },
     "execution_count": 13,
     "metadata": {},
     "output_type": "execute_result"
    }
   ],
   "source": [
    "pcp_sum = by(precipitation, :date,  McTavish = :McTavish=>sum, Bellevue = :Bellevue=>sum, \n",
    "   Assomption = :Assomption=>sum, Trudeau = :Trudeau=>sum, StHubert = :StHubert=>sum);\n",
    "first(shuffleDf(pcp_sum), 5)"
   ]
  },
  {
   "cell_type": "markdown",
   "metadata": {},
   "source": [
    "#### Maximum precipitation in an hour for the day"
   ]
  },
  {
   "cell_type": "code",
   "execution_count": 14,
   "metadata": {},
   "outputs": [
    {
     "data": {
      "text/html": [
       "<table class=\"data-frame\"><thead><tr><th></th><th>date</th><th>McTavish</th><th>Bellevue</th><th>Assomption</th><th>Trudeau</th><th>StHubert</th></tr><tr><th></th><th>Date</th><th>Int64</th><th>Int64</th><th>Int64</th><th>Int64</th><th>Int64</th></tr></thead><tbody><p>5 rows × 6 columns</p><tr><th>1</th><td>2017-08-18</td><td>69</td><td>67</td><td>60</td><td>75</td><td>60</td></tr><tr><th>2</th><td>2014-10-02</td><td>0</td><td>0</td><td>0</td><td>0</td><td>0</td></tr><tr><th>3</th><td>2017-09-06</td><td>0</td><td>0</td><td>0</td><td>0</td><td>2</td></tr><tr><th>4</th><td>2014-10-19</td><td>0</td><td>0</td><td>0</td><td>0</td><td>0</td></tr><tr><th>5</th><td>2018-08-17</td><td>21</td><td>9</td><td>33</td><td>10</td><td>28</td></tr></tbody></table>"
      ],
      "text/latex": [
       "\\begin{tabular}{r|cccccc}\n",
       "\t& date & McTavish & Bellevue & Assomption & Trudeau & StHubert\\\\\n",
       "\t\\hline\n",
       "\t& Date & Int64 & Int64 & Int64 & Int64 & Int64\\\\\n",
       "\t\\hline\n",
       "\t1 & 2017-08-18 & 69 & 67 & 60 & 75 & 60 \\\\\n",
       "\t2 & 2014-10-02 & 0 & 0 & 0 & 0 & 0 \\\\\n",
       "\t3 & 2017-09-06 & 0 & 0 & 0 & 0 & 2 \\\\\n",
       "\t4 & 2014-10-19 & 0 & 0 & 0 & 0 & 0 \\\\\n",
       "\t5 & 2018-08-17 & 21 & 9 & 33 & 10 & 28 \\\\\n",
       "\\end{tabular}\n"
      ],
      "text/plain": [
       "5×6 DataFrame\n",
       "│ Row │ date       │ McTavish │ Bellevue │ Assomption │ Trudeau │ StHubert │\n",
       "│     │ \u001b[90mDate\u001b[39m       │ \u001b[90mInt64\u001b[39m    │ \u001b[90mInt64\u001b[39m    │ \u001b[90mInt64\u001b[39m      │ \u001b[90mInt64\u001b[39m   │ \u001b[90mInt64\u001b[39m    │\n",
       "├─────┼────────────┼──────────┼──────────┼────────────┼─────────┼──────────┤\n",
       "│ 1   │ 2017-08-18 │ 69       │ 67       │ 60         │ 75      │ 60       │\n",
       "│ 2   │ 2014-10-02 │ 0        │ 0        │ 0          │ 0       │ 0        │\n",
       "│ 3   │ 2017-09-06 │ 0        │ 0        │ 0          │ 0       │ 2        │\n",
       "│ 4   │ 2014-10-19 │ 0        │ 0        │ 0          │ 0       │ 0        │\n",
       "│ 5   │ 2018-08-17 │ 21       │ 9        │ 33         │ 10      │ 28       │"
      ]
     },
     "execution_count": 14,
     "metadata": {},
     "output_type": "execute_result"
    }
   ],
   "source": [
    "pcp_max = by(precipitation, :date,  McTavish = :McTavish=>maximum, Bellevue = :Bellevue=>maximum, \n",
    "   Assomption = :Assomption=>maximum, Trudeau = :Trudeau=>maximum, StHubert = :StHubert=>maximum)\n",
    "first(shuffleDf(pcp_max),5)"
   ]
  },
  {
   "cell_type": "markdown",
   "metadata": {},
   "source": [
    "#### Maximum precipitation during three consecutive hours in a day"
   ]
  },
  {
   "cell_type": "code",
   "execution_count": 15,
   "metadata": {},
   "outputs": [
    {
     "data": {
      "text/html": [
       "<table class=\"data-frame\"><thead><tr><th></th><th>date</th><th>McTavish</th><th>Bellevue</th><th>Assomption</th><th>Trudeau</th><th>StHubert</th></tr><tr><th></th><th>Date</th><th>Int64</th><th>Int64</th><th>Int64</th><th>Int64</th><th>Int64</th></tr></thead><tbody><p>5 rows × 6 columns</p><tr><th>1</th><td>2014-05-08</td><td>0</td><td>0</td><td>0</td><td>0</td><td>0</td></tr><tr><th>2</th><td>2014-06-11</td><td>0</td><td>14</td><td>0</td><td>9</td><td>10</td></tr><tr><th>3</th><td>2015-10-16</td><td>7</td><td>36</td><td>0</td><td>20</td><td>2</td></tr><tr><th>4</th><td>2017-06-26</td><td>55</td><td>8</td><td>0</td><td>15</td><td>38</td></tr><tr><th>5</th><td>2014-10-24</td><td>6</td><td>4</td><td>0</td><td>7</td><td>4</td></tr></tbody></table>"
      ],
      "text/latex": [
       "\\begin{tabular}{r|cccccc}\n",
       "\t& date & McTavish & Bellevue & Assomption & Trudeau & StHubert\\\\\n",
       "\t\\hline\n",
       "\t& Date & Int64 & Int64 & Int64 & Int64 & Int64\\\\\n",
       "\t\\hline\n",
       "\t1 & 2014-05-08 & 0 & 0 & 0 & 0 & 0 \\\\\n",
       "\t2 & 2014-06-11 & 0 & 14 & 0 & 9 & 10 \\\\\n",
       "\t3 & 2015-10-16 & 7 & 36 & 0 & 20 & 2 \\\\\n",
       "\t4 & 2017-06-26 & 55 & 8 & 0 & 15 & 38 \\\\\n",
       "\t5 & 2014-10-24 & 6 & 4 & 0 & 7 & 4 \\\\\n",
       "\\end{tabular}\n"
      ],
      "text/plain": [
       "5×6 DataFrame\n",
       "│ Row │ date       │ McTavish │ Bellevue │ Assomption │ Trudeau │ StHubert │\n",
       "│     │ \u001b[90mDate\u001b[39m       │ \u001b[90mInt64\u001b[39m    │ \u001b[90mInt64\u001b[39m    │ \u001b[90mInt64\u001b[39m      │ \u001b[90mInt64\u001b[39m   │ \u001b[90mInt64\u001b[39m    │\n",
       "├─────┼────────────┼──────────┼──────────┼────────────┼─────────┼──────────┤\n",
       "│ 1   │ 2014-05-08 │ 0        │ 0        │ 0          │ 0       │ 0        │\n",
       "│ 2   │ 2014-06-11 │ 0        │ 14       │ 0          │ 9       │ 10       │\n",
       "│ 3   │ 2015-10-16 │ 7        │ 36       │ 0          │ 20      │ 2        │\n",
       "│ 4   │ 2017-06-26 │ 55       │ 8        │ 0          │ 15      │ 38       │\n",
       "│ 5   │ 2014-10-24 │ 6        │ 4        │ 0          │ 7       │ 4        │"
      ]
     },
     "execution_count": 15,
     "metadata": {},
     "output_type": "execute_result"
    }
   ],
   "source": [
    "pcp_max3h = by(precipitation, :date,  McTavish = :McTavish=>maximum3, Bellevue = :Bellevue=>maximum3, \n",
    "   Assomption = :Assomption=>maximum3, Trudeau = :Trudeau=>maximum3, StHubert = :StHubert=>maximum3)\n",
    "first(shuffleDf(pcp_max3h),5)"
   ]
  },
  {
   "cell_type": "markdown",
   "metadata": {},
   "source": [
    "### Add precipitation data to features"
   ]
  },
  {
   "cell_type": "markdown",
   "metadata": {},
   "source": [
    "#### Get stations lat-lng"
   ]
  },
  {
   "cell_type": "code",
   "execution_count": 16,
   "metadata": {},
   "outputs": [
    {
     "data": {
      "text/html": [
       "<table class=\"data-frame\"><thead><tr><th></th><th>STATION</th><th>LAT</th><th>LNG</th></tr><tr><th></th><th>String</th><th>Float64</th><th>Float64</th></tr></thead><tbody><p>5 rows × 3 columns</p><tr><th>1</th><td>McTavish</td><td>45.5047</td><td>-73.5792</td></tr><tr><th>2</th><td>Bellevue</td><td>45.4272</td><td>-73.9292</td></tr><tr><th>3</th><td>Assomption</td><td>45.8094</td><td>-73.4347</td></tr><tr><th>4</th><td>Trudeau</td><td>45.4678</td><td>-73.7417</td></tr><tr><th>5</th><td>StHubert</td><td>45.5175</td><td>-73.4169</td></tr></tbody></table>"
      ],
      "text/latex": [
       "\\begin{tabular}{r|ccc}\n",
       "\t& STATION & LAT & LNG\\\\\n",
       "\t\\hline\n",
       "\t& String & Float64 & Float64\\\\\n",
       "\t\\hline\n",
       "\t1 & McTavish & 45.5047 & -73.5792 \\\\\n",
       "\t2 & Bellevue & 45.4272 & -73.9292 \\\\\n",
       "\t3 & Assomption & 45.8094 & -73.4347 \\\\\n",
       "\t4 & Trudeau & 45.4678 & -73.7417 \\\\\n",
       "\t5 & StHubert & 45.5175 & -73.4169 \\\\\n",
       "\\end{tabular}\n"
      ],
      "text/plain": [
       "5×3 DataFrame\n",
       "│ Row │ STATION    │ LAT     │ LNG      │\n",
       "│     │ \u001b[90mString\u001b[39m     │ \u001b[90mFloat64\u001b[39m │ \u001b[90mFloat64\u001b[39m  │\n",
       "├─────┼────────────┼─────────┼──────────┤\n",
       "│ 1   │ McTavish   │ 45.5047 │ -73.5792 │\n",
       "│ 2   │ Bellevue   │ 45.4272 │ -73.9292 │\n",
       "│ 3   │ Assomption │ 45.8094 │ -73.4347 │\n",
       "│ 4   │ Trudeau    │ 45.4678 │ -73.7417 │\n",
       "│ 5   │ StHubert   │ 45.5175 │ -73.4169 │"
      ]
     },
     "execution_count": 16,
     "metadata": {},
     "output_type": "execute_result"
    }
   ],
   "source": [
    "station_df = DataFrame(STATION = String[], LAT = Float64[], LNG = Float64[]);\n",
    "\n",
    "push!(station_df, [\"McTavish\", 45.504742, -73.579167]);\n",
    "push!(station_df, [\"Bellevue\", 45.427222, -73.929167]);\n",
    "push!(station_df, [\"Assomption\", 45.809444, -73.434722]);\n",
    "push!(station_df, [\"Trudeau\", 45.467778, -73.741667]);\n",
    "push!(station_df, [\"StHubert\", 45.5175, -73.416944]);\n",
    "\n",
    "station_df"
   ]
  },
  {
   "cell_type": "markdown",
   "metadata": {},
   "source": [
    "### Standardize TP and station data"
   ]
  },
  {
   "cell_type": "code",
   "execution_count": 17,
   "metadata": {},
   "outputs": [],
   "source": [
    "meanlat = mean(comb.TP_LAT);\n",
    "stdlat = std(comb.TP_LAT);\n",
    "comb.TP_LAT = (comb.TP_LAT .- meanlat) ./ stdlat;\n",
    "station_df.LAT = (station_df.LAT .- meanlat) ./ stdlat;\n",
    "\n",
    "meanlng = mean(comb.TP_LNG);\n",
    "stdlng = std(comb.TP_LNG);\n",
    "comb.TP_LNG = (comb.TP_LNG .- meanlng) ./ stdlng;\n",
    "station_df.LNG = (station_df.LNG .- meanlng) ./ stdlng;\n",
    "\n",
    "meanz = mean(comb.TP_Z);\n",
    "stdz = std(comb.TP_Z);\n",
    "comb.TP_Z = (comb.TP_Z .- meanz) ./ stdz;"
   ]
  },
  {
   "cell_type": "code",
   "execution_count": 18,
   "metadata": {},
   "outputs": [
    {
     "data": {
      "text/html": [
       "<table class=\"data-frame\"><thead><tr><th></th><th>STATION</th><th>LAT</th><th>LNG</th></tr><tr><th></th><th>String</th><th>Float64</th><th>Float64</th></tr></thead><tbody><p>5 rows × 3 columns</p><tr><th>1</th><td>McTavish</td><td>-0.399934</td><td>0.53979</td></tr><tr><th>2</th><td>Bellevue</td><td>-1.29892</td><td>-2.14237</td></tr><tr><th>3</th><td>Assomption</td><td>3.13364</td><td>1.64672</td></tr><tr><th>4</th><td>Trudeau</td><td>-0.828599</td><td>-0.705498</td></tr><tr><th>5</th><td>StHubert</td><td>-0.251981</td><td>1.78296</td></tr></tbody></table>"
      ],
      "text/latex": [
       "\\begin{tabular}{r|ccc}\n",
       "\t& STATION & LAT & LNG\\\\\n",
       "\t\\hline\n",
       "\t& String & Float64 & Float64\\\\\n",
       "\t\\hline\n",
       "\t1 & McTavish & -0.399934 & 0.53979 \\\\\n",
       "\t2 & Bellevue & -1.29892 & -2.14237 \\\\\n",
       "\t3 & Assomption & 3.13364 & 1.64672 \\\\\n",
       "\t4 & Trudeau & -0.828599 & -0.705498 \\\\\n",
       "\t5 & StHubert & -0.251981 & 1.78296 \\\\\n",
       "\\end{tabular}\n"
      ],
      "text/plain": [
       "5×3 DataFrame\n",
       "│ Row │ STATION    │ LAT       │ LNG       │\n",
       "│     │ \u001b[90mString\u001b[39m     │ \u001b[90mFloat64\u001b[39m   │ \u001b[90mFloat64\u001b[39m   │\n",
       "├─────┼────────────┼───────────┼───────────┤\n",
       "│ 1   │ McTavish   │ -0.399934 │ 0.53979   │\n",
       "│ 2   │ Bellevue   │ -1.29892  │ -2.14237  │\n",
       "│ 3   │ Assomption │ 3.13364   │ 1.64672   │\n",
       "│ 4   │ Trudeau    │ -0.828599 │ -0.705498 │\n",
       "│ 5   │ StHubert   │ -0.251981 │ 1.78296   │"
      ]
     },
     "execution_count": 18,
     "metadata": {},
     "output_type": "execute_result"
    }
   ],
   "source": [
    "station_df"
   ]
  },
  {
   "cell_type": "markdown",
   "metadata": {},
   "source": [
    "### Augment Features"
   ]
  },
  {
   "cell_type": "markdown",
   "metadata": {},
   "source": [
    "#### Add pcp_sum and pcp_max columns"
   ]
  },
  {
   "cell_type": "code",
   "execution_count": 19,
   "metadata": {},
   "outputs": [],
   "source": [
    "comb.PCP_SUM = zeros(size(comb, 1));\n",
    "comb.PCP_MAX = zeros(size(comb, 1));\n",
    "comb.PCP_MAX3 = zeros(size(comb, 1));\n",
    "permutecols!(comb, [:ID_OUVRAGE, :TP_LAT, :TP_LNG, :TP_Z, :DATE, :PCP_SUM, :PCP_MAX, :PCP_MAX3, :SURVERSE]);"
   ]
  },
  {
   "cell_type": "code",
   "execution_count": 20,
   "metadata": {},
   "outputs": [
    {
     "data": {
      "text/html": [
       "<table class=\"data-frame\"><thead><tr><th></th><th>ID_OUVRAGE</th><th>TP_LAT</th><th>TP_LNG</th><th>TP_Z</th><th>DATE</th><th>PCP_SUM</th><th>PCP_MAX</th><th>PCP_MAX3</th></tr><tr><th></th><th>String</th><th>Float64</th><th>Float64</th><th>Float64</th><th>Date</th><th>Float64</th><th>Float64</th><th>Float64</th></tr></thead><tbody><p>10 rows × 9 columns (omitted printing of 1 columns)</p><tr><th>1</th><td>3350-09D</td><td>-0.0251308</td><td>-0.486079</td><td>0.625204</td><td>2013-10-11</td><td>0.0</td><td>0.0</td><td>0.0</td></tr><tr><th>2</th><td>0642-01D</td><td>1.54744</td><td>0.945888</td><td>-0.0467296</td><td>2015-05-20</td><td>0.0</td><td>0.0</td><td>0.0</td></tr><tr><th>3</th><td>3762-01D</td><td>0.431147</td><td>-0.0943688</td><td>-0.942537</td><td>2014-10-25</td><td>0.0</td><td>0.0</td><td>0.0</td></tr><tr><th>4</th><td>3310-01D</td><td>0.865632</td><td>0.140067</td><td>-0.0117388</td><td>2017-06-22</td><td>0.0</td><td>0.0</td><td>0.0</td></tr><tr><th>5</th><td>0801-06D</td><td>-0.238094</td><td>0.893818</td><td>-0.153282</td><td>2018-06-03</td><td>0.0</td><td>0.0</td><td>0.0</td></tr><tr><th>6</th><td>3767-01D</td><td>0.0734405</td><td>-0.394057</td><td>0.131343</td><td>2013-08-18</td><td>0.0</td><td>0.0</td><td>0.0</td></tr><tr><th>7</th><td>4270-02D</td><td>0.834128</td><td>1.08217</td><td>-0.0467296</td><td>2017-07-10</td><td>0.0</td><td>0.0</td><td>0.0</td></tr><tr><th>8</th><td>4370-04D</td><td>-1.18852</td><td>-0.458815</td><td>1.01137</td><td>2014-05-06</td><td>0.0</td><td>0.0</td><td>0.0</td></tr><tr><th>9</th><td>4270-02D</td><td>0.834128</td><td>1.08217</td><td>-0.0467296</td><td>2013-09-26</td><td>0.0</td><td>0.0</td><td>0.0</td></tr><tr><th>10</th><td>4380-01D</td><td>-0.828933</td><td>0.658409</td><td>-0.0467296</td><td>2014-06-06</td><td>0.0</td><td>0.0</td><td>0.0</td></tr></tbody></table>"
      ],
      "text/latex": [
       "\\begin{tabular}{r|ccccccccc}\n",
       "\t& ID\\_OUVRAGE & TP\\_LAT & TP\\_LNG & TP\\_Z & DATE & PCP\\_SUM & PCP\\_MAX & PCP\\_MAX3 & \\\\\n",
       "\t\\hline\n",
       "\t& String & Float64 & Float64 & Float64 & Date & Float64 & Float64 & Float64 & \\\\\n",
       "\t\\hline\n",
       "\t1 & 3350-09D & -0.0251308 & -0.486079 & 0.625204 & 2013-10-11 & 0.0 & 0.0 & 0.0 & $\\dots$ \\\\\n",
       "\t2 & 0642-01D & 1.54744 & 0.945888 & -0.0467296 & 2015-05-20 & 0.0 & 0.0 & 0.0 & $\\dots$ \\\\\n",
       "\t3 & 3762-01D & 0.431147 & -0.0943688 & -0.942537 & 2014-10-25 & 0.0 & 0.0 & 0.0 & $\\dots$ \\\\\n",
       "\t4 & 3310-01D & 0.865632 & 0.140067 & -0.0117388 & 2017-06-22 & 0.0 & 0.0 & 0.0 & $\\dots$ \\\\\n",
       "\t5 & 0801-06D & -0.238094 & 0.893818 & -0.153282 & 2018-06-03 & 0.0 & 0.0 & 0.0 & $\\dots$ \\\\\n",
       "\t6 & 3767-01D & 0.0734405 & -0.394057 & 0.131343 & 2013-08-18 & 0.0 & 0.0 & 0.0 & $\\dots$ \\\\\n",
       "\t7 & 4270-02D & 0.834128 & 1.08217 & -0.0467296 & 2017-07-10 & 0.0 & 0.0 & 0.0 & $\\dots$ \\\\\n",
       "\t8 & 4370-04D & -1.18852 & -0.458815 & 1.01137 & 2014-05-06 & 0.0 & 0.0 & 0.0 & $\\dots$ \\\\\n",
       "\t9 & 4270-02D & 0.834128 & 1.08217 & -0.0467296 & 2013-09-26 & 0.0 & 0.0 & 0.0 & $\\dots$ \\\\\n",
       "\t10 & 4380-01D & -0.828933 & 0.658409 & -0.0467296 & 2014-06-06 & 0.0 & 0.0 & 0.0 & $\\dots$ \\\\\n",
       "\\end{tabular}\n"
      ],
      "text/plain": [
       "10×9 DataFrame. Omitted printing of 4 columns\n",
       "│ Row │ ID_OUVRAGE │ TP_LAT     │ TP_LNG     │ TP_Z       │ DATE       │\n",
       "│     │ \u001b[90mString\u001b[39m     │ \u001b[90mFloat64\u001b[39m    │ \u001b[90mFloat64\u001b[39m    │ \u001b[90mFloat64\u001b[39m    │ \u001b[90mDate\u001b[39m       │\n",
       "├─────┼────────────┼────────────┼────────────┼────────────┼────────────┤\n",
       "│ 1   │ 3350-09D   │ -0.0251308 │ -0.486079  │ 0.625204   │ 2013-10-11 │\n",
       "│ 2   │ 0642-01D   │ 1.54744    │ 0.945888   │ -0.0467296 │ 2015-05-20 │\n",
       "│ 3   │ 3762-01D   │ 0.431147   │ -0.0943688 │ -0.942537  │ 2014-10-25 │\n",
       "│ 4   │ 3310-01D   │ 0.865632   │ 0.140067   │ -0.0117388 │ 2017-06-22 │\n",
       "│ 5   │ 0801-06D   │ -0.238094  │ 0.893818   │ -0.153282  │ 2018-06-03 │\n",
       "│ 6   │ 3767-01D   │ 0.0734405  │ -0.394057  │ 0.131343   │ 2013-08-18 │\n",
       "│ 7   │ 4270-02D   │ 0.834128   │ 1.08217    │ -0.0467296 │ 2017-07-10 │\n",
       "│ 8   │ 4370-04D   │ -1.18852   │ -0.458815  │ 1.01137    │ 2014-05-06 │\n",
       "│ 9   │ 4270-02D   │ 0.834128   │ 1.08217    │ -0.0467296 │ 2013-09-26 │\n",
       "│ 10  │ 4380-01D   │ -0.828933  │ 0.658409   │ -0.0467296 │ 2014-06-06 │"
      ]
     },
     "execution_count": 20,
     "metadata": {},
     "output_type": "execute_result"
    }
   ],
   "source": [
    "first(shuffleDf(comb), 10)"
   ]
  },
  {
   "cell_type": "markdown",
   "metadata": {},
   "source": [
    "#### Find closest station to each ouvrage and add pcp_sum and pcp_max to it"
   ]
  },
  {
   "cell_type": "code",
   "execution_count": 21,
   "metadata": {},
   "outputs": [],
   "source": [
    "for i=1:size(comb, 1)\n",
    "    id_ouvrage = comb[i, 1]; \n",
    "    closest_station = \"McTavish\"; # initial value\n",
    "    shortest_dist = -1;\n",
    "    \n",
    "    # Find closest station\n",
    "    for j=1:size(station_df, 1)\n",
    "        dist = findDistance(comb[i, :TP_LAT], comb[i, :TP_LNG], station_df[j, :LAT], station_df[j, :LNG]);\n",
    "        \n",
    "        if shortest_dist == -1 || dist < shortest_dist\n",
    "            shortest_dist = dist;\n",
    "            closest_station = station_df[j, :STATION];\n",
    "        end\n",
    "    end\n",
    "    \n",
    "    # Augment comb with a weighted p_sum, based on the distance to the station\n",
    "    p_sum = pcp_sum[∈([comb[i, :DATE]]).(pcp_sum.date), Symbol(closest_station)];\n",
    "#     comb[i, :PCP_SUM] = p_sum[1] * (1 - shortest_dist);\n",
    "    comb[i, :PCP_SUM] = p_sum[1]; \n",
    "    \n",
    "    # Augment comb with a weighted p_max, based on the distance to the station\n",
    "    p_max = pcp_max[∈([comb[i, :DATE]]).(pcp_max.date), Symbol(closest_station)]\n",
    "#     comb[i, :PCP_MAX] = p_max[1] * (1 - shortest_dist);\n",
    "    comb[i, :PCP_MAX] = p_max[1];\n",
    "    \n",
    "    # Augment comb with a weighted p_max3h, based on the distance to the station\n",
    "    p_max3 = pcp_max3h[∈([comb[i, :DATE]]).(pcp_max3h.date), Symbol(closest_station)]\n",
    "#     comb[i, :PCP_MAX3] = p_max3[1] * (1 - shortest_dist);\n",
    "    comb[i, :PCP_MAX3] = p_max3[1]; \n",
    "end"
   ]
  },
  {
   "cell_type": "markdown",
   "metadata": {},
   "source": [
    "#### Remove outlier in PCP_SUM and PCP_MAX AND PCP_MAX3 that cause compression"
   ]
  },
  {
   "cell_type": "code",
   "execution_count": 22,
   "metadata": {},
   "outputs": [
    {
     "name": "stderr",
     "output_type": "stream",
     "text": [
      "┌ Warning: `getindex(df::DataFrame, col_ind::ColumnIndex)` is deprecated, use `df[!, col_ind]` instead.\n",
      "│   caller = top-level scope at In[22]:1\n",
      "└ @ Core In[22]:1\n",
      "┌ Warning: implicit broadcasting in setindex! is deprecated; use `df[row_inds, col_ind] .= Ref(v)` broadcasting assignment to change the column in place\n",
      "│   caller = setindex!(::DataFrame, ::Int64, ::BitArray{1}, ::Symbol) at deprecated.jl:1490\n",
      "└ @ DataFrames /home/chaime/.julia/packages/DataFrames/yH0f6/src/deprecated.jl:1490\n",
      "┌ Warning: `getindex(df::DataFrame, col_ind::ColumnIndex)` is deprecated, use `df[!, col_ind]` instead.\n",
      "│   caller = top-level scope at In[22]:2\n",
      "└ @ Core In[22]:2\n",
      "┌ Warning: `getindex(df::DataFrame, col_ind::ColumnIndex)` is deprecated, use `df[!, col_ind]` instead.\n",
      "│   caller = top-level scope at In[22]:3\n",
      "└ @ Core In[22]:3\n"
     ]
    }
   ],
   "source": [
    "comb[comb[:PCP_SUM] .> 750, :PCP_SUM] = 750;\n",
    "comb[comb[:PCP_MAX] .> 500, :PCP_MAX] = 500;\n",
    "comb[comb[:PCP_MAX3] .> 750, :PCP_MAX3] = 750;"
   ]
  },
  {
   "cell_type": "code",
   "execution_count": 23,
   "metadata": {},
   "outputs": [
    {
     "data": {
      "text/html": [
       "<table class=\"data-frame\"><thead><tr><th></th><th>ID_OUVRAGE</th><th>TP_LAT</th><th>TP_LNG</th><th>TP_Z</th><th>DATE</th><th>PCP_SUM</th><th>PCP_MAX</th><th>PCP_MAX3</th></tr><tr><th></th><th>String</th><th>Float64</th><th>Float64</th><th>Float64</th><th>Date</th><th>Float64</th><th>Float64</th><th>Float64</th></tr></thead><tbody><p>10 rows × 9 columns (omitted printing of 1 columns)</p><tr><th>1</th><td>4300-01D</td><td>0.3648</td><td>0.987515</td><td>-0.933306</td><td>2015-07-19</td><td>110.0</td><td>8.0</td><td>21.0</td></tr><tr><th>2</th><td>4380-01D</td><td>-0.828933</td><td>0.658409</td><td>-0.0467296</td><td>2017-06-20</td><td>174.0</td><td>84.0</td><td>174.0</td></tr><tr><th>3</th><td>4430-02D</td><td>-1.21516</td><td>0.4803</td><td>-0.168667</td><td>2016-08-14</td><td>162.0</td><td>38.0</td><td>92.0</td></tr><tr><th>4</th><td>4230-03D</td><td>1.5223</td><td>1.20943</td><td>-1.6241</td><td>2017-08-22</td><td>260.0</td><td>170.0</td><td>170.0</td></tr><tr><th>5</th><td>3350-09D</td><td>-0.0251308</td><td>-0.486079</td><td>0.625204</td><td>2015-06-16</td><td>242.0</td><td>118.0</td><td>227.0</td></tr><tr><th>6</th><td>4370-02D</td><td>-0.787414</td><td>0.689638</td><td>-0.0467296</td><td>2013-05-29</td><td>146.0</td><td>75.0</td><td>103.0</td></tr><tr><th>7</th><td>3540-02D</td><td>-0.743445</td><td>-1.70934</td><td>1.05599</td><td>2017-06-20</td><td>96.0</td><td>76.0</td><td>96.0</td></tr><tr><th>8</th><td>3270-01D</td><td>1.18312</td><td>0.417032</td><td>0.239038</td><td>2014-07-28</td><td>132.0</td><td>32.0</td><td>72.0</td></tr><tr><th>9</th><td>3350-07D</td><td>0.0802391</td><td>-0.325532</td><td>0.168267</td><td>2017-07-31</td><td>366.0</td><td>366.0</td><td>366.0</td></tr><tr><th>10</th><td>4720-01D</td><td>1.86614</td><td>1.22986</td><td>-1.39332</td><td>2014-06-12</td><td>270.0</td><td>50.0</td><td>100.0</td></tr></tbody></table>"
      ],
      "text/latex": [
       "\\begin{tabular}{r|ccccccccc}\n",
       "\t& ID\\_OUVRAGE & TP\\_LAT & TP\\_LNG & TP\\_Z & DATE & PCP\\_SUM & PCP\\_MAX & PCP\\_MAX3 & \\\\\n",
       "\t\\hline\n",
       "\t& String & Float64 & Float64 & Float64 & Date & Float64 & Float64 & Float64 & \\\\\n",
       "\t\\hline\n",
       "\t1 & 4300-01D & 0.3648 & 0.987515 & -0.933306 & 2015-07-19 & 110.0 & 8.0 & 21.0 & $\\dots$ \\\\\n",
       "\t2 & 4380-01D & -0.828933 & 0.658409 & -0.0467296 & 2017-06-20 & 174.0 & 84.0 & 174.0 & $\\dots$ \\\\\n",
       "\t3 & 4430-02D & -1.21516 & 0.4803 & -0.168667 & 2016-08-14 & 162.0 & 38.0 & 92.0 & $\\dots$ \\\\\n",
       "\t4 & 4230-03D & 1.5223 & 1.20943 & -1.6241 & 2017-08-22 & 260.0 & 170.0 & 170.0 & $\\dots$ \\\\\n",
       "\t5 & 3350-09D & -0.0251308 & -0.486079 & 0.625204 & 2015-06-16 & 242.0 & 118.0 & 227.0 & $\\dots$ \\\\\n",
       "\t6 & 4370-02D & -0.787414 & 0.689638 & -0.0467296 & 2013-05-29 & 146.0 & 75.0 & 103.0 & $\\dots$ \\\\\n",
       "\t7 & 3540-02D & -0.743445 & -1.70934 & 1.05599 & 2017-06-20 & 96.0 & 76.0 & 96.0 & $\\dots$ \\\\\n",
       "\t8 & 3270-01D & 1.18312 & 0.417032 & 0.239038 & 2014-07-28 & 132.0 & 32.0 & 72.0 & $\\dots$ \\\\\n",
       "\t9 & 3350-07D & 0.0802391 & -0.325532 & 0.168267 & 2017-07-31 & 366.0 & 366.0 & 366.0 & $\\dots$ \\\\\n",
       "\t10 & 4720-01D & 1.86614 & 1.22986 & -1.39332 & 2014-06-12 & 270.0 & 50.0 & 100.0 & $\\dots$ \\\\\n",
       "\\end{tabular}\n"
      ],
      "text/plain": [
       "10×9 DataFrame. Omitted printing of 4 columns\n",
       "│ Row │ ID_OUVRAGE │ TP_LAT     │ TP_LNG    │ TP_Z       │ DATE       │\n",
       "│     │ \u001b[90mString\u001b[39m     │ \u001b[90mFloat64\u001b[39m    │ \u001b[90mFloat64\u001b[39m   │ \u001b[90mFloat64\u001b[39m    │ \u001b[90mDate\u001b[39m       │\n",
       "├─────┼────────────┼────────────┼───────────┼────────────┼────────────┤\n",
       "│ 1   │ 4300-01D   │ 0.3648     │ 0.987515  │ -0.933306  │ 2015-07-19 │\n",
       "│ 2   │ 4380-01D   │ -0.828933  │ 0.658409  │ -0.0467296 │ 2017-06-20 │\n",
       "│ 3   │ 4430-02D   │ -1.21516   │ 0.4803    │ -0.168667  │ 2016-08-14 │\n",
       "│ 4   │ 4230-03D   │ 1.5223     │ 1.20943   │ -1.6241    │ 2017-08-22 │\n",
       "│ 5   │ 3350-09D   │ -0.0251308 │ -0.486079 │ 0.625204   │ 2015-06-16 │\n",
       "│ 6   │ 4370-02D   │ -0.787414  │ 0.689638  │ -0.0467296 │ 2013-05-29 │\n",
       "│ 7   │ 3540-02D   │ -0.743445  │ -1.70934  │ 1.05599    │ 2017-06-20 │\n",
       "│ 8   │ 3270-01D   │ 1.18312    │ 0.417032  │ 0.239038   │ 2014-07-28 │\n",
       "│ 9   │ 3350-07D   │ 0.0802391  │ -0.325532 │ 0.168267   │ 2017-07-31 │\n",
       "│ 10  │ 4720-01D   │ 1.86614    │ 1.22986   │ -1.39332   │ 2014-06-12 │"
      ]
     },
     "execution_count": 23,
     "metadata": {},
     "output_type": "execute_result"
    }
   ],
   "source": [
    "first(shuffleDf(filter(row -> row.SURVERSE == 1, comb)), 10)"
   ]
  },
  {
   "cell_type": "markdown",
   "metadata": {},
   "source": [
    "### Split dates into months and days"
   ]
  },
  {
   "cell_type": "code",
   "execution_count": 24,
   "metadata": {},
   "outputs": [
    {
     "data": {
      "text/html": [
       "<table class=\"data-frame\"><thead><tr><th></th><th>DATE</th><th>MONTH</th><th>DAY</th></tr><tr><th></th><th>Date</th><th>Int64</th><th>Int64</th></tr></thead><tbody><p>5 rows × 3 columns</p><tr><th>1</th><td>2013-09-10</td><td>9</td><td>10</td></tr><tr><th>2</th><td>2015-05-20</td><td>5</td><td>20</td></tr><tr><th>3</th><td>2014-06-17</td><td>6</td><td>17</td></tr><tr><th>4</th><td>2015-10-19</td><td>10</td><td>19</td></tr><tr><th>5</th><td>2013-10-03</td><td>10</td><td>3</td></tr></tbody></table>"
      ],
      "text/latex": [
       "\\begin{tabular}{r|ccc}\n",
       "\t& DATE & MONTH & DAY\\\\\n",
       "\t\\hline\n",
       "\t& Date & Int64 & Int64\\\\\n",
       "\t\\hline\n",
       "\t1 & 2013-09-10 & 9 & 10 \\\\\n",
       "\t2 & 2015-05-20 & 5 & 20 \\\\\n",
       "\t3 & 2014-06-17 & 6 & 17 \\\\\n",
       "\t4 & 2015-10-19 & 10 & 19 \\\\\n",
       "\t5 & 2013-10-03 & 10 & 3 \\\\\n",
       "\\end{tabular}\n"
      ],
      "text/plain": [
       "5×3 DataFrame\n",
       "│ Row │ DATE       │ MONTH │ DAY   │\n",
       "│     │ \u001b[90mDate\u001b[39m       │ \u001b[90mInt64\u001b[39m │ \u001b[90mInt64\u001b[39m │\n",
       "├─────┼────────────┼───────┼───────┤\n",
       "│ 1   │ 2013-09-10 │ 9     │ 10    │\n",
       "│ 2   │ 2015-05-20 │ 5     │ 20    │\n",
       "│ 3   │ 2014-06-17 │ 6     │ 17    │\n",
       "│ 4   │ 2015-10-19 │ 10    │ 19    │\n",
       "│ 5   │ 2013-10-03 │ 10    │ 3     │"
      ]
     },
     "execution_count": 24,
     "metadata": {},
     "output_type": "execute_result"
    }
   ],
   "source": [
    "comb.MONTH = month.(comb.DATE);\n",
    "comb.DAY = day.(comb.DATE);\n",
    "first(shuffleDf(comb[!, [:DATE, :MONTH, :DAY]]), 5)"
   ]
  },
  {
   "cell_type": "markdown",
   "metadata": {},
   "source": [
    "## Standardize the PCP and Date"
   ]
  },
  {
   "cell_type": "code",
   "execution_count": 25,
   "metadata": {},
   "outputs": [],
   "source": [
    "mean_pcpsum = mean(comb.PCP_SUM);\n",
    "std_pcpsum = std(comb.PCP_SUM);\n",
    "comb.PCP_SUM = (comb.PCP_SUM .- mean_pcpsum) ./ std_pcpsum;\n",
    "\n",
    "mean_pcpmax = mean(comb.PCP_MAX);\n",
    "std_pcpmax = std(comb.PCP_MAX);\n",
    "comb.PCP_MAX = (comb.PCP_MAX .- mean_pcpmax) ./ std_pcpmax;\n",
    "\n",
    "mean_pcpmax3 = mean(comb.PCP_MAX3);\n",
    "std_pcpmax3 = std(comb.PCP_MAX3);\n",
    "comb.PCP_MAX3 = (comb.PCP_MAX3 .- mean_pcpmax3) ./ std_pcpmax3;\n",
    "\n",
    "meanmonth = mean(comb.MONTH);\n",
    "stdmonth = std(comb.MONTH);\n",
    "comb.MONTH = (comb.MONTH .- meanmonth) ./ stdmonth;\n",
    "\n",
    "meanday = mean(comb.DAY);\n",
    "stdday = std(comb.DAY);\n",
    "comb.DAY = (comb.DAY .- meanday) ./ stdday;"
   ]
  },
  {
   "cell_type": "code",
   "execution_count": 26,
   "metadata": {},
   "outputs": [
    {
     "data": {
      "text/html": [
       "<table class=\"data-frame\"><thead><tr><th></th><th>ID_OUVRAGE</th><th>TP_LAT</th><th>TP_LNG</th><th>TP_Z</th><th>DATE</th><th>PCP_SUM</th><th>PCP_MAX</th></tr><tr><th></th><th>String</th><th>Float64</th><th>Float64</th><th>Float64</th><th>Date</th><th>Float64</th><th>Float64</th></tr></thead><tbody><p>10 rows × 11 columns (omitted printing of 4 columns)</p><tr><th>1</th><td>3350-09D</td><td>-0.0251308</td><td>-0.486079</td><td>0.625204</td><td>2017-10-09</td><td>3.38984</td><td>1.59794</td></tr><tr><th>2</th><td>3350-09D</td><td>-0.0251308</td><td>-0.486079</td><td>0.625204</td><td>2015-07-01</td><td>0.89039</td><td>0.551968</td></tr><tr><th>3</th><td>4430-05D</td><td>-1.33635</td><td>-0.0587449</td><td>1.69293</td><td>2015-09-19</td><td>0.971894</td><td>1.99786</td></tr><tr><th>4</th><td>3380-01D</td><td>0.163171</td><td>-0.158884</td><td>0.395966</td><td>2016-09-08</td><td>0.645878</td><td>0.767314</td></tr><tr><th>5</th><td>3350-07D</td><td>0.0802391</td><td>-0.325532</td><td>0.168267</td><td>2016-08-14</td><td>2.62914</td><td>1.25953</td></tr><tr><th>6</th><td>4265-01D</td><td>1.00593</td><td>1.15342</td><td>-1.21178</td><td>2015-07-19</td><td>1.74618</td><td>0.982661</td></tr><tr><th>7</th><td>0801-05D</td><td>-0.254625</td><td>0.907701</td><td>-1.07023</td><td>2018-08-13</td><td>-0.400087</td><td>-0.401707</td></tr><tr><th>8</th><td>3310-01D</td><td>0.865632</td><td>0.140067</td><td>-0.0117388</td><td>2017-09-03</td><td>3.33551</td><td>0.951897</td></tr><tr><th>9</th><td>3350-06D</td><td>0.183866</td><td>-0.182787</td><td>0.254423</td><td>2013-07-19</td><td>1.50167</td><td>1.38259</td></tr><tr><th>10</th><td>4795-01D</td><td>-1.03629</td><td>0.623706</td><td>-0.60145</td><td>2018-07-17</td><td>3.49851</td><td>3.65911</td></tr></tbody></table>"
      ],
      "text/latex": [
       "\\begin{tabular}{r|cccccccc}\n",
       "\t& ID\\_OUVRAGE & TP\\_LAT & TP\\_LNG & TP\\_Z & DATE & PCP\\_SUM & PCP\\_MAX & \\\\\n",
       "\t\\hline\n",
       "\t& String & Float64 & Float64 & Float64 & Date & Float64 & Float64 & \\\\\n",
       "\t\\hline\n",
       "\t1 & 3350-09D & -0.0251308 & -0.486079 & 0.625204 & 2017-10-09 & 3.38984 & 1.59794 & $\\dots$ \\\\\n",
       "\t2 & 3350-09D & -0.0251308 & -0.486079 & 0.625204 & 2015-07-01 & 0.89039 & 0.551968 & $\\dots$ \\\\\n",
       "\t3 & 4430-05D & -1.33635 & -0.0587449 & 1.69293 & 2015-09-19 & 0.971894 & 1.99786 & $\\dots$ \\\\\n",
       "\t4 & 3380-01D & 0.163171 & -0.158884 & 0.395966 & 2016-09-08 & 0.645878 & 0.767314 & $\\dots$ \\\\\n",
       "\t5 & 3350-07D & 0.0802391 & -0.325532 & 0.168267 & 2016-08-14 & 2.62914 & 1.25953 & $\\dots$ \\\\\n",
       "\t6 & 4265-01D & 1.00593 & 1.15342 & -1.21178 & 2015-07-19 & 1.74618 & 0.982661 & $\\dots$ \\\\\n",
       "\t7 & 0801-05D & -0.254625 & 0.907701 & -1.07023 & 2018-08-13 & -0.400087 & -0.401707 & $\\dots$ \\\\\n",
       "\t8 & 3310-01D & 0.865632 & 0.140067 & -0.0117388 & 2017-09-03 & 3.33551 & 0.951897 & $\\dots$ \\\\\n",
       "\t9 & 3350-06D & 0.183866 & -0.182787 & 0.254423 & 2013-07-19 & 1.50167 & 1.38259 & $\\dots$ \\\\\n",
       "\t10 & 4795-01D & -1.03629 & 0.623706 & -0.60145 & 2018-07-17 & 3.49851 & 3.65911 & $\\dots$ \\\\\n",
       "\\end{tabular}\n"
      ],
      "text/plain": [
       "10×11 DataFrame. Omitted printing of 6 columns\n",
       "│ Row │ ID_OUVRAGE │ TP_LAT     │ TP_LNG     │ TP_Z       │ DATE       │\n",
       "│     │ \u001b[90mString\u001b[39m     │ \u001b[90mFloat64\u001b[39m    │ \u001b[90mFloat64\u001b[39m    │ \u001b[90mFloat64\u001b[39m    │ \u001b[90mDate\u001b[39m       │\n",
       "├─────┼────────────┼────────────┼────────────┼────────────┼────────────┤\n",
       "│ 1   │ 3350-09D   │ -0.0251308 │ -0.486079  │ 0.625204   │ 2017-10-09 │\n",
       "│ 2   │ 3350-09D   │ -0.0251308 │ -0.486079  │ 0.625204   │ 2015-07-01 │\n",
       "│ 3   │ 4430-05D   │ -1.33635   │ -0.0587449 │ 1.69293    │ 2015-09-19 │\n",
       "│ 4   │ 3380-01D   │ 0.163171   │ -0.158884  │ 0.395966   │ 2016-09-08 │\n",
       "│ 5   │ 3350-07D   │ 0.0802391  │ -0.325532  │ 0.168267   │ 2016-08-14 │\n",
       "│ 6   │ 4265-01D   │ 1.00593    │ 1.15342    │ -1.21178   │ 2015-07-19 │\n",
       "│ 7   │ 0801-05D   │ -0.254625  │ 0.907701   │ -1.07023   │ 2018-08-13 │\n",
       "│ 8   │ 3310-01D   │ 0.865632   │ 0.140067   │ -0.0117388 │ 2017-09-03 │\n",
       "│ 9   │ 3350-06D   │ 0.183866   │ -0.182787  │ 0.254423   │ 2013-07-19 │\n",
       "│ 10  │ 4795-01D   │ -1.03629   │ 0.623706   │ -0.60145   │ 2018-07-17 │"
      ]
     },
     "execution_count": 26,
     "metadata": {},
     "output_type": "execute_result"
    }
   ],
   "source": [
    "first(shuffleDf(filter(row -> row.SURVERSE == 1, comb)), 10)"
   ]
  },
  {
   "cell_type": "markdown",
   "metadata": {},
   "source": [
    "# Validate model"
   ]
  },
  {
   "cell_type": "markdown",
   "metadata": {},
   "source": [
    "### Split train and validation sets"
   ]
  },
  {
   "cell_type": "code",
   "execution_count": 27,
   "metadata": {},
   "outputs": [],
   "source": [
    "r_idx = shuffle(1:size(comb, 1));\n",
    "train_ceil = floor(Int, size(r_idx, 1) * 0.8);\n",
    "train_set = comb[r_idx[1:train_ceil], :];\n",
    "val_set = comb[r_idx[train_ceil+1:size(r_idx, 1)], :];"
   ]
  },
  {
   "cell_type": "markdown",
   "metadata": {},
   "source": [
    "### Train model on train set"
   ]
  },
  {
   "cell_type": "markdown",
   "metadata": {},
   "source": [
    "#### Random Forest Params"
   ]
  },
  {
   "cell_type": "code",
   "execution_count": 32,
   "metadata": {},
   "outputs": [],
   "source": [
    "names_ft = [:TP_LAT, :TP_LNG, :TP_Z, :MONTH, :DAY, :PCP_SUM, :PCP_MAX, :PCP_MAX3];"
   ]
  },
  {
   "cell_type": "markdown",
   "metadata": {},
   "source": [
    "#### Build the features and labels"
   ]
  },
  {
   "cell_type": "code",
   "execution_count": 33,
   "metadata": {},
   "outputs": [],
   "source": [
    "train_features = convert(Matrix{Float64},train_set[:, names_ft]);\n",
    "train_labels = train_set[:, :SURVERSE];"
   ]
  },
  {
   "cell_type": "markdown",
   "metadata": {},
   "source": [
    "#### Build the model N features to use is log_2(N + 1)"
   ]
  },
  {
   "cell_type": "code",
   "execution_count": 34,
   "metadata": {},
   "outputs": [],
   "source": [
    "val_model = LIBSVM.fit!(SVC(), train_features, train_labels);"
   ]
  },
  {
   "cell_type": "markdown",
   "metadata": {},
   "source": [
    "### Validate model on validation set"
   ]
  },
  {
   "cell_type": "markdown",
   "metadata": {},
   "source": [
    "#### Single validation"
   ]
  },
  {
   "cell_type": "code",
   "execution_count": 37,
   "metadata": {},
   "outputs": [
    {
     "data": {
      "text/plain": [
       "0.2109375"
      ]
     },
     "execution_count": 37,
     "metadata": {},
     "output_type": "execute_result"
    }
   ],
   "source": [
    "val_features = convert(Matrix{Float64},val_set[:, names_ft]);\n",
    "val_labels = val_set[!, :SURVERSE];\n",
    "val_pred = LIBSVM.predict(val_model, val_features);\n",
    "\n",
    "r = roc(val_labels, val_pred);\n",
    "f1score(r)"
   ]
  },
  {
   "cell_type": "markdown",
   "metadata": {},
   "source": [
    "#### Batch validation for F1Score"
   ]
  },
  {
   "cell_type": "code",
   "execution_count": null,
   "metadata": {},
   "outputs": [],
   "source": [
    "niter = 10;\n",
    "batch_score = 0;\n",
    "\n",
    "for i=1:niter\n",
    "    # Split train and val sets\n",
    "    r_idx = shuffle(1:size(comb, 1));\n",
    "    train_ceil = floor(Int, size(r_idx, 1) * 0.8);\n",
    "    train_set = comb[r_idx[1:train_ceil], :];\n",
    "    val_set = comb[r_idx[train_ceil+1:size(r_idx, 1)], :];\n",
    "    \n",
    "    # Build features and labels\n",
    "    train_features = convert(Matrix{Float64},train_set[:, names_ft]);\n",
    "    train_labels = train_set[:, :SURVERSE];\n",
    "    \n",
    "    # Build model\n",
    "    val_model = LIBSVM.fit!(SVC(), train_features, train_labels);\n",
    "    \n",
    "    # Validate model\n",
    "    val_features = convert(Matrix{Float64},val_set[:, names_ft]);\n",
    "    val_labels = val_set[!, :SURVERSE];\n",
    "    val_pred = LIBSVM.predict(val_model, val_features);\n",
    "\n",
    "    r = roc(val_labels, val_pred);\n",
    "    batch_score += f1score(r);\n",
    "end\n",
    "\n",
    "batch_score = batch_score / niter"
   ]
  },
  {
   "cell_type": "markdown",
   "metadata": {},
   "source": [
    "# Submission model creation"
   ]
  },
  {
   "cell_type": "markdown",
   "metadata": {},
   "source": [
    "### Separate features and labels"
   ]
  },
  {
   "cell_type": "code",
   "execution_count": 38,
   "metadata": {},
   "outputs": [],
   "source": [
    "full_train_features = convert(Matrix{Float64},comb[:, names_ft]);"
   ]
  },
  {
   "cell_type": "code",
   "execution_count": 39,
   "metadata": {},
   "outputs": [],
   "source": [
    "full_train_labels = comb[:, :SURVERSE];"
   ]
  },
  {
   "cell_type": "markdown",
   "metadata": {},
   "source": [
    "### Build Model"
   ]
  },
  {
   "cell_type": "code",
   "execution_count": 40,
   "metadata": {},
   "outputs": [],
   "source": [
    "model = LIBSVM.fit!(SVC(), full_train_features, full_train_labels);"
   ]
  },
  {
   "cell_type": "markdown",
   "metadata": {},
   "source": [
    "# Prediction"
   ]
  },
  {
   "cell_type": "markdown",
   "metadata": {},
   "source": [
    "## Get the test data"
   ]
  },
  {
   "cell_type": "code",
   "execution_count": 41,
   "metadata": {},
   "outputs": [
    {
     "data": {
      "text/html": [
       "<table class=\"data-frame\"><thead><tr><th></th><th>ID_OUVRAGE</th><th>DATE</th></tr><tr><th></th><th>String</th><th>Date</th></tr></thead><tbody><p>10 rows × 2 columns</p><tr><th>1</th><td>3260-01D</td><td>2019-05-02</td></tr><tr><th>2</th><td>3260-01D</td><td>2019-05-09</td></tr><tr><th>3</th><td>3260-01D</td><td>2019-05-10</td></tr><tr><th>4</th><td>3260-01D</td><td>2019-05-15</td></tr><tr><th>5</th><td>3260-01D</td><td>2019-05-20</td></tr><tr><th>6</th><td>3260-01D</td><td>2019-05-23</td></tr><tr><th>7</th><td>3260-01D</td><td>2019-05-24</td></tr><tr><th>8</th><td>3260-01D</td><td>2019-05-26</td></tr><tr><th>9</th><td>3260-01D</td><td>2019-05-30</td></tr><tr><th>10</th><td>3350-07D</td><td>2019-05-01</td></tr></tbody></table>"
      ],
      "text/latex": [
       "\\begin{tabular}{r|cc}\n",
       "\t& ID\\_OUVRAGE & DATE\\\\\n",
       "\t\\hline\n",
       "\t& String & Date\\\\\n",
       "\t\\hline\n",
       "\t1 & 3260-01D & 2019-05-02 \\\\\n",
       "\t2 & 3260-01D & 2019-05-09 \\\\\n",
       "\t3 & 3260-01D & 2019-05-10 \\\\\n",
       "\t4 & 3260-01D & 2019-05-15 \\\\\n",
       "\t5 & 3260-01D & 2019-05-20 \\\\\n",
       "\t6 & 3260-01D & 2019-05-23 \\\\\n",
       "\t7 & 3260-01D & 2019-05-24 \\\\\n",
       "\t8 & 3260-01D & 2019-05-26 \\\\\n",
       "\t9 & 3260-01D & 2019-05-30 \\\\\n",
       "\t10 & 3350-07D & 2019-05-01 \\\\\n",
       "\\end{tabular}\n"
      ],
      "text/plain": [
       "10×2 DataFrame\n",
       "│ Row │ ID_OUVRAGE │ DATE       │\n",
       "│     │ \u001b[90mString\u001b[39m     │ \u001b[90mDate\u001b[39m       │\n",
       "├─────┼────────────┼────────────┤\n",
       "│ 1   │ 3260-01D   │ 2019-05-02 │\n",
       "│ 2   │ 3260-01D   │ 2019-05-09 │\n",
       "│ 3   │ 3260-01D   │ 2019-05-10 │\n",
       "│ 4   │ 3260-01D   │ 2019-05-15 │\n",
       "│ 5   │ 3260-01D   │ 2019-05-20 │\n",
       "│ 6   │ 3260-01D   │ 2019-05-23 │\n",
       "│ 7   │ 3260-01D   │ 2019-05-24 │\n",
       "│ 8   │ 3260-01D   │ 2019-05-26 │\n",
       "│ 9   │ 3260-01D   │ 2019-05-30 │\n",
       "│ 10  │ 3350-07D   │ 2019-05-01 │"
      ]
     },
     "execution_count": 41,
     "metadata": {},
     "output_type": "execute_result"
    }
   ],
   "source": [
    "test = CSV.read(\"data/test.csv\");\n",
    "rename!(test, :NO_OUVRAGE => :ID_OUVRAGE);\n",
    "first(test, 10)"
   ]
  },
  {
   "cell_type": "code",
   "execution_count": 42,
   "metadata": {},
   "outputs": [
    {
     "data": {
      "text/plain": [
       "283"
      ]
     },
     "execution_count": 42,
     "metadata": {},
     "output_type": "execute_result"
    }
   ],
   "source": [
    "to_merge = unique(comb[!, [:ID_OUVRAGE, :TP_LAT, :TP_LNG, :TP_Z]], :ID_OUVRAGE);\n",
    "test_comb = join(test, to_merge, on= [:ID_OUVRAGE]);\n",
    "nrow(test_comb)"
   ]
  },
  {
   "cell_type": "code",
   "execution_count": 43,
   "metadata": {},
   "outputs": [
    {
     "data": {
      "text/html": [
       "<table class=\"data-frame\"><thead><tr><th></th><th>ID_OUVRAGE</th><th>DATE</th><th>TP_LAT</th><th>TP_LNG</th><th>TP_Z</th></tr><tr><th></th><th>String</th><th>Date</th><th>Float64</th><th>Float64</th><th>Float64</th></tr></thead><tbody><p>10 rows × 5 columns</p><tr><th>1</th><td>4350-01D</td><td>2019-07-11</td><td>-0.465715</td><td>0.725081</td><td>-0.0467296</td></tr><tr><th>2</th><td>3350-07D</td><td>2019-05-14</td><td>0.0802391</td><td>-0.325532</td><td>0.168267</td></tr><tr><th>3</th><td>4380-01D</td><td>2019-05-04</td><td>-0.828933</td><td>0.658409</td><td>-0.0467296</td></tr><tr><th>4</th><td>4380-01D</td><td>2019-05-06</td><td>-0.828933</td><td>0.658409</td><td>-0.0467296</td></tr><tr><th>5</th><td>3350-07D</td><td>2019-09-30</td><td>0.0802391</td><td>-0.325532</td><td>0.168267</td></tr><tr><th>6</th><td>4380-01D</td><td>2019-08-10</td><td>-0.828933</td><td>0.658409</td><td>-0.0467296</td></tr><tr><th>7</th><td>4380-01D</td><td>2019-08-14</td><td>-0.828933</td><td>0.658409</td><td>-0.0467296</td></tr><tr><th>8</th><td>3260-01D</td><td>2019-05-15</td><td>1.29293</td><td>0.531312</td><td>0.0790333</td></tr><tr><th>9</th><td>4380-01D</td><td>2019-09-26</td><td>-0.828933</td><td>0.658409</td><td>-0.0467296</td></tr><tr><th>10</th><td>4350-01D</td><td>2019-07-17</td><td>-0.465715</td><td>0.725081</td><td>-0.0467296</td></tr></tbody></table>"
      ],
      "text/latex": [
       "\\begin{tabular}{r|ccccc}\n",
       "\t& ID\\_OUVRAGE & DATE & TP\\_LAT & TP\\_LNG & TP\\_Z\\\\\n",
       "\t\\hline\n",
       "\t& String & Date & Float64 & Float64 & Float64\\\\\n",
       "\t\\hline\n",
       "\t1 & 4350-01D & 2019-07-11 & -0.465715 & 0.725081 & -0.0467296 \\\\\n",
       "\t2 & 3350-07D & 2019-05-14 & 0.0802391 & -0.325532 & 0.168267 \\\\\n",
       "\t3 & 4380-01D & 2019-05-04 & -0.828933 & 0.658409 & -0.0467296 \\\\\n",
       "\t4 & 4380-01D & 2019-05-06 & -0.828933 & 0.658409 & -0.0467296 \\\\\n",
       "\t5 & 3350-07D & 2019-09-30 & 0.0802391 & -0.325532 & 0.168267 \\\\\n",
       "\t6 & 4380-01D & 2019-08-10 & -0.828933 & 0.658409 & -0.0467296 \\\\\n",
       "\t7 & 4380-01D & 2019-08-14 & -0.828933 & 0.658409 & -0.0467296 \\\\\n",
       "\t8 & 3260-01D & 2019-05-15 & 1.29293 & 0.531312 & 0.0790333 \\\\\n",
       "\t9 & 4380-01D & 2019-09-26 & -0.828933 & 0.658409 & -0.0467296 \\\\\n",
       "\t10 & 4350-01D & 2019-07-17 & -0.465715 & 0.725081 & -0.0467296 \\\\\n",
       "\\end{tabular}\n"
      ],
      "text/plain": [
       "10×5 DataFrame\n",
       "│ Row │ ID_OUVRAGE │ DATE       │ TP_LAT    │ TP_LNG    │ TP_Z       │\n",
       "│     │ \u001b[90mString\u001b[39m     │ \u001b[90mDate\u001b[39m       │ \u001b[90mFloat64\u001b[39m   │ \u001b[90mFloat64\u001b[39m   │ \u001b[90mFloat64\u001b[39m    │\n",
       "├─────┼────────────┼────────────┼───────────┼───────────┼────────────┤\n",
       "│ 1   │ 4350-01D   │ 2019-07-11 │ -0.465715 │ 0.725081  │ -0.0467296 │\n",
       "│ 2   │ 3350-07D   │ 2019-05-14 │ 0.0802391 │ -0.325532 │ 0.168267   │\n",
       "│ 3   │ 4380-01D   │ 2019-05-04 │ -0.828933 │ 0.658409  │ -0.0467296 │\n",
       "│ 4   │ 4380-01D   │ 2019-05-06 │ -0.828933 │ 0.658409  │ -0.0467296 │\n",
       "│ 5   │ 3350-07D   │ 2019-09-30 │ 0.0802391 │ -0.325532 │ 0.168267   │\n",
       "│ 6   │ 4380-01D   │ 2019-08-10 │ -0.828933 │ 0.658409  │ -0.0467296 │\n",
       "│ 7   │ 4380-01D   │ 2019-08-14 │ -0.828933 │ 0.658409  │ -0.0467296 │\n",
       "│ 8   │ 3260-01D   │ 2019-05-15 │ 1.29293   │ 0.531312  │ 0.0790333  │\n",
       "│ 9   │ 4380-01D   │ 2019-09-26 │ -0.828933 │ 0.658409  │ -0.0467296 │\n",
       "│ 10  │ 4350-01D   │ 2019-07-17 │ -0.465715 │ 0.725081  │ -0.0467296 │"
      ]
     },
     "execution_count": 43,
     "metadata": {},
     "output_type": "execute_result"
    }
   ],
   "source": [
    "first(shuffleDf(test_comb), 10)"
   ]
  },
  {
   "cell_type": "markdown",
   "metadata": {},
   "source": [
    "### Add PCP_SUM and PCP_MAX"
   ]
  },
  {
   "cell_type": "markdown",
   "metadata": {},
   "source": [
    "#### Initialize default pcp"
   ]
  },
  {
   "cell_type": "code",
   "execution_count": 44,
   "metadata": {},
   "outputs": [],
   "source": [
    "test_comb.PCP_SUM = zeros(size(test_comb, 1));\n",
    "test_comb.PCP_MAX = zeros(size(test_comb, 1));\n",
    "test_comb.PCP_MAX3 = zeros(size(test_comb, 1));\n",
    "permutecols!(test_comb, [:ID_OUVRAGE, :TP_LAT, :TP_LNG, :TP_Z, :DATE, :PCP_SUM, :PCP_MAX, :PCP_MAX3]);"
   ]
  },
  {
   "cell_type": "code",
   "execution_count": 45,
   "metadata": {},
   "outputs": [
    {
     "data": {
      "text/html": [
       "<table class=\"data-frame\"><thead><tr><th></th><th>ID_OUVRAGE</th><th>TP_LAT</th><th>TP_LNG</th><th>TP_Z</th><th>DATE</th><th>PCP_SUM</th><th>PCP_MAX</th><th>PCP_MAX3</th></tr><tr><th></th><th>String</th><th>Float64</th><th>Float64</th><th>Float64</th><th>Date</th><th>Float64</th><th>Float64</th><th>Float64</th></tr></thead><tbody><p>10 rows × 8 columns</p><tr><th>1</th><td>3350-07D</td><td>0.0802391</td><td>-0.325532</td><td>0.168267</td><td>2019-08-26</td><td>0.0</td><td>0.0</td><td>0.0</td></tr><tr><th>2</th><td>3350-07D</td><td>0.0802391</td><td>-0.325532</td><td>0.168267</td><td>2019-09-01</td><td>0.0</td><td>0.0</td><td>0.0</td></tr><tr><th>3</th><td>3260-01D</td><td>1.29293</td><td>0.531312</td><td>0.0790333</td><td>2019-07-21</td><td>0.0</td><td>0.0</td><td>0.0</td></tr><tr><th>4</th><td>4240-01D</td><td>1.28137</td><td>1.24035</td><td>-1.19178</td><td>2019-06-20</td><td>0.0</td><td>0.0</td><td>0.0</td></tr><tr><th>5</th><td>3350-07D</td><td>0.0802391</td><td>-0.325532</td><td>0.168267</td><td>2019-09-13</td><td>0.0</td><td>0.0</td><td>0.0</td></tr><tr><th>6</th><td>4380-01D</td><td>-0.828933</td><td>0.658409</td><td>-0.0467296</td><td>2019-09-12</td><td>0.0</td><td>0.0</td><td>0.0</td></tr><tr><th>7</th><td>3350-07D</td><td>0.0802391</td><td>-0.325532</td><td>0.168267</td><td>2019-09-24</td><td>0.0</td><td>0.0</td><td>0.0</td></tr><tr><th>8</th><td>4240-01D</td><td>1.28137</td><td>1.24035</td><td>-1.19178</td><td>2019-09-28</td><td>0.0</td><td>0.0</td><td>0.0</td></tr><tr><th>9</th><td>4350-01D</td><td>-0.465715</td><td>0.725081</td><td>-0.0467296</td><td>2019-05-22</td><td>0.0</td><td>0.0</td><td>0.0</td></tr><tr><th>10</th><td>4350-01D</td><td>-0.465715</td><td>0.725081</td><td>-0.0467296</td><td>2019-09-04</td><td>0.0</td><td>0.0</td><td>0.0</td></tr></tbody></table>"
      ],
      "text/latex": [
       "\\begin{tabular}{r|cccccccc}\n",
       "\t& ID\\_OUVRAGE & TP\\_LAT & TP\\_LNG & TP\\_Z & DATE & PCP\\_SUM & PCP\\_MAX & PCP\\_MAX3\\\\\n",
       "\t\\hline\n",
       "\t& String & Float64 & Float64 & Float64 & Date & Float64 & Float64 & Float64\\\\\n",
       "\t\\hline\n",
       "\t1 & 3350-07D & 0.0802391 & -0.325532 & 0.168267 & 2019-08-26 & 0.0 & 0.0 & 0.0 \\\\\n",
       "\t2 & 3350-07D & 0.0802391 & -0.325532 & 0.168267 & 2019-09-01 & 0.0 & 0.0 & 0.0 \\\\\n",
       "\t3 & 3260-01D & 1.29293 & 0.531312 & 0.0790333 & 2019-07-21 & 0.0 & 0.0 & 0.0 \\\\\n",
       "\t4 & 4240-01D & 1.28137 & 1.24035 & -1.19178 & 2019-06-20 & 0.0 & 0.0 & 0.0 \\\\\n",
       "\t5 & 3350-07D & 0.0802391 & -0.325532 & 0.168267 & 2019-09-13 & 0.0 & 0.0 & 0.0 \\\\\n",
       "\t6 & 4380-01D & -0.828933 & 0.658409 & -0.0467296 & 2019-09-12 & 0.0 & 0.0 & 0.0 \\\\\n",
       "\t7 & 3350-07D & 0.0802391 & -0.325532 & 0.168267 & 2019-09-24 & 0.0 & 0.0 & 0.0 \\\\\n",
       "\t8 & 4240-01D & 1.28137 & 1.24035 & -1.19178 & 2019-09-28 & 0.0 & 0.0 & 0.0 \\\\\n",
       "\t9 & 4350-01D & -0.465715 & 0.725081 & -0.0467296 & 2019-05-22 & 0.0 & 0.0 & 0.0 \\\\\n",
       "\t10 & 4350-01D & -0.465715 & 0.725081 & -0.0467296 & 2019-09-04 & 0.0 & 0.0 & 0.0 \\\\\n",
       "\\end{tabular}\n"
      ],
      "text/plain": [
       "10×8 DataFrame. Omitted printing of 2 columns\n",
       "│ Row │ ID_OUVRAGE │ TP_LAT    │ TP_LNG    │ TP_Z       │ DATE       │ PCP_SUM │\n",
       "│     │ \u001b[90mString\u001b[39m     │ \u001b[90mFloat64\u001b[39m   │ \u001b[90mFloat64\u001b[39m   │ \u001b[90mFloat64\u001b[39m    │ \u001b[90mDate\u001b[39m       │ \u001b[90mFloat64\u001b[39m │\n",
       "├─────┼────────────┼───────────┼───────────┼────────────┼────────────┼─────────┤\n",
       "│ 1   │ 3350-07D   │ 0.0802391 │ -0.325532 │ 0.168267   │ 2019-08-26 │ 0.0     │\n",
       "│ 2   │ 3350-07D   │ 0.0802391 │ -0.325532 │ 0.168267   │ 2019-09-01 │ 0.0     │\n",
       "│ 3   │ 3260-01D   │ 1.29293   │ 0.531312  │ 0.0790333  │ 2019-07-21 │ 0.0     │\n",
       "│ 4   │ 4240-01D   │ 1.28137   │ 1.24035   │ -1.19178   │ 2019-06-20 │ 0.0     │\n",
       "│ 5   │ 3350-07D   │ 0.0802391 │ -0.325532 │ 0.168267   │ 2019-09-13 │ 0.0     │\n",
       "│ 6   │ 4380-01D   │ -0.828933 │ 0.658409  │ -0.0467296 │ 2019-09-12 │ 0.0     │\n",
       "│ 7   │ 3350-07D   │ 0.0802391 │ -0.325532 │ 0.168267   │ 2019-09-24 │ 0.0     │\n",
       "│ 8   │ 4240-01D   │ 1.28137   │ 1.24035   │ -1.19178   │ 2019-09-28 │ 0.0     │\n",
       "│ 9   │ 4350-01D   │ -0.465715 │ 0.725081  │ -0.0467296 │ 2019-05-22 │ 0.0     │\n",
       "│ 10  │ 4350-01D   │ -0.465715 │ 0.725081  │ -0.0467296 │ 2019-09-04 │ 0.0     │"
      ]
     },
     "execution_count": 45,
     "metadata": {},
     "output_type": "execute_result"
    }
   ],
   "source": [
    "first(shuffleDf(test_comb), 10)"
   ]
  },
  {
   "cell_type": "markdown",
   "metadata": {},
   "source": [
    "#### Populate pcp"
   ]
  },
  {
   "cell_type": "code",
   "execution_count": 46,
   "metadata": {},
   "outputs": [],
   "source": [
    "for i=1:size(test_comb, 1)\n",
    "    id_ouvrage = test_comb[i, 1]; \n",
    "    closest_station = \"McTavish\"; # initial value\n",
    "    shortest_dist = -1;\n",
    "    \n",
    "    # Find closest station\n",
    "    for j=1:size(station_df, 1)\n",
    "        dist = findDistance(test_comb[i, :TP_LAT], test_comb[i, :TP_LNG], station_df[j, :LAT], station_df[j, :LNG]);\n",
    "        \n",
    "        if shortest_dist == -1 || dist < shortest_dist\n",
    "            shortest_dist = dist;\n",
    "            closest_station = station_df[j, :STATION];\n",
    "        end\n",
    "    end\n",
    "    \n",
    "    # Augment comb with a weighted p_sum, based on the distance to the station\n",
    "    p_sum = pcp_sum[∈([test_comb[i, :DATE]]).(pcp_sum.date), Symbol(closest_station)];\n",
    "#     test_comb[i, :PCP_SUM] = p_sum[1] * (1 - shortest_dist); \n",
    "    test_comb[i, :PCP_SUM] = p_sum[1]; \n",
    "    # Augment comb with a weighted p_max, based on the distance to the station\n",
    "    p_max = pcp_max[∈([test_comb[i, :DATE]]).(pcp_max.date), Symbol(closest_station)]\n",
    "#     test_comb[i, :PCP_MAX] = p_max[1] * (1 - shortest_dist);\n",
    "    test_comb[i, :PCP_MAX] = p_max[1];\n",
    "    # Augment comb with a weighted p_max3, based on the distance to the station\n",
    "    p_max3 = pcp_max3h[∈([test_comb[i, :DATE]]).(pcp_max3h.date), Symbol(closest_station)]\n",
    "#     test_comb[i, :PCP_MAX3] = p_max3[1] * (1 - shortest_dist);\n",
    "    test_comb[i, :PCP_MAX3] = p_max3[1];\n",
    "end"
   ]
  },
  {
   "cell_type": "code",
   "execution_count": 47,
   "metadata": {},
   "outputs": [
    {
     "data": {
      "text/html": [
       "<table class=\"data-frame\"><thead><tr><th></th><th>ID_OUVRAGE</th><th>TP_LAT</th><th>TP_LNG</th><th>TP_Z</th><th>DATE</th><th>PCP_SUM</th><th>PCP_MAX</th><th>PCP_MAX3</th></tr><tr><th></th><th>String</th><th>Float64</th><th>Float64</th><th>Float64</th><th>Date</th><th>Float64</th><th>Float64</th><th>Float64</th></tr></thead><tbody><p>10 rows × 8 columns</p><tr><th>1</th><td>4350-01D</td><td>-0.465715</td><td>0.725081</td><td>-0.0467296</td><td>2019-05-29</td><td>0.0</td><td>0.0</td><td>0.0</td></tr><tr><th>2</th><td>3350-07D</td><td>0.0802391</td><td>-0.325532</td><td>0.168267</td><td>2019-08-28</td><td>157.0</td><td>53.0</td><td>86.0</td></tr><tr><th>3</th><td>3260-01D</td><td>1.29293</td><td>0.531312</td><td>0.0790333</td><td>2019-07-28</td><td>0.0</td><td>0.0</td><td>0.0</td></tr><tr><th>4</th><td>4240-01D</td><td>1.28137</td><td>1.24035</td><td>-1.19178</td><td>2019-06-28</td><td>0.0</td><td>0.0</td><td>0.0</td></tr><tr><th>5</th><td>4380-01D</td><td>-0.828933</td><td>0.658409</td><td>-0.0467296</td><td>2019-05-08</td><td>0.0</td><td>0.0</td><td>0.0</td></tr><tr><th>6</th><td>4240-01D</td><td>1.28137</td><td>1.24035</td><td>-1.19178</td><td>2019-08-15</td><td>0.0</td><td>0.0</td><td>0.0</td></tr><tr><th>7</th><td>4240-01D</td><td>1.28137</td><td>1.24035</td><td>-1.19178</td><td>2019-06-01</td><td>0.0</td><td>0.0</td><td>0.0</td></tr><tr><th>8</th><td>3350-07D</td><td>0.0802391</td><td>-0.325532</td><td>0.168267</td><td>2019-05-27</td><td>0.0</td><td>0.0</td><td>0.0</td></tr><tr><th>9</th><td>4350-01D</td><td>-0.465715</td><td>0.725081</td><td>-0.0467296</td><td>2019-08-17</td><td>194.0</td><td>174.0</td><td>189.0</td></tr><tr><th>10</th><td>3350-07D</td><td>0.0802391</td><td>-0.325532</td><td>0.168267</td><td>2019-06-16</td><td>0.0</td><td>0.0</td><td>0.0</td></tr></tbody></table>"
      ],
      "text/latex": [
       "\\begin{tabular}{r|cccccccc}\n",
       "\t& ID\\_OUVRAGE & TP\\_LAT & TP\\_LNG & TP\\_Z & DATE & PCP\\_SUM & PCP\\_MAX & PCP\\_MAX3\\\\\n",
       "\t\\hline\n",
       "\t& String & Float64 & Float64 & Float64 & Date & Float64 & Float64 & Float64\\\\\n",
       "\t\\hline\n",
       "\t1 & 4350-01D & -0.465715 & 0.725081 & -0.0467296 & 2019-05-29 & 0.0 & 0.0 & 0.0 \\\\\n",
       "\t2 & 3350-07D & 0.0802391 & -0.325532 & 0.168267 & 2019-08-28 & 157.0 & 53.0 & 86.0 \\\\\n",
       "\t3 & 3260-01D & 1.29293 & 0.531312 & 0.0790333 & 2019-07-28 & 0.0 & 0.0 & 0.0 \\\\\n",
       "\t4 & 4240-01D & 1.28137 & 1.24035 & -1.19178 & 2019-06-28 & 0.0 & 0.0 & 0.0 \\\\\n",
       "\t5 & 4380-01D & -0.828933 & 0.658409 & -0.0467296 & 2019-05-08 & 0.0 & 0.0 & 0.0 \\\\\n",
       "\t6 & 4240-01D & 1.28137 & 1.24035 & -1.19178 & 2019-08-15 & 0.0 & 0.0 & 0.0 \\\\\n",
       "\t7 & 4240-01D & 1.28137 & 1.24035 & -1.19178 & 2019-06-01 & 0.0 & 0.0 & 0.0 \\\\\n",
       "\t8 & 3350-07D & 0.0802391 & -0.325532 & 0.168267 & 2019-05-27 & 0.0 & 0.0 & 0.0 \\\\\n",
       "\t9 & 4350-01D & -0.465715 & 0.725081 & -0.0467296 & 2019-08-17 & 194.0 & 174.0 & 189.0 \\\\\n",
       "\t10 & 3350-07D & 0.0802391 & -0.325532 & 0.168267 & 2019-06-16 & 0.0 & 0.0 & 0.0 \\\\\n",
       "\\end{tabular}\n"
      ],
      "text/plain": [
       "10×8 DataFrame. Omitted printing of 2 columns\n",
       "│ Row │ ID_OUVRAGE │ TP_LAT    │ TP_LNG    │ TP_Z       │ DATE       │ PCP_SUM │\n",
       "│     │ \u001b[90mString\u001b[39m     │ \u001b[90mFloat64\u001b[39m   │ \u001b[90mFloat64\u001b[39m   │ \u001b[90mFloat64\u001b[39m    │ \u001b[90mDate\u001b[39m       │ \u001b[90mFloat64\u001b[39m │\n",
       "├─────┼────────────┼───────────┼───────────┼────────────┼────────────┼─────────┤\n",
       "│ 1   │ 4350-01D   │ -0.465715 │ 0.725081  │ -0.0467296 │ 2019-05-29 │ 0.0     │\n",
       "│ 2   │ 3350-07D   │ 0.0802391 │ -0.325532 │ 0.168267   │ 2019-08-28 │ 157.0   │\n",
       "│ 3   │ 3260-01D   │ 1.29293   │ 0.531312  │ 0.0790333  │ 2019-07-28 │ 0.0     │\n",
       "│ 4   │ 4240-01D   │ 1.28137   │ 1.24035   │ -1.19178   │ 2019-06-28 │ 0.0     │\n",
       "│ 5   │ 4380-01D   │ -0.828933 │ 0.658409  │ -0.0467296 │ 2019-05-08 │ 0.0     │\n",
       "│ 6   │ 4240-01D   │ 1.28137   │ 1.24035   │ -1.19178   │ 2019-08-15 │ 0.0     │\n",
       "│ 7   │ 4240-01D   │ 1.28137   │ 1.24035   │ -1.19178   │ 2019-06-01 │ 0.0     │\n",
       "│ 8   │ 3350-07D   │ 0.0802391 │ -0.325532 │ 0.168267   │ 2019-05-27 │ 0.0     │\n",
       "│ 9   │ 4350-01D   │ -0.465715 │ 0.725081  │ -0.0467296 │ 2019-08-17 │ 194.0   │\n",
       "│ 10  │ 3350-07D   │ 0.0802391 │ -0.325532 │ 0.168267   │ 2019-06-16 │ 0.0     │"
      ]
     },
     "execution_count": 47,
     "metadata": {},
     "output_type": "execute_result"
    }
   ],
   "source": [
    "first(shuffleDf(test_comb), 10)"
   ]
  },
  {
   "cell_type": "markdown",
   "metadata": {},
   "source": [
    "### Standardize PCP"
   ]
  },
  {
   "cell_type": "code",
   "execution_count": 48,
   "metadata": {},
   "outputs": [],
   "source": [
    "test_comb.PCP_SUM = (test_comb.PCP_SUM .- mean_pcpsum) ./ std_pcpsum;\n",
    "test_comb.PCP_MAX = (test_comb.PCP_MAX .- mean_pcpmax) ./ std_pcpmax;\n",
    "test_comb.PCP_MAX3 = (test_comb.PCP_MAX3 .- mean_pcpmax3) ./ std_pcpmax3;"
   ]
  },
  {
   "cell_type": "code",
   "execution_count": 49,
   "metadata": {},
   "outputs": [
    {
     "data": {
      "text/html": [
       "<table class=\"data-frame\"><thead><tr><th></th><th>ID_OUVRAGE</th><th>TP_LAT</th><th>TP_LNG</th><th>TP_Z</th><th>DATE</th><th>PCP_SUM</th><th>PCP_MAX</th></tr><tr><th></th><th>String</th><th>Float64</th><th>Float64</th><th>Float64</th><th>Date</th><th>Float64</th><th>Float64</th></tr></thead><tbody><p>20 rows × 8 columns (omitted printing of 1 columns)</p><tr><th>1</th><td>3260-01D</td><td>1.29293</td><td>0.531312</td><td>0.0790333</td><td>2019-05-02</td><td>-0.0469042</td><td>-0.0325426</td></tr><tr><th>2</th><td>3260-01D</td><td>1.29293</td><td>0.531312</td><td>0.0790333</td><td>2019-05-09</td><td>0.808886</td><td>0.982661</td></tr><tr><th>3</th><td>3260-01D</td><td>1.29293</td><td>0.531312</td><td>0.0790333</td><td>2019-05-10</td><td>4.82974</td><td>1.6287</td></tr><tr><th>4</th><td>3260-01D</td><td>1.29293</td><td>0.531312</td><td>0.0790333</td><td>2019-05-15</td><td>-0.37292</td><td>-0.34018</td></tr><tr><th>5</th><td>3260-01D</td><td>1.29293</td><td>0.531312</td><td>0.0790333</td><td>2019-05-20</td><td>0.224775</td><td>0.828842</td></tr><tr><th>6</th><td>3260-01D</td><td>1.29293</td><td>0.531312</td><td>0.0790333</td><td>2019-05-23</td><td>1.97711</td><td>1.53641</td></tr><tr><th>7</th><td>3260-01D</td><td>1.29293</td><td>0.531312</td><td>0.0790333</td><td>2019-05-24</td><td>-0.223496</td><td>-0.124834</td></tr><tr><th>8</th><td>3260-01D</td><td>1.29293</td><td>0.531312</td><td>0.0790333</td><td>2019-05-26</td><td>-0.359336</td><td>-0.309416</td></tr><tr><th>9</th><td>3260-01D</td><td>1.29293</td><td>0.531312</td><td>0.0790333</td><td>2019-05-30</td><td>-0.305</td><td>-0.186361</td></tr><tr><th>10</th><td>3350-07D</td><td>0.0802391</td><td>-0.325532</td><td>0.168267</td><td>2019-05-01</td><td>0.238359</td><td>0.244331</td></tr><tr><th>11</th><td>3350-07D</td><td>0.0802391</td><td>-0.325532</td><td>0.168267</td><td>2019-05-02</td><td>-0.223496</td><td>-0.155598</td></tr><tr><th>12</th><td>3350-07D</td><td>0.0802391</td><td>-0.325532</td><td>0.168267</td><td>2019-05-08</td><td>-0.400087</td><td>-0.401707</td></tr><tr><th>13</th><td>3350-07D</td><td>0.0802391</td><td>-0.325532</td><td>0.168267</td><td>2019-05-09</td><td>0.768134</td><td>0.921133</td></tr><tr><th>14</th><td>3350-07D</td><td>0.0802391</td><td>-0.325532</td><td>0.168267</td><td>2019-05-10</td><td>3.47134</td><td>1.07495</td></tr><tr><th>15</th><td>3350-07D</td><td>0.0802391</td><td>-0.325532</td><td>0.168267</td><td>2019-05-11</td><td>-0.400087</td><td>-0.401707</td></tr><tr><th>16</th><td>3350-07D</td><td>0.0802391</td><td>-0.325532</td><td>0.168267</td><td>2019-05-13</td><td>-0.277832</td><td>-0.124834</td></tr><tr><th>17</th><td>3350-07D</td><td>0.0802391</td><td>-0.325532</td><td>0.168267</td><td>2019-05-14</td><td>1.01265</td><td>0.15204</td></tr><tr><th>18</th><td>3350-07D</td><td>0.0802391</td><td>-0.325532</td><td>0.168267</td><td>2019-05-18</td><td>-0.37292</td><td>-0.34018</td></tr><tr><th>19</th><td>3350-07D</td><td>0.0802391</td><td>-0.325532</td><td>0.168267</td><td>2019-05-19</td><td>0.374199</td><td>0.428913</td></tr><tr><th>20</th><td>3350-07D</td><td>0.0802391</td><td>-0.325532</td><td>0.168267</td><td>2019-05-20</td><td>0.319863</td><td>1.16724</td></tr></tbody></table>"
      ],
      "text/latex": [
       "\\begin{tabular}{r|cccccccc}\n",
       "\t& ID\\_OUVRAGE & TP\\_LAT & TP\\_LNG & TP\\_Z & DATE & PCP\\_SUM & PCP\\_MAX & \\\\\n",
       "\t\\hline\n",
       "\t& String & Float64 & Float64 & Float64 & Date & Float64 & Float64 & \\\\\n",
       "\t\\hline\n",
       "\t1 & 3260-01D & 1.29293 & 0.531312 & 0.0790333 & 2019-05-02 & -0.0469042 & -0.0325426 & $\\dots$ \\\\\n",
       "\t2 & 3260-01D & 1.29293 & 0.531312 & 0.0790333 & 2019-05-09 & 0.808886 & 0.982661 & $\\dots$ \\\\\n",
       "\t3 & 3260-01D & 1.29293 & 0.531312 & 0.0790333 & 2019-05-10 & 4.82974 & 1.6287 & $\\dots$ \\\\\n",
       "\t4 & 3260-01D & 1.29293 & 0.531312 & 0.0790333 & 2019-05-15 & -0.37292 & -0.34018 & $\\dots$ \\\\\n",
       "\t5 & 3260-01D & 1.29293 & 0.531312 & 0.0790333 & 2019-05-20 & 0.224775 & 0.828842 & $\\dots$ \\\\\n",
       "\t6 & 3260-01D & 1.29293 & 0.531312 & 0.0790333 & 2019-05-23 & 1.97711 & 1.53641 & $\\dots$ \\\\\n",
       "\t7 & 3260-01D & 1.29293 & 0.531312 & 0.0790333 & 2019-05-24 & -0.223496 & -0.124834 & $\\dots$ \\\\\n",
       "\t8 & 3260-01D & 1.29293 & 0.531312 & 0.0790333 & 2019-05-26 & -0.359336 & -0.309416 & $\\dots$ \\\\\n",
       "\t9 & 3260-01D & 1.29293 & 0.531312 & 0.0790333 & 2019-05-30 & -0.305 & -0.186361 & $\\dots$ \\\\\n",
       "\t10 & 3350-07D & 0.0802391 & -0.325532 & 0.168267 & 2019-05-01 & 0.238359 & 0.244331 & $\\dots$ \\\\\n",
       "\t11 & 3350-07D & 0.0802391 & -0.325532 & 0.168267 & 2019-05-02 & -0.223496 & -0.155598 & $\\dots$ \\\\\n",
       "\t12 & 3350-07D & 0.0802391 & -0.325532 & 0.168267 & 2019-05-08 & -0.400087 & -0.401707 & $\\dots$ \\\\\n",
       "\t13 & 3350-07D & 0.0802391 & -0.325532 & 0.168267 & 2019-05-09 & 0.768134 & 0.921133 & $\\dots$ \\\\\n",
       "\t14 & 3350-07D & 0.0802391 & -0.325532 & 0.168267 & 2019-05-10 & 3.47134 & 1.07495 & $\\dots$ \\\\\n",
       "\t15 & 3350-07D & 0.0802391 & -0.325532 & 0.168267 & 2019-05-11 & -0.400087 & -0.401707 & $\\dots$ \\\\\n",
       "\t16 & 3350-07D & 0.0802391 & -0.325532 & 0.168267 & 2019-05-13 & -0.277832 & -0.124834 & $\\dots$ \\\\\n",
       "\t17 & 3350-07D & 0.0802391 & -0.325532 & 0.168267 & 2019-05-14 & 1.01265 & 0.15204 & $\\dots$ \\\\\n",
       "\t18 & 3350-07D & 0.0802391 & -0.325532 & 0.168267 & 2019-05-18 & -0.37292 & -0.34018 & $\\dots$ \\\\\n",
       "\t19 & 3350-07D & 0.0802391 & -0.325532 & 0.168267 & 2019-05-19 & 0.374199 & 0.428913 & $\\dots$ \\\\\n",
       "\t20 & 3350-07D & 0.0802391 & -0.325532 & 0.168267 & 2019-05-20 & 0.319863 & 1.16724 & $\\dots$ \\\\\n",
       "\\end{tabular}\n"
      ],
      "text/plain": [
       "20×8 DataFrame. Omitted printing of 3 columns\n",
       "│ Row │ ID_OUVRAGE │ TP_LAT    │ TP_LNG    │ TP_Z      │ DATE       │\n",
       "│     │ \u001b[90mString\u001b[39m     │ \u001b[90mFloat64\u001b[39m   │ \u001b[90mFloat64\u001b[39m   │ \u001b[90mFloat64\u001b[39m   │ \u001b[90mDate\u001b[39m       │\n",
       "├─────┼────────────┼───────────┼───────────┼───────────┼────────────┤\n",
       "│ 1   │ 3260-01D   │ 1.29293   │ 0.531312  │ 0.0790333 │ 2019-05-02 │\n",
       "│ 2   │ 3260-01D   │ 1.29293   │ 0.531312  │ 0.0790333 │ 2019-05-09 │\n",
       "│ 3   │ 3260-01D   │ 1.29293   │ 0.531312  │ 0.0790333 │ 2019-05-10 │\n",
       "│ 4   │ 3260-01D   │ 1.29293   │ 0.531312  │ 0.0790333 │ 2019-05-15 │\n",
       "│ 5   │ 3260-01D   │ 1.29293   │ 0.531312  │ 0.0790333 │ 2019-05-20 │\n",
       "│ 6   │ 3260-01D   │ 1.29293   │ 0.531312  │ 0.0790333 │ 2019-05-23 │\n",
       "│ 7   │ 3260-01D   │ 1.29293   │ 0.531312  │ 0.0790333 │ 2019-05-24 │\n",
       "│ 8   │ 3260-01D   │ 1.29293   │ 0.531312  │ 0.0790333 │ 2019-05-26 │\n",
       "│ 9   │ 3260-01D   │ 1.29293   │ 0.531312  │ 0.0790333 │ 2019-05-30 │\n",
       "│ 10  │ 3350-07D   │ 0.0802391 │ -0.325532 │ 0.168267  │ 2019-05-01 │\n",
       "│ 11  │ 3350-07D   │ 0.0802391 │ -0.325532 │ 0.168267  │ 2019-05-02 │\n",
       "│ 12  │ 3350-07D   │ 0.0802391 │ -0.325532 │ 0.168267  │ 2019-05-08 │\n",
       "│ 13  │ 3350-07D   │ 0.0802391 │ -0.325532 │ 0.168267  │ 2019-05-09 │\n",
       "│ 14  │ 3350-07D   │ 0.0802391 │ -0.325532 │ 0.168267  │ 2019-05-10 │\n",
       "│ 15  │ 3350-07D   │ 0.0802391 │ -0.325532 │ 0.168267  │ 2019-05-11 │\n",
       "│ 16  │ 3350-07D   │ 0.0802391 │ -0.325532 │ 0.168267  │ 2019-05-13 │\n",
       "│ 17  │ 3350-07D   │ 0.0802391 │ -0.325532 │ 0.168267  │ 2019-05-14 │\n",
       "│ 18  │ 3350-07D   │ 0.0802391 │ -0.325532 │ 0.168267  │ 2019-05-18 │\n",
       "│ 19  │ 3350-07D   │ 0.0802391 │ -0.325532 │ 0.168267  │ 2019-05-19 │\n",
       "│ 20  │ 3350-07D   │ 0.0802391 │ -0.325532 │ 0.168267  │ 2019-05-20 │"
      ]
     },
     "execution_count": 49,
     "metadata": {},
     "output_type": "execute_result"
    }
   ],
   "source": [
    "first(test_comb, 20)"
   ]
  },
  {
   "cell_type": "markdown",
   "metadata": {},
   "source": [
    "#### Split dates into month and day"
   ]
  },
  {
   "cell_type": "code",
   "execution_count": 50,
   "metadata": {},
   "outputs": [
    {
     "data": {
      "text/html": [
       "<table class=\"data-frame\"><thead><tr><th></th><th>DATE</th><th>MONTH</th><th>DAY</th></tr><tr><th></th><th>Date</th><th>Int64</th><th>Int64</th></tr></thead><tbody><p>5 rows × 3 columns</p><tr><th>1</th><td>2019-07-30</td><td>7</td><td>30</td></tr><tr><th>2</th><td>2019-07-10</td><td>7</td><td>10</td></tr><tr><th>3</th><td>2019-08-12</td><td>8</td><td>12</td></tr><tr><th>4</th><td>2019-07-10</td><td>7</td><td>10</td></tr><tr><th>5</th><td>2019-07-23</td><td>7</td><td>23</td></tr></tbody></table>"
      ],
      "text/latex": [
       "\\begin{tabular}{r|ccc}\n",
       "\t& DATE & MONTH & DAY\\\\\n",
       "\t\\hline\n",
       "\t& Date & Int64 & Int64\\\\\n",
       "\t\\hline\n",
       "\t1 & 2019-07-30 & 7 & 30 \\\\\n",
       "\t2 & 2019-07-10 & 7 & 10 \\\\\n",
       "\t3 & 2019-08-12 & 8 & 12 \\\\\n",
       "\t4 & 2019-07-10 & 7 & 10 \\\\\n",
       "\t5 & 2019-07-23 & 7 & 23 \\\\\n",
       "\\end{tabular}\n"
      ],
      "text/plain": [
       "5×3 DataFrame\n",
       "│ Row │ DATE       │ MONTH │ DAY   │\n",
       "│     │ \u001b[90mDate\u001b[39m       │ \u001b[90mInt64\u001b[39m │ \u001b[90mInt64\u001b[39m │\n",
       "├─────┼────────────┼───────┼───────┤\n",
       "│ 1   │ 2019-07-30 │ 7     │ 30    │\n",
       "│ 2   │ 2019-07-10 │ 7     │ 10    │\n",
       "│ 3   │ 2019-08-12 │ 8     │ 12    │\n",
       "│ 4   │ 2019-07-10 │ 7     │ 10    │\n",
       "│ 5   │ 2019-07-23 │ 7     │ 23    │"
      ]
     },
     "execution_count": 50,
     "metadata": {},
     "output_type": "execute_result"
    }
   ],
   "source": [
    "test_comb.MONTH = month.(test_comb.DATE);\n",
    "test_comb.DAY = day.(test_comb.DATE);\n",
    "\n",
    "first(shuffleDf(test_comb[!, [:DATE, :MONTH, :DAY]]), 5)"
   ]
  },
  {
   "cell_type": "markdown",
   "metadata": {},
   "source": [
    "#### Standardize months and days"
   ]
  },
  {
   "cell_type": "code",
   "execution_count": 51,
   "metadata": {},
   "outputs": [],
   "source": [
    "test_comb.MONTH = (test_comb.MONTH .- meanmonth) ./ stdmonth;\n",
    "test_comb.DAY = (test_comb.DAY .- meanday) ./ stdday;"
   ]
  },
  {
   "cell_type": "code",
   "execution_count": 52,
   "metadata": {},
   "outputs": [
    {
     "data": {
      "text/html": [
       "<table class=\"data-frame\"><thead><tr><th></th><th>ID_OUVRAGE</th><th>TP_LAT</th><th>TP_LNG</th><th>TP_Z</th><th>MONTH</th><th>DAY</th><th>PCP_SUM</th><th>PCP_MAX</th></tr><tr><th></th><th>String</th><th>Float64</th><th>Float64</th><th>Float64</th><th>Float64</th><th>Float64</th><th>Float64</th><th>Float64</th></tr></thead><tbody><p>5 rows × 9 columns (omitted printing of 1 columns)</p><tr><th>1</th><td>4350-01D</td><td>-0.465715</td><td>0.725081</td><td>-0.0467296</td><td>0.293667</td><td>0.356584</td><td>-0.400087</td><td>-0.401707</td></tr><tr><th>2</th><td>3350-07D</td><td>0.0802391</td><td>-0.325532</td><td>0.168267</td><td>-0.875331</td><td>-1.33819</td><td>-0.400087</td><td>-0.401707</td></tr><tr><th>3</th><td>4350-01D</td><td>-0.465715</td><td>0.725081</td><td>-0.0467296</td><td>0.878166</td><td>-1.11222</td><td>-0.400087</td><td>-0.401707</td></tr><tr><th>4</th><td>4350-01D</td><td>-0.465715</td><td>0.725081</td><td>-0.0467296</td><td>-0.290832</td><td>-1.11222</td><td>-0.264248</td><td>-0.155598</td></tr><tr><th>5</th><td>3350-07D</td><td>0.0802391</td><td>-0.325532</td><td>0.168267</td><td>-0.290832</td><td>-0.88625</td><td>-0.400087</td><td>-0.401707</td></tr></tbody></table>"
      ],
      "text/latex": [
       "\\begin{tabular}{r|ccccccccc}\n",
       "\t& ID\\_OUVRAGE & TP\\_LAT & TP\\_LNG & TP\\_Z & MONTH & DAY & PCP\\_SUM & PCP\\_MAX & \\\\\n",
       "\t\\hline\n",
       "\t& String & Float64 & Float64 & Float64 & Float64 & Float64 & Float64 & Float64 & \\\\\n",
       "\t\\hline\n",
       "\t1 & 4350-01D & -0.465715 & 0.725081 & -0.0467296 & 0.293667 & 0.356584 & -0.400087 & -0.401707 & $\\dots$ \\\\\n",
       "\t2 & 3350-07D & 0.0802391 & -0.325532 & 0.168267 & -0.875331 & -1.33819 & -0.400087 & -0.401707 & $\\dots$ \\\\\n",
       "\t3 & 4350-01D & -0.465715 & 0.725081 & -0.0467296 & 0.878166 & -1.11222 & -0.400087 & -0.401707 & $\\dots$ \\\\\n",
       "\t4 & 4350-01D & -0.465715 & 0.725081 & -0.0467296 & -0.290832 & -1.11222 & -0.264248 & -0.155598 & $\\dots$ \\\\\n",
       "\t5 & 3350-07D & 0.0802391 & -0.325532 & 0.168267 & -0.290832 & -0.88625 & -0.400087 & -0.401707 & $\\dots$ \\\\\n",
       "\\end{tabular}\n"
      ],
      "text/plain": [
       "5×9 DataFrame. Omitted printing of 3 columns\n",
       "│ Row │ ID_OUVRAGE │ TP_LAT    │ TP_LNG    │ TP_Z       │ MONTH     │ DAY      │\n",
       "│     │ \u001b[90mString\u001b[39m     │ \u001b[90mFloat64\u001b[39m   │ \u001b[90mFloat64\u001b[39m   │ \u001b[90mFloat64\u001b[39m    │ \u001b[90mFloat64\u001b[39m   │ \u001b[90mFloat64\u001b[39m  │\n",
       "├─────┼────────────┼───────────┼───────────┼────────────┼───────────┼──────────┤\n",
       "│ 1   │ 4350-01D   │ -0.465715 │ 0.725081  │ -0.0467296 │ 0.293667  │ 0.356584 │\n",
       "│ 2   │ 3350-07D   │ 0.0802391 │ -0.325532 │ 0.168267   │ -0.875331 │ -1.33819 │\n",
       "│ 3   │ 4350-01D   │ -0.465715 │ 0.725081  │ -0.0467296 │ 0.878166  │ -1.11222 │\n",
       "│ 4   │ 4350-01D   │ -0.465715 │ 0.725081  │ -0.0467296 │ -0.290832 │ -1.11222 │\n",
       "│ 5   │ 3350-07D   │ 0.0802391 │ -0.325532 │ 0.168267   │ -0.290832 │ -0.88625 │"
      ]
     },
     "execution_count": 52,
     "metadata": {},
     "output_type": "execute_result"
    }
   ],
   "source": [
    "first(shuffleDf(test_comb[!, [:ID_OUVRAGE, :TP_LAT, :TP_LNG, :TP_Z, :MONTH, :DAY, :PCP_SUM, :PCP_MAX, :PCP_MAX3]]), 5)"
   ]
  },
  {
   "cell_type": "markdown",
   "metadata": {},
   "source": [
    "### Create Test features"
   ]
  },
  {
   "cell_type": "code",
   "execution_count": 53,
   "metadata": {},
   "outputs": [
    {
     "data": {
      "text/plain": [
       "283×8 Array{Float64,2}:\n",
       "  1.29293     0.531312   0.0790333  …  -0.0469042  -0.0325426   0.0430963\n",
       "  1.29293     0.531312   0.0790333      0.808886    0.982661    1.41166  \n",
       "  1.29293     0.531312   0.0790333      4.82974     1.6287      2.75979  \n",
       "  1.29293     0.531312   0.0790333     -0.37292    -0.34018    -0.365429 \n",
       "  1.29293     0.531312   0.0790333      0.224775    0.828842    0.492474 \n",
       "  1.29293     0.531312   0.0790333  …   1.97711     1.53641     2.51467  \n",
       "  1.29293     0.531312   0.0790333     -0.223496   -0.124834   -0.181592 \n",
       "  1.29293     0.531312   0.0790333     -0.359336   -0.309416   -0.345002 \n",
       "  1.29293     0.531312   0.0790333     -0.305      -0.186361   -0.263297 \n",
       "  0.0802391  -0.325532   0.168267       0.238359    0.244331    0.431195 \n",
       "  0.0802391  -0.325532   0.168267   …  -0.223496   -0.155598   -0.181592 \n",
       "  0.0802391  -0.325532   0.168267      -0.400087   -0.401707   -0.406281 \n",
       "  0.0802391  -0.325532   0.168267       0.768134    0.921133    1.35038  \n",
       "  ⋮                                 ⋱   ⋮                                \n",
       " -0.828933    0.658409  -0.0467296     -0.400087   -0.401707   -0.406281 \n",
       " -0.828933    0.658409  -0.0467296      4.38147     1.47488     2.59638  \n",
       " -0.828933    0.658409  -0.0467296      2.68347     3.47452     3.51556  \n",
       " -0.828933    0.658409  -0.0467296     -0.400087   -0.401707   -0.406281 \n",
       " -0.828933    0.658409  -0.0467296  …  -0.400087   -0.401707   -0.406281 \n",
       " -0.828933    0.658409  -0.0467296     -0.400087   -0.401707   -0.406281 \n",
       " -0.828933    0.658409  -0.0467296     -0.400087   -0.401707   -0.406281 \n",
       " -0.828933    0.658409  -0.0467296     -0.400087   -0.401707   -0.406281 \n",
       " -0.828933    0.658409  -0.0467296      1.12132     0.64426     1.26867  \n",
       " -0.828933    0.658409  -0.0467296  …   0.347031    0.121276    0.308638 \n",
       " -0.828933    0.658409  -0.0467296     -0.37292    -0.34018    -0.365429 \n",
       " -0.828933    0.658409  -0.0467296     -0.400087   -0.401707   -0.406281 "
      ]
     },
     "execution_count": 53,
     "metadata": {},
     "output_type": "execute_result"
    }
   ],
   "source": [
    "test_features = convert(Matrix{Float64}, test_comb[:, names_ft])"
   ]
  },
  {
   "cell_type": "markdown",
   "metadata": {},
   "source": [
    "## Predict"
   ]
  },
  {
   "cell_type": "code",
   "execution_count": 54,
   "metadata": {},
   "outputs": [
    {
     "data": {
      "text/plain": [
       "283-element Array{Int64,1}:\n",
       " 0\n",
       " 0\n",
       " 1\n",
       " 0\n",
       " 0\n",
       " 0\n",
       " 0\n",
       " 0\n",
       " 0\n",
       " 0\n",
       " 0\n",
       " 0\n",
       " 0\n",
       " ⋮\n",
       " 0\n",
       " 0\n",
       " 0\n",
       " 0\n",
       " 0\n",
       " 0\n",
       " 0\n",
       " 0\n",
       " 0\n",
       " 0\n",
       " 0\n",
       " 0"
      ]
     },
     "execution_count": 54,
     "metadata": {},
     "output_type": "execute_result"
    }
   ],
   "source": [
    "test_labels = LIBSVM.predict(val_model, test_features)"
   ]
  },
  {
   "cell_type": "markdown",
   "metadata": {},
   "source": [
    "## Generate submission"
   ]
  },
  {
   "cell_type": "code",
   "execution_count": 55,
   "metadata": {},
   "outputs": [
    {
     "data": {
      "text/plain": [
       "\"submissions/mc-submission-11.csv\""
      ]
     },
     "execution_count": 55,
     "metadata": {},
     "output_type": "execute_result"
    }
   ],
   "source": [
    "ID = test_comb[:,:ID_OUVRAGE].*\"_\".*string.(test_comb[:,:DATE])\n",
    "sampleSubmission = DataFrame(ID = ID, Surverse=test_labels)\n",
    "CSV.write(\"submissions/mc-submission-11.csv\",sampleSubmission)"
   ]
  }
 ],
 "metadata": {
  "kernelspec": {
   "display_name": "Julia 1.2.0",
   "language": "julia",
   "name": "julia-1.2"
  },
  "language_info": {
   "file_extension": ".jl",
   "mimetype": "application/julia",
   "name": "julia",
   "version": "1.0.5"
  }
 },
 "nbformat": 4,
 "nbformat_minor": 2
}
