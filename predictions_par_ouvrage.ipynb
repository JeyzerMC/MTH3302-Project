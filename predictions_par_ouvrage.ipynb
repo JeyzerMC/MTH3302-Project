{
 "cells": [
  {
   "cell_type": "code",
   "execution_count": null,
   "metadata": {},
   "outputs": [],
   "source": [
    "using CSV, DataFrames, GLM, Statistics, Dates, Gadfly, Random, MLBase, DecisionTree;\n",
    "include(\"utils/precipitation.jl\");\n",
    "include(\"utils/random-forest.jl\");\n",
    "include(\"utils/reg-log.jl\");"
   ]
  },
  {
   "cell_type": "code",
   "execution_count": null,
   "metadata": {},
   "outputs": [],
   "source": [
    "no_soumission = 24;"
   ]
  },
  {
   "cell_type": "code",
   "execution_count": null,
   "metadata": {
    "scrolled": true
   },
   "outputs": [],
   "source": [
    "function partitionTrainTest(data, at = 0.8) # https://discourse.julialang.org/t/simple-tool-for-train-test-split/473/2\n",
    "    n = nrow(data)\n",
    "    idx = shuffle(1:n)\n",
    "    train_idx = view(idx, 1:floor(Int, at*n))\n",
    "    test_idx = view(idx, (floor(Int, at*n)+1):n)\n",
    "    return data[train_idx,:], data[test_idx,:]\n",
    "end"
   ]
  },
  {
   "cell_type": "code",
   "execution_count": null,
   "metadata": {},
   "outputs": [],
   "source": [
    "val_form = @formula(SURVERSE ~ FS_sum + FS_max + FS_max3 +\n",
    "                               SS_sum + SS_max + SS_max3);"
   ]
  },
  {
   "cell_type": "code",
   "execution_count": null,
   "metadata": {},
   "outputs": [],
   "source": [
    "names_ft = [:FS_sum, :FS_max, :FS_max3,\n",
    "            :SS_sum, :SS_max, :SS_max3];"
   ]
  },
  {
   "cell_type": "markdown",
   "metadata": {},
   "source": [
    "## Ouvrage 3260"
   ]
  },
  {
   "cell_type": "code",
   "execution_count": null,
   "metadata": {},
   "outputs": [],
   "source": [
    "data_set_3260 = CSV.read(\"data/parsed/oversampled/ouvrage_3260.csv\");\n",
    "train_set_3260, val_set_3260 = partitionTrainTest(data_set_3260);\n",
    "val_labels_3260 = val_set_3260[!, :SURVERSE];\n",
    "size(data_set_3260)"
   ]
  },
  {
   "cell_type": "markdown",
   "metadata": {},
   "source": [
    "#### Train GLM"
   ]
  },
  {
   "cell_type": "code",
   "execution_count": null,
   "metadata": {},
   "outputs": [],
   "source": [
    "val_model_glm_3260 = glm(val_form, train_set_3260, Bernoulli(), LogitLink())\n",
    "val_pred_glm_3260 = GLM.predict(val_model_glm_3260, val_set_3260);\n",
    "\n",
    "evaluate_threshold(val_pred_glm_3260, val_labels_3260, 0.5) "
   ]
  },
  {
   "cell_type": "markdown",
   "metadata": {},
   "source": [
    "#### Train Decision Tree "
   ]
  },
  {
   "cell_type": "code",
   "execution_count": null,
   "metadata": {},
   "outputs": [],
   "source": [
    "train_features_3260 = convert(Matrix{Float64}, train_set_3260[:, names_ft]);\n",
    "train_labels_3260 = convert(Array{Int64}, train_set_3260[!,:SURVERSE]);\n",
    "\n",
    "dt_model_3260 = build_tree(train_labels_3260, train_features_3260);\n",
    "dt_model_3260 = prune_tree(dt_model_3260, 0.9)"
   ]
  },
  {
   "cell_type": "code",
   "execution_count": null,
   "metadata": {},
   "outputs": [],
   "source": [
    "val_features_3260 = convert(Matrix{Float64}, val_set_3260[:, names_ft]);\n",
    "val_labels_3260 = convert(Array{Int64}, val_set_3260[!,:SURVERSE]);\n",
    "\n",
    "val_pred_dt_3260 = apply_tree(dt_model_3260, val_features_3260);\n",
    "r = roc(val_labels_3260, val_pred_dt_3260);\n",
    "f1score(r)"
   ]
  },
  {
   "cell_type": "markdown",
   "metadata": {},
   "source": [
    "#### Randon forest"
   ]
  },
  {
   "cell_type": "code",
   "execution_count": null,
   "metadata": {},
   "outputs": [],
   "source": [
    "estimated_params_3260 = [5, 100, 80, 21];\n",
    "get_rf_direct(train_set_3260, val_set_3260, names_ft, estimated_params_3260)"
   ]
  },
  {
   "cell_type": "markdown",
   "metadata": {},
   "source": [
    "#### Train ensemble model"
   ]
  },
  {
   "cell_type": "markdown",
   "metadata": {},
   "source": [
    "Combine them"
   ]
  },
  {
   "cell_type": "code",
   "execution_count": null,
   "metadata": {},
   "outputs": [],
   "source": [
    "val_pred_rf_3260 = get_rf_probas(train_set_3260, val_set_3260, names_ft, estimated_params_3260);\n",
    "val_pred_3260 = (val_pred_glm_3260 + val_pred_rf_3260[:, 2]) ./ 2;\n",
    "evaluate_threshold(val_pred_3260, val_labels_3260, 0.5) "
   ]
  },
  {
   "cell_type": "markdown",
   "metadata": {},
   "source": [
    "#### Get full model"
   ]
  },
  {
   "cell_type": "code",
   "execution_count": null,
   "metadata": {},
   "outputs": [],
   "source": [
    "test_set_3260 = CSV.read(\"data/parsed/test_3260.csv\");\n",
    "size(test_set_3260)"
   ]
  },
  {
   "cell_type": "code",
   "execution_count": null,
   "metadata": {},
   "outputs": [],
   "source": [
    "test_model_glm_3260 = glm(val_form, data_set_3260, Bernoulli(), LogitLink());\n",
    "test_pred_glm_3260 = GLM.predict(test_model_glm_3260, test_set_3260);\n",
    "test_pred_rf_3260 = get_rf_probas(data_set_3260, test_set_3260, names_ft, estimated_params_3260);\n",
    "test_pred_3260 = (test_pred_glm_3260 + test_pred_rf_3260[:, 2]) ./ 2;\n",
    "test_pred_3260[test_pred_3260 .>= 0.5] .= 1.0;\n",
    "test_pred_3260[test_pred_3260 .< 0.5] .= 0.0;\n",
    "test_pred_3260 = convert(Array{Int}, trunc.(test_pred_3260));"
   ]
  },
  {
   "cell_type": "markdown",
   "metadata": {},
   "source": [
    "#### Get prediction for ouvrage 3260"
   ]
  },
  {
   "cell_type": "code",
   "execution_count": null,
   "metadata": {},
   "outputs": [],
   "source": [
    "pred_3260 = test_set_3260;\n",
    "pred_3260[!, :SURVERSE] = test_pred_3260;\n",
    "vis_ft = [:DATE, :SURVERSE, :FS_sum, :FS_max, :SS_sum, :SS_max];\n",
    "first(pred_3260[!, vis_ft], 10)"
   ]
  },
  {
   "cell_type": "markdown",
   "metadata": {},
   "source": [
    "## Ouvrage 3350"
   ]
  },
  {
   "cell_type": "code",
   "execution_count": null,
   "metadata": {},
   "outputs": [],
   "source": [
    "data_set_3350 = CSV.read(\"data/parsed/oversampled/ouvrage_3350.csv\");\n",
    "train_set_3350, val_set_3350 = partitionTrainTest(data_set_3350);\n",
    "val_labels_3350 = val_set_3350[!, :SURVERSE];\n",
    "size(data_set_3350)"
   ]
  },
  {
   "cell_type": "markdown",
   "metadata": {},
   "source": [
    "#### Train GLM"
   ]
  },
  {
   "cell_type": "code",
   "execution_count": null,
   "metadata": {},
   "outputs": [],
   "source": [
    "val_model_glm_3350 = glm(val_form, train_set_3350, Bernoulli(), LogitLink())\n",
    "val_pred_glm_3350 = GLM.predict(val_model_glm_3350, val_set_3350);\n",
    "\n",
    "evaluate_threshold(val_pred_glm_3350, val_labels_3350, 0.5) "
   ]
  },
  {
   "cell_type": "markdown",
   "metadata": {},
   "source": [
    "#### Train Decision Tree "
   ]
  },
  {
   "cell_type": "code",
   "execution_count": null,
   "metadata": {},
   "outputs": [],
   "source": [
    "train_features_3350 = convert(Matrix{Float64}, train_set_3350[:, names_ft]);\n",
    "train_labels_3350 = convert(Array{Int64}, train_set_3350[!,:SURVERSE]);\n",
    "\n",
    "dt_model_3350 = build_tree(train_labels_3350, train_features_3350);\n",
    "dt_model_3350 = prune_tree(dt_model_3350, 0.9)"
   ]
  },
  {
   "cell_type": "code",
   "execution_count": null,
   "metadata": {},
   "outputs": [],
   "source": [
    "val_features_3350 = convert(Matrix{Float64}, val_set_3350[:, names_ft]);\n",
    "val_labels_3350 = convert(Array{Int64}, val_set_3350[!,:SURVERSE]);\n",
    "\n",
    "val_pred_dt_3350 = apply_tree(dt_model_3350, val_features_3350);\n",
    "r = roc(val_labels_3350, val_pred_dt_3350);\n",
    "f1score(r)"
   ]
  },
  {
   "cell_type": "markdown",
   "metadata": {},
   "source": [
    "#### Train Random Forest"
   ]
  },
  {
   "cell_type": "code",
   "execution_count": null,
   "metadata": {
    "scrolled": true
   },
   "outputs": [],
   "source": [
    "estimated_params_3350 = [5, 100, 80, 33];\n",
    "get_rf_direct(train_set_3350, val_set_3350, names_ft, estimated_params_3350)"
   ]
  },
  {
   "cell_type": "code",
   "execution_count": null,
   "metadata": {},
   "outputs": [],
   "source": [
    "val_pred_rf_3350 = get_rf_probas(train_set_3350, val_set_3350, names_ft, estimated_params_3350);"
   ]
  },
  {
   "cell_type": "markdown",
   "metadata": {},
   "source": [
    "#### Train ensemble model"
   ]
  },
  {
   "cell_type": "markdown",
   "metadata": {},
   "source": [
    "Combine them"
   ]
  },
  {
   "cell_type": "code",
   "execution_count": null,
   "metadata": {},
   "outputs": [],
   "source": [
    "val_pred_3350 = (val_pred_glm_3350 + val_pred_rf_3350[:, 2]) ./ 2;\n",
    "evaluate_threshold(val_pred_3350, val_labels_3350, 0.5) "
   ]
  },
  {
   "cell_type": "markdown",
   "metadata": {},
   "source": [
    "#### Get full model"
   ]
  },
  {
   "cell_type": "code",
   "execution_count": null,
   "metadata": {},
   "outputs": [],
   "source": [
    "test_set_3350 = CSV.read(\"data/parsed/test_3350.csv\");\n",
    "size(test_set_3350)"
   ]
  },
  {
   "cell_type": "code",
   "execution_count": null,
   "metadata": {},
   "outputs": [],
   "source": [
    "test_model_glm_3350 = glm(val_form, data_set_3350, Bernoulli(), LogitLink());\n",
    "test_pred_glm_3350 = GLM.predict(test_model_glm_3350, test_set_3350);\n",
    "test_pred_rf_3350 = get_rf_probas(data_set_3350, test_set_3350, names_ft, estimated_params_3350);\n",
    "test_pred_3350 = (test_pred_glm_3350 + test_pred_rf_3350[:, 2]) ./ 2;\n",
    "test_pred_3350[test_pred_3350 .>= 0.5] .= 1.0;\n",
    "test_pred_3350[test_pred_3350 .< 0.5] .= 0.0;\n",
    "test_pred_3350 = convert(Array{Int}, trunc.(test_pred_3350));"
   ]
  },
  {
   "cell_type": "markdown",
   "metadata": {},
   "source": [
    "#### Get prediction for ouvrage 3350"
   ]
  },
  {
   "cell_type": "code",
   "execution_count": null,
   "metadata": {},
   "outputs": [],
   "source": [
    "pred_3350 = test_set_3350;\n",
    "pred_3350[!, :SURVERSE] = test_pred_3350;\n",
    "vis_ft = [:DATE, :SURVERSE, :FS_sum, :FS_max3, :SS_sum, :SS_max3];\n",
    "first(pred_3350[!, vis_ft], 10)"
   ]
  },
  {
   "cell_type": "markdown",
   "metadata": {},
   "source": [
    "## Ouvrage 4240"
   ]
  },
  {
   "cell_type": "code",
   "execution_count": null,
   "metadata": {},
   "outputs": [],
   "source": [
    "data_set_4240 = CSV.read(\"data/parsed/oversampled/ouvrage_4240.csv\");\n",
    "train_set_4240, val_set_4240 = partitionTrainTest(data_set_4240);\n",
    "val_labels_4240 = val_set_4240[!, :SURVERSE];\n",
    "size(data_set_4240)"
   ]
  },
  {
   "cell_type": "markdown",
   "metadata": {},
   "source": [
    "#### Train GLM"
   ]
  },
  {
   "cell_type": "code",
   "execution_count": null,
   "metadata": {},
   "outputs": [],
   "source": [
    "val_model_glm_4240 = glm(val_form, train_set_4240, Bernoulli(), LogitLink())\n",
    "val_pred_glm_4240 = GLM.predict(val_model_glm_4240, val_set_4240);\n",
    "\n",
    "evaluate_threshold(val_pred_glm_4240, val_labels_4240, 0.5) "
   ]
  },
  {
   "cell_type": "markdown",
   "metadata": {},
   "source": [
    "#### Train Decision Tree "
   ]
  },
  {
   "cell_type": "code",
   "execution_count": null,
   "metadata": {},
   "outputs": [],
   "source": [
    "train_features_4240 = convert(Matrix{Float64}, train_set_4240[:, names_ft]);\n",
    "train_labels_4240 = convert(Array{Int64}, train_set_4240[!,:SURVERSE]);\n",
    "\n",
    "dt_model_4240 = build_tree(train_labels_4240, train_features_4240);\n",
    "dt_model_4240 = prune_tree(dt_model_4240, 0.9)"
   ]
  },
  {
   "cell_type": "code",
   "execution_count": null,
   "metadata": {},
   "outputs": [],
   "source": [
    "val_features_4240 = convert(Matrix{Float64}, val_set_4240[:, names_ft]);\n",
    "val_labels_4240 = convert(Array{Int64}, val_set_4240[!,:SURVERSE]);\n",
    "\n",
    "val_pred_dt_4240 = apply_tree(dt_model_4240, val_features_4240);\n",
    "r = roc(val_labels_4240, val_pred_dt_4240);\n",
    "f1score(r)"
   ]
  },
  {
   "cell_type": "markdown",
   "metadata": {},
   "source": [
    "#### Train Random Forest"
   ]
  },
  {
   "cell_type": "code",
   "execution_count": null,
   "metadata": {
    "scrolled": true
   },
   "outputs": [],
   "source": [
    "estimated_params_4240 = [5, 100, 80, 20];\n",
    "get_rf_direct(train_set_4240, val_set_4240, names_ft, estimated_params_4240)"
   ]
  },
  {
   "cell_type": "code",
   "execution_count": null,
   "metadata": {},
   "outputs": [],
   "source": [
    "val_pred_rf_4240 = get_rf_probas(train_set_4240, val_set_4240, names_ft, estimated_params_4240);"
   ]
  },
  {
   "cell_type": "markdown",
   "metadata": {},
   "source": [
    "#### Train ensemble model"
   ]
  },
  {
   "cell_type": "markdown",
   "metadata": {},
   "source": [
    "Combine them"
   ]
  },
  {
   "cell_type": "code",
   "execution_count": null,
   "metadata": {},
   "outputs": [],
   "source": [
    "val_pred_4240 = (val_pred_glm_4240 + val_pred_rf_4240[:, 2]) ./ 2;\n",
    "evaluate_threshold(val_pred_4240, val_labels_4240, 0.5) "
   ]
  },
  {
   "cell_type": "markdown",
   "metadata": {},
   "source": [
    "#### Get full model"
   ]
  },
  {
   "cell_type": "code",
   "execution_count": null,
   "metadata": {},
   "outputs": [],
   "source": [
    "test_set_4240 = CSV.read(\"data/parsed/test_4240.csv\");\n",
    "size(test_set_4240)"
   ]
  },
  {
   "cell_type": "code",
   "execution_count": null,
   "metadata": {},
   "outputs": [],
   "source": [
    "test_pred_rf_4240 = get_rf_probas(data_set_4240, test_set_4240, names_ft, estimated_params_4240);\n",
    "test_pred_4240 = (test_pred_glm_4240 + test_pred_rf_4240[:, 2]) ./ 2;\n",
    "test_pred_4240[test_pred_4240 .>= 0.5] .= 1.0;\n",
    "test_pred_4240[test_pred_4240 .< 0.5] .= 0.0;\n",
    "test_pred_4240 = convert(Array{Int}, trunc.(test_pred_4240));"
   ]
  },
  {
   "cell_type": "markdown",
   "metadata": {},
   "source": [
    "#### Get prediction for ouvrage 4240"
   ]
  },
  {
   "cell_type": "code",
   "execution_count": null,
   "metadata": {},
   "outputs": [],
   "source": [
    "pred_4240 = test_set_4240;\n",
    "pred_4240[!, :SURVERSE] = test_pred_4240;\n",
    "vis_ft = [:DATE, :SURVERSE, :FS_sum, :FS_max3, :SS_sum, :SS_max3];\n",
    "first(pred_4240[!, vis_ft], 10)"
   ]
  },
  {
   "cell_type": "markdown",
   "metadata": {},
   "source": [
    "## Ouvrage 4350"
   ]
  },
  {
   "cell_type": "code",
   "execution_count": null,
   "metadata": {},
   "outputs": [],
   "source": [
    "data_set_4350 = CSV.read(\"data/parsed/oversampled/ouvrage_4350.csv\");\n",
    "train_set_4350, val_set_4350 = partitionTrainTest(data_set_4350);\n",
    "val_labels_4350 = val_set_4350[!, :SURVERSE];\n",
    "size(data_set_4350)"
   ]
  },
  {
   "cell_type": "markdown",
   "metadata": {},
   "source": [
    "#### Train GLM"
   ]
  },
  {
   "cell_type": "code",
   "execution_count": null,
   "metadata": {},
   "outputs": [],
   "source": [
    "val_model_glm_4350 = glm(val_form, train_set_4350, Bernoulli(), LogitLink())\n",
    "val_pred_glm_4350 = GLM.predict(val_model_glm_4350, val_set_4350);\n",
    "\n",
    "evaluate_threshold(val_pred_glm_4350, val_labels_4350, 0.5) "
   ]
  },
  {
   "cell_type": "markdown",
   "metadata": {},
   "source": [
    "#### Train Decision Tree "
   ]
  },
  {
   "cell_type": "code",
   "execution_count": null,
   "metadata": {},
   "outputs": [],
   "source": [
    "train_features_4350 = convert(Matrix{Float64}, train_set_4350[:, names_ft]);\n",
    "train_labels_4350 = convert(Array{Int64}, train_set_4350[!,:SURVERSE]);\n",
    "\n",
    "dt_model_4350 = build_tree(train_labels_4350, train_features_4350);\n",
    "dt_model_4350 = prune_tree(dt_model_4350, 0.9)"
   ]
  },
  {
   "cell_type": "code",
   "execution_count": null,
   "metadata": {},
   "outputs": [],
   "source": [
    "val_features_4350 = convert(Matrix{Float64}, val_set_4350[:, names_ft]);\n",
    "val_labels_4350 = convert(Array{Int64}, val_set_4350[!,:SURVERSE]);\n",
    "\n",
    "val_pred_dt_4350 = apply_tree(dt_model_4350, val_features_4350);\n",
    "r = roc(val_labels_4350, val_pred_dt_4350);\n",
    "f1score(r)"
   ]
  },
  {
   "cell_type": "markdown",
   "metadata": {},
   "source": [
    "#### Train Random Forest"
   ]
  },
  {
   "cell_type": "code",
   "execution_count": null,
   "metadata": {
    "scrolled": true
   },
   "outputs": [],
   "source": [
    "estimated_params_4350 = [5, 100, 80, 13];\n",
    "get_rf_direct(train_set_4350, val_set_4350, names_ft, estimated_params_4350)"
   ]
  },
  {
   "cell_type": "code",
   "execution_count": null,
   "metadata": {},
   "outputs": [],
   "source": [
    "val_pred_rf_4350 = get_rf_probas(train_set_4350, val_set_4350, names_ft, estimated_params_4350);"
   ]
  },
  {
   "cell_type": "markdown",
   "metadata": {},
   "source": [
    "#### Train ensemble model"
   ]
  },
  {
   "cell_type": "markdown",
   "metadata": {},
   "source": [
    "Combine them"
   ]
  },
  {
   "cell_type": "code",
   "execution_count": null,
   "metadata": {},
   "outputs": [],
   "source": [
    "val_pred_4350 = (val_pred_glm_4350 + val_pred_rf_4350[:, 2]) ./ 2;\n",
    "evaluate_threshold(val_pred_4350, val_labels_4350, 0.5) "
   ]
  },
  {
   "cell_type": "markdown",
   "metadata": {},
   "source": [
    "#### Get full model"
   ]
  },
  {
   "cell_type": "code",
   "execution_count": null,
   "metadata": {},
   "outputs": [],
   "source": [
    "test_set_4350 = CSV.read(\"data/parsed/test_4350.csv\");\n",
    "size(test_set_4350)"
   ]
  },
  {
   "cell_type": "code",
   "execution_count": null,
   "metadata": {},
   "outputs": [],
   "source": [
    "test_model_glm_4350 = glm(val_form, data_set_4350, Bernoulli(), LogitLink());\n",
    "test_pred_glm_4350 = GLM.predict(test_model_glm_4350, test_set_4350);\n",
    "test_pred_rf_4350 = get_rf_probas(data_set_4350, test_set_4350, names_ft, estimated_params_4350);\n",
    "test_pred_4350 = (test_pred_glm_4350 + test_pred_rf_4350[:, 2]) ./ 2;\n",
    "test_pred_4350[test_pred_4350 .>= 0.5] .= 1.0;\n",
    "test_pred_4350[test_pred_4350 .< 0.5] .= 0.0;\n",
    "test_pred_4350 = convert(Array{Int}, trunc.(test_pred_4350));"
   ]
  },
  {
   "cell_type": "markdown",
   "metadata": {},
   "source": [
    "#### Get prediction for ouvrage 4350"
   ]
  },
  {
   "cell_type": "code",
   "execution_count": null,
   "metadata": {},
   "outputs": [],
   "source": [
    "pred_4350 = test_set_4350;\n",
    "pred_4350[!, :SURVERSE] = test_pred_4350;\n",
    "vis_ft = [:DATE, :SURVERSE, :FS_sum, :FS_max3, :SS_sum, :SS_max3];\n",
    "first(pred_4350[!, vis_ft], 10)"
   ]
  },
  {
   "cell_type": "markdown",
   "metadata": {},
   "source": [
    "## Ouvrage 4380"
   ]
  },
  {
   "cell_type": "code",
   "execution_count": null,
   "metadata": {},
   "outputs": [],
   "source": [
    "data_set_4380 = CSV.read(\"data/parsed/oversampled/ouvrage_4380.csv\");\n",
    "train_set_4380, val_set_4380 = partitionTrainTest(data_set_4380);\n",
    "val_labels_4380 = val_set_4380[!, :SURVERSE];\n",
    "size(data_set_4380)"
   ]
  },
  {
   "cell_type": "markdown",
   "metadata": {},
   "source": [
    "#### Train GLM"
   ]
  },
  {
   "cell_type": "code",
   "execution_count": null,
   "metadata": {},
   "outputs": [],
   "source": [
    "val_model_glm_4380 = glm(val_form, train_set_4380, Bernoulli(), LogitLink())\n",
    "val_pred_glm_4380 = GLM.predict(val_model_glm_4380, val_set_4380);\n",
    "\n",
    "evaluate_threshold(val_pred_glm_4380, val_labels_4380, 0.5) "
   ]
  },
  {
   "cell_type": "markdown",
   "metadata": {},
   "source": [
    "#### Train Decision Tree "
   ]
  },
  {
   "cell_type": "code",
   "execution_count": null,
   "metadata": {},
   "outputs": [],
   "source": [
    "train_features_4380 = convert(Matrix{Float64}, train_set_4380[:, names_ft]);\n",
    "train_labels_4380 = convert(Array{Int64}, train_set_4380[!,:SURVERSE]);\n",
    "\n",
    "dt_model_4380 = build_tree(train_labels_4380, train_features_4380);\n",
    "dt_model_4380 = prune_tree(dt_model_4380, 0.9)"
   ]
  },
  {
   "cell_type": "code",
   "execution_count": null,
   "metadata": {},
   "outputs": [],
   "source": [
    "val_features_4380 = convert(Matrix{Float64}, val_set_4380[:, names_ft]);\n",
    "val_labels_4380 = convert(Array{Int64}, val_set_4380[!,:SURVERSE]);\n",
    "\n",
    "val_pred_dt_4380 = apply_tree(dt_model_4380, val_features_4380);\n",
    "r = roc(val_labels_4380, val_pred_dt_4380);\n",
    "f1score(r)"
   ]
  },
  {
   "cell_type": "markdown",
   "metadata": {},
   "source": [
    "#### Train Random Forest"
   ]
  },
  {
   "cell_type": "code",
   "execution_count": null,
   "metadata": {
    "scrolled": true
   },
   "outputs": [],
   "source": [
    "estimated_params_4380 = [5, 100, 80, 18];\n",
    "get_rf_direct(train_set_4380, val_set_4380, names_ft, estimated_params_4380)"
   ]
  },
  {
   "cell_type": "code",
   "execution_count": null,
   "metadata": {},
   "outputs": [],
   "source": [
    "val_pred_rf_4380 = get_rf_probas(train_set_4380, val_set_4380, names_ft, estimated_params_4380);"
   ]
  },
  {
   "cell_type": "markdown",
   "metadata": {},
   "source": [
    "#### Train ensemble model"
   ]
  },
  {
   "cell_type": "markdown",
   "metadata": {},
   "source": [
    "Combine them"
   ]
  },
  {
   "cell_type": "code",
   "execution_count": null,
   "metadata": {},
   "outputs": [],
   "source": [
    "val_pred_4380 = (val_pred_glm_4380 + val_pred_rf_4380[:, 2]) ./ 2;\n",
    "evaluate_threshold(val_pred_4380, val_labels_4380, 0.5) "
   ]
  },
  {
   "cell_type": "markdown",
   "metadata": {},
   "source": [
    "#### Get full model"
   ]
  },
  {
   "cell_type": "code",
   "execution_count": null,
   "metadata": {},
   "outputs": [],
   "source": [
    "test_set_4380 = CSV.read(\"data/parsed/test_4380.csv\");\n",
    "size(test_set_4380)"
   ]
  },
  {
   "cell_type": "code",
   "execution_count": null,
   "metadata": {},
   "outputs": [],
   "source": [
    "test_pred_rf_4380 = get_rf_probas(data_set_4380, test_set_4380, names_ft, estimated_params_4380);\n",
    "test_pred_4380 = (test_pred_glm_4380 + test_pred_rf_4380[:, 2]) ./ 2;\n",
    "test_pred_4380[test_pred_4380 .>= 0.5] .= 1.0;\n",
    "test_pred_4380[test_pred_4380 .< 0.5] .= 0.0;\n",
    "test_pred_4380 = convert(Array{Int}, trunc.(test_pred_4380));"
   ]
  },
  {
   "cell_type": "markdown",
   "metadata": {},
   "source": [
    "#### Get prediction for ouvrage 4380"
   ]
  },
  {
   "cell_type": "code",
   "execution_count": null,
   "metadata": {
    "scrolled": true
   },
   "outputs": [],
   "source": [
    "pred_4380 = test_set_4380;\n",
    "pred_4380[!, :SURVERSE] = test_pred_4380;\n",
    "vis_ft = [:DATE, :SURVERSE, :FS_sum, :FS_max3, :SS_sum, :SS_max3];\n",
    "first(pred_4380[!, vis_ft], 10)"
   ]
  },
  {
   "cell_type": "markdown",
   "metadata": {},
   "source": [
    "# Prédiction"
   ]
  },
  {
   "cell_type": "code",
   "execution_count": null,
   "metadata": {},
   "outputs": [],
   "source": [
    "test_set_final = CSV.read(\"data/test.csv\");\n",
    "test_set_final[!, :SURVERSE] = zeros(size(test_set_final, 1));\n",
    "size(test_set_final)"
   ]
  },
  {
   "cell_type": "markdown",
   "metadata": {},
   "source": [
    "Pour chaque ligne de test_set\n",
    "\n",
    "    - On check l'ID de l'ouvrage pour savoir quel prediction load\n",
    "    - On va chercher la prediction à telle date pour cet ouvrage\n",
    "    - On le met à la ligne courante"
   ]
  },
  {
   "cell_type": "code",
   "execution_count": null,
   "metadata": {},
   "outputs": [],
   "source": [
    "for i=1:size(test_set_final, 1)\n",
    "    curr_ouvrage = test_set_final[i, 1];\n",
    "    pred_to_use = nothing;\n",
    "    if curr_ouvrage == \"3260-01D\"\n",
    "        pred_to_use = pred_3260;\n",
    "    elseif curr_ouvrage == \"3350-07D\"\n",
    "        pred_to_use = pred_3350;\n",
    "    elseif curr_ouvrage == \"4240-01D\"\n",
    "        pred_to_use = pred_4240;\n",
    "    elseif curr_ouvrage == \"4350-01D\"\n",
    "        pred_to_use = pred_4350;\n",
    "    elseif curr_ouvrage == \"4380-01D\"\n",
    "        pred_to_use = pred_4380;\n",
    "    end\n",
    "    \n",
    "    curr_date = test_set_final[i, :DATE];\n",
    "    pred_res = filter(row -> row.DATE == curr_date, pred_to_use);\n",
    "    \n",
    "    test_set_final[i, :SURVERSE] = pred_res[1, :SURVERSE];\n",
    "end"
   ]
  },
  {
   "cell_type": "code",
   "execution_count": null,
   "metadata": {
    "scrolled": true
   },
   "outputs": [],
   "source": [
    "test_set_final[!, :SURVERSE] = convert(Array{Int}, test_set_final[!, :SURVERSE]);\n",
    "first(test_set_final, 10)"
   ]
  },
  {
   "cell_type": "code",
   "execution_count": null,
   "metadata": {},
   "outputs": [],
   "source": [
    "ID = test_set_final[:,:NO_OUVRAGE].*\"_\".*string.(test_set_final[:,:DATE])\n",
    "sampleSubmission = DataFrame(ID = ID, Surverse=test_set_final[:, :SURVERSE])\n",
    "CSV.write(\"submissions/mc-submission-$(no_soumission).csv\",sampleSubmission)"
   ]
  }
 ],
 "metadata": {
  "kernelspec": {
   "display_name": "Julia 1.2.0",
   "language": "julia",
   "name": "julia-1.2"
  },
  "language_info": {
   "file_extension": ".jl",
   "mimetype": "application/julia",
   "name": "julia",
   "version": "1.0.5"
  }
 },
 "nbformat": 4,
 "nbformat_minor": 2
}
