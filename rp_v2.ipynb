{
 "cells": [
  {
   "cell_type": "markdown",
   "metadata": {},
   "source": [
    "# Rapport de projet final: Débordement d'égouts\n",
    "## Équipe 9 - A19\n",
    "#### _Noboru Yoshida - Mehdi Chaid - Mathieu Giroux-Huppé - Maxime Gosselin_\n",
    "<br>\n",
    "20 Décembre 2019"
   ]
  },
  {
   "cell_type": "markdown",
   "metadata": {},
   "source": [
    "## Table des matières\n",
    "\n",
    "+ [1. Introduction](#1.)\n",
    "    + [1.1. Objectifs](#1.1.)  \n",
    "    + [1.2. Méthode de travail](#1.2.)  \n",
    "<br>\n",
    "+ [2. Analyse exploratoire](#2.)\n",
    "    + [2.1. Motivation](#2.1.)  \n",
    "    + [2.2. Importation des données](#2.2.)  \n",
    "    + [2.3. Fonctions utilisées](#2.3.)\n",
    "    + [2.4. Analyse des données d'ouvrages](#2.4.)  \n",
    "        + [2.4.1. Données discrètes](#2.4.1.)\n",
    "        + [2.4.2. Données de Trop-Plein](#2.4.2.)\n",
    "        + [2.4.3. Données d'Emissaire](#2.4.3.)\n",
    "    + [2.5. Analyse des données de précipitations](#2.5.)  \n",
    "    + [2.6. Analyse des données de surverses](#2.6.)  \n",
    "<br>\n",
    "+ [3. Traitement des données](#3.)\n",
    "    + [3.1. Motivation](#3.1.)  \n",
    "    + [3.2. Fonctions utilisées](#2.2.)  \n",
    "    + [3.3. Ajout de variables explicatives](#3.3.)\n",
    "    + [3.4. Standardisation et OneHot](#3.4.)  \n",
    "    + [3.5. Séparation en ensembles de tests et validation](#3.5.)  \n",
    "<br>\n",
    "+ [4. Sélection de modèles](#4.)\n",
    "    + [4.1. Motivation](#4.1)\n",
    "    + [4.2. Choix des modèles](#4.2.)\n",
    "        + [4.2.1. Arbres de décisions](#4.2.1.)\n",
    "        + [4.2.2. Régression logistique](#4.2.2.)\n",
    "        + [4.2.3. Classification bayésienne naive](#4.2.3.)\n",
    "    + [4.3. Arbres de décision et forêt aléatoire](#4.3.)  \n",
    "    + [4.4. Régression logistique](#4.4.)  \n",
    "    + [4.5. Classification bayésienne naive](#4.5.)  \n",
    "    + [4.6. Ensemble de modèles](#4.6.)  \n",
    "<br>\n",
    "+ [5. Retour et conclusion](#5.)\n",
    "    + [5.1. Retour sur les résultats](#5.1.)  \n",
    "    + [5.2. Améliorations possibles](#5.2.)  \n",
    "    + [5.3. Retour sur le travail en équipe](#5.3.)  \n",
    "    + [5.4. Conclusion](#5.4.)  \n",
    "<br>"
   ]
  },
  {
   "cell_type": "markdown",
   "metadata": {},
   "source": [
    "<a id=\"1.\"></a>\n",
    "\n",
    "## 1. Introduction"
   ]
  },
  {
   "cell_type": "markdown",
   "metadata": {},
   "source": [
    "<a id=\"1.1.\"></a>\n",
    "### 1.1. Objectifs\n",
    "\n",
    "Ce rapport vise à fournir une prédiction sur les surverses dans plusieurs ouvrages sur l'île de Montréal. Il en existe 170 répartis sur tout le bord de l'île. Dans ce travail, nous nous attarderons sur la prédiction de seulement 5 d'entre-eux, soit les suivants :\n",
    "- 3260-01D dans Rivière-des-Prairies\n",
    "- 3350-07D dans Ahunstic\n",
    "- 4240-01D dans Pointe-aux-Trembles\n",
    "- 4350-01D dans le Vieux-Montréal\n",
    "- 4380-01D dans Verdun\n",
    "\n",
    "Nous avons à notre disposition 3 jeux de données qui nous aiderons à trouver une relation entre la quantité de pluie tombé et les surverses de certain ouvrages. Nous devrons alors entraîner un modèle sur les données de 2013 à 2018, puis prédire sur certaines dates de 2019. Il n'y pas de restrictions au niveau des techniques à utilisés pour le type de modèle à utiliser. Nous avons exploré quelques techniques différentes que nous allons détaillé plus en détail dans la [section 5](#model-selection)."
   ]
  },
  {
   "cell_type": "markdown",
   "metadata": {},
   "source": [
    "<a id=\"1.2.\"></a>\n",
    "### 1.2. Méthode de travail\n",
    "\n",
    "La méthode de travail employée par notre équipe fut d'abord de mettre tout le monde sur une exploration initiale des données, afin de comprendre en équipe la signification générale de chaque variable explicative fournie, puis d'effectuer une séparation des tâches. L'exploration des données en équipe a aussi été utile pour déterminer les modèles qui nous semblaient les plus intéressants et appropriés selon le contexte.\n",
    "\n",
    "<br>\n",
    "Par la suite, une personne était en charge d'effectuer une exploration plus poussée des données tandis que chaque autre membre de l'équipe travaillait sur l'analyse puis l'application d'un modèle différent. Étant 4 membres dans l'équipe, et ayant repéré 3 modèles intéressants, cette séparation fut facile à faire et nous arrangeait.\n",
    "\n",
    "<br>\n",
    "\n",
    "Enfin, une fois que nous avions obtenu un prototype fonctionnel pour chacun des modèles, nous nous réunissions en équipe afin d'analyser les résultats et d'améliorer les modèles."
   ]
  },
  {
   "cell_type": "markdown",
   "metadata": {},
   "source": [
    "<a id=\"2.\"></a>\n",
    "## 2. Analyse exploratoire"
   ]
  },
  {
   "cell_type": "markdown",
   "metadata": {},
   "source": [
    "<a id=\"2.1.\"></a>\n",
    "### 2.1. Motivation\n",
    "\n",
    "L'analyse exploratoire est une très importante pour tout exercice en sciences de données. Elle permet de déterminer, entres autres:\n",
    "\n",
    "- Quelles variables vont jouer un rôle important pour la prédiction.\n",
    "- À quel point les variables sont corrélées entre elles.\n",
    "- Si une régularisation est nécessaire pour certaines variables.\n",
    "- Comment améliorer le temps d'entrainement et les prédictions.\n",
    "\n",
    "Pour ce faire, nous allons analyser chacune des variables explicatives en utilisant des graphes et des statistiques afin d'appuyer nos résultats et de guider notre prise de décision."
   ]
  },
  {
   "cell_type": "markdown",
   "metadata": {},
   "source": [
    "<a id=\"2.2.\"></a>\n",
    "### 2.2. Importation des données\n",
    "\n",
    "Installons d'abord les libraires utilisées pour l'analyse exploratoire"
   ]
  },
  {
   "cell_type": "code",
   "execution_count": null,
   "metadata": {},
   "outputs": [],
   "source": [
    "using Pkg;\n",
    "Pkg.add(\"CSV\");\n",
    "Pkg.add(\"Random\");\n",
    "Pkg.add(\"DataStructures\");\n",
    "Pkg.add(\"BenchmarkTools\");\n",
    "Pkg.add(\"DataFrames\");\n",
    "Pkg.add(\"Statistics\");\n",
    "Pkg.add(\"Dates\");\n",
    "Pkg.add(\"Gadfly\");\n",
    "Pkg.add(\"IterTools\");"
   ]
  },
  {
   "cell_type": "markdown",
   "metadata": {},
   "source": [
    "Importons maintenant ces données dans le rapport"
   ]
  },
  {
   "cell_type": "code",
   "execution_count": 3,
   "metadata": {},
   "outputs": [],
   "source": [
    "using CSV, DataFrames, DataStructures, BenchmarkTools, Statistics, Dates, Gadfly, Random, IterTools;"
   ]
  },
  {
   "cell_type": "markdown",
   "metadata": {},
   "source": [
    "<a id=\"2.3.\"></a>\n",
    "### 2.3. Fonctions utilisées"
   ]
  },
  {
   "cell_type": "code",
   "execution_count": null,
   "metadata": {},
   "outputs": [],
   "source": []
  }
 ],
 "metadata": {
  "kernelspec": {
   "display_name": "Julia 1.2.0",
   "language": "julia",
   "name": "julia-1.2"
  },
  "language_info": {
   "file_extension": ".jl",
   "mimetype": "application/julia",
   "name": "julia",
   "version": "1.0.5"
  }
 },
 "nbformat": 4,
 "nbformat_minor": 2
}
